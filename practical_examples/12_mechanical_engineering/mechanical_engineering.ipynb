{
 "cells": [
  {
   "cell_type": "markdown",
   "metadata": {},
   "source": [
    "Handige packages voor mechanical engineering toepassingen:\n",
    "- PyAnsys PyMADPL\n",
    "    - documentatie: https://reader.docs.pyansys.com/version/stable/\n",
    "    - github: https://github.com/ansys/pymapdl-reader\n",
    "- PyAnsys pyDPF-core:\n",
    "    - documentatie: https://dpf.docs.pyansys.com/version/stable/\n",
    "    - github: https://github.com/ansys/pydpf-core\n",
    "- PyAnsys pyDPF-post:\n",
    "    - documentatie: https://post.docs.pyansys.com/version/stable/\n",
    "    - github: https://github.com/ansys/pydpf-post\n",
    "- anaStruct\n",
    "    - documentatie: https://anastruct.readthedocs.io/en/latest/index.html\n",
    "    - github: https://github.com/ritchie46/anaStruct\n",
    "- Pynite \n",
    "    - documentatie: https://pynite.readthedocs.io/en/latest/installation.html \n",
    "    - github: https://github.com/JWock82/PyNite\n",
    "- section properties\n",
    "    - documentatie: https://sectionproperties.readthedocs.io/en/stable/index.html\n",
    "    - github: https://github.com/robbievanleeuwen/section-properties"
   ]
  }
 ],
 "metadata": {
  "language_info": {
   "name": "python"
  }
 },
 "nbformat": 4,
 "nbformat_minor": 2
}
