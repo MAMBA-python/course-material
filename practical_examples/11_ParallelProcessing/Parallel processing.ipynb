{
 "cells": [
  {
   "cell_type": "markdown",
   "metadata": {},
   "source": [
    "# Parallel processing\n",
    "Er zijn veel verschillende packages die parallel processing mogelijk maken. In dit voorbeeld maken we gebruik van de package [joblib](https://joblib.readthedocs.io/en/latest/) waarmee vrij gemakkelijk een functie op meer dan een process kan worden berekend.\n",
    "\n",
    "Als `joblib` nog niet is geinstalleerd in jouw environment, ga dan naar de anaconda prompt, en gebruik het volgende installatie commando:\n",
    "\n",
    "`$ conda install -c conda-forge joblib`"
   ]
  },
  {
   "cell_type": "code",
   "execution_count": null,
   "metadata": {},
   "outputs": [],
   "source": [
    "from joblib import Parallel, delayed\n",
    "import time"
   ]
  },
  {
   "cell_type": "markdown",
   "metadata": {},
   "source": [
    "# Opsplitsen in Functies\n",
    "Bedenk welke taak je parallel wil laten uitvoeren om de taak die je wilt doen te versnellen. Een vereiste om verder te kunnen is dat deze taak door een functie kan worden uitgevoerd. Sommige operaties kunnen niet tegelijk, zoals in twee processen hetzelfde bestand overschrijven. Zolang je gescheiden in- en output hebt, kan het parallel draaien.\n",
    "\n",
    "Hieronder definieren we een simpele functie die een getal als input neemt en vermenigvuldigt met twee. de `time.sleep(1)` laat het process een seconde wachten voordat het weer door kan"
   ]
  },
  {
   "cell_type": "code",
   "execution_count": null,
   "metadata": {},
   "outputs": [],
   "source": [
    "def slow_function(val):\n",
    "    time.sleep(1)  # Wacht een seconde\n",
    "    return val * 2"
   ]
  },
  {
   "cell_type": "markdown",
   "metadata": {},
   "source": [
    "Hieronder doen we nog niets parallel, maar roepen we de functie aan in een loop en slaan we de resultaten dynamisch op in een lijst."
   ]
  },
  {
   "cell_type": "code",
   "execution_count": null,
   "metadata": {},
   "outputs": [],
   "source": [
    "start = time.time()\n",
    "\n",
    "# Calculation\n",
    "results = []\n",
    "inputs = range(20)\n",
    "for i in inputs:\n",
    "    results.append(slow_function(i))\n",
    "    \n",
    "stop = time.time()\n",
    "print('Results: {}'.format(results))\n",
    "print('Elapsed time: {} seconds'.format(start - stop))"
   ]
  },
  {
   "cell_type": "markdown",
   "metadata": {},
   "source": [
    "## Duurt lang!\n",
    "Dat duurde lang heh? Dat kan sneller! Probeer de code hieronder maar eens"
   ]
  },
  {
   "cell_type": "code",
   "execution_count": null,
   "metadata": {},
   "outputs": [],
   "source": [
    "start = time.time()\n",
    "\n",
    "# Calculation\n",
    "jobs = (delayed(slow_function)(i) for i in inputs)\n",
    "results = Parallel(n_jobs=5)(jobs)\n",
    "\n",
    "stop = time.time()\n",
    "print('Results: {}'.format(results))\n",
    "print('Elapsed time: {} seconds'.format(start - stop))"
   ]
  },
  {
   "cell_type": "markdown",
   "metadata": {},
   "source": [
    "## Fijn!\n",
    "Zoals te zien gaat dit aanzienlijk sneller. We gebruikten hier `5 processen` die los van elkaar draaien om het rekenwerk sneller uit te kunnen voeren. Helaas duurt het dan niet 5 keer korter om de taak uit te voeren omdat er ook tijd verloren gaat tijdens het parralleliseren.\n",
    "\n",
    "Hieronder nog even stap voor stap hoe deze regels werken:\n",
    "```python\n",
    "jobs = (delayed(slow_function)(i) for i in inputs)\n",
    "results = Parallel(n_jobs=5)(jobs)\n",
    "```"
   ]
  },
  {
   "cell_type": "markdown",
   "metadata": {},
   "source": [
    "### 1. delayed\n",
    "delayed is een [decorator](https://www.datacamp.com/community/tutorials/decorators-python) (waarmee nieuwe functionaliteit aan een object kan worden toegevoegd)\n",
    "\n",
    "In dit geval zorgt de decorator `delayed` ervoor dat de functie niet wordt uitgevoerd bij het invoeren van de argumenten. om dit te illustreren de volgende regels code:"
   ]
  },
  {
   "cell_type": "code",
   "execution_count": null,
   "metadata": {},
   "outputs": [],
   "source": [
    "delayed_slow_function = delayed(slow_function)\n",
    "delayed_slow_function"
   ]
  },
  {
   "cell_type": "markdown",
   "metadata": {},
   "source": [
    "`delayed_slow_function` is nu een nieuwe functie, bijna een kopie van `slow_function` maar met een iets ander gedrag, zo zien we bijvoorbeeld dat de functie niet is uitgevoerd na het invoeren van het argument `2`:"
   ]
  },
  {
   "cell_type": "code",
   "execution_count": null,
   "metadata": {},
   "outputs": [],
   "source": [
    "job = delayed_slow_function(2)\n",
    "job"
   ]
  },
  {
   "cell_type": "markdown",
   "metadata": {},
   "source": [
    "in de variabele `job` staat --als tuple met ingevulde `*args` en `**kwargs`-- nog te wachten tot deze mag worden uitgevoerd. Dat kan dan als volgt:"
   ]
  },
  {
   "cell_type": "code",
   "execution_count": null,
   "metadata": {},
   "outputs": [],
   "source": [
    "job[0](*job[1], **job[2])"
   ]
  },
  {
   "cell_type": "markdown",
   "metadata": {},
   "source": [
    "Dit laatste wordt eigenlijk automatisch gedaan in de `Parallel` functie"
   ]
  },
  {
   "cell_type": "markdown",
   "metadata": {},
   "source": [
    "### 2. Jobs\n",
    "Het aanmaken van meerdere delayed functies zoals hierboven is wat er gebeurd in de gehele regel:"
   ]
  },
  {
   "cell_type": "code",
   "execution_count": null,
   "metadata": {},
   "outputs": [],
   "source": [
    "jobs = (delayed(slow_function)(i) for i in inputs)\n",
    "jobs"
   ]
  },
  {
   "cell_type": "markdown",
   "metadata": {},
   "source": [
    "jobs is nu een [generator](https://realpython.com/introduction-to-python-generators/) object geworden die een delayed functie iteratief aanmaakt. (Generator objecten zijn vriendelijker voor het geheugen als het gaat om heel veel jobs)\n",
    "\n",
    "Als we een element willen opvragen uit een generator, dan kan dat met"
   ]
  },
  {
   "cell_type": "code",
   "execution_count": null,
   "metadata": {},
   "outputs": [],
   "source": [
    "job = next(jobs)\n",
    "job"
   ]
  },
  {
   "cell_type": "markdown",
   "metadata": {},
   "source": [
    "of voor alle elementen:"
   ]
  },
  {
   "cell_type": "code",
   "execution_count": null,
   "metadata": {},
   "outputs": [],
   "source": [
    "list(jobs)"
   ]
  },
  {
   "cell_type": "markdown",
   "metadata": {},
   "source": [
    "merk op dat de eerste mist, omdat we die al met `next(jobs)` hebben opgevraagd. Als we nu weer dezelfde regel uitvoeren krijgen we ook niets meer terug omdat de generator `jobs` al uitgeput is"
   ]
  },
  {
   "cell_type": "code",
   "execution_count": null,
   "metadata": {},
   "outputs": [],
   "source": [
    "list(jobs)"
   ]
  },
  {
   "cell_type": "markdown",
   "metadata": {},
   "source": [
    "### 3. Parallel\n",
    "de `Parallel` class kan gebruikt worden om een object te starten waarmee meerdere gelijktijdig draaiende processen worden opgestart. In principe is het vaak voldoende om alleen het argument `n_jobs` op te geven. \n",
    "\n",
    "In principe geldt, hoe hoger n_jobs hoe sneller de rekentijd, maar er is wel een optimum. Het opstarten van jobs heeft de nodige overhead en er is een limiet aan het rekenwerk wat processoren fysiek kunnen doorvoeren. Voor een functie die 100% rekencapaciteit vereist, heeft het dus weinig zin om meer jobs op te starten dan het aantal logische processoren in jouw computer. Bovendien is er ook een limiet aan het werkgeheugen wat gelijktijdig kan worden gebruikt. Voor functies met veel wachttijd levert het wel een aanzienlijke verbetering op.\n",
    "\n",
    "Tot slot zijn er veel manieren om de Parallelisatie op te starten zoals bijvoorbeeld [multi-threading](https://joblib.readthedocs.io/en/latest/parallel.html#thread-based-parallelism-vs-process-based-parallelism) in plaats van parallel processen. Voor details over deze verschillen en alle verschillende opties is het goed om de [documentatie](https://joblib.readthedocs.io/en/latest/) eens te raadplegen."
   ]
  },
  {
   "cell_type": "code",
   "execution_count": null,
   "metadata": {},
   "outputs": [],
   "source": [
    "client = Parallel(n_jobs=5)\n",
    "client"
   ]
  },
  {
   "cell_type": "markdown",
   "metadata": {},
   "source": [
    "### 4. resultaten\n",
    "Tot slot nog de berekening aanzetten en het verzamelen van resultaten. Dat gaat door het samenvoegen van het voorgaande"
   ]
  },
  {
   "cell_type": "code",
   "execution_count": null,
   "metadata": {},
   "outputs": [],
   "source": [
    "results = client(jobs)"
   ]
  },
  {
   "cell_type": "code",
   "execution_count": null,
   "metadata": {},
   "outputs": [],
   "source": [
    "results"
   ]
  },
  {
   "cell_type": "markdown",
   "metadata": {},
   "source": [
    "de resultaten zijn leeg, omdat de jobs eigenlijk ook nog een lege lijst was, dus die moeten we weer opnieuw aanmaken om het te laten werken."
   ]
  },
  {
   "cell_type": "code",
   "execution_count": null,
   "metadata": {},
   "outputs": [],
   "source": [
    "jobs = (delayed(slow_function)(i) for i in inputs)\n",
    "results = client(jobs)\n",
    "results"
   ]
  },
  {
   "cell_type": "markdown",
   "metadata": {},
   "source": [
    "# Voorbeeld met een ingewikkeldere functie\n",
    "Tot nu toe hadden we maar een argument, maar nu een functie met meer argumenten"
   ]
  },
  {
   "cell_type": "code",
   "execution_count": null,
   "metadata": {},
   "outputs": [],
   "source": [
    "def slow_function2(v1, v2, *args, operation='*'):\n",
    "    time.sleep(1) # wacht 1 seconde\n",
    "    if operation == '*':\n",
    "        result = v1 * v2\n",
    "    elif operation == '-':\n",
    "        result = v1 - v2\n",
    "    else:\n",
    "        raise NotImplementedError()\n",
    "    for arg in args:\n",
    "        result = result + arg\n",
    "    return result"
   ]
  },
  {
   "cell_type": "code",
   "execution_count": null,
   "metadata": {},
   "outputs": [],
   "source": [
    "# input voor de functie\n",
    "v1s = range(20)  # 0 --> 19\n",
    "v2s = range(20, 0, -1)  # 20 --> 1\n",
    "operations = ['*', '-'] * 10  # ['*', '-', '*', ..., '-']\n",
    "additions = [3] * 10 + [5] * 10\n",
    "\n",
    "# jobs aanmaken, deze keer als lijst\n",
    "jobs = []\n",
    "for v1, v2, operation, addition in zip(v1s,\n",
    "                                       v2s,\n",
    "                                       operations,\n",
    "                                       additions):\n",
    "    jobs.append(delayed(slow_function2)(v1, v2, addition, operation=operation))\n",
    "jobs"
   ]
  },
  {
   "cell_type": "code",
   "execution_count": null,
   "metadata": {},
   "outputs": [],
   "source": [
    "results = Parallel(n_jobs=5)(jobs)\n",
    "print(results)"
   ]
  },
  {
   "cell_type": "code",
   "execution_count": null,
   "metadata": {},
   "outputs": [],
   "source": []
  }
 ],
 "metadata": {
  "kernelspec": {
   "display_name": "Python 3",
   "language": "python",
   "name": "python3"
  },
  "language_info": {
   "codemirror_mode": {
    "name": "ipython",
    "version": 3
   },
   "file_extension": ".py",
   "mimetype": "text/x-python",
   "name": "python",
   "nbconvert_exporter": "python",
   "pygments_lexer": "ipython3",
   "version": "3.8.6"
  }
 },
 "nbformat": 4,
 "nbformat_minor": 4
}
