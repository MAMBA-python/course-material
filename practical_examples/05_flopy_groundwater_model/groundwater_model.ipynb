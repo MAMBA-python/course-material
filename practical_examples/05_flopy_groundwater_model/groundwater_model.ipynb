{
 "cells": [
  {
   "cell_type": "markdown",
   "metadata": {},
   "source": [
    "<figure>\n",
    "   <IMG SRC=\"https://mamba-python.nl/images/logo_basis.png\" WIDTH=125 ALIGN=\"right\">\n",
    "</figure>\n",
    "\n",
    "# Groundwater model\n",
    "\n",
    "developed by Onno Ebbens\n",
    "\n",
    "This notebook is created for the Mamba python course to demonstrate how a simple model groundwater model is created by using online metereological data. At the end is shown how to make an animation of the groundwater levels over time. The last part is the most complex and can be hard to execute."
   ]
  },
  {
   "cell_type": "markdown",
   "metadata": {},
   "source": [
    "table of content:<a class=\"anchor\" id=\"0\"></a>\n",
    "1. [import files](#1)\n",
    "2. [create groundwater model](#2)\n",
    "3. [more groundwater models](#3)\n",
    "4. [plot results model 2018](#plot_results)\n",
    "5. [create animation](#create_animation)"
   ]
  },
  {
   "cell_type": "markdown",
   "metadata": {},
   "source": [
    "## 1. import files<a class=\"anchor\" id=\"1\"></a>"
   ]
  },
  {
   "cell_type": "code",
   "execution_count": 1,
   "metadata": {},
   "outputs": [
    {
     "name": "stdout",
     "output_type": "stream",
     "text": [
      "flopy is installed in C:\\Anaconda3\\lib\\site-packages\\flopy\n"
     ]
    }
   ],
   "source": [
    "import matplotlib.pyplot as plt\n",
    "import matplotlib.patches as mpatches\n",
    "import matplotlib.animation as animation\n",
    "import matplotlib\n",
    "import matplotlib.dates as mdates\n",
    "import os\n",
    "import pandas as pd\n",
    "import datetime as dt\n",
    "import numpy as np\n",
    "import groundwater_func as gf\n",
    "#install flopy with pip install flopy\n",
    "import flopy\n",
    "import flopy.utils.binaryfile as bf\n",
    "#install pastas with pip install pastas\n",
    "import pastas as ps"
   ]
  },
  {
   "cell_type": "code",
   "execution_count": 2,
   "metadata": {},
   "outputs": [],
   "source": [
    "#settings\n",
    "%matplotlib inline\n",
    "plt.style.use('seaborn-v0_8')"
   ]
  },
  {
   "cell_type": "markdown",
   "metadata": {},
   "source": [
    "[back to TOC](#0)\n",
    "## 2. create groundwater model <a class=\"anchor\" id=\"2\"></a>"
   ]
  },
  {
   "cell_type": "code",
   "execution_count": 3,
   "metadata": {},
   "outputs": [],
   "source": [
    "script_dir    = os.getcwd()\n",
    "workspace     = script_dir + r'\\model'\n",
    "result_folder = script_dir + r'\\results'"
   ]
  },
  {
   "cell_type": "code",
   "execution_count": 4,
   "metadata": {},
   "outputs": [],
   "source": [
    "modelname     = '2018'\n",
    "\n",
    "# time discretisation\n",
    "start_date = dt.datetime(2018,3,1)\n",
    "end_date   = dt.datetime(2018,12,31)\n",
    "steady_start_period=True\n",
    "\n",
    "# creating model grid\n",
    "nlay = 2\n",
    "nrow = 1\n",
    "ncol = 1000\n",
    "\n",
    "delc = 10\n",
    "delr = 1\n",
    "\n",
    "top = 5\n",
    "botm = [-5, -25]\n",
    "\n",
    "# specify soil characteristics\n",
    "hy = 10\n",
    "tran = [1,250]\n",
    "vcont = [0.0001]\n",
    "laycon = [1,3]\n",
    "sf1=0.15\n",
    "\n",
    "# specify starting conditions\n",
    "strt   = 0 \n",
    "fixed_head_bound_layers = [1]\n",
    "\n",
    "# recharge_stn=344, start_step=1, steady_start_recharge=0.0007, create_daily_average_rch=False,\n",
    "# average_rch_start=None, average_rch_end=None"
   ]
  },
  {
   "cell_type": "code",
   "execution_count": 5,
   "metadata": {},
   "outputs": [],
   "source": [
    "# construct model with flopy\n",
    "ml = flopy.modflow.Modflow(modelname=modelname, model_ws=workspace)\n",
    "\n",
    "# time discretization\n",
    "nper = (end_date - start_date).days\n",
    "steady = [False] * nper\n",
    "\n",
    "if steady_start_period:\n",
    "    nper += 1\n",
    "    steady = [True] + steady\n",
    "\n",
    "# create discretization package\n",
    "dis = flopy.modflow.ModflowDis(ml, nlay=nlay, nrow=nrow, ncol=ncol,\n",
    "                               delr=delr, delc=delc, top=top, botm=botm,\n",
    "                               nper=nper, steady=steady, start_datetime=start_date\n",
    "                               )\n",
    "\n",
    "# create start and boundary conditions package\n",
    "ibound = np.ones_like(dis.botm.array)\n",
    "for lay in fixed_head_bound_layers:\n",
    "    ibound[lay, 0, 0] = -1\n",
    "    ibound[lay, 0, -1] = -1\n",
    "\n",
    "bas = flopy.modflow.ModflowBas(ml, ibound=ibound, strt=strt)\n",
    "\n",
    "# create soil characteristics package\n",
    "bcf = flopy.modflow.ModflowBcf(ml, vcont=vcont, tran=tran, hy=hy, laycon=laycon, sf1=sf1)\n",
    "\n",
    "# create output control package\n",
    "oc = flopy.modflow.ModflowOc(ml, stress_period_data=None)\n",
    "\n",
    "# create solver package\n",
    "pcg = flopy.modflow.ModflowPcg(ml)"
   ]
  },
  {
   "cell_type": "code",
   "execution_count": 6,
   "metadata": {},
   "outputs": [],
   "source": [
    "#add recharge\n",
    "recharge_stn = 260\n",
    "start_step = 1 # steady state start\n",
    "steady_start_recharge=0.0007 # steady state start recharge\n",
    "\n",
    "knmi_meteo = ps.read.KnmiStation.download(start=start_date - dt.timedelta(1), end=end_date, stns=recharge_stn)\n",
    "recharge = knmi_meteo.data.RH - knmi_meteo.data.EV24\n",
    "recharge.index = range(start_step, len(recharge) + start_step)\n",
    "rch_spd = recharge.to_dict()\n",
    "\n",
    "rch_spd[0] = steady_start_recharge\n",
    "\n",
    "rch = flopy.modflow.ModflowRch(ml, rech=rch_spd)"
   ]
  },
  {
   "cell_type": "code",
   "execution_count": 7,
   "metadata": {},
   "outputs": [],
   "source": [
    "#add river\n",
    "riv = flopy.modflow.ModflowRiv(ml, \n",
    "                               stress_period_data={0: [[0, 0, 0, 3, 100, 2], [0, 0, ncol-1, 3, 100, 2]]})"
   ]
  },
  {
   "cell_type": "code",
   "execution_count": 8,
   "metadata": {},
   "outputs": [
    {
     "ename": "Exception",
     "evalue": "The program mf2005.exe does not exist or is not executable.",
     "output_type": "error",
     "traceback": [
      "\u001b[1;31m---------------------------------------------------------------------------\u001b[0m",
      "\u001b[1;31mException\u001b[0m                                 Traceback (most recent call last)",
      "\u001b[1;32m<ipython-input-8-58d5cf15cc97>\u001b[0m in \u001b[0;36m<module>\u001b[1;34m\u001b[0m\n\u001b[0;32m      1\u001b[0m \u001b[0mml\u001b[0m\u001b[1;33m.\u001b[0m\u001b[0mwrite_input\u001b[0m\u001b[1;33m(\u001b[0m\u001b[1;33m)\u001b[0m\u001b[1;33m\u001b[0m\u001b[1;33m\u001b[0m\u001b[0m\n\u001b[1;32m----> 2\u001b[1;33m \u001b[0mml\u001b[0m\u001b[1;33m.\u001b[0m\u001b[0mrun_model\u001b[0m\u001b[1;33m(\u001b[0m\u001b[1;33m)\u001b[0m\u001b[1;33m\u001b[0m\u001b[1;33m\u001b[0m\u001b[0m\n\u001b[0m",
      "\u001b[1;32mC:\\Anaconda3\\lib\\site-packages\\flopy\\mbase.py\u001b[0m in \u001b[0;36mrun_model\u001b[1;34m(self, silent, pause, report, normal_msg)\u001b[0m\n\u001b[0;32m   1222\u001b[0m         return run_model(self.exe_name, self.namefile, model_ws=self.model_ws,\n\u001b[0;32m   1223\u001b[0m                          \u001b[0msilent\u001b[0m\u001b[1;33m=\u001b[0m\u001b[0msilent\u001b[0m\u001b[1;33m,\u001b[0m \u001b[0mpause\u001b[0m\u001b[1;33m=\u001b[0m\u001b[0mpause\u001b[0m\u001b[1;33m,\u001b[0m \u001b[0mreport\u001b[0m\u001b[1;33m=\u001b[0m\u001b[0mreport\u001b[0m\u001b[1;33m,\u001b[0m\u001b[1;33m\u001b[0m\u001b[1;33m\u001b[0m\u001b[0m\n\u001b[1;32m-> 1224\u001b[1;33m                          normal_msg=normal_msg)\n\u001b[0m\u001b[0;32m   1225\u001b[0m \u001b[1;33m\u001b[0m\u001b[0m\n\u001b[0;32m   1226\u001b[0m     \u001b[1;32mdef\u001b[0m \u001b[0mload_results\u001b[0m\u001b[1;33m(\u001b[0m\u001b[0mself\u001b[0m\u001b[1;33m)\u001b[0m\u001b[1;33m:\u001b[0m\u001b[1;33m\u001b[0m\u001b[1;33m\u001b[0m\u001b[0m\n",
      "\u001b[1;32mC:\\Anaconda3\\lib\\site-packages\\flopy\\mbase.py\u001b[0m in \u001b[0;36mrun_model\u001b[1;34m(exe_name, namefile, model_ws, silent, pause, report, normal_msg, use_async, cargs)\u001b[0m\n\u001b[0;32m   1566\u001b[0m         s = 'The program {} does not exist or is not executable.'.format(\n\u001b[0;32m   1567\u001b[0m             exe_name)\n\u001b[1;32m-> 1568\u001b[1;33m         \u001b[1;32mraise\u001b[0m \u001b[0mException\u001b[0m\u001b[1;33m(\u001b[0m\u001b[0ms\u001b[0m\u001b[1;33m)\u001b[0m\u001b[1;33m\u001b[0m\u001b[1;33m\u001b[0m\u001b[0m\n\u001b[0m\u001b[0;32m   1569\u001b[0m     \u001b[1;32melse\u001b[0m\u001b[1;33m:\u001b[0m\u001b[1;33m\u001b[0m\u001b[1;33m\u001b[0m\u001b[0m\n\u001b[0;32m   1570\u001b[0m         \u001b[1;32mif\u001b[0m \u001b[1;32mnot\u001b[0m \u001b[0msilent\u001b[0m\u001b[1;33m:\u001b[0m\u001b[1;33m\u001b[0m\u001b[1;33m\u001b[0m\u001b[0m\n",
      "\u001b[1;31mException\u001b[0m: The program mf2005.exe does not exist or is not executable."
     ]
    }
   ],
   "source": [
    "ml.write_input()\n",
    "ml.run_model()"
   ]
  },
  {
   "cell_type": "markdown",
   "metadata": {},
   "source": [
    "[back to TOC](#0)\n",
    "## 3. More groundwater models <a class=\"anchor\" id=\"3\"></a>\n",
    "\n",
    "Above is shown how you to create a single groundwater model. Most of the code that is used is the same for 2d groundwater models. Therefore we made a function to run all this code with a single function call. We've put this function in a module named `groundwater func`. We imported these functions at the beginning of this script `import groundwater_func as gf`. Now we can use this function to create 2 other groundwater models. One w 2017 and one with the average recharge between 1960 and 2018."
   ]
  },
  {
   "cell_type": "code",
   "execution_count": null,
   "metadata": {
    "scrolled": true
   },
   "outputs": [],
   "source": [
    "modelname2     = '2017'\n",
    "\n",
    "start_date2 = start_date.replace(year=2017)\n",
    "end_date2   = end_date.replace(year=2017)\n",
    "\n",
    "ml2 = gf.create_mf_model(workspace, modelname2,\n",
    "                         nlay, nrow, ncol, delc, delr,\n",
    "                         top, botm,\n",
    "                         start_date2, end_date2, steady_start_period=steady_start_period,\n",
    "                         strt=strt, fixed_head_bound_layers=fixed_head_bound_layers,\n",
    "                         tran=tran, vcont=vcont,\n",
    "                         hy=hy, laycon=laycon, sf1=sf1,\n",
    "                         )\n",
    "\n",
    "#add recharge\n",
    "ml2 = gf.add_recharge_knmi(ml2, start_date2, end_date2, recharge_stn=260, start_step=1)\n",
    "\n",
    "#add river\n",
    "riv = flopy.modflow.ModflowRiv(ml2, \n",
    "                               stress_period_data={0: [[0, 0, 0, 3, 100, 2], [0, 0, ncol-1, 3, 100, 2]]})\n",
    "\n",
    "ml2.write_input()\n",
    "ml2.run_model()"
   ]
  },
  {
   "cell_type": "code",
   "execution_count": null,
   "metadata": {},
   "outputs": [],
   "source": [
    "modelname3     = 'average_1960-2018'\n",
    "\n",
    "start_date3 = dt.datetime(1960,1,1)\n",
    "end_date3   = dt.datetime(2018,1,1)\n",
    "\n",
    "ml3 = gf.create_mf_model(workspace, modelname3,\n",
    "                         nlay, nrow, ncol, delc, delr,\n",
    "                         top, botm,\n",
    "                         start_date, end_date, steady_start_period=steady_start_period,\n",
    "                         strt=strt, fixed_head_bound_layers=fixed_head_bound_layers,\n",
    "                         tran=tran, vcont=vcont,\n",
    "                         hy=hy, laycon=laycon, sf1=sf1,\n",
    "                         )\n",
    "\n",
    "#add recharge\n",
    "ml3 = gf.add_recharge_knmi(ml3, recharge_stn=260, start_step=1,\n",
    "                           create_daily_average_rch=True, average_rch_start=start_date3, \n",
    "                           average_rch_end=end_date3)\n",
    "\n",
    "#add river\n",
    "riv = flopy.modflow.ModflowRiv(ml3, \n",
    "                               stress_period_data={0: [[0, 0, 0, 3, 100, 2], [0, 0, ncol-1, 3, 100, 2]]})\n",
    "\n",
    "ml3.write_input()\n",
    "ml3.run_model()"
   ]
  },
  {
   "cell_type": "markdown",
   "metadata": {},
   "source": [
    "[back to TOC](#0)\n",
    "## 4. Plot results model 2018<a class=\"anchor\" id=\"plot_results\"></a>"
   ]
  },
  {
   "cell_type": "code",
   "execution_count": null,
   "metadata": {},
   "outputs": [],
   "source": [
    "headobj = bf.HeadFile(os.path.join(workspace, modelname+'.hds'))\n",
    "times = headobj.get_times()\n",
    "\n",
    "dis = ml.get_package('DIS')"
   ]
  },
  {
   "cell_type": "code",
   "execution_count": null,
   "metadata": {},
   "outputs": [],
   "source": [
    "lay_count = 1\n",
    "fig = plt.figure(figsize=(16, 8))\n",
    "ax = fig.add_subplot(111)\n",
    "\n",
    "\n",
    "ax.set_xlabel('')\n",
    "ax.set_ylabel('groundwater head (m+ref)')\n",
    "for head_at_layer in headobj.get_data(totim=times[5]):\n",
    "    ax.plot(dis.sr.xcenter, head_at_layer[0], label = 'model layer %i'%lay_count)\n",
    "    lay_count+=1\n",
    "ax.legend()"
   ]
  },
  {
   "cell_type": "code",
   "execution_count": null,
   "metadata": {
    "scrolled": true
   },
   "outputs": [],
   "source": [
    "lay_count = 0\n",
    "fig = plt.figure(figsize=(16, 6))\n",
    "ax = fig.add_subplot(111)\n",
    "\n",
    "for time in times:\n",
    "    ax.plot(dis.sr.xcenter, headobj.get_data(totim=time)[lay_count][0], label = 'timestep %i'%time)\n",
    "    \n",
    "ax.legend()\n",
    "ax.set_xlabel('column')\n",
    "ax.set_ylabel('groundwater head (m+ref)');"
   ]
  },
  {
   "cell_type": "code",
   "execution_count": null,
   "metadata": {
    "scrolled": true
   },
   "outputs": [],
   "source": [
    "lay_count = 1\n",
    "fig = plt.figure(figsize=(16, 6))\n",
    "ax = fig.add_subplot(111)\n",
    "\n",
    "for time in times:\n",
    "    ax.plot(dis.sr.xcenter, headobj.get_data(totim=time)[lay_count][0], label = 'timestep %i'%time)\n",
    "    \n",
    "ax.legend()\n",
    "ax.set_xlabel('column')\n",
    "ax.set_ylabel('groundwater head (m+ref)');"
   ]
  },
  {
   "cell_type": "markdown",
   "metadata": {},
   "source": [
    "[back to TOC](#0)\n",
    "## 5. Create animation<a class=\"anchor\" id=\"create_animation\"></a>\n",
    "\n",
    "the code below is to create an animation of the groundwater levels over time for different groundwater models. This is a time consuming calculation which requires some installations."
   ]
  },
  {
   "cell_type": "code",
   "execution_count": null,
   "metadata": {},
   "outputs": [],
   "source": [
    "ml_list = [ml3,ml2, ml]             # define models to animate\n",
    "output_loc = (0,0,400)              # locatie in het model waar je output wil \n",
    "animation_frequency='D'             # frequentie van de animatie 'D' voor 1 frame per dag.\n",
    "animation_name = 'plot_gws_rch.mp4' # naam + extentie van je animatie"
   ]
  },
  {
   "cell_type": "markdown",
   "metadata": {},
   "source": [
    "These functions are used to create the animation"
   ]
  },
  {
   "cell_type": "code",
   "execution_count": null,
   "metadata": {},
   "outputs": [],
   "source": [
    "def create_plot_series(ml, output_loc=(0, 0, 0), animation_frequency='H', yearless=False):\n",
    "    \"\"\"\n",
    "    create timeseries with groundwater heads from model results that can be used to plot\n",
    "\n",
    "    Parameters\n",
    "    ----------\n",
    "    ml: floyp.modflow.mf.Modflow\n",
    "        handle for the modflow model\n",
    "\n",
    "    output_loc: tuple of ints\n",
    "        location of the (layer, row, column) of which output is desired\n",
    "\n",
    "    animation_frequency: str\n",
    "        frequency of the animated video\n",
    "\n",
    "    yearless: bool\n",
    "        if True series are returned with a date range in the year 1900\n",
    "\n",
    "    Returns\n",
    "    -------\n",
    "    plot_ts: pandas.Series\n",
    "        timeseries with groundwater heads with the frequency defined by animation frequency\n",
    "\n",
    "    recharge_sr: pandas.Series\n",
    "        timeseries with recharge\n",
    "\n",
    "    \"\"\"\n",
    "    # create series\n",
    "    rch = ml.get_package('RCH')\n",
    "    dis = ml.get_package('DIS')\n",
    "\n",
    "    start_date = dis.start_datetime\n",
    "    end_date = dis.start_datetime + dt.timedelta(int((~dis.steady.array).sum()))\n",
    "\n",
    "    if yearless:\n",
    "        start_date = start_date.replace(year=1900)\n",
    "        end_date = end_date.replace(year=1900)\n",
    "\n",
    "    headobj = bf.HeadFile(os.path.join(ml.model_ws, ml.name + '.hds'))\n",
    "\n",
    "    ts = headobj.get_ts(output_loc)\n",
    "    dates_ts = pd.date_range(start_date, end_date)\n",
    "    ts_sr = pd.Series(data=ts[:, 1], index=dates_ts, name=ml.name)\n",
    "\n",
    "    recharge_sr = pd.Series(data=rch.rech.array[:, 0, 0, 0], index=dates_ts)\n",
    "    plot_range = pd.date_range(start=start_date, end=dates_ts[-1], freq=animation_frequency)\n",
    "    plot_ts = ts_sr.reindex(plot_range).interpolate(method=\"time\")\n",
    "\n",
    "    return plot_ts, recharge_sr\n",
    "\n",
    "def init():\n",
    "    del xdata[:]\n",
    "    del ydata[:]\n",
    "\n",
    "    for line_gw in line_gw_list:\n",
    "        line_gw.set_data(xdata, ydata)\n",
    "\n",
    "    counter = 0\n",
    "    for line_rch in line_rch_list:\n",
    "        line_rch.set_data([plot_ts.index[0], plot_ts.index[0]],\n",
    "                          [recharge_max, recharge_min])\n",
    "        counter += 1\n",
    "\n",
    "    line_list = [line_gw_list] + [line_rch_list]\n",
    "    \n",
    "def run(i, plot_ts_list, len_plot_ts_list):\n",
    "\n",
    "    no_subplot = np.argmax(np.array(len_plot_ts_list) > i)\n",
    "\n",
    "    for len_plot_ts in len_plot_ts_list:\n",
    "        if i == len_plot_ts:\n",
    "            del xdata[:]\n",
    "            del ydata[:]\n",
    "\n",
    "    if no_subplot > 0:\n",
    "        i = i - len_plot_ts_list[no_subplot - 1]\n",
    "\n",
    "    # update the data\n",
    "    t = plot_ts_list[no_subplot].index[i]\n",
    "    y = plot_ts_list[no_subplot].values[i]\n",
    "    xdata.append(t)\n",
    "    ydata.append(y)\n",
    "    line_gw_list[no_subplot].set_data(xdata, ydata)\n",
    "\n",
    "    line_rch_list[no_subplot].set_data([t, t],\n",
    "                                       [recharge_max, recharge_min])\n",
    "    line_list = [line_gw_list] + [line_rch_list]\n",
    "\n",
    "    return line_list"
   ]
  },
  {
   "cell_type": "markdown",
   "metadata": {},
   "source": [
    "create animation"
   ]
  },
  {
   "cell_type": "code",
   "execution_count": null,
   "metadata": {},
   "outputs": [],
   "source": [
    "plot_ts_list, recharge_sr_list = [], []\n",
    "for ml in ml_list:\n",
    "    plot_ts, recharge_sr = create_plot_series(ml, output_loc=output_loc, yearless=True,\n",
    "                                              animation_frequency=animation_frequency)\n",
    "    plot_ts_list.append(plot_ts)\n",
    "    recharge_sr_list.append(recharge_sr)\n",
    "\n",
    "# this could be easier, I just don't know how\n",
    "len_plot_ts_list = []\n",
    "len_plot_ts_cum = 0\n",
    "for plot_ts in plot_ts_list:\n",
    "    len_plot_ts_cum += len(plot_ts)\n",
    "    len_plot_ts_list.append(len_plot_ts_cum)\n",
    "\n",
    "# create basic figure for animation\n",
    "recharge_min = np.floor(np.min(recharge_sr_list) * 900)\n",
    "recharge_max = np.ceil(np.max(recharge_sr_list) * 1100)\n",
    "recharge_bounds = (recharge_min, recharge_max)\n",
    "\n",
    "no_subplots = len(plot_ts_list) + 1\n",
    "\n",
    "# create figure\n",
    "fig = plt.figure(figsize=(16, 8))\n",
    "\n",
    "# groundwater head plot\n",
    "ax1 = fig.add_subplot(no_subplots, 1, 1)\n",
    "ax1.set_ylim(np.floor(np.min(plot_ts_list)), np.ceil(np.max(plot_ts_list)))\n",
    "\n",
    "line_gw_list = []\n",
    "for plot_ts in plot_ts_list:\n",
    "    line_gw, = ax1.plot([], [], lw=2, label=plot_ts.name)\n",
    "    line_gw_list.append(line_gw)\n",
    "    # line_gw.xaxis.set_major_formatter(mdates.DateFormatter('%m'))\n",
    "\n",
    "ax1.legend(loc=3)\n",
    "ax1.grid(True)\n",
    "ax1.set_ylabel('groundwater (m+ref)')\n",
    "ax1.xaxis.set_major_formatter(mdates.DateFormatter('%b'))\n",
    "\n",
    "# recharge plot\n",
    "recharge_min = recharge_bounds[0]\n",
    "recharge_max = recharge_bounds[1]\n",
    "\n",
    "ax_rch_list = []\n",
    "line_rch_list = []\n",
    "counter = 0\n",
    "for recharge_sr in recharge_sr_list:\n",
    "    ax_rch_list.append(fig.add_subplot(no_subplots, 1, counter + 2, sharex=ax1))\n",
    "    ax_rch_list[counter].set_ylim(recharge_min, recharge_max)\n",
    "\n",
    "    ax_rch_list[counter].bar(recharge_sr.index - dt.timedelta(0.5), recharge_sr.values * 1000,\n",
    "                             color=plt.rcParams['axes.prop_cycle'].by_key()['color'][counter])\n",
    "\n",
    "    line_rch, = ax_rch_list[counter].plot([plot_ts_list[0].index[0], plot_ts_list[0].index[0]],\n",
    "                                          [recharge_max, recharge_min], color='black')\n",
    "    line_rch_list.append(line_rch)\n",
    "\n",
    "    ax_rch_list[counter].xaxis.set_major_formatter(mdates.DateFormatter('%b'))\n",
    "    ax_rch_list[counter].set_ylabel('recharge (mm/day)')\n",
    "    counter += 1\n",
    "        \n",
    "# create initial state of the animation\n",
    "xdata, ydata = [], []\n",
    "\n",
    "# create animation\n",
    "ani = animation.FuncAnimation(fig, run, len_plot_ts_cum, blit=False, interval=100,\n",
    "                              repeat=False, fargs=(plot_ts_list, len_plot_ts_list), init_func=init)\n",
    "\n",
    "# save animation\n",
    "if os.path.splitext(animation_name)[-1] == '.mp4':\n",
    "    mywriter = animation.FFMpegWriter(fps=15, metadata=dict(artist='Me'), bitrate=1800)\n",
    "    ani.save(animation_name, writer=mywriter)\n",
    "\n",
    "elif os.path.splitext(animation_name)[-1] == '.html':\n",
    "    ani.save(animation_name, writer=matplotlib.animation.HTMLWriter())\n",
    "\n",
    "elif os.path.splitext(animation_name)[-1] == '.gif':\n",
    "    ani.save(animation_name, writer='imagemagick', fps=15)"
   ]
  },
  {
   "cell_type": "markdown",
   "metadata": {},
   "source": [
    "The animation function is also in the groundwater_func module. So the script above can be reduced to the following code."
   ]
  },
  {
   "cell_type": "code",
   "execution_count": null,
   "metadata": {},
   "outputs": [],
   "source": [
    "os.chdir(result_folder) #necesary because ani.save cannot handle full paths\n",
    "gf.animate_multiple_gw_rch([ml3,ml2, ml], 'plot_gws_rch.mp4', output_loc=(0,0,400), animation_frequency='D')"
   ]
  },
  {
   "cell_type": "code",
   "execution_count": null,
   "metadata": {},
   "outputs": [],
   "source": []
  },
  {
   "cell_type": "code",
   "execution_count": null,
   "metadata": {},
   "outputs": [],
   "source": []
  }
 ],
 "metadata": {
  "kernelspec": {
   "display_name": "Python 3",
   "language": "python",
   "name": "python3"
  }
 },
 "nbformat": 4,
 "nbformat_minor": 2
}
