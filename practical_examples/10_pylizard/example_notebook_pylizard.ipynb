{
 "cells": [
  {
   "cell_type": "markdown",
   "metadata": {},
   "source": [
    "<figure>\n",
    "   <IMG SRC=\"https://mamba-python.nl/images/logo_basis.png\" WIDTH=125 ALIGN=\"right\">\n",
    "</figure>\n",
    "\n",
    "# PyLizard<a id=\"top\"></a>\n",
    "_developed by Davíd Brakenhoff & Onno Ebbens_\n",
    "<hr>\n",
    "\n",
    "This notebook shows some of the basic functionality of the PyLizard module (developed by Sjoerd Rijpkema from Vitens). PyLizard provides access to data stored within a Lizard database, which can be accessed as a webservice through an API.\n",
    "    \n",
    "### Contents\n",
    "1. [Installing pylizard](#1)\n",
    "3. [Overview of available functionality](#2)\n",
    "4. [The Peilbuis object](#3)\n",
    "5. [Getting multiple piezometers](#4)"
   ]
  },
  {
   "cell_type": "markdown",
   "metadata": {},
   "source": [
    "### 1. [Installing PyLizard](#top)<a id=\"1\"></a>\n",
    "\n",
    "PyLizard is not available as a Python package from the most common sources (PyPi, conda) so unfortunately installing the package is a little bit more complicated. The following steps describe the process:\n",
    "1. Download the [PyLizard GitHub repository](https://github.com/Vitens/pylizard/archive/master.zip). Save an extract the zipfile in a convenient location for you.\n",
    "2. Open the Anaconda Prompt (typing \"Anaconda\" after opening the Start Menu should help you find it).\n",
    "3. Navigate to the location you extracted the downloaded zipfile: ` cd <your path here>\\pylizard-master`. The directory you're in should contain a file called `setup.py`.\n",
    "4. In Anaconda Prompt type `pip install -e .`  Wait for the command to complete, some packages will be downloaded and installed. When finished, congrats, you've installed PyLizard in your current Python environment.\n",
    "\n",
    "_Note: Installing a package with the method described above creates a link in the Anaconda directory to this package. Moving the extracted directory will cause the installation to break. Any changes to the files within the extracted directory are essentially changes to the package itself._\n",
    "\n",
    "Now try to import the package:"
   ]
  },
  {
   "cell_type": "code",
   "execution_count": null,
   "metadata": {},
   "outputs": [],
   "source": [
    "import matplotlib.pyplot as plt\n",
    "import pylizard"
   ]
  },
  {
   "cell_type": "markdown",
   "metadata": {},
   "source": [
    "### 2. [Overview of available functionality](#top)<a id=\"2\"></a>\n",
    "\n",
    "PyLizard is quite a simple module containing a Peilbuis object that can be used to download data for one piezometer through the Lizard webservice. There are also two helper functions.\n",
    "- `pylizard.Peilbuis()`: class that makes it easy to get the data for a specific piezometer and filter.\n",
    "- `pylizard.pnt2buis()`: this function returns a pandas DataFrame (a table) of piezometers within a certain distance of a point (X, Y).\n",
    "- `pylizard.get_timeseries()`: this function returns the measurements (both for measurements done by hand and obtained with a logger) as a pandas DataFrame (a table).\n",
    "\n",
    "_Note: Unfortunately the documentation of these functions and objects is lacking. The [examples](https://github.com/Vitens/pylizard/tree/master/example) however, are helpful in explaining how these functions and objects work._"
   ]
  },
  {
   "cell_type": "markdown",
   "metadata": {},
   "source": [
    "### 3. [The Peilbuis object](#top)<a id=\"3\"></a>\n",
    "\n",
    "Let's define a piezometer location and filter number:"
   ]
  },
  {
   "cell_type": "code",
   "execution_count": null,
   "metadata": {},
   "outputs": [],
   "source": [
    "peilbuiscode, filternummer = '16FL0041', 1"
   ]
  },
  {
   "cell_type": "markdown",
   "metadata": {},
   "source": [
    "Create a Peilbuis object by passing the location ID and filter number to the Peilbuis object:"
   ]
  },
  {
   "cell_type": "code",
   "execution_count": null,
   "metadata": {},
   "outputs": [],
   "source": [
    "p = pylizard.Peilbuis(peilbuiscode, filternummer)"
   ]
  },
  {
   "cell_type": "markdown",
   "metadata": {},
   "source": [
    "The Peilbuis object contains information about the piezometer and the data. Metadata can be viewed as follows:"
   ]
  },
  {
   "cell_type": "code",
   "execution_count": null,
   "metadata": {},
   "outputs": [],
   "source": [
    "\"Piezometer {0}-{1} is located at (x={2:.0f}, y={3:.0f}), with a filter elevation between NAP {4:+.2f} m and NAP {5:+.2f} m.\".format(p.code, p.filt, p.x, p.y, p.bkf, p.okf)"
   ]
  },
  {
   "cell_type": "markdown",
   "metadata": {},
   "source": [
    "The Peilbuis object also has two methods:\n",
    "- `p.head_total()`: this method retrieves the data and performs some filling and resampling logic depending on the method that is selected. The default is to combine hand and diver measurements and resample to daily data.\n",
    "- `p.plot()`: this plots the data, has option to plot statistics (quantiles 6%, 50% and 94%) when `stats=True` is passed to the method.\n",
    "\n",
    "Let's try to plot the data:"
   ]
  },
  {
   "cell_type": "code",
   "execution_count": null,
   "metadata": {},
   "outputs": [],
   "source": [
    "ax, = p.plot(figsize=(16, 6), stats=False)\n",
    "ax.grid(b=True, axis=\"x\")"
   ]
  },
  {
   "cell_type": "markdown",
   "metadata": {},
   "source": [
    "The data used in the plot can be accessed through the following attributes: \n",
    "- `p.head_diver`: diver measurements\n",
    "- `p.head_hand`: measurements performed by hand"
   ]
  },
  {
   "cell_type": "code",
   "execution_count": null,
   "metadata": {},
   "outputs": [],
   "source": [
    "p.head_diver.head()"
   ]
  },
  {
   "cell_type": "code",
   "execution_count": null,
   "metadata": {},
   "outputs": [],
   "source": [
    "p.head_hand.head()"
   ]
  },
  {
   "cell_type": "markdown",
   "metadata": {},
   "source": [
    "### 3. [Getting multiple piezometers](#top)<a id=\"4\"></a>\n",
    "\n",
    "The function `pylizard.pnt2buis()` allows you to get all measurements within a certain distance of a point you provide. Let's get the X, Y coordinates from the previous piezometer and set a radius of 2000 meters.\n"
   ]
  },
  {
   "cell_type": "code",
   "execution_count": null,
   "metadata": {},
   "outputs": [],
   "source": [
    "distance = 2000.  # m\n",
    "x, y = p.x, p.y\n",
    "pbs = pylizard.pnt2buis(x, y, distance)"
   ]
  },
  {
   "cell_type": "code",
   "execution_count": null,
   "metadata": {},
   "outputs": [],
   "source": [
    "pbs"
   ]
  },
  {
   "cell_type": "markdown",
   "metadata": {},
   "source": [
    "_Note: Only points with a value in the uuid_hand or uuid_diver columns have data._\n",
    "\n",
    "Plot the locations of the piezometers on a not very interesting map:"
   ]
  },
  {
   "cell_type": "code",
   "execution_count": null,
   "metadata": {},
   "outputs": [],
   "source": [
    "plt.plot(pbs.x, pbs.y, \"bo\")"
   ]
  },
  {
   "cell_type": "markdown",
   "metadata": {},
   "source": [
    "Let's get the data from each of these piezometers using the `pylizard.get_timeseries()` function and plot the data on a new figure for each piezometer. The `pylizard.get_timeseries()` uses the uuid string to get the data. Add some logic to avoid errors when a uuid string is not available for a certain piezometer."
   ]
  },
  {
   "cell_type": "code",
   "execution_count": null,
   "metadata": {},
   "outputs": [],
   "source": [
    "for name, irow in pbs.iterrows():\n",
    "    \n",
    "    # get timeseries if uuid is defined, else None\n",
    "    if irow.uuid_diver != \"\":\n",
    "        tsd = pylizard.get_timeseries(irow.uuid_diver)\n",
    "    else:\n",
    "        tsd = None\n",
    "    if irow.uuid_hand != \"\":\n",
    "        tsh = pylizard.get_timeseries(irow.uuid_hand)\n",
    "    else:\n",
    "        tsh = None\n",
    "    \n",
    "    # create a plot\n",
    "    fig, ax = plt.subplots(1, 1, figsize=(16, 5))\n",
    "    \n",
    "\n",
    "    if tsd is not None:\n",
    "        ax.plot(tsd.index, tsd, marker=\"\", color=\"C0\", label=\"Diver measurements\")\n",
    "    if tsh is not None:\n",
    "        ax.plot(tsh.index, tsh, marker=\".\", color=\"r\", label=\"Hand measurements\", ls=\"\")\n",
    "        \n",
    "    ax.grid(b=True)\n",
    "    ax.legend(loc=\"best\")\n",
    "    ax.set_ylabel(\"Stijghoogte (m NAP)\")\n",
    "    ax.set_xlabel(\"Datum\")\n",
    "    ax.set_title(\"Peilbuis: {0}, filterstelling: NAP {1:+.2f}m - NAP{2:+.2f}m\".format(name, irow.bkf, irow.okf))"
   ]
  },
  {
   "cell_type": "code",
   "execution_count": null,
   "metadata": {},
   "outputs": [],
   "source": []
  }
 ],
 "metadata": {
  "kernelspec": {
   "display_name": "Python 3",
   "language": "python",
   "name": "python3"
  },
  "language_info": {
   "codemirror_mode": {
    "name": "ipython",
    "version": 3
   },
   "file_extension": ".py",
   "mimetype": "text/x-python",
   "name": "python",
   "nbconvert_exporter": "python",
   "pygments_lexer": "ipython3",
   "version": "3.7.6"
  }
 },
 "nbformat": 4,
 "nbformat_minor": 2
}
