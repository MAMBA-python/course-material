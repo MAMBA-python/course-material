{
 "cells": [
  {
   "cell_type": "markdown",
   "metadata": {},
   "source": [
    "<figure>\n",
    "   <IMG SRC=\"https://mamba-python.nl/images/logo_basis.png\" WIDTH=125 ALIGN=\"right\">\n",
    "</figure>\n",
    "    \n",
    "# GIS visualisation\n",
    "\n",
    "In this notebook we will work together to make an application that combines the data from an xml, a csv and a shapfile into one graphical map.\n",
    "\n",
    "<br>\n",
    "<br>\n",
    "<div style=\"text-align: right\"> developed by MAMBA </div>"
   ]
  },
  {
   "cell_type": "code",
   "execution_count": null,
   "metadata": {},
   "outputs": [],
   "source": [
    "import numpy as np\n",
    "import matplotlib.pyplot as plt\n",
    "import matplotlib.dates as mdates\n",
    "from datetime import datetime\n",
    "import pandas as pd\n",
    "import seaborn as sns\n",
    "import xml.etree.ElementTree as ET\n",
    "import geopandas as gpd\n",
    "import contextily as ctx"
   ]
  },
  {
   "cell_type": "markdown",
   "metadata": {},
   "source": [
    "### Constants and relative paths to files"
   ]
  },
  {
   "cell_type": "code",
   "execution_count": null,
   "metadata": {},
   "outputs": [],
   "source": [
    "# read shapefile with the actual location of the canals\n",
    "boezem = r\"shapefiles/boezemwatergangen.shp\"\n",
    "\n",
    "# read shapefile with the modelled canals\n",
    "RTCtakken = r\"shapefiles/RTC takken voorstel 20160203.shp\"\n",
    "\n",
    "# read csv file with initial water levels\n",
    "csv_file = 'timeseries_0000.csv'\n",
    " \n",
    "# read an xml file with the model configuration (node coördinates and their names)\n",
    "xml_file = 'rtcToolsConfig.xml'\n",
    "ns = \"{http://www.wldelft.nl/fews}\" #standard code, created by the software \n",
    "\n",
    "\n",
    "ref_system_xml = 'EPSG:28992'\n",
    "ref_basemap = 3857"
   ]
  },
  {
   "cell_type": "markdown",
   "metadata": {},
   "source": [
    "### Read the x,y and node-names from the xml file"
   ]
  },
  {
   "cell_type": "code",
   "execution_count": null,
   "metadata": {},
   "outputs": [],
   "source": [
    "tree = ET.parse(xml_file)\n",
    "\n",
    "x = []\n",
    "y = []\n",
    "names = []\n",
    "for elem in tree.iter(ns + 'node'):\n",
    "    #print(elem.attrib['x'])\n",
    "    x.append(float(elem.attrib['x']))\n",
    "    y.append(float(elem.attrib['y']))\n",
    "    names.append(elem.attrib['id'])\n",
    "    \n",
    "dfxy = pd.DataFrame(data = {'x': x, \n",
    "                           'y': y,\n",
    "                            'names': names})\n",
    "\n",
    "dfxy = dfxy.set_index('names')\n",
    "dfxy"
   ]
  },
  {
   "cell_type": "markdown",
   "metadata": {},
   "source": [
    "### Link the water levels from the csv to the DataFrame\n"
   ]
  },
  {
   "cell_type": "code",
   "execution_count": null,
   "metadata": {},
   "outputs": [],
   "source": [
    "df_wl = pd.read_csv('timeseries_0000.csv')\n",
    "df_wl.head()\n",
    "\n",
    "dfxy['w_level'] = None\n",
    "\n",
    "for col in df_wl.columns:\n",
    "    if '_HRTC' in col:\n",
    "        waarde = df_wl.loc[0, col]\n",
    "        point_name = col.split('_')[0]\n",
    "        dfxy.loc[point_name, 'w_level'] = waarde\n",
    "\n"
   ]
  },
  {
   "cell_type": "markdown",
   "metadata": {},
   "source": [
    "### Read and transform into GeoDataFrames"
   ]
  },
  {
   "cell_type": "code",
   "execution_count": null,
   "metadata": {},
   "outputs": [],
   "source": [
    "# Read from shapefile directly into geodataframe\n",
    "gdf_boezem = gpd.read_file(boezem)\n",
    "# set the cordinate reference system that corresponds \n",
    "# to that of Openstreet maps (used by contextily)\n",
    "gdf_boezem = gdf_boezem.to_crs(epsg=ref_basemap)\n",
    "\n",
    "# create POINTS from the x, y columns of our DataFrame\n",
    "coords = gpd.points_from_xy(dfxy['x'], dfxy['y'])\n",
    "# Create the geodataframe based on those points.\n",
    "gdf = gpd.GeoDataFrame(dfxy, geometry=coords, crs='EPSG:28992')\n",
    "gdf = gdf.to_crs(epsg= ref_basemap)"
   ]
  },
  {
   "cell_type": "markdown",
   "metadata": {},
   "source": [
    "### Create the plot"
   ]
  },
  {
   "cell_type": "code",
   "execution_count": null,
   "metadata": {},
   "outputs": [],
   "source": [
    "fig, ax = plt.subplots(1)\n",
    "\n",
    "gdf.plot(ax=ax, column = 'w_level', cmap='Spectral')\n",
    "ctx.add_basemap(ax =ax)\n",
    "\n",
    "gdf_boezem.plot(ax =ax, alpha = 0.2)\n"
   ]
  },
  {
   "cell_type": "markdown",
   "metadata": {},
   "source": [
    "#### Or, an interactive map!"
   ]
  },
  {
   "cell_type": "code",
   "execution_count": null,
   "metadata": {},
   "outputs": [],
   "source": [
    "gdf_no_x_y = gdf[['w_level', 'geometry']]\n",
    "\n",
    "gdf_no_x_y.to_crs(epsg= ref_basemap)\n",
    "gdf_no_x_y.explore()"
   ]
  },
  {
   "cell_type": "code",
   "execution_count": null,
   "metadata": {},
   "outputs": [],
   "source": []
  }
 ],
 "metadata": {
  "kernelspec": {
   "display_name": "Python 3",
   "language": "python",
   "name": "python3"
  },
  "language_info": {
   "codemirror_mode": {
    "name": "ipython",
    "version": 3
   },
   "file_extension": ".py",
   "mimetype": "text/x-python",
   "name": "python",
   "nbconvert_exporter": "python",
   "pygments_lexer": "ipython3",
   "version": "3.8.6"
  }
 },
 "nbformat": 4,
 "nbformat_minor": 4
}
