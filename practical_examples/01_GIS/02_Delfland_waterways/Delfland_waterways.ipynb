{
 "cells": [
  {
   "cell_type": "markdown",
   "metadata": {},
   "source": [
    "<figure>\n",
    "   <IMG SRC=\"https://mamba-python.nl/images/logo_basis.png\" WIDTH=125 ALIGN=\"right\">\n",
    "</figure>\n",
    "    \n",
    "# GIS visualisation\n",
    "\n",
    "This notebook we will work together on making a useful application.\n",
    "\n",
    "<br>\n",
    "<br>\n",
    "<div style=\"text-align: right\"> developed by MAMBA </div>"
   ]
  },
  {
   "cell_type": "code",
   "execution_count": null,
   "metadata": {},
   "outputs": [],
   "source": [
    "import numpy as np\n",
    "import matplotlib.pyplot as plt\n",
    "import matplotlib.dates as mdates\n",
    "from datetime import datetime\n",
    "import pandas as pd\n",
    "import seaborn as sns\n",
    "import xml.etree.ElementTree as ET\n",
    "#install package containing shapefile with the Anaconda prompt 'conda install pyshp'\n",
    "import shapefile"
   ]
  },
  {
   "cell_type": "code",
   "execution_count": null,
   "metadata": {},
   "outputs": [],
   "source": [
    "# read shapefile with the actual location of the canals\n",
    "boezem = shapefile.Reader(r\"shapefiles\\boezemwatergangen.shp\")\n",
    "\n",
    "# read shapefile with the modelled canals\n",
    "RTCtakken = shapefile.Reader(r\"shapefiles\\RTC takken voorstel 20160203.shp\") \n",
    "\n",
    "# read csv file with initial water levels\n",
    "csv_file = 'timeseries_0000.csv'\n",
    " \n",
    "# read an xml file with the model configuration (node coördinates and their names)\n",
    "xml_file = 'rtcToolsConfig.xml'\n",
    "xmlcode = \"{http://www.wldelft.nl/fews}\" #standard code, created by the software "
   ]
  },
  {
   "cell_type": "code",
   "execution_count": null,
   "metadata": {},
   "outputs": [],
   "source": [
    "# plot canals (actual and modelled)\n",
    "fig,ax = plt.subplots(1,figsize = (18,12))\n",
    "\n",
    "for shp in boezem.shapes():\n",
    "    x = np.array(shp.points)[:,0]\n",
    "    y = np.array(shp.points)[:,1]\n",
    "    ax.plot(x,y, color = 'LightBlue')\n",
    "\n",
    "for shp in RTCtakken.shapes():\n",
    "    x = np.array(shp.points)[:,0]\n",
    "    y = np.array(shp.points)[:,1]\n",
    "    ax.plot(x,y, color = 'Blue')    \n",
    "plt.show()"
   ]
  },
  {
   "cell_type": "code",
   "execution_count": null,
   "metadata": {},
   "outputs": [],
   "source": [
    "treexy = ET.parse(xml_file)\n",
    "\n",
    "names = []\n",
    "x = []\n",
    "y = []\n",
    "\n",
    "for i in treexy.iter(xmlcode + 'node'):\n",
    "    x.append(float(i.attrib['x']))\n",
    "    y.append(float(i.attrib['y']))\n",
    "    names.append(i.attrib['id'])\n",
    "    \n",
    "dfxy = pd.DataFrame(index = names)\n",
    "dfxy['x'] = x\n",
    "dfxy['y'] = y\n",
    "\n",
    "dfxy.head()\n",
    "\n"
   ]
  },
  {
   "cell_type": "code",
   "execution_count": null,
   "metadata": {},
   "outputs": [],
   "source": [
    "# read node x,y coördinates from xml file\n",
    "treexy = ET.parse(xml_file)\n",
    "\n",
    "names = []\n",
    "x = []\n",
    "y = []\n",
    "for i in treexy.iter(xmlcode + 'node'):\n",
    "    x.append(float(i.attrib['x']))\n",
    "    y.append(float(i.attrib['y']))  \n",
    "    names.append(i.attrib['id'])\n",
    "\n",
    "dfxy = pd.DataFrame(index = names)\n",
    "dfxy['x'] = x\n",
    "dfxy['y'] = y\n",
    "dfxy.head()\n",
    "\n",
    "\n",
    "ax.plot(dfxy['x'], dfxy['y']);\n"
   ]
  },
  {
   "cell_type": "code",
   "execution_count": null,
   "metadata": {},
   "outputs": [],
   "source": [
    "# plot nodes with canals\n",
    "fig , ax = plt.subplots( 1, figsize = (18,12) )  \n",
    "\n",
    "for shp in boezem.shapes(): #voor snellere resultaten, comment deze shapefile weg. \n",
    "    x = np.array(shp.points)[:,0]\n",
    "    y = np.array(shp.points)[:,1]\n",
    "    ax.plot(x,y, color = 'LightBlue')\n",
    "\n",
    "for shp in RTCtakken.shapes():\n",
    "    x = np.array(shp.points)[:,0]\n",
    "    y = np.array(shp.points)[:,1]\n",
    "    ax.plot(x,y, color = 'Blue')    \n",
    "\n",
    "ax.plot(dfxy.x.values, dfxy.y.values, 'o', color = 'r')  \n",
    "\n",
    "plt.show()       "
   ]
  },
  {
   "cell_type": "code",
   "execution_count": null,
   "metadata": {},
   "outputs": [],
   "source": [
    "measurements = pd.read_csv(csv_file)\n",
    "\n",
    "initial_wl = []\n",
    "\n",
    "for name in dfxy.index.values:\n",
    "    initial_wl.append(measurements[\"{}_HRTC\".format(name)].iloc[-1])\n",
    "    \n",
    "dfxy['ini_wl'] = initial_wl"
   ]
  },
  {
   "cell_type": "code",
   "execution_count": null,
   "metadata": {},
   "outputs": [],
   "source": [
    "# read water levels from csv file\n",
    "results = pd.read_csv(csv_file)\n",
    "\n",
    "initial_wl = []\n",
    "for name in dfxy.index.values:\n",
    "    initial_wl.append(results[\"{}_HRTC\".format(name)].iloc[-1]) #.iloc geeft de index location\n",
    "\n",
    "dfxy['ini_wl'] = initial_wl\n",
    "\n",
    "dfxy.head()"
   ]
  },
  {
   "cell_type": "code",
   "execution_count": null,
   "metadata": {},
   "outputs": [],
   "source": [
    "# plot canals, nodes and waterlevels\n",
    "\n",
    "fig,ax = plt.subplots(1,figsize = (18,12))\n",
    "\n",
    "for shp in boezem.shapes():\n",
    "    x = np.array(shp.points)[:,0]\n",
    "    y = np.array(shp.points)[:,1]\n",
    "    ax.plot(x,y, color = 'LightBlue')\n",
    "\n",
    "for shp in RTCtakken.shapes():\n",
    "    x = np.array(shp.points)[:,0]\n",
    "    y = np.array(shp.points)[:,1]\n",
    "    ax.plot(x,y, color = 'Blue')    \n",
    "    \n",
    "ax.plot(dfxy.x, dfxy.y, 'o', color = 'r')  \n",
    "\n",
    "for k in range(0,len(dfxy.index.values)):\n",
    "    ax.annotate(dfxy.index[k] + \"\\n H: \"+ \"{0:.2f}\".format(dfxy.ini_wl[k]), \n",
    "                            (dfxy.x[k], dfxy.y[k]), \n",
    "                            xycoords=\"data\", xytext=(8, -4), textcoords='offset points', ha='left', va='top',  fontsize=11, backgroundcolor='white',alpha=.9)\n",
    "\n",
    "plt.show()"
   ]
  }
 ],
 "metadata": {
  "kernelspec": {
   "display_name": "Python 3",
   "language": "python",
   "name": "python3"
  },
  "language_info": {
   "codemirror_mode": {
    "name": "ipython",
    "version": 3
   },
   "file_extension": ".py",
   "mimetype": "text/x-python",
   "name": "python",
   "nbconvert_exporter": "python",
   "pygments_lexer": "ipython3",
   "version": "3.7.4"
  }
 },
 "nbformat": 4,
 "nbformat_minor": 2
}
