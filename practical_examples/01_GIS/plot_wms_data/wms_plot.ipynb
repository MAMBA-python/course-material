{
 "cells": [
  {
   "cell_type": "markdown",
   "metadata": {},
   "source": [
    "# Handleiding\n",
    "Ik installeerde cartopy met:  \n",
    "```$ conda install -c conda-forge cartopy```\n",
    "\n",
    "Helaas zaten er fouten in de code omdat python 3.8 nog niet ondersteund wordt...\n",
    "\n",
    "# Mocht het fout gaan, dan moet je een nieuwe environment aanmaken met python 3.7\n",
    "\n"
   ]
  },
  {
   "cell_type": "markdown",
   "metadata": {},
   "source": [
    "# Nieuwe environment:\n",
    "\n",
    "Om een nieuwe environment en packages te maken, gebruikte ik:\n",
    "```$ conda create -n cartopy -c conda-forge python=3.7 cartopy matplotlib ipykernel```\n",
    "\n",
    "Vervolgens moet de i\n",
    "```$ python -m ipykernel install --user --name cartopy_env```\n",
    "\n",
    "Tot slot nog jupyter opnieuw starten en dan kan de kernel worden gewijzigd in het menu"
   ]
  },
  {
   "cell_type": "code",
   "execution_count": null,
   "metadata": {},
   "outputs": [],
   "source": [
    "import cartopy.crs as ccrs\n",
    "import cartopy.mpl as cmpl\n",
    "import cartopy.io.img_tiles as img_tiles\n",
    "import matplotlib.pyplot as plt\n",
    "from matplotlib import colors, ticker\n",
    "%matplotlib inline"
   ]
  },
  {
   "cell_type": "markdown",
   "metadata": {},
   "source": [
    "# Kijk voor de voorbeelden naar:\n",
    "https://scitools.org.uk/cartopy/docs/v0.15/gallery.html#web-services"
   ]
  },
  {
   "cell_type": "code",
   "execution_count": null,
   "metadata": {
    "scrolled": true
   },
   "outputs": [],
   "source": [
    "ax = plt.axes(projection=ccrs.InterruptedGoodeHomolosine())\n",
    "ax.coastlines()\n",
    "\n",
    "ax.add_wms(wms='http://vmap0.tiles.osgeo.org/wms/vmap0',\n",
    "           layers=['basic'])\n",
    "\n",
    "plt.show()"
   ]
  },
  {
   "cell_type": "markdown",
   "metadata": {},
   "source": [
    "# Het inlezen van de \"correcte\" projectie van het Rijksdriehoekstelsel\n",
    "Rijksdriehoek code --> **EPSG:28922**"
   ]
  },
  {
   "cell_type": "code",
   "execution_count": null,
   "metadata": {
    "scrolled": false
   },
   "outputs": [],
   "source": [
    "crs = ccrs.epsg(28992)\n",
    "crs"
   ]
  },
  {
   "cell_type": "code",
   "execution_count": null,
   "metadata": {
    "scrolled": false
   },
   "outputs": [],
   "source": [
    "ax = plt.axes(projection=crs)\n",
    "ax.add_wms(wms='http://geodata.nationaalgeoregister.nl/bag/wms?srs=EPSG:28992&',\n",
    "           layers=['woonplaats'])\n",
    "ax.figure.set_size_inches(12, 10)"
   ]
  },
  {
   "cell_type": "markdown",
   "metadata": {},
   "source": [
    "# AHN2 voorbeeld"
   ]
  },
  {
   "cell_type": "code",
   "execution_count": null,
   "metadata": {},
   "outputs": [],
   "source": [
    "ax = plt.axes(projection=crs)\n",
    "ax.figure.set_size_inches(12, 10)\n",
    "ax.add_wms(wms='http://geodata.nationaalgeoregister.nl/ahn2/wms?',\n",
    "           layers=['ahn2_5m']);"
   ]
  },
  {
   "cell_type": "markdown",
   "metadata": {},
   "source": [
    "# Kleuren worden raar weergegeven\n",
    "Dat komt volgens mij doordat de WMS niet de hoogte waarden verstuurd, maar de cmap waarde van 0-255, en deze is niet lineair maar zeer niet-lineair"
   ]
  },
  {
   "cell_type": "markdown",
   "metadata": {},
   "source": [
    "# Tot slot nog een uitgebreid voorbeeld\n",
    "Waarin deze kleuren iets worden aangepast. Let wel dat de getallen op de kleurenschaal niet overeen komen met de hoogte in meter. Als dat je doel is, kun je waarschijnlijk beter een `wmts` gebruiken, of handmatig de juiste kleurenschaal maken op basis van de wms definitie."
   ]
  },
  {
   "cell_type": "code",
   "execution_count": null,
   "metadata": {
    "scrolled": false
   },
   "outputs": [],
   "source": [
    "ax = plt.axes(projection=crs)\n",
    "ax.figure.set_size_inches(12, 10)\n",
    "xrange = range(0, 100001, 10000)\n",
    "yrange = range(350000, 460001, 10000)\n",
    "\n",
    "ax.set_xlim(xrange.start, xrange.stop - 1)\n",
    "ax.set_ylim(yrange.start, yrange.stop - 1)\n",
    "m = ax.add_wms(wms='http://geodata.nationaalgeoregister.nl/ahn2/wms?',\n",
    "           layers=['ahn2_5m'],\n",
    "           wms_kwargs=dict(crs='EPSG:28992',\n",
    "                           dpiMode='70'),\n",
    "          cmap='Spectral_r', norm=colors.Normalize(vmin=25, vmax=50, clip=True))\n",
    "plt.colorbar(m)\n",
    "#cmpl.gridliner.Gridliner(axes=ax, crs=crs, xlocator=ticker.IndexLocator(10000, 0))\n",
    "ax.gridlines(axes=ax, crs=crs,\n",
    "             xlocs=ticker.FixedLocator(xrange),\n",
    "             ylocs=ticker.FixedLocator(yrange),\n",
    "             color='k')\n",
    "ax.set_xticks(xrange, crs=crs)\n",
    "ax.set_yticks(yrange, crs=crs)\n",
    "plt.title('AHN2 over Zeeland, kleurenschaal verkeerd', fontdict={'FontSize': 22});"
   ]
  },
  {
   "cell_type": "markdown",
   "metadata": {},
   "source": [
    "# Plaatsing van OLV kerk nog net niet goed\n",
    "In principe had het groene kruis over het rode punt (de Onze Lieve Vrouwenkerk in Amersfoort) moeten staan, maar deze staat daar een slordige 30 meter in x en 125 meter in y richting vanaf. In principe moet de crs de juiste informatie terugspelen aan de matplotlib axes om de juiste locatie te plotten"
   ]
  },
  {
   "cell_type": "code",
   "execution_count": null,
   "metadata": {},
   "outputs": [],
   "source": [
    "ax = plt.axes(projection=crs)\n",
    "ax.figure.set_size_inches(12, 10)\n",
    "xrange = range(154850, 155151, 50)\n",
    "yrange = range(462850, 463151, 50)\n",
    "\n",
    "ax.set_xlim((xrange.start, xrange.stop - 1))\n",
    "ax.set_ylim((yrange.start, yrange.stop - 1))\n",
    "m = ax.add_wms('https://geodata.nationaalgeoregister.nl/luchtfoto/rgb/wms?', layers=['Actueel_ortho25'])\n",
    "ax.gridlines(axes=ax, crs=crs,\n",
    "             xlocs=ticker.FixedLocator(xrange),\n",
    "             ylocs=ticker.FixedLocator(yrange),\n",
    "             color='k')\n",
    "ax.set_xticks(xrange, crs=crs)\n",
    "ax.set_yticks(yrange, crs=crs)\n",
    "ax.plot([154980, 155020], [463000, 463000], '-', lw=5, color='lightgreen')\n",
    "ax.plot([155000, 155000], [462980, 463020], '-', lw=5, color='lightgreen')\n",
    "ax.plot(154970, 462885, 'o', ms=20, color='darksalmon', alpha=0.7)\n",
    "\n",
    "ax.annotate('Onze Lieve Vrouwetoren\\n   xy = (155000, 463000)',\n",
    "            (154970, 462885), xytext=(155000, 462940), FontSize=16,\n",
    "            bbox=dict(boxstyle=\"round\", fc=\"darksalmon\"), \n",
    "            arrowprops=dict(shrink=0.05, fc='darksalmon'))\n",
    "plt.title('Luchtfoto over Amersfoort, crs/wms foutief', fontdict={'FontSize': 22});"
   ]
  },
  {
   "cell_type": "markdown",
   "metadata": {},
   "source": [
    "# Google Tiles gaat echter prima:\n",
    "Een (xyz) tile server van google (anders dan een `wms` of `wmts`) heeft geen problemen met de"
   ]
  },
  {
   "cell_type": "code",
   "execution_count": null,
   "metadata": {},
   "outputs": [],
   "source": [
    "ax = plt.axes(projection=crs)\n",
    "ax.figure.set_size_inches(12, 10)\n",
    "xrange = range(154850, 155151, 50)\n",
    "yrange = range(462850, 463151, 50)\n",
    "\n",
    "ax.set_xlim((xrange.start, xrange.stop - 1))\n",
    "ax.set_ylim((yrange.start, yrange.stop - 1))\n",
    "ax.add_image(img_tiles.GoogleTiles(), 18)\n",
    "ax.gridlines(axes=ax, crs=crs,\n",
    "             xlocs=ticker.FixedLocator(xrange),\n",
    "             ylocs=ticker.FixedLocator(yrange),\n",
    "             color='k')\n",
    "ax.set_xticks(xrange, crs=crs)\n",
    "ax.set_yticks(yrange, crs=crs)\n",
    "plt.title('Google Tile server over Amersfoort', fontdict={'FontSize': 22});"
   ]
  },
  {
   "cell_type": "markdown",
   "metadata": {},
   "source": [
    "# Andere RD definitie\n",
    "Er bestaan meerdere definities van hoe het rijksdriehoekstelsel (Allemaal `EPSG:28992`) moet worden omgezet naar `wgs84`. Dit is erg vervelend om mee te werken, zeker omdat `cartopy` alleen maar toegang heeft tot 1 van deze definities. Bovendien heeft cartopy het erg moeilijk gemaakt om de `crs` objecten dynamisch aan te passen nadat deze zijn gemaakt. In een vermoeiende poging dit op te lossen, werkte het handmatig aanpassen van de `false_northing` en `false_easting` het beste. Eigenlijk geen mooie oplossing, maar wel een die werkt."
   ]
  },
  {
   "cell_type": "code",
   "execution_count": null,
   "metadata": {},
   "outputs": [],
   "source": [
    "rd_proj4 = crs.proj4_params\n",
    "globe = ccrs.Globe(ellipse=rd_proj4['ellps'], \n",
    "                   towgs84='565.2369,50.0087,465.658,-0.406857330322398,0.350732676542563,-1.8703473836068,4.0812')\n",
    "crs2 = ccrs.Stereographic(central_longitude=float(rd_proj4['lon_0']),\n",
    "                          central_latitude=float(rd_proj4['lat_0']),\n",
    "                          false_easting=float(rd_proj4['x_0'])+30,\n",
    "                          false_northing=float(rd_proj4['y_0'])+125,\n",
    "                          scale_factor=float(rd_proj4['k']),\n",
    "                          globe=globe)\n",
    "\n",
    "print(crs.proj4_params)\n",
    "print(crs2.proj4_params)"
   ]
  },
  {
   "cell_type": "code",
   "execution_count": null,
   "metadata": {},
   "outputs": [],
   "source": [
    "ax = plt.axes(projection=crs2)\n",
    "ax.figure.set_size_inches(12, 10)\n",
    "xrange = range(154850, 155151, 50)\n",
    "yrange = range(462850, 463151, 50)\n",
    "\n",
    "ax.set_xlim((xrange.start, xrange.stop - 1))\n",
    "ax.set_ylim((yrange.start, yrange.stop - 1))\n",
    "m = ax.add_wms('https://geodata.nationaalgeoregister.nl/luchtfoto/rgb/wms?', \n",
    "               layers=['Actueel_ortho25'])\n",
    "ax.gridlines(axes=ax, crs=crs2,\n",
    "             xlocs=ticker.FixedLocator(xrange),\n",
    "             ylocs=ticker.FixedLocator(yrange),\n",
    "             color='k')\n",
    "ax.set_xticks(xrange, crs=crs2)\n",
    "ax.set_yticks(yrange, crs=crs2)\n",
    "ax.plot([154980, 155020], [463000, 463000], '-', lw=5, color='lightgreen')\n",
    "ax.plot([155000, 155000], [462980, 463020], '-', lw=5, color='lightgreen')\n",
    "ax.plot(155000, 463000, 'o', ms=20, color='darksalmon', alpha=0.7)\n",
    "\n",
    "ax.annotate('Onze Lieve Vrouwetoren\\n   xy = (155000, 463000)',\n",
    "            (155000, 463000), xytext=(155050, 463050), FontSize=16,\n",
    "            bbox=dict(boxstyle=\"round\", fc=\"darksalmon\"), \n",
    "            arrowprops=dict(shrink=0.05, fc='darksalmon'));"
   ]
  }
 ],
 "metadata": {
  "kernelspec": {
   "display_name": "Python 3",
   "language": "python",
   "name": "python3"
  },
  "language_info": {
   "codemirror_mode": {
    "name": "ipython",
    "version": 3
   },
   "file_extension": ".py",
   "mimetype": "text/x-python",
   "name": "python",
   "nbconvert_exporter": "python",
   "pygments_lexer": "ipython3",
   "version": "3.7.6"
  }
 },
 "nbformat": 4,
 "nbformat_minor": 2
}
