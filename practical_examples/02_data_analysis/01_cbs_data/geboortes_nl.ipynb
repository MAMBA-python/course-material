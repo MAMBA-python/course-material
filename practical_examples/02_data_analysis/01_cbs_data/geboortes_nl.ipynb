{
 "cells": [
  {
   "cell_type": "markdown",
   "metadata": {},
   "source": [
    "<figure>\n",
    "   <IMG SRC=\"https://mamba-python.nl/images/logo_basis.png\" WIDTH=125 ALIGN=\"right\">\n",
    "   \n",
    "</figure>\n",
    "\n",
    "# Analyse data CBR\n",
    "<br>\n",
    "\n",
    "**Doel**: \n",
    "Data downloaden van het CBR en analyseren.\n",
    "\n",
    "**stappen**\n",
    "1. inlezen data\n",
    "2. combineren van data\n",
    "3. visualiseren van data\n",
    "\n",
    "**Gegevens**\n",
    "- geboortes per 1000 inwoners\n",
    "- gemeentegrenzen"
   ]
  },
  {
   "cell_type": "markdown",
   "metadata": {},
   "source": [
    "table of content:<a class=\"anchor\" id=\"0\"></a>\n",
    "1. [inlezen](#1)\n",
    "2. [combineren data](#2)\n",
    "3. [visualiseren](#3)\n"
   ]
  },
  {
   "cell_type": "markdown",
   "metadata": {},
   "source": [
    "[back to TOC](#0)\n",
    "## 1. inlezen data<a class=\"anchor\" id=\"1\"></a>"
   ]
  },
  {
   "cell_type": "code",
   "execution_count": null,
   "metadata": {},
   "outputs": [],
   "source": [
    "import pandas as pd\n",
    "import geopandas as gpd\n",
    "import requests\n",
    "import matplotlib.pyplot as plt"
   ]
  },
  {
   "cell_type": "code",
   "execution_count": null,
   "metadata": {},
   "outputs": [],
   "source": [
    "#settings\n",
    "%matplotlib inline\n",
    "plt.style.use('default')"
   ]
  },
  {
   "cell_type": "markdown",
   "metadata": {},
   "source": [
    "#### gemeentegrenzen\n",
    "De gemeentegrenzen worden via de API van het Nationaal Georegister van PDOK opgehaald. "
   ]
  },
  {
   "cell_type": "code",
   "execution_count": null,
   "metadata": {},
   "outputs": [],
   "source": [
    "geodata_url = \"https://geodata.nationaalgeoregister.nl/cbsgebiedsindelingen/wfs?request=GetFeature&service=WFS&version=2.0.0&typeName=cbs_gemeente_2017_gegeneraliseerd&outputFormat=json\"\n",
    "gemeentegrenzen = gpd.read_file(geodata_url)"
   ]
  },
  {
   "cell_type": "markdown",
   "metadata": {},
   "source": [
    "#### CBR geboortecijfers\n",
    "De geboortecijfers worden via de API van het CBS opgehaald."
   ]
  },
  {
   "cell_type": "code",
   "execution_count": null,
   "metadata": {},
   "outputs": [],
   "source": [
    "def get_odata(target_url):\n",
    "    data = pd.DataFrame()\n",
    "    while target_url:\n",
    "        r = requests.get(target_url).json()\n",
    "        data = data.append(pd.DataFrame(r['value']))\n",
    "        \n",
    "        if '@odata.nextLink' in r:\n",
    "            target_url = r['@odata.nextLink']\n",
    "        else:\n",
    "            target_url = None\n",
    "            \n",
    "    return data"
   ]
  },
  {
   "cell_type": "code",
   "execution_count": null,
   "metadata": {},
   "outputs": [],
   "source": [
    "# Zoek op welke codes bij geboortecijfers horen\n",
    "table_url = \"https://beta-odata4.cbs.nl/CBS/83765NED\"\n",
    "codes = get_odata(table_url + \"/MeasureCodes\")\n",
    "geb = codes[codes['Title'].str.contains(\"Geboorte\")]\n",
    "print(geb[['Title','Unit','Identifier']])"
   ]
  },
  {
   "cell_type": "code",
   "execution_count": null,
   "metadata": {},
   "outputs": [],
   "source": [
    "target_url = table_url + \"/Observations?$filter=Measure eq 'M000173_2' and startswith(WijkenEnBuurten,'GM')\"\n",
    "geboorten_per_gemeente = get_odata(target_url)\n",
    "geboorten_per_gemeente['WijkenEnBuurten'] = geboorten_per_gemeente['WijkenEnBuurten'].str.strip()\n",
    "geboorten_per_gemeente = geboorten_per_gemeente.rename({'Value':'relatieve_geboorte'}, axis='columns')\n",
    "geboorten_per_gemeente"
   ]
  },
  {
   "cell_type": "markdown",
   "metadata": {},
   "source": [
    "[back to TOC](#0)\n",
    "\n",
    "## 2. samenvoegen data<a class=\"anchor\" id=\"2\"></a>\n",
    "\n",
    "Gebruik de `merge` functie om de gemeentegrenzen te koppelen aan de geboortecijfers per gemeente."
   ]
  },
  {
   "cell_type": "code",
   "execution_count": null,
   "metadata": {},
   "outputs": [],
   "source": [
    "geboorten_merged = pd.merge(gemeentegrenzen, geboorten_per_gemeente, left_on = \"statcode\", right_on = \"WijkenEnBuurten\")\n"
   ]
  },
  {
   "cell_type": "markdown",
   "metadata": {},
   "source": [
    "[back to TOC](#0)\n",
    "\n",
    "## 3. visualisatie<a class=\"anchor\" id=\"3\"></a>"
   ]
  },
  {
   "cell_type": "code",
   "execution_count": null,
   "metadata": {},
   "outputs": [],
   "source": [
    "fig, ax = plt.subplots(figsize = (10,8))\n",
    "p = geboorten_merged.plot(column='relatieve_geboorte', ax=ax, legend=True)\n",
    "p.axis('off')\n",
    "p.set_title(\"Levend geborenen per 1000 inwoners, 2017\")"
   ]
  },
  {
   "cell_type": "markdown",
   "metadata": {},
   "source": [
    "[back to TOC](#0)\n",
    "\n",
    "## Acknowledgement <a class=\"anchor\" id=\"4\"></a>"
   ]
  },
  {
   "cell_type": "markdown",
   "metadata": {},
   "source": [
    "Deze notebook is gemaakt met behulp van de volgende bronnen:\n",
    "\n",
    "- https://github.com/statistiekcbs/CBS-Open-Data-v4\n",
    "\n"
   ]
  }
 ],
 "metadata": {
  "kernelspec": {
   "display_name": "Python 3 (ipykernel)",
   "language": "python",
   "name": "python3"
  },
  "language_info": {
   "codemirror_mode": {
    "name": "ipython",
    "version": 3
   },
   "file_extension": ".py",
   "mimetype": "text/x-python",
   "name": "python",
   "nbconvert_exporter": "python",
   "pygments_lexer": "ipython3",
   "version": "3.10.6"
  }
 },
 "nbformat": 4,
 "nbformat_minor": 2
}
