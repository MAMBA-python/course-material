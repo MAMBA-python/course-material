{
 "cells": [
  {
   "cell_type": "markdown",
   "metadata": {},
   "source": [
    "<figure>\n",
    "   <IMG SRC=\"https://mamba-python.nl/images/logo_basis.png\" WIDTH=125 ALIGN=\"right\">\n",
    "</figure>\n",
    "    \n",
    "# Congress twitter analysis\n",
    "\n",
    "\n",
    "This notebook is created for the Mamba python course as an example for big data analysis.\n",
    "\n",
    "<br>\n",
    "<br>\n",
    "\n",
    "<div style=\"text-align: right\"> developed by MAMBA </div>"
   ]
  },
  {
   "cell_type": "markdown",
   "metadata": {},
   "source": [
    "table of content:<a class=\"anchor\" id=\"0\"></a>\n",
    "1. [import files](#1)\n",
    "2. [read twitter data](#2)\n",
    "3. [read user and party data](#3)\n",
    "4. [combine datasets](#4)\n",
    "5. [analyze twitter data per party](#5)\n",
    "6. [plot results](#6)"
   ]
  },
  {
   "cell_type": "markdown",
   "metadata": {},
   "source": [
    "## 1. import files<a class=\"anchor\" id=\"1\"></a>"
   ]
  },
  {
   "cell_type": "code",
   "execution_count": null,
   "metadata": {},
   "outputs": [],
   "source": [
    "import pandas as pd\n",
    "#You most likely do not have textblob in you anaconda. \n",
    "#If not, go to your anaconda prompt and type pip install textblob (enter)\n",
    "#The package should install and the ModuleNotFoundError should dissapear\n",
    "import textblob as tb\n",
    "import matplotlib.pyplot as plt\n",
    "import matplotlib\n",
    "import datetime as dt\n",
    "import pickle\n",
    "import numpy as np"
   ]
  },
  {
   "cell_type": "code",
   "execution_count": null,
   "metadata": {},
   "outputs": [],
   "source": [
    "#settings (seaborn for style of graphs and maplotlib inline to let the graphs show inside this notebook)\n",
    "%matplotlib inline\n",
    "plt.style.use('seaborn')"
   ]
  },
  {
   "cell_type": "markdown",
   "metadata": {},
   "source": [
    "\n",
    "## 2. read twitter data <a class=\"anchor\" id=\"2\"></a>"
   ]
  },
  {
   "cell_type": "code",
   "execution_count": null,
   "metadata": {},
   "outputs": [],
   "source": [
    "start_date = dt.datetime(2020,1,1)\n",
    "end_date   = dt.datetime(2020,1,15) # set for a year to see nicer images\n",
    "date_range = pd.date_range(start_date, end_date)"
   ]
  },
  {
   "cell_type": "code",
   "execution_count": null,
   "metadata": {
    "scrolled": true
   },
   "outputs": [],
   "source": [
    "twitter_data = pd.DataFrame()\n",
    "for date in date_range:\n",
    "    #The twitter data of congress men and women are stored in a file on github. \n",
    "    #twitter_data_day loads this data into a pandas dataframe\n",
    "    print(f\"downloading data from {date.strftime('%Y-%m-%d')}\")\n",
    "    twitter_data_day = pd.read_json('https://raw.githubusercontent.com/alexlitel/congresstweets/master/data/%s.json'%date.strftime('%Y-%m-%d'))\n",
    "    #the time is set as index of the dataframe\n",
    "    if not twitter_data_day.empty:\n",
    "        twitter_data_day.index = pd.to_datetime(twitter_data_day.time)\n",
    "        #for each day the twitter frame of that day is concatenated with the main twitter_data dataframe\n",
    "        twitter_data = pd.concat([twitter_data, twitter_data_day])\n",
    "    else:\n",
    "        print(f\"no data available for {date.strftime('%Y-%m-%d')}\")"
   ]
  },
  {
   "cell_type": "markdown",
   "metadata": {},
   "source": [
    "## 3. read user and political party data<a class=\"anchor\" id=\"3\"></a>"
   ]
  },
  {
   "cell_type": "code",
   "execution_count": null,
   "metadata": {},
   "outputs": [],
   "source": [
    "#Which twitter user belongs to which political party\n",
    "user_twitter = pd.read_json('https://raw.githubusercontent.com/alexlitel/congresstweets-automator/master/data/historical-users-filtered.json')"
   ]
  },
  {
   "cell_type": "code",
   "execution_count": null,
   "metadata": {},
   "outputs": [],
   "source": [
    "for i, row in user_twitter.iterrows():\n",
    "    if 'id' in row['accounts'][0].keys():\n",
    "        user_twitter.loc[i, 'user_id'] = row['accounts'][0]['id']\n",
    "    if 'screen_name' in row['accounts'][0].keys():\n",
    "        user_twitter.loc[i, 'screen_name'] = row['accounts'][0]['screen_name']"
   ]
  },
  {
   "cell_type": "markdown",
   "metadata": {},
   "source": [
    "## 4. combine datasets<a class=\"anchor\" id=\"4\"></a>\n",
    "link twitter users to political parties"
   ]
  },
  {
   "cell_type": "code",
   "execution_count": null,
   "metadata": {},
   "outputs": [],
   "source": [
    "#Make a new column with the political party per twitter message in twitter_data\n",
    "twitter_data['party'] = twitter_data.screen_name.apply(lambda x: user_twitter[user_twitter.screen_name==x]['party'].values[0] if x in user_twitter.screen_name.values else 'U')"
   ]
  },
  {
   "cell_type": "markdown",
   "metadata": {},
   "source": [
    "## 5. analyze twitter data per party<a class=\"anchor\" id=\"5\"></a>\n",
    "analyze the sentiment of the tweets"
   ]
  },
  {
   "cell_type": "code",
   "execution_count": null,
   "metadata": {},
   "outputs": [],
   "source": [
    "#make sure the index is sorted and datetime datatype\n",
    "twitter_data.sort_index(inplace=True)"
   ]
  },
  {
   "cell_type": "code",
   "execution_count": null,
   "metadata": {},
   "outputs": [],
   "source": [
    "#textblob is a packages that has a function to evaluate the sentiment of that message. \n",
    "#This sentiment.polarity is valued as a float between -1 and 1. \n",
    "twitter_data['polarity'] = twitter_data.text.apply(lambda x: tb.Sentence(x).sentiment.polarity)"
   ]
  },
  {
   "cell_type": "code",
   "execution_count": null,
   "metadata": {},
   "outputs": [],
   "source": [
    "#make a new dataframe with only relevant data columns\n",
    "twitter_data_rel = twitter_data[['screen_name','party', 'polarity']]"
   ]
  },
  {
   "cell_type": "code",
   "execution_count": null,
   "metadata": {},
   "outputs": [],
   "source": [
    "twitter_data.loc['2020-01-10']"
   ]
  },
  {
   "cell_type": "code",
   "execution_count": null,
   "metadata": {},
   "outputs": [],
   "source": [
    "# write to pickle\n",
    "with open(r'data\\processed_twitter_data.pickle', 'wb') as pfile:\n",
    "    pickle.dump(twitter_data_rel, pfile)\n",
    "\n",
    "# load pickle to skip previous time consuming steps\n",
    "with open(r'data\\processed_twitter_data.pickle', 'rb') as pfile:\n",
    "    twitter_data_rel = pickle.load(pfile)"
   ]
  },
  {
   "cell_type": "code",
   "execution_count": null,
   "metadata": {},
   "outputs": [],
   "source": [
    "# get daily average of the polarity per party (decomcrat or republican)\n",
    "twitter_data_d = twitter_data_rel[twitter_data_rel.party=='D']\n",
    "twitter_data_r = twitter_data_rel[twitter_data_rel.party=='R']\n",
    "\n",
    "#Note, in de lines below the 'D' stands for daily instead of 'democrat'. \n",
    "#This does not improve readibility, but ah well. \n",
    "twitter_data_d_daily_average = twitter_data_d.resample('D').mean()\n",
    "twitter_data_r_daily_average = twitter_data_r.resample('D').mean()"
   ]
  },
  {
   "cell_type": "code",
   "execution_count": null,
   "metadata": {
    "scrolled": true
   },
   "outputs": [],
   "source": [
    "# get bandwidth 0f the polarity per party daily ('D') (decomcrat or republican)\n",
    "upper_percentile = 90\n",
    "lower_percentile = 10\n",
    "\n",
    "#With apply we do the operation per row of echt dataframe\n",
    "twitter_data_d_daily_upper = twitter_data_d.resample('D').quantile(upper_percentile/100)['polarity']\n",
    "twitter_data_d_daily_lower = twitter_data_d.resample('D').quantile(lower_percentile/100)['polarity']\n",
    "twitter_data_r_daily_upper = twitter_data_r.resample('D').quantile(upper_percentile/100)['polarity']\n",
    "twitter_data_r_daily_lower = twitter_data_r.resample('D').quantile(lower_percentile/100)['polarity']"
   ]
  },
  {
   "cell_type": "markdown",
   "metadata": {},
   "source": [
    "## 6. plot results<a class=\"anchor\" id=\"6\"></a>"
   ]
  },
  {
   "cell_type": "code",
   "execution_count": null,
   "metadata": {
    "scrolled": true
   },
   "outputs": [],
   "source": [
    "#First lets get some statistics \n",
    "df = twitter_data_rel.groupby(['screen_name']).mean()\n",
    "\n",
    "low_ave_pol = df.polarity.min()\n",
    "user_low_ave_pol = df[df.polarity==low_ave_pol].index[0]\n",
    "no_tweets_user = (twitter_data_rel.screen_name==user_low_ave_pol).sum()\n",
    "print('minimum')\n",
    "print('lowest, average polarity of twitter users: %.2f'%low_ave_pol)\n",
    "print('twitter user with lowest average polarity: %s'%user_low_ave_pol)\n",
    "print(\"number of tweets by %s : %i\"%(user_low_ave_pol, no_tweets_user))\n",
    "print('\\nmaximum')\n",
    "max_ave_pol = df.polarity.max()\n",
    "user_max_ave_pol = df[df.polarity==max_ave_pol].index[0]\n",
    "no_tweets_user = (twitter_data_rel.screen_name==user_max_ave_pol).sum()\n",
    "print('maximum, average polarity of twitter users: %.2f'%max_ave_pol)\n",
    "print('twitter user with maximum average polarity: %s'%user_max_ave_pol)\n",
    "print(\"number of tweets by %s : %i\"%(user_max_ave_pol, no_tweets_user))"
   ]
  },
  {
   "cell_type": "code",
   "execution_count": null,
   "metadata": {},
   "outputs": [],
   "source": [
    "# annotation of these values in our plot\n",
    "def add_annotation(ax, day, twitter_data_daily_average, \n",
    "                   connectionstyle, text, x_dis=-20, y_dis=0.3, facecolor='green', linewidth=None,\n",
    "                   edgecolor=None):\n",
    "    '''\n",
    "    '''\n",
    "    pol_day_party = twitter_data_daily_average[day:day]['polarity'].values[0]\n",
    "    ax.annotate(text, \n",
    "                xy=(day, pol_day_party), \n",
    "                xytext=(day+dt.timedelta(x_dis), pol_day_party+y_dis), \n",
    "                fontsize=12,\n",
    "                arrowprops=dict(arrowstyle=\"fancy\", \n",
    "                                facecolor=facecolor, \n",
    "                                edgecolor=edgecolor ,\n",
    "                                lw=linewidth,\n",
    "                                connectionstyle=connectionstyle))\n",
    "    return ax"
   ]
  },
  {
   "cell_type": "code",
   "execution_count": null,
   "metadata": {},
   "outputs": [],
   "source": [
    "twitter_data_rel.loc['2020-01-02']"
   ]
  },
  {
   "cell_type": "code",
   "execution_count": null,
   "metadata": {},
   "outputs": [],
   "source": [
    "twitter_data_rel.loc[:,'party_mod'] = twitter_data_rel['party']\n",
    "twitter_data_rel.loc[~twitter_data_rel['party_mod'].isin(['R','D']), 'party_mod'] = 'Other'\n",
    "twitter_data_rel.loc[twitter_data_rel['party_mod']=='R', 'party_mod'] = 'Republican'\n",
    "twitter_data_rel.loc[twitter_data_rel['party_mod']=='D', 'party_mod'] = 'Democrat'\n",
    "\n",
    "plt.rcParams.update({'font.size': 16})\n",
    "#plt.xticks(rotation=45)\n",
    "\n",
    "fig, axs = plt.subplots(1, 2, figsize=(10,4))\n",
    "\n",
    "\n",
    "chart_1 = twitter_data_rel.groupby([twitter_data_rel.party_mod]).count()\n",
    "total = sum(chart_1['party'])\n",
    "ax1, ax2  = axs[0], axs[1]\n",
    "# ax3, ax4 = axs[1, 0], axs[1, 1]\n",
    "ax1.pie(chart_1['party'].values, labels=chart_1['party'].index,  \n",
    "        autopct=lambda p: '{:,.0f}'.format(p * total / 100), #explode=[ 0.05, 0.05, 0.05] ,\n",
    "        shadow=True, startangle=90, textprops={'fontsize': 14})\n",
    "\n",
    "ax1.set_title('number of tweets', fontsize=18)\n",
    "ax1.axis('equal')\n",
    "\n",
    "chart_2 = twitter_data_rel.groupby(['party_mod']).mean()\n",
    "chart_2 = chart_2.reindex(['Democrat', 'Republican', 'Other'])\n",
    "chart_2.loc['Total']= twitter_data_rel.polarity.mean()\n",
    "\n",
    "\n",
    "ax2.bar([ 0, 1, 2, 3], chart_2.values[:,0])\n",
    "\n",
    "ax2.set_xticks(np.arange(-0, 4, 1))\n",
    "ax2.set_xticklabels(chart_2.index.values, rotation=90)\n",
    "\n",
    "\n",
    "ax2.tick_params(axis='x', which='major', labelsize=16)\n",
    "\n",
    "ax2.set_yticks(np.arange(0,0.25,0.05))\n",
    "ax2.tick_params(axis='y', which='major', labelsize=12)\n",
    "\n",
    "ax2.patch.set_facecolor('none')\n",
    "ax2.set_title('average sentiment', fontsize=18);\n",
    "plt.subplots_adjust(wspace=0.3)\n",
    "fig.savefig(r'figures/pie_bar_charts.png', bbox_inches='tight')\n",
    "\n",
    "chart_2"
   ]
  },
  {
   "cell_type": "code",
   "execution_count": null,
   "metadata": {},
   "outputs": [],
   "source": [
    "# plot\n",
    "fig = plt.figure(figsize=(16,16/2.75))\n",
    "ax = plt.subplot()\n",
    "\n",
    "# plot average\n",
    "twitter_data_d_daily_average.polarity.plot(ax=ax, linestyle=None, marker='.', color='blue', label='Democrats')\n",
    "twitter_data_r_daily_average.polarity.plot(ax=ax, linestyle=None, marker='.', color='red', label='Republicans')\n",
    "\n",
    "# plot bandwidth\n",
    "ax.fill_between(twitter_data_d_daily_upper.index, twitter_data_d_daily_lower.values, \n",
    "                twitter_data_d_daily_upper.values, facecolor='blue', alpha=0.1)\n",
    "ax.fill_between(twitter_data_r_daily_upper.index, twitter_data_r_daily_lower.values, \n",
    "                twitter_data_r_daily_upper.values, facecolor='red', alpha=0.1)\n",
    "\n",
    "\n",
    "# add arrow to some peaks\n",
    "# ax = add_annotation(ax, dt.datetime(2020,2,17), twitter_data_r_daily_average, \"angle3,angleA=90,angleB=0\",\n",
    "#                     \"President's day\", x_dis=-22)\n",
    "\n",
    "# ax = add_annotation(ax, dt.datetime(2020,4,12), twitter_data_r_daily_average, \"arc3,rad=-0.3\",\n",
    "#                     \"Easter\", x_dis=-22, facecolor='blue')\n",
    "\n",
    "# ax = add_annotation(ax, dt.datetime(2020,5,10), twitter_data_r_daily_average, \"arc3,rad=-0.3\",\n",
    "#                     \"mother's day\", x_dis=-25, facecolor='magenta')\n",
    "\n",
    "# ax = add_annotation(ax, dt.datetime(2020,6,21), twitter_data_r_daily_average, \"arc3,rad=-0.3\",\n",
    "#                     \"father's day\", x_dis=-12, facecolor='yellow')\n",
    "\n",
    "# ax = add_annotation(ax, dt.datetime(2020,7,4), twitter_data_r_daily_average, \"arc3,rad=-0.2\",\n",
    "#                     \"independence day\", x_dis=2 , facecolor='red', edgecolor='blue', linewidth=1)\n",
    "\n",
    "# ax = add_annotation(ax, dt.datetime(2020,6,14), twitter_data_r_daily_average, \"arc3,rad=-0.2\",\n",
    "#                     \"birthday\\n Trump\", x_dis=-30 , facecolor='red', edgecolor='red', linewidth=1)\n",
    "\n",
    "# format axes\n",
    "ax.set_ylim(-0.5,1.0)\n",
    "ax.set_xlabel('')\n",
    "ax.set_ylabel('sentiment of tweets', fontsize=12)\n",
    "ax.set_yticklabels([])\n",
    "\n",
    "ax.set_xlim(start_date, twitter_data_d_daily_average.index.max())\n",
    "xmin, xmax = ax.get_xlim()\n",
    "ymin, ymax = ax.get_ylim()\n",
    "\n",
    "ax.text(xmin-5, ymax-0.3, r'positive $\\longrightarrow$', rotation=90, fontsize=12)\n",
    "ax.text(xmin-5, ymin, r'$\\longleftarrow$ negative', rotation=90, fontsize=12)\n",
    "\n",
    "# format legend\n",
    "box = ax.get_position()\n",
    "ax.set_position([box.x0, box.y0 + box.height * 0.1,\n",
    "                 box.width, box.height * 0.9])\n",
    "\n",
    "\n",
    "# Put a legend below current axis\n",
    "leg = ax.legend(loc='upper center', bbox_to_anchor=(0.5, -0.08),\n",
    "                frameon=True, facecolor='white', edgecolor='black', shadow=True, ncol=5)\n",
    "\n",
    "ax.set_title('Twitter analysis US congress')\n",
    "\n",
    "fig.savefig(r'figures\\twitter_analysis_US_congress.png', dpi=300, bbox_inches='tight')"
   ]
  }
 ],
 "metadata": {
  "kernelspec": {
   "display_name": "Python 3",
   "language": "python",
   "name": "python3"
  },
  "language_info": {
   "codemirror_mode": {
    "name": "ipython",
    "version": 3
   },
   "file_extension": ".py",
   "mimetype": "text/x-python",
   "name": "python",
   "nbconvert_exporter": "python",
   "pygments_lexer": "ipython3",
   "version": "3.8.6"
  }
 },
 "nbformat": 4,
 "nbformat_minor": 4
}
