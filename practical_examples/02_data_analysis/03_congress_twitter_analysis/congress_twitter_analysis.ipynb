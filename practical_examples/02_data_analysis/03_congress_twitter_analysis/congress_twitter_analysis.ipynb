{
 "cells": [
  {
   "cell_type": "markdown",
   "metadata": {},
   "source": [
    "<figure>\n",
    "   <IMG SRC=\"https://mamba-python.nl/images/logo_basis.png\" WIDTH=125 ALIGN=\"right\">\n",
    "</figure>\n",
    "    \n",
    "# Congress twitter analysis\n",
    "\n",
    "\n",
    "This notebook is created for the Mamba python course as an example for big data analysis.\n",
    "\n",
    "<br>\n",
    "<br>\n",
    "\n",
    "<div style=\"text-align: right\"> developed by MAMBA </div>"
   ]
  },
  {
   "cell_type": "markdown",
   "metadata": {},
   "source": [
    "table of content:<a class=\"anchor\" id=\"0\"></a>\n",
    "1. [import files](#1)\n",
    "2. [read twitter data](#2)\n",
    "3. [read user and party data](#3)\n",
    "4. [combine datasets](#4)\n",
    "5. [analyze twitter data per party](#5)\n",
    "6. [plot results](#6)"
   ]
  },
  {
   "cell_type": "markdown",
   "metadata": {},
   "source": [
    "## 1. import files<a class=\"anchor\" id=\"1\"></a>"
   ]
  },
  {
   "cell_type": "code",
   "execution_count": 23,
   "metadata": {},
   "outputs": [],
   "source": [
    "import pandas as pd\n",
    "#You most likely do not have textblob in you anaconda. \n",
    "#If not, go to your anaconda prompt and type pip install textblob (enter)\n",
    "#The package should install and the ModuleNotFoundError should dissapear\n",
    "import textblob as tb\n",
    "import matplotlib.pyplot as plt\n",
    "import matplotlib\n",
    "import datetime as dt\n",
    "import pickle\n",
    "import numpy as np"
   ]
  },
  {
   "cell_type": "code",
   "execution_count": 24,
   "metadata": {},
   "outputs": [
    {
     "name": "stderr",
     "output_type": "stream",
     "text": [
      "C:\\Users\\Petra Izeboud\\AppData\\Local\\Temp\\ipykernel_28420\\159064215.py:3: MatplotlibDeprecationWarning: The seaborn styles shipped by Matplotlib are deprecated since 3.6, as they no longer correspond to the styles shipped by seaborn. However, they will remain available as 'seaborn-v0_8-<style>'. Alternatively, directly use the seaborn API instead.\n",
      "  plt.style.use('seaborn')\n"
     ]
    }
   ],
   "source": [
    "#settings (seaborn for style of graphs and maplotlib inline to let the graphs show inside this notebook)\n",
    "%matplotlib inline\n",
    "plt.style.use('seaborn')"
   ]
  },
  {
   "cell_type": "markdown",
   "metadata": {},
   "source": [
    "\n",
    "## 2. read twitter data <a class=\"anchor\" id=\"2\"></a>"
   ]
  },
  {
   "cell_type": "code",
   "execution_count": 25,
   "metadata": {},
   "outputs": [],
   "source": [
    "start_date = dt.datetime(2020,1,1)\n",
    "end_date   = dt.datetime(2020,1,15) # set for a year to see nicer images\n",
    "date_range = pd.date_range(start_date, end_date)"
   ]
  },
  {
   "cell_type": "code",
   "execution_count": 26,
   "metadata": {
    "scrolled": true
   },
   "outputs": [
    {
     "name": "stdout",
     "output_type": "stream",
     "text": [
      "downloading data from 2020-01-01\n",
      "downloading data from 2020-01-02\n",
      "downloading data from 2020-01-03\n",
      "downloading data from 2020-01-04\n",
      "downloading data from 2020-01-05\n",
      "downloading data from 2020-01-06\n",
      "downloading data from 2020-01-07\n",
      "downloading data from 2020-01-08\n",
      "downloading data from 2020-01-09\n",
      "downloading data from 2020-01-10\n",
      "downloading data from 2020-01-11\n",
      "downloading data from 2020-01-12\n",
      "downloading data from 2020-01-13\n",
      "downloading data from 2020-01-14\n",
      "downloading data from 2020-01-15\n"
     ]
    }
   ],
   "source": [
    "twitter_data = pd.DataFrame()\n",
    "for date in date_range:\n",
    "    #The twitter data of congress men and women are stored in a file on github. \n",
    "    #twitter_data_day loads this data into a pandas dataframe\n",
    "    print(f\"downloading data from {date.strftime('%Y-%m-%d')}\")\n",
    "    twitter_data_day = pd.read_json('https://raw.githubusercontent.com/alexlitel/congresstweets/master/data/%s.json'%date.strftime('%Y-%m-%d'))\n",
    "    #the time is set as index of the dataframe\n",
    "    if not twitter_data_day.empty:\n",
    "        twitter_data_day.index = pd.to_datetime(twitter_data_day.time)\n",
    "        #for each day the twitter frame of that day is concatenated with the main twitter_data dataframe\n",
    "        twitter_data = pd.concat([twitter_data, twitter_data_day])\n",
    "    else:\n",
    "        print(f\"no data available for {date.strftime('%Y-%m-%d')}\")"
   ]
  },
  {
   "cell_type": "markdown",
   "metadata": {},
   "source": [
    "## 3. read user and political party data<a class=\"anchor\" id=\"3\"></a>"
   ]
  },
  {
   "cell_type": "code",
   "execution_count": 27,
   "metadata": {},
   "outputs": [],
   "source": [
    "#Which twitter user belongs to which political party\n",
    "user_twitter = pd.read_json('https://raw.githubusercontent.com/alexlitel/congresstweets-automator/master/data/historical-users-filtered.json')"
   ]
  },
  {
   "cell_type": "code",
   "execution_count": 28,
   "metadata": {},
   "outputs": [],
   "source": [
    "for i, row in user_twitter.iterrows():\n",
    "    if 'id' in row['accounts'][0].keys():\n",
    "        user_twitter.loc[i, 'user_id'] = row['accounts'][0]['id']\n",
    "    if 'screen_name' in row['accounts'][0].keys():\n",
    "        user_twitter.loc[i, 'screen_name'] = row['accounts'][0]['screen_name']"
   ]
  },
  {
   "cell_type": "markdown",
   "metadata": {},
   "source": [
    "## 4. combine datasets<a class=\"anchor\" id=\"4\"></a>\n",
    "link twitter users to political parties"
   ]
  },
  {
   "cell_type": "code",
   "execution_count": 29,
   "metadata": {},
   "outputs": [],
   "source": [
    "#Make a new column with the political party per twitter message in twitter_data\n",
    "twitter_data['party'] = twitter_data.screen_name.apply(lambda x: user_twitter[user_twitter.screen_name==x]['party'].values[0] if x in user_twitter.screen_name.values else 'U')"
   ]
  },
  {
   "cell_type": "markdown",
   "metadata": {},
   "source": [
    "## 5. analyze twitter data per party<a class=\"anchor\" id=\"5\"></a>\n",
    "analyze the sentiment of the tweets"
   ]
  },
  {
   "cell_type": "code",
   "execution_count": 30,
   "metadata": {},
   "outputs": [
    {
     "name": "stderr",
     "output_type": "stream",
     "text": [
      "C:\\Users\\Petra Izeboud\\AppData\\Local\\Temp\\ipykernel_28420\\1030279852.py:3: FutureWarning: Using .astype to convert from timezone-aware dtype to timezone-naive dtype is deprecated and will raise in a future version.  Use obj.tz_localize(None) or obj.tz_convert('UTC').tz_localize(None) instead\n",
      "  twitter_data.index = twitter_data.index.astype('datetime64[ns]')\n"
     ]
    }
   ],
   "source": [
    "#make sure the index is sorted and datetime datatype\n",
    "twitter_data.sort_index(inplace=True)\n",
    "twitter_data.index = twitter_data.index.astype('datetime64[ns]')"
   ]
  },
  {
   "cell_type": "code",
   "execution_count": 31,
   "metadata": {},
   "outputs": [],
   "source": [
    "#textblob is a packages that has a function to evaluate the sentiment of that message. \n",
    "#This sentiment.polarity is valued as a float between -1 and 1. \n",
    "twitter_data['polarity'] = twitter_data.text.apply(lambda x: tb.Sentence(x).sentiment.polarity)"
   ]
  },
  {
   "cell_type": "code",
   "execution_count": 32,
   "metadata": {},
   "outputs": [],
   "source": [
    "#make a new dataframe with only relevant data columns\n",
    "twitter_data_rel = twitter_data[['screen_name','party', 'polarity']]"
   ]
  },
  {
   "cell_type": "code",
   "execution_count": 33,
   "metadata": {},
   "outputs": [
    {
     "data": {
      "text/html": [
       "<div>\n",
       "<style scoped>\n",
       "    .dataframe tbody tr th:only-of-type {\n",
       "        vertical-align: middle;\n",
       "    }\n",
       "\n",
       "    .dataframe tbody tr th {\n",
       "        vertical-align: top;\n",
       "    }\n",
       "\n",
       "    .dataframe thead th {\n",
       "        text-align: right;\n",
       "    }\n",
       "</style>\n",
       "<table border=\"1\" class=\"dataframe\">\n",
       "  <thead>\n",
       "    <tr style=\"text-align: right;\">\n",
       "      <th></th>\n",
       "      <th>id</th>\n",
       "      <th>screen_name</th>\n",
       "      <th>user_id</th>\n",
       "      <th>time</th>\n",
       "      <th>link</th>\n",
       "      <th>text</th>\n",
       "      <th>source</th>\n",
       "      <th>party</th>\n",
       "      <th>polarity</th>\n",
       "    </tr>\n",
       "    <tr>\n",
       "      <th>time</th>\n",
       "      <th></th>\n",
       "      <th></th>\n",
       "      <th></th>\n",
       "      <th></th>\n",
       "      <th></th>\n",
       "      <th></th>\n",
       "      <th></th>\n",
       "      <th></th>\n",
       "      <th></th>\n",
       "    </tr>\n",
       "  </thead>\n",
       "  <tbody>\n",
       "    <tr>\n",
       "      <th>2020-01-10 00:00:00</th>\n",
       "      <td>1215423004861063168</td>\n",
       "      <td>cindyhydesmith</td>\n",
       "      <td>262192574</td>\n",
       "      <td>2020-01-09T19:00:00-05:00</td>\n",
       "      <td>https://www.twitter.com/cindyhydesmith/statuse...</td>\n",
       "      <td>To all of the men and women who put their live...</td>\n",
       "      <td>TweetDeck</td>\n",
       "      <td>R</td>\n",
       "      <td>0.000000</td>\n",
       "    </tr>\n",
       "    <tr>\n",
       "      <th>2020-01-10 00:00:00</th>\n",
       "      <td>1215423003678216192</td>\n",
       "      <td>RepGregSteube</td>\n",
       "      <td>1083125649609506816</td>\n",
       "      <td>2020-01-09T19:00:00-05:00</td>\n",
       "      <td>https://www.twitter.com/RepGregSteube/statuses...</td>\n",
       "      <td>I’m proud to see such a strong stand against a...</td>\n",
       "      <td>TweetDeck</td>\n",
       "      <td>U</td>\n",
       "      <td>0.229167</td>\n",
       "    </tr>\n",
       "    <tr>\n",
       "      <th>2020-01-10 00:00:00</th>\n",
       "      <td>1215423006006226944</td>\n",
       "      <td>RepThompson</td>\n",
       "      <td>303861808</td>\n",
       "      <td>2020-01-09T19:00:00-05:00</td>\n",
       "      <td>https://www.twitter.com/RepThompson/statuses/1...</td>\n",
       "      <td>Excited to announce I have a new and improved ...</td>\n",
       "      <td>TweetDeck</td>\n",
       "      <td>D</td>\n",
       "      <td>0.378788</td>\n",
       "    </tr>\n",
       "    <tr>\n",
       "      <th>2020-01-10 00:00:00</th>\n",
       "      <td>1215423004353626112</td>\n",
       "      <td>HurdOnTheHill</td>\n",
       "      <td>2963445730</td>\n",
       "      <td>2020-01-09T19:00:00-05:00</td>\n",
       "      <td>https://www.twitter.com/HurdOnTheHill/statuses...</td>\n",
       "      <td>Joined my colleagues in passing bipartisan #sm...</td>\n",
       "      <td>TweetDeck</td>\n",
       "      <td>U</td>\n",
       "      <td>0.125000</td>\n",
       "    </tr>\n",
       "    <tr>\n",
       "      <th>2020-01-10 00:00:15</th>\n",
       "      <td>1215423066240638976</td>\n",
       "      <td>RepBobbyRush</td>\n",
       "      <td>305216911</td>\n",
       "      <td>2020-01-09T19:00:15-05:00</td>\n",
       "      <td>https://www.twitter.com/RepBobbyRush/statuses/...</td>\n",
       "      <td>Today, this House of Representatives reaffirms...</td>\n",
       "      <td>Twitter Web App</td>\n",
       "      <td>U</td>\n",
       "      <td>-0.083333</td>\n",
       "    </tr>\n",
       "    <tr>\n",
       "      <th>...</th>\n",
       "      <td>...</td>\n",
       "      <td>...</td>\n",
       "      <td>...</td>\n",
       "      <td>...</td>\n",
       "      <td>...</td>\n",
       "      <td>...</td>\n",
       "      <td>...</td>\n",
       "      <td>...</td>\n",
       "      <td>...</td>\n",
       "    </tr>\n",
       "    <tr>\n",
       "      <th>2020-01-10 23:57:00</th>\n",
       "      <td>1215784637420584960</td>\n",
       "      <td>RepDeSaulnier</td>\n",
       "      <td>2968007206</td>\n",
       "      <td>2020-01-10T18:57:00-05:00</td>\n",
       "      <td>https://www.twitter.com/RepDeSaulnier/statuses...</td>\n",
       "      <td>Join @RepThompson and I on January 23rd at Alh...</td>\n",
       "      <td>Twitter Web App</td>\n",
       "      <td>U</td>\n",
       "      <td>0.160000</td>\n",
       "    </tr>\n",
       "    <tr>\n",
       "      <th>2020-01-10 23:57:43</th>\n",
       "      <td>1215784817519988736</td>\n",
       "      <td>SenGaryPeters</td>\n",
       "      <td>236511574</td>\n",
       "      <td>2020-01-10T18:57:43-05:00</td>\n",
       "      <td>https://www.twitter.com/SenGaryPeters/statuses...</td>\n",
       "      <td>Colleen and I are mourning the loss of Jack Fa...</td>\n",
       "      <td>Twitter for iPhone</td>\n",
       "      <td>U</td>\n",
       "      <td>0.200000</td>\n",
       "    </tr>\n",
       "    <tr>\n",
       "      <th>2020-01-10 23:58:52</th>\n",
       "      <td>1215785105718943744</td>\n",
       "      <td>RepEdCase</td>\n",
       "      <td>1081350574589833216</td>\n",
       "      <td>2020-01-10T18:58:52-05:00</td>\n",
       "      <td>https://www.twitter.com/RepEdCase/statuses/121...</td>\n",
       "      <td>Here’s my January 2020 Congressional Enewslett...</td>\n",
       "      <td>Twitter for iPhone</td>\n",
       "      <td>U</td>\n",
       "      <td>0.250000</td>\n",
       "    </tr>\n",
       "    <tr>\n",
       "      <th>2020-01-10 23:59:11</th>\n",
       "      <td>1215785186794844160</td>\n",
       "      <td>RepPressley</td>\n",
       "      <td>1080584229510172672</td>\n",
       "      <td>2020-01-10T18:59:11-05:00</td>\n",
       "      <td>https://www.twitter.com/RepPressley/statuses/1...</td>\n",
       "      <td>.@Ilhan: “When @RepPressley says those closest...</td>\n",
       "      <td>Twitter for iPhone</td>\n",
       "      <td>U</td>\n",
       "      <td>-0.200000</td>\n",
       "    </tr>\n",
       "    <tr>\n",
       "      <th>2020-01-10 23:59:31</th>\n",
       "      <td>1215785272706785280</td>\n",
       "      <td>TransportDems</td>\n",
       "      <td>21684013</td>\n",
       "      <td>2020-01-10T18:59:31-05:00</td>\n",
       "      <td>https://www.twitter.com/TransportDems/statuses...</td>\n",
       "      <td>From the moment Trump was sworn in, we've been...</td>\n",
       "      <td>Twitter for iPhone</td>\n",
       "      <td>NaN</td>\n",
       "      <td>0.033333</td>\n",
       "    </tr>\n",
       "  </tbody>\n",
       "</table>\n",
       "<p>2775 rows × 9 columns</p>\n",
       "</div>"
      ],
      "text/plain": [
       "                                      id     screen_name              user_id  \\\n",
       "time                                                                            \n",
       "2020-01-10 00:00:00  1215423004861063168  cindyhydesmith            262192574   \n",
       "2020-01-10 00:00:00  1215423003678216192   RepGregSteube  1083125649609506816   \n",
       "2020-01-10 00:00:00  1215423006006226944     RepThompson            303861808   \n",
       "2020-01-10 00:00:00  1215423004353626112   HurdOnTheHill           2963445730   \n",
       "2020-01-10 00:00:15  1215423066240638976    RepBobbyRush            305216911   \n",
       "...                                  ...             ...                  ...   \n",
       "2020-01-10 23:57:00  1215784637420584960   RepDeSaulnier           2968007206   \n",
       "2020-01-10 23:57:43  1215784817519988736   SenGaryPeters            236511574   \n",
       "2020-01-10 23:58:52  1215785105718943744       RepEdCase  1081350574589833216   \n",
       "2020-01-10 23:59:11  1215785186794844160     RepPressley  1080584229510172672   \n",
       "2020-01-10 23:59:31  1215785272706785280   TransportDems             21684013   \n",
       "\n",
       "                                          time  \\\n",
       "time                                             \n",
       "2020-01-10 00:00:00  2020-01-09T19:00:00-05:00   \n",
       "2020-01-10 00:00:00  2020-01-09T19:00:00-05:00   \n",
       "2020-01-10 00:00:00  2020-01-09T19:00:00-05:00   \n",
       "2020-01-10 00:00:00  2020-01-09T19:00:00-05:00   \n",
       "2020-01-10 00:00:15  2020-01-09T19:00:15-05:00   \n",
       "...                                        ...   \n",
       "2020-01-10 23:57:00  2020-01-10T18:57:00-05:00   \n",
       "2020-01-10 23:57:43  2020-01-10T18:57:43-05:00   \n",
       "2020-01-10 23:58:52  2020-01-10T18:58:52-05:00   \n",
       "2020-01-10 23:59:11  2020-01-10T18:59:11-05:00   \n",
       "2020-01-10 23:59:31  2020-01-10T18:59:31-05:00   \n",
       "\n",
       "                                                                  link  \\\n",
       "time                                                                     \n",
       "2020-01-10 00:00:00  https://www.twitter.com/cindyhydesmith/statuse...   \n",
       "2020-01-10 00:00:00  https://www.twitter.com/RepGregSteube/statuses...   \n",
       "2020-01-10 00:00:00  https://www.twitter.com/RepThompson/statuses/1...   \n",
       "2020-01-10 00:00:00  https://www.twitter.com/HurdOnTheHill/statuses...   \n",
       "2020-01-10 00:00:15  https://www.twitter.com/RepBobbyRush/statuses/...   \n",
       "...                                                                ...   \n",
       "2020-01-10 23:57:00  https://www.twitter.com/RepDeSaulnier/statuses...   \n",
       "2020-01-10 23:57:43  https://www.twitter.com/SenGaryPeters/statuses...   \n",
       "2020-01-10 23:58:52  https://www.twitter.com/RepEdCase/statuses/121...   \n",
       "2020-01-10 23:59:11  https://www.twitter.com/RepPressley/statuses/1...   \n",
       "2020-01-10 23:59:31  https://www.twitter.com/TransportDems/statuses...   \n",
       "\n",
       "                                                                  text  \\\n",
       "time                                                                     \n",
       "2020-01-10 00:00:00  To all of the men and women who put their live...   \n",
       "2020-01-10 00:00:00  I’m proud to see such a strong stand against a...   \n",
       "2020-01-10 00:00:00  Excited to announce I have a new and improved ...   \n",
       "2020-01-10 00:00:00  Joined my colleagues in passing bipartisan #sm...   \n",
       "2020-01-10 00:00:15  Today, this House of Representatives reaffirms...   \n",
       "...                                                                ...   \n",
       "2020-01-10 23:57:00  Join @RepThompson and I on January 23rd at Alh...   \n",
       "2020-01-10 23:57:43  Colleen and I are mourning the loss of Jack Fa...   \n",
       "2020-01-10 23:58:52  Here’s my January 2020 Congressional Enewslett...   \n",
       "2020-01-10 23:59:11  .@Ilhan: “When @RepPressley says those closest...   \n",
       "2020-01-10 23:59:31  From the moment Trump was sworn in, we've been...   \n",
       "\n",
       "                                 source party  polarity  \n",
       "time                                                     \n",
       "2020-01-10 00:00:00           TweetDeck     R  0.000000  \n",
       "2020-01-10 00:00:00           TweetDeck     U  0.229167  \n",
       "2020-01-10 00:00:00           TweetDeck     D  0.378788  \n",
       "2020-01-10 00:00:00           TweetDeck     U  0.125000  \n",
       "2020-01-10 00:00:15     Twitter Web App     U -0.083333  \n",
       "...                                 ...   ...       ...  \n",
       "2020-01-10 23:57:00     Twitter Web App     U  0.160000  \n",
       "2020-01-10 23:57:43  Twitter for iPhone     U  0.200000  \n",
       "2020-01-10 23:58:52  Twitter for iPhone     U  0.250000  \n",
       "2020-01-10 23:59:11  Twitter for iPhone     U -0.200000  \n",
       "2020-01-10 23:59:31  Twitter for iPhone   NaN  0.033333  \n",
       "\n",
       "[2775 rows x 9 columns]"
      ]
     },
     "execution_count": 33,
     "metadata": {},
     "output_type": "execute_result"
    }
   ],
   "source": [
    "twitter_data.loc['2020-01-10']"
   ]
  },
  {
   "cell_type": "code",
   "execution_count": 34,
   "metadata": {},
   "outputs": [],
   "source": [
    "# write to pickle\n",
    "with open(r'data\\processed_twitter_data.pickle', 'wb') as pfile:\n",
    "    pickle.dump(twitter_data_rel, pfile)\n",
    "\n",
    "# load pickle to skip previous time consuming steps\n",
    "with open(r'data\\processed_twitter_data.pickle', 'rb') as pfile:\n",
    "    twitter_data_rel = pickle.load(pfile)"
   ]
  },
  {
   "cell_type": "code",
   "execution_count": 35,
   "metadata": {},
   "outputs": [
    {
     "name": "stderr",
     "output_type": "stream",
     "text": [
      "C:\\Users\\Petra Izeboud\\AppData\\Local\\Temp\\ipykernel_28420\\2471854457.py:7: FutureWarning: The default value of numeric_only in DataFrameGroupBy.mean is deprecated. In a future version, numeric_only will default to False. Either specify numeric_only or select only columns which should be valid for the function.\n",
      "  twitter_data_d_daily_average = twitter_data_d.resample('D').mean()\n",
      "C:\\Users\\Petra Izeboud\\AppData\\Local\\Temp\\ipykernel_28420\\2471854457.py:8: FutureWarning: The default value of numeric_only in DataFrameGroupBy.mean is deprecated. In a future version, numeric_only will default to False. Either specify numeric_only or select only columns which should be valid for the function.\n",
      "  twitter_data_r_daily_average = twitter_data_r.resample('D').mean()\n"
     ]
    }
   ],
   "source": [
    "# get daily average of the polarity per party (decomcrat or republican)\n",
    "twitter_data_d = twitter_data_rel[twitter_data_rel.party=='D']\n",
    "twitter_data_r = twitter_data_rel[twitter_data_rel.party=='R']\n",
    "\n",
    "#Note, in de lines below the 'D' stands for daily instead of 'democrat'. \n",
    "#This does not improve readibility, but ah well. \n",
    "twitter_data_d_daily_average = twitter_data_d.resample('D').mean()\n",
    "twitter_data_r_daily_average = twitter_data_r.resample('D').mean()"
   ]
  },
  {
   "cell_type": "code",
   "execution_count": 36,
   "metadata": {
    "scrolled": true
   },
   "outputs": [
    {
     "name": "stderr",
     "output_type": "stream",
     "text": [
      "C:\\Users\\Petra Izeboud\\AppData\\Local\\Temp\\ipykernel_28420\\933064107.py:6: FutureWarning: The default value of numeric_only in DataFrameGroupBy.quantile is deprecated. In a future version, numeric_only will default to False. Either specify numeric_only or select only columns which should be valid for the function.\n",
      "  twitter_data_d_daily_upper = twitter_data_d.resample('D').quantile(upper_percentile/100)['polarity']\n",
      "C:\\Users\\Petra Izeboud\\AppData\\Local\\Temp\\ipykernel_28420\\933064107.py:7: FutureWarning: The default value of numeric_only in DataFrameGroupBy.quantile is deprecated. In a future version, numeric_only will default to False. Either specify numeric_only or select only columns which should be valid for the function.\n",
      "  twitter_data_d_daily_lower = twitter_data_d.resample('D').quantile(lower_percentile/100)['polarity']\n",
      "C:\\Users\\Petra Izeboud\\AppData\\Local\\Temp\\ipykernel_28420\\933064107.py:8: FutureWarning: The default value of numeric_only in DataFrameGroupBy.quantile is deprecated. In a future version, numeric_only will default to False. Either specify numeric_only or select only columns which should be valid for the function.\n",
      "  twitter_data_r_daily_upper = twitter_data_r.resample('D').quantile(upper_percentile/100)['polarity']\n",
      "C:\\Users\\Petra Izeboud\\AppData\\Local\\Temp\\ipykernel_28420\\933064107.py:9: FutureWarning: The default value of numeric_only in DataFrameGroupBy.quantile is deprecated. In a future version, numeric_only will default to False. Either specify numeric_only or select only columns which should be valid for the function.\n",
      "  twitter_data_r_daily_lower = twitter_data_r.resample('D').quantile(lower_percentile/100)['polarity']\n"
     ]
    }
   ],
   "source": [
    "# get bandwidth 0f the polarity per party daily ('D') (decomcrat or republican)\n",
    "upper_percentile = 90\n",
    "lower_percentile = 10\n",
    "\n",
    "#With apply we do the operation per row of echt dataframe\n",
    "twitter_data_d_daily_upper = twitter_data_d.resample('D').quantile(upper_percentile/100)['polarity']\n",
    "twitter_data_d_daily_lower = twitter_data_d.resample('D').quantile(lower_percentile/100)['polarity']\n",
    "twitter_data_r_daily_upper = twitter_data_r.resample('D').quantile(upper_percentile/100)['polarity']\n",
    "twitter_data_r_daily_lower = twitter_data_r.resample('D').quantile(lower_percentile/100)['polarity']"
   ]
  },
  {
   "cell_type": "markdown",
   "metadata": {},
   "source": [
    "## 6. plot results<a class=\"anchor\" id=\"6\"></a>"
   ]
  },
  {
   "cell_type": "code",
   "execution_count": 37,
   "metadata": {
    "scrolled": true
   },
   "outputs": [
    {
     "name": "stdout",
     "output_type": "stream",
     "text": [
      "minimum\n",
      "lowest, average polarity of twitter users: -0.50\n",
      "twitter user with lowest average polarity: JimPressOffice\n",
      "number of tweets by JimPressOffice : 1\n",
      "\n",
      "maximum\n",
      "maximum, average polarity of twitter users: 1.00\n",
      "twitter user with maximum average polarity: latta4congress\n",
      "number of tweets by latta4congress : 1\n"
     ]
    },
    {
     "name": "stderr",
     "output_type": "stream",
     "text": [
      "C:\\Users\\Petra Izeboud\\AppData\\Local\\Temp\\ipykernel_28420\\990891772.py:2: FutureWarning: The default value of numeric_only in DataFrameGroupBy.mean is deprecated. In a future version, numeric_only will default to False. Either specify numeric_only or select only columns which should be valid for the function.\n",
      "  df = twitter_data_rel.groupby(['screen_name']).mean()\n"
     ]
    }
   ],
   "source": [
    "#First lets get some statistics \n",
    "df = twitter_data_rel.groupby(['screen_name']).mean()\n",
    "\n",
    "low_ave_pol = df.polarity.min()\n",
    "user_low_ave_pol = df[df.polarity==low_ave_pol].index[0]\n",
    "no_tweets_user = (twitter_data_rel.screen_name==user_low_ave_pol).sum()\n",
    "print('minimum')\n",
    "print('lowest, average polarity of twitter users: %.2f'%low_ave_pol)\n",
    "print('twitter user with lowest average polarity: %s'%user_low_ave_pol)\n",
    "print(\"number of tweets by %s : %i\"%(user_low_ave_pol, no_tweets_user))\n",
    "print('\\nmaximum')\n",
    "max_ave_pol = df.polarity.max()\n",
    "user_max_ave_pol = df[df.polarity==max_ave_pol].index[0]\n",
    "no_tweets_user = (twitter_data_rel.screen_name==user_max_ave_pol).sum()\n",
    "print('maximum, average polarity of twitter users: %.2f'%max_ave_pol)\n",
    "print('twitter user with maximum average polarity: %s'%user_max_ave_pol)\n",
    "print(\"number of tweets by %s : %i\"%(user_max_ave_pol, no_tweets_user))"
   ]
  },
  {
   "cell_type": "code",
   "execution_count": 38,
   "metadata": {},
   "outputs": [],
   "source": [
    "# annotation of these values in our plot\n",
    "def add_annotation(ax, day, twitter_data_daily_average, \n",
    "                   connectionstyle, text, x_dis=-20, y_dis=0.3, facecolor='green', linewidth=None,\n",
    "                   edgecolor=None):\n",
    "    '''\n",
    "    '''\n",
    "    pol_day_party = twitter_data_daily_average[day:day]['polarity'].values[0]\n",
    "    ax.annotate(text, \n",
    "                xy=(day, pol_day_party), \n",
    "                xytext=(day+dt.timedelta(x_dis), pol_day_party+y_dis), \n",
    "                fontsize=12,\n",
    "                arrowprops=dict(arrowstyle=\"fancy\", \n",
    "                                facecolor=facecolor, \n",
    "                                edgecolor=edgecolor ,\n",
    "                                lw=linewidth,\n",
    "                                connectionstyle=connectionstyle))\n",
    "    return ax"
   ]
  },
  {
   "cell_type": "code",
   "execution_count": 39,
   "metadata": {},
   "outputs": [
    {
     "data": {
      "text/html": [
       "<div>\n",
       "<style scoped>\n",
       "    .dataframe tbody tr th:only-of-type {\n",
       "        vertical-align: middle;\n",
       "    }\n",
       "\n",
       "    .dataframe tbody tr th {\n",
       "        vertical-align: top;\n",
       "    }\n",
       "\n",
       "    .dataframe thead th {\n",
       "        text-align: right;\n",
       "    }\n",
       "</style>\n",
       "<table border=\"1\" class=\"dataframe\">\n",
       "  <thead>\n",
       "    <tr style=\"text-align: right;\">\n",
       "      <th></th>\n",
       "      <th>screen_name</th>\n",
       "      <th>party</th>\n",
       "      <th>polarity</th>\n",
       "    </tr>\n",
       "    <tr>\n",
       "      <th>time</th>\n",
       "      <th></th>\n",
       "      <th></th>\n",
       "      <th></th>\n",
       "    </tr>\n",
       "  </thead>\n",
       "  <tbody>\n",
       "    <tr>\n",
       "      <th>2020-01-02 00:00:00</th>\n",
       "      <td>JoshHarder</td>\n",
       "      <td>D</td>\n",
       "      <td>0.000000</td>\n",
       "    </tr>\n",
       "    <tr>\n",
       "      <th>2020-01-02 00:01:08</th>\n",
       "      <td>Castro4Congress</td>\n",
       "      <td>U</td>\n",
       "      <td>0.500000</td>\n",
       "    </tr>\n",
       "    <tr>\n",
       "      <th>2020-01-02 00:01:37</th>\n",
       "      <td>Castro4Congress</td>\n",
       "      <td>U</td>\n",
       "      <td>0.100000</td>\n",
       "    </tr>\n",
       "    <tr>\n",
       "      <th>2020-01-02 00:04:17</th>\n",
       "      <td>RepEspaillat</td>\n",
       "      <td>U</td>\n",
       "      <td>-0.225000</td>\n",
       "    </tr>\n",
       "    <tr>\n",
       "      <th>2020-01-02 00:04:20</th>\n",
       "      <td>RepRatcliffe</td>\n",
       "      <td>U</td>\n",
       "      <td>0.087500</td>\n",
       "    </tr>\n",
       "    <tr>\n",
       "      <th>...</th>\n",
       "      <td>...</td>\n",
       "      <td>...</td>\n",
       "      <td>...</td>\n",
       "    </tr>\n",
       "    <tr>\n",
       "      <th>2020-01-02 23:58:41</th>\n",
       "      <td>RepLeeZeldin</td>\n",
       "      <td>U</td>\n",
       "      <td>-0.333333</td>\n",
       "    </tr>\n",
       "    <tr>\n",
       "      <th>2020-01-02 23:58:54</th>\n",
       "      <td>ScottPetersSD</td>\n",
       "      <td>D</td>\n",
       "      <td>0.277841</td>\n",
       "    </tr>\n",
       "    <tr>\n",
       "      <th>2020-01-02 23:59:00</th>\n",
       "      <td>RepGilCisneros</td>\n",
       "      <td>D</td>\n",
       "      <td>0.200000</td>\n",
       "    </tr>\n",
       "    <tr>\n",
       "      <th>2020-01-02 23:59:03</th>\n",
       "      <td>RepGallagher</td>\n",
       "      <td>U</td>\n",
       "      <td>0.327273</td>\n",
       "    </tr>\n",
       "    <tr>\n",
       "      <th>2020-01-02 23:59:17</th>\n",
       "      <td>SenRickScott</td>\n",
       "      <td>R</td>\n",
       "      <td>0.246591</td>\n",
       "    </tr>\n",
       "  </tbody>\n",
       "</table>\n",
       "<p>1289 rows × 3 columns</p>\n",
       "</div>"
      ],
      "text/plain": [
       "                         screen_name party  polarity\n",
       "time                                                \n",
       "2020-01-02 00:00:00       JoshHarder     D  0.000000\n",
       "2020-01-02 00:01:08  Castro4Congress     U  0.500000\n",
       "2020-01-02 00:01:37  Castro4Congress     U  0.100000\n",
       "2020-01-02 00:04:17     RepEspaillat     U -0.225000\n",
       "2020-01-02 00:04:20     RepRatcliffe     U  0.087500\n",
       "...                              ...   ...       ...\n",
       "2020-01-02 23:58:41     RepLeeZeldin     U -0.333333\n",
       "2020-01-02 23:58:54    ScottPetersSD     D  0.277841\n",
       "2020-01-02 23:59:00   RepGilCisneros     D  0.200000\n",
       "2020-01-02 23:59:03     RepGallagher     U  0.327273\n",
       "2020-01-02 23:59:17     SenRickScott     R  0.246591\n",
       "\n",
       "[1289 rows x 3 columns]"
      ]
     },
     "execution_count": 39,
     "metadata": {},
     "output_type": "execute_result"
    }
   ],
   "source": [
    "twitter_data_rel.loc['2020-01-02']"
   ]
  },
  {
   "cell_type": "code",
   "execution_count": 40,
   "metadata": {
    "scrolled": false
   },
   "outputs": [
    {
     "name": "stderr",
     "output_type": "stream",
     "text": [
      "C:\\Users\\Petra Izeboud\\AppData\\Local\\Temp\\ipykernel_28420\\1278840631.py:23: FutureWarning: The default value of numeric_only in DataFrameGroupBy.mean is deprecated. In a future version, numeric_only will default to False. Either specify numeric_only or select only columns which should be valid for the function.\n",
      "  chart_2 = twitter_data_rel.groupby(['party_mod']).mean()\n"
     ]
    },
    {
     "data": {
      "text/html": [
       "<div>\n",
       "<style scoped>\n",
       "    .dataframe tbody tr th:only-of-type {\n",
       "        vertical-align: middle;\n",
       "    }\n",
       "\n",
       "    .dataframe tbody tr th {\n",
       "        vertical-align: top;\n",
       "    }\n",
       "\n",
       "    .dataframe thead th {\n",
       "        text-align: right;\n",
       "    }\n",
       "</style>\n",
       "<table border=\"1\" class=\"dataframe\">\n",
       "  <thead>\n",
       "    <tr style=\"text-align: right;\">\n",
       "      <th></th>\n",
       "      <th>polarity</th>\n",
       "    </tr>\n",
       "    <tr>\n",
       "      <th>party_mod</th>\n",
       "      <th></th>\n",
       "    </tr>\n",
       "  </thead>\n",
       "  <tbody>\n",
       "    <tr>\n",
       "      <th>Democrat</th>\n",
       "      <td>0.123038</td>\n",
       "    </tr>\n",
       "    <tr>\n",
       "      <th>Republican</th>\n",
       "      <td>0.145325</td>\n",
       "    </tr>\n",
       "    <tr>\n",
       "      <th>Other</th>\n",
       "      <td>0.135987</td>\n",
       "    </tr>\n",
       "    <tr>\n",
       "      <th>Total</th>\n",
       "      <td>0.134045</td>\n",
       "    </tr>\n",
       "  </tbody>\n",
       "</table>\n",
       "</div>"
      ],
      "text/plain": [
       "            polarity\n",
       "party_mod           \n",
       "Democrat    0.123038\n",
       "Republican  0.145325\n",
       "Other       0.135987\n",
       "Total       0.134045"
      ]
     },
     "execution_count": 40,
     "metadata": {},
     "output_type": "execute_result"
    },
    {
     "data": {
      "image/png": "[encoded data removed]",
      "text/plain": [
       "<Figure size 1000x400 with 2 Axes>"
      ]
     },
     "metadata": {},
     "output_type": "display_data"
    }
   ],
   "source": [
    "twitter_data_rel.loc[:,'party_mod'] = twitter_data_rel['party']\n",
    "twitter_data_rel.loc[~twitter_data_rel['party_mod'].isin(['R','D']), 'party_mod'] = 'Other'\n",
    "twitter_data_rel.loc[twitter_data_rel['party_mod']=='R', 'party_mod'] = 'Republican'\n",
    "twitter_data_rel.loc[twitter_data_rel['party_mod']=='D', 'party_mod'] = 'Democrat'\n",
    "\n",
    "plt.rcParams.update({'font.size': 16})\n",
    "#plt.xticks(rotation=45)\n",
    "\n",
    "fig, axs = plt.subplots(1, 2, figsize=(10,4))\n",
    "\n",
    "\n",
    "chart_1 = twitter_data_rel.groupby([twitter_data_rel.party_mod]).count()\n",
    "total = sum(chart_1['party'])\n",
    "ax1, ax2  = axs[0], axs[1]\n",
    "# ax3, ax4 = axs[1, 0], axs[1, 1]\n",
    "ax1.pie(chart_1['party'].values, labels=chart_1['party'].index,  \n",
    "        autopct=lambda p: '{:,.0f}'.format(p * total / 100), #explode=[ 0.05, 0.05, 0.05] ,\n",
    "        shadow=True, startangle=90, textprops={'fontsize': 14})\n",
    "\n",
    "ax1.set_title('number of tweets', fontsize=18)\n",
    "ax1.axis('equal')\n",
    "\n",
    "chart_2 = twitter_data_rel.groupby(['party_mod']).mean()\n",
    "chart_2 = chart_2.reindex(['Democrat', 'Republican', 'Other'])\n",
    "chart_2.loc['Total']= twitter_data_rel.polarity.mean()\n",
    "\n",
    "\n",
    "ax2.bar([ 0, 1, 2, 3], chart_2.values[:,0])\n",
    "\n",
    "ax2.set_xticks(np.arange(-0, 4, 1))\n",
    "ax2.set_xticklabels(chart_2.index.values, rotation=90)\n",
    "\n",
    "\n",
    "ax2.tick_params(axis='x', which='major', labelsize=16)\n",
    "\n",
    "ax2.set_yticks(np.arange(0,0.25,0.05))\n",
    "ax2.tick_params(axis='y', which='major', labelsize=12)\n",
    "\n",
    "ax2.patch.set_facecolor('none')\n",
    "ax2.set_title('average sentiment', fontsize=18);\n",
    "plt.subplots_adjust(wspace=0.3)\n",
    "fig.savefig(r'figures/pie_bar_charts.png', bbox_inches='tight')\n",
    "\n",
    "chart_2"
   ]
  },
  {
   "cell_type": "code",
   "execution_count": 41,
   "metadata": {
    "scrolled": false
   },
   "outputs": [
    {
     "data": {
      "image/png": "[encoded data removed]",
      "text/plain": [
       "<Figure size 1600x581.818 with 1 Axes>"
      ]
     },
     "metadata": {},
     "output_type": "display_data"
    }
   ],
   "source": [
    "# plot\n",
    "fig = plt.figure(figsize=(16,16/2.75))\n",
    "ax = plt.subplot()\n",
    "\n",
    "# plot average\n",
    "twitter_data_d_daily_average.polarity.plot(ax=ax, linestyle=None, marker='.', color='blue', label='Democrats')\n",
    "twitter_data_r_daily_average.polarity.plot(ax=ax, linestyle=None, marker='.', color='red', label='Republicans')\n",
    "\n",
    "# plot bandwidth\n",
    "ax.fill_between(twitter_data_d_daily_upper.index, twitter_data_d_daily_lower.values, \n",
    "                twitter_data_d_daily_upper.values, facecolor='blue', alpha=0.1)\n",
    "ax.fill_between(twitter_data_r_daily_upper.index, twitter_data_r_daily_lower.values, \n",
    "                twitter_data_r_daily_upper.values, facecolor='red', alpha=0.1)\n",
    "\n",
    "\n",
    "# add arrow to some peaks\n",
    "# ax = add_annotation(ax, dt.datetime(2020,2,17), twitter_data_r_daily_average, \"angle3,angleA=90,angleB=0\",\n",
    "#                     \"President's day\", x_dis=-22)\n",
    "\n",
    "# ax = add_annotation(ax, dt.datetime(2020,4,12), twitter_data_r_daily_average, \"arc3,rad=-0.3\",\n",
    "#                     \"Easter\", x_dis=-22, facecolor='blue')\n",
    "\n",
    "# ax = add_annotation(ax, dt.datetime(2020,5,10), twitter_data_r_daily_average, \"arc3,rad=-0.3\",\n",
    "#                     \"mother's day\", x_dis=-25, facecolor='magenta')\n",
    "\n",
    "# ax = add_annotation(ax, dt.datetime(2020,6,21), twitter_data_r_daily_average, \"arc3,rad=-0.3\",\n",
    "#                     \"father's day\", x_dis=-12, facecolor='yellow')\n",
    "\n",
    "# ax = add_annotation(ax, dt.datetime(2020,7,4), twitter_data_r_daily_average, \"arc3,rad=-0.2\",\n",
    "#                     \"independence day\", x_dis=2 , facecolor='red', edgecolor='blue', linewidth=1)\n",
    "\n",
    "# ax = add_annotation(ax, dt.datetime(2020,6,14), twitter_data_r_daily_average, \"arc3,rad=-0.2\",\n",
    "#                     \"birthday\\n Trump\", x_dis=-30 , facecolor='red', edgecolor='red', linewidth=1)\n",
    "\n",
    "# format axes\n",
    "ax.set_ylim(-0.5,1.0)\n",
    "ax.set_xlabel('')\n",
    "ax.set_ylabel('sentiment of tweets', fontsize=12)\n",
    "ax.set_yticklabels([])\n",
    "\n",
    "ax.set_xlim(start_date, twitter_data_d_daily_average.index.max())\n",
    "xmin, xmax = ax.get_xlim()\n",
    "ymin, ymax = ax.get_ylim()\n",
    "\n",
    "ax.text(xmin-5, ymax-0.3, r'positive $\\longrightarrow$', rotation=90, fontsize=12)\n",
    "ax.text(xmin-5, ymin, r'$\\longleftarrow$ negative', rotation=90, fontsize=12)\n",
    "\n",
    "# format legend\n",
    "box = ax.get_position()\n",
    "ax.set_position([box.x0, box.y0 + box.height * 0.1,\n",
    "                 box.width, box.height * 0.9])\n",
    "\n",
    "\n",
    "# Put a legend below current axis\n",
    "leg = ax.legend(loc='upper center', bbox_to_anchor=(0.5, -0.08),\n",
    "                frameon=True, facecolor='white', edgecolor='black', shadow=True, ncol=5)\n",
    "\n",
    "ax.set_title('Twitter analysis US congress')\n",
    "\n",
    "fig.savefig(r'figures\\twitter_analysis_US_congress.png', dpi=300, bbox_inches='tight')"
   ]
  }
 ],
 "metadata": {
  "kernelspec": {
   "display_name": "Python 3 (ipykernel)",
   "language": "python",
   "name": "python3"
  },
  "language_info": {
   "codemirror_mode": {
    "name": "ipython",
    "version": 3
   },
   "file_extension": ".py",
   "mimetype": "text/x-python",
   "name": "python",
   "nbconvert_exporter": "python",
   "pygments_lexer": "ipython3",
   "version": "3.10.6"
  }
 },
 "nbformat": 4,
 "nbformat_minor": 2
}
