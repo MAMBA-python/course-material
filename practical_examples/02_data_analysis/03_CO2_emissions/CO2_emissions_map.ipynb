{
 "cells": [
  {
   "cell_type": "markdown",
   "metadata": {},
   "source": [
    "<figure>\n",
    "   <IMG SRC=\"https://mamba-python.nl/images/logo_basis.png\" WIDTH=125 ALIGN=\"right\">\n",
    "   \n",
    "</figure>\n",
    "\n",
    "# CO2 uitstoot per land visualiseren\n",
    "\n",
    "<br>\n",
    "\n",
    "Doel:\n",
    "- inzicht krijgen in de CO2 uitstoot per land.\n",
    "\n",
    "stappen:\n",
    "1. inlezen data\n",
    "2. combineren van data\n",
    "3. visualiseren van data\n",
    "\n",
    "Gegevens:\n",
    "- CO2 uitstoot per hoofd van de bevolking\n",
    "- inwoners per lan\n",
    "- shapefile van landen\n",
    "\n"
   ]
  },
  {
   "cell_type": "markdown",
   "metadata": {},
   "source": [
    "table of content:<a class=\"anchor\" id=\"0\"></a>\n",
    "1. [import files](#1)\n",
    "2. [read data](#2)\n",
    "3. [combine data](#3)\n",
    "4. [visualise data](#4)\n"
   ]
  },
  {
   "cell_type": "markdown",
   "metadata": {},
   "source": [
    "[back to TOC](#0)\n",
    "## 1. import files<a class=\"anchor\" id=\"1\"></a>"
   ]
  },
  {
   "cell_type": "code",
   "execution_count": null,
   "metadata": {},
   "outputs": [],
   "source": [
    "import matplotlib.pyplot as plt\n",
    "import os\n",
    "import pandas as pd\n",
    "import geopandas as gpd"
   ]
  },
  {
   "cell_type": "code",
   "execution_count": null,
   "metadata": {},
   "outputs": [],
   "source": [
    "#settings\n",
    "%matplotlib inline\n",
    "plt.style.use('default')"
   ]
  },
  {
   "cell_type": "markdown",
   "metadata": {},
   "source": [
    "[back to TOC](#0)\n",
    "\n",
    "## 2. read data <a class=\"anchor\" id=\"2\"></a>"
   ]
  },
  {
   "cell_type": "code",
   "execution_count": null,
   "metadata": {},
   "outputs": [],
   "source": [
    "df_co2 = pd.read_excel(r'data\\co2_emissions_tonnes_per_person.xlsx', index_col=0)\n",
    "df_inwoners = pd.read_excel(r'data\\population_total.xlsx', index_col=0)\n",
    "shp_inwoners = gpd.GeoDataFrame.from_file(r'data\\World_Countries.shp')"
   ]
  },
  {
   "cell_type": "code",
   "execution_count": null,
   "metadata": {},
   "outputs": [],
   "source": [
    "df_co2.head()"
   ]
  },
  {
   "cell_type": "code",
   "execution_count": null,
   "metadata": {},
   "outputs": [],
   "source": [
    "df_inwoners.head()"
   ]
  },
  {
   "cell_type": "code",
   "execution_count": null,
   "metadata": {},
   "outputs": [],
   "source": [
    "shp_inwoners.head()"
   ]
  },
  {
   "cell_type": "markdown",
   "metadata": {},
   "source": [
    "[back to TOC](#0)\n",
    "\n",
    "## 3. combine data<a class=\"anchor\" id=\"3\"></a>\n",
    "\n",
    "- use concat to combine dataframes\n",
    "- use merge to combine shapefiles with dataframe\n",
    "- check if combining went well with `.head()`, `.tail()`, `index.isin()` & `info()`"
   ]
  },
  {
   "cell_type": "code",
   "execution_count": null,
   "metadata": {},
   "outputs": [],
   "source": [
    "inw_2014 = df_inwoners[[2014]]\n",
    "co2_2014 = df_co2[[2014]]"
   ]
  },
  {
   "cell_type": "code",
   "execution_count": null,
   "metadata": {},
   "outputs": [],
   "source": [
    "co2_2014['inwoners'] = inw_2014"
   ]
  },
  {
   "cell_type": "code",
   "execution_count": null,
   "metadata": {},
   "outputs": [],
   "source": [
    "inw_2014.tail()"
   ]
  },
  {
   "cell_type": "code",
   "execution_count": null,
   "metadata": {},
   "outputs": [],
   "source": [
    "inw_2014.index[~inw_2014.index.isin(co2_2014.index)]"
   ]
  },
  {
   "cell_type": "code",
   "execution_count": null,
   "metadata": {},
   "outputs": [],
   "source": [
    "co2_2014.tail()"
   ]
  },
  {
   "cell_type": "code",
   "execution_count": null,
   "metadata": {
    "scrolled": true
   },
   "outputs": [],
   "source": [
    "inw_2014.head()"
   ]
  },
  {
   "cell_type": "code",
   "execution_count": null,
   "metadata": {},
   "outputs": [],
   "source": [
    "co2_2014.head()"
   ]
  },
  {
   "cell_type": "code",
   "execution_count": null,
   "metadata": {},
   "outputs": [],
   "source": [
    "inw_2014.info()"
   ]
  },
  {
   "cell_type": "code",
   "execution_count": null,
   "metadata": {},
   "outputs": [],
   "source": [
    "co2_2014.info()"
   ]
  },
  {
   "cell_type": "code",
   "execution_count": null,
   "metadata": {},
   "outputs": [],
   "source": [
    "shp_co2 = pd.merge(shp_inwoners, co2_2014, left_on = 'COUNTRY', right_index=True, how = 'left')"
   ]
  },
  {
   "cell_type": "code",
   "execution_count": null,
   "metadata": {},
   "outputs": [],
   "source": [
    "inw_2014.index[inw_2014.index.str.startswith('Cong')]"
   ]
  },
  {
   "cell_type": "code",
   "execution_count": null,
   "metadata": {},
   "outputs": [],
   "source": [
    "shp_co2[shp_co2.COUNTRY.str.startswith('Cong')]"
   ]
  },
  {
   "cell_type": "code",
   "execution_count": null,
   "metadata": {},
   "outputs": [],
   "source": [
    "shp_co2.head()"
   ]
  },
  {
   "cell_type": "markdown",
   "metadata": {},
   "source": [
    "[back to TOC](#0)\n",
    "\n",
    "## 4. visualisatie<a class=\"anchor\" id=\"4\"></a>\n",
    "\n",
    "visualiseer de gegevens op de volgende manier:\n",
    "- verwijder alle nan waardes uit het plot\n",
    "- gebruik de `plot` method van een `GeoDataFrame`\n",
    "- zoom in op een bepaald gebied door de `xlim` en de `ylim` aan te passen\n",
    "- maak een berekening op basis van 2 kolommen in pandas"
   ]
  },
  {
   "cell_type": "code",
   "execution_count": null,
   "metadata": {},
   "outputs": [],
   "source": [
    "ax = shp_co2.dropna().plot(column='inwoners', cmap='viridis', legend=True, figsize=(16,6))\n",
    "title = ax.set_title('inwoners per land')"
   ]
  },
  {
   "cell_type": "code",
   "execution_count": null,
   "metadata": {},
   "outputs": [],
   "source": [
    "ax = shp_co2.dropna().plot(column=2014, cmap='viridis', legend=True, figsize=(16,6))\n",
    "title = ax.set_title('co2 uitstoot per persoon per land [ton/persoon]')"
   ]
  },
  {
   "cell_type": "code",
   "execution_count": null,
   "metadata": {},
   "outputs": [],
   "source": [
    "ax = shp_co2.dropna().plot(column=2014, cmap='viridis', legend=True, figsize=(16,6))\n",
    "title = ax.set_title('co2 uitstoot per persoon per land [ton/persoon]')\n",
    "ax.set_xlim(40, 60)\n",
    "ax.set_ylim(0, 40)"
   ]
  },
  {
   "cell_type": "code",
   "execution_count": null,
   "metadata": {},
   "outputs": [],
   "source": [
    "#bereken co2 uitstoot per land\n",
    "shp_co2['co2_per_land'] = shp_co2[2014] * shp_co2['inwoners']"
   ]
  },
  {
   "cell_type": "code",
   "execution_count": null,
   "metadata": {},
   "outputs": [],
   "source": [
    "ax = shp_co2.dropna().plot(column='co2_per_land', cmap='viridis', legend=True, figsize=(16,6))\n",
    "title = ax.set_title('co2 uitstoot per land [ton/land]')"
   ]
  },
  {
   "cell_type": "markdown",
   "metadata": {},
   "source": [
    "[back to TOC](#0)\n",
    "\n",
    "## Acknowledgement <a class=\"anchor\" id=\"4\"></a>"
   ]
  },
  {
   "cell_type": "markdown",
   "metadata": {},
   "source": [
    "This notebook was created using the following sources:\n",
    "\n",
    "- https://population.un.org/wpp/\n",
    "- https://cdiac.ess-dive.lbl.gov/\n",
    "- https://www.gapminder.org\n"
   ]
  }
 ],
 "metadata": {
  "kernelspec": {
   "display_name": "Python 3",
   "language": "python",
   "name": "python3"
  },
  "language_info": {
   "codemirror_mode": {
    "name": "ipython",
    "version": 3
   },
   "file_extension": ".py",
   "mimetype": "text/x-python",
   "name": "python",
   "nbconvert_exporter": "python",
   "pygments_lexer": "ipython3",
   "version": "3.6.8"
  }
 },
 "nbformat": 4,
 "nbformat_minor": 2
}
