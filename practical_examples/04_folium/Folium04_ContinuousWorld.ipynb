{
 "cells": [
  {
   "cell_type": "code",
   "execution_count": null,
   "metadata": {},
   "outputs": [],
   "source": [
    "import os\n",
    "import folium\n",
    "\n",
    "print(folium.__version__)"
   ]
  },
  {
   "cell_type": "markdown",
   "metadata": {},
   "source": [
    "## Defaults"
   ]
  },
  {
   "cell_type": "code",
   "execution_count": null,
   "metadata": {},
   "outputs": [],
   "source": [
    "m = folium.Map(\n",
    "    world_copy_jump=False,\n",
    "    no_wrap=False\n",
    ")\n",
    "\n",
    "folium.Marker(\n",
    "    location=[0, 0],\n",
    "    popup='I will disapear when moved outside the wrapped map domain.'\n",
    ").add_to(m)\n",
    "\n",
    "m.save(os.path.join('results', 'ContinuousWorld_0.html'))\n",
    "\n",
    "m"
   ]
  },
  {
   "cell_type": "markdown",
   "metadata": {},
   "source": [
    "## World copy jump"
   ]
  },
  {
   "cell_type": "code",
   "execution_count": null,
   "metadata": {},
   "outputs": [],
   "source": [
    "m = folium.Map(\n",
    "    world_copy_jump=True,\n",
    "    no_wrap=False\n",
    ")\n",
    "\n",
    "folium.Marker(\n",
    "    location=[0, 0],\n",
    "    popup='I will magically reappear when moved outside the wrapped map domain.'\n",
    ").add_to(m)\n",
    "\n",
    "m.save(os.path.join('results', 'ContinuousWorld_1.html'))\n",
    "\n",
    "m"
   ]
  },
  {
   "cell_type": "markdown",
   "metadata": {},
   "source": [
    "## No wrap"
   ]
  },
  {
   "cell_type": "code",
   "execution_count": null,
   "metadata": {},
   "outputs": [],
   "source": [
    "m = folium.Map(\n",
    "    world_copy_jump=False,\n",
    "    no_wrap=True,\n",
    ")\n",
    "\n",
    "folium.Marker(\n",
    "    location=[0, 0],\n",
    "    popup='The map domain here is not wrapped!'\n",
    ").add_to(m)\n",
    "\n",
    "m.save(os.path.join('results', 'ContinuousWorld_3.html'))\n",
    "\n",
    "m"
   ]
  },
  {
   "cell_type": "code",
   "execution_count": null,
   "metadata": {},
   "outputs": [],
   "source": []
  }
 ],
 "metadata": {},
 "nbformat": 4,
 "nbformat_minor": 1
}
