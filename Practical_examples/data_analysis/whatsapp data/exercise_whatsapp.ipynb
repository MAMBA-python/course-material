{
 "cells": [
  {
   "cell_type": "markdown",
   "metadata": {},
   "source": [
    "\n",
    "<figure>\n",
    "   <IMG SRC=\"https://mamba-python.nl/images/logo_basis.png\" WIDTH=125 ALIGN=\"right\">\n",
    "</figure>\n",
    "\n",
    "\n",
    "\n",
    "# Exercises Whatsapp\n",
    "\n",
    "\n",
    "This notebook contains an exercise with a very commonly used pyton package called pandas. We use this to analyze our whatsapp data. The data was obtained by exporting a single Whatsapp chat. See https://faq.whatsapp.com/en/android/23756533/ to export your own data.\n",
    " You can do this for this excercise if you are interested! If not, there is also an anonymus Whatsapp chat available. \n",
    " \n",
    "<div style=\"text-align: right\"> developed by MAMBA </div>\n",
    " This notebook is part of the Mamba python course. \n",
    "\n",
    "\n",
    "\n"
   ]
  },
  {
   "cell_type": "markdown",
   "metadata": {},
   "source": [
    "table of content:<a class=\"anchor\" id=\"0\"></a>\n",
    "1. [import files](#1)\n",
    "2. [read whatsapp data](#2)\n",
    "3. [anonymize data](#3)\n",
    "4. [Exercises](#4)\n",
    "5. [Answers](#5)"
   ]
  },
  {
   "cell_type": "markdown",
   "metadata": {},
   "source": [
    "## 1. import files<a class=\"anchor\" id=\"1\"></a>"
   ]
  },
  {
   "cell_type": "code",
   "execution_count": 1,
   "metadata": {},
   "outputs": [],
   "source": [
    "import matplotlib.pyplot as plt\n",
    "import pandas as pd\n",
    "import whatsapp_func as wf"
   ]
  },
  {
   "cell_type": "code",
   "execution_count": 2,
   "metadata": {},
   "outputs": [],
   "source": [
    "#settings\n",
    "%matplotlib inline\n",
    "plt.style.use('seaborn')"
   ]
  },
  {
   "cell_type": "markdown",
   "metadata": {},
   "source": [
    "## 2. read whatsapp data <a class=\"anchor\" id=\"2\"></a>\n",
    "Below is the code to read a .zip file with whatsapp chat history. Because of privacy issues I did not include my own zip file with my chat history. But you can use your own! If you prefer not to, you can skip this step and read the anonymised pandas dataframe file in chapter 3. If you <it> are </it> using your own data, you can skip chapter 3 instead. "
   ]
  },
  {
   "cell_type": "code",
   "execution_count": 44,
   "metadata": {},
   "outputs": [],
   "source": [
    "# read whatsapp data (save the zip in the data folder and fill out the full name in the code below)\n",
    "whatsapp_zip = r'data\\WhatsApp Chat - xxx xxx.zip'\n",
    "\n",
    "time_user_df = wf.read_whatsapp(whatsapp_zip)"
   ]
  },
  {
   "cell_type": "markdown",
   "metadata": {},
   "source": [
    "### 2.1 Pandas dataframe\n",
    "\n",
    "We save the data in a pandas dataframe (the time_user_df). A dataframe is an object of the package Pandas, which is one of the most used packages for scientific applications with Python. It is the must-have tool for data analysis. Within Pandas, the dataframe is the most used pandas object. The dataframe gives you a way to order and work with your data. You can think about it as a perfect spreadsheat, a SQL table or a indexed dictionary. In a dataframe there are columns and rows, to which you can optionally pass names.\n",
    "\n",
    "In the excercises below we will work with the Pandas dataframe intuitively. For a more in-depth tutorial, continue after this notebook with the excersise notebook found in on_topic/1_pandas. "
   ]
  },
  {
   "cell_type": "markdown",
   "metadata": {},
   "source": [
    "## 3. anonymous data <a class=\"anchor\" id=\"2\"></a>\n",
    "This chapter is only necessary if you want to save your data as anonymous data or if you want to use the anonymized dataset (`_chat_df.csv`) for analysis. Uncomment the code lines that you want to use."
   ]
  },
  {
   "cell_type": "code",
   "execution_count": 36,
   "metadata": {},
   "outputs": [],
   "source": [
    "## save anonymized dataframe\n",
    "\n",
    "# time_user_df[['user','message']].to_csv(r'data\\_chat_df.csv')"
   ]
  },
  {
   "cell_type": "code",
   "execution_count": 37,
   "metadata": {
    "scrolled": true
   },
   "outputs": [],
   "source": [
    "## read anonymized dataframe\n",
    "\n",
    "# time_user_df = pd.read_csv(r'data\\_chat_df.csv', index_col=0, parse_dates=True)\n",
    "# time_user_df.head()"
   ]
  },
  {
   "cell_type": "markdown",
   "metadata": {},
   "source": [
    "## 4. Exercises<a class=\"anchor\" id=\"4\"></a>\n",
    "\n",
    "Note: Below are exercises to get you started with data analysis. If, at any time, you come up with your own idea for analysis or visualisation, that's awesome and please try to make it work and show us. This is the best way to learn how to do data analysis in Python. Use Google, Stackoverflow, Pandas documentation to find out how to do things. "
   ]
  },
  {
   "cell_type": "markdown",
   "metadata": {},
   "source": [
    "You can print the first 5 lines of your dataframe using the `head()` method."
   ]
  },
  {
   "cell_type": "code",
   "execution_count": 45,
   "metadata": {},
   "outputs": [
    {
     "data": {
      "text/html": [
       "<div>\n",
       "<style scoped>\n",
       "    .dataframe tbody tr th:only-of-type {\n",
       "        vertical-align: middle;\n",
       "    }\n",
       "\n",
       "    .dataframe tbody tr th {\n",
       "        vertical-align: top;\n",
       "    }\n",
       "\n",
       "    .dataframe thead th {\n",
       "        text-align: right;\n",
       "    }\n",
       "</style>\n",
       "<table border=\"1\" class=\"dataframe\">\n",
       "  <thead>\n",
       "    <tr style=\"text-align: right;\">\n",
       "      <th></th>\n",
       "      <th>user</th>\n",
       "      <th>text</th>\n",
       "      <th>message</th>\n",
       "    </tr>\n",
       "  </thead>\n",
       "  <tbody>\n",
       "    <tr>\n",
       "      <th>2018-03-22 12:18:07</th>\n",
       "      <td>user1</td>\n",
       "      <td>Nee voor de gemeenteraad is alleen per lijst ...</td>\n",
       "      <td>1</td>\n",
       "    </tr>\n",
       "    <tr>\n",
       "      <th>2018-03-22 12:18:19</th>\n",
       "      <td>user1</td>\n",
       "      <td>Ze gaan nu in Ahoy per kandidaat tellen</td>\n",
       "      <td>1</td>\n",
       "    </tr>\n",
       "    <tr>\n",
       "      <th>2018-03-22 14:39:57</th>\n",
       "      <td>user2</td>\n",
       "      <td>ah oké</td>\n",
       "      <td>1</td>\n",
       "    </tr>\n",
       "    <tr>\n",
       "      <th>2018-03-22 14:40:03</th>\n",
       "      <td>user2</td>\n",
       "      <td>enig idee tot hoe laat dat duurt?</td>\n",
       "      <td>1</td>\n",
       "    </tr>\n",
       "    <tr>\n",
       "      <th>2018-03-22 14:45:13</th>\n",
       "      <td>user1</td>\n",
       "      <td>Nee</td>\n",
       "      <td>1</td>\n",
       "    </tr>\n",
       "  </tbody>\n",
       "</table>\n",
       "</div>"
      ],
      "text/plain": [
       "                      user                                               text  \\\n",
       "2018-03-22 12:18:07  user1   Nee voor de gemeenteraad is alleen per lijst ...   \n",
       "2018-03-22 12:18:19  user1            Ze gaan nu in Ahoy per kandidaat tellen   \n",
       "2018-03-22 14:39:57  user2                                             ah oké   \n",
       "2018-03-22 14:40:03  user2                  enig idee tot hoe laat dat duurt?   \n",
       "2018-03-22 14:45:13  user1                                                Nee   \n",
       "\n",
       "                     message  \n",
       "2018-03-22 12:18:07        1  \n",
       "2018-03-22 12:18:19        1  \n",
       "2018-03-22 14:39:57        1  \n",
       "2018-03-22 14:40:03        1  \n",
       "2018-03-22 14:45:13        1  "
      ]
     },
     "execution_count": 45,
     "metadata": {},
     "output_type": "execute_result"
    }
   ],
   "source": [
    "time_user_df.head()"
   ]
  },
  {
   "cell_type": "markdown",
   "metadata": {},
   "source": [
    "#### Exercise 1\n",
    "Have a look at the dataframe `time_user_df` you've obtained. How many columns does it have? What is the index?"
   ]
  },
  {
   "cell_type": "code",
   "execution_count": null,
   "metadata": {},
   "outputs": [],
   "source": []
  },
  {
   "cell_type": "markdown",
   "metadata": {},
   "source": [
    "#### Exercise 2\n",
    "How many messages are in your exported chat history?"
   ]
  },
  {
   "cell_type": "code",
   "execution_count": null,
   "metadata": {},
   "outputs": [],
   "source": []
  },
  {
   "cell_type": "markdown",
   "metadata": {},
   "source": [
    "#### Exercise 3\n",
    "Find the unique users in your chat history"
   ]
  },
  {
   "cell_type": "code",
   "execution_count": null,
   "metadata": {},
   "outputs": [],
   "source": []
  },
  {
   "cell_type": "markdown",
   "metadata": {},
   "source": [
    "#### Exercise 4\n",
    "You can add columns to a DataFrame. To add a column with ones you can use the code below."
   ]
  },
  {
   "cell_type": "code",
   "execution_count": 46,
   "metadata": {},
   "outputs": [
    {
     "data": {
      "text/html": [
       "<div>\n",
       "<style scoped>\n",
       "    .dataframe tbody tr th:only-of-type {\n",
       "        vertical-align: middle;\n",
       "    }\n",
       "\n",
       "    .dataframe tbody tr th {\n",
       "        vertical-align: top;\n",
       "    }\n",
       "\n",
       "    .dataframe thead th {\n",
       "        text-align: right;\n",
       "    }\n",
       "</style>\n",
       "<table border=\"1\" class=\"dataframe\">\n",
       "  <thead>\n",
       "    <tr style=\"text-align: right;\">\n",
       "      <th></th>\n",
       "      <th>user</th>\n",
       "      <th>text</th>\n",
       "      <th>message</th>\n",
       "      <th>column_with_ones</th>\n",
       "    </tr>\n",
       "  </thead>\n",
       "  <tbody>\n",
       "    <tr>\n",
       "      <th>2018-03-22 12:18:07</th>\n",
       "      <td>user1</td>\n",
       "      <td>Nee voor de gemeenteraad is alleen per lijst ...</td>\n",
       "      <td>1</td>\n",
       "      <td>1</td>\n",
       "    </tr>\n",
       "    <tr>\n",
       "      <th>2018-03-22 12:18:19</th>\n",
       "      <td>user1</td>\n",
       "      <td>Ze gaan nu in Ahoy per kandidaat tellen</td>\n",
       "      <td>1</td>\n",
       "      <td>1</td>\n",
       "    </tr>\n",
       "    <tr>\n",
       "      <th>2018-03-22 14:39:57</th>\n",
       "      <td>user2</td>\n",
       "      <td>ah oké</td>\n",
       "      <td>1</td>\n",
       "      <td>1</td>\n",
       "    </tr>\n",
       "    <tr>\n",
       "      <th>2018-03-22 14:40:03</th>\n",
       "      <td>user2</td>\n",
       "      <td>enig idee tot hoe laat dat duurt?</td>\n",
       "      <td>1</td>\n",
       "      <td>1</td>\n",
       "    </tr>\n",
       "    <tr>\n",
       "      <th>2018-03-22 14:45:13</th>\n",
       "      <td>user1</td>\n",
       "      <td>Nee</td>\n",
       "      <td>1</td>\n",
       "      <td>1</td>\n",
       "    </tr>\n",
       "  </tbody>\n",
       "</table>\n",
       "</div>"
      ],
      "text/plain": [
       "                      user                                               text  \\\n",
       "2018-03-22 12:18:07  user1   Nee voor de gemeenteraad is alleen per lijst ...   \n",
       "2018-03-22 12:18:19  user1            Ze gaan nu in Ahoy per kandidaat tellen   \n",
       "2018-03-22 14:39:57  user2                                             ah oké   \n",
       "2018-03-22 14:40:03  user2                  enig idee tot hoe laat dat duurt?   \n",
       "2018-03-22 14:45:13  user1                                                Nee   \n",
       "\n",
       "                     message  column_with_ones  \n",
       "2018-03-22 12:18:07        1                 1  \n",
       "2018-03-22 12:18:19        1                 1  \n",
       "2018-03-22 14:39:57        1                 1  \n",
       "2018-03-22 14:40:03        1                 1  \n",
       "2018-03-22 14:45:13        1                 1  "
      ]
     },
     "execution_count": 46,
     "metadata": {},
     "output_type": "execute_result"
    }
   ],
   "source": [
    "time_user_df['column_with_ones'] = 1\n",
    "time_user_df.head()"
   ]
  },
  {
   "cell_type": "markdown",
   "metadata": {},
   "source": [
    "You can create a new column by using data from another column. Create a new column containing a string which consist of the user name and the text 'whatsapp'. For example if the username of a row is 'user1' your new column should have the value 'user1 whatsapp'."
   ]
  },
  {
   "cell_type": "code",
   "execution_count": 28,
   "metadata": {
    "scrolled": true
   },
   "outputs": [],
   "source": []
  },
  {
   "cell_type": "markdown",
   "metadata": {},
   "source": [
    "#### Exercise 5\n",
    "Create an extra column with the number of characters in your text column."
   ]
  },
  {
   "cell_type": "code",
   "execution_count": null,
   "metadata": {},
   "outputs": [],
   "source": []
  },
  {
   "cell_type": "markdown",
   "metadata": {},
   "source": [
    "#### Exercise 6\n",
    "\n",
    "You can use the method `groupby()` to group your data by the items in a certain column. You can group the data per user with the code below. With this you obtain a GroupBy object. To get the relevant data per user you have to specify how to handle the data in the other columns. To get the sum of the data in the other columns "
   ]
  },
  {
   "cell_type": "code",
   "execution_count": 49,
   "metadata": {},
   "outputs": [
    {
     "data": {
      "text/html": [
       "<div>\n",
       "<style scoped>\n",
       "    .dataframe tbody tr th:only-of-type {\n",
       "        vertical-align: middle;\n",
       "    }\n",
       "\n",
       "    .dataframe tbody tr th {\n",
       "        vertical-align: top;\n",
       "    }\n",
       "\n",
       "    .dataframe thead th {\n",
       "        text-align: right;\n",
       "    }\n",
       "</style>\n",
       "<table border=\"1\" class=\"dataframe\">\n",
       "  <thead>\n",
       "    <tr style=\"text-align: right;\">\n",
       "      <th></th>\n",
       "      <th>message</th>\n",
       "      <th>column_with_ones</th>\n",
       "    </tr>\n",
       "    <tr>\n",
       "      <th>user</th>\n",
       "      <th></th>\n",
       "      <th></th>\n",
       "    </tr>\n",
       "  </thead>\n",
       "  <tbody>\n",
       "    <tr>\n",
       "      <th>user1</th>\n",
       "      <td>914</td>\n",
       "      <td>914</td>\n",
       "    </tr>\n",
       "    <tr>\n",
       "      <th>user2</th>\n",
       "      <td>1279</td>\n",
       "      <td>1279</td>\n",
       "    </tr>\n",
       "  </tbody>\n",
       "</table>\n",
       "</div>"
      ],
      "text/plain": [
       "       message  column_with_ones\n",
       "user                            \n",
       "user1      914               914\n",
       "user2     1279              1279"
      ]
     },
     "execution_count": 49,
     "metadata": {},
     "output_type": "execute_result"
    }
   ],
   "source": [
    "df_gb = time_user_df.groupby('user')\n",
    "df_gb.sum()"
   ]
  },
  {
   "cell_type": "markdown",
   "metadata": {},
   "source": [
    "\n",
    "get the average length of a text message per user. Note: you need the answer to exercise 5 for this question."
   ]
  },
  {
   "cell_type": "code",
   "execution_count": null,
   "metadata": {},
   "outputs": [],
   "source": []
  },
  {
   "cell_type": "markdown",
   "metadata": {},
   "source": [
    "#### Exercise 7\n",
    "Use the examples from the [example notebook](whatsapp_data_analysis.ipynb) to plot your own graphs in the analysis. Try to follow line by line what is done."
   ]
  },
  {
   "cell_type": "code",
   "execution_count": null,
   "metadata": {},
   "outputs": [],
   "source": []
  },
  {
   "cell_type": "markdown",
   "metadata": {},
   "source": [
    "## 5. answers<a class=\"anchor\" id=\"5\"></a>"
   ]
  },
  {
   "cell_type": "markdown",
   "metadata": {},
   "source": [
    "#### Answer Exercise 1"
   ]
  },
  {
   "cell_type": "code",
   "execution_count": 48,
   "metadata": {},
   "outputs": [
    {
     "name": "stdout",
     "output_type": "stream",
     "text": [
      "Index(['user', 'text', 'message', 'column_with_ones', 'username_and_whatsapp'], dtype='object')\n",
      "DatetimeIndex(['2018-03-22 12:18:07', '2018-03-22 12:18:19',\n",
      "               '2018-03-22 14:39:57', '2018-03-22 14:40:03',\n",
      "               '2018-03-22 14:45:13', '2018-03-22 17:29:51',\n",
      "               '2018-03-22 17:29:59', '2018-03-22 18:22:55',\n",
      "               '2018-03-22 19:11:21', '2018-03-22 20:21:13',\n",
      "               ...\n",
      "               '2018-09-25 18:58:57', '2018-09-25 19:00:25',\n",
      "               '2018-09-25 19:00:34', '2018-09-25 22:48:07',\n",
      "               '2018-09-25 22:53:46', '2018-09-25 22:53:52',\n",
      "               '2018-09-25 23:06:15', '2018-09-25 23:06:58',\n",
      "               '2018-09-26 11:25:12', '2018-09-26 11:29:02'],\n",
      "              dtype='datetime64[ns]', length=2193, freq=None)\n"
     ]
    }
   ],
   "source": [
    "# columns in dataframe\n",
    "print(time_user_df.columns)\n",
    "\n",
    "# index\n",
    "print(time_user_df.index)"
   ]
  },
  {
   "cell_type": "markdown",
   "metadata": {},
   "source": [
    "#### Answer Exercise 2"
   ]
  },
  {
   "cell_type": "code",
   "execution_count": 14,
   "metadata": {},
   "outputs": [
    {
     "name": "stdout",
     "output_type": "stream",
     "text": [
      "2193\n",
      "2193\n",
      "2193\n"
     ]
    }
   ],
   "source": [
    "# total number of messages\n",
    "# option 1\n",
    "print(time_user_df.shape[0])\n",
    "\n",
    "# option 2\n",
    "print(time_user_df.message.sum())\n",
    "\n",
    "# option 3\n",
    "print(len(time_user_df))"
   ]
  },
  {
   "cell_type": "markdown",
   "metadata": {},
   "source": [
    "#### Answer Exercise 3"
   ]
  },
  {
   "cell_type": "code",
   "execution_count": 16,
   "metadata": {},
   "outputs": [
    {
     "name": "stdout",
     "output_type": "stream",
     "text": [
      "['user1' 'user2']\n"
     ]
    }
   ],
   "source": [
    "#unique users\n",
    "print(time_user_df.user.unique())"
   ]
  },
  {
   "cell_type": "markdown",
   "metadata": {},
   "source": [
    "#### Answer Exercise 4"
   ]
  },
  {
   "cell_type": "code",
   "execution_count": 47,
   "metadata": {},
   "outputs": [
    {
     "data": {
      "text/html": [
       "<div>\n",
       "<style scoped>\n",
       "    .dataframe tbody tr th:only-of-type {\n",
       "        vertical-align: middle;\n",
       "    }\n",
       "\n",
       "    .dataframe tbody tr th {\n",
       "        vertical-align: top;\n",
       "    }\n",
       "\n",
       "    .dataframe thead th {\n",
       "        text-align: right;\n",
       "    }\n",
       "</style>\n",
       "<table border=\"1\" class=\"dataframe\">\n",
       "  <thead>\n",
       "    <tr style=\"text-align: right;\">\n",
       "      <th></th>\n",
       "      <th>user</th>\n",
       "      <th>text</th>\n",
       "      <th>message</th>\n",
       "      <th>column_with_ones</th>\n",
       "      <th>username_and_whatsapp</th>\n",
       "    </tr>\n",
       "  </thead>\n",
       "  <tbody>\n",
       "    <tr>\n",
       "      <th>2018-03-22 12:18:07</th>\n",
       "      <td>user1</td>\n",
       "      <td>Nee voor de gemeenteraad is alleen per lijst ...</td>\n",
       "      <td>1</td>\n",
       "      <td>1</td>\n",
       "      <td>user1 whatsapp</td>\n",
       "    </tr>\n",
       "    <tr>\n",
       "      <th>2018-03-22 12:18:19</th>\n",
       "      <td>user1</td>\n",
       "      <td>Ze gaan nu in Ahoy per kandidaat tellen</td>\n",
       "      <td>1</td>\n",
       "      <td>1</td>\n",
       "      <td>user1 whatsapp</td>\n",
       "    </tr>\n",
       "    <tr>\n",
       "      <th>2018-03-22 14:39:57</th>\n",
       "      <td>user2</td>\n",
       "      <td>ah oké</td>\n",
       "      <td>1</td>\n",
       "      <td>1</td>\n",
       "      <td>user2 whatsapp</td>\n",
       "    </tr>\n",
       "    <tr>\n",
       "      <th>2018-03-22 14:40:03</th>\n",
       "      <td>user2</td>\n",
       "      <td>enig idee tot hoe laat dat duurt?</td>\n",
       "      <td>1</td>\n",
       "      <td>1</td>\n",
       "      <td>user2 whatsapp</td>\n",
       "    </tr>\n",
       "    <tr>\n",
       "      <th>2018-03-22 14:45:13</th>\n",
       "      <td>user1</td>\n",
       "      <td>Nee</td>\n",
       "      <td>1</td>\n",
       "      <td>1</td>\n",
       "      <td>user1 whatsapp</td>\n",
       "    </tr>\n",
       "  </tbody>\n",
       "</table>\n",
       "</div>"
      ],
      "text/plain": [
       "                      user                                               text  \\\n",
       "2018-03-22 12:18:07  user1   Nee voor de gemeenteraad is alleen per lijst ...   \n",
       "2018-03-22 12:18:19  user1            Ze gaan nu in Ahoy per kandidaat tellen   \n",
       "2018-03-22 14:39:57  user2                                             ah oké   \n",
       "2018-03-22 14:40:03  user2                  enig idee tot hoe laat dat duurt?   \n",
       "2018-03-22 14:45:13  user1                                                Nee   \n",
       "\n",
       "                     message  column_with_ones username_and_whatsapp  \n",
       "2018-03-22 12:18:07        1                 1        user1 whatsapp  \n",
       "2018-03-22 12:18:19        1                 1        user1 whatsapp  \n",
       "2018-03-22 14:39:57        1                 1        user2 whatsapp  \n",
       "2018-03-22 14:40:03        1                 1        user2 whatsapp  \n",
       "2018-03-22 14:45:13        1                 1        user1 whatsapp  "
      ]
     },
     "execution_count": 47,
     "metadata": {},
     "output_type": "execute_result"
    }
   ],
   "source": [
    "time_user_df['username_and_whatsapp'] = time_user_df['user'] + ' whatsapp'\n",
    "time_user_df.head()"
   ]
  },
  {
   "cell_type": "markdown",
   "metadata": {},
   "source": [
    "#### Answer Exercise 5"
   ]
  },
  {
   "cell_type": "code",
   "execution_count": 51,
   "metadata": {},
   "outputs": [],
   "source": [
    "time_user_df['text_length'] = time_user_df['text'].str.len()"
   ]
  },
  {
   "cell_type": "markdown",
   "metadata": {},
   "source": [
    "#### Answer Exercise 6"
   ]
  },
  {
   "cell_type": "code",
   "execution_count": 52,
   "metadata": {},
   "outputs": [
    {
     "data": {
      "text/html": [
       "<div>\n",
       "<style scoped>\n",
       "    .dataframe tbody tr th:only-of-type {\n",
       "        vertical-align: middle;\n",
       "    }\n",
       "\n",
       "    .dataframe tbody tr th {\n",
       "        vertical-align: top;\n",
       "    }\n",
       "\n",
       "    .dataframe thead th {\n",
       "        text-align: right;\n",
       "    }\n",
       "</style>\n",
       "<table border=\"1\" class=\"dataframe\">\n",
       "  <thead>\n",
       "    <tr style=\"text-align: right;\">\n",
       "      <th></th>\n",
       "      <th>message</th>\n",
       "      <th>column_with_ones</th>\n",
       "      <th>text_length</th>\n",
       "    </tr>\n",
       "    <tr>\n",
       "      <th>user</th>\n",
       "      <th></th>\n",
       "      <th></th>\n",
       "      <th></th>\n",
       "    </tr>\n",
       "  </thead>\n",
       "  <tbody>\n",
       "    <tr>\n",
       "      <th>user1</th>\n",
       "      <td>1.0</td>\n",
       "      <td>1.0</td>\n",
       "      <td>36.702407</td>\n",
       "    </tr>\n",
       "    <tr>\n",
       "      <th>user2</th>\n",
       "      <td>1.0</td>\n",
       "      <td>1.0</td>\n",
       "      <td>38.825645</td>\n",
       "    </tr>\n",
       "  </tbody>\n",
       "</table>\n",
       "</div>"
      ],
      "text/plain": [
       "       message  column_with_ones  text_length\n",
       "user                                         \n",
       "user1      1.0               1.0    36.702407\n",
       "user2      1.0               1.0    38.825645"
      ]
     },
     "execution_count": 52,
     "metadata": {},
     "output_type": "execute_result"
    }
   ],
   "source": [
    "#message per user\n",
    "df_gb = time_user_df.groupby('user')\n",
    "df_gb.mean()"
   ]
  },
  {
   "cell_type": "markdown",
   "metadata": {},
   "source": [
    "#### Answer Exercise 7"
   ]
  },
  {
   "cell_type": "code",
   "execution_count": null,
   "metadata": {},
   "outputs": [],
   "source": []
  }
 ],
 "metadata": {
  "kernelspec": {
   "display_name": "Python 3",
   "language": "python",
   "name": "python3"
  },
  "language_info": {
   "codemirror_mode": {
    "name": "ipython",
    "version": 3
   },
   "file_extension": ".py",
   "mimetype": "text/x-python",
   "name": "python",
   "nbconvert_exporter": "python",
   "pygments_lexer": "ipython3",
   "version": "3.7.0"
  }
 },
 "nbformat": 4,
 "nbformat_minor": 2
}
