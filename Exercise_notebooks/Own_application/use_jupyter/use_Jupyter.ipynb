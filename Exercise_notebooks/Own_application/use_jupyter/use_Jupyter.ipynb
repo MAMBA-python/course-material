{
 "cells": [
  {
   "cell_type": "markdown",
   "metadata": {},
   "source": [
    "<figure>\n",
    "   <IMG SRC=\"https://mamba-python.nl/images/logo_basis.png\" WIDTH=125 ALIGN=\"right\">\n",
    "</figure>\n",
    "    \n",
    "# Use Jupyter\n",
    "\n",
    "In this notebook you will learn how to use the Jupyter interface to run Python code in notebooks. \n",
    "\n",
    "<br>\n",
    "<div style=\"text-align: right\"> developed by MAMBA </div>\n"
   ]
  },
  {
   "cell_type": "markdown",
   "metadata": {},
   "source": [
    "## 1 Run Code"
   ]
  },
  {
   "cell_type": "markdown",
   "metadata": {},
   "source": [
    "Run a code cell using `Shift-Enter` or pressing the <button class='btn btn-default btn-xs'><i class=\"icon-step-forward fa fa-step-forward\"></i></button> button in the toolbar above:"
   ]
  },
  {
   "cell_type": "code",
   "execution_count": 1,
   "metadata": {},
   "outputs": [],
   "source": [
    "a = 10"
   ]
  },
  {
   "cell_type": "code",
   "execution_count": 2,
   "metadata": {},
   "outputs": [
    {
     "name": "stdout",
     "output_type": "stream",
     "text": [
      "10\n"
     ]
    }
   ],
   "source": [
    "print(a)"
   ]
  },
  {
   "cell_type": "markdown",
   "metadata": {},
   "source": [
    "### Cell menu"
   ]
  },
  {
   "cell_type": "markdown",
   "metadata": {},
   "source": [
    "The \"Cell\" menu has a number of menu items for running code in different ways. These includes:\n",
    "\n",
    "* Run and Select Below\n",
    "* Run and Insert Below\n",
    "* Run All\n",
    "* Run All Above\n",
    "* Run All Below"
   ]
  },
  {
   "cell_type": "markdown",
   "metadata": {},
   "source": [
    "## 2 Manage the Kernel"
   ]
  },
  {
   "cell_type": "markdown",
   "metadata": {},
   "source": [
    "Code is run in a separate process called the Kernel. In this case we use a Python kernel to run the code. You can see the kernel that you use on the top right of the screen. It should look similar to this: ![kernel](images/kernel.jpg)"
   ]
  },
  {
   "cell_type": "markdown",
   "metadata": {},
   "source": [
    "The kernel has different states:\n",
    "- <button class='kernel_idle_icon'><i class=\"kernel_idle_icon::before\"></i></button> The kernel is idle, if you run a cell the code will be run immediately.\n",
    "- <button class='kernel_busy_icon'><i class=\"kernel_busy_icon::before\"></i></button> The kernel is busy, it is still running code of a previous cell. If you run a cell while the kernel is busy, you have to wait for the previous proces to finish before your cell is run. \n",
    "- <button class='kernel_disconnected_icon'><i class=\"kernel_disconnected_icon::before\"></i></button> The kernel is disconnected, this can happen when you close the black 'jupyter-notebook.exe' screen. You cannot run code with a disconnected kernel.\n"
   ]
  },
  {
   "cell_type": "markdown",
   "metadata": {},
   "source": [
    "The kernel maintains all the variables that are assigned in it's memory. The Kernel can be interrupted or restarted. If you interrupt the kernel the current process is killed but all the previously assigned variables remain in it's memory. If you restart the kernel, all the assigned variables are lost. Meaning you have to rerun cells to assign the variables to their values."
   ]
  },
  {
   "cell_type": "markdown",
   "metadata": {},
   "source": [
    "### interrupt the kernel"
   ]
  },
  {
   "cell_type": "markdown",
   "metadata": {},
   "source": [
    "Try running the following cell and then interrupt the kernel by clicking the <button class='btn btn-default btn-xs'><i class='icon-stop fa fa-stop'></i></button> button in the toolbar above. You should see a `KeyboardInterrupt:` error in the output area. This error indicates that the output could not be generated succesfully due to an interruption of the running proces."
   ]
  },
  {
   "cell_type": "code",
   "execution_count": 2,
   "metadata": {},
   "outputs": [
    {
     "ename": "KeyboardInterrupt",
     "evalue": "",
     "output_type": "error",
     "traceback": [
      "\u001b[1;31m---------------------------------------------------------------------------\u001b[0m",
      "\u001b[1;31mKeyboardInterrupt\u001b[0m                         Traceback (most recent call last)",
      "\u001b[1;32m<ipython-input-2-c20d360cf4b6>\u001b[0m in \u001b[0;36m<module>\u001b[1;34m()\u001b[0m\n\u001b[0;32m      1\u001b[0m \u001b[1;32mimport\u001b[0m \u001b[0mtime\u001b[0m\u001b[1;33m\u001b[0m\u001b[0m\n\u001b[1;32m----> 2\u001b[1;33m \u001b[0mtime\u001b[0m\u001b[1;33m.\u001b[0m\u001b[0msleep\u001b[0m\u001b[1;33m(\u001b[0m\u001b[1;36m10\u001b[0m\u001b[1;33m)\u001b[0m\u001b[1;33m\u001b[0m\u001b[0m\n\u001b[0m",
      "\u001b[1;31mKeyboardInterrupt\u001b[0m: "
     ]
    }
   ],
   "source": [
    "import time\n",
    "time.sleep(10)"
   ]
  },
  {
   "cell_type": "markdown",
   "metadata": {},
   "source": [
    "Interrupting the kernel can be useful if you want to stop the calculation. For example when you accidentaly created a time consuming calculation and you don't want to wait 2 hours before it will finish."
   ]
  },
  {
   "cell_type": "markdown",
   "metadata": {},
   "source": [
    "### Restart the kernel"
   ]
  },
  {
   "cell_type": "markdown",
   "metadata": {},
   "source": [
    "If the Kernel dies you cannot run Python code and need to restart it. This is done by clicking on the <button class='btn btn-default btn-xs'><i class='fa fa-repeat icon-repeat'></i></button> in the toolbar above. Remember that if you restart the kernel, all the assigned variables are lost. Meaning you have to rerun cells to assign the variables to their values.  "
   ]
  },
  {
   "cell_type": "markdown",
   "metadata": {},
   "source": [
    "## 3 Output"
   ]
  },
  {
   "cell_type": "markdown",
   "metadata": {},
   "source": [
    "All output is displayed in the output area as it is generated by the Kernel. The Kernel runs cells one by one and can not run different cells simultaneously."
   ]
  },
  {
   "cell_type": "code",
   "execution_count": 3,
   "metadata": {},
   "outputs": [
    {
     "name": "stdout",
     "output_type": "stream",
     "text": [
      "0\n",
      "1\n",
      "2\n",
      "3\n",
      "4\n",
      "5\n",
      "6\n",
      "7\n"
     ]
    }
   ],
   "source": [
    "import time, sys\n",
    "for i in range(8):\n",
    "    print(i)\n",
    "    time.sleep(0.5)"
   ]
  },
  {
   "cell_type": "markdown",
   "metadata": {},
   "source": [
    "### Large outputs"
   ]
  },
  {
   "cell_type": "markdown",
   "metadata": {},
   "source": [
    "When you working on big data sets output can become annoyingly large. To better handle large outputs, the output area can be collapsed. Run the following cell and then single- or double- click on the active area to the left of the output."
   ]
  },
  {
   "cell_type": "code",
   "execution_count": 2,
   "metadata": {},
   "outputs": [
    {
     "name": "stdout",
     "output_type": "stream",
     "text": [
      "0\n",
      "1\n",
      "2\n",
      "3\n",
      "4\n",
      "5\n",
      "6\n",
      "7\n",
      "8\n",
      "9\n",
      "10\n",
      "11\n",
      "12\n",
      "13\n",
      "14\n",
      "15\n",
      "16\n",
      "17\n",
      "18\n",
      "19\n",
      "20\n",
      "21\n",
      "22\n",
      "23\n",
      "24\n",
      "25\n",
      "26\n",
      "27\n",
      "28\n",
      "29\n",
      "30\n",
      "31\n",
      "32\n",
      "33\n",
      "34\n",
      "35\n",
      "36\n",
      "37\n",
      "38\n",
      "39\n",
      "40\n",
      "41\n",
      "42\n",
      "43\n",
      "44\n",
      "45\n",
      "46\n",
      "47\n",
      "48\n",
      "49\n"
     ]
    }
   ],
   "source": [
    "for i in range(50):\n",
    "    print(i)"
   ]
  },
  {
   "cell_type": "markdown",
   "metadata": {},
   "source": [
    "## 4 Modes"
   ]
  },
  {
   "cell_type": "markdown",
   "metadata": {},
   "source": [
    "There are two different modes in Jupyter notebooks: edit mode and command mode. In the edit mode you can type code in the cells. In the command mode you can make general adjustments to the notebook, e.g. copy a cell. Keyboard commands do different things depending on which mode the Notebook is in."
   ]
  },
  {
   "cell_type": "markdown",
   "metadata": {},
   "source": [
    "### Edit mode\n",
    "\n"
   ]
  },
  {
   "cell_type": "markdown",
   "metadata": {},
   "source": [
    "Edit mode is indicated by a green cell border and a prompt showing in the editor area.\n",
    "\n",
    "![Jupyter cell with green border](images/edit_mode.png)\n",
    "\n",
    "When a cell is in edit mode, you can type into the cell, like a normal text editor."
   ]
  },
  {
   "cell_type": "markdown",
   "metadata": {},
   "source": [
    "<div class=\"alert alert-success\">\n",
    "Enter edit mode by pressing `Enter` or using the mouse to click on a cell's editor area.\n",
    "</div>"
   ]
  },
  {
   "cell_type": "markdown",
   "metadata": {},
   "source": [
    "### Command mode"
   ]
  },
  {
   "cell_type": "markdown",
   "metadata": {},
   "source": [
    "Command mode is indicated by a grey cell border with a blue left margin:\n",
    "\n",
    "![Jupyter cell with blue & grey border](images/command_mode.png)\n",
    "\n",
    "When you are in command mode, you are able to edit the notebook as a whole, but not type into individual cells. Most importantly, in command mode, the keyboard is mapped to a set of shortcuts that let you perform notebook and cell actions efficiently. For example, if you are in command mode and you press `c`, you will copy the current cell - no modifier is needed.\n",
    "\n"
   ]
  },
  {
   "cell_type": "markdown",
   "metadata": {},
   "source": [
    "\n",
    "<div class=\"alert alert-success\">\n",
    "Enter command mode by pressing `Esc` or using the mouse to click *outside* a cell's editor area.\n",
    "</div>"
   ]
  },
  {
   "cell_type": "markdown",
   "metadata": {},
   "source": [
    "#### Exercise 1<a name=\"ex1\"></a>\n",
    "\n",
    "Try typing `f=1` while in command mode. Can you understand what happened?"
   ]
  },
  {
   "cell_type": "markdown",
   "metadata": {},
   "source": [
    "<a href=\"#ans1\">Answers to Exercise 1</a>"
   ]
  },
  {
   "cell_type": "markdown",
   "metadata": {},
   "source": [
    "\n",
    "    \n",
    "__Remember: Don't try to type into a cell in command mode; unexpected things will happen!__"
   ]
  },
  {
   "cell_type": "markdown",
   "metadata": {},
   "source": [
    "## 5 Keyboard shortcuts\n",
    "\n",
    "All navigation and actions in the Notebook are available using the mouse through the menubar and toolbar, which are both above the main Notebook area. However most of these commands also have a keyboard shortcut. type 'H' in command mode to see all keyboard shortcuts."
   ]
  },
  {
   "cell_type": "markdown",
   "metadata": {},
   "source": [
    "Most used keyboard shortcuts are\n",
    "- `Shift-Enter` to run a cell\n",
    "- `a` to create a new cell aboven the given cell\n",
    "- `b` to create a new cell below the given cell\n",
    "- `Enter` to enter edit mode for the given cell\n",
    "- `Esc` to enter command mode"
   ]
  },
  {
   "cell_type": "markdown",
   "metadata": {},
   "source": [
    "## 6 Cell types\n",
    "\n",
    "There are three cell types *\n",
    "1. Code \n",
    "2. MarkDown\n",
    "3. Raw NBConvert\n",
    "\n",
    "You can change the cell type in the \"Cell\" menu under \"Cell Type\". Or you can use the dropdown menu <select id=\"cell_type\" class=\"form-control select-xs\" style=\"width: auto; display: inline\"></select> in the toolbar\n",
    "\n",
    "### Code\n",
    "A code cell contains Python code and can be run (`Shift-Enter`) with the kernel\n",
    "\n",
    "### MarkDown\n",
    "A MarkDown cell contains text with code for the formatting of this text. These cells can be run (`Shift-Enter`) to display the formatted text.\n",
    "\n",
    "### Raw NBConvert\n",
    "This is the raw display of text. When you run (`Shift-Enter`) a Raw NBConvert cell it still looks the same (so there is no need to run it). \n",
    "\n",
    "<small><nowiki>*</nowiki> in the drop down menu there is also the option \"Heading\". This is just a fast way to create a MarkDown cell with a heading but it is not different from a MarkDown cell</small>"
   ]
  },
  {
   "cell_type": "markdown",
   "metadata": {},
   "source": [
    "## 7. answers"
   ]
  },
  {
   "cell_type": "markdown",
   "metadata": {},
   "source": [
    "#### answer Exercise 1 <a name=\"ans1\"></a>\n",
    "\n",
    "If you were in command mode a 'Find and Replace' window must have popped up when you started typing. `f` is a keyboard shortcut to use 'Find and Replace' while in command mode. \n",
    "\n",
    "In this case the impact of typing in command mode is relatively small, you can simply close the 'Find and Replace' window. Some other keyboard shortcuts in command mode have a bigger impact, e.g. `x` will cut the cell and `dd` will delete the cell. There is also `z` to undo previous commands. However it is good to be aware of these modes and to remember:"
   ]
  },
  {
   "cell_type": "markdown",
   "metadata": {},
   "source": [
    "<a href=\"#ex1\">Back to Exercise 1</a>"
   ]
  },
  {
   "cell_type": "markdown",
   "metadata": {},
   "source": [
    "## 8. acknowledgement\n",
    "\n",
    "the following sources were used to create this notebook:\n",
    "- https://nbviewer.jupyter.org/github/jupyter/notebook/blob/master/docs/source/examples/Notebook/Running%20Code.ipynb\n"
   ]
  }
 ],
 "metadata": {
  "kernelspec": {
   "display_name": "Python [default]",
   "language": "python",
   "name": "python3"
  },
  "language_info": {
   "codemirror_mode": {
    "name": "ipython",
    "version": 3
   },
   "file_extension": ".py",
   "mimetype": "text/x-python",
   "name": "python",
   "nbconvert_exporter": "python",
   "pygments_lexer": "ipython3",
   "version": "3.6.3"
  }
 },
 "nbformat": 4,
 "nbformat_minor": 1
}
