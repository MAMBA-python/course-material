{
 "cells": [
  {
   "cell_type": "markdown",
   "metadata": {},
   "source": [
    "<figure>\n",
    "   <IMG SRC=\"https://mamba-python.nl/images/logo_basis.png\" WIDTH=125 ALIGN=\"right\">\n",
    "   \n",
    "</figure>\n",
    "\n",
    "# Eigen toepassing\n",
    "\n",
    "<br>\n",
    "<br>\n",
    "<br>\n",
    "<br>\n",
    "<div style=\"text-align: right\"> developed by MAMBA </div>"
   ]
  },
  {
   "cell_type": "markdown",
   "metadata": {},
   "source": [
    "Een belangrijk onderdeel van de cursus is het werken aan je eigen Python toepassing. \n",
    "Vandaar dat we al op de eerste cursusdag starten met het werken hieraan. In dit document is aangegeven hoe je dat kan doen.\n",
    "\n",
    "De bedoeling is dat je werkt in dit notebook en het resultaat aan het eind van de cursusdag opstuurt naar info@mamba-python.nl. Hierbij ook graag alle bestanden die je gebruikt voor je toepassing meesturen (indien <10 mb)."
   ]
  },
  {
   "cell_type": "markdown",
   "metadata": {},
   "source": [
    "## Inhoudsopgave<a class=\"anchor\" id=\"inhoudsopgave\"></a>\n",
    "[Cursusdag 1](#cursusdag1)\n",
    "1. [Begrippenlijst](#begrippenlijst)\n",
    "2. [Eigen toepassing](#eigentoepassing)\n",
    "3. [Stappenplan](#stappenplan)\n",
    "\n",
    "[Cursusdag 2 t/m 4](#cursusdag24)"
   ]
  },
  {
   "cell_type": "markdown",
   "metadata": {},
   "source": [
    "## Cursusdag 1<a class=\"anchor\" id=\"cursusdag1\"></a>\n",
    "De eerste cursusdag bestaat uit 3 opdrachten:\n",
    "1. Houdt een [begrippenlijst](#begrippenlijst) bij.\n",
    "2. Bedenk je [eigen toepassing](#eigentoepassing) in Python.\n",
    "3. Maak een [stappenplan](#stappenplan) voor je eigen toepassing."
   ]
  },
  {
   "cell_type": "markdown",
   "metadata": {},
   "source": [
    "### 1. Begrippenlijst<a class=\"anchor\" id=\"begrippenlijst\"></a>"
   ]
  },
  {
   "cell_type": "markdown",
   "metadata": {},
   "source": [
    "Bij het leren van Python kom je veel termen en begrippen tegen die je (nog) niet begrijpt. Het is handig om deze begrippen bij te houden zodat we daar later op terug kunnen komen. We adviseren daarom deze begrippen bij te houden in deze lijst:"
   ]
  },
  {
   "cell_type": "markdown",
   "metadata": {},
   "source": [
    "- \n",
    "-  \n",
    "-  "
   ]
  },
  {
   "cell_type": "markdown",
   "metadata": {},
   "source": [
    "### 2. Eigen toepassing<a class=\"anchor\" id=\"eigentoepassing\"></a>"
   ]
  },
  {
   "cell_type": "markdown",
   "metadata": {},
   "source": [
    "Probeer een toepassing te bedenken die nuttig is in je dagelijks werk. Voor inspiratie kan je de voorbeelden van de presentatie gebruiken of kijken op:\n",
    "    - https://docs.python-guide.org/#scenario-guide-for-python-applications\n",
    "    - https://automatetheboringstuff.com/\n",
    "    - https://github.com/jupyter/jupyter/wiki/A-gallery-of-interesting-Jupyter-Notebooks\n",
    "    \n",
    "Beschrijf in het tekstvak hieronder het doel van je toepassing en wat je in- en output zal zijn. Geef ook duidelijk aan als de toepassing niet gedeeld mag worden met de andere cursisten. Wij zorgen dan dat deze vertrouwelijk blijft."
   ]
  },
  {
   "cell_type": "markdown",
   "metadata": {},
   "source": [
    "Doel:\n",
    "\n",
    "input:\n",
    "\n",
    "gewenste output:\n"
   ]
  },
  {
   "cell_type": "markdown",
   "metadata": {},
   "source": [
    "### 3. Stappenplan <a class=\"anchor\" id=\"stappenplan\"></a>"
   ]
  },
  {
   "cell_type": "markdown",
   "metadata": {},
   "source": [
    "Een belangrijk onderdeel van programmeren is het opdelen van je taken in losse stappen. Geeft in het tekstvak hieronder de stappen aan waarin jouw toepassing kan worden opgedeeld. Een voorbeeld toepassing met stappenplan is [hier](voorbeeld_toepassing.ipynb) te vinden."
   ]
  },
  {
   "cell_type": "markdown",
   "metadata": {},
   "source": []
  },
  {
   "cell_type": "markdown",
   "metadata": {},
   "source": [
    "## Cursusdag 2 t/m 4<a class=\"anchor\" id=\"cursusdag24\"></a>\n",
    "Tijdens cursusdag 2 t/m 4 ga je aan de slag met het schrijven van de code voor je toepassing. Het kan zijn dat je liever in een andere Python omgeving (bijv. Spyder) werkt. Dat is prima, stuur in dat geval ook de .py bestanden mee."
   ]
  },
  {
   "cell_type": "code",
   "execution_count": null,
   "metadata": {},
   "outputs": [],
   "source": []
  }
 ],
 "metadata": {
  "kernelspec": {
   "display_name": "Python [default]",
   "language": "python",
   "name": "python3"
  },
  "language_info": {
   "codemirror_mode": {
    "name": "ipython",
    "version": 3
   },
   "file_extension": ".py",
   "mimetype": "text/x-python",
   "name": "python",
   "nbconvert_exporter": "python",
   "pygments_lexer": "ipython3",
   "version": "3.6.3"
  }
 },
 "nbformat": 4,
 "nbformat_minor": 2
}
