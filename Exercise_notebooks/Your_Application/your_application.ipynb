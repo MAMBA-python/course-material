{
 "cells": [
  {
   "cell_type": "markdown",
   "metadata": {},
   "source": [
    "<figure>\n",
    "   <IMG SRC=\"https://mamba-python.nl/images/logo_basis.png\" WIDTH=125 ALIGN=\"right\">\n",
    "   \n",
    "</figure>\n",
    "\n",
    "# Your application\n",
    "\n",
    "<br>"
   ]
  },
  {
   "cell_type": "markdown",
   "metadata": {},
   "source": [
    "A part of this Python course is working on your own application. This document gives more details on how to start with this\n",
    "\n",
    "The idea is to work on your application in this notebook and sent the result at the end of each course day to info@mamba-python.nl. Please include all the files you use in your mail (if they are less than 10mb)."
   ]
  },
  {
   "cell_type": "markdown",
   "metadata": {},
   "source": [
    "## Your application<a class=\"anchor\" id=\"cursusdag1\"></a>"
   ]
  },
  {
   "cell_type": "markdown",
   "metadata": {},
   "source": [
    "### 1. Goal, input and desired output<a class=\"anchor\" id=\"eigentoepassing\"></a>"
   ]
  },
  {
   "cell_type": "markdown",
   "metadata": {},
   "source": [
    "Try to think of an application that is useful for your job. For inspiration you can use some examples in our presentation or have a look at:\n",
    "    - https://docs.python-guide.org/#scenario-guide-for-python-applications\n",
    "    - https://automatetheboringstuff.com/\n",
    "    - https://github.com/jupyter/jupyter/wiki/A-gallery-of-interesting-Jupyter-Notebooks\n",
    "\n",
    "Please indicate in the text cell below what the goal, in and output of your application will be. Also indicate if the application is confidential, if so we will not share the information with others during the course."
   ]
  },
  {
   "cell_type": "markdown",
   "metadata": {},
   "source": [
    "goal:\n",
    "\n",
    "input:\n",
    "\n",
    "desired output:\n"
   ]
  },
  {
   "cell_type": "markdown",
   "metadata": {},
   "source": [
    "### 2. Steps <a class=\"anchor\" id=\"stappenplan\"></a>"
   ]
  },
  {
   "cell_type": "markdown",
   "metadata": {},
   "source": [
    "An important part of programming is to divide your code into seperate steps. Please specify the steps you want to follow to build your application in the text cell below. "
   ]
  },
  {
   "cell_type": "markdown",
   "metadata": {},
   "source": [
    " "
   ]
  },
  {
   "cell_type": "markdown",
   "metadata": {},
   "source": [
    "### 3. Code<a class=\"anchor\" id=\"cursusdag24\"></a>\n",
    "\n",
    "During the Python course you will write code for your application. You can write the code in this Jupyter Notebook or use another Python IDE to write your code."
   ]
  },
  {
   "cell_type": "code",
   "execution_count": null,
   "metadata": {},
   "outputs": [],
   "source": []
  },
  {
   "cell_type": "code",
   "execution_count": null,
   "metadata": {},
   "outputs": [],
   "source": []
  }
 ],
 "metadata": {
  "kernelspec": {
   "display_name": "Python 3",
   "language": "python",
   "name": "python3"
  },
  "language_info": {
   "codemirror_mode": {
    "name": "ipython",
    "version": 3
   },
   "file_extension": ".py",
   "mimetype": "text/x-python",
   "name": "python",
   "nbconvert_exporter": "python",
   "pygments_lexer": "ipython3",
   "version": "3.7.6"
  }
 },
 "nbformat": 4,
 "nbformat_minor": 4
}
