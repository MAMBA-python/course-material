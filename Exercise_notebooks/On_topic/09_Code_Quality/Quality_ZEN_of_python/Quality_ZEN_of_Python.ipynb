{
 "cells": [
  {
   "cell_type": "markdown",
   "metadata": {},
   "source": [
    "<figure>\n",
    "   <IMG SRC=\"https://mamba-python.nl/images/logo_basis.png\" WIDTH=125 ALIGN=\"right\">\n",
    "</figure>\n",
    "    \n",
    "# Zen of Python\n",
    "    \n",
    "The goal of this notebook is to give examples of \"The Zen of Python\" principles. These principles are meant to increase readability and quality of Python code.\n",
    "\n",
    "<div style=\"text-align: right\"> developed by Onno Ebbens </div>\n"
   ]
  },
  {
   "cell_type": "markdown",
   "metadata": {},
   "source": [
    "## table of content:<a class=\"anchor\" id=\"0\"></a>\n",
    "1. [Beautiful is better than ugly](#1) \n",
    "2. [Explicit is better than implicit](#2)\n",
    "3. [Simple is better than complex](#3)\n",
    "4. [Complex is better than complicated](#4)\n",
    "5. [Flat is better than nested](#5) \n",
    "6. [Sparse is better than dense](#6) \n",
    "7. [Readability counts](#7)\n",
    "8. [Special cases aren't special enough to break the rules, although practicality beats purity](#8) \n",
    "9. [Errors should never pass silently, unless explicitly silenced](#9)\n",
    "10. [In the face of ambiguity, refuse the temptation to guess](#10)\n",
    "11. [There should be one-- and preferably only one --obvious way to do it. Although that way may not be obvious at first unless you're Dutch](#11)\n",
    "12. [Now is better than never. Although never is often better than *right* now](#12)\n",
    "13. [If the implementation is hard to explain, it's a bad idea. If the implementation is easy to explain, it may be a good idea](#13)\n",
    "14. [Namespaces are one honking great idea -- let's do more of those! ](#14)\n",
    "15. [Acknowledgement](#acknowledgement)"
   ]
  },
  {
   "cell_type": "markdown",
   "metadata": {},
   "source": [
    "You can always print the Zen of Python with the `import this` command."
   ]
  },
  {
   "cell_type": "code",
   "execution_count": 1,
   "metadata": {},
   "outputs": [
    {
     "name": "stdout",
     "output_type": "stream",
     "text": [
      "The Zen of Python, by Tim Peters\n",
      "\n",
      "Beautiful is better than ugly.\n",
      "Explicit is better than implicit.\n",
      "Simple is better than complex.\n",
      "Complex is better than complicated.\n",
      "Flat is better than nested.\n",
      "Sparse is better than dense.\n",
      "Readability counts.\n",
      "Special cases aren't special enough to break the rules.\n",
      "Although practicality beats purity.\n",
      "Errors should never pass silently.\n",
      "Unless explicitly silenced.\n",
      "In the face of ambiguity, refuse the temptation to guess.\n",
      "There should be one-- and preferably only one --obvious way to do it.\n",
      "Although that way may not be obvious at first unless you're Dutch.\n",
      "Now is better than never.\n",
      "Although never is often better than *right* now.\n",
      "If the implementation is hard to explain, it's a bad idea.\n",
      "If the implementation is easy to explain, it may be a good idea.\n",
      "Namespaces are one honking great idea -- let's do more of those!\n"
     ]
    }
   ],
   "source": [
    "import this"
   ]
  },
  {
   "cell_type": "markdown",
   "metadata": {},
   "source": [
    "[back to TOC](#0) \n",
    "## 1. Beautiful is better than ugly<a class=\"anchor\" id=\"1\"></a>"
   ]
  },
  {
   "cell_type": "markdown",
   "metadata": {},
   "source": [
    "Goal: Create a function that takes a list of numbers and returns only the even ones, divided by two."
   ]
  },
  {
   "cell_type": "code",
   "execution_count": 2,
   "metadata": {},
   "outputs": [],
   "source": [
    "input_list = [1,2,8,13]"
   ]
  },
  {
   "cell_type": "markdown",
   "metadata": {},
   "source": [
    "#### <span style=\"color:red\">Ugly</span>"
   ]
  },
  {
   "cell_type": "code",
   "execution_count": 3,
   "metadata": {},
   "outputs": [
    {
     "data": {
      "text/plain": [
       "[1.0, 4.0]"
      ]
     },
     "execution_count": 3,
     "metadata": {},
     "output_type": "execute_result"
    }
   ],
   "source": [
    "halve_evens_only = lambda nums: list(map(lambda i: i/2, filter(lambda i: not i%2, nums)))\n",
    "halve_evens_only(input_list)"
   ]
  },
  {
   "cell_type": "markdown",
   "metadata": {},
   "source": [
    "#### <span style=\"color:green\">Beautiful</span>"
   ]
  },
  {
   "cell_type": "code",
   "execution_count": 4,
   "metadata": {},
   "outputs": [
    {
     "data": {
      "text/plain": [
       "[1.0, 4.0]"
      ]
     },
     "execution_count": 4,
     "metadata": {},
     "output_type": "execute_result"
    }
   ],
   "source": [
    "def halve_evens_only(nums):\n",
    "    return [i/2 for i in nums if i % 2 == 0]\n",
    "\n",
    "halve_evens_only(input_list)"
   ]
  },
  {
   "cell_type": "markdown",
   "metadata": {},
   "source": [
    "#### Note\n",
    "\n",
    "Both pieces of code do the same thing. The first (ugly) is hard to read even if you know the meaning of all individual functions and statements. The second one (Beautifull) is a lot easier to read and therefore preferred."
   ]
  },
  {
   "cell_type": "markdown",
   "metadata": {},
   "source": [
    "[back to TOC](#0) \n",
    "## 2. Explicit is better than implicit <a class=\"anchor\" id=\"2\"></a>"
   ]
  },
  {
   "cell_type": "markdown",
   "metadata": {},
   "source": [
    "Goal: Load functions from the numpy module."
   ]
  },
  {
   "cell_type": "markdown",
   "metadata": {},
   "source": [
    "#### <span style=\"color:red\">Implicit</span>"
   ]
  },
  {
   "cell_type": "code",
   "execution_count": 9,
   "metadata": {},
   "outputs": [],
   "source": [
    "from numpy import *"
   ]
  },
  {
   "cell_type": "markdown",
   "metadata": {},
   "source": [
    "#### <span style=\"color:green\">Explicit</span>"
   ]
  },
  {
   "cell_type": "code",
   "execution_count": 7,
   "metadata": {},
   "outputs": [],
   "source": [
    "import numpy as np"
   ]
  },
  {
   "cell_type": "markdown",
   "metadata": {},
   "source": [
    "Goal2: create a function that stores two variables as 'x' and 'y' in a dictionary."
   ]
  },
  {
   "cell_type": "markdown",
   "metadata": {},
   "source": [
    "#### <span style=\"color:red\">Implicit</span>"
   ]
  },
  {
   "cell_type": "code",
   "execution_count": 10,
   "metadata": {},
   "outputs": [],
   "source": [
    "def create_dic(*args):\n",
    "    x, y = args\n",
    "    return dict(**locals())"
   ]
  },
  {
   "cell_type": "markdown",
   "metadata": {},
   "source": [
    "#### <span style=\"color:green\">Explicit</span>"
   ]
  },
  {
   "cell_type": "code",
   "execution_count": 8,
   "metadata": {},
   "outputs": [],
   "source": [
    "def create_dic(x, y):\n",
    "    return {'x': x, 'y': y}"
   ]
  },
  {
   "cell_type": "markdown",
   "metadata": {},
   "source": [
    "#### Note\n",
    "\n",
    "When you run the first implicit import the built-in `sum()` function will be replaced by the numpy function `sum()`. This can give unexpected results since it is difficult to keep track of all functions that are imported.\n",
    "\n",
    "With the explicit import both the built-in `sum()` function and the numpy `np.sum()` function are accessible. And it is clear which one you use."
   ]
  },
  {
   "cell_type": "markdown",
   "metadata": {},
   "source": [
    "[back to TOC](#0) \n",
    "## 3. Simple is better than complex <a class=\"anchor\" id=\"3\"></a>"
   ]
  },
  {
   "cell_type": "markdown",
   "metadata": {},
   "source": [
    "Goal: Write the measurements below to the disk."
   ]
  },
  {
   "cell_type": "code",
   "execution_count": 13,
   "metadata": {},
   "outputs": [],
   "source": [
    "measurements = [{'weight': 392.3, 'color': 'purple', 'temperature': 33.4},\n",
    "                {'weight': 34.0, 'color': 'green', 'temperature': -3.1},\n",
    "                ]"
   ]
  },
  {
   "cell_type": "markdown",
   "metadata": {},
   "source": [
    "#### <span style=\"color:red\">Complex</span>"
   ]
  },
  {
   "cell_type": "code",
   "execution_count": 12,
   "metadata": {},
   "outputs": [],
   "source": [
    "def store(measurements):\n",
    "    import sqlalchemy\n",
    "    import sqlalchemy.types as sqltypes\n",
    "    \n",
    "    db = sqlalchemy.create_engine('sqlite:///measurements.db')\n",
    "    db.echo = False\n",
    "    metadata = sqlalchemy.MetaData(db)\n",
    "    table = sqlalchemy.Table('measurements', metadata,\n",
    "        sqlalchemy.Column('id', sqltypes.Integer, primary_key=True),\n",
    "        sqlalchemy.Column('weight', sqltypes.Float),\n",
    "        sqlalchemy.Column('temperature', sqltypes.Float),\n",
    "        sqlalchemy.Column('color', sqltypes.String(32)),\n",
    "        )\n",
    "    table.create(checkfirst=True)\n",
    "    \n",
    "    for measurement in measurements:\n",
    "        i = table.insert()\n",
    "        i.execute(**measurement)\n",
    "store(measurements)"
   ]
  },
  {
   "cell_type": "markdown",
   "metadata": {},
   "source": [
    "#### <span style=\"color:green\">Simple</span>"
   ]
  },
  {
   "cell_type": "code",
   "execution_count": 10,
   "metadata": {
    "collapsed": true
   },
   "outputs": [],
   "source": [
    "def store(measurements):\n",
    "    import json\n",
    "    with open('measurements.json', 'w') as f:\n",
    "        f.write(json.dumps(measurements))\n",
    "store(measurements)"
   ]
  },
  {
   "cell_type": "markdown",
   "metadata": {},
   "source": [
    "#### Note\n",
    "\n",
    "In the complex example a database is created to store the measurements on the disk. While in some cases it is useful to create a database in this case a simple json file will be sufficient."
   ]
  },
  {
   "cell_type": "markdown",
   "metadata": {},
   "source": [
    "[back to TOC](#0)\n",
    "## 4. Complex is better than complicated <a class=\"anchor\" id=\"4\"></a>"
   ]
  },
  {
   "cell_type": "markdown",
   "metadata": {},
   "source": [
    "https://stackoverflow.com/questions/4568704/what-does-complex-is-better-than-complicated-mean"
   ]
  },
  {
   "cell_type": "markdown",
   "metadata": {},
   "source": [
    "#### <span style=\"color:red\">Complicated</span>"
   ]
  },
  {
   "cell_type": "code",
   "execution_count": 14,
   "metadata": {},
   "outputs": [
    {
     "name": "stdout",
     "output_type": "stream",
     "text": [
      "0\n",
      "1\n",
      "2\n",
      "3\n",
      "4\n"
     ]
    }
   ],
   "source": [
    "counter = 0\n",
    "while counter < 5:\n",
    "    print(counter)\n",
    "    counter += 1"
   ]
  },
  {
   "cell_type": "markdown",
   "metadata": {},
   "source": [
    "#### <span style=\"color:green\">Complex</span>"
   ]
  },
  {
   "cell_type": "code",
   "execution_count": 15,
   "metadata": {},
   "outputs": [
    {
     "name": "stdout",
     "output_type": "stream",
     "text": [
      "0\n",
      "1\n",
      "2\n",
      "3\n",
      "4\n"
     ]
    }
   ],
   "source": [
    "for i in range(5):\n",
    "    print(i)"
   ]
  },
  {
   "cell_type": "markdown",
   "metadata": {},
   "source": [
    "#### Note\n",
    "\n",
    "The first example (complicated) is very easy to understand. It is not complex. However, it is complicated. You do not need to manually perform most of the steps above. The second example is more complex than the first. But knowing the documentation of `range` you can understand it by a single glance. Many steps are hidden behind an easy-to-use-interface.\n",
    "\n",
    "As processes grow bigger, the gap between complicated and complex gets wider and wider."
   ]
  },
  {
   "cell_type": "markdown",
   "metadata": {},
   "source": [
    "[back to TOC](#0) \n",
    "## 5. Flat is better than nested <a class=\"anchor\" id=\"5\"></a>"
   ]
  },
  {
   "cell_type": "markdown",
   "metadata": {},
   "source": [
    "Goal: Create a function that is used in a tic-tac-toe game and takes in the board for the game (a 3x3 nested list) along with the users character (x or o). This function checks if the users character occurs 3 times in a row on the board (horizontally or vertically)."
   ]
  },
  {
   "cell_type": "code",
   "execution_count": 32,
   "metadata": {},
   "outputs": [],
   "source": [
    "play_board = [['o', '',  'x'],\n",
    "              ['o', 'x', 'o'],\n",
    "              ['o', '',  'x']]"
   ]
  },
  {
   "cell_type": "markdown",
   "metadata": {},
   "source": [
    "#### <span style=\"color:red\">Nested</span>"
   ]
  },
  {
   "cell_type": "code",
   "execution_count": 29,
   "metadata": {},
   "outputs": [
    {
     "data": {
      "text/plain": [
       "False"
      ]
     },
     "execution_count": 29,
     "metadata": {},
     "output_type": "execute_result"
    }
   ],
   "source": [
    "def straight_check(play_board, item):\n",
    "    for x in range(3):\n",
    "        # reset the counters in inner loop\n",
    "        cnt_hori, cnt_vert = 0, 0  \n",
    "        for y in range(3):\n",
    "            if play_board[x][y] == item:\n",
    "                cnt_hori += 1\n",
    "                if cnt_hori == 3:\n",
    "                    return True\n",
    "            if play_board[y][x] == item:\n",
    "                cnt_vert += 1\n",
    "                if cnt_vert == 3:\n",
    "                    return True\n",
    "    return False\n",
    "\n",
    "straight_check(play_board, 'x')"
   ]
  },
  {
   "cell_type": "markdown",
   "metadata": {},
   "source": [
    "#### <span style=\"color:green\">Flat</span>"
   ]
  },
  {
   "cell_type": "code",
   "execution_count": 30,
   "metadata": {},
   "outputs": [
    {
     "data": {
      "text/plain": [
       "True"
      ]
     },
     "execution_count": 30,
     "metadata": {},
     "output_type": "execute_result"
    }
   ],
   "source": [
    "def straight_check(play_board, item):\n",
    "    if any(all(x == item for x in row) for row in play_board):\n",
    "        return True\n",
    "    if any(all(x == item for x in col) for col in zip(*play_board)):\n",
    "        return True\n",
    "    return False\n",
    "\n",
    "straight_check(play_board, 'x')"
   ]
  },
  {
   "cell_type": "markdown",
   "metadata": {},
   "source": [
    "#### Note\n",
    "\n",
    "The first example is difficult to read due to the nested for-loops and if-statements. The second example is a lot easier to read."
   ]
  },
  {
   "cell_type": "markdown",
   "metadata": {},
   "source": [
    "[back to TOC](#0) \n",
    "## 6. Sparse is better than dense <a class=\"anchor\" id=\"6\"></a>"
   ]
  },
  {
   "cell_type": "markdown",
   "metadata": {
    "collapsed": true
   },
   "source": [
    "goal: check if the following condition is true:\n",
    "- starting number $\\leq$ 3\n",
    "- end number = 8\n",
    "- 6 is an item of a list with remaining numbers"
   ]
  },
  {
   "cell_type": "markdown",
   "metadata": {},
   "source": [
    "#### <span style=\"color:red\">dense</span>"
   ]
  },
  {
   "cell_type": "code",
   "execution_count": 34,
   "metadata": {},
   "outputs": [
    {
     "name": "stdout",
     "output_type": "stream",
     "text": [
      "True\n"
     ]
    }
   ],
   "source": [
    "starting_number,end_number,remaining_number_list=1,8,[1,6,5,3,2]\n",
    "if starting_number<=3 and end_number==8 and 6 in remaining_number_list:\n",
    "    print('True')"
   ]
  },
  {
   "cell_type": "markdown",
   "metadata": {},
   "source": [
    "#### <span style=\"color:green\">Sparse</span>"
   ]
  },
  {
   "cell_type": "code",
   "execution_count": 36,
   "metadata": {},
   "outputs": [
    {
     "name": "stdout",
     "output_type": "stream",
     "text": [
      "True\n"
     ]
    }
   ],
   "source": [
    "starting_number = 1\n",
    "end_number = 8 \n",
    "remaining_number_list = [1, 6, 5, 3, 2]\n",
    "\n",
    "cond1 = starting_number <= 3\n",
    "cond2 = end_number == 8\n",
    "cond3 = 6 in remaining_number_list\n",
    "\n",
    "if cond1 and cond2 and cond3:\n",
    "    print('True')"
   ]
  },
  {
   "cell_type": "markdown",
   "metadata": {},
   "source": [
    "[back to TOC](#0) \n",
    "## 7. Readability counts <a class=\"anchor\" id=\"7\"></a>"
   ]
  },
  {
   "cell_type": "markdown",
   "metadata": {},
   "source": [
    "goal: define width and length and use them to determine the area."
   ]
  },
  {
   "cell_type": "markdown",
   "metadata": {},
   "source": [
    "#### <span style=\"color:red\">Difficult to read</span>"
   ]
  },
  {
   "cell_type": "code",
   "execution_count": 38,
   "metadata": {},
   "outputs": [
    {
     "name": "stdout",
     "output_type": "stream",
     "text": [
      "288\n"
     ]
    }
   ],
   "source": [
    "wr34 = 16\n",
    "lr34l = 18\n",
    "Ar34_w_ll = wr34 * lr34l\n",
    "print(Ar34_w_ll)"
   ]
  },
  {
   "cell_type": "markdown",
   "metadata": {},
   "source": [
    "#### <span style=\"color:green\">Easy to read</span>"
   ]
  },
  {
   "cell_type": "code",
   "execution_count": 39,
   "metadata": {},
   "outputs": [
    {
     "name": "stdout",
     "output_type": "stream",
     "text": [
      "288\n"
     ]
    }
   ],
   "source": [
    "width = 16\n",
    "length = 18\n",
    "area = width * length\n",
    "print(area)"
   ]
  },
  {
   "cell_type": "markdown",
   "metadata": {},
   "source": [
    "[back to TOC](#0) \n",
    "## 8. Special cases aren't special enough to break the rules, although practicality beats purity <a class=\"anchor\" id=\"8\"></a>"
   ]
  },
  {
   "cell_type": "markdown",
   "metadata": {},
   "source": [
    "#### <span style=\"color:green\">practicality beats purity</span>"
   ]
  },
  {
   "cell_type": "code",
   "execution_count": 1,
   "metadata": {
    "collapsed": true
   },
   "outputs": [],
   "source": [
    "from tkinter import *"
   ]
  },
  {
   "cell_type": "markdown",
   "metadata": {},
   "source": [
    "#### Note\n",
    "\n",
    "The * import is deprecated, see [Explicit is better than implicit](#2). However, sometimes practicality beats purity. The `tkinter` module is an exception of this since `tkinter` provides the enormous number of names (mostly constants like RIGHT or VERTICAL) which are convenient to use without prefix. Additionally, PEP 8 states do not break backwards compatibility just to comply with this PEP! and since tkinter is frequently imported in this way currently, this sentiment applies here."
   ]
  },
  {
   "cell_type": "markdown",
   "metadata": {},
   "source": [
    "[back to TOC](#0) \n",
    "## 9. Errors should never pass silently, unless explicitly silenced <a class=\"anchor\" id=\"9\"></a>"
   ]
  },
  {
   "cell_type": "markdown",
   "metadata": {},
   "source": [
    "### <span style=\"color:red\">Any error passes silently</span>"
   ]
  },
  {
   "cell_type": "code",
   "execution_count": 40,
   "metadata": {},
   "outputs": [
    {
     "name": "stdout",
     "output_type": "stream",
     "text": [
      "Please enter a number: str\n"
     ]
    },
    {
     "ename": "NameError",
     "evalue": "name 'no' is not defined",
     "output_type": "error",
     "traceback": [
      "\u001b[1;31m---------------------------------------------------------------------------\u001b[0m",
      "\u001b[1;31mNameError\u001b[0m                                 Traceback (most recent call last)",
      "\u001b[1;32m<ipython-input-40-27292c56f756>\u001b[0m in \u001b[0;36m<module>\u001b[1;34m()\u001b[0m\n\u001b[0;32m      4\u001b[0m     \u001b[1;32mpass\u001b[0m\u001b[1;33m\u001b[0m\u001b[0m\n\u001b[0;32m      5\u001b[0m \u001b[1;33m\u001b[0m\u001b[0m\n\u001b[1;32m----> 6\u001b[1;33m \u001b[0mprint\u001b[0m\u001b[1;33m(\u001b[0m\u001b[0mno\u001b[0m\u001b[1;33m)\u001b[0m\u001b[1;33m\u001b[0m\u001b[0m\n\u001b[0m",
      "\u001b[1;31mNameError\u001b[0m: name 'no' is not defined"
     ]
    }
   ],
   "source": [
    "try:\n",
    "    no = float(input('Please enter a number: '))\n",
    "except:\n",
    "    pass\n",
    "\n",
    "print(no)"
   ]
  },
  {
   "cell_type": "markdown",
   "metadata": {},
   "source": [
    "### <span style=\"color:green\">explicitly silence error</span>"
   ]
  },
  {
   "cell_type": "code",
   "execution_count": 41,
   "metadata": {},
   "outputs": [
    {
     "name": "stdout",
     "output_type": "stream",
     "text": [
      "Please enter a number: str\n",
      "this is not a number\n"
     ]
    }
   ],
   "source": [
    "try:\n",
    "    no = float(input('Please enter a number: '))\n",
    "except ValueError:\n",
    "    print('this is not a number')"
   ]
  },
  {
   "cell_type": "markdown",
   "metadata": {},
   "source": [
    "#### Note\n",
    "\n",
    "Catch only exceptions you really expect and are prepared to recover from; all others are likely either mistakes you should fix, or something you are not prepared for anyway. If something unexpected goes wrong, then your code silently continues and breaks in completely unpredictable ways that no one can debug. Passing specific exceptions is fine if you really don’t need to do something about them. In all other cases, it’s just a sign of presumption and being lazy. And you definitely want to fix that."
   ]
  },
  {
   "cell_type": "markdown",
   "metadata": {},
   "source": [
    "[back to TOC](#0) \n",
    "## 10. In the face of ambiguity, refuse the temptation to guess <a class=\"anchor\" id=\"10\"></a>"
   ]
  },
  {
   "cell_type": "markdown",
   "metadata": {},
   "source": [
    "goal: print 'yes' if `a` is false and `b` is true"
   ]
  },
  {
   "cell_type": "code",
   "execution_count": 42,
   "metadata": {},
   "outputs": [],
   "source": [
    "a = False\n",
    "b = True"
   ]
  },
  {
   "cell_type": "markdown",
   "metadata": {},
   "source": [
    "### <span style=\"color:red\">Ambiguous</span>"
   ]
  },
  {
   "cell_type": "code",
   "execution_count": 43,
   "metadata": {},
   "outputs": [
    {
     "name": "stdout",
     "output_type": "stream",
     "text": [
      "yes\n"
     ]
    }
   ],
   "source": [
    "if not a and b:\n",
    "    print('yes')"
   ]
  },
  {
   "cell_type": "markdown",
   "metadata": {},
   "source": [
    "### <span style=\"color:green\">Clear</span>"
   ]
  },
  {
   "cell_type": "code",
   "execution_count": 44,
   "metadata": {},
   "outputs": [
    {
     "name": "stdout",
     "output_type": "stream",
     "text": [
      "yes\n"
     ]
    }
   ],
   "source": [
    "if (not a) and b:\n",
    "    print('yes')"
   ]
  },
  {
   "cell_type": "markdown",
   "metadata": {},
   "source": [
    "#### Note\n",
    "in the first example it is not clear what will happen. What binds more tightly `not` or `and`? So will the if statement be evaluated as `not (a and b)` or `(not a) and b`.\n",
    "\n",
    "In the second example it is clear that `not a` is evaluated first and then compared with `b`. Although both examples eventually do the same thing. The second is less ambiguous\n"
   ]
  },
  {
   "cell_type": "markdown",
   "metadata": {},
   "source": [
    "[back to TOC](#0) \n",
    "## 11. There should be one-- and preferably only one --obvious way to do it. Although that way may not be obvious at first unless you're Dutch <a class=\"anchor\" id=\"11\"></a>"
   ]
  },
  {
   "cell_type": "markdown",
   "metadata": {},
   "source": [
    "This mostly refers to other programming languages in which multiple ways are used to do the same thing and you should learn every way. The idea of Python is that you should only learn one way to do it. Preferably there is only one module to do something. In practice this is not always the case but most answers on stackoverflow will refer to the most pythonic way to do something which refers to the one way to do it.\n",
    "\n",
    "Compared to languages like Perl, Python has a limited number of control constructs:\n",
    "\n",
    "- only if and no unless,\n",
    "- only for that iterates over sequences and no foreach or C-style for,\n",
    "- only while that checks a condition every loop and no do-while,\n",
    "- only if-elif and no switch,\n",
    "- there's only one comment construct, the #, and for every line you can tell if it is commented out or not, without looking at previous lines."
   ]
  },
  {
   "cell_type": "markdown",
   "metadata": {},
   "source": [
    "#### Note\n",
    "\n",
    "The reference to the Dutch is because the creator of Python Guido van Rossum is Dutch."
   ]
  },
  {
   "cell_type": "markdown",
   "metadata": {},
   "source": [
    "[back to TOC](#0) \n",
    "## 12. Now is better than never. Although never is often better than right now <a class=\"anchor\" id=\"12\"></a>"
   ]
  },
  {
   "cell_type": "markdown",
   "metadata": {
    "collapsed": true
   },
   "source": [
    "It is a two parter:\n",
    "\n",
    " > Now is better than never\n",
    "\n",
    "Don't spend too much time planning and pre-optimising; get something down that does the job and iterate on it (or: fix that issue now rather than putting it off).\n",
    "\n",
    " > Never is often better than right now\n",
    "\n",
    "But do put some thought into it, so you don't head off down a path that later means there's no graceful way back"
   ]
  },
  {
   "cell_type": "markdown",
   "metadata": {},
   "source": [
    "[back to TOC](#0) \n",
    "## 13. If the implementation is hard to explain, it's a bad idea. If the implementation is easy to explain, it may be a good idea. <a class=\"anchor\" id=\"13\"></a>"
   ]
  },
  {
   "cell_type": "code",
   "execution_count": 45,
   "metadata": {},
   "outputs": [],
   "source": [
    "condition1 = 1\n",
    "condition2 = 0\n",
    "condition3 = 1"
   ]
  },
  {
   "cell_type": "markdown",
   "metadata": {},
   "source": [
    "### <span style=\"color:red\">Hard to explain</span>"
   ]
  },
  {
   "cell_type": "code",
   "execution_count": 52,
   "metadata": {},
   "outputs": [
    {
     "name": "stdout",
     "output_type": "stream",
     "text": [
      "some other text\n"
     ]
    }
   ],
   "source": [
    "if(condition1):\n",
    "    if(condition2):\n",
    "        if(condition3):\n",
    "            print(\"some text\")\n",
    "        else:\n",
    "            print(\"some more text\")\n",
    "    else:\n",
    "         print(\"some other text\")\n",
    "else:\n",
    "     print(\"Text\")"
   ]
  },
  {
   "cell_type": "markdown",
   "metadata": {},
   "source": [
    "### <span style=\"color:green\">Easy to explain</span>"
   ]
  },
  {
   "cell_type": "code",
   "execution_count": 53,
   "metadata": {},
   "outputs": [
    {
     "name": "stdout",
     "output_type": "stream",
     "text": [
      "some other text\n"
     ]
    }
   ],
   "source": [
    "if condition1 and condition2 and condition3:\n",
    "    print(\"some text\")\n",
    "elif condition1 and condition2 and not condition3:\n",
    "    print(\"some more text\")\n",
    "elif condition1 and not condition2:\n",
    "    print(\"some other text\")\n",
    "else:\n",
    "    print(\"Text\")"
   ]
  },
  {
   "cell_type": "markdown",
   "metadata": {},
   "source": [
    "#### Note\n",
    "This is also an example of flat is better than nested. "
   ]
  },
  {
   "cell_type": "markdown",
   "metadata": {},
   "source": [
    "[back to TOC](#0) \n",
    "## 14. Namespaces are one honking great idea -- let's do more of those! <a class=\"anchor\" id=\"14\"></a>"
   ]
  },
  {
   "cell_type": "markdown",
   "metadata": {},
   "source": [
    "When you do an assignment, like `a = 10`, you're adding the variable `a` to the namespace. When you use the variable `a`, in for example `print(a)`, Python looks in the namespace for `a` and will print it's corresponding value."
   ]
  },
  {
   "cell_type": "code",
   "execution_count": 54,
   "metadata": {},
   "outputs": [
    {
     "name": "stdout",
     "output_type": "stream",
     "text": [
      "10\n"
     ]
    }
   ],
   "source": [
    "a = 10\n",
    "print(a)"
   ]
  },
  {
   "cell_type": "markdown",
   "metadata": {},
   "source": [
    "Multiple Python namespaces can co-exist. In a function you can assign a value to a variable name. This variable name can only be accessed from inside the function. The namespace inside the function is called the \"local namespace\". The namespace in which the function is defined is called the \"global namespace\". The built in functions such as `int()`, `str()` and `float()` are always accesible and their namespace is refered to as the \"built-in namespace\"."
   ]
  },
  {
   "cell_type": "code",
   "execution_count": 55,
   "metadata": {},
   "outputs": [
    {
     "name": "stdout",
     "output_type": "stream",
     "text": [
      "True\n"
     ]
    }
   ],
   "source": [
    "def func(a):\n",
    "    \n",
    "    b = 10\n",
    "    \n",
    "    return a*b\n",
    "\n",
    "func(3)\n",
    "print(b)"
   ]
  },
  {
   "cell_type": "markdown",
   "metadata": {},
   "source": [
    "When you try to access a variable, Python will look first in the local namespace, then the global namespace and finally the built-in namespace. See the example below."
   ]
  },
  {
   "cell_type": "code",
   "execution_count": 56,
   "metadata": {},
   "outputs": [
    {
     "name": "stdout",
     "output_type": "stream",
     "text": [
      "100\n",
      "50\n"
     ]
    }
   ],
   "source": [
    "def func1(b):\n",
    "    return(a*b)\n",
    "\n",
    "\n",
    "def func2(b):\n",
    "    a = 5\n",
    "    return(a*b)\n",
    "\n",
    "\n",
    "print(func(10))\n",
    "print(func2(10))"
   ]
  },
  {
   "cell_type": "markdown",
   "metadata": {},
   "source": [
    "When `func1` is called, Python will look for the variable `a` in the local namespace. Python won't be able to find the variable `a` in the local namespace and Python will look for `a` in the global namespace. Python finds `a` refering to the value `10` and thus returns `10 * 10 = 100`.\n",
    "\n",
    "In `func2` the variable `a` can be found in the local namespace and `5 * 10 = 50` is returned"
   ]
  },
  {
   "cell_type": "markdown",
   "metadata": {},
   "source": [
    "[back to TOC](#0)\n",
    "\n",
    "## Acknowledgement <a class=\"anchor\" id=\"acknowledgement\"></a>"
   ]
  },
  {
   "cell_type": "markdown",
   "metadata": {},
   "source": [
    "This notebook was created using the following sources:\n",
    "- https://gist.github.com/evandrix/2030615\n",
    "- https://docs.python-guide.org/\n",
    "- https://stackoverflow.com/questions/4568704/what-does-complex-is-better-than-complicated-mean\n",
    "- https://stackoverflow.com/questions/47759436/is-using-nested-for-loops-good-practice\n",
    "- https://stackoverflow.com/questions/48746351/tkinter-documentation-is-contradicting-pep8\n",
    "- https://softwareengineering.stackexchange.com/questions/96411/concrete-examples-of-pythons-only-one-way-to-do-it-maxim\n",
    "- https://stackoverflow.com/questions/20531943/what-is-the-meaning-of-pythons-philosophy-never-is-often-better-than-right-n\n",
    "- https://www.quora.com/What-do-different-aphorisms-in-The-Zen-of-Python-mean\n",
    "- https://softwareengineering.stackexchange.com/questions/273302/what-is-the-relationship-between-scope-and-namespaces-in-python\n",
    "- https://stackoverflow.com/questions/21553327/why-is-except-pass-a-bad-programming-practice"
   ]
  }
 ],
 "metadata": {
  "kernelspec": {
   "display_name": "Python 3",
   "language": "python",
   "name": "python3"
  },
  "language_info": {
   "codemirror_mode": {
    "name": "ipython",
    "version": 3
   },
   "file_extension": ".py",
   "mimetype": "text/x-python",
   "name": "python",
   "nbconvert_exporter": "python",
   "pygments_lexer": "ipython3",
   "version": "3.7.0"
  }
 },
 "nbformat": 4,
 "nbformat_minor": 2
}
