{
 "cells": [
  {
   "cell_type": "markdown",
   "metadata": {},
   "source": [
    "<figure>\n",
    "   <IMG SRC=\"https://mamba-python.nl/images/logo_basis.png\" WIDTH=125 ALIGN=\"right\">\n",
    "   \n",
    "</figure>\n",
    "\n",
    "# Common pitfalls\n",
    "\n",
    "<br>\n",
    "\n",
    "\n",
    "\n",
    "\n",
    "This notebook is created for the MAMBA Python course to explain the common pitfalls using Python.\n",
    "<br><br>\n",
    "<div style=\"text-align: right\"> developed by MAMBA </div>"
   ]
  },
  {
   "cell_type": "markdown",
   "metadata": {},
   "source": [
    "Table of content:<a class=\"anchor\" id=\"0\"></a>\n",
    "1. [variable names](#1)\n",
    "    1. [reusing variable names](#11)\n",
    "    2. [built-in functions](#12)\n",
    "2. [nested loops and statements](#2)\n",
    "3. [copy-paste](#4)\n",
    "4. [answers to exercises](#answers)"
   ]
  },
  {
   "cell_type": "code",
   "execution_count": null,
   "metadata": {},
   "outputs": [],
   "source": [
    "import numpy as np\n",
    "import matplotlib.pyplot as plt\n",
    "import pandas as pd\n",
    "%matplotlib inline"
   ]
  },
  {
   "cell_type": "markdown",
   "metadata": {},
   "source": [
    "[back to TOC](#0)\n",
    "## 1. variable names<a class=\"anchor\" id=\"1\"></a>"
   ]
  },
  {
   "cell_type": "markdown",
   "metadata": {},
   "source": [
    "Naming your variables may sound trivial but it is actually quite important for the readability of your code. Some naming conventions are written down in PEP-8. Keeping to these allows for the next reader to easily understand which are function names, class names, packages etc. \n",
    "\n",
    "An example of a widely adopted naming convention is shown below. The convention is that <b>variables and function names</b> should be <b>lowercase</b>, with words separated by <b>underscores</b> as necessary to improve readability."
   ]
  },
  {
   "cell_type": "code",
   "execution_count": null,
   "metadata": {},
   "outputs": [],
   "source": [
    "# according to conventions (PEP-8)\n",
    "list_of_animals = ['dog', 'cat', 'mouse', 'duck']\n",
    "\n",
    "# not according to conventions (PEP-8)\n",
    "ListOfAnimals = ['dog','cat','mouse','duck']"
   ]
  },
  {
   "cell_type": "markdown",
   "metadata": {},
   "source": [
    "### A. reusing variable names<a class=\"anchor\" id=\"11\"></a>"
   ]
  },
  {
   "cell_type": "code",
   "execution_count": null,
   "metadata": {},
   "outputs": [],
   "source": []
  },
  {
   "cell_type": "markdown",
   "metadata": {},
   "source": [
    "#### Exercise 1\n"
   ]
  },
  {
   "cell_type": "code",
   "execution_count": null,
   "metadata": {},
   "outputs": [],
   "source": []
  },
  {
   "cell_type": "markdown",
   "metadata": {},
   "source": [
    "#### answer"
   ]
  },
  {
   "cell_type": "code",
   "execution_count": null,
   "metadata": {},
   "outputs": [],
   "source": []
  },
  {
   "cell_type": "markdown",
   "metadata": {},
   "source": [
    "### B. built-in functions<a class=\"anchor\" id=\"12\"></a>\n",
    "\n",
    "There are a number of built-in functions that are available without importing them via a package. These functions can be shown with the command below."
   ]
  },
  {
   "cell_type": "code",
   "execution_count": null,
   "metadata": {},
   "outputs": [],
   "source": [
    "dir(__builtin__)"
   ]
  },
  {
   "cell_type": "markdown",
   "metadata": {},
   "source": [
    "If you use a built-in function as a variable name, you overwrite the built-in function and cannot use it anymore. See the two examples below. You have to restart the kernel  <button class='btn btn-default btn-xs'><i class='fa fa-repeat icon-repeat'></i></button> in order to retrieve the built-in function. \n",
    "Note: after you understood the examples and did the exercise it may be helpful to comment out the cells below. Otherwise you constantly have to restart the kernel if you accidentally run these cells. You can comment out a cell by selecting its code and press `[ctrl][/]`."
   ]
  },
  {
   "cell_type": "code",
   "execution_count": null,
   "metadata": {},
   "outputs": [],
   "source": [
    "# example 1\n",
    "range(0,3)       #The built-in function range generates the integer numbers between the given start integer to the stop integer\n",
    "print([x for x in range(0,3)])\n",
    "\n",
    "range = (3,6)    #this overwrites the built-in function 'range'\n",
    "print([x for x in range])\n",
    "\n",
    "range(0,3)      #now you cannot call this function anymore!"
   ]
  },
  {
   "cell_type": "code",
   "execution_count": null,
   "metadata": {},
   "outputs": [],
   "source": [
    "# example 2\n",
    "list = [1,2,3] #this overwrites the built-in function 'list'\n",
    "a = (5,4,7)    #if you want to convert this tuple to a list you get an error\n",
    "list(a)"
   ]
  },
  {
   "cell_type": "markdown",
   "metadata": {},
   "source": [
    "#### Exercise 2\n",
    "You have an integer, a float and a list. You want to divide the integer by the float and use the remainder as an index for the list. The code below gives a TypeError. Try to find out what causes the error and change the code to avoid it."
   ]
  },
  {
   "cell_type": "code",
   "execution_count": null,
   "metadata": {},
   "outputs": [],
   "source": [
    "int   = 2\n",
    "float = 2.0\n",
    "a_list = [1, 2, 3, 4]\n",
    "\n",
    "index_a = int/float\n",
    "\n",
    "print(a[int(index_a)])"
   ]
  },
  {
   "cell_type": "markdown",
   "metadata": {},
   "source": [
    "#### answer"
   ]
  },
  {
   "cell_type": "code",
   "execution_count": null,
   "metadata": {},
   "outputs": [],
   "source": []
  },
  {
   "cell_type": "markdown",
   "metadata": {},
   "source": [
    "[back to TOC](#0)\n",
    "\n",
    "## 2. loops<a class=\"anchor\" id=\"2\"></a>\n",
    "\n",
    "loops are a very powerful tool but can make code slow and hard to read. The common approach is to avoid loops, especially nested loops, if possible. "
   ]
  },
  {
   "cell_type": "markdown",
   "metadata": {},
   "source": [
    "### A. avoid loops with pandas<a class=\"anchor\" id=\"21\"></a>\n",
    "\n",
    "The example below is about a pandas DataFrame with data from a whatsapp conversation. Every row has a datetime, user and message (the text is ommited because of privacy issues)."
   ]
  },
  {
   "cell_type": "code",
   "execution_count": null,
   "metadata": {},
   "outputs": [],
   "source": [
    "df = pd.read_csv(r'..\\..\\..\\..\\Practical_examples\\whatsapp data\\data\\_chat_df.csv')\n",
    "df['datetime'] = pd.to_datetime(df['Unnamed: 0'])\n",
    "del df['Unnamed: 0']\n",
    "df.head()"
   ]
  },
  {
   "cell_type": "markdown",
   "metadata": {},
   "source": [
    "Let's say you want to get a new column with the hour of the day of each row. You could use a for-loop to loop over every row and get the hour of the day from the datetime column. See the example below. This will take some time. Using the `%%time` command you can see how much time."
   ]
  },
  {
   "cell_type": "code",
   "execution_count": null,
   "metadata": {},
   "outputs": [],
   "source": [
    "%%time\n",
    "df['hour'] = 0\n",
    "for row_no, row in df.iterrows():\n",
    "    df.loc[row_no]['hour'] = row['datetime'].hour\n",
    "print(df.head())"
   ]
  },
  {
   "cell_type": "markdown",
   "metadata": {},
   "source": [
    "There is an alternative for the for-loop, this is in general referred to as a vectorized solution. The operation is not executed row-by-row but on the whole vector (column) at once. The example below shows a vectorized solution."
   ]
  },
  {
   "cell_type": "code",
   "execution_count": null,
   "metadata": {},
   "outputs": [],
   "source": [
    "df['hour'] = df['datetime'].dt.hour\n",
    "df.head()"
   ]
  },
  {
   "cell_type": "markdown",
   "metadata": {},
   "source": [
    "#### exercise 3\n",
    "\n",
    "Create a new colum 'user_int' that only contains the number of the user as an integer. You can check the dtype of the column with `df['user_int'].dtype`."
   ]
  },
  {
   "cell_type": "markdown",
   "metadata": {},
   "source": [
    "#### answer"
   ]
  },
  {
   "cell_type": "code",
   "execution_count": null,
   "metadata": {},
   "outputs": [],
   "source": []
  },
  {
   "cell_type": "markdown",
   "metadata": {},
   "source": [
    "### B. avoid nested for loops<a class=\"anchor\" id=\"22\"></a>\n",
    "\n",
    "Consider the code below in which an image of a ship is blurred by taking the average gray value of a 10x10 pixel patch.\n",
    "\n",
    "source: https://realpython.com/numpy-array-programming/"
   ]
  },
  {
   "cell_type": "code",
   "execution_count": null,
   "metadata": {},
   "outputs": [],
   "source": [
    "from skimage import io\n",
    "url = ('https://www.history.navy.mil/bin/imageDownload?image=/'\n",
    "        'content/dam/nhhc/our-collections/photography/images/'\n",
    "        '80-G-410000/80-G-416362&rendition=cq5dam.thumbnail.319.319.png')\n",
    "img = io.imread(url, as_grey=True)\n",
    "fig, ax = plt.subplots()\n",
    "ax.imshow(img, cmap='gray')"
   ]
  },
  {
   "cell_type": "code",
   "execution_count": null,
   "metadata": {},
   "outputs": [],
   "source": [
    "# using a nested for loop\n",
    "m, n = img.shape\n",
    "mm, nn = m - size + 1, n - size + 1\n",
    "\n",
    "patch_means = np.empty((mm, nn))\n",
    "for i in range(mm):\n",
    "    for j in range(nn):\n",
    "        patch_means[i, j] = img[i: i+size, j: j+size].mean()\n",
    "\n",
    "fig, ax = plt.subplots()\n",
    "ax.imshow(patch_means, cmap='gray')\n",
    "ax.grid(False)"
   ]
  },
  {
   "cell_type": "code",
   "execution_count": null,
   "metadata": {
    "scrolled": true
   },
   "outputs": [],
   "source": [
    "shape = (img.shape[0] - size + 1, img.shape[1] - size + 1, size, size)\n",
    "patches = stride_tricks.as_strided(img, shape=shape, strides=img.strides*2)\n",
    "veclen = 10**2\n",
    "patches.reshape(*patches.shape[:2], veclen).mean(axis=-1).shape\n",
    "strided_means = patches.mean(axis=(-1, -2))\n",
    "\n",
    "fig, ax = plt.subplots()\n",
    "ax.imshow(strided_means, cmap='gray')\n",
    "ax.grid(False)"
   ]
  },
  {
   "cell_type": "markdown",
   "metadata": {},
   "source": [
    "#### Exercise 4\n",
    "\n",
    "Below you see some code to calculate the sum of the rows and the columns of a numpy array. The code contains a nested for loop. Find a way to calculate the sum of the rows and columns without using a nested for-loop.\n",
    "\n",
    "Bonus: find a way to calculate the sum of the rows and columns without using a for-loop at all."
   ]
  },
  {
   "cell_type": "code",
   "execution_count": null,
   "metadata": {},
   "outputs": [],
   "source": [
    "rand_arr = np.random.random(size=(3,4))\n",
    "rand_arr"
   ]
  },
  {
   "cell_type": "code",
   "execution_count": null,
   "metadata": {},
   "outputs": [],
   "source": [
    "row_sum_list = []\n",
    "col_sum_list = []\n",
    "for i in range(len(rand_arr)):\n",
    "    row_sum = 0\n",
    "    for j in range(len(rand_arr[i])):\n",
    "        row_sum += rand_arr[i][j]\n",
    "        if i==0:\n",
    "            col_sum_list.append(np.sum(rand_arr[:,j]))\n",
    "    row_sum_list.append(row_sum)\n",
    "\n",
    "print('sum of rows',row_sum_list)\n",
    "print('sum of columns',col_sum_list)"
   ]
  },
  {
   "cell_type": "markdown",
   "metadata": {},
   "source": [
    "#### answer"
   ]
  },
  {
   "cell_type": "code",
   "execution_count": null,
   "metadata": {},
   "outputs": [],
   "source": []
  },
  {
   "cell_type": "markdown",
   "metadata": {},
   "source": [
    "[back to TOC](#0)\n",
    "\n",
    "## 3. copy-paste <a class=\"anchor\" id=\"3\"></a>\n",
    "\n",
    "copy and paste is both a blessing and a curse for programming. It may look obvious to copy-paste a piece of code if you need it again. However this may turn out to be very time consuming in the end."
   ]
  },
  {
   "cell_type": "code",
   "execution_count": null,
   "metadata": {},
   "outputs": [],
   "source": [
    "df2 = pd.DataFrame({ 'A' : 1.,\n",
    "                     'B' : pd.Timestamp('20130102'),\n",
    "                     'C' : pd.Series(1,index=list(range(4)),dtype='float32'),\n",
    "                     'D' : np.array([3] * 4,dtype='int32'),\n",
    "                     'E' : pd.Categorical([\"test\",\"train\",\"test\",\"train\"]),\n",
    "                     'F' : 'foo' })"
   ]
  },
  {
   "cell_type": "markdown",
   "metadata": {},
   "source": [
    "#### Exercise 5\n"
   ]
  },
  {
   "cell_type": "code",
   "execution_count": null,
   "metadata": {},
   "outputs": [],
   "source": []
  },
  {
   "cell_type": "markdown",
   "metadata": {},
   "source": [
    "#### answer"
   ]
  },
  {
   "cell_type": "code",
   "execution_count": null,
   "metadata": {},
   "outputs": [],
   "source": []
  },
  {
   "cell_type": "markdown",
   "metadata": {},
   "source": [
    "[back to TOC](#0)\n",
    "\n",
    "## 4. answers to exercises <a class=\"anchor\" id=\"answers\"></a>"
   ]
  },
  {
   "cell_type": "markdown",
   "metadata": {},
   "source": [
    "#### answer to exercise 1"
   ]
  },
  {
   "cell_type": "code",
   "execution_count": null,
   "metadata": {},
   "outputs": [],
   "source": []
  },
  {
   "cell_type": "markdown",
   "metadata": {},
   "source": [
    "#### answer to exercise 2\n",
    "You need to rename the variables int and float to avoid overriding the built-in functions `int()` and `float()`.\n",
    "\n",
    "Note: if you used `int` as a variable name you need to restart the kernel <button class='btn btn-default btn-xs'><i class='fa fa-repeat icon-repeat'></i></button> to be able to use the `int()` built-in function."
   ]
  },
  {
   "cell_type": "code",
   "execution_count": null,
   "metadata": {},
   "outputs": [],
   "source": [
    "no_int   = 2\n",
    "no_float = 2.0\n",
    "a_list   = ['item 0','item 1', 'item 2', 'item 3']\n",
    "\n",
    "index_a = no_int/no_float\n",
    "\n",
    "print(a_list[int(index_a)])"
   ]
  },
  {
   "cell_type": "markdown",
   "metadata": {},
   "source": [
    "#### answer to exercise 3"
   ]
  },
  {
   "cell_type": "code",
   "execution_count": null,
   "metadata": {},
   "outputs": [],
   "source": [
    "df['user_int'] = df.user.str[-1].astype('int')\n",
    "df.head()"
   ]
  },
  {
   "cell_type": "markdown",
   "metadata": {},
   "source": [
    "#### answer to exercise 4"
   ]
  },
  {
   "cell_type": "code",
   "execution_count": null,
   "metadata": {},
   "outputs": [],
   "source": [
    "# answer 1 without nested for-loops\n",
    "row_sum_list = []\n",
    "for i in range(len(rand_arr)):\n",
    "    row_sum_list.append(np.sum(rand_arr[i,:]))\n",
    "    \n",
    "col_sum_list = []    \n",
    "for j in range(len(rand_arr[0])):\n",
    "    col_sum_list.append(np.sum(rand_arr[:,j]))\n",
    "    \n",
    "print('sum of rows',row_sum_list)\n",
    "print('sum of columns',col_sum_list)"
   ]
  },
  {
   "cell_type": "code",
   "execution_count": null,
   "metadata": {},
   "outputs": [],
   "source": [
    "# answer 2 without for-loops\n",
    "print('sum of rows', rand_arr.sum(axis=1))\n",
    "print('sum of columns', rand_arr.sum(axis=0))"
   ]
  },
  {
   "cell_type": "code",
   "execution_count": null,
   "metadata": {},
   "outputs": [],
   "source": [
    "# answer 3 without for-loops\n",
    "print('sum of rows', np.sum(rand_arr, axis=1))\n",
    "print('sum of columns', np.sum(rand_arr, axis=0))"
   ]
  },
  {
   "cell_type": "markdown",
   "metadata": {},
   "source": [
    "#### answer to exercise 5"
   ]
  },
  {
   "cell_type": "code",
   "execution_count": null,
   "metadata": {},
   "outputs": [],
   "source": []
  }
 ],
 "metadata": {
  "kernelspec": {
   "display_name": "Python [default]",
   "language": "python",
   "name": "python3"
  },
  "language_info": {
   "codemirror_mode": {
    "name": "ipython",
    "version": 3
   },
   "file_extension": ".py",
   "mimetype": "text/x-python",
   "name": "python",
   "nbconvert_exporter": "python",
   "pygments_lexer": "ipython3",
   "version": "3.6.3"
  }
 },
 "nbformat": 4,
 "nbformat_minor": 2
}
