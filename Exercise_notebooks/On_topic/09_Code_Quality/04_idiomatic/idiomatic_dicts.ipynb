{
 "cells": [
  {
   "cell_type": "markdown",
   "metadata": {},
   "source": [
    "# Idiomatic dictionaries"
   ]
  },
  {
   "cell_type": "markdown",
   "metadata": {},
   "source": [
    "## `get` - default value of a non existing key while accessing\n",
    "Especially handy if you're unsure about the presence of a key."
   ]
  },
  {
   "cell_type": "code",
   "execution_count": null,
   "metadata": {
    "execution": {
     "iopub.execute_input": "2020-10-22T13:33:28.609278Z",
     "iopub.status.busy": "2020-10-22T13:33:28.609278Z",
     "iopub.status.idle": "2020-10-22T13:33:28.624903Z",
     "shell.execute_reply": "2020-10-22T13:33:28.624903Z"
    }
   },
   "outputs": [],
   "source": [
    "my_dict = {'a': 1, 'b': 2, 'c': 3}"
   ]
  },
  {
   "cell_type": "markdown",
   "metadata": {},
   "source": [
    "<font color='red'>Don't do it like this.</font>"
   ]
  },
  {
   "cell_type": "code",
   "execution_count": null,
   "metadata": {
    "execution": {
     "iopub.execute_input": "2020-10-22T13:33:28.624903Z",
     "iopub.status.busy": "2020-10-22T13:33:28.624903Z",
     "iopub.status.idle": "2020-10-22T13:33:28.640526Z",
     "shell.execute_reply": "2020-10-22T13:33:28.640526Z"
    }
   },
   "outputs": [],
   "source": [
    "if 'g' in my_dict:\n",
    "    value = my_dict['g']\n",
    "else:\n",
    "    value = 'some default value'\n",
    "print(value)"
   ]
  },
  {
   "cell_type": "markdown",
   "metadata": {},
   "source": [
    "<font color='red'>Or like this.</font>"
   ]
  },
  {
   "cell_type": "code",
   "execution_count": null,
   "metadata": {
    "execution": {
     "iopub.execute_input": "2020-10-22T13:33:28.640526Z",
     "iopub.status.busy": "2020-10-22T13:33:28.640526Z",
     "iopub.status.idle": "2020-10-22T13:33:28.657674Z",
     "shell.execute_reply": "2020-10-22T13:33:28.657674Z"
    }
   },
   "outputs": [],
   "source": [
    "try:\n",
    "    value = my_dict['g']\n",
    "except KeyError:\n",
    "    value = 'some default value'\n",
    "print(value)"
   ]
  },
  {
   "cell_type": "markdown",
   "metadata": {},
   "source": [
    "### <font color='green'>Do it like this!</font>"
   ]
  },
  {
   "cell_type": "code",
   "execution_count": null,
   "metadata": {
    "execution": {
     "iopub.execute_input": "2020-10-22T13:33:28.657674Z",
     "iopub.status.busy": "2020-10-22T13:33:28.657674Z",
     "iopub.status.idle": "2020-10-22T13:33:28.673352Z",
     "shell.execute_reply": "2020-10-22T13:33:28.673352Z"
    }
   },
   "outputs": [],
   "source": [
    "value = my_dict.get('g', 'some default value')\n",
    "print(value)"
   ]
  },
  {
   "cell_type": "markdown",
   "metadata": {},
   "source": [
    "Note that if you don't provide the default value for `get`, the return value will be `None` if the key is not present in the dictionary"
   ]
  },
  {
   "cell_type": "code",
   "execution_count": null,
   "metadata": {
    "execution": {
     "iopub.execute_input": "2020-10-22T13:33:28.673352Z",
     "iopub.status.busy": "2020-10-22T13:33:28.673352Z",
     "iopub.status.idle": "2020-10-22T13:33:28.688978Z",
     "shell.execute_reply": "2020-10-22T13:33:28.688978Z"
    }
   },
   "outputs": [],
   "source": [
    "value = my_dict.get('g')\n",
    "print(value is None)"
   ]
  },
  {
   "cell_type": "markdown",
   "metadata": {},
   "source": [
    "## `setdefault` - same as `get` but also sets the value if not present"
   ]
  },
  {
   "cell_type": "markdown",
   "metadata": {},
   "source": [
    "<font color='red'>Don't do it like this.</font>"
   ]
  },
  {
   "cell_type": "code",
   "execution_count": null,
   "metadata": {
    "execution": {
     "iopub.execute_input": "2020-10-22T13:33:28.693505Z",
     "iopub.status.busy": "2020-10-22T13:33:28.693505Z",
     "iopub.status.idle": "2020-10-22T13:33:28.709139Z",
     "shell.execute_reply": "2020-10-22T13:33:28.709139Z"
    }
   },
   "outputs": [],
   "source": [
    "my_dict = {'a': 1, 'b': 2, 'c': 3}\n",
    "\n",
    "key = 'g'\n",
    "if key in my_dict:\n",
    "    value = my_dict[key]\n",
    "else:\n",
    "    value = 'some default value'\n",
    "    my_dict[key] = value\n",
    "    \n",
    "print(value)\n",
    "print(my_dict)"
   ]
  },
  {
   "cell_type": "markdown",
   "metadata": {},
   "source": [
    "### <font color='green'>Let's do it like this!</font>"
   ]
  },
  {
   "cell_type": "code",
   "execution_count": null,
   "metadata": {
    "execution": {
     "iopub.execute_input": "2020-10-22T13:33:28.709139Z",
     "iopub.status.busy": "2020-10-22T13:33:28.709139Z",
     "iopub.status.idle": "2020-10-22T13:33:28.724811Z",
     "shell.execute_reply": "2020-10-22T13:33:28.724811Z"
    }
   },
   "outputs": [],
   "source": [
    "my_dict = {'a': 1, 'b': 2, 'c': 3}\n",
    "\n",
    "key = 'g'\n",
    "value = my_dict.setdefault(key, 'some default value')\n",
    "\n",
    "print(value)\n",
    "print(my_dict)"
   ]
  },
  {
   "cell_type": "markdown",
   "metadata": {},
   "source": [
    "## Comprehensions\n",
    "Let's say we have a collection of numbers and we want to store those as a dictionary where the number is key and it's square is the value."
   ]
  },
  {
   "cell_type": "code",
   "execution_count": null,
   "metadata": {
    "execution": {
     "iopub.execute_input": "2020-10-22T13:33:28.724811Z",
     "iopub.status.busy": "2020-10-22T13:33:28.724811Z",
     "iopub.status.idle": "2020-10-22T13:33:28.740433Z",
     "shell.execute_reply": "2020-10-22T13:33:28.740433Z"
    }
   },
   "outputs": [],
   "source": [
    "numbers = (1, 5, 10)"
   ]
  },
  {
   "cell_type": "markdown",
   "metadata": {},
   "source": [
    "<font color='red'>Don't do it like this.</font>"
   ]
  },
  {
   "cell_type": "code",
   "execution_count": null,
   "metadata": {
    "execution": {
     "iopub.execute_input": "2020-10-22T13:33:28.740433Z",
     "iopub.status.busy": "2020-10-22T13:33:28.740433Z",
     "iopub.status.idle": "2020-10-22T13:33:28.756006Z",
     "shell.execute_reply": "2020-10-22T13:33:28.756006Z"
    }
   },
   "outputs": [],
   "source": [
    "squares = {}\n",
    "for num in numbers:\n",
    "    squares[num] = num**2\n",
    "print(squares)"
   ]
  },
  {
   "cell_type": "markdown",
   "metadata": {},
   "source": [
    "### <font color='green'>Do it like this!</font>"
   ]
  },
  {
   "cell_type": "code",
   "execution_count": null,
   "metadata": {
    "execution": {
     "iopub.execute_input": "2020-10-22T13:33:28.756006Z",
     "iopub.status.busy": "2020-10-22T13:33:28.756006Z",
     "iopub.status.idle": "2020-10-22T13:33:28.771682Z",
     "shell.execute_reply": "2020-10-22T13:33:28.771682Z"
    }
   },
   "outputs": [],
   "source": [
    "squares = {num: num**2 for num in numbers}\n",
    "print(squares)"
   ]
  },
  {
   "cell_type": "markdown",
   "metadata": {},
   "source": [
    "### Another example"
   ]
  },
  {
   "cell_type": "code",
   "execution_count": null,
   "metadata": {
    "execution": {
     "iopub.execute_input": "2020-10-22T13:33:28.771682Z",
     "iopub.status.busy": "2020-10-22T13:33:28.771682Z",
     "iopub.status.idle": "2020-10-22T13:33:28.787306Z",
     "shell.execute_reply": "2020-10-22T13:33:28.787306Z"
    }
   },
   "outputs": [],
   "source": [
    "keys = ('a', 'b', 'c')\n",
    "values = [True, 100, 'John Doe']"
   ]
  },
  {
   "cell_type": "markdown",
   "metadata": {},
   "source": [
    "<font color='red'>Don't do it like this.</font>"
   ]
  },
  {
   "cell_type": "code",
   "execution_count": null,
   "metadata": {
    "execution": {
     "iopub.execute_input": "2020-10-22T13:33:28.793812Z",
     "iopub.status.busy": "2020-10-22T13:33:28.793812Z",
     "iopub.status.idle": "2020-10-22T13:33:28.809494Z",
     "shell.execute_reply": "2020-10-22T13:33:28.809494Z"
    }
   },
   "outputs": [],
   "source": [
    "my_dict = {}\n",
    "for idx, key in enumerate(keys):\n",
    "    my_dict[key] = values[idx]\n",
    "print(my_dict)"
   ]
  },
  {
   "cell_type": "markdown",
   "metadata": {},
   "source": [
    "### <font color='green'>Do it like this!</font>"
   ]
  },
  {
   "cell_type": "code",
   "execution_count": null,
   "metadata": {
    "execution": {
     "iopub.execute_input": "2020-10-22T13:33:28.809494Z",
     "iopub.status.busy": "2020-10-22T13:33:28.809494Z",
     "iopub.status.idle": "2020-10-22T13:33:28.825065Z",
     "shell.execute_reply": "2020-10-22T13:33:28.825065Z"
    }
   },
   "outputs": [],
   "source": [
    "my_dict = {k: v for k, v in zip(keys, values)}\n",
    "print(my_dict)\n",
    "\n",
    "# Or even like this:\n",
    "my_dict2 = dict(zip(keys, values))\n",
    "\n",
    "assert my_dict2 == my_dict"
   ]
  },
  {
   "cell_type": "markdown",
   "metadata": {},
   "source": [
    "## Looping"
   ]
  },
  {
   "cell_type": "code",
   "execution_count": null,
   "metadata": {
    "execution": {
     "iopub.execute_input": "2020-10-22T13:33:28.825065Z",
     "iopub.status.busy": "2020-10-22T13:33:28.825065Z",
     "iopub.status.idle": "2020-10-22T13:33:28.840689Z",
     "shell.execute_reply": "2020-10-22T13:33:28.840689Z"
    }
   },
   "outputs": [],
   "source": [
    "my_dict = {'age': 83, 'is gangster': True, 'name': 'John Doe'}"
   ]
  },
  {
   "cell_type": "markdown",
   "metadata": {},
   "source": [
    "<font color='red'>Don't do it like this.</font>"
   ]
  },
  {
   "cell_type": "code",
   "execution_count": null,
   "metadata": {
    "execution": {
     "iopub.execute_input": "2020-10-22T13:33:28.840689Z",
     "iopub.status.busy": "2020-10-22T13:33:28.840689Z",
     "iopub.status.idle": "2020-10-22T13:33:28.856313Z",
     "shell.execute_reply": "2020-10-22T13:33:28.856313Z"
    }
   },
   "outputs": [],
   "source": [
    "for key in my_dict:\n",
    "    val = my_dict[key]\n",
    "    print('key: {:15s} value: {}'.format(key, val))"
   ]
  },
  {
   "cell_type": "markdown",
   "metadata": {},
   "source": [
    "### <font color='green'>Do it like this!</font>"
   ]
  },
  {
   "cell_type": "code",
   "execution_count": null,
   "metadata": {
    "execution": {
     "iopub.execute_input": "2020-10-22T13:33:28.856313Z",
     "iopub.status.busy": "2020-10-22T13:33:28.856313Z",
     "iopub.status.idle": "2020-10-22T13:33:28.871937Z",
     "shell.execute_reply": "2020-10-22T13:33:28.871937Z"
    }
   },
   "outputs": [],
   "source": [
    "for key, val in my_dict.items():\n",
    "    print('key: {:15s} value: {}'.format(key, val))"
   ]
  }
 ],
 "metadata": {
  "kernelspec": {
   "display_name": "Python [default]",
   "language": "python",
   "name": "python3"
  },
  "language_info": {
   "codemirror_mode": {
    "name": "ipython",
    "version": 3
   },
   "file_extension": ".py",
   "mimetype": "text/x-python",
   "name": "python",
   "nbconvert_exporter": "python",
   "pygments_lexer": "ipython3",
   "version": "3.8.6"
  }
 },
 "nbformat": 4,
 "nbformat_minor": 2
}
