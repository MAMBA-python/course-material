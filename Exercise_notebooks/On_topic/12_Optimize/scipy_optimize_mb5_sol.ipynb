{
 "cells": [
  {
   "cell_type": "markdown",
   "metadata": {},
   "source": [
    "<figure>\n",
    "  <IMG SRC=\"https://raw.githubusercontent.com/mbakker7/exploratory_computing_with_python/master/tudelft_logo.png\" WIDTH=250 ALIGN=\"right\">\n",
    "</figure>\n",
    "\n",
    "# Exploratory Computing with Python\n",
    "*Developed by Mark Bakker*"
   ]
  },
  {
   "cell_type": "markdown",
   "metadata": {},
   "source": [
    "## Notebook 5: Finding the zero of a function"
   ]
  },
  {
   "cell_type": "markdown",
   "metadata": {},
   "source": [
    "Finding the zero of a function is a very common task in exploratory computing. In mathematics it is also called *root finding*. The `scipy` package contains a number of methods to find the (approximate) value of the zero of a function of one or more variables. In this Notebook, we will program two methods ourselves, the Bisection method and Newton's method. At the end of the Notebook, we use the corresponding functions of `scipy` to obtain the same results."
   ]
  },
  {
   "cell_type": "code",
   "execution_count": 1,
   "metadata": {
    "collapsed": false
   },
   "outputs": [],
   "source": [
    "import numpy as np\n",
    "import matplotlib.pyplot as plt\n",
    "%matplotlib inline"
   ]
  },
  {
   "cell_type": "markdown",
   "metadata": {},
   "source": [
    "### Bisection method\n",
    "The Bisection method is a simple method to find the zero of a function. The user needs to specify the function $f(x)$ and two values of $x$ between which $f(x)$ is zero - let's call those two points $x_1$ and $x_2$. As $f(x)$ equals zero somewhere between $x_1$ and $x_2$, that means that $f(x)$ is positive at $x_1$ or $x_2$ and negative at the other one. In other words, the product of the two function values is negative: $f(x_1)f(x_2)<0$. If this condition is fulfilled, all we know is that $f(x)$ is zero somewhere in the interval between $x_1$ and $x_2$ (provided $f(x)$ is continuous, of course). The basic idea of the Bisection method is to iterate towards the zero of the function by cutting the interval in half every iteration. This is done by computing the middle between $x_1$ and $x_2$, let's call that point $x_m$, and compute $f(x_m)$. Next, replace either $x_1$ or $x_2$ by $x_m$ making sure that $f(x)$ remains negative at one of the two values and positive at the other. Repeat the process until the interval is small enough. In summary, the algorithm works as follows:\n",
    "\n",
    "1. Compute $f(x)$ at $x_1$ and $x_2$ and make sure that $f(x_1)f(x_2)<0$.\n",
    "2. Compute $x_m = \\frac{1}{2}(x_1+x_2)$.\n",
    "3. Compute $f(x_m)$.\n",
    "4. If $f(x_m)f(x_2)<0$, replace $x_1$ by $x_m$, otherwise, replace $x_2$ by $x_m$.\n",
    "5. Test whether $|x_1-x_2|<\\varepsilon$, where $\\varepsilon$ is a user-specified tolerance. If this is not yet the case, return to step 2."
   ]
  },
  {
   "cell_type": "markdown",
   "metadata": {},
   "source": [
    "Recall that a function may simply be passed as the argument to another function in Python. The example below contains a function called `square_me` that returns the square of any function of one variable, evaluated at the provided value of $x$. As an example, `square_me` is used with the `cos` function"
   ]
  },
  {
   "cell_type": "code",
   "execution_count": 2,
   "metadata": {
    "collapsed": false
   },
   "outputs": [
    {
     "name": "stdout",
     "output_type": "stream",
     "text": [
      "result of square_me function: 0.4272499830956933\n",
      "directly taking the square  : 0.4272499830956933\n"
     ]
    }
   ],
   "source": [
    "def square_me(func, x):\n",
    "    return func(x) ** 2\n",
    "print('result of square_me function:', square_me(np.cos, 4))\n",
    "print('directly taking the square  :', np.cos(4) ** 2)"
   ]
  },
  {
   "cell_type": "markdown",
   "metadata": {},
   "source": [
    "### Exercise 1. <a name=\"back1\"></a>\n",
    "Write a Python function for $f(x)=\\frac{1}{2}-\\text{e}^{-x}$. Create a plot of $f(x)$ for $x$ varying from 0 to 4. Notice that $f(x)$ has a zero somewhere on the plotted interval (for this example it isn't really that hard to determine the zero exactly, of course, and we will do that later on to test whether our code works correctly)."
   ]
  },
  {
   "cell_type": "code",
   "execution_count": null,
   "metadata": {
    "collapsed": false
   },
   "outputs": [],
   "source": []
  },
  {
   "cell_type": "markdown",
   "metadata": {},
   "source": [
    "<a href=\"#ex1answer\">Answers to Exercise 1</a>"
   ]
  },
  {
   "cell_type": "markdown",
   "metadata": {},
   "source": [
    "### Exercise 2. <a name=\"back2\"></a>Bisection method\n",
    "Implement the bisection method in a function called `bisection`. Your `bisection` method should take the following arguments:\n",
    "\n",
    "1. The function for which you want to find the zero.\n",
    "2. $x_1$ and $x_2$\n",
    "3. The tolerance `tol` used as a stopping criterion. Make `tol` a keyword argument with a default value of 0.001.\n",
    "4. The maximum number of iterations `nmax`. Make `nmax` a keyword argument with a default value of, for example, 10.\n",
    "\n",
    "Your function should return the value of $x$ where $f(x)$ equals (approximately) zero. Your function should print a warning to the screen when the maximum number of iterations is reached before the tolerance is met.\n",
    "\n",
    "In writing your code, implement steps 2-5 of the algorithm explained above in a regular loop that you perform `nmax` times and break out of the loop (using the `break` command) when the tolerance is met. Doing it this way will prevent you from getting stuck in an infinite loop, which may happen if you use a `while` loop. \n",
    "In writing your code it is advisable to print the values of $x_1$, $x_2$, $f(x_1)$, and $f(x_2)$ to the screen every iteration, so you can see how your `bisection` function performs (or whether you have any bugs left). \n",
    "\n",
    "Use your `bisection` method to find the zero of the function $f(x)$ you programmed in Step 1 and make sure it is within `tol=0.001` of the exact value. "
   ]
  },
  {
   "cell_type": "code",
   "execution_count": null,
   "metadata": {
    "collapsed": false
   },
   "outputs": [],
   "source": []
  },
  {
   "cell_type": "markdown",
   "metadata": {},
   "source": [
    "Demonstrate that your `bisection` method works correctly by finding the zero of cos($x$) between $x_1=0$ and $x_2=3$ running the following command:\n",
    "\n",
    "`bisection(np.cos, 0, 3, tol=1e-6, nmax=30)`"
   ]
  },
  {
   "cell_type": "code",
   "execution_count": null,
   "metadata": {
    "collapsed": false
   },
   "outputs": [],
   "source": []
  },
  {
   "cell_type": "markdown",
   "metadata": {},
   "source": [
    "<a href=\"#ex2answer\">Answers to Exercise 2</a>"
   ]
  },
  {
   "cell_type": "markdown",
   "metadata": {},
   "source": [
    "### Newton's method"
   ]
  },
  {
   "cell_type": "markdown",
   "metadata": {},
   "source": [
    "The Bisection method is a brute-force method that is guaranteed to work when the user specifies an interval from $x_1$ to $x_2$ that contains a zero (and the function is continuous). The Bisection method is not very efficient (it requires a lot of function evaluations) and it is inconvienient that the user has to specify an interval that contains the zero. A smarter alternative is Newton's method (also called the Newton-Raphson method), but it is, unfortunately, not guaranteed that it always works, as is explained below. \n",
    "\n",
    "Let's try to find the zero of the function represented by the blue line in the graph below. Newton's method starts at a user-defined starting location, called $x_0$ here and shown with the blue dot. A straight line is fitted through the point $(x,y)=(x_0,f(x_0))$ in such a way that the line is tangent to $f(x)$ at $x_0$ (the red line). The intersection of the red line with the horizontal axis is the next estimate $x_1$ of the zero of the function (the red dot). This process is continued until a value of $f(x)$ is found that is sufficiently small. Hence, a straight line is fitted through the point $(x,y)=(x_1,f(x_1))$, again tangent to the function, and the intersection of this line with the horizontal axis is the next best estimate of the zero of the function, etc., etc.\n",
    "\n",
    "\n",
    "<img src=\"http://i.imgur.com/tK1EOtD.png\" alt=\"Newton's method on wikipedia\">\n",
    "\n",
    "The equation for a straight line with slope $a$ and through the point $x_n,f(x_n)$ is\n",
    "\n",
    "$$y = a(x-x_n) + f(x_n)$$\n",
    "\n",
    "As we want the line to be tangent to the function $f(x)$ at the point $x=x_n$, the slope $a$ is equal to the derivative of $f(x)$ at $x_n$: $a=f'(x_n)$. To find the intersection of the line with the horizontal axis, we have to find the value of $x$ that results in $y=0$. This is our next estimate $x_{n+1}$ of the zero of the function. Hence we need to solve\n",
    "\n",
    "$$0 = f'(x_n) (x_{n+1}-x_n) + f(x_n)$$\n",
    "\n",
    "which gives\n",
    "\n",
    "$$\\boxed{x_{n+1} = x_n - f(x_n)/f'(x_n)}$$\n",
    "\n",
    "The search is completed when $|f(x)|$ is below a user-specified tolerance.\n",
    "A nice animated illustration of Newton's method can be found on wikipedia (we will learn how to make cool animations like this in a later Notebook).\n",
    "\n",
    "<img src=\"http://upload.wikimedia.org/wikipedia/commons/e/e0/NewtonIteration_Ani.gif\" alt=\"Newton's method on wikipedia\" width=\"400px\">"
   ]
  },
  {
   "cell_type": "markdown",
   "metadata": {},
   "source": [
    "Newton's method is guaranteed to find the zero of a function if the function is *well behaved* and you start your search *close enough* to the zero. If those two conditions are met, Newton's method is very fast. If they are not met, the method does not converge to the zero. Another disadvantage of Newton's method is that you need to define the derivative of the function. Strangely enough, the function value doesn't have to go down every iteration (as is illustated in animation above going from $x_2$ to $x_3$)."
   ]
  },
  {
   "cell_type": "markdown",
   "metadata": {},
   "source": [
    "### Exercise 3. <a name=\"back3\"></a>Newton's method\n",
    "Implement Newton's method in a Python function called `newtonsmethod` and test your function by finding the zero of $f(x)=\\frac{1}{2}-\\text{e}^{-x}$, as we used in Exercise 1. Use $x_0=1$ as the starting point of your search. The `newtonsmethod` function should take the following arguments:\n",
    "\n",
    "1. The function for which you want to find the zero.\n",
    "2. The derivative of the function for which you want to find the zero.\n",
    "3. The starting point of the search $x_0$.\n",
    "4. The tolerance `tol` used as a stopping criterion. Make `tol` a keyword argument with a default value of $10^{-6}$.\n",
    "5. The maximum number of iterations `nmax`. Make `nmax` a keyword argument with a default value of 10.\n",
    "\n",
    "Your function should return the value of $x$ where $f(x)$ equals (approximately) zero. Your function should print a warning to the screen when the maximum number of iterations is reached before the tolerance is met. \n",
    "\n",
    "It is suggested that during development of your script, you print the value of $x_{n+1}$ and the corresponding function value to the screen every iteration so you know whether your function is making good progress. If you implement everything correctly, you should find a zero that gives a function value less than $10^{-6}$ within 3 iterations if you start at $x=1$. How many iterations do you need when you start at $x=4$?"
   ]
  },
  {
   "cell_type": "code",
   "execution_count": null,
   "metadata": {
    "collapsed": false
   },
   "outputs": [],
   "source": []
  },
  {
   "cell_type": "markdown",
   "metadata": {},
   "source": [
    "<a href=\"#ex3answer\">Answers to Exercise 3</a>"
   ]
  },
  {
   "cell_type": "markdown",
   "metadata": {},
   "source": [
    "### Exercise 4. <a name=\"back4\"></a>\n",
    "Demonstrate that your `newton` function works by finding the zero of $\\sin(x)$. As you know, the $\\sin(x)$ function has many zeros: $-2\\pi$, $-\\pi$, $0$, $pi$, $2\\pi$, etc. Which zero do you find when starting at $x=1$ and which zero do you find when starting at $x=1.5$?"
   ]
  },
  {
   "cell_type": "code",
   "execution_count": null,
   "metadata": {
    "collapsed": false
   },
   "outputs": [],
   "source": []
  },
  {
   "cell_type": "markdown",
   "metadata": {},
   "source": [
    "<a href=\"#ex4answer\">Answers to Exercise 4</a>"
   ]
  },
  {
   "cell_type": "markdown",
   "metadata": {},
   "source": [
    "### Root finding methods in `scipy`\n",
    "The package `scipy.optimize` includes a number of routines for the minimization of a function and to find the zeros of a function. Two of the rootfinding methods are called, no suprise, `bisect` and `newton`. But possibly the most popular root finding method is called `fsolve`. `fsolve` has as additional advantage that is will estimate the derivative of the function for you if you cannot (or don't want to) do it yourself. `fsolve` can even be used to find an (approximate) answer for a system of non-linear equations, but we won't do that here. "
   ]
  },
  {
   "cell_type": "markdown",
   "metadata": {},
   "source": [
    "### Exercise 5.<a name=\"back5\"></a> `fsolve` \n",
    "Use the `fsolve` method of the `scipy.optimize` package to find the $x$ value for which $\\ln(x^2)=2$ (i.e., find the zero of the function $\\ln(x^2)-2$), and demonstrate that your value of $x$ indeed gives $\\ln(x^2)=2$."
   ]
  },
  {
   "cell_type": "code",
   "execution_count": null,
   "metadata": {
    "collapsed": false
   },
   "outputs": [],
   "source": []
  },
  {
   "cell_type": "markdown",
   "metadata": {},
   "source": [
    "<a href=\"#ex5answer\">Answers to Exercise 5</a>"
   ]
  },
  {
   "cell_type": "markdown",
   "metadata": {},
   "source": [
    "### Exercise 6.<a name=\"back6\"></a> Plot the zero\n",
    "Plot the function $f(x)=x+2\\cos(x)$ for $x$ going from -2 to 4. On the same graph, plot a red dot at the location where $f(x)=0$. Obviously, you need to find this location with one of the methods you learned in this Notebook. "
   ]
  },
  {
   "cell_type": "code",
   "execution_count": null,
   "metadata": {
    "collapsed": true
   },
   "outputs": [],
   "source": []
  },
  {
   "cell_type": "markdown",
   "metadata": {},
   "source": [
    "<a href=\"#ex6answer\">Answers to Exercise 6</a>"
   ]
  },
  {
   "cell_type": "markdown",
   "metadata": {},
   "source": [
    "### Answers to the exercises"
   ]
  },
  {
   "cell_type": "markdown",
   "metadata": {},
   "source": [
    "<a name=\"ex1answer\">Answers to Exercise 1</a>"
   ]
  },
  {
   "cell_type": "code",
   "execution_count": 3,
   "metadata": {
    "collapsed": false
   },
   "outputs": [
    {
     "data": {
      "text/plain": [
       "<matplotlib.lines.Line2D at 0x1c41bcb4908>"
      ]
     },
     "execution_count": 3,
     "metadata": {},
     "output_type": "execute_result"
    },
    {
     "data": {
      "image/png": "[encoded data removed]",
      "text/plain": [
       "<Figure size 432x288 with 1 Axes>"
      ]
     },
     "metadata": {
      "needs_background": "light"
     },
     "output_type": "display_data"
    }
   ],
   "source": [
    "def f(x):\n",
    "    return 0.5 - np.exp(-x)\n",
    "\n",
    "x = np.linspace(0, 4, 100)\n",
    "y = f(x)\n",
    "plt.plot(x, y)\n",
    "plt.axhline(0, color='r', ls='--')"
   ]
  },
  {
   "cell_type": "markdown",
   "metadata": {},
   "source": [
    "<a href=\"#back1\">Back to Exercise 1</a>\n",
    "\n",
    "<a name=\"ex2answer\">Answers to Exercise 2</a>"
   ]
  },
  {
   "cell_type": "code",
   "execution_count": 4,
   "metadata": {
    "collapsed": false
   },
   "outputs": [],
   "source": [
    "def bisection(func, x1, x2, tol=1e-3, nmax=10, silent=True):\n",
    "    f1 = func(x1)\n",
    "    f2 = func(x2)\n",
    "    assert f1 * f2< 0, 'Error: zero not in interval x1-x2'\n",
    "    for i in range(nmax):\n",
    "        xm = 0.5*(x1 + x2)\n",
    "        fm = func(xm)\n",
    "        if fm * f2 < 0:\n",
    "            x1 = xm\n",
    "            f1 = fm\n",
    "        else:\n",
    "            x2 = xm\n",
    "            f2 = fm\n",
    "        if silent is False: print(x1, x2, f1, f2)\n",
    "        if abs(x1 - x2) < tol:\n",
    "            break\n",
    "    if abs(func(x1)) > tol:\n",
    "        print('Maximum number of iterations reached')\n",
    "    return x1"
   ]
  },
  {
   "cell_type": "code",
   "execution_count": 5,
   "metadata": {
    "collapsed": false
   },
   "outputs": [
    {
     "name": "stdout",
     "output_type": "stream",
     "text": [
      "zero of function and function value:  0.6923828125 -0.0003823301318282013\n"
     ]
    }
   ],
   "source": [
    "xzero = bisection(func=f, x1=0, x2=4, nmax=20)  \n",
    "print('zero of function and function value: ', xzero, f(xzero))  "
   ]
  },
  {
   "cell_type": "code",
   "execution_count": 6,
   "metadata": {
    "collapsed": false
   },
   "outputs": [
    {
     "name": "stdout",
     "output_type": "stream",
     "text": [
      "cos(x) is zero between 0 and pi at: 1.570796012878418\n",
      "relative error: -1.9984543714192042e-07\n"
     ]
    }
   ],
   "source": [
    "xzero = bisection(func=np.cos, x1=0, x2=3, tol=1e-6, nmax=30)\n",
    "print('cos(x) is zero between 0 and pi at:', xzero)\n",
    "print('relative error:', (xzero - np.pi / 2) / (np.pi / 2))"
   ]
  },
  {
   "cell_type": "markdown",
   "metadata": {},
   "source": [
    "<a href=\"#back2\">Back to Exercise 2</a>\n",
    "\n",
    "<a name=\"ex3answer\">Answers to Exercise 3</a>"
   ]
  },
  {
   "cell_type": "code",
   "execution_count": 7,
   "metadata": {
    "collapsed": true
   },
   "outputs": [],
   "source": [
    "def fp(x):\n",
    "    return np.exp(-x)"
   ]
  },
  {
   "cell_type": "code",
   "execution_count": 8,
   "metadata": {
    "collapsed": false
   },
   "outputs": [],
   "source": [
    "def newtonsmethod(func, funcp, xs, tol=1e-6, nmax=10, silent=True):\n",
    "    f = func(xs)\n",
    "    for i in range(nmax):\n",
    "        fp = funcp(xs)\n",
    "        xs = xs - f/fp\n",
    "        f = func(xs)\n",
    "        if silent is False: print(xs, func(xs))\n",
    "        if abs(f) < tol: \n",
    "            print('tolerance reached in', i+1, 'iterations')\n",
    "            break\n",
    "    if abs(f) > tol:\n",
    "        print('Max number of iterations reached before convergence')\n",
    "    return xs"
   ]
  },
  {
   "cell_type": "code",
   "execution_count": 9,
   "metadata": {
    "collapsed": false
   },
   "outputs": [
    {
     "name": "stdout",
     "output_type": "stream",
     "text": [
      "starting at x=1\n",
      "tolerance reached in 3 iterations\n",
      "xzero, f(xzero)  0.6931462784620456 -4.5104915336047213e-07\n",
      "starting at x=4\n",
      "tolerance reached in 28 iterations\n",
      "xzero, f(xzero)  0.6931471804525837 -5.3680837552860794e-11\n"
     ]
    }
   ],
   "source": [
    "print('starting at x=1')\n",
    "xzero = newtonsmethod(func=f, funcp=fp, xs=1)\n",
    "print('xzero, f(xzero) ', xzero, f(xzero))\n",
    "\n",
    "print('starting at x=4')\n",
    "xzero = newtonsmethod(func=f, funcp=fp, xs=4, nmax=40)\n",
    "print('xzero, f(xzero) ', xzero, f(xzero))"
   ]
  },
  {
   "cell_type": "markdown",
   "metadata": {},
   "source": [
    "<a href=\"#back3\">Back to Exercise 3</a>\n",
    "\n",
    "<a name=\"ex4answer\">Answers to Exercise 4</a>"
   ]
  },
  {
   "cell_type": "code",
   "execution_count": 10,
   "metadata": {
    "collapsed": false
   },
   "outputs": [
    {
     "name": "stdout",
     "output_type": "stream",
     "text": [
      "tolerance reached in 4 iterations\n",
      "starting point is x=1\n",
      "xzero, sin(xzero): 2.923566201412306e-13 2.923566201412306e-13\n",
      "tolerance reached in 3 iterations\n",
      "starting point is x=1.5\n",
      "xzero, sin(xzero): -12.566370614359174 -1.2864981197413093e-15\n",
      "xzero / pi: -4.000000000000001\n"
     ]
    }
   ],
   "source": [
    "xzero = newtonsmethod(func=np.sin, funcp=np.cos, xs=1)\n",
    "print('starting point is x=1')\n",
    "print('xzero, sin(xzero):', xzero, np.sin(xzero))\n",
    "\n",
    "xzero = newtonsmethod(func=np.sin, funcp=np.cos, xs=1.5)\n",
    "print('starting point is x=1.5')\n",
    "print('xzero, sin(xzero):', xzero, np.sin(xzero))\n",
    "print('xzero / pi:', xzero / np.pi)"
   ]
  },
  {
   "cell_type": "markdown",
   "metadata": {},
   "source": [
    "<a href=\"#back4\">Back to Exercise 4</a>\n",
    "\n",
    "<a name=\"ex5answer\">Answers to Exercise 5</a>"
   ]
  },
  {
   "cell_type": "code",
   "execution_count": 11,
   "metadata": {
    "collapsed": false
   },
   "outputs": [
    {
     "name": "stdout",
     "output_type": "stream",
     "text": [
      "x0, function value [2.71828183] [-1.02140518e-14]\n"
     ]
    }
   ],
   "source": [
    "from scipy.optimize import fsolve\n",
    "def h(x):\n",
    "    return np.log(x ** 2) - 2\n",
    "\n",
    "x0 = fsolve(h, 1)\n",
    "print('x0, function value', x0, h(x0))"
   ]
  },
  {
   "cell_type": "markdown",
   "metadata": {},
   "source": [
    "<a href=\"#back5\">Back to Exercise 5</a>\n",
    "\n",
    "<a name=\"ex6answer\">Answers to Exercise 6</a>"
   ]
  },
  {
   "cell_type": "code",
   "execution_count": 12,
   "metadata": {
    "collapsed": false
   },
   "outputs": [
    {
     "data": {
      "text/plain": [
       "<matplotlib.lines.Line2D at 0x1c41c7decf8>"
      ]
     },
     "execution_count": 12,
     "metadata": {},
     "output_type": "execute_result"
    },
    {
     "data": {
      "image/png": "[encoded data removed]",
      "text/plain": [
       "<Figure size 432x288 with 1 Axes>"
      ]
     },
     "metadata": {
      "needs_background": "light"
     },
     "output_type": "display_data"
    }
   ],
   "source": [
    "from scipy.optimize import fsolve\n",
    "def g(x):\n",
    "    return x + 2 * np.cos(x)\n",
    "x = np.linspace(-2, 4, 100)\n",
    "x0 = fsolve(g, 1)\n",
    "plt.plot(x, g(x))\n",
    "plt.plot(x0, g(x0), 'ro')\n",
    "plt.axhline(y=0, color='r')"
   ]
  },
  {
   "cell_type": "markdown",
   "metadata": {},
   "source": [
    "<a href=\"#back6\">Back to Exercise 6</a>"
   ]
  }
 ],
 "metadata": {
  "kernelspec": {
   "display_name": "Python 3",
   "language": "python",
   "name": "python3"
  },
  "language_info": {
   "codemirror_mode": {
    "name": "ipython",
    "version": 3
   },
   "file_extension": ".py",
   "mimetype": "text/x-python",
   "name": "python",
   "nbconvert_exporter": "python",
   "pygments_lexer": "ipython3",
   "version": "3.6.8"
  }
 },
 "nbformat": 4,
 "nbformat_minor": 0
}
