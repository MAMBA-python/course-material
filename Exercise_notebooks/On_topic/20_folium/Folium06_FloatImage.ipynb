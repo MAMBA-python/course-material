{
 "cells": [
  {
   "cell_type": "code",
   "execution_count": null,
   "metadata": {
    "execution": {
     "iopub.execute_input": "2020-10-22T13:37:01.212947Z",
     "iopub.status.busy": "2020-10-22T13:37:01.212947Z",
     "iopub.status.idle": "2020-10-22T13:37:04.099614Z",
     "shell.execute_reply": "2020-10-22T13:37:04.099614Z"
    }
   },
   "outputs": [],
   "source": [
    "import os\n",
    "import folium\n",
    "\n",
    "print(folium.__version__)"
   ]
  },
  {
   "cell_type": "code",
   "execution_count": null,
   "metadata": {
    "execution": {
     "iopub.execute_input": "2020-10-22T13:37:04.099614Z",
     "iopub.status.busy": "2020-10-22T13:37:04.099614Z",
     "iopub.status.idle": "2020-10-22T13:37:04.416017Z",
     "shell.execute_reply": "2020-10-22T13:37:04.416017Z"
    }
   },
   "outputs": [],
   "source": [
    "from folium.plugins import FloatImage\n",
    "\n",
    "url = ('https://raw.githubusercontent.com/SECOORA/static_assets/'\n",
    "       'master/maps/img/rose.png')\n",
    "\n",
    "m = folium.Map([-13, -38.15], zoom_start=10)\n",
    "\n",
    "FloatImage(url, bottom=40, left=65).add_to(m)\n",
    "\n",
    "m.save(os.path.join('results', 'FloatImage.html'))\n",
    "\n",
    "m"
   ]
  },
  {
   "cell_type": "code",
   "execution_count": null,
   "metadata": {},
   "outputs": [],
   "source": []
  }
 ],
 "metadata": {
  "kernelspec": {
   "display_name": "Python [default]",
   "language": "python",
   "name": "python3"
  },
  "language_info": {
   "codemirror_mode": {
    "name": "ipython",
    "version": 3
   },
   "file_extension": ".py",
   "mimetype": "text/x-python",
   "name": "python",
   "nbconvert_exporter": "python",
   "pygments_lexer": "ipython3",
   "version": "3.8.6"
  }
 },
 "nbformat": 4,
 "nbformat_minor": 1
}
