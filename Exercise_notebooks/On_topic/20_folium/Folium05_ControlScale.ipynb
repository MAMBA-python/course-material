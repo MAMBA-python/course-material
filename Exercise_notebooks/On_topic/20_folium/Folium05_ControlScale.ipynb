{
 "cells": [
  {
   "cell_type": "code",
   "execution_count": null,
   "metadata": {},
   "outputs": [],
   "source": [
    "import os\n",
    "import folium\n",
    "\n",
    "print(folium.__version__)"
   ]
  },
  {
   "cell_type": "code",
   "execution_count": null,
   "metadata": {},
   "outputs": [],
   "source": [
    "lon, lat = -38.625, -12.875\n",
    "\n",
    "zoom_start = 8\n",
    "\n",
    "m = folium.Map(\n",
    "    location=[lat, lon],\n",
    "    tiles='OpenStreetMap',\n",
    "    zoom_start=zoom_start,\n",
    "    control_scale=True\n",
    ")\n",
    "\n",
    "m.save(os.path.join('results', 'ControlScale.html'))\n",
    "\n",
    "m"
   ]
  }
 ],
 "metadata": {},
 "nbformat": 4,
 "nbformat_minor": 1
}
