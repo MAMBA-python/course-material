{
 "cells": [
  {
   "cell_type": "code",
   "execution_count": null,
   "metadata": {
    "execution": {
     "iopub.execute_input": "2020-10-22T13:36:30.694047Z",
     "iopub.status.busy": "2020-10-22T13:36:30.694047Z",
     "iopub.status.idle": "2020-10-22T13:36:32.113382Z",
     "shell.execute_reply": "2020-10-22T13:36:32.113382Z"
    }
   },
   "outputs": [],
   "source": [
    "import os\n",
    "import folium\n",
    "\n",
    "print(folium.__version__)"
   ]
  },
  {
   "cell_type": "code",
   "execution_count": null,
   "metadata": {
    "execution": {
     "iopub.execute_input": "2020-10-22T13:36:32.113382Z",
     "iopub.status.busy": "2020-10-22T13:36:32.113382Z",
     "iopub.status.idle": "2020-10-22T13:36:32.260492Z",
     "shell.execute_reply": "2020-10-22T13:36:32.260492Z"
    }
   },
   "outputs": [],
   "source": [
    "import pandas as pd\n",
    "\n",
    "\n",
    "state_geo = os.path.join('data', 'us-states.json')\n",
    "state_unemployment = os.path.join('data', 'US_Unemployment_Oct2012.csv')\n",
    "\n",
    "state_data = pd.read_csv(state_unemployment)\n",
    "\n",
    "m = folium.Map(\n",
    "    location=[48, -102],\n",
    "    zoom_start=3,\n",
    "    tiles='Stamen Toner'\n",
    ")\n",
    "\n",
    "m.choropleth(\n",
    "    state_geo,\n",
    "    data=state_data,\n",
    "    columns=['State', 'Unemployment'],\n",
    "    key_on='feature.id',\n",
    "    fill_color='YlGn',\n",
    "    fill_opacity=0.7,\n",
    "    line_opacity=0.2,\n",
    "    legend_name='Unemployment Rate (%)'\n",
    ")\n",
    "\n",
    "\n",
    "popup = 'Must be on top of the choropleth'\n",
    "\n",
    "folium.CircleMarker(\n",
    "    location=[48, -102],\n",
    "    radius=10,\n",
    "    fill=True,\n",
    "    popup=popup,\n",
    "    weight=1,\n",
    ").add_to(m)\n",
    "\n",
    "m.save(os.path.join('results', 'CheckZorder.html'))\n",
    "\n",
    "m"
   ]
  },
  {
   "cell_type": "code",
   "execution_count": null,
   "metadata": {},
   "outputs": [],
   "source": []
  }
 ],
 "metadata": {
  "kernelspec": {
   "display_name": "Python [default]",
   "language": "python",
   "name": "python3"
  },
  "language_info": {
   "codemirror_mode": {
    "name": "ipython",
    "version": 3
   },
   "file_extension": ".py",
   "mimetype": "text/x-python",
   "name": "python",
   "nbconvert_exporter": "python",
   "pygments_lexer": "ipython3",
   "version": "3.8.6"
  }
 },
 "nbformat": 4,
 "nbformat_minor": 1
}
