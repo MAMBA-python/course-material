{
 "cells": [
  {
   "cell_type": "markdown",
   "metadata": {},
   "source": [
    "<figure>\n",
    "   <IMG SRC=\"https://mamba-python.nl/images/logo_basis.png\" WIDTH=125 ALIGN=\"right\">\n",
    "</figure>\n",
    "\n",
    "# Modules en Packages\n",
    "_door Onno Ebbens_\n",
    "<hr>\n",
    "\n",
    "Deze notebook laat zien hoe Python modules en packages zijn opgebouwd. Daarbij zijn er opgaven met antwoorden\n",
    "\n",
    "### Inhoudsopgave<a id=\"top\"></a>\n",
    "1. [Packages & modules](#1)\n",
    "2. [Structuur module](#structuur_mod)   \n",
    "3. [Structuur package](#structuur_pack)\n",
    "4. [Installatie package](#installatie)\n",
    "5. [Antwoorden](#Antwoorden)"
   ]
  },
  {
   "cell_type": "markdown",
   "metadata": {},
   "source": [
    "## 1. [Packages & modules](#top)<a id=\"1\"></a>\n",
    "\n",
    "De termen packages & modules worden vaak door elkaar gebruikt omdat ze erg op elkaar lijken. Toch betekenen de termen niet hetzelfde. \n",
    "- Een module is een bestand met een .py extensie waarin Python code staat. \n",
    "- Een package is een map (directory) met daarin in ieder geval een `__init__.py` bestand. Meestal staan er ook nog andere .py bestanden en/of mappen in een package. Een Python package bestaat dus uit één of meerdere Python modules.\n",
    "\n",
    "Zowel packages als modules kan je importeren in een Python script. Hieronder laten we zien hoe dit werkt."
   ]
  },
  {
   "cell_type": "markdown",
   "metadata": {},
   "source": [
    "### importeren module\n",
    "We importeren de module `example_module.py`. Dit bestand bevat de volgende code:\n",
    "```\n",
    "01    def my_add(argument1, argument2):\n",
    "02        \"\"\"\n",
    "03        adds two input arguments.\n",
    "04        \n",
    "05        Parameters\n",
    "06        ----------\n",
    "07        argument1 : int, float, str\n",
    "08            input argument 1\n",
    "09        argument2 : int, float, str\n",
    "10            input arguement 2\n",
    "11            \n",
    "12        Returns\n",
    "13        -------\n",
    "14        results : int, float or str\n",
    "15            the two added input arguments   \n",
    "16        \"\"\"\n",
    "17        result = argument1 + argument2\n",
    "18        return result\n",
    "```"
   ]
  },
  {
   "cell_type": "code",
   "execution_count": null,
   "metadata": {},
   "outputs": [],
   "source": [
    "import example_module"
   ]
  },
  {
   "cell_type": "markdown",
   "metadata": {},
   "source": [
    "Nadat we de module geïmporteerd hebben kunnen we de functie gebruiken die is gedefinieerd in de module."
   ]
  },
  {
   "cell_type": "code",
   "execution_count": null,
   "metadata": {},
   "outputs": [],
   "source": [
    "example_module.my_add(5,10)"
   ]
  },
  {
   "cell_type": "markdown",
   "metadata": {},
   "source": [
    "Wanneer je een module probeert te importeren met `import <modulenaam>` gaat Python op zoek naar het bestand met de naam `<modulenaam>.py`. Python zoekt in een aantal, vooraf gedefinieerde mappen. Deze mappen zijn gedefinieerd in `sys.path`. Het bestand `example_module.py` staat in één van de mappen in `sys.path` dus lukt het Python deze te importeren.\n",
    "\n",
    "Welke mappen in `sys.path` staan kan je eenvoudig opvragen met onderstaande code."
   ]
  },
  {
   "cell_type": "code",
   "execution_count": null,
   "metadata": {},
   "outputs": [],
   "source": [
    "import sys\n",
    "sys.path"
   ]
  },
  {
   "cell_type": "markdown",
   "metadata": {},
   "source": [
    "**Let Op!**<br>\n",
    "Als je een module importeert worden de mappen in `sys.path` één voor één doorlopen. Op het moment dat in de map een .py bestand staat met de juiste naam stopt Python met zoeken en importeert hij deze module. Wanneer je meerdere modules met dezelfde naam hebt kan het lastig zijn om te achterhalen uit welke map de module is geïmporteerd. Het is daarom aan te raden altijd een unieke naam te kiezen voor een module. Het is ook mogelijk te achterhalen vanuit welke map een module is geïmporteerd. Het volledige path van de module is namelijk opslagen in de `__file__` attribute van de module (zie code hieronder)."
   ]
  },
  {
   "cell_type": "code",
   "execution_count": null,
   "metadata": {},
   "outputs": [],
   "source": [
    "print(f'module path is -> {example_module.__file__}')"
   ]
  },
  {
   "cell_type": "markdown",
   "metadata": {},
   "source": [
    "### importeren package\n",
    "Het importeren van een package lijkt op het importeren van een module. Waar je bij een module de naam van het .py bestand gebruikt om deze te importeren gebruik je bij een package de naam van map (directory) waarin de package bestanden staan. Ook voor een package geldt dat Python zoekt in de `sys.path` mappen naar een map met de naam van de package.\n",
    "\n",
    "Hieronder staat code om een package met de naam `somepackage` te importeren. Omdat deze package niet in één van de mappen in `sys.path` staat, voegen we eerst de map waarin de package staat toe aan `sys.path`. Dit is de map: 'example_package'. Vervolgens roepen we ook weer de `my_add` functie aan die in `somepackage` zit."
   ]
  },
  {
   "cell_type": "code",
   "execution_count": null,
   "metadata": {},
   "outputs": [],
   "source": [
    "sys.path.append('example_package')\n",
    "import somepackage"
   ]
  },
  {
   "cell_type": "code",
   "execution_count": null,
   "metadata": {},
   "outputs": [],
   "source": [
    "somepackage.my_add(5, 10)"
   ]
  },
  {
   "cell_type": "markdown",
   "metadata": {},
   "source": [
    "## 2. [Structuur module](#top)<a id=\"structuur_mod\"></a>"
   ]
  },
  {
   "cell_type": "markdown",
   "metadata": {},
   "source": [
    "In een Python module kan je variabelen, functies en classes definiëren. De module `example_module` die we hierboven hebben geïmporteerd bevat één enkele functie. Wanneer je zelf een module maakt moet is het belangrijk om na te denken over de structuur. Er zijn veel verschillende manieren waarop je je code kan structureren. Voor de basis zijn er een aantal conventies:\n",
    "- Zet alle import statements bovenaan je .py bestand. Zo is meteen duidelijk welke packages, classes, functies en submodules worden gebruikt in je module\n",
    "- Maak voor alle functies en classes in je module een [docstring](https://www.python.org/dev/peps/pep-0257) aan.\n",
    "- De naam van een module is bij voorkeur [kort en met kleine letters](https://www.python.org/dev/peps/pep-0008/#package-and-module-names)."
   ]
  },
  {
   "cell_type": "markdown",
   "metadata": {},
   "source": [
    "#### Opgave 1 <a name=\"opdr1\"></a>\n",
    "\n",
    "Maak een module met een functie die de `numpy` functie `mean` gebruikt om het gemiddelde te berekenen van elke kolom in deze array:\n",
    "\n",
    "`[[1. 5. 8. 9.]\n",
    "  [9. 4. 3. 1.]]`\n",
    "  \n",
    "Zodat je dit antwoord krijgt:\n",
    "\n",
    "`[5.  4.5 5.5 5. ]`\n",
    "\n",
    "Importeer je module en roep je functie aan. Je maakt de module in een text editor (bijv. kladblok) buiten Jupyter Notebook om."
   ]
  },
  {
   "cell_type": "code",
   "execution_count": null,
   "metadata": {},
   "outputs": [],
   "source": [
    "import numpy as np\n",
    "# gebruik deze array om te testen.\n",
    "arr = np.array([[1., 5., 8., 9.],[9., 4., 3., 1.]])\n",
    "\n",
    "# importeer module en roep functie aan"
   ]
  },
  {
   "cell_type": "markdown",
   "metadata": {},
   "source": [
    "<a href=\"#antw1\">Antwoord opgave 1</a>"
   ]
  },
  {
   "cell_type": "markdown",
   "metadata": {},
   "source": [
    "Op het moment dat we een module importeren wordt de code in deze module uitgevoerd. Bij voorkeur staan er in een module geen stukken script maar enkel variabele-, functie- en class definities. Wanneer er toch scripts in de module staan worden deze uitgevoerd bij het importeren.\n",
    "\n",
    "Hieronder importeren we `example_module2`, in deze module staat nog een stuk code (`print(my_add(2,4))`). Op het moment dat we de module importeren wordt deze code uitgevoerd en als resultaat het getal 6 geprint. Dit kan erg verwarrend zijn en wordt daarom sterk afgeraden"
   ]
  },
  {
   "cell_type": "code",
   "execution_count": null,
   "metadata": {},
   "outputs": [],
   "source": [
    "import example_module2"
   ]
  },
  {
   "cell_type": "markdown",
   "metadata": {},
   "source": [
    "#### Bonusopgave 1 <a name=\"bonus1\"></a>\n",
    "\n",
    "Deze opgave vraagt behoorlijk wat zelfonderzoek en is niet persé nodig om de rest van dit notebook te begrijpen. Toch kan het nuttig zijn voor wat meer achtergrondkennis.\n",
    "\n",
    "Pas het bestand `example_module2.py` aan zodat de code `print(my_add(2,4))` alleen wordt uitgevoerd wanneer deze module als hoofdbestand wordt aangeroepen en niet wanneer deze wordt geïmporteerd. Gebruik hiervoor de code `if __name__ == '__main__':` en [deze stackoverflow uitleg](https://stackoverflow.com/questions/419163/what-does-if-name-main-do)\n",
    "\n",
    "Tip: Als je een module probeert te importeren die al eerder is geïmporteerd dan wordt deze niet opnieuw geïmporteerd. Python gebruikt de module die al in het geheugen zit. De code in de module wordt dan ook niet opnieuw gerund. Als je een module aanpast en opnieuw wil importeren zal je de kernel moeten restarten. "
   ]
  },
  {
   "cell_type": "code",
   "execution_count": null,
   "metadata": {},
   "outputs": [],
   "source": []
  },
  {
   "cell_type": "markdown",
   "metadata": {},
   "source": [
    "<a href=\"#antwbonus1\">Antwoord bonusopgave 1</a>"
   ]
  },
  {
   "cell_type": "markdown",
   "metadata": {},
   "source": [
    "#### Dependencies\n",
    "\n",
    "In de module die je hebt gemaakt bij opgave 1 wordt een functie uit `numpy` gebruikt. De module is nu afhankelijk (dependent) geworden van de `numpy` package. We zeggen ook wel dat `numpy` valt onder de dependencies van je module.\n",
    "\n",
    "Bij het maken van een modules en packages is het belangrijk om na te denken over de dependencies. Bedenk hierbij het volgende:\n",
    "- Iedereen die je module/package wil gebruiken moet ook de dependencies installeren. Sommige packages zijn lastig te installeren, als je module/package een dependency heeft op zo'n package maakt dat je module/package ook lastig te installeren.\n",
    "- Packages worden continu aangepast en verbeterd. Aanpassingen aan de dependencies kunnen ervoor zorgen dat je module/package niet meer werkt. Over het algemeen wordt bij veelgebruikte packages nagedacht over backward compatability maar hoe meer depedencies je hebt hoe meer inspanning er nodig is om alles draaiende te houden."
   ]
  },
  {
   "cell_type": "markdown",
   "metadata": {},
   "source": [
    "## 3. [Structuur package](#top)<a id=\"structuur_pack\"></a>\n",
    "\n",
    "De structuur van een Python package bepaalt hoe je functies en classes in de package kan aanroepen. De package `somepackage` die we zojuist hebben geïmporteerd heeft de volgende structuur:\n",
    "\n",
    "```\n",
    "somepackage/\n",
    "    __init__.py\n",
    "    add.py\n",
    "    shout.py\n",
    "    version.py\n",
    "```\n",
    "\n",
    "#### `__init__.py`\n",
    "Het `__init__.py` bestand in de \"somepackage\" map is de constructor van de package. Hierin is aangegeven welke modules, functies en variabelen deel uitmaken van de package. Ons `__init__.py` bestand bevat de volgende code:\n",
    "\n",
    "```\n",
    "01    from .version import __version__\n",
    "02    from .add import my_add\n",
    "03    from . import shout\n",
    "```\n",
    "\n",
    "In dit geval wordt de `__init__.py` gebruikt om een variabele, functie en module te importeren. Bij het importeren gebruiken we de `.` (in `.version`, `.add` en `.`) om aan te geven dat voor deze import alleen in de huidige map moet worden gekeken, en dus niet in alle andere mappen uit `sys.path`. Het gebruik van de `.` wordt aangeraden om zo expliciet te maken vanuit welke map modules worden geïmporteerd. Hieronder is per regel uitgelegd wat er gebeurt."
   ]
  },
  {
   "cell_type": "markdown",
   "metadata": {},
   "source": [
    "**`01    from .version import __version__`**\n",
    "\n",
    "Deze regel geeft aan dat vanuit de `version` module de variabele `__version__` geïmporteerd moet worden. Deze variabele wordt daarmee onderdeel van de package en kan worden opgevraagd met `somepackage.__version__`. Dit is de standaard manier om de versie van een package te definiëren en op te vragen."
   ]
  },
  {
   "cell_type": "code",
   "execution_count": null,
   "metadata": {},
   "outputs": [],
   "source": [
    "print(f'somepackage version is {somepackage.__version__}')"
   ]
  },
  {
   "cell_type": "code",
   "execution_count": null,
   "metadata": {},
   "outputs": [],
   "source": [
    "# De meeste grote packages werken met het __version__ attribute\n",
    "import numpy as np\n",
    "print(f'numpy version is {np.__version__}')\n",
    "import re\n",
    "print(f're version is {re.__version__}')"
   ]
  },
  {
   "cell_type": "markdown",
   "metadata": {},
   "source": [
    "**`02    from .add import my_add`**\n",
    "\n",
    "Vanuit de `add` module wordt de functie `my_add` geïmporteerd. Vervolgens wordt deze functie onderdeel van de `somepackage` en kan worden aangeroepen."
   ]
  },
  {
   "cell_type": "code",
   "execution_count": null,
   "metadata": {},
   "outputs": [],
   "source": [
    "somepackage.my_add(5,10)"
   ]
  },
  {
   "cell_type": "markdown",
   "metadata": {},
   "source": [
    "**`03    from . import shout`**\n",
    "\n",
    "De `shout` module wordt geïmporteerd. Hiermee wordt de `shout` module een submodule van `somepackage`. De functie `shout_and_repeat` welke in de `shout` module zit kan met de code hieronder worden aangeroepen."
   ]
  },
  {
   "cell_type": "code",
   "execution_count": null,
   "metadata": {},
   "outputs": [],
   "source": [
    "somepackage.shout.shout_and_repeat(\"wat fijn zo'n package \")"
   ]
  },
  {
   "cell_type": "markdown",
   "metadata": {},
   "source": [
    "#### Opgave 2 <a name=\"opdr2\"></a>\n",
    "In de `somepackage` map staat een bestand met de naam `visualise.py`. In dit bestand is de functie `make_wordcloud` gedefinieerd. Voeg deze module toe aan `somepackage` zodat je met onderstaande code een wordcloud kan maken.\n",
    "\n",
    "Tip: Als je een package aanpast en opnieuw wil importeren moet je de kernel restarten. Als je dat niet doet blijft de oude versie van de package in het geheugen."
   ]
  },
  {
   "cell_type": "code",
   "execution_count": null,
   "metadata": {},
   "outputs": [],
   "source": [
    "%matplotlib inline\n",
    "a = somepackage.shout.shout_and_repeat(\"wat fijn zo'n package \")\n",
    "tst = somepackage.visualise.make_wordcloud(a);"
   ]
  },
  {
   "cell_type": "markdown",
   "metadata": {},
   "source": [
    "<a href=\"#antw2\">Antwoord opgave 2</a>"
   ]
  },
  {
   "cell_type": "markdown",
   "metadata": {},
   "source": [
    "#### Opgave 3<a name=\"opdr3\"></a>\n",
    "Doe hetzelfde als bij opgave 2, behalve dat je nu alleen de `make_wordcloud` functie toevoegt aan `somepackage` in plaats van de volledige `visualise` module. Je kan dan met onderstaande code dezelfde resultaten verkrijgen."
   ]
  },
  {
   "cell_type": "code",
   "execution_count": null,
   "metadata": {},
   "outputs": [],
   "source": [
    "%matplotlib inline\n",
    "a = somepackage.shout.shout_and_repeat(\"wat fijn zo'n package \")\n",
    "tst = somepackage.make_wordcloud(a);"
   ]
  },
  {
   "cell_type": "markdown",
   "metadata": {},
   "source": [
    "<a href=\"#antw3\">Antwoord opgave 3</a>"
   ]
  },
  {
   "cell_type": "markdown",
   "metadata": {},
   "source": [
    "#### functies of modules?\n",
    "\n",
    "In de opgaves hierboven heb je gezien dat er verschillende manieren zijn om functies toe te voegen aan een package. je kan de hele module toevoegen als submodule of juist alleen een bepaalde functie. Welke manier het beste is hangt af van hoe je de package wil gebruiken. \n",
    "\n",
    "Wanneer je een package maakt met als doel één actie uit te voeren is het handig om de functie die je gebruikt expliciet te importeren in de `__init__.py`. De `wordcloud` package is een voorbeeld daarvan.\n",
    "\n",
    "Er zijn ook packages die een hele set aan tools bevatten. Een voorbeeld daarvan is de `numpy` package. Dan wordt er vaker voor gekozen om een hele set aan functies en submodules te importeren in de `__init__.py`.\n",
    "\n",
    "Uiteindelijk kies je zelf hoe je de package zo overzichtelijk mogelijk houdt. "
   ]
  },
  {
   "cell_type": "markdown",
   "metadata": {},
   "source": [
    "## 4. [Installatie](#top)<a id=\"installatie\"></a>\n",
    "\n",
    "Hierboven hebben we de package `somepackage` geïmporteerd zonder dat we deze ooit hebben geïnstalleerd. Als we een package vaker, vanuit meerdere scripts en met verschillende collega's willen gebruiken is het handig om een package te installeren. Bij het installeren van een package gebeuren een aantal dingen waaronder:\n",
    "1. De package wordt in de centrale map met packages geplaatst. Deze map is onderdeel van `sys.path`. Hierna kan je de package importeren zonder mappen toe te voegen aan `sys.path`.\n",
    "2. De dependencies van de package kunnen automatisch meegeïnstalleerd worden zodat dit niet apart hoeft te gebeuren. Je kan ook aangeven welke versies nodig zijn van andere packages.\n",
    "\n",
    "De installatie van een package kan het eenvoudigst met `pip` (de Python package manager). Om een package te kunnen installeren met `pip` heb je een `setup.py` bestand nodig. In de map 'example_package' is een voorbeeld van een `setup.py` bestand gegeven. Om `somepackage` te installeren met dit `setup.py` bestand navigeer je in (anaconda) prompt naar de map 'example_package' en type je `pip install -e .`. Als het goed is zie je dan de volgende tekst (of vergelijkbaar) in je (anaconda) prompt:\n",
    "\n",
    "```\n",
    "Obtaining file:///C:/Users/onno_/02_git_repos/course-material/practical_examples/08_modules_and_packages/example_package\n",
    "Requirement already satisfied: matplotlib>=3.0 in c:\\anaconda3\\lib\\site-packages (from somepackage==1.2.3) (3.1.3)\n",
    "Requirement already satisfied: wordcloud>=1.8.1 in c:\\anaconda3\\lib\\site-packages (from somepackage==1.2.3) (1.8.1)\n",
    "Requirement already satisfied: pyparsing!=2.0.4,!=2.1.2,!=2.1.6,>=2.0.1 in c:\\anaconda3\\lib\\site-packages (from matplotlib>=3.0->somepackage==1.2.3) (2.4.6)\n",
    "Requirement already satisfied: python-dateutil>=2.1 in c:\\anaconda3\\lib\\site-packages (from matplotlib>=3.0->somepackage==1.2.3) (2.8.1)\n",
    "Requirement already satisfied: numpy>=1.11 in c:\\anaconda3\\lib\\site-packages (from matplotlib>=3.0->somepackage==1.2.3) (1.18.1)\n",
    "Requirement already satisfied: kiwisolver>=1.0.1 in c:\\anaconda3\\lib\\site-packages (from matplotlib>=3.0->somepackage==1.2.3) (1.1.0)\n",
    "Requirement already satisfied: cycler>=0.10 in c:\\anaconda3\\lib\\site-packages (from matplotlib>=3.0->somepackage==1.2.3) (0.10.0)\n",
    "Requirement already satisfied: pillow in c:\\anaconda3\\lib\\site-packages (from wordcloud>=1.8.1->somepackage==1.2.3) (7.0.0)\n",
    "Requirement already satisfied: six>=1.5 in c:\\anaconda3\\lib\\site-packages (from python-dateutil>=2.1->matplotlib>=3.0->somepackage==1.2.3) (1.14.0)\n",
    "Requirement already satisfied: setuptools in c:\\anaconda3\\lib\\site-packages (from kiwisolver>=1.0.1->matplotlib>=3.0->somepackage==1.2.3) (45.2.0.post20200210)\n",
    "Installing collected packages: somepackage\n",
    "  Running setup.py develop for somepackage\n",
    "Successfully installed somepackage\n",
    "```\n",
    "\n",
    "De text hierboven kunnen we verklaren aan de hand van het `setup.py` bestand. In het `setup.py` bestand op regel 27 zijn twee dependencies gedefinieerd `matplotlib` en `wordcloud`. Bij het installeren van `somepackage` wordt eerst gecheckt of de dependencies geïnstalleerd zijn. Dit is te zien bovenin de output van (anaconda) prompt. In ons geval waren deze al geïnstalleerd dus worden de meldingen `Requirement already satisfied: matplotlib...` & `Requirement already satisfied: wordcloud...` getoond.\n",
    "\n",
    "Vervolgens zien we dat nog een hele rits aan checks komt voor andere packages. Dit zijn de dependencies van `matplotlib` en `worcloud` (of de dependencies van de dependencies van `matplotlib`). Bij de installatie worden dus alle dependencies van alle benodigde packages gecheckt en zo nodig geïnstalleerd. In ons geval waren deze allemaal al geïnstalleerd waardoor steeds het bericht `Requirement already satisfied: ...` wordt getoond.\n",
    "\n",
    "Als laatste wordt `somepackage` zelf geïnstalleerd. Als dit goed is gegaan verschijnt het bericht:\n",
    "\n",
    "```\n",
    "Installing collected packages: somepackage\n",
    "  Running setup.py develop for somepackage\n",
    "Successfully installed somepackage\n",
    "```\n",
    "\n",
    "Nu is de package geïnstalleerd en kan deze vanuit ieder script worden geïmporteerd."
   ]
  },
  {
   "cell_type": "markdown",
   "metadata": {},
   "source": [
    "#### Opgave 4 <a name=\"opdr4\"></a>\n",
    "Maak een nieuwe module waarin je onderstaande functie `check_sentinment` opneemt. Voeg deze functie toe aan `somepackage`. Voeg de benodigde dependencies toe aan `setup.py`. Verhoog het versienummer van de package naar `1.2.4`, installeer de vernieuwde package en check of de juiste dependencies worden meegeïnstalleerd. Check tot slot of je de code hieronder kan runnen."
   ]
  },
  {
   "cell_type": "code",
   "execution_count": null,
   "metadata": {},
   "outputs": [],
   "source": [
    "from textblob import TextBlob\n",
    "\n",
    "def check_sentiment(text):\n",
    "    '''\n",
    "    checks the polarity and subjectivity of a message,\n",
    "    a polarity > 0 indicates a positive message, \n",
    "    a polirity < 0 indicates a negative message\n",
    "    \n",
    "    Parameters\n",
    "    ----------\n",
    "    text : str\n",
    "        text to analyse\n",
    "        \n",
    "    Returns\n",
    "    -------\n",
    "    textblob.en.sentiments.Sentiment\n",
    "        sentiment analysis of text\n",
    "    '''\n",
    "    \n",
    "    testimonial = TextBlob(text)\n",
    "    return testimonial.sentiment"
   ]
  },
  {
   "cell_type": "code",
   "execution_count": null,
   "metadata": {},
   "outputs": [],
   "source": [
    "# code om te checken of je aangepaste package werkt\n",
    "import somepackage\n",
    "print(somepackage.check_sentiment(\"This package is amazing!\"))\n",
    "print(somepackage.check_sentiment(\"This package is awful!\"))"
   ]
  },
  {
   "cell_type": "markdown",
   "metadata": {},
   "source": [
    "<a href=\"#antw4\">Antwoord opgave 4</a>"
   ]
  },
  {
   "cell_type": "markdown",
   "metadata": {},
   "source": [
    "## [Antwoorden](#top)<a id=\"Antwoorden\"></a>"
   ]
  },
  {
   "cell_type": "markdown",
   "metadata": {},
   "source": [
    "#### <a href=\"#opdr1\">Antwoord opgave 1</a> <a name=\"antw1\"></a>\n",
    "\n",
    "Maak een text bestand aan met een .py extensie, bijv. `np_func.py`. Zorg ervoor dat dit bestand in dezelfde map staat als dit notebook. Schrijf in dit bestand een functie die het gemiddelde berekent van een kolom in een `array`:\n",
    "\n",
    "```\n",
    "01    import numpy as np\n",
    "02    \n",
    "03    def column_mean(arr):\n",
    "04    \"\"\" berekent het gemiddelde van elke kolom in een 2d array\n",
    "05    \n",
    "06\n",
    "07    Parameters\n",
    "08    ----------\n",
    "09    arr : np.array\n",
    "10        2 dimensionale numpy array.\n",
    "11\n",
    "12    Returns\n",
    "13    -------\n",
    "14    mean_col : np.array\n",
    "15        1 dimensionale numpy array met gemiddelde per kolom.\n",
    "16\n",
    "17    \"\"\"\n",
    "18    \n",
    "19    mean_col = np.mean(arr, axis=0)\n",
    "20    \n",
    "21    return mean_col\n",
    "```\n",
    "\n",
    "Vervolgens kan je in dit Jupyter Notebook deze module importeren en de functie aanroepen."
   ]
  },
  {
   "cell_type": "code",
   "execution_count": null,
   "metadata": {},
   "outputs": [],
   "source": [
    "import numpy as np\n",
    "# gebruik deze array om te testen.\n",
    "arr = np.array([[1., 5., 8., 9.],[9., 4., 3., 1.]])\n",
    "\n",
    "# importeer module en roep functie aan\n",
    "import numpy_func\n",
    "numpy_func.column_mean(arr)"
   ]
  },
  {
   "cell_type": "markdown",
   "metadata": {},
   "source": [
    "#### <a href=\"#bonus1\">Antwoord bonusopgave 1</a> <a name=\"antwbonus1\"></a>\n",
    "\n"
   ]
  },
  {
   "cell_type": "markdown",
   "metadata": {},
   "source": [
    "Het bestand `example_module2.py` moet er zo uit komen te zien:\n",
    "    \n",
    "```\n",
    "01    def my_add(argument1, argument2):\n",
    "02        \"\"\"\n",
    "03        adds two input arguments.\n",
    "04        \n",
    "05        Parameters\n",
    "06        ----------\n",
    "07        argument1 : int, float, str\n",
    "08            input argument 1\n",
    "09        argument2 : int, float, str\n",
    "10            input arguement 2\n",
    "11            \n",
    "12        Returns\n",
    "13        -------\n",
    "14        results : int, float or str\n",
    "15            the two added input arguments   \n",
    "16        \"\"\"\n",
    "17        result = argument1 + argument2\n",
    "18        return result\n",
    "19    \n",
    "20    if __name__ == '__main__':\n",
    "21        print(my_add(2,4))\n",
    "```\n",
    "\n",
    "Nadat je `example_module2.py` hebt aangepast, de kernel hebt gerestart en de module opnieuw importeert zal deze niet meer het getal 6 printen. Wanneer je het [example_module2.py](./example_module2.py) bestand los runt met Python zal deze wel het getal 6 printen. Als je niet weet hoe je een .py bestand los runt, kijk dan [hier](https://stackoverflow.com/questions/39995380/how-to-use-anaconda-python-to-execute-a-py-file). \n",
    "\n",
    "De `if __name__ == '__main__':` code wordt vaak gebruikt om de functies in een module te testen. Als je de module los runt worden alle functies doorlopen, als je de module importeert worden alleen de functies aangemaakt. Voor simpele modules is dit een goede oplossing. Wanneer je met complexere modules binnen packages gaat werken is het handiger om de tests los van de code op te slaan."
   ]
  },
  {
   "cell_type": "markdown",
   "metadata": {},
   "source": [
    "#### <a href=\"#opdr2\">Antwoord opgave 2</a> <a name=\"antw2\"></a>\n",
    "\n",
    "Voeg aan het `__init__.py` bestand de volgende code toe: `from . import visualise`. \n",
    "\n",
    "Het bestand komt er dan zo uit te zien:\n",
    "\n",
    "```\n",
    "01    from .version import __version__\n",
    "02    from .add import my_add\n",
    "03    from . import shout\n",
    "04    from . import visualise\n",
    "```\n",
    "\n",
    "Restart de kernel en importeer `somepackage` opnieuw. Je kan nu de code bij opgave 1 runnen."
   ]
  },
  {
   "cell_type": "code",
   "execution_count": null,
   "metadata": {},
   "outputs": [],
   "source": [
    "%matplotlib inline\n",
    "a = somepackage.shout.shout_and_repeat(\"wat fijn zo'n package \")\n",
    "tst = somepackage.visualise.make_wordcloud(a);"
   ]
  },
  {
   "cell_type": "markdown",
   "metadata": {},
   "source": [
    "#### <a href=\"#opdr3\">Antwoord opgave 3</a> <a name=\"antw3\"></a>\n",
    "\n",
    "Voeg aan het `__init__.py` bestand de volgende code toe: `from .visualise import make_wordcloud`. \n",
    "\n",
    "Het bestand komt er dan zo uit te zien:\n",
    "\n",
    "```\n",
    "01    from .version import __version__\n",
    "02    from .add import my_add\n",
    "03    from . import shout\n",
    "04    from .visualise import make_wordcloud\n",
    "```\n",
    "\n",
    "Restart de kernel en importeer `somepackage` opnieuw. Je kan nu de code bij opgave 3 runnen."
   ]
  },
  {
   "cell_type": "code",
   "execution_count": null,
   "metadata": {},
   "outputs": [],
   "source": [
    "%matplotlib inline\n",
    "a = somepackage.shout.shout_and_repeat(\"wat fijn zo'n package \")\n",
    "tst = somepackage.make_wordcloud(a);"
   ]
  },
  {
   "cell_type": "markdown",
   "metadata": {},
   "source": [
    "#### <a href=\"#opdr4\">Antwoord opgave 4</a> <a name=\"antw4\"></a>\n",
    "\n",
    "De volgende stappen moeten worden uitgevoerd (volgorde niet van belang):\n",
    "- maak een nieuwe module aan, bijvoorbeeld `text_analysis.py`. Zorg dat dit bestand in de `somepackage` map staat. Kopieer de getoond functie naar dit bestand. Het bestand ziet er dan zo uit:\n",
    "    ```\n",
    "    from textblob import TextBlob\n",
    "\n",
    "    def check_sentiment(text):\n",
    "        '''\n",
    "        checks the polarity and subjectivity of a message,\n",
    "        a polarity > 0 indicates a positive message, \n",
    "        a polirity < 0 indicates a negative message\n",
    "\n",
    "        Parameters\n",
    "        ----------\n",
    "        text : str\n",
    "            text to analyse\n",
    "\n",
    "        Returns\n",
    "        -------\n",
    "        textblob.en.sentiments.Sentiment\n",
    "            sentiment analysis of text\n",
    "        '''\n",
    "\n",
    "        testimonial = TextBlob(text)\n",
    "        return testimonial.sentiment\n",
    "    ```\n",
    "\n",
    "- Voeg de regel `from .text_analysis import check_sentiment` toe aan `__init__.py`. Vervang `text_analysis` door de naam die je de module hebt gegeven bij de vorige stap. Het bestand ziet er nu zo uit:\n",
    "\n",
    "    ```\n",
    "\n",
    "    from .version import __version__\n",
    "    from .add import my_add\n",
    "    from . import shout\n",
    "    from .visualise import make_wordcloud\n",
    "    from .text_analysis import check_sentiment\n",
    "    ```\n",
    "- Pas het `setup.py` bestand aan. Voeg op regel 27 een extra dependency toe: `'textblob>=0.15.3'`. Het `setup.py` bestand ziet er dan zo uit:\n",
    "\n",
    "    ```\n",
    "    from setuptools import setup\n",
    "    import os\n",
    "    import sys\n",
    "\n",
    "    _here = os.path.abspath(os.path.dirname(__file__))\n",
    "\n",
    "    if sys.version_info[0] < 3:\n",
    "        with open(os.path.join(_here, 'README.rst')) as f:\n",
    "            long_description = f.read()\n",
    "    else:\n",
    "        with open(os.path.join(_here, 'README.rst'), encoding='utf-8') as f:\n",
    "            long_description = f.read()\n",
    "\n",
    "    version = {}\n",
    "    with open(os.path.join(_here, 'somepackage', 'version.py')) as f:\n",
    "        exec(f.read(), version)\n",
    "\n",
    "    setup(\n",
    "        name='somepackage',\n",
    "        version=version['__version__'],\n",
    "        description=('Show how to structure a Python project.'),\n",
    "        long_description=long_description,\n",
    "        author='Onno Ebbens',\n",
    "        author_email='onno.ebbens@mamba-python.nl',\n",
    "        license='MPL-2.0',\n",
    "        packages=['somepackage'],\n",
    "        install_requires=['matplotlib>=3.0','wordcloud>=1.8.1', 'textblob>=0.15.3'],\n",
    "        include_package_data=True,\n",
    "        classifiers=[\n",
    "            'Development Status :: 5 - Production/Stable',\n",
    "            'Intended Audience :: Science/Research',\n",
    "            'Programming Language :: Python :: 2.7',\n",
    "            'Programming Language :: Python :: 3.6'],\n",
    "        )\n",
    "    ```\n",
    "- Pas het bestand `version.py` aan. Verhoog het versienummer van 1.2.3. naar 1.2.4. Het bestand ziet er dan zo uit:\n",
    "    ```\n",
    "    __version__ = '1.2.4'\n",
    "    ```\n",
    "    \n",
    "Voer tot slot de volgende stappen uitgevoerd (volgorde wel van belang):\n",
    "1. Navigeer in (anaconda) prompt naar de map \"example_package\". Installeer `somepackage` opnieuw met `pip install -e .` Check of bij de installatie de dependency op `textblob` wordt gezien. \n",
    "2. Restart de kernel\n",
    "3. Run de regels code van de opgave.\n",
    "4. Vier je succes!"
   ]
  },
  {
   "cell_type": "code",
   "execution_count": null,
   "metadata": {},
   "outputs": [],
   "source": [
    "# code om te checken of je aangepaste package werkt\n",
    "import somepackage\n",
    "print(somepackage.check_sentiment(\"This package is amazing!\"))\n",
    "print(somepackage.check_sentiment(\"This package is awful!\"))"
   ]
  },
  {
   "cell_type": "markdown",
   "metadata": {},
   "source": [
    "## Acknowledgement\n",
    "\n",
    "the following sources were used to create this notebook:\n",
    "- https://github.com/bast/somepackage\n"
   ]
  }
 ],
 "metadata": {
  "kernelspec": {
   "display_name": "dev",
   "language": "python",
   "name": "dev"
  },
  "language_info": {
   "codemirror_mode": {
    "name": "ipython",
    "version": 3
   },
   "file_extension": ".py",
   "mimetype": "text/x-python",
   "name": "python",
   "nbconvert_exporter": "python",
   "pygments_lexer": "ipython3",
   "version": "3.8.6"
  }
 },
 "nbformat": 4,
 "nbformat_minor": 2
}
