{
 "cells": [
  {
   "cell_type": "markdown",
   "metadata": {},
   "source": [
    "<table style=\"float:left; border:none\">\n",
    "   <tr style=\"border:none; background-color: #ffffff\">\n",
    "       <td style=\"border:none\">\n",
    "           <a href=\"http://bokeh.pydata.org/\">     \n",
    "           <img \n",
    "               src=\"assets/bokeh-transparent.png\" \n",
    "               style=\"width:50px\"\n",
    "           >\n",
    "           </a>    \n",
    "       </td>\n",
    "       <td style=\"border:none\">\n",
    "           <h1>Bokeh Tutorial</h1>\n",
    "       </td>\n",
    "   </tr>\n",
    "</table>\n",
    "\n",
    "<div style=\"float:right;\"><h2>06. Linking and Interactions</h2></div>"
   ]
  },
  {
   "cell_type": "code",
   "execution_count": 1,
   "metadata": {},
   "outputs": [
    {
     "data": {
      "text/html": [
       "\n",
       "    <div class=\"bk-root\">\n",
       "        <a href=\"https://bokeh.pydata.org\" target=\"_blank\" class=\"bk-logo bk-logo-small bk-logo-notebook\"></a>\n",
       "        <span id=\"1001\">Loading BokehJS ...</span>\n",
       "    </div>"
      ]
     },
     "metadata": {},
     "output_type": "display_data"
    },
    {
     "data": {
      "application/javascript": [
       "\n",
       "(function(root) {\n",
       "  function now() {\n",
       "    return new Date();\n",
       "  }\n",
       "\n",
       "  var force = true;\n",
       "\n",
       "  if (typeof root._bokeh_onload_callbacks === \"undefined\" || force === true) {\n",
       "    root._bokeh_onload_callbacks = [];\n",
       "    root._bokeh_is_loading = undefined;\n",
       "  }\n",
       "\n",
       "  var JS_MIME_TYPE = 'application/javascript';\n",
       "  var HTML_MIME_TYPE = 'text/html';\n",
       "  var EXEC_MIME_TYPE = 'application/vnd.bokehjs_exec.v0+json';\n",
       "  var CLASS_NAME = 'output_bokeh rendered_html';\n",
       "\n",
       "  /**\n",
       "   * Render data to the DOM node\n",
       "   */\n",
       "  function render(props, node) {\n",
       "    var script = document.createElement(\"script\");\n",
       "    node.appendChild(script);\n",
       "  }\n",
       "\n",
       "  /**\n",
       "   * Handle when an output is cleared or removed\n",
       "   */\n",
       "  function handleClearOutput(event, handle) {\n",
       "    var cell = handle.cell;\n",
       "\n",
       "    var id = cell.output_area._bokeh_element_id;\n",
       "    var server_id = cell.output_area._bokeh_server_id;\n",
       "    // Clean up Bokeh references\n",
       "    if (id != null && id in Bokeh.index) {\n",
       "      Bokeh.index[id].model.document.clear();\n",
       "      delete Bokeh.index[id];\n",
       "    }\n",
       "\n",
       "    if (server_id !== undefined) {\n",
       "      // Clean up Bokeh references\n",
       "      var cmd = \"from bokeh.io.state import curstate; print(curstate().uuid_to_server['\" + server_id + \"'].get_sessions()[0].document.roots[0]._id)\";\n",
       "      cell.notebook.kernel.execute(cmd, {\n",
       "        iopub: {\n",
       "          output: function(msg) {\n",
       "            var id = msg.content.text.trim();\n",
       "            if (id in Bokeh.index) {\n",
       "              Bokeh.index[id].model.document.clear();\n",
       "              delete Bokeh.index[id];\n",
       "            }\n",
       "          }\n",
       "        }\n",
       "      });\n",
       "      // Destroy server and session\n",
       "      var cmd = \"import bokeh.io.notebook as ion; ion.destroy_server('\" + server_id + \"')\";\n",
       "      cell.notebook.kernel.execute(cmd);\n",
       "    }\n",
       "  }\n",
       "\n",
       "  /**\n",
       "   * Handle when a new output is added\n",
       "   */\n",
       "  function handleAddOutput(event, handle) {\n",
       "    var output_area = handle.output_area;\n",
       "    var output = handle.output;\n",
       "\n",
       "    // limit handleAddOutput to display_data with EXEC_MIME_TYPE content only\n",
       "    if ((output.output_type != \"display_data\") || (!output.data.hasOwnProperty(EXEC_MIME_TYPE))) {\n",
       "      return\n",
       "    }\n",
       "\n",
       "    var toinsert = output_area.element.find(\".\" + CLASS_NAME.split(' ')[0]);\n",
       "\n",
       "    if (output.metadata[EXEC_MIME_TYPE][\"id\"] !== undefined) {\n",
       "      toinsert[toinsert.length - 1].firstChild.textContent = output.data[JS_MIME_TYPE];\n",
       "      // store reference to embed id on output_area\n",
       "      output_area._bokeh_element_id = output.metadata[EXEC_MIME_TYPE][\"id\"];\n",
       "    }\n",
       "    if (output.metadata[EXEC_MIME_TYPE][\"server_id\"] !== undefined) {\n",
       "      var bk_div = document.createElement(\"div\");\n",
       "      bk_div.innerHTML = output.data[HTML_MIME_TYPE];\n",
       "      var script_attrs = bk_div.children[0].attributes;\n",
       "      for (var i = 0; i < script_attrs.length; i++) {\n",
       "        toinsert[toinsert.length - 1].firstChild.setAttribute(script_attrs[i].name, script_attrs[i].value);\n",
       "      }\n",
       "      // store reference to server id on output_area\n",
       "      output_area._bokeh_server_id = output.metadata[EXEC_MIME_TYPE][\"server_id\"];\n",
       "    }\n",
       "  }\n",
       "\n",
       "  function register_renderer(events, OutputArea) {\n",
       "\n",
       "    function append_mime(data, metadata, element) {\n",
       "      // create a DOM node to render to\n",
       "      var toinsert = this.create_output_subarea(\n",
       "        metadata,\n",
       "        CLASS_NAME,\n",
       "        EXEC_MIME_TYPE\n",
       "      );\n",
       "      this.keyboard_manager.register_events(toinsert);\n",
       "      // Render to node\n",
       "      var props = {data: data, metadata: metadata[EXEC_MIME_TYPE]};\n",
       "      render(props, toinsert[toinsert.length - 1]);\n",
       "      element.append(toinsert);\n",
       "      return toinsert\n",
       "    }\n",
       "\n",
       "    /* Handle when an output is cleared or removed */\n",
       "    events.on('clear_output.CodeCell', handleClearOutput);\n",
       "    events.on('delete.Cell', handleClearOutput);\n",
       "\n",
       "    /* Handle when a new output is added */\n",
       "    events.on('output_added.OutputArea', handleAddOutput);\n",
       "\n",
       "    /**\n",
       "     * Register the mime type and append_mime function with output_area\n",
       "     */\n",
       "    OutputArea.prototype.register_mime_type(EXEC_MIME_TYPE, append_mime, {\n",
       "      /* Is output safe? */\n",
       "      safe: true,\n",
       "      /* Index of renderer in `output_area.display_order` */\n",
       "      index: 0\n",
       "    });\n",
       "  }\n",
       "\n",
       "  // register the mime type if in Jupyter Notebook environment and previously unregistered\n",
       "  if (root.Jupyter !== undefined) {\n",
       "    var events = require('base/js/events');\n",
       "    var OutputArea = require('notebook/js/outputarea').OutputArea;\n",
       "\n",
       "    if (OutputArea.prototype.mime_types().indexOf(EXEC_MIME_TYPE) == -1) {\n",
       "      register_renderer(events, OutputArea);\n",
       "    }\n",
       "  }\n",
       "\n",
       "  \n",
       "  if (typeof (root._bokeh_timeout) === \"undefined\" || force === true) {\n",
       "    root._bokeh_timeout = Date.now() + 5000;\n",
       "    root._bokeh_failed_load = false;\n",
       "  }\n",
       "\n",
       "  var NB_LOAD_WARNING = {'data': {'text/html':\n",
       "     \"<div style='background-color: #fdd'>\\n\"+\n",
       "     \"<p>\\n\"+\n",
       "     \"BokehJS does not appear to have successfully loaded. If loading BokehJS from CDN, this \\n\"+\n",
       "     \"may be due to a slow or bad network connection. Possible fixes:\\n\"+\n",
       "     \"</p>\\n\"+\n",
       "     \"<ul>\\n\"+\n",
       "     \"<li>re-rerun `output_notebook()` to attempt to load from CDN again, or</li>\\n\"+\n",
       "     \"<li>use INLINE resources instead, as so:</li>\\n\"+\n",
       "     \"</ul>\\n\"+\n",
       "     \"<code>\\n\"+\n",
       "     \"from bokeh.resources import INLINE\\n\"+\n",
       "     \"output_notebook(resources=INLINE)\\n\"+\n",
       "     \"</code>\\n\"+\n",
       "     \"</div>\"}};\n",
       "\n",
       "  function display_loaded() {\n",
       "    var el = document.getElementById(\"1001\");\n",
       "    if (el != null) {\n",
       "      el.textContent = \"BokehJS is loading...\";\n",
       "    }\n",
       "    if (root.Bokeh !== undefined) {\n",
       "      if (el != null) {\n",
       "        el.textContent = \"BokehJS \" + root.Bokeh.version + \" successfully loaded.\";\n",
       "      }\n",
       "    } else if (Date.now() < root._bokeh_timeout) {\n",
       "      setTimeout(display_loaded, 100)\n",
       "    }\n",
       "  }\n",
       "\n",
       "\n",
       "  function run_callbacks() {\n",
       "    try {\n",
       "      root._bokeh_onload_callbacks.forEach(function(callback) {\n",
       "        if (callback != null)\n",
       "          callback();\n",
       "      });\n",
       "    } finally {\n",
       "      delete root._bokeh_onload_callbacks\n",
       "    }\n",
       "    console.debug(\"Bokeh: all callbacks have finished\");\n",
       "  }\n",
       "\n",
       "  function load_libs(css_urls, js_urls, callback) {\n",
       "    if (css_urls == null) css_urls = [];\n",
       "    if (js_urls == null) js_urls = [];\n",
       "\n",
       "    root._bokeh_onload_callbacks.push(callback);\n",
       "    if (root._bokeh_is_loading > 0) {\n",
       "      console.debug(\"Bokeh: BokehJS is being loaded, scheduling callback at\", now());\n",
       "      return null;\n",
       "    }\n",
       "    if (js_urls == null || js_urls.length === 0) {\n",
       "      run_callbacks();\n",
       "      return null;\n",
       "    }\n",
       "    console.debug(\"Bokeh: BokehJS not loaded, scheduling load and callback at\", now());\n",
       "    root._bokeh_is_loading = css_urls.length + js_urls.length;\n",
       "\n",
       "    function on_load() {\n",
       "      root._bokeh_is_loading--;\n",
       "      if (root._bokeh_is_loading === 0) {\n",
       "        console.debug(\"Bokeh: all BokehJS libraries/stylesheets loaded\");\n",
       "        run_callbacks()\n",
       "      }\n",
       "    }\n",
       "\n",
       "    function on_error() {\n",
       "      console.error(\"failed to load \" + url);\n",
       "    }\n",
       "\n",
       "    for (var i = 0; i < css_urls.length; i++) {\n",
       "      var url = css_urls[i];\n",
       "      const element = document.createElement(\"link\");\n",
       "      element.onload = on_load;\n",
       "      element.onerror = on_error;\n",
       "      element.rel = \"stylesheet\";\n",
       "      element.type = \"text/css\";\n",
       "      element.href = url;\n",
       "      console.debug(\"Bokeh: injecting link tag for BokehJS stylesheet: \", url);\n",
       "      document.body.appendChild(element);\n",
       "    }\n",
       "\n",
       "    for (var i = 0; i < js_urls.length; i++) {\n",
       "      var url = js_urls[i];\n",
       "      var element = document.createElement('script');\n",
       "      element.onload = on_load;\n",
       "      element.onerror = on_error;\n",
       "      element.async = false;\n",
       "      element.src = url;\n",
       "      console.debug(\"Bokeh: injecting script tag for BokehJS library: \", url);\n",
       "      document.head.appendChild(element);\n",
       "    }\n",
       "  };var element = document.getElementById(\"1001\");\n",
       "  if (element == null) {\n",
       "    console.error(\"Bokeh: ERROR: autoload.js configured with elementid '1001' but no matching script tag was found. \")\n",
       "    return false;\n",
       "  }\n",
       "\n",
       "  function inject_raw_css(css) {\n",
       "    const element = document.createElement(\"style\");\n",
       "    element.appendChild(document.createTextNode(css));\n",
       "    document.body.appendChild(element);\n",
       "  }\n",
       "\n",
       "  var js_urls = [\"https://cdn.pydata.org/bokeh/release/bokeh-1.3.4.min.js\", \"https://cdn.pydata.org/bokeh/release/bokeh-widgets-1.3.4.min.js\", \"https://cdn.pydata.org/bokeh/release/bokeh-tables-1.3.4.min.js\", \"https://cdn.pydata.org/bokeh/release/bokeh-gl-1.3.4.min.js\"];\n",
       "  var css_urls = [];\n",
       "\n",
       "  var inline_js = [\n",
       "    function(Bokeh) {\n",
       "      Bokeh.set_log_level(\"info\");\n",
       "    },\n",
       "    \n",
       "    function(Bokeh) {\n",
       "      \n",
       "    },\n",
       "    function(Bokeh) {} // ensure no trailing comma for IE\n",
       "  ];\n",
       "\n",
       "  function run_inline_js() {\n",
       "    \n",
       "    if ((root.Bokeh !== undefined) || (force === true)) {\n",
       "      for (var i = 0; i < inline_js.length; i++) {\n",
       "        inline_js[i].call(root, root.Bokeh);\n",
       "      }if (force === true) {\n",
       "        display_loaded();\n",
       "      }} else if (Date.now() < root._bokeh_timeout) {\n",
       "      setTimeout(run_inline_js, 100);\n",
       "    } else if (!root._bokeh_failed_load) {\n",
       "      console.log(\"Bokeh: BokehJS failed to load within specified timeout.\");\n",
       "      root._bokeh_failed_load = true;\n",
       "    } else if (force !== true) {\n",
       "      var cell = $(document.getElementById(\"1001\")).parents('.cell').data().cell;\n",
       "      cell.output_area.append_execute_result(NB_LOAD_WARNING)\n",
       "    }\n",
       "\n",
       "  }\n",
       "\n",
       "  if (root._bokeh_is_loading === 0) {\n",
       "    console.debug(\"Bokeh: BokehJS loaded, going straight to plotting\");\n",
       "    run_inline_js();\n",
       "  } else {\n",
       "    load_libs(css_urls, js_urls, function() {\n",
       "      console.debug(\"Bokeh: BokehJS plotting callback run at\", now());\n",
       "      run_inline_js();\n",
       "    });\n",
       "  }\n",
       "}(window));"
      ],
      "application/vnd.bokehjs_load.v0+json": "\n(function(root) {\n  function now() {\n    return new Date();\n  }\n\n  var force = true;\n\n  if (typeof root._bokeh_onload_callbacks === \"undefined\" || force === true) {\n    root._bokeh_onload_callbacks = [];\n    root._bokeh_is_loading = undefined;\n  }\n\n  \n\n  \n  if (typeof (root._bokeh_timeout) === \"undefined\" || force === true) {\n    root._bokeh_timeout = Date.now() + 5000;\n    root._bokeh_failed_load = false;\n  }\n\n  var NB_LOAD_WARNING = {'data': {'text/html':\n     \"<div style='background-color: #fdd'>\\n\"+\n     \"<p>\\n\"+\n     \"BokehJS does not appear to have successfully loaded. If loading BokehJS from CDN, this \\n\"+\n     \"may be due to a slow or bad network connection. Possible fixes:\\n\"+\n     \"</p>\\n\"+\n     \"<ul>\\n\"+\n     \"<li>re-rerun `output_notebook()` to attempt to load from CDN again, or</li>\\n\"+\n     \"<li>use INLINE resources instead, as so:</li>\\n\"+\n     \"</ul>\\n\"+\n     \"<code>\\n\"+\n     \"from bokeh.resources import INLINE\\n\"+\n     \"output_notebook(resources=INLINE)\\n\"+\n     \"</code>\\n\"+\n     \"</div>\"}};\n\n  function display_loaded() {\n    var el = document.getElementById(\"1001\");\n    if (el != null) {\n      el.textContent = \"BokehJS is loading...\";\n    }\n    if (root.Bokeh !== undefined) {\n      if (el != null) {\n        el.textContent = \"BokehJS \" + root.Bokeh.version + \" successfully loaded.\";\n      }\n    } else if (Date.now() < root._bokeh_timeout) {\n      setTimeout(display_loaded, 100)\n    }\n  }\n\n\n  function run_callbacks() {\n    try {\n      root._bokeh_onload_callbacks.forEach(function(callback) {\n        if (callback != null)\n          callback();\n      });\n    } finally {\n      delete root._bokeh_onload_callbacks\n    }\n    console.debug(\"Bokeh: all callbacks have finished\");\n  }\n\n  function load_libs(css_urls, js_urls, callback) {\n    if (css_urls == null) css_urls = [];\n    if (js_urls == null) js_urls = [];\n\n    root._bokeh_onload_callbacks.push(callback);\n    if (root._bokeh_is_loading > 0) {\n      console.debug(\"Bokeh: BokehJS is being loaded, scheduling callback at\", now());\n      return null;\n    }\n    if (js_urls == null || js_urls.length === 0) {\n      run_callbacks();\n      return null;\n    }\n    console.debug(\"Bokeh: BokehJS not loaded, scheduling load and callback at\", now());\n    root._bokeh_is_loading = css_urls.length + js_urls.length;\n\n    function on_load() {\n      root._bokeh_is_loading--;\n      if (root._bokeh_is_loading === 0) {\n        console.debug(\"Bokeh: all BokehJS libraries/stylesheets loaded\");\n        run_callbacks()\n      }\n    }\n\n    function on_error() {\n      console.error(\"failed to load \" + url);\n    }\n\n    for (var i = 0; i < css_urls.length; i++) {\n      var url = css_urls[i];\n      const element = document.createElement(\"link\");\n      element.onload = on_load;\n      element.onerror = on_error;\n      element.rel = \"stylesheet\";\n      element.type = \"text/css\";\n      element.href = url;\n      console.debug(\"Bokeh: injecting link tag for BokehJS stylesheet: \", url);\n      document.body.appendChild(element);\n    }\n\n    for (var i = 0; i < js_urls.length; i++) {\n      var url = js_urls[i];\n      var element = document.createElement('script');\n      element.onload = on_load;\n      element.onerror = on_error;\n      element.async = false;\n      element.src = url;\n      console.debug(\"Bokeh: injecting script tag for BokehJS library: \", url);\n      document.head.appendChild(element);\n    }\n  };var element = document.getElementById(\"1001\");\n  if (element == null) {\n    console.error(\"Bokeh: ERROR: autoload.js configured with elementid '1001' but no matching script tag was found. \")\n    return false;\n  }\n\n  function inject_raw_css(css) {\n    const element = document.createElement(\"style\");\n    element.appendChild(document.createTextNode(css));\n    document.body.appendChild(element);\n  }\n\n  var js_urls = [\"https://cdn.pydata.org/bokeh/release/bokeh-1.3.4.min.js\", \"https://cdn.pydata.org/bokeh/release/bokeh-widgets-1.3.4.min.js\", \"https://cdn.pydata.org/bokeh/release/bokeh-tables-1.3.4.min.js\", \"https://cdn.pydata.org/bokeh/release/bokeh-gl-1.3.4.min.js\"];\n  var css_urls = [];\n\n  var inline_js = [\n    function(Bokeh) {\n      Bokeh.set_log_level(\"info\");\n    },\n    \n    function(Bokeh) {\n      \n    },\n    function(Bokeh) {} // ensure no trailing comma for IE\n  ];\n\n  function run_inline_js() {\n    \n    if ((root.Bokeh !== undefined) || (force === true)) {\n      for (var i = 0; i < inline_js.length; i++) {\n        inline_js[i].call(root, root.Bokeh);\n      }if (force === true) {\n        display_loaded();\n      }} else if (Date.now() < root._bokeh_timeout) {\n      setTimeout(run_inline_js, 100);\n    } else if (!root._bokeh_failed_load) {\n      console.log(\"Bokeh: BokehJS failed to load within specified timeout.\");\n      root._bokeh_failed_load = true;\n    } else if (force !== true) {\n      var cell = $(document.getElementById(\"1001\")).parents('.cell').data().cell;\n      cell.output_area.append_execute_result(NB_LOAD_WARNING)\n    }\n\n  }\n\n  if (root._bokeh_is_loading === 0) {\n    console.debug(\"Bokeh: BokehJS loaded, going straight to plotting\");\n    run_inline_js();\n  } else {\n    load_libs(css_urls, js_urls, function() {\n      console.debug(\"Bokeh: BokehJS plotting callback run at\", now());\n      run_inline_js();\n    });\n  }\n}(window));"
     },
     "metadata": {},
     "output_type": "display_data"
    }
   ],
   "source": [
    "from bokeh.io import output_notebook, show\n",
    "from bokeh.plotting import figure\n",
    "output_notebook()"
   ]
  },
  {
   "cell_type": "markdown",
   "metadata": {},
   "source": [
    "Now that we know from the previous chapter how multiple plots can be placed together in a layout, we can start to look at how different plots can be linked togeher, or how plots can be linked to widgets. "
   ]
  },
  {
   "cell_type": "markdown",
   "metadata": {
    "collapsed": true
   },
   "source": [
    "# Linked Interactions\n",
    "\n",
    "It is possible to link various interactions between different Bokeh plots. For instance, the ranges of two (or more) plots can be linked, so that when one of the plots is panned (or zoomed, or otherwise has its range changed) the other plots will update in unison. It is also possible to link selections between two plots, so that when items are selected on one plot, the corresponding items on the second plot also become selected. "
   ]
  },
  {
   "cell_type": "markdown",
   "metadata": {},
   "source": [
    "## Linked panning\n",
    "\n",
    "Linked panning (when multiple plots have ranges that stay in sync) is simple to spell with Bokeh. You simply share the appropriate range objects between two (or more) plots. The example below shows how to accomplish this by linking the ranges of three plots in various ways:"
   ]
  },
  {
   "cell_type": "code",
   "execution_count": 2,
   "metadata": {},
   "outputs": [
    {
     "data": {
      "text/html": [
       "\n",
       "\n",
       "\n",
       "\n",
       "\n",
       "\n",
       "  <div class=\"bk-root\" id=\"45889ff9-8f13-445b-aef9-826a1a372bf6\" data-root-id=\"1116\"></div>\n"
      ]
     },
     "metadata": {},
     "output_type": "display_data"
    },
    {
     "data": {
      "application/javascript": [
       "(function(root) {\n",
       "  function embed_document(root) {\n",
       "    \n",
       "  var docs_json = {\"1f68089d-2a09-41d9-b156-0790b3c359e4\":{\"roots\":{\"references\":[{\"attributes\":{\"children\":[{\"id\":\"1115\",\"type\":\"ToolbarBox\"},{\"id\":\"1113\",\"type\":\"GridBox\"}]},\"id\":\"1116\",\"type\":\"Column\"},{\"attributes\":{\"formatter\":{\"id\":\"1088\",\"type\":\"BasicTickFormatter\"},\"ticker\":{\"id\":\"1017\",\"type\":\"BasicTicker\"}},\"id\":\"1016\",\"type\":\"LinearAxis\"},{\"attributes\":{},\"id\":\"1044\",\"type\":\"BasicTicker\"},{\"attributes\":{},\"id\":\"1097\",\"type\":\"BasicTickFormatter\"},{\"attributes\":{},\"id\":\"1099\",\"type\":\"BasicTickFormatter\"},{\"attributes\":{},\"id\":\"1072\",\"type\":\"BasicTicker\"},{\"attributes\":{},\"id\":\"1017\",\"type\":\"BasicTicker\"},{\"attributes\":{\"fill_color\":{\"value\":\"navy\"},\"line_color\":{\"value\":\"navy\"},\"size\":{\"units\":\"screen\",\"value\":10},\"x\":{\"field\":\"x\"},\"y\":{\"field\":\"y\"}},\"id\":\"1027\",\"type\":\"Circle\"},{\"attributes\":{\"dimension\":1,\"ticker\":{\"id\":\"1044\",\"type\":\"BasicTicker\"}},\"id\":\"1047\",\"type\":\"Grid\"},{\"attributes\":{},\"id\":\"1101\",\"type\":\"UnionRenderers\"},{\"attributes\":{\"dimension\":1,\"ticker\":{\"id\":\"1072\",\"type\":\"BasicTicker\"}},\"id\":\"1075\",\"type\":\"Grid\"},{\"attributes\":{\"dimension\":1,\"ticker\":{\"id\":\"1017\",\"type\":\"BasicTicker\"}},\"id\":\"1020\",\"type\":\"Grid\"},{\"attributes\":{\"below\":[{\"id\":\"1066\",\"type\":\"LinearAxis\"}],\"center\":[{\"id\":\"1070\",\"type\":\"Grid\"},{\"id\":\"1075\",\"type\":\"Grid\"}],\"left\":[{\"id\":\"1071\",\"type\":\"LinearAxis\"}],\"plot_height\":250,\"plot_width\":250,\"renderers\":[{\"id\":\"1084\",\"type\":\"GlyphRenderer\"}],\"title\":{\"id\":\"1104\",\"type\":\"Title\"},\"toolbar\":{\"id\":\"1078\",\"type\":\"Toolbar\"},\"toolbar_location\":null,\"x_range\":{\"id\":\"1003\",\"type\":\"DataRange1d\"},\"x_scale\":{\"id\":\"1062\",\"type\":\"LinearScale\"},\"y_range\":{\"id\":\"1060\",\"type\":\"DataRange1d\"},\"y_scale\":{\"id\":\"1064\",\"type\":\"LinearScale\"}},\"id\":\"1058\",\"subtype\":\"Figure\",\"type\":\"Plot\"},{\"attributes\":{},\"id\":\"1102\",\"type\":\"Selection\"},{\"attributes\":{\"active_drag\":\"auto\",\"active_inspect\":\"auto\",\"active_multi\":null,\"active_scroll\":\"auto\",\"active_tap\":\"auto\",\"tools\":[{\"id\":\"1076\",\"type\":\"PanTool\"},{\"id\":\"1077\",\"type\":\"WheelZoomTool\"}]},\"id\":\"1078\",\"type\":\"Toolbar\"},{\"attributes\":{\"children\":[[{\"id\":\"1002\",\"subtype\":\"Figure\",\"type\":\"Plot\"},0,0],[{\"id\":\"1031\",\"subtype\":\"Figure\",\"type\":\"Plot\"},0,1],[{\"id\":\"1058\",\"subtype\":\"Figure\",\"type\":\"Plot\"},0,2]]},\"id\":\"1113\",\"type\":\"GridBox\"},{\"attributes\":{\"active_drag\":\"auto\",\"active_inspect\":\"auto\",\"active_multi\":null,\"active_scroll\":\"auto\",\"active_tap\":\"auto\",\"tools\":[{\"id\":\"1048\",\"type\":\"PanTool\"},{\"id\":\"1049\",\"type\":\"WheelZoomTool\"}]},\"id\":\"1050\",\"type\":\"Toolbar\"},{\"attributes\":{},\"id\":\"1076\",\"type\":\"PanTool\"},{\"attributes\":{},\"id\":\"1022\",\"type\":\"WheelZoomTool\"},{\"attributes\":{},\"id\":\"1048\",\"type\":\"PanTool\"},{\"attributes\":{\"text\":\"\"},\"id\":\"1104\",\"type\":\"Title\"},{\"attributes\":{\"active_drag\":\"auto\",\"active_inspect\":\"auto\",\"active_multi\":null,\"active_scroll\":\"auto\",\"active_tap\":\"auto\",\"tools\":[{\"id\":\"1021\",\"type\":\"PanTool\"},{\"id\":\"1022\",\"type\":\"WheelZoomTool\"}]},\"id\":\"1023\",\"type\":\"Toolbar\"},{\"attributes\":{},\"id\":\"1021\",\"type\":\"PanTool\"},{\"attributes\":{},\"id\":\"1077\",\"type\":\"WheelZoomTool\"},{\"attributes\":{},\"id\":\"1049\",\"type\":\"WheelZoomTool\"},{\"attributes\":{},\"id\":\"1106\",\"type\":\"BasicTickFormatter\"},{\"attributes\":{},\"id\":\"1108\",\"type\":\"BasicTickFormatter\"},{\"attributes\":{\"fill_color\":{\"value\":\"olive\"},\"line_color\":{\"value\":\"olive\"},\"size\":{\"units\":\"screen\",\"value\":10},\"x\":{\"field\":\"x\"},\"y\":{\"field\":\"y\"}},\"id\":\"1082\",\"type\":\"Square\"},{\"attributes\":{\"ticker\":{\"id\":\"1039\",\"type\":\"BasicTicker\"}},\"id\":\"1042\",\"type\":\"Grid\"},{\"attributes\":{\"fill_color\":{\"value\":\"firebrick\"},\"line_color\":{\"value\":\"firebrick\"},\"size\":{\"units\":\"screen\",\"value\":10},\"x\":{\"field\":\"x\"},\"y\":{\"field\":\"y\"}},\"id\":\"1054\",\"type\":\"Triangle\"},{\"attributes\":{},\"id\":\"1110\",\"type\":\"UnionRenderers\"},{\"attributes\":{\"data_source\":{\"id\":\"1026\",\"type\":\"ColumnDataSource\"},\"glyph\":{\"id\":\"1027\",\"type\":\"Circle\"},\"hover_glyph\":null,\"muted_glyph\":null,\"nonselection_glyph\":{\"id\":\"1028\",\"type\":\"Circle\"},\"selection_glyph\":null,\"view\":{\"id\":\"1030\",\"type\":\"CDSView\"}},\"id\":\"1029\",\"type\":\"GlyphRenderer\"},{\"attributes\":{\"fill_alpha\":{\"value\":0.1},\"fill_color\":{\"value\":\"#1f77b4\"},\"line_alpha\":{\"value\":0.1},\"line_color\":{\"value\":\"#1f77b4\"},\"size\":{\"units\":\"screen\",\"value\":10},\"x\":{\"field\":\"x\"},\"y\":{\"field\":\"y\"}},\"id\":\"1083\",\"type\":\"Square\"},{\"attributes\":{\"fill_alpha\":{\"value\":0.1},\"fill_color\":{\"value\":\"#1f77b4\"},\"line_alpha\":{\"value\":0.1},\"line_color\":{\"value\":\"#1f77b4\"},\"size\":{\"units\":\"screen\",\"value\":10},\"x\":{\"field\":\"x\"},\"y\":{\"field\":\"y\"}},\"id\":\"1055\",\"type\":\"Triangle\"},{\"attributes\":{},\"id\":\"1111\",\"type\":\"Selection\"},{\"attributes\":{\"data_source\":{\"id\":\"1081\",\"type\":\"ColumnDataSource\"},\"glyph\":{\"id\":\"1082\",\"type\":\"Square\"},\"hover_glyph\":null,\"muted_glyph\":null,\"nonselection_glyph\":{\"id\":\"1083\",\"type\":\"Square\"},\"selection_glyph\":null,\"view\":{\"id\":\"1085\",\"type\":\"CDSView\"}},\"id\":\"1084\",\"type\":\"GlyphRenderer\"},{\"attributes\":{\"tools\":[{\"id\":\"1021\",\"type\":\"PanTool\"},{\"id\":\"1022\",\"type\":\"WheelZoomTool\"},{\"id\":\"1048\",\"type\":\"PanTool\"},{\"id\":\"1049\",\"type\":\"WheelZoomTool\"},{\"id\":\"1076\",\"type\":\"PanTool\"},{\"id\":\"1077\",\"type\":\"WheelZoomTool\"}]},\"id\":\"1114\",\"type\":\"ProxyToolbar\"},{\"attributes\":{\"data_source\":{\"id\":\"1053\",\"type\":\"ColumnDataSource\"},\"glyph\":{\"id\":\"1054\",\"type\":\"Triangle\"},\"hover_glyph\":null,\"muted_glyph\":null,\"nonselection_glyph\":{\"id\":\"1055\",\"type\":\"Triangle\"},\"selection_glyph\":null,\"view\":{\"id\":\"1057\",\"type\":\"CDSView\"}},\"id\":\"1056\",\"type\":\"GlyphRenderer\"},{\"attributes\":{\"callback\":null,\"data\":{\"x\":[0,1,2,3,4,5,6,7,8,9,10],\"y\":[0,1,2,3,4,5,6,7,8,9,10]},\"selected\":{\"id\":\"1093\",\"type\":\"Selection\"},\"selection_policy\":{\"id\":\"1092\",\"type\":\"UnionRenderers\"}},\"id\":\"1026\",\"type\":\"ColumnDataSource\"},{\"attributes\":{\"source\":{\"id\":\"1081\",\"type\":\"ColumnDataSource\"}},\"id\":\"1085\",\"type\":\"CDSView\"},{\"attributes\":{\"below\":[{\"id\":\"1011\",\"type\":\"LinearAxis\"}],\"center\":[{\"id\":\"1015\",\"type\":\"Grid\"},{\"id\":\"1020\",\"type\":\"Grid\"}],\"left\":[{\"id\":\"1016\",\"type\":\"LinearAxis\"}],\"plot_height\":250,\"plot_width\":250,\"renderers\":[{\"id\":\"1029\",\"type\":\"GlyphRenderer\"}],\"title\":{\"id\":\"1086\",\"type\":\"Title\"},\"toolbar\":{\"id\":\"1023\",\"type\":\"Toolbar\"},\"toolbar_location\":null,\"x_range\":{\"id\":\"1003\",\"type\":\"DataRange1d\"},\"x_scale\":{\"id\":\"1007\",\"type\":\"LinearScale\"},\"y_range\":{\"id\":\"1005\",\"type\":\"DataRange1d\"},\"y_scale\":{\"id\":\"1009\",\"type\":\"LinearScale\"}},\"id\":\"1002\",\"subtype\":\"Figure\",\"type\":\"Plot\"},{\"attributes\":{\"toolbar\":{\"id\":\"1114\",\"type\":\"ProxyToolbar\"},\"toolbar_location\":\"above\"},\"id\":\"1115\",\"type\":\"ToolbarBox\"},{\"attributes\":{\"source\":{\"id\":\"1053\",\"type\":\"ColumnDataSource\"}},\"id\":\"1057\",\"type\":\"CDSView\"},{\"attributes\":{\"callback\":null},\"id\":\"1005\",\"type\":\"DataRange1d\"},{\"attributes\":{\"text\":\"\"},\"id\":\"1086\",\"type\":\"Title\"},{\"attributes\":{\"callback\":null},\"id\":\"1003\",\"type\":\"DataRange1d\"},{\"attributes\":{\"source\":{\"id\":\"1026\",\"type\":\"ColumnDataSource\"}},\"id\":\"1030\",\"type\":\"CDSView\"},{\"attributes\":{\"callback\":null,\"data\":{\"x\":[0,1,2,3,4,5,6,7,8,9,10],\"y\":[5,4,3,2,1,0,1,2,3,4,5]},\"selected\":{\"id\":\"1111\",\"type\":\"Selection\"},\"selection_policy\":{\"id\":\"1110\",\"type\":\"UnionRenderers\"}},\"id\":\"1081\",\"type\":\"ColumnDataSource\"},{\"attributes\":{\"callback\":null},\"id\":\"1060\",\"type\":\"DataRange1d\"},{\"attributes\":{},\"id\":\"1088\",\"type\":\"BasicTickFormatter\"},{\"attributes\":{\"callback\":null,\"data\":{\"x\":[0,1,2,3,4,5,6,7,8,9,10],\"y\":[10,9,8,7,6,5,4,3,2,1,0]},\"selected\":{\"id\":\"1102\",\"type\":\"Selection\"},\"selection_policy\":{\"id\":\"1101\",\"type\":\"UnionRenderers\"}},\"id\":\"1053\",\"type\":\"ColumnDataSource\"},{\"attributes\":{\"below\":[{\"id\":\"1038\",\"type\":\"LinearAxis\"}],\"center\":[{\"id\":\"1042\",\"type\":\"Grid\"},{\"id\":\"1047\",\"type\":\"Grid\"}],\"left\":[{\"id\":\"1043\",\"type\":\"LinearAxis\"}],\"plot_height\":250,\"plot_width\":250,\"renderers\":[{\"id\":\"1056\",\"type\":\"GlyphRenderer\"}],\"title\":{\"id\":\"1095\",\"type\":\"Title\"},\"toolbar\":{\"id\":\"1050\",\"type\":\"Toolbar\"},\"toolbar_location\":null,\"x_range\":{\"id\":\"1003\",\"type\":\"DataRange1d\"},\"x_scale\":{\"id\":\"1034\",\"type\":\"LinearScale\"},\"y_range\":{\"id\":\"1005\",\"type\":\"DataRange1d\"},\"y_scale\":{\"id\":\"1036\",\"type\":\"LinearScale\"}},\"id\":\"1031\",\"subtype\":\"Figure\",\"type\":\"Plot\"},{\"attributes\":{},\"id\":\"1062\",\"type\":\"LinearScale\"},{\"attributes\":{},\"id\":\"1034\",\"type\":\"LinearScale\"},{\"attributes\":{},\"id\":\"1007\",\"type\":\"LinearScale\"},{\"attributes\":{},\"id\":\"1090\",\"type\":\"BasicTickFormatter\"},{\"attributes\":{},\"id\":\"1064\",\"type\":\"LinearScale\"},{\"attributes\":{},\"id\":\"1036\",\"type\":\"LinearScale\"},{\"attributes\":{},\"id\":\"1009\",\"type\":\"LinearScale\"},{\"attributes\":{\"formatter\":{\"id\":\"1108\",\"type\":\"BasicTickFormatter\"},\"ticker\":{\"id\":\"1067\",\"type\":\"BasicTicker\"}},\"id\":\"1066\",\"type\":\"LinearAxis\"},{\"attributes\":{\"formatter\":{\"id\":\"1099\",\"type\":\"BasicTickFormatter\"},\"ticker\":{\"id\":\"1039\",\"type\":\"BasicTicker\"}},\"id\":\"1038\",\"type\":\"LinearAxis\"},{\"attributes\":{\"formatter\":{\"id\":\"1090\",\"type\":\"BasicTickFormatter\"},\"ticker\":{\"id\":\"1012\",\"type\":\"BasicTicker\"}},\"id\":\"1011\",\"type\":\"LinearAxis\"},{\"attributes\":{},\"id\":\"1092\",\"type\":\"UnionRenderers\"},{\"attributes\":{},\"id\":\"1067\",\"type\":\"BasicTicker\"},{\"attributes\":{},\"id\":\"1039\",\"type\":\"BasicTicker\"},{\"attributes\":{},\"id\":\"1012\",\"type\":\"BasicTicker\"},{\"attributes\":{},\"id\":\"1093\",\"type\":\"Selection\"},{\"attributes\":{\"ticker\":{\"id\":\"1067\",\"type\":\"BasicTicker\"}},\"id\":\"1070\",\"type\":\"Grid\"},{\"attributes\":{\"text\":\"\"},\"id\":\"1095\",\"type\":\"Title\"},{\"attributes\":{\"ticker\":{\"id\":\"1012\",\"type\":\"BasicTicker\"}},\"id\":\"1015\",\"type\":\"Grid\"},{\"attributes\":{\"fill_alpha\":{\"value\":0.1},\"fill_color\":{\"value\":\"#1f77b4\"},\"line_alpha\":{\"value\":0.1},\"line_color\":{\"value\":\"#1f77b4\"},\"size\":{\"units\":\"screen\",\"value\":10},\"x\":{\"field\":\"x\"},\"y\":{\"field\":\"y\"}},\"id\":\"1028\",\"type\":\"Circle\"},{\"attributes\":{\"formatter\":{\"id\":\"1106\",\"type\":\"BasicTickFormatter\"},\"ticker\":{\"id\":\"1072\",\"type\":\"BasicTicker\"}},\"id\":\"1071\",\"type\":\"LinearAxis\"},{\"attributes\":{\"formatter\":{\"id\":\"1097\",\"type\":\"BasicTickFormatter\"},\"ticker\":{\"id\":\"1044\",\"type\":\"BasicTicker\"}},\"id\":\"1043\",\"type\":\"LinearAxis\"}],\"root_ids\":[\"1116\"]},\"title\":\"Bokeh Application\",\"version\":\"1.3.4\"}};\n",
       "  var render_items = [{\"docid\":\"1f68089d-2a09-41d9-b156-0790b3c359e4\",\"roots\":{\"1116\":\"45889ff9-8f13-445b-aef9-826a1a372bf6\"}}];\n",
       "  root.Bokeh.embed.embed_items_notebook(docs_json, render_items);\n",
       "\n",
       "  }\n",
       "  if (root.Bokeh !== undefined) {\n",
       "    embed_document(root);\n",
       "  } else {\n",
       "    var attempts = 0;\n",
       "    var timer = setInterval(function(root) {\n",
       "      if (root.Bokeh !== undefined) {\n",
       "        embed_document(root);\n",
       "        clearInterval(timer);\n",
       "      }\n",
       "      attempts++;\n",
       "      if (attempts > 100) {\n",
       "        console.log(\"Bokeh: ERROR: Unable to run BokehJS code because BokehJS library is missing\");\n",
       "        clearInterval(timer);\n",
       "      }\n",
       "    }, 10, root)\n",
       "  }\n",
       "})(window);"
      ],
      "application/vnd.bokehjs_exec.v0+json": ""
     },
     "metadata": {
      "application/vnd.bokehjs_exec.v0+json": {
       "id": "1116"
      }
     },
     "output_type": "display_data"
    }
   ],
   "source": [
    "from bokeh.layouts import gridplot\n",
    "\n",
    "x = list(range(11))\n",
    "y0, y1, y2 = x, [10-i for i in x], [abs(i-5) for i in x]\n",
    "\n",
    "plot_options = dict(width=250, plot_height=250, tools='pan,wheel_zoom')\n",
    "\n",
    "# create a new plot\n",
    "s1 = figure(**plot_options)\n",
    "s1.circle(x, y0, size=10, color=\"navy\")\n",
    "\n",
    "# create a new plot and share both ranges\n",
    "s2 = figure(x_range=s1.x_range, y_range=s1.y_range, **plot_options)\n",
    "s2.triangle(x, y1, size=10, color=\"firebrick\")\n",
    "\n",
    "# create a new plot and share only one range\n",
    "s3 = figure(x_range=s1.x_range, **plot_options)\n",
    "s3.square(x, y2, size=10, color=\"olive\")\n",
    "\n",
    "p = gridplot([[s1, s2, s3]])\n",
    "\n",
    "# show the results\n",
    "show(p)"
   ]
  },
  {
   "cell_type": "code",
   "execution_count": 3,
   "metadata": {},
   "outputs": [],
   "source": [
    "# EXERCISE: create two plots in a gridplot, and link their ranges\n"
   ]
  },
  {
   "cell_type": "markdown",
   "metadata": {},
   "source": [
    "## Linked brushing\n",
    "\n",
    "Linking selections is accomplished in a similar way, by sharing data sources between plots. Note that normally with ``bokeh.plotting`` and ``bokeh.charts`` creating a default data source for simple plots is handled automatically. However to share a data source, we must create them by hand and pass them explicitly. This is illustrated in the example below:"
   ]
  },
  {
   "cell_type": "code",
   "execution_count": 4,
   "metadata": {},
   "outputs": [
    {
     "data": {
      "text/html": [
       "\n",
       "\n",
       "\n",
       "\n",
       "\n",
       "\n",
       "  <div class=\"bk-root\" id=\"9be5de0c-49b7-4ed8-b99f-587340900b65\" data-root-id=\"1373\"></div>\n"
      ]
     },
     "metadata": {},
     "output_type": "display_data"
    },
    {
     "data": {
      "application/javascript": [
       "(function(root) {\n",
       "  function embed_document(root) {\n",
       "    \n",
       "  var docs_json = {\"bef64c72-f390-49f5-910c-65c1f83d7d1b\":{\"roots\":{\"references\":[{\"attributes\":{\"children\":[{\"id\":\"1372\",\"type\":\"ToolbarBox\"},{\"id\":\"1370\",\"type\":\"GridBox\"}]},\"id\":\"1373\",\"type\":\"Column\"},{\"attributes\":{\"callback\":null,\"overlay\":{\"id\":\"1366\",\"type\":\"PolyAnnotation\"}},\"id\":\"1337\",\"type\":\"LassoSelectTool\"},{\"attributes\":{\"ticker\":{\"id\":\"1296\",\"type\":\"BasicTicker\"}},\"id\":\"1299\",\"type\":\"Grid\"},{\"attributes\":{\"fill_alpha\":{\"value\":0.5},\"fill_color\":{\"value\":\"lightgrey\"},\"level\":\"overlay\",\"line_alpha\":{\"value\":1.0},\"line_color\":{\"value\":\"black\"},\"line_dash\":[4,4],\"line_width\":{\"value\":2},\"xs_units\":\"screen\",\"ys_units\":\"screen\"},\"id\":\"1355\",\"type\":\"PolyAnnotation\"},{\"attributes\":{\"data_source\":{\"id\":\"1285\",\"type\":\"ColumnDataSource\"},\"glyph\":{\"id\":\"1313\",\"type\":\"Circle\"},\"hover_glyph\":null,\"muted_glyph\":null,\"nonselection_glyph\":{\"id\":\"1314\",\"type\":\"Circle\"},\"selection_glyph\":null,\"view\":{\"id\":\"1316\",\"type\":\"CDSView\"}},\"id\":\"1315\",\"type\":\"GlyphRenderer\"},{\"attributes\":{},\"id\":\"1356\",\"type\":\"UnionRenderers\"},{\"attributes\":{\"fill_color\":{\"value\":\"#1f77b4\"},\"line_color\":{\"value\":\"#1f77b4\"},\"x\":{\"field\":\"x\"},\"y\":{\"field\":\"y0\"}},\"id\":\"1313\",\"type\":\"Circle\"},{\"attributes\":{\"active_drag\":\"auto\",\"active_inspect\":\"auto\",\"active_multi\":null,\"active_scroll\":\"auto\",\"active_tap\":\"auto\",\"tools\":[{\"id\":\"1305\",\"type\":\"BoxSelectTool\"},{\"id\":\"1306\",\"type\":\"LassoSelectTool\"},{\"id\":\"1307\",\"type\":\"HelpTool\"}]},\"id\":\"1308\",\"type\":\"Toolbar\"},{\"attributes\":{},\"id\":\"1301\",\"type\":\"BasicTicker\"},{\"attributes\":{\"fill_alpha\":{\"value\":0.1},\"fill_color\":{\"value\":\"#1f77b4\"},\"line_alpha\":{\"value\":0.1},\"line_color\":{\"value\":\"#1f77b4\"},\"x\":{\"field\":\"x\"},\"y\":{\"field\":\"y0\"}},\"id\":\"1314\",\"type\":\"Circle\"},{\"attributes\":{},\"id\":\"1357\",\"type\":\"Selection\"},{\"attributes\":{},\"id\":\"1338\",\"type\":\"HelpTool\"},{\"attributes\":{\"text\":\"\"},\"id\":\"1359\",\"type\":\"Title\"},{\"attributes\":{},\"id\":\"1293\",\"type\":\"LinearScale\"},{\"attributes\":{\"formatter\":{\"id\":\"1350\",\"type\":\"BasicTickFormatter\"},\"ticker\":{\"id\":\"1301\",\"type\":\"BasicTicker\"}},\"id\":\"1300\",\"type\":\"LinearAxis\"},{\"attributes\":{},\"id\":\"1361\",\"type\":\"BasicTickFormatter\"},{\"attributes\":{},\"id\":\"1307\",\"type\":\"HelpTool\"},{\"attributes\":{},\"id\":\"1291\",\"type\":\"LinearScale\"},{\"attributes\":{\"source\":{\"id\":\"1285\",\"type\":\"ColumnDataSource\"}},\"id\":\"1316\",\"type\":\"CDSView\"},{\"attributes\":{},\"id\":\"1363\",\"type\":\"BasicTickFormatter\"},{\"attributes\":{\"callback\":null,\"overlay\":{\"id\":\"1355\",\"type\":\"PolyAnnotation\"}},\"id\":\"1306\",\"type\":\"LassoSelectTool\"},{\"attributes\":{\"active_drag\":\"auto\",\"active_inspect\":\"auto\",\"active_multi\":null,\"active_scroll\":\"auto\",\"active_tap\":\"auto\",\"tools\":[{\"id\":\"1336\",\"type\":\"BoxSelectTool\"},{\"id\":\"1337\",\"type\":\"LassoSelectTool\"},{\"id\":\"1338\",\"type\":\"HelpTool\"}]},\"id\":\"1339\",\"type\":\"Toolbar\"},{\"attributes\":{\"bottom_units\":\"screen\",\"fill_alpha\":{\"value\":0.5},\"fill_color\":{\"value\":\"lightgrey\"},\"left_units\":\"screen\",\"level\":\"overlay\",\"line_alpha\":{\"value\":1.0},\"line_color\":{\"value\":\"black\"},\"line_dash\":[4,4],\"line_width\":{\"value\":2},\"render_mode\":\"css\",\"right_units\":\"screen\",\"top_units\":\"screen\"},\"id\":\"1365\",\"type\":\"BoxAnnotation\"},{\"attributes\":{\"data_source\":{\"id\":\"1285\",\"type\":\"ColumnDataSource\"},\"glyph\":{\"id\":\"1344\",\"type\":\"Circle\"},\"hover_glyph\":null,\"muted_glyph\":null,\"nonselection_glyph\":{\"id\":\"1345\",\"type\":\"Circle\"},\"selection_glyph\":null,\"view\":{\"id\":\"1347\",\"type\":\"CDSView\"}},\"id\":\"1346\",\"type\":\"GlyphRenderer\"},{\"attributes\":{\"formatter\":{\"id\":\"1352\",\"type\":\"BasicTickFormatter\"},\"ticker\":{\"id\":\"1296\",\"type\":\"BasicTicker\"}},\"id\":\"1295\",\"type\":\"LinearAxis\"},{\"attributes\":{\"callback\":null},\"id\":\"1318\",\"type\":\"DataRange1d\"},{\"attributes\":{\"fill_alpha\":{\"value\":0.5},\"fill_color\":{\"value\":\"lightgrey\"},\"level\":\"overlay\",\"line_alpha\":{\"value\":1.0},\"line_color\":{\"value\":\"black\"},\"line_dash\":[4,4],\"line_width\":{\"value\":2},\"xs_units\":\"screen\",\"ys_units\":\"screen\"},\"id\":\"1366\",\"type\":\"PolyAnnotation\"},{\"attributes\":{\"fill_alpha\":{\"value\":0.1},\"fill_color\":{\"value\":\"#1f77b4\"},\"line_alpha\":{\"value\":0.1},\"line_color\":{\"value\":\"#1f77b4\"},\"x\":{\"field\":\"x\"},\"y\":{\"field\":\"y1\"}},\"id\":\"1345\",\"type\":\"Circle\"},{\"attributes\":{},\"id\":\"1296\",\"type\":\"BasicTicker\"},{\"attributes\":{\"text\":\"\"},\"id\":\"1348\",\"type\":\"Title\"},{\"attributes\":{},\"id\":\"1352\",\"type\":\"BasicTickFormatter\"},{\"attributes\":{\"dimension\":1,\"ticker\":{\"id\":\"1301\",\"type\":\"BasicTicker\"}},\"id\":\"1304\",\"type\":\"Grid\"},{\"attributes\":{\"tools\":[{\"id\":\"1305\",\"type\":\"BoxSelectTool\"},{\"id\":\"1306\",\"type\":\"LassoSelectTool\"},{\"id\":\"1307\",\"type\":\"HelpTool\"},{\"id\":\"1336\",\"type\":\"BoxSelectTool\"},{\"id\":\"1337\",\"type\":\"LassoSelectTool\"},{\"id\":\"1338\",\"type\":\"HelpTool\"}]},\"id\":\"1371\",\"type\":\"ProxyToolbar\"},{\"attributes\":{\"fill_color\":{\"value\":\"#1f77b4\"},\"line_color\":{\"value\":\"#1f77b4\"},\"x\":{\"field\":\"x\"},\"y\":{\"field\":\"y1\"}},\"id\":\"1344\",\"type\":\"Circle\"},{\"attributes\":{\"source\":{\"id\":\"1285\",\"type\":\"ColumnDataSource\"}},\"id\":\"1347\",\"type\":\"CDSView\"},{\"attributes\":{\"toolbar\":{\"id\":\"1371\",\"type\":\"ProxyToolbar\"},\"toolbar_location\":\"above\"},\"id\":\"1372\",\"type\":\"ToolbarBox\"},{\"attributes\":{\"callback\":null,\"overlay\":{\"id\":\"1354\",\"type\":\"BoxAnnotation\"}},\"id\":\"1305\",\"type\":\"BoxSelectTool\"},{\"attributes\":{},\"id\":\"1322\",\"type\":\"LinearScale\"},{\"attributes\":{\"callback\":null,\"overlay\":{\"id\":\"1365\",\"type\":\"BoxAnnotation\"}},\"id\":\"1336\",\"type\":\"BoxSelectTool\"},{\"attributes\":{\"dimension\":1,\"ticker\":{\"id\":\"1332\",\"type\":\"BasicTicker\"}},\"id\":\"1335\",\"type\":\"Grid\"},{\"attributes\":{},\"id\":\"1324\",\"type\":\"LinearScale\"},{\"attributes\":{\"callback\":null,\"data\":{\"x\":[-20,-19,-18,-17,-16,-15,-14,-13,-12,-11,-10,-9,-8,-7,-6,-5,-4,-3,-2,-1,0,1,2,3,4,5,6,7,8,9,10,11,12,13,14,15,16,17,18,19,20],\"y0\":[20,19,18,17,16,15,14,13,12,11,10,9,8,7,6,5,4,3,2,1,0,1,2,3,4,5,6,7,8,9,10,11,12,13,14,15,16,17,18,19,20],\"y1\":[400,361,324,289,256,225,196,169,144,121,100,81,64,49,36,25,16,9,4,1,0,1,4,9,16,25,36,49,64,81,100,121,144,169,196,225,256,289,324,361,400]},\"selected\":{\"id\":\"1357\",\"type\":\"Selection\"},\"selection_policy\":{\"id\":\"1356\",\"type\":\"UnionRenderers\"}},\"id\":\"1285\",\"type\":\"ColumnDataSource\"},{\"attributes\":{\"callback\":null},\"id\":\"1320\",\"type\":\"DataRange1d\"},{\"attributes\":{\"callback\":null},\"id\":\"1289\",\"type\":\"DataRange1d\"},{\"attributes\":{\"formatter\":{\"id\":\"1363\",\"type\":\"BasicTickFormatter\"},\"ticker\":{\"id\":\"1327\",\"type\":\"BasicTicker\"}},\"id\":\"1326\",\"type\":\"LinearAxis\"},{\"attributes\":{\"bottom_units\":\"screen\",\"fill_alpha\":{\"value\":0.5},\"fill_color\":{\"value\":\"lightgrey\"},\"left_units\":\"screen\",\"level\":\"overlay\",\"line_alpha\":{\"value\":1.0},\"line_color\":{\"value\":\"black\"},\"line_dash\":[4,4],\"line_width\":{\"value\":2},\"render_mode\":\"css\",\"right_units\":\"screen\",\"top_units\":\"screen\"},\"id\":\"1354\",\"type\":\"BoxAnnotation\"},{\"attributes\":{},\"id\":\"1327\",\"type\":\"BasicTicker\"},{\"attributes\":{\"below\":[{\"id\":\"1295\",\"type\":\"LinearAxis\"}],\"center\":[{\"id\":\"1299\",\"type\":\"Grid\"},{\"id\":\"1304\",\"type\":\"Grid\"}],\"left\":[{\"id\":\"1300\",\"type\":\"LinearAxis\"}],\"plot_height\":300,\"plot_width\":300,\"renderers\":[{\"id\":\"1315\",\"type\":\"GlyphRenderer\"}],\"title\":{\"id\":\"1348\",\"type\":\"Title\"},\"toolbar\":{\"id\":\"1308\",\"type\":\"Toolbar\"},\"toolbar_location\":null,\"x_range\":{\"id\":\"1287\",\"type\":\"DataRange1d\"},\"x_scale\":{\"id\":\"1291\",\"type\":\"LinearScale\"},\"y_range\":{\"id\":\"1289\",\"type\":\"DataRange1d\"},\"y_scale\":{\"id\":\"1293\",\"type\":\"LinearScale\"}},\"id\":\"1286\",\"subtype\":\"Figure\",\"type\":\"Plot\"},{\"attributes\":{\"below\":[{\"id\":\"1326\",\"type\":\"LinearAxis\"}],\"center\":[{\"id\":\"1330\",\"type\":\"Grid\"},{\"id\":\"1335\",\"type\":\"Grid\"}],\"left\":[{\"id\":\"1331\",\"type\":\"LinearAxis\"}],\"plot_height\":300,\"plot_width\":300,\"renderers\":[{\"id\":\"1346\",\"type\":\"GlyphRenderer\"}],\"title\":{\"id\":\"1359\",\"type\":\"Title\"},\"toolbar\":{\"id\":\"1339\",\"type\":\"Toolbar\"},\"toolbar_location\":null,\"x_range\":{\"id\":\"1318\",\"type\":\"DataRange1d\"},\"x_scale\":{\"id\":\"1322\",\"type\":\"LinearScale\"},\"y_range\":{\"id\":\"1320\",\"type\":\"DataRange1d\"},\"y_scale\":{\"id\":\"1324\",\"type\":\"LinearScale\"}},\"id\":\"1317\",\"subtype\":\"Figure\",\"type\":\"Plot\"},{\"attributes\":{\"ticker\":{\"id\":\"1327\",\"type\":\"BasicTicker\"}},\"id\":\"1330\",\"type\":\"Grid\"},{\"attributes\":{},\"id\":\"1350\",\"type\":\"BasicTickFormatter\"},{\"attributes\":{\"callback\":null},\"id\":\"1287\",\"type\":\"DataRange1d\"},{\"attributes\":{\"formatter\":{\"id\":\"1361\",\"type\":\"BasicTickFormatter\"},\"ticker\":{\"id\":\"1332\",\"type\":\"BasicTicker\"}},\"id\":\"1331\",\"type\":\"LinearAxis\"},{\"attributes\":{\"children\":[[{\"id\":\"1286\",\"subtype\":\"Figure\",\"type\":\"Plot\"},0,0],[{\"id\":\"1317\",\"subtype\":\"Figure\",\"type\":\"Plot\"},0,1]]},\"id\":\"1370\",\"type\":\"GridBox\"},{\"attributes\":{},\"id\":\"1332\",\"type\":\"BasicTicker\"}],\"root_ids\":[\"1373\"]},\"title\":\"Bokeh Application\",\"version\":\"1.3.4\"}};\n",
       "  var render_items = [{\"docid\":\"bef64c72-f390-49f5-910c-65c1f83d7d1b\",\"roots\":{\"1373\":\"9be5de0c-49b7-4ed8-b99f-587340900b65\"}}];\n",
       "  root.Bokeh.embed.embed_items_notebook(docs_json, render_items);\n",
       "\n",
       "  }\n",
       "  if (root.Bokeh !== undefined) {\n",
       "    embed_document(root);\n",
       "  } else {\n",
       "    var attempts = 0;\n",
       "    var timer = setInterval(function(root) {\n",
       "      if (root.Bokeh !== undefined) {\n",
       "        embed_document(root);\n",
       "        clearInterval(timer);\n",
       "      }\n",
       "      attempts++;\n",
       "      if (attempts > 100) {\n",
       "        console.log(\"Bokeh: ERROR: Unable to run BokehJS code because BokehJS library is missing\");\n",
       "        clearInterval(timer);\n",
       "      }\n",
       "    }, 10, root)\n",
       "  }\n",
       "})(window);"
      ],
      "application/vnd.bokehjs_exec.v0+json": ""
     },
     "metadata": {
      "application/vnd.bokehjs_exec.v0+json": {
       "id": "1373"
      }
     },
     "output_type": "display_data"
    }
   ],
   "source": [
    "from bokeh.models import ColumnDataSource\n",
    "\n",
    "x = list(range(-20, 21))\n",
    "y0, y1 = [abs(xx) for xx in x], [xx**2 for xx in x]\n",
    "\n",
    "# create a column data source for the plots to share\n",
    "source = ColumnDataSource(data=dict(x=x, y0=y0, y1=y1))\n",
    "\n",
    "TOOLS = \"box_select,lasso_select,help\"\n",
    "\n",
    "# create a new plot and add a renderer\n",
    "left = figure(tools=TOOLS, width=300, height=300)\n",
    "left.circle('x', 'y0', source=source)\n",
    "\n",
    "# create another new plot and add a renderer\n",
    "right = figure(tools=TOOLS, width=300, height=300)\n",
    "right.circle('x', 'y1', source=source)\n",
    "\n",
    "p = gridplot([[left, right]])\n",
    "\n",
    "show(p)"
   ]
  },
  {
   "cell_type": "code",
   "execution_count": 5,
   "metadata": {},
   "outputs": [],
   "source": [
    "# EXERCISE: create two plots in a gridplot, and link their data sources\n",
    "\n"
   ]
  },
  {
   "cell_type": "markdown",
   "metadata": {},
   "source": [
    "# Hover Tools\n",
    "\n",
    "Bokeh has a Hover Tool that allows additional information to be displayed in a popup whenever the user hovers over a specific glyph. Basic hover tool configuration amounts to providing a list of ``(name, format)`` tuples. The full details can be found in the User's Guide [here](http://bokeh.pydata.org/en/latest/docs/user_guide/tools.html#hovertool).\n",
    "\n",
    "The example below shows some basic usage of the Hover tool with a circle glyph, using hover information defined in utils.py:"
   ]
  },
  {
   "cell_type": "code",
   "execution_count": 6,
   "metadata": {},
   "outputs": [
    {
     "data": {
      "text/html": [
       "\n",
       "\n",
       "\n",
       "\n",
       "\n",
       "\n",
       "  <div class=\"bk-root\" id=\"fcf76bc9-72e2-4e9f-b07c-a0e9c9b40f63\" data-root-id=\"1528\"></div>\n"
      ]
     },
     "metadata": {},
     "output_type": "display_data"
    },
    {
     "data": {
      "application/javascript": [
       "(function(root) {\n",
       "  function embed_document(root) {\n",
       "    \n",
       "  var docs_json = {\"9ee76090-70b4-4cfb-a51c-64d4daf084bc\":{\"roots\":{\"references\":[{\"attributes\":{\"below\":[{\"id\":\"1539\",\"type\":\"LinearAxis\"}],\"center\":[{\"id\":\"1543\",\"type\":\"Grid\"},{\"id\":\"1548\",\"type\":\"Grid\"}],\"left\":[{\"id\":\"1544\",\"type\":\"LinearAxis\"}],\"plot_height\":300,\"plot_width\":300,\"renderers\":[{\"id\":\"1554\",\"type\":\"GlyphRenderer\"}],\"title\":{\"id\":\"1529\",\"type\":\"Title\"},\"toolbar\":{\"id\":\"1549\",\"type\":\"Toolbar\"},\"x_range\":{\"id\":\"1531\",\"type\":\"DataRange1d\"},\"x_scale\":{\"id\":\"1535\",\"type\":\"LinearScale\"},\"y_range\":{\"id\":\"1533\",\"type\":\"DataRange1d\"},\"y_scale\":{\"id\":\"1537\",\"type\":\"LinearScale\"}},\"id\":\"1528\",\"subtype\":\"Figure\",\"type\":\"Plot\"},{\"attributes\":{},\"id\":\"1604\",\"type\":\"Selection\"},{\"attributes\":{\"formatter\":{\"id\":\"1601\",\"type\":\"BasicTickFormatter\"},\"ticker\":{\"id\":\"1540\",\"type\":\"BasicTicker\"}},\"id\":\"1539\",\"type\":\"LinearAxis\"},{\"attributes\":{},\"id\":\"1601\",\"type\":\"BasicTickFormatter\"},{\"attributes\":{},\"id\":\"1535\",\"type\":\"LinearScale\"},{\"attributes\":{},\"id\":\"1537\",\"type\":\"LinearScale\"},{\"attributes\":{\"formatter\":{\"id\":\"1599\",\"type\":\"BasicTickFormatter\"},\"ticker\":{\"id\":\"1545\",\"type\":\"BasicTicker\"}},\"id\":\"1544\",\"type\":\"LinearAxis\"},{\"attributes\":{},\"id\":\"1540\",\"type\":\"BasicTicker\"},{\"attributes\":{},\"id\":\"1599\",\"type\":\"BasicTickFormatter\"},{\"attributes\":{\"active_drag\":\"auto\",\"active_inspect\":\"auto\",\"active_multi\":null,\"active_scroll\":\"auto\",\"active_tap\":\"auto\",\"tools\":[{\"id\":\"1527\",\"type\":\"HoverTool\"}]},\"id\":\"1549\",\"type\":\"Toolbar\"},{\"attributes\":{\"ticker\":{\"id\":\"1540\",\"type\":\"BasicTicker\"}},\"id\":\"1543\",\"type\":\"Grid\"},{\"attributes\":{\"callback\":null},\"id\":\"1531\",\"type\":\"DataRange1d\"},{\"attributes\":{},\"id\":\"1545\",\"type\":\"BasicTicker\"},{\"attributes\":{\"fill_color\":{\"value\":\"#1f77b4\"},\"line_color\":{\"value\":\"#1f77b4\"},\"size\":{\"units\":\"screen\",\"value\":20},\"x\":{\"field\":\"x\"},\"y\":{\"field\":\"y\"}},\"id\":\"1552\",\"type\":\"Circle\"},{\"attributes\":{\"data_source\":{\"id\":\"1526\",\"type\":\"ColumnDataSource\"},\"glyph\":{\"id\":\"1552\",\"type\":\"Circle\"},\"hover_glyph\":null,\"muted_glyph\":null,\"nonselection_glyph\":{\"id\":\"1553\",\"type\":\"Circle\"},\"selection_glyph\":null,\"view\":{\"id\":\"1555\",\"type\":\"CDSView\"}},\"id\":\"1554\",\"type\":\"GlyphRenderer\"},{\"attributes\":{\"dimension\":1,\"ticker\":{\"id\":\"1545\",\"type\":\"BasicTicker\"}},\"id\":\"1548\",\"type\":\"Grid\"},{\"attributes\":{\"callback\":null,\"data\":{\"desc\":[\"A\",\"b\",\"C\",\"d\",\"E\"],\"x\":[1,2,3,4,5],\"y\":[2,5,8,2,7]},\"selected\":{\"id\":\"1604\",\"type\":\"Selection\"},\"selection_policy\":{\"id\":\"1603\",\"type\":\"UnionRenderers\"}},\"id\":\"1526\",\"type\":\"ColumnDataSource\"},{\"attributes\":{\"fill_alpha\":{\"value\":0.1},\"fill_color\":{\"value\":\"#1f77b4\"},\"line_alpha\":{\"value\":0.1},\"line_color\":{\"value\":\"#1f77b4\"},\"size\":{\"units\":\"screen\",\"value\":20},\"x\":{\"field\":\"x\"},\"y\":{\"field\":\"y\"}},\"id\":\"1553\",\"type\":\"Circle\"},{\"attributes\":{},\"id\":\"1603\",\"type\":\"UnionRenderers\"},{\"attributes\":{\"source\":{\"id\":\"1526\",\"type\":\"ColumnDataSource\"}},\"id\":\"1555\",\"type\":\"CDSView\"},{\"attributes\":{\"text\":\"Mouse over the dots\"},\"id\":\"1529\",\"type\":\"Title\"},{\"attributes\":{\"callback\":null},\"id\":\"1533\",\"type\":\"DataRange1d\"},{\"attributes\":{\"callback\":null,\"tooltips\":[[\"index\",\"$index\"],[\"(x,y)\",\"($x, $y)\"],[\"desc\",\"@desc\"]]},\"id\":\"1527\",\"type\":\"HoverTool\"}],\"root_ids\":[\"1528\"]},\"title\":\"Bokeh Application\",\"version\":\"1.3.4\"}};\n",
       "  var render_items = [{\"docid\":\"9ee76090-70b4-4cfb-a51c-64d4daf084bc\",\"roots\":{\"1528\":\"fcf76bc9-72e2-4e9f-b07c-a0e9c9b40f63\"}}];\n",
       "  root.Bokeh.embed.embed_items_notebook(docs_json, render_items);\n",
       "\n",
       "  }\n",
       "  if (root.Bokeh !== undefined) {\n",
       "    embed_document(root);\n",
       "  } else {\n",
       "    var attempts = 0;\n",
       "    var timer = setInterval(function(root) {\n",
       "      if (root.Bokeh !== undefined) {\n",
       "        embed_document(root);\n",
       "        clearInterval(timer);\n",
       "      }\n",
       "      attempts++;\n",
       "      if (attempts > 100) {\n",
       "        console.log(\"Bokeh: ERROR: Unable to run BokehJS code because BokehJS library is missing\");\n",
       "        clearInterval(timer);\n",
       "      }\n",
       "    }, 10, root)\n",
       "  }\n",
       "})(window);"
      ],
      "application/vnd.bokehjs_exec.v0+json": ""
     },
     "metadata": {
      "application/vnd.bokehjs_exec.v0+json": {
       "id": "1528"
      }
     },
     "output_type": "display_data"
    }
   ],
   "source": [
    "from bokeh.models import HoverTool\n",
    "\n",
    "source = ColumnDataSource(\n",
    "        data=dict(\n",
    "            x=[1, 2, 3, 4, 5],\n",
    "            y=[2, 5, 8, 2, 7],\n",
    "            desc=['A', 'b', 'C', 'd', 'E'],\n",
    "        )\n",
    "    )\n",
    "\n",
    "hover = HoverTool(\n",
    "        tooltips=[\n",
    "            (\"index\", \"$index\"),\n",
    "            (\"(x,y)\", \"($x, $y)\"),\n",
    "            (\"desc\", \"@desc\"),\n",
    "        ]\n",
    "    )\n",
    "\n",
    "p = figure(plot_width=300, plot_height=300, tools=[hover], title=\"Mouse over the dots\")\n",
    "\n",
    "p.circle('x', 'y', size=20, source=source)\n",
    "\n",
    "show(p)"
   ]
  },
  {
   "cell_type": "markdown",
   "metadata": {},
   "source": [
    "# Widgets"
   ]
  },
  {
   "cell_type": "markdown",
   "metadata": {},
   "source": [
    "Bokeh supports direct integration with a small basic widget set. Thse can be used in conjunction with a Bokeh Server, or with ``CustomJS`` models to add more interactive capability to your documents. You can see a complete list, with example code in the [Adding Widgets](http://bokeh.pydata.org/en/latest/docs/user_guide/interaction.html#adding-widgets) section of the User's Guide. \n",
    "\n",
    "\n",
    "\n",
    "*NOTE: In this Tutorial chapter, we will focus on using widgets with JavaScript callbacks. The Tutorial chapter on Bokeh server applications covers using Bokeh widgets with real Python callbacks*\n",
    "\n",
    "\n",
    "\n",
    "\n",
    "To use the widgets, include them in a layout like you would a plot object:"
   ]
  },
  {
   "cell_type": "code",
   "execution_count": 7,
   "metadata": {},
   "outputs": [
    {
     "data": {
      "text/html": [
       "\n",
       "\n",
       "\n",
       "\n",
       "\n",
       "\n",
       "  <div class=\"bk-root\" id=\"c856ec01-1f08-49b6-8ccd-b4ed13ca74d4\" data-root-id=\"1648\"></div>\n"
      ]
     },
     "metadata": {},
     "output_type": "display_data"
    },
    {
     "data": {
      "application/javascript": [
       "(function(root) {\n",
       "  function embed_document(root) {\n",
       "    \n",
       "  var docs_json = {\"216e7e7f-6f0d-4667-88ee-ec82865b90e1\":{\"roots\":{\"references\":[{\"attributes\":{\"children\":[{\"id\":\"1647\",\"type\":\"Slider\"}]},\"id\":\"1648\",\"type\":\"WidgetBox\"},{\"attributes\":{\"callback\":null,\"end\":10,\"start\":0,\"step\":0.1,\"title\":\"foo\",\"value\":1},\"id\":\"1647\",\"type\":\"Slider\"}],\"root_ids\":[\"1648\"]},\"title\":\"Bokeh Application\",\"version\":\"1.3.4\"}};\n",
       "  var render_items = [{\"docid\":\"216e7e7f-6f0d-4667-88ee-ec82865b90e1\",\"roots\":{\"1648\":\"c856ec01-1f08-49b6-8ccd-b4ed13ca74d4\"}}];\n",
       "  root.Bokeh.embed.embed_items_notebook(docs_json, render_items);\n",
       "\n",
       "  }\n",
       "  if (root.Bokeh !== undefined) {\n",
       "    embed_document(root);\n",
       "  } else {\n",
       "    var attempts = 0;\n",
       "    var timer = setInterval(function(root) {\n",
       "      if (root.Bokeh !== undefined) {\n",
       "        embed_document(root);\n",
       "        clearInterval(timer);\n",
       "      }\n",
       "      attempts++;\n",
       "      if (attempts > 100) {\n",
       "        console.log(\"Bokeh: ERROR: Unable to run BokehJS code because BokehJS library is missing\");\n",
       "        clearInterval(timer);\n",
       "      }\n",
       "    }, 10, root)\n",
       "  }\n",
       "})(window);"
      ],
      "application/vnd.bokehjs_exec.v0+json": ""
     },
     "metadata": {
      "application/vnd.bokehjs_exec.v0+json": {
       "id": "1648"
      }
     },
     "output_type": "display_data"
    }
   ],
   "source": [
    "from bokeh.layouts import widgetbox\n",
    "from bokeh.models.widgets import Slider\n",
    "\n",
    "\n",
    "slider = Slider(start=0, end=10, value=1, step=.1, title=\"foo\")\n",
    "\n",
    "show(widgetbox(slider))"
   ]
  },
  {
   "cell_type": "code",
   "execution_count": 8,
   "metadata": {},
   "outputs": [],
   "source": [
    "# EXERCISE: create and show a Select widget \n"
   ]
  },
  {
   "cell_type": "markdown",
   "metadata": {},
   "source": [
    "# CustomJS Callbacks\n",
    "\n",
    "In order for a widget to be useful, it needs to be able to perform some action. Using the Bokeh server, it is possible to have widgets trigger real Python code. That possibuility will be explored in the Bokeh server chapter of the turorial. Here, we look at how widgets can be configured with `CustomJS` callbacks that execute snippets of JavaScript code. "
   ]
  },
  {
   "cell_type": "code",
   "execution_count": 9,
   "metadata": {},
   "outputs": [
    {
     "data": {
      "text/html": [
       "\n",
       "\n",
       "\n",
       "\n",
       "\n",
       "\n",
       "  <div class=\"bk-root\" id=\"3daab93e-5e72-4d6b-aa7b-bc7baafc7214\" data-root-id=\"1700\"></div>\n"
      ]
     },
     "metadata": {},
     "output_type": "display_data"
    },
    {
     "data": {
      "application/javascript": [
       "(function(root) {\n",
       "  function embed_document(root) {\n",
       "    \n",
       "  var docs_json = {\"b306a446-9cfb-4cca-866e-2d44b09f65d9\":{\"roots\":{\"references\":[{\"attributes\":{\"below\":[{\"id\":\"1709\",\"type\":\"LinearAxis\"}],\"center\":[{\"id\":\"1713\",\"type\":\"Grid\"},{\"id\":\"1718\",\"type\":\"Grid\"}],\"left\":[{\"id\":\"1714\",\"type\":\"LinearAxis\"}],\"plot_height\":300,\"renderers\":[{\"id\":\"1724\",\"type\":\"GlyphRenderer\"}],\"title\":{\"id\":\"1775\",\"type\":\"Title\"},\"toolbar\":{\"id\":\"1719\",\"type\":\"Toolbar\"},\"x_range\":{\"id\":\"1701\",\"type\":\"DataRange1d\"},\"x_scale\":{\"id\":\"1705\",\"type\":\"LinearScale\"},\"y_range\":{\"id\":\"1703\",\"type\":\"DataRange1d\"},\"y_scale\":{\"id\":\"1707\",\"type\":\"LinearScale\"}},\"id\":\"1700\",\"subtype\":\"Figure\",\"type\":\"Plot\"},{\"attributes\":{\"fill_alpha\":{\"value\":0.1},\"fill_color\":{\"value\":\"#1f77b4\"},\"line_alpha\":{\"value\":0.1},\"line_color\":{\"value\":\"#1f77b4\"},\"size\":{\"units\":\"screen\",\"value\":20},\"x\":{\"field\":\"x\"},\"y\":{\"field\":\"y\"}},\"id\":\"1723\",\"type\":\"Circle\"},{\"attributes\":{\"callback\":null},\"id\":\"1703\",\"type\":\"DataRange1d\"},{\"attributes\":{\"fill_color\":{\"value\":\"#1f77b4\"},\"line_color\":{\"value\":\"#1f77b4\"},\"size\":{\"units\":\"screen\",\"value\":20},\"x\":{\"field\":\"x\"},\"y\":{\"field\":\"y\"}},\"id\":\"1722\",\"type\":\"Circle\"},{\"attributes\":{\"dimension\":1,\"ticker\":{\"id\":\"1715\",\"type\":\"BasicTicker\"}},\"id\":\"1718\",\"type\":\"Grid\"},{\"attributes\":{\"data_source\":{\"id\":\"1721\",\"type\":\"ColumnDataSource\"},\"glyph\":{\"id\":\"1722\",\"type\":\"Circle\"},\"hover_glyph\":null,\"muted_glyph\":null,\"nonselection_glyph\":{\"id\":\"1723\",\"type\":\"Circle\"},\"selection_glyph\":null,\"view\":{\"id\":\"1725\",\"type\":\"CDSView\"}},\"id\":\"1724\",\"type\":\"GlyphRenderer\"},{\"attributes\":{},\"id\":\"1705\",\"type\":\"LinearScale\"},{\"attributes\":{\"source\":{\"id\":\"1721\",\"type\":\"ColumnDataSource\"}},\"id\":\"1725\",\"type\":\"CDSView\"},{\"attributes\":{\"formatter\":{\"id\":\"1779\",\"type\":\"BasicTickFormatter\"},\"ticker\":{\"id\":\"1710\",\"type\":\"BasicTicker\"}},\"id\":\"1709\",\"type\":\"LinearAxis\"},{\"attributes\":{\"formatter\":{\"id\":\"1777\",\"type\":\"BasicTickFormatter\"},\"ticker\":{\"id\":\"1715\",\"type\":\"BasicTicker\"}},\"id\":\"1714\",\"type\":\"LinearAxis\"},{\"attributes\":{},\"id\":\"1779\",\"type\":\"BasicTickFormatter\"},{\"attributes\":{},\"id\":\"1781\",\"type\":\"UnionRenderers\"},{\"attributes\":{},\"id\":\"1715\",\"type\":\"BasicTicker\"},{\"attributes\":{\"callback\":{\"id\":\"1698\",\"type\":\"CustomJS\"}},\"id\":\"1699\",\"type\":\"TapTool\"},{\"attributes\":{\"code\":\"alert('you tapped a circle!')\"},\"id\":\"1698\",\"type\":\"CustomJS\"},{\"attributes\":{},\"id\":\"1782\",\"type\":\"Selection\"},{\"attributes\":{\"ticker\":{\"id\":\"1710\",\"type\":\"BasicTicker\"}},\"id\":\"1713\",\"type\":\"Grid\"},{\"attributes\":{},\"id\":\"1777\",\"type\":\"BasicTickFormatter\"},{\"attributes\":{\"callback\":null,\"data\":{\"x\":[1,2,3,4,5],\"y\":[2,5,8,2,7]},\"selected\":{\"id\":\"1782\",\"type\":\"Selection\"},\"selection_policy\":{\"id\":\"1781\",\"type\":\"UnionRenderers\"}},\"id\":\"1721\",\"type\":\"ColumnDataSource\"},{\"attributes\":{\"text\":\"\"},\"id\":\"1775\",\"type\":\"Title\"},{\"attributes\":{\"active_drag\":\"auto\",\"active_inspect\":\"auto\",\"active_multi\":null,\"active_scroll\":\"auto\",\"active_tap\":\"auto\",\"tools\":[{\"id\":\"1699\",\"type\":\"TapTool\"}]},\"id\":\"1719\",\"type\":\"Toolbar\"},{\"attributes\":{},\"id\":\"1707\",\"type\":\"LinearScale\"},{\"attributes\":{\"callback\":null},\"id\":\"1701\",\"type\":\"DataRange1d\"},{\"attributes\":{},\"id\":\"1710\",\"type\":\"BasicTicker\"}],\"root_ids\":[\"1700\"]},\"title\":\"Bokeh Application\",\"version\":\"1.3.4\"}};\n",
       "  var render_items = [{\"docid\":\"b306a446-9cfb-4cca-866e-2d44b09f65d9\",\"roots\":{\"1700\":\"3daab93e-5e72-4d6b-aa7b-bc7baafc7214\"}}];\n",
       "  root.Bokeh.embed.embed_items_notebook(docs_json, render_items);\n",
       "\n",
       "  }\n",
       "  if (root.Bokeh !== undefined) {\n",
       "    embed_document(root);\n",
       "  } else {\n",
       "    var attempts = 0;\n",
       "    var timer = setInterval(function(root) {\n",
       "      if (root.Bokeh !== undefined) {\n",
       "        embed_document(root);\n",
       "        clearInterval(timer);\n",
       "      }\n",
       "      attempts++;\n",
       "      if (attempts > 100) {\n",
       "        console.log(\"Bokeh: ERROR: Unable to run BokehJS code because BokehJS library is missing\");\n",
       "        clearInterval(timer);\n",
       "      }\n",
       "    }, 10, root)\n",
       "  }\n",
       "})(window);"
      ],
      "application/vnd.bokehjs_exec.v0+json": ""
     },
     "metadata": {
      "application/vnd.bokehjs_exec.v0+json": {
       "id": "1700"
      }
     },
     "output_type": "display_data"
    }
   ],
   "source": [
    "from bokeh.models import TapTool, CustomJS, ColumnDataSource\n",
    "\n",
    "callback = CustomJS(code=\"alert('you tapped a circle!')\")\n",
    "tap = TapTool(callback=callback)\n",
    "\n",
    "p = figure(plot_width=600, plot_height=300, tools=[tap])\n",
    "\n",
    "p.circle(x=[1, 2, 3, 4, 5], y=[2, 5, 8, 2, 7], size=20)\n",
    "\n",
    "show(p)"
   ]
  },
  {
   "cell_type": "markdown",
   "metadata": {},
   "source": [
    "## CustomJS for Property changes\n",
    "\n",
    "Bokeh objects that have values associated can have small JavaScript actions attached to them using the `js_on_change` method. These actions (also referred to as \"callbacks\") are executed whenever the widget's value is changed. In order to make it easier to refer to specific Bokeh models (e.g., a data source, or a glyhph) from JavaScript, the ``CustomJS`` obejct also accepts a dictionary of \"args\" that map names to Python Bokeh models. The corresponding JavaScript models are made available automaticaly to the ``CustomJS`` code:\n",
    "\n",
    "```python\n",
    "CustomJS(args=dict(source=source, slider=slider), code=\"\"\"\n",
    "    // easily refer to BokehJS source and slider objects in this JS code\n",
    "    var data = source.data;\n",
    "    var f = slider.value;\n",
    "\"\"\")\n",
    "```"
   ]
  },
  {
   "cell_type": "markdown",
   "metadata": {},
   "source": [
    "### Slider widget example\n",
    "\n",
    "The example below shows an action attached to a slider that updates a data source whenever the slider is moved.  "
   ]
  },
  {
   "cell_type": "code",
   "execution_count": 10,
   "metadata": {},
   "outputs": [
    {
     "data": {
      "text/html": [
       "\n",
       "\n",
       "\n",
       "\n",
       "\n",
       "\n",
       "  <div class=\"bk-root\" id=\"bb42e10d-8076-4573-9821-2bce2e341bea\" data-root-id=\"1871\"></div>\n"
      ]
     },
     "metadata": {},
     "output_type": "display_data"
    },
    {
     "data": {
      "application/javascript": [
       "(function(root) {\n",
       "  function embed_document(root) {\n",
       "    \n",
       "  var docs_json = {\"49e07f3a-b6ce-403a-ae2f-bd614ebfdb5f\":{\"roots\":{\"references\":[{\"attributes\":{\"children\":[{\"id\":\"1869\",\"type\":\"Slider\"},{\"id\":\"1832\",\"subtype\":\"Figure\",\"type\":\"Plot\"}]},\"id\":\"1871\",\"type\":\"Column\"},{\"attributes\":{},\"id\":\"1842\",\"type\":\"BasicTicker\"},{\"attributes\":{\"ticker\":{\"id\":\"1842\",\"type\":\"BasicTicker\"}},\"id\":\"1845\",\"type\":\"Grid\"},{\"attributes\":{\"formatter\":{\"id\":\"1931\",\"type\":\"BasicTickFormatter\"},\"ticker\":{\"id\":\"1847\",\"type\":\"BasicTicker\"}},\"id\":\"1846\",\"type\":\"LinearAxis\"},{\"attributes\":{},\"id\":\"1933\",\"type\":\"BasicTickFormatter\"},{\"attributes\":{},\"id\":\"1847\",\"type\":\"BasicTicker\"},{\"attributes\":{},\"id\":\"1935\",\"type\":\"UnionRenderers\"},{\"attributes\":{\"dimension\":1,\"ticker\":{\"id\":\"1847\",\"type\":\"BasicTicker\"}},\"id\":\"1850\",\"type\":\"Grid\"},{\"attributes\":{},\"id\":\"1936\",\"type\":\"Selection\"},{\"attributes\":{\"line_alpha\":0.1,\"line_color\":\"#1f77b4\",\"line_width\":3,\"x\":{\"field\":\"x\"},\"y\":{\"field\":\"y\"}},\"id\":\"1866\",\"type\":\"Line\"},{\"attributes\":{\"bottom_units\":\"screen\",\"fill_alpha\":{\"value\":0.5},\"fill_color\":{\"value\":\"lightgrey\"},\"left_units\":\"screen\",\"level\":\"overlay\",\"line_alpha\":{\"value\":1.0},\"line_color\":{\"value\":\"black\"},\"line_dash\":[4,4],\"line_width\":{\"value\":2},\"render_mode\":\"css\",\"right_units\":\"screen\",\"top_units\":\"screen\"},\"id\":\"1937\",\"type\":\"BoxAnnotation\"},{\"attributes\":{\"line_alpha\":0.6,\"line_color\":\"#1f77b4\",\"line_width\":3,\"x\":{\"field\":\"x\"},\"y\":{\"field\":\"y\"}},\"id\":\"1865\",\"type\":\"Line\"},{\"attributes\":{\"active_drag\":\"auto\",\"active_inspect\":\"auto\",\"active_multi\":null,\"active_scroll\":\"auto\",\"active_tap\":\"auto\",\"tools\":[{\"id\":\"1851\",\"type\":\"PanTool\"},{\"id\":\"1852\",\"type\":\"WheelZoomTool\"},{\"id\":\"1853\",\"type\":\"BoxZoomTool\"},{\"id\":\"1854\",\"type\":\"SaveTool\"},{\"id\":\"1855\",\"type\":\"ResetTool\"},{\"id\":\"1856\",\"type\":\"HelpTool\"}]},\"id\":\"1857\",\"type\":\"Toolbar\"},{\"attributes\":{\"callback\":null,\"data\":{\"x\":[0.0,0.005,0.01,0.015,0.02,0.025,0.03,0.035,0.04,0.045,0.05,0.055,0.06,0.065,0.07,0.075,0.08,0.085,0.09,0.095,0.1,0.105,0.11,0.115,0.12,0.125,0.13,0.135,0.14,0.145,0.15,0.155,0.16,0.165,0.17,0.17500000000000002,0.18,0.185,0.19,0.195,0.2,0.20500000000000002,0.21,0.215,0.22,0.225,0.23,0.23500000000000001,0.24,0.245,0.25,0.255,0.26,0.265,0.27,0.275,0.28,0.28500000000000003,0.29,0.295,0.3,0.305,0.31,0.315,0.32,0.325,0.33,0.335,0.34,0.34500000000000003,0.35000000000000003,0.355,0.36,0.365,0.37,0.375,0.38,0.385,0.39,0.395,0.4,0.405,0.41000000000000003,0.41500000000000004,0.42,0.425,0.43,0.435,0.44,0.445,0.45,0.455,0.46,0.465,0.47000000000000003,0.47500000000000003,0.48,0.485,0.49,0.495,0.5,0.505,0.51,0.515,0.52,0.525,0.53,0.535,0.54,0.545,0.55,0.555,0.56,0.5650000000000001,0.5700000000000001,0.5750000000000001,0.58,0.585,0.59,0.595,0.6,0.605,0.61,0.615,0.62,0.625,0.63,0.635,0.64,0.645,0.65,0.655,0.66,0.665,0.67,0.675,0.68,0.685,0.6900000000000001,0.6950000000000001,0.7000000000000001,0.705,0.71,0.715,0.72,0.725,0.73,0.735,0.74,0.745,0.75,0.755,0.76,0.765,0.77,0.775,0.78,0.785,0.79,0.795,0.8,0.805,0.81,0.8150000000000001,0.8200000000000001,0.8250000000000001,0.8300000000000001,0.835,0.84,0.845,0.85,0.855,0.86,0.865,0.87,0.875,0.88,0.885,0.89,0.895,0.9,0.905,0.91,0.915,0.92,0.925,0.93,0.935,0.9400000000000001,0.9450000000000001,0.9500000000000001,0.9550000000000001,0.96,0.965,0.97,0.975,0.98,0.985,0.99,0.995,1.0],\"y\":[0.0,0.005,0.01,0.015,0.02,0.025,0.03,0.035,0.04,0.045,0.05,0.055,0.06,0.065,0.07,0.075,0.08,0.085,0.09,0.095,0.1,0.105,0.11,0.115,0.12,0.125,0.13,0.135,0.14,0.145,0.15,0.155,0.16,0.165,0.17,0.17500000000000002,0.18,0.185,0.19,0.195,0.2,0.20500000000000002,0.21,0.215,0.22,0.225,0.23,0.23500000000000001,0.24,0.245,0.25,0.255,0.26,0.265,0.27,0.275,0.28,0.28500000000000003,0.29,0.295,0.3,0.305,0.31,0.315,0.32,0.325,0.33,0.335,0.34,0.34500000000000003,0.35000000000000003,0.355,0.36,0.365,0.37,0.375,0.38,0.385,0.39,0.395,0.4,0.405,0.41000000000000003,0.41500000000000004,0.42,0.425,0.43,0.435,0.44,0.445,0.45,0.455,0.46,0.465,0.47000000000000003,0.47500000000000003,0.48,0.485,0.49,0.495,0.5,0.505,0.51,0.515,0.52,0.525,0.53,0.535,0.54,0.545,0.55,0.555,0.56,0.5650000000000001,0.5700000000000001,0.5750000000000001,0.58,0.585,0.59,0.595,0.6,0.605,0.61,0.615,0.62,0.625,0.63,0.635,0.64,0.645,0.65,0.655,0.66,0.665,0.67,0.675,0.68,0.685,0.6900000000000001,0.6950000000000001,0.7000000000000001,0.705,0.71,0.715,0.72,0.725,0.73,0.735,0.74,0.745,0.75,0.755,0.76,0.765,0.77,0.775,0.78,0.785,0.79,0.795,0.8,0.805,0.81,0.8150000000000001,0.8200000000000001,0.8250000000000001,0.8300000000000001,0.835,0.84,0.845,0.85,0.855,0.86,0.865,0.87,0.875,0.88,0.885,0.89,0.895,0.9,0.905,0.91,0.915,0.92,0.925,0.93,0.935,0.9400000000000001,0.9450000000000001,0.9500000000000001,0.9550000000000001,0.96,0.965,0.97,0.975,0.98,0.985,0.99,0.995,1.0]},\"selected\":{\"id\":\"1936\",\"type\":\"Selection\"},\"selection_policy\":{\"id\":\"1935\",\"type\":\"UnionRenderers\"}},\"id\":\"1831\",\"type\":\"ColumnDataSource\"},{\"attributes\":{},\"id\":\"1851\",\"type\":\"PanTool\"},{\"attributes\":{},\"id\":\"1852\",\"type\":\"WheelZoomTool\"},{\"attributes\":{\"formatter\":{\"id\":\"1933\",\"type\":\"BasicTickFormatter\"},\"ticker\":{\"id\":\"1842\",\"type\":\"BasicTicker\"}},\"id\":\"1841\",\"type\":\"LinearAxis\"},{\"attributes\":{\"overlay\":{\"id\":\"1937\",\"type\":\"BoxAnnotation\"}},\"id\":\"1853\",\"type\":\"BoxZoomTool\"},{\"attributes\":{},\"id\":\"1854\",\"type\":\"SaveTool\"},{\"attributes\":{\"below\":[{\"id\":\"1841\",\"type\":\"LinearAxis\"}],\"center\":[{\"id\":\"1845\",\"type\":\"Grid\"},{\"id\":\"1850\",\"type\":\"Grid\"}],\"left\":[{\"id\":\"1846\",\"type\":\"LinearAxis\"}],\"plot_height\":400,\"plot_width\":400,\"renderers\":[{\"id\":\"1867\",\"type\":\"GlyphRenderer\"}],\"title\":{\"id\":\"1929\",\"type\":\"Title\"},\"toolbar\":{\"id\":\"1857\",\"type\":\"Toolbar\"},\"x_range\":{\"id\":\"1833\",\"type\":\"DataRange1d\"},\"x_scale\":{\"id\":\"1837\",\"type\":\"LinearScale\"},\"y_range\":{\"id\":\"1835\",\"type\":\"DataRange1d\"},\"y_scale\":{\"id\":\"1839\",\"type\":\"LinearScale\"}},\"id\":\"1832\",\"subtype\":\"Figure\",\"type\":\"Plot\"},{\"attributes\":{\"text\":\"\"},\"id\":\"1929\",\"type\":\"Title\"},{\"attributes\":{\"callback\":null,\"end\":6,\"js_property_callbacks\":{\"change:value\":[{\"id\":\"1870\",\"type\":\"CustomJS\"}]},\"start\":0.1,\"step\":0.1,\"title\":\"power\",\"value\":1},\"id\":\"1869\",\"type\":\"Slider\"},{\"attributes\":{},\"id\":\"1931\",\"type\":\"BasicTickFormatter\"},{\"attributes\":{},\"id\":\"1855\",\"type\":\"ResetTool\"},{\"attributes\":{},\"id\":\"1837\",\"type\":\"LinearScale\"},{\"attributes\":{},\"id\":\"1856\",\"type\":\"HelpTool\"},{\"attributes\":{},\"id\":\"1839\",\"type\":\"LinearScale\"},{\"attributes\":{\"data_source\":{\"id\":\"1831\",\"type\":\"ColumnDataSource\"},\"glyph\":{\"id\":\"1865\",\"type\":\"Line\"},\"hover_glyph\":null,\"muted_glyph\":null,\"nonselection_glyph\":{\"id\":\"1866\",\"type\":\"Line\"},\"selection_glyph\":null,\"view\":{\"id\":\"1868\",\"type\":\"CDSView\"}},\"id\":\"1867\",\"type\":\"GlyphRenderer\"},{\"attributes\":{\"callback\":null},\"id\":\"1835\",\"type\":\"DataRange1d\"},{\"attributes\":{\"source\":{\"id\":\"1831\",\"type\":\"ColumnDataSource\"}},\"id\":\"1868\",\"type\":\"CDSView\"},{\"attributes\":{\"callback\":null},\"id\":\"1833\",\"type\":\"DataRange1d\"},{\"attributes\":{\"args\":{\"slider\":{\"id\":\"1869\",\"type\":\"Slider\"},\"source\":{\"id\":\"1831\",\"type\":\"ColumnDataSource\"}},\"code\":\"\\n    var data = source.data;\\n    var f = slider.value;\\n    x = data['x']\\n    y = data['y']\\n    for (i = 0; i < x.length; i++) {\\n        y[i] = Math.pow(x[i], f)\\n    }\\n    \\n    // necessary becasue we mutated source.data in-place\\n    source.change.emit();\\n\"},\"id\":\"1870\",\"type\":\"CustomJS\"}],\"root_ids\":[\"1871\"]},\"title\":\"Bokeh Application\",\"version\":\"1.3.4\"}};\n",
       "  var render_items = [{\"docid\":\"49e07f3a-b6ce-403a-ae2f-bd614ebfdb5f\",\"roots\":{\"1871\":\"bb42e10d-8076-4573-9821-2bce2e341bea\"}}];\n",
       "  root.Bokeh.embed.embed_items_notebook(docs_json, render_items);\n",
       "\n",
       "  }\n",
       "  if (root.Bokeh !== undefined) {\n",
       "    embed_document(root);\n",
       "  } else {\n",
       "    var attempts = 0;\n",
       "    var timer = setInterval(function(root) {\n",
       "      if (root.Bokeh !== undefined) {\n",
       "        embed_document(root);\n",
       "        clearInterval(timer);\n",
       "      }\n",
       "      attempts++;\n",
       "      if (attempts > 100) {\n",
       "        console.log(\"Bokeh: ERROR: Unable to run BokehJS code because BokehJS library is missing\");\n",
       "        clearInterval(timer);\n",
       "      }\n",
       "    }, 10, root)\n",
       "  }\n",
       "})(window);"
      ],
      "application/vnd.bokehjs_exec.v0+json": ""
     },
     "metadata": {
      "application/vnd.bokehjs_exec.v0+json": {
       "id": "1871"
      }
     },
     "output_type": "display_data"
    }
   ],
   "source": [
    "from bokeh.layouts import column\n",
    "from bokeh.models import CustomJS, ColumnDataSource, Slider\n",
    "\n",
    "x = [x*0.005 for x in range(0, 201)]\n",
    "\n",
    "source = ColumnDataSource(data=dict(x=x, y=x))\n",
    "\n",
    "plot = figure(plot_width=400, plot_height=400)\n",
    "plot.line('x', 'y', source=source, line_width=3, line_alpha=0.6)\n",
    "\n",
    "slider = Slider(start=0.1, end=6, value=1, step=.1, title=\"power\")\n",
    "\n",
    "update_curve = CustomJS(args=dict(source=source, slider=slider), code=\"\"\"\n",
    "    var data = source.data;\n",
    "    var f = slider.value;\n",
    "    x = data['x']\n",
    "    y = data['y']\n",
    "    for (i = 0; i < x.length; i++) {\n",
    "        y[i] = Math.pow(x[i], f)\n",
    "    }\n",
    "    \n",
    "    // necessary becasue we mutated source.data in-place\n",
    "    source.change.emit();\n",
    "\"\"\")\n",
    "slider.js_on_change('value', update_curve)\n",
    "\n",
    "\n",
    "show(column(slider, plot))"
   ]
  },
  {
   "cell_type": "code",
   "execution_count": 11,
   "metadata": {},
   "outputs": [],
   "source": [
    "# Exercise: Create a plot that updates based on a Select widget\n",
    "\n"
   ]
  },
  {
   "cell_type": "markdown",
   "metadata": {},
   "source": [
    "### Data selection example\n",
    "\n",
    "It's also possible to make JavaScript actions that execute whenever a user selection (e.g., box, point, lasso) changes. This is done by attaching the same kind of CustomJS object to whatever data source the selection is made on.\n",
    "\n",
    "The example below is a bit more sophisticated, and demonstrates updating one glyph's data source in response to another glyph's selection: "
   ]
  },
  {
   "cell_type": "code",
   "execution_count": 12,
   "metadata": {},
   "outputs": [
    {
     "data": {
      "text/html": [
       "\n",
       "\n",
       "\n",
       "\n",
       "\n",
       "\n",
       "  <div class=\"bk-root\" id=\"0bf91854-525b-4179-a8ab-1913c274a26e\" data-root-id=\"1993\"></div>\n"
      ]
     },
     "metadata": {},
     "output_type": "display_data"
    },
    {
     "data": {
      "application/javascript": [
       "(function(root) {\n",
       "  function embed_document(root) {\n",
       "    \n",
       "  var docs_json = {\"d7692207-3ab0-490e-a9a4-74e904268cec\":{\"roots\":{\"references\":[{\"attributes\":{\"below\":[{\"id\":\"2004\",\"type\":\"LinearAxis\"}],\"center\":[{\"id\":\"2008\",\"type\":\"Grid\"},{\"id\":\"2013\",\"type\":\"Grid\"}],\"left\":[{\"id\":\"2009\",\"type\":\"LinearAxis\"}],\"plot_height\":400,\"plot_width\":400,\"renderers\":[{\"id\":\"2021\",\"type\":\"GlyphRenderer\"},{\"id\":\"2027\",\"type\":\"GlyphRenderer\"}],\"title\":{\"id\":\"1994\",\"type\":\"Title\"},\"toolbar\":{\"id\":\"2015\",\"type\":\"Toolbar\"},\"x_range\":{\"id\":\"1996\",\"type\":\"DataRange1d\"},\"x_scale\":{\"id\":\"2000\",\"type\":\"LinearScale\"},\"y_range\":{\"id\":\"1998\",\"type\":\"DataRange1d\"},\"y_scale\":{\"id\":\"2002\",\"type\":\"LinearScale\"}},\"id\":\"1993\",\"subtype\":\"Figure\",\"type\":\"Plot\"},{\"attributes\":{\"formatter\":{\"id\":\"2099\",\"type\":\"BasicTickFormatter\"},\"ticker\":{\"id\":\"2005\",\"type\":\"BasicTicker\"}},\"id\":\"2004\",\"type\":\"LinearAxis\"},{\"attributes\":{},\"id\":\"2099\",\"type\":\"BasicTickFormatter\"},{\"attributes\":{},\"id\":\"2005\",\"type\":\"BasicTicker\"},{\"attributes\":{\"args\":{\"s1\":{\"id\":\"1992\",\"type\":\"ColumnDataSource\"},\"s2\":{\"id\":\"2023\",\"type\":\"ColumnDataSource\"}},\"code\":\"\\n    var inds = s1.selected.indices;\\n    if (inds.length == 0)\\n        return;\\n\\n    var ym = 0\\n    for (var i = 0; i < inds.length; i++) {\\n        ym += s1.data.y[inds[i]]\\n    }\\n    \\n    ym /= inds.length\\n    s2.data.ym = [ym, ym]\\n\\n    // necessary becasue we mutated source.data in-place\\n    s2.change.emit();  \\n\"},\"id\":\"2029\",\"type\":\"CustomJS\"},{\"attributes\":{\"fill_alpha\":{\"value\":0.5},\"fill_color\":{\"value\":\"lightgrey\"},\"level\":\"overlay\",\"line_alpha\":{\"value\":1.0},\"line_color\":{\"value\":\"black\"},\"line_dash\":[4,4],\"line_width\":{\"value\":2},\"xs_units\":\"screen\",\"ys_units\":\"screen\"},\"id\":\"2101\",\"type\":\"PolyAnnotation\"},{\"attributes\":{\"ticker\":{\"id\":\"2005\",\"type\":\"BasicTicker\"}},\"id\":\"2008\",\"type\":\"Grid\"},{\"attributes\":{},\"id\":\"2102\",\"type\":\"UnionRenderers\"},{\"attributes\":{\"formatter\":{\"id\":\"2097\",\"type\":\"BasicTickFormatter\"},\"ticker\":{\"id\":\"2010\",\"type\":\"BasicTicker\"}},\"id\":\"2009\",\"type\":\"LinearAxis\"},{\"attributes\":{},\"id\":\"2103\",\"type\":\"Selection\"},{\"attributes\":{},\"id\":\"2010\",\"type\":\"BasicTicker\"},{\"attributes\":{},\"id\":\"2104\",\"type\":\"UnionRenderers\"},{\"attributes\":{\"dimension\":1,\"ticker\":{\"id\":\"2010\",\"type\":\"BasicTicker\"}},\"id\":\"2013\",\"type\":\"Grid\"},{\"attributes\":{},\"id\":\"2105\",\"type\":\"Selection\"},{\"attributes\":{\"active_drag\":\"auto\",\"active_inspect\":\"auto\",\"active_multi\":null,\"active_scroll\":\"auto\",\"active_tap\":\"auto\",\"tools\":[{\"id\":\"2014\",\"type\":\"LassoSelectTool\"}]},\"id\":\"2015\",\"type\":\"Toolbar\"},{\"attributes\":{\"callback\":null,\"overlay\":{\"id\":\"2101\",\"type\":\"PolyAnnotation\"}},\"id\":\"2014\",\"type\":\"LassoSelectTool\"},{\"attributes\":{\"fill_alpha\":{\"value\":0.4},\"fill_color\":{\"field\":\"color\"},\"line_alpha\":{\"value\":0.4},\"line_color\":{\"field\":\"color\"},\"size\":{\"units\":\"screen\",\"value\":8},\"x\":{\"field\":\"x\"},\"y\":{\"field\":\"y\"}},\"id\":\"2018\",\"type\":\"Circle\"},{\"attributes\":{\"fill_alpha\":{\"value\":0.1},\"fill_color\":{\"value\":\"#1f77b4\"},\"line_alpha\":{\"value\":0.1},\"line_color\":{\"value\":\"#1f77b4\"},\"size\":{\"units\":\"screen\",\"value\":8},\"x\":{\"field\":\"x\"},\"y\":{\"field\":\"y\"}},\"id\":\"2019\",\"type\":\"Circle\"},{\"attributes\":{\"callback\":{\"id\":\"2029\",\"type\":\"CustomJS\"},\"data\":{\"color\":[\"navy\",\"navy\",\"navy\",\"navy\",\"navy\",\"navy\",\"navy\",\"navy\",\"navy\",\"navy\",\"navy\",\"navy\",\"navy\",\"navy\",\"navy\",\"navy\",\"navy\",\"navy\",\"navy\",\"navy\",\"navy\",\"navy\",\"navy\",\"navy\",\"navy\",\"navy\",\"navy\",\"navy\",\"navy\",\"navy\",\"navy\",\"navy\",\"navy\",\"navy\",\"navy\",\"navy\",\"navy\",\"navy\",\"navy\",\"navy\",\"navy\",\"navy\",\"navy\",\"navy\",\"navy\",\"navy\",\"navy\",\"navy\",\"navy\",\"navy\",\"navy\",\"navy\",\"navy\",\"navy\",\"navy\",\"navy\",\"navy\",\"navy\",\"navy\",\"navy\",\"navy\",\"navy\",\"navy\",\"navy\",\"navy\",\"navy\",\"navy\",\"navy\",\"navy\",\"navy\",\"navy\",\"navy\",\"navy\",\"navy\",\"navy\",\"navy\",\"navy\",\"navy\",\"navy\",\"navy\",\"navy\",\"navy\",\"navy\",\"navy\",\"navy\",\"navy\",\"navy\",\"navy\",\"navy\",\"navy\",\"navy\",\"navy\",\"navy\",\"navy\",\"navy\",\"navy\",\"navy\",\"navy\",\"navy\",\"navy\",\"navy\",\"navy\",\"navy\",\"navy\",\"navy\",\"navy\",\"navy\",\"navy\",\"navy\",\"navy\",\"navy\",\"navy\",\"navy\",\"navy\",\"navy\",\"navy\",\"navy\",\"navy\",\"navy\",\"navy\",\"navy\",\"navy\",\"navy\",\"navy\",\"navy\",\"navy\",\"navy\",\"navy\",\"navy\",\"navy\",\"navy\",\"navy\",\"navy\",\"navy\",\"navy\",\"navy\",\"navy\",\"navy\",\"navy\",\"navy\",\"navy\",\"navy\",\"navy\",\"navy\",\"navy\",\"navy\",\"navy\",\"navy\",\"navy\",\"navy\",\"navy\",\"navy\",\"navy\",\"navy\",\"navy\",\"navy\",\"navy\",\"navy\",\"navy\",\"navy\",\"navy\",\"navy\",\"navy\",\"navy\",\"navy\",\"navy\",\"navy\",\"navy\",\"navy\",\"navy\",\"navy\",\"navy\",\"navy\",\"navy\",\"navy\",\"navy\",\"navy\",\"navy\",\"navy\",\"navy\",\"navy\",\"navy\",\"navy\",\"navy\",\"navy\",\"navy\",\"navy\",\"navy\",\"navy\",\"navy\",\"navy\",\"navy\",\"navy\",\"navy\",\"navy\",\"navy\",\"navy\",\"navy\",\"navy\",\"navy\",\"navy\",\"navy\",\"navy\",\"navy\",\"navy\",\"navy\",\"navy\",\"navy\",\"navy\",\"navy\",\"navy\",\"navy\",\"navy\",\"navy\",\"navy\",\"navy\",\"navy\",\"navy\",\"navy\",\"navy\",\"navy\",\"navy\",\"navy\",\"navy\",\"navy\",\"navy\",\"navy\",\"navy\",\"navy\",\"navy\",\"navy\",\"navy\",\"navy\",\"navy\",\"navy\",\"navy\",\"navy\",\"navy\",\"navy\",\"navy\",\"navy\",\"navy\",\"navy\",\"navy\",\"navy\",\"navy\",\"navy\",\"navy\",\"navy\",\"navy\",\"navy\",\"navy\",\"navy\",\"navy\",\"navy\",\"navy\",\"navy\",\"navy\",\"navy\",\"navy\",\"navy\",\"navy\",\"navy\",\"navy\",\"navy\",\"navy\",\"navy\",\"navy\",\"navy\",\"navy\",\"navy\",\"navy\",\"navy\",\"navy\",\"navy\",\"navy\",\"navy\",\"navy\",\"navy\",\"navy\",\"navy\",\"navy\",\"navy\",\"navy\",\"navy\",\"navy\",\"navy\",\"navy\",\"navy\",\"navy\",\"navy\",\"navy\",\"navy\",\"navy\",\"navy\",\"navy\",\"navy\",\"navy\",\"navy\",\"navy\",\"navy\",\"navy\",\"navy\",\"navy\",\"navy\",\"navy\",\"navy\",\"navy\",\"navy\",\"navy\",\"navy\",\"navy\",\"navy\",\"navy\",\"navy\",\"navy\",\"navy\",\"navy\",\"navy\",\"navy\",\"navy\",\"navy\",\"navy\",\"navy\",\"navy\",\"navy\",\"navy\",\"navy\",\"navy\",\"navy\",\"navy\",\"navy\",\"navy\",\"navy\",\"navy\",\"navy\",\"navy\",\"navy\",\"navy\",\"navy\",\"navy\",\"navy\",\"navy\",\"navy\",\"navy\",\"navy\",\"navy\",\"navy\",\"navy\",\"navy\",\"navy\",\"navy\",\"navy\",\"navy\",\"navy\",\"navy\",\"navy\",\"navy\",\"navy\",\"navy\",\"navy\",\"navy\",\"navy\",\"navy\",\"navy\",\"navy\",\"navy\",\"navy\",\"navy\",\"navy\",\"navy\",\"navy\",\"navy\",\"navy\",\"navy\",\"navy\",\"navy\",\"navy\",\"navy\",\"navy\",\"navy\",\"navy\",\"navy\",\"navy\",\"navy\",\"navy\",\"navy\",\"navy\",\"navy\",\"navy\",\"navy\",\"navy\",\"navy\",\"navy\",\"navy\",\"navy\",\"navy\",\"navy\",\"navy\",\"navy\",\"navy\",\"navy\",\"navy\",\"navy\",\"navy\",\"navy\",\"navy\",\"navy\",\"navy\",\"navy\",\"navy\",\"navy\",\"navy\",\"navy\",\"navy\",\"navy\",\"navy\",\"navy\",\"navy\",\"navy\",\"navy\",\"navy\",\"navy\",\"navy\",\"navy\",\"navy\",\"navy\",\"navy\",\"navy\",\"navy\",\"navy\",\"navy\",\"navy\",\"navy\",\"navy\",\"navy\",\"navy\",\"navy\",\"navy\",\"navy\",\"navy\",\"navy\",\"navy\",\"navy\",\"navy\",\"navy\",\"navy\",\"navy\",\"navy\",\"navy\",\"navy\",\"navy\",\"navy\",\"navy\",\"navy\",\"navy\",\"navy\",\"navy\",\"navy\",\"navy\",\"navy\",\"navy\",\"navy\",\"navy\",\"navy\",\"navy\",\"navy\",\"navy\",\"navy\",\"navy\",\"navy\",\"navy\",\"navy\",\"navy\",\"navy\",\"navy\",\"navy\",\"navy\",\"navy\",\"navy\",\"navy\",\"navy\",\"navy\",\"navy\",\"navy\",\"navy\",\"navy\",\"navy\",\"navy\",\"navy\",\"navy\",\"navy\",\"navy\",\"navy\",\"navy\",\"navy\",\"navy\",\"navy\",\"navy\",\"navy\"],\"x\":[0.9622572671544486,0.23848159397683766,0.8855261522529958,0.6584994446458952,0.33226174334633685,0.5697000839375432,0.6242462991778657,0.35028385825913333,0.8633335497757273,0.7862709028546574,0.8081388861252378,0.05778644436154512,0.12625134777571378,0.21100715266649406,0.38399895691563524,0.2657307310161725,0.6067399046546065,0.6533043931864765,0.22692640498101813,0.0034525638752280763,0.9877405605939995,0.14567092111058233,0.07805916664687762,0.4524097212306165,0.23589228240571203,0.5779206267662923,0.045144782499523695,0.2669143557535488,0.8575684459958941,0.6409658207499475,0.5593600365666626,0.13096923253511084,0.7450461945086991,0.4044390742418399,0.20766498141561207,0.03785357121114652,0.6677451715350813,0.4423579619978756,0.7677064461410875,0.8716600531795632,0.6938876507231342,0.500248974680422,0.2549271978749933,0.763705177594161,0.7445344496773818,0.18544681892004744,0.2839919842506957,0.5824668589030592,0.8072981968046765,0.02651302299878855,0.29165269846144537,0.8782533528020181,0.29017257553502807,0.24665944803044848,0.7464144687987213,0.307082804847996,0.15689782126547624,0.40467780189850777,0.9164423924839883,0.050431257053330625,0.05458825800672851,0.003195723523687799,0.2506067892989511,0.10506608663227845,0.05494877181878355,0.3807792329322319,0.3416785153387467,0.15767260591180243,0.1241894506533584,0.11491500486345141,0.5842107886183788,0.5481225538264899,0.8603210876556598,0.4967482592290724,0.46503678992522823,0.9616394571915186,0.7486304168480675,0.1527720269759193,0.26868532796471256,0.7572306890278699,0.6026409048783335,0.6257579237187035,0.26416197228784777,0.6653528584824943,0.3632114857532436,0.9750662444309265,0.47233947493556117,0.9549230715095675,0.8404333157495678,0.8680886902409845,0.4805366493700409,0.39720372285797567,0.39938988856587143,0.1799458267169789,0.8888953017835983,0.12909448203019902,0.002238943526362225,0.004852680166055445,0.33936108812746846,0.6708915995303862,0.19281886816646887,0.6607643225855168,0.8310316007858797,0.26518195562431823,0.24765397613689288,0.6414450618969345,0.020282926769051968,0.26470761456731073,0.14392627501015387,0.5353269099365516,0.5866730000383987,0.07752094061822534,0.8204867819159914,0.38963946993064535,0.6694656570115517,0.33106580130110175,0.5551166658846984,0.13384011915587612,0.49072963370781564,0.5484243879457672,0.48668475303761727,0.5320845258543655,0.8049487763885149,0.9760403314947055,0.11552038550287069,0.9965965404369991,0.9592881049001282,0.8663843026279728,0.010689728206120352,0.5685334506796944,0.14526779294919734,0.5659397721538625,0.2233334335775724,0.7893439176479877,0.06315273345981565,0.6126763663909327,0.23706212817413663,0.2660533564695725,0.37146075716281446,0.4340475801911662,0.06854766941025392,0.5347597932929413,0.34207766051093724,0.566973178674567,0.9261595326757277,0.682325889130513,0.1249209338405265,0.12574784210110712,0.17219275786519328,0.03588225178965032,0.7487209660889775,0.7728386531242261,0.14658119378219014,0.8770896828881369,0.40564285757375174,0.04250031056720949,0.10875812556205722,0.4052705074027747,0.9064110757113072,0.32198054986620583,0.41412228622798397,0.641322711093522,0.5631191155802716,0.861662481759618,0.09956501884397007,0.8056179948351067,0.6096300097791517,0.7036300928610769,0.6146673874314924,0.17191265337287498,0.692393638642979,0.7937579277965081,0.7702629022534669,0.4417970010150378,0.9485650284395035,0.5316079916761348,0.595479582316829,0.14551582970292043,0.7787904777578145,0.06232184809366714,0.9359253591845256,0.69060653779904,0.6975525976668994,0.6586458575884414,0.9843676929617996,0.1963227443727622,0.9560729938787292,0.5172084153501213,0.7353940087114181,0.47193462594197066,0.011369899176429832,0.7715216084571979,0.8728243005769921,0.9280315648599208,0.475106744851183,0.2974571816343684,0.48752860725582114,0.7903469895803106,0.026672392223898278,0.899967510950624,0.9816261438161463,0.952948611875256,0.8357465903487376,0.6048950934603786,0.5514492655097926,0.47008231862389294,0.386548128057817,0.8955714652734624,0.8833530693975913,0.4183204032984429,0.045549724875983744,0.2554136970361882,0.9087051057438018,0.5221331202524879,0.9165920223797762,0.9123201005298933,0.7479400624197083,0.6340972704688352,0.9102422453825414,0.25016311151846726,0.9753953967430821,0.004679793704494117,0.5909494145719505,0.4594188477371154,0.7231830104011572,0.3386765728583213,0.8238999879089015,0.19751690029568625,0.1081097899718283,0.2983137636194293,0.6154672999232258,0.8627778306999542,0.6843273133750771,0.9007468116607684,0.9525163260684762,0.3062316367064014,0.6356547050531935,0.11892344567969992,0.5573493292273386,0.09806451280404282,0.9912731306245453,0.7346651410810517,0.8029345639490042,0.37138302075237495,0.1430915719445346,0.5928375789525542,0.7840628315557525,0.060244578048101016,0.8650155310017368,0.8422650739526731,0.02244262781671702,0.8672480995508688,0.3150724748086796,0.3747576901576929,0.5795215150667681,0.9291675313621969,0.24370833991358698,0.708263384371487,0.8689809600770372,0.36617638266437225,0.4058364446068492,0.4711977934490218,0.4068683932830438,0.6539118622231853,0.0732694872390327,0.033618371087559384,0.4561891032986656,0.16531415168746222,0.8334326608948545,0.39056391534746404,0.12683000275080814,0.7519007459628214,0.03475476150671153,0.7336232757729184,0.7419396899972581,0.40317885061622605,0.9888686426558924,0.029848198532700487,0.6540200596743447,0.0989181559359682,0.20531308897682377,0.7749663466824405,0.8881096312851967,0.15888724493203488,0.969095690204416,0.3209068785168824,0.19281168254087633,0.5403762587550514,0.46978235702465376,0.7694820474746142,0.5540940872355242,0.36486563141342376,0.28917188369246627,0.02613313171803877,0.9410966661766238,0.8861076924151303,0.3352148124580572,0.8910716497704327,0.24754469906737409,0.4329684673853128,0.6193976717274072,0.7547320194463373,0.184772489432095,0.1361660404837115,0.757109661036728,0.8625881782290226,0.5907930571517513,0.21264090788983836,0.9360353221119643,0.6910679365444845,0.3785202667363291,0.5294143648227104,0.9014013446572768,0.47150710635329107,0.853456522233692,0.7181595827678577,0.46353982016582074,0.8450059610526003,0.8040217819043238,0.6738149327787106,0.26625581603790693,0.6045522817446584,0.16676555745467458,0.12837933970913828,0.8081230522325316,0.23219002489619656,0.3970268471801959,0.002862194675529728,0.0183735475791047,0.6794151045083592,0.8740539583354884,0.06378021071312678,0.7251827993069947,0.5837805092892333,0.2728744316557039,0.14934050188741155,0.8556640100330795,0.9899828947051537,0.07102198807610116,0.27112161592874173,0.9217964251324803,0.5060595542319913,0.7014348992822111,0.7498144342322668,0.824951812373524,0.34829307990157543,0.7429249934749064,0.530612456479309,0.8097040322443794,0.23133862149111462,0.761600076183758,0.46824266807232806,0.8689635423960042,0.1923574446761569,0.5932134905528806,0.6712383279466186,0.012245979846794874,0.3163740089438217,0.024580303840474382,0.7613813033041544,0.9668394606100721,0.33760440502208033,0.44863537843708423,0.03113507794411774,0.2585838333477509,0.011185177615229636,0.8963343648450601,0.3475448149955983,0.06570846507338202,0.8650857729007888,0.8761372099687236,0.5639226372212874,0.7669789251601191,0.30038775550237007,0.17138943240907323,0.7606838733802479,0.6060421657945225,0.282675858050477,0.16638225447762156,0.777007014859533,0.8386669651245551,0.6026701909371495,0.5059710219792826,0.2919503447716979,0.8914530539772859,0.8557018240279931,0.4791079283909484,0.7547380971466751,0.2914262443827711,0.41270469178562863,0.9590128715025178,0.8622407799382046,0.517079631201882,0.5206627099444776,0.4658539057465325,0.5727859982463007,0.5440693789536023,0.12889425858801007,0.4040991545408248,0.33296822351402267,0.44623877141503066,0.45549257582465885,0.4136089442637465,0.19716446554167355,0.16973369096207036,0.37451776550239246,0.9420443714988429,0.941279985922016,0.8631000694380334,0.6785657143938291,0.730782990854235,0.9587059522293409,0.20485836218295006,0.04209563195510435,0.4097383939922108,0.09291505462175131,0.7202646255215612,0.38384004605538136,0.9940479337486176,0.6709238170623485,0.057982019351084046,0.011122019080312406,0.15534201924599,0.693741454180751,0.6662627886183459,0.5436688100272249,0.25926081204575335,0.9801704852895409,0.9448966933543884,0.6593141808100941,0.9322221850178329,0.6433658570317798,0.3042679972059076,0.7556141861592848,0.18406357207510726,0.36409455021964776,0.6375771118552904,0.609894661418484,0.30869177654347635,0.5539886377091185,0.7525361702014438,0.7554101445461084,0.8752884612955352,0.9698653554185617,0.16649861146817513,0.8203311746636295,0.466445371331639,0.7221782157553962,0.7912646771034562,0.3340510492117902,0.46693559940273,0.10424639555855364,0.2261936103216149,0.9891441447659125,0.0873541726783893,0.4522818670015927,0.5116570913485053,0.16175707832011565,0.2144054313542021,0.5450824293676783,0.9549065584482164,0.7634541486316866,0.04378718587991215,0.9267789209520033,0.06611485752204371,0.6816381125636958,0.3656700645112839,0.8246706015795476,0.7734662138596988,0.8961641809516068,0.9342806763425957,0.908763217530951,0.36495162368272904,0.804207801249633,0.5730863454924569,0.8112731006221053,0.35067624119072116,0.7961204584387969,0.10925767543243747,0.74749617114328,0.04904135881435101,0.6681299797839332,0.37250189948001355,0.35204263122810786,0.24104406062082007,0.8480680309810246,0.29783298176965534,0.8032646633705407,0.7838963419732156,0.15009728233432107,0.526091146719932,0.25312162581136843,0.3092670748922358,0.743147359485231,0.3924560658836682,0.4018044690087822,0.33597856782409696,0.4028605404548752,0.6949303421163711,0.7427979741156855],\"y\":[0.2503607699966873,0.5386237180084936,0.6710524958418254,0.5541040103828843,0.6272142032373795,0.044835241609896825,0.5178313244636867,0.995663740300981,0.5750221017858401,0.9148717180103667,0.8725890089325503,0.36481896827870575,0.7078074485492144,0.38003166460375626,0.5945132549734807,0.1504447202319693,0.15240460534252853,0.6959080558247719,0.3643182149954385,0.6738971257299212,0.2826076625116587,0.8481360674171784,0.5244916069959865,0.5279362153242192,0.3775558055371083,0.4168932381330336,0.9395715072811843,0.8514737351863221,0.9723258344425066,0.7889121461702986,0.8146574169961969,0.982168103921081,0.9013218409194549,0.6123621800056521,0.7008428566635949,0.3022003560618792,0.25809374397131335,0.3035392032402878,0.22224525669111206,0.08541817600495694,0.36719358856012074,0.8577379879305912,0.6190100869346309,0.19269940681349895,0.1627429964056294,0.8715703763146643,0.3835208007403824,0.7409147769256182,0.5395051906018533,0.04912893096808357,0.7059654651309138,0.058410626403740507,0.2633814065460992,0.1498148398491157,0.47843442988901885,0.4192971445295842,0.7611305256016727,0.5497349312594012,0.05565355549341455,0.36706661758847137,0.7667321802421195,0.02475570452229947,0.20446067525777356,0.6639584860558561,0.6981370601957568,0.28595864011300676,0.8518992202427789,0.9261851176036949,0.49090045366746193,0.1377333558340218,0.14040652540456933,0.34377167377250906,0.07527540279397638,0.651895806906229,0.5863097288076352,0.23306811169477726,0.5804585493648271,0.007955752935497662,0.09715387691442301,0.8096211781520115,0.21724420650310994,0.45585882907051034,0.9141173959545699,0.06846658172164477,0.4460922369354591,0.35739034838241523,0.8401794462716186,0.9992793869784298,0.6592280756295334,0.5822374337107041,0.202667549190634,0.26860545406808944,0.25521564661028506,0.03271929228675863,0.5003413753401644,0.310813220786762,0.8792909143476003,0.35579249158119797,0.5334340424404435,0.07193623974695362,0.9713824646630707,0.8839542398712563,0.7687182785697567,0.06092848538025253,0.5910626213382159,0.38006142448191016,0.343718071346079,0.4930526067081137,0.19058886276478026,0.2207165696578035,0.5746657970415187,0.09130220695953906,0.5763739414369158,0.9579733270847931,0.9815229544867126,0.3388337942610603,0.0642397095295888,0.6368703711488731,0.039578289173297865,0.24389365577585842,0.8663585396466095,0.07222580578344473,0.04400195040809174,0.37140334150010224,0.9532908852893917,0.09154711607539634,0.14949781086138203,0.3463699734573217,0.9602618735908394,0.9686554297287646,0.4259049629381523,0.7618112668354005,0.07417620486015697,0.33553972259301834,0.18129785189471703,0.23021098115069882,0.9986233058826107,0.3884773561688626,0.028981520565154573,0.3134729396826448,0.6022988869859642,0.16158508838169794,0.7948628010919008,0.5613126960576668,0.7906618731798366,0.8213744437400018,0.514662724427044,0.7495275076593485,0.5628652509444082,0.1696828762259357,0.5258386424442882,0.746845900508691,0.20718117890695686,0.8535395657965957,0.5486362102841442,0.6167547631906163,0.018561026867180974,0.36609298901232934,0.5976941347518187,0.9701678685895702,0.20650986216888556,0.8429279974700528,0.8940694406814622,0.46915131480422434,0.935715541350417,0.6704513683416644,0.5920218634130834,0.2547367528020903,0.9651229032754582,0.23990458327035535,0.24220804808086382,0.8080688926977782,0.6950086496124295,0.9256119021030748,0.23416964305676846,0.30705003356686145,0.3201230994076746,0.795027825227967,0.14098156086289904,0.14555782113093296,0.6754946261359212,0.2700638253780159,0.3469682615548856,0.11154717342254761,0.03116809054722791,0.42607799518387846,0.5715438769880398,0.10073457827961463,0.7047589321711824,0.5905075237364682,0.2629214244604132,0.03540114730162924,0.5729075524606841,0.005386145859532343,0.49818113877689774,0.06320283609432698,0.7512382850536014,0.9275343580778816,0.9793616348107888,0.39562206805068567,0.3198505378665034,0.27776494734264834,0.9723613449698059,0.8663366944352803,0.7143896208833652,0.7851022766831209,0.6817512705023613,0.5716490160496189,0.48421952977629545,0.42876174022067026,0.1434636657706364,0.8291982680462657,0.35202592492398366,0.06069957215746935,0.9005251605031527,0.5812904104832933,0.09523766137178735,0.5377313291425379,0.8003001996662384,0.5993039591002964,0.9721478959142325,0.19372357625374959,0.4086655730325769,0.02663126304765151,0.5023957301111193,0.170688781783368,0.2585695029939711,0.018183713324565587,0.3670802703392019,0.8009841032670365,0.06849435166412576,0.026544765255332003,0.9044937058697031,0.6555344866700097,0.9337502137712036,0.2999807323813639,0.7916918697916467,0.05158418308924739,0.4403747971382528,0.03674575106326439,0.35693446775825055,0.038680498335800895,0.46112267143142394,0.6665586999418431,0.7158641975555375,0.022872191902848615,0.42413820039202066,0.15254737324555223,0.22822768753106126,0.5672339418062546,0.06655017291650445,0.9089801302062812,0.284157518177634,0.0003353614070543687,0.9035438533913845,0.9711126787050578,0.4924324776745793,0.08499104584675554,0.43409727231281536,0.010797542664222948,0.9531039967347685,0.5636661721182825,0.013476666767064716,0.7771036238216349,0.7711921816708623,0.057840061906934914,0.37354141427396914,0.7903159099856834,0.01789769266903285,0.49446859347557615,0.28785266357903305,0.41584336753102213,0.3242830916539726,0.4328002183626254,0.023792540325557776,0.6134380605567034,0.9933765945931339,0.46635849658463135,0.41547349119610255,0.92116358601917,0.047702770527776495,0.8128120667123157,0.3170946637527565,0.7053005673421449,0.1547693692165264,0.3103891544444364,0.8911406507818834,0.5802134371953973,0.8112331817493788,0.16573318813809468,0.040723713013374185,0.22570510175030833,0.5632806419226888,0.8212273951895078,0.12346484182810469,0.9748261859018449,0.5808282325671317,0.9611292638672618,0.485518359429271,0.9729623005628247,0.08486022495461609,0.6065151258828069,0.28960868830401876,0.2116192056007845,0.5915667380291408,0.034219956515727845,0.7922404246158887,0.5000817976401053,0.21840250700628594,0.03993184938240901,0.5753680283774595,0.5698928833146051,0.6202382094632,0.8231818421297277,0.7234655304988318,0.9589373610193879,0.965692381621804,0.8212253033027833,0.5359707662637905,0.31606221920992617,0.5296040658478397,0.9008372194684053,0.9457896351073483,0.6776249392372624,0.38324574584315463,0.9046161104421325,0.12953390071686344,0.568224583074024,0.39627785373201474,0.814782774029088,0.673399120742553,0.9637064758081463,0.9456369491516249,0.5465484915958166,0.3981068829951113,0.46864816476869486,0.2185062494166773,0.5200261092528279,0.7593199313824115,0.7187664872592071,0.9101549847489571,0.3464409928829878,0.7734311384665413,0.7250369431249524,0.2884656139333228,0.03112571407738074,0.6799352087914475,0.39082564943721865,0.23544399310135056,0.8338779905662914,0.43372808206112723,0.7494441806558152,0.5040552715844595,0.7220993424439781,0.2504841997598338,0.1891802746084703,0.5961011596188767,0.013290951760868697,0.020640063535257935,0.3805872344378646,0.21055254984844107,0.12221322838385806,0.1970320018938564,0.63628144529754,0.22157394106873574,0.8659736010578492,0.9743166556186897,0.5258549044885459,0.5325516947745801,0.8583371979201838,0.8873162324387003,0.40780306500330243,0.19737299919978613,0.9905777761015582,0.5721533430266702,0.822724536447676,0.07184763578432052,0.046558580093748025,0.7724484910910993,0.20946443000651038,0.3523957559610632,0.2018300200543045,0.7222763040391991,0.8288633492068923,0.6560463272230191,0.9944194769505414,0.27825034418960237,0.5445294066447095,0.9358350039033746,0.4196228949824766,0.01587345851008848,0.5381350015696559,0.8818641344494563,0.27239916109039464,0.3550544866665133,0.9003474731277711,0.9528797720814625,0.8254063856510875,0.3166931102765893,0.21167369258865076,0.27650183921308813,0.07839069516107977,0.5260054945300816,0.13540063874608876,0.40875756122180773,0.18683011744570677,0.03729525408269241,0.0970685700212206,0.42625129099668324,0.6921425858811983,0.9263369839731992,0.8780360025598649,0.5554875379940462,0.773357178509914,0.6071042318628017,0.8790017036449452,0.1558652969333013,0.21126439066124048,0.30090308046074277,0.5330982249097688,0.8387002122256443,0.0817468482497028,0.1537328656452719,0.08533360811176749,0.4934740656556571,0.275338899683063,0.6032288028737808,0.9374870195702478,0.56682310500189,0.4302038548867031,0.8296516916367107,0.701918041856055,0.5518839248712176,0.7493241353420419,0.24969870882935397,0.7843698928520285,0.22639721233998222,0.8105617208877008,0.627693530064364,0.8658532406650084,0.33377626124408366,0.06180820639820983,0.5769842163204474,0.5488363164005746,0.4384517207216967,0.2550861735213322,0.8424443786840731,0.38055812656479393,0.587482933357457,0.828545075503289,0.4909662241116244,0.2892947359915977,0.8317894378248558,0.8072150322434661,0.13243952337554654,0.30340612192317773,0.48346354385956214,0.3689051672484841,0.8396650023953587,0.18249488658529534,0.38346532640595943,0.7886086749969181,0.27864957627687437,0.9334622259392628,0.3464855643903937,0.28980908808965844,0.7396389932759178,0.4642490101663437,0.5795124543699188,0.7161033916341244,0.4565071144756725,0.05990440713459044,0.23288271390483573,0.7593342975564367,0.801850735493226,0.5652204439230779,0.6421043799747767,0.05892698742584446,0.5420149091819236,0.9823806337547031,0.9407610397889212,0.07045191620278601,0.5030095902501803,0.01803941413050736,0.7909742341593321,0.2763946239587579,0.6523643663064633,0.670145164002351,0.7807675111729356,0.9211924668341326,0.6069512280980435,0.429996056498413,0.30618414113941805,0.044720341215055304,0.5951571458757695,0.31916875654515675,0.3955679499216216,0.540600616027551,0.2356872435545918,0.08904296345664742]},\"selected\":{\"id\":\"2103\",\"type\":\"Selection\"},\"selection_policy\":{\"id\":\"2102\",\"type\":\"UnionRenderers\"}},\"id\":\"1992\",\"type\":\"ColumnDataSource\"},{\"attributes\":{\"fill_alpha\":{\"value\":0.4},\"fill_color\":{\"value\":\"firebrick\"},\"line_alpha\":{\"value\":0.4},\"line_color\":{\"value\":\"firebrick\"},\"size\":{\"units\":\"screen\",\"value\":8},\"x\":{\"field\":\"x\"},\"y\":{\"field\":\"y\"}},\"id\":\"2020\",\"type\":\"Circle\"},{\"attributes\":{\"text\":\"Select Here\"},\"id\":\"1994\",\"type\":\"Title\"},{\"attributes\":{\"callback\":null,\"data\":{\"xm\":[0,1],\"ym\":[0.5,0.5]},\"selected\":{\"id\":\"2105\",\"type\":\"Selection\"},\"selection_policy\":{\"id\":\"2104\",\"type\":\"UnionRenderers\"}},\"id\":\"2023\",\"type\":\"ColumnDataSource\"},{\"attributes\":{\"data_source\":{\"id\":\"1992\",\"type\":\"ColumnDataSource\"},\"glyph\":{\"id\":\"2018\",\"type\":\"Circle\"},\"hover_glyph\":null,\"muted_glyph\":null,\"nonselection_glyph\":{\"id\":\"2019\",\"type\":\"Circle\"},\"selection_glyph\":{\"id\":\"2020\",\"type\":\"Circle\"},\"view\":{\"id\":\"2022\",\"type\":\"CDSView\"}},\"id\":\"2021\",\"type\":\"GlyphRenderer\"},{\"attributes\":{\"line_alpha\":0.1,\"line_color\":\"#1f77b4\",\"line_width\":5,\"x\":{\"field\":\"xm\"},\"y\":{\"field\":\"ym\"}},\"id\":\"2026\",\"type\":\"Line\"},{\"attributes\":{\"source\":{\"id\":\"1992\",\"type\":\"ColumnDataSource\"}},\"id\":\"2022\",\"type\":\"CDSView\"},{\"attributes\":{\"callback\":null},\"id\":\"1996\",\"type\":\"DataRange1d\"},{\"attributes\":{\"line_alpha\":0.6,\"line_color\":\"orange\",\"line_width\":5,\"x\":{\"field\":\"xm\"},\"y\":{\"field\":\"ym\"}},\"id\":\"2025\",\"type\":\"Line\"},{\"attributes\":{\"callback\":null},\"id\":\"1998\",\"type\":\"DataRange1d\"},{\"attributes\":{},\"id\":\"2097\",\"type\":\"BasicTickFormatter\"},{\"attributes\":{\"data_source\":{\"id\":\"2023\",\"type\":\"ColumnDataSource\"},\"glyph\":{\"id\":\"2025\",\"type\":\"Line\"},\"hover_glyph\":null,\"muted_glyph\":null,\"nonselection_glyph\":{\"id\":\"2026\",\"type\":\"Line\"},\"selection_glyph\":null,\"view\":{\"id\":\"2028\",\"type\":\"CDSView\"}},\"id\":\"2027\",\"type\":\"GlyphRenderer\"},{\"attributes\":{\"source\":{\"id\":\"2023\",\"type\":\"ColumnDataSource\"}},\"id\":\"2028\",\"type\":\"CDSView\"},{\"attributes\":{},\"id\":\"2000\",\"type\":\"LinearScale\"},{\"attributes\":{},\"id\":\"2002\",\"type\":\"LinearScale\"}],\"root_ids\":[\"1993\"]},\"title\":\"Bokeh Application\",\"version\":\"1.3.4\"}};\n",
       "  var render_items = [{\"docid\":\"d7692207-3ab0-490e-a9a4-74e904268cec\",\"roots\":{\"1993\":\"0bf91854-525b-4179-a8ab-1913c274a26e\"}}];\n",
       "  root.Bokeh.embed.embed_items_notebook(docs_json, render_items);\n",
       "\n",
       "  }\n",
       "  if (root.Bokeh !== undefined) {\n",
       "    embed_document(root);\n",
       "  } else {\n",
       "    var attempts = 0;\n",
       "    var timer = setInterval(function(root) {\n",
       "      if (root.Bokeh !== undefined) {\n",
       "        embed_document(root);\n",
       "        clearInterval(timer);\n",
       "      }\n",
       "      attempts++;\n",
       "      if (attempts > 100) {\n",
       "        console.log(\"Bokeh: ERROR: Unable to run BokehJS code because BokehJS library is missing\");\n",
       "        clearInterval(timer);\n",
       "      }\n",
       "    }, 10, root)\n",
       "  }\n",
       "})(window);"
      ],
      "application/vnd.bokehjs_exec.v0+json": ""
     },
     "metadata": {
      "application/vnd.bokehjs_exec.v0+json": {
       "id": "1993"
      }
     },
     "output_type": "display_data"
    }
   ],
   "source": [
    "from random import random\n",
    "\n",
    "x = [random() for x in range(500)]\n",
    "y = [random() for y in range(500)]\n",
    "color = [\"navy\"] * len(x)\n",
    "\n",
    "s1 = ColumnDataSource(data=dict(x=x, y=y, color=color))\n",
    "p = figure(plot_width=400, plot_height=400, tools=\"lasso_select\", title=\"Select Here\")\n",
    "p.circle('x', 'y', color='color', size=8, alpha=0.4, source=s1, \n",
    "         selection_color=\"firebrick\", selection_alpha=0.4)\n",
    "\n",
    "s2 = ColumnDataSource(data=dict(xm=[0,1],ym=[0.5, 0.5]))\n",
    "p.line(x='xm', y='ym', color=\"orange\", line_width=5, alpha=0.6, source=s2)\n",
    "\n",
    "s1.callback = CustomJS(args=dict(s1=s1, s2=s2), code=\"\"\"\n",
    "    var inds = s1.selected.indices;\n",
    "    if (inds.length == 0)\n",
    "        return;\n",
    "\n",
    "    var ym = 0\n",
    "    for (var i = 0; i < inds.length; i++) {\n",
    "        ym += s1.data.y[inds[i]]\n",
    "    }\n",
    "    \n",
    "    ym /= inds.length\n",
    "    s2.data.ym = [ym, ym]\n",
    "\n",
    "    // necessary becasue we mutated source.data in-place\n",
    "    s2.change.emit();  \n",
    "\"\"\")\n",
    "\n",
    "show(p)"
   ]
  },
  {
   "cell_type": "code",
   "execution_count": 13,
   "metadata": {},
   "outputs": [],
   "source": [
    "# Exercise: Experiment with selection callbacks\n",
    "\n"
   ]
  },
  {
   "cell_type": "markdown",
   "metadata": {
    "collapsed": true
   },
   "source": [
    "## CustomJS for UI Events\n",
    "\n",
    "Bokeh also has a general events system\n",
    "\n",
    "All of the available UI events, and their properties, are listed in the Reference Guide section for [bokeh.events](https://bokeh.pydata.org/en/latest/docs/reference/events.html)"
   ]
  },
  {
   "cell_type": "code",
   "execution_count": 14,
   "metadata": {},
   "outputs": [
    {
     "data": {
      "text/html": [
       "\n",
       "\n",
       "\n",
       "\n",
       "\n",
       "\n",
       "  <div class=\"bk-root\" id=\"202060c2-6aa1-4a50-8fa8-6a66145d26ea\" data-root-id=\"2196\"></div>\n"
      ]
     },
     "metadata": {},
     "output_type": "display_data"
    },
    {
     "data": {
      "application/javascript": [
       "(function(root) {\n",
       "  function embed_document(root) {\n",
       "    \n",
       "  var docs_json = {\"67ac5a5b-1bc0-476b-9adc-f873c9a86824\":{\"roots\":{\"references\":[{\"attributes\":{\"children\":[{\"id\":\"2194\",\"type\":\"Button\"},{\"id\":\"2195\",\"type\":\"Row\"}]},\"id\":\"2196\",\"type\":\"Column\"},{\"attributes\":{\"fill_alpha\":{\"value\":0.1},\"fill_color\":{\"value\":\"#1f77b4\"},\"line_alpha\":{\"value\":0.1},\"line_color\":{\"value\":\"#1f77b4\"},\"radius\":{\"units\":\"data\",\"value\":1},\"x\":{\"field\":\"x\"},\"y\":{\"field\":\"y\"}},\"id\":\"2190\",\"type\":\"Circle\"},{\"attributes\":{},\"id\":\"2283\",\"type\":\"Selection\"},{\"attributes\":{\"callback\":null},\"id\":\"2169\",\"type\":\"DataRange1d\"},{\"attributes\":{\"fill_alpha\":{\"value\":0.6},\"fill_color\":{\"value\":\"#1f77b4\"},\"line_color\":{\"value\":null},\"radius\":{\"units\":\"data\",\"value\":1},\"x\":{\"field\":\"x\"},\"y\":{\"field\":\"y\"}},\"id\":\"2189\",\"type\":\"Circle\"},{\"attributes\":{\"callback\":null,\"overlay\":{\"id\":\"2281\",\"type\":\"BoxAnnotation\"}},\"id\":\"2185\",\"type\":\"BoxSelectTool\"},{\"attributes\":{\"active_drag\":\"auto\",\"active_inspect\":\"auto\",\"active_multi\":null,\"active_scroll\":\"auto\",\"active_tap\":\"auto\",\"tools\":[{\"id\":\"2185\",\"type\":\"BoxSelectTool\"}]},\"id\":\"2186\",\"type\":\"Toolbar\"},{\"attributes\":{\"dimension\":1,\"ticker\":{\"id\":\"2181\",\"type\":\"BasicTicker\"}},\"id\":\"2184\",\"type\":\"Grid\"},{\"attributes\":{\"below\":[{\"id\":\"2175\",\"type\":\"LinearAxis\"}],\"center\":[{\"id\":\"2179\",\"type\":\"Grid\"},{\"id\":\"2184\",\"type\":\"Grid\"}],\"js_event_callbacks\":{\"selectiongeometry\":[{\"id\":\"2198\",\"type\":\"CustomJS\"}]},\"left\":[{\"id\":\"2180\",\"type\":\"LinearAxis\"}],\"renderers\":[{\"id\":\"2191\",\"type\":\"GlyphRenderer\"}],\"title\":{\"id\":\"2275\",\"type\":\"Title\"},\"toolbar\":{\"id\":\"2186\",\"type\":\"Toolbar\"},\"x_range\":{\"id\":\"2167\",\"type\":\"DataRange1d\"},\"x_scale\":{\"id\":\"2171\",\"type\":\"LinearScale\"},\"y_range\":{\"id\":\"2169\",\"type\":\"DataRange1d\"},\"y_scale\":{\"id\":\"2173\",\"type\":\"LinearScale\"}},\"id\":\"2166\",\"subtype\":\"Figure\",\"type\":\"Plot\"},{\"attributes\":{},\"id\":\"2282\",\"type\":\"UnionRenderers\"},{\"attributes\":{\"width\":400},\"id\":\"2193\",\"type\":\"Div\"},{\"attributes\":{},\"id\":\"2181\",\"type\":\"BasicTicker\"},{\"attributes\":{\"callback\":null},\"id\":\"2167\",\"type\":\"DataRange1d\"},{\"attributes\":{\"ticker\":{\"id\":\"2176\",\"type\":\"BasicTicker\"}},\"id\":\"2179\",\"type\":\"Grid\"},{\"attributes\":{\"formatter\":{\"id\":\"2279\",\"type\":\"BasicTickFormatter\"},\"ticker\":{\"id\":\"2176\",\"type\":\"BasicTicker\"}},\"id\":\"2175\",\"type\":\"LinearAxis\"},{\"attributes\":{\"text\":\"\"},\"id\":\"2275\",\"type\":\"Title\"},{\"attributes\":{},\"id\":\"2171\",\"type\":\"LinearScale\"},{\"attributes\":{\"bottom_units\":\"screen\",\"fill_alpha\":{\"value\":0.5},\"fill_color\":{\"value\":\"lightgrey\"},\"left_units\":\"screen\",\"level\":\"overlay\",\"line_alpha\":{\"value\":1.0},\"line_color\":{\"value\":\"black\"},\"line_dash\":[4,4],\"line_width\":{\"value\":2},\"render_mode\":\"css\",\"right_units\":\"screen\",\"top_units\":\"screen\"},\"id\":\"2281\",\"type\":\"BoxAnnotation\"},{\"attributes\":{},\"id\":\"2173\",\"type\":\"LinearScale\"},{\"attributes\":{\"args\":{\"div\":{\"id\":\"2193\",\"type\":\"Div\"}},\"code\":\"\\ndiv.text = \\\"Selection! <p> <p>\\\" + JSON.stringify(cb_obj.geometry, undefined, 2);\\n\"},\"id\":\"2198\",\"type\":\"CustomJS\"},{\"attributes\":{\"callback\":null,\"data\":{\"x\":{\"__ndarray__\":\"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\",\"dtype\":\"float64\",\"shape\":[2000]},\"y\":{\"__ndarray__\":\"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\",\"dtype\":\"float64\",\"shape\":[2000]}},\"selected\":{\"id\":\"2283\",\"type\":\"Selection\"},\"selection_policy\":{\"id\":\"2282\",\"type\":\"UnionRenderers\"}},\"id\":\"2188\",\"type\":\"ColumnDataSource\"},{\"attributes\":{},\"id\":\"2176\",\"type\":\"BasicTicker\"},{\"attributes\":{\"args\":{\"div\":{\"id\":\"2193\",\"type\":\"Div\"}},\"code\":\"\\ndiv.text = \\\"Button!\\\";\\n\"},\"id\":\"2197\",\"type\":\"CustomJS\"},{\"attributes\":{\"formatter\":{\"id\":\"2277\",\"type\":\"BasicTickFormatter\"},\"ticker\":{\"id\":\"2181\",\"type\":\"BasicTicker\"}},\"id\":\"2180\",\"type\":\"LinearAxis\"},{\"attributes\":{},\"id\":\"2279\",\"type\":\"BasicTickFormatter\"},{\"attributes\":{\"callback\":null,\"icon\":null,\"js_event_callbacks\":{\"button_click\":[{\"id\":\"2197\",\"type\":\"CustomJS\"}]},\"width\":300},\"id\":\"2194\",\"type\":\"Button\"},{\"attributes\":{},\"id\":\"2277\",\"type\":\"BasicTickFormatter\"},{\"attributes\":{\"children\":[{\"id\":\"2166\",\"subtype\":\"Figure\",\"type\":\"Plot\"},{\"id\":\"2193\",\"type\":\"Div\"}]},\"id\":\"2195\",\"type\":\"Row\"},{\"attributes\":{\"source\":{\"id\":\"2188\",\"type\":\"ColumnDataSource\"}},\"id\":\"2192\",\"type\":\"CDSView\"},{\"attributes\":{\"data_source\":{\"id\":\"2188\",\"type\":\"ColumnDataSource\"},\"glyph\":{\"id\":\"2189\",\"type\":\"Circle\"},\"hover_glyph\":null,\"muted_glyph\":null,\"nonselection_glyph\":{\"id\":\"2190\",\"type\":\"Circle\"},\"selection_glyph\":null,\"view\":{\"id\":\"2192\",\"type\":\"CDSView\"}},\"id\":\"2191\",\"type\":\"GlyphRenderer\"}],\"root_ids\":[\"2196\"]},\"title\":\"Bokeh Application\",\"version\":\"1.3.4\"}};\n",
       "  var render_items = [{\"docid\":\"67ac5a5b-1bc0-476b-9adc-f873c9a86824\",\"roots\":{\"2196\":\"202060c2-6aa1-4a50-8fa8-6a66145d26ea\"}}];\n",
       "  root.Bokeh.embed.embed_items_notebook(docs_json, render_items);\n",
       "\n",
       "  }\n",
       "  if (root.Bokeh !== undefined) {\n",
       "    embed_document(root);\n",
       "  } else {\n",
       "    var attempts = 0;\n",
       "    var timer = setInterval(function(root) {\n",
       "      if (root.Bokeh !== undefined) {\n",
       "        embed_document(root);\n",
       "        clearInterval(timer);\n",
       "      }\n",
       "      attempts++;\n",
       "      if (attempts > 100) {\n",
       "        console.log(\"Bokeh: ERROR: Unable to run BokehJS code because BokehJS library is missing\");\n",
       "        clearInterval(timer);\n",
       "      }\n",
       "    }, 10, root)\n",
       "  }\n",
       "})(window);"
      ],
      "application/vnd.bokehjs_exec.v0+json": ""
     },
     "metadata": {
      "application/vnd.bokehjs_exec.v0+json": {
       "id": "2196"
      }
     },
     "output_type": "display_data"
    }
   ],
   "source": [
    "from bokeh.plotting import figure\n",
    "from bokeh import events\n",
    "from bokeh.models import CustomJS, Div, Button\n",
    "from bokeh.layouts import column, row\n",
    "\n",
    "import numpy as np\n",
    "x = np.random.random(size=2000) * 100\n",
    "y = np.random.random(size=2000) * 100\n",
    "\n",
    "p = figure(tools=\"box_select\")\n",
    "p.scatter(x, y, radius=1, fill_alpha=0.6, line_color=None)\n",
    "\n",
    "div = Div(width=400)\n",
    "button = Button(label=\"Button\", width=300)\n",
    "layout = column(button, row(p, div))\n",
    "\n",
    "# Events with no attributes\n",
    "button.js_on_event(events.ButtonClick,  CustomJS(args=dict(div=div), code=\"\"\"\n",
    "div.text = \"Button!\";\n",
    "\"\"\")) \n",
    "\n",
    "p.js_on_event(events.SelectionGeometry, CustomJS(args=dict(div=div), code=\"\"\"\n",
    "div.text = \"Selection! <p> <p>\" + JSON.stringify(cb_obj.geometry, undefined, 2);\n",
    "\"\"\"))\n",
    "\n",
    "show(layout)"
   ]
  },
  {
   "cell_type": "code",
   "execution_count": 15,
   "metadata": {},
   "outputs": [],
   "source": [
    "# Exercise: Create a plot that responds to different events from bokeh.events\n",
    "\n"
   ]
  },
  {
   "cell_type": "markdown",
   "metadata": {
    "collapsed": true
   },
   "source": [
    "## Additional Information\n",
    "\n",
    "There are many kinds of interactions and events that can be connected to `CustomJS` callbacks. \n",
    "\n",
    "\n",
    "* Widgets - Button, Toggle, Dropdown, TextInput, AutocompleteInput, Select, Multiselect, Slider, (DateRangeSlider), DatePicker,\n",
    "* Tools - TapTool, BoxSelectTool, HoverTool,\n",
    "* Selection - ColumnDataSource, AjaxDataSource, BlazeDataSource, ServerDataSource\n",
    "* Ranges - Range1d, DataRange1d, FactorRange\n",
    "\n",
    "\n",
    "For more complete examples the User Guide section on [JavaScript Interactions](http://bokeh.pydata.org/en/latest/docs/user_guide/interaction.html)"
   ]
  },
  {
   "cell_type": "code",
   "execution_count": null,
   "metadata": {},
   "outputs": [],
   "source": []
  }
 ],
 "metadata": {
  "anaconda-cloud": {},
  "kernelspec": {
   "display_name": "Python 3",
   "language": "python",
   "name": "python3"
  },
  "language_info": {
   "codemirror_mode": {
    "name": "ipython",
    "version": 3
   },
   "file_extension": ".py",
   "mimetype": "text/x-python",
   "name": "python",
   "nbconvert_exporter": "python",
   "pygments_lexer": "ipython3",
   "version": "3.6.8"
  },
  "widgets": {
   "state": {
    "335ae2c8ff80469e9adac668c2924989": {
     "views": [
      {
       "cell_index": 19
      }
     ]
    }
   },
   "version": "1.2.0"
  }
 },
 "nbformat": 4,
 "nbformat_minor": 1
}
