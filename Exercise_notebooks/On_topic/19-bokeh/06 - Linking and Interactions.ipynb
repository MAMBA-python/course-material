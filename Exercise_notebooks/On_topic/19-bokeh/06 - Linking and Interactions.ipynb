{
 "cells": [
  {
   "cell_type": "markdown",
   "metadata": {},
   "source": [
    "<table style=\"float:left; border:none\">\n",
    "   <tr style=\"border:none; background-color: #ffffff\">\n",
    "       <td style=\"border:none\">\n",
    "           <a href=\"http://bokeh.pydata.org/\">     \n",
    "           <img \n",
    "               src=\"assets/bokeh-transparent.png\" \n",
    "               style=\"width:50px\"\n",
    "           >\n",
    "           </a>    \n",
    "       </td>\n",
    "       <td style=\"border:none\">\n",
    "           <h1>Bokeh Tutorial</h1>\n",
    "       </td>\n",
    "   </tr>\n",
    "</table>\n",
    "\n",
    "<div style=\"float:right;\"><h2>06. Linking and Interactions</h2></div>"
   ]
  },
  {
   "cell_type": "code",
   "execution_count": 1,
   "metadata": {},
   "outputs": [
    {
     "data": {
      "text/html": [
       "\n",
       "    <div class=\"bk-root\">\n",
       "        <a href=\"https://bokeh.pydata.org\" target=\"_blank\" class=\"bk-logo bk-logo-small bk-logo-notebook\"></a>\n",
       "        <span id=\"1001\">Loading BokehJS ...</span>\n",
       "    </div>"
      ]
     },
     "metadata": {},
     "output_type": "display_data"
    },
    {
     "data": {
      "application/javascript": [
       "\n",
       "(function(root) {\n",
       "  function now() {\n",
       "    return new Date();\n",
       "  }\n",
       "\n",
       "  var force = true;\n",
       "\n",
       "  if (typeof root._bokeh_onload_callbacks === \"undefined\" || force === true) {\n",
       "    root._bokeh_onload_callbacks = [];\n",
       "    root._bokeh_is_loading = undefined;\n",
       "  }\n",
       "\n",
       "  var JS_MIME_TYPE = 'application/javascript';\n",
       "  var HTML_MIME_TYPE = 'text/html';\n",
       "  var EXEC_MIME_TYPE = 'application/vnd.bokehjs_exec.v0+json';\n",
       "  var CLASS_NAME = 'output_bokeh rendered_html';\n",
       "\n",
       "  /**\n",
       "   * Render data to the DOM node\n",
       "   */\n",
       "  function render(props, node) {\n",
       "    var script = document.createElement(\"script\");\n",
       "    node.appendChild(script);\n",
       "  }\n",
       "\n",
       "  /**\n",
       "   * Handle when an output is cleared or removed\n",
       "   */\n",
       "  function handleClearOutput(event, handle) {\n",
       "    var cell = handle.cell;\n",
       "\n",
       "    var id = cell.output_area._bokeh_element_id;\n",
       "    var server_id = cell.output_area._bokeh_server_id;\n",
       "    // Clean up Bokeh references\n",
       "    if (id != null && id in Bokeh.index) {\n",
       "      Bokeh.index[id].model.document.clear();\n",
       "      delete Bokeh.index[id];\n",
       "    }\n",
       "\n",
       "    if (server_id !== undefined) {\n",
       "      // Clean up Bokeh references\n",
       "      var cmd = \"from bokeh.io.state import curstate; print(curstate().uuid_to_server['\" + server_id + \"'].get_sessions()[0].document.roots[0]._id)\";\n",
       "      cell.notebook.kernel.execute(cmd, {\n",
       "        iopub: {\n",
       "          output: function(msg) {\n",
       "            var id = msg.content.text.trim();\n",
       "            if (id in Bokeh.index) {\n",
       "              Bokeh.index[id].model.document.clear();\n",
       "              delete Bokeh.index[id];\n",
       "            }\n",
       "          }\n",
       "        }\n",
       "      });\n",
       "      // Destroy server and session\n",
       "      var cmd = \"import bokeh.io.notebook as ion; ion.destroy_server('\" + server_id + \"')\";\n",
       "      cell.notebook.kernel.execute(cmd);\n",
       "    }\n",
       "  }\n",
       "\n",
       "  /**\n",
       "   * Handle when a new output is added\n",
       "   */\n",
       "  function handleAddOutput(event, handle) {\n",
       "    var output_area = handle.output_area;\n",
       "    var output = handle.output;\n",
       "\n",
       "    // limit handleAddOutput to display_data with EXEC_MIME_TYPE content only\n",
       "    if ((output.output_type != \"display_data\") || (!output.data.hasOwnProperty(EXEC_MIME_TYPE))) {\n",
       "      return\n",
       "    }\n",
       "\n",
       "    var toinsert = output_area.element.find(\".\" + CLASS_NAME.split(' ')[0]);\n",
       "\n",
       "    if (output.metadata[EXEC_MIME_TYPE][\"id\"] !== undefined) {\n",
       "      toinsert[toinsert.length - 1].firstChild.textContent = output.data[JS_MIME_TYPE];\n",
       "      // store reference to embed id on output_area\n",
       "      output_area._bokeh_element_id = output.metadata[EXEC_MIME_TYPE][\"id\"];\n",
       "    }\n",
       "    if (output.metadata[EXEC_MIME_TYPE][\"server_id\"] !== undefined) {\n",
       "      var bk_div = document.createElement(\"div\");\n",
       "      bk_div.innerHTML = output.data[HTML_MIME_TYPE];\n",
       "      var script_attrs = bk_div.children[0].attributes;\n",
       "      for (var i = 0; i < script_attrs.length; i++) {\n",
       "        toinsert[toinsert.length - 1].firstChild.setAttribute(script_attrs[i].name, script_attrs[i].value);\n",
       "      }\n",
       "      // store reference to server id on output_area\n",
       "      output_area._bokeh_server_id = output.metadata[EXEC_MIME_TYPE][\"server_id\"];\n",
       "    }\n",
       "  }\n",
       "\n",
       "  function register_renderer(events, OutputArea) {\n",
       "\n",
       "    function append_mime(data, metadata, element) {\n",
       "      // create a DOM node to render to\n",
       "      var toinsert = this.create_output_subarea(\n",
       "        metadata,\n",
       "        CLASS_NAME,\n",
       "        EXEC_MIME_TYPE\n",
       "      );\n",
       "      this.keyboard_manager.register_events(toinsert);\n",
       "      // Render to node\n",
       "      var props = {data: data, metadata: metadata[EXEC_MIME_TYPE]};\n",
       "      render(props, toinsert[toinsert.length - 1]);\n",
       "      element.append(toinsert);\n",
       "      return toinsert\n",
       "    }\n",
       "\n",
       "    /* Handle when an output is cleared or removed */\n",
       "    events.on('clear_output.CodeCell', handleClearOutput);\n",
       "    events.on('delete.Cell', handleClearOutput);\n",
       "\n",
       "    /* Handle when a new output is added */\n",
       "    events.on('output_added.OutputArea', handleAddOutput);\n",
       "\n",
       "    /**\n",
       "     * Register the mime type and append_mime function with output_area\n",
       "     */\n",
       "    OutputArea.prototype.register_mime_type(EXEC_MIME_TYPE, append_mime, {\n",
       "      /* Is output safe? */\n",
       "      safe: true,\n",
       "      /* Index of renderer in `output_area.display_order` */\n",
       "      index: 0\n",
       "    });\n",
       "  }\n",
       "\n",
       "  // register the mime type if in Jupyter Notebook environment and previously unregistered\n",
       "  if (root.Jupyter !== undefined) {\n",
       "    var events = require('base/js/events');\n",
       "    var OutputArea = require('notebook/js/outputarea').OutputArea;\n",
       "\n",
       "    if (OutputArea.prototype.mime_types().indexOf(EXEC_MIME_TYPE) == -1) {\n",
       "      register_renderer(events, OutputArea);\n",
       "    }\n",
       "  }\n",
       "\n",
       "  \n",
       "  if (typeof (root._bokeh_timeout) === \"undefined\" || force === true) {\n",
       "    root._bokeh_timeout = Date.now() + 5000;\n",
       "    root._bokeh_failed_load = false;\n",
       "  }\n",
       "\n",
       "  var NB_LOAD_WARNING = {'data': {'text/html':\n",
       "     \"<div style='background-color: #fdd'>\\n\"+\n",
       "     \"<p>\\n\"+\n",
       "     \"BokehJS does not appear to have successfully loaded. If loading BokehJS from CDN, this \\n\"+\n",
       "     \"may be due to a slow or bad network connection. Possible fixes:\\n\"+\n",
       "     \"</p>\\n\"+\n",
       "     \"<ul>\\n\"+\n",
       "     \"<li>re-rerun `output_notebook()` to attempt to load from CDN again, or</li>\\n\"+\n",
       "     \"<li>use INLINE resources instead, as so:</li>\\n\"+\n",
       "     \"</ul>\\n\"+\n",
       "     \"<code>\\n\"+\n",
       "     \"from bokeh.resources import INLINE\\n\"+\n",
       "     \"output_notebook(resources=INLINE)\\n\"+\n",
       "     \"</code>\\n\"+\n",
       "     \"</div>\"}};\n",
       "\n",
       "  function display_loaded() {\n",
       "    var el = document.getElementById(\"1001\");\n",
       "    if (el != null) {\n",
       "      el.textContent = \"BokehJS is loading...\";\n",
       "    }\n",
       "    if (root.Bokeh !== undefined) {\n",
       "      if (el != null) {\n",
       "        el.textContent = \"BokehJS \" + root.Bokeh.version + \" successfully loaded.\";\n",
       "      }\n",
       "    } else if (Date.now() < root._bokeh_timeout) {\n",
       "      setTimeout(display_loaded, 100)\n",
       "    }\n",
       "  }\n",
       "\n",
       "\n",
       "  function run_callbacks() {\n",
       "    try {\n",
       "      root._bokeh_onload_callbacks.forEach(function(callback) {\n",
       "        if (callback != null)\n",
       "          callback();\n",
       "      });\n",
       "    } finally {\n",
       "      delete root._bokeh_onload_callbacks\n",
       "    }\n",
       "    console.debug(\"Bokeh: all callbacks have finished\");\n",
       "  }\n",
       "\n",
       "  function load_libs(css_urls, js_urls, callback) {\n",
       "    if (css_urls == null) css_urls = [];\n",
       "    if (js_urls == null) js_urls = [];\n",
       "\n",
       "    root._bokeh_onload_callbacks.push(callback);\n",
       "    if (root._bokeh_is_loading > 0) {\n",
       "      console.debug(\"Bokeh: BokehJS is being loaded, scheduling callback at\", now());\n",
       "      return null;\n",
       "    }\n",
       "    if (js_urls == null || js_urls.length === 0) {\n",
       "      run_callbacks();\n",
       "      return null;\n",
       "    }\n",
       "    console.debug(\"Bokeh: BokehJS not loaded, scheduling load and callback at\", now());\n",
       "    root._bokeh_is_loading = css_urls.length + js_urls.length;\n",
       "\n",
       "    function on_load() {\n",
       "      root._bokeh_is_loading--;\n",
       "      if (root._bokeh_is_loading === 0) {\n",
       "        console.debug(\"Bokeh: all BokehJS libraries/stylesheets loaded\");\n",
       "        run_callbacks()\n",
       "      }\n",
       "    }\n",
       "\n",
       "    function on_error() {\n",
       "      console.error(\"failed to load \" + url);\n",
       "    }\n",
       "\n",
       "    for (var i = 0; i < css_urls.length; i++) {\n",
       "      var url = css_urls[i];\n",
       "      const element = document.createElement(\"link\");\n",
       "      element.onload = on_load;\n",
       "      element.onerror = on_error;\n",
       "      element.rel = \"stylesheet\";\n",
       "      element.type = \"text/css\";\n",
       "      element.href = url;\n",
       "      console.debug(\"Bokeh: injecting link tag for BokehJS stylesheet: \", url);\n",
       "      document.body.appendChild(element);\n",
       "    }\n",
       "\n",
       "    for (var i = 0; i < js_urls.length; i++) {\n",
       "      var url = js_urls[i];\n",
       "      var element = document.createElement('script');\n",
       "      element.onload = on_load;\n",
       "      element.onerror = on_error;\n",
       "      element.async = false;\n",
       "      element.src = url;\n",
       "      console.debug(\"Bokeh: injecting script tag for BokehJS library: \", url);\n",
       "      document.head.appendChild(element);\n",
       "    }\n",
       "  };var element = document.getElementById(\"1001\");\n",
       "  if (element == null) {\n",
       "    console.error(\"Bokeh: ERROR: autoload.js configured with elementid '1001' but no matching script tag was found. \")\n",
       "    return false;\n",
       "  }\n",
       "\n",
       "  function inject_raw_css(css) {\n",
       "    const element = document.createElement(\"style\");\n",
       "    element.appendChild(document.createTextNode(css));\n",
       "    document.body.appendChild(element);\n",
       "  }\n",
       "\n",
       "  var js_urls = [\"https://cdn.pydata.org/bokeh/release/bokeh-1.1.0.min.js\", \"https://cdn.pydata.org/bokeh/release/bokeh-widgets-1.1.0.min.js\", \"https://cdn.pydata.org/bokeh/release/bokeh-tables-1.1.0.min.js\", \"https://cdn.pydata.org/bokeh/release/bokeh-gl-1.1.0.min.js\"];\n",
       "  var css_urls = [\"https://cdn.pydata.org/bokeh/release/bokeh-1.1.0.min.css\", \"https://cdn.pydata.org/bokeh/release/bokeh-widgets-1.1.0.min.css\", \"https://cdn.pydata.org/bokeh/release/bokeh-tables-1.1.0.min.css\"];\n",
       "\n",
       "  var inline_js = [\n",
       "    function(Bokeh) {\n",
       "      Bokeh.set_log_level(\"info\");\n",
       "    },\n",
       "    \n",
       "    function(Bokeh) {\n",
       "      \n",
       "    },\n",
       "    function(Bokeh) {} // ensure no trailing comma for IE\n",
       "  ];\n",
       "\n",
       "  function run_inline_js() {\n",
       "    \n",
       "    if ((root.Bokeh !== undefined) || (force === true)) {\n",
       "      for (var i = 0; i < inline_js.length; i++) {\n",
       "        inline_js[i].call(root, root.Bokeh);\n",
       "      }if (force === true) {\n",
       "        display_loaded();\n",
       "      }} else if (Date.now() < root._bokeh_timeout) {\n",
       "      setTimeout(run_inline_js, 100);\n",
       "    } else if (!root._bokeh_failed_load) {\n",
       "      console.log(\"Bokeh: BokehJS failed to load within specified timeout.\");\n",
       "      root._bokeh_failed_load = true;\n",
       "    } else if (force !== true) {\n",
       "      var cell = $(document.getElementById(\"1001\")).parents('.cell').data().cell;\n",
       "      cell.output_area.append_execute_result(NB_LOAD_WARNING)\n",
       "    }\n",
       "\n",
       "  }\n",
       "\n",
       "  if (root._bokeh_is_loading === 0) {\n",
       "    console.debug(\"Bokeh: BokehJS loaded, going straight to plotting\");\n",
       "    run_inline_js();\n",
       "  } else {\n",
       "    load_libs(css_urls, js_urls, function() {\n",
       "      console.debug(\"Bokeh: BokehJS plotting callback run at\", now());\n",
       "      run_inline_js();\n",
       "    });\n",
       "  }\n",
       "}(window));"
      ],
      "application/vnd.bokehjs_load.v0+json": "\n(function(root) {\n  function now() {\n    return new Date();\n  }\n\n  var force = true;\n\n  if (typeof root._bokeh_onload_callbacks === \"undefined\" || force === true) {\n    root._bokeh_onload_callbacks = [];\n    root._bokeh_is_loading = undefined;\n  }\n\n  \n\n  \n  if (typeof (root._bokeh_timeout) === \"undefined\" || force === true) {\n    root._bokeh_timeout = Date.now() + 5000;\n    root._bokeh_failed_load = false;\n  }\n\n  var NB_LOAD_WARNING = {'data': {'text/html':\n     \"<div style='background-color: #fdd'>\\n\"+\n     \"<p>\\n\"+\n     \"BokehJS does not appear to have successfully loaded. If loading BokehJS from CDN, this \\n\"+\n     \"may be due to a slow or bad network connection. Possible fixes:\\n\"+\n     \"</p>\\n\"+\n     \"<ul>\\n\"+\n     \"<li>re-rerun `output_notebook()` to attempt to load from CDN again, or</li>\\n\"+\n     \"<li>use INLINE resources instead, as so:</li>\\n\"+\n     \"</ul>\\n\"+\n     \"<code>\\n\"+\n     \"from bokeh.resources import INLINE\\n\"+\n     \"output_notebook(resources=INLINE)\\n\"+\n     \"</code>\\n\"+\n     \"</div>\"}};\n\n  function display_loaded() {\n    var el = document.getElementById(\"1001\");\n    if (el != null) {\n      el.textContent = \"BokehJS is loading...\";\n    }\n    if (root.Bokeh !== undefined) {\n      if (el != null) {\n        el.textContent = \"BokehJS \" + root.Bokeh.version + \" successfully loaded.\";\n      }\n    } else if (Date.now() < root._bokeh_timeout) {\n      setTimeout(display_loaded, 100)\n    }\n  }\n\n\n  function run_callbacks() {\n    try {\n      root._bokeh_onload_callbacks.forEach(function(callback) {\n        if (callback != null)\n          callback();\n      });\n    } finally {\n      delete root._bokeh_onload_callbacks\n    }\n    console.debug(\"Bokeh: all callbacks have finished\");\n  }\n\n  function load_libs(css_urls, js_urls, callback) {\n    if (css_urls == null) css_urls = [];\n    if (js_urls == null) js_urls = [];\n\n    root._bokeh_onload_callbacks.push(callback);\n    if (root._bokeh_is_loading > 0) {\n      console.debug(\"Bokeh: BokehJS is being loaded, scheduling callback at\", now());\n      return null;\n    }\n    if (js_urls == null || js_urls.length === 0) {\n      run_callbacks();\n      return null;\n    }\n    console.debug(\"Bokeh: BokehJS not loaded, scheduling load and callback at\", now());\n    root._bokeh_is_loading = css_urls.length + js_urls.length;\n\n    function on_load() {\n      root._bokeh_is_loading--;\n      if (root._bokeh_is_loading === 0) {\n        console.debug(\"Bokeh: all BokehJS libraries/stylesheets loaded\");\n        run_callbacks()\n      }\n    }\n\n    function on_error() {\n      console.error(\"failed to load \" + url);\n    }\n\n    for (var i = 0; i < css_urls.length; i++) {\n      var url = css_urls[i];\n      const element = document.createElement(\"link\");\n      element.onload = on_load;\n      element.onerror = on_error;\n      element.rel = \"stylesheet\";\n      element.type = \"text/css\";\n      element.href = url;\n      console.debug(\"Bokeh: injecting link tag for BokehJS stylesheet: \", url);\n      document.body.appendChild(element);\n    }\n\n    for (var i = 0; i < js_urls.length; i++) {\n      var url = js_urls[i];\n      var element = document.createElement('script');\n      element.onload = on_load;\n      element.onerror = on_error;\n      element.async = false;\n      element.src = url;\n      console.debug(\"Bokeh: injecting script tag for BokehJS library: \", url);\n      document.head.appendChild(element);\n    }\n  };var element = document.getElementById(\"1001\");\n  if (element == null) {\n    console.error(\"Bokeh: ERROR: autoload.js configured with elementid '1001' but no matching script tag was found. \")\n    return false;\n  }\n\n  function inject_raw_css(css) {\n    const element = document.createElement(\"style\");\n    element.appendChild(document.createTextNode(css));\n    document.body.appendChild(element);\n  }\n\n  var js_urls = [\"https://cdn.pydata.org/bokeh/release/bokeh-1.1.0.min.js\", \"https://cdn.pydata.org/bokeh/release/bokeh-widgets-1.1.0.min.js\", \"https://cdn.pydata.org/bokeh/release/bokeh-tables-1.1.0.min.js\", \"https://cdn.pydata.org/bokeh/release/bokeh-gl-1.1.0.min.js\"];\n  var css_urls = [\"https://cdn.pydata.org/bokeh/release/bokeh-1.1.0.min.css\", \"https://cdn.pydata.org/bokeh/release/bokeh-widgets-1.1.0.min.css\", \"https://cdn.pydata.org/bokeh/release/bokeh-tables-1.1.0.min.css\"];\n\n  var inline_js = [\n    function(Bokeh) {\n      Bokeh.set_log_level(\"info\");\n    },\n    \n    function(Bokeh) {\n      \n    },\n    function(Bokeh) {} // ensure no trailing comma for IE\n  ];\n\n  function run_inline_js() {\n    \n    if ((root.Bokeh !== undefined) || (force === true)) {\n      for (var i = 0; i < inline_js.length; i++) {\n        inline_js[i].call(root, root.Bokeh);\n      }if (force === true) {\n        display_loaded();\n      }} else if (Date.now() < root._bokeh_timeout) {\n      setTimeout(run_inline_js, 100);\n    } else if (!root._bokeh_failed_load) {\n      console.log(\"Bokeh: BokehJS failed to load within specified timeout.\");\n      root._bokeh_failed_load = true;\n    } else if (force !== true) {\n      var cell = $(document.getElementById(\"1001\")).parents('.cell').data().cell;\n      cell.output_area.append_execute_result(NB_LOAD_WARNING)\n    }\n\n  }\n\n  if (root._bokeh_is_loading === 0) {\n    console.debug(\"Bokeh: BokehJS loaded, going straight to plotting\");\n    run_inline_js();\n  } else {\n    load_libs(css_urls, js_urls, function() {\n      console.debug(\"Bokeh: BokehJS plotting callback run at\", now());\n      run_inline_js();\n    });\n  }\n}(window));"
     },
     "metadata": {},
     "output_type": "display_data"
    }
   ],
   "source": [
    "from bokeh.io import output_notebook, show\n",
    "from bokeh.plotting import figure\n",
    "output_notebook()"
   ]
  },
  {
   "cell_type": "markdown",
   "metadata": {},
   "source": [
    "Now that we know from the previous chapter how multiple plots can be placed together in a layout, we can start to look at how different plots can be linked togeher, or how plots can be linked to widgets. "
   ]
  },
  {
   "cell_type": "markdown",
   "metadata": {
    "collapsed": true
   },
   "source": [
    "# Linked Interactions\n",
    "\n",
    "It is possible to link various interactions between different Bokeh plots. For instance, the ranges of two (or more) plots can be linked, so that when one of the plots is panned (or zoomed, or otherwise has its range changed) the other plots will update in unison. It is also possible to link selections between two plots, so that when items are selected on one plot, the corresponding items on the second plot also become selected. "
   ]
  },
  {
   "cell_type": "markdown",
   "metadata": {},
   "source": [
    "## Linked panning\n",
    "\n",
    "Linked panning (when multiple plots have ranges that stay in sync) is simple to spell with Bokeh. You simply share the appropriate range objects between two (or more) plots. The example below shows how to accomplish this by linking the ranges of three plots in various ways:"
   ]
  },
  {
   "cell_type": "code",
   "execution_count": 2,
   "metadata": {},
   "outputs": [
    {
     "data": {
      "text/html": [
       "\n",
       "\n",
       "\n",
       "\n",
       "\n",
       "\n",
       "  <div class=\"bk-root\" id=\"0933b6f6-6af6-4522-bb18-e50d1ba778b0\" data-root-id=\"1116\"></div>\n"
      ]
     },
     "metadata": {},
     "output_type": "display_data"
    },
    {
     "data": {
      "application/javascript": [
       "(function(root) {\n",
       "  function embed_document(root) {\n",
       "    \n",
       "  var docs_json = {\"fe3298b3-d8d7-45a3-a84f-180faf0d08a3\":{\"roots\":{\"references\":[{\"attributes\":{\"children\":[{\"id\":\"1115\",\"type\":\"ToolbarBox\"},{\"id\":\"1113\",\"type\":\"GridBox\"}]},\"id\":\"1116\",\"type\":\"Column\"},{\"attributes\":{\"text\":\"\"},\"id\":\"1095\",\"type\":\"Title\"},{\"attributes\":{},\"id\":\"1039\",\"type\":\"BasicTicker\"},{\"attributes\":{},\"id\":\"1067\",\"type\":\"BasicTicker\"},{\"attributes\":{},\"id\":\"1009\",\"type\":\"LinearScale\"},{\"attributes\":{\"ticker\":{\"id\":\"1039\",\"type\":\"BasicTicker\"}},\"id\":\"1042\",\"type\":\"Grid\"},{\"attributes\":{},\"id\":\"1097\",\"type\":\"BasicTickFormatter\"},{\"attributes\":{\"ticker\":{\"id\":\"1067\",\"type\":\"BasicTicker\"}},\"id\":\"1070\",\"type\":\"Grid\"},{\"attributes\":{\"formatter\":{\"id\":\"1090\",\"type\":\"BasicTickFormatter\"},\"ticker\":{\"id\":\"1012\",\"type\":\"BasicTicker\"}},\"id\":\"1011\",\"type\":\"LinearAxis\"},{\"attributes\":{\"formatter\":{\"id\":\"1097\",\"type\":\"BasicTickFormatter\"},\"ticker\":{\"id\":\"1044\",\"type\":\"BasicTicker\"}},\"id\":\"1043\",\"type\":\"LinearAxis\"},{\"attributes\":{},\"id\":\"1099\",\"type\":\"BasicTickFormatter\"},{\"attributes\":{\"formatter\":{\"id\":\"1106\",\"type\":\"BasicTickFormatter\"},\"ticker\":{\"id\":\"1072\",\"type\":\"BasicTicker\"}},\"id\":\"1071\",\"type\":\"LinearAxis\"},{\"attributes\":{},\"id\":\"1012\",\"type\":\"BasicTicker\"},{\"attributes\":{},\"id\":\"1044\",\"type\":\"BasicTicker\"},{\"attributes\":{},\"id\":\"1101\",\"type\":\"UnionRenderers\"},{\"attributes\":{},\"id\":\"1072\",\"type\":\"BasicTicker\"},{\"attributes\":{},\"id\":\"1021\",\"type\":\"PanTool\"},{\"attributes\":{\"ticker\":{\"id\":\"1012\",\"type\":\"BasicTicker\"}},\"id\":\"1015\",\"type\":\"Grid\"},{\"attributes\":{\"dimension\":1,\"ticker\":{\"id\":\"1044\",\"type\":\"BasicTicker\"}},\"id\":\"1047\",\"type\":\"Grid\"},{\"attributes\":{},\"id\":\"1102\",\"type\":\"Selection\"},{\"attributes\":{\"dimension\":1,\"ticker\":{\"id\":\"1072\",\"type\":\"BasicTicker\"}},\"id\":\"1075\",\"type\":\"Grid\"},{\"attributes\":{},\"id\":\"1022\",\"type\":\"WheelZoomTool\"},{\"attributes\":{\"formatter\":{\"id\":\"1088\",\"type\":\"BasicTickFormatter\"},\"ticker\":{\"id\":\"1017\",\"type\":\"BasicTicker\"}},\"id\":\"1016\",\"type\":\"LinearAxis\"},{\"attributes\":{\"below\":[{\"id\":\"1038\",\"type\":\"LinearAxis\"}],\"center\":[{\"id\":\"1042\",\"type\":\"Grid\"},{\"id\":\"1047\",\"type\":\"Grid\"}],\"left\":[{\"id\":\"1043\",\"type\":\"LinearAxis\"}],\"plot_height\":250,\"plot_width\":250,\"renderers\":[{\"id\":\"1056\",\"type\":\"GlyphRenderer\"}],\"title\":{\"id\":\"1095\",\"type\":\"Title\"},\"toolbar\":{\"id\":\"1050\",\"type\":\"Toolbar\"},\"toolbar_location\":null,\"x_range\":{\"id\":\"1003\",\"type\":\"DataRange1d\"},\"x_scale\":{\"id\":\"1034\",\"type\":\"LinearScale\"},\"y_range\":{\"id\":\"1005\",\"type\":\"DataRange1d\"},\"y_scale\":{\"id\":\"1036\",\"type\":\"LinearScale\"}},\"id\":\"1031\",\"subtype\":\"Figure\",\"type\":\"Plot\"},{\"attributes\":{\"text\":\"\"},\"id\":\"1104\",\"type\":\"Title\"},{\"attributes\":{\"active_drag\":\"auto\",\"active_inspect\":\"auto\",\"active_multi\":null,\"active_scroll\":\"auto\",\"active_tap\":\"auto\",\"tools\":[{\"id\":\"1048\",\"type\":\"PanTool\"},{\"id\":\"1049\",\"type\":\"WheelZoomTool\"}]},\"id\":\"1050\",\"type\":\"Toolbar\"},{\"attributes\":{\"active_drag\":\"auto\",\"active_inspect\":\"auto\",\"active_multi\":null,\"active_scroll\":\"auto\",\"active_tap\":\"auto\",\"tools\":[{\"id\":\"1076\",\"type\":\"PanTool\"},{\"id\":\"1077\",\"type\":\"WheelZoomTool\"}]},\"id\":\"1078\",\"type\":\"Toolbar\"},{\"attributes\":{},\"id\":\"1048\",\"type\":\"PanTool\"},{\"attributes\":{},\"id\":\"1017\",\"type\":\"BasicTicker\"},{\"attributes\":{},\"id\":\"1076\",\"type\":\"PanTool\"},{\"attributes\":{},\"id\":\"1106\",\"type\":\"BasicTickFormatter\"},{\"attributes\":{},\"id\":\"1049\",\"type\":\"WheelZoomTool\"},{\"attributes\":{},\"id\":\"1108\",\"type\":\"BasicTickFormatter\"},{\"attributes\":{},\"id\":\"1077\",\"type\":\"WheelZoomTool\"},{\"attributes\":{},\"id\":\"1093\",\"type\":\"Selection\"},{\"attributes\":{\"active_drag\":\"auto\",\"active_inspect\":\"auto\",\"active_multi\":null,\"active_scroll\":\"auto\",\"active_tap\":\"auto\",\"tools\":[{\"id\":\"1021\",\"type\":\"PanTool\"},{\"id\":\"1022\",\"type\":\"WheelZoomTool\"}]},\"id\":\"1023\",\"type\":\"Toolbar\"},{\"attributes\":{},\"id\":\"1110\",\"type\":\"UnionRenderers\"},{\"attributes\":{\"fill_color\":{\"value\":\"navy\"},\"line_color\":{\"value\":\"navy\"},\"size\":{\"units\":\"screen\",\"value\":10},\"x\":{\"field\":\"x\"},\"y\":{\"field\":\"y\"}},\"id\":\"1027\",\"type\":\"Circle\"},{\"attributes\":{\"below\":[{\"id\":\"1066\",\"type\":\"LinearAxis\"}],\"center\":[{\"id\":\"1070\",\"type\":\"Grid\"},{\"id\":\"1075\",\"type\":\"Grid\"}],\"left\":[{\"id\":\"1071\",\"type\":\"LinearAxis\"}],\"plot_height\":250,\"plot_width\":250,\"renderers\":[{\"id\":\"1084\",\"type\":\"GlyphRenderer\"}],\"title\":{\"id\":\"1104\",\"type\":\"Title\"},\"toolbar\":{\"id\":\"1078\",\"type\":\"Toolbar\"},\"toolbar_location\":null,\"x_range\":{\"id\":\"1003\",\"type\":\"DataRange1d\"},\"x_scale\":{\"id\":\"1062\",\"type\":\"LinearScale\"},\"y_range\":{\"id\":\"1060\",\"type\":\"DataRange1d\"},\"y_scale\":{\"id\":\"1064\",\"type\":\"LinearScale\"}},\"id\":\"1058\",\"subtype\":\"Figure\",\"type\":\"Plot\"},{\"attributes\":{\"fill_color\":{\"value\":\"firebrick\"},\"line_color\":{\"value\":\"firebrick\"},\"size\":{\"units\":\"screen\",\"value\":10},\"x\":{\"field\":\"x\"},\"y\":{\"field\":\"y\"}},\"id\":\"1054\",\"type\":\"Triangle\"},{\"attributes\":{},\"id\":\"1111\",\"type\":\"Selection\"},{\"attributes\":{\"fill_alpha\":{\"value\":0.1},\"fill_color\":{\"value\":\"#1f77b4\"},\"line_alpha\":{\"value\":0.1},\"line_color\":{\"value\":\"#1f77b4\"},\"size\":{\"units\":\"screen\",\"value\":10},\"x\":{\"field\":\"x\"},\"y\":{\"field\":\"y\"}},\"id\":\"1028\",\"type\":\"Circle\"},{\"attributes\":{\"fill_color\":{\"value\":\"olive\"},\"line_color\":{\"value\":\"olive\"},\"size\":{\"units\":\"screen\",\"value\":10},\"x\":{\"field\":\"x\"},\"y\":{\"field\":\"y\"}},\"id\":\"1082\",\"type\":\"Square\"},{\"attributes\":{\"tools\":[{\"id\":\"1021\",\"type\":\"PanTool\"},{\"id\":\"1022\",\"type\":\"WheelZoomTool\"},{\"id\":\"1048\",\"type\":\"PanTool\"},{\"id\":\"1049\",\"type\":\"WheelZoomTool\"},{\"id\":\"1076\",\"type\":\"PanTool\"},{\"id\":\"1077\",\"type\":\"WheelZoomTool\"}]},\"id\":\"1114\",\"type\":\"ProxyToolbar\"},{\"attributes\":{\"fill_alpha\":{\"value\":0.1},\"fill_color\":{\"value\":\"#1f77b4\"},\"line_alpha\":{\"value\":0.1},\"line_color\":{\"value\":\"#1f77b4\"},\"size\":{\"units\":\"screen\",\"value\":10},\"x\":{\"field\":\"x\"},\"y\":{\"field\":\"y\"}},\"id\":\"1055\",\"type\":\"Triangle\"},{\"attributes\":{\"fill_alpha\":{\"value\":0.1},\"fill_color\":{\"value\":\"#1f77b4\"},\"line_alpha\":{\"value\":0.1},\"line_color\":{\"value\":\"#1f77b4\"},\"size\":{\"units\":\"screen\",\"value\":10},\"x\":{\"field\":\"x\"},\"y\":{\"field\":\"y\"}},\"id\":\"1083\",\"type\":\"Square\"},{\"attributes\":{},\"id\":\"1092\",\"type\":\"UnionRenderers\"},{\"attributes\":{\"toolbar\":{\"id\":\"1114\",\"type\":\"ProxyToolbar\"},\"toolbar_location\":\"above\"},\"id\":\"1115\",\"type\":\"ToolbarBox\"},{\"attributes\":{\"data_source\":{\"id\":\"1053\",\"type\":\"ColumnDataSource\"},\"glyph\":{\"id\":\"1054\",\"type\":\"Triangle\"},\"hover_glyph\":null,\"muted_glyph\":null,\"nonselection_glyph\":{\"id\":\"1055\",\"type\":\"Triangle\"},\"selection_glyph\":null,\"view\":{\"id\":\"1057\",\"type\":\"CDSView\"}},\"id\":\"1056\",\"type\":\"GlyphRenderer\"},{\"attributes\":{\"data_source\":{\"id\":\"1081\",\"type\":\"ColumnDataSource\"},\"glyph\":{\"id\":\"1082\",\"type\":\"Square\"},\"hover_glyph\":null,\"muted_glyph\":null,\"nonselection_glyph\":{\"id\":\"1083\",\"type\":\"Square\"},\"selection_glyph\":null,\"view\":{\"id\":\"1085\",\"type\":\"CDSView\"}},\"id\":\"1084\",\"type\":\"GlyphRenderer\"},{\"attributes\":{\"source\":{\"id\":\"1053\",\"type\":\"ColumnDataSource\"}},\"id\":\"1057\",\"type\":\"CDSView\"},{\"attributes\":{\"data_source\":{\"id\":\"1026\",\"type\":\"ColumnDataSource\"},\"glyph\":{\"id\":\"1027\",\"type\":\"Circle\"},\"hover_glyph\":null,\"muted_glyph\":null,\"nonselection_glyph\":{\"id\":\"1028\",\"type\":\"Circle\"},\"selection_glyph\":null,\"view\":{\"id\":\"1030\",\"type\":\"CDSView\"}},\"id\":\"1029\",\"type\":\"GlyphRenderer\"},{\"attributes\":{\"source\":{\"id\":\"1081\",\"type\":\"ColumnDataSource\"}},\"id\":\"1085\",\"type\":\"CDSView\"},{\"attributes\":{\"callback\":null,\"data\":{\"x\":[0,1,2,3,4,5,6,7,8,9,10],\"y\":[5,4,3,2,1,0,1,2,3,4,5]},\"selected\":{\"id\":\"1111\",\"type\":\"Selection\"},\"selection_policy\":{\"id\":\"1110\",\"type\":\"UnionRenderers\"}},\"id\":\"1081\",\"type\":\"ColumnDataSource\"},{\"attributes\":{\"source\":{\"id\":\"1026\",\"type\":\"ColumnDataSource\"}},\"id\":\"1030\",\"type\":\"CDSView\"},{\"attributes\":{\"children\":[[{\"id\":\"1002\",\"subtype\":\"Figure\",\"type\":\"Plot\"},0,0],[{\"id\":\"1031\",\"subtype\":\"Figure\",\"type\":\"Plot\"},0,1],[{\"id\":\"1058\",\"subtype\":\"Figure\",\"type\":\"Plot\"},0,2]]},\"id\":\"1113\",\"type\":\"GridBox\"},{\"attributes\":{\"callback\":null},\"id\":\"1003\",\"type\":\"DataRange1d\"},{\"attributes\":{\"below\":[{\"id\":\"1011\",\"type\":\"LinearAxis\"}],\"center\":[{\"id\":\"1015\",\"type\":\"Grid\"},{\"id\":\"1020\",\"type\":\"Grid\"}],\"left\":[{\"id\":\"1016\",\"type\":\"LinearAxis\"}],\"plot_height\":250,\"plot_width\":250,\"renderers\":[{\"id\":\"1029\",\"type\":\"GlyphRenderer\"}],\"title\":{\"id\":\"1086\",\"type\":\"Title\"},\"toolbar\":{\"id\":\"1023\",\"type\":\"Toolbar\"},\"toolbar_location\":null,\"x_range\":{\"id\":\"1003\",\"type\":\"DataRange1d\"},\"x_scale\":{\"id\":\"1007\",\"type\":\"LinearScale\"},\"y_range\":{\"id\":\"1005\",\"type\":\"DataRange1d\"},\"y_scale\":{\"id\":\"1009\",\"type\":\"LinearScale\"}},\"id\":\"1002\",\"subtype\":\"Figure\",\"type\":\"Plot\"},{\"attributes\":{\"callback\":null},\"id\":\"1060\",\"type\":\"DataRange1d\"},{\"attributes\":{\"dimension\":1,\"ticker\":{\"id\":\"1017\",\"type\":\"BasicTicker\"}},\"id\":\"1020\",\"type\":\"Grid\"},{\"attributes\":{\"text\":\"\"},\"id\":\"1086\",\"type\":\"Title\"},{\"attributes\":{\"callback\":null,\"data\":{\"x\":[0,1,2,3,4,5,6,7,8,9,10],\"y\":[10,9,8,7,6,5,4,3,2,1,0]},\"selected\":{\"id\":\"1102\",\"type\":\"Selection\"},\"selection_policy\":{\"id\":\"1101\",\"type\":\"UnionRenderers\"}},\"id\":\"1053\",\"type\":\"ColumnDataSource\"},{\"attributes\":{},\"id\":\"1062\",\"type\":\"LinearScale\"},{\"attributes\":{},\"id\":\"1034\",\"type\":\"LinearScale\"},{\"attributes\":{},\"id\":\"1088\",\"type\":\"BasicTickFormatter\"},{\"attributes\":{},\"id\":\"1064\",\"type\":\"LinearScale\"},{\"attributes\":{\"callback\":null,\"data\":{\"x\":[0,1,2,3,4,5,6,7,8,9,10],\"y\":[0,1,2,3,4,5,6,7,8,9,10]},\"selected\":{\"id\":\"1093\",\"type\":\"Selection\"},\"selection_policy\":{\"id\":\"1092\",\"type\":\"UnionRenderers\"}},\"id\":\"1026\",\"type\":\"ColumnDataSource\"},{\"attributes\":{},\"id\":\"1036\",\"type\":\"LinearScale\"},{\"attributes\":{},\"id\":\"1090\",\"type\":\"BasicTickFormatter\"},{\"attributes\":{\"callback\":null},\"id\":\"1005\",\"type\":\"DataRange1d\"},{\"attributes\":{\"formatter\":{\"id\":\"1108\",\"type\":\"BasicTickFormatter\"},\"ticker\":{\"id\":\"1067\",\"type\":\"BasicTicker\"}},\"id\":\"1066\",\"type\":\"LinearAxis\"},{\"attributes\":{\"formatter\":{\"id\":\"1099\",\"type\":\"BasicTickFormatter\"},\"ticker\":{\"id\":\"1039\",\"type\":\"BasicTicker\"}},\"id\":\"1038\",\"type\":\"LinearAxis\"},{\"attributes\":{},\"id\":\"1007\",\"type\":\"LinearScale\"}],\"root_ids\":[\"1116\"]},\"title\":\"Bokeh Application\",\"version\":\"1.1.0\"}};\n",
       "  var render_items = [{\"docid\":\"fe3298b3-d8d7-45a3-a84f-180faf0d08a3\",\"roots\":{\"1116\":\"0933b6f6-6af6-4522-bb18-e50d1ba778b0\"}}];\n",
       "  root.Bokeh.embed.embed_items_notebook(docs_json, render_items);\n",
       "\n",
       "  }\n",
       "  if (root.Bokeh !== undefined) {\n",
       "    embed_document(root);\n",
       "  } else {\n",
       "    var attempts = 0;\n",
       "    var timer = setInterval(function(root) {\n",
       "      if (root.Bokeh !== undefined) {\n",
       "        embed_document(root);\n",
       "        clearInterval(timer);\n",
       "      }\n",
       "      attempts++;\n",
       "      if (attempts > 100) {\n",
       "        console.log(\"Bokeh: ERROR: Unable to run BokehJS code because BokehJS library is missing\");\n",
       "        clearInterval(timer);\n",
       "      }\n",
       "    }, 10, root)\n",
       "  }\n",
       "})(window);"
      ],
      "application/vnd.bokehjs_exec.v0+json": ""
     },
     "metadata": {
      "application/vnd.bokehjs_exec.v0+json": {
       "id": "1116"
      }
     },
     "output_type": "display_data"
    }
   ],
   "source": [
    "from bokeh.layouts import gridplot\n",
    "\n",
    "x = list(range(11))\n",
    "y0, y1, y2 = x, [10-i for i in x], [abs(i-5) for i in x]\n",
    "\n",
    "plot_options = dict(width=250, plot_height=250, tools='pan,wheel_zoom')\n",
    "\n",
    "# create a new plot\n",
    "s1 = figure(**plot_options)\n",
    "s1.circle(x, y0, size=10, color=\"navy\")\n",
    "\n",
    "# create a new plot and share both ranges\n",
    "s2 = figure(x_range=s1.x_range, y_range=s1.y_range, **plot_options)\n",
    "s2.triangle(x, y1, size=10, color=\"firebrick\")\n",
    "\n",
    "# create a new plot and share only one range\n",
    "s3 = figure(x_range=s1.x_range, **plot_options)\n",
    "s3.square(x, y2, size=10, color=\"olive\")\n",
    "\n",
    "p = gridplot([[s1, s2, s3]])\n",
    "\n",
    "# show the results\n",
    "show(p)"
   ]
  },
  {
   "cell_type": "code",
   "execution_count": 3,
   "metadata": {},
   "outputs": [],
   "source": [
    "# EXERCISE: create two plots in a gridplot, and link their ranges\n"
   ]
  },
  {
   "cell_type": "markdown",
   "metadata": {},
   "source": [
    "## Linked brushing\n",
    "\n",
    "Linking selections is accomplished in a similar way, by sharing data sources between plots. Note that normally with ``bokeh.plotting`` and ``bokeh.charts`` creating a default data source for simple plots is handled automatically. However to share a data source, we must create them by hand and pass them explicitly. This is illustrated in the example below:"
   ]
  },
  {
   "cell_type": "code",
   "execution_count": 4,
   "metadata": {},
   "outputs": [
    {
     "data": {
      "text/html": [
       "\n",
       "\n",
       "\n",
       "\n",
       "\n",
       "\n",
       "  <div class=\"bk-root\" id=\"b72453ac-2ade-49f9-acdd-8fcc51b4cb83\" data-root-id=\"1373\"></div>\n"
      ]
     },
     "metadata": {},
     "output_type": "display_data"
    },
    {
     "data": {
      "application/javascript": [
       "(function(root) {\n",
       "  function embed_document(root) {\n",
       "    \n",
       "  var docs_json = {\"92aeee20-bd73-4355-b94d-14fb483f3121\":{\"roots\":{\"references\":[{\"attributes\":{\"children\":[{\"id\":\"1372\",\"type\":\"ToolbarBox\"},{\"id\":\"1370\",\"type\":\"GridBox\"}]},\"id\":\"1373\",\"type\":\"Column\"},{\"attributes\":{\"fill_alpha\":{\"value\":0.5},\"fill_color\":{\"value\":\"lightgrey\"},\"level\":\"overlay\",\"line_alpha\":{\"value\":1.0},\"line_color\":{\"value\":\"black\"},\"line_dash\":[4,4],\"line_width\":{\"value\":2},\"xs_units\":\"screen\",\"ys_units\":\"screen\"},\"id\":\"1366\",\"type\":\"PolyAnnotation\"},{\"attributes\":{\"below\":[{\"id\":\"1295\",\"type\":\"LinearAxis\"}],\"center\":[{\"id\":\"1299\",\"type\":\"Grid\"},{\"id\":\"1304\",\"type\":\"Grid\"}],\"left\":[{\"id\":\"1300\",\"type\":\"LinearAxis\"}],\"plot_height\":300,\"plot_width\":300,\"renderers\":[{\"id\":\"1315\",\"type\":\"GlyphRenderer\"}],\"title\":{\"id\":\"1348\",\"type\":\"Title\"},\"toolbar\":{\"id\":\"1308\",\"type\":\"Toolbar\"},\"toolbar_location\":null,\"x_range\":{\"id\":\"1287\",\"type\":\"DataRange1d\"},\"x_scale\":{\"id\":\"1291\",\"type\":\"LinearScale\"},\"y_range\":{\"id\":\"1289\",\"type\":\"DataRange1d\"},\"y_scale\":{\"id\":\"1293\",\"type\":\"LinearScale\"}},\"id\":\"1286\",\"subtype\":\"Figure\",\"type\":\"Plot\"},{\"attributes\":{\"dimension\":1,\"ticker\":{\"id\":\"1332\",\"type\":\"BasicTicker\"}},\"id\":\"1335\",\"type\":\"Grid\"},{\"attributes\":{\"callback\":null},\"id\":\"1287\",\"type\":\"DataRange1d\"},{\"attributes\":{\"fill_alpha\":{\"value\":0.1},\"fill_color\":{\"value\":\"#1f77b4\"},\"line_alpha\":{\"value\":0.1},\"line_color\":{\"value\":\"#1f77b4\"},\"x\":{\"field\":\"x\"},\"y\":{\"field\":\"y1\"}},\"id\":\"1345\",\"type\":\"Circle\"},{\"attributes\":{\"data_source\":{\"id\":\"1285\",\"type\":\"ColumnDataSource\"},\"glyph\":{\"id\":\"1344\",\"type\":\"Circle\"},\"hover_glyph\":null,\"muted_glyph\":null,\"nonselection_glyph\":{\"id\":\"1345\",\"type\":\"Circle\"},\"selection_glyph\":null,\"view\":{\"id\":\"1347\",\"type\":\"CDSView\"}},\"id\":\"1346\",\"type\":\"GlyphRenderer\"},{\"attributes\":{\"callback\":null,\"data\":{\"x\":[-20,-19,-18,-17,-16,-15,-14,-13,-12,-11,-10,-9,-8,-7,-6,-5,-4,-3,-2,-1,0,1,2,3,4,5,6,7,8,9,10,11,12,13,14,15,16,17,18,19,20],\"y0\":[20,19,18,17,16,15,14,13,12,11,10,9,8,7,6,5,4,3,2,1,0,1,2,3,4,5,6,7,8,9,10,11,12,13,14,15,16,17,18,19,20],\"y1\":[400,361,324,289,256,225,196,169,144,121,100,81,64,49,36,25,16,9,4,1,0,1,4,9,16,25,36,49,64,81,100,121,144,169,196,225,256,289,324,361,400]},\"selected\":{\"id\":\"1357\",\"type\":\"Selection\"},\"selection_policy\":{\"id\":\"1356\",\"type\":\"UnionRenderers\"}},\"id\":\"1285\",\"type\":\"ColumnDataSource\"},{\"attributes\":{\"data_source\":{\"id\":\"1285\",\"type\":\"ColumnDataSource\"},\"glyph\":{\"id\":\"1313\",\"type\":\"Circle\"},\"hover_glyph\":null,\"muted_glyph\":null,\"nonselection_glyph\":{\"id\":\"1314\",\"type\":\"Circle\"},\"selection_glyph\":null,\"view\":{\"id\":\"1316\",\"type\":\"CDSView\"}},\"id\":\"1315\",\"type\":\"GlyphRenderer\"},{\"attributes\":{\"callback\":null},\"id\":\"1289\",\"type\":\"DataRange1d\"},{\"attributes\":{\"callback\":null},\"id\":\"1318\",\"type\":\"DataRange1d\"},{\"attributes\":{\"source\":{\"id\":\"1285\",\"type\":\"ColumnDataSource\"}},\"id\":\"1347\",\"type\":\"CDSView\"},{\"attributes\":{\"source\":{\"id\":\"1285\",\"type\":\"ColumnDataSource\"}},\"id\":\"1316\",\"type\":\"CDSView\"},{\"attributes\":{},\"id\":\"1356\",\"type\":\"UnionRenderers\"},{\"attributes\":{},\"id\":\"1293\",\"type\":\"LinearScale\"},{\"attributes\":{\"ticker\":{\"id\":\"1327\",\"type\":\"BasicTicker\"}},\"id\":\"1330\",\"type\":\"Grid\"},{\"attributes\":{},\"id\":\"1291\",\"type\":\"LinearScale\"},{\"attributes\":{\"text\":\"\"},\"id\":\"1348\",\"type\":\"Title\"},{\"attributes\":{\"fill_color\":{\"value\":\"#1f77b4\"},\"line_color\":{\"value\":\"#1f77b4\"},\"x\":{\"field\":\"x\"},\"y\":{\"field\":\"y0\"}},\"id\":\"1313\",\"type\":\"Circle\"},{\"attributes\":{\"formatter\":{\"id\":\"1361\",\"type\":\"BasicTickFormatter\"},\"ticker\":{\"id\":\"1332\",\"type\":\"BasicTicker\"}},\"id\":\"1331\",\"type\":\"LinearAxis\"},{\"attributes\":{},\"id\":\"1350\",\"type\":\"BasicTickFormatter\"},{\"attributes\":{},\"id\":\"1352\",\"type\":\"BasicTickFormatter\"},{\"attributes\":{\"callback\":null,\"overlay\":{\"id\":\"1354\",\"type\":\"BoxAnnotation\"}},\"id\":\"1305\",\"type\":\"BoxSelectTool\"},{\"attributes\":{},\"id\":\"1332\",\"type\":\"BasicTicker\"},{\"attributes\":{\"active_drag\":\"auto\",\"active_inspect\":\"auto\",\"active_multi\":null,\"active_scroll\":\"auto\",\"active_tap\":\"auto\",\"tools\":[{\"id\":\"1305\",\"type\":\"BoxSelectTool\"},{\"id\":\"1306\",\"type\":\"LassoSelectTool\"},{\"id\":\"1307\",\"type\":\"HelpTool\"}]},\"id\":\"1308\",\"type\":\"Toolbar\"},{\"attributes\":{\"callback\":null,\"overlay\":{\"id\":\"1365\",\"type\":\"BoxAnnotation\"}},\"id\":\"1336\",\"type\":\"BoxSelectTool\"},{\"attributes\":{\"bottom_units\":\"screen\",\"fill_alpha\":{\"value\":0.5},\"fill_color\":{\"value\":\"lightgrey\"},\"left_units\":\"screen\",\"level\":\"overlay\",\"line_alpha\":{\"value\":1.0},\"line_color\":{\"value\":\"black\"},\"line_dash\":[4,4],\"line_width\":{\"value\":2},\"render_mode\":\"css\",\"right_units\":\"screen\",\"top_units\":\"screen\"},\"id\":\"1354\",\"type\":\"BoxAnnotation\"},{\"attributes\":{\"callback\":null,\"overlay\":{\"id\":\"1355\",\"type\":\"PolyAnnotation\"}},\"id\":\"1306\",\"type\":\"LassoSelectTool\"},{\"attributes\":{\"callback\":null},\"id\":\"1320\",\"type\":\"DataRange1d\"},{\"attributes\":{\"fill_color\":{\"value\":\"#1f77b4\"},\"line_color\":{\"value\":\"#1f77b4\"},\"x\":{\"field\":\"x\"},\"y\":{\"field\":\"y1\"}},\"id\":\"1344\",\"type\":\"Circle\"},{\"attributes\":{\"fill_alpha\":{\"value\":0.5},\"fill_color\":{\"value\":\"lightgrey\"},\"level\":\"overlay\",\"line_alpha\":{\"value\":1.0},\"line_color\":{\"value\":\"black\"},\"line_dash\":[4,4],\"line_width\":{\"value\":2},\"xs_units\":\"screen\",\"ys_units\":\"screen\"},\"id\":\"1355\",\"type\":\"PolyAnnotation\"},{\"attributes\":{\"formatter\":{\"id\":\"1352\",\"type\":\"BasicTickFormatter\"},\"ticker\":{\"id\":\"1296\",\"type\":\"BasicTicker\"}},\"id\":\"1295\",\"type\":\"LinearAxis\"},{\"attributes\":{\"dimension\":1,\"ticker\":{\"id\":\"1301\",\"type\":\"BasicTicker\"}},\"id\":\"1304\",\"type\":\"Grid\"},{\"attributes\":{\"formatter\":{\"id\":\"1363\",\"type\":\"BasicTickFormatter\"},\"ticker\":{\"id\":\"1327\",\"type\":\"BasicTicker\"}},\"id\":\"1326\",\"type\":\"LinearAxis\"},{\"attributes\":{},\"id\":\"1357\",\"type\":\"Selection\"},{\"attributes\":{\"active_drag\":\"auto\",\"active_inspect\":\"auto\",\"active_multi\":null,\"active_scroll\":\"auto\",\"active_tap\":\"auto\",\"tools\":[{\"id\":\"1336\",\"type\":\"BoxSelectTool\"},{\"id\":\"1337\",\"type\":\"LassoSelectTool\"},{\"id\":\"1338\",\"type\":\"HelpTool\"}]},\"id\":\"1339\",\"type\":\"Toolbar\"},{\"attributes\":{\"callback\":null,\"overlay\":{\"id\":\"1366\",\"type\":\"PolyAnnotation\"}},\"id\":\"1337\",\"type\":\"LassoSelectTool\"},{\"attributes\":{\"formatter\":{\"id\":\"1350\",\"type\":\"BasicTickFormatter\"},\"ticker\":{\"id\":\"1301\",\"type\":\"BasicTicker\"}},\"id\":\"1300\",\"type\":\"LinearAxis\"},{\"attributes\":{\"text\":\"\"},\"id\":\"1359\",\"type\":\"Title\"},{\"attributes\":{},\"id\":\"1327\",\"type\":\"BasicTicker\"},{\"attributes\":{},\"id\":\"1301\",\"type\":\"BasicTicker\"},{\"attributes\":{},\"id\":\"1361\",\"type\":\"BasicTickFormatter\"},{\"attributes\":{\"children\":[[{\"id\":\"1286\",\"subtype\":\"Figure\",\"type\":\"Plot\"},0,0],[{\"id\":\"1317\",\"subtype\":\"Figure\",\"type\":\"Plot\"},0,1]]},\"id\":\"1370\",\"type\":\"GridBox\"},{\"attributes\":{},\"id\":\"1324\",\"type\":\"LinearScale\"},{\"attributes\":{\"fill_alpha\":{\"value\":0.1},\"fill_color\":{\"value\":\"#1f77b4\"},\"line_alpha\":{\"value\":0.1},\"line_color\":{\"value\":\"#1f77b4\"},\"x\":{\"field\":\"x\"},\"y\":{\"field\":\"y0\"}},\"id\":\"1314\",\"type\":\"Circle\"},{\"attributes\":{},\"id\":\"1363\",\"type\":\"BasicTickFormatter\"},{\"attributes\":{\"ticker\":{\"id\":\"1296\",\"type\":\"BasicTicker\"}},\"id\":\"1299\",\"type\":\"Grid\"},{\"attributes\":{\"bottom_units\":\"screen\",\"fill_alpha\":{\"value\":0.5},\"fill_color\":{\"value\":\"lightgrey\"},\"left_units\":\"screen\",\"level\":\"overlay\",\"line_alpha\":{\"value\":1.0},\"line_color\":{\"value\":\"black\"},\"line_dash\":[4,4],\"line_width\":{\"value\":2},\"render_mode\":\"css\",\"right_units\":\"screen\",\"top_units\":\"screen\"},\"id\":\"1365\",\"type\":\"BoxAnnotation\"},{\"attributes\":{},\"id\":\"1307\",\"type\":\"HelpTool\"},{\"attributes\":{},\"id\":\"1338\",\"type\":\"HelpTool\"},{\"attributes\":{},\"id\":\"1296\",\"type\":\"BasicTicker\"},{\"attributes\":{\"tools\":[{\"id\":\"1305\",\"type\":\"BoxSelectTool\"},{\"id\":\"1306\",\"type\":\"LassoSelectTool\"},{\"id\":\"1307\",\"type\":\"HelpTool\"},{\"id\":\"1336\",\"type\":\"BoxSelectTool\"},{\"id\":\"1337\",\"type\":\"LassoSelectTool\"},{\"id\":\"1338\",\"type\":\"HelpTool\"}]},\"id\":\"1371\",\"type\":\"ProxyToolbar\"},{\"attributes\":{},\"id\":\"1322\",\"type\":\"LinearScale\"},{\"attributes\":{\"below\":[{\"id\":\"1326\",\"type\":\"LinearAxis\"}],\"center\":[{\"id\":\"1330\",\"type\":\"Grid\"},{\"id\":\"1335\",\"type\":\"Grid\"}],\"left\":[{\"id\":\"1331\",\"type\":\"LinearAxis\"}],\"plot_height\":300,\"plot_width\":300,\"renderers\":[{\"id\":\"1346\",\"type\":\"GlyphRenderer\"}],\"title\":{\"id\":\"1359\",\"type\":\"Title\"},\"toolbar\":{\"id\":\"1339\",\"type\":\"Toolbar\"},\"toolbar_location\":null,\"x_range\":{\"id\":\"1318\",\"type\":\"DataRange1d\"},\"x_scale\":{\"id\":\"1322\",\"type\":\"LinearScale\"},\"y_range\":{\"id\":\"1320\",\"type\":\"DataRange1d\"},\"y_scale\":{\"id\":\"1324\",\"type\":\"LinearScale\"}},\"id\":\"1317\",\"subtype\":\"Figure\",\"type\":\"Plot\"},{\"attributes\":{\"toolbar\":{\"id\":\"1371\",\"type\":\"ProxyToolbar\"},\"toolbar_location\":\"above\"},\"id\":\"1372\",\"type\":\"ToolbarBox\"}],\"root_ids\":[\"1373\"]},\"title\":\"Bokeh Application\",\"version\":\"1.1.0\"}};\n",
       "  var render_items = [{\"docid\":\"92aeee20-bd73-4355-b94d-14fb483f3121\",\"roots\":{\"1373\":\"b72453ac-2ade-49f9-acdd-8fcc51b4cb83\"}}];\n",
       "  root.Bokeh.embed.embed_items_notebook(docs_json, render_items);\n",
       "\n",
       "  }\n",
       "  if (root.Bokeh !== undefined) {\n",
       "    embed_document(root);\n",
       "  } else {\n",
       "    var attempts = 0;\n",
       "    var timer = setInterval(function(root) {\n",
       "      if (root.Bokeh !== undefined) {\n",
       "        embed_document(root);\n",
       "        clearInterval(timer);\n",
       "      }\n",
       "      attempts++;\n",
       "      if (attempts > 100) {\n",
       "        console.log(\"Bokeh: ERROR: Unable to run BokehJS code because BokehJS library is missing\");\n",
       "        clearInterval(timer);\n",
       "      }\n",
       "    }, 10, root)\n",
       "  }\n",
       "})(window);"
      ],
      "application/vnd.bokehjs_exec.v0+json": ""
     },
     "metadata": {
      "application/vnd.bokehjs_exec.v0+json": {
       "id": "1373"
      }
     },
     "output_type": "display_data"
    }
   ],
   "source": [
    "from bokeh.models import ColumnDataSource\n",
    "\n",
    "x = list(range(-20, 21))\n",
    "y0, y1 = [abs(xx) for xx in x], [xx**2 for xx in x]\n",
    "\n",
    "# create a column data source for the plots to share\n",
    "source = ColumnDataSource(data=dict(x=x, y0=y0, y1=y1))\n",
    "\n",
    "TOOLS = \"box_select,lasso_select,help\"\n",
    "\n",
    "# create a new plot and add a renderer\n",
    "left = figure(tools=TOOLS, width=300, height=300)\n",
    "left.circle('x', 'y0', source=source)\n",
    "\n",
    "# create another new plot and add a renderer\n",
    "right = figure(tools=TOOLS, width=300, height=300)\n",
    "right.circle('x', 'y1', source=source)\n",
    "\n",
    "p = gridplot([[left, right]])\n",
    "\n",
    "show(p)"
   ]
  },
  {
   "cell_type": "code",
   "execution_count": 5,
   "metadata": {},
   "outputs": [],
   "source": [
    "# EXERCISE: create two plots in a gridplot, and link their data sources\n",
    "\n"
   ]
  },
  {
   "cell_type": "markdown",
   "metadata": {},
   "source": [
    "# Hover Tools\n",
    "\n",
    "Bokeh has a Hover Tool that allows additional information to be displayed in a popup whenever the user hovers over a specific glyph. Basic hover tool configuration amounts to providing a list of ``(name, format)`` tuples. The full details can be found in the User's Guide [here](http://bokeh.pydata.org/en/latest/docs/user_guide/tools.html#hovertool).\n",
    "\n",
    "The example below shows some basic usage of the Hover tool with a circle glyph, using hover information defined in utils.py:"
   ]
  },
  {
   "cell_type": "code",
   "execution_count": 6,
   "metadata": {},
   "outputs": [
    {
     "data": {
      "text/html": [
       "\n",
       "\n",
       "\n",
       "\n",
       "\n",
       "\n",
       "  <div class=\"bk-root\" id=\"656bcf5c-d76f-411b-bfe6-0ee6bf26afba\" data-root-id=\"1528\"></div>\n"
      ]
     },
     "metadata": {},
     "output_type": "display_data"
    },
    {
     "data": {
      "application/javascript": [
       "(function(root) {\n",
       "  function embed_document(root) {\n",
       "    \n",
       "  var docs_json = {\"8365eaf3-08fa-494b-af16-b00adc7b75dc\":{\"roots\":{\"references\":[{\"attributes\":{\"below\":[{\"id\":\"1539\",\"type\":\"LinearAxis\"}],\"center\":[{\"id\":\"1543\",\"type\":\"Grid\"},{\"id\":\"1548\",\"type\":\"Grid\"}],\"left\":[{\"id\":\"1544\",\"type\":\"LinearAxis\"}],\"plot_height\":300,\"plot_width\":300,\"renderers\":[{\"id\":\"1554\",\"type\":\"GlyphRenderer\"}],\"title\":{\"id\":\"1529\",\"type\":\"Title\"},\"toolbar\":{\"id\":\"1549\",\"type\":\"Toolbar\"},\"x_range\":{\"id\":\"1531\",\"type\":\"DataRange1d\"},\"x_scale\":{\"id\":\"1535\",\"type\":\"LinearScale\"},\"y_range\":{\"id\":\"1533\",\"type\":\"DataRange1d\"},\"y_scale\":{\"id\":\"1537\",\"type\":\"LinearScale\"}},\"id\":\"1528\",\"subtype\":\"Figure\",\"type\":\"Plot\"},{\"attributes\":{\"fill_alpha\":{\"value\":0.1},\"fill_color\":{\"value\":\"#1f77b4\"},\"line_alpha\":{\"value\":0.1},\"line_color\":{\"value\":\"#1f77b4\"},\"size\":{\"units\":\"screen\",\"value\":20},\"x\":{\"field\":\"x\"},\"y\":{\"field\":\"y\"}},\"id\":\"1553\",\"type\":\"Circle\"},{\"attributes\":{},\"id\":\"1535\",\"type\":\"LinearScale\"},{\"attributes\":{\"callback\":null,\"data\":{\"desc\":[\"A\",\"b\",\"C\",\"d\",\"E\"],\"x\":[1,2,3,4,5],\"y\":[2,5,8,2,7]},\"selected\":{\"id\":\"1604\",\"type\":\"Selection\"},\"selection_policy\":{\"id\":\"1603\",\"type\":\"UnionRenderers\"}},\"id\":\"1526\",\"type\":\"ColumnDataSource\"},{\"attributes\":{\"data_source\":{\"id\":\"1526\",\"type\":\"ColumnDataSource\"},\"glyph\":{\"id\":\"1552\",\"type\":\"Circle\"},\"hover_glyph\":null,\"muted_glyph\":null,\"nonselection_glyph\":{\"id\":\"1553\",\"type\":\"Circle\"},\"selection_glyph\":null,\"view\":{\"id\":\"1555\",\"type\":\"CDSView\"}},\"id\":\"1554\",\"type\":\"GlyphRenderer\"},{\"attributes\":{\"source\":{\"id\":\"1526\",\"type\":\"ColumnDataSource\"}},\"id\":\"1555\",\"type\":\"CDSView\"},{\"attributes\":{},\"id\":\"1604\",\"type\":\"Selection\"},{\"attributes\":{\"callback\":null,\"tooltips\":[[\"index\",\"$index\"],[\"(x,y)\",\"($x, $y)\"],[\"desc\",\"@desc\"]]},\"id\":\"1527\",\"type\":\"HoverTool\"},{\"attributes\":{},\"id\":\"1599\",\"type\":\"BasicTickFormatter\"},{\"attributes\":{\"callback\":null},\"id\":\"1531\",\"type\":\"DataRange1d\"},{\"attributes\":{},\"id\":\"1601\",\"type\":\"BasicTickFormatter\"},{\"attributes\":{},\"id\":\"1603\",\"type\":\"UnionRenderers\"},{\"attributes\":{\"callback\":null},\"id\":\"1533\",\"type\":\"DataRange1d\"},{\"attributes\":{\"text\":\"Mouse over the dots\"},\"id\":\"1529\",\"type\":\"Title\"},{\"attributes\":{\"fill_color\":{\"value\":\"#1f77b4\"},\"line_color\":{\"value\":\"#1f77b4\"},\"size\":{\"units\":\"screen\",\"value\":20},\"x\":{\"field\":\"x\"},\"y\":{\"field\":\"y\"}},\"id\":\"1552\",\"type\":\"Circle\"},{\"attributes\":{\"active_drag\":\"auto\",\"active_inspect\":\"auto\",\"active_multi\":null,\"active_scroll\":\"auto\",\"active_tap\":\"auto\",\"tools\":[{\"id\":\"1527\",\"type\":\"HoverTool\"}]},\"id\":\"1549\",\"type\":\"Toolbar\"},{\"attributes\":{},\"id\":\"1545\",\"type\":\"BasicTicker\"},{\"attributes\":{\"formatter\":{\"id\":\"1599\",\"type\":\"BasicTickFormatter\"},\"ticker\":{\"id\":\"1545\",\"type\":\"BasicTicker\"}},\"id\":\"1544\",\"type\":\"LinearAxis\"},{\"attributes\":{\"dimension\":1,\"ticker\":{\"id\":\"1545\",\"type\":\"BasicTicker\"}},\"id\":\"1548\",\"type\":\"Grid\"},{\"attributes\":{\"ticker\":{\"id\":\"1540\",\"type\":\"BasicTicker\"}},\"id\":\"1543\",\"type\":\"Grid\"},{\"attributes\":{},\"id\":\"1537\",\"type\":\"LinearScale\"},{\"attributes\":{},\"id\":\"1540\",\"type\":\"BasicTicker\"},{\"attributes\":{\"formatter\":{\"id\":\"1601\",\"type\":\"BasicTickFormatter\"},\"ticker\":{\"id\":\"1540\",\"type\":\"BasicTicker\"}},\"id\":\"1539\",\"type\":\"LinearAxis\"}],\"root_ids\":[\"1528\"]},\"title\":\"Bokeh Application\",\"version\":\"1.1.0\"}};\n",
       "  var render_items = [{\"docid\":\"8365eaf3-08fa-494b-af16-b00adc7b75dc\",\"roots\":{\"1528\":\"656bcf5c-d76f-411b-bfe6-0ee6bf26afba\"}}];\n",
       "  root.Bokeh.embed.embed_items_notebook(docs_json, render_items);\n",
       "\n",
       "  }\n",
       "  if (root.Bokeh !== undefined) {\n",
       "    embed_document(root);\n",
       "  } else {\n",
       "    var attempts = 0;\n",
       "    var timer = setInterval(function(root) {\n",
       "      if (root.Bokeh !== undefined) {\n",
       "        embed_document(root);\n",
       "        clearInterval(timer);\n",
       "      }\n",
       "      attempts++;\n",
       "      if (attempts > 100) {\n",
       "        console.log(\"Bokeh: ERROR: Unable to run BokehJS code because BokehJS library is missing\");\n",
       "        clearInterval(timer);\n",
       "      }\n",
       "    }, 10, root)\n",
       "  }\n",
       "})(window);"
      ],
      "application/vnd.bokehjs_exec.v0+json": ""
     },
     "metadata": {
      "application/vnd.bokehjs_exec.v0+json": {
       "id": "1528"
      }
     },
     "output_type": "display_data"
    }
   ],
   "source": [
    "from bokeh.models import HoverTool\n",
    "\n",
    "source = ColumnDataSource(\n",
    "        data=dict(\n",
    "            x=[1, 2, 3, 4, 5],\n",
    "            y=[2, 5, 8, 2, 7],\n",
    "            desc=['A', 'b', 'C', 'd', 'E'],\n",
    "        )\n",
    "    )\n",
    "\n",
    "hover = HoverTool(\n",
    "        tooltips=[\n",
    "            (\"index\", \"$index\"),\n",
    "            (\"(x,y)\", \"($x, $y)\"),\n",
    "            (\"desc\", \"@desc\"),\n",
    "        ]\n",
    "    )\n",
    "\n",
    "p = figure(plot_width=300, plot_height=300, tools=[hover], title=\"Mouse over the dots\")\n",
    "\n",
    "p.circle('x', 'y', size=20, source=source)\n",
    "\n",
    "show(p)"
   ]
  },
  {
   "cell_type": "markdown",
   "metadata": {},
   "source": [
    "# Widgets"
   ]
  },
  {
   "cell_type": "markdown",
   "metadata": {},
   "source": [
    "Bokeh supports direct integration with a small basic widget set. Thse can be used in conjunction with a Bokeh Server, or with ``CustomJS`` models to add more interactive capability to your documents. You can see a complete list, with example code in the [Adding Widgets](http://bokeh.pydata.org/en/latest/docs/user_guide/interaction.html#adding-widgets) section of the User's Guide. \n",
    "\n",
    "\n",
    "\n",
    "*NOTE: In this Tutorial chapter, we will focus on using widgets with JavaScript callbacks. The Tutorial chapter on Bokeh server applications covers using Bokeh widgets with real Python callbacks*\n",
    "\n",
    "\n",
    "\n",
    "\n",
    "To use the widgets, include them in a layout like you would a plot object:"
   ]
  },
  {
   "cell_type": "code",
   "execution_count": 7,
   "metadata": {},
   "outputs": [
    {
     "data": {
      "text/html": [
       "\n",
       "\n",
       "\n",
       "\n",
       "\n",
       "\n",
       "  <div class=\"bk-root\" id=\"7f1868ca-9fd6-4016-9b98-b5b82689ca39\" data-root-id=\"1648\"></div>\n"
      ]
     },
     "metadata": {},
     "output_type": "display_data"
    },
    {
     "data": {
      "application/javascript": [
       "(function(root) {\n",
       "  function embed_document(root) {\n",
       "    \n",
       "  var docs_json = {\"c4dae45a-b7bf-48af-89f1-d693b9cbeeb6\":{\"roots\":{\"references\":[{\"attributes\":{\"children\":[{\"id\":\"1647\",\"type\":\"Slider\"}]},\"id\":\"1648\",\"type\":\"WidgetBox\"},{\"attributes\":{\"callback\":null,\"end\":10,\"start\":0,\"step\":0.1,\"title\":\"foo\",\"value\":1},\"id\":\"1647\",\"type\":\"Slider\"}],\"root_ids\":[\"1648\"]},\"title\":\"Bokeh Application\",\"version\":\"1.1.0\"}};\n",
       "  var render_items = [{\"docid\":\"c4dae45a-b7bf-48af-89f1-d693b9cbeeb6\",\"roots\":{\"1648\":\"7f1868ca-9fd6-4016-9b98-b5b82689ca39\"}}];\n",
       "  root.Bokeh.embed.embed_items_notebook(docs_json, render_items);\n",
       "\n",
       "  }\n",
       "  if (root.Bokeh !== undefined) {\n",
       "    embed_document(root);\n",
       "  } else {\n",
       "    var attempts = 0;\n",
       "    var timer = setInterval(function(root) {\n",
       "      if (root.Bokeh !== undefined) {\n",
       "        embed_document(root);\n",
       "        clearInterval(timer);\n",
       "      }\n",
       "      attempts++;\n",
       "      if (attempts > 100) {\n",
       "        console.log(\"Bokeh: ERROR: Unable to run BokehJS code because BokehJS library is missing\");\n",
       "        clearInterval(timer);\n",
       "      }\n",
       "    }, 10, root)\n",
       "  }\n",
       "})(window);"
      ],
      "application/vnd.bokehjs_exec.v0+json": ""
     },
     "metadata": {
      "application/vnd.bokehjs_exec.v0+json": {
       "id": "1648"
      }
     },
     "output_type": "display_data"
    }
   ],
   "source": [
    "from bokeh.layouts import widgetbox\n",
    "from bokeh.models.widgets import Slider\n",
    "\n",
    "\n",
    "slider = Slider(start=0, end=10, value=1, step=.1, title=\"foo\")\n",
    "\n",
    "show(widgetbox(slider))"
   ]
  },
  {
   "cell_type": "code",
   "execution_count": 8,
   "metadata": {},
   "outputs": [],
   "source": [
    "# EXERCISE: create and show a Select widget \n"
   ]
  },
  {
   "cell_type": "markdown",
   "metadata": {},
   "source": [
    "# CustomJS Callbacks\n",
    "\n",
    "In order for a widget to be useful, it needs to be able to perform some action. Using the Bokeh server, it is possible to have widgets trigger real Python code. That possibuility will be explored in the Bokeh server chapter of the turorial. Here, we look at how widgets can be configured with `CustomJS` callbacks that execute snippets of JavaScript code. "
   ]
  },
  {
   "cell_type": "code",
   "execution_count": 9,
   "metadata": {},
   "outputs": [
    {
     "data": {
      "text/html": [
       "\n",
       "\n",
       "\n",
       "\n",
       "\n",
       "\n",
       "  <div class=\"bk-root\" id=\"18e9b118-773e-4e17-b3d8-0f7e9b871980\" data-root-id=\"1700\"></div>\n"
      ]
     },
     "metadata": {},
     "output_type": "display_data"
    },
    {
     "data": {
      "application/javascript": [
       "(function(root) {\n",
       "  function embed_document(root) {\n",
       "    \n",
       "  var docs_json = {\"3004585a-0277-4edc-ac0a-0ca04ddaeca7\":{\"roots\":{\"references\":[{\"attributes\":{\"below\":[{\"id\":\"1709\",\"type\":\"LinearAxis\"}],\"center\":[{\"id\":\"1713\",\"type\":\"Grid\"},{\"id\":\"1718\",\"type\":\"Grid\"}],\"left\":[{\"id\":\"1714\",\"type\":\"LinearAxis\"}],\"plot_height\":300,\"renderers\":[{\"id\":\"1724\",\"type\":\"GlyphRenderer\"}],\"title\":{\"id\":\"1775\",\"type\":\"Title\"},\"toolbar\":{\"id\":\"1719\",\"type\":\"Toolbar\"},\"x_range\":{\"id\":\"1701\",\"type\":\"DataRange1d\"},\"x_scale\":{\"id\":\"1705\",\"type\":\"LinearScale\"},\"y_range\":{\"id\":\"1703\",\"type\":\"DataRange1d\"},\"y_scale\":{\"id\":\"1707\",\"type\":\"LinearScale\"}},\"id\":\"1700\",\"subtype\":\"Figure\",\"type\":\"Plot\"},{\"attributes\":{\"source\":{\"id\":\"1721\",\"type\":\"ColumnDataSource\"}},\"id\":\"1725\",\"type\":\"CDSView\"},{\"attributes\":{},\"id\":\"1715\",\"type\":\"BasicTicker\"},{\"attributes\":{\"fill_alpha\":{\"value\":0.1},\"fill_color\":{\"value\":\"#1f77b4\"},\"line_alpha\":{\"value\":0.1},\"line_color\":{\"value\":\"#1f77b4\"},\"size\":{\"units\":\"screen\",\"value\":20},\"x\":{\"field\":\"x\"},\"y\":{\"field\":\"y\"}},\"id\":\"1723\",\"type\":\"Circle\"},{\"attributes\":{\"callback\":null,\"data\":{\"x\":[1,2,3,4,5],\"y\":[2,5,8,2,7]},\"selected\":{\"id\":\"1782\",\"type\":\"Selection\"},\"selection_policy\":{\"id\":\"1781\",\"type\":\"UnionRenderers\"}},\"id\":\"1721\",\"type\":\"ColumnDataSource\"},{\"attributes\":{},\"id\":\"1782\",\"type\":\"Selection\"},{\"attributes\":{\"active_drag\":\"auto\",\"active_inspect\":\"auto\",\"active_multi\":null,\"active_scroll\":\"auto\",\"active_tap\":\"auto\",\"tools\":[{\"id\":\"1699\",\"type\":\"TapTool\"}]},\"id\":\"1719\",\"type\":\"Toolbar\"},{\"attributes\":{\"callback\":{\"id\":\"1698\",\"type\":\"CustomJS\"}},\"id\":\"1699\",\"type\":\"TapTool\"},{\"attributes\":{\"text\":\"\"},\"id\":\"1775\",\"type\":\"Title\"},{\"attributes\":{},\"id\":\"1777\",\"type\":\"BasicTickFormatter\"},{\"attributes\":{},\"id\":\"1779\",\"type\":\"BasicTickFormatter\"},{\"attributes\":{},\"id\":\"1707\",\"type\":\"LinearScale\"},{\"attributes\":{},\"id\":\"1705\",\"type\":\"LinearScale\"},{\"attributes\":{\"formatter\":{\"id\":\"1779\",\"type\":\"BasicTickFormatter\"},\"ticker\":{\"id\":\"1710\",\"type\":\"BasicTicker\"}},\"id\":\"1709\",\"type\":\"LinearAxis\"},{\"attributes\":{\"dimension\":1,\"ticker\":{\"id\":\"1715\",\"type\":\"BasicTicker\"}},\"id\":\"1718\",\"type\":\"Grid\"},{\"attributes\":{\"callback\":null},\"id\":\"1701\",\"type\":\"DataRange1d\"},{\"attributes\":{\"data_source\":{\"id\":\"1721\",\"type\":\"ColumnDataSource\"},\"glyph\":{\"id\":\"1722\",\"type\":\"Circle\"},\"hover_glyph\":null,\"muted_glyph\":null,\"nonselection_glyph\":{\"id\":\"1723\",\"type\":\"Circle\"},\"selection_glyph\":null,\"view\":{\"id\":\"1725\",\"type\":\"CDSView\"}},\"id\":\"1724\",\"type\":\"GlyphRenderer\"},{\"attributes\":{\"callback\":null},\"id\":\"1703\",\"type\":\"DataRange1d\"},{\"attributes\":{\"ticker\":{\"id\":\"1710\",\"type\":\"BasicTicker\"}},\"id\":\"1713\",\"type\":\"Grid\"},{\"attributes\":{},\"id\":\"1710\",\"type\":\"BasicTicker\"},{\"attributes\":{\"formatter\":{\"id\":\"1777\",\"type\":\"BasicTickFormatter\"},\"ticker\":{\"id\":\"1715\",\"type\":\"BasicTicker\"}},\"id\":\"1714\",\"type\":\"LinearAxis\"},{\"attributes\":{\"code\":\"alert('you tapped a circle!')\"},\"id\":\"1698\",\"type\":\"CustomJS\"},{\"attributes\":{},\"id\":\"1781\",\"type\":\"UnionRenderers\"},{\"attributes\":{\"fill_color\":{\"value\":\"#1f77b4\"},\"line_color\":{\"value\":\"#1f77b4\"},\"size\":{\"units\":\"screen\",\"value\":20},\"x\":{\"field\":\"x\"},\"y\":{\"field\":\"y\"}},\"id\":\"1722\",\"type\":\"Circle\"}],\"root_ids\":[\"1700\"]},\"title\":\"Bokeh Application\",\"version\":\"1.1.0\"}};\n",
       "  var render_items = [{\"docid\":\"3004585a-0277-4edc-ac0a-0ca04ddaeca7\",\"roots\":{\"1700\":\"18e9b118-773e-4e17-b3d8-0f7e9b871980\"}}];\n",
       "  root.Bokeh.embed.embed_items_notebook(docs_json, render_items);\n",
       "\n",
       "  }\n",
       "  if (root.Bokeh !== undefined) {\n",
       "    embed_document(root);\n",
       "  } else {\n",
       "    var attempts = 0;\n",
       "    var timer = setInterval(function(root) {\n",
       "      if (root.Bokeh !== undefined) {\n",
       "        embed_document(root);\n",
       "        clearInterval(timer);\n",
       "      }\n",
       "      attempts++;\n",
       "      if (attempts > 100) {\n",
       "        console.log(\"Bokeh: ERROR: Unable to run BokehJS code because BokehJS library is missing\");\n",
       "        clearInterval(timer);\n",
       "      }\n",
       "    }, 10, root)\n",
       "  }\n",
       "})(window);"
      ],
      "application/vnd.bokehjs_exec.v0+json": ""
     },
     "metadata": {
      "application/vnd.bokehjs_exec.v0+json": {
       "id": "1700"
      }
     },
     "output_type": "display_data"
    }
   ],
   "source": [
    "from bokeh.models import TapTool, CustomJS, ColumnDataSource\n",
    "\n",
    "callback = CustomJS(code=\"alert('you tapped a circle!')\")\n",
    "tap = TapTool(callback=callback)\n",
    "\n",
    "p = figure(plot_width=600, plot_height=300, tools=[tap])\n",
    "\n",
    "p.circle(x=[1, 2, 3, 4, 5], y=[2, 5, 8, 2, 7], size=20)\n",
    "\n",
    "show(p)"
   ]
  },
  {
   "cell_type": "markdown",
   "metadata": {},
   "source": [
    "## CustomJS for Property changes\n",
    "\n",
    "Bokeh objects that have values associated can have small JavaScript actions attached to them using the `js_on_change` method. These actions (also referred to as \"callbacks\") are executed whenever the widget's value is changed. In order to make it easier to refer to specific Bokeh models (e.g., a data source, or a glyhph) from JavaScript, the ``CustomJS`` obejct also accepts a dictionary of \"args\" that map names to Python Bokeh models. The corresponding JavaScript models are made available automaticaly to the ``CustomJS`` code:\n",
    "\n",
    "```python\n",
    "CustomJS(args=dict(source=source, slider=slider), code=\"\"\"\n",
    "    // easily refer to BokehJS source and slider objects in this JS code\n",
    "    var data = source.data;\n",
    "    var f = slider.value;\n",
    "\"\"\")\n",
    "```"
   ]
  },
  {
   "cell_type": "markdown",
   "metadata": {},
   "source": [
    "### Slider widget example\n",
    "\n",
    "The example below shows an action attached to a slider that updates a data source whenever the slider is moved.  "
   ]
  },
  {
   "cell_type": "code",
   "execution_count": 10,
   "metadata": {},
   "outputs": [
    {
     "data": {
      "text/html": [
       "\n",
       "\n",
       "\n",
       "\n",
       "\n",
       "\n",
       "  <div class=\"bk-root\" id=\"f684c336-a066-47f3-a3a5-129acbbd6fde\" data-root-id=\"1871\"></div>\n"
      ]
     },
     "metadata": {},
     "output_type": "display_data"
    },
    {
     "data": {
      "application/javascript": [
       "(function(root) {\n",
       "  function embed_document(root) {\n",
       "    \n",
       "  var docs_json = {\"83a7742f-59ea-4695-8155-89f9d62da572\":{\"roots\":{\"references\":[{\"attributes\":{\"children\":[{\"id\":\"1869\",\"type\":\"Slider\"},{\"id\":\"1832\",\"subtype\":\"Figure\",\"type\":\"Plot\"}]},\"id\":\"1871\",\"type\":\"Column\"},{\"attributes\":{\"dimension\":1,\"ticker\":{\"id\":\"1847\",\"type\":\"BasicTicker\"}},\"id\":\"1850\",\"type\":\"Grid\"},{\"attributes\":{\"data_source\":{\"id\":\"1831\",\"type\":\"ColumnDataSource\"},\"glyph\":{\"id\":\"1865\",\"type\":\"Line\"},\"hover_glyph\":null,\"muted_glyph\":null,\"nonselection_glyph\":{\"id\":\"1866\",\"type\":\"Line\"},\"selection_glyph\":null,\"view\":{\"id\":\"1868\",\"type\":\"CDSView\"}},\"id\":\"1867\",\"type\":\"GlyphRenderer\"},{\"attributes\":{\"callback\":null,\"data\":{\"x\":[0.0,0.005,0.01,0.015,0.02,0.025,0.03,0.035,0.04,0.045,0.05,0.055,0.06,0.065,0.07,0.075,0.08,0.085,0.09,0.095,0.1,0.105,0.11,0.115,0.12,0.125,0.13,0.135,0.14,0.145,0.15,0.155,0.16,0.165,0.17,0.17500000000000002,0.18,0.185,0.19,0.195,0.2,0.20500000000000002,0.21,0.215,0.22,0.225,0.23,0.23500000000000001,0.24,0.245,0.25,0.255,0.26,0.265,0.27,0.275,0.28,0.28500000000000003,0.29,0.295,0.3,0.305,0.31,0.315,0.32,0.325,0.33,0.335,0.34,0.34500000000000003,0.35000000000000003,0.355,0.36,0.365,0.37,0.375,0.38,0.385,0.39,0.395,0.4,0.405,0.41000000000000003,0.41500000000000004,0.42,0.425,0.43,0.435,0.44,0.445,0.45,0.455,0.46,0.465,0.47000000000000003,0.47500000000000003,0.48,0.485,0.49,0.495,0.5,0.505,0.51,0.515,0.52,0.525,0.53,0.535,0.54,0.545,0.55,0.555,0.56,0.5650000000000001,0.5700000000000001,0.5750000000000001,0.58,0.585,0.59,0.595,0.6,0.605,0.61,0.615,0.62,0.625,0.63,0.635,0.64,0.645,0.65,0.655,0.66,0.665,0.67,0.675,0.68,0.685,0.6900000000000001,0.6950000000000001,0.7000000000000001,0.705,0.71,0.715,0.72,0.725,0.73,0.735,0.74,0.745,0.75,0.755,0.76,0.765,0.77,0.775,0.78,0.785,0.79,0.795,0.8,0.805,0.81,0.8150000000000001,0.8200000000000001,0.8250000000000001,0.8300000000000001,0.835,0.84,0.845,0.85,0.855,0.86,0.865,0.87,0.875,0.88,0.885,0.89,0.895,0.9,0.905,0.91,0.915,0.92,0.925,0.93,0.935,0.9400000000000001,0.9450000000000001,0.9500000000000001,0.9550000000000001,0.96,0.965,0.97,0.975,0.98,0.985,0.99,0.995,1.0],\"y\":[0.0,0.005,0.01,0.015,0.02,0.025,0.03,0.035,0.04,0.045,0.05,0.055,0.06,0.065,0.07,0.075,0.08,0.085,0.09,0.095,0.1,0.105,0.11,0.115,0.12,0.125,0.13,0.135,0.14,0.145,0.15,0.155,0.16,0.165,0.17,0.17500000000000002,0.18,0.185,0.19,0.195,0.2,0.20500000000000002,0.21,0.215,0.22,0.225,0.23,0.23500000000000001,0.24,0.245,0.25,0.255,0.26,0.265,0.27,0.275,0.28,0.28500000000000003,0.29,0.295,0.3,0.305,0.31,0.315,0.32,0.325,0.33,0.335,0.34,0.34500000000000003,0.35000000000000003,0.355,0.36,0.365,0.37,0.375,0.38,0.385,0.39,0.395,0.4,0.405,0.41000000000000003,0.41500000000000004,0.42,0.425,0.43,0.435,0.44,0.445,0.45,0.455,0.46,0.465,0.47000000000000003,0.47500000000000003,0.48,0.485,0.49,0.495,0.5,0.505,0.51,0.515,0.52,0.525,0.53,0.535,0.54,0.545,0.55,0.555,0.56,0.5650000000000001,0.5700000000000001,0.5750000000000001,0.58,0.585,0.59,0.595,0.6,0.605,0.61,0.615,0.62,0.625,0.63,0.635,0.64,0.645,0.65,0.655,0.66,0.665,0.67,0.675,0.68,0.685,0.6900000000000001,0.6950000000000001,0.7000000000000001,0.705,0.71,0.715,0.72,0.725,0.73,0.735,0.74,0.745,0.75,0.755,0.76,0.765,0.77,0.775,0.78,0.785,0.79,0.795,0.8,0.805,0.81,0.8150000000000001,0.8200000000000001,0.8250000000000001,0.8300000000000001,0.835,0.84,0.845,0.85,0.855,0.86,0.865,0.87,0.875,0.88,0.885,0.89,0.895,0.9,0.905,0.91,0.915,0.92,0.925,0.93,0.935,0.9400000000000001,0.9450000000000001,0.9500000000000001,0.9550000000000001,0.96,0.965,0.97,0.975,0.98,0.985,0.99,0.995,1.0]},\"selected\":{\"id\":\"1936\",\"type\":\"Selection\"},\"selection_policy\":{\"id\":\"1935\",\"type\":\"UnionRenderers\"}},\"id\":\"1831\",\"type\":\"ColumnDataSource\"},{\"attributes\":{\"line_alpha\":0.1,\"line_color\":\"#1f77b4\",\"line_width\":3,\"x\":{\"field\":\"x\"},\"y\":{\"field\":\"y\"}},\"id\":\"1866\",\"type\":\"Line\"},{\"attributes\":{\"below\":[{\"id\":\"1841\",\"type\":\"LinearAxis\"}],\"center\":[{\"id\":\"1845\",\"type\":\"Grid\"},{\"id\":\"1850\",\"type\":\"Grid\"}],\"left\":[{\"id\":\"1846\",\"type\":\"LinearAxis\"}],\"plot_height\":400,\"plot_width\":400,\"renderers\":[{\"id\":\"1867\",\"type\":\"GlyphRenderer\"}],\"title\":{\"id\":\"1929\",\"type\":\"Title\"},\"toolbar\":{\"id\":\"1857\",\"type\":\"Toolbar\"},\"x_range\":{\"id\":\"1833\",\"type\":\"DataRange1d\"},\"x_scale\":{\"id\":\"1837\",\"type\":\"LinearScale\"},\"y_range\":{\"id\":\"1835\",\"type\":\"DataRange1d\"},\"y_scale\":{\"id\":\"1839\",\"type\":\"LinearScale\"}},\"id\":\"1832\",\"subtype\":\"Figure\",\"type\":\"Plot\"},{\"attributes\":{\"source\":{\"id\":\"1831\",\"type\":\"ColumnDataSource\"}},\"id\":\"1868\",\"type\":\"CDSView\"},{\"attributes\":{},\"id\":\"1851\",\"type\":\"PanTool\"},{\"attributes\":{},\"id\":\"1852\",\"type\":\"WheelZoomTool\"},{\"attributes\":{},\"id\":\"1935\",\"type\":\"UnionRenderers\"},{\"attributes\":{},\"id\":\"1839\",\"type\":\"LinearScale\"},{\"attributes\":{\"overlay\":{\"id\":\"1937\",\"type\":\"BoxAnnotation\"}},\"id\":\"1853\",\"type\":\"BoxZoomTool\"},{\"attributes\":{},\"id\":\"1854\",\"type\":\"SaveTool\"},{\"attributes\":{\"ticker\":{\"id\":\"1842\",\"type\":\"BasicTicker\"}},\"id\":\"1845\",\"type\":\"Grid\"},{\"attributes\":{},\"id\":\"1855\",\"type\":\"ResetTool\"},{\"attributes\":{},\"id\":\"1842\",\"type\":\"BasicTicker\"},{\"attributes\":{},\"id\":\"1847\",\"type\":\"BasicTicker\"},{\"attributes\":{},\"id\":\"1856\",\"type\":\"HelpTool\"},{\"attributes\":{\"formatter\":{\"id\":\"1933\",\"type\":\"BasicTickFormatter\"},\"ticker\":{\"id\":\"1842\",\"type\":\"BasicTicker\"}},\"id\":\"1841\",\"type\":\"LinearAxis\"},{\"attributes\":{\"active_drag\":\"auto\",\"active_inspect\":\"auto\",\"active_multi\":null,\"active_scroll\":\"auto\",\"active_tap\":\"auto\",\"tools\":[{\"id\":\"1851\",\"type\":\"PanTool\"},{\"id\":\"1852\",\"type\":\"WheelZoomTool\"},{\"id\":\"1853\",\"type\":\"BoxZoomTool\"},{\"id\":\"1854\",\"type\":\"SaveTool\"},{\"id\":\"1855\",\"type\":\"ResetTool\"},{\"id\":\"1856\",\"type\":\"HelpTool\"}]},\"id\":\"1857\",\"type\":\"Toolbar\"},{\"attributes\":{},\"id\":\"1936\",\"type\":\"Selection\"},{\"attributes\":{\"bottom_units\":\"screen\",\"fill_alpha\":{\"value\":0.5},\"fill_color\":{\"value\":\"lightgrey\"},\"left_units\":\"screen\",\"level\":\"overlay\",\"line_alpha\":{\"value\":1.0},\"line_color\":{\"value\":\"black\"},\"line_dash\":[4,4],\"line_width\":{\"value\":2},\"render_mode\":\"css\",\"right_units\":\"screen\",\"top_units\":\"screen\"},\"id\":\"1937\",\"type\":\"BoxAnnotation\"},{\"attributes\":{\"formatter\":{\"id\":\"1931\",\"type\":\"BasicTickFormatter\"},\"ticker\":{\"id\":\"1847\",\"type\":\"BasicTicker\"}},\"id\":\"1846\",\"type\":\"LinearAxis\"},{\"attributes\":{\"args\":{\"slider\":{\"id\":\"1869\",\"type\":\"Slider\"},\"source\":{\"id\":\"1831\",\"type\":\"ColumnDataSource\"}},\"code\":\"\\n    var data = source.data;\\n    var f = slider.value;\\n    x = data['x']\\n    y = data['y']\\n    for (i = 0; i < x.length; i++) {\\n        y[i] = Math.pow(x[i], f)\\n    }\\n    \\n    // necessary becasue we mutated source.data in-place\\n    source.change.emit();\\n\"},\"id\":\"1870\",\"type\":\"CustomJS\"},{\"attributes\":{\"callback\":null},\"id\":\"1835\",\"type\":\"DataRange1d\"},{\"attributes\":{},\"id\":\"1933\",\"type\":\"BasicTickFormatter\"},{\"attributes\":{},\"id\":\"1931\",\"type\":\"BasicTickFormatter\"},{\"attributes\":{\"callback\":null,\"end\":6,\"js_property_callbacks\":{\"change:value\":[{\"id\":\"1870\",\"type\":\"CustomJS\"}]},\"start\":0.1,\"step\":0.1,\"title\":\"power\",\"value\":1},\"id\":\"1869\",\"type\":\"Slider\"},{\"attributes\":{},\"id\":\"1837\",\"type\":\"LinearScale\"},{\"attributes\":{\"text\":\"\"},\"id\":\"1929\",\"type\":\"Title\"},{\"attributes\":{\"line_alpha\":0.6,\"line_color\":\"#1f77b4\",\"line_width\":3,\"x\":{\"field\":\"x\"},\"y\":{\"field\":\"y\"}},\"id\":\"1865\",\"type\":\"Line\"},{\"attributes\":{\"callback\":null},\"id\":\"1833\",\"type\":\"DataRange1d\"}],\"root_ids\":[\"1871\"]},\"title\":\"Bokeh Application\",\"version\":\"1.1.0\"}};\n",
       "  var render_items = [{\"docid\":\"83a7742f-59ea-4695-8155-89f9d62da572\",\"roots\":{\"1871\":\"f684c336-a066-47f3-a3a5-129acbbd6fde\"}}];\n",
       "  root.Bokeh.embed.embed_items_notebook(docs_json, render_items);\n",
       "\n",
       "  }\n",
       "  if (root.Bokeh !== undefined) {\n",
       "    embed_document(root);\n",
       "  } else {\n",
       "    var attempts = 0;\n",
       "    var timer = setInterval(function(root) {\n",
       "      if (root.Bokeh !== undefined) {\n",
       "        embed_document(root);\n",
       "        clearInterval(timer);\n",
       "      }\n",
       "      attempts++;\n",
       "      if (attempts > 100) {\n",
       "        console.log(\"Bokeh: ERROR: Unable to run BokehJS code because BokehJS library is missing\");\n",
       "        clearInterval(timer);\n",
       "      }\n",
       "    }, 10, root)\n",
       "  }\n",
       "})(window);"
      ],
      "application/vnd.bokehjs_exec.v0+json": ""
     },
     "metadata": {
      "application/vnd.bokehjs_exec.v0+json": {
       "id": "1871"
      }
     },
     "output_type": "display_data"
    }
   ],
   "source": [
    "from bokeh.layouts import column\n",
    "from bokeh.models import CustomJS, ColumnDataSource, Slider\n",
    "\n",
    "x = [x*0.005 for x in range(0, 201)]\n",
    "\n",
    "source = ColumnDataSource(data=dict(x=x, y=x))\n",
    "\n",
    "plot = figure(plot_width=400, plot_height=400)\n",
    "plot.line('x', 'y', source=source, line_width=3, line_alpha=0.6)\n",
    "\n",
    "slider = Slider(start=0.1, end=6, value=1, step=.1, title=\"power\")\n",
    "\n",
    "update_curve = CustomJS(args=dict(source=source, slider=slider), code=\"\"\"\n",
    "    var data = source.data;\n",
    "    var f = slider.value;\n",
    "    x = data['x']\n",
    "    y = data['y']\n",
    "    for (i = 0; i < x.length; i++) {\n",
    "        y[i] = Math.pow(x[i], f)\n",
    "    }\n",
    "    \n",
    "    // necessary becasue we mutated source.data in-place\n",
    "    source.change.emit();\n",
    "\"\"\")\n",
    "slider.js_on_change('value', update_curve)\n",
    "\n",
    "\n",
    "show(column(slider, plot))"
   ]
  },
  {
   "cell_type": "code",
   "execution_count": 11,
   "metadata": {},
   "outputs": [],
   "source": [
    "# Exercise: Create a plot that updates based on a Select widget\n",
    "\n"
   ]
  },
  {
   "cell_type": "markdown",
   "metadata": {},
   "source": [
    "### Data selection example\n",
    "\n",
    "It's also possible to make JavaScript actions that execute whenever a user selection (e.g., box, point, lasso) changes. This is done by attaching the same kind of CustomJS object to whatever data source the selection is made on.\n",
    "\n",
    "The example below is a bit more sophisticated, and demonstrates updating one glyph's data source in response to another glyph's selection: "
   ]
  },
  {
   "cell_type": "code",
   "execution_count": 12,
   "metadata": {},
   "outputs": [
    {
     "data": {
      "text/html": [
       "\n",
       "\n",
       "\n",
       "\n",
       "\n",
       "\n",
       "  <div class=\"bk-root\" id=\"f3031379-4bdb-4fd7-ace3-2c8d979614b2\" data-root-id=\"1993\"></div>\n"
      ]
     },
     "metadata": {},
     "output_type": "display_data"
    },
    {
     "data": {
      "application/javascript": [
       "(function(root) {\n",
       "  function embed_document(root) {\n",
       "    \n",
       "  var docs_json = {\"405bd542-6c57-4212-be86-3a8e186e2927\":{\"roots\":{\"references\":[{\"attributes\":{\"below\":[{\"id\":\"2004\",\"type\":\"LinearAxis\"}],\"center\":[{\"id\":\"2008\",\"type\":\"Grid\"},{\"id\":\"2013\",\"type\":\"Grid\"}],\"left\":[{\"id\":\"2009\",\"type\":\"LinearAxis\"}],\"plot_height\":400,\"plot_width\":400,\"renderers\":[{\"id\":\"2021\",\"type\":\"GlyphRenderer\"},{\"id\":\"2027\",\"type\":\"GlyphRenderer\"}],\"title\":{\"id\":\"1994\",\"type\":\"Title\"},\"toolbar\":{\"id\":\"2015\",\"type\":\"Toolbar\"},\"x_range\":{\"id\":\"1996\",\"type\":\"DataRange1d\"},\"x_scale\":{\"id\":\"2000\",\"type\":\"LinearScale\"},\"y_range\":{\"id\":\"1998\",\"type\":\"DataRange1d\"},\"y_scale\":{\"id\":\"2002\",\"type\":\"LinearScale\"}},\"id\":\"1993\",\"subtype\":\"Figure\",\"type\":\"Plot\"},{\"attributes\":{\"callback\":null,\"overlay\":{\"id\":\"2101\",\"type\":\"PolyAnnotation\"}},\"id\":\"2014\",\"type\":\"LassoSelectTool\"},{\"attributes\":{\"fill_alpha\":{\"value\":0.5},\"fill_color\":{\"value\":\"lightgrey\"},\"level\":\"overlay\",\"line_alpha\":{\"value\":1.0},\"line_color\":{\"value\":\"black\"},\"line_dash\":[4,4],\"line_width\":{\"value\":2},\"xs_units\":\"screen\",\"ys_units\":\"screen\"},\"id\":\"2101\",\"type\":\"PolyAnnotation\"},{\"attributes\":{\"args\":{\"s1\":{\"id\":\"1992\",\"type\":\"ColumnDataSource\"},\"s2\":{\"id\":\"2023\",\"type\":\"ColumnDataSource\"}},\"code\":\"\\n    var inds = s1.selected.indices;\\n    if (inds.length == 0)\\n        return;\\n\\n    var ym = 0\\n    for (var i = 0; i < inds.length; i++) {\\n        ym += s1.data.y[inds[i]]\\n    }\\n    \\n    ym /= inds.length\\n    s2.data.ym = [ym, ym]\\n\\n    // necessary becasue we mutated source.data in-place\\n    s2.change.emit();  \\n\"},\"id\":\"2029\",\"type\":\"CustomJS\"},{\"attributes\":{\"line_alpha\":0.6,\"line_color\":\"orange\",\"line_width\":5,\"x\":{\"field\":\"xm\"},\"y\":{\"field\":\"ym\"}},\"id\":\"2025\",\"type\":\"Line\"},{\"attributes\":{\"callback\":null,\"data\":{\"xm\":[0,1],\"ym\":[0.5,0.5]},\"selected\":{\"id\":\"2105\",\"type\":\"Selection\"},\"selection_policy\":{\"id\":\"2104\",\"type\":\"UnionRenderers\"}},\"id\":\"2023\",\"type\":\"ColumnDataSource\"},{\"attributes\":{\"line_alpha\":0.1,\"line_color\":\"#1f77b4\",\"line_width\":5,\"x\":{\"field\":\"xm\"},\"y\":{\"field\":\"ym\"}},\"id\":\"2026\",\"type\":\"Line\"},{\"attributes\":{\"data_source\":{\"id\":\"2023\",\"type\":\"ColumnDataSource\"},\"glyph\":{\"id\":\"2025\",\"type\":\"Line\"},\"hover_glyph\":null,\"muted_glyph\":null,\"nonselection_glyph\":{\"id\":\"2026\",\"type\":\"Line\"},\"selection_glyph\":null,\"view\":{\"id\":\"2028\",\"type\":\"CDSView\"}},\"id\":\"2027\",\"type\":\"GlyphRenderer\"},{\"attributes\":{\"fill_alpha\":{\"value\":0.4},\"fill_color\":{\"field\":\"color\"},\"line_alpha\":{\"value\":0.4},\"line_color\":{\"field\":\"color\"},\"size\":{\"units\":\"screen\",\"value\":8},\"x\":{\"field\":\"x\"},\"y\":{\"field\":\"y\"}},\"id\":\"2018\",\"type\":\"Circle\"},{\"attributes\":{\"source\":{\"id\":\"2023\",\"type\":\"ColumnDataSource\"}},\"id\":\"2028\",\"type\":\"CDSView\"},{\"attributes\":{\"text\":\"Select Here\"},\"id\":\"1994\",\"type\":\"Title\"},{\"attributes\":{\"callback\":{\"id\":\"2029\",\"type\":\"CustomJS\"},\"data\":{\"color\":[\"navy\",\"navy\",\"navy\",\"navy\",\"navy\",\"navy\",\"navy\",\"navy\",\"navy\",\"navy\",\"navy\",\"navy\",\"navy\",\"navy\",\"navy\",\"navy\",\"navy\",\"navy\",\"navy\",\"navy\",\"navy\",\"navy\",\"navy\",\"navy\",\"navy\",\"navy\",\"navy\",\"navy\",\"navy\",\"navy\",\"navy\",\"navy\",\"navy\",\"navy\",\"navy\",\"navy\",\"navy\",\"navy\",\"navy\",\"navy\",\"navy\",\"navy\",\"navy\",\"navy\",\"navy\",\"navy\",\"navy\",\"navy\",\"navy\",\"navy\",\"navy\",\"navy\",\"navy\",\"navy\",\"navy\",\"navy\",\"navy\",\"navy\",\"navy\",\"navy\",\"navy\",\"navy\",\"navy\",\"navy\",\"navy\",\"navy\",\"navy\",\"navy\",\"navy\",\"navy\",\"navy\",\"navy\",\"navy\",\"navy\",\"navy\",\"navy\",\"navy\",\"navy\",\"navy\",\"navy\",\"navy\",\"navy\",\"navy\",\"navy\",\"navy\",\"navy\",\"navy\",\"navy\",\"navy\",\"navy\",\"navy\",\"navy\",\"navy\",\"navy\",\"navy\",\"navy\",\"navy\",\"navy\",\"navy\",\"navy\",\"navy\",\"navy\",\"navy\",\"navy\",\"navy\",\"navy\",\"navy\",\"navy\",\"navy\",\"navy\",\"navy\",\"navy\",\"navy\",\"navy\",\"navy\",\"navy\",\"navy\",\"navy\",\"navy\",\"navy\",\"navy\",\"navy\",\"navy\",\"navy\",\"navy\",\"navy\",\"navy\",\"navy\",\"navy\",\"navy\",\"navy\",\"navy\",\"navy\",\"navy\",\"navy\",\"navy\",\"navy\",\"navy\",\"navy\",\"navy\",\"navy\",\"navy\",\"navy\",\"navy\",\"navy\",\"navy\",\"navy\",\"navy\",\"navy\",\"navy\",\"navy\",\"navy\",\"navy\",\"navy\",\"navy\",\"navy\",\"navy\",\"navy\",\"navy\",\"navy\",\"navy\",\"navy\",\"navy\",\"navy\",\"navy\",\"navy\",\"navy\",\"navy\",\"navy\",\"navy\",\"navy\",\"navy\",\"navy\",\"navy\",\"navy\",\"navy\",\"navy\",\"navy\",\"navy\",\"navy\",\"navy\",\"navy\",\"navy\",\"navy\",\"navy\",\"navy\",\"navy\",\"navy\",\"navy\",\"navy\",\"navy\",\"navy\",\"navy\",\"navy\",\"navy\",\"navy\",\"navy\",\"navy\",\"navy\",\"navy\",\"navy\",\"navy\",\"navy\",\"navy\",\"navy\",\"navy\",\"navy\",\"navy\",\"navy\",\"navy\",\"navy\",\"navy\",\"navy\",\"navy\",\"navy\",\"navy\",\"navy\",\"navy\",\"navy\",\"navy\",\"navy\",\"navy\",\"navy\",\"navy\",\"navy\",\"navy\",\"navy\",\"navy\",\"navy\",\"navy\",\"navy\",\"navy\",\"navy\",\"navy\",\"navy\",\"navy\",\"navy\",\"navy\",\"navy\",\"navy\",\"navy\",\"navy\",\"navy\",\"navy\",\"navy\",\"navy\",\"navy\",\"navy\",\"navy\",\"navy\",\"navy\",\"navy\",\"navy\",\"navy\",\"navy\",\"navy\",\"navy\",\"navy\",\"navy\",\"navy\",\"navy\",\"navy\",\"navy\",\"navy\",\"navy\",\"navy\",\"navy\",\"navy\",\"navy\",\"navy\",\"navy\",\"navy\",\"navy\",\"navy\",\"navy\",\"navy\",\"navy\",\"navy\",\"navy\",\"navy\",\"navy\",\"navy\",\"navy\",\"navy\",\"navy\",\"navy\",\"navy\",\"navy\",\"navy\",\"navy\",\"navy\",\"navy\",\"navy\",\"navy\",\"navy\",\"navy\",\"navy\",\"navy\",\"navy\",\"navy\",\"navy\",\"navy\",\"navy\",\"navy\",\"navy\",\"navy\",\"navy\",\"navy\",\"navy\",\"navy\",\"navy\",\"navy\",\"navy\",\"navy\",\"navy\",\"navy\",\"navy\",\"navy\",\"navy\",\"navy\",\"navy\",\"navy\",\"navy\",\"navy\",\"navy\",\"navy\",\"navy\",\"navy\",\"navy\",\"navy\",\"navy\",\"navy\",\"navy\",\"navy\",\"navy\",\"navy\",\"navy\",\"navy\",\"navy\",\"navy\",\"navy\",\"navy\",\"navy\",\"navy\",\"navy\",\"navy\",\"navy\",\"navy\",\"navy\",\"navy\",\"navy\",\"navy\",\"navy\",\"navy\",\"navy\",\"navy\",\"navy\",\"navy\",\"navy\",\"navy\",\"navy\",\"navy\",\"navy\",\"navy\",\"navy\",\"navy\",\"navy\",\"navy\",\"navy\",\"navy\",\"navy\",\"navy\",\"navy\",\"navy\",\"navy\",\"navy\",\"navy\",\"navy\",\"navy\",\"navy\",\"navy\",\"navy\",\"navy\",\"navy\",\"navy\",\"navy\",\"navy\",\"navy\",\"navy\",\"navy\",\"navy\",\"navy\",\"navy\",\"navy\",\"navy\",\"navy\",\"navy\",\"navy\",\"navy\",\"navy\",\"navy\",\"navy\",\"navy\",\"navy\",\"navy\",\"navy\",\"navy\",\"navy\",\"navy\",\"navy\",\"navy\",\"navy\",\"navy\",\"navy\",\"navy\",\"navy\",\"navy\",\"navy\",\"navy\",\"navy\",\"navy\",\"navy\",\"navy\",\"navy\",\"navy\",\"navy\",\"navy\",\"navy\",\"navy\",\"navy\",\"navy\",\"navy\",\"navy\",\"navy\",\"navy\",\"navy\",\"navy\",\"navy\",\"navy\",\"navy\",\"navy\",\"navy\",\"navy\",\"navy\",\"navy\",\"navy\",\"navy\",\"navy\",\"navy\",\"navy\",\"navy\",\"navy\",\"navy\",\"navy\",\"navy\",\"navy\",\"navy\",\"navy\",\"navy\",\"navy\",\"navy\",\"navy\",\"navy\",\"navy\",\"navy\",\"navy\",\"navy\",\"navy\",\"navy\",\"navy\",\"navy\",\"navy\",\"navy\",\"navy\",\"navy\",\"navy\",\"navy\",\"navy\",\"navy\",\"navy\",\"navy\",\"navy\",\"navy\",\"navy\",\"navy\",\"navy\",\"navy\",\"navy\",\"navy\",\"navy\",\"navy\",\"navy\",\"navy\",\"navy\",\"navy\",\"navy\",\"navy\",\"navy\",\"navy\",\"navy\"],\"x\":[0.2969953700078716,0.6541568917397619,0.20600673319124851,0.7047988802322733,0.5582151697572749,0.9369698840633314,0.7573363240774295,0.34497463262918426,0.23760676845707063,0.3307872464143211,0.48477641421954076,0.4137204766677455,0.04984712922970613,0.05575705193882907,0.6698350394867411,0.02718276311532597,0.534018164541504,0.22853316993095474,0.020820008103530463,0.8460780468809989,0.6805924647548596,0.38880550490398436,0.39469021714804675,0.3586785078250626,0.0918943364763336,0.973409242840275,0.978356409223183,0.28765478409427936,0.648780110864679,0.8475433877361308,0.20872945133022358,0.03455483609342758,0.46795061140342664,0.15205438502166513,0.5642715292295291,0.58468503905173,0.5221881782295767,0.38401818976380264,0.3443336523730911,0.6696311888526543,0.3445405391583747,0.9992107794599208,0.36824592964806724,0.4736775779788238,0.8634216236458268,0.47005376344639094,0.9087366903387613,0.8207735558522071,0.5209151651285291,0.6054114499576685,0.6711320364510257,0.2631090930972403,0.06364073941002357,0.03474203660766251,0.3043894153346487,0.16134824757202149,0.27800077253318856,0.6293378923358018,0.8106769921378528,0.029983366706383352,0.7671298016785095,0.7967121864404222,0.7908012026491106,0.8211129325603276,0.08113540975015998,0.26618134727487985,0.982374727054309,0.6442077363153824,0.29811038494586406,0.4216665903527801,0.8708903208144076,0.3678289636906559,0.9796593016907537,0.6495634499848096,0.8386569625050474,0.6321429116193213,0.9502655034400032,0.16286594976473212,0.16980342396345494,0.0971694467288573,0.95631613720432,0.899934798159465,0.32325199725533493,0.8165210466734499,0.564188961302184,0.5677664078570175,0.4333796264845985,0.7651971771212079,0.16544859047565463,0.06114775192935451,0.738242703183293,0.3071501933787486,0.7811988154434443,0.5845614282234899,0.18440137729672512,0.04478281039416154,0.04305017813261258,0.09353219850958783,0.787889016355009,0.588935682722014,0.2045425796282737,0.21226198119802508,0.5701142301475627,0.08750590312588036,0.9277600133226028,0.886690066773053,0.6076578393727081,0.8040363652559557,0.5146797107830483,0.40156512326106997,0.26341876256335217,0.04088066151710845,0.8128825648979325,0.5133348967622056,0.6086397325827203,0.9304462313108666,0.6933221041202479,0.8991813840918861,0.8052686113690511,0.1968429727647223,0.3573252620846431,0.5319122017873422,0.5294684519869387,0.9673397765364941,0.011480862061202246,0.19768195481020823,0.5404082135029061,0.7041245916580703,0.6681916162253485,0.8246308796977847,0.8709540291861834,0.014790467219358394,0.4133025037337682,0.37930874545535287,0.850609481402071,0.7812873553355068,0.13785982586150236,0.2963295886694227,0.09510450402245829,0.7052734854027095,0.4180778613423858,0.5535483264091449,0.2610094193210041,0.7449396972196408,0.5183570352999366,0.881821900555954,0.1362942207842015,0.5256115649737965,0.9373804780889675,0.3155116159209702,0.3325906312566651,0.5396095849343119,0.37979075439950827,0.0009215715739312458,0.22944141696143905,0.19646953417899948,0.4269792306186866,0.12940354210888705,0.3053915523174344,0.05186480236556501,0.004175692367544448,0.2859405853351742,0.09471834352045361,0.10545867513192397,0.22555269284021506,0.7249403547459572,0.0545701623295608,0.2279232863645947,0.3256260993257516,0.36432529461818963,0.7054588468955953,0.3849111598779742,0.32773881449028064,0.7296256283146975,0.7168791662871322,0.07075961191400992,0.10761748722462994,0.509052947461268,0.0005783911930652419,0.7278750650033328,0.8019018037051312,0.4393154817839522,0.5943231110876228,0.5309230401953587,0.984634809139373,0.13606908633492232,0.7426246754404668,0.3085958605048159,0.023893086060904567,0.5253649090771336,0.13479791996002033,0.7676966957344681,0.8564128040537412,0.320745230048637,0.9729904348409998,0.5896258509290666,0.26225299148690207,0.15442734706592975,0.6194241226172643,0.6234878660557485,0.5387293716880565,0.13524714845634656,0.7968167196980824,0.20237535866712908,0.05511370966194873,0.14057002696467003,0.7516632412085927,0.9032090379247378,0.16151485844905178,0.11311908585440555,0.5078743983746707,0.23836066195259165,0.8131797583236484,0.9824052271861129,0.2584911586304933,0.26085329283851366,0.2838487399302716,0.6881713008702011,0.6610800519210711,0.70887289625769,0.09518350716607404,0.34058986861357765,0.5018216152908379,0.925401347919742,0.021828274059628505,0.06402543181023912,0.32323984362172986,0.4572379966691873,0.3872614714916893,0.27710310686067174,0.5416684104198104,0.4301331883251903,0.8967864213298489,0.6277061321200819,0.676904177656127,0.2492215139292071,0.38256012110723614,0.45309814557526285,0.5316831241627715,0.950390714808168,0.8070828229082817,0.5406491624221813,0.8557253841109369,0.020795951557932124,0.5004175297620629,0.11909404302431836,0.3023901710278716,0.5450150394586258,0.6555246588181676,0.08567578444748714,0.4910800611128745,0.43892584504317855,0.9977562325807292,0.04047090983733581,0.5091602356615793,0.9960802944581151,0.040350075913121564,0.027684491121286015,0.6657316592760237,0.8422321595199198,0.022927995645217525,0.2256681918175183,0.22203379822592495,0.14575621354879642,0.576541717233119,0.6095604663937946,0.5729914854070619,0.4887482150642588,0.5441478518383143,0.10612958049659904,0.2846328965638365,0.3172771358866985,0.25598797053841804,0.4764458074745648,0.34670185124763375,0.05367971226605739,0.14181617032560734,0.7539472522166342,0.17175698153948327,0.09758392428348162,0.0447200449362396,0.31473059238244605,0.2799271184661368,0.11813271312229634,0.25889290924754005,0.0659596634546552,0.8031073617629021,0.9235286058318773,0.44355832948248264,0.17483483380515097,0.4049059410551623,0.7516692934110077,0.26404215060080616,0.1620228300517661,0.05287217159573154,0.17933386178877198,0.2138317009686701,0.5971118893849958,0.6163637699600508,0.870396088088303,0.3365642150233418,0.7650504176086663,0.5678068318313194,0.07699156386529671,0.584905601089787,0.5580070923420579,0.1335514446527416,0.4144553036952844,0.07910718183063714,0.4400094739124156,0.9632705561507053,0.733131784375619,0.16870011627141013,0.9674506506853948,0.4054580783127586,0.005970359749434717,0.6022076312385481,0.535851280826038,0.8483769765730187,0.7616973071323546,0.014610835079176043,0.9359735173243663,0.25345187968244376,0.5454027065813938,0.48285513101423827,0.931080093270892,0.7921083729357071,0.8496833846654736,0.7629864870898199,0.26299020970141795,0.49470451719521047,0.287916754989353,0.8469691876403417,0.14191639614901064,0.9159384986710651,0.784193791827465,0.09520129200668714,0.5934100351236544,0.6944940647008572,0.6577895069517082,0.09455271210256133,0.7699796636178361,0.4040517385019432,0.8820298289676431,0.5270503799717121,0.17183858809271912,0.12250028223962095,0.2503499347478251,0.00011569962404089917,0.5574586700207342,0.2781632160001869,0.4268405406295329,0.6216373119481269,0.5798747027852633,0.7336546244678056,0.7720490451780913,0.5901120567885065,0.5492609932130512,0.6236271355764595,0.5653523228174536,0.8711400540113363,0.5928116349844754,0.910754680535938,0.8098361453292223,0.3188593825023849,0.0007938304388984685,0.5763838928949432,0.9471235701783928,0.6613802386504655,0.24837019273730954,0.023612255595491627,0.8816925659473865,0.49724184474485345,0.20545461287994593,0.005120070982333913,0.2660804492164557,0.19828954910762286,0.7925125503173144,0.4787859817103186,0.30465896742377496,0.6751236451335825,0.6281471615204598,0.8852727899628325,0.34484689800745727,0.11850509649448848,0.7904838511505556,0.46022995950769763,0.12865570616468192,0.456104142215667,0.025944001242693138,0.010278742603803126,0.7807684471510341,0.7689069305306477,0.3842071760933914,0.7525397465456856,0.5117833979863909,0.2928396759276898,0.521383956178262,0.8187813973235375,0.8130791828532453,0.007660808609236458,0.3866851956043551,0.010410638611275114,0.9602926316296629,0.09772502019920615,0.04507808763436327,0.05281639186250209,0.91758583101152,0.06808458646922155,0.7436680042725137,0.9861276300944567,0.6630431540566571,0.6067190722381904,0.7597418653001676,0.06658437727243538,0.4906292627921093,0.8803448530549502,0.6921146889193146,0.5565707736058271,0.31585638830001983,0.8418533092584218,0.23099532567137093,0.7721642289980629,0.29157035514361684,0.09400954598247835,0.6073357144564527,0.6860020802909167,0.4084509072323702,0.7905339361411157,0.5115764899198207,0.23734026110289974,0.8987596253381636,0.9358582502118964,0.819422249279417,0.3279312464327101,0.2143731247852242,0.6154314704037661,0.9903883567463952,0.7716149686850934,0.7763775164288813,0.8023908487121317,0.37674416098292707,0.48060149157049326,0.2720201148262602,0.09757015995488882,0.7880376724887708,0.8886454700672496,0.9691423725981259,0.43633210832609204,0.6798362791080843,0.5049343069617909,0.6264580859078782,0.005241253515857136,0.5076365010768388,0.7245964859314272,0.31300983052048026,0.3311449578909498,0.9637878830192942,0.7195132063122799,0.8916965770534456,0.8931291773632697,0.8754143329146707,0.2002668040092357,0.013643802409302186,0.8803647670432808,0.3580946466747881,0.2427463765967809,0.880419230567688,0.3568803483363855,0.3064505548145544,0.3970403348433511,0.06964849736890144,0.13086977244093567,0.008320495733699307,0.4531112252369417,0.8662846784087829,0.9184502959407969,0.580946818467959,0.7610879174660278,0.009115204775367314,0.45785881407347884,0.3544874277788833,0.9003397760380649,0.29906160596236786,0.6228303843563647,0.8673405639721313,0.053825144355906906,0.24137686000773573,0.5039330407032522,0.8845923349806928,0.41788217224977553,0.9681478724600296,0.2093782697934624,0.053986840379076084,0.9336958522046084,0.707854994233923,0.3917737445025009,0.6542927465100389,0.05444772139129528,0.032212430518984925],\"y\":[0.04912118589288994,0.8811152971251638,0.8895866513298284,0.20224557830426637,0.3121590366587764,0.42672781612416244,0.9420610072308961,0.5193266245788971,0.42202437810614024,0.34992853151135284,0.0973058122037308,0.22521117202075125,0.018510594847813033,0.5451636152554116,0.5449475906302933,0.43221412587557884,0.8047052267932143,0.8821286928217674,0.7031355603840362,0.6419744365215904,0.07130405930464079,0.9458846656512948,0.46316071075043275,0.376200641959875,0.7796381217970476,0.8284959144929332,0.3113053958190749,0.9968238162971207,0.3336237585772518,0.053711176451071374,0.8059464312556414,0.18962853604006846,0.46402699615175447,0.8214805562115011,0.381155012176308,0.8047743823407469,0.8990449588714498,0.20144822931262463,0.5081817332964204,0.6051144642729648,0.04019801904140696,0.011639876466088772,0.3583396459147443,0.9957769189842873,0.8382076771259513,0.652654800760193,0.6805928860380704,0.7824206304715862,0.4591080275254965,0.3507219376688463,0.9753332852903142,0.35690024013964694,0.3762807449467167,0.22467414973921596,0.3526759595331844,0.4376981965523562,0.6552051750727728,0.7582850010512777,0.11669823319308303,0.31038275105751767,0.19792088134579544,0.9379773097372806,0.23002291596971214,0.3151215297709592,0.18933698287004197,0.35321057811425316,0.8415489245077633,0.867758472613174,0.6391190488996183,0.4255625163908682,0.17432335239095798,0.24358345387197833,0.08513806765028675,0.8660603517310514,0.9420350581546268,0.2868345191709045,0.07842523133425006,0.39617305466938335,0.11862404294540019,0.7039852173950536,0.39302750694234756,0.5597878614173516,0.5510172466799224,0.8406329695987781,0.45202593049560336,0.4540600758417279,0.3446352087925998,0.5938000864691334,0.9547846070814897,0.4262807210821946,0.2800783575332234,0.9479120046890203,0.9100895599857648,0.9986514389568429,0.12385861749374827,0.8489692761012311,0.714647107342755,0.5051959991556977,0.5747997716419594,0.8895111250065276,0.9089757074362914,0.3829750166044614,0.8870797046478416,0.6507415379034764,0.4463231594039121,0.5467647026880921,0.7995913581458048,0.8461221836401022,0.5179270771717123,0.6624305720973972,0.40215188887517905,0.18693233102859919,0.40313252227863305,0.21830574802599045,0.5910922048163745,0.727592032979044,0.3516098477923276,0.5059334858893739,0.7520023471147556,0.8216947925929323,0.06511444703222002,0.6807281873789112,0.32204919027806633,0.32618167988860225,0.4931093525900029,0.37191757115240054,0.019447175235493885,0.09727103282819316,0.8591331167300921,0.4444527637878113,0.5647494511183309,0.947832018413485,0.19425578220310902,0.58946268863215,0.4980268235272053,0.9164338832960511,0.409872894444421,0.61932813208055,0.252559757633811,0.046857723716552835,0.08555678811604883,0.6997376711173893,0.19601515722252105,0.8630375937724004,0.4892911919386499,0.461198168432141,0.2247298518549169,0.8169973336947564,0.8041559800110276,0.47760940613489455,0.4712789937398979,0.03961674019136985,0.258420758726704,0.0803360873893244,0.7205498221612057,0.761365358914988,0.22992859053200676,0.2797068727008083,0.13375122830982045,0.8258883689440052,0.6582972732112277,0.5161128018907821,0.47464077131818827,0.33824493605590067,0.2817140521295357,0.3775539635098196,0.16650762814146858,0.8682247023401655,0.5526798161016998,0.274503316665879,0.954195429451906,0.42863366301844463,0.41529742449788987,0.9243066576105742,0.3346371831838958,0.8375956277573392,0.03439756577361097,0.04765178518343616,0.7774477261696439,0.6355098897191149,0.09042466038553165,0.13780112713104586,0.7783607378044951,0.8016227951918452,0.21282797680604948,0.7065877104883711,0.6684057333512662,0.798305982734097,0.9047228684866883,0.28337207023002153,0.6609256669047867,0.8624722402617414,0.990572063402248,0.32898446631598066,0.08614380324200566,0.9021502176760091,0.3468204697760665,0.5428857399152909,0.25997122081063184,0.789698341306424,0.22972691082201635,0.3277681096034354,0.5814370741162598,0.23750531606966485,0.5147509874097741,0.871278341018861,0.10747474199885121,0.45148969771400493,0.30465257431905557,0.1770086111580509,0.34983795060416145,0.7088837151845014,0.7437254144902741,0.34807965641768557,0.30175831165219547,0.034428340377954725,0.5276122796219619,0.17541767084392357,0.16754700345327478,0.8763465640827564,0.9019905271386035,0.1705677351797268,0.3968789647717188,0.5760091630945363,0.6358074208052938,0.43160643522530207,0.26230850352337387,0.5120989558128713,0.13292928009967675,0.4370585208972404,0.7874439472192174,0.46662112651761534,0.9667664235190612,0.81247214467412,0.014895486182929574,0.8569515019032108,0.4616359303769685,0.2557137743642045,0.8857795819781913,0.897159772942849,0.5240821201690271,0.45844050110184587,0.34330852365786846,0.8747268632255055,0.648405244454599,0.8340983043744599,0.3936146676040593,0.050688159752155015,0.29693752787812366,0.26366000109381504,0.6298702454775885,0.6243388585617288,0.16757564788883172,0.5321722934595329,0.7772335709212458,0.3644423824048638,0.8946336129842382,0.6455907297979396,0.7968070438964721,0.692271678307736,0.43805672907560067,0.6867528263616247,0.9424865236781311,0.47022623053457246,0.5793570197377238,0.26840448182999277,0.22780845747708045,0.41758291454283514,0.798178965092179,0.49269340845370657,0.6050138792030257,0.491964663209558,0.6143252164182049,0.3215222144349634,0.3701776069003083,0.5144580090677143,0.4588955976397944,0.13643466773108393,0.02176882686634629,0.5215490411572221,0.318509731448427,0.5548180667972727,0.7357649826256325,0.5784780639199132,0.8517220918774445,0.2741080989715412,0.28649373734754435,0.02098114278263208,0.19043454236410928,0.6144852366685424,0.514994046578731,0.5500194903677023,0.561216658661812,0.9757346541059414,0.048312117695865964,0.7295453494517093,0.9393485103279137,0.3981845671234815,0.8724480460528278,0.7377597751010403,0.9183263287491926,0.11063652977697436,0.6644111822126443,0.5251596273907109,0.04462783246211344,0.7755649178255044,0.826539550357339,0.3784279734987238,0.9420566368047717,0.8911179597099378,0.9471498099233141,0.7979909124374827,0.42047534588149416,0.7895769974158796,0.46434555270403033,0.4158603336928498,0.4687261118729952,0.5304480304526221,0.5020773838893057,0.608836631355782,0.2410979542935754,0.4058648980982067,0.03607668782240814,0.6506475897484776,0.8104350956427996,0.08838929769861081,0.3539962886917014,0.4488017219555007,0.3778708396572037,0.4510202359860839,0.01878308804238704,0.9166146538912583,0.9133913837640745,0.6264736898005038,0.09966065600642049,0.894476985673572,0.16216805106729804,0.2512771820101247,0.432022651497196,0.7231570185729658,0.47074244540643584,0.9744367340085643,0.8956380117412339,0.3502760386866407,0.240720689477395,0.9479444578472316,0.11758255834355236,0.4833329939160885,0.4484922434074706,0.7466859764806761,0.777156632920791,0.9142602484715248,0.8810236315822777,0.30379634677805656,0.8030280330380322,0.11836461532917664,0.5164011956406339,0.8050161536996601,0.2650734623951728,0.5723664119776349,0.15920984123752158,0.036547635043575055,0.4845602774610389,0.4117639124001812,0.9543860679168977,0.5623477175603973,0.6213543839845331,0.35573966587600003,0.8214248523969245,0.7125660545819131,0.8006491114749351,0.7294168418932622,0.9796464243076733,0.3710396290501692,0.3798236630048326,0.41460285932790464,0.4428293493593276,0.439265144637467,0.40998922776765523,0.8573489497042738,0.8658841668914036,0.6816898730296724,0.1445901364970491,0.6328291607285523,0.4277276076329265,0.37191527598448015,0.42052850029375377,0.996612210742138,0.834399631875297,0.15986565846618417,0.060444736604134186,0.16780328841842063,0.9020239751534025,0.4550483898740799,0.25859559161951884,0.47208907516969856,0.5097537794986672,0.7803216903145014,0.8488919987042378,0.1768524968270151,0.054947831720626894,0.2915159764221267,0.4050190812540517,0.37113838821914424,0.8755346526147134,0.09755308427553933,0.041726284667950364,0.700402515895024,0.9518192047572883,0.4409760279854068,0.7389934140895522,0.030780262635748068,0.7708322386803671,0.8052677994472665,0.5575537532071272,0.5901745752421308,0.288391572370316,0.91301219834966,0.09993221559804644,0.9907931376355784,0.5252598976019082,0.3859295687426503,0.968766975901361,0.4689627915418292,0.6964997782422355,0.3532987024860418,0.7512301684849857,0.12915626357902332,0.018107847073889127,0.387236223280808,0.012783797311567868,0.7328412272479724,0.31790808530641523,0.6096516783335033,0.556584784234186,0.5038444314885846,0.9990875722724165,0.8621536881278531,0.5051671507084905,0.45303615164371425,0.3670692639423637,0.5301419071438296,0.64363898147375,0.15023829430551583,0.4395457724975078,0.8053087981339421,0.3900370986548709,0.5634169252151792,0.2565742527730934,0.3836929897897301,0.8866600349052998,0.12011603223186729,0.6422176997148251,0.46233542542488537,0.0794739506609683,0.7933757682526479,0.2884130738784477,0.493387493100655,0.8958001379111433,0.5707796098536021,0.48324943503464834,0.1436182676158273,0.018557714791106017,0.20070507015197148,0.8378580652079761,0.9343117287079454,0.34426628915246227,0.7851449800376447,0.05062310599659803,0.8549022870859619,0.43567321785515767,0.11827707190903669,0.0031579201778957344,0.22797123504041017,0.7122092035471291,0.9123432539892398,0.1531994357423192,0.6963009540028671,0.21191480761071158,0.45988653695045156,0.800260844580269,0.4047614691017708,0.24769894571831919,0.2749106086117611,0.22062265666692227,0.6740690778815615,0.6578483558673304,0.9276154522110274,0.30332805312577427,0.3238452112216774,0.8921078610303441,0.2667097627497289,0.7561001979153399,0.9824034249859657,0.151483120192758,0.35709908707378013,0.7460046182818532,0.43944392685538813,0.5049590566942358,0.41091219640957277]},\"selected\":{\"id\":\"2103\",\"type\":\"Selection\"},\"selection_policy\":{\"id\":\"2102\",\"type\":\"UnionRenderers\"}},\"id\":\"1992\",\"type\":\"ColumnDataSource\"},{\"attributes\":{\"data_source\":{\"id\":\"1992\",\"type\":\"ColumnDataSource\"},\"glyph\":{\"id\":\"2018\",\"type\":\"Circle\"},\"hover_glyph\":null,\"muted_glyph\":null,\"nonselection_glyph\":{\"id\":\"2019\",\"type\":\"Circle\"},\"selection_glyph\":{\"id\":\"2020\",\"type\":\"Circle\"},\"view\":{\"id\":\"2022\",\"type\":\"CDSView\"}},\"id\":\"2021\",\"type\":\"GlyphRenderer\"},{\"attributes\":{\"callback\":null},\"id\":\"1996\",\"type\":\"DataRange1d\"},{\"attributes\":{\"callback\":null},\"id\":\"1998\",\"type\":\"DataRange1d\"},{\"attributes\":{},\"id\":\"2102\",\"type\":\"UnionRenderers\"},{\"attributes\":{},\"id\":\"2000\",\"type\":\"LinearScale\"},{\"attributes\":{\"source\":{\"id\":\"1992\",\"type\":\"ColumnDataSource\"}},\"id\":\"2022\",\"type\":\"CDSView\"},{\"attributes\":{},\"id\":\"2103\",\"type\":\"Selection\"},{\"attributes\":{},\"id\":\"2002\",\"type\":\"LinearScale\"},{\"attributes\":{},\"id\":\"2104\",\"type\":\"UnionRenderers\"},{\"attributes\":{\"active_drag\":\"auto\",\"active_inspect\":\"auto\",\"active_multi\":null,\"active_scroll\":\"auto\",\"active_tap\":\"auto\",\"tools\":[{\"id\":\"2014\",\"type\":\"LassoSelectTool\"}]},\"id\":\"2015\",\"type\":\"Toolbar\"},{\"attributes\":{\"formatter\":{\"id\":\"2099\",\"type\":\"BasicTickFormatter\"},\"ticker\":{\"id\":\"2005\",\"type\":\"BasicTicker\"}},\"id\":\"2004\",\"type\":\"LinearAxis\"},{\"attributes\":{},\"id\":\"2105\",\"type\":\"Selection\"},{\"attributes\":{\"fill_alpha\":{\"value\":0.4},\"fill_color\":{\"value\":\"firebrick\"},\"line_alpha\":{\"value\":0.4},\"line_color\":{\"value\":\"firebrick\"},\"size\":{\"units\":\"screen\",\"value\":8},\"x\":{\"field\":\"x\"},\"y\":{\"field\":\"y\"}},\"id\":\"2020\",\"type\":\"Circle\"},{\"attributes\":{},\"id\":\"2005\",\"type\":\"BasicTicker\"},{\"attributes\":{\"ticker\":{\"id\":\"2005\",\"type\":\"BasicTicker\"}},\"id\":\"2008\",\"type\":\"Grid\"},{\"attributes\":{},\"id\":\"2099\",\"type\":\"BasicTickFormatter\"},{\"attributes\":{\"formatter\":{\"id\":\"2097\",\"type\":\"BasicTickFormatter\"},\"ticker\":{\"id\":\"2010\",\"type\":\"BasicTicker\"}},\"id\":\"2009\",\"type\":\"LinearAxis\"},{\"attributes\":{\"fill_alpha\":{\"value\":0.1},\"fill_color\":{\"value\":\"#1f77b4\"},\"line_alpha\":{\"value\":0.1},\"line_color\":{\"value\":\"#1f77b4\"},\"size\":{\"units\":\"screen\",\"value\":8},\"x\":{\"field\":\"x\"},\"y\":{\"field\":\"y\"}},\"id\":\"2019\",\"type\":\"Circle\"},{\"attributes\":{},\"id\":\"2010\",\"type\":\"BasicTicker\"},{\"attributes\":{},\"id\":\"2097\",\"type\":\"BasicTickFormatter\"},{\"attributes\":{\"dimension\":1,\"ticker\":{\"id\":\"2010\",\"type\":\"BasicTicker\"}},\"id\":\"2013\",\"type\":\"Grid\"}],\"root_ids\":[\"1993\"]},\"title\":\"Bokeh Application\",\"version\":\"1.1.0\"}};\n",
       "  var render_items = [{\"docid\":\"405bd542-6c57-4212-be86-3a8e186e2927\",\"roots\":{\"1993\":\"f3031379-4bdb-4fd7-ace3-2c8d979614b2\"}}];\n",
       "  root.Bokeh.embed.embed_items_notebook(docs_json, render_items);\n",
       "\n",
       "  }\n",
       "  if (root.Bokeh !== undefined) {\n",
       "    embed_document(root);\n",
       "  } else {\n",
       "    var attempts = 0;\n",
       "    var timer = setInterval(function(root) {\n",
       "      if (root.Bokeh !== undefined) {\n",
       "        embed_document(root);\n",
       "        clearInterval(timer);\n",
       "      }\n",
       "      attempts++;\n",
       "      if (attempts > 100) {\n",
       "        console.log(\"Bokeh: ERROR: Unable to run BokehJS code because BokehJS library is missing\");\n",
       "        clearInterval(timer);\n",
       "      }\n",
       "    }, 10, root)\n",
       "  }\n",
       "})(window);"
      ],
      "application/vnd.bokehjs_exec.v0+json": ""
     },
     "metadata": {
      "application/vnd.bokehjs_exec.v0+json": {
       "id": "1993"
      }
     },
     "output_type": "display_data"
    }
   ],
   "source": [
    "from random import random\n",
    "\n",
    "x = [random() for x in range(500)]\n",
    "y = [random() for y in range(500)]\n",
    "color = [\"navy\"] * len(x)\n",
    "\n",
    "s1 = ColumnDataSource(data=dict(x=x, y=y, color=color))\n",
    "p = figure(plot_width=400, plot_height=400, tools=\"lasso_select\", title=\"Select Here\")\n",
    "p.circle('x', 'y', color='color', size=8, alpha=0.4, source=s1, \n",
    "         selection_color=\"firebrick\", selection_alpha=0.4)\n",
    "\n",
    "s2 = ColumnDataSource(data=dict(xm=[0,1],ym=[0.5, 0.5]))\n",
    "p.line(x='xm', y='ym', color=\"orange\", line_width=5, alpha=0.6, source=s2)\n",
    "\n",
    "s1.callback = CustomJS(args=dict(s1=s1, s2=s2), code=\"\"\"\n",
    "    var inds = s1.selected.indices;\n",
    "    if (inds.length == 0)\n",
    "        return;\n",
    "\n",
    "    var ym = 0\n",
    "    for (var i = 0; i < inds.length; i++) {\n",
    "        ym += s1.data.y[inds[i]]\n",
    "    }\n",
    "    \n",
    "    ym /= inds.length\n",
    "    s2.data.ym = [ym, ym]\n",
    "\n",
    "    // necessary becasue we mutated source.data in-place\n",
    "    s2.change.emit();  \n",
    "\"\"\")\n",
    "\n",
    "show(p)"
   ]
  },
  {
   "cell_type": "code",
   "execution_count": 13,
   "metadata": {},
   "outputs": [],
   "source": [
    "# Exercise: Experiment with selection callbacks\n",
    "\n"
   ]
  },
  {
   "cell_type": "markdown",
   "metadata": {
    "collapsed": true
   },
   "source": [
    "## CustomJS for UI Events\n",
    "\n",
    "Bokeh also has a general events system\n",
    "\n",
    "All of the available UI events, and their properties, are listed in the Reference Guide section for [bokeh.events](https://bokeh.pydata.org/en/latest/docs/reference/events.html)"
   ]
  },
  {
   "cell_type": "code",
   "execution_count": 16,
   "metadata": {},
   "outputs": [
    {
     "data": {
      "text/html": [
       "\n",
       "\n",
       "\n",
       "\n",
       "\n",
       "\n",
       "  <div class=\"bk-root\" id=\"7f74880c-aa9c-44d8-a8b2-23c59c5f5f9a\" data-root-id=\"2368\"></div>\n"
      ]
     },
     "metadata": {},
     "output_type": "display_data"
    },
    {
     "data": {
      "application/javascript": [
       "(function(root) {\n",
       "  function embed_document(root) {\n",
       "    \n",
       "  var docs_json = {\"0159a91b-577e-4691-9f6e-41ae2a086840\":{\"roots\":{\"references\":[{\"attributes\":{\"children\":[{\"id\":\"2366\",\"type\":\"Button\"},{\"id\":\"2367\",\"type\":\"Row\"}]},\"id\":\"2368\",\"type\":\"Column\"},{\"attributes\":{},\"id\":\"2348\",\"type\":\"BasicTicker\"},{\"attributes\":{\"callback\":null,\"icon\":null,\"js_event_callbacks\":{\"button_click\":[{\"id\":\"2369\",\"type\":\"CustomJS\"}]},\"width\":300},\"id\":\"2366\",\"type\":\"Button\"},{\"attributes\":{\"source\":{\"id\":\"2360\",\"type\":\"ColumnDataSource\"}},\"id\":\"2364\",\"type\":\"CDSView\"},{\"attributes\":{},\"id\":\"2458\",\"type\":\"BasicTickFormatter\"},{\"attributes\":{\"fill_alpha\":{\"value\":0.1},\"fill_color\":{\"value\":\"#1f77b4\"},\"line_alpha\":{\"value\":0.1},\"line_color\":{\"value\":\"#1f77b4\"},\"radius\":{\"units\":\"data\",\"value\":1},\"x\":{\"field\":\"x\"},\"y\":{\"field\":\"y\"}},\"id\":\"2362\",\"type\":\"Circle\"},{\"attributes\":{\"fill_alpha\":{\"value\":0.6},\"fill_color\":{\"value\":\"#1f77b4\"},\"line_color\":{\"value\":null},\"radius\":{\"units\":\"data\",\"value\":1},\"x\":{\"field\":\"x\"},\"y\":{\"field\":\"y\"}},\"id\":\"2361\",\"type\":\"Circle\"},{\"attributes\":{\"callback\":null,\"data\":{\"x\":{\"__ndarray__\":\"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\",\"dtype\":\"float64\",\"shape\":[2000]},\"y\":{\"__ndarray__\":\"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\",\"dtype\":\"float64\",\"shape\":[2000]}},\"selected\":{\"id\":\"2464\",\"type\":\"Selection\"},\"selection_policy\":{\"id\":\"2463\",\"type\":\"UnionRenderers\"}},\"id\":\"2360\",\"type\":\"ColumnDataSource\"},{\"attributes\":{\"data_source\":{\"id\":\"2360\",\"type\":\"ColumnDataSource\"},\"glyph\":{\"id\":\"2361\",\"type\":\"Circle\"},\"hover_glyph\":null,\"muted_glyph\":null,\"nonselection_glyph\":{\"id\":\"2362\",\"type\":\"Circle\"},\"selection_glyph\":null,\"view\":{\"id\":\"2364\",\"type\":\"CDSView\"}},\"id\":\"2363\",\"type\":\"GlyphRenderer\"},{\"attributes\":{\"bottom_units\":\"screen\",\"fill_alpha\":{\"value\":0.5},\"fill_color\":{\"value\":\"lightgrey\"},\"left_units\":\"screen\",\"level\":\"overlay\",\"line_alpha\":{\"value\":1.0},\"line_color\":{\"value\":\"black\"},\"line_dash\":[4,4],\"line_width\":{\"value\":2},\"render_mode\":\"css\",\"right_units\":\"screen\",\"top_units\":\"screen\"},\"id\":\"2462\",\"type\":\"BoxAnnotation\"},{\"attributes\":{},\"id\":\"2345\",\"type\":\"LinearScale\"},{\"attributes\":{\"dimension\":1,\"ticker\":{\"id\":\"2353\",\"type\":\"BasicTicker\"}},\"id\":\"2356\",\"type\":\"Grid\"},{\"attributes\":{\"active_drag\":\"auto\",\"active_inspect\":\"auto\",\"active_multi\":null,\"active_scroll\":\"auto\",\"active_tap\":\"auto\",\"tools\":[{\"id\":\"2357\",\"type\":\"BoxSelectTool\"}]},\"id\":\"2358\",\"type\":\"Toolbar\"},{\"attributes\":{\"callback\":null,\"overlay\":{\"id\":\"2462\",\"type\":\"BoxAnnotation\"}},\"id\":\"2357\",\"type\":\"BoxSelectTool\"},{\"attributes\":{\"callback\":null},\"id\":\"2341\",\"type\":\"DataRange1d\"},{\"attributes\":{},\"id\":\"2353\",\"type\":\"BasicTicker\"},{\"attributes\":{\"args\":{\"div\":{\"id\":\"2365\",\"type\":\"Div\"}},\"code\":\"\\ndiv.text = \\\"Button!\\\";\\n\"},\"id\":\"2369\",\"type\":\"CustomJS\"},{\"attributes\":{\"callback\":null},\"id\":\"2339\",\"type\":\"DataRange1d\"},{\"attributes\":{},\"id\":\"2343\",\"type\":\"LinearScale\"},{\"attributes\":{\"ticker\":{\"id\":\"2348\",\"type\":\"BasicTicker\"}},\"id\":\"2351\",\"type\":\"Grid\"},{\"attributes\":{\"width\":400},\"id\":\"2365\",\"type\":\"Div\"},{\"attributes\":{\"formatter\":{\"id\":\"2458\",\"type\":\"BasicTickFormatter\"},\"ticker\":{\"id\":\"2353\",\"type\":\"BasicTicker\"}},\"id\":\"2352\",\"type\":\"LinearAxis\"},{\"attributes\":{\"children\":[{\"id\":\"2338\",\"subtype\":\"Figure\",\"type\":\"Plot\"},{\"id\":\"2365\",\"type\":\"Div\"}]},\"id\":\"2367\",\"type\":\"Row\"},{\"attributes\":{\"below\":[{\"id\":\"2347\",\"type\":\"LinearAxis\"}],\"center\":[{\"id\":\"2351\",\"type\":\"Grid\"},{\"id\":\"2356\",\"type\":\"Grid\"}],\"js_event_callbacks\":{\"selectiongeometry\":[{\"id\":\"2370\",\"type\":\"CustomJS\"}]},\"left\":[{\"id\":\"2352\",\"type\":\"LinearAxis\"}],\"renderers\":[{\"id\":\"2363\",\"type\":\"GlyphRenderer\"}],\"title\":{\"id\":\"2456\",\"type\":\"Title\"},\"toolbar\":{\"id\":\"2358\",\"type\":\"Toolbar\"},\"x_range\":{\"id\":\"2339\",\"type\":\"DataRange1d\"},\"x_scale\":{\"id\":\"2343\",\"type\":\"LinearScale\"},\"y_range\":{\"id\":\"2341\",\"type\":\"DataRange1d\"},\"y_scale\":{\"id\":\"2345\",\"type\":\"LinearScale\"}},\"id\":\"2338\",\"subtype\":\"Figure\",\"type\":\"Plot\"},{\"attributes\":{},\"id\":\"2460\",\"type\":\"BasicTickFormatter\"},{\"attributes\":{\"text\":\"\"},\"id\":\"2456\",\"type\":\"Title\"},{\"attributes\":{},\"id\":\"2464\",\"type\":\"Selection\"},{\"attributes\":{},\"id\":\"2463\",\"type\":\"UnionRenderers\"},{\"attributes\":{\"args\":{\"div\":{\"id\":\"2365\",\"type\":\"Div\"}},\"code\":\"\\ndiv.text = \\\"Selection! <p> <p>\\\" + JSON.stringify(cb_obj.geometry, undefined, 2);\\n\"},\"id\":\"2370\",\"type\":\"CustomJS\"},{\"attributes\":{\"formatter\":{\"id\":\"2460\",\"type\":\"BasicTickFormatter\"},\"ticker\":{\"id\":\"2348\",\"type\":\"BasicTicker\"}},\"id\":\"2347\",\"type\":\"LinearAxis\"}],\"root_ids\":[\"2368\"]},\"title\":\"Bokeh Application\",\"version\":\"1.1.0\"}};\n",
       "  var render_items = [{\"docid\":\"0159a91b-577e-4691-9f6e-41ae2a086840\",\"roots\":{\"2368\":\"7f74880c-aa9c-44d8-a8b2-23c59c5f5f9a\"}}];\n",
       "  root.Bokeh.embed.embed_items_notebook(docs_json, render_items);\n",
       "\n",
       "  }\n",
       "  if (root.Bokeh !== undefined) {\n",
       "    embed_document(root);\n",
       "  } else {\n",
       "    var attempts = 0;\n",
       "    var timer = setInterval(function(root) {\n",
       "      if (root.Bokeh !== undefined) {\n",
       "        embed_document(root);\n",
       "        clearInterval(timer);\n",
       "      }\n",
       "      attempts++;\n",
       "      if (attempts > 100) {\n",
       "        console.log(\"Bokeh: ERROR: Unable to run BokehJS code because BokehJS library is missing\");\n",
       "        clearInterval(timer);\n",
       "      }\n",
       "    }, 10, root)\n",
       "  }\n",
       "})(window);"
      ],
      "application/vnd.bokehjs_exec.v0+json": ""
     },
     "metadata": {
      "application/vnd.bokehjs_exec.v0+json": {
       "id": "2368"
      }
     },
     "output_type": "display_data"
    }
   ],
   "source": [
    "from bokeh.plotting import figure\n",
    "from bokeh import events\n",
    "from bokeh.models import CustomJS, Div, Button\n",
    "from bokeh.layouts import column, row\n",
    "\n",
    "import numpy as np\n",
    "x = np.random.random(size=2000) * 100\n",
    "y = np.random.random(size=2000) * 100\n",
    "\n",
    "p = figure(tools=\"box_select\")\n",
    "p.scatter(x, y, radius=1, fill_alpha=0.6, line_color=None)\n",
    "\n",
    "div = Div(width=400)\n",
    "button = Button(label=\"Button\", width=300)\n",
    "layout = column(button, row(p, div))\n",
    "\n",
    "# Events with no attributes\n",
    "button.js_on_event(events.ButtonClick,  CustomJS(args=dict(div=div), code=\"\"\"\n",
    "div.text = \"Button!\";\n",
    "\"\"\")) \n",
    "\n",
    "p.js_on_event(events.SelectionGeometry, CustomJS(args=dict(div=div), code=\"\"\"\n",
    "div.text = \"Selection! <p> <p>\" + JSON.stringify(cb_obj.geometry, undefined, 2);\n",
    "\"\"\"))\n",
    "\n",
    "show(layout)"
   ]
  },
  {
   "cell_type": "code",
   "execution_count": 15,
   "metadata": {},
   "outputs": [],
   "source": [
    "# Exercise: Create a plot that responds to different events from bokeh.events\n",
    "\n"
   ]
  },
  {
   "cell_type": "markdown",
   "metadata": {
    "collapsed": true
   },
   "source": [
    "## Additional Information\n",
    "\n",
    "There are many kinds of interactions and events that can be connected to `CustomJS` callbacks. \n",
    "\n",
    "\n",
    "* Widgets - Button, Toggle, Dropdown, TextInput, AutocompleteInput, Select, Multiselect, Slider, (DateRangeSlider), DatePicker,\n",
    "* Tools - TapTool, BoxSelectTool, HoverTool,\n",
    "* Selection - ColumnDataSource, AjaxDataSource, BlazeDataSource, ServerDataSource\n",
    "* Ranges - Range1d, DataRange1d, FactorRange\n",
    "\n",
    "\n",
    "For more complete examples the User Guide section on [JavaScript Interactions](http://bokeh.pydata.org/en/latest/docs/user_guide/interaction.html)"
   ]
  },
  {
   "cell_type": "code",
   "execution_count": null,
   "metadata": {},
   "outputs": [],
   "source": []
  }
 ],
 "metadata": {
  "anaconda-cloud": {},
  "kernelspec": {
   "display_name": "Python 3",
   "language": "python",
   "name": "python3"
  },
  "language_info": {
   "codemirror_mode": {
    "name": "ipython",
    "version": 3
   },
   "file_extension": ".py",
   "mimetype": "text/x-python",
   "name": "python",
   "nbconvert_exporter": "python",
   "pygments_lexer": "ipython3",
   "version": "3.7.2"
  },
  "widgets": {
   "state": {
    "335ae2c8ff80469e9adac668c2924989": {
     "views": [
      {
       "cell_index": 19
      }
     ]
    }
   },
   "version": "1.2.0"
  }
 },
 "nbformat": 4,
 "nbformat_minor": 1
}
