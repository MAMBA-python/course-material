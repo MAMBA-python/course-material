{
 "cells": [
  {
   "cell_type": "markdown",
   "metadata": {},
   "source": [
    "<table style=\"float:left; border:none\">\n",
    "   <tr style=\"border:none; background-color: #ffffff\">\n",
    "       <td style=\"border:none\">\n",
    "           <a href=\"http://bokeh.pydata.org/\">     \n",
    "           <img \n",
    "               src=\"assets/bokeh-transparent.png\" \n",
    "               style=\"width:50px\"\n",
    "           >\n",
    "           </a>    \n",
    "       </td>\n",
    "       <td style=\"border:none\">\n",
    "           <h1>Bokeh Tutorial</h1>\n",
    "       </td>\n",
    "   </tr>\n",
    "</table>\n",
    "\n",
    "<div style=\"float:right;\"><h2>06. Linking and Interactions</h2></div>"
   ]
  },
  {
   "cell_type": "code",
   "execution_count": 1,
   "metadata": {},
   "outputs": [
    {
     "data": {
      "text/html": [
       "\n",
       "    <div class=\"bk-root\">\n",
       "        <a href=\"https://bokeh.pydata.org\" target=\"_blank\" class=\"bk-logo bk-logo-small bk-logo-notebook\"></a>\n",
       "        <span id=\"1001\">Loading BokehJS ...</span>\n",
       "    </div>"
      ]
     },
     "metadata": {},
     "output_type": "display_data"
    },
    {
     "data": {
      "application/javascript": [
       "\n",
       "(function(root) {\n",
       "  function now() {\n",
       "    return new Date();\n",
       "  }\n",
       "\n",
       "  var force = true;\n",
       "\n",
       "  if (typeof root._bokeh_onload_callbacks === \"undefined\" || force === true) {\n",
       "    root._bokeh_onload_callbacks = [];\n",
       "    root._bokeh_is_loading = undefined;\n",
       "  }\n",
       "\n",
       "  var JS_MIME_TYPE = 'application/javascript';\n",
       "  var HTML_MIME_TYPE = 'text/html';\n",
       "  var EXEC_MIME_TYPE = 'application/vnd.bokehjs_exec.v0+json';\n",
       "  var CLASS_NAME = 'output_bokeh rendered_html';\n",
       "\n",
       "  /**\n",
       "   * Render data to the DOM node\n",
       "   */\n",
       "  function render(props, node) {\n",
       "    var script = document.createElement(\"script\");\n",
       "    node.appendChild(script);\n",
       "  }\n",
       "\n",
       "  /**\n",
       "   * Handle when an output is cleared or removed\n",
       "   */\n",
       "  function handleClearOutput(event, handle) {\n",
       "    var cell = handle.cell;\n",
       "\n",
       "    var id = cell.output_area._bokeh_element_id;\n",
       "    var server_id = cell.output_area._bokeh_server_id;\n",
       "    // Clean up Bokeh references\n",
       "    if (id != null && id in Bokeh.index) {\n",
       "      Bokeh.index[id].model.document.clear();\n",
       "      delete Bokeh.index[id];\n",
       "    }\n",
       "\n",
       "    if (server_id !== undefined) {\n",
       "      // Clean up Bokeh references\n",
       "      var cmd = \"from bokeh.io.state import curstate; print(curstate().uuid_to_server['\" + server_id + \"'].get_sessions()[0].document.roots[0]._id)\";\n",
       "      cell.notebook.kernel.execute(cmd, {\n",
       "        iopub: {\n",
       "          output: function(msg) {\n",
       "            var id = msg.content.text.trim();\n",
       "            if (id in Bokeh.index) {\n",
       "              Bokeh.index[id].model.document.clear();\n",
       "              delete Bokeh.index[id];\n",
       "            }\n",
       "          }\n",
       "        }\n",
       "      });\n",
       "      // Destroy server and session\n",
       "      var cmd = \"import bokeh.io.notebook as ion; ion.destroy_server('\" + server_id + \"')\";\n",
       "      cell.notebook.kernel.execute(cmd);\n",
       "    }\n",
       "  }\n",
       "\n",
       "  /**\n",
       "   * Handle when a new output is added\n",
       "   */\n",
       "  function handleAddOutput(event, handle) {\n",
       "    var output_area = handle.output_area;\n",
       "    var output = handle.output;\n",
       "\n",
       "    // limit handleAddOutput to display_data with EXEC_MIME_TYPE content only\n",
       "    if ((output.output_type != \"display_data\") || (!output.data.hasOwnProperty(EXEC_MIME_TYPE))) {\n",
       "      return\n",
       "    }\n",
       "\n",
       "    var toinsert = output_area.element.find(\".\" + CLASS_NAME.split(' ')[0]);\n",
       "\n",
       "    if (output.metadata[EXEC_MIME_TYPE][\"id\"] !== undefined) {\n",
       "      toinsert[toinsert.length - 1].firstChild.textContent = output.data[JS_MIME_TYPE];\n",
       "      // store reference to embed id on output_area\n",
       "      output_area._bokeh_element_id = output.metadata[EXEC_MIME_TYPE][\"id\"];\n",
       "    }\n",
       "    if (output.metadata[EXEC_MIME_TYPE][\"server_id\"] !== undefined) {\n",
       "      var bk_div = document.createElement(\"div\");\n",
       "      bk_div.innerHTML = output.data[HTML_MIME_TYPE];\n",
       "      var script_attrs = bk_div.children[0].attributes;\n",
       "      for (var i = 0; i < script_attrs.length; i++) {\n",
       "        toinsert[toinsert.length - 1].firstChild.setAttribute(script_attrs[i].name, script_attrs[i].value);\n",
       "      }\n",
       "      // store reference to server id on output_area\n",
       "      output_area._bokeh_server_id = output.metadata[EXEC_MIME_TYPE][\"server_id\"];\n",
       "    }\n",
       "  }\n",
       "\n",
       "  function register_renderer(events, OutputArea) {\n",
       "\n",
       "    function append_mime(data, metadata, element) {\n",
       "      // create a DOM node to render to\n",
       "      var toinsert = this.create_output_subarea(\n",
       "        metadata,\n",
       "        CLASS_NAME,\n",
       "        EXEC_MIME_TYPE\n",
       "      );\n",
       "      this.keyboard_manager.register_events(toinsert);\n",
       "      // Render to node\n",
       "      var props = {data: data, metadata: metadata[EXEC_MIME_TYPE]};\n",
       "      render(props, toinsert[toinsert.length - 1]);\n",
       "      element.append(toinsert);\n",
       "      return toinsert\n",
       "    }\n",
       "\n",
       "    /* Handle when an output is cleared or removed */\n",
       "    events.on('clear_output.CodeCell', handleClearOutput);\n",
       "    events.on('delete.Cell', handleClearOutput);\n",
       "\n",
       "    /* Handle when a new output is added */\n",
       "    events.on('output_added.OutputArea', handleAddOutput);\n",
       "\n",
       "    /**\n",
       "     * Register the mime type and append_mime function with output_area\n",
       "     */\n",
       "    OutputArea.prototype.register_mime_type(EXEC_MIME_TYPE, append_mime, {\n",
       "      /* Is output safe? */\n",
       "      safe: true,\n",
       "      /* Index of renderer in `output_area.display_order` */\n",
       "      index: 0\n",
       "    });\n",
       "  }\n",
       "\n",
       "  // register the mime type if in Jupyter Notebook environment and previously unregistered\n",
       "  if (root.Jupyter !== undefined) {\n",
       "    var events = require('base/js/events');\n",
       "    var OutputArea = require('notebook/js/outputarea').OutputArea;\n",
       "\n",
       "    if (OutputArea.prototype.mime_types().indexOf(EXEC_MIME_TYPE) == -1) {\n",
       "      register_renderer(events, OutputArea);\n",
       "    }\n",
       "  }\n",
       "\n",
       "  \n",
       "  if (typeof (root._bokeh_timeout) === \"undefined\" || force === true) {\n",
       "    root._bokeh_timeout = Date.now() + 5000;\n",
       "    root._bokeh_failed_load = false;\n",
       "  }\n",
       "\n",
       "  var NB_LOAD_WARNING = {'data': {'text/html':\n",
       "     \"<div style='background-color: #fdd'>\\n\"+\n",
       "     \"<p>\\n\"+\n",
       "     \"BokehJS does not appear to have successfully loaded. If loading BokehJS from CDN, this \\n\"+\n",
       "     \"may be due to a slow or bad network connection. Possible fixes:\\n\"+\n",
       "     \"</p>\\n\"+\n",
       "     \"<ul>\\n\"+\n",
       "     \"<li>re-rerun `output_notebook()` to attempt to load from CDN again, or</li>\\n\"+\n",
       "     \"<li>use INLINE resources instead, as so:</li>\\n\"+\n",
       "     \"</ul>\\n\"+\n",
       "     \"<code>\\n\"+\n",
       "     \"from bokeh.resources import INLINE\\n\"+\n",
       "     \"output_notebook(resources=INLINE)\\n\"+\n",
       "     \"</code>\\n\"+\n",
       "     \"</div>\"}};\n",
       "\n",
       "  function display_loaded() {\n",
       "    var el = document.getElementById(\"1001\");\n",
       "    if (el != null) {\n",
       "      el.textContent = \"BokehJS is loading...\";\n",
       "    }\n",
       "    if (root.Bokeh !== undefined) {\n",
       "      if (el != null) {\n",
       "        el.textContent = \"BokehJS \" + root.Bokeh.version + \" successfully loaded.\";\n",
       "      }\n",
       "    } else if (Date.now() < root._bokeh_timeout) {\n",
       "      setTimeout(display_loaded, 100)\n",
       "    }\n",
       "  }\n",
       "\n",
       "\n",
       "  function run_callbacks() {\n",
       "    try {\n",
       "      root._bokeh_onload_callbacks.forEach(function(callback) {\n",
       "        if (callback != null)\n",
       "          callback();\n",
       "      });\n",
       "    } finally {\n",
       "      delete root._bokeh_onload_callbacks\n",
       "    }\n",
       "    console.debug(\"Bokeh: all callbacks have finished\");\n",
       "  }\n",
       "\n",
       "  function load_libs(css_urls, js_urls, callback) {\n",
       "    if (css_urls == null) css_urls = [];\n",
       "    if (js_urls == null) js_urls = [];\n",
       "\n",
       "    root._bokeh_onload_callbacks.push(callback);\n",
       "    if (root._bokeh_is_loading > 0) {\n",
       "      console.debug(\"Bokeh: BokehJS is being loaded, scheduling callback at\", now());\n",
       "      return null;\n",
       "    }\n",
       "    if (js_urls == null || js_urls.length === 0) {\n",
       "      run_callbacks();\n",
       "      return null;\n",
       "    }\n",
       "    console.debug(\"Bokeh: BokehJS not loaded, scheduling load and callback at\", now());\n",
       "    root._bokeh_is_loading = css_urls.length + js_urls.length;\n",
       "\n",
       "    function on_load() {\n",
       "      root._bokeh_is_loading--;\n",
       "      if (root._bokeh_is_loading === 0) {\n",
       "        console.debug(\"Bokeh: all BokehJS libraries/stylesheets loaded\");\n",
       "        run_callbacks()\n",
       "      }\n",
       "    }\n",
       "\n",
       "    function on_error() {\n",
       "      console.error(\"failed to load \" + url);\n",
       "    }\n",
       "\n",
       "    for (var i = 0; i < css_urls.length; i++) {\n",
       "      var url = css_urls[i];\n",
       "      const element = document.createElement(\"link\");\n",
       "      element.onload = on_load;\n",
       "      element.onerror = on_error;\n",
       "      element.rel = \"stylesheet\";\n",
       "      element.type = \"text/css\";\n",
       "      element.href = url;\n",
       "      console.debug(\"Bokeh: injecting link tag for BokehJS stylesheet: \", url);\n",
       "      document.body.appendChild(element);\n",
       "    }\n",
       "\n",
       "    for (var i = 0; i < js_urls.length; i++) {\n",
       "      var url = js_urls[i];\n",
       "      var element = document.createElement('script');\n",
       "      element.onload = on_load;\n",
       "      element.onerror = on_error;\n",
       "      element.async = false;\n",
       "      element.src = url;\n",
       "      console.debug(\"Bokeh: injecting script tag for BokehJS library: \", url);\n",
       "      document.head.appendChild(element);\n",
       "    }\n",
       "  };var element = document.getElementById(\"1001\");\n",
       "  if (element == null) {\n",
       "    console.error(\"Bokeh: ERROR: autoload.js configured with elementid '1001' but no matching script tag was found. \")\n",
       "    return false;\n",
       "  }\n",
       "\n",
       "  function inject_raw_css(css) {\n",
       "    const element = document.createElement(\"style\");\n",
       "    element.appendChild(document.createTextNode(css));\n",
       "    document.body.appendChild(element);\n",
       "  }\n",
       "\n",
       "  var js_urls = [\"https://cdn.pydata.org/bokeh/release/bokeh-1.3.4.min.js\", \"https://cdn.pydata.org/bokeh/release/bokeh-widgets-1.3.4.min.js\", \"https://cdn.pydata.org/bokeh/release/bokeh-tables-1.3.4.min.js\", \"https://cdn.pydata.org/bokeh/release/bokeh-gl-1.3.4.min.js\"];\n",
       "  var css_urls = [];\n",
       "\n",
       "  var inline_js = [\n",
       "    function(Bokeh) {\n",
       "      Bokeh.set_log_level(\"info\");\n",
       "    },\n",
       "    \n",
       "    function(Bokeh) {\n",
       "      \n",
       "    },\n",
       "    function(Bokeh) {} // ensure no trailing comma for IE\n",
       "  ];\n",
       "\n",
       "  function run_inline_js() {\n",
       "    \n",
       "    if ((root.Bokeh !== undefined) || (force === true)) {\n",
       "      for (var i = 0; i < inline_js.length; i++) {\n",
       "        inline_js[i].call(root, root.Bokeh);\n",
       "      }if (force === true) {\n",
       "        display_loaded();\n",
       "      }} else if (Date.now() < root._bokeh_timeout) {\n",
       "      setTimeout(run_inline_js, 100);\n",
       "    } else if (!root._bokeh_failed_load) {\n",
       "      console.log(\"Bokeh: BokehJS failed to load within specified timeout.\");\n",
       "      root._bokeh_failed_load = true;\n",
       "    } else if (force !== true) {\n",
       "      var cell = $(document.getElementById(\"1001\")).parents('.cell').data().cell;\n",
       "      cell.output_area.append_execute_result(NB_LOAD_WARNING)\n",
       "    }\n",
       "\n",
       "  }\n",
       "\n",
       "  if (root._bokeh_is_loading === 0) {\n",
       "    console.debug(\"Bokeh: BokehJS loaded, going straight to plotting\");\n",
       "    run_inline_js();\n",
       "  } else {\n",
       "    load_libs(css_urls, js_urls, function() {\n",
       "      console.debug(\"Bokeh: BokehJS plotting callback run at\", now());\n",
       "      run_inline_js();\n",
       "    });\n",
       "  }\n",
       "}(window));"
      ],
      "application/vnd.bokehjs_load.v0+json": "\n(function(root) {\n  function now() {\n    return new Date();\n  }\n\n  var force = true;\n\n  if (typeof root._bokeh_onload_callbacks === \"undefined\" || force === true) {\n    root._bokeh_onload_callbacks = [];\n    root._bokeh_is_loading = undefined;\n  }\n\n  \n\n  \n  if (typeof (root._bokeh_timeout) === \"undefined\" || force === true) {\n    root._bokeh_timeout = Date.now() + 5000;\n    root._bokeh_failed_load = false;\n  }\n\n  var NB_LOAD_WARNING = {'data': {'text/html':\n     \"<div style='background-color: #fdd'>\\n\"+\n     \"<p>\\n\"+\n     \"BokehJS does not appear to have successfully loaded. If loading BokehJS from CDN, this \\n\"+\n     \"may be due to a slow or bad network connection. Possible fixes:\\n\"+\n     \"</p>\\n\"+\n     \"<ul>\\n\"+\n     \"<li>re-rerun `output_notebook()` to attempt to load from CDN again, or</li>\\n\"+\n     \"<li>use INLINE resources instead, as so:</li>\\n\"+\n     \"</ul>\\n\"+\n     \"<code>\\n\"+\n     \"from bokeh.resources import INLINE\\n\"+\n     \"output_notebook(resources=INLINE)\\n\"+\n     \"</code>\\n\"+\n     \"</div>\"}};\n\n  function display_loaded() {\n    var el = document.getElementById(\"1001\");\n    if (el != null) {\n      el.textContent = \"BokehJS is loading...\";\n    }\n    if (root.Bokeh !== undefined) {\n      if (el != null) {\n        el.textContent = \"BokehJS \" + root.Bokeh.version + \" successfully loaded.\";\n      }\n    } else if (Date.now() < root._bokeh_timeout) {\n      setTimeout(display_loaded, 100)\n    }\n  }\n\n\n  function run_callbacks() {\n    try {\n      root._bokeh_onload_callbacks.forEach(function(callback) {\n        if (callback != null)\n          callback();\n      });\n    } finally {\n      delete root._bokeh_onload_callbacks\n    }\n    console.debug(\"Bokeh: all callbacks have finished\");\n  }\n\n  function load_libs(css_urls, js_urls, callback) {\n    if (css_urls == null) css_urls = [];\n    if (js_urls == null) js_urls = [];\n\n    root._bokeh_onload_callbacks.push(callback);\n    if (root._bokeh_is_loading > 0) {\n      console.debug(\"Bokeh: BokehJS is being loaded, scheduling callback at\", now());\n      return null;\n    }\n    if (js_urls == null || js_urls.length === 0) {\n      run_callbacks();\n      return null;\n    }\n    console.debug(\"Bokeh: BokehJS not loaded, scheduling load and callback at\", now());\n    root._bokeh_is_loading = css_urls.length + js_urls.length;\n\n    function on_load() {\n      root._bokeh_is_loading--;\n      if (root._bokeh_is_loading === 0) {\n        console.debug(\"Bokeh: all BokehJS libraries/stylesheets loaded\");\n        run_callbacks()\n      }\n    }\n\n    function on_error() {\n      console.error(\"failed to load \" + url);\n    }\n\n    for (var i = 0; i < css_urls.length; i++) {\n      var url = css_urls[i];\n      const element = document.createElement(\"link\");\n      element.onload = on_load;\n      element.onerror = on_error;\n      element.rel = \"stylesheet\";\n      element.type = \"text/css\";\n      element.href = url;\n      console.debug(\"Bokeh: injecting link tag for BokehJS stylesheet: \", url);\n      document.body.appendChild(element);\n    }\n\n    for (var i = 0; i < js_urls.length; i++) {\n      var url = js_urls[i];\n      var element = document.createElement('script');\n      element.onload = on_load;\n      element.onerror = on_error;\n      element.async = false;\n      element.src = url;\n      console.debug(\"Bokeh: injecting script tag for BokehJS library: \", url);\n      document.head.appendChild(element);\n    }\n  };var element = document.getElementById(\"1001\");\n  if (element == null) {\n    console.error(\"Bokeh: ERROR: autoload.js configured with elementid '1001' but no matching script tag was found. \")\n    return false;\n  }\n\n  function inject_raw_css(css) {\n    const element = document.createElement(\"style\");\n    element.appendChild(document.createTextNode(css));\n    document.body.appendChild(element);\n  }\n\n  var js_urls = [\"https://cdn.pydata.org/bokeh/release/bokeh-1.3.4.min.js\", \"https://cdn.pydata.org/bokeh/release/bokeh-widgets-1.3.4.min.js\", \"https://cdn.pydata.org/bokeh/release/bokeh-tables-1.3.4.min.js\", \"https://cdn.pydata.org/bokeh/release/bokeh-gl-1.3.4.min.js\"];\n  var css_urls = [];\n\n  var inline_js = [\n    function(Bokeh) {\n      Bokeh.set_log_level(\"info\");\n    },\n    \n    function(Bokeh) {\n      \n    },\n    function(Bokeh) {} // ensure no trailing comma for IE\n  ];\n\n  function run_inline_js() {\n    \n    if ((root.Bokeh !== undefined) || (force === true)) {\n      for (var i = 0; i < inline_js.length; i++) {\n        inline_js[i].call(root, root.Bokeh);\n      }if (force === true) {\n        display_loaded();\n      }} else if (Date.now() < root._bokeh_timeout) {\n      setTimeout(run_inline_js, 100);\n    } else if (!root._bokeh_failed_load) {\n      console.log(\"Bokeh: BokehJS failed to load within specified timeout.\");\n      root._bokeh_failed_load = true;\n    } else if (force !== true) {\n      var cell = $(document.getElementById(\"1001\")).parents('.cell').data().cell;\n      cell.output_area.append_execute_result(NB_LOAD_WARNING)\n    }\n\n  }\n\n  if (root._bokeh_is_loading === 0) {\n    console.debug(\"Bokeh: BokehJS loaded, going straight to plotting\");\n    run_inline_js();\n  } else {\n    load_libs(css_urls, js_urls, function() {\n      console.debug(\"Bokeh: BokehJS plotting callback run at\", now());\n      run_inline_js();\n    });\n  }\n}(window));"
     },
     "metadata": {},
     "output_type": "display_data"
    }
   ],
   "source": [
    "from bokeh.io import output_notebook, show\n",
    "from bokeh.plotting import figure\n",
    "output_notebook()"
   ]
  },
  {
   "cell_type": "markdown",
   "metadata": {},
   "source": [
    "Now that we know from the previous chapter how multiple plots can be placed together in a layout, we can start to look at how different plots can be linked togeher, or how plots can be linked to widgets. "
   ]
  },
  {
   "cell_type": "markdown",
   "metadata": {
    "collapsed": true
   },
   "source": [
    "# Linked Interactions\n",
    "\n",
    "It is possible to link various interactions between different Bokeh plots. For instance, the ranges of two (or more) plots can be linked, so that when one of the plots is panned (or zoomed, or otherwise has its range changed) the other plots will update in unison. It is also possible to link selections between two plots, so that when items are selected on one plot, the corresponding items on the second plot also become selected. "
   ]
  },
  {
   "cell_type": "markdown",
   "metadata": {},
   "source": [
    "## Linked panning\n",
    "\n",
    "Linked panning (when multiple plots have ranges that stay in sync) is simple to spell with Bokeh. You simply share the appropriate range objects between two (or more) plots. The example below shows how to accomplish this by linking the ranges of three plots in various ways:"
   ]
  },
  {
   "cell_type": "code",
   "execution_count": 2,
   "metadata": {},
   "outputs": [
    {
     "data": {
      "text/html": [
       "\n",
       "\n",
       "\n",
       "\n",
       "\n",
       "\n",
       "  <div class=\"bk-root\" id=\"913f9e30-61cf-43f8-8528-f3a9c28e18a4\" data-root-id=\"1116\"></div>\n"
      ]
     },
     "metadata": {},
     "output_type": "display_data"
    },
    {
     "data": {
      "application/javascript": [
       "(function(root) {\n",
       "  function embed_document(root) {\n",
       "    \n",
       "  var docs_json = {\"873ef913-a2b4-4a67-b5c3-040d9ae7fb02\":{\"roots\":{\"references\":[{\"attributes\":{\"children\":[{\"id\":\"1115\",\"type\":\"ToolbarBox\"},{\"id\":\"1113\",\"type\":\"GridBox\"}]},\"id\":\"1116\",\"type\":\"Column\"},{\"attributes\":{\"formatter\":{\"id\":\"1089\",\"type\":\"BasicTickFormatter\"},\"ticker\":{\"id\":\"1017\",\"type\":\"BasicTicker\"}},\"id\":\"1016\",\"type\":\"LinearAxis\"},{\"attributes\":{},\"id\":\"1072\",\"type\":\"BasicTicker\"},{\"attributes\":{},\"id\":\"1044\",\"type\":\"BasicTicker\"},{\"attributes\":{},\"id\":\"1101\",\"type\":\"Selection\"},{\"attributes\":{\"dimension\":1,\"ticker\":{\"id\":\"1072\",\"type\":\"BasicTicker\"}},\"id\":\"1075\",\"type\":\"Grid\"},{\"attributes\":{},\"id\":\"1017\",\"type\":\"BasicTicker\"},{\"attributes\":{\"dimension\":1,\"ticker\":{\"id\":\"1044\",\"type\":\"BasicTicker\"}},\"id\":\"1047\",\"type\":\"Grid\"},{\"attributes\":{\"fill_alpha\":{\"value\":0.1},\"fill_color\":{\"value\":\"#1f77b4\"},\"line_alpha\":{\"value\":0.1},\"line_color\":{\"value\":\"#1f77b4\"},\"size\":{\"units\":\"screen\",\"value\":10},\"x\":{\"field\":\"x\"},\"y\":{\"field\":\"y\"}},\"id\":\"1028\",\"type\":\"Circle\"},{\"attributes\":{},\"id\":\"1102\",\"type\":\"UnionRenderers\"},{\"attributes\":{\"children\":[[{\"id\":\"1002\",\"subtype\":\"Figure\",\"type\":\"Plot\"},0,0],[{\"id\":\"1031\",\"subtype\":\"Figure\",\"type\":\"Plot\"},0,1],[{\"id\":\"1058\",\"subtype\":\"Figure\",\"type\":\"Plot\"},0,2]]},\"id\":\"1113\",\"type\":\"GridBox\"},{\"attributes\":{\"dimension\":1,\"ticker\":{\"id\":\"1017\",\"type\":\"BasicTicker\"}},\"id\":\"1020\",\"type\":\"Grid\"},{\"attributes\":{\"fill_color\":{\"value\":\"firebrick\"},\"line_color\":{\"value\":\"firebrick\"},\"size\":{\"units\":\"screen\",\"value\":10},\"x\":{\"field\":\"x\"},\"y\":{\"field\":\"y\"}},\"id\":\"1054\",\"type\":\"Triangle\"},{\"attributes\":{\"active_drag\":\"auto\",\"active_inspect\":\"auto\",\"active_multi\":null,\"active_scroll\":\"auto\",\"active_tap\":\"auto\",\"tools\":[{\"id\":\"1076\",\"type\":\"PanTool\"},{\"id\":\"1077\",\"type\":\"WheelZoomTool\"}]},\"id\":\"1078\",\"type\":\"Toolbar\"},{\"attributes\":{\"active_drag\":\"auto\",\"active_inspect\":\"auto\",\"active_multi\":null,\"active_scroll\":\"auto\",\"active_tap\":\"auto\",\"tools\":[{\"id\":\"1048\",\"type\":\"PanTool\"},{\"id\":\"1049\",\"type\":\"WheelZoomTool\"}]},\"id\":\"1050\",\"type\":\"Toolbar\"},{\"attributes\":{\"text\":\"\"},\"id\":\"1104\",\"type\":\"Title\"},{\"attributes\":{},\"id\":\"1076\",\"type\":\"PanTool\"},{\"attributes\":{},\"id\":\"1022\",\"type\":\"WheelZoomTool\"},{\"attributes\":{},\"id\":\"1048\",\"type\":\"PanTool\"},{\"attributes\":{\"active_drag\":\"auto\",\"active_inspect\":\"auto\",\"active_multi\":null,\"active_scroll\":\"auto\",\"active_tap\":\"auto\",\"tools\":[{\"id\":\"1021\",\"type\":\"PanTool\"},{\"id\":\"1022\",\"type\":\"WheelZoomTool\"}]},\"id\":\"1023\",\"type\":\"Toolbar\"},{\"attributes\":{},\"id\":\"1107\",\"type\":\"BasicTickFormatter\"},{\"attributes\":{},\"id\":\"1021\",\"type\":\"PanTool\"},{\"attributes\":{},\"id\":\"1077\",\"type\":\"WheelZoomTool\"},{\"attributes\":{\"ticker\":{\"id\":\"1067\",\"type\":\"BasicTicker\"}},\"id\":\"1070\",\"type\":\"Grid\"},{\"attributes\":{\"below\":[{\"id\":\"1038\",\"type\":\"LinearAxis\"}],\"center\":[{\"id\":\"1042\",\"type\":\"Grid\"},{\"id\":\"1047\",\"type\":\"Grid\"}],\"left\":[{\"id\":\"1043\",\"type\":\"LinearAxis\"}],\"plot_height\":250,\"plot_width\":250,\"renderers\":[{\"id\":\"1056\",\"type\":\"GlyphRenderer\"}],\"title\":{\"id\":\"1095\",\"type\":\"Title\"},\"toolbar\":{\"id\":\"1050\",\"type\":\"Toolbar\"},\"toolbar_location\":null,\"x_range\":{\"id\":\"1003\",\"type\":\"DataRange1d\"},\"x_scale\":{\"id\":\"1034\",\"type\":\"LinearScale\"},\"y_range\":{\"id\":\"1005\",\"type\":\"DataRange1d\"},\"y_scale\":{\"id\":\"1036\",\"type\":\"LinearScale\"}},\"id\":\"1031\",\"subtype\":\"Figure\",\"type\":\"Plot\"},{\"attributes\":{},\"id\":\"1049\",\"type\":\"WheelZoomTool\"},{\"attributes\":{\"fill_color\":{\"value\":\"navy\"},\"line_color\":{\"value\":\"navy\"},\"size\":{\"units\":\"screen\",\"value\":10},\"x\":{\"field\":\"x\"},\"y\":{\"field\":\"y\"}},\"id\":\"1027\",\"type\":\"Circle\"},{\"attributes\":{},\"id\":\"1109\",\"type\":\"BasicTickFormatter\"},{\"attributes\":{\"fill_color\":{\"value\":\"olive\"},\"line_color\":{\"value\":\"olive\"},\"size\":{\"units\":\"screen\",\"value\":10},\"x\":{\"field\":\"x\"},\"y\":{\"field\":\"y\"}},\"id\":\"1082\",\"type\":\"Square\"},{\"attributes\":{},\"id\":\"1110\",\"type\":\"Selection\"},{\"attributes\":{\"data_source\":{\"id\":\"1026\",\"type\":\"ColumnDataSource\"},\"glyph\":{\"id\":\"1027\",\"type\":\"Circle\"},\"hover_glyph\":null,\"muted_glyph\":null,\"nonselection_glyph\":{\"id\":\"1028\",\"type\":\"Circle\"},\"selection_glyph\":null,\"view\":{\"id\":\"1030\",\"type\":\"CDSView\"}},\"id\":\"1029\",\"type\":\"GlyphRenderer\"},{\"attributes\":{\"source\":{\"id\":\"1026\",\"type\":\"ColumnDataSource\"}},\"id\":\"1030\",\"type\":\"CDSView\"},{\"attributes\":{},\"id\":\"1111\",\"type\":\"UnionRenderers\"},{\"attributes\":{\"fill_alpha\":{\"value\":0.1},\"fill_color\":{\"value\":\"#1f77b4\"},\"line_alpha\":{\"value\":0.1},\"line_color\":{\"value\":\"#1f77b4\"},\"size\":{\"units\":\"screen\",\"value\":10},\"x\":{\"field\":\"x\"},\"y\":{\"field\":\"y\"}},\"id\":\"1083\",\"type\":\"Square\"},{\"attributes\":{\"fill_alpha\":{\"value\":0.1},\"fill_color\":{\"value\":\"#1f77b4\"},\"line_alpha\":{\"value\":0.1},\"line_color\":{\"value\":\"#1f77b4\"},\"size\":{\"units\":\"screen\",\"value\":10},\"x\":{\"field\":\"x\"},\"y\":{\"field\":\"y\"}},\"id\":\"1055\",\"type\":\"Triangle\"},{\"attributes\":{\"tools\":[{\"id\":\"1021\",\"type\":\"PanTool\"},{\"id\":\"1022\",\"type\":\"WheelZoomTool\"},{\"id\":\"1048\",\"type\":\"PanTool\"},{\"id\":\"1049\",\"type\":\"WheelZoomTool\"},{\"id\":\"1076\",\"type\":\"PanTool\"},{\"id\":\"1077\",\"type\":\"WheelZoomTool\"}]},\"id\":\"1114\",\"type\":\"ProxyToolbar\"},{\"attributes\":{\"data_source\":{\"id\":\"1081\",\"type\":\"ColumnDataSource\"},\"glyph\":{\"id\":\"1082\",\"type\":\"Square\"},\"hover_glyph\":null,\"muted_glyph\":null,\"nonselection_glyph\":{\"id\":\"1083\",\"type\":\"Square\"},\"selection_glyph\":null,\"view\":{\"id\":\"1085\",\"type\":\"CDSView\"}},\"id\":\"1084\",\"type\":\"GlyphRenderer\"},{\"attributes\":{\"data_source\":{\"id\":\"1053\",\"type\":\"ColumnDataSource\"},\"glyph\":{\"id\":\"1054\",\"type\":\"Triangle\"},\"hover_glyph\":null,\"muted_glyph\":null,\"nonselection_glyph\":{\"id\":\"1055\",\"type\":\"Triangle\"},\"selection_glyph\":null,\"view\":{\"id\":\"1057\",\"type\":\"CDSView\"}},\"id\":\"1056\",\"type\":\"GlyphRenderer\"},{\"attributes\":{\"callback\":null,\"data\":{\"x\":[0,1,2,3,4,5,6,7,8,9,10],\"y\":[0,1,2,3,4,5,6,7,8,9,10]},\"selected\":{\"id\":\"1092\",\"type\":\"Selection\"},\"selection_policy\":{\"id\":\"1093\",\"type\":\"UnionRenderers\"}},\"id\":\"1026\",\"type\":\"ColumnDataSource\"},{\"attributes\":{},\"id\":\"1100\",\"type\":\"BasicTickFormatter\"},{\"attributes\":{\"below\":[{\"id\":\"1011\",\"type\":\"LinearAxis\"}],\"center\":[{\"id\":\"1015\",\"type\":\"Grid\"},{\"id\":\"1020\",\"type\":\"Grid\"}],\"left\":[{\"id\":\"1016\",\"type\":\"LinearAxis\"}],\"plot_height\":250,\"plot_width\":250,\"renderers\":[{\"id\":\"1029\",\"type\":\"GlyphRenderer\"}],\"title\":{\"id\":\"1086\",\"type\":\"Title\"},\"toolbar\":{\"id\":\"1023\",\"type\":\"Toolbar\"},\"toolbar_location\":null,\"x_range\":{\"id\":\"1003\",\"type\":\"DataRange1d\"},\"x_scale\":{\"id\":\"1007\",\"type\":\"LinearScale\"},\"y_range\":{\"id\":\"1005\",\"type\":\"DataRange1d\"},\"y_scale\":{\"id\":\"1009\",\"type\":\"LinearScale\"}},\"id\":\"1002\",\"subtype\":\"Figure\",\"type\":\"Plot\"},{\"attributes\":{\"toolbar\":{\"id\":\"1114\",\"type\":\"ProxyToolbar\"},\"toolbar_location\":\"above\"},\"id\":\"1115\",\"type\":\"ToolbarBox\"},{\"attributes\":{\"source\":{\"id\":\"1081\",\"type\":\"ColumnDataSource\"}},\"id\":\"1085\",\"type\":\"CDSView\"},{\"attributes\":{\"source\":{\"id\":\"1053\",\"type\":\"ColumnDataSource\"}},\"id\":\"1057\",\"type\":\"CDSView\"},{\"attributes\":{\"callback\":null},\"id\":\"1005\",\"type\":\"DataRange1d\"},{\"attributes\":{\"callback\":null},\"id\":\"1003\",\"type\":\"DataRange1d\"},{\"attributes\":{\"text\":\"\"},\"id\":\"1086\",\"type\":\"Title\"},{\"attributes\":{\"callback\":null,\"data\":{\"x\":[0,1,2,3,4,5,6,7,8,9,10],\"y\":[5,4,3,2,1,0,1,2,3,4,5]},\"selected\":{\"id\":\"1110\",\"type\":\"Selection\"},\"selection_policy\":{\"id\":\"1111\",\"type\":\"UnionRenderers\"}},\"id\":\"1081\",\"type\":\"ColumnDataSource\"},{\"attributes\":{\"callback\":null,\"data\":{\"x\":[0,1,2,3,4,5,6,7,8,9,10],\"y\":[10,9,8,7,6,5,4,3,2,1,0]},\"selected\":{\"id\":\"1101\",\"type\":\"Selection\"},\"selection_policy\":{\"id\":\"1102\",\"type\":\"UnionRenderers\"}},\"id\":\"1053\",\"type\":\"ColumnDataSource\"},{\"attributes\":{\"callback\":null},\"id\":\"1060\",\"type\":\"DataRange1d\"},{\"attributes\":{\"below\":[{\"id\":\"1066\",\"type\":\"LinearAxis\"}],\"center\":[{\"id\":\"1070\",\"type\":\"Grid\"},{\"id\":\"1075\",\"type\":\"Grid\"}],\"left\":[{\"id\":\"1071\",\"type\":\"LinearAxis\"}],\"plot_height\":250,\"plot_width\":250,\"renderers\":[{\"id\":\"1084\",\"type\":\"GlyphRenderer\"}],\"title\":{\"id\":\"1104\",\"type\":\"Title\"},\"toolbar\":{\"id\":\"1078\",\"type\":\"Toolbar\"},\"toolbar_location\":null,\"x_range\":{\"id\":\"1003\",\"type\":\"DataRange1d\"},\"x_scale\":{\"id\":\"1062\",\"type\":\"LinearScale\"},\"y_range\":{\"id\":\"1060\",\"type\":\"DataRange1d\"},\"y_scale\":{\"id\":\"1064\",\"type\":\"LinearScale\"}},\"id\":\"1058\",\"subtype\":\"Figure\",\"type\":\"Plot\"},{\"attributes\":{},\"id\":\"1034\",\"type\":\"LinearScale\"},{\"attributes\":{},\"id\":\"1089\",\"type\":\"BasicTickFormatter\"},{\"attributes\":{},\"id\":\"1007\",\"type\":\"LinearScale\"},{\"attributes\":{},\"id\":\"1062\",\"type\":\"LinearScale\"},{\"attributes\":{},\"id\":\"1036\",\"type\":\"LinearScale\"},{\"attributes\":{},\"id\":\"1091\",\"type\":\"BasicTickFormatter\"},{\"attributes\":{},\"id\":\"1009\",\"type\":\"LinearScale\"},{\"attributes\":{},\"id\":\"1064\",\"type\":\"LinearScale\"},{\"attributes\":{\"formatter\":{\"id\":\"1100\",\"type\":\"BasicTickFormatter\"},\"ticker\":{\"id\":\"1039\",\"type\":\"BasicTicker\"}},\"id\":\"1038\",\"type\":\"LinearAxis\"},{\"attributes\":{},\"id\":\"1092\",\"type\":\"Selection\"},{\"attributes\":{\"formatter\":{\"id\":\"1091\",\"type\":\"BasicTickFormatter\"},\"ticker\":{\"id\":\"1012\",\"type\":\"BasicTicker\"}},\"id\":\"1011\",\"type\":\"LinearAxis\"},{\"attributes\":{\"formatter\":{\"id\":\"1109\",\"type\":\"BasicTickFormatter\"},\"ticker\":{\"id\":\"1067\",\"type\":\"BasicTicker\"}},\"id\":\"1066\",\"type\":\"LinearAxis\"},{\"attributes\":{},\"id\":\"1039\",\"type\":\"BasicTicker\"},{\"attributes\":{},\"id\":\"1093\",\"type\":\"UnionRenderers\"},{\"attributes\":{},\"id\":\"1012\",\"type\":\"BasicTicker\"},{\"attributes\":{},\"id\":\"1067\",\"type\":\"BasicTicker\"},{\"attributes\":{\"ticker\":{\"id\":\"1039\",\"type\":\"BasicTicker\"}},\"id\":\"1042\",\"type\":\"Grid\"},{\"attributes\":{\"text\":\"\"},\"id\":\"1095\",\"type\":\"Title\"},{\"attributes\":{\"ticker\":{\"id\":\"1012\",\"type\":\"BasicTicker\"}},\"id\":\"1015\",\"type\":\"Grid\"},{\"attributes\":{},\"id\":\"1098\",\"type\":\"BasicTickFormatter\"},{\"attributes\":{\"formatter\":{\"id\":\"1098\",\"type\":\"BasicTickFormatter\"},\"ticker\":{\"id\":\"1044\",\"type\":\"BasicTicker\"}},\"id\":\"1043\",\"type\":\"LinearAxis\"},{\"attributes\":{\"formatter\":{\"id\":\"1107\",\"type\":\"BasicTickFormatter\"},\"ticker\":{\"id\":\"1072\",\"type\":\"BasicTicker\"}},\"id\":\"1071\",\"type\":\"LinearAxis\"}],\"root_ids\":[\"1116\"]},\"title\":\"Bokeh Application\",\"version\":\"1.3.4\"}};\n",
       "  var render_items = [{\"docid\":\"873ef913-a2b4-4a67-b5c3-040d9ae7fb02\",\"roots\":{\"1116\":\"913f9e30-61cf-43f8-8528-f3a9c28e18a4\"}}];\n",
       "  root.Bokeh.embed.embed_items_notebook(docs_json, render_items);\n",
       "\n",
       "  }\n",
       "  if (root.Bokeh !== undefined) {\n",
       "    embed_document(root);\n",
       "  } else {\n",
       "    var attempts = 0;\n",
       "    var timer = setInterval(function(root) {\n",
       "      if (root.Bokeh !== undefined) {\n",
       "        embed_document(root);\n",
       "        clearInterval(timer);\n",
       "      }\n",
       "      attempts++;\n",
       "      if (attempts > 100) {\n",
       "        console.log(\"Bokeh: ERROR: Unable to run BokehJS code because BokehJS library is missing\");\n",
       "        clearInterval(timer);\n",
       "      }\n",
       "    }, 10, root)\n",
       "  }\n",
       "})(window);"
      ],
      "application/vnd.bokehjs_exec.v0+json": ""
     },
     "metadata": {
      "application/vnd.bokehjs_exec.v0+json": {
       "id": "1116"
      }
     },
     "output_type": "display_data"
    }
   ],
   "source": [
    "from bokeh.layouts import gridplot\n",
    "\n",
    "x = list(range(11))\n",
    "y0, y1, y2 = x, [10-i for i in x], [abs(i-5) for i in x]\n",
    "\n",
    "plot_options = dict(width=250, plot_height=250, tools='pan,wheel_zoom')\n",
    "\n",
    "# create a new plot\n",
    "s1 = figure(**plot_options)\n",
    "s1.circle(x, y0, size=10, color=\"navy\")\n",
    "\n",
    "# create a new plot and share both ranges\n",
    "s2 = figure(x_range=s1.x_range, y_range=s1.y_range, **plot_options)\n",
    "s2.triangle(x, y1, size=10, color=\"firebrick\")\n",
    "\n",
    "# create a new plot and share only one range\n",
    "s3 = figure(x_range=s1.x_range, **plot_options)\n",
    "s3.square(x, y2, size=10, color=\"olive\")\n",
    "\n",
    "p = gridplot([[s1, s2, s3]])\n",
    "\n",
    "# show the results\n",
    "show(p)"
   ]
  },
  {
   "cell_type": "code",
   "execution_count": 3,
   "metadata": {},
   "outputs": [],
   "source": [
    "# EXERCISE: create two plots in a gridplot, and link their ranges\n"
   ]
  },
  {
   "cell_type": "markdown",
   "metadata": {},
   "source": [
    "## Linked brushing\n",
    "\n",
    "Linking selections is accomplished in a similar way, by sharing data sources between plots. Note that normally with ``bokeh.plotting`` and ``bokeh.charts`` creating a default data source for simple plots is handled automatically. However to share a data source, we must create them by hand and pass them explicitly. This is illustrated in the example below:"
   ]
  },
  {
   "cell_type": "code",
   "execution_count": 4,
   "metadata": {},
   "outputs": [
    {
     "data": {
      "text/html": [
       "\n",
       "\n",
       "\n",
       "\n",
       "\n",
       "\n",
       "  <div class=\"bk-root\" id=\"c9f5c57f-3c06-4e19-bf4d-6a1ec7f6e46a\" data-root-id=\"1373\"></div>\n"
      ]
     },
     "metadata": {},
     "output_type": "display_data"
    },
    {
     "data": {
      "application/javascript": [
       "(function(root) {\n",
       "  function embed_document(root) {\n",
       "    \n",
       "  var docs_json = {\"7a40445a-cc6d-4090-afb1-171a9a784510\":{\"roots\":{\"references\":[{\"attributes\":{\"children\":[{\"id\":\"1372\",\"type\":\"ToolbarBox\"},{\"id\":\"1370\",\"type\":\"GridBox\"}]},\"id\":\"1373\",\"type\":\"Column\"},{\"attributes\":{},\"id\":\"1353\",\"type\":\"BasicTickFormatter\"},{\"attributes\":{},\"id\":\"1324\",\"type\":\"LinearScale\"},{\"attributes\":{\"formatter\":{\"id\":\"1353\",\"type\":\"BasicTickFormatter\"},\"ticker\":{\"id\":\"1296\",\"type\":\"BasicTicker\"}},\"id\":\"1295\",\"type\":\"LinearAxis\"},{\"attributes\":{},\"id\":\"1355\",\"type\":\"UnionRenderers\"},{\"attributes\":{\"formatter\":{\"id\":\"1364\",\"type\":\"BasicTickFormatter\"},\"ticker\":{\"id\":\"1327\",\"type\":\"BasicTicker\"}},\"id\":\"1326\",\"type\":\"LinearAxis\"},{\"attributes\":{},\"id\":\"1291\",\"type\":\"LinearScale\"},{\"attributes\":{\"bottom_units\":\"screen\",\"fill_alpha\":{\"value\":0.5},\"fill_color\":{\"value\":\"lightgrey\"},\"left_units\":\"screen\",\"level\":\"overlay\",\"line_alpha\":{\"value\":1.0},\"line_color\":{\"value\":\"black\"},\"line_dash\":[4,4],\"line_width\":{\"value\":2},\"render_mode\":\"css\",\"right_units\":\"screen\",\"top_units\":\"screen\"},\"id\":\"1356\",\"type\":\"BoxAnnotation\"},{\"attributes\":{},\"id\":\"1327\",\"type\":\"BasicTicker\"},{\"attributes\":{},\"id\":\"1296\",\"type\":\"BasicTicker\"},{\"attributes\":{\"fill_alpha\":{\"value\":0.5},\"fill_color\":{\"value\":\"lightgrey\"},\"level\":\"overlay\",\"line_alpha\":{\"value\":1.0},\"line_color\":{\"value\":\"black\"},\"line_dash\":[4,4],\"line_width\":{\"value\":2},\"xs_units\":\"screen\",\"ys_units\":\"screen\"},\"id\":\"1357\",\"type\":\"PolyAnnotation\"},{\"attributes\":{\"ticker\":{\"id\":\"1327\",\"type\":\"BasicTicker\"}},\"id\":\"1330\",\"type\":\"Grid\"},{\"attributes\":{},\"id\":\"1301\",\"type\":\"BasicTicker\"},{\"attributes\":{},\"id\":\"1354\",\"type\":\"Selection\"},{\"attributes\":{\"callback\":null,\"data\":{\"x\":[-20,-19,-18,-17,-16,-15,-14,-13,-12,-11,-10,-9,-8,-7,-6,-5,-4,-3,-2,-1,0,1,2,3,4,5,6,7,8,9,10,11,12,13,14,15,16,17,18,19,20],\"y0\":[20,19,18,17,16,15,14,13,12,11,10,9,8,7,6,5,4,3,2,1,0,1,2,3,4,5,6,7,8,9,10,11,12,13,14,15,16,17,18,19,20],\"y1\":[400,361,324,289,256,225,196,169,144,121,100,81,64,49,36,25,16,9,4,1,0,1,4,9,16,25,36,49,64,81,100,121,144,169,196,225,256,289,324,361,400]},\"selected\":{\"id\":\"1354\",\"type\":\"Selection\"},\"selection_policy\":{\"id\":\"1355\",\"type\":\"UnionRenderers\"}},\"id\":\"1285\",\"type\":\"ColumnDataSource\"},{\"attributes\":{\"text\":\"\"},\"id\":\"1359\",\"type\":\"Title\"},{\"attributes\":{\"formatter\":{\"id\":\"1362\",\"type\":\"BasicTickFormatter\"},\"ticker\":{\"id\":\"1332\",\"type\":\"BasicTicker\"}},\"id\":\"1331\",\"type\":\"LinearAxis\"},{\"attributes\":{\"fill_color\":{\"value\":\"#1f77b4\"},\"line_color\":{\"value\":\"#1f77b4\"},\"x\":{\"field\":\"x\"},\"y\":{\"field\":\"y0\"}},\"id\":\"1313\",\"type\":\"Circle\"},{\"attributes\":{},\"id\":\"1362\",\"type\":\"BasicTickFormatter\"},{\"attributes\":{\"dimension\":1,\"ticker\":{\"id\":\"1332\",\"type\":\"BasicTicker\"}},\"id\":\"1335\",\"type\":\"Grid\"},{\"attributes\":{},\"id\":\"1332\",\"type\":\"BasicTicker\"},{\"attributes\":{\"below\":[{\"id\":\"1326\",\"type\":\"LinearAxis\"}],\"center\":[{\"id\":\"1330\",\"type\":\"Grid\"},{\"id\":\"1335\",\"type\":\"Grid\"}],\"left\":[{\"id\":\"1331\",\"type\":\"LinearAxis\"}],\"plot_height\":300,\"plot_width\":300,\"renderers\":[{\"id\":\"1346\",\"type\":\"GlyphRenderer\"}],\"title\":{\"id\":\"1359\",\"type\":\"Title\"},\"toolbar\":{\"id\":\"1339\",\"type\":\"Toolbar\"},\"toolbar_location\":null,\"x_range\":{\"id\":\"1318\",\"type\":\"DataRange1d\"},\"x_scale\":{\"id\":\"1322\",\"type\":\"LinearScale\"},\"y_range\":{\"id\":\"1320\",\"type\":\"DataRange1d\"},\"y_scale\":{\"id\":\"1324\",\"type\":\"LinearScale\"}},\"id\":\"1317\",\"subtype\":\"Figure\",\"type\":\"Plot\"},{\"attributes\":{},\"id\":\"1364\",\"type\":\"BasicTickFormatter\"},{\"attributes\":{\"callback\":null},\"id\":\"1287\",\"type\":\"DataRange1d\"},{\"attributes\":{\"fill_color\":{\"value\":\"#1f77b4\"},\"line_color\":{\"value\":\"#1f77b4\"},\"x\":{\"field\":\"x\"},\"y\":{\"field\":\"y1\"}},\"id\":\"1344\",\"type\":\"Circle\"},{\"attributes\":{\"below\":[{\"id\":\"1295\",\"type\":\"LinearAxis\"}],\"center\":[{\"id\":\"1299\",\"type\":\"Grid\"},{\"id\":\"1304\",\"type\":\"Grid\"}],\"left\":[{\"id\":\"1300\",\"type\":\"LinearAxis\"}],\"plot_height\":300,\"plot_width\":300,\"renderers\":[{\"id\":\"1315\",\"type\":\"GlyphRenderer\"}],\"title\":{\"id\":\"1348\",\"type\":\"Title\"},\"toolbar\":{\"id\":\"1308\",\"type\":\"Toolbar\"},\"toolbar_location\":null,\"x_range\":{\"id\":\"1287\",\"type\":\"DataRange1d\"},\"x_scale\":{\"id\":\"1291\",\"type\":\"LinearScale\"},\"y_range\":{\"id\":\"1289\",\"type\":\"DataRange1d\"},\"y_scale\":{\"id\":\"1293\",\"type\":\"LinearScale\"}},\"id\":\"1286\",\"subtype\":\"Figure\",\"type\":\"Plot\"},{\"attributes\":{\"active_drag\":\"auto\",\"active_inspect\":\"auto\",\"active_multi\":null,\"active_scroll\":\"auto\",\"active_tap\":\"auto\",\"tools\":[{\"id\":\"1336\",\"type\":\"BoxSelectTool\"},{\"id\":\"1337\",\"type\":\"LassoSelectTool\"},{\"id\":\"1338\",\"type\":\"HelpTool\"}]},\"id\":\"1339\",\"type\":\"Toolbar\"},{\"attributes\":{\"dimension\":1,\"ticker\":{\"id\":\"1301\",\"type\":\"BasicTicker\"}},\"id\":\"1304\",\"type\":\"Grid\"},{\"attributes\":{\"bottom_units\":\"screen\",\"fill_alpha\":{\"value\":0.5},\"fill_color\":{\"value\":\"lightgrey\"},\"left_units\":\"screen\",\"level\":\"overlay\",\"line_alpha\":{\"value\":1.0},\"line_color\":{\"value\":\"black\"},\"line_dash\":[4,4],\"line_width\":{\"value\":2},\"render_mode\":\"css\",\"right_units\":\"screen\",\"top_units\":\"screen\"},\"id\":\"1367\",\"type\":\"BoxAnnotation\"},{\"attributes\":{\"callback\":null,\"overlay\":{\"id\":\"1367\",\"type\":\"BoxAnnotation\"}},\"id\":\"1336\",\"type\":\"BoxSelectTool\"},{\"attributes\":{\"callback\":null},\"id\":\"1318\",\"type\":\"DataRange1d\"},{\"attributes\":{\"fill_alpha\":{\"value\":0.5},\"fill_color\":{\"value\":\"lightgrey\"},\"level\":\"overlay\",\"line_alpha\":{\"value\":1.0},\"line_color\":{\"value\":\"black\"},\"line_dash\":[4,4],\"line_width\":{\"value\":2},\"xs_units\":\"screen\",\"ys_units\":\"screen\"},\"id\":\"1368\",\"type\":\"PolyAnnotation\"},{\"attributes\":{\"callback\":null,\"overlay\":{\"id\":\"1368\",\"type\":\"PolyAnnotation\"}},\"id\":\"1337\",\"type\":\"LassoSelectTool\"},{\"attributes\":{\"active_drag\":\"auto\",\"active_inspect\":\"auto\",\"active_multi\":null,\"active_scroll\":\"auto\",\"active_tap\":\"auto\",\"tools\":[{\"id\":\"1305\",\"type\":\"BoxSelectTool\"},{\"id\":\"1306\",\"type\":\"LassoSelectTool\"},{\"id\":\"1307\",\"type\":\"HelpTool\"}]},\"id\":\"1308\",\"type\":\"Toolbar\"},{\"attributes\":{\"tools\":[{\"id\":\"1305\",\"type\":\"BoxSelectTool\"},{\"id\":\"1306\",\"type\":\"LassoSelectTool\"},{\"id\":\"1307\",\"type\":\"HelpTool\"},{\"id\":\"1336\",\"type\":\"BoxSelectTool\"},{\"id\":\"1337\",\"type\":\"LassoSelectTool\"},{\"id\":\"1338\",\"type\":\"HelpTool\"}]},\"id\":\"1371\",\"type\":\"ProxyToolbar\"},{\"attributes\":{\"callback\":null,\"overlay\":{\"id\":\"1356\",\"type\":\"BoxAnnotation\"}},\"id\":\"1305\",\"type\":\"BoxSelectTool\"},{\"attributes\":{},\"id\":\"1338\",\"type\":\"HelpTool\"},{\"attributes\":{\"toolbar\":{\"id\":\"1371\",\"type\":\"ProxyToolbar\"},\"toolbar_location\":\"above\"},\"id\":\"1372\",\"type\":\"ToolbarBox\"},{\"attributes\":{},\"id\":\"1351\",\"type\":\"BasicTickFormatter\"},{\"attributes\":{},\"id\":\"1322\",\"type\":\"LinearScale\"},{\"attributes\":{\"callback\":null},\"id\":\"1320\",\"type\":\"DataRange1d\"},{\"attributes\":{\"callback\":null,\"overlay\":{\"id\":\"1357\",\"type\":\"PolyAnnotation\"}},\"id\":\"1306\",\"type\":\"LassoSelectTool\"},{\"attributes\":{},\"id\":\"1293\",\"type\":\"LinearScale\"},{\"attributes\":{\"formatter\":{\"id\":\"1351\",\"type\":\"BasicTickFormatter\"},\"ticker\":{\"id\":\"1301\",\"type\":\"BasicTicker\"}},\"id\":\"1300\",\"type\":\"LinearAxis\"},{\"attributes\":{\"fill_alpha\":{\"value\":0.1},\"fill_color\":{\"value\":\"#1f77b4\"},\"line_alpha\":{\"value\":0.1},\"line_color\":{\"value\":\"#1f77b4\"},\"x\":{\"field\":\"x\"},\"y\":{\"field\":\"y1\"}},\"id\":\"1345\",\"type\":\"Circle\"},{\"attributes\":{},\"id\":\"1307\",\"type\":\"HelpTool\"},{\"attributes\":{\"data_source\":{\"id\":\"1285\",\"type\":\"ColumnDataSource\"},\"glyph\":{\"id\":\"1344\",\"type\":\"Circle\"},\"hover_glyph\":null,\"muted_glyph\":null,\"nonselection_glyph\":{\"id\":\"1345\",\"type\":\"Circle\"},\"selection_glyph\":null,\"view\":{\"id\":\"1347\",\"type\":\"CDSView\"}},\"id\":\"1346\",\"type\":\"GlyphRenderer\"},{\"attributes\":{\"fill_alpha\":{\"value\":0.1},\"fill_color\":{\"value\":\"#1f77b4\"},\"line_alpha\":{\"value\":0.1},\"line_color\":{\"value\":\"#1f77b4\"},\"x\":{\"field\":\"x\"},\"y\":{\"field\":\"y0\"}},\"id\":\"1314\",\"type\":\"Circle\"},{\"attributes\":{\"source\":{\"id\":\"1285\",\"type\":\"ColumnDataSource\"}},\"id\":\"1347\",\"type\":\"CDSView\"},{\"attributes\":{\"callback\":null},\"id\":\"1289\",\"type\":\"DataRange1d\"},{\"attributes\":{\"data_source\":{\"id\":\"1285\",\"type\":\"ColumnDataSource\"},\"glyph\":{\"id\":\"1313\",\"type\":\"Circle\"},\"hover_glyph\":null,\"muted_glyph\":null,\"nonselection_glyph\":{\"id\":\"1314\",\"type\":\"Circle\"},\"selection_glyph\":null,\"view\":{\"id\":\"1316\",\"type\":\"CDSView\"}},\"id\":\"1315\",\"type\":\"GlyphRenderer\"},{\"attributes\":{\"children\":[[{\"id\":\"1286\",\"subtype\":\"Figure\",\"type\":\"Plot\"},0,0],[{\"id\":\"1317\",\"subtype\":\"Figure\",\"type\":\"Plot\"},0,1]]},\"id\":\"1370\",\"type\":\"GridBox\"},{\"attributes\":{\"text\":\"\"},\"id\":\"1348\",\"type\":\"Title\"},{\"attributes\":{\"source\":{\"id\":\"1285\",\"type\":\"ColumnDataSource\"}},\"id\":\"1316\",\"type\":\"CDSView\"},{\"attributes\":{\"ticker\":{\"id\":\"1296\",\"type\":\"BasicTicker\"}},\"id\":\"1299\",\"type\":\"Grid\"}],\"root_ids\":[\"1373\"]},\"title\":\"Bokeh Application\",\"version\":\"1.3.4\"}};\n",
       "  var render_items = [{\"docid\":\"7a40445a-cc6d-4090-afb1-171a9a784510\",\"roots\":{\"1373\":\"c9f5c57f-3c06-4e19-bf4d-6a1ec7f6e46a\"}}];\n",
       "  root.Bokeh.embed.embed_items_notebook(docs_json, render_items);\n",
       "\n",
       "  }\n",
       "  if (root.Bokeh !== undefined) {\n",
       "    embed_document(root);\n",
       "  } else {\n",
       "    var attempts = 0;\n",
       "    var timer = setInterval(function(root) {\n",
       "      if (root.Bokeh !== undefined) {\n",
       "        embed_document(root);\n",
       "        clearInterval(timer);\n",
       "      }\n",
       "      attempts++;\n",
       "      if (attempts > 100) {\n",
       "        console.log(\"Bokeh: ERROR: Unable to run BokehJS code because BokehJS library is missing\");\n",
       "        clearInterval(timer);\n",
       "      }\n",
       "    }, 10, root)\n",
       "  }\n",
       "})(window);"
      ],
      "application/vnd.bokehjs_exec.v0+json": ""
     },
     "metadata": {
      "application/vnd.bokehjs_exec.v0+json": {
       "id": "1373"
      }
     },
     "output_type": "display_data"
    }
   ],
   "source": [
    "from bokeh.models import ColumnDataSource\n",
    "\n",
    "x = list(range(-20, 21))\n",
    "y0, y1 = [abs(xx) for xx in x], [xx**2 for xx in x]\n",
    "\n",
    "# create a column data source for the plots to share\n",
    "source = ColumnDataSource(data=dict(x=x, y0=y0, y1=y1))\n",
    "\n",
    "TOOLS = \"box_select,lasso_select,help\"\n",
    "\n",
    "# create a new plot and add a renderer\n",
    "left = figure(tools=TOOLS, width=300, height=300)\n",
    "left.circle('x', 'y0', source=source)\n",
    "\n",
    "# create another new plot and add a renderer\n",
    "right = figure(tools=TOOLS, width=300, height=300)\n",
    "right.circle('x', 'y1', source=source)\n",
    "\n",
    "p = gridplot([[left, right]])\n",
    "\n",
    "show(p)"
   ]
  },
  {
   "cell_type": "code",
   "execution_count": 5,
   "metadata": {},
   "outputs": [],
   "source": [
    "# EXERCISE: create two plots in a gridplot, and link their data sources\n",
    "\n"
   ]
  },
  {
   "cell_type": "markdown",
   "metadata": {},
   "source": [
    "# Hover Tools\n",
    "\n",
    "Bokeh has a Hover Tool that allows additional information to be displayed in a popup whenever the user hovers over a specific glyph. Basic hover tool configuration amounts to providing a list of ``(name, format)`` tuples. The full details can be found in the User's Guide [here](http://bokeh.pydata.org/en/latest/docs/user_guide/tools.html#hovertool).\n",
    "\n",
    "The example below shows some basic usage of the Hover tool with a circle glyph, using hover information defined in utils.py:"
   ]
  },
  {
   "cell_type": "code",
   "execution_count": 6,
   "metadata": {},
   "outputs": [
    {
     "data": {
      "text/html": [
       "\n",
       "\n",
       "\n",
       "\n",
       "\n",
       "\n",
       "  <div class=\"bk-root\" id=\"66e64e68-3642-4e4a-94bd-9571c70ffc9d\" data-root-id=\"1528\"></div>\n"
      ]
     },
     "metadata": {},
     "output_type": "display_data"
    },
    {
     "data": {
      "application/javascript": [
       "(function(root) {\n",
       "  function embed_document(root) {\n",
       "    \n",
       "  var docs_json = {\"f1ad9b2c-b785-4686-9f47-ee8e1977e5b4\":{\"roots\":{\"references\":[{\"attributes\":{\"below\":[{\"id\":\"1539\",\"type\":\"LinearAxis\"}],\"center\":[{\"id\":\"1543\",\"type\":\"Grid\"},{\"id\":\"1548\",\"type\":\"Grid\"}],\"left\":[{\"id\":\"1544\",\"type\":\"LinearAxis\"}],\"plot_height\":300,\"plot_width\":300,\"renderers\":[{\"id\":\"1554\",\"type\":\"GlyphRenderer\"}],\"title\":{\"id\":\"1529\",\"type\":\"Title\"},\"toolbar\":{\"id\":\"1549\",\"type\":\"Toolbar\"},\"x_range\":{\"id\":\"1531\",\"type\":\"DataRange1d\"},\"x_scale\":{\"id\":\"1535\",\"type\":\"LinearScale\"},\"y_range\":{\"id\":\"1533\",\"type\":\"DataRange1d\"},\"y_scale\":{\"id\":\"1537\",\"type\":\"LinearScale\"}},\"id\":\"1528\",\"subtype\":\"Figure\",\"type\":\"Plot\"},{\"attributes\":{},\"id\":\"1545\",\"type\":\"BasicTicker\"},{\"attributes\":{\"dimension\":1,\"ticker\":{\"id\":\"1545\",\"type\":\"BasicTicker\"}},\"id\":\"1548\",\"type\":\"Grid\"},{\"attributes\":{\"active_drag\":\"auto\",\"active_inspect\":\"auto\",\"active_multi\":null,\"active_scroll\":\"auto\",\"active_tap\":\"auto\",\"tools\":[{\"id\":\"1527\",\"type\":\"HoverTool\"}]},\"id\":\"1549\",\"type\":\"Toolbar\"},{\"attributes\":{\"fill_color\":{\"value\":\"#1f77b4\"},\"line_color\":{\"value\":\"#1f77b4\"},\"size\":{\"units\":\"screen\",\"value\":20},\"x\":{\"field\":\"x\"},\"y\":{\"field\":\"y\"}},\"id\":\"1552\",\"type\":\"Circle\"},{\"attributes\":{},\"id\":\"1600\",\"type\":\"BasicTickFormatter\"},{\"attributes\":{\"callback\":null,\"data\":{\"desc\":[\"A\",\"b\",\"C\",\"d\",\"E\"],\"x\":[1,2,3,4,5],\"y\":[2,5,8,2,7]},\"selected\":{\"id\":\"1603\",\"type\":\"Selection\"},\"selection_policy\":{\"id\":\"1604\",\"type\":\"UnionRenderers\"}},\"id\":\"1526\",\"type\":\"ColumnDataSource\"},{\"attributes\":{\"fill_alpha\":{\"value\":0.1},\"fill_color\":{\"value\":\"#1f77b4\"},\"line_alpha\":{\"value\":0.1},\"line_color\":{\"value\":\"#1f77b4\"},\"size\":{\"units\":\"screen\",\"value\":20},\"x\":{\"field\":\"x\"},\"y\":{\"field\":\"y\"}},\"id\":\"1553\",\"type\":\"Circle\"},{\"attributes\":{\"callback\":null,\"tooltips\":[[\"index\",\"$index\"],[\"(x,y)\",\"($x, $y)\"],[\"desc\",\"@desc\"]]},\"id\":\"1527\",\"type\":\"HoverTool\"},{\"attributes\":{\"data_source\":{\"id\":\"1526\",\"type\":\"ColumnDataSource\"},\"glyph\":{\"id\":\"1552\",\"type\":\"Circle\"},\"hover_glyph\":null,\"muted_glyph\":null,\"nonselection_glyph\":{\"id\":\"1553\",\"type\":\"Circle\"},\"selection_glyph\":null,\"view\":{\"id\":\"1555\",\"type\":\"CDSView\"}},\"id\":\"1554\",\"type\":\"GlyphRenderer\"},{\"attributes\":{\"source\":{\"id\":\"1526\",\"type\":\"ColumnDataSource\"}},\"id\":\"1555\",\"type\":\"CDSView\"},{\"attributes\":{},\"id\":\"1602\",\"type\":\"BasicTickFormatter\"},{\"attributes\":{},\"id\":\"1603\",\"type\":\"Selection\"},{\"attributes\":{},\"id\":\"1604\",\"type\":\"UnionRenderers\"},{\"attributes\":{\"ticker\":{\"id\":\"1540\",\"type\":\"BasicTicker\"}},\"id\":\"1543\",\"type\":\"Grid\"},{\"attributes\":{\"text\":\"Mouse over the dots\"},\"id\":\"1529\",\"type\":\"Title\"},{\"attributes\":{},\"id\":\"1537\",\"type\":\"LinearScale\"},{\"attributes\":{},\"id\":\"1540\",\"type\":\"BasicTicker\"},{\"attributes\":{},\"id\":\"1535\",\"type\":\"LinearScale\"},{\"attributes\":{\"formatter\":{\"id\":\"1600\",\"type\":\"BasicTickFormatter\"},\"ticker\":{\"id\":\"1545\",\"type\":\"BasicTicker\"}},\"id\":\"1544\",\"type\":\"LinearAxis\"},{\"attributes\":{\"callback\":null},\"id\":\"1531\",\"type\":\"DataRange1d\"},{\"attributes\":{\"formatter\":{\"id\":\"1602\",\"type\":\"BasicTickFormatter\"},\"ticker\":{\"id\":\"1540\",\"type\":\"BasicTicker\"}},\"id\":\"1539\",\"type\":\"LinearAxis\"},{\"attributes\":{\"callback\":null},\"id\":\"1533\",\"type\":\"DataRange1d\"}],\"root_ids\":[\"1528\"]},\"title\":\"Bokeh Application\",\"version\":\"1.3.4\"}};\n",
       "  var render_items = [{\"docid\":\"f1ad9b2c-b785-4686-9f47-ee8e1977e5b4\",\"roots\":{\"1528\":\"66e64e68-3642-4e4a-94bd-9571c70ffc9d\"}}];\n",
       "  root.Bokeh.embed.embed_items_notebook(docs_json, render_items);\n",
       "\n",
       "  }\n",
       "  if (root.Bokeh !== undefined) {\n",
       "    embed_document(root);\n",
       "  } else {\n",
       "    var attempts = 0;\n",
       "    var timer = setInterval(function(root) {\n",
       "      if (root.Bokeh !== undefined) {\n",
       "        embed_document(root);\n",
       "        clearInterval(timer);\n",
       "      }\n",
       "      attempts++;\n",
       "      if (attempts > 100) {\n",
       "        console.log(\"Bokeh: ERROR: Unable to run BokehJS code because BokehJS library is missing\");\n",
       "        clearInterval(timer);\n",
       "      }\n",
       "    }, 10, root)\n",
       "  }\n",
       "})(window);"
      ],
      "application/vnd.bokehjs_exec.v0+json": ""
     },
     "metadata": {
      "application/vnd.bokehjs_exec.v0+json": {
       "id": "1528"
      }
     },
     "output_type": "display_data"
    }
   ],
   "source": [
    "from bokeh.models import HoverTool\n",
    "\n",
    "source = ColumnDataSource(\n",
    "        data=dict(\n",
    "            x=[1, 2, 3, 4, 5],\n",
    "            y=[2, 5, 8, 2, 7],\n",
    "            desc=['A', 'b', 'C', 'd', 'E'],\n",
    "        )\n",
    "    )\n",
    "\n",
    "hover = HoverTool(\n",
    "        tooltips=[\n",
    "            (\"index\", \"$index\"),\n",
    "            (\"(x,y)\", \"($x, $y)\"),\n",
    "            (\"desc\", \"@desc\"),\n",
    "        ]\n",
    "    )\n",
    "\n",
    "p = figure(plot_width=300, plot_height=300, tools=[hover], title=\"Mouse over the dots\")\n",
    "\n",
    "p.circle('x', 'y', size=20, source=source)\n",
    "\n",
    "show(p)"
   ]
  },
  {
   "cell_type": "markdown",
   "metadata": {},
   "source": [
    "# Widgets"
   ]
  },
  {
   "cell_type": "markdown",
   "metadata": {},
   "source": [
    "Bokeh supports direct integration with a small basic widget set. Thse can be used in conjunction with a Bokeh Server, or with ``CustomJS`` models to add more interactive capability to your documents. You can see a complete list, with example code in the [Adding Widgets](http://bokeh.pydata.org/en/latest/docs/user_guide/interaction.html#adding-widgets) section of the User's Guide. \n",
    "\n",
    "\n",
    "\n",
    "*NOTE: In this Tutorial chapter, we will focus on using widgets with JavaScript callbacks. The Tutorial chapter on Bokeh server applications covers using Bokeh widgets with real Python callbacks*\n",
    "\n",
    "\n",
    "\n",
    "\n",
    "To use the widgets, include them in a layout like you would a plot object:"
   ]
  },
  {
   "cell_type": "code",
   "execution_count": 7,
   "metadata": {},
   "outputs": [
    {
     "data": {
      "text/html": [
       "\n",
       "\n",
       "\n",
       "\n",
       "\n",
       "\n",
       "  <div class=\"bk-root\" id=\"d4434632-2f2d-4279-87a6-795ca02a0e67\" data-root-id=\"1648\"></div>\n"
      ]
     },
     "metadata": {},
     "output_type": "display_data"
    },
    {
     "data": {
      "application/javascript": [
       "(function(root) {\n",
       "  function embed_document(root) {\n",
       "    \n",
       "  var docs_json = {\"f44c55a3-ee6b-43e1-9baf-aaa59dea5ead\":{\"roots\":{\"references\":[{\"attributes\":{\"children\":[{\"id\":\"1647\",\"type\":\"Slider\"}]},\"id\":\"1648\",\"type\":\"WidgetBox\"},{\"attributes\":{\"callback\":null,\"end\":10,\"start\":0,\"step\":0.1,\"title\":\"foo\",\"value\":1},\"id\":\"1647\",\"type\":\"Slider\"}],\"root_ids\":[\"1648\"]},\"title\":\"Bokeh Application\",\"version\":\"1.3.4\"}};\n",
       "  var render_items = [{\"docid\":\"f44c55a3-ee6b-43e1-9baf-aaa59dea5ead\",\"roots\":{\"1648\":\"d4434632-2f2d-4279-87a6-795ca02a0e67\"}}];\n",
       "  root.Bokeh.embed.embed_items_notebook(docs_json, render_items);\n",
       "\n",
       "  }\n",
       "  if (root.Bokeh !== undefined) {\n",
       "    embed_document(root);\n",
       "  } else {\n",
       "    var attempts = 0;\n",
       "    var timer = setInterval(function(root) {\n",
       "      if (root.Bokeh !== undefined) {\n",
       "        embed_document(root);\n",
       "        clearInterval(timer);\n",
       "      }\n",
       "      attempts++;\n",
       "      if (attempts > 100) {\n",
       "        console.log(\"Bokeh: ERROR: Unable to run BokehJS code because BokehJS library is missing\");\n",
       "        clearInterval(timer);\n",
       "      }\n",
       "    }, 10, root)\n",
       "  }\n",
       "})(window);"
      ],
      "application/vnd.bokehjs_exec.v0+json": ""
     },
     "metadata": {
      "application/vnd.bokehjs_exec.v0+json": {
       "id": "1648"
      }
     },
     "output_type": "display_data"
    }
   ],
   "source": [
    "from bokeh.layouts import widgetbox\n",
    "from bokeh.models.widgets import Slider\n",
    "\n",
    "\n",
    "slider = Slider(start=0, end=10, value=1, step=.1, title=\"foo\")\n",
    "\n",
    "show(widgetbox(slider))"
   ]
  },
  {
   "cell_type": "code",
   "execution_count": 8,
   "metadata": {},
   "outputs": [],
   "source": [
    "# EXERCISE: create and show a Select widget \n"
   ]
  },
  {
   "cell_type": "markdown",
   "metadata": {},
   "source": [
    "# CustomJS Callbacks\n",
    "\n",
    "In order for a widget to be useful, it needs to be able to perform some action. Using the Bokeh server, it is possible to have widgets trigger real Python code. That possibuility will be explored in the Bokeh server chapter of the turorial. Here, we look at how widgets can be configured with `CustomJS` callbacks that execute snippets of JavaScript code. "
   ]
  },
  {
   "cell_type": "code",
   "execution_count": 9,
   "metadata": {},
   "outputs": [
    {
     "data": {
      "text/html": [
       "\n",
       "\n",
       "\n",
       "\n",
       "\n",
       "\n",
       "  <div class=\"bk-root\" id=\"189f6287-fbb7-4824-9410-d91330e2785e\" data-root-id=\"1700\"></div>\n"
      ]
     },
     "metadata": {},
     "output_type": "display_data"
    },
    {
     "data": {
      "application/javascript": [
       "(function(root) {\n",
       "  function embed_document(root) {\n",
       "    \n",
       "  var docs_json = {\"972b1e89-b4f0-4c97-b6e8-38fbb0c280bb\":{\"roots\":{\"references\":[{\"attributes\":{\"below\":[{\"id\":\"1709\",\"type\":\"LinearAxis\"}],\"center\":[{\"id\":\"1713\",\"type\":\"Grid\"},{\"id\":\"1718\",\"type\":\"Grid\"}],\"left\":[{\"id\":\"1714\",\"type\":\"LinearAxis\"}],\"plot_height\":300,\"renderers\":[{\"id\":\"1724\",\"type\":\"GlyphRenderer\"}],\"title\":{\"id\":\"1775\",\"type\":\"Title\"},\"toolbar\":{\"id\":\"1719\",\"type\":\"Toolbar\"},\"x_range\":{\"id\":\"1701\",\"type\":\"DataRange1d\"},\"x_scale\":{\"id\":\"1705\",\"type\":\"LinearScale\"},\"y_range\":{\"id\":\"1703\",\"type\":\"DataRange1d\"},\"y_scale\":{\"id\":\"1707\",\"type\":\"LinearScale\"}},\"id\":\"1700\",\"subtype\":\"Figure\",\"type\":\"Plot\"},{\"attributes\":{\"source\":{\"id\":\"1721\",\"type\":\"ColumnDataSource\"}},\"id\":\"1725\",\"type\":\"CDSView\"},{\"attributes\":{\"callback\":null},\"id\":\"1703\",\"type\":\"DataRange1d\"},{\"attributes\":{\"data_source\":{\"id\":\"1721\",\"type\":\"ColumnDataSource\"},\"glyph\":{\"id\":\"1722\",\"type\":\"Circle\"},\"hover_glyph\":null,\"muted_glyph\":null,\"nonselection_glyph\":{\"id\":\"1723\",\"type\":\"Circle\"},\"selection_glyph\":null,\"view\":{\"id\":\"1725\",\"type\":\"CDSView\"}},\"id\":\"1724\",\"type\":\"GlyphRenderer\"},{\"attributes\":{},\"id\":\"1707\",\"type\":\"LinearScale\"},{\"attributes\":{},\"id\":\"1705\",\"type\":\"LinearScale\"},{\"attributes\":{\"fill_color\":{\"value\":\"#1f77b4\"},\"line_color\":{\"value\":\"#1f77b4\"},\"size\":{\"units\":\"screen\",\"value\":20},\"x\":{\"field\":\"x\"},\"y\":{\"field\":\"y\"}},\"id\":\"1722\",\"type\":\"Circle\"},{\"attributes\":{\"callback\":null,\"data\":{\"x\":[1,2,3,4,5],\"y\":[2,5,8,2,7]},\"selected\":{\"id\":\"1781\",\"type\":\"Selection\"},\"selection_policy\":{\"id\":\"1782\",\"type\":\"UnionRenderers\"}},\"id\":\"1721\",\"type\":\"ColumnDataSource\"},{\"attributes\":{\"fill_alpha\":{\"value\":0.1},\"fill_color\":{\"value\":\"#1f77b4\"},\"line_alpha\":{\"value\":0.1},\"line_color\":{\"value\":\"#1f77b4\"},\"size\":{\"units\":\"screen\",\"value\":20},\"x\":{\"field\":\"x\"},\"y\":{\"field\":\"y\"}},\"id\":\"1723\",\"type\":\"Circle\"},{\"attributes\":{\"code\":\"alert('you tapped a circle!')\"},\"id\":\"1698\",\"type\":\"CustomJS\"},{\"attributes\":{\"callback\":null},\"id\":\"1701\",\"type\":\"DataRange1d\"},{\"attributes\":{\"callback\":{\"id\":\"1698\",\"type\":\"CustomJS\"}},\"id\":\"1699\",\"type\":\"TapTool\"},{\"attributes\":{\"active_drag\":\"auto\",\"active_inspect\":\"auto\",\"active_multi\":null,\"active_scroll\":\"auto\",\"active_tap\":\"auto\",\"tools\":[{\"id\":\"1699\",\"type\":\"TapTool\"}]},\"id\":\"1719\",\"type\":\"Toolbar\"},{\"attributes\":{},\"id\":\"1715\",\"type\":\"BasicTicker\"},{\"attributes\":{\"dimension\":1,\"ticker\":{\"id\":\"1715\",\"type\":\"BasicTicker\"}},\"id\":\"1718\",\"type\":\"Grid\"},{\"attributes\":{\"text\":\"\"},\"id\":\"1775\",\"type\":\"Title\"},{\"attributes\":{},\"id\":\"1778\",\"type\":\"BasicTickFormatter\"},{\"attributes\":{\"formatter\":{\"id\":\"1778\",\"type\":\"BasicTickFormatter\"},\"ticker\":{\"id\":\"1715\",\"type\":\"BasicTicker\"}},\"id\":\"1714\",\"type\":\"LinearAxis\"},{\"attributes\":{\"formatter\":{\"id\":\"1780\",\"type\":\"BasicTickFormatter\"},\"ticker\":{\"id\":\"1710\",\"type\":\"BasicTicker\"}},\"id\":\"1709\",\"type\":\"LinearAxis\"},{\"attributes\":{},\"id\":\"1710\",\"type\":\"BasicTicker\"},{\"attributes\":{},\"id\":\"1782\",\"type\":\"UnionRenderers\"},{\"attributes\":{\"ticker\":{\"id\":\"1710\",\"type\":\"BasicTicker\"}},\"id\":\"1713\",\"type\":\"Grid\"},{\"attributes\":{},\"id\":\"1781\",\"type\":\"Selection\"},{\"attributes\":{},\"id\":\"1780\",\"type\":\"BasicTickFormatter\"}],\"root_ids\":[\"1700\"]},\"title\":\"Bokeh Application\",\"version\":\"1.3.4\"}};\n",
       "  var render_items = [{\"docid\":\"972b1e89-b4f0-4c97-b6e8-38fbb0c280bb\",\"roots\":{\"1700\":\"189f6287-fbb7-4824-9410-d91330e2785e\"}}];\n",
       "  root.Bokeh.embed.embed_items_notebook(docs_json, render_items);\n",
       "\n",
       "  }\n",
       "  if (root.Bokeh !== undefined) {\n",
       "    embed_document(root);\n",
       "  } else {\n",
       "    var attempts = 0;\n",
       "    var timer = setInterval(function(root) {\n",
       "      if (root.Bokeh !== undefined) {\n",
       "        embed_document(root);\n",
       "        clearInterval(timer);\n",
       "      }\n",
       "      attempts++;\n",
       "      if (attempts > 100) {\n",
       "        console.log(\"Bokeh: ERROR: Unable to run BokehJS code because BokehJS library is missing\");\n",
       "        clearInterval(timer);\n",
       "      }\n",
       "    }, 10, root)\n",
       "  }\n",
       "})(window);"
      ],
      "application/vnd.bokehjs_exec.v0+json": ""
     },
     "metadata": {
      "application/vnd.bokehjs_exec.v0+json": {
       "id": "1700"
      }
     },
     "output_type": "display_data"
    }
   ],
   "source": [
    "from bokeh.models import TapTool, CustomJS, ColumnDataSource\n",
    "\n",
    "callback = CustomJS(code=\"alert('you tapped a circle!')\")\n",
    "tap = TapTool(callback=callback)\n",
    "\n",
    "p = figure(plot_width=600, plot_height=300, tools=[tap])\n",
    "\n",
    "p.circle(x=[1, 2, 3, 4, 5], y=[2, 5, 8, 2, 7], size=20)\n",
    "\n",
    "show(p)"
   ]
  },
  {
   "cell_type": "markdown",
   "metadata": {},
   "source": [
    "## CustomJS for Property changes\n",
    "\n",
    "Bokeh objects that have values associated can have small JavaScript actions attached to them using the `js_on_change` method. These actions (also referred to as \"callbacks\") are executed whenever the widget's value is changed. In order to make it easier to refer to specific Bokeh models (e.g., a data source, or a glyhph) from JavaScript, the ``CustomJS`` obejct also accepts a dictionary of \"args\" that map names to Python Bokeh models. The corresponding JavaScript models are made available automaticaly to the ``CustomJS`` code:\n",
    "\n",
    "```python\n",
    "CustomJS(args=dict(source=source, slider=slider), code=\"\"\"\n",
    "    // easily refer to BokehJS source and slider objects in this JS code\n",
    "    var data = source.data;\n",
    "    var f = slider.value;\n",
    "\"\"\")\n",
    "```"
   ]
  },
  {
   "cell_type": "markdown",
   "metadata": {},
   "source": [
    "### Slider widget example\n",
    "\n",
    "The example below shows an action attached to a slider that updates a data source whenever the slider is moved.  "
   ]
  },
  {
   "cell_type": "code",
   "execution_count": 10,
   "metadata": {},
   "outputs": [
    {
     "data": {
      "text/html": [
       "\n",
       "\n",
       "\n",
       "\n",
       "\n",
       "\n",
       "  <div class=\"bk-root\" id=\"f212c663-1db4-4fdd-85bf-d2c6c97d5bd0\" data-root-id=\"1871\"></div>\n"
      ]
     },
     "metadata": {},
     "output_type": "display_data"
    },
    {
     "data": {
      "application/javascript": [
       "(function(root) {\n",
       "  function embed_document(root) {\n",
       "    \n",
       "  var docs_json = {\"bdec0481-ca2f-4fa8-aceb-facb583c0bbf\":{\"roots\":{\"references\":[{\"attributes\":{\"children\":[{\"id\":\"1869\",\"type\":\"Slider\"},{\"id\":\"1832\",\"subtype\":\"Figure\",\"type\":\"Plot\"}]},\"id\":\"1871\",\"type\":\"Column\"},{\"attributes\":{},\"id\":\"1839\",\"type\":\"LinearScale\"},{\"attributes\":{\"source\":{\"id\":\"1831\",\"type\":\"ColumnDataSource\"}},\"id\":\"1868\",\"type\":\"CDSView\"},{\"attributes\":{\"formatter\":{\"id\":\"1934\",\"type\":\"BasicTickFormatter\"},\"ticker\":{\"id\":\"1842\",\"type\":\"BasicTicker\"}},\"id\":\"1841\",\"type\":\"LinearAxis\"},{\"attributes\":{\"args\":{\"slider\":{\"id\":\"1869\",\"type\":\"Slider\"},\"source\":{\"id\":\"1831\",\"type\":\"ColumnDataSource\"}},\"code\":\"\\n    var data = source.data;\\n    var f = slider.value;\\n    x = data['x']\\n    y = data['y']\\n    for (i = 0; i < x.length; i++) {\\n        y[i] = Math.pow(x[i], f)\\n    }\\n    \\n    // necessary becasue we mutated source.data in-place\\n    source.change.emit();\\n\"},\"id\":\"1870\",\"type\":\"CustomJS\"},{\"attributes\":{},\"id\":\"1842\",\"type\":\"BasicTicker\"},{\"attributes\":{\"ticker\":{\"id\":\"1842\",\"type\":\"BasicTicker\"}},\"id\":\"1845\",\"type\":\"Grid\"},{\"attributes\":{\"formatter\":{\"id\":\"1932\",\"type\":\"BasicTickFormatter\"},\"ticker\":{\"id\":\"1847\",\"type\":\"BasicTicker\"}},\"id\":\"1846\",\"type\":\"LinearAxis\"},{\"attributes\":{},\"id\":\"1847\",\"type\":\"BasicTicker\"},{\"attributes\":{},\"id\":\"1935\",\"type\":\"Selection\"},{\"attributes\":{\"dimension\":1,\"ticker\":{\"id\":\"1847\",\"type\":\"BasicTicker\"}},\"id\":\"1850\",\"type\":\"Grid\"},{\"attributes\":{},\"id\":\"1936\",\"type\":\"UnionRenderers\"},{\"attributes\":{},\"id\":\"1934\",\"type\":\"BasicTickFormatter\"},{\"attributes\":{\"bottom_units\":\"screen\",\"fill_alpha\":{\"value\":0.5},\"fill_color\":{\"value\":\"lightgrey\"},\"left_units\":\"screen\",\"level\":\"overlay\",\"line_alpha\":{\"value\":1.0},\"line_color\":{\"value\":\"black\"},\"line_dash\":[4,4],\"line_width\":{\"value\":2},\"render_mode\":\"css\",\"right_units\":\"screen\",\"top_units\":\"screen\"},\"id\":\"1937\",\"type\":\"BoxAnnotation\"},{\"attributes\":{\"line_alpha\":0.1,\"line_color\":\"#1f77b4\",\"line_width\":3,\"x\":{\"field\":\"x\"},\"y\":{\"field\":\"y\"}},\"id\":\"1866\",\"type\":\"Line\"},{\"attributes\":{\"line_alpha\":0.6,\"line_color\":\"#1f77b4\",\"line_width\":3,\"x\":{\"field\":\"x\"},\"y\":{\"field\":\"y\"}},\"id\":\"1865\",\"type\":\"Line\"},{\"attributes\":{\"callback\":null,\"end\":6,\"js_property_callbacks\":{\"change:value\":[{\"id\":\"1870\",\"type\":\"CustomJS\"}]},\"start\":0.1,\"step\":0.1,\"title\":\"power\",\"value\":1},\"id\":\"1869\",\"type\":\"Slider\"},{\"attributes\":{\"active_drag\":\"auto\",\"active_inspect\":\"auto\",\"active_multi\":null,\"active_scroll\":\"auto\",\"active_tap\":\"auto\",\"tools\":[{\"id\":\"1851\",\"type\":\"PanTool\"},{\"id\":\"1852\",\"type\":\"WheelZoomTool\"},{\"id\":\"1853\",\"type\":\"BoxZoomTool\"},{\"id\":\"1854\",\"type\":\"SaveTool\"},{\"id\":\"1855\",\"type\":\"ResetTool\"},{\"id\":\"1856\",\"type\":\"HelpTool\"}]},\"id\":\"1857\",\"type\":\"Toolbar\"},{\"attributes\":{},\"id\":\"1851\",\"type\":\"PanTool\"},{\"attributes\":{},\"id\":\"1852\",\"type\":\"WheelZoomTool\"},{\"attributes\":{\"callback\":null,\"data\":{\"x\":[0.0,0.005,0.01,0.015,0.02,0.025,0.03,0.035,0.04,0.045,0.05,0.055,0.06,0.065,0.07,0.075,0.08,0.085,0.09,0.095,0.1,0.105,0.11,0.115,0.12,0.125,0.13,0.135,0.14,0.145,0.15,0.155,0.16,0.165,0.17,0.17500000000000002,0.18,0.185,0.19,0.195,0.2,0.20500000000000002,0.21,0.215,0.22,0.225,0.23,0.23500000000000001,0.24,0.245,0.25,0.255,0.26,0.265,0.27,0.275,0.28,0.28500000000000003,0.29,0.295,0.3,0.305,0.31,0.315,0.32,0.325,0.33,0.335,0.34,0.34500000000000003,0.35000000000000003,0.355,0.36,0.365,0.37,0.375,0.38,0.385,0.39,0.395,0.4,0.405,0.41000000000000003,0.41500000000000004,0.42,0.425,0.43,0.435,0.44,0.445,0.45,0.455,0.46,0.465,0.47000000000000003,0.47500000000000003,0.48,0.485,0.49,0.495,0.5,0.505,0.51,0.515,0.52,0.525,0.53,0.535,0.54,0.545,0.55,0.555,0.56,0.5650000000000001,0.5700000000000001,0.5750000000000001,0.58,0.585,0.59,0.595,0.6,0.605,0.61,0.615,0.62,0.625,0.63,0.635,0.64,0.645,0.65,0.655,0.66,0.665,0.67,0.675,0.68,0.685,0.6900000000000001,0.6950000000000001,0.7000000000000001,0.705,0.71,0.715,0.72,0.725,0.73,0.735,0.74,0.745,0.75,0.755,0.76,0.765,0.77,0.775,0.78,0.785,0.79,0.795,0.8,0.805,0.81,0.8150000000000001,0.8200000000000001,0.8250000000000001,0.8300000000000001,0.835,0.84,0.845,0.85,0.855,0.86,0.865,0.87,0.875,0.88,0.885,0.89,0.895,0.9,0.905,0.91,0.915,0.92,0.925,0.93,0.935,0.9400000000000001,0.9450000000000001,0.9500000000000001,0.9550000000000001,0.96,0.965,0.97,0.975,0.98,0.985,0.99,0.995,1.0],\"y\":[0.0,0.005,0.01,0.015,0.02,0.025,0.03,0.035,0.04,0.045,0.05,0.055,0.06,0.065,0.07,0.075,0.08,0.085,0.09,0.095,0.1,0.105,0.11,0.115,0.12,0.125,0.13,0.135,0.14,0.145,0.15,0.155,0.16,0.165,0.17,0.17500000000000002,0.18,0.185,0.19,0.195,0.2,0.20500000000000002,0.21,0.215,0.22,0.225,0.23,0.23500000000000001,0.24,0.245,0.25,0.255,0.26,0.265,0.27,0.275,0.28,0.28500000000000003,0.29,0.295,0.3,0.305,0.31,0.315,0.32,0.325,0.33,0.335,0.34,0.34500000000000003,0.35000000000000003,0.355,0.36,0.365,0.37,0.375,0.38,0.385,0.39,0.395,0.4,0.405,0.41000000000000003,0.41500000000000004,0.42,0.425,0.43,0.435,0.44,0.445,0.45,0.455,0.46,0.465,0.47000000000000003,0.47500000000000003,0.48,0.485,0.49,0.495,0.5,0.505,0.51,0.515,0.52,0.525,0.53,0.535,0.54,0.545,0.55,0.555,0.56,0.5650000000000001,0.5700000000000001,0.5750000000000001,0.58,0.585,0.59,0.595,0.6,0.605,0.61,0.615,0.62,0.625,0.63,0.635,0.64,0.645,0.65,0.655,0.66,0.665,0.67,0.675,0.68,0.685,0.6900000000000001,0.6950000000000001,0.7000000000000001,0.705,0.71,0.715,0.72,0.725,0.73,0.735,0.74,0.745,0.75,0.755,0.76,0.765,0.77,0.775,0.78,0.785,0.79,0.795,0.8,0.805,0.81,0.8150000000000001,0.8200000000000001,0.8250000000000001,0.8300000000000001,0.835,0.84,0.845,0.85,0.855,0.86,0.865,0.87,0.875,0.88,0.885,0.89,0.895,0.9,0.905,0.91,0.915,0.92,0.925,0.93,0.935,0.9400000000000001,0.9450000000000001,0.9500000000000001,0.9550000000000001,0.96,0.965,0.97,0.975,0.98,0.985,0.99,0.995,1.0]},\"selected\":{\"id\":\"1935\",\"type\":\"Selection\"},\"selection_policy\":{\"id\":\"1936\",\"type\":\"UnionRenderers\"}},\"id\":\"1831\",\"type\":\"ColumnDataSource\"},{\"attributes\":{\"below\":[{\"id\":\"1841\",\"type\":\"LinearAxis\"}],\"center\":[{\"id\":\"1845\",\"type\":\"Grid\"},{\"id\":\"1850\",\"type\":\"Grid\"}],\"left\":[{\"id\":\"1846\",\"type\":\"LinearAxis\"}],\"plot_height\":400,\"plot_width\":400,\"renderers\":[{\"id\":\"1867\",\"type\":\"GlyphRenderer\"}],\"title\":{\"id\":\"1929\",\"type\":\"Title\"},\"toolbar\":{\"id\":\"1857\",\"type\":\"Toolbar\"},\"x_range\":{\"id\":\"1833\",\"type\":\"DataRange1d\"},\"x_scale\":{\"id\":\"1837\",\"type\":\"LinearScale\"},\"y_range\":{\"id\":\"1835\",\"type\":\"DataRange1d\"},\"y_scale\":{\"id\":\"1839\",\"type\":\"LinearScale\"}},\"id\":\"1832\",\"subtype\":\"Figure\",\"type\":\"Plot\"},{\"attributes\":{\"overlay\":{\"id\":\"1937\",\"type\":\"BoxAnnotation\"}},\"id\":\"1853\",\"type\":\"BoxZoomTool\"},{\"attributes\":{},\"id\":\"1854\",\"type\":\"SaveTool\"},{\"attributes\":{\"text\":\"\"},\"id\":\"1929\",\"type\":\"Title\"},{\"attributes\":{},\"id\":\"1855\",\"type\":\"ResetTool\"},{\"attributes\":{},\"id\":\"1932\",\"type\":\"BasicTickFormatter\"},{\"attributes\":{\"callback\":null},\"id\":\"1833\",\"type\":\"DataRange1d\"},{\"attributes\":{},\"id\":\"1856\",\"type\":\"HelpTool\"},{\"attributes\":{\"callback\":null},\"id\":\"1835\",\"type\":\"DataRange1d\"},{\"attributes\":{\"data_source\":{\"id\":\"1831\",\"type\":\"ColumnDataSource\"},\"glyph\":{\"id\":\"1865\",\"type\":\"Line\"},\"hover_glyph\":null,\"muted_glyph\":null,\"nonselection_glyph\":{\"id\":\"1866\",\"type\":\"Line\"},\"selection_glyph\":null,\"view\":{\"id\":\"1868\",\"type\":\"CDSView\"}},\"id\":\"1867\",\"type\":\"GlyphRenderer\"},{\"attributes\":{},\"id\":\"1837\",\"type\":\"LinearScale\"}],\"root_ids\":[\"1871\"]},\"title\":\"Bokeh Application\",\"version\":\"1.3.4\"}};\n",
       "  var render_items = [{\"docid\":\"bdec0481-ca2f-4fa8-aceb-facb583c0bbf\",\"roots\":{\"1871\":\"f212c663-1db4-4fdd-85bf-d2c6c97d5bd0\"}}];\n",
       "  root.Bokeh.embed.embed_items_notebook(docs_json, render_items);\n",
       "\n",
       "  }\n",
       "  if (root.Bokeh !== undefined) {\n",
       "    embed_document(root);\n",
       "  } else {\n",
       "    var attempts = 0;\n",
       "    var timer = setInterval(function(root) {\n",
       "      if (root.Bokeh !== undefined) {\n",
       "        embed_document(root);\n",
       "        clearInterval(timer);\n",
       "      }\n",
       "      attempts++;\n",
       "      if (attempts > 100) {\n",
       "        console.log(\"Bokeh: ERROR: Unable to run BokehJS code because BokehJS library is missing\");\n",
       "        clearInterval(timer);\n",
       "      }\n",
       "    }, 10, root)\n",
       "  }\n",
       "})(window);"
      ],
      "application/vnd.bokehjs_exec.v0+json": ""
     },
     "metadata": {
      "application/vnd.bokehjs_exec.v0+json": {
       "id": "1871"
      }
     },
     "output_type": "display_data"
    }
   ],
   "source": [
    "from bokeh.layouts import column\n",
    "from bokeh.models import CustomJS, ColumnDataSource, Slider\n",
    "\n",
    "x = [x*0.005 for x in range(0, 201)]\n",
    "\n",
    "source = ColumnDataSource(data=dict(x=x, y=x))\n",
    "\n",
    "plot = figure(plot_width=400, plot_height=400)\n",
    "plot.line('x', 'y', source=source, line_width=3, line_alpha=0.6)\n",
    "\n",
    "slider = Slider(start=0.1, end=6, value=1, step=.1, title=\"power\")\n",
    "\n",
    "update_curve = CustomJS(args=dict(source=source, slider=slider), code=\"\"\"\n",
    "    var data = source.data;\n",
    "    var f = slider.value;\n",
    "    x = data['x']\n",
    "    y = data['y']\n",
    "    for (i = 0; i < x.length; i++) {\n",
    "        y[i] = Math.pow(x[i], f)\n",
    "    }\n",
    "    \n",
    "    // necessary becasue we mutated source.data in-place\n",
    "    source.change.emit();\n",
    "\"\"\")\n",
    "slider.js_on_change('value', update_curve)\n",
    "\n",
    "\n",
    "show(column(slider, plot))"
   ]
  },
  {
   "cell_type": "code",
   "execution_count": 11,
   "metadata": {},
   "outputs": [],
   "source": [
    "# Exercise: Create a plot that updates based on a Select widget\n",
    "\n"
   ]
  },
  {
   "cell_type": "markdown",
   "metadata": {},
   "source": [
    "### Data selection example\n",
    "\n",
    "It's also possible to make JavaScript actions that execute whenever a user selection (e.g., box, point, lasso) changes. This is done by attaching the same kind of CustomJS object to whatever data source the selection is made on.\n",
    "\n",
    "The example below is a bit more sophisticated, and demonstrates updating one glyph's data source in response to another glyph's selection: "
   ]
  },
  {
   "cell_type": "code",
   "execution_count": 12,
   "metadata": {},
   "outputs": [
    {
     "data": {
      "text/html": [
       "\n",
       "\n",
       "\n",
       "\n",
       "\n",
       "\n",
       "  <div class=\"bk-root\" id=\"dcdbddd1-54b3-4aeb-86d2-60dffa5292f7\" data-root-id=\"1993\"></div>\n"
      ]
     },
     "metadata": {},
     "output_type": "display_data"
    },
    {
     "data": {
      "application/javascript": [
       "(function(root) {\n",
       "  function embed_document(root) {\n",
       "    \n",
       "  var docs_json = {\"bf7a7ec9-4e14-47a5-9c0e-fa72d651920f\":{\"roots\":{\"references\":[{\"attributes\":{\"below\":[{\"id\":\"2004\",\"type\":\"LinearAxis\"}],\"center\":[{\"id\":\"2008\",\"type\":\"Grid\"},{\"id\":\"2013\",\"type\":\"Grid\"}],\"left\":[{\"id\":\"2009\",\"type\":\"LinearAxis\"}],\"plot_height\":400,\"plot_width\":400,\"renderers\":[{\"id\":\"2021\",\"type\":\"GlyphRenderer\"},{\"id\":\"2027\",\"type\":\"GlyphRenderer\"}],\"title\":{\"id\":\"1994\",\"type\":\"Title\"},\"toolbar\":{\"id\":\"2015\",\"type\":\"Toolbar\"},\"x_range\":{\"id\":\"1996\",\"type\":\"DataRange1d\"},\"x_scale\":{\"id\":\"2000\",\"type\":\"LinearScale\"},\"y_range\":{\"id\":\"1998\",\"type\":\"DataRange1d\"},\"y_scale\":{\"id\":\"2002\",\"type\":\"LinearScale\"}},\"id\":\"1993\",\"subtype\":\"Figure\",\"type\":\"Plot\"},{\"attributes\":{\"source\":{\"id\":\"2023\",\"type\":\"ColumnDataSource\"}},\"id\":\"2028\",\"type\":\"CDSView\"},{\"attributes\":{},\"id\":\"2000\",\"type\":\"LinearScale\"},{\"attributes\":{\"callback\":null},\"id\":\"1998\",\"type\":\"DataRange1d\"},{\"attributes\":{},\"id\":\"2002\",\"type\":\"LinearScale\"},{\"attributes\":{},\"id\":\"2100\",\"type\":\"BasicTickFormatter\"},{\"attributes\":{\"formatter\":{\"id\":\"2100\",\"type\":\"BasicTickFormatter\"},\"ticker\":{\"id\":\"2005\",\"type\":\"BasicTicker\"}},\"id\":\"2004\",\"type\":\"LinearAxis\"},{\"attributes\":{},\"id\":\"2101\",\"type\":\"Selection\"},{\"attributes\":{},\"id\":\"2005\",\"type\":\"BasicTicker\"},{\"attributes\":{},\"id\":\"2102\",\"type\":\"UnionRenderers\"},{\"attributes\":{\"ticker\":{\"id\":\"2005\",\"type\":\"BasicTicker\"}},\"id\":\"2008\",\"type\":\"Grid\"},{\"attributes\":{},\"id\":\"2103\",\"type\":\"Selection\"},{\"attributes\":{\"formatter\":{\"id\":\"2098\",\"type\":\"BasicTickFormatter\"},\"ticker\":{\"id\":\"2010\",\"type\":\"BasicTicker\"}},\"id\":\"2009\",\"type\":\"LinearAxis\"},{\"attributes\":{},\"id\":\"2104\",\"type\":\"UnionRenderers\"},{\"attributes\":{},\"id\":\"2010\",\"type\":\"BasicTicker\"},{\"attributes\":{\"fill_alpha\":{\"value\":0.5},\"fill_color\":{\"value\":\"lightgrey\"},\"level\":\"overlay\",\"line_alpha\":{\"value\":1.0},\"line_color\":{\"value\":\"black\"},\"line_dash\":[4,4],\"line_width\":{\"value\":2},\"xs_units\":\"screen\",\"ys_units\":\"screen\"},\"id\":\"2105\",\"type\":\"PolyAnnotation\"},{\"attributes\":{\"active_drag\":\"auto\",\"active_inspect\":\"auto\",\"active_multi\":null,\"active_scroll\":\"auto\",\"active_tap\":\"auto\",\"tools\":[{\"id\":\"2014\",\"type\":\"LassoSelectTool\"}]},\"id\":\"2015\",\"type\":\"Toolbar\"},{\"attributes\":{\"callback\":null,\"overlay\":{\"id\":\"2105\",\"type\":\"PolyAnnotation\"}},\"id\":\"2014\",\"type\":\"LassoSelectTool\"},{\"attributes\":{\"line_alpha\":0.6,\"line_color\":\"orange\",\"line_width\":5,\"x\":{\"field\":\"xm\"},\"y\":{\"field\":\"ym\"}},\"id\":\"2025\",\"type\":\"Line\"},{\"attributes\":{\"fill_alpha\":{\"value\":0.4},\"fill_color\":{\"field\":\"color\"},\"line_alpha\":{\"value\":0.4},\"line_color\":{\"field\":\"color\"},\"size\":{\"units\":\"screen\",\"value\":8},\"x\":{\"field\":\"x\"},\"y\":{\"field\":\"y\"}},\"id\":\"2018\",\"type\":\"Circle\"},{\"attributes\":{\"fill_alpha\":{\"value\":0.1},\"fill_color\":{\"value\":\"#1f77b4\"},\"line_alpha\":{\"value\":0.1},\"line_color\":{\"value\":\"#1f77b4\"},\"size\":{\"units\":\"screen\",\"value\":8},\"x\":{\"field\":\"x\"},\"y\":{\"field\":\"y\"}},\"id\":\"2019\",\"type\":\"Circle\"},{\"attributes\":{\"callback\":null},\"id\":\"1996\",\"type\":\"DataRange1d\"},{\"attributes\":{\"fill_alpha\":{\"value\":0.4},\"fill_color\":{\"value\":\"firebrick\"},\"line_alpha\":{\"value\":0.4},\"line_color\":{\"value\":\"firebrick\"},\"size\":{\"units\":\"screen\",\"value\":8},\"x\":{\"field\":\"x\"},\"y\":{\"field\":\"y\"}},\"id\":\"2020\",\"type\":\"Circle\"},{\"attributes\":{\"data_source\":{\"id\":\"1992\",\"type\":\"ColumnDataSource\"},\"glyph\":{\"id\":\"2018\",\"type\":\"Circle\"},\"hover_glyph\":null,\"muted_glyph\":null,\"nonselection_glyph\":{\"id\":\"2019\",\"type\":\"Circle\"},\"selection_glyph\":{\"id\":\"2020\",\"type\":\"Circle\"},\"view\":{\"id\":\"2022\",\"type\":\"CDSView\"}},\"id\":\"2021\",\"type\":\"GlyphRenderer\"},{\"attributes\":{\"callback\":null,\"data\":{\"xm\":[0,1],\"ym\":[0.5,0.5]},\"selected\":{\"id\":\"2103\",\"type\":\"Selection\"},\"selection_policy\":{\"id\":\"2104\",\"type\":\"UnionRenderers\"}},\"id\":\"2023\",\"type\":\"ColumnDataSource\"},{\"attributes\":{\"source\":{\"id\":\"1992\",\"type\":\"ColumnDataSource\"}},\"id\":\"2022\",\"type\":\"CDSView\"},{\"attributes\":{\"text\":\"Select Here\"},\"id\":\"1994\",\"type\":\"Title\"},{\"attributes\":{\"dimension\":1,\"ticker\":{\"id\":\"2010\",\"type\":\"BasicTicker\"}},\"id\":\"2013\",\"type\":\"Grid\"},{\"attributes\":{\"callback\":{\"id\":\"2029\",\"type\":\"CustomJS\"},\"data\":{\"color\":[\"navy\",\"navy\",\"navy\",\"navy\",\"navy\",\"navy\",\"navy\",\"navy\",\"navy\",\"navy\",\"navy\",\"navy\",\"navy\",\"navy\",\"navy\",\"navy\",\"navy\",\"navy\",\"navy\",\"navy\",\"navy\",\"navy\",\"navy\",\"navy\",\"navy\",\"navy\",\"navy\",\"navy\",\"navy\",\"navy\",\"navy\",\"navy\",\"navy\",\"navy\",\"navy\",\"navy\",\"navy\",\"navy\",\"navy\",\"navy\",\"navy\",\"navy\",\"navy\",\"navy\",\"navy\",\"navy\",\"navy\",\"navy\",\"navy\",\"navy\",\"navy\",\"navy\",\"navy\",\"navy\",\"navy\",\"navy\",\"navy\",\"navy\",\"navy\",\"navy\",\"navy\",\"navy\",\"navy\",\"navy\",\"navy\",\"navy\",\"navy\",\"navy\",\"navy\",\"navy\",\"navy\",\"navy\",\"navy\",\"navy\",\"navy\",\"navy\",\"navy\",\"navy\",\"navy\",\"navy\",\"navy\",\"navy\",\"navy\",\"navy\",\"navy\",\"navy\",\"navy\",\"navy\",\"navy\",\"navy\",\"navy\",\"navy\",\"navy\",\"navy\",\"navy\",\"navy\",\"navy\",\"navy\",\"navy\",\"navy\",\"navy\",\"navy\",\"navy\",\"navy\",\"navy\",\"navy\",\"navy\",\"navy\",\"navy\",\"navy\",\"navy\",\"navy\",\"navy\",\"navy\",\"navy\",\"navy\",\"navy\",\"navy\",\"navy\",\"navy\",\"navy\",\"navy\",\"navy\",\"navy\",\"navy\",\"navy\",\"navy\",\"navy\",\"navy\",\"navy\",\"navy\",\"navy\",\"navy\",\"navy\",\"navy\",\"navy\",\"navy\",\"navy\",\"navy\",\"navy\",\"navy\",\"navy\",\"navy\",\"navy\",\"navy\",\"navy\",\"navy\",\"navy\",\"navy\",\"navy\",\"navy\",\"navy\",\"navy\",\"navy\",\"navy\",\"navy\",\"navy\",\"navy\",\"navy\",\"navy\",\"navy\",\"navy\",\"navy\",\"navy\",\"navy\",\"navy\",\"navy\",\"navy\",\"navy\",\"navy\",\"navy\",\"navy\",\"navy\",\"navy\",\"navy\",\"navy\",\"navy\",\"navy\",\"navy\",\"navy\",\"navy\",\"navy\",\"navy\",\"navy\",\"navy\",\"navy\",\"navy\",\"navy\",\"navy\",\"navy\",\"navy\",\"navy\",\"navy\",\"navy\",\"navy\",\"navy\",\"navy\",\"navy\",\"navy\",\"navy\",\"navy\",\"navy\",\"navy\",\"navy\",\"navy\",\"navy\",\"navy\",\"navy\",\"navy\",\"navy\",\"navy\",\"navy\",\"navy\",\"navy\",\"navy\",\"navy\",\"navy\",\"navy\",\"navy\",\"navy\",\"navy\",\"navy\",\"navy\",\"navy\",\"navy\",\"navy\",\"navy\",\"navy\",\"navy\",\"navy\",\"navy\",\"navy\",\"navy\",\"navy\",\"navy\",\"navy\",\"navy\",\"navy\",\"navy\",\"navy\",\"navy\",\"navy\",\"navy\",\"navy\",\"navy\",\"navy\",\"navy\",\"navy\",\"navy\",\"navy\",\"navy\",\"navy\",\"navy\",\"navy\",\"navy\",\"navy\",\"navy\",\"navy\",\"navy\",\"navy\",\"navy\",\"navy\",\"navy\",\"navy\",\"navy\",\"navy\",\"navy\",\"navy\",\"navy\",\"navy\",\"navy\",\"navy\",\"navy\",\"navy\",\"navy\",\"navy\",\"navy\",\"navy\",\"navy\",\"navy\",\"navy\",\"navy\",\"navy\",\"navy\",\"navy\",\"navy\",\"navy\",\"navy\",\"navy\",\"navy\",\"navy\",\"navy\",\"navy\",\"navy\",\"navy\",\"navy\",\"navy\",\"navy\",\"navy\",\"navy\",\"navy\",\"navy\",\"navy\",\"navy\",\"navy\",\"navy\",\"navy\",\"navy\",\"navy\",\"navy\",\"navy\",\"navy\",\"navy\",\"navy\",\"navy\",\"navy\",\"navy\",\"navy\",\"navy\",\"navy\",\"navy\",\"navy\",\"navy\",\"navy\",\"navy\",\"navy\",\"navy\",\"navy\",\"navy\",\"navy\",\"navy\",\"navy\",\"navy\",\"navy\",\"navy\",\"navy\",\"navy\",\"navy\",\"navy\",\"navy\",\"navy\",\"navy\",\"navy\",\"navy\",\"navy\",\"navy\",\"navy\",\"navy\",\"navy\",\"navy\",\"navy\",\"navy\",\"navy\",\"navy\",\"navy\",\"navy\",\"navy\",\"navy\",\"navy\",\"navy\",\"navy\",\"navy\",\"navy\",\"navy\",\"navy\",\"navy\",\"navy\",\"navy\",\"navy\",\"navy\",\"navy\",\"navy\",\"navy\",\"navy\",\"navy\",\"navy\",\"navy\",\"navy\",\"navy\",\"navy\",\"navy\",\"navy\",\"navy\",\"navy\",\"navy\",\"navy\",\"navy\",\"navy\",\"navy\",\"navy\",\"navy\",\"navy\",\"navy\",\"navy\",\"navy\",\"navy\",\"navy\",\"navy\",\"navy\",\"navy\",\"navy\",\"navy\",\"navy\",\"navy\",\"navy\",\"navy\",\"navy\",\"navy\",\"navy\",\"navy\",\"navy\",\"navy\",\"navy\",\"navy\",\"navy\",\"navy\",\"navy\",\"navy\",\"navy\",\"navy\",\"navy\",\"navy\",\"navy\",\"navy\",\"navy\",\"navy\",\"navy\",\"navy\",\"navy\",\"navy\",\"navy\",\"navy\",\"navy\",\"navy\",\"navy\",\"navy\",\"navy\",\"navy\",\"navy\",\"navy\",\"navy\",\"navy\",\"navy\",\"navy\",\"navy\",\"navy\",\"navy\",\"navy\",\"navy\",\"navy\",\"navy\",\"navy\",\"navy\",\"navy\",\"navy\",\"navy\",\"navy\",\"navy\",\"navy\",\"navy\",\"navy\",\"navy\",\"navy\",\"navy\",\"navy\",\"navy\",\"navy\",\"navy\",\"navy\",\"navy\",\"navy\",\"navy\",\"navy\",\"navy\",\"navy\",\"navy\",\"navy\",\"navy\",\"navy\",\"navy\",\"navy\",\"navy\",\"navy\",\"navy\",\"navy\",\"navy\",\"navy\",\"navy\",\"navy\",\"navy\",\"navy\",\"navy\",\"navy\",\"navy\",\"navy\",\"navy\",\"navy\",\"navy\",\"navy\",\"navy\"],\"x\":[0.09393865288419279,0.4408779176346118,0.9973501537533472,0.4874266317524534,0.3307952073809618,0.1807551211799685,0.7557867077143315,0.1796472144841299,0.09880218296206256,0.40337726784076233,0.7092971145837355,0.23592849861446763,0.8725856883791967,0.4645437759432064,0.573242050308552,0.46718203723731533,0.1314263208658265,0.05735397791724206,0.6204796912156466,0.18968032660661427,0.02125222951910022,0.1422689261191601,0.6975795405865625,0.25620207796590655,0.24358000717850825,0.34842608841124945,0.018293541808229508,0.13534937348129306,0.8609294067709077,0.8755528430129476,0.15073766172094016,0.7128175402626891,0.43056148596240695,0.16098711016657052,0.516289969508271,0.7161312219492425,0.6788941889539418,0.6274617965564508,0.5183741797222454,0.4294837457907428,0.2456459732373809,0.4426817310580786,0.6920129035510121,0.9485296626734546,0.9274604539066944,0.02817024623341058,0.5052335691115,0.09359966522612273,0.1284536778087314,0.3207545459576189,0.9563447394066027,0.25478056089673773,0.38235520392210176,0.6431808542791508,0.22345638805551682,0.4024164033965464,0.08502372722201845,0.5634078666220568,0.19682327919095066,0.45650812815784647,0.8794114055290367,0.15211465908223987,0.32809100004546476,0.932908492538273,0.24608341792704724,0.7947869249681255,0.20154624301323987,0.03398808886875282,0.5225025463781146,0.7798310260616114,0.5372903900691784,0.2096793022182002,0.8671950761268791,0.7155801689949026,0.45327973988017245,0.8947817045622409,0.1614716139402148,0.699114305168127,0.7450552390530449,0.8329212698484683,0.7850006487396339,0.09025641234076875,0.27554430436205435,0.2144901194119908,0.5748125013934396,0.022152358884697687,0.2723875817790301,0.7695835138449267,0.09080497466383297,0.7324235151052629,0.8393749655064157,0.7741417292170529,0.029816769622059702,0.3156899672119198,0.18963880387805288,0.6012653598724523,0.4412569970446629,0.9862612850026202,0.1494780377049736,0.25610796359841526,0.44767077102995034,0.007229051450436397,0.1392192229700403,0.19214772264799018,0.40493585461314063,0.25493332064917773,0.28946564086353777,0.28145737482025435,0.8127100579010034,0.5743065110051713,0.32776335026896863,0.7906690827435672,0.9112071981574739,0.15227314709193362,0.17368454488785523,0.5864669055100836,0.01317672584474372,0.7997214220000526,0.0988990172310883,0.9339721352663769,0.29795190646322844,0.7710535999817919,0.34739416877655616,0.06024372420915336,0.27459241601550843,0.7095698327957467,0.2742224341379036,0.19489030992015288,0.8149582631628195,0.9776165010550575,0.1795729743640594,0.6150338273476023,0.8171881176834961,0.20291747996186682,0.16126345493379068,0.5103004402138549,0.8530585357463291,0.38798645684767974,0.5672720645622462,0.5434342494694998,0.43003588976175755,0.18657313362875483,0.27048098316610714,0.8559667384137454,0.389612427890735,0.9481679519413397,0.1397587846007281,0.49625699130667666,0.5235720629496168,0.8732614055379698,0.797928631418817,0.7479125296335265,0.4236722323439943,0.4565502688373049,0.8230815848845336,0.1574871863899593,0.020223406024397872,0.9025634162495512,0.1824217003657792,0.24877550339418508,0.3619106408062085,0.9218809577157028,0.030955256129960307,0.6300813349841723,0.5096726941436592,0.6715275869335091,0.967306769253097,0.741134693161766,0.07033899956096223,0.10481617841299329,0.07705760518012583,0.3214456823039441,0.6138031313436139,0.835123596710536,0.19722775371282875,0.9460224348738605,0.8947648622835197,0.5701795084749702,0.9873411338513967,0.18368243862787892,0.28210315377480366,0.8453136476407006,0.5995131691802642,0.7653205493127128,0.887238118894595,0.3390787442035246,0.02430698581862989,0.6668050066756119,0.8471706362866485,0.5687002232377905,0.07569827561728215,0.2167452358180323,0.33606199192238806,0.8545264910704231,0.7136215638243769,0.811931383288088,0.9871527995547003,0.4005301256748871,0.3949894066823667,0.3495367860603589,0.744490186732845,0.9101018096634949,0.49502989462157687,0.4109367885187786,0.3156846735989025,0.5126116744606958,0.7155299664490274,0.6686078940520263,0.6277822239055222,0.8383161405660794,0.3296569752572416,0.790218249007444,0.1023087857412397,0.29235090419354826,0.9594816552410804,0.4618048855417949,0.3220810254006643,0.5324391235277052,0.4111045776692497,0.7672863500180425,0.47845146266409677,0.748703786410949,0.972806356904147,0.4455848313962172,0.6414632584723623,0.5370556972621,0.48270185063652704,0.1539950680854829,0.22011590303604123,0.3251403000998495,0.01523138487047826,0.04522982750177129,0.7173013687525083,0.24750268191576807,0.5644431895775684,0.28066721461476796,0.7791721434653828,0.5540555193166223,0.15083873669378256,0.1886318551174586,0.10309126328780993,0.8642362589330856,0.5264644166987842,0.055330312438131024,0.6987496035308436,0.6444379040449838,0.271322485669957,0.2304719923977997,0.4978558927611586,0.5079957635638542,0.6944460893677975,0.6608990968880462,0.940601895969095,0.6148240869937754,0.27551961614930776,0.06213778498712552,0.6497394176910809,0.11215457672614382,0.02761572495461606,0.6015717403652103,0.006071504791055671,0.3154860524921529,0.11389689086358934,0.4361028364893612,0.3352652219483043,0.014160425454752601,0.046152296307252594,0.7513575088379518,0.7791418377126489,0.22636259061082242,0.418774029074625,0.8559466515461346,0.18496674913609368,0.519275904122217,0.7746691330559571,0.943352296835324,0.3619447270602755,0.09970643109028055,0.6275238173025206,0.680403234024114,0.9622993022093622,0.4427185857289976,0.6400776329756581,0.9911714736913558,0.8415868035722217,0.7319154602938774,0.2613114238497821,0.5422664660713777,0.6903808841848567,0.03272794184307226,0.42170176815934,0.47731725141161263,0.8447238092030803,0.06553301094149389,0.11683992796750053,0.7366462624297289,0.6475940908585227,0.6259012128869368,0.9279973065150771,0.6807637258239159,0.738186410411992,0.8202845309381767,0.6594932758882355,0.8790007548171734,0.35844643155711986,0.4683392896434333,0.025628297684326395,0.230121884031684,0.35066635978644356,0.9088688185318652,0.4111098474250433,0.7648199080600472,0.039055955895458294,0.9949832310646308,0.9695417786079252,0.8690739294884994,0.5501573704438184,0.5394366852130784,0.9581212459024434,0.9132347615499435,0.09849104693330957,0.33203248947450115,0.505051735890582,0.6346639515164566,0.9834602711871101,0.4925463041809477,0.9999287072380476,0.22138577797962355,0.8316124256230057,0.6112057203572212,0.4220960061585397,0.9001415716042596,0.46167914581185676,0.26685783873840985,0.8404329455185378,0.7132996700477268,0.32195630274335263,0.6682376791720731,0.486396528166681,0.9912872209521466,0.42459132480135753,0.9289726289094156,0.03049079268522914,0.5780158430817115,0.19671525043456406,0.39315480307724826,0.23793799508031643,0.5902909226595283,0.6719088868413454,0.9090632288603282,0.8779841157557918,0.027381374458605334,0.7837486579374766,0.1850953274987771,0.42541357607243,0.26711863809576475,0.7469461127260902,0.6532408937149291,0.48826329079340147,0.26057314536112464,0.22561067655744438,0.294045849152483,0.28863450754505204,0.7845271945732882,0.7214081206287744,0.07342945236741838,0.7733455570427041,0.5214089706030922,0.14732331615793015,0.5992729278847481,0.7551545068193836,0.5714588971604999,0.4104949924651152,0.7198243047129923,0.06755564094146504,0.4790548562751471,0.23659127392698476,0.6799138985498377,0.9595125268608702,0.7134396114219725,0.9287331375605181,0.4925080719683387,0.9958296543016659,0.28668376617485014,0.6291765941827707,0.9581956266996163,0.973431973073447,0.2835148626681253,0.9413374970189976,0.5540600869167078,0.1675893831198626,0.004480597589553881,0.48893383749539776,0.662846204365287,0.9069760068729524,0.10126962357755831,0.1724813814638595,0.7947763186216824,0.6351665518655175,0.9714718779826772,0.8434379439822015,0.9954173750719092,0.9553506262198879,0.8568623931069886,0.9957078612633502,0.7664322245384982,0.45858284692548623,0.868596412174464,0.80373159365915,0.6485044077417759,0.49356364614082027,0.34154627922121716,0.5491983737448324,0.31347610782782076,0.48674505217647723,0.47715657163724245,0.8631424206966789,0.9097618198878215,0.3192811343049706,0.8092844295517233,0.33499465523986793,0.4214929489007049,0.7852413778164549,0.05124525243804756,0.6657464930196182,0.8850601096181475,0.07131036720310169,0.07087473081594364,0.6852488010718973,0.6014885957029494,0.5693461609275107,0.2548596060910563,0.7376981950929231,0.9487479093050468,0.04110724435769719,0.13786763497686072,0.3372977303286053,0.7454304737731987,0.9904033818123211,0.48440917778018977,0.23316678460635087,0.32901934198834604,0.5371034901171875,0.44205556998059103,0.5851620186418282,0.06354343696221798,0.12033935977711963,0.3158037040405165,0.8962445473651678,0.44447795724845174,0.26358814332939795,0.5335305821869272,0.8881380880030234,0.04632592828762483,0.2547246142825763,0.4763338912357926,0.29272814525581226,0.14176940581151143,0.2776784673290835,0.36891299201296635,0.10441941140394417,0.9416240478793285,0.5951890042677479,0.42204006498571234,0.16909055307701348,0.47574483732623307,0.8174787928481962,0.18395613797451482,0.5001616872767828,0.07237628573998223,0.6058566279938797,0.7147918965379493,0.38332690485140786,0.9289014766533161,0.05361815799620995,0.0873810277225966,0.5297264346106416,0.7460824343852298,0.4325619176207153,0.4146940856600142,0.8301186036651169,0.1752146468240917,0.7932011088713921,0.5329280993217028,0.06111015111342111,0.8427194180847877,0.3844241105659759,0.668485244927885,0.13225577632342744,0.31060125155387486,0.7865650938909796,0.41714748390778844,0.07137056385937668,0.017105437972749327,0.6952548038102483,0.8502825000746427,0.009096270501937509,0.426526626379531,0.17124122767493954,0.547157642356166],\"y\":[0.903910731032467,0.6196721242305107,0.6743718176974528,0.22796801917713128,0.6971221484206074,0.21213948822641027,0.23103720810780437,0.6301256805412895,0.5167990746879236,0.34559061641905187,0.8954915958827115,0.9388978012110079,0.992368266980823,0.8649561749867363,0.8067972242308155,0.7781157958857872,0.5816735266031162,0.9792825603887754,0.38906766114514446,0.5966970828555762,0.44838347065274564,0.01579554370822922,0.8962302433978517,0.4743342814876652,0.5444843599645272,0.15670886296294007,0.931204123640659,0.07268090966086449,0.35246599471405715,0.865284725120073,0.7816219363250071,0.881876654629563,0.5928917194060903,0.25202350467236057,0.03846455516997127,0.2630535914296531,0.7146862267756953,0.4390963931093531,0.2701709682133039,0.5250536902614481,0.47528873488832724,0.5550811668765079,0.5873451095440995,0.6310399229458037,0.2833898879767398,0.8075654034831629,0.05914957162488654,0.7293085545154386,0.11336538900981163,0.7616896322109522,0.6189859701308835,0.15826029179286227,0.11151933506334677,0.2405733158424429,0.4664059618771771,0.48209857448803706,0.6668161822600915,0.6447370336629035,0.5734803615266252,0.6032402112170749,0.0004498184383323611,0.9841714046501666,0.03130169914460623,0.6807477461655338,0.8086228771065258,0.1660841913807788,0.5120059133778274,0.616167733461984,0.026910714255009682,0.013451073537722014,0.2814668608573274,0.5874377019938283,0.7830782354432798,0.4281996506693294,0.6110349945705131,0.06485625700892417,0.25012611683224995,0.07382614326324621,0.13078657892212808,0.5045671697333902,0.6033928390635172,0.8635100812125523,0.233870705694757,0.534872974268363,0.9780869379468746,0.9092639588591288,0.0971830216090015,0.771122215534388,0.25234288760414214,0.6315837824555023,0.2598716912246465,0.9075070594678946,0.6220965750191038,0.5978692255778831,0.09229263716286706,0.9961479976547191,0.16004544886210603,0.16757388794617056,0.9039382280292205,0.7967670449587088,0.46440697724059987,0.9416439094285858,0.3604365201049242,0.1636775211539735,0.28267216726091504,0.7716414483170876,0.5287288542048469,0.2948158932864975,0.46106908480784314,0.6944390818861628,0.2922757999780031,0.20978976980130581,0.37398432858794994,0.4507919992897139,0.14393252265625422,0.7470546171520576,0.35423707966556217,0.44619278657712547,0.9182735780750049,0.5350071057186513,0.8226387787691501,0.12878368944518004,0.5035735549784194,0.6298718044112087,0.4136507132063051,0.6142430049397578,0.7363819856044456,0.370388861073485,0.3237070318388421,0.38504627634474464,0.9952669838177823,0.5741270379674871,0.1309275162167819,0.3398314892831331,0.8280174450427921,0.2989017928551688,0.333005523479211,0.09136704158321762,0.3471846777438069,0.30195825784108565,0.3318920120601979,0.06499353668309094,0.43351847480536576,0.972130916108489,0.8918048149700983,0.8981537060258542,0.6813786599150927,0.840195656766591,0.9055221358638439,0.4426308255138329,0.368335324122525,0.5237180246154365,0.04098459129555265,0.8914785362729863,0.5571512057892172,0.25304888122526037,0.34122184649957266,0.5837381630576758,0.870549089656977,0.7432250989009132,0.7910259335461425,0.7959326778378444,0.02239575255987425,0.8331178988810102,0.6582326481470506,0.1530505518248384,0.2868693167407814,0.3659571500296862,0.6680818012191232,0.8819082333089229,0.43454508271639214,0.4432580307068046,0.7711163189942797,0.21588553514606157,0.8057924924503282,0.6534282335163833,0.15738167844882678,0.1839693965018956,0.9142048360249265,0.9981746336842978,0.6353029723289109,0.37190873969513916,0.2906210358975715,0.11288752129093838,0.38126800803601957,0.946643367358548,0.2019465321143511,0.6191414766235289,0.8844419241601961,0.07546755297729257,0.4766849008060622,0.9072651214671851,0.11623764034780748,0.10443674473268105,0.10470269210752692,0.8558138211895552,0.4568076427569637,0.4511545833254864,0.7425080922634313,0.38913174950568896,0.07915970987253551,0.8052693583392168,0.058750744005254485,0.4394409438128811,0.43645818973050665,0.7160158070454076,0.11270286271727292,0.8495305235720019,0.9182597024029941,0.15794869340168816,0.2329878270346134,0.1588023790665245,0.5950651624967154,0.889739713048089,0.5731937074976392,0.9670470783778388,0.5366706690366245,0.9967859771818267,0.8396796033902933,0.7119022024653486,0.780029800370305,0.23623785081742,0.340590533094679,0.10821626891781932,0.7028431188378073,0.7737157303159025,0.9201412284106039,0.6400621443950872,0.3367682624274062,0.6774351860764859,0.45117907407858937,0.3393076060384813,0.4561749776505112,0.7843435745450462,0.18946494340585585,0.24515525911906288,0.11037315944498094,0.20659623172581143,0.6448694748982376,0.6191967989581464,0.660224298420226,0.8889855689485122,0.07666468609860766,0.13155885368646636,0.5614721273024927,0.07457400367083422,0.44804449200423746,0.6121539570604214,0.6583534402525137,0.3734996774845212,0.8528108733048726,0.6366473084669889,0.36204204100953574,0.5989862425813619,0.17138861781775916,0.4541991954308041,0.029962641894626385,0.14969081705747445,0.17181576057386616,0.31352073663113156,0.9132725629204566,0.012854350118847946,0.8881513412535855,0.03788209514215635,0.38521689015036653,0.25170055713177064,0.4944685441920913,0.42379962507245283,0.23312628092113097,0.8951526087321809,0.25080217427000906,0.13958114640870822,0.8956432291962769,0.4356030131732961,0.9718083376111887,0.47896550806643323,0.17951399146879365,0.7879791280936305,0.48190134563056786,0.5503644508477065,0.7828372699787949,0.8425538845331831,0.9503103059361478,0.957141330856936,0.5493762921536526,0.6619555253150639,0.9512157837062075,0.14825579570764424,0.80637637917379,0.06699668541458181,0.44162811389628853,0.5209632255611104,0.2782006501552372,0.34474181702140827,0.43447207771098295,0.173161248246949,0.7236405529656905,0.5064497228441743,0.7717307195883386,0.5435190466179707,0.6073150928213417,0.5197381418772445,0.0693754403694643,0.9871107895902657,0.43198190506630263,0.35407775558692944,0.1479978288539523,0.2839206798694096,0.7138077204790345,0.6606051481691266,0.7953231716016362,0.5092226931158981,0.26693718963608015,0.32351483346506915,0.6758262719913445,0.6084288398211606,0.48071794115176325,0.02478521598932104,0.8002858774902061,0.8820708205306248,0.6575497880313976,0.4322839777761781,0.6099020591864018,0.5576198003642017,0.5152814347927545,0.2208716532016025,0.36586108307222664,0.7937994231521097,0.26436324117513155,0.9546402097675083,0.5792517464566979,0.43071573255023277,0.38296977623205175,0.1806932248523353,0.5375193511588158,0.23821610983029873,0.12600327827111668,0.9201023887515326,0.028384670461030548,0.30907839634758694,0.07291027108132797,0.024529564191728248,0.04245190235727281,0.2905254681808045,0.37386938420324,0.019496496898734894,0.11106684547793366,0.4794903086855036,0.8453411704400305,0.6691040369138593,0.30901192983680736,0.7225388488316246,0.2997188668926989,0.9103739390890734,0.8310647493777714,0.0885646133537934,0.22249854256842916,0.6452981385825237,0.4433047617724236,0.01232559498636765,0.4786390595319706,0.9360197798429329,0.2760360994133034,0.035233481243665765,0.22065702147415323,0.28782053746694514,0.25731889146217746,0.3854793115786771,0.48020553720054837,0.025979528157123455,0.8687141009699526,0.5557879946088331,0.11909142767914138,0.017241421376985366,0.27464433285444045,0.3374556527776057,0.5135637194836856,0.9722827814743473,0.1662306172552117,0.639122868140007,0.4884911800821321,0.4465629153399858,0.9305426753981856,0.3797593747952137,0.08518728519029728,0.00547689550310726,0.8596248185214044,0.18071721459138113,0.015999023017116643,0.9379761664009938,0.7938766809673338,0.842702015514607,0.010236874348168445,0.33975809764026854,0.38372983225050883,0.591371091928515,0.08646471317950177,0.2825264960782007,0.7598419743342502,0.63049993995735,0.8679922194168969,0.8704450274876143,0.6017361644769567,0.2826497741558748,0.4667374674429918,0.851460990682071,0.492624970684738,0.470458989759149,0.11963812192948031,0.3106488449759486,0.24915856774648437,0.4994693044595786,0.9539003327038732,0.9135599931809106,0.5256048868255577,0.35529517075326034,0.7941370643450848,0.9845533416950518,0.7534629314926872,0.33353107891272193,0.40642264389263305,0.4138466673766453,0.6665876826359061,0.9474080988008189,0.20437680101745181,0.1852238694423589,0.9004037096669822,0.3445780983958805,0.3641559172949639,0.524388788356706,0.7619261280715107,0.6830184267286725,0.9505527151394277,0.074685452920217,0.7056550663749946,0.11512025929877212,0.7961882459186884,0.19252671678208988,0.42542527532614316,0.022995051369192443,0.6156731591466412,0.22118727960692475,0.0725014323330575,0.5168887484916957,0.9092186291173617,0.14478451303493034,0.09644060786735398,0.7346459464185876,0.7034580286674814,0.9664421608670549,0.253386405255672,0.2893729007754049,0.9422081108622832,0.7633130912934618,0.5995922753653962,0.32085607690317275,0.3073565419578971,0.893241625766453,0.34088421345412045,0.30646248591479097,0.7510692428155379,0.5932530931423873,0.12945988046592383,0.6024782452557182,0.2732047589800659,0.17844559302788887,0.7901617156966119,0.550053353091909,0.016327799148803113,0.7931337816086026,0.25638979162604025,0.6506420345189287,0.2690479484639501,0.4489550987176063,0.4149499730646058,0.713653272601748,0.2457042480956939,0.8270360146940166,0.30909433858271484,0.15058740181891317,0.6360759691109835,0.851539988367044,0.6955247150171177,0.04253060141431764,0.304256628342531,0.4827102487050282,0.32473079751160605,0.16542527819466168,0.1849740907109012,0.0967931208975441,0.49313659253215947,0.9066633008229563,0.3135575297531845,0.3049470572626315,0.3455989775238396,0.15906004955356845,0.2507979989427995,0.7955008770511084,0.8243134392065188,0.6410232862668285]},\"selected\":{\"id\":\"2101\",\"type\":\"Selection\"},\"selection_policy\":{\"id\":\"2102\",\"type\":\"UnionRenderers\"}},\"id\":\"1992\",\"type\":\"ColumnDataSource\"},{\"attributes\":{\"line_alpha\":0.1,\"line_color\":\"#1f77b4\",\"line_width\":5,\"x\":{\"field\":\"xm\"},\"y\":{\"field\":\"ym\"}},\"id\":\"2026\",\"type\":\"Line\"},{\"attributes\":{},\"id\":\"2098\",\"type\":\"BasicTickFormatter\"},{\"attributes\":{\"args\":{\"s1\":{\"id\":\"1992\",\"type\":\"ColumnDataSource\"},\"s2\":{\"id\":\"2023\",\"type\":\"ColumnDataSource\"}},\"code\":\"\\n    var inds = s1.selected.indices;\\n    if (inds.length == 0)\\n        return;\\n\\n    var ym = 0\\n    for (var i = 0; i < inds.length; i++) {\\n        ym += s1.data.y[inds[i]]\\n    }\\n    \\n    ym /= inds.length\\n    s2.data.ym = [ym, ym]\\n\\n    // necessary becasue we mutated source.data in-place\\n    s2.change.emit();  \\n\"},\"id\":\"2029\",\"type\":\"CustomJS\"},{\"attributes\":{\"data_source\":{\"id\":\"2023\",\"type\":\"ColumnDataSource\"},\"glyph\":{\"id\":\"2025\",\"type\":\"Line\"},\"hover_glyph\":null,\"muted_glyph\":null,\"nonselection_glyph\":{\"id\":\"2026\",\"type\":\"Line\"},\"selection_glyph\":null,\"view\":{\"id\":\"2028\",\"type\":\"CDSView\"}},\"id\":\"2027\",\"type\":\"GlyphRenderer\"}],\"root_ids\":[\"1993\"]},\"title\":\"Bokeh Application\",\"version\":\"1.3.4\"}};\n",
       "  var render_items = [{\"docid\":\"bf7a7ec9-4e14-47a5-9c0e-fa72d651920f\",\"roots\":{\"1993\":\"dcdbddd1-54b3-4aeb-86d2-60dffa5292f7\"}}];\n",
       "  root.Bokeh.embed.embed_items_notebook(docs_json, render_items);\n",
       "\n",
       "  }\n",
       "  if (root.Bokeh !== undefined) {\n",
       "    embed_document(root);\n",
       "  } else {\n",
       "    var attempts = 0;\n",
       "    var timer = setInterval(function(root) {\n",
       "      if (root.Bokeh !== undefined) {\n",
       "        embed_document(root);\n",
       "        clearInterval(timer);\n",
       "      }\n",
       "      attempts++;\n",
       "      if (attempts > 100) {\n",
       "        console.log(\"Bokeh: ERROR: Unable to run BokehJS code because BokehJS library is missing\");\n",
       "        clearInterval(timer);\n",
       "      }\n",
       "    }, 10, root)\n",
       "  }\n",
       "})(window);"
      ],
      "application/vnd.bokehjs_exec.v0+json": ""
     },
     "metadata": {
      "application/vnd.bokehjs_exec.v0+json": {
       "id": "1993"
      }
     },
     "output_type": "display_data"
    }
   ],
   "source": [
    "from random import random\n",
    "\n",
    "x = [random() for x in range(500)]\n",
    "y = [random() for y in range(500)]\n",
    "color = [\"navy\"] * len(x)\n",
    "\n",
    "s1 = ColumnDataSource(data=dict(x=x, y=y, color=color))\n",
    "p = figure(plot_width=400, plot_height=400, tools=\"lasso_select\", title=\"Select Here\")\n",
    "p.circle('x', 'y', color='color', size=8, alpha=0.4, source=s1, \n",
    "         selection_color=\"firebrick\", selection_alpha=0.4)\n",
    "\n",
    "s2 = ColumnDataSource(data=dict(xm=[0,1],ym=[0.5, 0.5]))\n",
    "p.line(x='xm', y='ym', color=\"orange\", line_width=5, alpha=0.6, source=s2)\n",
    "\n",
    "s1.callback = CustomJS(args=dict(s1=s1, s2=s2), code=\"\"\"\n",
    "    var inds = s1.selected.indices;\n",
    "    if (inds.length == 0)\n",
    "        return;\n",
    "\n",
    "    var ym = 0\n",
    "    for (var i = 0; i < inds.length; i++) {\n",
    "        ym += s1.data.y[inds[i]]\n",
    "    }\n",
    "    \n",
    "    ym /= inds.length\n",
    "    s2.data.ym = [ym, ym]\n",
    "\n",
    "    // necessary becasue we mutated source.data in-place\n",
    "    s2.change.emit();  \n",
    "\"\"\")\n",
    "\n",
    "show(p)"
   ]
  },
  {
   "cell_type": "code",
   "execution_count": 13,
   "metadata": {},
   "outputs": [],
   "source": [
    "# Exercise: Experiment with selection callbacks\n",
    "\n"
   ]
  },
  {
   "cell_type": "markdown",
   "metadata": {
    "collapsed": true
   },
   "source": [
    "## CustomJS for UI Events\n",
    "\n",
    "Bokeh also has a general events system\n",
    "\n",
    "All of the available UI events, and their properties, are listed in the Reference Guide section for [bokeh.events](https://bokeh.pydata.org/en/latest/docs/reference/events.html)"
   ]
  },
  {
   "cell_type": "code",
   "execution_count": 14,
   "metadata": {},
   "outputs": [
    {
     "data": {
      "text/html": [
       "\n",
       "\n",
       "\n",
       "\n",
       "\n",
       "\n",
       "  <div class=\"bk-root\" id=\"d4eb1cde-3d82-405e-84e2-fe2a93d3b6cb\" data-root-id=\"2196\"></div>\n"
      ]
     },
     "metadata": {},
     "output_type": "display_data"
    },
    {
     "data": {
      "application/javascript": [
       "(function(root) {\n",
       "  function embed_document(root) {\n",
       "    \n",
       "  var docs_json = {\"7c29cc4b-5623-4e4f-907c-5f228c532e14\":{\"roots\":{\"references\":[{\"attributes\":{\"children\":[{\"id\":\"2194\",\"type\":\"Button\"},{\"id\":\"2195\",\"type\":\"Row\"}]},\"id\":\"2196\",\"type\":\"Column\"},{\"attributes\":{\"fill_alpha\":{\"value\":0.1},\"fill_color\":{\"value\":\"#1f77b4\"},\"line_alpha\":{\"value\":0.1},\"line_color\":{\"value\":\"#1f77b4\"},\"radius\":{\"units\":\"data\",\"value\":1},\"x\":{\"field\":\"x\"},\"y\":{\"field\":\"y\"}},\"id\":\"2190\",\"type\":\"Circle\"},{\"attributes\":{\"text\":\"\"},\"id\":\"2275\",\"type\":\"Title\"},{\"attributes\":{\"width\":400},\"id\":\"2193\",\"type\":\"Div\"},{\"attributes\":{\"data_source\":{\"id\":\"2188\",\"type\":\"ColumnDataSource\"},\"glyph\":{\"id\":\"2189\",\"type\":\"Circle\"},\"hover_glyph\":null,\"muted_glyph\":null,\"nonselection_glyph\":{\"id\":\"2190\",\"type\":\"Circle\"},\"selection_glyph\":null,\"view\":{\"id\":\"2192\",\"type\":\"CDSView\"}},\"id\":\"2191\",\"type\":\"GlyphRenderer\"},{\"attributes\":{\"callback\":null},\"id\":\"2169\",\"type\":\"DataRange1d\"},{\"attributes\":{\"source\":{\"id\":\"2188\",\"type\":\"ColumnDataSource\"}},\"id\":\"2192\",\"type\":\"CDSView\"},{\"attributes\":{\"callback\":null,\"overlay\":{\"id\":\"2283\",\"type\":\"BoxAnnotation\"}},\"id\":\"2185\",\"type\":\"BoxSelectTool\"},{\"attributes\":{\"callback\":null,\"icon\":null,\"js_event_callbacks\":{\"button_click\":[{\"id\":\"2197\",\"type\":\"CustomJS\"}]},\"width\":300},\"id\":\"2194\",\"type\":\"Button\"},{\"attributes\":{\"below\":[{\"id\":\"2175\",\"type\":\"LinearAxis\"}],\"center\":[{\"id\":\"2179\",\"type\":\"Grid\"},{\"id\":\"2184\",\"type\":\"Grid\"}],\"js_event_callbacks\":{\"selectiongeometry\":[{\"id\":\"2198\",\"type\":\"CustomJS\"}]},\"left\":[{\"id\":\"2180\",\"type\":\"LinearAxis\"}],\"renderers\":[{\"id\":\"2191\",\"type\":\"GlyphRenderer\"}],\"title\":{\"id\":\"2275\",\"type\":\"Title\"},\"toolbar\":{\"id\":\"2186\",\"type\":\"Toolbar\"},\"x_range\":{\"id\":\"2167\",\"type\":\"DataRange1d\"},\"x_scale\":{\"id\":\"2171\",\"type\":\"LinearScale\"},\"y_range\":{\"id\":\"2169\",\"type\":\"DataRange1d\"},\"y_scale\":{\"id\":\"2173\",\"type\":\"LinearScale\"}},\"id\":\"2166\",\"subtype\":\"Figure\",\"type\":\"Plot\"},{\"attributes\":{},\"id\":\"2181\",\"type\":\"BasicTicker\"},{\"attributes\":{\"children\":[{\"id\":\"2166\",\"subtype\":\"Figure\",\"type\":\"Plot\"},{\"id\":\"2193\",\"type\":\"Div\"}]},\"id\":\"2195\",\"type\":\"Row\"},{\"attributes\":{\"active_drag\":\"auto\",\"active_inspect\":\"auto\",\"active_multi\":null,\"active_scroll\":\"auto\",\"active_tap\":\"auto\",\"tools\":[{\"id\":\"2185\",\"type\":\"BoxSelectTool\"}]},\"id\":\"2186\",\"type\":\"Toolbar\"},{\"attributes\":{\"args\":{\"div\":{\"id\":\"2193\",\"type\":\"Div\"}},\"code\":\"\\ndiv.text = \\\"Button!\\\";\\n\"},\"id\":\"2197\",\"type\":\"CustomJS\"},{\"attributes\":{\"formatter\":{\"id\":\"2280\",\"type\":\"BasicTickFormatter\"},\"ticker\":{\"id\":\"2176\",\"type\":\"BasicTicker\"}},\"id\":\"2175\",\"type\":\"LinearAxis\"},{\"attributes\":{},\"id\":\"2171\",\"type\":\"LinearScale\"},{\"attributes\":{\"args\":{\"div\":{\"id\":\"2193\",\"type\":\"Div\"}},\"code\":\"\\ndiv.text = \\\"Selection! <p> <p>\\\" + JSON.stringify(cb_obj.geometry, undefined, 2);\\n\"},\"id\":\"2198\",\"type\":\"CustomJS\"},{\"attributes\":{},\"id\":\"2176\",\"type\":\"BasicTicker\"},{\"attributes\":{\"fill_alpha\":{\"value\":0.6},\"fill_color\":{\"value\":\"#1f77b4\"},\"line_color\":{\"value\":null},\"radius\":{\"units\":\"data\",\"value\":1},\"x\":{\"field\":\"x\"},\"y\":{\"field\":\"y\"}},\"id\":\"2189\",\"type\":\"Circle\"},{\"attributes\":{\"formatter\":{\"id\":\"2278\",\"type\":\"BasicTickFormatter\"},\"ticker\":{\"id\":\"2181\",\"type\":\"BasicTicker\"}},\"id\":\"2180\",\"type\":\"LinearAxis\"},{\"attributes\":{},\"id\":\"2278\",\"type\":\"BasicTickFormatter\"},{\"attributes\":{\"dimension\":1,\"ticker\":{\"id\":\"2181\",\"type\":\"BasicTicker\"}},\"id\":\"2184\",\"type\":\"Grid\"},{\"attributes\":{},\"id\":\"2281\",\"type\":\"Selection\"},{\"attributes\":{},\"id\":\"2282\",\"type\":\"UnionRenderers\"},{\"attributes\":{\"ticker\":{\"id\":\"2176\",\"type\":\"BasicTicker\"}},\"id\":\"2179\",\"type\":\"Grid\"},{\"attributes\":{\"bottom_units\":\"screen\",\"fill_alpha\":{\"value\":0.5},\"fill_color\":{\"value\":\"lightgrey\"},\"left_units\":\"screen\",\"level\":\"overlay\",\"line_alpha\":{\"value\":1.0},\"line_color\":{\"value\":\"black\"},\"line_dash\":[4,4],\"line_width\":{\"value\":2},\"render_mode\":\"css\",\"right_units\":\"screen\",\"top_units\":\"screen\"},\"id\":\"2283\",\"type\":\"BoxAnnotation\"},{\"attributes\":{},\"id\":\"2280\",\"type\":\"BasicTickFormatter\"},{\"attributes\":{},\"id\":\"2173\",\"type\":\"LinearScale\"},{\"attributes\":{\"callback\":null,\"data\":{\"x\":{\"__ndarray__\":\"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\",\"dtype\":\"float64\",\"shape\":[2000]},\"y\":{\"__ndarray__\":\"sHvBvdtUTEC0OXU1PmkxQJNDoRUqBEhA8iXk4ghfTkDrNvFWwxJYQNv3S58XvVdAyNUMlO54S0D15Vh5WIAFQIWljbSRIkpAG6fpKCH+IEBdfYHjFBFOQH466dc/X05AyGtfKiD2VkB4Yw55Fek6QMKVd8CzsRJAMfrNFjPdTEDz6WhjEa5TQJokXTdeB1RACAVCKQRbRkAEudTPfzQ/QBorDpEnVlFAhZy4jCK6SEAFcQOdZ19EQPBXSlMkMEVA1eFgAuytJUBx01gUm4ExQIEGxJAUnxBAA0XeX+7VU0AywQU6++tQQF79WX9K4CtAA7RZQcTdVUD7BAwit69DQGr0InKfPlFAS7ocH9TIS0AycFkg/tlXQMVlfbyefE9AO1YtCQ9DQEB91MTyAsUuQIKtmmRoKE5Am3veLmg2T0CZb/oQLiZIQBGDofTOfFdANYp6L1bmVkD+EwW9GDo2QMXaQUt7v1dAbac8/Y70U0C6+rWh4LUZQAkOeCoyDSBAv0u+NNB3KEB+rj5ruLFWQKBCIXbO0SJAO6W3Rc+VWEDJVhvbX3JQQIys+9P1DVBAep2PpIzVV0CjH1pRxBdNQPm0uW6OW0lAVtIywr63AUCbu1OqJ2lUQD4eFHCh9jhA3gGYTQ8mOkBVwwP3BMNSQGo625VG+1dApcGXrbQNWECg98d0rz7FP2VJbT3x4i5A9RjQ41T7SkBshPc5DKP6P7LNx+B8SDxArfBTPj7OVkBVI8q7sBMlQKGc+pu0ridAZFs12qNCJ0BNYi6kV9tMQI6MYq6VRFVA1XQ/NHXYR0DyWgEiU/BYQGoyaMnCuTlAj8crrZOSIkBc+ppJhasGQIwB5WTBL0VAdtkIjhxYUEA8LY5bSwRFQAvX5gNUkE5Au2KRIEc+U0BQtb1SFOdCQBIz3rdciUNAqQVRaRIZMEBZwBN42lpLQI0e4M0B2gBAaqER1SL+IUBF/zCxCOdSQKyM51FyBhVAOH9TxeNkSkB/8dnoOn5SQD4MMtbz1kFAOnRXfRXTS0DNmPEQk48AQIfP/o3IC1ZANNo7oG6oT0Ar5pXEPHBWQHhZk8uuEldAUviwAmUOEUBcAfSP5WcrQCgNEeFVnVFA20rE2ASiREAcMekVSbAiQJjWaXb+Jek/nDNxaclLN0DsXkOPmK9NQAN9rJp3+0lAT6HCqBnLLUBIdGt/VdtOQJGd9PLQSVZAset5NuVLU0C0L2cBnE85QN58XRdZNjNApzF88qidU0C02Tp/jwZYQAC4dMaw7i1AQ3iullWcVkAsZ3iqa5RCQMXo1vK9gh9A7Co5fCJ1I0Dg6FWjdkFXQKGI8dw1skFArloYRm1aH0AkDJFals5GQK5msXoGDlJAlWGKZ2B3VkCKJRntHFUrQMDiuUEv/VRAmMldQGasK0ATAMiBeOZYQNZjbcrinRRAgjI/oMJ2WEByssyqe688QMdWnxPkTFBAhB6BvYivFUCZkC/nxPtFQKlVKr92mj1A9ffEBulkOECMBUPuBHktQKqVe4wPqE5AuFLFeee3VEBn8DZgvhFMQPZWMzHuJU9AetSZF7nNWEDRmMidrXhCQIRDIODkkEBArkdPU8GGTkAUgpKNip0wQJjo/1Tcw1BAK9oG4UvvUUBFCRFP+4pKQDcCEo7uhEpA5BbhB9DFNkAdkPAs4Hs+QOLP+4tF5FZAaVxHuq+TSEChbcuLyn1RQBYvWFyH3zNAKAblnZQoEkBk5geJ12lMQBk3VSoc0lhA6HfaPR8OVED2zBo73GZIQJQqaaMxDTVA431T1T2BWEAiy/+w9W1GQEnjti2go1hAiDxkXt3FREB//1KxwwY/QPiJNfFN7Nc/eSS9gDB7TUCVqFFsx6VWQPBHXN1avFdAPuMihFr0OkDgNfuajGnHP9CBSNDmXUNAb/jCHJU/P0BXq53j3/lYQDxH3D2mLlJA9mPfTj4GQ0DWXxyv3vJGQGxaJSasolhAg/yYyQjTPUB3LHcngJtMQMSmBHsm9zZAZLvuegq1UEA2YeEuHVNQQPyHo1Y4ZyBAhdtctcv5UUBKFmePzw4dQNp93zPzSCVALWyR2SemRkDdhiJon75IQKAKKP12/zxAQi3+fLv0VEBcjI0HCOJXQKj2ueKJiVNA6Ml73Ak4N0AYO/nIXZlTQB4YB+Zxu1ZAbgE+sXoZQ0BmTm5BYxRXQGC3W1w6MiFA51IF7fc0OEDbs7aHAsJGQN6wKAV30RhA+Hw1bycnWED4+G9Jj78YQKxXm7zV8xFAMvMv/WUtWEDnxey4EZJCQM45eYBZw1dA8QkNejBjV0Ajy+we/6hLQDeuA1eGP0VAAOgfUIwRVEApTZLWM+5CQPzg8DiPihFAE6fjnAHCO0Bh/UdJNOYiQMRUkV7zOVdAoM9ojErSWEDEvI/solpOQPvEvgYgOztA0juWjNk4QEDPp+/n/yNQQKsMdzoawTlAlf1w7nOzPEAeGYoD2rs/QHB8jmSNNENAYS1rXHrqJ0DuqINLD65VQIUStFwJUBdA+uMR6fiPSkBcJOlYPDE7QGiPTINAiBVAPVgYvsUuTEAgaefMRthHQCqL6yy+QEtAfR6lVH7vUkDoHgL2NHdRQKhSXW36ykdAbMr7v2h/I0CBO8gW+2MUQK/WgOGgtUtAHFipnkcnI0B49s84lKA4QC16EJMSqUZAtDLtT/AKUkD5IM0E6A5YQP48dVZ36zFAG6NrdzM3JkBFPq3geVlYQH7+AIqA8CFAUT8PsOTBN0A3KJOYVSEXQD5h8Fma80VAvBwdKSWwTkDyrYE1gVg7QACIjhcVCzNA5FQJmglYRUBq4nnn43XxPwonu2SCKVNAGeGFrVNfVEBV/eD+O9MpQHE1KPHCWFJAs2xeDS8NQkCcFRkfBT5PQOr8oyt10FFA2qqnlhlkSECLmXBLJT1MQHTLTCQf9VdAltmpapBGMUAi24yop+BOQFBGkz3zbjdAg8X2LUddRkAYhlQxZYZLQGxvhY8SdVBA2pVrkkKOOEDqeycoVTcaQJRVHmL0B0xATXcqMz8JPEASK6xSeZ9EQOFdG6ygJVVAjgJA3TOxIUBRHlK4LEVOQG2vDe05/VdAu7INALGAUkBmgdua+LIgQO2Ir09sGkJAIbAtnzi3F0AM/dGeXl03QO7rPS2hbyhAcofcjDm+TUBp4B/3g+lBQPMB06d53U1AEzfP5tk9RECifFfgm1dHQL5KKEhf0kNAKtJXVOcVKkCjV0h63ExRQORFLgEDP0xA+VeXXHQRS0A75Z7vzzFWQOxJibj4m0xA44woUx9kA0DzrwhKaNA8QEnjIUBwzEhA7vj2DRFLSkBKULzqSID4P0MSe2j3WlFAG77i4eALQUBothjuYB08QAtsEjKMD05ALZRvoIJlWEAk36svrrItQKwmpmiGey9AyQyyyGHgTUDIw5t1/z1WQCkRhfwa0w5AZFHSAE437z/4+ZR03KlQQHRPtfWq61FAgyOgm2l8UkAenYA1UGhUQBcXY+cqxCVAeWZeS1JQKUCvQWOtdxJUQLCVJTbz1UZAsmtI3K6AREBEu9H1qWpWQOf5j4p2tA9AsvM+WfkdUUCxcekI/LNNQA8J5paJe1BA962kb45mSkBDruyZqC8jQNDXelLASFdASDipbSOASkBoeuK0f+NXQFC7KAy/IUdAIGe/60THV0DlniUWyjtOQEIqVUT6W05AK5/olwXCUkBhidbzteZWQEfD61Jd+EFAJ3uCkc3VP0DCccaxpyFQQM4AiEAL6zFAlLNwNcQfJ0BQWC9I5IgvQDq0XT1cwDRAyNw3YE78R0C4yfuPdRtSQCxu+TRsiABAf61dxdakPUCypAXD8zBRQDp2TGqg/y1AZNLdCG5TN0A/C0efemZTQLyOVLHKahhA6jxmhCZaPEBfZf3IY8dQQC2s305KW1NA+QAG2zgtUEDqxACEzi9WQALCfFIEMjtA7swsMQ5bTEAkuC8Orf9PQB1mWfehhkhA6ArDzKnzJkApPIPRuXM0QLTEXV0zbklA4o4g/B07UkASSUlql6BIQKjHzttAyDJAuGLtgbnr6z9P5QpaW1VGQMnJLUD8jiBAvpfBFrwfO0AEdyzV+kY1QIvg9zgObU1AS4YriD+mSUA413DW6w80QDWD4RhP/DlA902uRC2tWEAkedO6lLJUQO4Vw9EDoVJA4ocsFsAwNUDFjQoAK+FJQKDPUnVrZx9AkZ4qIC9sB0AHWvSpvdxFQIabNsKFpFBAGBKlusmWPEBoyHUr8VlHQGKz0oQbBlRAS0UswqGQU0AfvLGzxqZLQPIMk/rnlFhASPKyvth6FEBIv0+c8PhMQDROuR+/ExZAEW+RHpKBU0DVxGzVU3xGQP8jP/arD0JAhMsAjP7LVUAVM0+qFd03QF7HqUVPADpAI10x/M0bS0DdqrvHXpYYQPwNjynXaEdA8vVEvtATU0AQUVZTdGVGQKrxzZPFdA1AUTYParkpVED7AJmpT7pQQGdzZeJ83kRAfEHOlGCgJUDC4XzMMqRLQEEwU538WFhAxydzh5k+WECAteyouU8VQOpWJv/LAFNAbW4EzuOsVkCTraTLIdhNQG35qrypYEVAy1QpAZxYRUAxLjisZChLQPXg/vfLeFJAgIuK+v+oOkCwYT6svaPVPwbH2RH0lTpA0jzW+0TDLUDbI7A5BAlOQCYTovdu8x1Ahs9JzuelSUD+i5ZqKhYbQDhrQovJLR9AL2I/xtl9WEBddFzHGn9QQCXe0FDLawxAT6dAtCR3UkCTf7OhlddJQJxjhlr2J0pArFOHRtcDNUBU9aYrX/4iQLv9bjF/bSlAC0R617+KUEDR8I7Jy7tUQA6PioSuiBJAq4D04B3YQUCE/dZa+p9NQBTL3FEA+URAwwh1z7yHCUC2RNGwR6pKQFwLCKwQWUxATXVKBfINN0DT1FvW31UuQBRZLoQrwShAGJTnpaZxI0CdE/AhqJpNQCeiNjX43EFAQ53qrxofO0BzEFvrf2NTQKdvTnhROFZAMMKY7JwZI0Bp+V234stMQFKGRhmms0pAjBldTOwt9D8CGTYkNzZYQHX4SgMMh0xAiIeDRyYpJ0BisMrz+YNTQD/I7bU6dFFAY9DCruETTEA/qTMxXbRFQD7JslDS8VRAZGLzTNkxNECe9pxihaVOQNO/Qe4c5FRA0GWFm9joQkAc2HXoyGhFQKlw/P9wzlRAU4klx1NEO0Dp+7qGyCdVQOIqewdQ5A1AY8EHGJ9xSUCHzOvyd6VRQJE8xCkY9kFAChOTQ+NCV0DMpCYx7opIQGxk3o/PyEdAlrENjTYvFEAt1btvhqgqQPBwINyfpTlANmcKgzIEK0DOBka+1yZKQA4y+rUs9vQ/SyTHEVgPNUCZQM1OQq9SQErjMiAPGCdAxyN1fwGANUDuW7iFzKNYQBOZ90+PXjhA92xSqM7vSEDBNHxceexAQONJ6GeMKDNAmTJGHxNDPECjBUBRf95UQBbrvtRjPVdAswhuXUvyVkAKggYypzJQQE+9zgZJI1RAk1Tj7yBTUEC6iz6G3vpQQMkimlOAs0NAC71B5h2GUkA9DvUIUTNYQFoqWnJwF0pAsHkpDim2SUCy8ZOlNzI1QCipz+64NktAhpBWyEVAPkBduWXpnI9CQP8Wmvgiw1hA1MZ8OLKYOUBI787nU1EkQPqxzXlsNzFAJMPNCXD0S0BMq9J54gc+QPE/n04VTDVA8nMcXDdBU0Ar31jOXrBPQLVKHtpfLUJALn8/KzlbUEBKBbQtb2ZFQA4vA0Yaej9AfT4bCRseTUCwcwrsq2NQQEPpit+dSFZAEDO3CQfVVkD7BsDbNw1MQHE1eDXovTtAcfQZQwHfFkAheK+o4Y5PQGI5B7kd3zhAEWARJh+fVkA8z4vU0k0hQOq1sa4bqUdAjXCi6HDbRED6q9wBTBlFQJzegB73PldA2eeltqY0QUBJtjrdXc9EQEi4Nf3IV1ZAihskXsaaT0BuDUmeVKtUQIk8gq9LIEZA3kCWthunS0AYMu4uuTwzQG4ZJvUUN/E/X8iMKCONUkBqFoejVYJXQO0jm7ZFqAhAN8ExQpB3WEDLcDsIBZVOQFioRMJLvThA0H6ZkShEGUAiVCym40tGQI1M+RLmHTNATmzq3EC+EEDn8buqTCZGQNO1jyspmiBADCycnfReOkDWTkymFLZBQFwGnjgZGkBA6yiw7fE2V0ArokpJDqJXQD79X14O/jVAvx4gLwD1VkDJfHz2erZVQBYVTnrc7kxARAZ+uHcVUUAHeEm6n2RTQOXkSGCLZlRAfP4hUSYjU0CMQ5I4ZZBMQAavxRfah0tAegwN/wpQPEA+yPedwLBSQHqSN+p1WlhAIq/RIacZJECq9DLpDdguQIUWws6T3lFAoordwGYm8T8PXOq0fiJVQC+rHZwW2DpAcZyDmnbuVkCH2PoE57dMQAdB6p9xBFJAGSV1rpS2NEDOk3I0yMRJQNt/VtA9GEdAs4MpyPzsVEAD2B+yt9FTQJAf71EW3UZAg6wemuisUkCANdnEz6ZXQI+Ldmns8TZA3PQWTy4FWECEvvcYk2hIQPk9qAgvu1JAsyRhr+GiUUDhLd7lfLdRQPz21JF1d1BAiinMcJHG+z9DURHIvDVXQEfYYOCUKSlAEAuA8oKfLEBCcT4j0nJRQEByyotaESxAtFT6LmpdUUDjh8amhhNAQNkFwTpzxUxAbxDmcnAwVEBrqP/ho5s/QLDA3POtxyRAYQdpuyzHNkDnk5mdADZWQFaSYssN8lNAr7Ow8Jw1VEASUFt0Hus9QFx3/G5j+DVAgsMN8IceI0B/e/f/loBYQBsJGLfqSEFAxyiYOPdaOEDOJYjy72FSQGjB9njJZhVAyCt6dJjFUkA9Xz3BGTQhQLAlHR1WM0NAau88T7HpD0BEgtnu5u1XQAYM34LtDChAVLZGPuSHMkDayxn982dUQBzs8kBiS1NAil6A+bTGSEAqVWGpLrxSQJUKUa9sJ1VAq3gZg+qTVUDqLTtsQUJJQDq5UXSnYjFAxnp+BvRNHUCfUj+q7YBRQK1FuTVlOTxAYE6fn9RxOUCLBRdYYwtWQNaAhdd4c1NAZRwm89yMR0BcfWxg8d1RQJ8sVbvQvlhAnDVX1MPdM0C9br8IftZAQDYzWe5Z6lJAjTobho7SSEC2nDPY0dZGQObL8RyMUTZAIJTR7OqaOkBEpJbwV/dJQB03wLjFh1dAwghjb5LbIEBz/hRQ4RU6QC6bUxLktUpAoDtrvcRVUUAikU7hHJJVQKXt0vcFPkRAu0sDylzpUkD2WUsqZolSQDYrmbzUYxBAg1VOj7LJMkCYqATopEgwQFk68UfFl0hALVd+eBZEN0CEpj5+t6kwQGwnuta9gwdA2ZCAMgTSUkBljBrbXqRCQLjcEwxMFtE/Pmm7xyHkPECF46vaIoJDQDI+yz2A9UpAkNW80iWSWECYcmD5D4dNQBL8HKeCOjNAvmOQ9CpTQUCfhZ9CiNRFQKoRu/ryaTxAw3+TfxP+U0AP77mOfGU/QKugqrDQr0RAO16vtt/wP0DUSY/5ELw4QFof1ZPfbi9ARCZHPZPOUkDeNjKVSX1KQDrkoU+zEVZAnTPLGkDjL0Aou2qHfqBVQMjCo4rzcz9AnqVa+MnMTUCJ6C8tifBXQCDQYAkWqihAoLtpN7g+xj/B4+UKjhsmQEdBnGHYsEpAbCUDgQg7U0ATA0j1r9ZMQDq7JMjD9ydAtNbGxgyoEkDtLyzUzX1BQM4Cteju6VVAsC20nQlLRECggGlS8eEWQGHncwdsbUZAvMwRBaQwQEBzooWsFm0+QJ5txgbJ91FAK0YWlrmFMkAYFVyY341TQHe6iSjK71NAptdsyof6A0AyzmyccEpSQCZhOPqhjEVAQV7WI++IIEAeireoVrBUQFDRKqtNNVNAmIr6DkrLIkC7AN+VqmlWQOjo3sfWxiFA/IqJs/j0OEAIaASAmB0wQOd0CBpKZDpAcAOsom/YIkDCsb5qTfErQH0eAl6Q1UtAEnnRHSD6MkCesHpkT5pFQDw/pqiJwkFA9kYJF13vUkBru8kG9woyQDrl3P/ZB1hAPNwEImV+QECDXwYDXgdFQFQPLXR9W1ZAWRAi2RQFCECxKcnoxxxIQKxEpk/wfhVA83YDb+JxOUAAgW1F0/xMQAoX3B6K+lhAxGI0kDRCSEBZ/nulk/BWQEX+nQOQqjdAMoauoKsDSkApiJV72PBTQCJwvkeDC0pAN9u4cRpcNEC2WAMQ0nk/QFdSfxBxCFBA0onhT5GuVUBeNuFTqqBNQAq3gXPHw0tAYstR2EUvTUC86Irg3ddUQGftfcOIS1RA5ITo+HN2PkAktyTJc+lSQBnMG1qbvT9ALsEZUu0mU0BaBI9HYmBQQJt2iVjgZk5AghcBTeNQSkDE2Gs/ElhRQFfrbEMmo0xAQ6K1nDeXQUCJDZTgtFZSQPvlJJWdgVZAC7lKfBvdQEAz1r3iI29YQBgtHCQX8VRAI00MukFfUkCDJ0A8+kRYQN64f68vmTtAyM1yCoEP5j9yFrAHR8lRQPQtjwtzjj9AxhN55OtLSEDdd8jgsZ4qQCOSVAh4ojFAqHOlT7fNUEATAjUbFnZYQEH3e1XMy1BAGtlcZveYSEAtAs/4HzlGQAwfcGWv11VAN1iposISLkAoVbiS7qtBQEOuqeKYJ1hA0gauuSByVkA59CSuS+FTQLsrlWxDn1dA+MT58U7AREAj5pde0hJYQEe2HOo1HkRAxmNoxbuFVEDTTnAlNe5MQCTxqcMPA0ZAvtXkywmDWEBT2aQ9/8ZWQO0Zc0jfJFZAxrB3LDjcGUBCgzC67mpNQCVp/O5Qy0NAQW97doQcV0Cy6n+Vr+wFQOpzryHtWD1AnvMGvuLYUUCg+CL78WYfQMzQJDoS0VZApkzETJtXM0D5lIXB6284QLyBdzLfyUNAwYUmxnIXKUDsgIdOcR9UQEIRV57SgFNAcAyqXdMmTkBDyOf/t9E1QETLAoBfUUFA1g20T2OTTUBppsPtIypTQBDgMux1ZDZA2XUURyYxWEDIAWAo74cqQPZxY3VmylhAeaVkCUFGSEAvXXXWIpBQQGAHSVMloENApHVPmB+HV0AB+H2b9G8hQKABA83qM0xAbyKcJXkcQkDdKurVk19BQBNZvHPJUlRA6jhtoZKGP0BaQZ6+ODRKQGI5dcMB4ihAmqW6/KcXNkC6TDR2tUxGQJTmdaQlmEFAUZNTXTUzR0D9Hmsmd7VIQHI4nn32xUBA6xvhm47NR0D7r7qDZLZTQAHU/j8ubSpAGNcvmvCSJkCe3hMJGLY9QJiTXmwjmyRAskCYqGWbMkCt7AigdHM8QPAymPadsuE/IToInuv7VEAclsrVKrE9QKo1GkX5yFFAJH2GYeYaU0CUWJYPC4g+QO8Sop72JklA8/w1fgp7WEAWf/TczOdJQBkyRmxG3DBA9AyQsm0YUUDd/z7g6RRMQLOb739YFlhAcEK4awWJVkAt0N3tG9Q+QHPSS7zsf1BAVZ0O3RAhM0BHTIGaOHRWQFx0ve7omkdAhcZfBkYbVUDGZWy4U4hVQOhfp4UrCjNAbL3b51F1RUCz3neG32RSQPPOhBG2N09AVc5KcowXUUDUKmgk2ClBQGSU9ShArlhALvyM6tw3QECXIMe5t11BQKuKA135/jlARhOkrGzPVUAJeQ4gSXswQKBVc62/Bu4/DAeAySubA0A22bbyzqtWQEUz8s22zVRAmAeQ8nMqPUAwxm6wFnYjQK6XCLIhG1VADy7r3QjDCUDATLWyB4BTQAKNFhrwz0pAqsECBqdSUUAgxD8CHQndP7ojLwf4jlJAbk1CCkdGPEBr3JtB/eJRQPMk4b01pSRAG4N5tO7NU0B46uUgPedTQJ0XRguDpE9AZGCD6GtRLUDdq2j5i2pOQB1K+G4R4z5AlpyzhpUBUUCcPQrWLKBCQLrPZ/K74wdA13TINPlmTUBn4xmNNCVKQB/7zMg6eS9Ahca/tMy4UEBL6V7HFAs7QBFIrWAWnTxA3430UdQMV0Bta75qno46QP/qd7LD8CxAFAhNnnigV0AQePrM4VVEQA8I1qzNV1VArryeYa2TOkBAQ15uAOtIQMRQfX49CDlAFHhkzmMERUChhpmCmoUOQFEXctVBhgRA0QZ90Jf3VUCfpfdqR1RHQHdxcXC+clVAhwFFruIKVED7QRh2dcRRQL0g5IKYBEdArClA3lPXVUD4JSkyCk5SQCufUjPnwDNArgdR6ACkPkDREQa4NCtTQBQz6k4c+iNASgfpvSfQWEC8gi8FaNtMQEsnN1yeWD9Ayy9wK4YaU0DdMFOhb149QNk0Vg27Y09AzEvootgyQkBTa66J8ctPQBZj5F6Sl1BAd+xU+WrnSkCHnWt83vtSQAzvyOBn7lNAURPnR/jOVkD1EfEnkFpPQNlYrsuA+VVAj0pbhclYRECahZwGdR4rQJacA02RQjVAvUPcMtpgS0D50E49xbk6QNy5JVri01RA9eR6nzNSS0AocErASvNPQMH+dieTf0pAXAWhMIAcUEA8XC3S9z5QQGpF+8ljdlJAzuXXNTZ7Q0AXZp2S1AAJQMTOmECnGEdAcP/B3/rkM0AxcR9g/eNYQDezcsIgMFNAUU/iuFnRU0CvmGoFE/1KQLj0O/dZZTlA4KTTupDRKUCycSrtTAJSQM7wyxNdOlRAJbk2V/B3AkA6mG4xzFM5QOfzBYtfAEtANiMhfS4/WED3BpAJ1jNRQJERc9xXJFVAfrx3vp6oMkAYBPVJc51VQLly5t6iVldAOPbO6WTHQUDrU0wQO8pJQIwt1MtZGEtAA7VJIiu0OkCYfmgWunxRQOuIbnB2i1RAqOJhXNohSkD0nhKWy1MjQB57fEF6/EtAxJO1QmcCS0CKNegMlT1SQAb+sJmG6ypAF9eYVdllN0D/DffyduROQLUlBqVtdUtA+mAHZcHJIUB4qYbnEVVMQLHREBYRUkhA+VKRKRsSRkA65TzNyLFAQL2pzaoAPk5A2d+/Baq4OEDN7NndWLVAQL7c3ANbH0FAb+shBHaaWEA/2G1R2oZWQBiCvXyLnAJA6pgWJNPARkCHwSMXLZhHQK33SOAbzlhAoa5dhxEoWEA+3yLZ4fkyQN1omHuI+0lAJId+Ow63T0AbzVuF5TU/QJAISY9naDpAHk4SKPBQQkArqy8XrgtKQJLCCAHf+0FA5Ftj+JXIRkAFjonru5MwQOnAMSBVAlhAhSRp7wSbV0CMhPV0309QQPDVb3dbBUJA08XS34VGU0D6ypusjp0eQGi92CMwzDRAtl42ZgsmOkAef0l/W+H7P4tgo4FwxzBAnQ7+O492SED3a3JXuLVKQNvR2yegiTlAQHuiBwDzUkCdVQxAIGJGQI+yjo32bFhA/Sysg2NNNEDSOENs485WQFD+IRrOFkNAkIk8S3VhU0DrW4WgZHFIQJZTxQTjZj9Aca7GbN7MVEBCvUwiEvNFQCDuaGOGSUlA0BaNCWR6UEBEK3451G40QBB+ipJO1z5ATjpTbB6qVEDu3DaXzPFLQMp72yhHEjxAllWjTcaYPUBMlRa8ZDkfQND7OVrQETpAKHLeBztEUUBBCWRHEtFXQEwrEybz0TlA0G2MoKMfVkAHA7F+n74iQOL+sHLcvlRAOuWB8mqdOUAczxdcOrlTQFJ8CQaIdDZAtKH/+tOyTUDk3hYJ5x5KQLya3u0T0whAEIfANmhYVEA3NfgRU+5QQGVn+LacMUJAugGnpyUVRkAUMPINLA8+QBmVkzFPBU1ALsq50MG5V0D4tVPrLeVUQHTHA21/TARAaOivOHFfOkCkC9XBnHgrQEqfkWfaEzhA2A/E/VY8LECizl4MIT1JQCX8CQtJmFZAK8ecQma8SUAP1vtiMxRXQB71JxaB5DRA3UGKf+c9V0DhMajSe1JWQOkwhvYAJ05AW9evMCiON0DHVVGx1FZRQOrpMHIZaFJAtDtSNJH+JEB8tGBbjk1UQH4zwbxjM1hAJKv/8GxNREAKyMnfMZFYQI7zQwn5rxFAMLQXnGvuR0Cc3mK3+U03QAoNi4YrCgVAYMd0cyGv1T9D6WMfKO8xQDpDXKTrMjlAwPOeNLLxJkAABS1HwiRRQD//UuT9nDhA9ShqgzHAVUBdHUilGm1UQJh82mUJeExAn77bZ42zVUDoWth8QkdBQHwRuKtbSFdAGJ5y6yNIUUATqjCt4+0xQGLcVdecH0FARII63jeRUkAAVpR2O3JXQA9SM8CIDEhAJDRNxMhnSED6GcxdsnlEQMEkYZHIcFFAtljeOC27UkA2echJIh9UQIkDKUMxTz5AIAUmvh/8PEB/FHMOcnYBQGvpL2lLmFVAY+rKQbQyQkACnB6leTgWQNB691o8SVZA9fDiFYhVQkAy6GlxsfpVQFuBAhi0BlVAuI83Jz3QIECApdvXav5IQADeqZ+sJVZAJB4cwih3KUC0HTjUvhsAQMUiLlAmuFJAitR0YpdAUkCVZbp9A5FVQASFGVq8QVFA9nRBmAfQGkB5/DCD9HhNQPhfoyXK+EZAGAKKQ7MXRUAttJEJMKdYQMLyEJMpojhA0TbVDJngS0CEKiq0uFo/QCMAqrgrsRBAvYVtmaOqQ0CTCXqAA1c6QB473GqiAVVAUIAh9XDOT0AKmhtAUVFYQIhqoAptfElAq1I2GYddTUAFMgnbux9SQLI9n8L1FUZAMECUoyraV0DB1fSyngxPQBAo/mF8S1hAPbzBJ2uGTUCoUK/8eixVQL7Yq4a/alNAAmC5o2PDU0BZAGXnv486QAe0AZrgvyxA+R4e3P0MVUD5UBXzknhNQMR6HRCm6DdAgkmz9/ZET0C83QQCJ/IwQO92yqHM+VdA3MAvNbKTOECV/VNhoUxHQDjjvPk+7EtArwcn5D/BSkDhLWdxMWxCQAQ7YkiavilA2jNqVjGEWEDibG3kckBRQHVyLNE4OlZAqqMtmU8qQ0BAflw9Ih1QQKZLlna8lFdAPTUnjKKvCUAuFJr7/S8TQDiEOYrFFkhA20/FNgRDVkB5DXUGIoRYQA13cGsolwdAtB+iY6FLV0BMV2uRMYpRQMckoJ6DwDdAxtTmgbwnUkDSaArjc8lWQDSOxV75vlJAiV2mDcvoFUDcALziSBpAQAmiHB89o1NA34TVZbRcTUC49I4TOds1QDqThB3RrSRA97ZFvFmyQ0BtFA5i+4FXQIgbfmiSuSdAzY6fd2FkVUCyJFrUqyVUQCtcialr9iZAT1mzBuX2UEDKHlXkoB9XQJIDwwCjwfk/LOzOi0TyVUBcq45vfz9OQC9zN1EyPSZAtF67C+5gUUCALtmLC1wZQAvQtDzmoElAF0RU+CIiQUBNUeee8LNYQKZ1uFycuENAhIlCj0/yVUAGcTrh5/dGQBKqYc69/xlA466bgeXcVUDNs1DTK6hJQKOFzg1GDVBAulgUKn+WR0DNiZ/pIJRAQIq/rYdPXVBAZYCAz46bRUD9HwqX54woQODuhzLC0ztAUCtQ8HLzT0DWCpXteOFXQM1U+ipYXVFACJqtjlQ6RkDZO247KLkJQPK9EeMyt1dAbiVLEyHVT0BzoZd9S9VLQOnfKihws1hAZrZWQj66WED9hfyR11oBQKLyIHr0wEBAJ9nYJ3MKT0AG1wiaSsY3QOZaAeV/Y09ARfpu0f+PVUCB8Zn7AqhWQChvG21nZT5AZ3xnLWZRRkBxAeNo0C5EQDegBt622EtApQAFb/RrU0CIEe4voilWQDRgE+wA7VJALah2Vb36VEArYYSDZUVKQIBbSgKSUVdA02qkbMbzV0AB/ahiEE9OQIaJZxI5Dz9Axzlqd3NeUEDfcEYgtb5BQD8CfOLZ6DlADZLl/q6VUkCZB/kkz+I/QP+zFWGyRlNA0CH+ZfoAT0BUkjVzrpBVQNt8C9GRDzBAJiy5/czJHkBG2mp0C84mQFy1npjRckFAIu1bzYeFNUAT/DfBKpVRQEtR5GCO9jJASGocLhgcSECfzcWn66ktQLl4uHvKDklAm3WKcaoDVkDlPNFhR0FRQNHpU4rPbFZAlrtdJj/0PkAvFm6z925YQAqq6SmyhVBATrvdfs2DV0CztekX/vJPQAze3e+qYTBAvzZE9Os6IECb9Z63jLlMQMQ6Ikr4qEdAyT/YvBPhUEAKFcLEMpZWQOHYjJw3b0dAgK1GIcJ7QUB7JwpyUhQvQBRsB5L9rURA87XWl/RdRECew1Dp6LdPQLS6XPYtIgFACOAMXq/7VkCOwtbubvM2QBhJFYaM8D5AN8a2vhehWEDKFo4sygofQOuHKjvTlz9AD9NpofAKSED8s2PAfJ0wQAykKMbEfzlANCTNnkZGOUBvn9pMbLlRQH1axspdaztAA/rICUmNNkAXDMLqLKQiQFqI7IJC4DRAk+oleprKQECxLInj7RVRQLABODfaB1NAF4zROEJZMkCz6rZIntZDQDiu/cwlhDpAzos19VdnUEDgTiOKpb5AQL8k4xLbG1BAh57qpDjrMUCeQhkDrHspQJLlfCz261ZAtVF+6hDoVUBCLpLQ7nYzQCCOsrzri0xAuxJUj/9ESkBYSHz3a+1NQKKEzsogFEhAC/m3PQEYUUCH6gv+JCUjQL3b0pXJ7EFAq494l4ShIEBI87dWeDxQQOZACh9/8UFA+VsNux00SUC3l0yoXaNIQDoYVWrhdUNAP/GzbFGvVUCMx5o3ysJJQNkwOXEg8yNAr5jGvQ23VkAsILtBoCE8QDasLGQ2nidAMmHfZ2RPQkCmwZVWj9tRQJyv/eY/oFRAvnNND7cELkBLzXItfDhWQBCLryYg7lZA0L1CNK0jQUCwDRLIHt9MQA5xW1MvGURAR9KgxkvFT0DTxHwKJDNHQPef//6SCTFAvHUPo2mrV0AHdyl0qvJCQGF1YDQmJkJAmpjOqv/eR0D3wSpCY8JSQOgoKGY5wzJAmYJVmHZDU0AbqsxP2rxAQHXOVgm4o1NAWEfujPhwQEC6JV2kD1RLQBT4F79gjFBAo3J2IVgdT0AsIqIu81hFQBh48JrfGVNAGHw1SOWe7j9Wj7uk71IwQArdbS/F2VBAd2v2YIcvUUCKuJ098sVWQOBcaWXH10pAPgZkA79hVEB6xH4dH740QHAu51Dc0TpAq1HwcnY8VkDk+ljoSeJUQLWE8tZagjxA+yY44gbcLEAqPyANpz08QItDtgO74FBAMBzOruSv0D+Y/OBhLds4QIIrznUNWUVA0F2cM6LSO0B9GbKWBDtVQK7LwZ6dFFdA6r6/DySTVEAqt0Mb3XEZQIRHRGqTdVNAuxbNX6FqUECh1kq8hOtXQP1qSuzMY0xAc32CkYRIVUCEZi2lA0ZRQHoqa1OcllZAye8UsXvAU0Afa6oi6ENIQLpy0CuURk1ALGl8WXwySkB3tjH46HZLQGhI6Auvtd4/z10ZaTwgJ0DlXXbc8MxQQAg8lCDUxj9AynbUUNmuU0DvjsemAQxSQKAtiaZA+ihAbhUxADjBVUBtnrUKfV0wQJAuk3t4J1dACOQmHXI6SkDDirgjJIA6QK1DdO2nWUlAfQofoCP9TECGb+TWmXA8QGE33kPX/ThAq7ytfLLwNEDfeMbo1zc3QIznKPv+aUVAhcvatKHlSkBdduPURJBSQKkBQ5+BfjpACY134pZVVEC/o0U/lnJRQBgFr13TY0VAFjqKbN+aQ0ACq7JZfbFBQIHDt4OcXkNAIhVAVe/jMUDoMZaO3wpRQJ2pc+KCCVVA1jNs9BV3WECgYVnV3hYsQD7z+1SQpkZA8YX52OEGWEBMBOO7KVfnP49txDn4BVBAmJ+5vrBPTUBSsLm057YjQD1fDynXNVhAsRIBf1nQNEBdOoD/Qsw6QFGEKfG5C1BAZHHaN8Yq+D+bDocqFikVQL5kdDVOgUJAY+gewUFEPUBuVvY39TtMQO2VdlBIqElAaXFVNhPZSEAzcFL2oFYrQN92SdxceBhAN6i8CdTlUkAkxqJSzT5RQGPVyJ6gvVVAVy5gttUzRUDdM3dLlUtTQLOAFlxVHEVAKCwIySjERUCRfrceGjNYQCr9g0JpTlZA/b98sq05WEDofh403jZXQNRoWA+HYU1AciMz53MvJkB88carLPtQQC6yGUYNIFdAL62cGWheMEBj+8Z+ASJOQKq50/6DCCVAthNOqcg/TUA2Cq16A09YQBmRxE3f/VVAFkhzW/WeR0C1MCNjlBRJQLi0YFSMwERADc3ubEOWUkAVAeZT70RYQJr+vJrt2VJAt2vZ6eCQUUBVz87ORXdSQLk5P13EgkVAtP8qNCS1UEBpieurpqNDQODKRST/W09AuPLoWLMGE0AdgD+k97swQIUvW5DHHyRAD0F8/ojlJUB9oFo0K/9YQG6v69ozBhFAhtbAL4cxQ0Ap6mZfk4tMQG2PNGC8zj5AKR+1tetuR0CBIbAOGmpSQGyIog1EOVNAYRnV28JWVUCz2gvjWUxWQHiU6TmLlCtArpbtrsRrK0BKO/iJ6LghQJe/IVOimDJAFBip8koGIkAfLKrpmIoRQOIzPnukvyRA0Oh5852mWED74vSltHRUQOS0pTX7xDlAeuudN3ElUUDo9DLd3BVAQPhlBYKfg1VAU4h4VavSUUBuJP0VRd1BQJUE0RzAdlNAil7FKbLvUkBiUi7IuFpRQEAkZxP5pFJA0cDMEb5yGEC8t3oYTmRXQGhqI+zMdFZAA1dI9wD5VECX3AKrV3M1QIeeNRetoU5AYw5ZBJjfVkB4d14cTpVKQP382Jr9TFhAid/5nKN1V0BpGWtoCAtKQMzg+cCFJ1hA1YUduTG8PUCOag373pxYQHti6OHLSD9A4jsh/SB3TED3fdJg/KolQGym+VNLBlhAbqovzSwxV0AyFwqqtuo2QBG5yAKghzxAxwDpdOEkTUDmSawe1qdGQA2NQVBAxlRAFv3WsnSeUkBHFauuJFZTQLfUQIoBBz9AxNExrVN4VEDW18o7H7pUQDO9IvdwVSJAA1Qd4783NkD/RhaNfLo6QDyz04l11RBA7PSraS9fSEBqAnnNTH5HQOQRc5JNWlFAD1ncDQQsV0DON7rX5EBUQKzo2FXywDVAMYAlfbWcU0CaAqXfdDo4QN0X5OmMLFBAXkX8VloMVUCIYAXeyZ5AQMF28ebGelJAzhrp8Y6zMUD+vDM8vOQhQLWkw+BialVA2pcfvSPNMUBSNARgiPs5QNXYXuX0xzRAxn02jUKgQkANsBvVjKs6QDJUtgqVC0pADMuAz6NqTkDP09noxeZOQPgOH6pLaiZAjc3svD3pQUAFZv6JjTNCQIapPVgMXUJAiPkDGomFTkBGN1XJmS5VQIGTpG8DvVNAH+TBgTICREBytuyApt9VQDov3bWsAiZA6GfyrKWSN0DkSPOZ3Co2QD5Jd7134AhAnEX4+QmMMUBSo2OdvgRRQOx10EIM9UtAG4+4VYkHOUDTk5+MivhRQC5dusyMiURAsb0IM8aRTEDJ5eP5YZ1XQI4NjRTZQVZAL7rfD/oJSEAeLgmySgD8P+sSCc9AABFAb5pph8G8SUCFzs7qOzw4QATKx6nHmFBATY3wSmeKVkCWmrlSd543QLGcYpb0MFZACxR9wNFITkA+e5GjSnQhQAEoNG6vvipAIqoyTaiDVEDdOzh8wRM5QNC1U+EbcBVATHoUE+6PTUAb5g/kF19QQMLh7F8rT0pAUCBU7p+YVUDNxCRMOypQQHYJHDhmnx9AQNutHmwwT0CvUHDOqwxSQPL33LUNMFZAkaxp0QjHTEAgcVlNCOZYQLBbOKGpmTlAi6ciNs8SK0Awy9XLTdxPQK/mLzrmK0ZAm3BnQDzRQUDUhEckDYFGQGKS8LSwM1ZAuq28UpsCIUAOUVIW5xM3QKhx5ZeINTVA+Qm6lnZPJ0B4b9o+SV1AQN93Z2Fa7ElApel0dmP0UkCLjv3V+NpSQDyQcePeME5AXLgw2yLrM0AOl8xvmfVAQKCuadslASBAXFJ5OYnOUUAlk1aWfW46QDT3NPpfu0VA2JPzW0DMVEBToHainoIoQC1QNZNeRU9AdR12J43bUUBLb8O1VYw7QAruImWjR1JA+dqMLVaWVEC/rge0cu8JQP2gSwj/ZVRAfOy6GZT9VEDv7CWKo7BCQMEmEBOkc1dAo6EwDqgtTEB/gSfEDHJRQKX9LGWp8FZAUPX9d8EPJECRPzO2uuVVQDRjpatclkBAIJhDTa3z/z+qD8aTKYhGQKTruug0+TNATVaLEo6BQUCr32keP+NSQL3WmZftllhA1qIfymeoRUDNxOGnl0ZRQJicjYozxEJASjY4iTehQkB7brOGdsZJQLBACEEDwTpAHZIGPr30VkDuvvtXLVJFQFSHR9apuFNAu2h4nboQNUA5FILmSPhQQOwvRapPmkZAXoRMbLBbSUCXyWvxtYFTQCh8KM9+alZA/CkH9MUpLkD2jOKNN7o6QIGADT55NjZAJ77e99OjR0D7rx7sT8JYQJHObPqTbjlAOkqiQFyCP0By0+IUrC1RQMjKfpBuhkBAI9Ik7Ge/UkB9oLIt52VYQOGXB5/VOldASHz+NgdbT0A5yfhZ5rJAQHpNvbR7tkhAnwKlZdZBVkBdrm/wxhY6QNX1/tZu5UBALn01Ryi0MUBs8KvkqHBOQD11rqeHe0ZAODrIs7ErUUD0uXlP9JckQNuFeHzKKFdAqHE1jBm4TUB/Bai69tg6QJif5V115FBAKRoHnzH1IkC6aPcH9qQaQMt8zZnjuztATd3yoPKNQUB9Pr4PoEJQQGQ7UdNA8FFAlSkTvYYjUkDs6Yi4644vQCTRio91L1RAoCLgZ05gSkDMVO/EY69FQLKw/W0P2ixAZPW/dGRbJ0DyWMh+6q9RQKQwZZCix1hAoN4NwcLfPUBoxhow9LIgQCAbaLXDvFJAzFrQSm4EVkAdlR6FUwJWQGGgrL/O41dAAS6mc7a9WEABMplqOVs3QJhUkLPm10tAhJf5JXsbUUD1vL7vOOlHQFo2gd8u4kVAVJxZY9lFQUCQCwv+tYJGQJP0W2GEZVhA3OGOI8cJSkBoBlydcfJAQHG8yDPEKEVA58yk/FLoTkBgIaIxLJ1JQPRHXRNxkFJA0TZnRpXEQkAMfpCar+opQO0jn5JbiUVAB+2ofPzIV0Dx24/tef5BQKq7YF9NuS9A2IN9snDQREAF3Evd++NDQLKqRtdK6lBAkEUzwlHSV0B6yu8g37k3QBT/MKyRsC5AqcvlVDGSOUCBe+BYEUZTQDuV5AzrEEtA3LjWj20yUkDBV7Dfv7E8QNwJ/S6SpjpAPccB5WG3OkAHXVRDWHxEQFWPmA8RqlBAwA6JeNuZ9D/w6fzFLmEXQIC1GE6NFKw/Whx4kK+FQUAQVkOU4EcVQI90de1nZUVANXf73HjPUECv31TRv1IkQO0tRpVV/lVAneTou7K/SEBwzFgSwugxQNKRF3qgXE9AUCtD9PC8R0AIHjw0WBUkQObBvksZklFA0pn3RPOlDUAvW6lgQbEjQF2Vfh1sbQ9A+D7LKKgoVkDyu5amPJhLQDe3uxnn3jRAFOZO5kz2FEDpzK+hkqBMQGSEm86ljFFA8AuVTvnKUUBoIjV48ZpVQOevc+s1kVJAprbHeE1QTUBiufqBRANKQAR/CEqKUyxA4BsgiYpQWEBA/OlfGiEpQJVrrpgpAyxARzYNVylGUkA6/5MO/P9NQBwDVAWL1VBAlZc/4yA0IEA1mcgHi0w4QGOXpeRdNy5AUBJ/Yl8YVkCkoyh2/dxXQMBiTdBlywBAylM0hvaYSUCVI0f6op9AQDEWroAwgFRAJ6UE+EeOUEBf4d8011tOQPU2vP/vxFdAAw4wwkZbS0BG7rzQDVw3QDwof8dHvy1AMVMaK1XTEkDgTqBwohxQQFCx4RDLOUhAC4Wl5I/gWEDOI8AdOetXQJW9e/PckVNA95XKp0NYP0A+vVglNJZPQF5uFgPMcVNAVoF7oNdwT0C/RKG/9DxAQAx9LyPI+j5Anhzb8cDP9D89BZBOS/1XQNS7FmnDOVdAQ2tKCUKDUEDZKKDVDGkwQNQPRdgj+0hA3YfWB/ntVECA9YfOduw0QDI/m9PFCRZA+U1W/XLpTEA07iI1BndDQF/RsrvTnTdApjQ9za0dOUCgNye3OUJGQFUHXfCRnEpA+tmXZIuvVUAYyE6ZkHJNQEB2/g8iahtAuaS5qeOQUkBoLUMsFsRCQOlN4a6+J0hApdJB23mURUD4gJ7aYo8GQDqSJ8s94FdA59cUXy7OVUDRem7g/aVRQNDAADa2gEVAn6LZOvmhIkA2n7+JcB1TQFBpKloJ1UNARUCpz8nQOEDwcuLm8ro0QGvwXOXQG1ZAznuEpSjOTUBnmZfj7Ao0QC2l2Q2ON1VAgqBDEp8gT0AGcmt2pxRUQIEa1ROffjpAtDSleUNJQECYvYX1/Jw+QPwYaiBaXVNAScMF6Y/lREBmbedH9RNLQG+CO8zSYzBA0nF63fGuPUCT9LKAJAY8QCnjqGC86TdAmQv+u7UdRkDsUbXUc1VSQAg2UHfkJEJAZq67VSZyU0B1oJN+GFNFQBz8vr6MVldAfitvaQ2fQkDiiEmShk9SQHxSZZ+czlBABxQ6UxlWU0DtTFbptVVTQNHK9LBBG0pAwdOsw+vTUEDPv0DLWU42QITZH0MwaUBAefVCn5rcOED2+IKffEpWQI9qf/1EP1BA0DTGIWsJTECeph6XLhxYQOJ0J9tt1T1AwowAKfxcJECQXjzXm49WQLOX739M7ldA3eb4b+PAUEA828V3tdP8P/kU1OJfL1NAqruCU+A1PkCe+1rpUDxVQGZ9LsYK/VZAAWYkeIqFVEBZOHNl6q9UQMRahtlDuy9AXSr+kuFuU0BiYjnnWdo0QBjm3Z9gylJA1Jj2WXJYUkBtBECkNytUQBqDqdk8YjtAZrQuhxrmUEBz3rjGxkdYQIDEdSqB105AbEGWhDCEGUCb2mi3YIA+QNtlsHaM9zRAOB4amAXbTUByyFJrkCdWQDIqqPt0HhpAaU7otxxoVUCXtNTNgoBYQDEQSpsfG1dA8vQEKkz7T0B8Gbrs1Hk8QKXDTBS4okdA0COG3DV5NkAK+gKBAYBDQDKg4jz3qE5AO61A2U/SEkAD2FeEUudEQJ3aWDY4mERA5ofmZb5/UkAZXciJWKFVQLFtwvf6kVFAAvKDk4wYVUAuZfjokOhXQDTBqrexUFhA01C0gae0VUCkxRzmvGFHQPbB2pJl0UZAAGvcZHsWMEDhJhzR7J5YQKk6J+3KiylAqcoysfspOUC6feeoIMRFQA==\",\"dtype\":\"float64\",\"shape\":[2000]}},\"selected\":{\"id\":\"2281\",\"type\":\"Selection\"},\"selection_policy\":{\"id\":\"2282\",\"type\":\"UnionRenderers\"}},\"id\":\"2188\",\"type\":\"ColumnDataSource\"},{\"attributes\":{\"callback\":null},\"id\":\"2167\",\"type\":\"DataRange1d\"}],\"root_ids\":[\"2196\"]},\"title\":\"Bokeh Application\",\"version\":\"1.3.4\"}};\n",
       "  var render_items = [{\"docid\":\"7c29cc4b-5623-4e4f-907c-5f228c532e14\",\"roots\":{\"2196\":\"d4eb1cde-3d82-405e-84e2-fe2a93d3b6cb\"}}];\n",
       "  root.Bokeh.embed.embed_items_notebook(docs_json, render_items);\n",
       "\n",
       "  }\n",
       "  if (root.Bokeh !== undefined) {\n",
       "    embed_document(root);\n",
       "  } else {\n",
       "    var attempts = 0;\n",
       "    var timer = setInterval(function(root) {\n",
       "      if (root.Bokeh !== undefined) {\n",
       "        embed_document(root);\n",
       "        clearInterval(timer);\n",
       "      }\n",
       "      attempts++;\n",
       "      if (attempts > 100) {\n",
       "        console.log(\"Bokeh: ERROR: Unable to run BokehJS code because BokehJS library is missing\");\n",
       "        clearInterval(timer);\n",
       "      }\n",
       "    }, 10, root)\n",
       "  }\n",
       "})(window);"
      ],
      "application/vnd.bokehjs_exec.v0+json": ""
     },
     "metadata": {
      "application/vnd.bokehjs_exec.v0+json": {
       "id": "2196"
      }
     },
     "output_type": "display_data"
    }
   ],
   "source": [
    "from bokeh.plotting import figure\n",
    "from bokeh import events\n",
    "from bokeh.models import CustomJS, Div, Button\n",
    "from bokeh.layouts import column, row\n",
    "\n",
    "import numpy as np\n",
    "x = np.random.random(size=2000) * 100\n",
    "y = np.random.random(size=2000) * 100\n",
    "\n",
    "p = figure(tools=\"box_select\")\n",
    "p.scatter(x, y, radius=1, fill_alpha=0.6, line_color=None)\n",
    "\n",
    "div = Div(width=400)\n",
    "button = Button(label=\"Button\", width=300)\n",
    "layout = column(button, row(p, div))\n",
    "\n",
    "# Events with no attributes\n",
    "button.js_on_event(events.ButtonClick,  CustomJS(args=dict(div=div), code=\"\"\"\n",
    "div.text = \"Button!\";\n",
    "\"\"\")) \n",
    "\n",
    "p.js_on_event(events.SelectionGeometry, CustomJS(args=dict(div=div), code=\"\"\"\n",
    "div.text = \"Selection! <p> <p>\" + JSON.stringify(cb_obj.geometry, undefined, 2);\n",
    "\"\"\"))\n",
    "\n",
    "show(layout)"
   ]
  },
  {
   "cell_type": "code",
   "execution_count": 15,
   "metadata": {},
   "outputs": [],
   "source": [
    "# Exercise: Create a plot that responds to different events from bokeh.events\n",
    "\n"
   ]
  },
  {
   "cell_type": "markdown",
   "metadata": {
    "collapsed": true
   },
   "source": [
    "## Additional Information\n",
    "\n",
    "There are many kinds of interactions and events that can be connected to `CustomJS` callbacks. \n",
    "\n",
    "\n",
    "* Widgets - Button, Toggle, Dropdown, TextInput, AutocompleteInput, Select, Multiselect, Slider, (DateRangeSlider), DatePicker,\n",
    "* Tools - TapTool, BoxSelectTool, HoverTool,\n",
    "* Selection - ColumnDataSource, AjaxDataSource, BlazeDataSource, ServerDataSource\n",
    "* Ranges - Range1d, DataRange1d, FactorRange\n",
    "\n",
    "\n",
    "For more complete examples the User Guide section on [JavaScript Interactions](http://bokeh.pydata.org/en/latest/docs/user_guide/interaction.html)"
   ]
  },
  {
   "cell_type": "code",
   "execution_count": null,
   "metadata": {},
   "outputs": [],
   "source": []
  }
 ],
 "metadata": {
  "anaconda-cloud": {},
  "kernelspec": {
   "display_name": "Python 3",
   "language": "python",
   "name": "python3"
  },
  "language_info": {
   "codemirror_mode": {
    "name": "ipython",
    "version": 3
   },
   "file_extension": ".py",
   "mimetype": "text/x-python",
   "name": "python",
   "nbconvert_exporter": "python",
   "pygments_lexer": "ipython3",
   "version": "3.6.8"
  },
  "widgets": {
   "state": {
    "335ae2c8ff80469e9adac668c2924989": {
     "views": [
      {
       "cell_index": 19
      }
     ]
    }
   },
   "version": "1.2.0"
  }
 },
 "nbformat": 4,
 "nbformat_minor": 1
}
