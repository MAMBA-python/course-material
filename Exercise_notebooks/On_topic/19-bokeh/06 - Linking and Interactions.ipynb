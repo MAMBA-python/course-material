{
 "cells": [
  {
   "cell_type": "markdown",
   "metadata": {},
   "source": [
    "<table style=\"float:left; border:none\">\n",
    "   <tr style=\"border:none; background-color: #ffffff\">\n",
    "       <td style=\"border:none\">\n",
    "           <a href=\"http://bokeh.pydata.org/\">     \n",
    "           <img \n",
    "               src=\"assets/bokeh-transparent.png\" \n",
    "               style=\"width:50px\"\n",
    "           >\n",
    "           </a>    \n",
    "       </td>\n",
    "       <td style=\"border:none\">\n",
    "           <h1>Bokeh Tutorial</h1>\n",
    "       </td>\n",
    "   </tr>\n",
    "</table>\n",
    "\n",
    "<div style=\"float:right;\"><h2>06. Linking and Interactions</h2></div>"
   ]
  },
  {
   "cell_type": "code",
   "execution_count": 1,
   "metadata": {},
   "outputs": [
    {
     "data": {
      "text/html": [
       "\n",
       "    <div class=\"bk-root\">\n",
       "        <a href=\"https://bokeh.pydata.org\" target=\"_blank\" class=\"bk-logo bk-logo-small bk-logo-notebook\"></a>\n",
       "        <span id=\"1001\">Loading BokehJS ...</span>\n",
       "    </div>"
      ]
     },
     "metadata": {},
     "output_type": "display_data"
    },
    {
     "data": {
      "application/javascript": [
       "\n",
       "(function(root) {\n",
       "  function now() {\n",
       "    return new Date();\n",
       "  }\n",
       "\n",
       "  var force = true;\n",
       "\n",
       "  if (typeof root._bokeh_onload_callbacks === \"undefined\" || force === true) {\n",
       "    root._bokeh_onload_callbacks = [];\n",
       "    root._bokeh_is_loading = undefined;\n",
       "  }\n",
       "\n",
       "  var JS_MIME_TYPE = 'application/javascript';\n",
       "  var HTML_MIME_TYPE = 'text/html';\n",
       "  var EXEC_MIME_TYPE = 'application/vnd.bokehjs_exec.v0+json';\n",
       "  var CLASS_NAME = 'output_bokeh rendered_html';\n",
       "\n",
       "  /**\n",
       "   * Render data to the DOM node\n",
       "   */\n",
       "  function render(props, node) {\n",
       "    var script = document.createElement(\"script\");\n",
       "    node.appendChild(script);\n",
       "  }\n",
       "\n",
       "  /**\n",
       "   * Handle when an output is cleared or removed\n",
       "   */\n",
       "  function handleClearOutput(event, handle) {\n",
       "    var cell = handle.cell;\n",
       "\n",
       "    var id = cell.output_area._bokeh_element_id;\n",
       "    var server_id = cell.output_area._bokeh_server_id;\n",
       "    // Clean up Bokeh references\n",
       "    if (id != null && id in Bokeh.index) {\n",
       "      Bokeh.index[id].model.document.clear();\n",
       "      delete Bokeh.index[id];\n",
       "    }\n",
       "\n",
       "    if (server_id !== undefined) {\n",
       "      // Clean up Bokeh references\n",
       "      var cmd = \"from bokeh.io.state import curstate; print(curstate().uuid_to_server['\" + server_id + \"'].get_sessions()[0].document.roots[0]._id)\";\n",
       "      cell.notebook.kernel.execute(cmd, {\n",
       "        iopub: {\n",
       "          output: function(msg) {\n",
       "            var id = msg.content.text.trim();\n",
       "            if (id in Bokeh.index) {\n",
       "              Bokeh.index[id].model.document.clear();\n",
       "              delete Bokeh.index[id];\n",
       "            }\n",
       "          }\n",
       "        }\n",
       "      });\n",
       "      // Destroy server and session\n",
       "      var cmd = \"import bokeh.io.notebook as ion; ion.destroy_server('\" + server_id + \"')\";\n",
       "      cell.notebook.kernel.execute(cmd);\n",
       "    }\n",
       "  }\n",
       "\n",
       "  /**\n",
       "   * Handle when a new output is added\n",
       "   */\n",
       "  function handleAddOutput(event, handle) {\n",
       "    var output_area = handle.output_area;\n",
       "    var output = handle.output;\n",
       "\n",
       "    // limit handleAddOutput to display_data with EXEC_MIME_TYPE content only\n",
       "    if ((output.output_type != \"display_data\") || (!output.data.hasOwnProperty(EXEC_MIME_TYPE))) {\n",
       "      return\n",
       "    }\n",
       "\n",
       "    var toinsert = output_area.element.find(\".\" + CLASS_NAME.split(' ')[0]);\n",
       "\n",
       "    if (output.metadata[EXEC_MIME_TYPE][\"id\"] !== undefined) {\n",
       "      toinsert[toinsert.length - 1].firstChild.textContent = output.data[JS_MIME_TYPE];\n",
       "      // store reference to embed id on output_area\n",
       "      output_area._bokeh_element_id = output.metadata[EXEC_MIME_TYPE][\"id\"];\n",
       "    }\n",
       "    if (output.metadata[EXEC_MIME_TYPE][\"server_id\"] !== undefined) {\n",
       "      var bk_div = document.createElement(\"div\");\n",
       "      bk_div.innerHTML = output.data[HTML_MIME_TYPE];\n",
       "      var script_attrs = bk_div.children[0].attributes;\n",
       "      for (var i = 0; i < script_attrs.length; i++) {\n",
       "        toinsert[toinsert.length - 1].firstChild.setAttribute(script_attrs[i].name, script_attrs[i].value);\n",
       "      }\n",
       "      // store reference to server id on output_area\n",
       "      output_area._bokeh_server_id = output.metadata[EXEC_MIME_TYPE][\"server_id\"];\n",
       "    }\n",
       "  }\n",
       "\n",
       "  function register_renderer(events, OutputArea) {\n",
       "\n",
       "    function append_mime(data, metadata, element) {\n",
       "      // create a DOM node to render to\n",
       "      var toinsert = this.create_output_subarea(\n",
       "        metadata,\n",
       "        CLASS_NAME,\n",
       "        EXEC_MIME_TYPE\n",
       "      );\n",
       "      this.keyboard_manager.register_events(toinsert);\n",
       "      // Render to node\n",
       "      var props = {data: data, metadata: metadata[EXEC_MIME_TYPE]};\n",
       "      render(props, toinsert[toinsert.length - 1]);\n",
       "      element.append(toinsert);\n",
       "      return toinsert\n",
       "    }\n",
       "\n",
       "    /* Handle when an output is cleared or removed */\n",
       "    events.on('clear_output.CodeCell', handleClearOutput);\n",
       "    events.on('delete.Cell', handleClearOutput);\n",
       "\n",
       "    /* Handle when a new output is added */\n",
       "    events.on('output_added.OutputArea', handleAddOutput);\n",
       "\n",
       "    /**\n",
       "     * Register the mime type and append_mime function with output_area\n",
       "     */\n",
       "    OutputArea.prototype.register_mime_type(EXEC_MIME_TYPE, append_mime, {\n",
       "      /* Is output safe? */\n",
       "      safe: true,\n",
       "      /* Index of renderer in `output_area.display_order` */\n",
       "      index: 0\n",
       "    });\n",
       "  }\n",
       "\n",
       "  // register the mime type if in Jupyter Notebook environment and previously unregistered\n",
       "  if (root.Jupyter !== undefined) {\n",
       "    var events = require('base/js/events');\n",
       "    var OutputArea = require('notebook/js/outputarea').OutputArea;\n",
       "\n",
       "    if (OutputArea.prototype.mime_types().indexOf(EXEC_MIME_TYPE) == -1) {\n",
       "      register_renderer(events, OutputArea);\n",
       "    }\n",
       "  }\n",
       "\n",
       "  \n",
       "  if (typeof (root._bokeh_timeout) === \"undefined\" || force === true) {\n",
       "    root._bokeh_timeout = Date.now() + 5000;\n",
       "    root._bokeh_failed_load = false;\n",
       "  }\n",
       "\n",
       "  var NB_LOAD_WARNING = {'data': {'text/html':\n",
       "     \"<div style='background-color: #fdd'>\\n\"+\n",
       "     \"<p>\\n\"+\n",
       "     \"BokehJS does not appear to have successfully loaded. If loading BokehJS from CDN, this \\n\"+\n",
       "     \"may be due to a slow or bad network connection. Possible fixes:\\n\"+\n",
       "     \"</p>\\n\"+\n",
       "     \"<ul>\\n\"+\n",
       "     \"<li>re-rerun `output_notebook()` to attempt to load from CDN again, or</li>\\n\"+\n",
       "     \"<li>use INLINE resources instead, as so:</li>\\n\"+\n",
       "     \"</ul>\\n\"+\n",
       "     \"<code>\\n\"+\n",
       "     \"from bokeh.resources import INLINE\\n\"+\n",
       "     \"output_notebook(resources=INLINE)\\n\"+\n",
       "     \"</code>\\n\"+\n",
       "     \"</div>\"}};\n",
       "\n",
       "  function display_loaded() {\n",
       "    var el = document.getElementById(\"1001\");\n",
       "    if (el != null) {\n",
       "      el.textContent = \"BokehJS is loading...\";\n",
       "    }\n",
       "    if (root.Bokeh !== undefined) {\n",
       "      if (el != null) {\n",
       "        el.textContent = \"BokehJS \" + root.Bokeh.version + \" successfully loaded.\";\n",
       "      }\n",
       "    } else if (Date.now() < root._bokeh_timeout) {\n",
       "      setTimeout(display_loaded, 100)\n",
       "    }\n",
       "  }\n",
       "\n",
       "\n",
       "  function run_callbacks() {\n",
       "    try {\n",
       "      root._bokeh_onload_callbacks.forEach(function(callback) {\n",
       "        if (callback != null)\n",
       "          callback();\n",
       "      });\n",
       "    } finally {\n",
       "      delete root._bokeh_onload_callbacks\n",
       "    }\n",
       "    console.debug(\"Bokeh: all callbacks have finished\");\n",
       "  }\n",
       "\n",
       "  function load_libs(css_urls, js_urls, callback) {\n",
       "    if (css_urls == null) css_urls = [];\n",
       "    if (js_urls == null) js_urls = [];\n",
       "\n",
       "    root._bokeh_onload_callbacks.push(callback);\n",
       "    if (root._bokeh_is_loading > 0) {\n",
       "      console.debug(\"Bokeh: BokehJS is being loaded, scheduling callback at\", now());\n",
       "      return null;\n",
       "    }\n",
       "    if (js_urls == null || js_urls.length === 0) {\n",
       "      run_callbacks();\n",
       "      return null;\n",
       "    }\n",
       "    console.debug(\"Bokeh: BokehJS not loaded, scheduling load and callback at\", now());\n",
       "    root._bokeh_is_loading = css_urls.length + js_urls.length;\n",
       "\n",
       "    function on_load() {\n",
       "      root._bokeh_is_loading--;\n",
       "      if (root._bokeh_is_loading === 0) {\n",
       "        console.debug(\"Bokeh: all BokehJS libraries/stylesheets loaded\");\n",
       "        run_callbacks()\n",
       "      }\n",
       "    }\n",
       "\n",
       "    function on_error() {\n",
       "      console.error(\"failed to load \" + url);\n",
       "    }\n",
       "\n",
       "    for (var i = 0; i < css_urls.length; i++) {\n",
       "      var url = css_urls[i];\n",
       "      const element = document.createElement(\"link\");\n",
       "      element.onload = on_load;\n",
       "      element.onerror = on_error;\n",
       "      element.rel = \"stylesheet\";\n",
       "      element.type = \"text/css\";\n",
       "      element.href = url;\n",
       "      console.debug(\"Bokeh: injecting link tag for BokehJS stylesheet: \", url);\n",
       "      document.body.appendChild(element);\n",
       "    }\n",
       "\n",
       "    for (var i = 0; i < js_urls.length; i++) {\n",
       "      var url = js_urls[i];\n",
       "      var element = document.createElement('script');\n",
       "      element.onload = on_load;\n",
       "      element.onerror = on_error;\n",
       "      element.async = false;\n",
       "      element.src = url;\n",
       "      console.debug(\"Bokeh: injecting script tag for BokehJS library: \", url);\n",
       "      document.head.appendChild(element);\n",
       "    }\n",
       "  };var element = document.getElementById(\"1001\");\n",
       "  if (element == null) {\n",
       "    console.error(\"Bokeh: ERROR: autoload.js configured with elementid '1001' but no matching script tag was found. \")\n",
       "    return false;\n",
       "  }\n",
       "\n",
       "  function inject_raw_css(css) {\n",
       "    const element = document.createElement(\"style\");\n",
       "    element.appendChild(document.createTextNode(css));\n",
       "    document.body.appendChild(element);\n",
       "  }\n",
       "\n",
       "  var js_urls = [\"https://cdn.pydata.org/bokeh/release/bokeh-1.3.4.min.js\", \"https://cdn.pydata.org/bokeh/release/bokeh-widgets-1.3.4.min.js\", \"https://cdn.pydata.org/bokeh/release/bokeh-tables-1.3.4.min.js\", \"https://cdn.pydata.org/bokeh/release/bokeh-gl-1.3.4.min.js\"];\n",
       "  var css_urls = [];\n",
       "\n",
       "  var inline_js = [\n",
       "    function(Bokeh) {\n",
       "      Bokeh.set_log_level(\"info\");\n",
       "    },\n",
       "    \n",
       "    function(Bokeh) {\n",
       "      \n",
       "    },\n",
       "    function(Bokeh) {} // ensure no trailing comma for IE\n",
       "  ];\n",
       "\n",
       "  function run_inline_js() {\n",
       "    \n",
       "    if ((root.Bokeh !== undefined) || (force === true)) {\n",
       "      for (var i = 0; i < inline_js.length; i++) {\n",
       "        inline_js[i].call(root, root.Bokeh);\n",
       "      }if (force === true) {\n",
       "        display_loaded();\n",
       "      }} else if (Date.now() < root._bokeh_timeout) {\n",
       "      setTimeout(run_inline_js, 100);\n",
       "    } else if (!root._bokeh_failed_load) {\n",
       "      console.log(\"Bokeh: BokehJS failed to load within specified timeout.\");\n",
       "      root._bokeh_failed_load = true;\n",
       "    } else if (force !== true) {\n",
       "      var cell = $(document.getElementById(\"1001\")).parents('.cell').data().cell;\n",
       "      cell.output_area.append_execute_result(NB_LOAD_WARNING)\n",
       "    }\n",
       "\n",
       "  }\n",
       "\n",
       "  if (root._bokeh_is_loading === 0) {\n",
       "    console.debug(\"Bokeh: BokehJS loaded, going straight to plotting\");\n",
       "    run_inline_js();\n",
       "  } else {\n",
       "    load_libs(css_urls, js_urls, function() {\n",
       "      console.debug(\"Bokeh: BokehJS plotting callback run at\", now());\n",
       "      run_inline_js();\n",
       "    });\n",
       "  }\n",
       "}(window));"
      ],
      "application/vnd.bokehjs_load.v0+json": "\n(function(root) {\n  function now() {\n    return new Date();\n  }\n\n  var force = true;\n\n  if (typeof root._bokeh_onload_callbacks === \"undefined\" || force === true) {\n    root._bokeh_onload_callbacks = [];\n    root._bokeh_is_loading = undefined;\n  }\n\n  \n\n  \n  if (typeof (root._bokeh_timeout) === \"undefined\" || force === true) {\n    root._bokeh_timeout = Date.now() + 5000;\n    root._bokeh_failed_load = false;\n  }\n\n  var NB_LOAD_WARNING = {'data': {'text/html':\n     \"<div style='background-color: #fdd'>\\n\"+\n     \"<p>\\n\"+\n     \"BokehJS does not appear to have successfully loaded. If loading BokehJS from CDN, this \\n\"+\n     \"may be due to a slow or bad network connection. Possible fixes:\\n\"+\n     \"</p>\\n\"+\n     \"<ul>\\n\"+\n     \"<li>re-rerun `output_notebook()` to attempt to load from CDN again, or</li>\\n\"+\n     \"<li>use INLINE resources instead, as so:</li>\\n\"+\n     \"</ul>\\n\"+\n     \"<code>\\n\"+\n     \"from bokeh.resources import INLINE\\n\"+\n     \"output_notebook(resources=INLINE)\\n\"+\n     \"</code>\\n\"+\n     \"</div>\"}};\n\n  function display_loaded() {\n    var el = document.getElementById(\"1001\");\n    if (el != null) {\n      el.textContent = \"BokehJS is loading...\";\n    }\n    if (root.Bokeh !== undefined) {\n      if (el != null) {\n        el.textContent = \"BokehJS \" + root.Bokeh.version + \" successfully loaded.\";\n      }\n    } else if (Date.now() < root._bokeh_timeout) {\n      setTimeout(display_loaded, 100)\n    }\n  }\n\n\n  function run_callbacks() {\n    try {\n      root._bokeh_onload_callbacks.forEach(function(callback) {\n        if (callback != null)\n          callback();\n      });\n    } finally {\n      delete root._bokeh_onload_callbacks\n    }\n    console.debug(\"Bokeh: all callbacks have finished\");\n  }\n\n  function load_libs(css_urls, js_urls, callback) {\n    if (css_urls == null) css_urls = [];\n    if (js_urls == null) js_urls = [];\n\n    root._bokeh_onload_callbacks.push(callback);\n    if (root._bokeh_is_loading > 0) {\n      console.debug(\"Bokeh: BokehJS is being loaded, scheduling callback at\", now());\n      return null;\n    }\n    if (js_urls == null || js_urls.length === 0) {\n      run_callbacks();\n      return null;\n    }\n    console.debug(\"Bokeh: BokehJS not loaded, scheduling load and callback at\", now());\n    root._bokeh_is_loading = css_urls.length + js_urls.length;\n\n    function on_load() {\n      root._bokeh_is_loading--;\n      if (root._bokeh_is_loading === 0) {\n        console.debug(\"Bokeh: all BokehJS libraries/stylesheets loaded\");\n        run_callbacks()\n      }\n    }\n\n    function on_error() {\n      console.error(\"failed to load \" + url);\n    }\n\n    for (var i = 0; i < css_urls.length; i++) {\n      var url = css_urls[i];\n      const element = document.createElement(\"link\");\n      element.onload = on_load;\n      element.onerror = on_error;\n      element.rel = \"stylesheet\";\n      element.type = \"text/css\";\n      element.href = url;\n      console.debug(\"Bokeh: injecting link tag for BokehJS stylesheet: \", url);\n      document.body.appendChild(element);\n    }\n\n    for (var i = 0; i < js_urls.length; i++) {\n      var url = js_urls[i];\n      var element = document.createElement('script');\n      element.onload = on_load;\n      element.onerror = on_error;\n      element.async = false;\n      element.src = url;\n      console.debug(\"Bokeh: injecting script tag for BokehJS library: \", url);\n      document.head.appendChild(element);\n    }\n  };var element = document.getElementById(\"1001\");\n  if (element == null) {\n    console.error(\"Bokeh: ERROR: autoload.js configured with elementid '1001' but no matching script tag was found. \")\n    return false;\n  }\n\n  function inject_raw_css(css) {\n    const element = document.createElement(\"style\");\n    element.appendChild(document.createTextNode(css));\n    document.body.appendChild(element);\n  }\n\n  var js_urls = [\"https://cdn.pydata.org/bokeh/release/bokeh-1.3.4.min.js\", \"https://cdn.pydata.org/bokeh/release/bokeh-widgets-1.3.4.min.js\", \"https://cdn.pydata.org/bokeh/release/bokeh-tables-1.3.4.min.js\", \"https://cdn.pydata.org/bokeh/release/bokeh-gl-1.3.4.min.js\"];\n  var css_urls = [];\n\n  var inline_js = [\n    function(Bokeh) {\n      Bokeh.set_log_level(\"info\");\n    },\n    \n    function(Bokeh) {\n      \n    },\n    function(Bokeh) {} // ensure no trailing comma for IE\n  ];\n\n  function run_inline_js() {\n    \n    if ((root.Bokeh !== undefined) || (force === true)) {\n      for (var i = 0; i < inline_js.length; i++) {\n        inline_js[i].call(root, root.Bokeh);\n      }if (force === true) {\n        display_loaded();\n      }} else if (Date.now() < root._bokeh_timeout) {\n      setTimeout(run_inline_js, 100);\n    } else if (!root._bokeh_failed_load) {\n      console.log(\"Bokeh: BokehJS failed to load within specified timeout.\");\n      root._bokeh_failed_load = true;\n    } else if (force !== true) {\n      var cell = $(document.getElementById(\"1001\")).parents('.cell').data().cell;\n      cell.output_area.append_execute_result(NB_LOAD_WARNING)\n    }\n\n  }\n\n  if (root._bokeh_is_loading === 0) {\n    console.debug(\"Bokeh: BokehJS loaded, going straight to plotting\");\n    run_inline_js();\n  } else {\n    load_libs(css_urls, js_urls, function() {\n      console.debug(\"Bokeh: BokehJS plotting callback run at\", now());\n      run_inline_js();\n    });\n  }\n}(window));"
     },
     "metadata": {},
     "output_type": "display_data"
    }
   ],
   "source": [
    "from bokeh.io import output_notebook, show\n",
    "from bokeh.plotting import figure\n",
    "output_notebook()"
   ]
  },
  {
   "cell_type": "markdown",
   "metadata": {},
   "source": [
    "Now that we know from the previous chapter how multiple plots can be placed together in a layout, we can start to look at how different plots can be linked togeher, or how plots can be linked to widgets. "
   ]
  },
  {
   "cell_type": "markdown",
   "metadata": {
    "collapsed": true
   },
   "source": [
    "# Linked Interactions\n",
    "\n",
    "It is possible to link various interactions between different Bokeh plots. For instance, the ranges of two (or more) plots can be linked, so that when one of the plots is panned (or zoomed, or otherwise has its range changed) the other plots will update in unison. It is also possible to link selections between two plots, so that when items are selected on one plot, the corresponding items on the second plot also become selected. "
   ]
  },
  {
   "cell_type": "markdown",
   "metadata": {},
   "source": [
    "## Linked panning\n",
    "\n",
    "Linked panning (when multiple plots have ranges that stay in sync) is simple to spell with Bokeh. You simply share the appropriate range objects between two (or more) plots. The example below shows how to accomplish this by linking the ranges of three plots in various ways:"
   ]
  },
  {
   "cell_type": "code",
   "execution_count": 2,
   "metadata": {},
   "outputs": [
    {
     "data": {
      "text/html": [
       "\n",
       "\n",
       "\n",
       "\n",
       "\n",
       "\n",
       "  <div class=\"bk-root\" id=\"a2d47214-7f76-4ab9-a16b-a6c7c8607c8b\" data-root-id=\"1116\"></div>\n"
      ]
     },
     "metadata": {},
     "output_type": "display_data"
    },
    {
     "data": {
      "application/javascript": [
       "(function(root) {\n",
       "  function embed_document(root) {\n",
       "    \n",
       "  var docs_json = {\"80d27970-326e-4e60-b49b-033e95cfb793\":{\"roots\":{\"references\":[{\"attributes\":{\"children\":[{\"id\":\"1115\",\"type\":\"ToolbarBox\"},{\"id\":\"1113\",\"type\":\"GridBox\"}]},\"id\":\"1116\",\"type\":\"Column\"},{\"attributes\":{\"children\":[[{\"id\":\"1002\",\"subtype\":\"Figure\",\"type\":\"Plot\"},0,0],[{\"id\":\"1031\",\"subtype\":\"Figure\",\"type\":\"Plot\"},0,1],[{\"id\":\"1058\",\"subtype\":\"Figure\",\"type\":\"Plot\"},0,2]]},\"id\":\"1113\",\"type\":\"GridBox\"},{\"attributes\":{},\"id\":\"1022\",\"type\":\"WheelZoomTool\"},{\"attributes\":{\"active_drag\":\"auto\",\"active_inspect\":\"auto\",\"active_multi\":null,\"active_scroll\":\"auto\",\"active_tap\":\"auto\",\"tools\":[{\"id\":\"1076\",\"type\":\"PanTool\"},{\"id\":\"1077\",\"type\":\"WheelZoomTool\"}]},\"id\":\"1078\",\"type\":\"Toolbar\"},{\"attributes\":{\"active_drag\":\"auto\",\"active_inspect\":\"auto\",\"active_multi\":null,\"active_scroll\":\"auto\",\"active_tap\":\"auto\",\"tools\":[{\"id\":\"1048\",\"type\":\"PanTool\"},{\"id\":\"1049\",\"type\":\"WheelZoomTool\"}]},\"id\":\"1050\",\"type\":\"Toolbar\"},{\"attributes\":{},\"id\":\"1076\",\"type\":\"PanTool\"},{\"attributes\":{\"active_drag\":\"auto\",\"active_inspect\":\"auto\",\"active_multi\":null,\"active_scroll\":\"auto\",\"active_tap\":\"auto\",\"tools\":[{\"id\":\"1021\",\"type\":\"PanTool\"},{\"id\":\"1022\",\"type\":\"WheelZoomTool\"}]},\"id\":\"1023\",\"type\":\"Toolbar\"},{\"attributes\":{},\"id\":\"1048\",\"type\":\"PanTool\"},{\"attributes\":{\"text\":\"\"},\"id\":\"1104\",\"type\":\"Title\"},{\"attributes\":{},\"id\":\"1021\",\"type\":\"PanTool\"},{\"attributes\":{\"fill_color\":{\"value\":\"navy\"},\"line_color\":{\"value\":\"navy\"},\"size\":{\"units\":\"screen\",\"value\":10},\"x\":{\"field\":\"x\"},\"y\":{\"field\":\"y\"}},\"id\":\"1027\",\"type\":\"Circle\"},{\"attributes\":{\"data_source\":{\"id\":\"1026\",\"type\":\"ColumnDataSource\"},\"glyph\":{\"id\":\"1027\",\"type\":\"Circle\"},\"hover_glyph\":null,\"muted_glyph\":null,\"nonselection_glyph\":{\"id\":\"1028\",\"type\":\"Circle\"},\"selection_glyph\":null,\"view\":{\"id\":\"1030\",\"type\":\"CDSView\"}},\"id\":\"1029\",\"type\":\"GlyphRenderer\"},{\"attributes\":{\"below\":[{\"id\":\"1038\",\"type\":\"LinearAxis\"}],\"center\":[{\"id\":\"1042\",\"type\":\"Grid\"},{\"id\":\"1047\",\"type\":\"Grid\"}],\"left\":[{\"id\":\"1043\",\"type\":\"LinearAxis\"}],\"plot_height\":250,\"plot_width\":250,\"renderers\":[{\"id\":\"1056\",\"type\":\"GlyphRenderer\"}],\"title\":{\"id\":\"1095\",\"type\":\"Title\"},\"toolbar\":{\"id\":\"1050\",\"type\":\"Toolbar\"},\"toolbar_location\":null,\"x_range\":{\"id\":\"1003\",\"type\":\"DataRange1d\"},\"x_scale\":{\"id\":\"1034\",\"type\":\"LinearScale\"},\"y_range\":{\"id\":\"1005\",\"type\":\"DataRange1d\"},\"y_scale\":{\"id\":\"1036\",\"type\":\"LinearScale\"}},\"id\":\"1031\",\"subtype\":\"Figure\",\"type\":\"Plot\"},{\"attributes\":{},\"id\":\"1077\",\"type\":\"WheelZoomTool\"},{\"attributes\":{},\"id\":\"1049\",\"type\":\"WheelZoomTool\"},{\"attributes\":{\"fill_alpha\":{\"value\":0.1},\"fill_color\":{\"value\":\"#1f77b4\"},\"line_alpha\":{\"value\":0.1},\"line_color\":{\"value\":\"#1f77b4\"},\"size\":{\"units\":\"screen\",\"value\":10},\"x\":{\"field\":\"x\"},\"y\":{\"field\":\"y\"}},\"id\":\"1028\",\"type\":\"Circle\"},{\"attributes\":{},\"id\":\"1090\",\"type\":\"BasicTickFormatter\"},{\"attributes\":{},\"id\":\"1106\",\"type\":\"BasicTickFormatter\"},{\"attributes\":{},\"id\":\"1108\",\"type\":\"BasicTickFormatter\"},{\"attributes\":{\"fill_color\":{\"value\":\"olive\"},\"line_color\":{\"value\":\"olive\"},\"size\":{\"units\":\"screen\",\"value\":10},\"x\":{\"field\":\"x\"},\"y\":{\"field\":\"y\"}},\"id\":\"1082\",\"type\":\"Square\"},{\"attributes\":{\"fill_color\":{\"value\":\"firebrick\"},\"line_color\":{\"value\":\"firebrick\"},\"size\":{\"units\":\"screen\",\"value\":10},\"x\":{\"field\":\"x\"},\"y\":{\"field\":\"y\"}},\"id\":\"1054\",\"type\":\"Triangle\"},{\"attributes\":{},\"id\":\"1110\",\"type\":\"UnionRenderers\"},{\"attributes\":{},\"id\":\"1111\",\"type\":\"Selection\"},{\"attributes\":{\"fill_alpha\":{\"value\":0.1},\"fill_color\":{\"value\":\"#1f77b4\"},\"line_alpha\":{\"value\":0.1},\"line_color\":{\"value\":\"#1f77b4\"},\"size\":{\"units\":\"screen\",\"value\":10},\"x\":{\"field\":\"x\"},\"y\":{\"field\":\"y\"}},\"id\":\"1083\",\"type\":\"Square\"},{\"attributes\":{\"fill_alpha\":{\"value\":0.1},\"fill_color\":{\"value\":\"#1f77b4\"},\"line_alpha\":{\"value\":0.1},\"line_color\":{\"value\":\"#1f77b4\"},\"size\":{\"units\":\"screen\",\"value\":10},\"x\":{\"field\":\"x\"},\"y\":{\"field\":\"y\"}},\"id\":\"1055\",\"type\":\"Triangle\"},{\"attributes\":{\"tools\":[{\"id\":\"1021\",\"type\":\"PanTool\"},{\"id\":\"1022\",\"type\":\"WheelZoomTool\"},{\"id\":\"1048\",\"type\":\"PanTool\"},{\"id\":\"1049\",\"type\":\"WheelZoomTool\"},{\"id\":\"1076\",\"type\":\"PanTool\"},{\"id\":\"1077\",\"type\":\"WheelZoomTool\"}]},\"id\":\"1114\",\"type\":\"ProxyToolbar\"},{\"attributes\":{\"data_source\":{\"id\":\"1081\",\"type\":\"ColumnDataSource\"},\"glyph\":{\"id\":\"1082\",\"type\":\"Square\"},\"hover_glyph\":null,\"muted_glyph\":null,\"nonselection_glyph\":{\"id\":\"1083\",\"type\":\"Square\"},\"selection_glyph\":null,\"view\":{\"id\":\"1085\",\"type\":\"CDSView\"}},\"id\":\"1084\",\"type\":\"GlyphRenderer\"},{\"attributes\":{\"callback\":null,\"data\":{\"x\":[0,1,2,3,4,5,6,7,8,9,10],\"y\":[0,1,2,3,4,5,6,7,8,9,10]},\"selected\":{\"id\":\"1093\",\"type\":\"Selection\"},\"selection_policy\":{\"id\":\"1092\",\"type\":\"UnionRenderers\"}},\"id\":\"1026\",\"type\":\"ColumnDataSource\"},{\"attributes\":{\"below\":[{\"id\":\"1011\",\"type\":\"LinearAxis\"}],\"center\":[{\"id\":\"1015\",\"type\":\"Grid\"},{\"id\":\"1020\",\"type\":\"Grid\"}],\"left\":[{\"id\":\"1016\",\"type\":\"LinearAxis\"}],\"plot_height\":250,\"plot_width\":250,\"renderers\":[{\"id\":\"1029\",\"type\":\"GlyphRenderer\"}],\"title\":{\"id\":\"1086\",\"type\":\"Title\"},\"toolbar\":{\"id\":\"1023\",\"type\":\"Toolbar\"},\"toolbar_location\":null,\"x_range\":{\"id\":\"1003\",\"type\":\"DataRange1d\"},\"x_scale\":{\"id\":\"1007\",\"type\":\"LinearScale\"},\"y_range\":{\"id\":\"1005\",\"type\":\"DataRange1d\"},\"y_scale\":{\"id\":\"1009\",\"type\":\"LinearScale\"}},\"id\":\"1002\",\"subtype\":\"Figure\",\"type\":\"Plot\"},{\"attributes\":{\"data_source\":{\"id\":\"1053\",\"type\":\"ColumnDataSource\"},\"glyph\":{\"id\":\"1054\",\"type\":\"Triangle\"},\"hover_glyph\":null,\"muted_glyph\":null,\"nonselection_glyph\":{\"id\":\"1055\",\"type\":\"Triangle\"},\"selection_glyph\":null,\"view\":{\"id\":\"1057\",\"type\":\"CDSView\"}},\"id\":\"1056\",\"type\":\"GlyphRenderer\"},{\"attributes\":{\"toolbar\":{\"id\":\"1114\",\"type\":\"ProxyToolbar\"},\"toolbar_location\":\"above\"},\"id\":\"1115\",\"type\":\"ToolbarBox\"},{\"attributes\":{\"callback\":null},\"id\":\"1005\",\"type\":\"DataRange1d\"},{\"attributes\":{\"source\":{\"id\":\"1053\",\"type\":\"ColumnDataSource\"}},\"id\":\"1057\",\"type\":\"CDSView\"},{\"attributes\":{\"callback\":null},\"id\":\"1003\",\"type\":\"DataRange1d\"},{\"attributes\":{\"text\":\"\"},\"id\":\"1086\",\"type\":\"Title\"},{\"attributes\":{\"source\":{\"id\":\"1026\",\"type\":\"ColumnDataSource\"}},\"id\":\"1030\",\"type\":\"CDSView\"},{\"attributes\":{\"callback\":null,\"data\":{\"x\":[0,1,2,3,4,5,6,7,8,9,10],\"y\":[5,4,3,2,1,0,1,2,3,4,5]},\"selected\":{\"id\":\"1111\",\"type\":\"Selection\"},\"selection_policy\":{\"id\":\"1110\",\"type\":\"UnionRenderers\"}},\"id\":\"1081\",\"type\":\"ColumnDataSource\"},{\"attributes\":{\"callback\":null,\"data\":{\"x\":[0,1,2,3,4,5,6,7,8,9,10],\"y\":[10,9,8,7,6,5,4,3,2,1,0]},\"selected\":{\"id\":\"1102\",\"type\":\"Selection\"},\"selection_policy\":{\"id\":\"1101\",\"type\":\"UnionRenderers\"}},\"id\":\"1053\",\"type\":\"ColumnDataSource\"},{\"attributes\":{\"callback\":null},\"id\":\"1060\",\"type\":\"DataRange1d\"},{\"attributes\":{\"below\":[{\"id\":\"1066\",\"type\":\"LinearAxis\"}],\"center\":[{\"id\":\"1070\",\"type\":\"Grid\"},{\"id\":\"1075\",\"type\":\"Grid\"}],\"left\":[{\"id\":\"1071\",\"type\":\"LinearAxis\"}],\"plot_height\":250,\"plot_width\":250,\"renderers\":[{\"id\":\"1084\",\"type\":\"GlyphRenderer\"}],\"title\":{\"id\":\"1104\",\"type\":\"Title\"},\"toolbar\":{\"id\":\"1078\",\"type\":\"Toolbar\"},\"toolbar_location\":null,\"x_range\":{\"id\":\"1003\",\"type\":\"DataRange1d\"},\"x_scale\":{\"id\":\"1062\",\"type\":\"LinearScale\"},\"y_range\":{\"id\":\"1060\",\"type\":\"DataRange1d\"},\"y_scale\":{\"id\":\"1064\",\"type\":\"LinearScale\"}},\"id\":\"1058\",\"subtype\":\"Figure\",\"type\":\"Plot\"},{\"attributes\":{},\"id\":\"1088\",\"type\":\"BasicTickFormatter\"},{\"attributes\":{},\"id\":\"1007\",\"type\":\"LinearScale\"},{\"attributes\":{},\"id\":\"1034\",\"type\":\"LinearScale\"},{\"attributes\":{},\"id\":\"1062\",\"type\":\"LinearScale\"},{\"attributes\":{},\"id\":\"1009\",\"type\":\"LinearScale\"},{\"attributes\":{},\"id\":\"1036\",\"type\":\"LinearScale\"},{\"attributes\":{},\"id\":\"1064\",\"type\":\"LinearScale\"},{\"attributes\":{},\"id\":\"1092\",\"type\":\"UnionRenderers\"},{\"attributes\":{\"formatter\":{\"id\":\"1097\",\"type\":\"BasicTickFormatter\"},\"ticker\":{\"id\":\"1039\",\"type\":\"BasicTicker\"}},\"id\":\"1038\",\"type\":\"LinearAxis\"},{\"attributes\":{\"formatter\":{\"id\":\"1106\",\"type\":\"BasicTickFormatter\"},\"ticker\":{\"id\":\"1067\",\"type\":\"BasicTicker\"}},\"id\":\"1066\",\"type\":\"LinearAxis\"},{\"attributes\":{},\"id\":\"1093\",\"type\":\"Selection\"},{\"attributes\":{\"formatter\":{\"id\":\"1088\",\"type\":\"BasicTickFormatter\"},\"ticker\":{\"id\":\"1012\",\"type\":\"BasicTicker\"}},\"id\":\"1011\",\"type\":\"LinearAxis\"},{\"attributes\":{},\"id\":\"1039\",\"type\":\"BasicTicker\"},{\"attributes\":{},\"id\":\"1067\",\"type\":\"BasicTicker\"},{\"attributes\":{\"text\":\"\"},\"id\":\"1095\",\"type\":\"Title\"},{\"attributes\":{},\"id\":\"1012\",\"type\":\"BasicTicker\"},{\"attributes\":{\"ticker\":{\"id\":\"1039\",\"type\":\"BasicTicker\"}},\"id\":\"1042\",\"type\":\"Grid\"},{\"attributes\":{\"ticker\":{\"id\":\"1067\",\"type\":\"BasicTicker\"}},\"id\":\"1070\",\"type\":\"Grid\"},{\"attributes\":{},\"id\":\"1097\",\"type\":\"BasicTickFormatter\"},{\"attributes\":{\"ticker\":{\"id\":\"1012\",\"type\":\"BasicTicker\"}},\"id\":\"1015\",\"type\":\"Grid\"},{\"attributes\":{\"formatter\":{\"id\":\"1099\",\"type\":\"BasicTickFormatter\"},\"ticker\":{\"id\":\"1044\",\"type\":\"BasicTicker\"}},\"id\":\"1043\",\"type\":\"LinearAxis\"},{\"attributes\":{\"source\":{\"id\":\"1081\",\"type\":\"ColumnDataSource\"}},\"id\":\"1085\",\"type\":\"CDSView\"},{\"attributes\":{\"formatter\":{\"id\":\"1108\",\"type\":\"BasicTickFormatter\"},\"ticker\":{\"id\":\"1072\",\"type\":\"BasicTicker\"}},\"id\":\"1071\",\"type\":\"LinearAxis\"},{\"attributes\":{},\"id\":\"1099\",\"type\":\"BasicTickFormatter\"},{\"attributes\":{\"formatter\":{\"id\":\"1090\",\"type\":\"BasicTickFormatter\"},\"ticker\":{\"id\":\"1017\",\"type\":\"BasicTicker\"}},\"id\":\"1016\",\"type\":\"LinearAxis\"},{\"attributes\":{},\"id\":\"1044\",\"type\":\"BasicTicker\"},{\"attributes\":{},\"id\":\"1072\",\"type\":\"BasicTicker\"},{\"attributes\":{},\"id\":\"1101\",\"type\":\"UnionRenderers\"},{\"attributes\":{},\"id\":\"1017\",\"type\":\"BasicTicker\"},{\"attributes\":{\"dimension\":1,\"ticker\":{\"id\":\"1044\",\"type\":\"BasicTicker\"}},\"id\":\"1047\",\"type\":\"Grid\"},{\"attributes\":{\"dimension\":1,\"ticker\":{\"id\":\"1072\",\"type\":\"BasicTicker\"}},\"id\":\"1075\",\"type\":\"Grid\"},{\"attributes\":{},\"id\":\"1102\",\"type\":\"Selection\"},{\"attributes\":{\"dimension\":1,\"ticker\":{\"id\":\"1017\",\"type\":\"BasicTicker\"}},\"id\":\"1020\",\"type\":\"Grid\"}],\"root_ids\":[\"1116\"]},\"title\":\"Bokeh Application\",\"version\":\"1.3.4\"}};\n",
       "  var render_items = [{\"docid\":\"80d27970-326e-4e60-b49b-033e95cfb793\",\"roots\":{\"1116\":\"a2d47214-7f76-4ab9-a16b-a6c7c8607c8b\"}}];\n",
       "  root.Bokeh.embed.embed_items_notebook(docs_json, render_items);\n",
       "\n",
       "  }\n",
       "  if (root.Bokeh !== undefined) {\n",
       "    embed_document(root);\n",
       "  } else {\n",
       "    var attempts = 0;\n",
       "    var timer = setInterval(function(root) {\n",
       "      if (root.Bokeh !== undefined) {\n",
       "        embed_document(root);\n",
       "        clearInterval(timer);\n",
       "      }\n",
       "      attempts++;\n",
       "      if (attempts > 100) {\n",
       "        console.log(\"Bokeh: ERROR: Unable to run BokehJS code because BokehJS library is missing\");\n",
       "        clearInterval(timer);\n",
       "      }\n",
       "    }, 10, root)\n",
       "  }\n",
       "})(window);"
      ],
      "application/vnd.bokehjs_exec.v0+json": ""
     },
     "metadata": {
      "application/vnd.bokehjs_exec.v0+json": {
       "id": "1116"
      }
     },
     "output_type": "display_data"
    }
   ],
   "source": [
    "from bokeh.layouts import gridplot\n",
    "\n",
    "x = list(range(11))\n",
    "y0, y1, y2 = x, [10-i for i in x], [abs(i-5) for i in x]\n",
    "\n",
    "plot_options = dict(width=250, plot_height=250, tools='pan,wheel_zoom')\n",
    "\n",
    "# create a new plot\n",
    "s1 = figure(**plot_options)\n",
    "s1.circle(x, y0, size=10, color=\"navy\")\n",
    "\n",
    "# create a new plot and share both ranges\n",
    "s2 = figure(x_range=s1.x_range, y_range=s1.y_range, **plot_options)\n",
    "s2.triangle(x, y1, size=10, color=\"firebrick\")\n",
    "\n",
    "# create a new plot and share only one range\n",
    "s3 = figure(x_range=s1.x_range, **plot_options)\n",
    "s3.square(x, y2, size=10, color=\"olive\")\n",
    "\n",
    "p = gridplot([[s1, s2, s3]])\n",
    "\n",
    "# show the results\n",
    "show(p)"
   ]
  },
  {
   "cell_type": "code",
   "execution_count": 3,
   "metadata": {},
   "outputs": [],
   "source": [
    "# EXERCISE: create two plots in a gridplot, and link their ranges\n"
   ]
  },
  {
   "cell_type": "markdown",
   "metadata": {},
   "source": [
    "## Linked brushing\n",
    "\n",
    "Linking selections is accomplished in a similar way, by sharing data sources between plots. Note that normally with ``bokeh.plotting`` and ``bokeh.charts`` creating a default data source for simple plots is handled automatically. However to share a data source, we must create them by hand and pass them explicitly. This is illustrated in the example below:"
   ]
  },
  {
   "cell_type": "code",
   "execution_count": 4,
   "metadata": {},
   "outputs": [
    {
     "data": {
      "text/html": [
       "\n",
       "\n",
       "\n",
       "\n",
       "\n",
       "\n",
       "  <div class=\"bk-root\" id=\"b5be3d98-df27-4dbd-8621-e7666680a5ff\" data-root-id=\"1373\"></div>\n"
      ]
     },
     "metadata": {},
     "output_type": "display_data"
    },
    {
     "data": {
      "application/javascript": [
       "(function(root) {\n",
       "  function embed_document(root) {\n",
       "    \n",
       "  var docs_json = {\"67ca303b-3985-4c9c-8e31-81609cbf5858\":{\"roots\":{\"references\":[{\"attributes\":{\"children\":[{\"id\":\"1372\",\"type\":\"ToolbarBox\"},{\"id\":\"1370\",\"type\":\"GridBox\"}]},\"id\":\"1373\",\"type\":\"Column\"},{\"attributes\":{},\"id\":\"1296\",\"type\":\"BasicTicker\"},{\"attributes\":{\"ticker\":{\"id\":\"1327\",\"type\":\"BasicTicker\"}},\"id\":\"1330\",\"type\":\"Grid\"},{\"attributes\":{\"text\":\"\"},\"id\":\"1359\",\"type\":\"Title\"},{\"attributes\":{\"data_source\":{\"id\":\"1285\",\"type\":\"ColumnDataSource\"},\"glyph\":{\"id\":\"1313\",\"type\":\"Circle\"},\"hover_glyph\":null,\"muted_glyph\":null,\"nonselection_glyph\":{\"id\":\"1314\",\"type\":\"Circle\"},\"selection_glyph\":null,\"view\":{\"id\":\"1316\",\"type\":\"CDSView\"}},\"id\":\"1315\",\"type\":\"GlyphRenderer\"},{\"attributes\":{\"dimension\":1,\"ticker\":{\"id\":\"1332\",\"type\":\"BasicTicker\"}},\"id\":\"1335\",\"type\":\"Grid\"},{\"attributes\":{\"formatter\":{\"id\":\"1363\",\"type\":\"BasicTickFormatter\"},\"ticker\":{\"id\":\"1332\",\"type\":\"BasicTicker\"}},\"id\":\"1331\",\"type\":\"LinearAxis\"},{\"attributes\":{\"callback\":null,\"data\":{\"x\":[-20,-19,-18,-17,-16,-15,-14,-13,-12,-11,-10,-9,-8,-7,-6,-5,-4,-3,-2,-1,0,1,2,3,4,5,6,7,8,9,10,11,12,13,14,15,16,17,18,19,20],\"y0\":[20,19,18,17,16,15,14,13,12,11,10,9,8,7,6,5,4,3,2,1,0,1,2,3,4,5,6,7,8,9,10,11,12,13,14,15,16,17,18,19,20],\"y1\":[400,361,324,289,256,225,196,169,144,121,100,81,64,49,36,25,16,9,4,1,0,1,4,9,16,25,36,49,64,81,100,121,144,169,196,225,256,289,324,361,400]},\"selected\":{\"id\":\"1357\",\"type\":\"Selection\"},\"selection_policy\":{\"id\":\"1356\",\"type\":\"UnionRenderers\"}},\"id\":\"1285\",\"type\":\"ColumnDataSource\"},{\"attributes\":{},\"id\":\"1361\",\"type\":\"BasicTickFormatter\"},{\"attributes\":{},\"id\":\"1332\",\"type\":\"BasicTicker\"},{\"attributes\":{},\"id\":\"1324\",\"type\":\"LinearScale\"},{\"attributes\":{},\"id\":\"1363\",\"type\":\"BasicTickFormatter\"},{\"attributes\":{},\"id\":\"1291\",\"type\":\"LinearScale\"},{\"attributes\":{\"callback\":null},\"id\":\"1287\",\"type\":\"DataRange1d\"},{\"attributes\":{\"fill_alpha\":{\"value\":0.1},\"fill_color\":{\"value\":\"#1f77b4\"},\"line_alpha\":{\"value\":0.1},\"line_color\":{\"value\":\"#1f77b4\"},\"x\":{\"field\":\"x\"},\"y\":{\"field\":\"y1\"}},\"id\":\"1345\",\"type\":\"Circle\"},{\"attributes\":{\"bottom_units\":\"screen\",\"fill_alpha\":{\"value\":0.5},\"fill_color\":{\"value\":\"lightgrey\"},\"left_units\":\"screen\",\"level\":\"overlay\",\"line_alpha\":{\"value\":1.0},\"line_color\":{\"value\":\"black\"},\"line_dash\":[4,4],\"line_width\":{\"value\":2},\"render_mode\":\"css\",\"right_units\":\"screen\",\"top_units\":\"screen\"},\"id\":\"1365\",\"type\":\"BoxAnnotation\"},{\"attributes\":{\"active_drag\":\"auto\",\"active_inspect\":\"auto\",\"active_multi\":null,\"active_scroll\":\"auto\",\"active_tap\":\"auto\",\"tools\":[{\"id\":\"1336\",\"type\":\"BoxSelectTool\"},{\"id\":\"1337\",\"type\":\"LassoSelectTool\"},{\"id\":\"1338\",\"type\":\"HelpTool\"}]},\"id\":\"1339\",\"type\":\"Toolbar\"},{\"attributes\":{\"fill_color\":{\"value\":\"#1f77b4\"},\"line_color\":{\"value\":\"#1f77b4\"},\"x\":{\"field\":\"x\"},\"y\":{\"field\":\"y0\"}},\"id\":\"1313\",\"type\":\"Circle\"},{\"attributes\":{\"callback\":null,\"overlay\":{\"id\":\"1365\",\"type\":\"BoxAnnotation\"}},\"id\":\"1336\",\"type\":\"BoxSelectTool\"},{\"attributes\":{\"active_drag\":\"auto\",\"active_inspect\":\"auto\",\"active_multi\":null,\"active_scroll\":\"auto\",\"active_tap\":\"auto\",\"tools\":[{\"id\":\"1305\",\"type\":\"BoxSelectTool\"},{\"id\":\"1306\",\"type\":\"LassoSelectTool\"},{\"id\":\"1307\",\"type\":\"HelpTool\"}]},\"id\":\"1308\",\"type\":\"Toolbar\"},{\"attributes\":{\"fill_alpha\":{\"value\":0.5},\"fill_color\":{\"value\":\"lightgrey\"},\"level\":\"overlay\",\"line_alpha\":{\"value\":1.0},\"line_color\":{\"value\":\"black\"},\"line_dash\":[4,4],\"line_width\":{\"value\":2},\"xs_units\":\"screen\",\"ys_units\":\"screen\"},\"id\":\"1366\",\"type\":\"PolyAnnotation\"},{\"attributes\":{\"below\":[{\"id\":\"1295\",\"type\":\"LinearAxis\"}],\"center\":[{\"id\":\"1299\",\"type\":\"Grid\"},{\"id\":\"1304\",\"type\":\"Grid\"}],\"left\":[{\"id\":\"1300\",\"type\":\"LinearAxis\"}],\"plot_height\":300,\"plot_width\":300,\"renderers\":[{\"id\":\"1315\",\"type\":\"GlyphRenderer\"}],\"title\":{\"id\":\"1348\",\"type\":\"Title\"},\"toolbar\":{\"id\":\"1308\",\"type\":\"Toolbar\"},\"toolbar_location\":null,\"x_range\":{\"id\":\"1287\",\"type\":\"DataRange1d\"},\"x_scale\":{\"id\":\"1291\",\"type\":\"LinearScale\"},\"y_range\":{\"id\":\"1289\",\"type\":\"DataRange1d\"},\"y_scale\":{\"id\":\"1293\",\"type\":\"LinearScale\"}},\"id\":\"1286\",\"subtype\":\"Figure\",\"type\":\"Plot\"},{\"attributes\":{\"callback\":null,\"overlay\":{\"id\":\"1366\",\"type\":\"PolyAnnotation\"}},\"id\":\"1337\",\"type\":\"LassoSelectTool\"},{\"attributes\":{\"tools\":[{\"id\":\"1305\",\"type\":\"BoxSelectTool\"},{\"id\":\"1306\",\"type\":\"LassoSelectTool\"},{\"id\":\"1307\",\"type\":\"HelpTool\"},{\"id\":\"1336\",\"type\":\"BoxSelectTool\"},{\"id\":\"1337\",\"type\":\"LassoSelectTool\"},{\"id\":\"1338\",\"type\":\"HelpTool\"}]},\"id\":\"1371\",\"type\":\"ProxyToolbar\"},{\"attributes\":{\"dimension\":1,\"ticker\":{\"id\":\"1301\",\"type\":\"BasicTicker\"}},\"id\":\"1304\",\"type\":\"Grid\"},{\"attributes\":{},\"id\":\"1338\",\"type\":\"HelpTool\"},{\"attributes\":{\"toolbar\":{\"id\":\"1371\",\"type\":\"ProxyToolbar\"},\"toolbar_location\":\"above\"},\"id\":\"1372\",\"type\":\"ToolbarBox\"},{\"attributes\":{\"below\":[{\"id\":\"1326\",\"type\":\"LinearAxis\"}],\"center\":[{\"id\":\"1330\",\"type\":\"Grid\"},{\"id\":\"1335\",\"type\":\"Grid\"}],\"left\":[{\"id\":\"1331\",\"type\":\"LinearAxis\"}],\"plot_height\":300,\"plot_width\":300,\"renderers\":[{\"id\":\"1346\",\"type\":\"GlyphRenderer\"}],\"title\":{\"id\":\"1359\",\"type\":\"Title\"},\"toolbar\":{\"id\":\"1339\",\"type\":\"Toolbar\"},\"toolbar_location\":null,\"x_range\":{\"id\":\"1318\",\"type\":\"DataRange1d\"},\"x_scale\":{\"id\":\"1322\",\"type\":\"LinearScale\"},\"y_range\":{\"id\":\"1320\",\"type\":\"DataRange1d\"},\"y_scale\":{\"id\":\"1324\",\"type\":\"LinearScale\"}},\"id\":\"1317\",\"subtype\":\"Figure\",\"type\":\"Plot\"},{\"attributes\":{\"callback\":null,\"overlay\":{\"id\":\"1354\",\"type\":\"BoxAnnotation\"}},\"id\":\"1305\",\"type\":\"BoxSelectTool\"},{\"attributes\":{},\"id\":\"1327\",\"type\":\"BasicTicker\"},{\"attributes\":{\"callback\":null,\"overlay\":{\"id\":\"1355\",\"type\":\"PolyAnnotation\"}},\"id\":\"1306\",\"type\":\"LassoSelectTool\"},{\"attributes\":{},\"id\":\"1307\",\"type\":\"HelpTool\"},{\"attributes\":{\"formatter\":{\"id\":\"1350\",\"type\":\"BasicTickFormatter\"},\"ticker\":{\"id\":\"1296\",\"type\":\"BasicTicker\"}},\"id\":\"1295\",\"type\":\"LinearAxis\"},{\"attributes\":{\"data_source\":{\"id\":\"1285\",\"type\":\"ColumnDataSource\"},\"glyph\":{\"id\":\"1344\",\"type\":\"Circle\"},\"hover_glyph\":null,\"muted_glyph\":null,\"nonselection_glyph\":{\"id\":\"1345\",\"type\":\"Circle\"},\"selection_glyph\":null,\"view\":{\"id\":\"1347\",\"type\":\"CDSView\"}},\"id\":\"1346\",\"type\":\"GlyphRenderer\"},{\"attributes\":{\"formatter\":{\"id\":\"1361\",\"type\":\"BasicTickFormatter\"},\"ticker\":{\"id\":\"1327\",\"type\":\"BasicTicker\"}},\"id\":\"1326\",\"type\":\"LinearAxis\"},{\"attributes\":{\"source\":{\"id\":\"1285\",\"type\":\"ColumnDataSource\"}},\"id\":\"1347\",\"type\":\"CDSView\"},{\"attributes\":{\"formatter\":{\"id\":\"1352\",\"type\":\"BasicTickFormatter\"},\"ticker\":{\"id\":\"1301\",\"type\":\"BasicTicker\"}},\"id\":\"1300\",\"type\":\"LinearAxis\"},{\"attributes\":{\"text\":\"\"},\"id\":\"1348\",\"type\":\"Title\"},{\"attributes\":{\"fill_alpha\":{\"value\":0.1},\"fill_color\":{\"value\":\"#1f77b4\"},\"line_alpha\":{\"value\":0.1},\"line_color\":{\"value\":\"#1f77b4\"},\"x\":{\"field\":\"x\"},\"y\":{\"field\":\"y0\"}},\"id\":\"1314\",\"type\":\"Circle\"},{\"attributes\":{\"callback\":null},\"id\":\"1289\",\"type\":\"DataRange1d\"},{\"attributes\":{},\"id\":\"1350\",\"type\":\"BasicTickFormatter\"},{\"attributes\":{\"callback\":null},\"id\":\"1320\",\"type\":\"DataRange1d\"},{\"attributes\":{\"ticker\":{\"id\":\"1296\",\"type\":\"BasicTicker\"}},\"id\":\"1299\",\"type\":\"Grid\"},{\"attributes\":{\"source\":{\"id\":\"1285\",\"type\":\"ColumnDataSource\"}},\"id\":\"1316\",\"type\":\"CDSView\"},{\"attributes\":{},\"id\":\"1352\",\"type\":\"BasicTickFormatter\"},{\"attributes\":{\"bottom_units\":\"screen\",\"fill_alpha\":{\"value\":0.5},\"fill_color\":{\"value\":\"lightgrey\"},\"left_units\":\"screen\",\"level\":\"overlay\",\"line_alpha\":{\"value\":1.0},\"line_color\":{\"value\":\"black\"},\"line_dash\":[4,4],\"line_width\":{\"value\":2},\"render_mode\":\"css\",\"right_units\":\"screen\",\"top_units\":\"screen\"},\"id\":\"1354\",\"type\":\"BoxAnnotation\"},{\"attributes\":{\"children\":[[{\"id\":\"1286\",\"subtype\":\"Figure\",\"type\":\"Plot\"},0,0],[{\"id\":\"1317\",\"subtype\":\"Figure\",\"type\":\"Plot\"},0,1]]},\"id\":\"1370\",\"type\":\"GridBox\"},{\"attributes\":{\"fill_color\":{\"value\":\"#1f77b4\"},\"line_color\":{\"value\":\"#1f77b4\"},\"x\":{\"field\":\"x\"},\"y\":{\"field\":\"y1\"}},\"id\":\"1344\",\"type\":\"Circle\"},{\"attributes\":{\"fill_alpha\":{\"value\":0.5},\"fill_color\":{\"value\":\"lightgrey\"},\"level\":\"overlay\",\"line_alpha\":{\"value\":1.0},\"line_color\":{\"value\":\"black\"},\"line_dash\":[4,4],\"line_width\":{\"value\":2},\"xs_units\":\"screen\",\"ys_units\":\"screen\"},\"id\":\"1355\",\"type\":\"PolyAnnotation\"},{\"attributes\":{\"callback\":null},\"id\":\"1318\",\"type\":\"DataRange1d\"},{\"attributes\":{},\"id\":\"1293\",\"type\":\"LinearScale\"},{\"attributes\":{},\"id\":\"1356\",\"type\":\"UnionRenderers\"},{\"attributes\":{},\"id\":\"1301\",\"type\":\"BasicTicker\"},{\"attributes\":{},\"id\":\"1322\",\"type\":\"LinearScale\"},{\"attributes\":{},\"id\":\"1357\",\"type\":\"Selection\"}],\"root_ids\":[\"1373\"]},\"title\":\"Bokeh Application\",\"version\":\"1.3.4\"}};\n",
       "  var render_items = [{\"docid\":\"67ca303b-3985-4c9c-8e31-81609cbf5858\",\"roots\":{\"1373\":\"b5be3d98-df27-4dbd-8621-e7666680a5ff\"}}];\n",
       "  root.Bokeh.embed.embed_items_notebook(docs_json, render_items);\n",
       "\n",
       "  }\n",
       "  if (root.Bokeh !== undefined) {\n",
       "    embed_document(root);\n",
       "  } else {\n",
       "    var attempts = 0;\n",
       "    var timer = setInterval(function(root) {\n",
       "      if (root.Bokeh !== undefined) {\n",
       "        embed_document(root);\n",
       "        clearInterval(timer);\n",
       "      }\n",
       "      attempts++;\n",
       "      if (attempts > 100) {\n",
       "        console.log(\"Bokeh: ERROR: Unable to run BokehJS code because BokehJS library is missing\");\n",
       "        clearInterval(timer);\n",
       "      }\n",
       "    }, 10, root)\n",
       "  }\n",
       "})(window);"
      ],
      "application/vnd.bokehjs_exec.v0+json": ""
     },
     "metadata": {
      "application/vnd.bokehjs_exec.v0+json": {
       "id": "1373"
      }
     },
     "output_type": "display_data"
    }
   ],
   "source": [
    "from bokeh.models import ColumnDataSource\n",
    "\n",
    "x = list(range(-20, 21))\n",
    "y0, y1 = [abs(xx) for xx in x], [xx**2 for xx in x]\n",
    "\n",
    "# create a column data source for the plots to share\n",
    "source = ColumnDataSource(data=dict(x=x, y0=y0, y1=y1))\n",
    "\n",
    "TOOLS = \"box_select,lasso_select,help\"\n",
    "\n",
    "# create a new plot and add a renderer\n",
    "left = figure(tools=TOOLS, width=300, height=300)\n",
    "left.circle('x', 'y0', source=source)\n",
    "\n",
    "# create another new plot and add a renderer\n",
    "right = figure(tools=TOOLS, width=300, height=300)\n",
    "right.circle('x', 'y1', source=source)\n",
    "\n",
    "p = gridplot([[left, right]])\n",
    "\n",
    "show(p)"
   ]
  },
  {
   "cell_type": "code",
   "execution_count": 5,
   "metadata": {},
   "outputs": [],
   "source": [
    "# EXERCISE: create two plots in a gridplot, and link their data sources\n",
    "\n"
   ]
  },
  {
   "cell_type": "markdown",
   "metadata": {},
   "source": [
    "# Hover Tools\n",
    "\n",
    "Bokeh has a Hover Tool that allows additional information to be displayed in a popup whenever the user hovers over a specific glyph. Basic hover tool configuration amounts to providing a list of ``(name, format)`` tuples. The full details can be found in the User's Guide [here](http://bokeh.pydata.org/en/latest/docs/user_guide/tools.html#hovertool).\n",
    "\n",
    "The example below shows some basic usage of the Hover tool with a circle glyph, using hover information defined in utils.py:"
   ]
  },
  {
   "cell_type": "code",
   "execution_count": 6,
   "metadata": {},
   "outputs": [
    {
     "data": {
      "text/html": [
       "\n",
       "\n",
       "\n",
       "\n",
       "\n",
       "\n",
       "  <div class=\"bk-root\" id=\"97855f52-d6f4-409c-8069-192b139c6e5a\" data-root-id=\"1528\"></div>\n"
      ]
     },
     "metadata": {},
     "output_type": "display_data"
    },
    {
     "data": {
      "application/javascript": [
       "(function(root) {\n",
       "  function embed_document(root) {\n",
       "    \n",
       "  var docs_json = {\"4cbd6e19-2867-40d8-889e-20e184d7e5c6\":{\"roots\":{\"references\":[{\"attributes\":{\"below\":[{\"id\":\"1539\",\"type\":\"LinearAxis\"}],\"center\":[{\"id\":\"1543\",\"type\":\"Grid\"},{\"id\":\"1548\",\"type\":\"Grid\"}],\"left\":[{\"id\":\"1544\",\"type\":\"LinearAxis\"}],\"plot_height\":300,\"plot_width\":300,\"renderers\":[{\"id\":\"1554\",\"type\":\"GlyphRenderer\"}],\"title\":{\"id\":\"1529\",\"type\":\"Title\"},\"toolbar\":{\"id\":\"1549\",\"type\":\"Toolbar\"},\"x_range\":{\"id\":\"1531\",\"type\":\"DataRange1d\"},\"x_scale\":{\"id\":\"1535\",\"type\":\"LinearScale\"},\"y_range\":{\"id\":\"1533\",\"type\":\"DataRange1d\"},\"y_scale\":{\"id\":\"1537\",\"type\":\"LinearScale\"}},\"id\":\"1528\",\"subtype\":\"Figure\",\"type\":\"Plot\"},{\"attributes\":{\"fill_alpha\":{\"value\":0.1},\"fill_color\":{\"value\":\"#1f77b4\"},\"line_alpha\":{\"value\":0.1},\"line_color\":{\"value\":\"#1f77b4\"},\"size\":{\"units\":\"screen\",\"value\":20},\"x\":{\"field\":\"x\"},\"y\":{\"field\":\"y\"}},\"id\":\"1553\",\"type\":\"Circle\"},{\"attributes\":{\"data_source\":{\"id\":\"1526\",\"type\":\"ColumnDataSource\"},\"glyph\":{\"id\":\"1552\",\"type\":\"Circle\"},\"hover_glyph\":null,\"muted_glyph\":null,\"nonselection_glyph\":{\"id\":\"1553\",\"type\":\"Circle\"},\"selection_glyph\":null,\"view\":{\"id\":\"1555\",\"type\":\"CDSView\"}},\"id\":\"1554\",\"type\":\"GlyphRenderer\"},{\"attributes\":{\"source\":{\"id\":\"1526\",\"type\":\"ColumnDataSource\"}},\"id\":\"1555\",\"type\":\"CDSView\"},{\"attributes\":{\"callback\":null},\"id\":\"1531\",\"type\":\"DataRange1d\"},{\"attributes\":{},\"id\":\"1601\",\"type\":\"BasicTickFormatter\"},{\"attributes\":{\"callback\":null},\"id\":\"1533\",\"type\":\"DataRange1d\"},{\"attributes\":{},\"id\":\"1603\",\"type\":\"UnionRenderers\"},{\"attributes\":{},\"id\":\"1604\",\"type\":\"Selection\"},{\"attributes\":{\"callback\":null,\"data\":{\"desc\":[\"A\",\"b\",\"C\",\"d\",\"E\"],\"x\":[1,2,3,4,5],\"y\":[2,5,8,2,7]},\"selected\":{\"id\":\"1604\",\"type\":\"Selection\"},\"selection_policy\":{\"id\":\"1603\",\"type\":\"UnionRenderers\"}},\"id\":\"1526\",\"type\":\"ColumnDataSource\"},{\"attributes\":{\"fill_color\":{\"value\":\"#1f77b4\"},\"line_color\":{\"value\":\"#1f77b4\"},\"size\":{\"units\":\"screen\",\"value\":20},\"x\":{\"field\":\"x\"},\"y\":{\"field\":\"y\"}},\"id\":\"1552\",\"type\":\"Circle\"},{\"attributes\":{},\"id\":\"1537\",\"type\":\"LinearScale\"},{\"attributes\":{},\"id\":\"1599\",\"type\":\"BasicTickFormatter\"},{\"attributes\":{\"dimension\":1,\"ticker\":{\"id\":\"1545\",\"type\":\"BasicTicker\"}},\"id\":\"1548\",\"type\":\"Grid\"},{\"attributes\":{\"callback\":null,\"tooltips\":[[\"index\",\"$index\"],[\"(x,y)\",\"($x, $y)\"],[\"desc\",\"@desc\"]]},\"id\":\"1527\",\"type\":\"HoverTool\"},{\"attributes\":{\"text\":\"Mouse over the dots\"},\"id\":\"1529\",\"type\":\"Title\"},{\"attributes\":{\"formatter\":{\"id\":\"1599\",\"type\":\"BasicTickFormatter\"},\"ticker\":{\"id\":\"1540\",\"type\":\"BasicTicker\"}},\"id\":\"1539\",\"type\":\"LinearAxis\"},{\"attributes\":{},\"id\":\"1540\",\"type\":\"BasicTicker\"},{\"attributes\":{\"ticker\":{\"id\":\"1540\",\"type\":\"BasicTicker\"}},\"id\":\"1543\",\"type\":\"Grid\"},{\"attributes\":{},\"id\":\"1535\",\"type\":\"LinearScale\"},{\"attributes\":{},\"id\":\"1545\",\"type\":\"BasicTicker\"},{\"attributes\":{\"formatter\":{\"id\":\"1601\",\"type\":\"BasicTickFormatter\"},\"ticker\":{\"id\":\"1545\",\"type\":\"BasicTicker\"}},\"id\":\"1544\",\"type\":\"LinearAxis\"},{\"attributes\":{\"active_drag\":\"auto\",\"active_inspect\":\"auto\",\"active_multi\":null,\"active_scroll\":\"auto\",\"active_tap\":\"auto\",\"tools\":[{\"id\":\"1527\",\"type\":\"HoverTool\"}]},\"id\":\"1549\",\"type\":\"Toolbar\"}],\"root_ids\":[\"1528\"]},\"title\":\"Bokeh Application\",\"version\":\"1.3.4\"}};\n",
       "  var render_items = [{\"docid\":\"4cbd6e19-2867-40d8-889e-20e184d7e5c6\",\"roots\":{\"1528\":\"97855f52-d6f4-409c-8069-192b139c6e5a\"}}];\n",
       "  root.Bokeh.embed.embed_items_notebook(docs_json, render_items);\n",
       "\n",
       "  }\n",
       "  if (root.Bokeh !== undefined) {\n",
       "    embed_document(root);\n",
       "  } else {\n",
       "    var attempts = 0;\n",
       "    var timer = setInterval(function(root) {\n",
       "      if (root.Bokeh !== undefined) {\n",
       "        embed_document(root);\n",
       "        clearInterval(timer);\n",
       "      }\n",
       "      attempts++;\n",
       "      if (attempts > 100) {\n",
       "        console.log(\"Bokeh: ERROR: Unable to run BokehJS code because BokehJS library is missing\");\n",
       "        clearInterval(timer);\n",
       "      }\n",
       "    }, 10, root)\n",
       "  }\n",
       "})(window);"
      ],
      "application/vnd.bokehjs_exec.v0+json": ""
     },
     "metadata": {
      "application/vnd.bokehjs_exec.v0+json": {
       "id": "1528"
      }
     },
     "output_type": "display_data"
    }
   ],
   "source": [
    "from bokeh.models import HoverTool\n",
    "\n",
    "source = ColumnDataSource(\n",
    "        data=dict(\n",
    "            x=[1, 2, 3, 4, 5],\n",
    "            y=[2, 5, 8, 2, 7],\n",
    "            desc=['A', 'b', 'C', 'd', 'E'],\n",
    "        )\n",
    "    )\n",
    "\n",
    "hover = HoverTool(\n",
    "        tooltips=[\n",
    "            (\"index\", \"$index\"),\n",
    "            (\"(x,y)\", \"($x, $y)\"),\n",
    "            (\"desc\", \"@desc\"),\n",
    "        ]\n",
    "    )\n",
    "\n",
    "p = figure(plot_width=300, plot_height=300, tools=[hover], title=\"Mouse over the dots\")\n",
    "\n",
    "p.circle('x', 'y', size=20, source=source)\n",
    "\n",
    "show(p)"
   ]
  },
  {
   "cell_type": "markdown",
   "metadata": {},
   "source": [
    "# Widgets"
   ]
  },
  {
   "cell_type": "markdown",
   "metadata": {},
   "source": [
    "Bokeh supports direct integration with a small basic widget set. Thse can be used in conjunction with a Bokeh Server, or with ``CustomJS`` models to add more interactive capability to your documents. You can see a complete list, with example code in the [Adding Widgets](http://bokeh.pydata.org/en/latest/docs/user_guide/interaction.html#adding-widgets) section of the User's Guide. \n",
    "\n",
    "\n",
    "\n",
    "*NOTE: In this Tutorial chapter, we will focus on using widgets with JavaScript callbacks. The Tutorial chapter on Bokeh server applications covers using Bokeh widgets with real Python callbacks*\n",
    "\n",
    "\n",
    "\n",
    "\n",
    "To use the widgets, include them in a layout like you would a plot object:"
   ]
  },
  {
   "cell_type": "code",
   "execution_count": 7,
   "metadata": {},
   "outputs": [
    {
     "data": {
      "text/html": [
       "\n",
       "\n",
       "\n",
       "\n",
       "\n",
       "\n",
       "  <div class=\"bk-root\" id=\"29d6a4d8-b7cc-4057-8597-d36067b4ad94\" data-root-id=\"1648\"></div>\n"
      ]
     },
     "metadata": {},
     "output_type": "display_data"
    },
    {
     "data": {
      "application/javascript": [
       "(function(root) {\n",
       "  function embed_document(root) {\n",
       "    \n",
       "  var docs_json = {\"67907fe0-eba2-4a4e-9cd3-ed6b4699fe99\":{\"roots\":{\"references\":[{\"attributes\":{\"children\":[{\"id\":\"1647\",\"type\":\"Slider\"}]},\"id\":\"1648\",\"type\":\"WidgetBox\"},{\"attributes\":{\"callback\":null,\"end\":10,\"start\":0,\"step\":0.1,\"title\":\"foo\",\"value\":1},\"id\":\"1647\",\"type\":\"Slider\"}],\"root_ids\":[\"1648\"]},\"title\":\"Bokeh Application\",\"version\":\"1.3.4\"}};\n",
       "  var render_items = [{\"docid\":\"67907fe0-eba2-4a4e-9cd3-ed6b4699fe99\",\"roots\":{\"1648\":\"29d6a4d8-b7cc-4057-8597-d36067b4ad94\"}}];\n",
       "  root.Bokeh.embed.embed_items_notebook(docs_json, render_items);\n",
       "\n",
       "  }\n",
       "  if (root.Bokeh !== undefined) {\n",
       "    embed_document(root);\n",
       "  } else {\n",
       "    var attempts = 0;\n",
       "    var timer = setInterval(function(root) {\n",
       "      if (root.Bokeh !== undefined) {\n",
       "        embed_document(root);\n",
       "        clearInterval(timer);\n",
       "      }\n",
       "      attempts++;\n",
       "      if (attempts > 100) {\n",
       "        console.log(\"Bokeh: ERROR: Unable to run BokehJS code because BokehJS library is missing\");\n",
       "        clearInterval(timer);\n",
       "      }\n",
       "    }, 10, root)\n",
       "  }\n",
       "})(window);"
      ],
      "application/vnd.bokehjs_exec.v0+json": ""
     },
     "metadata": {
      "application/vnd.bokehjs_exec.v0+json": {
       "id": "1648"
      }
     },
     "output_type": "display_data"
    }
   ],
   "source": [
    "from bokeh.layouts import widgetbox\n",
    "from bokeh.models.widgets import Slider\n",
    "\n",
    "\n",
    "slider = Slider(start=0, end=10, value=1, step=.1, title=\"foo\")\n",
    "\n",
    "show(widgetbox(slider))"
   ]
  },
  {
   "cell_type": "code",
   "execution_count": 8,
   "metadata": {},
   "outputs": [],
   "source": [
    "# EXERCISE: create and show a Select widget \n"
   ]
  },
  {
   "cell_type": "markdown",
   "metadata": {},
   "source": [
    "# CustomJS Callbacks\n",
    "\n",
    "In order for a widget to be useful, it needs to be able to perform some action. Using the Bokeh server, it is possible to have widgets trigger real Python code. That possibuility will be explored in the Bokeh server chapter of the turorial. Here, we look at how widgets can be configured with `CustomJS` callbacks that execute snippets of JavaScript code. "
   ]
  },
  {
   "cell_type": "code",
   "execution_count": 9,
   "metadata": {},
   "outputs": [
    {
     "data": {
      "text/html": [
       "\n",
       "\n",
       "\n",
       "\n",
       "\n",
       "\n",
       "  <div class=\"bk-root\" id=\"a26e1464-cc7e-4a7f-a8a0-ad749b31a02e\" data-root-id=\"1700\"></div>\n"
      ]
     },
     "metadata": {},
     "output_type": "display_data"
    },
    {
     "data": {
      "application/javascript": [
       "(function(root) {\n",
       "  function embed_document(root) {\n",
       "    \n",
       "  var docs_json = {\"06335edc-e44f-4a57-9685-1cdb7b45b921\":{\"roots\":{\"references\":[{\"attributes\":{\"below\":[{\"id\":\"1709\",\"type\":\"LinearAxis\"}],\"center\":[{\"id\":\"1713\",\"type\":\"Grid\"},{\"id\":\"1718\",\"type\":\"Grid\"}],\"left\":[{\"id\":\"1714\",\"type\":\"LinearAxis\"}],\"plot_height\":300,\"renderers\":[{\"id\":\"1724\",\"type\":\"GlyphRenderer\"}],\"title\":{\"id\":\"1775\",\"type\":\"Title\"},\"toolbar\":{\"id\":\"1719\",\"type\":\"Toolbar\"},\"x_range\":{\"id\":\"1701\",\"type\":\"DataRange1d\"},\"x_scale\":{\"id\":\"1705\",\"type\":\"LinearScale\"},\"y_range\":{\"id\":\"1703\",\"type\":\"DataRange1d\"},\"y_scale\":{\"id\":\"1707\",\"type\":\"LinearScale\"}},\"id\":\"1700\",\"subtype\":\"Figure\",\"type\":\"Plot\"},{\"attributes\":{},\"id\":\"1710\",\"type\":\"BasicTicker\"},{\"attributes\":{\"text\":\"\"},\"id\":\"1775\",\"type\":\"Title\"},{\"attributes\":{\"formatter\":{\"id\":\"1777\",\"type\":\"BasicTickFormatter\"},\"ticker\":{\"id\":\"1710\",\"type\":\"BasicTicker\"}},\"id\":\"1709\",\"type\":\"LinearAxis\"},{\"attributes\":{},\"id\":\"1705\",\"type\":\"LinearScale\"},{\"attributes\":{},\"id\":\"1782\",\"type\":\"Selection\"},{\"attributes\":{\"callback\":null},\"id\":\"1703\",\"type\":\"DataRange1d\"},{\"attributes\":{\"callback\":null},\"id\":\"1701\",\"type\":\"DataRange1d\"},{\"attributes\":{\"callback\":null,\"data\":{\"x\":[1,2,3,4,5],\"y\":[2,5,8,2,7]},\"selected\":{\"id\":\"1782\",\"type\":\"Selection\"},\"selection_policy\":{\"id\":\"1781\",\"type\":\"UnionRenderers\"}},\"id\":\"1721\",\"type\":\"ColumnDataSource\"},{\"attributes\":{},\"id\":\"1777\",\"type\":\"BasicTickFormatter\"},{\"attributes\":{\"source\":{\"id\":\"1721\",\"type\":\"ColumnDataSource\"}},\"id\":\"1725\",\"type\":\"CDSView\"},{\"attributes\":{\"data_source\":{\"id\":\"1721\",\"type\":\"ColumnDataSource\"},\"glyph\":{\"id\":\"1722\",\"type\":\"Circle\"},\"hover_glyph\":null,\"muted_glyph\":null,\"nonselection_glyph\":{\"id\":\"1723\",\"type\":\"Circle\"},\"selection_glyph\":null,\"view\":{\"id\":\"1725\",\"type\":\"CDSView\"}},\"id\":\"1724\",\"type\":\"GlyphRenderer\"},{\"attributes\":{\"fill_alpha\":{\"value\":0.1},\"fill_color\":{\"value\":\"#1f77b4\"},\"line_alpha\":{\"value\":0.1},\"line_color\":{\"value\":\"#1f77b4\"},\"size\":{\"units\":\"screen\",\"value\":20},\"x\":{\"field\":\"x\"},\"y\":{\"field\":\"y\"}},\"id\":\"1723\",\"type\":\"Circle\"},{\"attributes\":{\"callback\":{\"id\":\"1698\",\"type\":\"CustomJS\"}},\"id\":\"1699\",\"type\":\"TapTool\"},{\"attributes\":{\"fill_color\":{\"value\":\"#1f77b4\"},\"line_color\":{\"value\":\"#1f77b4\"},\"size\":{\"units\":\"screen\",\"value\":20},\"x\":{\"field\":\"x\"},\"y\":{\"field\":\"y\"}},\"id\":\"1722\",\"type\":\"Circle\"},{\"attributes\":{\"dimension\":1,\"ticker\":{\"id\":\"1715\",\"type\":\"BasicTicker\"}},\"id\":\"1718\",\"type\":\"Grid\"},{\"attributes\":{},\"id\":\"1781\",\"type\":\"UnionRenderers\"},{\"attributes\":{\"active_drag\":\"auto\",\"active_inspect\":\"auto\",\"active_multi\":null,\"active_scroll\":\"auto\",\"active_tap\":\"auto\",\"tools\":[{\"id\":\"1699\",\"type\":\"TapTool\"}]},\"id\":\"1719\",\"type\":\"Toolbar\"},{\"attributes\":{},\"id\":\"1715\",\"type\":\"BasicTicker\"},{\"attributes\":{\"formatter\":{\"id\":\"1779\",\"type\":\"BasicTickFormatter\"},\"ticker\":{\"id\":\"1715\",\"type\":\"BasicTicker\"}},\"id\":\"1714\",\"type\":\"LinearAxis\"},{\"attributes\":{},\"id\":\"1779\",\"type\":\"BasicTickFormatter\"},{\"attributes\":{\"code\":\"alert('you tapped a circle!')\"},\"id\":\"1698\",\"type\":\"CustomJS\"},{\"attributes\":{},\"id\":\"1707\",\"type\":\"LinearScale\"},{\"attributes\":{\"ticker\":{\"id\":\"1710\",\"type\":\"BasicTicker\"}},\"id\":\"1713\",\"type\":\"Grid\"}],\"root_ids\":[\"1700\"]},\"title\":\"Bokeh Application\",\"version\":\"1.3.4\"}};\n",
       "  var render_items = [{\"docid\":\"06335edc-e44f-4a57-9685-1cdb7b45b921\",\"roots\":{\"1700\":\"a26e1464-cc7e-4a7f-a8a0-ad749b31a02e\"}}];\n",
       "  root.Bokeh.embed.embed_items_notebook(docs_json, render_items);\n",
       "\n",
       "  }\n",
       "  if (root.Bokeh !== undefined) {\n",
       "    embed_document(root);\n",
       "  } else {\n",
       "    var attempts = 0;\n",
       "    var timer = setInterval(function(root) {\n",
       "      if (root.Bokeh !== undefined) {\n",
       "        embed_document(root);\n",
       "        clearInterval(timer);\n",
       "      }\n",
       "      attempts++;\n",
       "      if (attempts > 100) {\n",
       "        console.log(\"Bokeh: ERROR: Unable to run BokehJS code because BokehJS library is missing\");\n",
       "        clearInterval(timer);\n",
       "      }\n",
       "    }, 10, root)\n",
       "  }\n",
       "})(window);"
      ],
      "application/vnd.bokehjs_exec.v0+json": ""
     },
     "metadata": {
      "application/vnd.bokehjs_exec.v0+json": {
       "id": "1700"
      }
     },
     "output_type": "display_data"
    }
   ],
   "source": [
    "from bokeh.models import TapTool, CustomJS, ColumnDataSource\n",
    "\n",
    "callback = CustomJS(code=\"alert('you tapped a circle!')\")\n",
    "tap = TapTool(callback=callback)\n",
    "\n",
    "p = figure(plot_width=600, plot_height=300, tools=[tap])\n",
    "\n",
    "p.circle(x=[1, 2, 3, 4, 5], y=[2, 5, 8, 2, 7], size=20)\n",
    "\n",
    "show(p)"
   ]
  },
  {
   "cell_type": "markdown",
   "metadata": {},
   "source": [
    "## CustomJS for Property changes\n",
    "\n",
    "Bokeh objects that have values associated can have small JavaScript actions attached to them using the `js_on_change` method. These actions (also referred to as \"callbacks\") are executed whenever the widget's value is changed. In order to make it easier to refer to specific Bokeh models (e.g., a data source, or a glyhph) from JavaScript, the ``CustomJS`` obejct also accepts a dictionary of \"args\" that map names to Python Bokeh models. The corresponding JavaScript models are made available automaticaly to the ``CustomJS`` code:\n",
    "\n",
    "```python\n",
    "CustomJS(args=dict(source=source, slider=slider), code=\"\"\"\n",
    "    // easily refer to BokehJS source and slider objects in this JS code\n",
    "    var data = source.data;\n",
    "    var f = slider.value;\n",
    "\"\"\")\n",
    "```"
   ]
  },
  {
   "cell_type": "markdown",
   "metadata": {},
   "source": [
    "### Slider widget example\n",
    "\n",
    "The example below shows an action attached to a slider that updates a data source whenever the slider is moved.  "
   ]
  },
  {
   "cell_type": "code",
   "execution_count": 10,
   "metadata": {},
   "outputs": [
    {
     "data": {
      "text/html": [
       "\n",
       "\n",
       "\n",
       "\n",
       "\n",
       "\n",
       "  <div class=\"bk-root\" id=\"4ad53bf3-a4e3-441d-b58e-51c39c322a30\" data-root-id=\"1871\"></div>\n"
      ]
     },
     "metadata": {},
     "output_type": "display_data"
    },
    {
     "data": {
      "application/javascript": [
       "(function(root) {\n",
       "  function embed_document(root) {\n",
       "    \n",
       "  var docs_json = {\"69c5d256-90f9-4ea5-b718-5cab9ca2d2fa\":{\"roots\":{\"references\":[{\"attributes\":{\"children\":[{\"id\":\"1869\",\"type\":\"Slider\"},{\"id\":\"1832\",\"subtype\":\"Figure\",\"type\":\"Plot\"}]},\"id\":\"1871\",\"type\":\"Column\"},{\"attributes\":{\"formatter\":{\"id\":\"1931\",\"type\":\"BasicTickFormatter\"},\"ticker\":{\"id\":\"1842\",\"type\":\"BasicTicker\"}},\"id\":\"1841\",\"type\":\"LinearAxis\"},{\"attributes\":{},\"id\":\"1842\",\"type\":\"BasicTicker\"},{\"attributes\":{\"ticker\":{\"id\":\"1842\",\"type\":\"BasicTicker\"}},\"id\":\"1845\",\"type\":\"Grid\"},{\"attributes\":{\"formatter\":{\"id\":\"1933\",\"type\":\"BasicTickFormatter\"},\"ticker\":{\"id\":\"1847\",\"type\":\"BasicTicker\"}},\"id\":\"1846\",\"type\":\"LinearAxis\"},{\"attributes\":{},\"id\":\"1935\",\"type\":\"UnionRenderers\"},{\"attributes\":{},\"id\":\"1847\",\"type\":\"BasicTicker\"},{\"attributes\":{},\"id\":\"1936\",\"type\":\"Selection\"},{\"attributes\":{\"dimension\":1,\"ticker\":{\"id\":\"1847\",\"type\":\"BasicTicker\"}},\"id\":\"1850\",\"type\":\"Grid\"},{\"attributes\":{\"bottom_units\":\"screen\",\"fill_alpha\":{\"value\":0.5},\"fill_color\":{\"value\":\"lightgrey\"},\"left_units\":\"screen\",\"level\":\"overlay\",\"line_alpha\":{\"value\":1.0},\"line_color\":{\"value\":\"black\"},\"line_dash\":[4,4],\"line_width\":{\"value\":2},\"render_mode\":\"css\",\"right_units\":\"screen\",\"top_units\":\"screen\"},\"id\":\"1937\",\"type\":\"BoxAnnotation\"},{\"attributes\":{\"line_alpha\":0.1,\"line_color\":\"#1f77b4\",\"line_width\":3,\"x\":{\"field\":\"x\"},\"y\":{\"field\":\"y\"}},\"id\":\"1866\",\"type\":\"Line\"},{\"attributes\":{\"line_alpha\":0.6,\"line_color\":\"#1f77b4\",\"line_width\":3,\"x\":{\"field\":\"x\"},\"y\":{\"field\":\"y\"}},\"id\":\"1865\",\"type\":\"Line\"},{\"attributes\":{\"data_source\":{\"id\":\"1831\",\"type\":\"ColumnDataSource\"},\"glyph\":{\"id\":\"1865\",\"type\":\"Line\"},\"hover_glyph\":null,\"muted_glyph\":null,\"nonselection_glyph\":{\"id\":\"1866\",\"type\":\"Line\"},\"selection_glyph\":null,\"view\":{\"id\":\"1868\",\"type\":\"CDSView\"}},\"id\":\"1867\",\"type\":\"GlyphRenderer\"},{\"attributes\":{\"callback\":null,\"end\":6,\"js_property_callbacks\":{\"change:value\":[{\"id\":\"1870\",\"type\":\"CustomJS\"}]},\"start\":0.1,\"step\":0.1,\"title\":\"power\",\"value\":1},\"id\":\"1869\",\"type\":\"Slider\"},{\"attributes\":{\"active_drag\":\"auto\",\"active_inspect\":\"auto\",\"active_multi\":null,\"active_scroll\":\"auto\",\"active_tap\":\"auto\",\"tools\":[{\"id\":\"1851\",\"type\":\"PanTool\"},{\"id\":\"1852\",\"type\":\"WheelZoomTool\"},{\"id\":\"1853\",\"type\":\"BoxZoomTool\"},{\"id\":\"1854\",\"type\":\"SaveTool\"},{\"id\":\"1855\",\"type\":\"ResetTool\"},{\"id\":\"1856\",\"type\":\"HelpTool\"}]},\"id\":\"1857\",\"type\":\"Toolbar\"},{\"attributes\":{},\"id\":\"1851\",\"type\":\"PanTool\"},{\"attributes\":{\"text\":\"\"},\"id\":\"1929\",\"type\":\"Title\"},{\"attributes\":{},\"id\":\"1852\",\"type\":\"WheelZoomTool\"},{\"attributes\":{\"overlay\":{\"id\":\"1937\",\"type\":\"BoxAnnotation\"}},\"id\":\"1853\",\"type\":\"BoxZoomTool\"},{\"attributes\":{\"callback\":null,\"data\":{\"x\":[0.0,0.005,0.01,0.015,0.02,0.025,0.03,0.035,0.04,0.045,0.05,0.055,0.06,0.065,0.07,0.075,0.08,0.085,0.09,0.095,0.1,0.105,0.11,0.115,0.12,0.125,0.13,0.135,0.14,0.145,0.15,0.155,0.16,0.165,0.17,0.17500000000000002,0.18,0.185,0.19,0.195,0.2,0.20500000000000002,0.21,0.215,0.22,0.225,0.23,0.23500000000000001,0.24,0.245,0.25,0.255,0.26,0.265,0.27,0.275,0.28,0.28500000000000003,0.29,0.295,0.3,0.305,0.31,0.315,0.32,0.325,0.33,0.335,0.34,0.34500000000000003,0.35000000000000003,0.355,0.36,0.365,0.37,0.375,0.38,0.385,0.39,0.395,0.4,0.405,0.41000000000000003,0.41500000000000004,0.42,0.425,0.43,0.435,0.44,0.445,0.45,0.455,0.46,0.465,0.47000000000000003,0.47500000000000003,0.48,0.485,0.49,0.495,0.5,0.505,0.51,0.515,0.52,0.525,0.53,0.535,0.54,0.545,0.55,0.555,0.56,0.5650000000000001,0.5700000000000001,0.5750000000000001,0.58,0.585,0.59,0.595,0.6,0.605,0.61,0.615,0.62,0.625,0.63,0.635,0.64,0.645,0.65,0.655,0.66,0.665,0.67,0.675,0.68,0.685,0.6900000000000001,0.6950000000000001,0.7000000000000001,0.705,0.71,0.715,0.72,0.725,0.73,0.735,0.74,0.745,0.75,0.755,0.76,0.765,0.77,0.775,0.78,0.785,0.79,0.795,0.8,0.805,0.81,0.8150000000000001,0.8200000000000001,0.8250000000000001,0.8300000000000001,0.835,0.84,0.845,0.85,0.855,0.86,0.865,0.87,0.875,0.88,0.885,0.89,0.895,0.9,0.905,0.91,0.915,0.92,0.925,0.93,0.935,0.9400000000000001,0.9450000000000001,0.9500000000000001,0.9550000000000001,0.96,0.965,0.97,0.975,0.98,0.985,0.99,0.995,1.0],\"y\":[0.0,0.005,0.01,0.015,0.02,0.025,0.03,0.035,0.04,0.045,0.05,0.055,0.06,0.065,0.07,0.075,0.08,0.085,0.09,0.095,0.1,0.105,0.11,0.115,0.12,0.125,0.13,0.135,0.14,0.145,0.15,0.155,0.16,0.165,0.17,0.17500000000000002,0.18,0.185,0.19,0.195,0.2,0.20500000000000002,0.21,0.215,0.22,0.225,0.23,0.23500000000000001,0.24,0.245,0.25,0.255,0.26,0.265,0.27,0.275,0.28,0.28500000000000003,0.29,0.295,0.3,0.305,0.31,0.315,0.32,0.325,0.33,0.335,0.34,0.34500000000000003,0.35000000000000003,0.355,0.36,0.365,0.37,0.375,0.38,0.385,0.39,0.395,0.4,0.405,0.41000000000000003,0.41500000000000004,0.42,0.425,0.43,0.435,0.44,0.445,0.45,0.455,0.46,0.465,0.47000000000000003,0.47500000000000003,0.48,0.485,0.49,0.495,0.5,0.505,0.51,0.515,0.52,0.525,0.53,0.535,0.54,0.545,0.55,0.555,0.56,0.5650000000000001,0.5700000000000001,0.5750000000000001,0.58,0.585,0.59,0.595,0.6,0.605,0.61,0.615,0.62,0.625,0.63,0.635,0.64,0.645,0.65,0.655,0.66,0.665,0.67,0.675,0.68,0.685,0.6900000000000001,0.6950000000000001,0.7000000000000001,0.705,0.71,0.715,0.72,0.725,0.73,0.735,0.74,0.745,0.75,0.755,0.76,0.765,0.77,0.775,0.78,0.785,0.79,0.795,0.8,0.805,0.81,0.8150000000000001,0.8200000000000001,0.8250000000000001,0.8300000000000001,0.835,0.84,0.845,0.85,0.855,0.86,0.865,0.87,0.875,0.88,0.885,0.89,0.895,0.9,0.905,0.91,0.915,0.92,0.925,0.93,0.935,0.9400000000000001,0.9450000000000001,0.9500000000000001,0.9550000000000001,0.96,0.965,0.97,0.975,0.98,0.985,0.99,0.995,1.0]},\"selected\":{\"id\":\"1936\",\"type\":\"Selection\"},\"selection_policy\":{\"id\":\"1935\",\"type\":\"UnionRenderers\"}},\"id\":\"1831\",\"type\":\"ColumnDataSource\"},{\"attributes\":{\"below\":[{\"id\":\"1841\",\"type\":\"LinearAxis\"}],\"center\":[{\"id\":\"1845\",\"type\":\"Grid\"},{\"id\":\"1850\",\"type\":\"Grid\"}],\"left\":[{\"id\":\"1846\",\"type\":\"LinearAxis\"}],\"plot_height\":400,\"plot_width\":400,\"renderers\":[{\"id\":\"1867\",\"type\":\"GlyphRenderer\"}],\"title\":{\"id\":\"1929\",\"type\":\"Title\"},\"toolbar\":{\"id\":\"1857\",\"type\":\"Toolbar\"},\"x_range\":{\"id\":\"1833\",\"type\":\"DataRange1d\"},\"x_scale\":{\"id\":\"1837\",\"type\":\"LinearScale\"},\"y_range\":{\"id\":\"1835\",\"type\":\"DataRange1d\"},\"y_scale\":{\"id\":\"1839\",\"type\":\"LinearScale\"}},\"id\":\"1832\",\"subtype\":\"Figure\",\"type\":\"Plot\"},{\"attributes\":{},\"id\":\"1854\",\"type\":\"SaveTool\"},{\"attributes\":{},\"id\":\"1931\",\"type\":\"BasicTickFormatter\"},{\"attributes\":{},\"id\":\"1855\",\"type\":\"ResetTool\"},{\"attributes\":{},\"id\":\"1856\",\"type\":\"HelpTool\"},{\"attributes\":{},\"id\":\"1933\",\"type\":\"BasicTickFormatter\"},{\"attributes\":{\"callback\":null},\"id\":\"1833\",\"type\":\"DataRange1d\"},{\"attributes\":{\"callback\":null},\"id\":\"1835\",\"type\":\"DataRange1d\"},{\"attributes\":{\"source\":{\"id\":\"1831\",\"type\":\"ColumnDataSource\"}},\"id\":\"1868\",\"type\":\"CDSView\"},{\"attributes\":{},\"id\":\"1837\",\"type\":\"LinearScale\"},{\"attributes\":{\"args\":{\"slider\":{\"id\":\"1869\",\"type\":\"Slider\"},\"source\":{\"id\":\"1831\",\"type\":\"ColumnDataSource\"}},\"code\":\"\\n    var data = source.data;\\n    var f = slider.value;\\n    x = data['x']\\n    y = data['y']\\n    for (i = 0; i < x.length; i++) {\\n        y[i] = Math.pow(x[i], f)\\n    }\\n    \\n    // necessary becasue we mutated source.data in-place\\n    source.change.emit();\\n\"},\"id\":\"1870\",\"type\":\"CustomJS\"},{\"attributes\":{},\"id\":\"1839\",\"type\":\"LinearScale\"}],\"root_ids\":[\"1871\"]},\"title\":\"Bokeh Application\",\"version\":\"1.3.4\"}};\n",
       "  var render_items = [{\"docid\":\"69c5d256-90f9-4ea5-b718-5cab9ca2d2fa\",\"roots\":{\"1871\":\"4ad53bf3-a4e3-441d-b58e-51c39c322a30\"}}];\n",
       "  root.Bokeh.embed.embed_items_notebook(docs_json, render_items);\n",
       "\n",
       "  }\n",
       "  if (root.Bokeh !== undefined) {\n",
       "    embed_document(root);\n",
       "  } else {\n",
       "    var attempts = 0;\n",
       "    var timer = setInterval(function(root) {\n",
       "      if (root.Bokeh !== undefined) {\n",
       "        embed_document(root);\n",
       "        clearInterval(timer);\n",
       "      }\n",
       "      attempts++;\n",
       "      if (attempts > 100) {\n",
       "        console.log(\"Bokeh: ERROR: Unable to run BokehJS code because BokehJS library is missing\");\n",
       "        clearInterval(timer);\n",
       "      }\n",
       "    }, 10, root)\n",
       "  }\n",
       "})(window);"
      ],
      "application/vnd.bokehjs_exec.v0+json": ""
     },
     "metadata": {
      "application/vnd.bokehjs_exec.v0+json": {
       "id": "1871"
      }
     },
     "output_type": "display_data"
    }
   ],
   "source": [
    "from bokeh.layouts import column\n",
    "from bokeh.models import CustomJS, ColumnDataSource, Slider\n",
    "\n",
    "x = [x*0.005 for x in range(0, 201)]\n",
    "\n",
    "source = ColumnDataSource(data=dict(x=x, y=x))\n",
    "\n",
    "plot = figure(plot_width=400, plot_height=400)\n",
    "plot.line('x', 'y', source=source, line_width=3, line_alpha=0.6)\n",
    "\n",
    "slider = Slider(start=0.1, end=6, value=1, step=.1, title=\"power\")\n",
    "\n",
    "update_curve = CustomJS(args=dict(source=source, slider=slider), code=\"\"\"\n",
    "    var data = source.data;\n",
    "    var f = slider.value;\n",
    "    x = data['x']\n",
    "    y = data['y']\n",
    "    for (i = 0; i < x.length; i++) {\n",
    "        y[i] = Math.pow(x[i], f)\n",
    "    }\n",
    "    \n",
    "    // necessary becasue we mutated source.data in-place\n",
    "    source.change.emit();\n",
    "\"\"\")\n",
    "slider.js_on_change('value', update_curve)\n",
    "\n",
    "\n",
    "show(column(slider, plot))"
   ]
  },
  {
   "cell_type": "code",
   "execution_count": 11,
   "metadata": {},
   "outputs": [],
   "source": [
    "# Exercise: Create a plot that updates based on a Select widget\n",
    "\n"
   ]
  },
  {
   "cell_type": "markdown",
   "metadata": {},
   "source": [
    "### Data selection example\n",
    "\n",
    "It's also possible to make JavaScript actions that execute whenever a user selection (e.g., box, point, lasso) changes. This is done by attaching the same kind of CustomJS object to whatever data source the selection is made on.\n",
    "\n",
    "The example below is a bit more sophisticated, and demonstrates updating one glyph's data source in response to another glyph's selection: "
   ]
  },
  {
   "cell_type": "code",
   "execution_count": 12,
   "metadata": {},
   "outputs": [
    {
     "data": {
      "text/html": [
       "\n",
       "\n",
       "\n",
       "\n",
       "\n",
       "\n",
       "  <div class=\"bk-root\" id=\"da81d5a9-89c9-414d-84ec-4373888189fa\" data-root-id=\"1993\"></div>\n"
      ]
     },
     "metadata": {},
     "output_type": "display_data"
    },
    {
     "data": {
      "application/javascript": [
       "(function(root) {\n",
       "  function embed_document(root) {\n",
       "    \n",
       "  var docs_json = {\"8021bd54-af59-4312-a488-a4f10e77d624\":{\"roots\":{\"references\":[{\"attributes\":{\"below\":[{\"id\":\"2004\",\"type\":\"LinearAxis\"}],\"center\":[{\"id\":\"2008\",\"type\":\"Grid\"},{\"id\":\"2013\",\"type\":\"Grid\"}],\"left\":[{\"id\":\"2009\",\"type\":\"LinearAxis\"}],\"plot_height\":400,\"plot_width\":400,\"renderers\":[{\"id\":\"2021\",\"type\":\"GlyphRenderer\"},{\"id\":\"2027\",\"type\":\"GlyphRenderer\"}],\"title\":{\"id\":\"1994\",\"type\":\"Title\"},\"toolbar\":{\"id\":\"2015\",\"type\":\"Toolbar\"},\"x_range\":{\"id\":\"1996\",\"type\":\"DataRange1d\"},\"x_scale\":{\"id\":\"2000\",\"type\":\"LinearScale\"},\"y_range\":{\"id\":\"1998\",\"type\":\"DataRange1d\"},\"y_scale\":{\"id\":\"2002\",\"type\":\"LinearScale\"}},\"id\":\"1993\",\"subtype\":\"Figure\",\"type\":\"Plot\"},{\"attributes\":{},\"id\":\"2099\",\"type\":\"BasicTickFormatter\"},{\"attributes\":{},\"id\":\"2005\",\"type\":\"BasicTicker\"},{\"attributes\":{\"fill_alpha\":{\"value\":0.5},\"fill_color\":{\"value\":\"lightgrey\"},\"level\":\"overlay\",\"line_alpha\":{\"value\":1.0},\"line_color\":{\"value\":\"black\"},\"line_dash\":[4,4],\"line_width\":{\"value\":2},\"xs_units\":\"screen\",\"ys_units\":\"screen\"},\"id\":\"2101\",\"type\":\"PolyAnnotation\"},{\"attributes\":{\"ticker\":{\"id\":\"2005\",\"type\":\"BasicTicker\"}},\"id\":\"2008\",\"type\":\"Grid\"},{\"attributes\":{},\"id\":\"2102\",\"type\":\"UnionRenderers\"},{\"attributes\":{\"formatter\":{\"id\":\"2099\",\"type\":\"BasicTickFormatter\"},\"ticker\":{\"id\":\"2010\",\"type\":\"BasicTicker\"}},\"id\":\"2009\",\"type\":\"LinearAxis\"},{\"attributes\":{},\"id\":\"2103\",\"type\":\"Selection\"},{\"attributes\":{},\"id\":\"2010\",\"type\":\"BasicTicker\"},{\"attributes\":{},\"id\":\"2104\",\"type\":\"UnionRenderers\"},{\"attributes\":{\"dimension\":1,\"ticker\":{\"id\":\"2010\",\"type\":\"BasicTicker\"}},\"id\":\"2013\",\"type\":\"Grid\"},{\"attributes\":{},\"id\":\"2105\",\"type\":\"Selection\"},{\"attributes\":{\"active_drag\":\"auto\",\"active_inspect\":\"auto\",\"active_multi\":null,\"active_scroll\":\"auto\",\"active_tap\":\"auto\",\"tools\":[{\"id\":\"2014\",\"type\":\"LassoSelectTool\"}]},\"id\":\"2015\",\"type\":\"Toolbar\"},{\"attributes\":{\"callback\":null,\"overlay\":{\"id\":\"2101\",\"type\":\"PolyAnnotation\"}},\"id\":\"2014\",\"type\":\"LassoSelectTool\"},{\"attributes\":{\"line_alpha\":0.1,\"line_color\":\"#1f77b4\",\"line_width\":5,\"x\":{\"field\":\"xm\"},\"y\":{\"field\":\"ym\"}},\"id\":\"2026\",\"type\":\"Line\"},{\"attributes\":{\"fill_alpha\":{\"value\":0.4},\"fill_color\":{\"field\":\"color\"},\"line_alpha\":{\"value\":0.4},\"line_color\":{\"field\":\"color\"},\"size\":{\"units\":\"screen\",\"value\":8},\"x\":{\"field\":\"x\"},\"y\":{\"field\":\"y\"}},\"id\":\"2018\",\"type\":\"Circle\"},{\"attributes\":{\"callback\":null},\"id\":\"1998\",\"type\":\"DataRange1d\"},{\"attributes\":{},\"id\":\"2000\",\"type\":\"LinearScale\"},{\"attributes\":{\"fill_alpha\":{\"value\":0.1},\"fill_color\":{\"value\":\"#1f77b4\"},\"line_alpha\":{\"value\":0.1},\"line_color\":{\"value\":\"#1f77b4\"},\"size\":{\"units\":\"screen\",\"value\":8},\"x\":{\"field\":\"x\"},\"y\":{\"field\":\"y\"}},\"id\":\"2019\",\"type\":\"Circle\"},{\"attributes\":{\"fill_alpha\":{\"value\":0.4},\"fill_color\":{\"value\":\"firebrick\"},\"line_alpha\":{\"value\":0.4},\"line_color\":{\"value\":\"firebrick\"},\"size\":{\"units\":\"screen\",\"value\":8},\"x\":{\"field\":\"x\"},\"y\":{\"field\":\"y\"}},\"id\":\"2020\",\"type\":\"Circle\"},{\"attributes\":{\"data_source\":{\"id\":\"1992\",\"type\":\"ColumnDataSource\"},\"glyph\":{\"id\":\"2018\",\"type\":\"Circle\"},\"hover_glyph\":null,\"muted_glyph\":null,\"nonselection_glyph\":{\"id\":\"2019\",\"type\":\"Circle\"},\"selection_glyph\":{\"id\":\"2020\",\"type\":\"Circle\"},\"view\":{\"id\":\"2022\",\"type\":\"CDSView\"}},\"id\":\"2021\",\"type\":\"GlyphRenderer\"},{\"attributes\":{},\"id\":\"2002\",\"type\":\"LinearScale\"},{\"attributes\":{\"source\":{\"id\":\"1992\",\"type\":\"ColumnDataSource\"}},\"id\":\"2022\",\"type\":\"CDSView\"},{\"attributes\":{\"line_alpha\":0.6,\"line_color\":\"orange\",\"line_width\":5,\"x\":{\"field\":\"xm\"},\"y\":{\"field\":\"ym\"}},\"id\":\"2025\",\"type\":\"Line\"},{\"attributes\":{\"text\":\"Select Here\"},\"id\":\"1994\",\"type\":\"Title\"},{\"attributes\":{\"args\":{\"s1\":{\"id\":\"1992\",\"type\":\"ColumnDataSource\"},\"s2\":{\"id\":\"2023\",\"type\":\"ColumnDataSource\"}},\"code\":\"\\n    var inds = s1.selected.indices;\\n    if (inds.length == 0)\\n        return;\\n\\n    var ym = 0\\n    for (var i = 0; i < inds.length; i++) {\\n        ym += s1.data.y[inds[i]]\\n    }\\n    \\n    ym /= inds.length\\n    s2.data.ym = [ym, ym]\\n\\n    // necessary becasue we mutated source.data in-place\\n    s2.change.emit();  \\n\"},\"id\":\"2029\",\"type\":\"CustomJS\"},{\"attributes\":{\"formatter\":{\"id\":\"2097\",\"type\":\"BasicTickFormatter\"},\"ticker\":{\"id\":\"2005\",\"type\":\"BasicTicker\"}},\"id\":\"2004\",\"type\":\"LinearAxis\"},{\"attributes\":{\"callback\":null,\"data\":{\"xm\":[0,1],\"ym\":[0.5,0.5]},\"selected\":{\"id\":\"2105\",\"type\":\"Selection\"},\"selection_policy\":{\"id\":\"2104\",\"type\":\"UnionRenderers\"}},\"id\":\"2023\",\"type\":\"ColumnDataSource\"},{\"attributes\":{\"data_source\":{\"id\":\"2023\",\"type\":\"ColumnDataSource\"},\"glyph\":{\"id\":\"2025\",\"type\":\"Line\"},\"hover_glyph\":null,\"muted_glyph\":null,\"nonselection_glyph\":{\"id\":\"2026\",\"type\":\"Line\"},\"selection_glyph\":null,\"view\":{\"id\":\"2028\",\"type\":\"CDSView\"}},\"id\":\"2027\",\"type\":\"GlyphRenderer\"},{\"attributes\":{\"callback\":{\"id\":\"2029\",\"type\":\"CustomJS\"},\"data\":{\"color\":[\"navy\",\"navy\",\"navy\",\"navy\",\"navy\",\"navy\",\"navy\",\"navy\",\"navy\",\"navy\",\"navy\",\"navy\",\"navy\",\"navy\",\"navy\",\"navy\",\"navy\",\"navy\",\"navy\",\"navy\",\"navy\",\"navy\",\"navy\",\"navy\",\"navy\",\"navy\",\"navy\",\"navy\",\"navy\",\"navy\",\"navy\",\"navy\",\"navy\",\"navy\",\"navy\",\"navy\",\"navy\",\"navy\",\"navy\",\"navy\",\"navy\",\"navy\",\"navy\",\"navy\",\"navy\",\"navy\",\"navy\",\"navy\",\"navy\",\"navy\",\"navy\",\"navy\",\"navy\",\"navy\",\"navy\",\"navy\",\"navy\",\"navy\",\"navy\",\"navy\",\"navy\",\"navy\",\"navy\",\"navy\",\"navy\",\"navy\",\"navy\",\"navy\",\"navy\",\"navy\",\"navy\",\"navy\",\"navy\",\"navy\",\"navy\",\"navy\",\"navy\",\"navy\",\"navy\",\"navy\",\"navy\",\"navy\",\"navy\",\"navy\",\"navy\",\"navy\",\"navy\",\"navy\",\"navy\",\"navy\",\"navy\",\"navy\",\"navy\",\"navy\",\"navy\",\"navy\",\"navy\",\"navy\",\"navy\",\"navy\",\"navy\",\"navy\",\"navy\",\"navy\",\"navy\",\"navy\",\"navy\",\"navy\",\"navy\",\"navy\",\"navy\",\"navy\",\"navy\",\"navy\",\"navy\",\"navy\",\"navy\",\"navy\",\"navy\",\"navy\",\"navy\",\"navy\",\"navy\",\"navy\",\"navy\",\"navy\",\"navy\",\"navy\",\"navy\",\"navy\",\"navy\",\"navy\",\"navy\",\"navy\",\"navy\",\"navy\",\"navy\",\"navy\",\"navy\",\"navy\",\"navy\",\"navy\",\"navy\",\"navy\",\"navy\",\"navy\",\"navy\",\"navy\",\"navy\",\"navy\",\"navy\",\"navy\",\"navy\",\"navy\",\"navy\",\"navy\",\"navy\",\"navy\",\"navy\",\"navy\",\"navy\",\"navy\",\"navy\",\"navy\",\"navy\",\"navy\",\"navy\",\"navy\",\"navy\",\"navy\",\"navy\",\"navy\",\"navy\",\"navy\",\"navy\",\"navy\",\"navy\",\"navy\",\"navy\",\"navy\",\"navy\",\"navy\",\"navy\",\"navy\",\"navy\",\"navy\",\"navy\",\"navy\",\"navy\",\"navy\",\"navy\",\"navy\",\"navy\",\"navy\",\"navy\",\"navy\",\"navy\",\"navy\",\"navy\",\"navy\",\"navy\",\"navy\",\"navy\",\"navy\",\"navy\",\"navy\",\"navy\",\"navy\",\"navy\",\"navy\",\"navy\",\"navy\",\"navy\",\"navy\",\"navy\",\"navy\",\"navy\",\"navy\",\"navy\",\"navy\",\"navy\",\"navy\",\"navy\",\"navy\",\"navy\",\"navy\",\"navy\",\"navy\",\"navy\",\"navy\",\"navy\",\"navy\",\"navy\",\"navy\",\"navy\",\"navy\",\"navy\",\"navy\",\"navy\",\"navy\",\"navy\",\"navy\",\"navy\",\"navy\",\"navy\",\"navy\",\"navy\",\"navy\",\"navy\",\"navy\",\"navy\",\"navy\",\"navy\",\"navy\",\"navy\",\"navy\",\"navy\",\"navy\",\"navy\",\"navy\",\"navy\",\"navy\",\"navy\",\"navy\",\"navy\",\"navy\",\"navy\",\"navy\",\"navy\",\"navy\",\"navy\",\"navy\",\"navy\",\"navy\",\"navy\",\"navy\",\"navy\",\"navy\",\"navy\",\"navy\",\"navy\",\"navy\",\"navy\",\"navy\",\"navy\",\"navy\",\"navy\",\"navy\",\"navy\",\"navy\",\"navy\",\"navy\",\"navy\",\"navy\",\"navy\",\"navy\",\"navy\",\"navy\",\"navy\",\"navy\",\"navy\",\"navy\",\"navy\",\"navy\",\"navy\",\"navy\",\"navy\",\"navy\",\"navy\",\"navy\",\"navy\",\"navy\",\"navy\",\"navy\",\"navy\",\"navy\",\"navy\",\"navy\",\"navy\",\"navy\",\"navy\",\"navy\",\"navy\",\"navy\",\"navy\",\"navy\",\"navy\",\"navy\",\"navy\",\"navy\",\"navy\",\"navy\",\"navy\",\"navy\",\"navy\",\"navy\",\"navy\",\"navy\",\"navy\",\"navy\",\"navy\",\"navy\",\"navy\",\"navy\",\"navy\",\"navy\",\"navy\",\"navy\",\"navy\",\"navy\",\"navy\",\"navy\",\"navy\",\"navy\",\"navy\",\"navy\",\"navy\",\"navy\",\"navy\",\"navy\",\"navy\",\"navy\",\"navy\",\"navy\",\"navy\",\"navy\",\"navy\",\"navy\",\"navy\",\"navy\",\"navy\",\"navy\",\"navy\",\"navy\",\"navy\",\"navy\",\"navy\",\"navy\",\"navy\",\"navy\",\"navy\",\"navy\",\"navy\",\"navy\",\"navy\",\"navy\",\"navy\",\"navy\",\"navy\",\"navy\",\"navy\",\"navy\",\"navy\",\"navy\",\"navy\",\"navy\",\"navy\",\"navy\",\"navy\",\"navy\",\"navy\",\"navy\",\"navy\",\"navy\",\"navy\",\"navy\",\"navy\",\"navy\",\"navy\",\"navy\",\"navy\",\"navy\",\"navy\",\"navy\",\"navy\",\"navy\",\"navy\",\"navy\",\"navy\",\"navy\",\"navy\",\"navy\",\"navy\",\"navy\",\"navy\",\"navy\",\"navy\",\"navy\",\"navy\",\"navy\",\"navy\",\"navy\",\"navy\",\"navy\",\"navy\",\"navy\",\"navy\",\"navy\",\"navy\",\"navy\",\"navy\",\"navy\",\"navy\",\"navy\",\"navy\",\"navy\",\"navy\",\"navy\",\"navy\",\"navy\",\"navy\",\"navy\",\"navy\",\"navy\",\"navy\",\"navy\",\"navy\",\"navy\",\"navy\",\"navy\",\"navy\",\"navy\",\"navy\",\"navy\",\"navy\",\"navy\",\"navy\",\"navy\",\"navy\",\"navy\",\"navy\",\"navy\",\"navy\",\"navy\",\"navy\",\"navy\",\"navy\",\"navy\",\"navy\",\"navy\",\"navy\",\"navy\",\"navy\",\"navy\",\"navy\",\"navy\",\"navy\",\"navy\",\"navy\",\"navy\",\"navy\",\"navy\",\"navy\",\"navy\",\"navy\",\"navy\",\"navy\",\"navy\",\"navy\",\"navy\"],\"x\":[0.87821065265109,0.6325333246682826,0.3409104177595156,0.8720707840254651,0.6710673920429746,0.48653005051638776,0.14017911984610942,0.33539719063678797,0.14034911323494903,0.35255855004836223,0.44632552296352523,0.0639275552116938,0.18417299076652183,0.6467595635076432,0.4990080250600859,0.2485494856572883,0.6748638390339922,0.4714544639698861,0.6810556689040251,0.6311141402192338,0.38490781396939033,0.5537837099284553,0.7353830656307276,0.009869704176682426,0.20708090710427862,0.9934162404307293,0.6498898317594836,0.13591082012382294,0.6081779189416313,0.7303091015205959,0.10118729605055898,0.1425944354732973,0.7919858336704995,0.9027918796931005,0.0646690063286367,0.6320309030808254,0.5900936900107341,0.1288647911310531,0.3293533095844058,0.8981906323440436,0.45921004491059403,0.0355161452521926,0.6940925170536161,0.15596224610918108,0.5081419520045051,0.12474649511328573,0.45502877923301477,0.6724209577813655,0.8537693506890393,0.22054416321252523,0.5248106989125418,0.12005611735227006,0.22939486550014432,0.021422292202571525,0.31816577052408435,0.9832174134679514,0.7259915376888617,0.02181629251530004,0.4148577789475707,0.05469149309846122,0.013847788151003071,0.47934654805018817,0.676444633368711,0.9432131266923193,0.40436511595061153,0.3785730373925895,0.1434227076199489,0.6383695638587655,0.8591509405601232,0.8206368667709592,0.7106086283581501,0.49799557092610347,0.3291678790838535,0.09031028716427103,0.12513655607903662,0.02400214488231156,0.22461129037143845,0.8103744402812796,0.6775691142646958,0.7066448850379189,0.38913271452300136,0.4887586388538483,0.14056793238594367,0.018619341976241155,0.17770814466844198,0.10333246849447275,0.9052216562477632,0.7958653357751662,0.3617373291297217,0.8053820888936276,0.21353003917767388,0.8127677414287284,0.2603259384158356,0.20750353707953972,0.2277526813420514,0.17730059114107066,0.7838336410729979,0.24251899642722596,0.8246116953182612,0.5450688040945202,0.6859769119262682,0.5216329039103146,0.01091315345541155,0.12823676808557793,0.36227530976261524,0.8348838378215705,0.4394620452950728,0.34589805653606287,0.9127845500913786,0.5366252539153021,0.06698376815145579,0.2177578387377589,0.2461800677277156,0.8875241740173758,0.5422015053373819,0.2710600556788284,0.9055118002230536,0.6165903232460171,0.2032966063575825,0.9987820778159029,0.7812030352816123,0.6978451880263675,0.7495921112229961,0.6953578579547796,0.22909682512783214,0.7513789229344298,0.3334155837774381,0.8853969551770368,0.33298252569270703,0.31684363729427933,0.9836280822938165,0.24255987117815325,0.4358108056155071,0.0689008557441465,0.16085713546239788,0.8851880917610715,0.3922215568160903,0.10829184107732182,0.5137172083193674,0.5025462848315522,0.859268743999676,0.5978224636882423,0.32109331808826835,0.12404951739041847,0.07618862250081271,0.15494143117700798,0.5064303484214305,0.06936187814327333,0.14830466250249696,0.6150845241487463,0.9585860821232335,0.6853755248963271,0.12183879973777412,0.4397344177822119,0.08492486511151864,0.8463754108171307,0.8092495593837168,0.5611148891091006,0.32071540307293844,0.7471306425191928,0.6827621170337093,0.27555207809526716,0.869355967956471,0.9978314743939841,0.039425442790211984,0.43999044373691787,0.48932696966247613,0.6099244860136647,0.41112805776818384,0.06279039395099406,0.8442084755342949,0.5816820942351003,0.8917199686188552,0.22484087771842587,0.2687717087723197,0.2696142265427579,0.979676968070393,0.47296295564520896,0.17662982189222898,0.5341540676893904,0.6725305793435084,0.13766889347158418,0.7635871267080441,0.861892182897919,0.991754340618128,0.42374013250454656,0.42546922402356724,0.6924715432204006,0.813866273034474,0.5662116471223492,0.5271388825600515,0.9638990558406106,0.5856747547666968,0.4690556265007261,0.4861711206636511,0.41757537532720934,0.18093258466522555,0.751530606900232,0.8593516914722494,0.6334731956373914,0.7803826183976705,0.8732055690914402,0.8206961539981633,0.6285501290044273,0.23402180543072448,0.2855534494113252,0.21498410996042572,0.9240572479724262,0.7881718110572371,0.22465951577312138,0.33659830854459005,0.2712519478377089,0.5085424957260416,0.5796033583283633,0.7257533581384334,0.307433055565394,0.13233767478013136,0.6613736018822824,0.6791463426300017,0.10782453070236053,0.9278418079905985,0.8913506697816924,0.05237612534251346,0.9951267953187026,0.5642639223644172,0.06604942759368337,0.2937347439256942,0.7982151251386578,0.07630930345046849,0.051561541464983485,0.6471391983471451,0.2608435633776255,0.18228812357071145,0.44998196027731285,0.5351525379375799,0.8800357325766188,0.78686118960968,0.6003386438454994,0.39163088566398974,0.8673496428322486,0.22980201820212487,0.23628649616854847,0.6481664002182846,0.7994764383847575,0.5399383478797064,0.11687784729804174,0.8105380182102223,0.9722339533088494,0.6219606433885174,0.07354764344154119,0.9655574434330252,0.49942137939052944,0.5865199186833608,0.9990806167795808,0.9259171670544664,0.6209485364331508,0.4124855402969937,0.25549693336694135,0.18151019081233655,0.03704344814564786,0.8386696246192347,0.6451366348859005,0.9958412729052152,0.4386131138082111,0.2626181064134344,0.5555996535263985,0.16659673913735673,0.34435154902098986,0.3994528549495934,0.09229913587353078,0.7154326922869834,0.41970211816628744,0.5084639265284597,0.30617139634762036,0.002024093848478681,0.459473010207224,0.0035430248335170944,0.017022097471089292,0.16724002210755073,0.9286477327800311,0.7398613729508067,0.8898723577570117,0.3108790176918962,0.7988347007630973,0.4066523329895496,0.0010639757278756434,0.5637374921626188,0.2364336216325632,0.3078030628869649,0.9893377112136693,0.7887366997323391,0.9719630693168194,0.36099142069360746,0.09942374207465099,0.42580387945658216,0.6237159193443829,0.3640397845988801,0.8849682684799784,0.012014951938441931,0.5673427553549111,0.4323445267081727,0.2602054368864547,0.7609498239018863,0.6203615440006023,0.41992970617402103,0.7540350805689179,0.9252654986544744,0.42118383629662604,0.7314870917653281,0.18770519455199652,0.7368147448318348,0.9896366099845916,0.8842468404248532,0.3743745615796743,0.82076337811232,0.463251943298419,0.17362711411296405,0.7673530140472138,0.6974475105024053,0.5384341282754956,0.027449153622874145,0.35965605553715474,0.3947557038494216,0.5432972152543804,0.8827014633600071,0.36014660961207967,0.6016721658658263,0.9570342635742618,0.014776583132724785,0.42377865942676984,0.706795195270207,0.7908356425353298,0.1583772945300954,0.26392466868304876,0.4312774974453202,0.7972156743747063,0.5108787402283872,0.6967568351442737,0.00522361799044635,0.8458482128032538,0.20692254737017712,0.8312984724800622,0.13043563848641027,0.9643696325642525,0.014171147011750707,0.5346619797568176,0.4609599223348868,0.1416329630087486,0.7295100765758623,0.008317118538286317,0.6960983279757678,0.8559556945980477,0.3250958292384676,0.7397806392559234,0.12268864725496065,0.1615559284521484,0.13670230969927533,0.126008256687288,0.266539164045801,0.8222465913237257,0.09140909329116942,0.6069042784076412,0.769687083492378,0.3937488580700744,0.8760567798618216,0.6061813977614942,0.8704019988587623,0.26882614926293213,0.43641385668559474,0.6413906485690403,0.8432017023861216,0.1273007031615001,0.8629195657601246,0.37009362844688165,0.573098785376972,0.6679358449467743,0.2514344316596824,0.11799853411852357,0.47583248036620385,0.7879899500435079,0.06974450685783429,0.1505957308741922,0.33068917980025136,0.9680392504875599,0.7603456397479468,0.482658257134135,0.20707920263778923,0.4862999160053164,0.5417381085371082,0.3104089741912667,0.017873627525907376,0.694949032550689,0.30878553705903067,0.7309309159545994,0.4440923013099871,0.9474260085149729,0.370758032598264,0.13558081721656545,0.9358140040612002,0.2886902867077603,0.9640093374646521,0.10208689949470673,0.5222496715674951,0.029771111808691297,0.6690489753844931,0.41966072197639204,0.6143773256242868,0.5902111744009036,0.9207564774845636,0.619035194766789,0.20350919203418028,0.5159043052281098,0.03649059144328526,0.9407431935242615,0.7801079283093005,0.6991035441698469,0.9531888013289147,0.6636167661946977,0.2759677485804778,0.324624382829216,0.5281611992328422,0.637427378910064,0.019068745853085822,0.03561767503773405,0.0273682841931705,0.3261129662513894,0.7042147393790208,0.38955577559435783,0.491737032229806,0.09243700463405635,0.9712186239091056,0.09887452924566187,0.2302154060847157,0.5179912525761557,0.03181452378726535,0.568083649910059,0.6098080159262713,0.6635099718474875,0.8897712557805506,0.4589140884907932,0.4707428637543337,0.8701442916703935,0.527127353222449,0.8959810000675744,0.5664804244386954,0.11942223316184064,0.038601186948336585,0.31878529962179103,0.011839746148382124,0.9007271611965851,0.5447369729744957,0.4220698548901173,0.7656385647094212,0.09240122678547114,0.30477014405405767,0.49331054529344376,0.8838658551013606,0.5419815142068282,0.5163052271173878,0.8805989297755751,0.8978591182116347,0.297551960340221,0.42147585766513995,0.9050380369040133,0.676552013050553,0.5317696713073048,0.699157448715365,0.3966628629297472,0.6739957415007886,0.2405715719478818,0.35822639618591723,0.9448400891087085,0.7122361858801215,0.23044941652824313,0.36150156408855705,0.9328181214663914,0.37358857856144334,0.2664589739030879,0.12050011108941139,0.6125071789054223,0.017559007255667836,0.3939900450946542,0.3858770088571871,0.9350235435897811,0.16728447213883757,0.42907535025873145,0.09376955428679445,0.7398285672425822,0.5071801586191744,0.9849726302434582,0.9850373475340073,0.8647971654578405,0.9302376121902058,0.1511958451956278,0.9112183837685257,0.9755206685312586,0.6745160988098731,0.8598897597735127,0.7183393869270953,0.4386365044421019],\"y\":[0.7881059627401503,0.25860756827406883,0.5259964263702424,0.9862396889849467,0.7273488770174787,0.6529877244242394,0.23925404470541567,0.8227159351534039,0.08764594279321192,0.5195859208477085,0.0967019138172227,0.47502366363662707,0.30841946218743477,0.625881339388115,0.21137231551794777,0.83631464316015,0.812286956933281,0.30252376456622154,0.4974162369534304,0.6421721841761437,0.13076418783848665,0.5022103324558346,0.8493578358410191,0.5161638117232953,0.5335425994465447,0.22704085887253134,0.8407491454752035,0.2750569681189524,0.596817995539596,0.3956634219418923,0.2927525550060923,0.4277399786773344,0.077926599413909,0.416828477466338,0.4624677586835044,0.7546622370889392,0.4193044649332397,0.9085970806538513,0.6338697983477357,0.41377928047602053,0.09632335132932801,0.14891904848062543,0.8853431370509328,0.7494479594390842,0.37444837152881727,0.06479034939037298,0.5705888209435573,0.3091687315459285,0.08012785521264465,0.38066505271061946,0.33914907654538884,0.10803536192702134,0.8228253536212893,0.8018611603259059,0.261933974331944,0.8212339353448852,0.47245208359350843,0.5961877395984199,0.840102913177259,0.16379604969196804,0.19759361669012032,0.37751766572868317,0.31253360769520866,0.8704324708041715,0.9739807644929386,0.13668348837267297,0.2309262108264707,0.43135176124477403,0.7032156190834807,0.22444875892388216,0.2312724598467656,0.6154929937481584,0.1889303136193382,0.9742477523269618,0.5076053970148929,0.922036710225062,0.6359085191343667,0.2806671240937305,0.5550475665205863,0.6360240614499098,0.7168359523923784,0.0465277088721755,0.07094169300221398,0.39049086771221275,0.8261553958609887,0.5891519295436721,0.8433268568077511,0.39993251106724215,0.3388801313573321,0.2151632643908562,0.3455023173297217,0.32283126600865486,0.07449082083930814,0.3740270715685645,0.4602902717915728,0.5070912932017086,0.6837385493988092,0.529146600859559,0.49925766558764006,0.27793690464161624,0.6638343981939617,0.6203200182413223,0.9006434685035578,0.15280940496885764,0.989546677762655,0.95244517844757,0.11807073207599894,0.9233847195062981,0.4126590585361364,0.6902102289462654,0.5762651414073239,0.5130831689357328,0.9540216981327116,0.08137685493565727,0.1433278588821244,0.08264258311719197,0.834612264637413,0.8855002571169145,0.867412293833387,0.33949892253899006,0.5810446291060187,0.1833698805069559,0.6400446313439055,0.24498985245832938,0.8503591539894134,0.13989000249870376,0.9623280324630206,0.25427919777462993,0.8844182925724703,0.38442969222527656,0.011001121204595954,0.5737800398528334,0.17102735030240224,0.024587783865434476,0.7148004768815777,0.9516223513752792,0.6167697078442459,0.49308877936070916,0.6591409854482011,0.38127642501307035,0.9483345759773422,0.5670092492787948,0.6131214949719007,0.33689128417411573,0.12159148001243736,0.863825047352512,0.9931955597941763,0.43104147347560384,0.3261561552919454,0.10814233214669622,0.1060169856704044,0.039389693258918834,0.5980862144205075,0.2685891168192248,0.4479169313649426,0.6665101574305282,0.43282273654614,0.6855789848019552,0.0678929605058235,0.7039998263208399,0.42375503198321574,0.5004429935730245,0.5459979273388341,0.458850299044783,0.3883023808560899,0.40170922086454597,0.8874285566258544,0.42647156822062904,0.18119750474568763,0.9565983042207716,0.7976403200454323,0.49755566911186677,0.9961457970990244,0.18372165378434857,0.7384175538932682,0.4475983442421233,0.21428821583096525,0.8224668448232254,0.2569057097614579,0.5348338626910604,0.8015942272314938,0.32131466722282964,0.5366624028850486,0.9787782655470835,0.9887964814220536,0.23796656653860027,0.448704121253515,0.4919546101702049,0.5826438498135481,0.23958664775180383,0.9560717913199845,0.2663175843321053,0.9539276176420878,0.28784220498865176,0.4662980662705364,0.9132447171680748,0.36307766376309447,0.2989666910011478,0.4885966459628468,0.8247161473149618,0.5191442539759366,0.7809285768352451,0.6367760054620146,0.3699740001426005,0.23629328762620816,0.6573790678464653,0.8836381051430112,0.6987890409096282,0.6197931985399104,0.9210026089413517,0.015676969047656142,0.8553643328918132,0.4705217739089589,0.8344740881804221,0.5285663020593608,0.780054209586237,0.33373899142556174,0.12567081717484208,0.9817951174403645,0.038813575941923806,0.10929103694562958,0.920500161679499,0.26136661922242677,0.0025023856006310963,0.44232855819966743,0.40349529844566,0.48167791216454836,0.15724839306375904,0.6052214892511107,0.7610793709986557,0.3322637304587678,0.1965966189227214,0.0807168347089966,0.3893540699195871,0.8932671824991247,0.040185370757077954,0.6822238013221646,0.6547491887381599,0.8730398157436748,0.4273666694988746,0.33928430550342403,0.6071906765916991,0.31370961136866193,0.19990298498909131,0.38649769028912595,0.9717412802847725,0.722184613391572,0.6228476991099644,0.4806364353956487,0.5717222596022916,0.010558735359827875,0.5708419979852257,0.3872899964797831,0.6943413510881737,0.9003612440191495,0.04870430341034493,0.9905097291243659,0.27815438710154305,0.3513967738299618,0.39456953129134764,0.5661424521744971,0.1585691351990156,0.6561083962734096,0.8976273762511312,0.42512635767532714,0.01565443744957784,0.9731701961026826,0.656300986234901,0.89215313061843,0.6127472021533434,0.5951648250217351,0.7143349397768828,0.06667866052264737,0.22739446004520036,0.9528498766296906,0.6431694955435004,0.729258233028316,0.3236559656501493,0.7862486008751954,0.0007240622968949229,0.6462645453983681,0.8557384357055818,0.2604546354420736,0.9452398193068081,0.9030638551437452,0.6477990366237253,0.9382291167804793,0.11840481046561224,0.2523481862381671,0.28057927394804905,0.5035355878626052,0.9598944864439753,0.006141276717145372,0.8036554747924961,0.2409557715155285,0.5337655197731297,0.5063101885937185,0.9474156786928606,0.8850041145819918,0.7692583466007871,0.23823014124372333,0.627187320392525,0.36107117255806076,0.8959174627873648,0.5762405106353509,0.7421550389202596,0.7941722860312063,0.9904545676576525,0.33643551079612555,0.6484177915015219,0.3724749454608529,0.3613303293323653,0.3870637437213241,0.4134691639066539,0.3250921126546862,0.7976694346971899,0.03219887569432378,0.563451070247858,0.5140987819955789,0.045252669854280114,0.4486725159156396,0.09880090683527454,0.4139040821451553,0.8473916387097294,0.3901064479732873,0.17532410519691022,0.4117565630486304,0.9037768546159839,0.32698434220785877,0.14471014194549836,0.9745825586011867,0.809411980316939,0.7799984760066904,0.9836437992742101,0.7518997850075503,0.8716965955884849,0.20744034891640217,0.9844308049604785,0.5937975694399924,0.5334545196016446,0.12758867617357483,0.009515071592524849,0.6131654602215356,0.44468433692600595,0.9507225534732703,0.07793266368312834,0.44657696539152625,0.41027507440472843,0.619427180308564,0.9206340521140255,0.7656778348082468,0.7264730154972192,0.5293225055629375,0.1683830522841998,0.8654386290800876,0.7058398639490403,0.35991974880317734,0.9466383584040303,0.24665840137158612,0.1257791914529015,0.4334768365938265,0.8689321095182463,0.842043395221329,0.6412522201454048,0.16379326632911573,0.4311798290423594,0.3943183292992658,0.3760827882831147,0.5259164268868276,0.6599735022999578,0.749965172488923,0.6623053972186094,0.9037387844490874,0.8238066811189612,0.19669230144364747,0.8726479945709823,0.2702600281035219,0.01773643189973917,0.5924530632822294,0.6936460595616099,0.04966881779437449,0.6621295561694123,0.31775970802891373,0.9992298914701616,0.2928063548111217,0.33280012338157583,0.3666924275258001,0.5675390053867685,0.8443930251875552,0.30059682504451346,0.8502511701322731,0.6728827127854102,0.45095140047416304,0.5430021735844477,0.04225987683861576,0.7233273163698244,0.5669975021618907,0.47695491731698747,0.8938542989752252,0.8624937518940928,0.5586188916545146,0.8986112254804027,0.5975534354802373,0.42065650547346267,0.6501822443993746,0.8374876336923399,0.5012553265330785,0.18132358537318383,0.9881666841628863,0.13275177558478835,0.15264440211030583,0.8318456000308281,0.6314480050737197,0.8172160476942277,0.8392817529259409,0.6284500581947409,0.279974587524665,0.3439161363278328,0.298790976807623,0.3556914165175247,0.18518525489293536,0.2979674800002924,0.1579136783814875,0.8222483813485337,0.2290874012011922,0.5698925585564375,0.6945590525433041,0.3997366627193266,0.7211031115256603,0.00808638519474314,0.7247710645901395,0.2104167255476257,0.9125735531218266,0.6476352821014635,0.19807146266716347,0.8805289069972266,0.6754580917838171,0.17138063212957255,0.3531333394119536,0.25578911256951087,0.7046861310747402,0.12612590605743434,0.5937276490713522,0.39957480615124674,0.541275822749578,0.3826894631932203,0.028111011908158567,0.8988026889936054,0.9214023076543032,0.3130823960935295,0.36736655835331167,0.13815216666537222,0.6631925540207989,0.8089326793862753,0.4873997429842549,0.8694085591880176,0.9621601206871574,0.8663026192633787,0.05620069284861229,0.2745313382174994,0.22871914765665546,0.6780162459525084,0.9753168539135162,0.7580351230557248,0.06671836369627826,0.04739616437603367,0.6146076776955096,0.7504091264463042,0.06457154458548287,0.4322717521117708,0.45936683221300467,0.3996438496391975,0.06022491810001118,0.8164701662692208,0.19354460401196438,0.19817941192136357,0.02842770801901584,0.13911237456375558,0.4431176765532867,0.6774252428582906,0.7876817035017155,0.14788990295545867,0.3509524647086787,0.9725369844898949,0.22221214798807865,0.9709631212625082,0.029544609313780557,0.7211934571199986,0.5544662408425525,0.15279227000784334,0.6805733018790666,0.04516526056622061,0.8148545354147692,0.5188358198414676,0.05259718587910778,0.02749264348368241,0.9527215769246261,0.4130361871213014,0.22403649245396895,0.5878065789637107]},\"selected\":{\"id\":\"2103\",\"type\":\"Selection\"},\"selection_policy\":{\"id\":\"2102\",\"type\":\"UnionRenderers\"}},\"id\":\"1992\",\"type\":\"ColumnDataSource\"},{\"attributes\":{\"source\":{\"id\":\"2023\",\"type\":\"ColumnDataSource\"}},\"id\":\"2028\",\"type\":\"CDSView\"},{\"attributes\":{\"callback\":null},\"id\":\"1996\",\"type\":\"DataRange1d\"},{\"attributes\":{},\"id\":\"2097\",\"type\":\"BasicTickFormatter\"}],\"root_ids\":[\"1993\"]},\"title\":\"Bokeh Application\",\"version\":\"1.3.4\"}};\n",
       "  var render_items = [{\"docid\":\"8021bd54-af59-4312-a488-a4f10e77d624\",\"roots\":{\"1993\":\"da81d5a9-89c9-414d-84ec-4373888189fa\"}}];\n",
       "  root.Bokeh.embed.embed_items_notebook(docs_json, render_items);\n",
       "\n",
       "  }\n",
       "  if (root.Bokeh !== undefined) {\n",
       "    embed_document(root);\n",
       "  } else {\n",
       "    var attempts = 0;\n",
       "    var timer = setInterval(function(root) {\n",
       "      if (root.Bokeh !== undefined) {\n",
       "        embed_document(root);\n",
       "        clearInterval(timer);\n",
       "      }\n",
       "      attempts++;\n",
       "      if (attempts > 100) {\n",
       "        console.log(\"Bokeh: ERROR: Unable to run BokehJS code because BokehJS library is missing\");\n",
       "        clearInterval(timer);\n",
       "      }\n",
       "    }, 10, root)\n",
       "  }\n",
       "})(window);"
      ],
      "application/vnd.bokehjs_exec.v0+json": ""
     },
     "metadata": {
      "application/vnd.bokehjs_exec.v0+json": {
       "id": "1993"
      }
     },
     "output_type": "display_data"
    }
   ],
   "source": [
    "from random import random\n",
    "\n",
    "x = [random() for x in range(500)]\n",
    "y = [random() for y in range(500)]\n",
    "color = [\"navy\"] * len(x)\n",
    "\n",
    "s1 = ColumnDataSource(data=dict(x=x, y=y, color=color))\n",
    "p = figure(plot_width=400, plot_height=400, tools=\"lasso_select\", title=\"Select Here\")\n",
    "p.circle('x', 'y', color='color', size=8, alpha=0.4, source=s1, \n",
    "         selection_color=\"firebrick\", selection_alpha=0.4)\n",
    "\n",
    "s2 = ColumnDataSource(data=dict(xm=[0,1],ym=[0.5, 0.5]))\n",
    "p.line(x='xm', y='ym', color=\"orange\", line_width=5, alpha=0.6, source=s2)\n",
    "\n",
    "s1.callback = CustomJS(args=dict(s1=s1, s2=s2), code=\"\"\"\n",
    "    var inds = s1.selected.indices;\n",
    "    if (inds.length == 0)\n",
    "        return;\n",
    "\n",
    "    var ym = 0\n",
    "    for (var i = 0; i < inds.length; i++) {\n",
    "        ym += s1.data.y[inds[i]]\n",
    "    }\n",
    "    \n",
    "    ym /= inds.length\n",
    "    s2.data.ym = [ym, ym]\n",
    "\n",
    "    // necessary becasue we mutated source.data in-place\n",
    "    s2.change.emit();  \n",
    "\"\"\")\n",
    "\n",
    "show(p)"
   ]
  },
  {
   "cell_type": "code",
   "execution_count": 13,
   "metadata": {},
   "outputs": [],
   "source": [
    "# Exercise: Experiment with selection callbacks\n",
    "\n"
   ]
  },
  {
   "cell_type": "markdown",
   "metadata": {
    "collapsed": true
   },
   "source": [
    "## CustomJS for UI Events\n",
    "\n",
    "Bokeh also has a general events system\n",
    "\n",
    "All of the available UI events, and their properties, are listed in the Reference Guide section for [bokeh.events](https://bokeh.pydata.org/en/latest/docs/reference/events.html)"
   ]
  },
  {
   "cell_type": "code",
   "execution_count": 14,
   "metadata": {},
   "outputs": [
    {
     "data": {
      "text/html": [
       "\n",
       "\n",
       "\n",
       "\n",
       "\n",
       "\n",
       "  <div class=\"bk-root\" id=\"01df0562-3ce9-4f0d-9847-7651f8e7872b\" data-root-id=\"2196\"></div>\n"
      ]
     },
     "metadata": {},
     "output_type": "display_data"
    },
    {
     "data": {
      "application/javascript": [
       "(function(root) {\n",
       "  function embed_document(root) {\n",
       "    \n",
       "  var docs_json = {\"ed00c64e-f7ef-4bc1-96ae-5de66c318eda\":{\"roots\":{\"references\":[{\"attributes\":{\"children\":[{\"id\":\"2194\",\"type\":\"Button\"},{\"id\":\"2195\",\"type\":\"Row\"}]},\"id\":\"2196\",\"type\":\"Column\"},{\"attributes\":{\"width\":400},\"id\":\"2193\",\"type\":\"Div\"},{\"attributes\":{\"callback\":null,\"icon\":null,\"js_event_callbacks\":{\"button_click\":[{\"id\":\"2197\",\"type\":\"CustomJS\"}]},\"width\":300},\"id\":\"2194\",\"type\":\"Button\"},{\"attributes\":{\"below\":[{\"id\":\"2175\",\"type\":\"LinearAxis\"}],\"center\":[{\"id\":\"2179\",\"type\":\"Grid\"},{\"id\":\"2184\",\"type\":\"Grid\"}],\"js_event_callbacks\":{\"selectiongeometry\":[{\"id\":\"2198\",\"type\":\"CustomJS\"}]},\"left\":[{\"id\":\"2180\",\"type\":\"LinearAxis\"}],\"renderers\":[{\"id\":\"2191\",\"type\":\"GlyphRenderer\"}],\"title\":{\"id\":\"2275\",\"type\":\"Title\"},\"toolbar\":{\"id\":\"2186\",\"type\":\"Toolbar\"},\"x_range\":{\"id\":\"2167\",\"type\":\"DataRange1d\"},\"x_scale\":{\"id\":\"2171\",\"type\":\"LinearScale\"},\"y_range\":{\"id\":\"2169\",\"type\":\"DataRange1d\"},\"y_scale\":{\"id\":\"2173\",\"type\":\"LinearScale\"}},\"id\":\"2166\",\"subtype\":\"Figure\",\"type\":\"Plot\"},{\"attributes\":{},\"id\":\"2176\",\"type\":\"BasicTicker\"},{\"attributes\":{\"callback\":null},\"id\":\"2167\",\"type\":\"DataRange1d\"},{\"attributes\":{\"children\":[{\"id\":\"2166\",\"subtype\":\"Figure\",\"type\":\"Plot\"},{\"id\":\"2193\",\"type\":\"Div\"}]},\"id\":\"2195\",\"type\":\"Row\"},{\"attributes\":{\"data_source\":{\"id\":\"2188\",\"type\":\"ColumnDataSource\"},\"glyph\":{\"id\":\"2189\",\"type\":\"Circle\"},\"hover_glyph\":null,\"muted_glyph\":null,\"nonselection_glyph\":{\"id\":\"2190\",\"type\":\"Circle\"},\"selection_glyph\":null,\"view\":{\"id\":\"2192\",\"type\":\"CDSView\"}},\"id\":\"2191\",\"type\":\"GlyphRenderer\"},{\"attributes\":{\"args\":{\"div\":{\"id\":\"2193\",\"type\":\"Div\"}},\"code\":\"\\ndiv.text = \\\"Button!\\\";\\n\"},\"id\":\"2197\",\"type\":\"CustomJS\"},{\"attributes\":{\"callback\":null},\"id\":\"2169\",\"type\":\"DataRange1d\"},{\"attributes\":{},\"id\":\"2171\",\"type\":\"LinearScale\"},{\"attributes\":{},\"id\":\"2173\",\"type\":\"LinearScale\"},{\"attributes\":{\"args\":{\"div\":{\"id\":\"2193\",\"type\":\"Div\"}},\"code\":\"\\ndiv.text = \\\"Selection! <p> <p>\\\" + JSON.stringify(cb_obj.geometry, undefined, 2);\\n\"},\"id\":\"2198\",\"type\":\"CustomJS\"},{\"attributes\":{\"formatter\":{\"id\":\"2279\",\"type\":\"BasicTickFormatter\"},\"ticker\":{\"id\":\"2181\",\"type\":\"BasicTicker\"}},\"id\":\"2180\",\"type\":\"LinearAxis\"},{\"attributes\":{},\"id\":\"2277\",\"type\":\"BasicTickFormatter\"},{\"attributes\":{\"text\":\"\"},\"id\":\"2275\",\"type\":\"Title\"},{\"attributes\":{\"dimension\":1,\"ticker\":{\"id\":\"2181\",\"type\":\"BasicTicker\"}},\"id\":\"2184\",\"type\":\"Grid\"},{\"attributes\":{},\"id\":\"2279\",\"type\":\"BasicTickFormatter\"},{\"attributes\":{\"ticker\":{\"id\":\"2176\",\"type\":\"BasicTicker\"}},\"id\":\"2179\",\"type\":\"Grid\"},{\"attributes\":{\"bottom_units\":\"screen\",\"fill_alpha\":{\"value\":0.5},\"fill_color\":{\"value\":\"lightgrey\"},\"left_units\":\"screen\",\"level\":\"overlay\",\"line_alpha\":{\"value\":1.0},\"line_color\":{\"value\":\"black\"},\"line_dash\":[4,4],\"line_width\":{\"value\":2},\"render_mode\":\"css\",\"right_units\":\"screen\",\"top_units\":\"screen\"},\"id\":\"2281\",\"type\":\"BoxAnnotation\"},{\"attributes\":{},\"id\":\"2282\",\"type\":\"UnionRenderers\"},{\"attributes\":{\"formatter\":{\"id\":\"2277\",\"type\":\"BasicTickFormatter\"},\"ticker\":{\"id\":\"2176\",\"type\":\"BasicTicker\"}},\"id\":\"2175\",\"type\":\"LinearAxis\"},{\"attributes\":{},\"id\":\"2283\",\"type\":\"Selection\"},{\"attributes\":{},\"id\":\"2181\",\"type\":\"BasicTicker\"},{\"attributes\":{\"fill_alpha\":{\"value\":0.1},\"fill_color\":{\"value\":\"#1f77b4\"},\"line_alpha\":{\"value\":0.1},\"line_color\":{\"value\":\"#1f77b4\"},\"radius\":{\"units\":\"data\",\"value\":1},\"x\":{\"field\":\"x\"},\"y\":{\"field\":\"y\"}},\"id\":\"2190\",\"type\":\"Circle\"},{\"attributes\":{\"callback\":null,\"overlay\":{\"id\":\"2281\",\"type\":\"BoxAnnotation\"}},\"id\":\"2185\",\"type\":\"BoxSelectTool\"},{\"attributes\":{\"active_drag\":\"auto\",\"active_inspect\":\"auto\",\"active_multi\":null,\"active_scroll\":\"auto\",\"active_tap\":\"auto\",\"tools\":[{\"id\":\"2185\",\"type\":\"BoxSelectTool\"}]},\"id\":\"2186\",\"type\":\"Toolbar\"},{\"attributes\":{\"fill_alpha\":{\"value\":0.6},\"fill_color\":{\"value\":\"#1f77b4\"},\"line_color\":{\"value\":null},\"radius\":{\"units\":\"data\",\"value\":1},\"x\":{\"field\":\"x\"},\"y\":{\"field\":\"y\"}},\"id\":\"2189\",\"type\":\"Circle\"},{\"attributes\":{\"source\":{\"id\":\"2188\",\"type\":\"ColumnDataSource\"}},\"id\":\"2192\",\"type\":\"CDSView\"},{\"attributes\":{\"callback\":null,\"data\":{\"x\":{\"__ndarray__\":\"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\",\"dtype\":\"float64\",\"shape\":[2000]},\"y\":{\"__ndarray__\":\"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\",\"dtype\":\"float64\",\"shape\":[2000]}},\"selected\":{\"id\":\"2283\",\"type\":\"Selection\"},\"selection_policy\":{\"id\":\"2282\",\"type\":\"UnionRenderers\"}},\"id\":\"2188\",\"type\":\"ColumnDataSource\"}],\"root_ids\":[\"2196\"]},\"title\":\"Bokeh Application\",\"version\":\"1.3.4\"}};\n",
       "  var render_items = [{\"docid\":\"ed00c64e-f7ef-4bc1-96ae-5de66c318eda\",\"roots\":{\"2196\":\"01df0562-3ce9-4f0d-9847-7651f8e7872b\"}}];\n",
       "  root.Bokeh.embed.embed_items_notebook(docs_json, render_items);\n",
       "\n",
       "  }\n",
       "  if (root.Bokeh !== undefined) {\n",
       "    embed_document(root);\n",
       "  } else {\n",
       "    var attempts = 0;\n",
       "    var timer = setInterval(function(root) {\n",
       "      if (root.Bokeh !== undefined) {\n",
       "        embed_document(root);\n",
       "        clearInterval(timer);\n",
       "      }\n",
       "      attempts++;\n",
       "      if (attempts > 100) {\n",
       "        console.log(\"Bokeh: ERROR: Unable to run BokehJS code because BokehJS library is missing\");\n",
       "        clearInterval(timer);\n",
       "      }\n",
       "    }, 10, root)\n",
       "  }\n",
       "})(window);"
      ],
      "application/vnd.bokehjs_exec.v0+json": ""
     },
     "metadata": {
      "application/vnd.bokehjs_exec.v0+json": {
       "id": "2196"
      }
     },
     "output_type": "display_data"
    }
   ],
   "source": [
    "from bokeh.plotting import figure\n",
    "from bokeh import events\n",
    "from bokeh.models import CustomJS, Div, Button\n",
    "from bokeh.layouts import column, row\n",
    "\n",
    "import numpy as np\n",
    "x = np.random.random(size=2000) * 100\n",
    "y = np.random.random(size=2000) * 100\n",
    "\n",
    "p = figure(tools=\"box_select\")\n",
    "p.scatter(x, y, radius=1, fill_alpha=0.6, line_color=None)\n",
    "\n",
    "div = Div(width=400)\n",
    "button = Button(label=\"Button\", width=300)\n",
    "layout = column(button, row(p, div))\n",
    "\n",
    "# Events with no attributes\n",
    "button.js_on_event(events.ButtonClick,  CustomJS(args=dict(div=div), code=\"\"\"\n",
    "div.text = \"Button!\";\n",
    "\"\"\")) \n",
    "\n",
    "p.js_on_event(events.SelectionGeometry, CustomJS(args=dict(div=div), code=\"\"\"\n",
    "div.text = \"Selection! <p> <p>\" + JSON.stringify(cb_obj.geometry, undefined, 2);\n",
    "\"\"\"))\n",
    "\n",
    "show(layout)"
   ]
  },
  {
   "cell_type": "code",
   "execution_count": 15,
   "metadata": {},
   "outputs": [],
   "source": [
    "# Exercise: Create a plot that responds to different events from bokeh.events\n",
    "\n"
   ]
  },
  {
   "cell_type": "markdown",
   "metadata": {
    "collapsed": true
   },
   "source": [
    "## Additional Information\n",
    "\n",
    "There are many kinds of interactions and events that can be connected to `CustomJS` callbacks. \n",
    "\n",
    "\n",
    "* Widgets - Button, Toggle, Dropdown, TextInput, AutocompleteInput, Select, Multiselect, Slider, (DateRangeSlider), DatePicker,\n",
    "* Tools - TapTool, BoxSelectTool, HoverTool,\n",
    "* Selection - ColumnDataSource, AjaxDataSource, BlazeDataSource, ServerDataSource\n",
    "* Ranges - Range1d, DataRange1d, FactorRange\n",
    "\n",
    "\n",
    "For more complete examples the User Guide section on [JavaScript Interactions](http://bokeh.pydata.org/en/latest/docs/user_guide/interaction.html)"
   ]
  },
  {
   "cell_type": "code",
   "execution_count": null,
   "metadata": {},
   "outputs": [],
   "source": []
  }
 ],
 "metadata": {
  "anaconda-cloud": {},
  "kernelspec": {
   "display_name": "Python 3",
   "language": "python",
   "name": "python3"
  },
  "language_info": {
   "codemirror_mode": {
    "name": "ipython",
    "version": 3
   },
   "file_extension": ".py",
   "mimetype": "text/x-python",
   "name": "python",
   "nbconvert_exporter": "python",
   "pygments_lexer": "ipython3",
   "version": "3.6.8"
  },
  "widgets": {
   "state": {
    "335ae2c8ff80469e9adac668c2924989": {
     "views": [
      {
       "cell_index": 19
      }
     ]
    }
   },
   "version": "1.2.0"
  }
 },
 "nbformat": 4,
 "nbformat_minor": 1
}
