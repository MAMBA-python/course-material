{
 "cells": [
  {
   "cell_type": "markdown",
   "metadata": {},
   "source": [
    "# Datetime\n",
    "\n",
    "The `datetime` package is part of the Python Standard Libary. This notebook lists some of the commonly used functions of the `datetime` package."
   ]
  },
  {
   "cell_type": "markdown",
   "metadata": {},
   "source": [
    "## [`datetime`](https://docs.python.org/3/library/datetime.html#module-datetime) for working with dates and times"
   ]
  },
  {
   "cell_type": "code",
   "execution_count": 1,
   "metadata": {},
   "outputs": [
    {
     "name": "stdout",
     "output_type": "stream",
     "text": [
      "local now: 2018-11-19 16:31:03.364416\n",
      "utc now: 2018-11-19 15:31:03.364416\n",
      "2018 11 19 16 31 3\n",
      "date: 2018-11-19\n",
      "time: 16:31:03.364416\n"
     ]
    }
   ],
   "source": [
    "import datetime as dt\n",
    "\n",
    "local_now = dt.datetime.now()\n",
    "print('local now: {}'.format(local_now))\n",
    "\n",
    "utc_now = dt.datetime.utcnow()\n",
    "print('utc now: {}'.format(utc_now))\n",
    "\n",
    "# You can access any value separately:\n",
    "print('{} {} {} {} {} {}'.format(local_now.year, local_now.month,\n",
    "                                 local_now.day, local_now.hour,\n",
    "                                 local_now.minute, local_now.second))\n",
    "\n",
    "print('date: {}'.format(local_now.date()))\n",
    "print('time: {}'.format(local_now.time()))"
   ]
  },
  {
   "cell_type": "markdown",
   "metadata": {},
   "source": [
    "### `strftime()`\n",
    "For string formatting the `datetime`"
   ]
  },
  {
   "cell_type": "code",
   "execution_count": 2,
   "metadata": {},
   "outputs": [
    {
     "name": "stdout",
     "output_type": "stream",
     "text": [
      "2018/11/19-16:31:03\n",
      "date: 2018-11-19 time:16:31:03\n"
     ]
    }
   ],
   "source": [
    "formatted1 = local_now.strftime('%Y/%m/%d-%H:%M:%S')\n",
    "print(formatted1)\n",
    "\n",
    "formatted2 = local_now.strftime('date: %Y-%m-%d time:%H:%M:%S')\n",
    "print(formatted2)"
   ]
  },
  {
   "cell_type": "markdown",
   "metadata": {},
   "source": [
    "### `strptime()`\n",
    "For converting a datetime string into a `datetime` object "
   ]
  },
  {
   "cell_type": "code",
   "execution_count": 3,
   "metadata": {},
   "outputs": [
    {
     "name": "stdout",
     "output_type": "stream",
     "text": [
      "my_dt: 2000-01-01 10:00:00\n"
     ]
    }
   ],
   "source": [
    "my_dt = dt.datetime.strptime('2000-01-01 10:00:00', '%Y-%m-%d %H:%M:%S')\n",
    "print('my_dt: {}'.format(my_dt))"
   ]
  },
  {
   "cell_type": "markdown",
   "metadata": {},
   "source": [
    "### [`timedelta`](https://docs.python.org/3/library/datetime.html#timedelta-objects)\n",
    "For working with time difference."
   ]
  },
  {
   "cell_type": "code",
   "execution_count": 4,
   "metadata": {},
   "outputs": [
    {
     "name": "stdout",
     "output_type": "stream",
     "text": [
      "tomorrow this time: 2018-11-20 16:31:03.364416\n",
      "tomorrow - now = 1 day, 0:00:00\n",
      "days: 1, seconds: 0\n",
      "total seconds: 86400.0\n"
     ]
    }
   ],
   "source": [
    "tomorrow = local_now + dt.timedelta(days=1)\n",
    "print('tomorrow this time: {}'.format(tomorrow))\n",
    "\n",
    "delta = tomorrow - local_now\n",
    "print('tomorrow - now = {}'.format(delta))\n",
    "print('days: {}, seconds: {}'.format(delta.days, delta.seconds))\n",
    "print('total seconds: {}'.format(delta.total_seconds()))"
   ]
  },
  {
   "cell_type": "markdown",
   "metadata": {},
   "source": [
    "### Working with timezones\n",
    "Let's first make sure [`pytz`](http://pytz.sourceforge.net/) is installed."
   ]
  },
  {
   "cell_type": "code",
   "execution_count": 5,
   "metadata": {},
   "outputs": [
    {
     "name": "stdout",
     "output_type": "stream",
     "text": [
      "Requirement already satisfied: pytz in c:\\anaconda3\\lib\\site-packages (2017.2)\n"
     ]
    }
   ],
   "source": [
    "import sys\n",
    "!{sys.executable} -m pip install pytz"
   ]
  },
  {
   "cell_type": "code",
   "execution_count": 6,
   "metadata": {},
   "outputs": [
    {
     "name": "stdout",
     "output_type": "stream",
     "text": [
      "naive utc now: 2018-11-19 15:31:10.896838, tzinfo: None\n",
      "utc now: 2018-11-19 15:31:10.896838+00:00, tzinfo: UTC\n",
      "Paris: 2018-11-19 16:31:10.896838+01:00, tzinfo: Europe/Paris\n",
      "New York: 2018-11-19 10:31:10.896838-05:00, tzinfo: America/New_York\n"
     ]
    }
   ],
   "source": [
    "import datetime as dt\n",
    "import pytz\n",
    "\n",
    "naive_utc_now = dt.datetime.utcnow()\n",
    "print('naive utc now: {}, tzinfo: {}'.format(naive_utc_now, naive_utc_now.tzinfo))\n",
    "\n",
    "# Localizing naive datetimes\n",
    "UTC_TZ = pytz.timezone('UTC')\n",
    "utc_now = UTC_TZ.localize(naive_utc_now)\n",
    "print('utc now: {}, tzinfo: {}'.format(utc_now, utc_now.tzinfo))\n",
    "\n",
    "# Converting localized datetimes to different timezone\n",
    "PARIS_TZ = pytz.timezone('Europe/Paris')\n",
    "paris_now = PARIS_TZ.normalize(utc_now)\n",
    "print('Paris: {}, tzinfo: {}'.format(paris_now, paris_now.tzinfo))\n",
    "\n",
    "NEW_YORK_TZ = pytz.timezone('America/New_York')\n",
    "ny_now = NEW_YORK_TZ.normalize(utc_now)\n",
    "print('New York: {}, tzinfo: {}'.format(ny_now, ny_now.tzinfo))"
   ]
  },
  {
   "cell_type": "markdown",
   "metadata": {},
   "source": [
    "**NOTE**: If your project uses datetimes heavily, you may want to take a look at external libraries, such as [Pendulum](https://pendulum.eustace.io/docs/) and [Maya](https://github.com/kennethreitz/maya), which make working with datetimes easier for certain use cases."
   ]
  },
  {
   "cell_type": "markdown",
   "metadata": {},
   "source": [
    "## acknowledgement\n",
    "\n",
    "This notebook is an adapted version of the notebook from this git repository:\n",
    "- https://github.com/BIDS/2016-01-14-berkeley/tree/gh-pages/python"
   ]
  }
 ],
 "metadata": {
  "kernelspec": {
   "display_name": "Python [default]",
   "language": "python",
   "name": "python3"
  },
  "language_info": {
   "codemirror_mode": {
    "name": "ipython",
    "version": 3
   },
   "file_extension": ".py",
   "mimetype": "text/x-python",
   "name": "python",
   "nbconvert_exporter": "python",
   "pygments_lexer": "ipython3",
   "version": "3.6.3"
  }
 },
 "nbformat": 4,
 "nbformat_minor": 2
}
