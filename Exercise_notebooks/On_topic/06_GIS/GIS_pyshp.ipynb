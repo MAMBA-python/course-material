{
 "cells": [
  {
   "cell_type": "markdown",
   "metadata": {},
   "source": [
    "<figure>\n",
    "   <IMG SRC=\"https://mamba-python.nl/images/logo_basis.png\" WIDTH=125 ALIGN=\"right\">\n",
    "</figure>\n",
    "    \n",
    "# reading shapefiles using pyshp\n",
    "\n",
    "developed by Onno Ebbens\n",
    "\n",
    "\n",
    "\n",
    "this notebook is created for the Mamba python course in order to create shapefiles using pyshp"
   ]
  },
  {
   "cell_type": "markdown",
   "metadata": {},
   "source": [
    "table of content:<a class=\"anchor\" id=\"0\"></a>\n",
    "1. [import files](#1)\n",
    "2. [read data](#2)\n",
    "3. [](#3)\n",
    "4. [](#4)"
   ]
  },
  {
   "cell_type": "markdown",
   "metadata": {},
   "source": [
    "## 1. import files<a class=\"anchor\" id=\"1\"></a>"
   ]
  },
  {
   "cell_type": "markdown",
   "metadata": {},
   "source": [
    "to install the pyshp package use:\n",
    "\n",
    "`pip install pyshp`\n",
    "\n",
    "to import the pyshp package use:\n",
    "\n",
    "`import shapefile`\n",
    "\n",
    "note that, unlike most python modules, the module is imported by a different name than the name of the package."
   ]
  },
  {
   "cell_type": "code",
   "execution_count": 1,
   "metadata": {},
   "outputs": [],
   "source": [
    "import matplotlib.pyplot as plt\n",
    "import zipfile\n",
    "import os\n",
    "import pandas as pd\n",
    "import datetime as dt\n",
    "import numpy as np\n",
    "import shapefile"
   ]
  },
  {
   "cell_type": "code",
   "execution_count": 2,
   "metadata": {},
   "outputs": [],
   "source": [
    "#settings\n",
    "%matplotlib inline\n",
    "plt.style.use('seaborn')"
   ]
  },
  {
   "cell_type": "markdown",
   "metadata": {},
   "source": [
    "## 2. read shapefile data <a class=\"anchor\" id=\"2\"></a>"
   ]
  },
  {
   "cell_type": "code",
   "execution_count": 3,
   "metadata": {},
   "outputs": [],
   "source": [
    "fileName = r\"shapefile/Rotterdam_centraal.shp\" ##file name\n",
    "r = shapefile.Reader(fileName)"
   ]
  },
  {
   "cell_type": "markdown",
   "metadata": {},
   "source": [
    "most important attributes"
   ]
  },
  {
   "cell_type": "markdown",
   "metadata": {},
   "source": [
    "## 3. write shapefile data <a class=\"anchor\" id=\"3\"></a>"
   ]
  },
  {
   "cell_type": "code",
   "execution_count": 5,
   "metadata": {
    "collapsed": true
   },
   "outputs": [],
   "source": [
    "w = shapefile.Writer(r.shapeType)\n",
    "w.fields = r.fields[1:]\n",
    "\n",
    "for shprec in r.iterShapeRecords():\n",
    "    points = shprec.shape.points\n",
    "    w.poly(parts = [points])\n",
    "    w.record(shprec.record[0])\n",
    "\n",
    "w.save(r\"shapefile/Rotterdam_centraal_v2.shp\")"
   ]
  },
  {
   "cell_type": "markdown",
   "metadata": {},
   "source": [
    "## 4. Modify shapefile data <a class=\"anchor\" id=\"4\"></a>"
   ]
  },
  {
   "cell_type": "code",
   "execution_count": 6,
   "metadata": {
    "collapsed": true
   },
   "outputs": [],
   "source": [
    "w = shapefile.Writer(r.shapeType)\n",
    "w.fields = r.fields[1:]\n",
    "\n",
    "for shprec in r.iterShapeRecords():\n",
    "    points = shprec.shape.points\n",
    "    \n",
    "    point1 = points[0]\n",
    "    point2 = points[1]\n",
    "    point3 = points[2]\n",
    "    point4 = points[3]\n",
    "\n",
    "    avgX = (point1[0] + point2[0] + point3[0] + point4[0])/4\n",
    "    avgY = (point1[1] + point2[1] + point3[1] + point4[1])/4\n",
    "\n",
    "    newX1 = 1.7*(point1[0] - avgX) + avgX\n",
    "    newX2 = 1.7*(point2[0] - avgX) + avgX\n",
    "    newX3 = 1.7*(point3[0] - avgX) + avgX\n",
    "    newX4 = 1.7*(point4[0] - avgX) + avgX\n",
    "\n",
    "    newY1 = 1.7*(point1[1] - avgY) + avgY\n",
    "    newY2 = 1.7*(point2[1] - avgY) + avgY\n",
    "    newY3 = 1.7*(point3[1] - avgY) + avgY\n",
    "    newY4 = 1.7*(point4[1] - avgY) + avgY\n",
    "\n",
    "    newPoint1 = [newX1, newY1]\n",
    "    newPoint2 = [newX2, newY2]\n",
    "    newPoint3 = [newX3, newY3]\n",
    "    newPoint4 = [newX4, newY4]\n",
    "    \n",
    "    \n",
    "\n",
    "    newPoints = [newPoint1, newPoint2, newPoint3, newPoint4, newPoint1, \n",
    "    newPoint1]\n",
    "\n",
    "    w.poly(parts = [newPoints])\n",
    "    w.record(shprec.record[0])\n",
    "\n",
    "w.save(r\"shapefile/Rotterdam_centraal_resized.shp\")"
   ]
  },
  {
   "cell_type": "code",
   "execution_count": null,
   "metadata": {
    "collapsed": true
   },
   "outputs": [],
   "source": []
  }
 ],
 "metadata": {
  "kernelspec": {
   "display_name": "Python [conda env:GIS_py36]",
   "language": "python",
   "name": "conda-env-GIS_py36-py"
  },
  "language_info": {
   "codemirror_mode": {
    "name": "ipython",
    "version": 3
   },
   "file_extension": ".py",
   "mimetype": "text/x-python",
   "name": "python",
   "nbconvert_exporter": "python",
   "pygments_lexer": "ipython3",
   "version": "3.6.6"
  }
 },
 "nbformat": 4,
 "nbformat_minor": 2
}
