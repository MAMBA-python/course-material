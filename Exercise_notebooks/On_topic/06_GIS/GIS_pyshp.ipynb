{
 "cells": [
  {
   "cell_type": "markdown",
   "metadata": {},
   "source": [
    "<figure>\n",
    "   <IMG SRC=\"https://mamba-python.nl/images/logo_basis.png\" WIDTH=125 ALIGN=\"right\">\n",
    "</figure>\n",
    "    \n",
    "# Reading shapefiles using pyshp\n",
    "\n",
    "developed by Onno Ebbens\n",
    "\n",
    "\n",
    "\n",
    "this notebook is created for the Mamba python course in order to create shapefiles using pyshp"
   ]
  },
  {
   "cell_type": "markdown",
   "metadata": {},
   "source": [
    "table of content:<a class=\"anchor\" id=\"0\"></a>\n",
    "1. [import files](#1)\n",
    "2. [read shapefile data](#2)\n",
    "3. [write shapefile data](#3)\n",
    "3. [modify shapefile data](#4)\n",
    "3. [plot shapefiles](#5)"
   ]
  },
  {
   "cell_type": "markdown",
   "metadata": {},
   "source": [
    "## 1. Import files<a class=\"anchor\" id=\"1\"></a>"
   ]
  },
  {
   "cell_type": "markdown",
   "metadata": {},
   "source": [
    "to install the pyshp package use:\n",
    "\n",
    "`pip install pyshp`\n",
    "\n",
    "to import the pyshp package use:\n",
    "\n",
    "`import shapefile`\n",
    "\n",
    "note that, unlike most python modules, the module is imported by a different name than the name of the package."
   ]
  },
  {
   "cell_type": "code",
   "execution_count": 1,
   "metadata": {},
   "outputs": [],
   "source": [
    "import matplotlib.pyplot as plt\n",
    "import zipfile\n",
    "import os\n",
    "import pandas as pd\n",
    "import datetime as dt\n",
    "import numpy as np\n",
    "import shapefile"
   ]
  },
  {
   "cell_type": "markdown",
   "metadata": {},
   "source": [
    "Note the version of the pyshp module. This notebook was written for version 2.1.0."
   ]
  },
  {
   "cell_type": "code",
   "execution_count": 2,
   "metadata": {},
   "outputs": [
    {
     "name": "stdout",
     "output_type": "stream",
     "text": [
      "The version of the pyshp module is : 2.1.0\n"
     ]
    }
   ],
   "source": [
    "print(\"The version of the pyshp module is :\", shapefile.__version__)"
   ]
  },
  {
   "cell_type": "markdown",
   "metadata": {},
   "source": [
    "Set figures to appear inline (so inside the notebook) and change the style to the \"seaborn\" style. Many people find this visually more appealing than default matplotlib."
   ]
  },
  {
   "cell_type": "code",
   "execution_count": 3,
   "metadata": {},
   "outputs": [],
   "source": [
    "#settings\n",
    "%matplotlib inline\n",
    "plt.style.use('seaborn')"
   ]
  },
  {
   "cell_type": "markdown",
   "metadata": {},
   "source": [
    "## 2. Read shapefile data <a class=\"anchor\" id=\"2\"></a>"
   ]
  },
  {
   "cell_type": "code",
   "execution_count": 4,
   "metadata": {},
   "outputs": [],
   "source": [
    "fileName = r\"shapefile/Rotterdam_centraal.shp\" ##file name\n",
    "r = shapefile.Reader(fileName)"
   ]
  },
  {
   "cell_type": "markdown",
   "metadata": {},
   "source": [
    "List of shapes in shapefile:"
   ]
  },
  {
   "cell_type": "code",
   "execution_count": 5,
   "metadata": {
    "scrolled": true
   },
   "outputs": [
    {
     "data": {
      "text/plain": [
       "Shapes: [<shapefile.Shape object at 0x000001D4A54C48D0>, <shapefile.Shape object at 0x000001D4A54C4A90>]"
      ]
     },
     "execution_count": 5,
     "metadata": {},
     "output_type": "execute_result"
    }
   ],
   "source": [
    "r.shapes()"
   ]
  },
  {
   "cell_type": "markdown",
   "metadata": {},
   "source": [
    "Print the bounding box (bbox) of the shapefile ([xmin, ymin, xmax, ymax]):"
   ]
  },
  {
   "cell_type": "code",
   "execution_count": 6,
   "metadata": {},
   "outputs": [
    {
     "data": {
      "text/plain": [
       "[91628.95841351096, 437487.57917564095, 91948.86010544216, 437913.434160098]"
      ]
     },
     "execution_count": 6,
     "metadata": {},
     "output_type": "execute_result"
    }
   ],
   "source": [
    "r.bbox"
   ]
  },
  {
   "cell_type": "markdown",
   "metadata": {},
   "source": [
    "## 3. Write shapefile data <a class=\"anchor\" id=\"3\"></a>\n",
    "Write shapefile using `shapefile.Writer` "
   ]
  },
  {
   "cell_type": "code",
   "execution_count": 7,
   "metadata": {},
   "outputs": [],
   "source": [
    "w = shapefile.Writer(target=r\"shapefile/Rotterdam_centraal_v2.shp\",  shapeType=r.shapeType)\n",
    "w.fields = r.fields[1:]\n",
    "\n",
    "for shprec in r.iterShapeRecords():\n",
    "    points = shprec.shape.points\n",
    "    w.poly([points])\n",
    "    w.record(shprec.record[0])\n",
    "\n",
    "w.close()"
   ]
  },
  {
   "cell_type": "markdown",
   "metadata": {},
   "source": [
    "## 4. Modify shapefile data <a class=\"anchor\" id=\"4\"></a>"
   ]
  },
  {
   "cell_type": "code",
   "execution_count": 8,
   "metadata": {},
   "outputs": [],
   "source": [
    "w = shapefile.Writer(target=r\"shapefile/Rotterdam_centraal_resized.shp\", shapeType=r.shapeType)\n",
    "w.fields = r.fields[1:]\n",
    "\n",
    "for shprec in r.iterShapeRecords():\n",
    "    points = shprec.shape.points\n",
    "    \n",
    "    point1 = points[0]\n",
    "    point2 = points[1]\n",
    "    point3 = points[2]\n",
    "    point4 = points[3]\n",
    "\n",
    "    avgX = (point1[0] + point2[0] + point3[0] + point4[0])/4\n",
    "    avgY = (point1[1] + point2[1] + point3[1] + point4[1])/4\n",
    "\n",
    "    newX1 = 1.7*(point1[0] - avgX) + avgX\n",
    "    newX2 = 1.7*(point2[0] - avgX) + avgX\n",
    "    newX3 = 1.7*(point3[0] - avgX) + avgX\n",
    "    newX4 = 1.7*(point4[0] - avgX) + avgX\n",
    "\n",
    "    newY1 = 1.7*(point1[1] - avgY) + avgY\n",
    "    newY2 = 1.7*(point2[1] - avgY) + avgY\n",
    "    newY3 = 1.7*(point3[1] - avgY) + avgY\n",
    "    newY4 = 1.7*(point4[1] - avgY) + avgY\n",
    "\n",
    "    newPoint1 = [newX1, newY1]\n",
    "    newPoint2 = [newX2, newY2]\n",
    "    newPoint3 = [newX3, newY3]\n",
    "    newPoint4 = [newX4, newY4]\n",
    "    \n",
    "    \n",
    "\n",
    "    newPoints = [newPoint1, newPoint2, newPoint3, newPoint4, newPoint1, \n",
    "    newPoint1]\n",
    "\n",
    "    w.poly([newPoints])\n",
    "    w.record(shprec.record[0])\n",
    "\n",
    "w.close()"
   ]
  },
  {
   "cell_type": "markdown",
   "metadata": {
    "collapsed": true
   },
   "source": [
    "## 5. Plot shapefiles<a id=\"5\"></a>\n",
    "\n",
    "For plotting polygons the `descartes` package is recommended. This package might also need to be installed using `pip`."
   ]
  },
  {
   "cell_type": "code",
   "execution_count": 9,
   "metadata": {},
   "outputs": [],
   "source": [
    "# Import descartes and matplotlib.pyplot\n",
    "from descartes import PolygonPatch\n",
    "import matplotlib.pyplot as plt"
   ]
  },
  {
   "cell_type": "code",
   "execution_count": 10,
   "metadata": {},
   "outputs": [
    {
     "data": {
      "text/plain": [
       "(437487.57917564095, 437913.434160098)"
      ]
     },
     "execution_count": 10,
     "metadata": {},
     "output_type": "execute_result"
    },
    {
     "data": {
      "image/png": "[encoded data removed]",
      "text/plain": [
       "<Figure size 720x720 with 1 Axes>"
      ]
     },
     "metadata": {},
     "output_type": "display_data"
    }
   ],
   "source": [
    "# Create a figure \n",
    "fig, ax = plt.subplots(1, 1, figsize=(10, 10))\n",
    "\n",
    "# Loop over shapes and add patches based on the `__geo_interface__` attribute:\n",
    "for ishp in r.shapes():\n",
    "    poly = ishp.__geo_interface__\n",
    "    # Set facecolor, edgecolor, transparency\n",
    "    polypatch = PolygonPatch(poly, fc=\"b\", ec=\"b\", alpha=0.5)\n",
    "    ax.add_patch(polypatch)\n",
    "\n",
    "# Manually set ax limits as adding patches does not automatically change the view window:\n",
    "ax.set_xlim(r.bbox[0], r.bbox[2])\n",
    "ax.set_ylim(r.bbox[1], r.bbox[3])"
   ]
  },
  {
   "cell_type": "code",
   "execution_count": null,
   "metadata": {},
   "outputs": [],
   "source": []
  }
 ],
 "metadata": {
  "kernelspec": {
   "display_name": "Python 3",
   "language": "python",
   "name": "python3"
  },
  "language_info": {
   "codemirror_mode": {
    "name": "ipython",
    "version": 3
   },
   "file_extension": ".py",
   "mimetype": "text/x-python",
   "name": "python",
   "nbconvert_exporter": "python",
   "pygments_lexer": "ipython3",
   "version": "3.7.2"
  }
 },
 "nbformat": 4,
 "nbformat_minor": 2
}
