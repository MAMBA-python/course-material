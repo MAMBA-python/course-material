{
 "cells": [
  {
   "cell_type": "markdown",
   "metadata": {},
   "source": [
    "<figure>\n",
    "   <IMG SRC=\"https://mamba-python.nl/images/logo_basis.png\" WIDTH=125 ALIGN=\"right\">\n",
    "</figure>\n",
    "\n",
    "# Geopandas\n",
    "_developed by Davíd Brakenhoff & Onno Ebbens_\n",
    "<hr>\n",
    "\n",
    "This notebook shows some of the basic functionality of the geopandas module. Geopandas combines the power of shapefiles with the power of Pandas for working with large datasets.\n",
    "\n",
    "### Contents<a id=\"top\"></a>\n",
    "1. [Installing geopandas](#1)\n",
    "2. [Importing geopandas](#2)\n",
    "3. [Reading shapefiles](#3)\n",
    "4. [Viewing attribute table](#4)\n",
    "5. [Plotting data](#5)\n",
    "6. [Add basemap to plot](#6)"
   ]
  },
  {
   "cell_type": "markdown",
   "metadata": {},
   "source": [
    "## 1. [Installing geopandas](#top)<a id=\"1\"></a>\n",
    "`geopandas`is a notoriously difficult module to install without getting vague errors. It has gotten better recently (this was written early 2019) so hopefully this step will be a breeze for you. Otherwise, if you do have trouble, you're not the only one.\n",
    "\n",
    "There are two methods of getting geopandas that have worked consistently on my PC. The first uses `conda` which is available if you have installed the Anaconda Python distribution or Miniconda distribution. The second uses precompiled packages (called wheels) from a website.\n",
    "\n",
    "### Using conda\n",
    "This step assumes you have `conda` installed, via the Anaconda Python Distribution or Miniconda, and it's quite straightforward. Type `conda install geopandas` into the Anaconda Prompt, and wait. Confirm the installation by pressing `y` when prompted. Afterwards start a new Anaconda Prompt, type `python` and then once Python has started up, type `import geopandas`. If you don't see any errors, congratulations, this worked so you can continue to step 2.\n",
    "\n",
    "If you do see an error you could try to install geopandas from the conda-forge channel (a different location from which to get python packages). You can do this by typing `conda install -c conda-forge geopandas` into the Anaconda Prompt.\n",
    "\n",
    "### Using wheels and pip\n",
    "Download the following packages from this [Christoph Gohlke's website](https://www.lfd.uci.edu/~gohlke/pythonlibs):\n",
    "- GDAL\n",
    "- Fiona\n",
    "- geopandas\n",
    "\n",
    "Use CTRL+F to find the download link on the page. Be sure to download the correct version of the package. The Python version should match your Python version (see Help > About in the Jupyter Notebook if you're not sure which Python version you have). Also the architecture should match (i.e. 64bits vs 32bits). For example:\n",
    "\n",
    "- GDAL‑2.3.3‑cp37‑cp37m‑win_amd64.whl\n",
    "\n",
    "This is the latest GDAL version as of writing this notebook for Python 3.7 (as can be seen from the cp37 in the name), for 64-bits Python (as derived from the amd64 in the name). This is usually the one you want (latest Python, 64 bits).\n",
    "\n",
    "Once you have downloaded the correct files, open Anaconda Prompt, and navigate to the directory in which you saved your downloads. Now type the following commands (the order is important):\n",
    "1. `pip install GDAL‑2.3.3‑cp37‑cp37m‑win_amd64.whl`\n",
    "2. `pip install Fiona‑1.8.5‑cp37‑cp37m‑win_amd64.whl`\n",
    "3. `pip install geopandas‑0.4.1‑py2.py3‑none‑any.whl` (Note that the geopandas download is not python or archtecture specific)\n",
    "\n",
    "If these steps complete succesfully, open a new Anaconda Prompt, start Python and try to `import geopandas`. If it works without any error messages, congrats and move to step 2.\n"
   ]
  },
  {
   "cell_type": "markdown",
   "metadata": {},
   "source": [
    "## 2. [Importing geopandas](#top)<a id=\"2\"></a>\n",
    "\n",
    "This is easy!"
   ]
  },
  {
   "cell_type": "code",
   "execution_count": null,
   "metadata": {},
   "outputs": [],
   "source": [
    "import geopandas as gpd"
   ]
  },
  {
   "cell_type": "markdown",
   "metadata": {},
   "source": [
    "Set plotting settings to show figures inline."
   ]
  },
  {
   "cell_type": "code",
   "execution_count": null,
   "metadata": {},
   "outputs": [],
   "source": [
    "%matplotlib inline"
   ]
  },
  {
   "cell_type": "markdown",
   "metadata": {},
   "source": [
    "## 3. [Reading shapefiles](#top)<a id=\"3\"></a>\n",
    "This is done using the `gpd.read_file()` function"
   ]
  },
  {
   "cell_type": "code",
   "execution_count": null,
   "metadata": {},
   "outputs": [],
   "source": [
    "fileName = r\"shapefiles/Rotterdam_centraal.shp\" ##file name\n",
    "gdf = gpd.read_file(fileName)"
   ]
  },
  {
   "cell_type": "markdown",
   "metadata": {},
   "source": []
  },
  {
   "cell_type": "markdown",
   "metadata": {},
   "source": [
    "## 4. [Viewing attribute table](#top)<a id=\"4\"></a>\n",
    "The attribute table is loaded as a GeoDataFrame which is similar to a `pandas.DataFrame`. This one isn't very exciting, but you get the idea."
   ]
  },
  {
   "cell_type": "code",
   "execution_count": null,
   "metadata": {
    "scrolled": true
   },
   "outputs": [],
   "source": [
    "gdf"
   ]
  },
  {
   "cell_type": "code",
   "execution_count": null,
   "metadata": {},
   "outputs": [],
   "source": [
    "print(type(gdf))"
   ]
  },
  {
   "cell_type": "markdown",
   "metadata": {},
   "source": [
    "Operations you can do on `pandas.DataFrames` are also available on `GeoDataFrames`. "
   ]
  },
  {
   "cell_type": "code",
   "execution_count": null,
   "metadata": {},
   "outputs": [],
   "source": [
    "gdf.loc[1, \"id\"]"
   ]
  },
  {
   "cell_type": "code",
   "execution_count": null,
   "metadata": {},
   "outputs": [],
   "source": [
    "gdf[\"id\"].sum()"
   ]
  },
  {
   "cell_type": "markdown",
   "metadata": {},
   "source": [
    "## 5. [Plotting data](#top)<a id=\"5\"></a>\n",
    "\n",
    "Plotting a shapefile using geopandas is easy!"
   ]
  },
  {
   "cell_type": "code",
   "execution_count": null,
   "metadata": {},
   "outputs": [],
   "source": [
    "gdf.plot()"
   ]
  },
  {
   "cell_type": "markdown",
   "metadata": {},
   "source": [
    "\n",
    "## 6. [Add a basemap](#top)<a id=\"6\"></a>\n",
    "\n",
    "You can add a basemap to your plot with the `contextily` package. Before you install `contextily` you have to install `cartopy`. \n",
    "\n",
    "Just like `gdal`, `fiona` and `geopandas` you can download `cartopy` from [Christoph Gohlke's website](https://www.lfd.uci.edu/~gohlke/pythonlibs) and install with:<br><br>\n",
    "`pip install Cartopy‑0.17.0‑cp37‑cp37m‑win_amd64.whl`\n",
    "\n",
    "Once you've installed this succesfully you can install `contextily` with:<br><br>\n",
    "`pip install contextily==1.0rc2`\n",
    "\n",
    "We specify the version (`1.0rc2`) because it contains the functions we want to use. The latest official release (`v0.99.0`) does not yet contain these functions.\n",
    "\n",
    "\n",
    "Adding a basemap requires just the following steps:\n",
    "1. convert the coördinate reference system (crs) of your `GeoDataFrame` to lat/lon coördinates.\n",
    "2. plot the `GeoDataFrame` with `gdf.plot()`\n",
    "3. use the `add_basemap` function from the `contextily` package to add a basemap to the plot"
   ]
  },
  {
   "cell_type": "code",
   "execution_count": null,
   "metadata": {},
   "outputs": [],
   "source": [
    "import contextily as ctx"
   ]
  },
  {
   "cell_type": "markdown",
   "metadata": {},
   "source": [
    "## 6.1 convert crs\n",
    "\n",
    "`contextily` requires a specific coördinate reference system (epsg 3857). Therefore we need to convert the crs from our `GeoDataFrame` to epsg 3857. This is easily done with the `to_crs` method. If your current `GeoDataFrame` has no crs at all the `to_crs` method won't work and you have to specify the `crs` first. The current crs is an attribute of your `GeoDataFrame`: `gdf.crs`."
   ]
  },
  {
   "cell_type": "code",
   "execution_count": null,
   "metadata": {},
   "outputs": [],
   "source": [
    "gdf = gdf.to_crs(epsg=3857)"
   ]
  },
  {
   "cell_type": "code",
   "execution_count": null,
   "metadata": {},
   "outputs": [],
   "source": [
    "ax = gdf.plot(figsize=(10, 10), alpha=0.5, edgecolor='k')\n",
    "ctx.add_basemap(ax)"
   ]
  }
 ],
 "metadata": {
  "kernelspec": {
   "display_name": "Python 3",
   "language": "python",
   "name": "python3"
  },
  "language_info": {
   "codemirror_mode": {
    "name": "ipython",
    "version": 3
   },
   "file_extension": ".py",
   "mimetype": "text/x-python",
   "name": "python",
   "nbconvert_exporter": "python",
   "pygments_lexer": "ipython3",
   "version": "3.6.8"
  }
 },
 "nbformat": 4,
 "nbformat_minor": 2
}
