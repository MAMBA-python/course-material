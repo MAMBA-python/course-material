{
 "cells": [
  {
   "cell_type": "code",
   "execution_count": 1,
   "metadata": {},
   "outputs": [
    {
     "name": "stdout",
     "output_type": "stream",
     "text": [
      "0.8.3\n"
     ]
    }
   ],
   "source": [
    "import os\n",
    "import folium\n",
    "\n",
    "print(folium.__version__)"
   ]
  },
  {
   "cell_type": "code",
   "execution_count": 2,
   "metadata": {},
   "outputs": [
    {
     "data": {
      "text/html": [
       "<div style=\"width:100%;\"><div style=\"position:relative;width:100%;height:0;padding-bottom:60%;\"><iframe src=\"data:text/html;charset=utf-8;base64,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\" style=\"position:absolute;width:100%;height:100%;left:0;top:0;border:none !important;\" allowfullscreen webkitallowfullscreen mozallowfullscreen></iframe></div></div>"
      ],
      "text/plain": [
       "<folium.folium.Map at 0x185b1801c88>"
      ]
     },
     "execution_count": 2,
     "metadata": {},
     "output_type": "execute_result"
    }
   ],
   "source": [
    "m = folium.Map(location=[41, -70], zoom_start=5, tiles=None)\n",
    "\n",
    "\n",
    "folium.raster_layers.TileLayer(\n",
    "    tiles='http://{s}.google.com/vt/lyrs=s&x={x}&y={y}&z={z}',\n",
    "    attr='google',\n",
    "    name='google maps',\n",
    "    max_zoom=20,\n",
    "    subdomains=['mt0', 'mt1', 'mt2', 'mt3'],\n",
    "    overlay=False,\n",
    "    control=True,\n",
    ").add_to(m)\n",
    "\n",
    "folium.raster_layers.TileLayer(\n",
    "    tiles='http://{s}.google.com/vt/lyrs=m&x={x}&y={y}&z={z}',\n",
    "    attr='google',\n",
    "    name='google street view',\n",
    "    max_zoom=20,\n",
    "    subdomains=['mt0', 'mt1', 'mt2', 'mt3'],\n",
    "    overlay=False,\n",
    "    control=True,\n",
    ").add_to(m)\n",
    "\n",
    "\n",
    "folium.raster_layers.WmsTileLayer(\n",
    "    url='https://demo.boundlessgeo.com/geoserver/ows?',\n",
    "    layers='nasa:bluemarble',\n",
    "    name='bluemarble',\n",
    "    fmt='image/png',\n",
    "    overlay=False,\n",
    "    control=True,\n",
    ").add_to(m)\n",
    "\n",
    "\n",
    "folium.raster_layers.WmsTileLayer(\n",
    "    url='http://mesonet.agron.iastate.edu/cgi-bin/wms/nexrad/n0r.cgi',\n",
    "    name='test',\n",
    "    fmt='image/png',\n",
    "    layers='nexrad-n0r-900913',\n",
    "    attr=u'Weather data © 2012 IEM Nexrad',\n",
    "    transparent=True,\n",
    "    overlay=True,\n",
    "    control=True,\n",
    ").add_to(m)\n",
    "\n",
    "folium.LayerControl().add_to(m)\n",
    "\n",
    "m.save(os.path.join('results', 'WMS_and_WMTS.html'))\n",
    "\n",
    "m"
   ]
  },
  {
   "cell_type": "code",
   "execution_count": null,
   "metadata": {},
   "outputs": [],
   "source": []
  }
 ],
 "metadata": {
  "kernelspec": {
   "display_name": "Python 3",
   "language": "python",
   "name": "python3"
  },
  "language_info": {
   "codemirror_mode": {
    "name": "ipython",
    "version": 3
   },
   "file_extension": ".py",
   "mimetype": "text/x-python",
   "name": "python",
   "nbconvert_exporter": "python",
   "pygments_lexer": "ipython3",
   "version": "3.6.8"
  }
 },
 "nbformat": 4,
 "nbformat_minor": 1
}
