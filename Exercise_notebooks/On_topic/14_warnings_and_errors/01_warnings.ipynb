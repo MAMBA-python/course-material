{
 "cells": [
  {
   "cell_type": "markdown",
   "metadata": {},
   "source": [
    "<figure>\n",
    "   <IMG SRC=\"https://mamba-python.nl/images/logo_basis.png\" WIDTH=125 ALIGN=\"right\">\n",
    "</figure>\n",
    "\n",
    "# Warnings\n",
    "_developed by Onno Ebbens_\n",
    "    \n",
    "<hr>\n",
    "\n",
    "Warnings in Python zijn bedoelt om een gebruiker van code te waarschuwen maar wel door te gaan met het uitvoeren van de code. In dit notebook wordt uitgelegd welke informatie een warning bevat, hoe je warnings juist wel of niet kan weergeven en hoe je zelf een warning maakt. \n",
    "    \n",
    "Benodigde voorkennis:\n",
    "- begrijpen hoe je een functie definieert, aanroept en aanpast.\n",
    "- weten wat een module in Python is\n",
    "\n",
    "### Inhoudsopgave<a id=\"top\"></a>\n",
    "1. [Warnings](#1)\n",
    "2. [Maak warning](#2)\n",
    "3. [Filter warnings](#3)\n",
    "4. [Antwoorden](#Antwoorden)"
   ]
  },
  {
   "cell_type": "markdown",
   "metadata": {},
   "source": [
    "## 1. [Warnings](#top)<a id=\"1\"></a>\n",
    "\n",
    "Hieronder zijn twee voorbeelden opgenomen van stukken code die een warning geven. Hoe en of warnings worden weergegeven verandert vaak. Het kan daarom voorkomen dat je geen warning krijgt bij onderstaande code omdat je een andere versie gebruikt van een package, ipython of jupyter notebook. Deze notebook is getest met de volgende versies:\n",
    "- Python 3.8.6\n",
    "- IPython 7.12.0\n",
    "- numpy 1.18.1\n",
    "- jupyter notebook 6.1.4"
   ]
  },
  {
   "cell_type": "code",
   "execution_count": 5,
   "metadata": {},
   "outputs": [
    {
     "name": "stderr",
     "output_type": "stream",
     "text": [
      "<ipython-input-5-aa695b44b1ae>:3: DeprecationWarning: This function is deprecated. Please call randint(0, 100 + 1) instead\n",
      "  np.random.random_integers(0, 100)\n"
     ]
    },
    {
     "data": {
      "text/plain": [
       "33"
      ]
     },
     "execution_count": 5,
     "metadata": {},
     "output_type": "execute_result"
    }
   ],
   "source": [
    "# voorbeeld van code die een DeprecationWarning geeft\n",
    "import numpy as np\n",
    "np.random.random_integers(0, 100)"
   ]
  },
  {
   "cell_type": "code",
   "execution_count": 6,
   "metadata": {},
   "outputs": [
    {
     "name": "stderr",
     "output_type": "stream",
     "text": [
      "<>:3: SyntaxWarning: \"is\" with a literal. Did you mean \"==\"?\n",
      "<>:3: SyntaxWarning: \"is\" with a literal. Did you mean \"==\"?\n",
      "<ipython-input-6-a6f55ca3c6a7>:3: SyntaxWarning: \"is\" with a literal. Did you mean \"==\"?\n",
      "  x is 200\n"
     ]
    },
    {
     "data": {
      "text/plain": [
       "True"
      ]
     },
     "execution_count": 6,
     "metadata": {},
     "output_type": "execute_result"
    }
   ],
   "source": [
    "# voorbeeld van code die een SyntaxWarning geeft\n",
    "x = 200\n",
    "x is 200"
   ]
  },
  {
   "cell_type": "markdown",
   "metadata": {},
   "source": [
    "<hr>\n",
    "\n",
    "#### Opgave 1 <a name=\"opdr1\"></a>\n",
    "\n",
    "Bekijk de `SyntaxWarning` in het voorbeeld hierboven. Pas de code zo aan dat er geen `SyntaxWarning` wordt gegenereerd bij het runnen. "
   ]
  },
  {
   "cell_type": "code",
   "execution_count": null,
   "metadata": {},
   "outputs": [],
   "source": []
  },
  {
   "cell_type": "markdown",
   "metadata": {},
   "source": [
    "<a href=\"#antw1\">Antwoord opgave 1</a>\n",
    "<hr>"
   ]
  },
  {
   "cell_type": "markdown",
   "metadata": {},
   "source": [
    "Een warning is altijd opgebouwd uit de volgende onderdelen:\n",
    "- Module : de naam van het .py bestand waarin de code staat die een warning geeft.\n",
    "- Line : het regelnummer (line number) van de code die bij het aanroepen een warning geeft.\n",
    "- Category : het type warning bijv. `DeprecationWarning` of `SyntaxWarning`\n",
    "- Message : het bericht wat bij de warning hoort.\n",
    "\n",
    "In het voorbeeld van de `DeprecationWarning` hierboven zie je de onderdelen terug:\n",
    "- Module : `<ipython-input-10-34edcf69f70c>`, normaal is dit een .py bestand maar omdat dit gerund wordt in een jupyter notebook werkt dit net even anders.\n",
    "- Line : `:3:` het regelnummer van de cell waarin de warning wordt veroorzaakt \n",
    "- Category : `DeprecationWarning`\n",
    "- Message : `This function is deprecated. Please call randint(0, 100 + 1) instead`\n"
   ]
  },
  {
   "cell_type": "markdown",
   "metadata": {},
   "source": [
    "<hr>\n",
    "\n",
    "#### Opgave 2 <a name=\"opdr2\"></a>\n",
    "\n",
    "Bekijk de `SyntaxWarning` in het voorbeeld hierboven. Wat is de warning message?"
   ]
  },
  {
   "cell_type": "code",
   "execution_count": null,
   "metadata": {},
   "outputs": [],
   "source": []
  },
  {
   "cell_type": "markdown",
   "metadata": {},
   "source": [
    "<a href=\"#antw2\">Antwoord opgave 2</a>\n",
    "<hr>"
   ]
  },
  {
   "cell_type": "markdown",
   "metadata": {},
   "source": [
    "## 2. [Maak warning](#top)<a id=\"2\"></a>\n",
    "\n"
   ]
  },
  {
   "cell_type": "markdown",
   "metadata": {},
   "source": [
    "Als je code schrijft kan het handig zijn om daarin ook waarschuwingen op te nemen. De meest eenvoudige manier om een waarschuwing te maken is met de functie `warnings.warn()`."
   ]
  },
  {
   "cell_type": "code",
   "execution_count": 7,
   "metadata": {},
   "outputs": [
    {
     "name": "stderr",
     "output_type": "stream",
     "text": [
      "<ipython-input-7-82e42a9d3f82>:2: UserWarning: Dit is mijn waarschuwing\n",
      "  warnings.warn('Dit is mijn waarschuwing')\n"
     ]
    }
   ],
   "source": [
    "import warnings\n",
    "warnings.warn('Dit is mijn waarschuwing')"
   ]
  },
  {
   "cell_type": "markdown",
   "metadata": {},
   "source": [
    "De standaard categorie is de `UserWarning`. Mocht je een warning van een andere categorie willen gebruiken dan kan dat ook. Een overzicht van alle standaard categoriën staat [hier](https://docs.python.org/3/library/warnings.html#warning-categories). In het voorbeeld hieronder zie je hoe je een `ImportWarning` maakt. Eerst wordt `warnings.resetwarnings()` aangeroepen om te zorgen dat de `ImportWarning` ook daadwerkelijk getoond wordt. Meer daarover in [hoofdstuk 3](#3)."
   ]
  },
  {
   "cell_type": "code",
   "execution_count": 8,
   "metadata": {},
   "outputs": [
    {
     "name": "stderr",
     "output_type": "stream",
     "text": [
      "<ipython-input-8-f7aaeb298966>:2: ImportWarning: deze warning gebruik je om te waarschuwen bij het importeren van een module of package\n",
      "  warnings.warn('deze warning gebruik je om te waarschuwen bij het importeren van een module of package',\n"
     ]
    }
   ],
   "source": [
    "warnings.resetwarnings()\n",
    "warnings.warn('deze warning gebruik je om te waarschuwen bij het importeren van een module of package',\n",
    "              category=ImportWarning)"
   ]
  },
  {
   "cell_type": "markdown",
   "metadata": {},
   "source": [
    "<hr>\n",
    "\n",
    "#### Opgave 3 <a name=\"opdr3\"></a>\n",
    "\n",
    "Stel je voor: Je hebt een Python package met onderstaande functie `CountCharactersInString`. Nu heb je net een cursus gevolgd en geleerd dat de naam van een functie bij voorkeur wordt geschreven met kleine letters, gescheiden door een underscore. Je wil daarom de functienaam veranderen naar `count_characters_in_string`. Echter, de `CountCharactersInString` functie wordt door meerdere collega's gebruikt. Om te voorkomen dat je collega's foutmeldingen krijgen besluit je de oude functie te laten staan en een waarschuwing op te nemen dat deze in de toekomst verdwijnt. \n",
    "\n",
    "Maak de nieuwe functie en neem een waarschuwing op in de oude functie."
   ]
  },
  {
   "cell_type": "code",
   "execution_count": 9,
   "metadata": {},
   "outputs": [
    {
     "name": "stderr",
     "output_type": "stream",
     "text": [
      "C:\\Anaconda3\\envs\\dev\\lib\\site-packages\\ipykernel\\ipkernel.py:283: DeprecationWarning: `should_run_async` will not call `transform_cell` automatically in the future. Please pass the result to `transformed_cell` argument and any exception that happen during thetransform in `preprocessing_exc_tuple` in IPython 7.17 and above.\n",
      "  and should_run_async(code)\n"
     ]
    }
   ],
   "source": [
    "def CountCharactersInString(s):\n",
    "    return len(s)"
   ]
  },
  {
   "cell_type": "markdown",
   "metadata": {},
   "source": [
    "<a href=\"#antw3\">Antwoord opgave 3</a>\n",
    "<hr>"
   ]
  },
  {
   "cell_type": "markdown",
   "metadata": {},
   "source": [
    "## 3. [Filter warnings](#top)<a id=\"3\"></a>\n",
    "\n"
   ]
  },
  {
   "cell_type": "markdown",
   "metadata": {},
   "source": [
    "Je kan zelf kiezen welke warnings je wel en niet wil laten zien. Dit doe je door een filter in te stellen. De meest simpele manier van het instellen van een filter is via `warnings.simplefilter()`. In het voorbeeld hieronder zetten we de filter op `\"ignore\"`. Hiermee geven we aan dat vanaf nu alle warnings genegeerd moeten worden."
   ]
  },
  {
   "cell_type": "code",
   "execution_count": 10,
   "metadata": {},
   "outputs": [
    {
     "data": {
      "text/plain": [
       "42"
      ]
     },
     "execution_count": 10,
     "metadata": {},
     "output_type": "execute_result"
    }
   ],
   "source": [
    "import warnings\n",
    "warnings.simplefilter(\"ignore\")\n",
    "np.random.random_integers(0, 100)"
   ]
  },
  {
   "cell_type": "markdown",
   "metadata": {},
   "source": [
    "Het is ook mogelijk om te zeggen dat je een error wil krijgen als in je code een warning voorkomt:"
   ]
  },
  {
   "cell_type": "code",
   "execution_count": 11,
   "metadata": {},
   "outputs": [
    {
     "ename": "DeprecationWarning",
     "evalue": "This function is deprecated. Please call randint(0, 100 + 1) instead",
     "output_type": "error",
     "traceback": [
      "\u001b[1;31m---------------------------------------------------------------------------\u001b[0m",
      "\u001b[1;31mDeprecationWarning\u001b[0m                        Traceback (most recent call last)",
      "\u001b[1;32m<ipython-input-11-dc1de308bc47>\u001b[0m in \u001b[0;36m<module>\u001b[1;34m\u001b[0m\n\u001b[0;32m      1\u001b[0m \u001b[0mwarnings\u001b[0m\u001b[1;33m.\u001b[0m\u001b[0msimplefilter\u001b[0m\u001b[1;33m(\u001b[0m\u001b[1;34m\"error\"\u001b[0m\u001b[1;33m)\u001b[0m\u001b[1;33m\u001b[0m\u001b[1;33m\u001b[0m\u001b[0m\n\u001b[1;32m----> 2\u001b[1;33m \u001b[0mnp\u001b[0m\u001b[1;33m.\u001b[0m\u001b[0mrandom\u001b[0m\u001b[1;33m.\u001b[0m\u001b[0mrandom_integers\u001b[0m\u001b[1;33m(\u001b[0m\u001b[1;36m0\u001b[0m\u001b[1;33m,\u001b[0m \u001b[1;36m100\u001b[0m\u001b[1;33m)\u001b[0m\u001b[1;33m\u001b[0m\u001b[1;33m\u001b[0m\u001b[0m\n\u001b[0m",
      "\u001b[1;32mmtrand.pyx\u001b[0m in \u001b[0;36mnumpy.random.mtrand.RandomState.random_integers\u001b[1;34m()\u001b[0m\n",
      "\u001b[1;31mDeprecationWarning\u001b[0m: This function is deprecated. Please call randint(0, 100 + 1) instead"
     ]
    }
   ],
   "source": [
    "warnings.simplefilter(\"error\")\n",
    "np.random.random_integers(0, 100)"
   ]
  },
  {
   "cell_type": "markdown",
   "metadata": {},
   "source": [
    "Met de functie `warnings.filterwarnings()` is het mogelijk om complexere acties en filters in te stellen. Hieronder stellen we in dat alle `DeprecationWarnings` worden genegeerd. Let op! Herstart eerst de kernel zodat de filters die hierboven zijn gedefinieerd niet meer gelden."
   ]
  },
  {
   "cell_type": "code",
   "execution_count": null,
   "metadata": {},
   "outputs": [],
   "source": [
    "import warnings\n",
    "import numpy as np\n",
    "warnings.filterwarnings('ignore', category=DeprecationWarning)\n",
    "\n",
    "np.random.random_integers(0, 100)"
   ]
  },
  {
   "cell_type": "markdown",
   "metadata": {},
   "source": [
    "In de functie `warnings.filterwarnings` geef je aan welke actie je wil uitvoeren voor een bepaalde warning. Je geeft eerste de actie aan en daarna op welke soort warnings deze actie moet worden uitgevoerd. Je kan kiezen uit de volgende acties:\n",
    "- \"ignore\" : laat de warning nooit zien.\n",
    "- \"always\" : laat de warning altijd zien.\n",
    "- \"error\" : laat de warning zien als een error.\n",
    "- \"default\" : laat de warning alleen zien wanneer deze voor het eerst opkomt. Dus laat nooit twee keer dezelfde warning zien. Een warning is hetzelfde als deze op dezelfde regel in dezelfde module wordt getoond.\n",
    "- \"module\" : hetzelfde als bij \"default\" met het verschil dat een warning nu als hetzelfde wordt gezien als die uit dezelfde module komt als een eerdere warning. Voor meer informatie over modules zie [dit notebook](../20_modules_and_packages/01_modules_and_packages.ipynb).\n",
    "- \"once\" : hetzelfde als bij \"default\" alleen nu is het van belang dat het bericht van de warning exact hetzelfde is en maakt de regel en module niet uit.\n",
    "\n",
    "Na het aangeven van de actie geef je aan op welke warnings deze acties worden uitgevoerd. Je kan de warnings daarbij filteren op de volgende eigenschappen:\n",
    "- message : filter warnings met een bepaald bericht\n",
    "- category : filter warnings van een bepaalde categorie\n",
    "- module : filter warnings uit een bepaald .py bestand (module).\n",
    "- lineno : filter warnings die op een bepaalde regel voorkomen.\n",
    "\n",
    "Als je meerdere filters opgeeft dan worden alleen warnings gefilterd die aan alle voorwaarden voldoen. Hieronder een voorbeeld waarin we aangeven dat alle warnings altijd getoond moeten worden als de warnings:\n",
    "- van de categorie `DeprecationWarning` zijn, en\n",
    "- een warning message hebben die begint met: `\"This function is deprecated. Please call\"`."
   ]
  },
  {
   "cell_type": "code",
   "execution_count": null,
   "metadata": {},
   "outputs": [],
   "source": [
    "from importlib import reload\n",
    "reload(warnings)\n",
    "\n",
    "warnings.filterwarnings('always', category=DeprecationWarning, \n",
    "                        message=\"This function is deprecated. Please call\")\n",
    "np.random.random_integers(0, 100)"
   ]
  },
  {
   "cell_type": "markdown",
   "metadata": {},
   "source": [
    "Nog een voorbeeld waarin we aangeven dat alle warnings een error moeten veroorzaken als de warnings:\n",
    "- van de categorie `UserWarning` zijn, en\n",
    "- op regelnummer `3` worden uitgevoerd."
   ]
  },
  {
   "cell_type": "code",
   "execution_count": null,
   "metadata": {},
   "outputs": [],
   "source": [
    "warnings.filterwarnings('error', category=UserWarning, lineno=3)\n",
    "warnings.warn('deze regel geeft een waarschuwing maar geen error')\n",
    "warnings.warn('deze regel geef wel een error')"
   ]
  },
  {
   "cell_type": "markdown",
   "metadata": {},
   "source": [
    "<hr>\n",
    "\n",
    "#### Opgave 4 <a name=\"opdr4\"></a>\n",
    "\n",
    "Stel zelf een nieuwe regel in om alleen `UserWarnings` te laten zien bij de eerste keer dat ze op komen."
   ]
  },
  {
   "cell_type": "code",
   "execution_count": 2,
   "metadata": {},
   "outputs": [
    {
     "name": "stderr",
     "output_type": "stream",
     "text": [
      "<ipython-input-2-be0f6ab80fff>:6: UserWarning: dit is een test userwarning\n",
      "  warnings.warn('dit is een test userwarning')\n"
     ]
    }
   ],
   "source": []
  },
  {
   "cell_type": "markdown",
   "metadata": {},
   "source": [
    "<a href=\"#antw4\">Antwoord opgave 4</a>\n",
    "<hr>"
   ]
  },
  {
   "cell_type": "markdown",
   "metadata": {},
   "source": [
    "Standaard zijn al een aantal filters ingesteld. Deze worden bijgehouden in de list `warnings.filters`. Zodra je zelf een filter toevoegt met `warnings.filterwarnings` wordt deze toegevoegd aan de `warnings.filters` list. Voor het runnen van onderstaande code is het handig om eerst de kernel te herstarten. Anders worden ook alle eerder ingestelde filters getoond en niet alleen de standaard filters."
   ]
  },
  {
   "cell_type": "code",
   "execution_count": 3,
   "metadata": {},
   "outputs": [
    {
     "data": {
      "text/plain": [
       "[('error', None, IPython.core.completer.ProvisionalCompleterWarning, None, 0),\n",
       " ('default', None, DeprecationWarning, '__main__', 0),\n",
       " ('ignore', None, DeprecationWarning, None, 0),\n",
       " ('ignore', None, PendingDeprecationWarning, None, 0),\n",
       " ('ignore', None, ImportWarning, None, 0),\n",
       " ('ignore', None, ResourceWarning, None, 0)]"
      ]
     },
     "execution_count": 3,
     "metadata": {},
     "output_type": "execute_result"
    }
   ],
   "source": [
    "import warnings\n",
    "\n",
    "warnings.filters"
   ]
  },
  {
   "cell_type": "markdown",
   "metadata": {},
   "source": [
    "## [Antwoorden](#top)<a id=\"Antwoorden\"></a>"
   ]
  },
  {
   "cell_type": "markdown",
   "metadata": {},
   "source": [
    "<hr>\n",
    "\n",
    "#### <a href=\"#opdr1\">Antwoord opgave 1</a> <a name=\"antw1\"></a>\n",
    "\n"
   ]
  },
  {
   "cell_type": "code",
   "execution_count": null,
   "metadata": {},
   "outputs": [],
   "source": [
    "x = 200\n",
    "x == 200"
   ]
  },
  {
   "cell_type": "markdown",
   "metadata": {},
   "source": [
    "<hr>\n",
    "\n",
    "#### <a href=\"#opdr2\">Antwoord opgave 2</a> <a name=\"antw2\"></a>\n",
    "\n",
    "De warning message is: `\"is\" with a literal. Did you mean \"==\"?`"
   ]
  },
  {
   "cell_type": "markdown",
   "metadata": {},
   "source": [
    "<hr>\n",
    "\n",
    "#### <a href=\"#opdr3\">Antwoord opgave 3</a> <a name=\"antw3\"></a>\n",
    "\n",
    "Zie de functies hieronder. Let op dat je de juiste categorie kiest voor de warning. In dit geval is het ook mogelijk om voor de `PendingDeprecationWarning` te kiezen. Het verschil tussen de `DeprecationWarning` en de `PendingDeprecationWarning` is dat de eerste standaard wel en de laatste standaard niet wordt getoond. De `DeprecationWarning` is daarom wat dwingender dan de `PendingDeprecationWarning`."
   ]
  },
  {
   "cell_type": "code",
   "execution_count": 3,
   "metadata": {},
   "outputs": [],
   "source": [
    "def CountCharactersInString(s):\n",
    "    warnings.warn('CountCharactersInString is deprecated, use count_characters_in_string instead',\n",
    "                  category=DeprecationWarning)\n",
    "    return len(s)\n",
    "\n",
    "def count_characters_in_string(s):\n",
    "    return len(s)"
   ]
  },
  {
   "cell_type": "markdown",
   "metadata": {},
   "source": [
    "<hr>\n",
    "\n",
    "#### <a href=\"#opdr4\">Antwoord opgave 4</a> <a name=\"antw4\"></a>\n"
   ]
  },
  {
   "cell_type": "code",
   "execution_count": 4,
   "metadata": {},
   "outputs": [
    {
     "name": "stderr",
     "output_type": "stream",
     "text": [
      "<ipython-input-4-be0f6ab80fff>:6: UserWarning: dit is een test userwarning\n",
      "  warnings.warn('dit is een test userwarning')\n"
     ]
    }
   ],
   "source": [
    "from importlib import reload\n",
    "reload(warnings)\n",
    "\n",
    "warnings.filterwarnings('once', category=UserWarning)\n",
    "\n",
    "warnings.warn('dit is een test userwarning')\n",
    "warnings.warn('dit is een test userwarning')"
   ]
  },
  {
   "cell_type": "markdown",
   "metadata": {},
   "source": [
    "## Acknowledgement\n",
    "\n",
    "the following sources were used to create this notebook:\n",
    "- https://docs.python.org/3/library/warnings.html\n"
   ]
  }
 ],
 "metadata": {
  "kernelspec": {
   "display_name": "dev",
   "language": "python",
   "name": "dev"
  },
  "language_info": {
   "codemirror_mode": {
    "name": "ipython",
    "version": 3
   },
   "file_extension": ".py",
   "mimetype": "text/x-python",
   "name": "python",
   "nbconvert_exporter": "python",
   "pygments_lexer": "ipython3",
   "version": "3.8.6"
  }
 },
 "nbformat": 4,
 "nbformat_minor": 2
}
