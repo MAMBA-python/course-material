{
 "cells": [
  {
   "cell_type": "markdown",
   "metadata": {},
   "source": [
    "<figure>\n",
    "   <IMG SRC=\"https://mamba-python.nl/images/logo_basis.png\" WIDTH=125 ALIGN=\"right\">\n",
    "</figure>\n",
    "\n",
    "# Errors\n",
    "_developed by Onno Ebbens_\n",
    "    \n",
    "<hr>\n",
    "    \n",
    "Hoewel vaak vervloekt zijn goede foutmeldingen (errors) erg prettig bij het programmeren. Een goede foutmelding geeft aan wat er fout gaat, waar het fout gaat en hoe de fout kan worden opgelost. Dit in tegenstelling tot code waar iets fout gaat maar geen foutmelding opkomt. Dit notebook bevat oefeningen om te leren foutmeldingen te herkennen, zelf foutmeldingen maken en het afvangen van foutmeldingen. \n",
    "    \n",
    "Benodigde voorkennis:\n",
    "- weten wat een functie is, hoe je deze aanroept en hoe je een functie definieert.\n",
    "- de built-in datatypes van Python kennen en grofweg de verschillen weten.\n",
    "- weten hoe je items uit een list en een dictionary kan opvragen.\n",
    "\n",
    "\n",
    "### Inhoudsopgave<a id=\"top\"></a>\n",
    "1. [Errors](#1)\n",
    "2. [Maken](#2)\n",
    "3. [Afvangen](#3)\n",
    "4. [Antwoorden](#Antwoorden)"
   ]
  },
  {
   "cell_type": "markdown",
   "metadata": {},
   "source": [
    "## 1. [Errors](#top)<a id=\"1\"></a>\n",
    "\n",
    "Wanneer de code in een cell een error veroorzaakt wordt deze in Jupyter notebooks weergegeven onder de cel. In de cell hieronder is een voorbeeld gegeven van code die een error veroorzaakt. De error bevat een aantal onderdelen:\n",
    "- Het type error, in dit geval `ZeroDivisionError`\n",
    "- De error message, in dit geval `division by zero`\n",
    "- De traceback. Hierin wordt aangegeven waar in de code de error wordt veroorzaakt. In dit geval is dat in ons huidige script (`<ipython-input-2-21e098aa1ee2> in <module>`) op regel 1 (`----> 1 a = 9/0`)"
   ]
  },
  {
   "cell_type": "code",
   "execution_count": 2,
   "metadata": {},
   "outputs": [
    {
     "ename": "ZeroDivisionError",
     "evalue": "division by zero",
     "output_type": "error",
     "traceback": [
      "\u001b[1;31m---------------------------------------------------------------------------\u001b[0m",
      "\u001b[1;31mZeroDivisionError\u001b[0m                         Traceback (most recent call last)",
      "\u001b[1;32m<ipython-input-2-21e098aa1ee2>\u001b[0m in \u001b[0;36m<module>\u001b[1;34m\u001b[0m\n\u001b[1;32m----> 1\u001b[1;33m \u001b[0ma\u001b[0m \u001b[1;33m=\u001b[0m \u001b[1;36m9\u001b[0m\u001b[1;33m/\u001b[0m\u001b[1;36m0\u001b[0m\u001b[1;33m\u001b[0m\u001b[1;33m\u001b[0m\u001b[0m\n\u001b[0m",
      "\u001b[1;31mZeroDivisionError\u001b[0m: division by zero"
     ]
    }
   ],
   "source": [
    "a = 9/0"
   ]
  },
  {
   "cell_type": "markdown",
   "metadata": {},
   "source": [
    "<hr>\n",
    "\n",
    "#### Opgave 1 <a name=\"opdr1\"></a>\n",
    "\n",
    "Op welke regel ontstaat een Error in onderstaande code? Welk type heeft deze error?"
   ]
  },
  {
   "cell_type": "code",
   "execution_count": 7,
   "metadata": {},
   "outputs": [
    {
     "ename": "IndexError",
     "evalue": "list assignment index out of range",
     "output_type": "error",
     "traceback": [
      "\u001b[1;31m---------------------------------------------------------------------------\u001b[0m",
      "\u001b[1;31mIndexError\u001b[0m                                Traceback (most recent call last)",
      "\u001b[1;32m<ipython-input-7-9b0ee40e2701>\u001b[0m in \u001b[0;36m<module>\u001b[1;34m\u001b[0m\n\u001b[0;32m      3\u001b[0m \u001b[0mc\u001b[0m \u001b[1;33m=\u001b[0m \u001b[1;33m[\u001b[0m\u001b[1;36m1\u001b[0m\u001b[1;33m,\u001b[0m\u001b[1;36m2\u001b[0m\u001b[1;33m,\u001b[0m\u001b[1;36m3\u001b[0m\u001b[1;33m]\u001b[0m\u001b[1;33m\u001b[0m\u001b[1;33m\u001b[0m\u001b[0m\n\u001b[0;32m      4\u001b[0m \u001b[0md\u001b[0m \u001b[1;33m=\u001b[0m \u001b[0ma\u001b[0m \u001b[1;33m+\u001b[0m \u001b[0mfloat\u001b[0m\u001b[1;33m(\u001b[0m\u001b[0mb\u001b[0m\u001b[1;33m)\u001b[0m\u001b[1;33m\u001b[0m\u001b[1;33m\u001b[0m\u001b[0m\n\u001b[1;32m----> 5\u001b[1;33m \u001b[0mc\u001b[0m\u001b[1;33m[\u001b[0m\u001b[1;36m3\u001b[0m\u001b[1;33m]\u001b[0m \u001b[1;33m=\u001b[0m \u001b[1;36m9\u001b[0m\u001b[1;33m\u001b[0m\u001b[1;33m\u001b[0m\u001b[0m\n\u001b[0m\u001b[0;32m      6\u001b[0m \u001b[0mc\u001b[0m\u001b[1;33m[\u001b[0m\u001b[1;36m0\u001b[0m\u001b[1;33m]\u001b[0m \u001b[1;33m=\u001b[0m \u001b[0md\u001b[0m\u001b[1;33m\u001b[0m\u001b[1;33m\u001b[0m\u001b[0m\n",
      "\u001b[1;31mIndexError\u001b[0m: list assignment index out of range"
     ]
    }
   ],
   "source": [
    "a = 9\n",
    "b = '3'\n",
    "c = [1,2,3]\n",
    "d = a + float(b)\n",
    "c[3] = 9\n",
    "c[0] = d"
   ]
  },
  {
   "cell_type": "markdown",
   "metadata": {},
   "source": [
    "<a href=\"#antw1\">Antwoord opgave 1</a>\n",
    "<hr>"
   ]
  },
  {
   "cell_type": "markdown",
   "metadata": {},
   "source": [
    "Er bestaan veel verschillende type errors. Op [deze](https://www.tutorialsteacher.com/python/error-types-in-python) website is een overzicht gegeven van alle errors die standaard in Python zitten (built-in errors). "
   ]
  },
  {
   "cell_type": "markdown",
   "metadata": {},
   "source": [
    "## 2. [Foutmeldingen maken](#top)<a id=\"2\"></a>\n",
    "\n",
    "Soms is het handig om zelf een foutmelding te veroorzaken (raise an error). Bijvoorbeeld als een functie aangeroepen wordt met het verkeerde datatype. Hieronder staat een voorbeeld waarin wordt gecheckt of het function argument `x` een integer of een float is. Zo niet, dan onstaat een `TypeError`. Zoals je kan zien gebruik je een `raise` statement om een Error op te roepen. Bij de `TypeError` kan je ook een bericht (error message) meegeven, in dit geval is dat `f'expected int or float not {type(x)}'`."
   ]
  },
  {
   "cell_type": "code",
   "execution_count": 1,
   "metadata": {},
   "outputs": [],
   "source": [
    "def multiply_by_two(x):\n",
    "    if not isinstance(x, (int, float)):\n",
    "        raise TypeError(f'expected int or float not {type(x)}')\n",
    "    return x * 2"
   ]
  },
  {
   "cell_type": "code",
   "execution_count": 2,
   "metadata": {
    "scrolled": true
   },
   "outputs": [
    {
     "name": "stdout",
     "output_type": "stream",
     "text": [
      "6\n"
     ]
    },
    {
     "ename": "TypeError",
     "evalue": "expected int or float not <class 'str'>",
     "output_type": "error",
     "traceback": [
      "\u001b[1;31m---------------------------------------------------------------------------\u001b[0m",
      "\u001b[1;31mTypeError\u001b[0m                                 Traceback (most recent call last)",
      "\u001b[1;32m<ipython-input-2-698e28587cc7>\u001b[0m in \u001b[0;36m<module>\u001b[1;34m\u001b[0m\n\u001b[0;32m      1\u001b[0m \u001b[0mprint\u001b[0m\u001b[1;33m(\u001b[0m\u001b[0mmultiply_by_two\u001b[0m\u001b[1;33m(\u001b[0m\u001b[1;36m3\u001b[0m\u001b[1;33m)\u001b[0m\u001b[1;33m)\u001b[0m\u001b[1;33m\u001b[0m\u001b[1;33m\u001b[0m\u001b[0m\n\u001b[0;32m      2\u001b[0m \u001b[1;33m\u001b[0m\u001b[0m\n\u001b[1;32m----> 3\u001b[1;33m \u001b[0mmultiply_by_two\u001b[0m\u001b[1;33m(\u001b[0m\u001b[1;34m'test'\u001b[0m\u001b[1;33m)\u001b[0m\u001b[1;33m\u001b[0m\u001b[1;33m\u001b[0m\u001b[0m\n\u001b[0m",
      "\u001b[1;32m<ipython-input-1-ce9992eadd69>\u001b[0m in \u001b[0;36mmultiply_by_two\u001b[1;34m(x)\u001b[0m\n\u001b[0;32m      1\u001b[0m \u001b[1;32mdef\u001b[0m \u001b[0mmultiply_by_two\u001b[0m\u001b[1;33m(\u001b[0m\u001b[0mx\u001b[0m\u001b[1;33m)\u001b[0m\u001b[1;33m:\u001b[0m\u001b[1;33m\u001b[0m\u001b[1;33m\u001b[0m\u001b[0m\n\u001b[0;32m      2\u001b[0m     \u001b[1;32mif\u001b[0m \u001b[1;32mnot\u001b[0m \u001b[0misinstance\u001b[0m\u001b[1;33m(\u001b[0m\u001b[0mx\u001b[0m\u001b[1;33m,\u001b[0m \u001b[1;33m(\u001b[0m\u001b[0mint\u001b[0m\u001b[1;33m,\u001b[0m \u001b[0mfloat\u001b[0m\u001b[1;33m)\u001b[0m\u001b[1;33m)\u001b[0m\u001b[1;33m:\u001b[0m\u001b[1;33m\u001b[0m\u001b[1;33m\u001b[0m\u001b[0m\n\u001b[1;32m----> 3\u001b[1;33m         \u001b[1;32mraise\u001b[0m \u001b[0mTypeError\u001b[0m\u001b[1;33m(\u001b[0m\u001b[1;34mf'expected int or float not {type(x)}'\u001b[0m\u001b[1;33m)\u001b[0m\u001b[1;33m\u001b[0m\u001b[1;33m\u001b[0m\u001b[0m\n\u001b[0m\u001b[0;32m      4\u001b[0m     \u001b[1;32mreturn\u001b[0m \u001b[0mx\u001b[0m \u001b[1;33m*\u001b[0m \u001b[1;36m2\u001b[0m\u001b[1;33m\u001b[0m\u001b[1;33m\u001b[0m\u001b[0m\n",
      "\u001b[1;31mTypeError\u001b[0m: expected int or float not <class 'str'>"
     ]
    }
   ],
   "source": [
    "print(multiply_by_two(3))\n",
    "\n",
    "multiply_by_two('test')"
   ]
  },
  {
   "cell_type": "markdown",
   "metadata": {},
   "source": [
    "<hr>\n",
    "\n",
    "#### Opgave 2 <a name=\"opdr2\"></a>\n",
    "\n",
    "Voeg code toe aan onderstaande functie om een Error te genereren wanneer de functie wordt aangeroepen met een negatief bedrag, bijv. -90 dollar. Kies uit deze opties het type error wat het beste past:\n",
    "- `TypeError`\n",
    "- `KeyError`\n",
    "- `ValueError`\n",
    "\n",
    "Geef ook een duidelijk bericht (error message) mee zodat degene die de error aantreft weet wat er misgaat."
   ]
  },
  {
   "cell_type": "code",
   "execution_count": 11,
   "metadata": {},
   "outputs": [],
   "source": [
    "def dollar_to_euro(dollar):\n",
    "    \"\"\" convert dollars to euro\n",
    "    \n",
    "    Parameters\n",
    "    ----------\n",
    "    x : int or float\n",
    "        value in dollars\n",
    "        \n",
    "    Returns\n",
    "    -------\n",
    "    int or float\n",
    "        value in euros\n",
    "    \"\"\"\n",
    "    euro = dollar*0.84\n",
    "    return euro"
   ]
  },
  {
   "cell_type": "markdown",
   "metadata": {},
   "source": [
    "<a href=\"#antw2\">Antwoord opgave 2</a>\n",
    "<hr>"
   ]
  },
  {
   "cell_type": "markdown",
   "metadata": {},
   "source": [
    "## 3. [Foutmeldingen afvangen](#top)<a id=\"3\"></a>\n",
    "\n",
    "Soms weet je dat er een foutmelding kan ontstaan bij het uitvoeren van je code en wil je niet dat je applicatie meteen stopt. In dat geval kan je fouten afvangen. Dit doe je met een `try/except` blok. In onderstaand voorbeeld maken we een dictionary `char_freq` die bevat voor elke letter in een zin hoe vaak deze letter voorkomt. Vervolgens vragen we de gebruiker om een letter (character) te kiezen waarna de frequentie van die letter wordt geprint.\n",
    "\n",
    "Wanneer de gekozen letter niet voorkomt in de zin zal de code om de frequentie op te vragen een `KeyError` geven. De letter bestaat niet als key in de `char_freq` dictionary. In dat geval willen we niet dat het programma een error geeft maar dat wordt aangegeven dat de letter niet voorkomt. Dit bereiken we door het `print` statement binnen een `try/except` blok te zetten. We proberen de letter op te vragen uit de dictionary, behalve (`except`) als deze een `KeyError` geeft. In dat geval willen we een andere print statement uitvoeren. Op deze manier zorgen we ervoor dat deze code geen error geeft en voor ons de juiste informatie print."
   ]
  },
  {
   "cell_type": "code",
   "execution_count": 37,
   "metadata": {},
   "outputs": [
    {
     "name": "stdout",
     "output_type": "stream",
     "text": [
      "pick character to get frequency: j\n",
      "character j does not occur in the sentence\n"
     ]
    }
   ],
   "source": [
    "sentence = \"I have an inferiority complex, but it's not a very good one.\"\n",
    "\n",
    "# get character frequency\n",
    "from collections import Counter\n",
    "char_freq = dict(Counter(sentence.replace(' ', '').replace('.','').replace(\"'\", '').lower()))\n",
    "\n",
    "# ask user input\n",
    "input_char = input('pick character to get frequency: ')\n",
    "\n",
    "\n",
    "try:\n",
    "    print(f'character {input_char} occurs {char_freq[input_char]} times in the sentence')\n",
    "except KeyError:\n",
    "    print(f'character {input_char} does not occur in the sentence')"
   ]
  },
  {
   "cell_type": "markdown",
   "metadata": {},
   "source": [
    "<hr>\n",
    "\n",
    "#### Opgave 3 <a name=\"opdr3\"></a>\n",
    "\n",
    "De code hieronder geeft een foutmelding omdat het niet mogelijk is door 0 te delen. Vang de fout af door middel van een `try/except` blok en zorg dat `inf` uit de `numpy` package (`np.inf`) aan de lijst wordt toegevoegd wanneer er wordt gedeeld door 0."
   ]
  },
  {
   "cell_type": "code",
   "execution_count": 34,
   "metadata": {},
   "outputs": [
    {
     "ename": "ZeroDivisionError",
     "evalue": "division by zero",
     "output_type": "error",
     "traceback": [
      "\u001b[1;31m---------------------------------------------------------------------------\u001b[0m",
      "\u001b[1;31mZeroDivisionError\u001b[0m                         Traceback (most recent call last)",
      "\u001b[1;32m<ipython-input-34-3e22315c79cd>\u001b[0m in \u001b[0;36m<module>\u001b[1;34m\u001b[0m\n\u001b[0;32m      3\u001b[0m \u001b[0mnew_list\u001b[0m \u001b[1;33m=\u001b[0m \u001b[1;33m[\u001b[0m\u001b[1;33m]\u001b[0m\u001b[1;33m\u001b[0m\u001b[1;33m\u001b[0m\u001b[0m\n\u001b[0;32m      4\u001b[0m \u001b[1;32mfor\u001b[0m \u001b[0mi1\u001b[0m\u001b[1;33m,\u001b[0m \u001b[0mi2\u001b[0m \u001b[1;32min\u001b[0m \u001b[0mzip\u001b[0m\u001b[1;33m(\u001b[0m\u001b[0mlist1\u001b[0m\u001b[1;33m,\u001b[0m\u001b[0mlist2\u001b[0m\u001b[1;33m)\u001b[0m\u001b[1;33m:\u001b[0m\u001b[1;33m\u001b[0m\u001b[1;33m\u001b[0m\u001b[0m\n\u001b[1;32m----> 5\u001b[1;33m     \u001b[0mnew_list\u001b[0m\u001b[1;33m.\u001b[0m\u001b[0mappend\u001b[0m\u001b[1;33m(\u001b[0m\u001b[0mi1\u001b[0m\u001b[1;33m/\u001b[0m\u001b[0mi2\u001b[0m\u001b[1;33m)\u001b[0m\u001b[1;33m\u001b[0m\u001b[1;33m\u001b[0m\u001b[0m\n\u001b[0m",
      "\u001b[1;31mZeroDivisionError\u001b[0m: division by zero"
     ]
    }
   ],
   "source": [
    "list1 = [8,2,6,2]\n",
    "list2 = [2,1,6,0]\n",
    "new_list = []\n",
    "for i1, i2 in zip(list1,list2):\n",
    "    new_list.append(i1/i2)"
   ]
  },
  {
   "cell_type": "markdown",
   "metadata": {},
   "source": [
    "<a href=\"#antw3\">Antwoord opgave 3</a>\n",
    "<hr>"
   ]
  },
  {
   "cell_type": "markdown",
   "metadata": {},
   "source": [
    "Het is ook mogelijk om in een `try/except` blok geen type error op te geven die moet worden afgevangen. In dat geval worden alle errors afgevangen. Deze manier van errors afvangen wordt ten zeerste afgeraden omdat het hiermee ontzettend moeilijk wordt om je code te debuggen. In de \"[Zen of Python](https://www.python.org/dev/peps/pep-0020/)\", een reeks filosofische richtlijnen over het programmeren met Python, zijn hier zelfs twee regels over opgenomen:\n",
    "```\n",
    "Errors should never pass silently.\n",
    "Unless explicitly silenced.\n",
    "```\n",
    "\n",
    "Onderstaand voorbeeld geeft hiervoor een anekdotisch bewijs."
   ]
  },
  {
   "cell_type": "code",
   "execution_count": 26,
   "metadata": {},
   "outputs": [
    {
     "name": "stdout",
     "output_type": "stream",
     "text": [
      "something went wrong but I have no idea what\n"
     ]
    }
   ],
   "source": [
    "try:\n",
    "    my_black_box_function()\n",
    "except:\n",
    "    print('something went wrong but I have no idea what')"
   ]
  },
  {
   "cell_type": "markdown",
   "metadata": {},
   "source": [
    "## [Antwoorden](#top)<a id=\"Antwoorden\"></a>"
   ]
  },
  {
   "cell_type": "markdown",
   "metadata": {},
   "source": [
    "<hr>\n",
    "\n",
    "#### <a href=\"#opdr1\">Antwoord opgave 1</a> <a name=\"antw1\"></a>\n",
    "\n",
    "De error ontstaat op regel 5 omdat wordt getracht het 4de element (met index 3) uit een list met 3 elementen (met indices 0, 1 en 2) te veranderen. Het error type is `IndexError` omdat een niet bestaande index wordt opgevraagd."
   ]
  },
  {
   "cell_type": "markdown",
   "metadata": {},
   "source": [
    "<hr>\n",
    "\n",
    "#### <a href=\"#opdr2\">Antwoord opgave 2</a> <a name=\"antw2\"></a>\n",
    "\n",
    "Het meest logische type error om te kiezen is `ValueError` het gaat immers om de waarde van een variabele."
   ]
  },
  {
   "cell_type": "code",
   "execution_count": 3,
   "metadata": {},
   "outputs": [],
   "source": [
    "def dollar_to_euro(dollar):\n",
    "    \"\"\" convert dollars to euro\n",
    "    \n",
    "    Parameters\n",
    "    ----------\n",
    "    x : int or float\n",
    "        value in dollars\n",
    "        \n",
    "    Returns\n",
    "    -------\n",
    "    int or float\n",
    "        value in euros\n",
    "    \"\"\"\n",
    "    if dollar < 0:\n",
    "        raise ValueError('this function does not accept negative dollar values')\n",
    "    euro = dollar*0.84\n",
    "    return euro"
   ]
  },
  {
   "cell_type": "markdown",
   "metadata": {},
   "source": [
    "<hr>\n",
    "\n",
    "#### <a href=\"#opdr3\">Antwoord opgave 3</a> <a name=\"antw3\"></a>"
   ]
  },
  {
   "cell_type": "code",
   "execution_count": 36,
   "metadata": {},
   "outputs": [
    {
     "name": "stdout",
     "output_type": "stream",
     "text": [
      "[4.0, 2.0, 1.0, inf]\n"
     ]
    }
   ],
   "source": [
    "import numpy as np\n",
    "\n",
    "list1 = [8,2,6,2]\n",
    "list2 = [2,1,6,0]\n",
    "new_list = []\n",
    "for i1, i2 in zip(list1,list2):\n",
    "    try:\n",
    "        new_list.append(i1/i2)\n",
    "    except ZeroDivisionError:\n",
    "        new_list.append(np.inf)\n",
    "print(new_list)"
   ]
  },
  {
   "cell_type": "markdown",
   "metadata": {},
   "source": [
    "<hr>\n",
    "\n",
    "#### <a href=\"#opdr4\">Antwoord opgave 4</a> <a name=\"antw4\"></a>\n",
    "\n"
   ]
  },
  {
   "cell_type": "markdown",
   "metadata": {},
   "source": [
    "<hr>\n",
    "\n",
    "#### <a href=\"#opdr5\">Antwoord opgave 5</a> <a name=\"antw5\"></a>\n",
    "\n"
   ]
  },
  {
   "cell_type": "code",
   "execution_count": null,
   "metadata": {},
   "outputs": [],
   "source": []
  },
  {
   "cell_type": "markdown",
   "metadata": {},
   "source": [
    "<hr>\n",
    "\n",
    "#### <a href=\"#opdr6\">Antwoord opgave 6</a> <a name=\"antw6\"></a>\n"
   ]
  },
  {
   "cell_type": "code",
   "execution_count": null,
   "metadata": {},
   "outputs": [],
   "source": []
  },
  {
   "cell_type": "markdown",
   "metadata": {},
   "source": [
    "## Acknowledgement\n",
    "\n",
    "the following sources were used to create this notebook:\n",
    "- https://docs.python.org/3/tutorial/errors.html"
   ]
  }
 ],
 "metadata": {
  "kernelspec": {
   "display_name": "Python 3",
   "language": "python",
   "name": "python3"
  },
  "language_info": {
   "codemirror_mode": {
    "name": "ipython",
    "version": 3
   },
   "file_extension": ".py",
   "mimetype": "text/x-python",
   "name": "python",
   "nbconvert_exporter": "python",
   "pygments_lexer": "ipython3",
   "version": "3.7.6"
  }
 },
 "nbformat": 4,
 "nbformat_minor": 2
}
