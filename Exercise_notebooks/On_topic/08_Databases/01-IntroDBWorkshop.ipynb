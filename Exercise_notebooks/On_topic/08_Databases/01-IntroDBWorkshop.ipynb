{
 "cells": [
  {
   "cell_type": "markdown",
   "metadata": {},
   "source": [
    "# Database Interaction with Python\n",
    "\n",
    "[PEP 249 - The Python Database API Specification](https://www.python.org/dev/peps/pep-0249/) gives very specific instructions for how Python developers should interact with databases. Although there are some notable differences in the database backends, what that means is that from the Python perspective, the use of different databases like SQLite, PostgreSQL, MySQL, etc. should all be very similar. In this tutorial, we will go over the use of Python with SQLite - a lightweight and simple database that will immediately make the data management in your apps more effective."
   ]
  },
  {
   "cell_type": "code",
   "execution_count": 1,
   "metadata": {},
   "outputs": [],
   "source": [
    "## Imports\n",
    "\n",
    "import sqlite3"
   ]
  },
  {
   "cell_type": "markdown",
   "metadata": {},
   "source": [
    "The first thing to keep in mind is that we have to import _driver_ code - that is the API for the specific database that we want to use. The most common are:\n",
    "\n",
    "- [psycopg2](http://initd.org/psycopg/)\n",
    "- [MySQL Connector/Python](http://dev.mysql.com/doc/connector-python/en/)\n",
    "- [sqlite3](https://docs.python.org/2/library/sqlite3.html)\n",
    "\n",
    "Though a host of other databases for vendors like IBM, Microsoft, and Oracle can be found at [Python Database Interfaces](https://wiki.python.org/moin/DatabaseInterfaces). \n",
    "\n",
    "In this tutorial we will be using `sqlite3` because it ships with Python (the other drivers are third party) and because it is so simple to use. SQLite databases are the embedded backbone of many applications, though they should be kept small. \n",
    "\n",
    "## Connecting to a Database\n",
    "\n",
    "The first thing you have to do is make a connection to a database. Often times this means you'll need the following information to connect to a database server:\n",
    "\n",
    "- hostname\n",
    "- port \n",
    "- username\n",
    "- password\n",
    "- database name\n",
    "\n",
    "SQLite is an _embedded_ database, however - which means it is stored in a file on disk, and operated on soley by a single program (not multiple programs at once). Therefore in order to create a connection to a SQLite database, we simply need to point it to a file on disk. "
   ]
  },
  {
   "cell_type": "code",
   "execution_count": 2,
   "metadata": {},
   "outputs": [],
   "source": [
    "DBPATH = 'people.db'\n",
    "conn = sqlite3.connect(DBPATH)"
   ]
  },
  {
   "cell_type": "markdown",
   "metadata": {},
   "source": [
    "At this point, you should notice that a file called `people.db` has been created in your current working directory! \n",
    "\n",
    "The connect method returned a connection object that we've called `conn`. With conn you can manipulate your connection to the database including the following methods:\n",
    "\n",
    "- `conn.commit()` - commit any changes back to the database\n",
    "- `conn.close()` - close our connection to the database and tidy up\n",
    "\n",
    "However, to execute SQL against the database to `INSERT` or `SELECT` rows, we'll need to create a cursor:"
   ]
  },
  {
   "cell_type": "code",
   "execution_count": 3,
   "metadata": {},
   "outputs": [],
   "source": [
    "cursor = conn.cursor()"
   ]
  },
  {
   "cell_type": "markdown",
   "metadata": {},
   "source": [
    "A cursor is essentially a pointer into the database. Think of it like a mouse cursor that keeps track of where you are on in the database table or tables. Cursors have the following methods:\n",
    "\n",
    "- `cursor.execute()` - executes a SQL string against the database\n",
    "- `cursor.fetchone()` - fetch a single row back from the executed query\n",
    "- `cursor.fetchall()` - fetch all results back from the executed query. \n",
    "\n",
    "Together, connections and cursors are the basic way to interact with a SQL database. \n",
    "\n",
    "## Describing the Database\n",
    "\n",
    "The first thing we have to do is describe the type of data that we'll be putting in the database by creating a _schema_. For this workshop, we'll be creating a very simple contacts application, our schema is as follows:\n",
    "\n",
    "![Contacts Schema](figures/schema.png)\n",
    "\n",
    "Here we have two tables, `contacts` which keeps track of people, their email, and who they are affiliated with, and `companies` which keeps tracks of organizations. To create the companies table we would execute SQL as follows:"
   ]
  },
  {
   "cell_type": "code",
   "execution_count": 4,
   "metadata": {},
   "outputs": [
    {
     "data": {
      "text/plain": [
       "<sqlite3.Cursor at 0x1e8d9a12650>"
      ]
     },
     "execution_count": 4,
     "metadata": {},
     "output_type": "execute_result"
    }
   ],
   "source": [
    "sql = (\n",
    "    \"CREATE TABLE IF NOT EXISTS companies (\"\n",
    "    \"    id INTEGER PRIMARY KEY AUTOINCREMENT,\"\n",
    "    \"    name TEXT NOT NULL\"\n",
    "    \")\"\n",
    ")\n",
    "\n",
    "cursor.execute(sql)"
   ]
  },
  {
   "cell_type": "markdown",
   "metadata": {},
   "source": [
    "A note on the syntax above - since I like to write clean, well-indented SQL; I used a string concatentation method in Python, by opening up a parentheses and adding strings _without commas_ on new lines between them. If you print `sql` you'll see it's just one long string with spaces inside of it. You could also use docstrings with the three quotes `\"\"\"` to write a multiline string, or even read in the SQL from a file. \n",
    "\n",
    "#### Exercise 1: Write and execute the contacts table create statement. "
   ]
  },
  {
   "cell_type": "code",
   "execution_count": 5,
   "metadata": {},
   "outputs": [],
   "source": [
    "# Create the contacts table"
   ]
  },
  {
   "cell_type": "markdown",
   "metadata": {},
   "source": [
    "## Inserting Records \n",
    "\n",
    "The next thing we'll want to do is insert some records into the database; let's add Georgetown University to the companies table."
   ]
  },
  {
   "cell_type": "code",
   "execution_count": null,
   "metadata": {},
   "outputs": [],
   "source": [
    "sql = \"INSERT INTO companies (name) VALUES (?)\"\n",
    "cursor.execute(sql, (\"Georgetown University\",))\n",
    "conn.commit()"
   ]
  },
  {
   "cell_type": "markdown",
   "metadata": {},
   "source": [
    "Here we've created essentially a SQL template for inserting the names of companies into the table. Note that we don't have to assign an id, since it will be automatically assigned using the AUTOINCREMENT property of that field.\n",
    "\n",
    "The `?` is a parameter to the query, and can be used as a placeholder for any user input. Values for the parameters are then passed to the second argument of the `execute` method as a tuple. You _should not_ use string formatting methods like: \n",
    "\n",
    "```python\n",
    "sql = \"INSERT INTO companies (name) VALUES ({})\".format(\"Georgetown University\")\n",
    "```\n",
    "\n",
    "This is potentially unsafe behavior, and the `?` parameters do a lot of work on your behalf to make sure things work correctly and securely. \n",
    "\n",
    "Let's go ahead and insert another record using the same sql statement."
   ]
  },
  {
   "cell_type": "code",
   "execution_count": null,
   "metadata": {
    "collapsed": true
   },
   "outputs": [],
   "source": [
    "cursor.execute(sql, (\"US Department of Commerce\",))\n",
    "conn.commit()"
   ]
  },
  {
   "cell_type": "markdown",
   "metadata": {},
   "source": [
    "The last thing we should mention is the `commit` call. _Nothing will be written to the database until commit is called_. This gives us an interesting ability to do _transactions_ - a series of SQL queries that when completed together succesfully, we commit them. However if something goes wrong during execution, we don't commit and therefore \"rollback\". \n",
    "\n",
    "## Selecting Records\n",
    "\n",
    "Before we go on to insert contact information, we need to know the id of the company of the contact we're inserting. However, because we inserted the data using the auto increment feature, we don't know what the company's ids are. To read them, we'll have to fetch them as follows:"
   ]
  },
  {
   "cell_type": "code",
   "execution_count": null,
   "metadata": {},
   "outputs": [],
   "source": [
    "cursor.execute(\"SELECT id FROM companies WHERE name=?\", (\"Georgetown University\",))\n",
    "print cursor.fetchone()"
   ]
  },
  {
   "cell_type": "markdown",
   "metadata": {},
   "source": [
    "Using the same parameter statement in our predicate clause and passing in the tuple containing \"Georgetown University\" as an argument to `execute`, we can select the id that we need, which is returned as a `Row`. `Row`s present themselves as tuples, and since we only fetched the ID, it is the first element in the record. Note that we can use `SELECT *` to select all fields in a record if so desired. \n",
    "\n",
    "The `fetchone` statement goes and gets the first record it finds. Note that the name of companies are not constrained uniqueness, therefore there could be multiple \"Georgetown University\" records fetched from this query. If you wanted all of them, you would use `fetchall`. \n",
    "\n",
    "Now to insert a person who works for Georgetown University you would write a statement similar to:\n",
    "\n",
    "```python\n",
    "sql = \"INSERT INTO contacts (name, email, company_id) VALUES (?,?,?)\" \n",
    "cursor.execute(sql, (\"Benjamin Bengfort\", \"bb830@georgetown.edu\", 1))\n",
    "conn.commit()\n",
    "```\n",
    "\n",
    "And at this point you should start inserting some contacts and companies."
   ]
  },
  {
   "cell_type": "code",
   "execution_count": null,
   "metadata": {
    "collapsed": true
   },
   "outputs": [],
   "source": [
    "# Insert some contacts and companies using the methods described above."
   ]
  },
  {
   "cell_type": "markdown",
   "metadata": {},
   "source": [
    "Consider the following questions while you're working with the database:\n",
    "\n",
    "- What errors have you been receiving? What would you do to prevent them (e.g. create guarentees)?\n",
    "- What happens if you pass in a name that doesn't exist in the database to our company select? \n",
    "- What happens if you run the insert statements twice in a row with the same values?\n",
    "- How would you ensure that company name, and email are unique? What other fields should be unique? \n",
    "\n",
    "## Workshop\n",
    "\n",
    "At this point, you should be able to create a small Python application that does the following:\n",
    "\n",
    "- Inserts contacts into the database by gathering their name, email, and company name\n",
    "- Prints out a list of companies and the number of contacts associated with each \n",
    "\n",
    "Using the following _incomplete_ code as a template to help you design your project:"
   ]
  },
  {
   "cell_type": "code",
   "execution_count": null,
   "metadata": {},
   "outputs": [],
   "source": [
    "import os\n",
    "import sqlite3\n",
    "\n",
    "def create_tables(conn):\n",
    "    \"\"\"\n",
    "    Write your CREATE TABLE statements in this function and execute\n",
    "    them with the passed in connection. \n",
    "    \"\"\"\n",
    "    # TODO: fill in. \n",
    "    pass\n",
    "\n",
    "\n",
    "def connect(path=\"people.db\", syncdb=False):\n",
    "    \"\"\"\n",
    "    Connects to the database and ensures there are tables.\n",
    "    \"\"\"\n",
    "    \n",
    "    # Check if the SQLite file exists, if not create it.\n",
    "    if not os.path.exists(path):\n",
    "        syncdb=True\n",
    "\n",
    "    # Connect to the sqlite database\n",
    "    conn = sqlite3.connect(path)\n",
    "    if syncdb:\n",
    "        create_tables(conn)\n",
    "    \n",
    "    return conn\n",
    "\n",
    "\n",
    "def insert(name, email, company, conn=None):\n",
    "    if not conn: conn = connect()\n",
    "\n",
    "    # Attempt to select company by name first. \n",
    "    \n",
    "    # If not exists, insert and select new id.\n",
    "    \n",
    "    # Insert contact\n",
    "\n",
    "    \n",
    "if __name__ == \"__main__\":\n",
    "    name    = raw_input(\"Enter name: \")\n",
    "    email   = raw_input(\"Enter email: \")\n",
    "    company = raw_input(\"Enter company: \")\n",
    "    \n",
    "    conn = connect()\n",
    "    insert(name, email, company, conn)\n",
    "\n",
    "    # Change below to count contacts per company! \n",
    "    contacts = conn.execute(\"SELECT count(id) FROM contacts\").fetchone()\n",
    "    print \"There are now {} contacts\".format(*contacts)\n",
    "\n",
    "    conn.close()"
   ]
  },
  {
   "cell_type": "markdown",
   "metadata": {},
   "source": [
    "## Questions to Think about for Next Time\n",
    "\n",
    "1. Why use a database? Why not just use Pandas dataframes?\n",
    "2. Why is it easier to work with a database then with raw JSON?\n",
    "3. How is using PostgreSQL different from using SQLite?\n",
    "4. How is MongoDB different than a relational database? \n",
    "5. What would make you choose a relational database over a NoSQL database (and vice versa)?"
   ]
  }
 ],
 "metadata": {
  "kernelspec": {
   "display_name": "Python [conda env:Anaconda3]",
   "language": "python",
   "name": "conda-env-Anaconda3-py"
  },
  "language_info": {
   "codemirror_mode": {
    "name": "ipython",
    "version": 3
   },
   "file_extension": ".py",
   "mimetype": "text/x-python",
   "name": "python",
   "nbconvert_exporter": "python",
   "pygments_lexer": "ipython3",
   "version": "3.6.3"
  }
 },
 "nbformat": 4,
 "nbformat_minor": 1
}
