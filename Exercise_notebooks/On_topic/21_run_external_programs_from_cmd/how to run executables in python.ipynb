{
 "cells": [
  {
   "cell_type": "markdown",
   "metadata": {},
   "source": [
    "<figure>\n",
    "   <IMG SRC=\"https://mamba-python.nl/images/logo_basis.png\" WIDTH=125 ALIGN=\"right\">\n",
    "   \n",
    "</figure>\n",
    "\n",
    "# Run executables in Python\n",
    "\n",
    "<br>\n",
    "\n",
    "\n",
    "\n",
    "\n",
    "In this notebook you will learn:\n",
    "- how to run an executable in Python\n",
    "- how to keep track of errors or output of the executable\n",
    "- how to manage the process of running an executable\n",
    "\n",
    "requisite prior knowledge:\n",
    "- what is an executable\n",
    "- run an executable through cmd (windows)/ shell (Linux) / terminal (Mac)\n",
    "- basic Python\n",
    "\n",
    "In this notebook we will show examples for Windows. The code for running software with a Mac is fairly similar although it might take some effort to find the right command for equivalent Mac software. "
   ]
  },
  {
   "cell_type": "code",
   "execution_count": 18,
   "metadata": {},
   "outputs": [],
   "source": [
    "import os\n",
    "import pandas as pd\n",
    "import time"
   ]
  },
  {
   "cell_type": "markdown",
   "metadata": {},
   "source": [
    "Sometimes software can be run from command prompt (Windows) or terminal (Mac). A basic example of software that can be run from command prompt is notepad. You can open a certain text file in notepad with command prompt. In the example below we have a test file called `text.txt`. If we call `notepad` in command prompt with the file `test.txt` a new window will be opened with notepad and the text file (see the screenshot below).<br>\n",
    "<p>\n",
    "\n",
    "\n",
    "<figure>\n",
    "   <IMG SRC=\"cmd_test_txt.JPG\" WIDTH=800 ALIGN=\"left\">\n",
    "   \n",
    "</figure>\n",
    "\n"
   ]
  },
  {
   "cell_type": "markdown",
   "metadata": {},
   "source": [
    "## 1. os module"
   ]
  },
  {
   "cell_type": "markdown",
   "metadata": {},
   "source": [
    "If you can run software with command prompt (cmd), you can also run it with Python. This can be helpful if you want to run software away is using the `os` package. The code below does exactly the same as the example above: opening notepad with a certain text file `test.txt`. The `os.system` function executes the string that you've given as a command in cmd. Be aware that notepad may be openend in the background and you cannot execute other code before you've quit notepad. Please quit notepad before continuing with this notebook."
   ]
  },
  {
   "cell_type": "code",
   "execution_count": 1,
   "metadata": {},
   "outputs": [
    {
     "data": {
      "text/plain": [
       "0"
      ]
     },
     "execution_count": 1,
     "metadata": {},
     "output_type": "execute_result"
    }
   ],
   "source": [
    "import os\n",
    "os.system('notepad test.txt')"
   ]
  },
  {
   "cell_type": "markdown",
   "metadata": {},
   "source": [
    "As you can see, the output of the `os.system` function equals `0`. According to the documentation this means that the command was executed succesfully and finished without errors. If we would run a command that results in an error we get `1` as the output, see the example below."
   ]
  },
  {
   "cell_type": "code",
   "execution_count": 2,
   "metadata": {},
   "outputs": [
    {
     "data": {
      "text/plain": [
       "1"
      ]
     },
     "execution_count": 2,
     "metadata": {},
     "output_type": "execute_result"
    }
   ],
   "source": [
    "os.system('blabla test.txt')"
   ]
  },
  {
   "cell_type": "markdown",
   "metadata": {},
   "source": [
    "## 2. subprocess"
   ]
  },
  {
   "cell_type": "markdown",
   "metadata": {},
   "source": [
    "If a command results in an error, you usually want to know what error it is. With the `os.system` module there is no way of finding out. Luckily there is another module that does give you more error information, this is the `subprocess` module. With `subprocess` you can run commands and obtain the errors and output. The syntax is a bit different. The commands are now entered as a list of strings. In this we create a variable `p` as a handle for the process. We obtain the output and errors of the command using `p.communicate`. Since the `notepad text.txt` command does not have any output (except for an opened notepad window) the `output` and `err` variables are empty strings."
   ]
  },
  {
   "cell_type": "code",
   "execution_count": 3,
   "metadata": {},
   "outputs": [],
   "source": [
    "from subprocess import Popen, PIPE\n",
    "p = Popen(['notepad', 'test.txt'], stdout=PIPE, stderr=PIPE)\n",
    "output = p.communicate()"
   ]
  },
  {
   "cell_type": "code",
   "execution_count": 4,
   "metadata": {},
   "outputs": [
    {
     "data": {
      "text/plain": [
       "(b'', b'')"
      ]
     },
     "execution_count": 4,
     "metadata": {},
     "output_type": "execute_result"
    }
   ],
   "source": [
    "output"
   ]
  },
  {
   "cell_type": "markdown",
   "metadata": {},
   "source": [
    "A command that does give output is the `python --version` command. If you type this in command prompt it will give you the default Python version on your computer. If you run this command with `Popen` you get the output trought `p.communicate()`."
   ]
  },
  {
   "cell_type": "code",
   "execution_count": 5,
   "metadata": {},
   "outputs": [],
   "source": [
    "p = Popen(['python', '--version'], stdout=PIPE, stderr=PIPE)\n",
    "output = p.communicate()"
   ]
  },
  {
   "cell_type": "code",
   "execution_count": 6,
   "metadata": {},
   "outputs": [
    {
     "data": {
      "text/plain": [
       "(b'', b'Python 3.6.8 :: Anaconda custom (64-bit)\\r\\n')"
      ]
     },
     "execution_count": 6,
     "metadata": {},
     "output_type": "execute_result"
    }
   ],
   "source": [
    "output"
   ]
  },
  {
   "cell_type": "markdown",
   "metadata": {},
   "source": [
    "Just like the `os.system()` function you can also get the returncode from the subprocess simply with `p.returncode`."
   ]
  },
  {
   "cell_type": "code",
   "execution_count": 7,
   "metadata": {},
   "outputs": [
    {
     "data": {
      "text/plain": [
       "0"
      ]
     },
     "execution_count": 7,
     "metadata": {},
     "output_type": "execute_result"
    }
   ],
   "source": [
    "p.returncode"
   ]
  },
  {
   "cell_type": "markdown",
   "metadata": {},
   "source": [
    "## 3. Manage processes"
   ]
  },
  {
   "cell_type": "markdown",
   "metadata": {},
   "source": [
    "Sometimes you encounter processes that take a lot of time. Usually you want to continue using the kernel while the process is ran in the background. This is possible with the `subprocess` module. Actually it is the default setting of the `Popen` command. If you run the `Popen` command but not the `p.communicate()`, the process is run in the background. When you call `p.communicate()` it will wait for the process to finish before it returns the ouptut and errors."
   ]
  },
  {
   "cell_type": "markdown",
   "metadata": {},
   "source": [
    "Below we run the batch file `slow_program.bat` with `Popen`. The batch file takes approximately 15 seconds to finish. During that time the `returncode` is `None`. After the process is finished the returncode is `1` when the process finished succesfully."
   ]
  },
  {
   "cell_type": "code",
   "execution_count": 8,
   "metadata": {},
   "outputs": [
    {
     "name": "stdout",
     "output_type": "stream",
     "text": [
      "return code is None\n",
      "return code is 1\n"
     ]
    }
   ],
   "source": [
    "p = Popen(['slow_program.bat'], stdout=PIPE, stderr=PIPE)\n",
    "print('return code is {}'.format(p.returncode))\n",
    "# wait for the command to finish\n",
    "p.wait()\n",
    "print('return code is {}'.format(p.returncode))"
   ]
  },
  {
   "cell_type": "markdown",
   "metadata": {},
   "source": [
    "There are a few ways to wait for a process to finish. The easiest is `p.wait()`, see example above. Then there is `p.communicate()` which also waits for the process to finish and returns the output and errors."
   ]
  },
  {
   "cell_type": "code",
   "execution_count": 9,
   "metadata": {},
   "outputs": [
    {
     "data": {
      "text/plain": [
       "(b'\\r\\nC:\\\\Users\\\\onno__000\\\\Documents\\\\04_mamba\\\\03_cursusmateriaal\\\\course-material\\\\Exercise_notebooks\\\\On_topic\\\\21_run_external_programs_from_cmd>waitfor SomethingThatIsNeverHappening /t 15  2>NUL \\r\\n',\n",
       " b'')"
      ]
     },
     "execution_count": 9,
     "metadata": {},
     "output_type": "execute_result"
    }
   ],
   "source": [
    "p = Popen(['slow_program.bat'], stdout=PIPE, stderr=PIPE)\n",
    "p.communicate()"
   ]
  },
  {
   "cell_type": "code",
   "execution_count": 16,
   "metadata": {},
   "outputs": [],
   "source": [
    "# run multiple processes parallel"
   ]
  },
  {
   "cell_type": "code",
   "execution_count": null,
   "metadata": {},
   "outputs": [],
   "source": []
  },
  {
   "cell_type": "code",
   "execution_count": null,
   "metadata": {},
   "outputs": [],
   "source": []
  },
  {
   "cell_type": "code",
   "execution_count": null,
   "metadata": {},
   "outputs": [],
   "source": []
  },
  {
   "cell_type": "markdown",
   "metadata": {},
   "source": [
    "Subprocess is een geavanceerdere module om external application aan te roepen. Hiermee kan berichtgeving naar de console en terug worden uitgevoerd. In onderstaand voorbeeld construeren we een subproces waarbij een 'Pipe' word ingesteld die fungeert als het communicatiekanaal voor de berichtgeving. De output is nu 'succes' want dat word geprint de externe applicatie in de console. Deze komt standaard aan als type 'byte'. De returncode is ook hier weer 0 als het oproepen deze externe applicatie succesvol verloopt."
   ]
  },
  {
   "cell_type": "code",
   "execution_count": null,
   "metadata": {},
   "outputs": [],
   "source": [
    "from subprocess import Popen, PIPE\n",
    "p = Popen(['python', 'external_application.py'], stdin=PIPE, stdout=PIPE, stderr=PIPE)\n",
    "output, err = p.communicate(b\"input data that is passed to subprocess' stdin\")\n",
    "print('berichten vanuit externe applicatie naar console: {}'.format(output))\n",
    "print(type(output))\n",
    "print('error message vanuit externe applicatie naar console: {}'.format(err))\n",
    "print('returncode: {}'.format(p.returncode))"
   ]
  },
  {
   "cell_type": "markdown",
   "metadata": {},
   "source": [
    "In deze notebook word er getoond hoe externe applicaties op te roepen zijn met python. In dit geval roepen we de executable 'python.exe'op om een script te runnen 'external_application.py'. Dit laatse dient in deze executable als input data. \n"
   ]
  },
  {
   "cell_type": "code",
   "execution_count": null,
   "metadata": {},
   "outputs": [],
   "source": [
    "import os\n",
    "import pandas as pd\n",
    "\n",
    "returncode = os.system('python external_application.py')\n",
    "if returncode == 0:\n",
    "    pandas_output = pd.read_csv('./test.csv', index_col=0)\n",
    "pandas_output\n",
    "\n"
   ]
  },
  {
   "cell_type": "markdown",
   "metadata": {},
   "source": [
    "Met os.system wordt de terminal opgeroepen die het ingevoerde stuk tekst in de console uitvoert. Deze zal dus nu het volgende doen: \n",
    "\n",
    "<figure>\n",
    "   <IMG SRC=\"./\" WIDTH=125 ALIGN=\"right\">\n",
    "   \n",
    "</figure>\n",
    "\n",
    "\n",
    "external_application zier er als volgt uit en slaat een pandas dataframe op in een csv bestand in dezelfde map als het script:"
   ]
  },
  {
   "cell_type": "code",
   "execution_count": null,
   "metadata": {},
   "outputs": [],
   "source": [
    "#external_application.py\n",
    "import pandas as pd\n",
    "import numpy as np\n",
    "d = pd.DataFrame(np.array([[1, 2, 3], [4, 5, 6], [7, 8, 9]]), columns=['a', 'b', 'c'])\n",
    "d.to_csv('./test.csv') \n",
    "print('succes')\n",
    "\n",
    "#print output\n",
    "d"
   ]
  },
  {
   "cell_type": "code",
   "execution_count": null,
   "metadata": {},
   "outputs": [],
   "source": []
  }
 ],
 "metadata": {
  "kernelspec": {
   "display_name": "Python 3",
   "language": "python",
   "name": "python3"
  },
  "language_info": {
   "codemirror_mode": {
    "name": "ipython",
    "version": 3
   },
   "file_extension": ".py",
   "mimetype": "text/x-python",
   "name": "python",
   "nbconvert_exporter": "python",
   "pygments_lexer": "ipython3",
   "version": "3.6.8"
  }
 },
 "nbformat": 4,
 "nbformat_minor": 2
}
