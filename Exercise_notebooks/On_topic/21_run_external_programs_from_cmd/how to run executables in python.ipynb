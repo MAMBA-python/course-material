{
 "cells": [
  {
   "cell_type": "markdown",
   "metadata": {},
   "source": [
    "<figure>\n",
    "   <IMG SRC=\"https://mamba-python.nl/images/logo_basis.png\" WIDTH=125 ALIGN=\"right\">\n",
    "   \n",
    "</figure>\n",
    "\n",
    "# Run executables in Python\n",
    "\n",
    "<br>\n",
    "\n",
    "\n",
    "\n",
    "\n",
    "In this notebook you will learn:\n",
    "- how to run an executable in Python\n",
    "- how to keep track of errors or output of the executable\n",
    "- how to manage the process of running an executable\n",
    "\n",
    "requisite prior knowledge:\n",
    "- what is an executable\n",
    "- run an executable through cmd (windows)/ shell (Linux) / terminal (Mac)\n",
    "- basic Python\n",
    "\n",
    "In this notebook we will show examples for Windows. The code for running software with a Mac is fairly similar although it might take some effort to find the right command for equivalent Mac software. "
   ]
  },
  {
   "cell_type": "code",
   "execution_count": null,
   "metadata": {},
   "outputs": [],
   "source": [
    "import os\n",
    "import pandas as pd\n",
    "import time"
   ]
  },
  {
   "cell_type": "markdown",
   "metadata": {},
   "source": [
    "Sometimes software can be run from command prompt (Windows) or terminal (Mac). A basic example of software that can be run from command prompt is notepad. You can open a certain text file in notepad with command prompt. In the example below we have a test file called `text.txt`. If we call `notepad` in command prompt with the file `test.txt` a new window will be opened with notepad and the text file (see the screenshot below).<br>\n",
    "<p>\n",
    "\n",
    "\n",
    "<figure>\n",
    "   <IMG SRC=\"cmd_test_txt.JPG\" WIDTH=800 ALIGN=\"left\">\n",
    "   \n",
    "</figure>\n",
    "\n"
   ]
  },
  {
   "cell_type": "markdown",
   "metadata": {},
   "source": [
    "## 1. os module"
   ]
  },
  {
   "cell_type": "markdown",
   "metadata": {},
   "source": [
    "If you can run software with command prompt (cmd), you can also run it with Python. This can be helpful if you want to run software away is using the `os` package. The code below does exactly the same as the example above: opening notepad with a certain text file `test.txt`. The `os.system` function executes the string that you've given as a command in cmd. Be aware that notepad may be openend in the background and you cannot execute other code before you've quit notepad. Please quit notepad before continuing with this notebook."
   ]
  },
  {
   "cell_type": "code",
   "execution_count": null,
   "metadata": {},
   "outputs": [],
   "source": [
    "import os\n",
    "os.system('notepad test.txt')"
   ]
  },
  {
   "cell_type": "markdown",
   "metadata": {},
   "source": [
    "As you can see, the output of the `os.system` function equals `0`. According to the documentation this means that the command was executed succesfully and finished without errors. If we would run a command that results in an error we get `1` as the output, see the example below."
   ]
  },
  {
   "cell_type": "code",
   "execution_count": null,
   "metadata": {},
   "outputs": [],
   "source": [
    "os.system('blabla test.txt')"
   ]
  },
  {
   "cell_type": "markdown",
   "metadata": {},
   "source": [
    "## 2. subprocess"
   ]
  },
  {
   "cell_type": "markdown",
   "metadata": {},
   "source": [
    "If a command results in an error, you usually want to know what error it is. With the `os.system` module there is no way of finding out. Luckily there is another module that does give you more error information, this is the `subprocess` module. With `subprocess` you can run commands and obtain the errors and output. The syntax is a bit different. The commands are now entered as a list of strings. In this we create a variable `p` as a handle for the process. We obtain the output and errors of the command using `p.communicate`. Since the `notepad text.txt` command does not have any output (except for an opened notepad window) the `output` and `err` variables are empty strings."
   ]
  },
  {
   "cell_type": "code",
   "execution_count": null,
   "metadata": {},
   "outputs": [],
   "source": [
    "from subprocess import Popen, PIPE\n",
    "p = Popen(['notepad', 'test.txt'], stdout=PIPE, stderr=PIPE)\n",
    "output = p.communicate()"
   ]
  },
  {
   "cell_type": "code",
   "execution_count": null,
   "metadata": {},
   "outputs": [],
   "source": [
    "output"
   ]
  },
  {
   "cell_type": "markdown",
   "metadata": {},
   "source": [
    "A command that does give output is the `python --version` command. If you type this in command prompt it will give you the default Python version on your computer. If you run this command with `Popen` you get the output trought `p.communicate()`."
   ]
  },
  {
   "cell_type": "code",
   "execution_count": null,
   "metadata": {},
   "outputs": [],
   "source": [
    "p = Popen(['python', '--version'], stdout=PIPE, stderr=PIPE)\n",
    "output = p.communicate()"
   ]
  },
  {
   "cell_type": "code",
   "execution_count": null,
   "metadata": {},
   "outputs": [],
   "source": [
    "output"
   ]
  },
  {
   "cell_type": "markdown",
   "metadata": {},
   "source": [
    "Just like the `os.system()` function you can also get the returncode from the subprocess simply with `p.returncode`."
   ]
  },
  {
   "cell_type": "code",
   "execution_count": null,
   "metadata": {},
   "outputs": [],
   "source": [
    "p.returncode"
   ]
  },
  {
   "cell_type": "markdown",
   "metadata": {},
   "source": [
    "## 3. Manage processes"
   ]
  },
  {
   "cell_type": "markdown",
   "metadata": {},
   "source": [
    "Sometimes you encounter processes that take a lot of time. Usually you want to continue using the kernel while the process is ran in the background. This is possible with the `subprocess` module. Actually it is the default setting of the `Popen` command. If you run the `Popen` command but not the `p.communicate()`, the process is run in the background. When you call `p.communicate()` it will wait for the process to finish before it returns the ouptut and errors."
   ]
  },
  {
   "cell_type": "markdown",
   "metadata": {},
   "source": [
    "Below we run the batch file `slow_program.bat` with `Popen`. The batch file takes approximately 15 seconds to finish. During that time the `returncode` is `None`. After the process is finished the returncode is `1` when the process finished succesfully."
   ]
  },
  {
   "cell_type": "code",
   "execution_count": null,
   "metadata": {},
   "outputs": [],
   "source": [
    "p = Popen(['slow_program.bat'], stdout=PIPE, stderr=PIPE)\n",
    "print('return code is {}'.format(p.returncode))\n",
    "# wait for the command to finish\n",
    "p.wait()\n",
    "print('return code is {}'.format(p.returncode))"
   ]
  },
  {
   "cell_type": "markdown",
   "metadata": {},
   "source": [
    "There are a few ways to wait for a process to finish. The easiest is `p.wait()`, see example above. Then there is `p.communicate()` which also waits for the process to finish and returns the output and errors."
   ]
  },
  {
   "cell_type": "code",
   "execution_count": null,
   "metadata": {},
   "outputs": [],
   "source": [
    "p = Popen(['slow_program.bat'], stdout=PIPE, stderr=PIPE)\n",
    "p.communicate()"
   ]
  }
 ],
 "metadata": {
  "kernelspec": {
   "display_name": "Python 3",
   "language": "python",
   "name": "python3"
  },
  "language_info": {
   "codemirror_mode": {
    "name": "ipython",
    "version": 3
   },
   "file_extension": ".py",
   "mimetype": "text/x-python",
   "name": "python",
   "nbconvert_exporter": "python",
   "pygments_lexer": "ipython3",
   "version": "3.7.6"
  }
 },
 "nbformat": 4,
 "nbformat_minor": 2
}
