{
 "cells": [
  {
   "cell_type": "markdown",
   "id": "930d1e84",
   "metadata": {},
   "source": [
    "<figure>\n",
    "   <IMG SRC=\"https://mamba-python.nl/images/logo_basis.png\" WIDTH=125 ALIGN=\"right\">\n",
    "\n",
    "</figure>\n",
    "\n",
    "# For & If statements - Group Exercises\n",
    "\n",
    "Dit notebook bevat oefeningen met for loops & if statements. De opdrachten kunnen individueel of in groepsverband gemaakt worden.\n",
    "\n",
    "*Developed by MAMBA"
   ]
  },
  {
   "cell_type": "markdown",
   "id": "463c9811",
   "metadata": {},
   "source": [
    "## Opdracht 1: Namen uit een lijst\n",
    "\n",
    "Print een voor een alle namen uit een presentielijst "
   ]
  },
  {
   "cell_type": "code",
   "execution_count": null,
   "id": "66118b47",
   "metadata": {},
   "outputs": [],
   "source": [
    "presentie_lijst = ['Janja', 'Brooke', 'Jessica', 'Oriane', 'Natalia', 'Jain', 'Ai']\n",
    "\n"
   ]
  },
  {
   "cell_type": "code",
   "execution_count": null,
   "id": "b9792ca8",
   "metadata": {},
   "outputs": [],
   "source": []
  },
  {
   "cell_type": "markdown",
   "id": "f770c4d3",
   "metadata": {},
   "source": [
    "## Opdracht 2: Gecombineerde lijsten\n",
    "\n",
    "Print één voor één de voor + achternaam van de aanwezigen. Gebruik hiervoor de range functie om de index te krijgen, en hiermee uit beide lijsten de gecombineerde voor & achternaam te halen. \n",
    "\n"
   ]
  },
  {
   "cell_type": "code",
   "execution_count": 6,
   "id": "75fa2146",
   "metadata": {},
   "outputs": [],
   "source": [
    "voornamen = ['Janja', 'Brooke', 'Jessica', 'Oriane', 'Natalia', 'Jain', 'Ai']\n",
    "achternamen = ['Garnbret', 'Raboutou', 'Pilz', 'Bertone', 'Grossman', 'Kim', 'Mori']"
   ]
  },
  {
   "cell_type": "code",
   "execution_count": null,
   "id": "ea223bc9",
   "metadata": {},
   "outputs": [],
   "source": []
  },
  {
   "cell_type": "markdown",
   "id": "b0b19e84",
   "metadata": {},
   "source": [
    "## Opdracht 3: Alles wat even is\n",
    "\n",
    "Print alle even nummers tussen 1 en 50. Gebruik een for-loop met de range functie. Met een if-statement kun je kijken of het getal even is. "
   ]
  },
  {
   "cell_type": "code",
   "execution_count": null,
   "id": "f354e619",
   "metadata": {},
   "outputs": [],
   "source": []
  },
  {
   "cell_type": "markdown",
   "id": "89207f04",
   "metadata": {},
   "source": [
    "## Opdracht 4: De klinkers uit een string\n",
    "\n",
    "Combineer een if & een for statement om de klinkers uit een willekeurige string te tellen. Print het resultaat.\n",
    "\n",
    "   De output bij de string `hello world` zou dus 3 moeten zijn."
   ]
  },
  {
   "cell_type": "code",
   "execution_count": null,
   "id": "75c542f4",
   "metadata": {},
   "outputs": [],
   "source": [
    "test_string = 'hallo iedereen'\n"
   ]
  },
  {
   "cell_type": "code",
   "execution_count": null,
   "id": "5734c76d",
   "metadata": {},
   "outputs": [],
   "source": []
  },
  {
   "cell_type": "markdown",
   "id": "bbf6a347",
   "metadata": {},
   "source": [
    "## Opdracht 5: De som van de cijfers in een getal\n",
    "\n",
    "Berekend de som van de afzonderlijke cijfers in een getal. Print de uitkomst.\n",
    "\n",
    "De uitkomst van getal `12345` zou dus `1+2+3+4+5 = 15` moeten zijn\n"
   ]
  },
  {
   "cell_type": "code",
   "execution_count": null,
   "id": "de446f37",
   "metadata": {},
   "outputs": [],
   "source": [
    "getal = 349180"
   ]
  },
  {
   "cell_type": "code",
   "execution_count": null,
   "id": "791c22ab",
   "metadata": {},
   "outputs": [],
   "source": []
  },
  {
   "cell_type": "markdown",
   "id": "bd067c4f",
   "metadata": {},
   "source": [
    "# Eindopdracht: Didgery digits\n",
    "\n",
    "Mr evil is bezig met het plannen van zijn volgende evilness in Den Haag. De poscode van het adres is een 4-digit getal met de volgende eigenschappen:\n",
    "\n",
    "- Alle 4 de getallen zijn uniek\n",
    "- Het eerste getal is 3x het 3e getal (tellen van links naar rechts)\n",
    "- De postcode is een oneven getal\n",
    "- De som van de getallen is gelijk aan 'x'. \n",
    "\n",
    "Schrijf een for-loop die voor elk van de x-waardes `[27, 66, 23, 6, 12, 15]` een lijst terug geeft met alle mogelijke postcodes gegeven dat getal x (de som van de getallen uit de postcode)\n",
    "\n",
    "VB uitkomsten:\n",
    "\n",
    "x gelijk aan 27 --> [9837]\n",
    "\n",
    "\n",
    "x gelijkk aan 66 --> []\n",
    "\n",
    "\n",
    "x gelijk aan 23 --> [6827, 9437, 9635]"
   ]
  },
  {
   "cell_type": "code",
   "execution_count": null,
   "id": "185121b9",
   "metadata": {},
   "outputs": [],
   "source": []
  },
  {
   "cell_type": "markdown",
   "id": "1b041c5d",
   "metadata": {},
   "source": [
    "## Hints"
   ]
  },
  {
   "cell_type": "markdown",
   "id": "2688bffe",
   "metadata": {},
   "source": [
    "### Opdracht 1"
   ]
  },
  {
   "cell_type": "code",
   "execution_count": null,
   "id": "89fdf85b",
   "metadata": {},
   "outputs": [
    {
     "name": "stdout",
     "output_type": "stream",
     "text": [
      "2\n",
      "hoi\n",
      "[2, 3]\n"
     ]
    }
   ],
   "source": [
    "# Je kunt een voor een elementen uit een lijst halen op de volgende manier:\n",
    "\n",
    "vb_lijst = [2, 'hoi', [2,3]]\n",
    "\n",
    "for elem in vb_lijst:\n",
    "    print(elem)"
   ]
  },
  {
   "cell_type": "markdown",
   "id": "a93b817b",
   "metadata": {},
   "source": [
    "### Opdracht 2\n",
    "\n",
    "Met de `range()` functie in python kun je een aantal gehele getallen terug krijgen. Die kun je gebruiken om het zoveelste element van een lijst op te vragen. \n",
    "\n",
    "Een element opvragen uit een lijst doe je als volgt:"
   ]
  },
  {
   "cell_type": "code",
   "execution_count": null,
   "id": "c24c306c",
   "metadata": {},
   "outputs": [
    {
     "name": "stdout",
     "output_type": "stream",
     "text": [
      "8\n"
     ]
    }
   ],
   "source": [
    "vb_lijst = [2,3,8] # deze lijst heeft elementen op index 0,1 en 2\n",
    "\n",
    "index = 2\n",
    "\n",
    "print(vb_lijst[index])"
   ]
  },
  {
   "cell_type": "markdown",
   "id": "5598488e",
   "metadata": {},
   "source": [
    "### Opdracht 3\n",
    "\n",
    "Om te checken of een getal een even getal is kun je kijken of de float(a/2) gelijk is aan de int(a/2). Je kijkt dan of het afgeronde getal hetzelfde is als het decimale getal. "
   ]
  },
  {
   "cell_type": "code",
   "execution_count": null,
   "id": "c80c0731",
   "metadata": {},
   "outputs": [
    {
     "data": {
      "text/plain": [
       "False"
      ]
     },
     "execution_count": 4,
     "metadata": {},
     "output_type": "execute_result"
    }
   ],
   "source": [
    "# i.e. een variabele a is even als:\n",
    "a = 9\n",
    "\n",
    "int(a/2) == a/2 # geeft False terug bij oneven getallen, True bij even. "
   ]
  },
  {
   "cell_type": "code",
   "execution_count": null,
   "id": "8cf4ea92",
   "metadata": {},
   "outputs": [
    {
     "data": {
      "image/png": "[encoded data removed]",
      "text/plain": [
       "<Figure size 640x480 with 1 Axes>"
      ]
     },
     "metadata": {},
     "output_type": "display_data"
    }
   ],
   "source": [
    "import matplotlib.pyplot as plt\n",
    "import numpy as np\n",
    "\n",
    "t = np.arange(0.0, 2, 1.)\n",
    "s = np.sin(2*np.pi*t)\n",
    "\n",
    "fig, ax = plt.subplots()\n",
    "\n",
    "ax.plot(t, s, color='black')\n",
    "ax.axhline(0, color='black')\n",
    "\n",
    "ax.fill_between(t, 1, where=s > 0, facecolor='green', alpha=.5)\n",
    "ax.fill_between(t, -1, where=s < 0, facecolor='red', alpha=.5)\n",
    "\n",
    "plt.show()"
   ]
  },
  {
   "cell_type": "code",
   "execution_count": 1,
   "id": "6b708875",
   "metadata": {},
   "outputs": [
    {
     "name": "stdout",
     "output_type": "stream",
     "text": [
      "1\n",
      "0\n"
     ]
    }
   ],
   "source": [
    "# Een andere optie om te checken op even getallen is de modulo gebruiken (de restwaarde):\n",
    "\n",
    "print(9 % 2)\n",
    "print(4 % 2)"
   ]
  },
  {
   "cell_type": "markdown",
   "id": "62e93aee",
   "metadata": {},
   "source": [
    "### Opdracht 4\n",
    "\n",
    "Een for-loop over een string geeft automatisch één voor één de karakters terug. \n",
    "Je kunt een lijstje aanmaken met alle klinkers:\n",
    "`klinkers = ['a', 'e', 'o', 'u', 'i']` en dan per karakter checken of deze in het lijstje voorkomt. \n",
    "\n",
    "Nog mooier is kijken of het karakter voorkomt in de string:\n",
    "` if karakter in 'aeoui':`\n"
   ]
  },
  {
   "cell_type": "markdown",
   "id": "1a3ea228",
   "metadata": {},
   "source": [
    "### Opdracht 5\n",
    "\n",
    "Om de cijfers één voor één uit een getal te halen, kun je er eerst een string van maken (met `str()`). Als je dan loopt over die string, krijg je een voor een de losse karakters terug. Deze kun je dan weer terug omzetten in een integer (met `int()`) en optellen bij de startwaarde. "
   ]
  },
  {
   "cell_type": "code",
   "execution_count": null,
   "id": "3a266b32",
   "metadata": {},
   "outputs": [
    {
     "name": "stdout",
     "output_type": "stream",
     "text": [
      "h\n",
      "a\n",
      "l\n",
      "l\n",
      "o\n"
     ]
    }
   ],
   "source": [
    "# vb. loopen over een string:\n",
    "\n",
    "a = 'hallo'\n",
    "\n",
    "for karakter in a:\n",
    "    print(karakter)"
   ]
  }
 ],
 "metadata": {
  "kernelspec": {
   "display_name": "paotm",
   "language": "python",
   "name": "python3"
  },
  "language_info": {
   "codemirror_mode": {
    "name": "ipython",
    "version": 3
   },
   "file_extension": ".py",
   "mimetype": "text/x-python",
   "name": "python",
   "nbconvert_exporter": "python",
   "pygments_lexer": "ipython3",
   "version": "3.11.5"
  }
 },
 "nbformat": 4,
 "nbformat_minor": 5
}
