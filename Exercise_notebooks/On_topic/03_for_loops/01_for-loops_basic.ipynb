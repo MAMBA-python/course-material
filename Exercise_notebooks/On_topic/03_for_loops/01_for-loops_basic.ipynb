{
 "cells": [
  {
   "cell_type": "markdown",
   "metadata": {},
   "source": [
    "<figure>\n",
    "   <IMG SRC=\"https://mamba-python.nl/images/logo_basis.png\" WIDTH=125 ALIGN=\"right\">\n",
    "\n",
    "</figure>\n",
    "    \n",
    "    \n",
    "# For-loops\n",
    "    \n",
    "In dit notebook staan extra basis oefeningen over for-loops. For-loops is een hele krachtige manier om stukken code herhaaldelijk te laten uitvoeren. De code om een for-loop te maken is in het begin vaak lastig te begrijpen. Vandaar deze extra oefeningen om de for-loop te doorgronden.\n",
    "    \n",
    "<br><div style=\"text-align: right\"> Developed by MAMBA </div>"
   ]
  },
  {
   "cell_type": "markdown",
   "metadata": {},
   "source": [
    "## 1. De list\n",
    "\n",
    "We starten kort met uitleg over het datatype `list`. Deze hebben we zo direct nodig bij onze for-loop. Een list is een collectie van variabelen (elementen). Je kan elementen uit een list opvragen, aanpassen en toevoegen. Neem de `list_vb = [10, 10.5, 'hallo']` als voorbeeld\n",
    "\n",
    "- opvragen: dit kan aan de hand van de positie (index) van het element in de list, waarbij het eerste element index `0` heeft. Om het element `10.5` op te vragen type je `list_vb[1]`. Om het element `10` op te vragen type je `list_vb[0]`. \n",
    "\n",
    "- wijzigen: je kan de elementen van een list wijzigen door deze op te vragen en gelijk te stellen aan een andere waarde. Bijvoorbeeld `list_vb[2] = 'doei'` veranderd het element `'hallo'` in `'doei'`. \n",
    "\n",
    "- element toevoegen: je kan een extra element toevoegen aan een list met de `.append()` functie. Bijvoorbeeld `list_vb.append('jij ook hallo')` voegt een 4e element toe aan de list met elementen `10`, `10.5` en `'hallo'`. "
   ]
  },
  {
   "cell_type": "markdown",
   "metadata": {},
   "source": [
    "#### Opgave 1<a name=\"ex1\"></a>\n",
    "\n",
    "\n",
    "1. Maak een list met de elementen `5`, `8.8`, `'hond'`, `'sushi'`. \n",
    "2. Wijzig het element `'hond'` in `'puppy'`\n",
    "3. Voeg het element `'Japan'` toe aan de list\n",
    "4. print het laatste element uit de list (let op de telling begint bij 0). \n"
   ]
  },
  {
   "cell_type": "code",
   "execution_count": null,
   "metadata": {},
   "outputs": [],
   "source": []
  },
  {
   "cell_type": "markdown",
   "metadata": {},
   "source": [
    "<a href=\"#ans1\">Antwoord opgave 1</a>"
   ]
  },
  {
   "cell_type": "markdown",
   "metadata": {},
   "source": [
    "## 2. For loop"
   ]
  },
  {
   "cell_type": "markdown",
   "metadata": {},
   "source": [
    "In onderstaand voorbeeld staat een `for`-loop om de elementen uit een list te printen. De loop bestaat uit de volgende onderdelen:\n",
    "- met `for` geef je aan dat er een for-loop komt.\n",
    "- de variabele die na 'for' komt verandert bij iedere iteratie van waarde, in ons geval is dit `url`. Dit wordt ook wel de iterator variable genoemd. \n",
    "- `in` staat tussen de iterator variable en de iterator in.\n",
    "- de iterator is de variabele waar je doorheen loopt. In ons geval `url_list`.\n",
    "- na de iterator volgt een `:`. Daarna zijn alle regels code die één tab zijn ingesprongen onderdeel van de loop.\n",
    "\n",
    "In ons geval bevat de iterator `url_list` 6 elementen. Dit betekent dat onze loop 6 iteraties zal doorlopen:\n",
    "1. Bij de eerste iteratie krijgt `url` de waarde `www.bol.com`. Vervolgens wordt de regel `print(url)` uitgevoerd. \n",
    "2. Bij de tweede iteratie krijgt `url` de waarde `www.thuisbezorgd.nl` en wordt de regel `print(url)` uitgevoerd. \n",
    "3. Bij de derde iteratie krijgt `url` de waarde `www.ferminrotterdam.nl` enz..\n",
    "4. ..\n",
    "5. ..\n",
    "6. Bij de zesde iteratie krijg `url` de waarde `www.renver.nl` en wordt de regel `print(url)` uitgevoerd."
   ]
  },
  {
   "cell_type": "code",
   "execution_count": 1,
   "metadata": {},
   "outputs": [
    {
     "name": "stdout",
     "output_type": "stream",
     "text": [
      "www.bol.com\n",
      "www.thuisbezorg.nl\n",
      "www.ferminrotterdam.nl\n",
      "www.mamba-python.nl\n",
      "www.debuffelrotterdam.nl\n",
      "www.renver.nl\n"
     ]
    }
   ],
   "source": [
    "url_list = ['www.bol.com', 'www.thuisbezorg.nl', 'www.ferminrotterdam.nl', 'www.mamba-python.nl', \n",
    "           'www.debuffelrotterdam.nl', 'www.renver.nl']\n",
    "\n",
    "for url in url_list:\n",
    "    print(url)\n",
    "    \n",
    "# Met de for loop maken we een variabele 'url' aan die om de beurt de waarde uit\n",
    "# de elementen van de list aanneemt. "
   ]
  },
  {
   "cell_type": "code",
   "execution_count": 2,
   "metadata": {},
   "outputs": [
    {
     "name": "stdout",
     "output_type": "stream",
     "text": [
      "www.bol.com\n",
      "www.thuisbezorg.nl\n",
      "www.ferminrotterdam.nl\n",
      "www.mamba-python.nl\n",
      "www.debuffelrotterdam.nl\n",
      "www.renver.nl\n"
     ]
    }
   ],
   "source": [
    "# deze code doet hetzelfde als:\n",
    "print(url_list[0])\n",
    "print(url_list[1])\n",
    "print(url_list[2])\n",
    "print(url_list[3])\n",
    "print(url_list[4])\n",
    "print(url_list[5])\n",
    "# maar is een stuk korter/mooier wanneer je gebruikt maakt van de for loop"
   ]
  },
  {
   "cell_type": "markdown",
   "metadata": {},
   "source": [
    "#### Opgave 2.1<a name=\"ex2\"></a>\n",
    "\n",
    "Maak een list (`maaltijd_list`) met 8 verschillende gerechten. Gebruik een for loop om deze een voor een te printen.\n"
   ]
  },
  {
   "cell_type": "code",
   "execution_count": null,
   "metadata": {},
   "outputs": [],
   "source": []
  },
  {
   "cell_type": "markdown",
   "metadata": {},
   "source": [
    "<a href=\"#ans2\">Antwoord opgave 2.1</a>"
   ]
  },
  {
   "cell_type": "markdown",
   "metadata": {},
   "source": [
    "Een andere manier om elementen uit een list te halen met een for loop is door het element op te vragen op basis van de index. En dus niet door direct over de elementen uit de list te loopen. Dit kan bijvoorbeeld handig zijn als je meerdere lists hebt. \n",
    "\n",
    "Om over de index te loopen kunnen we gebruik maken van de `range` functie van python. "
   ]
  },
  {
   "cell_type": "code",
   "execution_count": 3,
   "metadata": {},
   "outputs": [
    {
     "name": "stdout",
     "output_type": "stream",
     "text": [
      "0\n",
      "1\n",
      "2\n",
      "3\n"
     ]
    }
   ],
   "source": [
    "# de range functie geeft een reeks aan waarden waar je overheen kan loopen. \n",
    "for i in range(0,4):\n",
    "    # de variabele i wordt aangemaakt en krijgt de gehele waarden van 0 tot 4 (NB: niet tot en met)\n",
    "    print(i)"
   ]
  },
  {
   "cell_type": "markdown",
   "metadata": {},
   "source": [
    "Je kan deze index gebruiken om de elementen uit een list te halen."
   ]
  },
  {
   "cell_type": "code",
   "execution_count": 4,
   "metadata": {},
   "outputs": [
    {
     "name": "stdout",
     "output_type": "stream",
     "text": [
      "www.bol.com\n",
      "www.thuisbezorg.nl\n",
      "www.ferminrotterdam.nl\n",
      "www.mamba-python.nl\n",
      "www.debuffelrotterdam.nl\n"
     ]
    }
   ],
   "source": [
    "for i in range(0,5):\n",
    "    print(url_list[i])"
   ]
  },
  {
   "cell_type": "markdown",
   "metadata": {},
   "source": [
    "#### Opgave 2.2<a name=\"ex22\"></a>\n",
    "\n",
    "\n",
    "Gebruik de index & een for loop om de elementen uit de `maaltijd_list` te printen. \n",
    "Combineer hiervoor de kennis \n",
    "- een loop over de index maken met `for i in range(...)`\n",
    "- element opvragen met `list_vb[i]`\n"
   ]
  },
  {
   "cell_type": "code",
   "execution_count": null,
   "metadata": {},
   "outputs": [],
   "source": []
  },
  {
   "cell_type": "markdown",
   "metadata": {},
   "source": [
    "<a href=\"#ans22\">Antwoord opgave 2.2</a>"
   ]
  },
  {
   "cell_type": "markdown",
   "metadata": {},
   "source": [
    "#### Oefening 2.3<a name=\"ex23\"></a>\n",
    "\n",
    "Maak een nieuwe list genaamd `beoordeling_list` met voor ieder gerecht uit `maaltijd_list` een indicatie of het `lekker` is of `vies`. Print de lengte van de lists met de functie `len()`. (bijvoorbeeld `len(url_list) = 6`). Als het goed is hebben beide lists, `beoordeling_list` en `maaltijd_list`, een lengte van 8. \n",
    "\n",
    "Loop over de twee lists, print de maaltijd met bijbehorende beoordeling."
   ]
  },
  {
   "cell_type": "code",
   "execution_count": null,
   "metadata": {},
   "outputs": [],
   "source": []
  },
  {
   "cell_type": "markdown",
   "metadata": {},
   "source": [
    "<a href=\"#ans23\">Antwoord opgave 2.3</a>"
   ]
  },
  {
   "cell_type": "markdown",
   "metadata": {},
   "source": [
    "#### Loop over meerdere lists\n",
    "\n",
    "Je kan ook elementen paarsgewijs uit twee (of meerdere) lists halen met de `zip()` functie. Bijvoorbeeld:"
   ]
  },
  {
   "cell_type": "code",
   "execution_count": 5,
   "metadata": {},
   "outputs": [
    {
     "name": "stdout",
     "output_type": "stream",
     "text": [
      "hallo 23\n",
      "ik 4\n",
      "ben 5\n",
      "19 6\n"
     ]
    }
   ],
   "source": [
    "list_1 = [23,4,5,6]\n",
    "list_2 = ['hallo', 'ik', 'ben', 19]\n",
    "\n",
    "for nmbr, word in zip(list_1, list_2):\n",
    "    print(word,nmbr)"
   ]
  },
  {
   "cell_type": "code",
   "execution_count": null,
   "metadata": {},
   "outputs": [],
   "source": []
  },
  {
   "cell_type": "markdown",
   "metadata": {},
   "source": [
    "#### Opgave 2.4<a name=\"ex24\"></a>\n",
    "\n",
    "Gebruik de `zip()` functie om over beide lists te loopen en de items te printen zoals in het voorbeeld hierboven."
   ]
  },
  {
   "cell_type": "code",
   "execution_count": null,
   "metadata": {},
   "outputs": [],
   "source": []
  },
  {
   "cell_type": "markdown",
   "metadata": {},
   "source": [
    "<a href=\"#ans24\">Antwoord opgave 2.4</a>"
   ]
  },
  {
   "cell_type": "markdown",
   "metadata": {},
   "source": [
    "#### Printen \n",
    "\n",
    "Ja kan variabele ook printen in combinatie met tekst. Dit kan op verschillende manieren:\n",
    "1. print variabelen gescheiden door komma's \n",
    "2. print een string waarin je verwijst naar variabelen met `.format`\n",
    "3. print een zogenaamde format string waarbij je in de string variabelen noemt\n",
    "\n",
    "zie de voorbeelden hieronder"
   ]
  },
  {
   "cell_type": "code",
   "execution_count": 6,
   "metadata": {},
   "outputs": [],
   "source": [
    "a = 10\n",
    "b = 5"
   ]
  },
  {
   "cell_type": "code",
   "execution_count": 7,
   "metadata": {
    "scrolled": true
   },
   "outputs": [
    {
     "name": "stdout",
     "output_type": "stream",
     "text": [
      "variabele a = 10 variabele b = 5\n"
     ]
    }
   ],
   "source": [
    "# 1. printen met komma's:\n",
    "print('variabele a =',a, 'variabele b =',b)"
   ]
  },
  {
   "cell_type": "code",
   "execution_count": 8,
   "metadata": {
    "scrolled": true
   },
   "outputs": [
    {
     "name": "stdout",
     "output_type": "stream",
     "text": [
      "variabele a = 10, variabele b = 5\n"
     ]
    }
   ],
   "source": [
    "# 2. printen met .format()\n",
    "print('variabele a = {}, variabele b = {}'.format(a,b))"
   ]
  },
  {
   "cell_type": "code",
   "execution_count": 9,
   "metadata": {},
   "outputs": [
    {
     "name": "stdout",
     "output_type": "stream",
     "text": [
      "variabele a = 10, variabelen b = 5\n"
     ]
    }
   ],
   "source": [
    "# 3. print met format string\n",
    "print(f\"variabele a = {a}, variabelen b = {b}\")"
   ]
  },
  {
   "cell_type": "markdown",
   "metadata": {},
   "source": [
    "#### Opgave 2.5<a name=\"ex25\"></a>\n",
    "\n",
    "\n",
    "Gebruik een for loop (over de index of met de `zip` functie) om te printen 'maaltijd ... vind ik ... '. "
   ]
  },
  {
   "cell_type": "code",
   "execution_count": null,
   "metadata": {},
   "outputs": [],
   "source": []
  },
  {
   "cell_type": "markdown",
   "metadata": {},
   "source": [
    "<a href=\"#ans25\">Antwoord opgave 2.5</a>"
   ]
  },
  {
   "cell_type": "markdown",
   "metadata": {},
   "source": [
    "#### Opgave 2.6<a name=\"ex26\"></a>\n",
    "\n",
    "Er is een list 'prijzen' die de kosten geeft om de maaltijden voor 2 personen te koken. `prijzen = [15.00, 8.05, 7.50, 20.35, 10.94]`. De eerste prijs hoort bij de eerste maaltijd, enz. Alle boodschappen zijn 30% duurder geworden. Vervang de elementen in de list door een prijs die 30% hoger is (prijs * 1.3).\n",
    "\n"
   ]
  },
  {
   "cell_type": "code",
   "execution_count": 10,
   "metadata": {},
   "outputs": [],
   "source": [
    "prijzen =  [15.00, 8.05, 7.50, 20.35, 10.94, 5.00, 18.00, 33.00]\n"
   ]
  },
  {
   "cell_type": "markdown",
   "metadata": {},
   "source": [
    "<a href=\"#ans26\">Antwoord opgave 2.6</a>"
   ]
  },
  {
   "cell_type": "markdown",
   "metadata": {},
   "source": [
    "#### Opgave 2.7<a name=\"ex27\"></a>\n",
    "Bepaalde drank gaat goed bij de maaltijd. De volgende list geeft de prijzen die bij de maaltijden horen (waarbij ook weer de eerste prijs hoort bij de eerste maaltijd). \n",
    "\n",
    "- `prijzen_drank = [12.00, 20.00, 22.00, 0.00, 88.00, 10.00, 2.00, 7.00]`\n",
    "\n",
    "Vul de nog lege list `prijzen_tot` met de som van de waarde uit de prijzen voor het eten + de kosten voor de drank\n"
   ]
  },
  {
   "cell_type": "code",
   "execution_count": 11,
   "metadata": {},
   "outputs": [],
   "source": [
    "prijzen_drank = [12.00, 20.00, 22.00, 0.00, 88.00, 10.00, 2.00, 7.00]\n",
    "prijzen_tot = [] # deze list is nu nog leeg. \n",
    "\n",
    "# Herinner: een list kun je vullen de .append() functie (vb. prijzen_tot.append('vb-elem') )\n"
   ]
  },
  {
   "cell_type": "markdown",
   "metadata": {},
   "source": [
    "<a href=\"#ans27\">Antwoord opgave 2.7</a>"
   ]
  },
  {
   "cell_type": "markdown",
   "metadata": {},
   "source": [
    "## Answers"
   ]
  },
  {
   "cell_type": "markdown",
   "metadata": {},
   "source": [
    "#### <a href=\"#ex1\">Antwoord opgave 1</a> <a name=\"ans1\"></a>"
   ]
  },
  {
   "cell_type": "code",
   "execution_count": 12,
   "metadata": {},
   "outputs": [
    {
     "name": "stdout",
     "output_type": "stream",
     "text": [
      "Japan\n"
     ]
    }
   ],
   "source": [
    "l = [5, 8.8, 'hond', 'sushi']\n",
    "l[2] = 'puppy'\n",
    "l.append('Japan')\n",
    "print(l[4])"
   ]
  },
  {
   "cell_type": "code",
   "execution_count": 13,
   "metadata": {},
   "outputs": [
    {
     "name": "stdout",
     "output_type": "stream",
     "text": [
      "Japan\n"
     ]
    }
   ],
   "source": [
    "#bonus vraag het laatste element op uit een list (i.p.v. zelf tot 4 te tellen)\n",
    "print(l[-1])"
   ]
  },
  {
   "cell_type": "markdown",
   "metadata": {},
   "source": [
    "#### <a href=\"#ex2\">Antwoord opgave 2.1</a> <a name=\"ans2\"></a>"
   ]
  },
  {
   "cell_type": "code",
   "execution_count": 14,
   "metadata": {},
   "outputs": [
    {
     "name": "stdout",
     "output_type": "stream",
     "text": [
      "pasta-pesto\n",
      "pasta bolognese\n",
      "pasta corbonara\n",
      "pasta genovese\n",
      "pasta aioli\n",
      "pasta funghi\n",
      "pasta salada\n",
      "bami\n"
     ]
    }
   ],
   "source": [
    "maaltijd_list = ['pasta-pesto', 'pasta bolognese', 'pasta corbonara', \n",
    "                  'pasta genovese', 'pasta aioli', 'pasta funghi',\n",
    "                  'pasta salada', 'bami']\n",
    "for maaltijd in maaltijd_list:\n",
    "    print(maaltijd)"
   ]
  },
  {
   "cell_type": "markdown",
   "metadata": {},
   "source": [
    "#### <a href=\"#ex22\">Antwoord opgave 2.2</a> <a name=\"ans22\"></a>"
   ]
  },
  {
   "cell_type": "code",
   "execution_count": 15,
   "metadata": {},
   "outputs": [
    {
     "name": "stdout",
     "output_type": "stream",
     "text": [
      "pasta-pesto\n",
      "pasta bolognese\n",
      "pasta corbonara\n",
      "pasta genovese\n",
      "pasta aioli\n",
      "pasta funghi\n",
      "pasta salada\n",
      "bami\n"
     ]
    }
   ],
   "source": [
    "for i in range(0,8):\n",
    "    print(maaltijd_list[i])"
   ]
  },
  {
   "cell_type": "code",
   "execution_count": 16,
   "metadata": {},
   "outputs": [
    {
     "name": "stdout",
     "output_type": "stream",
     "text": [
      "pasta-pesto\n",
      "pasta bolognese\n",
      "pasta corbonara\n",
      "pasta genovese\n",
      "pasta aioli\n",
      "pasta funghi\n",
      "pasta salada\n",
      "bami\n"
     ]
    }
   ],
   "source": [
    "#bonus, gebruik 'len' om de lengte van de list op te vragen\n",
    "for i in range(0,len(maaltijd_list)):\n",
    "    print(maaltijd_list[i])"
   ]
  },
  {
   "cell_type": "markdown",
   "metadata": {},
   "source": [
    "#### <a href=\"#ex23\">Antwoord opgave 2.3</a> <a name=\"ans23\"></a>"
   ]
  },
  {
   "cell_type": "code",
   "execution_count": 17,
   "metadata": {},
   "outputs": [
    {
     "name": "stdout",
     "output_type": "stream",
     "text": [
      "8\n",
      "8\n",
      "pasta-pesto vies\n",
      "pasta bolognese vies\n",
      "pasta corbonara vies\n",
      "pasta genovese vies\n",
      "pasta aioli vies\n",
      "pasta funghi vies\n",
      "pasta salada vies\n",
      "bami lekker\n"
     ]
    }
   ],
   "source": [
    "beoordeling_list = ['vies', 'vies', 'vies', 'vies', 'vies', 'vies', 'vies', 'lekker']\n",
    "print(len(beoordeling_list))\n",
    "print(len(maaltijd_list))\n",
    "for i in range(0, len(beoordeling_list)):\n",
    "    maaltijd = maaltijd_list[i]\n",
    "    beoordeling = beoordeling_list[i]\n",
    "    print(maaltijd, beoordeling)"
   ]
  },
  {
   "cell_type": "markdown",
   "metadata": {},
   "source": [
    "#### <a href=\"#ex24\">Antwoord opgave 2.4</a> <a name=\"ans24\"></a>"
   ]
  },
  {
   "cell_type": "code",
   "execution_count": 18,
   "metadata": {},
   "outputs": [
    {
     "name": "stdout",
     "output_type": "stream",
     "text": [
      "pasta-pesto vies\n",
      "pasta bolognese vies\n",
      "pasta corbonara vies\n",
      "pasta genovese vies\n",
      "pasta aioli vies\n",
      "pasta funghi vies\n",
      "pasta salada vies\n",
      "bami lekker\n"
     ]
    }
   ],
   "source": [
    "for maaltijd, beoordeling in zip(maaltijd_list, beoordeling_list):\n",
    "    print(maaltijd, beoordeling)"
   ]
  },
  {
   "cell_type": "markdown",
   "metadata": {},
   "source": [
    "#### <a href=\"#ex25\">Antwoord opgave 2.5</a> <a name=\"ans25\"></a>\n",
    "Bij dit antwoord zie je dat er veel verschillende manieren zijn om hetzelfde te doen. Over het algemeen is er één beste manier om iets te doen. Aan de hand van de [`Zen of Python`](https://www.python.org/dev/peps/pep-0020/) wordt vaak beredeneert welke manier het best is. Dit is aan interpretatie onderhevig. In dit geval zou ik zelf kiezen voor de laatste methode omdat dit de makkelijkst leesbare oplossing is (`Readability counts`)."
   ]
  },
  {
   "cell_type": "code",
   "execution_count": 19,
   "metadata": {},
   "outputs": [
    {
     "name": "stdout",
     "output_type": "stream",
     "text": [
      "de maaltijd pasta-pesto vind ik vies\n",
      "de maaltijd pasta bolognese vind ik vies\n",
      "de maaltijd pasta corbonara vind ik vies\n",
      "de maaltijd pasta genovese vind ik vies\n",
      "de maaltijd pasta aioli vind ik vies\n",
      "de maaltijd pasta funghi vind ik vies\n",
      "de maaltijd pasta salada vind ik vies\n",
      "de maaltijd bami vind ik lekker\n"
     ]
    }
   ],
   "source": [
    "# over de index print methode 1\n",
    "for i in range(0, len(beoordeling_list)):\n",
    "    maaltijd = maaltijd_list[i]\n",
    "    beoordeling = beoordeling_list[i]\n",
    "    print(\"de maaltijd\", maaltijd,  \"vind ik\", beoordeling)"
   ]
  },
  {
   "cell_type": "code",
   "execution_count": 20,
   "metadata": {},
   "outputs": [
    {
     "name": "stdout",
     "output_type": "stream",
     "text": [
      "de maaltijd pasta-pesto vind ik vies\n",
      "de maaltijd pasta bolognese vind ik vies\n",
      "de maaltijd pasta corbonara vind ik vies\n",
      "de maaltijd pasta genovese vind ik vies\n",
      "de maaltijd pasta aioli vind ik vies\n",
      "de maaltijd pasta funghi vind ik vies\n",
      "de maaltijd pasta salada vind ik vies\n",
      "de maaltijd bami vind ik lekker\n"
     ]
    }
   ],
   "source": [
    "# over de index print methode 2\n",
    "for i in range(0, len(beoordeling_list)):\n",
    "    maaltijd = maaltijd_list[i]\n",
    "    beoordeling = beoordeling_list[i]\n",
    "    print(\"de maaltijd {} vind ik {}\".format(maaltijd, beoordeling))"
   ]
  },
  {
   "cell_type": "code",
   "execution_count": 21,
   "metadata": {},
   "outputs": [
    {
     "name": "stdout",
     "output_type": "stream",
     "text": [
      "de maaltijd pasta-pesto vind ik vies\n",
      "de maaltijd pasta bolognese vind ik vies\n",
      "de maaltijd pasta corbonara vind ik vies\n",
      "de maaltijd pasta genovese vind ik vies\n",
      "de maaltijd pasta aioli vind ik vies\n",
      "de maaltijd pasta funghi vind ik vies\n",
      "de maaltijd pasta salada vind ik vies\n",
      "de maaltijd bami vind ik lekker\n"
     ]
    }
   ],
   "source": [
    "# over de index print methode 3\n",
    "for i in range(0, len(beoordeling_list)):\n",
    "    maaltijd = maaltijd_list[i]\n",
    "    beoordeling = beoordeling_list[i]\n",
    "    print(f\"de maaltijd {maaltijd} vind ik {beoordeling}\")"
   ]
  },
  {
   "cell_type": "code",
   "execution_count": 22,
   "metadata": {},
   "outputs": [
    {
     "name": "stdout",
     "output_type": "stream",
     "text": [
      "de maaltijd pasta-pesto vind ik vies\n",
      "de maaltijd pasta bolognese vind ik vies\n",
      "de maaltijd pasta corbonara vind ik vies\n",
      "de maaltijd pasta genovese vind ik vies\n",
      "de maaltijd pasta aioli vind ik vies\n",
      "de maaltijd pasta funghi vind ik vies\n",
      "de maaltijd pasta salada vind ik vies\n",
      "de maaltijd bami vind ik lekker\n"
     ]
    }
   ],
   "source": [
    "# met de zip functie print methode 3\n",
    "for maaltijd, beoordeling in zip(maaltijd_list, beoordeling_list):\n",
    "    print(f\"de maaltijd {maaltijd} vind ik {beoordeling}\")"
   ]
  },
  {
   "cell_type": "markdown",
   "metadata": {},
   "source": [
    "#### <a href=\"#ex26\">Antwoord opgave 2.6</a> <a name=\"ans26\"></a>"
   ]
  },
  {
   "cell_type": "code",
   "execution_count": 23,
   "metadata": {},
   "outputs": [
    {
     "name": "stdout",
     "output_type": "stream",
     "text": [
      "[19.5, 10.465000000000002, 9.75, 26.455000000000002, 14.222, 6.5, 23.400000000000002, 42.9]\n"
     ]
    }
   ],
   "source": [
    "prijzen =  [15.00, 8.05, 7.50, 20.35, 10.94, 5.00, 18.00, 33.00]\n",
    "for i in range(len(prijzen)):\n",
    "    prijzen[i] = prijzen[i]*1.3\n",
    "print(prijzen)"
   ]
  },
  {
   "cell_type": "markdown",
   "metadata": {},
   "source": [
    "#### <a href=\"#ex27\">Antwoord opgave 2.7</a> <a name=\"ans27\"></a>"
   ]
  },
  {
   "cell_type": "code",
   "execution_count": 24,
   "metadata": {},
   "outputs": [
    {
     "data": {
      "text/plain": [
       "[31.5,\n",
       " 30.465000000000003,\n",
       " 31.75,\n",
       " 26.455000000000002,\n",
       " 102.222,\n",
       " 16.5,\n",
       " 25.400000000000002,\n",
       " 49.9]"
      ]
     },
     "execution_count": 24,
     "metadata": {},
     "output_type": "execute_result"
    }
   ],
   "source": [
    "prijzen_drank = [12.00, 20.00, 22.00, 0.00, 88.00, 10.00, 2.00, 7.00]\n",
    "prijzen_tot = [] # deze list is nu nog leeg. \n",
    "for prijs_eten, prijs_drank in zip(prijzen, prijzen_drank):\n",
    "    prijzen_tot.append(prijs_eten+prijs_drank)\n",
    "\n",
    "prijzen_tot"
   ]
  }
 ],
 "metadata": {
  "kernelspec": {
   "display_name": "Python 3",
   "language": "python",
   "name": "python3"
  },
  "language_info": {
   "codemirror_mode": {
    "name": "ipython",
    "version": 3
   },
   "file_extension": ".py",
   "mimetype": "text/x-python",
   "name": "python",
   "nbconvert_exporter": "python",
   "pygments_lexer": "ipython3",
   "version": "3.7.6"
  }
 },
 "nbformat": 4,
 "nbformat_minor": 2
}
