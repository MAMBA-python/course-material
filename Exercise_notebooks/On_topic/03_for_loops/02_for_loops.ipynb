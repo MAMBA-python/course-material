{
 "cells": [
  {
   "cell_type": "markdown",
   "metadata": {},
   "source": [
    "# [`for` loops](https://docs.python.org/3/tutorial/controlflow.html#for-statements)"
   ]
  },
  {
   "cell_type": "markdown",
   "metadata": {},
   "source": [
    "## Looping lists"
   ]
  },
  {
   "cell_type": "code",
   "execution_count": null,
   "metadata": {
    "execution": {
     "iopub.execute_input": "2020-10-22T13:31:34.330822Z",
     "iopub.status.busy": "2020-10-22T13:31:34.330822Z",
     "iopub.status.idle": "2020-10-22T13:31:34.346408Z",
     "shell.execute_reply": "2020-10-22T13:31:34.346408Z"
    }
   },
   "outputs": [],
   "source": [
    "my_list = [1, 2, 3, 4, 'Python', 'is', 'neat']\n",
    "for item in my_list:\n",
    "    print(item)"
   ]
  },
  {
   "cell_type": "markdown",
   "metadata": {},
   "source": [
    "### `break`\n",
    "Stop the execution of the loop."
   ]
  },
  {
   "cell_type": "code",
   "execution_count": null,
   "metadata": {
    "execution": {
     "iopub.execute_input": "2020-10-22T13:31:34.346408Z",
     "iopub.status.busy": "2020-10-22T13:31:34.346408Z",
     "iopub.status.idle": "2020-10-22T13:31:34.362069Z",
     "shell.execute_reply": "2020-10-22T13:31:34.362069Z"
    }
   },
   "outputs": [],
   "source": [
    "for item in my_list:\n",
    "    if item == 'Python':\n",
    "        break\n",
    "    print(item)"
   ]
  },
  {
   "cell_type": "markdown",
   "metadata": {},
   "source": [
    "### `continue`\n",
    "Continue to the next item without executing the lines occuring after `continue` inside the loop."
   ]
  },
  {
   "cell_type": "code",
   "execution_count": null,
   "metadata": {
    "execution": {
     "iopub.execute_input": "2020-10-22T13:31:34.362069Z",
     "iopub.status.busy": "2020-10-22T13:31:34.362069Z",
     "iopub.status.idle": "2020-10-22T13:31:34.377693Z",
     "shell.execute_reply": "2020-10-22T13:31:34.377693Z"
    }
   },
   "outputs": [],
   "source": [
    "for item in my_list:\n",
    "    if item == 1:\n",
    "        continue\n",
    "    print(item)"
   ]
  },
  {
   "cell_type": "markdown",
   "metadata": {},
   "source": [
    "### `enumerate()`\n",
    "In case you need to also know the index:"
   ]
  },
  {
   "cell_type": "code",
   "execution_count": null,
   "metadata": {
    "execution": {
     "iopub.execute_input": "2020-10-22T13:31:34.377693Z",
     "iopub.status.busy": "2020-10-22T13:31:34.377693Z",
     "iopub.status.idle": "2020-10-22T13:31:34.393316Z",
     "shell.execute_reply": "2020-10-22T13:31:34.393316Z"
    }
   },
   "outputs": [],
   "source": [
    "for idx, val in enumerate(my_list):\n",
    "    print('idx: {}, value: {}'.format(idx, val))"
   ]
  },
  {
   "cell_type": "markdown",
   "metadata": {},
   "source": [
    "## Looping dictionaries"
   ]
  },
  {
   "cell_type": "code",
   "execution_count": null,
   "metadata": {
    "execution": {
     "iopub.execute_input": "2020-10-22T13:31:34.393316Z",
     "iopub.status.busy": "2020-10-22T13:31:34.393316Z",
     "iopub.status.idle": "2020-10-22T13:31:34.408941Z",
     "shell.execute_reply": "2020-10-22T13:31:34.408941Z"
    }
   },
   "outputs": [],
   "source": [
    "my_dict = {'hacker': True, 'age': 72, 'name': 'John Doe'}\n",
    "for val in my_dict:\n",
    "    print(val)"
   ]
  },
  {
   "cell_type": "code",
   "execution_count": null,
   "metadata": {
    "execution": {
     "iopub.execute_input": "2020-10-22T13:31:34.414967Z",
     "iopub.status.busy": "2020-10-22T13:31:34.414967Z",
     "iopub.status.idle": "2020-10-22T13:31:34.430649Z",
     "shell.execute_reply": "2020-10-22T13:31:34.430649Z"
    }
   },
   "outputs": [],
   "source": [
    "for key, val in my_dict.items():\n",
    "    print('{}={}'.format(key, val))"
   ]
  },
  {
   "cell_type": "markdown",
   "metadata": {},
   "source": [
    "## `range()`"
   ]
  },
  {
   "cell_type": "code",
   "execution_count": null,
   "metadata": {
    "execution": {
     "iopub.execute_input": "2020-10-22T13:31:34.430649Z",
     "iopub.status.busy": "2020-10-22T13:31:34.430649Z",
     "iopub.status.idle": "2020-10-22T13:31:34.446272Z",
     "shell.execute_reply": "2020-10-22T13:31:34.446272Z"
    }
   },
   "outputs": [],
   "source": [
    "for number in range(5):\n",
    "    print(number)"
   ]
  },
  {
   "cell_type": "code",
   "execution_count": null,
   "metadata": {
    "execution": {
     "iopub.execute_input": "2020-10-22T13:31:34.446272Z",
     "iopub.status.busy": "2020-10-22T13:31:34.446272Z",
     "iopub.status.idle": "2020-10-22T13:31:34.461896Z",
     "shell.execute_reply": "2020-10-22T13:31:34.461896Z"
    }
   },
   "outputs": [],
   "source": [
    "for number in range(2, 5):\n",
    "    print(number)"
   ]
  },
  {
   "cell_type": "code",
   "execution_count": null,
   "metadata": {
    "execution": {
     "iopub.execute_input": "2020-10-22T13:31:34.461896Z",
     "iopub.status.busy": "2020-10-22T13:31:34.461896Z",
     "iopub.status.idle": "2020-10-22T13:31:34.477520Z",
     "shell.execute_reply": "2020-10-22T13:31:34.477520Z"
    }
   },
   "outputs": [],
   "source": [
    "for number in range(0, 10, 2):  # last one is step\n",
    "    print(number)"
   ]
  }
 ],
 "metadata": {
  "kernelspec": {
   "display_name": "Python 3",
   "language": "python",
   "name": "python3"
  },
  "language_info": {
   "codemirror_mode": {
    "name": "ipython",
    "version": 3
   },
   "file_extension": ".py",
   "mimetype": "text/x-python",
   "name": "python",
   "nbconvert_exporter": "python",
   "pygments_lexer": "ipython3",
   "version": "3.8.6"
  }
 },
 "nbformat": 4,
 "nbformat_minor": 2
}
