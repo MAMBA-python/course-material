{
 "cells": [
  {
   "cell_type": "markdown",
   "metadata": {},
   "source": [
    "<figure>\n",
    "   <IMG SRC=\"https://mamba-python.nl/images/logo_basis.png\" WIDTH=125 ALIGN=\"right\">\n",
    "   \n",
    "</figure>\n",
    "\n",
    "#  Excercises with Graphical User Interfaces\n",
    "\n",
    "This tutorial is about building a GUI (Graphical User Interface). In this tutorial we will use PyQT5, a popular Python package for building GUIs. Of course there are many other Python packages that can be used to build a GUI. Kivi and Tkinter are also frequently used. This tutorial will cover the basics. For more inspiration and tutorials, you can have a look at: \n",
    "- https://www.mfitzp.com/tutorials/plotting-pyqtgraph/\n",
    "- https://www.guru99.com/pyqt-tutorial.html\n",
    "    \n",
    "#### prerequisites\n",
    "\n",
    "You can walk through this tutorial with only basic Python knowledge. However if you want to fully understand the concepts used in the notebook you should know the basics of object oriënted programming. You should know in particular what a class, object, method, constructor and inheritance are. If you are not familair with these concepts you can have a look at this [notebook](..\\07_Object_oriented\\01_py_exploratory_comp_12_sol.ipynb) about object oriënted programming.\n",
    "    \n",
    "### Table of contents<a id=\"top\"></a>\n",
    "1. [Building a GUI](#1)\n",
    "2. [The Window Class](#2)\n",
    "3. [Layout & Buttons](#3)\n",
    "4. [Adding Functionality](#4)\n",
    "5. [Answers](#Answers)"
   ]
  },
  {
   "cell_type": "code",
   "execution_count": 1,
   "metadata": {},
   "outputs": [],
   "source": [
    "from PyQt5.QtWidgets import (QApplication, QWidget, QPushButton, QVBoxLayout, \n",
    "                             QHBoxLayout, QGridLayout, QLabel, QLineEdit, \n",
    "                             QTextEdit)\n",
    "from PyQt5 import QtWidgets\n",
    "from PyQt5 import QtCore\n",
    "import sys"
   ]
  },
  {
   "cell_type": "markdown",
   "metadata": {},
   "source": [
    "# 1.  Building a GUI<a id=\"1\"></a>\n",
    "\n",
    "In order to have a working GUI you need two things:\n",
    "\n",
    "- A class or function in which you can define the layout, buttons, functionality & text of your GUI.\n",
    "\n",
    "- Code that runs your GUI\n",
    "\n",
    "\n",
    "The package PyQt5 has pre-made classes that we can use to create our application. Please follow these 4 steps to create your first pyqt5 application. \n",
    "\n",
    "1. Create an instance of the 'QApplication' of the package. This is the general start for building an application. You can do this with `app = QtWidgets.QApplication(sys.argv)`. If you run this command while you've already created an application before you will get an error. To avoid this error we check if there is already an application running with `QtCore.QCoreApplication.instance()`. Only if there is no application running we create a new application. Otherwise we use the existing application. We use this code:"
   ]
  },
  {
   "cell_type": "code",
   "execution_count": 2,
   "metadata": {},
   "outputs": [],
   "source": [
    "# Check if an application was already created\n",
    "app = QtCore.QCoreApplication.instance()\n",
    "if app is None:\n",
    "    # If this wasn't the case, we create a new application\n",
    "    app = QtWidgets.QApplication(sys.argv) "
   ]
  },
  {
   "cell_type": "markdown",
   "metadata": {},
   "source": [
    "2. Now that we have an application we can add a window to that application. First create an instance of the `QWidget` class (`window = QWidget()`). Later we can add properties to this window, using the `resize` and `setWindowTitle` methods. For now we just create the window."
   ]
  },
  {
   "cell_type": "code",
   "execution_count": 3,
   "metadata": {},
   "outputs": [],
   "source": [
    "# 2 create a window\n",
    "window = QWidget()"
   ]
  },
  {
   "cell_type": "markdown",
   "metadata": {},
   "source": [
    "3. Show the window on your screen using `window.show()`. This will open a pop-up on your computer with an empty window. \n",
    "4. Execute the application `app.exec_()`. This will make sure the application is running in the background. \n",
    "\n",
    "You can run step 3 an 4 using the code below. After you ran this application you have to close the window that popped-up before you can continue running this notebook.\n",
    "\n",
    "Note: Step 3 and 4 should be run together in this order. If we fail to execute step 4 the application is not running and we don't have an option to close the window that we created. If we fail to execute step 3 than we have an application without an interface and thus without any means to stop the application."
   ]
  },
  {
   "cell_type": "code",
   "execution_count": 4,
   "metadata": {},
   "outputs": [
    {
     "data": {
      "text/plain": [
       "0"
      ]
     },
     "execution_count": 4,
     "metadata": {},
     "output_type": "execute_result"
    }
   ],
   "source": [
    "# 3 Show your window\n",
    "window.show()\n",
    "\n",
    "# 4 Execute your application\n",
    "app.exec_()"
   ]
  },
  {
   "cell_type": "markdown",
   "metadata": {},
   "source": [
    "Below the complete code for creating a (still empty) GUI. These are the main steps that will remain the same for every GUI.\n",
    "\n",
    "Note: Everytime you run a piece of code that opens a pop-up, you should close this pop-up before you continue. If you forget to close the pop-up you can not run the next code cells."
   ]
  },
  {
   "cell_type": "code",
   "execution_count": 16,
   "metadata": {},
   "outputs": [
    {
     "data": {
      "text/plain": [
       "0"
      ]
     },
     "execution_count": 16,
     "metadata": {},
     "output_type": "execute_result"
    }
   ],
   "source": [
    "# 1, create an instance of the application\n",
    "app = QtCore.QCoreApplication.instance()\n",
    "if app is None:\n",
    "    # If this wasn't the case, we start the application\n",
    "    app = QtWidgets.QApplication(sys.argv) \n",
    "\n",
    "# 2. Create an instance of your layout\n",
    "window = QWidget()\n",
    "\n",
    "# 3. Show your window\n",
    "window.show()\n",
    "\n",
    "# 4. Execute your application\n",
    "app.exec_()"
   ]
  },
  {
   "cell_type": "markdown",
   "metadata": {},
   "source": [
    "### Exercise 1.a <a name=\"ex1a\"></a>\n",
    "\n",
    "Now that you know the steps for creating a GUI with a window it is time to change the layout & functionality of the window. For this we can use methods predefined in the QWidget class. Some predefined methods include `resize(width, height)`, `setWindowTitle('your_title')`. i.e. `window.resize(300, 300)` will adjust the size of the applications to 300 x 300 pixels. Remember: Methods are functions that work on an object of a class. \n",
    "\n",
    "Create a window with a size of 500 x 500 pixels and the title 'First GUI of \"your name\"' and execute it. "
   ]
  },
  {
   "cell_type": "code",
   "execution_count": null,
   "metadata": {},
   "outputs": [],
   "source": []
  },
  {
   "cell_type": "markdown",
   "metadata": {},
   "source": [
    "<a href=\"#ans1a\">Answer Exercise 1.a</a>\n",
    "<hr>"
   ]
  },
  {
   "cell_type": "markdown",
   "metadata": {},
   "source": [
    "# 2. The Window Class<a id=\"2\"></a>\n",
    "\n",
    "Often, you'll want to personalize your GUI further than whats possible using the predefined methods. Therefore, you can create your own class that builds on all the properties of the QWidget class. This is done using the code `class Window(Qwidget)`; which specifies that our own class Window 'inherits from the QWidget class. This means all methods available in QWidget, are now also available in the Window class.\n",
    "\n",
    "Next, remember that the `__init__` function is executed when you create an instance of your class. To ensure also the `__init__` of the QWidget class is still executed, you can use the code `super().__init__()`. \n",
    "\n",
    "To create a class that inherits all the properties of the QWidget class, this adds up to the following code: "
   ]
  },
  {
   "cell_type": "code",
   "execution_count": 6,
   "metadata": {},
   "outputs": [],
   "source": [
    "class Window(QWidget): \n",
    "    def __init__(self):\n",
    "        super().__init__()"
   ]
  },
  {
   "cell_type": "markdown",
   "metadata": {},
   "source": [
    "Within our new `Window` class, we can call the same methods (`resize` and `setWindowTitle`) as before. Since the methods are now part of the class, they should be called within the class using `self`, e.g. self.resize(300,300). \n",
    "\n",
    "We can now create an instance of our own `Window` class, instead of creating an instance of QWidget. "
   ]
  },
  {
   "cell_type": "markdown",
   "metadata": {},
   "source": [
    "### Exercise 2.a <a name=\"ex2a\"></a>\n",
    "\n",
    "Create the same GUI as in exercise 1.a; where you set a title and resize to a format of your liking, but now by specifying your own class `Window`. "
   ]
  },
  {
   "cell_type": "code",
   "execution_count": null,
   "metadata": {},
   "outputs": [],
   "source": []
  },
  {
   "cell_type": "markdown",
   "metadata": {},
   "source": [
    "<a href=\"#ans2a\">Answer Exercise 2.a</a>\n",
    "<hr>"
   ]
  },
  {
   "cell_type": "markdown",
   "metadata": {},
   "source": [
    "# 3. Layout & Buttons<a id=\"3\"></a>\n",
    "\n",
    "Before getting to functionality, let's see how we can create buttons and fields in the GUI. Buttons and fields are called widgets and form the basic building blocks of an PyQt application. PyQt provides four general-purpose layout manager classes:\n",
    "\n",
    "- `QHBoxLayout` arranges widgets in a horizontal box.\n",
    "- `QVBoxLayout` arranges widgets in a vertical box.\n",
    "- `QGridLayout` arranges widgets in a grid.\n",
    "- `QFormLayout` arranges widgets in two columns.\n",
    "\n"
   ]
  },
  {
   "cell_type": "markdown",
   "metadata": {},
   "source": [
    "### Box layout managers\n",
    "\n",
    "QHBoxLayout is one of the two available box layouts in PyQt. This layout manager allows you to arrange widgets horizontally, one next to the other. The widgets are added to the layout from left to right. This means that the widget that you add first in your code will be the left-most widget in the layout.\n",
    "\n",
    "To add widgets to a QHBoxLayout object, you call `.addWidget(widget)` on the layout object. This method takes one required argument, `widget` that holds the specific widget that you want to add to the layout. This can for example be a `QPushButton`. In order to show the layout in the window, the last comment should be `self.setLayout(layout)`.\n",
    "\n",
    "Below is a code example for a GUI with three push buttons in a horizontal layout. "
   ]
  },
  {
   "cell_type": "code",
   "execution_count": 8,
   "metadata": {},
   "outputs": [],
   "source": [
    "class Window(QWidget):\n",
    "    def __init__(self):\n",
    "        super().__init__()\n",
    "        self.setWindowTitle(\"QHBoxLayout Example\")\n",
    "        \n",
    "        # Create a QHBoxLayout instance\n",
    "        layout = QHBoxLayout()\n",
    "        \n",
    "        # Add widgets to the layout\n",
    "        layout.addWidget(QPushButton(\"Left-Most\"))\n",
    "        layout.addWidget(QPushButton(\"Center\"))\n",
    "        layout.addWidget(QPushButton(\"Right-Most\"))\n",
    "        \n",
    "        # Set the layout on the application's window\n",
    "        self.setLayout(layout)\n",
    "\n",
    "        \n",
    "\n",
    "app = QtCore.QCoreApplication.instance()\n",
    "if app is None:\n",
    "    app = QtWidgets.QApplication(sys.argv)\n",
    "window = Window()\n",
    "window.show()\n",
    "app.exec_();"
   ]
  },
  {
   "cell_type": "markdown",
   "metadata": {},
   "source": [
    "Possible Widgets that can be added to the layout include:\n",
    "\n",
    "- QPushButton\n",
    "- QLabel\n",
    "- QLineEdit\n",
    "- QTextEdit\n",
    "- QCheckBox\n",
    "- QSlider"
   ]
  },
  {
   "cell_type": "markdown",
   "metadata": {},
   "source": [
    "###  Excercise 3.a <a name=\"ex3a\"></a>\n",
    "\n",
    "Create a GUI with a vertical box layout that has a pushbutton Widget, a label Widget and a Line Edit Widget. Run your application. "
   ]
  },
  {
   "cell_type": "code",
   "execution_count": null,
   "metadata": {},
   "outputs": [],
   "source": []
  },
  {
   "cell_type": "markdown",
   "metadata": {},
   "source": [
    "<a href=\"#ans3a\">Answer Exercise 3.a</a>\n",
    "<hr>"
   ]
  },
  {
   "cell_type": "markdown",
   "metadata": {},
   "source": [
    "### Grid Layout\n",
    "\n",
    "The QGridLayout is the most universal of layouts. When using the QGridLayout, we can create widgets and place them in a matrix, based on row and column number. See the example code below:"
   ]
  },
  {
   "cell_type": "code",
   "execution_count": 7,
   "metadata": {},
   "outputs": [],
   "source": [
    "class Window(QWidget):\n",
    "    def __init__(self):\n",
    "        super().__init__()\n",
    "        self.setWindowTitle(\"Grid Example\")\n",
    "        \n",
    "        # Create a Grid layout\n",
    "        grid = QGridLayout()\n",
    "        self.setLayout(grid)\n",
    "        \n",
    "        # Add pushbuttons to the grid\n",
    "        grid.addWidget(QPushButton(\"point (2,4)\"), 2,4)\n",
    "        grid.addWidget(QPushButton(\"point (1,1)\"), 1,1)\n",
    "        grid.addWidget(QPushButton(\"point (1,2)\"), 1,2)\n",
    "        grid.addWidget(QPushButton(\"point (0,0)\"), 0,0)\n",
    "\n",
    "        \n",
    "app = QtCore.QCoreApplication.instance()\n",
    "if app is None:\n",
    "    app = QtWidgets.QApplication(sys.argv)\n",
    "window = Window()\n",
    "window.show()\n",
    "app.exec_();"
   ]
  },
  {
   "cell_type": "markdown",
   "metadata": {},
   "source": [
    "### Excercise 3.b <a name=\"ex3b\"></a>\n",
    "\n",
    "Create the skeleton of a calculator (so without it's functionality). Use the grid layout, and create buttons with the names as specified below. \n",
    "\n",
    "Hint: Note that the x and y coordinates range between rows: 0 to 5 and colums: 0 to 4. Pehaps you can use a (double) for loop. "
   ]
  },
  {
   "cell_type": "code",
   "execution_count": 10,
   "metadata": {},
   "outputs": [],
   "source": [
    "names = ['Cls', 'Bck', '', 'Close',\n",
    "         '7', '8', '9', '/',\n",
    "         '4', '5', '6', '*',\n",
    "         '1', '2', '3', '-',\n",
    "         '0', '.', '=', '+']"
   ]
  },
  {
   "cell_type": "markdown",
   "metadata": {},
   "source": [
    "The skeleton of the calculator should look something like this:  \n",
    "\n",
    "&nbsp;\n",
    "\n",
    "<figure>\n",
    "   <IMG SRC=\"./images/calculator.png\" WIDTH=455 ALIGN=\"left\">\n",
    "   \n",
    "</figure>"
   ]
  },
  {
   "cell_type": "markdown",
   "metadata": {},
   "source": [
    "<a href=\"#ans3b\">Answer Exercise 3.b</a>\n",
    "<hr>"
   ]
  },
  {
   "cell_type": "markdown",
   "metadata": {},
   "source": [
    "# 4. Adding Functionality<a id=\"4\"></a>\n",
    "\n",
    "Now that you've created a layout with widgets it is time to add actions, or a response output to the widgets. We can for example call a function everytime a PushButton is pressed, using the code below."
   ]
  },
  {
   "cell_type": "code",
   "execution_count": 14,
   "metadata": {},
   "outputs": [
    {
     "name": "stdout",
     "output_type": "stream",
     "text": [
      "print, print, print, print, print\n"
     ]
    }
   ],
   "source": [
    "class Window(QWidget):\n",
    "    def __init__(self):\n",
    "        super().__init__()\n",
    "        self.setWindowTitle(\"QHBoxLayout Example\")\n",
    "        self.resize(150,150)\n",
    "\n",
    "        # Create a QHBoxLayout instance\n",
    "        layout = QHBoxLayout()\n",
    "        \n",
    "        # first create the QPushButtons and assign them to 'self'\n",
    "        self.button = QPushButton(\"print something\")\n",
    "        \n",
    "        # The buttons have a method called 'clicked.connect(your_function_name)'\n",
    "        # which will call the function when the button is clicked. \n",
    "        self.button.clicked.connect(self.do_something)\n",
    "\n",
    "        # Add widgets to the layout\n",
    "        layout.addWidget(self.button)\n",
    "\n",
    "        # Set the layout on the application's window\n",
    "        self.setLayout(layout)\n",
    "        \n",
    "    def do_something(self):\n",
    "        \"\"\"This function specifies the actions when 'button' is pressed. \"\"\"\n",
    "        \n",
    "        print('print, print, print, print, print')\n",
    "        \n",
    "        # change the label of the button\n",
    "        self.button.setText(\"you clicked!\")\n",
    "\n",
    "        \n",
    "\n",
    "app = QtCore.QCoreApplication.instance()\n",
    "if app is None:\n",
    "    app = QtWidgets.QApplication(sys.argv)\n",
    "window = Window()\n",
    "window.show()\n",
    "app.exec_();"
   ]
  },
  {
   "cell_type": "markdown",
   "metadata": {},
   "source": [
    "### Exercise 4.a <a name=\"ex4a\"></a>\n",
    "\n",
    "Create an application with a pushButton with the name 'write reply'. When the button is clicked, a QTextEdit widget should appear with the text 'Write your response here'. Use Vertical Box layout & resize your application to (600,400). \n",
    "\n",
    "Hint: layout needs to be called in your function. Therefore instead of assigning it as local variable you should assign it to the instance using `self.layout = QVBoxLayout()` instead of just `layout=QVBoxLayout()`. "
   ]
  },
  {
   "cell_type": "code",
   "execution_count": null,
   "metadata": {},
   "outputs": [],
   "source": []
  },
  {
   "cell_type": "markdown",
   "metadata": {},
   "source": [
    "<a href=\"#ans4a\">Answer Exercise 4.a</a>\n",
    "<hr>"
   ]
  },
  {
   "cell_type": "markdown",
   "metadata": {},
   "source": [
    "## [Answers](#top)<a id=\"Answers\"></a>"
   ]
  },
  {
   "cell_type": "markdown",
   "metadata": {},
   "source": [
    "\n",
    "<hr>\n",
    "\n",
    "### <a href=\"#ex1a\">Answer Exercise 1.a</a> <a name=\"ans1a\"></a>\n",
    "\n"
   ]
  },
  {
   "cell_type": "code",
   "execution_count": 10,
   "metadata": {},
   "outputs": [
    {
     "data": {
      "text/plain": [
       "0"
      ]
     },
     "execution_count": 10,
     "metadata": {},
     "output_type": "execute_result"
    }
   ],
   "source": [
    "# Step one, create an instance of the application\n",
    "app = QtCore.QCoreApplication.instance()\n",
    "if app is None:\n",
    "    # If this wasn't the case, we start the application\n",
    "    app = QtWidgets.QApplication(sys.argv) \n",
    "\n",
    "# Create an instance of your layout\n",
    "window = QWidget()\n",
    "\n",
    "window.resize(500,500)\n",
    "window.setWindowTitle('First GUI of YOU!')\n",
    "\n",
    "\n",
    "# Show your window\n",
    "window.show()\n",
    "\n",
    "# Execute your application\n",
    "app.exec_()"
   ]
  },
  {
   "cell_type": "markdown",
   "metadata": {},
   "source": [
    "### <a href=\"#ex2a\">Answer Exercise 2.a</a> <a name=\"ans2a\"></a>\n"
   ]
  },
  {
   "cell_type": "code",
   "execution_count": 7,
   "metadata": {},
   "outputs": [
    {
     "data": {
      "text/plain": [
       "0"
      ]
     },
     "execution_count": 7,
     "metadata": {},
     "output_type": "execute_result"
    }
   ],
   "source": [
    "# Create the class\n",
    "class Window(QWidget): \n",
    "    def __init__(self):\n",
    "        super().__init__()\n",
    "        \n",
    "        self.setWindowTitle('First GUI of YOU!')\n",
    "        self.resize(500,500)\n",
    "        \n",
    "# Run your applicaton \n",
    "app = QtCore.QCoreApplication.instance()\n",
    "if app is None:\n",
    "    app = QtWidgets.QApplication(sys.argv) \n",
    "\n",
    "# Create an instance of your class\n",
    "window = Window()\n",
    "\n",
    "# Show your window\n",
    "window.show()\n",
    "\n",
    "# Execute your application\n",
    "app.exec_()"
   ]
  },
  {
   "cell_type": "markdown",
   "metadata": {},
   "source": [
    "### <a href=\"#ex3a\">Answer Exercise 3.a</a> <a name=\"ans3a\"></a>\n"
   ]
  },
  {
   "cell_type": "code",
   "execution_count": 9,
   "metadata": {},
   "outputs": [],
   "source": [
    "class Window(QWidget):\n",
    "    def __init__(self):\n",
    "        super().__init__()\n",
    "        self.setWindowTitle(\"QHBoxLayout Example\")\n",
    "        \n",
    "        # Create a QHBoxLayout instance\n",
    "        layout = QVBoxLayout()\n",
    "        \n",
    "        # Add widgets to the layout\n",
    "        layout.addWidget(QPushButton(\"Push\"))\n",
    "        layout.addWidget(QLabel(\"Your label name\"))\n",
    "        layout.addWidget(QLineEdit(\"Your line\"))\n",
    "        \n",
    "        # Set the layout on the application's window\n",
    "        self.setLayout(layout)\n",
    "\n",
    "        \n",
    "\n",
    "app = QtCore.QCoreApplication.instance()\n",
    "if app is None:\n",
    "    app = QtWidgets.QApplication(sys.argv)\n",
    "window = Window()\n",
    "window.show()\n",
    "app.exec_();"
   ]
  },
  {
   "cell_type": "markdown",
   "metadata": {},
   "source": [
    "### <a href=\"#ex3b\">Answer Exercise 3.b</a> <a name=\"ans3b\"></a>\n"
   ]
  },
  {
   "cell_type": "code",
   "execution_count": 11,
   "metadata": {},
   "outputs": [
    {
     "data": {
      "text/plain": [
       "0"
      ]
     },
     "execution_count": 11,
     "metadata": {},
     "output_type": "execute_result"
    }
   ],
   "source": [
    "class Calculator(QWidget):\n",
    "\n",
    "    def __init__(self):\n",
    "        super().__init__()\n",
    "\n",
    "        # layout\n",
    "        grid = QGridLayout()\n",
    "        self.setLayout(grid)\n",
    "\n",
    "        names = ['Cls', 'Bck', '', 'Close',\n",
    "                 '7', '8', '9', '/',\n",
    "                 '4', '5', '6', '*',\n",
    "                 '1', '2', '3', '-',\n",
    "                 '0', '.', '=', '+']\n",
    "        \n",
    "        i = 0\n",
    "        \n",
    "        for x_position in range(5):\n",
    "            for y_position in range(4):\n",
    "                name = names[i]\n",
    "                button = QPushButton(name)\n",
    "                grid.addWidget(button, x_position, y_position)\n",
    "\n",
    "                # next index for name:\n",
    "                i += 1\n",
    "\n",
    "        self.setWindowTitle('Calculator')\n",
    "        self.show()\n",
    "\n",
    "\n",
    "\n",
    "app = QtCore.QCoreApplication.instance()\n",
    "if app is None:\n",
    "    app = QtWidgets.QApplication(sys.argv)\n",
    "window = Calculator()\n",
    "app.exec_()"
   ]
  },
  {
   "cell_type": "markdown",
   "metadata": {},
   "source": [
    "### <a href=\"#ex4a\">Answer Exercise 4.a</a> <a name=\"ans4a\"></a>\n",
    "\n",
    "\n"
   ]
  },
  {
   "cell_type": "code",
   "execution_count": 15,
   "metadata": {},
   "outputs": [],
   "source": [
    "class Window(QWidget):\n",
    "    def __init__(self):\n",
    "        super().__init__()\n",
    "        self.setWindowTitle(\"Add buttons\")\n",
    "\n",
    "        # Create a QHBoxLayout instance\n",
    "        self.layout = QVBoxLayout()\n",
    "        self.resize(600,400)\n",
    "        \n",
    "        # first create the QPushButtons and assign them to 'self'\n",
    "        self.button = QPushButton(\"write reply\")\n",
    "        \n",
    "        # The buttons have a method called 'clicked.connect(your_function_name)'\n",
    "        # which will call the function when the button is clicked. \n",
    "        self.button.clicked.connect(self.add_line_edit)\n",
    "\n",
    "        # Add widgets to the layout\n",
    "        self.layout.addWidget(self.button)\n",
    "\n",
    "        # Set the layout on the application's window\n",
    "        self.setLayout(self.layout)\n",
    "        \n",
    "    def add_line_edit(self):\n",
    "        \"\"\"This function specifies the actions taken when 'button' is pressed. \"\"\"\n",
    "        self.text_edit = QTextEdit(\"Write your response here\")\n",
    "        self.layout.addWidget(self.text_edit)\n",
    "        \n",
    "    \n",
    "app = QtCore.QCoreApplication.instance()\n",
    "if app is None:\n",
    "    app = QtWidgets.QApplication(sys.argv)\n",
    "window = Window()\n",
    "window.show()\n",
    "app.exec_();"
   ]
  }
 ],
 "metadata": {
  "kernelspec": {
   "display_name": "Python 3",
   "language": "python",
   "name": "python3"
  },
  "language_info": {
   "codemirror_mode": {
    "name": "ipython",
    "version": 3
   },
   "file_extension": ".py",
   "mimetype": "text/x-python",
   "name": "python",
   "nbconvert_exporter": "python",
   "pygments_lexer": "ipython3",
   "version": "3.8.6"
  }
 },
 "nbformat": 4,
 "nbformat_minor": 4
}
