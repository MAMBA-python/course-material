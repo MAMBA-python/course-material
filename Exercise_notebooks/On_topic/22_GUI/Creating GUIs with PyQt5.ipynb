{
 "cells": [
  {
   "cell_type": "markdown",
   "metadata": {},
   "source": [
    "<figure>\n",
    "   <IMG SRC=\"https://mamba-python.nl/images/logo_basis.png\" WIDTH=125 ALIGN=\"right\">\n",
    "   \n",
    "</figure>\n",
    "\n",
    "#  Excercises with Graphical User Interfaces\n",
    "\n",
    "These excercises are meant as tutorial how to work with your own GUIs (Graphical User Interface). It uses the package PyQT5, which is one of the most popular packages in python for the creating of GUIs. If you'd be more interested in other packages, Kivi and Tkinter are the other commonly used packages for the same purpose. \n",
    "\n",
    "This tutorial will cover some basics. For other inspiration or more tutorials, you can have a look at: \n",
    "- https://www.mfitzp.com/tutorials/plotting-pyqtgraph/\n",
    "- https://www.guru99.com/pyqt-tutorial.html"
   ]
  },
  {
   "cell_type": "code",
   "execution_count": 1,
   "metadata": {},
   "outputs": [],
   "source": [
    "from PyQt5.QtWidgets import QApplication, QWidget, QPushButton, QVBoxLayout, QHBoxLayout, QGridLayout, QLabel, QLineEdit, QTextEdit\n",
    "from PyQt5 import QtWidgets\n",
    "from PyQt5 import QtCore\n",
    "import sys"
   ]
  },
  {
   "cell_type": "markdown",
   "metadata": {},
   "source": [
    "# 1.  Running a GUI\n",
    "\n",
    "To have a working GUI you need two things:\n",
    "\n",
    "- A class or function in which you can define the layout, buttons, functionality & text of your GUI.\n",
    "\n",
    "- Code that runs your GUI\n",
    "\n",
    "\n",
    "The package PyQt5 has pre-made classes that we can use to create our application. In this case we use QWidget. First you create an instance of that class (`window = QWidget()`). Then you can add properties, using for example the `resize` and `setWindowTitle` methods. (remember: Methods are functions that work on that class). \n",
    "\n",
    "You can run your GUI applications using the following commands:\n",
    "\n",
    "1. Create an instance of the 'core application' of the package. This is the general setup and is independent on how you defined your window. You can do this using the following command. `app = QtWidgets.QApplication(sys.argv)`. If you only use this command, your window will only run once -- the second time you will get an error message. In order to avoid this error, we first check if the application is not already initialized. If this is not the case, thén we restart the application. The code is then as follows:\n",
    "    "
   ]
  },
  {
   "cell_type": "code",
   "execution_count": 2,
   "metadata": {},
   "outputs": [],
   "source": [
    "# Check if an instance was already created\n",
    "app = QtCore.QCoreApplication.instance()\n",
    "if app is None:\n",
    "    # If this wasn't the case, we start the application\n",
    "    app = QtWidgets.QApplication(sys.argv) "
   ]
  },
  {
   "cell_type": "markdown",
   "metadata": {},
   "source": [
    "2. Call your layout. In the next excercises we'll work on extending this to our liking. The rest of the running steps remain the same for each GUI! :)\n"
   ]
  },
  {
   "cell_type": "code",
   "execution_count": 3,
   "metadata": {},
   "outputs": [],
   "source": [
    "window = QWidget()"
   ]
  },
  {
   "cell_type": "markdown",
   "metadata": {},
   "source": [
    "3. Ensure that the GUI will show on your screen when you execute your application using `window.show()`\n",
    "\n",
    "4. Execute all the above set-up by stating `app.exec_()`. \n",
    "\n",
    "The total code for running a (still empty) GUI is then as follows:"
   ]
  },
  {
   "cell_type": "code",
   "execution_count": 4,
   "metadata": {},
   "outputs": [],
   "source": [
    "if __name__ == \"__main__\":\n",
    "    # Step one, create an instance of the application\n",
    "    app = QtCore.QCoreApplication.instance()\n",
    "    if app is None:\n",
    "        # If this wasn't the case, we start the application\n",
    "        app = QtWidgets.QApplication(sys.argv) \n",
    "        \n",
    "    # Create an instance of your layout\n",
    "    window = QWidget()\n",
    "\n",
    "    # Show your window\n",
    "    window.show()\n",
    "    \n",
    "    # Execute your application\n",
    "    app.exec_()\n"
   ]
  },
  {
   "cell_type": "markdown",
   "metadata": {},
   "source": [
    "## Exercise 1.a\n",
    "\n",
    "As said before, all the steps for running a GUI will remain the same for each GUI. The only thing we'll change is the layout & functionality of the window. For this we can use methods predefined in the QWidget class, or we build on that class and define new methods ourselves. \n",
    "\n",
    "First we'll try to use the predefined methods. Some predefined methods include `resize(width, height)`, `setWindowTitle('your_title')`. i.e. `window.resize(300, 300)` will adjust the size of the applications. \n",
    "\n",
    "Create a GUI with a size of 500 x 500 and with window title 'First GUI of \"your name\"' and execute it. "
   ]
  },
  {
   "cell_type": "code",
   "execution_count": null,
   "metadata": {},
   "outputs": [],
   "source": []
  },
  {
   "cell_type": "markdown",
   "metadata": {},
   "source": [
    "# 2. Creating your own Window Class\n",
    "\n",
    "Often, you'll want to personalize your GUI further than with the standard functions of the QWidget class. Therefore, you can create your own class that builds on all the properties of the QWidget class. This is done using the code `class Window(Qwidget) `; which specifies that the class Window 'inherits from the QWidget class. This means all methods available in QWidget, are now also available in the Window class.  \n",
    "\n",
    "Next, remember that the `__init__` function is executed when you create an instance of your class. To ensure also the `__init__` of the QWidget class is still executed, you can use the code `super().__init__()`. \n",
    "\n",
    "\n",
    "To create a class that inherits all the properties of the QWidget class, this adds up to the following code: "
   ]
  },
  {
   "cell_type": "code",
   "execution_count": 10,
   "metadata": {},
   "outputs": [],
   "source": [
    "class Window(QWidget): \n",
    "    def __init__(self):\n",
    "        super().__init__()"
   ]
  },
  {
   "cell_type": "markdown",
   "metadata": {},
   "source": [
    "Within the class, we can now call the same functions (like `resize` and `setWindowTitle`) as before. Since the methods are now part of the class, they should be called using `self`, e.g. self.resize(300,300). \n",
    "\n",
    "In the execution, instead of creating an instance of QWidget, we can now create an instance of our own `Window` class. "
   ]
  },
  {
   "cell_type": "markdown",
   "metadata": {},
   "source": [
    "### Exercise 2.a\n",
    "\n",
    "Create the same GUI as in exercise 1.a; where you set a title and resize to a format of your liking, but now by specifying your own class `Window`. "
   ]
  },
  {
   "cell_type": "code",
   "execution_count": null,
   "metadata": {},
   "outputs": [],
   "source": []
  },
  {
   "cell_type": "markdown",
   "metadata": {},
   "source": [
    "# 3. Layout & Buttons\n",
    "\n",
    "Before getting to functionality, let's see how we can create buttons and fields in the GUI. PyQt provides four general-purpose layout manager classes:\n",
    "\n",
    "- QHBoxLayout arranges widgets in a horizontal box.\n",
    "- QVBoxLayout arranges widgets in a vertical box.\n",
    "- QGridLayout arranges widgets in a grid.\n",
    "- QFormLayout arranges widgets in two columns.\n",
    "\n"
   ]
  },
  {
   "cell_type": "markdown",
   "metadata": {},
   "source": [
    "### Box layout managers\n",
    "\n",
    "Box layout managers take the space they get from their parent layout or widget, divide it up into a number of boxes, or cells, and make each widget in the layout fill one box.\n",
    "\n",
    "QHBoxLayout is one of the two available box layouts in PyQt. This layout manager allows you to arrange widgets horizontally, one next to the other. The widgets are added to the layout from left to right. This means that the widget that you add first in your code will be the left-most widget in the layout.\n",
    "\n",
    "To add widgets to a QHBoxLayout object, you call `.addWidget(widget)` on the layout object. This method takes one required argument, `widget` that holds the specific widget that you want to add to the layout. This can for example be a `QPushButton`. \n",
    "In order to let the defined layout show in the GUI, the last comment should be `self.setLayout(layout)`\n",
    "\n",
    "Below is a code example of how to create A GUI with three push buttons in a horizontal layout. \n",
    "\n"
   ]
  },
  {
   "cell_type": "code",
   "execution_count": 53,
   "metadata": {},
   "outputs": [],
   "source": [
    "class Window(QWidget):\n",
    "    def __init__(self):\n",
    "        super().__init__()\n",
    "        self.setWindowTitle(\"QHBoxLayout Example\")\n",
    "        \n",
    "        # Create a QHBoxLayout instance\n",
    "        layout = QHBoxLayout()\n",
    "        \n",
    "        # Add widgets to the layout\n",
    "        layout.addWidget(QPushButton(\"Left-Most\"))\n",
    "        layout.addWidget(QPushButton(\"Center\"))\n",
    "        layout.addWidget(QPushButton(\"Right-Most\"))\n",
    "        \n",
    "        # Set the layout on the application's window\n",
    "        self.setLayout(layout)\n",
    "\n",
    "        \n",
    "\n",
    "app = QtCore.QCoreApplication.instance()\n",
    "if app is None:\n",
    "    app = QtWidgets.QApplication(sys.argv)\n",
    "window = Window()\n",
    "window.show()\n",
    "app.exec_();"
   ]
  },
  {
   "cell_type": "markdown",
   "metadata": {},
   "source": [
    "Possible Widgets that can be added to the layout include:\n",
    "\n",
    "- QPushButton\n",
    "- QLabel\n",
    "- QLineEdit\n",
    "- QTextEdit\n",
    "- QCheckBox\n",
    "- QSlider"
   ]
  },
  {
   "cell_type": "markdown",
   "metadata": {},
   "source": [
    "###  Excercise 3.a\n",
    "\n",
    "Create a GUI with a vertical box layout that has a pushbutton Widget, a label Widget and a Line Edit Widget. Run your application. "
   ]
  },
  {
   "cell_type": "code",
   "execution_count": 17,
   "metadata": {},
   "outputs": [],
   "source": []
  },
  {
   "cell_type": "markdown",
   "metadata": {},
   "source": [
    "### Grid Layout\n",
    "\n",
    "The QGridLayout is the most universal of layouts. When using the QGridLayout, we can create Widgets and place them in a matrix, based on row and column number. See the example code below:"
   ]
  },
  {
   "cell_type": "code",
   "execution_count": 29,
   "metadata": {},
   "outputs": [],
   "source": [
    "class Window(QWidget):\n",
    "    def __init__(self):\n",
    "        super().__init__()\n",
    "        self.setWindowTitle(\"Grid Example\")\n",
    "        \n",
    "        # Create a Grid layout\n",
    "        grid = QGridLayout()\n",
    "        self.setLayout(grid)\n",
    "        \n",
    "        # Add pushbuttons to the grid\n",
    "        grid.addWidget(QPushButton(\"point (2,4)\"), 2,4)\n",
    "        grid.addWidget(QPushButton(\"point (1,1)\"), 1,1)\n",
    "        grid.addWidget(QPushButton(\"point (1,2)\"), 1,2)\n",
    "        grid.addWidget(QPushButton(\"point (0,0)\"), 0,0)\n",
    "\n",
    "        \n",
    "app = QtCore.QCoreApplication.instance()\n",
    "if app is None:\n",
    "    app = QtWidgets.QApplication(sys.argv)\n",
    "window = Window()\n",
    "window.show()\n",
    "app.exec_();"
   ]
  },
  {
   "cell_type": "markdown",
   "metadata": {},
   "source": [
    "### Excercise 3.b\n",
    "\n",
    "Create the skeleton of a calculator (so without it's functionality). Use the grid layout, and create buttons with the names as specified below. \n",
    "\n",
    "Hint: Note that the x and y coordinates range between rows: 0 to 5 and colums: 0 to 4. Pehaps you can use a (double) for loop. "
   ]
  },
  {
   "cell_type": "code",
   "execution_count": 30,
   "metadata": {},
   "outputs": [],
   "source": [
    "names = ['Cls', 'Bck', '', 'Close',\n",
    "         '7', '8', '9', '/',\n",
    "         '4', '5', '6', '*',\n",
    "         '1', '2', '3', '-',\n",
    "         '0', '.', '=', '+']"
   ]
  },
  {
   "cell_type": "markdown",
   "metadata": {},
   "source": [
    "The skeleton of the calculator should look something like this:  \n",
    "\n",
    "&nbsp;\n",
    "\n",
    "<figure>\n",
    "   <IMG SRC=\"./images/calculator.png\" WIDTH=455 ALIGN=\"left\">\n",
    "   \n",
    "</figure>"
   ]
  },
  {
   "cell_type": "markdown",
   "metadata": {},
   "source": [
    "# 4. Adding Functionality\n",
    "\n",
    "Now you've learned the basics of how to add a layout and to add Widgets, such as push buttons, labels and text fields. Now we'll discuss how you can add actions, or a response output. \n",
    "\n",
    "For example with a PushButton, we can create a function that is called when the button is pressed. An example is given below:"
   ]
  },
  {
   "cell_type": "code",
   "execution_count": 51,
   "metadata": {},
   "outputs": [
    {
     "name": "stdout",
     "output_type": "stream",
     "text": [
      "print, print, print, print, print\n",
      "print, print, print, print, print\n",
      "print, print, print, print, print\n",
      "print, print, print, print, print\n",
      "print, print, print, print, print\n"
     ]
    }
   ],
   "source": [
    "class Window(QWidget):\n",
    "    def __init__(self):\n",
    "        super().__init__()\n",
    "        self.setWindowTitle(\"QHBoxLayout Example\")\n",
    "        self.resize(150,150)\n",
    "\n",
    "        # Create a QHBoxLayout instance\n",
    "        layout = QHBoxLayout()\n",
    "        \n",
    "        # first create the QPushButtons and assign them to 'self'\n",
    "        self.button = QPushButton(\"print something\")\n",
    "        \n",
    "        # The buttons have a method called 'clicked.connect(your_function_name)'\n",
    "        # which will call the function when the button is clicked. \n",
    "        self.button.clicked.connect(self.do_something)\n",
    "\n",
    "        # Add widgets to the layout\n",
    "        layout.addWidget(self.button)\n",
    "\n",
    "        # Set the layout on the application's window\n",
    "        self.setLayout(layout)\n",
    "        \n",
    "    def do_something(self):\n",
    "        \"\"\"This function specifies the actions taken when 'button' is pressed. \"\"\"\n",
    "        print('print, print, print, print, print')\n",
    "        \n",
    "        # or even change the label\n",
    "        self.button.setText(\"you clicked!\")\n",
    "\n",
    "        \n",
    "\n",
    "app = QtCore.QCoreApplication.instance()\n",
    "if app is None:\n",
    "    app = QtWidgets.QApplication(sys.argv)\n",
    "window = Window()\n",
    "window.show()\n",
    "app.exec_();"
   ]
  },
  {
   "cell_type": "markdown",
   "metadata": {},
   "source": [
    "### Exercise 4.a\n",
    "\n",
    "Create an application with a pushButton called 'write reply'. When the button is clicked, a QTextEdit widget should be added with the text 'Write your response here'. Use Vertical Box layout & resize your application to (600,400). \n",
    "\n",
    "Hint: layout needs to be called in your function. Therefore instead of assigning it as local variable you should assign it to the instance using `self.layout = QVBoxLayout()` instead of just `layout=QVBoxLayout()`. "
   ]
  },
  {
   "cell_type": "code",
   "execution_count": 45,
   "metadata": {},
   "outputs": [],
   "source": []
  },
  {
   "cell_type": "markdown",
   "metadata": {},
   "source": [
    "### Answer to Exercise 1.a"
   ]
  },
  {
   "cell_type": "code",
   "execution_count": 54,
   "metadata": {},
   "outputs": [
    {
     "data": {
      "text/plain": [
       "0"
      ]
     },
     "execution_count": 54,
     "metadata": {},
     "output_type": "execute_result"
    }
   ],
   "source": [
    "# Step one, create an instance of the application\n",
    "app = QtCore.QCoreApplication.instance()\n",
    "if app is None:\n",
    "    # If this wasn't the case, we start the application\n",
    "    app = QtWidgets.QApplication(sys.argv) \n",
    "\n",
    "# Create an instance of your layout\n",
    "window = QWidget()\n",
    "\n",
    "window.resize(500,500)\n",
    "window.setWindowTitle('First GUI of YOU!')\n",
    "\n",
    "\n",
    "# Show your window\n",
    "window.show()\n",
    "\n",
    "# Execute your application\n",
    "app.exec_()"
   ]
  },
  {
   "cell_type": "markdown",
   "metadata": {},
   "source": [
    "### Answer to Exercise 2.a\n",
    "\n"
   ]
  },
  {
   "cell_type": "code",
   "execution_count": 12,
   "metadata": {},
   "outputs": [
    {
     "data": {
      "text/plain": [
       "0"
      ]
     },
     "execution_count": 12,
     "metadata": {},
     "output_type": "execute_result"
    }
   ],
   "source": [
    "# Create the class\n",
    "class Window(QWidget): \n",
    "    def __init__(self):\n",
    "        super().__init__()\n",
    "        \n",
    "        self.setWindowTitle('First GUI of YOU!')\n",
    "        self.resize(500,500)\n",
    "        \n",
    "\n",
    "        \n",
    "# Run your applicaton \n",
    "app = QtCore.QCoreApplication.instance()\n",
    "if app is None:\n",
    "    app = QtWidgets.QApplication(sys.argv) \n",
    "\n",
    "# Create an instance of your class\n",
    "window = Window()\n",
    "\n",
    "# Show your window\n",
    "window.show()\n",
    "\n",
    "# Execute your application\n",
    "app.exec_()"
   ]
  },
  {
   "cell_type": "markdown",
   "metadata": {},
   "source": [
    "### Answer to Exercise 3.a."
   ]
  },
  {
   "cell_type": "code",
   "execution_count": 19,
   "metadata": {},
   "outputs": [],
   "source": [
    "class Window(QWidget):\n",
    "    def __init__(self):\n",
    "        super().__init__()\n",
    "        self.setWindowTitle(\"QHBoxLayout Example\")\n",
    "        \n",
    "        # Create a QHBoxLayout instance\n",
    "        layout = QVBoxLayout()\n",
    "        \n",
    "        # Add widgets to the layout\n",
    "        layout.addWidget(QPushButton(\"Push\"))\n",
    "        layout.addWidget(QLabel(\"Your label name\"))\n",
    "        layout.addWidget(QLineEdit(\"Your line\"))\n",
    "        \n",
    "        # Set the layout on the application's window\n",
    "        self.setLayout(layout)\n",
    "\n",
    "        \n",
    "\n",
    "app = QtCore.QCoreApplication.instance()\n",
    "if app is None:\n",
    "    app = QtWidgets.QApplication(sys.argv)\n",
    "window = Window()\n",
    "window.show()\n",
    "app.exec_();"
   ]
  },
  {
   "cell_type": "markdown",
   "metadata": {},
   "source": [
    "### Answer to Exercise 3.b."
   ]
  },
  {
   "cell_type": "code",
   "execution_count": 52,
   "metadata": {},
   "outputs": [
    {
     "data": {
      "text/plain": [
       "0"
      ]
     },
     "execution_count": 52,
     "metadata": {},
     "output_type": "execute_result"
    }
   ],
   "source": [
    "class Calculator(QWidget):\n",
    "\n",
    "    def __init__(self):\n",
    "        super().__init__()\n",
    "\n",
    "        # layout\n",
    "        grid = QGridLayout()\n",
    "        self.setLayout(grid)\n",
    "\n",
    "        names = ['Cls', 'Bck', '', 'Close',\n",
    "                 '7', '8', '9', '/',\n",
    "                 '4', '5', '6', '*',\n",
    "                 '1', '2', '3', '-',\n",
    "                 '0', '.', '=', '+']\n",
    "        \n",
    "        i = 0\n",
    "        \n",
    "        for x_position in range(5):\n",
    "            for y_position in range(4):\n",
    "                name = names[i]\n",
    "                button = QPushButton(name)\n",
    "                grid.addWidget(button, x_position, y_position)\n",
    "\n",
    "                # next index for name:\n",
    "                i += 1\n",
    "\n",
    "        self.setWindowTitle('Calculator')\n",
    "        self.show()\n",
    "\n",
    "\n",
    "\n",
    "app = QtCore.QCoreApplication.instance()\n",
    "if app is None:\n",
    "    app = QtWidgets.QApplication(sys.argv)\n",
    "window = Calculator()\n",
    "app.exec_()"
   ]
  },
  {
   "cell_type": "markdown",
   "metadata": {},
   "source": [
    "### Answer to Exercise 4.a\n",
    "\n"
   ]
  },
  {
   "cell_type": "code",
   "execution_count": 55,
   "metadata": {},
   "outputs": [],
   "source": [
    "class Window(QWidget):\n",
    "    def __init__(self):\n",
    "        super().__init__()\n",
    "        self.setWindowTitle(\"Add buttons\")\n",
    "\n",
    "        # Create a QHBoxLayout instance\n",
    "        self.layout = QVBoxLayout()\n",
    "        self.resize(600,400)\n",
    "        \n",
    "        # first create the QPushButtons and assign them to 'self'\n",
    "        self.button = QPushButton(\"write reply\")\n",
    "        \n",
    "        # The buttons have a method called 'clicked.connect(your_function_name)'\n",
    "        # which will call the function when the button is clicked. \n",
    "        self.button.clicked.connect(self.add_line_edit)\n",
    "\n",
    "        # Add widgets to the layout\n",
    "        self.layout.addWidget(self.button)\n",
    "\n",
    "        # Set the layout on the application's window\n",
    "        self.setLayout(self.layout)\n",
    "        \n",
    "    def add_line_edit(self):\n",
    "        \"\"\"This function specifies the actions taken when 'button' is pressed. \"\"\"\n",
    "        self.text_edit = QTextEdit(\"Write your response here\")\n",
    "        self.layout.addWidget(self.text_edit)\n",
    "        \n",
    "    \n",
    "app = QtCore.QCoreApplication.instance()\n",
    "if app is None:\n",
    "    app = QtWidgets.QApplication(sys.argv)\n",
    "window = Window()\n",
    "window.show()\n",
    "app.exec_();"
   ]
  },
  {
   "cell_type": "code",
   "execution_count": null,
   "metadata": {},
   "outputs": [],
   "source": []
  }
 ],
 "metadata": {
  "kernelspec": {
   "display_name": "Python 3",
   "language": "python",
   "name": "python3"
  },
  "language_info": {
   "codemirror_mode": {
    "name": "ipython",
    "version": 3
   },
   "file_extension": ".py",
   "mimetype": "text/x-python",
   "name": "python",
   "nbconvert_exporter": "python",
   "pygments_lexer": "ipython3",
   "version": "3.7.4"
  }
 },
 "nbformat": 4,
 "nbformat_minor": 2
}
