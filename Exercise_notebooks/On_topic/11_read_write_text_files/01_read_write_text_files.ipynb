{
 "cells": [
  {
   "cell_type": "markdown",
   "metadata": {},
   "source": [
    "<figure>\n",
    "   <IMG SRC=\"https://mamba-python.nl/images/logo_basis.png\" WIDTH=125 ALIGN=\"right\">\n",
    "   \n",
    "</figure>\n",
    "\n",
    "#  1. Read and write text files\n",
    "\n",
    "This notebook is a brief introduction to reading and writing text files.\n",
    "    \n",
    "Note: For these exercises we assume you are working on a windows computer. Some things will be different for mac or linux."
   ]
  },
  {
   "cell_type": "markdown",
   "metadata": {},
   "source": [
    "### Inhoudsopgave<a id=\"top\"></a>\n",
    "1. [Reading](#1)\n",
    "2. [File path](#2)\n",
    "3. [Writing](#3)\n",
    "4. [Modifying](#4)\n",
    "5. [Higher level reading/writing (NOT YET AVAILABLE)](#5)\n",
    "6. [Answers](#6)"
   ]
  },
  {
   "cell_type": "markdown",
   "metadata": {},
   "source": [
    "## [1. Reading a text file ](#top)<a id=\"1\"></a>\n",
    "\n",
    "If you want to read the data from a text file with Python you follow these steps:\n",
    "1. Open the file with Python\n",
    "2. Read data from the file\n",
    "3. Close the file\n",
    "\n",
    "In the example below we read the file [file1.txt](./file1.txt). We use the built-in function `open` to open the file."
   ]
  },
  {
   "cell_type": "code",
   "execution_count": null,
   "metadata": {},
   "outputs": [],
   "source": [
    "#1 open the file\n",
    "f = open('file1.txt')"
   ]
  },
  {
   "cell_type": "markdown",
   "metadata": {},
   "source": [
    "We read the text from the file as a string. We save the string in the variable `data`. "
   ]
  },
  {
   "cell_type": "code",
   "execution_count": null,
   "metadata": {},
   "outputs": [],
   "source": [
    "#2 read data from the file\n",
    "data = f.read()\n",
    "data"
   ]
  },
  {
   "cell_type": "markdown",
   "metadata": {},
   "source": [
    "You can see that the string contains the characters `\\n` where there is an enter in the file. `\\n` is the code for a line ending in a string. When you print the variable `data` the `\\n` is replaced by an enter."
   ]
  },
  {
   "cell_type": "code",
   "execution_count": null,
   "metadata": {},
   "outputs": [],
   "source": [
    "print(data)"
   ]
  },
  {
   "cell_type": "markdown",
   "metadata": {},
   "source": [
    "When you are done reading the file you have to close it. Otherwise the file remains open in Python. Windows treats open files as locked so you cannot edit them or open them again."
   ]
  },
  {
   "cell_type": "code",
   "execution_count": null,
   "metadata": {},
   "outputs": [],
   "source": [
    "#3 close the file\n",
    "f.close()"
   ]
  },
  {
   "cell_type": "markdown",
   "metadata": {},
   "source": [
    "Now that you've closed the file you canot read it anymore."
   ]
  },
  {
   "cell_type": "code",
   "execution_count": null,
   "metadata": {},
   "outputs": [],
   "source": [
    "print(f.read())"
   ]
  },
  {
   "cell_type": "markdown",
   "metadata": {},
   "source": [
    "#### Exercise 1 <a name=\"opdr1\"></a>\n",
    "Read the text from the file [file2.txt](./file2.txt). Print the data in the file."
   ]
  },
  {
   "cell_type": "code",
   "execution_count": null,
   "metadata": {},
   "outputs": [],
   "source": []
  },
  {
   "cell_type": "markdown",
   "metadata": {},
   "source": [
    "<a href=\"#antw1\">Answer Exercise 1</a>"
   ]
  },
  {
   "cell_type": "markdown",
   "metadata": {},
   "source": [
    "### with statement\n",
    "\n",
    "Opening and closing files can be annoying. If you forget to close the file unexpected things may happen. Therefore the `with` statement is very usefull. If you use a `with` statement to open a file, the file will be closed automatically once the code within the with-statement is executed. Therefore you don't have to explicitely close the file. For example:"
   ]
  },
  {
   "cell_type": "code",
   "execution_count": null,
   "metadata": {},
   "outputs": [],
   "source": [
    "with open('file1.txt') as f:\n",
    "    data = f.read()\n",
    "    \n",
    "print(data)"
   ]
  },
  {
   "cell_type": "code",
   "execution_count": null,
   "metadata": {},
   "outputs": [],
   "source": [
    "#check to see if it is still open\n",
    "f.read()"
   ]
  },
  {
   "cell_type": "markdown",
   "metadata": {},
   "source": [
    "#### Exercise 2 <a name=\"opdr2\"></a>\n",
    "\n",
    "Open and read the text in `file2.txt` using a with statement. Store the text in a variable."
   ]
  },
  {
   "cell_type": "code",
   "execution_count": null,
   "metadata": {},
   "outputs": [],
   "source": []
  },
  {
   "cell_type": "markdown",
   "metadata": {},
   "source": [
    "<a href=\"#antw2\">Answer Exercise 2</a>"
   ]
  },
  {
   "cell_type": "markdown",
   "metadata": {},
   "source": [
    "## [2. file path](#top)<a id=\"2\"></a>"
   ]
  },
  {
   "cell_type": "markdown",
   "metadata": {},
   "source": [
    "In [chapter 1](#1) we've read 2 files using only the filename: `file1.txt` and `file2.txt`. Python knows which file to read because the files are in the same directory as this jupyter notebook (`01_read_write_text_files.ipynb`). If you want to read files from other directories you have roughly 2 options:\n",
    "1. specify the full file path\n",
    "2. specify the relative path to the file. This is the path relative to the directory of the jupyter notebook you are working in."
   ]
  },
  {
   "cell_type": "markdown",
   "metadata": {},
   "source": [
    "#### terms & definitions\n",
    "In this chapter we use a few terms that can be confusing. Here is a short summary of the terms and their meaning:\n",
    "- **file extension** the file extension contains information about the type of file and the program you can use to open the file e.g. '.txt', '.xlsx'\n",
    "- **filename** the name of the file including the extension e.g. 'file1.txt', 'calculation.csv'.\n",
    "- **directory** the folder in which a file is stored. Commonly used directory names in Windows are 'Documents' or 'Downloads'.\n",
    "- **path** the unique location of a file or directory on your local file system, e.g. \n",
    "    - directory path: 'C:\\Users\\onno_\\Documents\\Exercises_Python_Basic'\n",
    "    - file path: 'C:\\Users\\onno_\\Downloads\\pycharm-community-2020.1.1.exe'\n",
    "- **current working directory (cwd)** the directory that you are currently working in. In this case it is the directory that contains this jupyter notebook ('01_read_write_text_files.ipynb')."
   ]
  },
  {
   "cell_type": "markdown",
   "metadata": {},
   "source": [
    "#### 1. full path\n",
    "\n",
    "You can read a file by specifying the full path using the code below. Note, the code below probably gives a `FileNotFoundError` because your course-material is in a different directory."
   ]
  },
  {
   "cell_type": "code",
   "execution_count": null,
   "metadata": {},
   "outputs": [],
   "source": [
    "with open(r'C:\\Users\\noel\\02_git_repos\\course-material\\Exercise_notebooks\\on_topic\\07_read_write_text_files\\file1.txt') as f:\n",
    "    data = f.read()\n",
    "print(data)"
   ]
  },
  {
   "cell_type": "markdown",
   "metadata": {},
   "source": [
    "Note that we use the character `r` before the string `'C:\\Users\\noel\\...'`. If we omit this character we get an error because the backslash `\\` is a special character in a string. For example `'\\n'` represents an enter. With the `r` in front of the string we indicate that the string should be interpreted as a raw string without any special characters. It basically converts all backslashes to double backslashes `\\\\`. A double backslash is intepreted as a backslash in Python."
   ]
  },
  {
   "cell_type": "code",
   "execution_count": null,
   "metadata": {},
   "outputs": [],
   "source": [
    "# using 'r' to create a raw string (with double backslashes)\n",
    "s1 = r'C:\\Users\\noel\\02_git_repos\\course-material\\Exercise_notebooks\\on_topic\\07_read_write_text_files\\file1.txt'\n",
    "s1"
   ]
  },
  {
   "cell_type": "markdown",
   "metadata": {},
   "source": [
    "When you try to create a string with backslashes and without the `'r'` you can run into errors. In the example below we get an error because the `\\U` is a special character that you use to create a unicode string. We get this error because the characters after `\\U` cannot be interpreted as unicode (because it is not unicode)."
   ]
  },
  {
   "cell_type": "code",
   "execution_count": null,
   "metadata": {},
   "outputs": [],
   "source": [
    "# trying to create a string with single backslashes gives an error\n",
    "s2 = 'C:\\Users\\noel\\02_git_repos\\course-material\\Exercise_notebooks\\on_topic\\07_read_write_text_files\\file1.txt'\n",
    "s2"
   ]
  },
  {
   "cell_type": "markdown",
   "metadata": {},
   "source": [
    "#### Exercise 3 <a name=\"opdr3\"></a>\n",
    "Find a text file on your computer. Read the content of the file using the full file path. Print the content of the file. "
   ]
  },
  {
   "cell_type": "code",
   "execution_count": null,
   "metadata": {},
   "outputs": [],
   "source": []
  },
  {
   "cell_type": "markdown",
   "metadata": {},
   "source": [
    "<a href=\"#antw3\">Answer exercise 3</a>"
   ]
  },
  {
   "cell_type": "markdown",
   "metadata": {},
   "source": [
    "### 2. relative path\n",
    "You can also specify the path of the file relative to the current working directory. In the example below we open the file [`holland_seawater.dat`](../02_matplotlib/holland_seawater.dat) which is located in the `02_matplotlib` directory. You can see in the diagram below that the file and this Jupyter Notebook share the same parent directory named `On_topic`.\n",
    "\n",
    "<br>\n",
    "<figure>\n",
    "   <IMG SRC=\"directory_structure.PNG\" WIDTH=500>\n",
    "   \n",
    "</figure>"
   ]
  },
  {
   "cell_type": "markdown",
   "metadata": {},
   "source": [
    "When you specify a relative path you use `..\\` to go to the parent directory of the current working directory."
   ]
  },
  {
   "cell_type": "code",
   "execution_count": null,
   "metadata": {},
   "outputs": [],
   "source": [
    "with open(r'..\\02_matplotlib\\holland_seawater.dat') as f:\n",
    "    data = f.read()\n",
    "print(data)"
   ]
  },
  {
   "cell_type": "markdown",
   "metadata": {},
   "source": [
    "#### Exercise 4<a name=\"opdr4\"></a>\n",
    "\n",
    "Read the data from the file `xypoints.dat` in the directory `Exercise_notebooks\\Basic\\basic3_arrays`. \n",
    "\n",
    "Tip: You can use `'..\\..\\'` to go to the parent of the parent directory."
   ]
  },
  {
   "cell_type": "code",
   "execution_count": null,
   "metadata": {},
   "outputs": [],
   "source": []
  },
  {
   "cell_type": "markdown",
   "metadata": {},
   "source": [
    "<a href=\"#antw4\">Answer exercise 4</a>"
   ]
  },
  {
   "cell_type": "markdown",
   "metadata": {},
   "source": [
    "#### why use relative paths?\n",
    "Using relative paths can help when you work together on a project. In a project the scripts and text files are usually in different directories within the same project directory. This makes it possible to use relative paths to read the files in your script. Now your colleague can use a copy of the project directory and run all the scripts seamlessly without any FileNotFoundErrors.\n",
    "\n",
    "When you would've used absolute paths FileNotFoundErrors will occur when others run the scripts. Their project directory path is different from yours. With relative paths your scripts will work for every user regardless of where others have put the project directory on their local file system. "
   ]
  },
  {
   "cell_type": "markdown",
   "metadata": {},
   "source": [
    "## [3. Writing text files](#top)<a id=\"3\"></a>"
   ]
  },
  {
   "cell_type": "markdown",
   "metadata": {},
   "source": [
    "Writing a text file has steps similar to reading a file:\n",
    "1. Open the file with Python\n",
    "2. Write data to the file\n",
    "3. Close the file\n",
    "\n",
    "In the example below we write the string `I ate a clock yesterday, it was very time-consuming.` to the file `my_diary.txt`."
   ]
  },
  {
   "cell_type": "code",
   "execution_count": null,
   "metadata": {},
   "outputs": [],
   "source": [
    "#1 open the file\n",
    "f = open('my_diary.txt', 'w')\n",
    "#2 write data to the file\n",
    "f.write('I ate a clock yesterday, it was very time-consuming.')\n",
    "#3 close the file\n",
    "f.close()"
   ]
  },
  {
   "cell_type": "code",
   "execution_count": null,
   "metadata": {},
   "outputs": [],
   "source": [
    "#or using the with statement\n",
    "with open('my_diary.txt', 'w') as f:\n",
    "    f.write('I ate a clock yesterday, it was very time-consuming.')"
   ]
  },
  {
   "cell_type": "markdown",
   "metadata": {},
   "source": [
    "Note that the second argument of the `open` function is the `mode`. You can choose from the following modes:\n",
    "- `'r'`: read from the file\n",
    "- `'w'`: write to the file\n",
    "- `'a'`: append to the file\n",
    "\n",
    "The default mode is `'r'`, that's why we did not specify a mode when we were reading files. Now that we want to write a file we set the mode to `'w'`."
   ]
  },
  {
   "cell_type": "markdown",
   "metadata": {},
   "source": [
    "When you have run the cells above you see that the file 'my_diary.txt' appeared in the current working directory. You can open the file to check if it contains the correct text."
   ]
  },
  {
   "cell_type": "markdown",
   "metadata": {},
   "source": [
    "#### Exercise 5 <a name=\"opdr5\"></a>\n",
    "Create a text file in the `personal_application` directory (`Exercise_notebooks\\personal_application`) named `readme.md`. Write the following text to the file `this folder contains my personal application. In the Jupyter Notebook 'eigen_toepassing' you can find more information.`."
   ]
  },
  {
   "cell_type": "code",
   "execution_count": null,
   "metadata": {},
   "outputs": [],
   "source": []
  },
  {
   "cell_type": "markdown",
   "metadata": {},
   "source": [
    "<a href=\"#antw5\">Answer exercise 5</a>"
   ]
  },
  {
   "cell_type": "markdown",
   "metadata": {},
   "source": [
    "## [4. Modifying](#top)<a id=\"4\"></a>\n",
    "Fairly often we want to modify an existing file rather than creating a new file. For this we can use a combination of reading and writing. In the example below we modify the file `file2.txt` by replacing the word `Iraq` with `Malawi`. We save the new file under a new name `file2_mod.txt`. Note that we did not overwrite the original file. This is common practice to avoid loosing data. If something goes wrong we will still have the original file."
   ]
  },
  {
   "cell_type": "code",
   "execution_count": 13,
   "metadata": {},
   "outputs": [],
   "source": [
    "# reading the whole file as a string and write the modified string to the file\n",
    "with open('file2.txt', 'r') as f:\n",
    "    txt = f.read()\n",
    "new_txt = txt.replace('Iraq', 'Malawi')\n",
    "with open('file2_mod.txt', 'w') as f:\n",
    "    f.write(new_txt)"
   ]
  },
  {
   "cell_type": "markdown",
   "metadata": {},
   "source": [
    "#### Exercise 6 <a name=\"opdr6\"></a>\n",
    "Use a combination of reading an writing to add the string `Then I went back for seconds.` to the file `my_diary.txt`. This is the file that we've created in [chapter 3](#3). Decide for yourself which method you want to use. "
   ]
  },
  {
   "cell_type": "code",
   "execution_count": null,
   "metadata": {},
   "outputs": [],
   "source": []
  },
  {
   "cell_type": "markdown",
   "metadata": {},
   "source": [
    "<a href=\"#antw6\">Answer exercise 6</a>"
   ]
  },
  {
   "cell_type": "markdown",
   "metadata": {},
   "source": [
    "#### Append\n",
    "\n",
    "In the example above we read the whole file as and write the modified string to a new file. Below is another way to make the same modifications to the file. Now we read the file line by line. After a line is read and modified it is written to a file. Note that we use `'a'` in the `open()` function to indicate that we want to append to this file rather than overwrite. This is necesarry because we write to the file line by line."
   ]
  },
  {
   "cell_type": "code",
   "execution_count": null,
   "metadata": {},
   "outputs": [],
   "source": [
    "# use the append, reading and writing the file line by line\n",
    "with open('file2.txt', 'r') as f_in:\n",
    "    with open('file2_mod.txt', 'a') as f_out:\n",
    "        for line in f_in:\n",
    "            if 'Iraq' in line:\n",
    "                f_out.writelines(line.replace('Iraq', 'Malawi'))\n",
    "            else:\n",
    "                f_out.writelines(line)"
   ]
  },
  {
   "cell_type": "markdown",
   "metadata": {},
   "source": [
    "#### Exercise 7 <a name=\"opdr7\"></a>\n",
    "With the append mode you can add text at the end of an existing text file. Repeat Exercise 6 but now use the append mode to add the string to the file. "
   ]
  },
  {
   "cell_type": "code",
   "execution_count": null,
   "metadata": {},
   "outputs": [],
   "source": []
  },
  {
   "cell_type": "markdown",
   "metadata": {},
   "source": [
    "In the example above we"
   ]
  },
  {
   "cell_type": "code",
   "execution_count": 15,
   "metadata": {},
   "outputs": [],
   "source": [
    "\n",
    "        "
   ]
  },
  {
   "cell_type": "markdown",
   "metadata": {},
   "source": [
    "<a href=\"#antw7\">Answer exercise 7</a>"
   ]
  },
  {
   "cell_type": "markdown",
   "metadata": {},
   "source": [
    "### [5. Higher level reading/writing (NOT YET AVAILABLE)](#top)<a id=\"5\"></a>"
   ]
  },
  {
   "cell_type": "code",
   "execution_count": null,
   "metadata": {},
   "outputs": [],
   "source": []
  },
  {
   "cell_type": "markdown",
   "metadata": {},
   "source": [
    "\n",
    "## [6. Answers](#top)<a id=\"6\"></a>"
   ]
  },
  {
   "cell_type": "markdown",
   "metadata": {},
   "source": [
    "#### <a href=\"#opdr1\">Answer exercise 1</a> <a name=\"antw1\"></a>\n",
    "\n",
    "Don't forget to close the file after you're done reading!"
   ]
  },
  {
   "cell_type": "code",
   "execution_count": null,
   "metadata": {},
   "outputs": [],
   "source": [
    "f = open('file2.txt')\n",
    "print(f.read())\n",
    "f.close()"
   ]
  },
  {
   "cell_type": "markdown",
   "metadata": {},
   "source": [
    "#### <a href=\"#opdr2\">Answer Exercise 2</a> <a name=\"antw2\"></a>"
   ]
  },
  {
   "cell_type": "code",
   "execution_count": null,
   "metadata": {},
   "outputs": [],
   "source": [
    "with open('file2.txt') as f:\n",
    "    data = f.read()"
   ]
  },
  {
   "cell_type": "markdown",
   "metadata": {},
   "source": [
    "#### <a href=\"#opdr3\">Answer exercise 3</a> <a name=\"antw3\"></a>\n",
    "\n",
    "Replace `<your_file_path>` in the code below with your full file path."
   ]
  },
  {
   "cell_type": "code",
   "execution_count": null,
   "metadata": {},
   "outputs": [],
   "source": [
    "with open(r'<your_file_path>') as f:\n",
    "    data = f.read()\n",
    "print(data)"
   ]
  },
  {
   "cell_type": "markdown",
   "metadata": {},
   "source": [
    "#### <a href=\"#opdr4\">Answer exercise 4</a> <a name=\"antw4\"></a>"
   ]
  },
  {
   "cell_type": "code",
   "execution_count": null,
   "metadata": {},
   "outputs": [],
   "source": [
    "with open(r'..\\..\\Basic\\basic3_arrays\\xypoints.dat') as f:\n",
    "    data = f.read()\n",
    "print(data)"
   ]
  },
  {
   "cell_type": "markdown",
   "metadata": {},
   "source": [
    "#### <a href=\"#opdr5\">Answer exercise 5</a> <a name=\"antw5\"></a>\n",
    "\n",
    "In the answer below we use the relative directory to write the file `readme.md`. You can also use the absolute path of course. \n",
    "\n",
    "Note: because the string has many characters we use the `\\` at the end of the string to indicate that the string continues on the following line."
   ]
  },
  {
   "cell_type": "code",
   "execution_count": null,
   "metadata": {},
   "outputs": [],
   "source": [
    "with open(r'..\\..\\personal_application\\readme.md', 'w') as f:\n",
    "    f.write(\"this folder contains my personal application. In the Jupyter Notebook\"\\\n",
    "            \"'eigen_toepassing' you can find more information.\")"
   ]
  },
  {
   "cell_type": "markdown",
   "metadata": {},
   "source": [
    "#### <a href=\"#opdr6\">Answer exercise 6</a> <a name=\"antw6\"></a>"
   ]
  },
  {
   "cell_type": "code",
   "execution_count": null,
   "metadata": {},
   "outputs": [],
   "source": [
    "with open(r'my_diary.txt', 'r') as f:\n",
    "    txt = f.read()\n",
    "new_txt = txt + ' Then I went back for seconds.'\n",
    "\n",
    "with open(r'my_diary_mod.txt', 'w') as f:\n",
    "    f.write(new_txt)"
   ]
  },
  {
   "cell_type": "markdown",
   "metadata": {},
   "source": [
    "#### <a href=\"#opdr7\">Answer exercise 7</a> <a name=\"antw7\"></a>\n",
    "Note that when you use the append method there is no way of renaming the file. If we rerun this cell the text will be added once more."
   ]
  },
  {
   "cell_type": "code",
   "execution_count": null,
   "metadata": {},
   "outputs": [],
   "source": [
    "with open(r'my_diary.txt', 'a') as f:\n",
    "    f.write(' Then I went back for seconds.')"
   ]
  },
  {
   "cell_type": "markdown",
   "metadata": {},
   "source": [
    "#### <a href=\"#opdr8\">Answer exercise 8</a> <a name=\"antw8\"></a>"
   ]
  },
  {
   "cell_type": "code",
   "execution_count": null,
   "metadata": {},
   "outputs": [],
   "source": []
  }
 ],
 "metadata": {
  "kernelspec": {
   "display_name": "Python 3",
   "language": "python",
   "name": "python3"
  },
  "language_info": {
   "codemirror_mode": {
    "name": "ipython",
    "version": 3
   },
   "file_extension": ".py",
   "mimetype": "text/x-python",
   "name": "python",
   "nbconvert_exporter": "python",
   "pygments_lexer": "ipython3",
   "version": "3.7.6"
  }
 },
 "nbformat": 4,
 "nbformat_minor": 2
}
