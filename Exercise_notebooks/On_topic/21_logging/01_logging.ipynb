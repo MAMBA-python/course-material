{
 "cells": [
  {
   "cell_type": "markdown",
   "metadata": {},
   "source": [
    "<figure>\n",
    "   <IMG SRC=\"https://mamba-python.nl/images/logo_basis.png\" WIDTH=125 ALIGN=\"right\">\n",
    "</figure>\n",
    "\n",
    "# Logging\n",
    "_developed by Onno Ebbens_\n",
    "    \n",
    "<hr>\n",
    "\n",
    "Logging is een handige tool voor programmeurs die verschillende mogelijkheden biedt. Zo helpt logging je om:\n",
    "- verschillende stappen in een Python applicatie beter te begrijpen. \n",
    "- informatie over de uitgevoerde stappen in een applicatie op te slaan\n",
    "- meer inzicht te geven in foutmeldingen en hoe deze zijn veroorzaakt.\n",
    "    \n",
    "Door belangrijke informatie te loggen wordt het makkelijker om je code te debuggen. Ook kan de opgeslagen informatie, de logs, helpen om de prestaties en gebruikerspatronen te analyseren. Python bevat standaard een logging module die kan worden toegevoegd aan je eigen applicatie. In deze notebook wordt uitgelegd hoe je deze module kan gebruiken. \n",
    "    \n",
    "Benodigde voorkennis:\n",
    "- begrijpen hoe je een functie definieert, aanroept en aanpast.\n",
    "- weten wat een numpy array is.\n",
    "    \n",
    "\n",
    "### Inhoudsopgave<a id=\"top\"></a>\n",
    "1. [Print](#1)\n",
    "2. [Logging](#2)\n",
    "3. [Levels](#3)\n",
    "4. [Log to file](#4)\n",
    "5. [Log format](#5)\n",
    "6. [Loggernaam](#6)   \n",
    "7. [Geavanceerd](#7)   \n",
    "8. [Antwoorden](#Antwoorden)"
   ]
  },
  {
   "cell_type": "markdown",
   "metadata": {},
   "source": [
    "## 1. [Print](#top)<a id=\"1\"></a>\n",
    "\n",
    "De `print` functie kan worden gezien als de meest basale vorm van logging. De `print` functie kan op verschillende manieren worden gebruikt. Bijvoorbeeld om aan te geven wat er in de code gebeurt of de waarde van een variabele weer te geven. Het gebruik van de print functie is een hulpmiddel voor het begrijpen van code."
   ]
  },
  {
   "cell_type": "markdown",
   "metadata": {},
   "source": [
    "<hr>\n",
    "\n",
    "#### Opgave 1 <a name=\"opdr1\"></a>\n",
    "\n",
    "Voeg in onderstaande functie op de juiste plek de volgende print statements toe:\n",
    "- `print('compute frequency per bin_edge')`\n",
    "- `print('starting to compute bin_edges')`\n",
    "- `print('frequency per bin is', count)`\n",
    "- `print('finished computing bin_edges, bin_edges are:', bin_edges)`\n",
    "- `print('getting frequency bins of array', arr, 'using', n_bins, 'bins')`"
   ]
  },
  {
   "cell_type": "code",
   "execution_count": null,
   "metadata": {},
   "outputs": [],
   "source": [
    "import numpy as np\n",
    "\n",
    "def frequency_bins(arr, n_bins=4):\n",
    "    \"\"\" get the frequency of the numbers in an array within a number of bins. The boundaries of the bins are \n",
    "    created by the percentiles of the array.\n",
    "    \n",
    "    Parameters\n",
    "    ----------\n",
    "    arr : np.array of ints or float\n",
    "        numbers to divide into bins\n",
    "    n_bins : int\n",
    "        number of bins\n",
    "    \n",
    "    Returns\n",
    "    -------\n",
    "    count : np.array\n",
    "        the number of items in arr that are within the bin\n",
    "    bins : np.array\n",
    "        the boundaries of the bins\n",
    "    \"\"\"\n",
    "    \n",
    "    bin_edges = np.zeros(n_bins+1)    \n",
    "    for i in range(n_bins+1):\n",
    "        percentile = i*100/n_bins\n",
    "        bin_edges[i] = np.percentile(arr, percentile)\n",
    "    \n",
    "    count, _ = np.histogram(arr,bin_edges)\n",
    "    \n",
    "    return count\n",
    "\n",
    "random_numbers = np.random.randint(0, 10, (10))\n",
    "\n",
    "count = frequency_bins(random_numbers)"
   ]
  },
  {
   "cell_type": "markdown",
   "metadata": {},
   "source": [
    "<a href=\"#antw1\">Antwoord opgave 1</a>\n",
    "<hr>"
   ]
  },
  {
   "cell_type": "markdown",
   "metadata": {},
   "source": [
    "Hierboven hebben we gezien dat het print statement handig kan zijn om te begrijpen wat er in de code gebeurt. Toch zitten er een paar nadelen aan het print statement:\n",
    "- het print statement wordt altijd uitgevoerd, ook als je geen behoefte hebt aan de informatie\n",
    "- de uitvoer van het print statement is zichtbaar in de console als je de functie aanroept. Je kan het lastig later nog teruglezen.\n",
    "- hoe meer print statements je toevoegt in de code hoe onoverzichtelijker de uitvoer wordt. Het is lastig te achterhalen in welk stuk code welk print statement wordt aangeroepen.\n",
    "\n",
    "Gelukkig is het in Python mogelijk om op een andere manier de gewenste informatie weer te geven en op te slaan. Dit kan met de `logging` module."
   ]
  },
  {
   "cell_type": "markdown",
   "metadata": {},
   "source": [
    "## 2. [Logging](#top)<a id=\"2\"></a>\n",
    "\n",
    "De `logging` module in Python bevat functies en classes die je kan gebruiken om bij te houden wat er gebeurt tijdens het runnen van code. Met de logging module kan je stukken tekst, ook wel logs genoemd, toevoegen aan de code waarin wordt aangegeven wat er is gebeurt. Hieronder een voorbeeld om een log bericht te maken."
   ]
  },
  {
   "cell_type": "code",
   "execution_count": null,
   "metadata": {},
   "outputs": [],
   "source": [
    "import logging\n",
    "\n",
    "# instellingen voor de logging module\n",
    "logging.basicConfig(level=logging.DEBUG)\n",
    "\n",
    "# maak een log\n",
    "logging.info('dit is een log tekst')"
   ]
  },
  {
   "cell_type": "markdown",
   "metadata": {},
   "source": [
    "In dit voorbeeld maken we een log tekst die wordt getoond onder de cell. Dit is zeer vergelijkbaar met wat de `print` functie doet. Het verschil is nu dat er een rode balk om de tekst heen komt en `INFO:root:` voor de log tekst wordt gezet. Deze rode balk wordt enkel in Jupyter Notebooks getoont en is dan ook geen instelling van de logging module. `INFO:` is een verwijzing naar het log level en wordt behandeld in het volgende [hoofdstuk](#3). `root:` is een verwijzing naar de loggernaam en wordt behandeld in [hoofdstuk 6](#6).\n",
    "\n",
    "NB: In de code zie je ook `logging.basicConfig(..` staan. Dit zijn instellingen voor de `logging` module. Voor nu gaan we daar niet dieper op in. Deze worden uitgelegd in [hoofdstuk 3](#3)."
   ]
  },
  {
   "cell_type": "markdown",
   "metadata": {},
   "source": [
    "<hr>\n",
    "\n",
    "#### Opgave 2 <a name=\"opdr2\"></a>\n",
    "\n",
    "Verander de print statements in de functie van opgave 1 in logging statements. \n",
    "\n",
    "NB: Na aanpassing bevat de functie een overvloed aan logging statements. In de praktijk zal nooit zoveel informatie worden gelogd. Om de `logging` module snel te begrijpen is de combinatie van veel log statements en weinig code voor nu wel praktisch."
   ]
  },
  {
   "cell_type": "code",
   "execution_count": null,
   "metadata": {},
   "outputs": [],
   "source": []
  },
  {
   "cell_type": "markdown",
   "metadata": {},
   "source": [
    "<a href=\"#antw2\">Antwoord opgave 2</a>\n",
    "\n",
    "<hr>"
   ]
  },
  {
   "cell_type": "markdown",
   "metadata": {},
   "source": [
    "## 3. [Levels](#top)<a id=\"3\"></a>"
   ]
  },
  {
   "cell_type": "markdown",
   "metadata": {},
   "source": [
    "De logs die je maakt met de `logging` module hebben altijd een bepaald niveau, ook wel het log level genoemd. Met dit level geef je aan hoe belangrijk de log is. Door de logs een level mee te geven kan je later kiezen op welk level je de logs wil weergeven. De `logging` module bevat de volgende levels:\n",
    "1. DEBUG\n",
    "2. INFO\n",
    "3. WARNING\n",
    "4. ERROR\n",
    "5. CRITICAL\n",
    "\n",
    "De logs in level 5 'CRITICAL' zijn altijd van belang, terwijl de logs van level 1 'DEBUG' alleen van belang zijn als je heel veel gedetailleerde informatie wil, bijvoorbeeld als je aan het debuggen bent.\n",
    "\n",
    "In het voorgaande voorbeeld hebben we logs gemaakt op log level 'INFO'. Hieronder hebben we een functie gemaakt met logs op verschillende levels. Bij het aanroepen van de functie zien we die verschillende logs weergegeven. Het log level is bij het log bericht weergegeven. "
   ]
  },
  {
   "cell_type": "code",
   "execution_count": null,
   "metadata": {},
   "outputs": [],
   "source": [
    "def simple_func(shape_a):\n",
    "    \"\"\" function does two things:\n",
    "    1. create an array a with random integer values between 0 and 10, and shape defind by 'shape_a'\n",
    "    2. compute array b where each element is the sum of the element in array a and the index number \n",
    "    of that element.\n",
    "    \n",
    "    Parameters\n",
    "    ----------\n",
    "    shape_a : int\n",
    "        shape of array a\n",
    "    \n",
    "    Returns\n",
    "    -------\n",
    "    b : np.ndarray\n",
    "        output array\n",
    "    \"\"\"\n",
    "    logging.debug('start simple_func')\n",
    "    logging.info(f'shape_a is {shape_a}')\n",
    "    \n",
    "    logging.debug('get array a')\n",
    "    a = np.random.randint(0, 10, shape_a)\n",
    "    logging.info(f'array a = {a}')\n",
    "\n",
    "    if a.ndim > 1:\n",
    "        logging.error(f'expected an array with 1 dimension got {a.ndim}')\n",
    "        raise ValueError()\n",
    "    \n",
    "    if a.shape[0]>1000:\n",
    "        logging.warning(f'array a has more than 1000 elements computing b can be slow')\n",
    "    \n",
    "    logging.debug(f'compute array b from a')\n",
    "    b = np.ones_like(a)    \n",
    "    for i, val in enumerate(a):\n",
    "        b[i] = val + i\n",
    "\n",
    "    logging.info(f'array b = {b}')\n",
    "    return b"
   ]
  },
  {
   "cell_type": "code",
   "execution_count": null,
   "metadata": {},
   "outputs": [],
   "source": [
    "simple_func(1001)"
   ]
  },
  {
   "cell_type": "code",
   "execution_count": null,
   "metadata": {},
   "outputs": [],
   "source": [
    "simple_func((2,5))"
   ]
  },
  {
   "cell_type": "markdown",
   "metadata": {},
   "source": [
    "#### set log level\n",
    "\n",
    "Je kan kiezen welke logs worden weergegeven door het log level in te stellen:\n",
    "```\n",
    "logging.getLogger().setLevel(logging.<log_level>)\n",
    "```\n",
    "Vervang in bovenstaande code `<log_level>` door de naam van het log level, bijv. `INFO`. Nadat de instellingen zijn aangepast worden enkel nog de logs van het gekozen level en hoger getoond. In onderstaande voorbeelden kan je zien welke logs worden getoond bij verschillende log levels. "
   ]
  },
  {
   "cell_type": "code",
   "execution_count": null,
   "metadata": {},
   "outputs": [],
   "source": [
    "logging.getLogger().setLevel(logging.INFO)\n",
    "simple_func(1001)"
   ]
  },
  {
   "cell_type": "code",
   "execution_count": null,
   "metadata": {},
   "outputs": [],
   "source": [
    "logging.getLogger().setLevel(logging.ERROR)\n",
    "simple_func(1001)"
   ]
  },
  {
   "cell_type": "code",
   "execution_count": null,
   "metadata": {},
   "outputs": [],
   "source": [
    "logging.getLogger().setLevel(logging.ERROR)\n",
    "simple_func((2,5))"
   ]
  },
  {
   "cell_type": "markdown",
   "metadata": {},
   "source": [
    "<hr>\n",
    "\n",
    "#### Opgave 3 <a name=\"opdr3\"></a>\n",
    "\n",
    "Verander de log levels in de functie van opgave 1 & 2. Kies daarbij een logisch niveau voor de logs. Check of de functie werkt door een aantal keer het log level aan te passen en de functie aan te roepen."
   ]
  },
  {
   "cell_type": "code",
   "execution_count": null,
   "metadata": {},
   "outputs": [],
   "source": []
  },
  {
   "cell_type": "markdown",
   "metadata": {},
   "source": [
    "<a href=\"#antw3\">Antwoord opgave 3</a>\n",
    "\n",
    "<hr>"
   ]
  },
  {
   "cell_type": "markdown",
   "metadata": {},
   "source": [
    "#### Opgave 4<a name=\"opdr4\"></a>\n",
    "\n",
    "Gebruik de functie van opgave 3, voeg een waarschuwing toe als de invoer van de functie geen numpy array is. Voor type checking zie deze stackoverflow post: https://stackoverflow.com/questions/59279803/how-to-check-if-an-object-is-an-np-arrayb"
   ]
  },
  {
   "cell_type": "code",
   "execution_count": null,
   "metadata": {},
   "outputs": [],
   "source": []
  },
  {
   "cell_type": "markdown",
   "metadata": {},
   "source": [
    "<a href=\"#antw4\">Antwoord opgave 4</a>\n",
    "\n",
    "<hr>"
   ]
  },
  {
   "cell_type": "markdown",
   "metadata": {},
   "source": [
    "## 4. [log to file](#top)<a id=\"4\"></a>\n",
    "\n",
    "Net als bij de `print` functie worden de logs standaard in de console, onderaan de jupyter notebook cell, getoond. Met de `logging` module is het vrij eenvoudig om de logs naar een bestand weg te schrijven. Dit kunnen we opgeven bij de instellingen in de `basicConfig` die we ook bij [hoofdstuk 2](#2) hebben gemaakt.\n",
    "\n",
    "Wanneer de `basicConfig` éénmaal is aangemaakt kan deze niet meer worden gewijzigd. Dit is bewust gedaan om te voorkomen dat een stuk code in een andere module jouw log instellingen kan aanpassen. Om toch de instellingen te kunnen aanpassen kan je de kernel opnieuw opstarten en de `logging` module opnieuw inlezen. Hieronder doen we een truucje waarbij we de `logging` module opnieuw inlezen met de `reload` functie. Daarna is het ook mogelijk om de `basicConfig` opnieuw aan te maken. Dit is enkel voor de uitleg van de verschillende instellingen van `basicConfig`. Met klem wordt geadviseerd dit niet te gebruiken wanneer je logging gaat toepassen in je eigen code."
   ]
  },
  {
   "cell_type": "code",
   "execution_count": null,
   "metadata": {},
   "outputs": [],
   "source": [
    "from importlib import reload\n",
    "reload(logging)\n",
    "logging.basicConfig(filename='example.log', level=logging.DEBUG)"
   ]
  },
  {
   "cell_type": "markdown",
   "metadata": {},
   "source": [
    "Na het runnen van bovenstaande code is het bestand `example.log` aangemaakt in dezelfde map als dit notebook. Als je dit bestand opent met een text editor is deze nog leeg."
   ]
  },
  {
   "cell_type": "code",
   "execution_count": null,
   "metadata": {},
   "outputs": [],
   "source": [
    "logging.info('dit is de log tekst en wordt weggeschreven naar het log bestand')"
   ]
  },
  {
   "cell_type": "markdown",
   "metadata": {},
   "source": [
    "Als je de cel hierboven hebt gerund en het bestand `example.log` opnieuw opent zie je het volgende:\n",
    "```\n",
    "INFO:root:dit is de log tekst en wordt weggeschreven naar het log bestand\n",
    "```\n",
    "Alle volgende log berichten worden automatisch weggeschreven naar hetzelfde bestand."
   ]
  },
  {
   "cell_type": "code",
   "execution_count": null,
   "metadata": {},
   "outputs": [],
   "source": [
    "logging.info('deze regel komt ook in het log bestand')"
   ]
  },
  {
   "cell_type": "markdown",
   "metadata": {},
   "source": [
    "Na het runnen van de cel hierboven ziet het bestand er zo uit:\n",
    "```\n",
    "INFO:root:dit is de log tekst en wordt weggeschreven naar het log bestand\n",
    "INFO:root:deze regel komt ook in het log bestand\n",
    "```\n",
    "\n",
    "Let op! Als je de cell meerdere keren runt wordt dezelfde regel meerdere keren in het `example.log` bestand gezet."
   ]
  },
  {
   "cell_type": "markdown",
   "metadata": {},
   "source": [
    "<hr>\n",
    "\n",
    "#### Opgave 5<a name=\"opdr5\"></a>\n",
    "\n",
    "Maak je eigen log bestand aan en roep de functie `simple_func` uit [hoofdstuk 3](#3) aan. Zorg dat de 'DEBUG' logs niet worden weggeschreven naar dat bestand."
   ]
  },
  {
   "cell_type": "code",
   "execution_count": null,
   "metadata": {},
   "outputs": [],
   "source": []
  },
  {
   "cell_type": "markdown",
   "metadata": {},
   "source": [
    "<a href=\"#antw5\">Antwoord opgave 5</a>\n",
    "\n",
    "<hr>"
   ]
  },
  {
   "cell_type": "markdown",
   "metadata": {},
   "source": [
    "### filemode\n",
    "\n",
    "Naast het kiezen van een bestandsnaam kan je in `basicConfig` ook aangeven wat er moet gebeuren als het bestand al bestaat. Dit doe je met het argument `filemode`. Standaard staat `filemode` op `'a'` (append), dit betekent dat het bestaande log bestand wordt behouden en nieuwe logs erachter worden geplakt (ge-append). Het is ook mogelijk om te kiezen voor `filename='w'` (write). Dan wordt het bestaande log bestand overschreven en zijn alleen de nieuwe logs te zien. Hieronder een voorbeeld met filemodes 'w' en 'a'."
   ]
  },
  {
   "cell_type": "code",
   "execution_count": null,
   "metadata": {},
   "outputs": [],
   "source": [
    "from importlib import reload\n",
    "reload(logging)\n",
    "logging.basicConfig(filename='example.log', filemode='w', level=logging.DEBUG)"
   ]
  },
  {
   "cell_type": "code",
   "execution_count": null,
   "metadata": {},
   "outputs": [],
   "source": [
    "logging.info('Dit is de eerste log in het example.log bestand')\n"
   ]
  },
  {
   "cell_type": "code",
   "execution_count": null,
   "metadata": {},
   "outputs": [],
   "source": [
    "from importlib import reload\n",
    "reload(logging)\n",
    "logging.basicConfig(filename='example.log', filemode='a', level=logging.DEBUG)"
   ]
  },
  {
   "cell_type": "code",
   "execution_count": null,
   "metadata": {},
   "outputs": [],
   "source": [
    "logging.info('Dit is de tweede regel in het example.log bestand ondanks dat we de basicConfig opnieuw definiëren')\n"
   ]
  },
  {
   "cell_type": "markdown",
   "metadata": {},
   "source": [
    "## 5. [Log format](#top)<a id=\"5\"></a>\n",
    "\n",
    "In de `basicConfig` kan ook het format worden aangepast van de logs. Zo kan bij de logs automatisch de datum, tijd, het log level en de logger naam worden opgeslagen. Hieronder is aangegeven hoe deze instellingen worden meegegeven. "
   ]
  },
  {
   "cell_type": "code",
   "execution_count": null,
   "metadata": {},
   "outputs": [],
   "source": [
    "import logging\n",
    "logging.basicConfig(format='%(levelname)s %(asctime)s %(message)s', \n",
    "                    datefmt='%Y-%m-%d %I:%M:%S %p',\n",
    "                    level=logging.DEBUG)\n",
    "logging.info('dit is mijn log message')"
   ]
  },
  {
   "cell_type": "code",
   "execution_count": null,
   "metadata": {},
   "outputs": [],
   "source": [
    "# voeg een datumtijd toe aan het log bericht\n",
    "from importlib import reload\n",
    "reload(logging)\n",
    "logging.basicConfig(format='%(asctime)s %(message)s', \n",
    "                    datefmt='%Y-%m-%d %I:%M:%S %p')\n",
    "logging.warning('is wanneer dit bericht werd gelogd')"
   ]
  },
  {
   "cell_type": "code",
   "execution_count": null,
   "metadata": {},
   "outputs": [],
   "source": [
    "# voeg het log level (levelname) toe aan het log bericht\n",
    "from importlib import reload\n",
    "reload(logging)\n",
    "logging.basicConfig(format='%(levelname)s %(message)s')\n",
    "logging.warning('<- dit is mijn log level')\n",
    "logging.critical('<- dit is mijn log level')"
   ]
  },
  {
   "cell_type": "markdown",
   "metadata": {},
   "source": [
    "<hr>\n",
    "\n",
    "#### Opgave 6<a name=\"opdr6\"></a>\n",
    "\n",
    "Zorg ervoor dat de log berichten uit `simple_func` (zie [hoofdstuk 3](#3)) met het volgende format naar een bestand worden weggeschreven:\n",
    "- de tijd van het log bericht wordt getoond in format (HH:MM:SS).\n",
    "- het log level wordt getoond na de tijd"
   ]
  },
  {
   "cell_type": "code",
   "execution_count": null,
   "metadata": {},
   "outputs": [],
   "source": []
  },
  {
   "cell_type": "markdown",
   "metadata": {},
   "source": [
    "<a href=\"#antw5\">Antwoord opgave 6</a>\n",
    "\n",
    "<hr>"
   ]
  },
  {
   "cell_type": "markdown",
   "metadata": {},
   "source": [
    "## 6. [Loggernaam](#top)<a id=\"6\"></a>\n",
    "\n",
    "Soms is het handig om te weten in welke package, module of functie een bepaald log bericht is gegenereerd. Dit kan ook met de logging module door verschillende loggers te definiëren. Hiervoor doen we het volgende:\n",
    "- definieer een logger met een loggernaam: `l = logging.getLogger('<loggernaam>')`\n",
    "- maak logs vanuit deze logger `l.info('mijn log')` i.p.v. `logging.info('mijn log')`\n",
    "- pas het format aan in de `basicConfig` zodat de loggernaam wordt getoond bij het logger bericht.\n",
    "\n",
    "Hieronder is dit uitgewerkt in een voorbeeld met twee functies.\n",
    "\n",
    "Let op! Wanneer je geen loggernaam definieert en `logging.info()` gebruikt wordt standaard 'root' gebruikt als loggernaam. "
   ]
  },
  {
   "cell_type": "code",
   "execution_count": null,
   "metadata": {},
   "outputs": [],
   "source": [
    "def remove_exclamation_mark(s):\n",
    "    l = logging.getLogger('function->remove_exclamation_mark')\n",
    "    l.debug('run function remove_exclamation_mark')\n",
    "    \n",
    "    l.debug('check if input string has exclamation_marks')\n",
    "    if '!' in s:\n",
    "        l.info('input string contains exclamation_marks')\n",
    "    else:\n",
    "        l.warning('input string has no exclamation_marks!')\n",
    "    \n",
    "    l.info('trying to remove exclamation mark')\n",
    "    new_s = s.replace('!', '')\n",
    "    \n",
    "    return new_s\n",
    "    \n",
    "def replace_space_with_underscore(s):\n",
    "    l = logging.getLogger('function->replace_space_with_underscore')\n",
    "    l.debug('run function replace_space_with_underscore')\n",
    "    \n",
    "    l.debug('check if input string has spaces')\n",
    "    if ' ' in s:\n",
    "        l.info('input string contains one or more spaces')\n",
    "    else:\n",
    "        l.warning('input string has no spaces!')\n",
    "    \n",
    "    l.info('trying to replace spaces with underscores')\n",
    "    new_s = s.replace(' ', '_')\n",
    "    \n",
    "    return new_s  \n",
    "    \n",
    "# voeg de logger naam toe aan basicConfig\n",
    "from importlib import reload\n",
    "reload(logging)\n",
    "logging.basicConfig(format='%(name)s: %(levelname)s: %(message)s', datefmt='%I:%M:%S',\n",
    "                    level=logging.DEBUG)\n",
    "\n",
    "logging.info('testing the logger names per function')\n",
    "\n",
    "s = 'test string with spaces and an exclamation mark!'\n",
    "new_s = remove_exclamation_mark(s)\n",
    "new_s = replace_space_with_underscore(new_s)\n",
    "\n",
    "\n",
    "s = 'test_string_without_spaces!'\n",
    "new_s = remove_exclamation_mark(s)\n",
    "new_s = replace_space_with_underscore(new_s)"
   ]
  },
  {
   "cell_type": "markdown",
   "metadata": {},
   "source": [
    "NB: Het is niet gebruikelijk om aparte loggers te definiëren voor iedere functie. Wel worden vaak aparte loggers gedefinieerd per module. Als naam voor de logger wordt dan vaak de variabele `__name__` gebruikt die verwijst naar de naam van de module. "
   ]
  },
  {
   "cell_type": "code",
   "execution_count": null,
   "metadata": {},
   "outputs": [],
   "source": [
    "reload(logging)\n",
    "logging.basicConfig(level=logging.DEBUG)\n",
    "\n",
    "l = logging.getLogger(__name__)\n",
    "l.info('dit is een log uit het notebook')\n",
    "import example_module\n",
    "example_module.check_if_nummerical(6)"
   ]
  },
  {
   "cell_type": "markdown",
   "metadata": {},
   "source": [
    "## 7. [Geavanceerd](#top)<a id=\"7\"></a>\n",
    "\n",
    "De logging module bevat nog veel meer mogelijkheden om logs bij te houden. Zo kan je bijvoorbeeld\n",
    "- verschillende log bestanden maken waar verschillende log berichten op binnenkomen\n",
    "- logs op een andere manier verspreiden dan een bestand, bijvoorbeeld via e-mail\n",
    "- een apart bestand maken met alle instellingen voor de logger\n",
    "\n",
    "Voor meer geavanceerdere manieren van loggen is hier een [tutorial](https://docs.python.org/3/howto/logging.html#logging-advanced-tutorial) beschikbaar. Voor meer format mogelijkheden zie [deze website](https://docs.python.org/3/library/logging.html#logrecord-attributes).\n",
    "\n",
    "\n"
   ]
  },
  {
   "cell_type": "markdown",
   "metadata": {},
   "source": [
    "## [Antwoorden](#top)<a id=\"Antwoorden\"></a>"
   ]
  },
  {
   "cell_type": "markdown",
   "metadata": {},
   "source": [
    "<hr>\n",
    "\n",
    "#### <a href=\"#opdr1\">Antwoord opgave 1</a> <a name=\"antw1\"></a>\n",
    "\n"
   ]
  },
  {
   "cell_type": "code",
   "execution_count": null,
   "metadata": {
    "scrolled": false
   },
   "outputs": [],
   "source": [
    "import numpy as np\n",
    "\n",
    "def frequency_bins(arr, n_bins=4):\n",
    "    \"\"\" get the frequency of the numbers in an array within a number of bins. The boundaries of the bins are \n",
    "    created by the percentiles of the array.\n",
    "    \n",
    "    Parameters\n",
    "    ----------\n",
    "    arr : np.array of ints or float\n",
    "        numbers to divide into bins\n",
    "    n_bins : int\n",
    "        number of bins\n",
    "    \n",
    "    Returns\n",
    "    -------\n",
    "    count : np.array\n",
    "        the number of items in arr that are within the bin\n",
    "    bins : np.array\n",
    "        the boundaries of the bins\n",
    "    \"\"\"\n",
    "    print(f'getting frequency bins of array {arr} using {n_bins} bins')\n",
    "    \n",
    "    print('starting to compute bin_edges')\n",
    "    \n",
    "    bin_edges = np.zeros(n_bins+1)    \n",
    "    for i in range(n_bins+1):\n",
    "        percentile = i*100/n_bins\n",
    "        bin_edges[i] = np.percentile(arr, percentile)\n",
    "        \n",
    "    print(f'finished computing bin_edges, bin_edges are: {bin_edges}')\n",
    "    \n",
    "    print('compute frequency per bin_edge')\n",
    "    \n",
    "    count, _ = np.histogram(arr,bin_edges)\n",
    "    \n",
    "    print(f'frequency per bin is {count}')\n",
    "    \n",
    "    return count\n",
    "\n",
    "random_numbers = np.random.randint(0, 10, (10))\n",
    "\n",
    "count = frequency_bins(random_numbers)"
   ]
  },
  {
   "cell_type": "markdown",
   "metadata": {},
   "source": [
    "<hr>\n",
    "\n",
    "#### <a href=\"#opdr2\">Antwoord opgave 2</a> <a name=\"antw2\"></a>\n",
    "\n",
    "Zie de functie hieronder. "
   ]
  },
  {
   "cell_type": "code",
   "execution_count": null,
   "metadata": {
    "scrolled": false
   },
   "outputs": [],
   "source": [
    "import numpy as np\n",
    "\n",
    "def frequency_bins(arr, n_bins=4):\n",
    "    \"\"\" get the frequency of the numbers in an array within a number of bins. The boundaries of the bins are \n",
    "    created by the percentiles of the array.\n",
    "    \n",
    "    Parameters\n",
    "    ----------\n",
    "    arr : np.array of ints or float\n",
    "        numbers to divide into bins\n",
    "    n_bins : int\n",
    "        number of bins\n",
    "    \n",
    "    Returns\n",
    "    -------\n",
    "    count : np.array\n",
    "        the number of items in arr that are within the bin\n",
    "    bins : np.array\n",
    "        the boundaries of the bins\n",
    "    \"\"\"\n",
    "    logging.info(f'getting frequency bins of array {arr} using {n_bins} bins')\n",
    "    \n",
    "    logging.info('starting to compute bin_edges')\n",
    "    \n",
    "    bin_edges = np.zeros(n_bins+1)    \n",
    "    for i in range(n_bins+1):\n",
    "        percentile = i*100/n_bins\n",
    "        bin_edges[i] = np.percentile(arr, percentile)\n",
    "        \n",
    "    logging.info(f'finished computing bin_edges, bin_edges are: {bin_edges}')\n",
    "    \n",
    "    logging.info('compute frequency per bin_edge')\n",
    "    \n",
    "    count, _ = np.histogram(arr,bin_edges)\n",
    "    \n",
    "    logging.info(f'frequency per bin is {count}')\n",
    "    \n",
    "    return count\n",
    "\n",
    "random_numbers = np.random.randint(0, 10, (10))\n",
    "\n",
    "count = frequency_bins(random_numbers)"
   ]
  },
  {
   "cell_type": "markdown",
   "metadata": {},
   "source": [
    "<hr>\n",
    "\n",
    "#### <a href=\"#opdr3\">Antwoord opgave 3</a> <a name=\"antw3\"></a>\n",
    "\n",
    "Zie de functie hieronder en het aanroepen van de functie in de 2 cellen daaronder."
   ]
  },
  {
   "cell_type": "code",
   "execution_count": null,
   "metadata": {},
   "outputs": [],
   "source": [
    "import numpy as np\n",
    "\n",
    "def frequency_bins(arr, n_bins=4):\n",
    "    \"\"\" get the frequency of the numbers in an array within a number of bins. The boundaries of the bins are \n",
    "    created by the percentiles of the array.\n",
    "    \n",
    "    Parameters\n",
    "    ----------\n",
    "    arr : np.array of ints or float\n",
    "        numbers to divide into bins\n",
    "    n_bins : int\n",
    "        number of bins\n",
    "    \n",
    "    Returns\n",
    "    -------\n",
    "    count : np.array\n",
    "        the number of items in arr that are within the bin\n",
    "    bins : np.array\n",
    "        the boundaries of the bins\n",
    "    \"\"\"\n",
    "    logging.info(f'getting frequency bins of array {arr} using {n_bins} bins')\n",
    "    \n",
    "    logging.debug('starting to compute bin_edges')\n",
    "    \n",
    "    bin_edges = np.zeros(n_bins+1)    \n",
    "    for i in range(n_bins+1):\n",
    "        percentile = i*100/n_bins\n",
    "        bin_edges[i] = np.percentile(arr, percentile)\n",
    "        \n",
    "    logging.info(f'finished computing bin_edges, bin_edges are: {bin_edges}')\n",
    "    \n",
    "    logging.debug('compute frequency per bin_edge')\n",
    "    \n",
    "    count, _ = np.histogram(arr,bin_edges)\n",
    "    \n",
    "    logging.info(f'frequency per bin is {count}')\n",
    "    \n",
    "    return count"
   ]
  },
  {
   "cell_type": "code",
   "execution_count": null,
   "metadata": {},
   "outputs": [],
   "source": [
    "logging.getLogger().setLevel(logging.DEBUG)\n",
    "\n",
    "random_numbers = np.random.randint(0, 10, (10))\n",
    "count = frequency_bins(random_numbers)"
   ]
  },
  {
   "cell_type": "code",
   "execution_count": null,
   "metadata": {},
   "outputs": [],
   "source": [
    "logging.getLogger().setLevel(logging.INFO)\n",
    "random_numbers = np.random.randint(0, 10, (10))\n",
    "count = frequency_bins(random_numbers)"
   ]
  },
  {
   "cell_type": "markdown",
   "metadata": {},
   "source": [
    "<hr>\n",
    "\n",
    "#### <a href=\"#opdr4\">Antwoord opgave 4</a> <a name=\"antw4\"></a>\n",
    "\n",
    "Zie de functie hieronder. "
   ]
  },
  {
   "cell_type": "code",
   "execution_count": null,
   "metadata": {},
   "outputs": [],
   "source": [
    "import numpy as np\n",
    "\n",
    "def frequency_bins(arr, n_bins=4):\n",
    "    \"\"\" get the frequency of the numbers in an array within a number of bins. The boundaries of the bins are \n",
    "    created by the percentiles of the array.\n",
    "    \n",
    "    Parameters\n",
    "    ----------\n",
    "    arr : np.array of ints or float\n",
    "        numbers to divide into bins\n",
    "    n_bins : int\n",
    "        number of bins\n",
    "    \n",
    "    Returns\n",
    "    -------\n",
    "    count : np.array\n",
    "        the number of items in arr that are within the bin\n",
    "    bins : np.array\n",
    "        the boundaries of the bins\n",
    "    \"\"\"\n",
    "    if not isinstance(arr, np.ndarray):\n",
    "        logging.warning(f'Unexpected type of argument arr. Type is {type(arr)}, expected type {np.ndarray}.')\n",
    "    \n",
    "    \n",
    "    logging.info(f'getting frequency bins of array {arr} using {n_bins} bins')\n",
    "    \n",
    "    logging.debug('starting to compute bin_edges')\n",
    "    \n",
    "    bin_edges = np.zeros(n_bins+1)    \n",
    "    for i in range(n_bins+1):\n",
    "        percentile = i*100/n_bins\n",
    "        bin_edges[i] = np.percentile(arr, percentile)\n",
    "        \n",
    "    logging.info(f'finished computing bin_edges, bin_edges are: {bin_edges}')\n",
    "    \n",
    "    logging.debug('compute frequency per bin_edge')\n",
    "    \n",
    "    count, _ = np.histogram(arr,bin_edges)\n",
    "    \n",
    "    logging.info(f'frequency per bin is {count}')\n",
    "    \n",
    "    return count"
   ]
  },
  {
   "cell_type": "code",
   "execution_count": null,
   "metadata": {},
   "outputs": [],
   "source": [
    "# check of warning zichtbaar is\n",
    "logging.getLogger().setLevel(logging.WARNING)\n",
    "random_numbers = np.random.randint(0, 10, (10))\n",
    "count = frequency_bins(random_numbers.tolist())"
   ]
  },
  {
   "cell_type": "markdown",
   "metadata": {},
   "source": [
    "<hr>\n",
    "\n",
    "#### <a href=\"#opdr5\">Antwoord opgave 5</a> <a name=\"antw5\"></a>\n",
    "\n",
    "Zie de code hieronder, let op het volgende:\n",
    "- gebruik `reload` om de `logging` module opnieuw in te laden zodat de `basicConfig` opnieuw gedefinieert kan worden.\n",
    "- Het is niet nodig om `logging.getLogger().setLevel` aan te roepen om het log level in te stellen. Het log level kan direct in de `basicConfig` worden gedefinieerd met `level=logging.INFO`."
   ]
  },
  {
   "cell_type": "code",
   "execution_count": null,
   "metadata": {},
   "outputs": [],
   "source": [
    "from importlib import reload\n",
    "reload(logging)\n",
    "\n",
    "# definieer basicConfig\n",
    "logging.basicConfig(filename='mijn_log.txt', level=logging.INFO)\n",
    "\n",
    "# roep functie aan\n",
    "simple_func(1001)"
   ]
  },
  {
   "cell_type": "markdown",
   "metadata": {},
   "source": [
    "<hr>\n",
    "\n",
    "#### <a href=\"#opdr6\">Antwoord opgave 6</a> <a name=\"antw6\"></a>\n"
   ]
  },
  {
   "cell_type": "code",
   "execution_count": null,
   "metadata": {},
   "outputs": [],
   "source": [
    "# voeg het log level (levelname) toe\n",
    "from importlib import reload\n",
    "reload(logging)\n",
    "\n",
    "# definieer basicConfig\n",
    "logging.basicConfig(format='%(asctime)s %(levelname)s %(message)s', datefmt='%H:%M:%S',\n",
    "                    filename='simple_func.log', filemode='w', level=logging.INFO)\n",
    "\n",
    "# roep functie aan\n",
    "simple_func(1001)"
   ]
  },
  {
   "cell_type": "markdown",
   "metadata": {},
   "source": [
    "## Acknowledgement\n",
    "\n",
    "the following sources were used to create this notebook:\n",
    "- https://docs.python.org/3/library/logging.html\n"
   ]
  }
 ],
 "metadata": {
  "kernelspec": {
   "display_name": "Python 3",
   "language": "python",
   "name": "python3"
  },
  "language_info": {
   "codemirror_mode": {
    "name": "ipython",
    "version": 3
   },
   "file_extension": ".py",
   "mimetype": "text/x-python",
   "name": "python",
   "nbconvert_exporter": "python",
   "pygments_lexer": "ipython3",
   "version": "3.7.6"
  }
 },
 "nbformat": 4,
 "nbformat_minor": 2
}
