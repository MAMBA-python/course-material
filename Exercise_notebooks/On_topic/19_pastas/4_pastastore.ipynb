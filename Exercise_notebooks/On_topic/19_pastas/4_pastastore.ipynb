{
 "cells": [
  {
   "cell_type": "markdown",
   "metadata": {},
   "source": [
    "# 4. Pastastore\n",
    "\n",
    "In this notebook you will learn:\n",
    "- what a pastastore is (within the context of the Pastas Python package).\n",
    "- how observations series, stresses and models are stored in a pastastore.\n",
    "- how to do bulk operations on pastastores.\n",
    "- how to write and read a pastastores from a file.\n",
    "\n",
    "\n",
    "In order to do bulk operations on time series models you can use a Pastastore. A Pastastore is an object that can contain observations, stresses and models at multiple observation points. The object has convenient methods to store time series data, create models, add stressmodels and summarize the results. This notebook gives a brief overview of the current possibilities."
   ]
  },
  {
   "cell_type": "code",
   "execution_count": 1,
   "metadata": {},
   "outputs": [],
   "source": [
    "# First perform the necessary imports\n",
    "import os\n",
    "import pandas as pd\n",
    "import matplotlib.pyplot as plt\n",
    "import pastas as ps\n",
    "import pastastore as pst\n",
    "from packaging import version\n",
    "%matplotlib inline"
   ]
  },
  {
   "cell_type": "code",
   "execution_count": 2,
   "metadata": {},
   "outputs": [],
   "source": [
    "ps.set_log_level('ERROR')\n",
    "if version.parse(ps.__version__) < version.parse('0.16.0'):\n",
    "    raise RuntimeError(f'this notebook is not working for pastas versions lower than 0.17.0, your version is {ps.__version__}')"
   ]
  },
  {
   "cell_type": "code",
   "execution_count": 3,
   "metadata": {},
   "outputs": [
    {
     "data": {
      "text/plain": [
       "<PastaStore> pastastore: \n",
       " - <DictConnector object> 'pastastore': 0 oseries, 0 stresses, 0 models"
      ]
     },
     "execution_count": 3,
     "metadata": {},
     "output_type": "execute_result"
    }
   ],
   "source": [
    "# create an empty Pastastore\n",
    "conn = pst.DictConnector(\"pastastore\")\n",
    "store = pst.PastaStore(\"pastastore\", conn)\n",
    "store"
   ]
  },
  {
   "cell_type": "markdown",
   "metadata": {},
   "source": [
    "## Observations\n",
    "We can add observation (oseries) to the pastastore using the `store.add_oseries` method. Observations are added to `store.oseries`, which is a Pandas DataFrame. Metadata provided to `pst.add_oseries` is shown in the other columns of `store.oseries`."
   ]
  },
  {
   "cell_type": "code",
   "execution_count": 4,
   "metadata": {},
   "outputs": [
    {
     "data": {
      "text/html": [
       "<div>\n",
       "<style scoped>\n",
       "    .dataframe tbody tr th:only-of-type {\n",
       "        vertical-align: middle;\n",
       "    }\n",
       "\n",
       "    .dataframe tbody tr th {\n",
       "        vertical-align: top;\n",
       "    }\n",
       "\n",
       "    .dataframe thead th {\n",
       "        text-align: right;\n",
       "    }\n",
       "</style>\n",
       "<table border=\"1\" class=\"dataframe\">\n",
       "  <thead>\n",
       "    <tr style=\"text-align: right;\">\n",
       "      <th></th>\n",
       "      <th>x</th>\n",
       "      <th>y</th>\n",
       "      <th>z</th>\n",
       "      <th>projection</th>\n",
       "      <th>Locatie</th>\n",
       "      <th>Filternummer</th>\n",
       "      <th>Externe aanduiding</th>\n",
       "      <th>X-coordinaat</th>\n",
       "      <th>Y-coordinaat</th>\n",
       "      <th>Maaiveld (cm t.o.v. NAP)</th>\n",
       "      <th>Datum maaiveld gemeten</th>\n",
       "      <th>Startdatum</th>\n",
       "      <th>Einddatum</th>\n",
       "      <th>Meetpunt (cm t.o.v. NAP)</th>\n",
       "      <th>Meetpunt (cm t.o.v. MV)</th>\n",
       "      <th>Bovenkant filter (cm t.o.v. NAP)</th>\n",
       "      <th>Onderkant filter (cm t.o.v. NAP)</th>\n",
       "    </tr>\n",
       "    <tr>\n",
       "      <th>name</th>\n",
       "      <th></th>\n",
       "      <th></th>\n",
       "      <th></th>\n",
       "      <th></th>\n",
       "      <th></th>\n",
       "      <th></th>\n",
       "      <th></th>\n",
       "      <th></th>\n",
       "      <th></th>\n",
       "      <th></th>\n",
       "      <th></th>\n",
       "      <th></th>\n",
       "      <th></th>\n",
       "      <th></th>\n",
       "      <th></th>\n",
       "      <th></th>\n",
       "      <th></th>\n",
       "    </tr>\n",
       "  </thead>\n",
       "  <tbody>\n",
       "    <tr>\n",
       "      <th>B32D0136_1</th>\n",
       "      <td>153344.0</td>\n",
       "      <td>457123.0</td>\n",
       "      <td>0.24</td>\n",
       "      <td>epsg:28992</td>\n",
       "      <td>B32D0136</td>\n",
       "      <td>001</td>\n",
       "      <td>32DP0136</td>\n",
       "      <td>153344</td>\n",
       "      <td>457123</td>\n",
       "      <td>1095</td>\n",
       "      <td>22-06-1988</td>\n",
       "      <td>22-06-1988</td>\n",
       "      <td>05-11-2010</td>\n",
       "      <td>1125</td>\n",
       "      <td>30</td>\n",
       "      <td>124</td>\n",
       "      <td>-76</td>\n",
       "    </tr>\n",
       "    <tr>\n",
       "      <th>B33A0113_1</th>\n",
       "      <td>189780.0</td>\n",
       "      <td>471810.0</td>\n",
       "      <td>-5.60</td>\n",
       "      <td>epsg:28992</td>\n",
       "      <td>B33A0113</td>\n",
       "      <td>001</td>\n",
       "      <td>33AP0113</td>\n",
       "      <td>189780</td>\n",
       "      <td>471810</td>\n",
       "      <td>7837</td>\n",
       "      <td>05-10-1988</td>\n",
       "      <td>05-10-1988</td>\n",
       "      <td>25-05-2009</td>\n",
       "      <td>7907</td>\n",
       "      <td>70</td>\n",
       "      <td>-460</td>\n",
       "      <td>-660</td>\n",
       "    </tr>\n",
       "    <tr>\n",
       "      <th>B58C0698_1</th>\n",
       "      <td>181600.0</td>\n",
       "      <td>359260.0</td>\n",
       "      <td>26.22</td>\n",
       "      <td>epsg:28992</td>\n",
       "      <td>B58C0698</td>\n",
       "      <td>1</td>\n",
       "      <td>58CP7805</td>\n",
       "      <td>181600</td>\n",
       "      <td>359260</td>\n",
       "      <td>3017</td>\n",
       "      <td>28-10-85</td>\n",
       "      <td>23-08-02</td>\n",
       "      <td>28-06-15</td>\n",
       "      <td>3025</td>\n",
       "      <td>8</td>\n",
       "      <td>2647</td>\n",
       "      <td>2597</td>\n",
       "    </tr>\n",
       "  </tbody>\n",
       "</table>\n",
       "</div>"
      ],
      "text/plain": [
       "                   x         y      z  projection   Locatie Filternummer  \\\n",
       "name                                                                       \n",
       "B32D0136_1  153344.0  457123.0   0.24  epsg:28992  B32D0136          001   \n",
       "B33A0113_1  189780.0  471810.0  -5.60  epsg:28992  B33A0113          001   \n",
       "B58C0698_1  181600.0  359260.0  26.22  epsg:28992  B58C0698            1   \n",
       "\n",
       "           Externe aanduiding X-coordinaat Y-coordinaat  \\\n",
       "name                                                      \n",
       "B32D0136_1           32DP0136       153344       457123   \n",
       "B33A0113_1           33AP0113       189780       471810   \n",
       "B58C0698_1           58CP7805       181600       359260   \n",
       "\n",
       "           Maaiveld (cm t.o.v. NAP) Datum maaiveld gemeten  Startdatum  \\\n",
       "name                                                                     \n",
       "B32D0136_1                     1095             22-06-1988  22-06-1988   \n",
       "B33A0113_1                     7837             05-10-1988  05-10-1988   \n",
       "B58C0698_1                     3017               28-10-85    23-08-02   \n",
       "\n",
       "             Einddatum Meetpunt (cm t.o.v. NAP) Meetpunt (cm t.o.v. MV)  \\\n",
       "name                                                                      \n",
       "B32D0136_1  05-11-2010                     1125                      30   \n",
       "B33A0113_1  25-05-2009                     7907                      70   \n",
       "B58C0698_1    28-06-15                     3025                       8   \n",
       "\n",
       "           Bovenkant filter (cm t.o.v. NAP) Onderkant filter (cm t.o.v. NAP)  \n",
       "name                                                                          \n",
       "B32D0136_1                              124                              -76  \n",
       "B33A0113_1                             -460                             -660  \n",
       "B58C0698_1                             2647                             2597  "
      ]
     },
     "execution_count": 4,
     "metadata": {},
     "output_type": "execute_result"
    }
   ],
   "source": [
    "# add the observations in all the files in the data-directory that end with _1.csv\n",
    "datapath = r'data/nb4'\n",
    "files = [x for x in os.listdir(datapath) if x.endswith('_1.csv')]\n",
    "for file in files:\n",
    "    fname = os.path.join(datapath,file)\n",
    "    series = ps.read_dino(fname)\n",
    "    store.add_oseries(series.series_original, name=series.name, metadata=series.metadata)\n",
    "    \n",
    "# show the contents of pr.oseries\n",
    "store.oseries"
   ]
  },
  {
   "cell_type": "markdown",
   "metadata": {},
   "source": [
    "#### Exercise 1 <a name=\"ex1\"></a>\n",
    "Create a pastastore. Add the observations in the `data/nb4/ex1` directory to the model. Which measurements series has the lowest filter?"
   ]
  },
  {
   "cell_type": "code",
   "execution_count": null,
   "metadata": {},
   "outputs": [],
   "source": []
  },
  {
   "cell_type": "markdown",
   "metadata": {},
   "source": [
    "<a href=\"#ans1\">Answer Exercise 1</a>"
   ]
  },
  {
   "cell_type": "markdown",
   "metadata": {},
   "source": [
    "## Stresses\n",
    "We can also add stresses to a pastastore using the `store.add_stress` method. We use the `kind=` argument to tell what kind of stress we add. We add the precipitation-series as `kind='prec'` and the evaporation-series as `kind='evap'`. Stresses are added to `store.stresses`, which is a Pandas DataFrame (just like `store.oseries`). Metadata provided to add_series is shown in the other columns of `store.stresses`."
   ]
  },
  {
   "cell_type": "code",
   "execution_count": 5,
   "metadata": {},
   "outputs": [
    {
     "data": {
      "text/html": [
       "<div>\n",
       "<style scoped>\n",
       "    .dataframe tbody tr th:only-of-type {\n",
       "        vertical-align: middle;\n",
       "    }\n",
       "\n",
       "    .dataframe tbody tr th {\n",
       "        vertical-align: top;\n",
       "    }\n",
       "\n",
       "    .dataframe thead th {\n",
       "        text-align: right;\n",
       "    }\n",
       "</style>\n",
       "<table border=\"1\" class=\"dataframe\">\n",
       "  <thead>\n",
       "    <tr style=\"text-align: right;\">\n",
       "      <th></th>\n",
       "      <th>x</th>\n",
       "      <th>y</th>\n",
       "      <th>z</th>\n",
       "      <th>projection</th>\n",
       "      <th>description</th>\n",
       "      <th>kind</th>\n",
       "    </tr>\n",
       "    <tr>\n",
       "      <th>name</th>\n",
       "      <th></th>\n",
       "      <th></th>\n",
       "      <th></th>\n",
       "      <th></th>\n",
       "      <th></th>\n",
       "      <th></th>\n",
       "    </tr>\n",
       "  </thead>\n",
       "  <tbody>\n",
       "    <tr>\n",
       "      <th>EV24 DE BILT</th>\n",
       "      <td>5.18</td>\n",
       "      <td>52.1</td>\n",
       "      <td>1.9</td>\n",
       "      <td>epsg:4326</td>\n",
       "      <td>Referentiegewasverdamping (Makkink) (in m);</td>\n",
       "      <td>evap</td>\n",
       "    </tr>\n",
       "    <tr>\n",
       "      <th>RD 89</th>\n",
       "      <td>0.00</td>\n",
       "      <td>0.0</td>\n",
       "      <td>0.0</td>\n",
       "      <td>None</td>\n",
       "      <td>24-uur som van de neerslag in m van 08.00 voor...</td>\n",
       "      <td>prec</td>\n",
       "    </tr>\n",
       "  </tbody>\n",
       "</table>\n",
       "</div>"
      ],
      "text/plain": [
       "                 x     y    z projection  \\\n",
       "name                                       \n",
       "EV24 DE BILT  5.18  52.1  1.9  epsg:4326   \n",
       "RD 89         0.00   0.0  0.0       None   \n",
       "\n",
       "                                                    description  kind  \n",
       "name                                                                   \n",
       "EV24 DE BILT        Referentiegewasverdamping (Makkink) (in m);  evap  \n",
       "RD 89         24-uur som van de neerslag in m van 08.00 voor...  prec  "
      ]
     },
     "execution_count": 5,
     "metadata": {},
     "output_type": "execute_result"
    }
   ],
   "source": [
    "# add evaporation\n",
    "fname = os.path.join(datapath,'KNMI_Bilt.txt')\n",
    "series = ps.read_knmi(fname, variables='EV24')\n",
    "store.add_stress(series.series_original, name=series.name, kind='evap', metadata=series.metadata)\n",
    "\n",
    "# add precipitation\n",
    "fname = os.path.join(datapath,'KNMI_Akkrum.txt')\n",
    "series = ps.read_knmi(fname, variables='RD')\n",
    "store.add_stress(series.series_original, name=series.name, kind='prec', metadata=series.metadata)\n",
    "\n",
    "# show the stresses inside the pastastore\n",
    "store.stresses"
   ]
  },
  {
   "cell_type": "markdown",
   "metadata": {},
   "source": [
    "#### Exercise 2 <a name=\"ex2\"></a>\n",
    "Add the evaporation from De Bilt and the precipitation from Akkrum to the pastastore that you made in Exercise 1."
   ]
  },
  {
   "cell_type": "code",
   "execution_count": null,
   "metadata": {},
   "outputs": [],
   "source": []
  },
  {
   "cell_type": "markdown",
   "metadata": {},
   "source": [
    "<a href=\"#ans2\">Answer Exercise 2</a>"
   ]
  },
  {
   "cell_type": "markdown",
   "metadata": {},
   "source": [
    "## Models\n",
    "In a pastastore you can create time series models from the observations and add recharge. Models are added to `store.models`, which is a list with the model-names. The `add_recharge=True` adds a recharge stress to the model based on the precipitation- and evaporation-series closest to the location of the model's oseries.\n",
    "\n",
    "The file that we used for precipitation did not contain any coordinates, which will therefore default to 0.0. The evaporation-file contains coordinates in epsg:4326, while our observation-files contain coordinates in epsg:28992. Right now we do not transform coordinates. So finding the closest precipitation- and evaporation-series will normally give wrong results. As we have only one precipitation and evaporation series however, this is not a problem.\n",
    "\n",
    "In the code-section below, we make 11 models with recharge and solve them."
   ]
  },
  {
   "cell_type": "code",
   "execution_count": 6,
   "metadata": {},
   "outputs": [
    {
     "data": {
      "text/plain": [
       "['B32D0136_1', 'B33A0113_1', 'B58C0698_1']"
      ]
     },
     "execution_count": 6,
     "metadata": {},
     "output_type": "execute_result"
    }
   ],
   "source": [
    "for name in store.oseries.index:\n",
    "    ml = store.create_model(name, add_recharge=True)\n",
    "    ml.solve(report=False)\n",
    "    store.add_model(ml)\n",
    "    \n",
    "# show the contents of pr.models\n",
    "store.models"
   ]
  },
  {
   "cell_type": "markdown",
   "metadata": {},
   "source": [
    "#### Exercise 3 <a name=\"ex3\"></a>\n",
    "Create models of the osieres in your pastastore from exercise 2 and solve them."
   ]
  },
  {
   "cell_type": "code",
   "execution_count": null,
   "metadata": {},
   "outputs": [],
   "source": []
  },
  {
   "cell_type": "markdown",
   "metadata": {},
   "source": [
    "<a href=\"#ans3\">Answer Exercise 3</a>"
   ]
  },
  {
   "cell_type": "markdown",
   "metadata": {},
   "source": [
    "## Plot individual results\n",
    "Take one of the models and plot the decomposition. As we can see, the precipitation series does not contain the first few years of the simulation. The start- and end-dates of the model (tmin and tmax) are solely determined by the observation-series."
   ]
  },
  {
   "cell_type": "code",
   "execution_count": 7,
   "metadata": {},
   "outputs": [
    {
     "data": {
      "text/plain": [
       "array([<AxesSubplot:title={'center':'observations vs. simulation'}>,\n",
       "       <AxesSubplot:title={'center':'recharge (RD 89)'}>,\n",
       "       <AxesSubplot:title={'center':'recharge (EV24 DE BILT)'}>],\n",
       "      dtype=object)"
      ]
     },
     "execution_count": 7,
     "metadata": {},
     "output_type": "execute_result"
    },
    {
     "data": {
      "image/png": "[encoded data removed]",
      "text/plain": [
       "<Figure size 720x576 with 3 Axes>"
      ]
     },
     "metadata": {
      "needs_background": "light"
     },
     "output_type": "display_data"
    }
   ],
   "source": [
    "name = 'B32D0136_1'\n",
    "ml = store.get_models(name)\n",
    "ml.plots.decomposition()"
   ]
  },
  {
   "cell_type": "markdown",
   "metadata": {},
   "source": [
    "## Get some statistics / parameters of all models\n",
    "Make a table with some statistics of the models"
   ]
  },
  {
   "cell_type": "code",
   "execution_count": 8,
   "metadata": {},
   "outputs": [
    {
     "data": {
      "text/html": [
       "<div>\n",
       "<style scoped>\n",
       "    .dataframe tbody tr th:only-of-type {\n",
       "        vertical-align: middle;\n",
       "    }\n",
       "\n",
       "    .dataframe tbody tr th {\n",
       "        vertical-align: top;\n",
       "    }\n",
       "\n",
       "    .dataframe thead th {\n",
       "        text-align: right;\n",
       "    }\n",
       "</style>\n",
       "<table border=\"1\" class=\"dataframe\">\n",
       "  <thead>\n",
       "    <tr style=\"text-align: right;\">\n",
       "      <th></th>\n",
       "      <th>evp</th>\n",
       "      <th>aic</th>\n",
       "    </tr>\n",
       "  </thead>\n",
       "  <tbody>\n",
       "    <tr>\n",
       "      <th>B32D0136_1</th>\n",
       "      <td>29.762953</td>\n",
       "      <td>2.496356</td>\n",
       "    </tr>\n",
       "    <tr>\n",
       "      <th>B33A0113_1</th>\n",
       "      <td>28.757829</td>\n",
       "      <td>-1.418251</td>\n",
       "    </tr>\n",
       "    <tr>\n",
       "      <th>B58C0698_1</th>\n",
       "      <td>77.619494</td>\n",
       "      <td>6.737026</td>\n",
       "    </tr>\n",
       "  </tbody>\n",
       "</table>\n",
       "</div>"
      ],
      "text/plain": [
       "                  evp       aic\n",
       "B32D0136_1  29.762953  2.496356\n",
       "B33A0113_1  28.757829 -1.418251\n",
       "B58C0698_1  77.619494  6.737026"
      ]
     },
     "execution_count": 8,
     "metadata": {},
     "output_type": "execute_result"
    }
   ],
   "source": [
    "store.get_statistics(['evp','aic'])"
   ]
  },
  {
   "cell_type": "markdown",
   "metadata": {},
   "source": [
    "Make a table with some parameters of the models"
   ]
  },
  {
   "cell_type": "code",
   "execution_count": 9,
   "metadata": {},
   "outputs": [
    {
     "data": {
      "text/html": [
       "<div>\n",
       "<style scoped>\n",
       "    .dataframe tbody tr th:only-of-type {\n",
       "        vertical-align: middle;\n",
       "    }\n",
       "\n",
       "    .dataframe tbody tr th {\n",
       "        vertical-align: top;\n",
       "    }\n",
       "\n",
       "    .dataframe thead th {\n",
       "        text-align: right;\n",
       "    }\n",
       "</style>\n",
       "<table border=\"1\" class=\"dataframe\">\n",
       "  <thead>\n",
       "    <tr style=\"text-align: right;\">\n",
       "      <th></th>\n",
       "      <th>recharge_A</th>\n",
       "      <th>constant_d</th>\n",
       "      <th>noise_alpha</th>\n",
       "    </tr>\n",
       "  </thead>\n",
       "  <tbody>\n",
       "    <tr>\n",
       "      <th>B32D0136_1</th>\n",
       "      <td>2091.732802</td>\n",
       "      <td>2.952675</td>\n",
       "      <td>1737.767827</td>\n",
       "    </tr>\n",
       "    <tr>\n",
       "      <th>B33A0113_1</th>\n",
       "      <td>1957.706109</td>\n",
       "      <td>27.664519</td>\n",
       "      <td>4994.447588</td>\n",
       "    </tr>\n",
       "    <tr>\n",
       "      <th>B58C0698_1</th>\n",
       "      <td>518.498341</td>\n",
       "      <td>28.340849</td>\n",
       "      <td>76.343982</td>\n",
       "    </tr>\n",
       "  </tbody>\n",
       "</table>\n",
       "</div>"
      ],
      "text/plain": [
       "             recharge_A  constant_d  noise_alpha\n",
       "B32D0136_1  2091.732802    2.952675  1737.767827\n",
       "B33A0113_1  1957.706109   27.664519  4994.447588\n",
       "B58C0698_1   518.498341   28.340849    76.343982"
      ]
     },
     "execution_count": 9,
     "metadata": {},
     "output_type": "execute_result"
    }
   ],
   "source": [
    "store.get_parameters(['recharge_A','constant_d','noise_alpha'])"
   ]
  },
  {
   "cell_type": "markdown",
   "metadata": {},
   "source": [
    "#### Exercise 4 <a name=\"ex4\"></a>\n",
    "Get the EVP from the models in your pastastore from exercise 3. What do you think?"
   ]
  },
  {
   "cell_type": "code",
   "execution_count": null,
   "metadata": {},
   "outputs": [],
   "source": []
  },
  {
   "cell_type": "markdown",
   "metadata": {},
   "source": [
    "<a href=\"#ans4\">Answer Exercise 4</a>"
   ]
  },
  {
   "cell_type": "markdown",
   "metadata": {},
   "source": [
    "#### Exercise 5 <a name=\"ex5\"></a>\n",
    "\n",
    "Improve the models in your pastastore from exercise 4 by:\n",
    "- replacing the precipitation from Akkrum with measurements from IJsselstein. Use this website to obtain the data https://www.knmi.nl/nederland-nu/klimatologie/monv/reeksen. \n",
    "- replacing the evaporation from De Bilt with the evaporation from Arcen using this website https://www.knmi.nl/nederland-nu/klimatologie/daggegevens. \n",
    "\n",
    "Does this improve the EVP? Plot the results of model B52D0502_1, what do you see?"
   ]
  },
  {
   "cell_type": "code",
   "execution_count": null,
   "metadata": {},
   "outputs": [],
   "source": []
  },
  {
   "cell_type": "markdown",
   "metadata": {},
   "source": [
    "<a href=\"#ans5\">Answer Exercise 5</a>"
   ]
  },
  {
   "cell_type": "markdown",
   "metadata": {},
   "source": [
    "#### Exercise 6 <a name=\"ex6\"></a>\n",
    "There are no evaporation measurements at Arcen before 1991. Change the calibration period of the models using tmin in such a way that a more realistic model is created."
   ]
  },
  {
   "cell_type": "code",
   "execution_count": null,
   "metadata": {},
   "outputs": [],
   "source": []
  },
  {
   "cell_type": "markdown",
   "metadata": {},
   "source": [
    "<a href=\"#ans6\">Answer Exercise 6</a>"
   ]
  },
  {
   "cell_type": "markdown",
   "metadata": {},
   "source": [
    "#### Exercise 7 <a name=\"ex7\"></a>\n",
    "Add a step trend to the models in january 2010. Solve the models and explore the results. What happens?"
   ]
  },
  {
   "cell_type": "code",
   "execution_count": null,
   "metadata": {},
   "outputs": [],
   "source": []
  },
  {
   "cell_type": "markdown",
   "metadata": {},
   "source": [
    "<a href=\"#ans7\">Answer Exercise 7</a>"
   ]
  },
  {
   "cell_type": "markdown",
   "metadata": {},
   "source": [
    "## Saving and reading pastastores\n",
    "We can save an entire pastastore, with all its series and models, to a file."
   ]
  },
  {
   "cell_type": "code",
   "execution_count": 10,
   "metadata": {
    "scrolled": true
   },
   "outputs": [
    {
     "name": "stdout",
     "output_type": "stream",
     "text": [
      "C:\\Anaconda3\\lib\\site-packages\\pastastore\\store.py:624: UserWarning: Overwriting file 'pastasstore.zip'\n"
     ]
    },
    {
     "ename": "ValueError",
     "evalue": "DataFrame index must be unique for orient='columns'.",
     "output_type": "error",
     "traceback": [
      "\u001b[1;31m---------------------------------------------------------------------------\u001b[0m",
      "\u001b[1;31mValueError\u001b[0m                                Traceback (most recent call last)",
      "\u001b[1;32m<ipython-input-10-79e725c71156>\u001b[0m in \u001b[0;36m<module>\u001b[1;34m\u001b[0m\n\u001b[1;32m----> 1\u001b[1;33m \u001b[0mstore\u001b[0m\u001b[1;33m.\u001b[0m\u001b[0mto_zip\u001b[0m\u001b[1;33m(\u001b[0m\u001b[1;34m'pastasstore.zip'\u001b[0m\u001b[1;33m,\u001b[0m \u001b[0moverwrite\u001b[0m\u001b[1;33m=\u001b[0m\u001b[1;32mTrue\u001b[0m\u001b[1;33m,\u001b[0m \u001b[0mprogressbar\u001b[0m\u001b[1;33m=\u001b[0m\u001b[1;32mFalse\u001b[0m\u001b[1;33m)\u001b[0m\u001b[1;33m\u001b[0m\u001b[1;33m\u001b[0m\u001b[0m\n\u001b[0m",
      "\u001b[1;32mC:\\Anaconda3\\lib\\site-packages\\pastastore\\store.py\u001b[0m in \u001b[0;36mto_zip\u001b[1;34m(self, fname, overwrite, progressbar)\u001b[0m\n\u001b[0;32m    627\u001b[0m             \u001b[1;31m# oseries\u001b[0m\u001b[1;33m\u001b[0m\u001b[1;33m\u001b[0m\u001b[1;33m\u001b[0m\u001b[0m\n\u001b[0;32m    628\u001b[0m             self.conn._series_to_archive(archive, \"oseries\",\n\u001b[1;32m--> 629\u001b[1;33m                                          progressbar=progressbar)\n\u001b[0m\u001b[0;32m    630\u001b[0m             \u001b[1;31m# stresses\u001b[0m\u001b[1;33m\u001b[0m\u001b[1;33m\u001b[0m\u001b[1;33m\u001b[0m\u001b[0m\n\u001b[0;32m    631\u001b[0m             self.conn._series_to_archive(archive, \"stresses\",\n",
      "\u001b[1;32mC:\\Anaconda3\\lib\\site-packages\\pastastore\\base.py\u001b[0m in \u001b[0;36m_series_to_archive\u001b[1;34m(self, archive, libname, names, progressbar)\u001b[0m\n\u001b[0;32m    553\u001b[0m         \u001b[1;32mfor\u001b[0m \u001b[0mn\u001b[0m \u001b[1;32min\u001b[0m \u001b[1;33m(\u001b[0m\u001b[0mtqdm\u001b[0m\u001b[1;33m(\u001b[0m\u001b[0mnames\u001b[0m\u001b[1;33m,\u001b[0m \u001b[0mdesc\u001b[0m\u001b[1;33m=\u001b[0m\u001b[0mlibname\u001b[0m\u001b[1;33m)\u001b[0m \u001b[1;32mif\u001b[0m \u001b[0mprogressbar\u001b[0m \u001b[1;32melse\u001b[0m \u001b[0mnames\u001b[0m\u001b[1;33m)\u001b[0m\u001b[1;33m:\u001b[0m\u001b[1;33m\u001b[0m\u001b[1;33m\u001b[0m\u001b[0m\n\u001b[0;32m    554\u001b[0m             sjson = self._stored_series_to_json(\n\u001b[1;32m--> 555\u001b[1;33m                 libname, names=n, progressbar=False, squeeze=True)\n\u001b[0m\u001b[0;32m    556\u001b[0m             meta_json = self._stored_metadata_to_json(\n\u001b[0;32m    557\u001b[0m                 libname, names=n, progressbar=False, squeeze=True)\n",
      "\u001b[1;32mC:\\Anaconda3\\lib\\site-packages\\pastastore\\base.py\u001b[0m in \u001b[0;36m_stored_series_to_json\u001b[1;34m(self, libname, names, squeeze, progressbar)\u001b[0m\n\u001b[0;32m    492\u001b[0m             \u001b[1;32mif\u001b[0m \u001b[0misinstance\u001b[0m\u001b[1;33m(\u001b[0m\u001b[0ms\u001b[0m\u001b[1;33m,\u001b[0m \u001b[0mpd\u001b[0m\u001b[1;33m.\u001b[0m\u001b[0mSeries\u001b[0m\u001b[1;33m)\u001b[0m\u001b[1;33m:\u001b[0m\u001b[1;33m\u001b[0m\u001b[1;33m\u001b[0m\u001b[0m\n\u001b[0;32m    493\u001b[0m                 \u001b[0ms\u001b[0m \u001b[1;33m=\u001b[0m \u001b[0ms\u001b[0m\u001b[1;33m.\u001b[0m\u001b[0mto_frame\u001b[0m\u001b[1;33m(\u001b[0m\u001b[1;33m)\u001b[0m\u001b[1;33m\u001b[0m\u001b[1;33m\u001b[0m\u001b[0m\n\u001b[1;32m--> 494\u001b[1;33m             \u001b[0msjson\u001b[0m \u001b[1;33m=\u001b[0m \u001b[0ms\u001b[0m\u001b[1;33m.\u001b[0m\u001b[0mto_json\u001b[0m\u001b[1;33m(\u001b[0m\u001b[0morient\u001b[0m\u001b[1;33m=\u001b[0m\u001b[1;34m\"columns\"\u001b[0m\u001b[1;33m)\u001b[0m\u001b[1;33m\u001b[0m\u001b[1;33m\u001b[0m\u001b[0m\n\u001b[0m\u001b[0;32m    495\u001b[0m             \u001b[0mfiles\u001b[0m\u001b[1;33m.\u001b[0m\u001b[0mappend\u001b[0m\u001b[1;33m(\u001b[0m\u001b[0msjson\u001b[0m\u001b[1;33m)\u001b[0m\u001b[1;33m\u001b[0m\u001b[1;33m\u001b[0m\u001b[0m\n\u001b[0;32m    496\u001b[0m         \u001b[1;32mif\u001b[0m \u001b[0mlen\u001b[0m\u001b[1;33m(\u001b[0m\u001b[0mfiles\u001b[0m\u001b[1;33m)\u001b[0m \u001b[1;33m==\u001b[0m \u001b[1;36m1\u001b[0m \u001b[1;32mand\u001b[0m \u001b[0msqueeze\u001b[0m\u001b[1;33m:\u001b[0m\u001b[1;33m\u001b[0m\u001b[1;33m\u001b[0m\u001b[0m\n",
      "\u001b[1;32mC:\\Anaconda3\\lib\\site-packages\\pandas\\core\\generic.py\u001b[0m in \u001b[0;36mto_json\u001b[1;34m(self, path_or_buf, orient, date_format, double_precision, force_ascii, date_unit, default_handler, lines, compression, index, indent)\u001b[0m\n\u001b[0;32m   2306\u001b[0m             \u001b[0mcompression\u001b[0m\u001b[1;33m=\u001b[0m\u001b[0mcompression\u001b[0m\u001b[1;33m,\u001b[0m\u001b[1;33m\u001b[0m\u001b[1;33m\u001b[0m\u001b[0m\n\u001b[0;32m   2307\u001b[0m             \u001b[0mindex\u001b[0m\u001b[1;33m=\u001b[0m\u001b[0mindex\u001b[0m\u001b[1;33m,\u001b[0m\u001b[1;33m\u001b[0m\u001b[1;33m\u001b[0m\u001b[0m\n\u001b[1;32m-> 2308\u001b[1;33m             \u001b[0mindent\u001b[0m\u001b[1;33m=\u001b[0m\u001b[0mindent\u001b[0m\u001b[1;33m,\u001b[0m\u001b[1;33m\u001b[0m\u001b[1;33m\u001b[0m\u001b[0m\n\u001b[0m\u001b[0;32m   2309\u001b[0m         )\n\u001b[0;32m   2310\u001b[0m \u001b[1;33m\u001b[0m\u001b[0m\n",
      "\u001b[1;32mC:\\Anaconda3\\lib\\site-packages\\pandas\\io\\json\\_json.py\u001b[0m in \u001b[0;36mto_json\u001b[1;34m(path_or_buf, obj, orient, date_format, double_precision, force_ascii, date_unit, default_handler, lines, compression, index, indent)\u001b[0m\n\u001b[0;32m     82\u001b[0m         \u001b[0mdefault_handler\u001b[0m\u001b[1;33m=\u001b[0m\u001b[0mdefault_handler\u001b[0m\u001b[1;33m,\u001b[0m\u001b[1;33m\u001b[0m\u001b[1;33m\u001b[0m\u001b[0m\n\u001b[0;32m     83\u001b[0m         \u001b[0mindex\u001b[0m\u001b[1;33m=\u001b[0m\u001b[0mindex\u001b[0m\u001b[1;33m,\u001b[0m\u001b[1;33m\u001b[0m\u001b[1;33m\u001b[0m\u001b[0m\n\u001b[1;32m---> 84\u001b[1;33m         \u001b[0mindent\u001b[0m\u001b[1;33m=\u001b[0m\u001b[0mindent\u001b[0m\u001b[1;33m,\u001b[0m\u001b[1;33m\u001b[0m\u001b[1;33m\u001b[0m\u001b[0m\n\u001b[0m\u001b[0;32m     85\u001b[0m     ).write()\n\u001b[0;32m     86\u001b[0m \u001b[1;33m\u001b[0m\u001b[0m\n",
      "\u001b[1;32mC:\\Anaconda3\\lib\\site-packages\\pandas\\io\\json\\_json.py\u001b[0m in \u001b[0;36m__init__\u001b[1;34m(self, obj, orient, date_format, double_precision, ensure_ascii, date_unit, index, default_handler, indent)\u001b[0m\n\u001b[0;32m    128\u001b[0m \u001b[1;33m\u001b[0m\u001b[0m\n\u001b[0;32m    129\u001b[0m         \u001b[0mself\u001b[0m\u001b[1;33m.\u001b[0m\u001b[0mis_copy\u001b[0m \u001b[1;33m=\u001b[0m \u001b[1;32mNone\u001b[0m\u001b[1;33m\u001b[0m\u001b[1;33m\u001b[0m\u001b[0m\n\u001b[1;32m--> 130\u001b[1;33m         \u001b[0mself\u001b[0m\u001b[1;33m.\u001b[0m\u001b[0m_format_axes\u001b[0m\u001b[1;33m(\u001b[0m\u001b[1;33m)\u001b[0m\u001b[1;33m\u001b[0m\u001b[1;33m\u001b[0m\u001b[0m\n\u001b[0m\u001b[0;32m    131\u001b[0m \u001b[1;33m\u001b[0m\u001b[0m\n\u001b[0;32m    132\u001b[0m     \u001b[1;32mdef\u001b[0m \u001b[0m_format_axes\u001b[0m\u001b[1;33m(\u001b[0m\u001b[0mself\u001b[0m\u001b[1;33m)\u001b[0m\u001b[1;33m:\u001b[0m\u001b[1;33m\u001b[0m\u001b[1;33m\u001b[0m\u001b[0m\n",
      "\u001b[1;32mC:\\Anaconda3\\lib\\site-packages\\pandas\\io\\json\\_json.py\u001b[0m in \u001b[0;36m_format_axes\u001b[1;34m(self)\u001b[0m\n\u001b[0;32m    209\u001b[0m         \u001b[1;32mif\u001b[0m \u001b[1;32mnot\u001b[0m \u001b[0mself\u001b[0m\u001b[1;33m.\u001b[0m\u001b[0mobj\u001b[0m\u001b[1;33m.\u001b[0m\u001b[0mindex\u001b[0m\u001b[1;33m.\u001b[0m\u001b[0mis_unique\u001b[0m \u001b[1;32mand\u001b[0m \u001b[0mself\u001b[0m\u001b[1;33m.\u001b[0m\u001b[0morient\u001b[0m \u001b[1;32min\u001b[0m \u001b[1;33m(\u001b[0m\u001b[1;34m\"index\"\u001b[0m\u001b[1;33m,\u001b[0m \u001b[1;34m\"columns\"\u001b[0m\u001b[1;33m)\u001b[0m\u001b[1;33m:\u001b[0m\u001b[1;33m\u001b[0m\u001b[1;33m\u001b[0m\u001b[0m\n\u001b[0;32m    210\u001b[0m             raise ValueError(\n\u001b[1;32m--> 211\u001b[1;33m                 \u001b[1;34mf\"DataFrame index must be unique for orient='{self.orient}'.\"\u001b[0m\u001b[1;33m\u001b[0m\u001b[1;33m\u001b[0m\u001b[0m\n\u001b[0m\u001b[0;32m    212\u001b[0m             )\n\u001b[0;32m    213\u001b[0m         if not self.obj.columns.is_unique and self.orient in (\n",
      "\u001b[1;31mValueError\u001b[0m: DataFrame index must be unique for orient='columns'."
     ]
    }
   ],
   "source": [
    "store.to_zip('pastasstore.zip', overwrite=True)"
   ]
  },
  {
   "cell_type": "markdown",
   "metadata": {},
   "source": [
    "Later we can reload this pastastore again"
   ]
  },
  {
   "cell_type": "code",
   "execution_count": null,
   "metadata": {},
   "outputs": [],
   "source": [
    "conn = pst.DictConnector(\"pastastore\")\n",
    "pst.PastaStore.from_zip('pastasstore.zip', conn)"
   ]
  },
  {
   "cell_type": "markdown",
   "metadata": {},
   "source": [
    "Test if everything went ok by plotting the decomposition of B58C0698_1 again. This figure is exactly the same as before."
   ]
  },
  {
   "cell_type": "code",
   "execution_count": null,
   "metadata": {},
   "outputs": [],
   "source": [
    "name = 'B32D0136_1'\n",
    "ml = store.get_models(name)\n",
    "ml.plots.decomposition()"
   ]
  },
  {
   "cell_type": "markdown",
   "metadata": {},
   "source": [
    "\n",
    "## Answers"
   ]
  },
  {
   "cell_type": "markdown",
   "metadata": {},
   "source": [
    "#### <a href=\"#ex1\">Answer exercise 1</a> <a name=\"ans1\"></a>\n",
    "\n",
    "Measurement point B52D0192_2 has the lowest filter. This can be seen in the column `Onderkant filter (cm t.o.v. NAP)` from the dataframe: `pr_q.oseries`. This is a hard question if you don't know Dutch (sorry!)."
   ]
  },
  {
   "cell_type": "code",
   "execution_count": null,
   "metadata": {
    "scrolled": false
   },
   "outputs": [],
   "source": [
    "# add the observations in all the files in the data-directory that end with _1.csv\n",
    "conn2 = pst.DictConnector(\"data_nb4\")\n",
    "store2 = pst.PastaStore(\"data_nb4\", conn2)\n",
    "\n",
    "datapath2 = r'data/nb4/ex1'\n",
    "files = [x for x in os.listdir(datapath2) if x.endswith('_1.csv')]\n",
    "for file in files:\n",
    "    fname = os.path.join(datapath2,file)\n",
    "    series = ps.read_dino(fname)\n",
    "    store2.add_oseries(series.series_original, name=series.name, metadata=series.metadata)\n",
    "    \n",
    "# show the contents of pr.oseries\n",
    "store2.oseries"
   ]
  },
  {
   "cell_type": "markdown",
   "metadata": {},
   "source": [
    "#### <a href=\"#ex2\">Answer exercise 2</a> <a name=\"ans2\"></a>"
   ]
  },
  {
   "cell_type": "code",
   "execution_count": null,
   "metadata": {},
   "outputs": [],
   "source": [
    "datapath2 = r'data/nb4'\n",
    "\n",
    "# add evaporation\n",
    "fname = os.path.join(datapath,'KNMI_Bilt.txt')\n",
    "series = ps.read_knmi(fname, variables='EV24')\n",
    "store2.add_stress(series.series_original, name=series.name, kind='evap', metadata=series.metadata)\n",
    "\n",
    "# add precipitatio\n",
    "fname = os.path.join(datapath,'KNMI_Akkrum.txt')\n",
    "series = ps.read_knmi(fname, variables='RD')\n",
    "store2.add_stress(series.series_original, name=series.name, kind='prec', metadata=series.metadata)\n",
    "\n",
    "\n",
    "# show the contents of pr.stresses\n",
    "store2.stresses"
   ]
  },
  {
   "cell_type": "markdown",
   "metadata": {},
   "source": [
    "#### <a href=\"#ex3\">Answer exercise 3</a> <a name=\"ans3\"></a>"
   ]
  },
  {
   "cell_type": "code",
   "execution_count": null,
   "metadata": {},
   "outputs": [],
   "source": [
    "# alternative with a for-loop\n",
    "for name in store2.oseries.index:\n",
    "    ml = store2.create_model(name, add_recharge=True)\n",
    "    ml.solve(report=False)\n",
    "    store2.add_model(ml)"
   ]
  },
  {
   "cell_type": "markdown",
   "metadata": {},
   "source": [
    "#### <a href=\"#ex4\">Answer exercise 4</a> <a name=\"ans4\"></a>\n",
    "\n",
    "See the explained variance (evp) in the cell below. The evp is rather low. In general people use an evp value of more than 70-80% for a reasonable fit."
   ]
  },
  {
   "cell_type": "code",
   "execution_count": null,
   "metadata": {},
   "outputs": [],
   "source": [
    "store2.get_statistics(['evp'])"
   ]
  },
  {
   "cell_type": "markdown",
   "metadata": {},
   "source": [
    "#### <a href=\"#ex5\">Answer exercise 5</a> <a name=\"ans5\"></a>\n",
    "\n",
    "The evaporation time series of IJsselstein has no values before 1991 and therefore the model of B52D0502_1 and others have a poor fit/low evp. "
   ]
  },
  {
   "cell_type": "code",
   "execution_count": null,
   "metadata": {},
   "outputs": [],
   "source": [
    "# add evaporation\n",
    "fname = os.path.join(datapath,'etmgeg_391.txt')\n",
    "series = ps.read_knmi(fname, variables='EV24')\n",
    "store2.add_stress(series.series_original, name=series.name, kind='evap', metadata=series.metadata)\n",
    "\n",
    "# add precipitation\n",
    "fname = os.path.join(datapath,'neerslaggeg_IJSSELSTEYN-L_913.txt')\n",
    "series = ps.read_knmi(fname, variables='RD')\n",
    "store2.add_stress(series.series_original, name=series.name, kind='prec', metadata=series.metadata)\n",
    "\n",
    "# delete existing stresses\n",
    "store2.del_stress('EV24 DE BILT')\n",
    "store2.del_stress('RD 89')\n",
    "\n",
    "# create and solve the models\n",
    "for name in store2.oseries.index:\n",
    "    ml = store2.create_model(name, add_recharge=True)\n",
    "    ml.solve(report=False)\n",
    "    store2.add_model(ml, overwrite=True)\n",
    "    \n",
    "# get the statistics\n",
    "print(store2.get_statistics(['evp']))\n",
    "\n",
    "# results of individual model\n",
    "name = 'B52D0502_1'\n",
    "ml = store2.get_models(name)\n",
    "ml.plots.decomposition();"
   ]
  },
  {
   "cell_type": "markdown",
   "metadata": {},
   "source": [
    "#### <a href=\"#ex6\">Answer exercise 6</a> <a name=\"ans6\"></a>"
   ]
  },
  {
   "cell_type": "code",
   "execution_count": null,
   "metadata": {},
   "outputs": [],
   "source": [
    "for name in store2.oseries.index:\n",
    "    ml = store2.create_model(name, add_recharge=True)\n",
    "    ml.solve(tmin='1993', report=False)\n",
    "    store2.add_model(ml, overwrite=True)\n",
    "    \n",
    "print(store2.get_statistics(['evp']))\n",
    "\n",
    "# results of individual model\n",
    "name = 'B52D0502_1'\n",
    "ml = store2.get_models(name)\n",
    "ml.plots.decomposition();"
   ]
  },
  {
   "cell_type": "markdown",
   "metadata": {},
   "source": [
    "#### <a href=\"#ex7\">Answer exercise 7</a> <a name=\"ans7\"></a>\n",
    "\n",
    "There seems to be little effect of the steptrend on the model results"
   ]
  },
  {
   "cell_type": "code",
   "execution_count": null,
   "metadata": {},
   "outputs": [],
   "source": [
    "sm = ps.stressmodels.StepModel('2010', name='step', up=True)\n",
    "sm2 = ps.stressmodels.StepModel('2013', name='step2', up=True)\n",
    "\n",
    "for name in store2.oseries.index:\n",
    "    ml = store2.create_model(name, add_recharge=True)\n",
    "    ml.add_stressmodel(sm)\n",
    "    #ml.add_stressmodel(sm2)\n",
    "    ml.solve(tmin='1993', report=False)\n",
    "    store2.add_model(ml, overwrite=True)\n",
    "    \n",
    "print(store2.get_statistics(['evp']))\n",
    "\n",
    "# results of individual model\n",
    "name = 'B52D0502_1'\n",
    "ml = store2.get_models(name)\n",
    "ml.plots.decomposition();"
   ]
  }
 ],
 "metadata": {
  "kernelspec": {
   "display_name": "Python 3",
   "language": "python",
   "name": "python3"
  },
  "language_info": {
   "codemirror_mode": {
    "name": "ipython",
    "version": 3
   },
   "file_extension": ".py",
   "mimetype": "text/x-python",
   "name": "python",
   "nbconvert_exporter": "python",
   "pygments_lexer": "ipython3",
   "version": "3.7.6"
  }
 },
 "nbformat": 4,
 "nbformat_minor": 2
}
