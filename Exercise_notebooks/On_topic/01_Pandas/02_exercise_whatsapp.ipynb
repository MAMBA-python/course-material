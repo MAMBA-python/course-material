{
 "cells": [
  {
   "cell_type": "markdown",
   "metadata": {},
   "source": [
    "\n",
    "<figure>\n",
    "   <IMG SRC=\"https://mamba-python.nl/images/logo_basis.png\" WIDTH=125 ALIGN=\"right\">\n",
    "</figure>\n",
    "\n",
    "\n",
    "\n",
    "# Exercises Whatsapp\n",
    "\n",
    "\n",
    "This notebook contains an exercise with a very commonly used pyton package called pandas. We use this to analyze our whatsapp data. The data was obtained by exporting a single Whatsapp chat. See https://faq.whatsapp.com/en/android/23756533/ to export your own data, you will need this data for this exercise.\n",
    " \n",
    "<div style=\"text-align: right\"> developed by MAMBA </div>\n",
    " This notebook is part of the Mamba python course. \n",
    "\n",
    "\n",
    "\n"
   ]
  },
  {
   "cell_type": "markdown",
   "metadata": {},
   "source": [
    "#### table of content<a class=\"anchor\" id=\"0\"></a>\n",
    "1. [Import packages](#1)\n",
    "2. [Read whatsapp data](#2)\n",
    "4. [Exercises](#3)\n",
    "5. [Answers](#4)"
   ]
  },
  {
   "cell_type": "markdown",
   "metadata": {},
   "source": [
    "## 1. import files<a class=\"anchor\" id=\"1\"></a>"
   ]
  },
  {
   "cell_type": "code",
   "execution_count": 1,
   "metadata": {},
   "outputs": [],
   "source": [
    "import matplotlib.pyplot as plt\n",
    "import pandas as pd\n",
    "import whatsapp_func as wf\n",
    "import re"
   ]
  },
  {
   "cell_type": "code",
   "execution_count": 2,
   "metadata": {},
   "outputs": [],
   "source": [
    "#settings\n",
    "%matplotlib inline"
   ]
  },
  {
   "cell_type": "markdown",
   "metadata": {},
   "source": [
    "## 2. Read whatsapp data <a class=\"anchor\" id=\"2\"></a>\n",
    "Below is the code to read a zip file with a whatsapp chat history. Python needs to know the datetime format to read the file correctly. You can use the keyword argument `strftime_format` in the `wf.read_whatsapp` function to define the datetime format. The strftime formatter is used for this (http://strftime.org/). \n",
    "\n",
    "For example:\n",
    "- the first row of the whatsapp data file is `30-05-18 23:23:36 Onno Ebbens: ‎Berichten en oproepen in deze chat zijn nu beveiligd met end-to-end encryptie.`\n",
    "- In this case the strftime format is `'%d-%m-%y %H:%M:%S'`. So you add the keyword argument `strftime_format='%d-%m-%y %H:%M:%S'` to the `wf.read_whatsapp` function.\n"
   ]
  },
  {
   "cell_type": "code",
   "execution_count": null,
   "metadata": {},
   "outputs": [],
   "source": [
    "# read whatsapp data (save the zip in the data folder and fill out the full name in the code below)\n",
    "whatsapp_zip = r'WhatsApp Chat - Onno Ebbens.zip'\n",
    "time_user_df = wf.read_whatsapp(whatsapp_zip, strftime_format='%d-%m-%y %H:%M:%S')"
   ]
  },
  {
   "cell_type": "markdown",
   "metadata": {},
   "source": [
    "### Pandas DataFrame\n",
    "\n",
    "We save the data in a pandas DataFrame (the time_user_df). A DataFrame is an object of the package Pandas, which is one of the most used packages for scientific applications with Python. It is the must-have tool for data analysis. The pandas DataFrame gives you the ability to structure and edit your data. You can think about it as a perfect spreadsheat, a SQL table or an indexed dictionary. In a dataframe there are columns and rows, to which you can optionally pass names.\n",
    "\n",
    "In the excercises below we will work with the Pandas DataFrame intuitively. For a more in-depth tutorial, continue after this notebook with the excersise notebook found in [on_topic/1_pandas](../01_data_inlezen_met_pandas_dutch.ipynb). "
   ]
  },
  {
   "cell_type": "markdown",
   "metadata": {},
   "source": [
    "## 3. Exercises<a class=\"anchor\" id=\"3\"></a>\n",
    "\n",
    "Note: Below are exercises to get you started with data analysis. If, at any time, you come up with your own idea for analysis or visualisation, that's awesome and please try to make it work. This is the best way to learn. Use Google, Stackoverflow, Pandas documentation to find out how to do your analysis or visualisation."
   ]
  },
  {
   "cell_type": "markdown",
   "metadata": {},
   "source": [
    "You can print the first 5 lines of your dataframe using the `head()` method."
   ]
  },
  {
   "cell_type": "code",
   "execution_count": null,
   "metadata": {},
   "outputs": [],
   "source": [
    "time_user_df.head()"
   ]
  },
  {
   "cell_type": "markdown",
   "metadata": {},
   "source": [
    "#### <a name=\"back1\">Exercise 1</a>\n",
    "Have a look at the dataframe `time_user_df` you've obtained. How many columns does it have? What is the index?"
   ]
  },
  {
   "cell_type": "code",
   "execution_count": null,
   "metadata": {},
   "outputs": [],
   "source": []
  },
  {
   "cell_type": "markdown",
   "metadata": {},
   "source": [
    "<a href=\"#ex1answer\">Answer for Exercise 1</a>"
   ]
  },
  {
   "cell_type": "markdown",
   "metadata": {},
   "source": [
    "####  <a name=\"back1\">Exercise 2</a>\n",
    "How many messages are in your exported chat history?"
   ]
  },
  {
   "cell_type": "code",
   "execution_count": null,
   "metadata": {},
   "outputs": [],
   "source": []
  },
  {
   "cell_type": "markdown",
   "metadata": {},
   "source": [
    "<a href=\"#ex2answer\">Answer for Exercise 2</a>"
   ]
  },
  {
   "cell_type": "markdown",
   "metadata": {},
   "source": [
    "####  <a name=\"back3\">Exercise 3</a>\n",
    "Find the unique users in your chat history"
   ]
  },
  {
   "cell_type": "code",
   "execution_count": null,
   "metadata": {},
   "outputs": [],
   "source": []
  },
  {
   "cell_type": "markdown",
   "metadata": {},
   "source": [
    "<a href=\"#ex3answer\">Answer for Exercise 3</a>"
   ]
  },
  {
   "cell_type": "markdown",
   "metadata": {},
   "source": [
    "####   <a name=\"back4\">Exercise 4</a>\n",
    "You can add columns to a DataFrame. To add a column with ones you can use the code below."
   ]
  },
  {
   "cell_type": "code",
   "execution_count": null,
   "metadata": {},
   "outputs": [],
   "source": [
    "time_user_df['column_with_ones'] = 1\n",
    "time_user_df.head()"
   ]
  },
  {
   "cell_type": "markdown",
   "metadata": {},
   "source": [
    "You can create a new column by using data from another column. Create a new column containing a string which consist of the user name and the text 'whatsapp'. For example if the username of a row is 'user1' your new column should have the value 'user1 whatsapp'."
   ]
  },
  {
   "cell_type": "code",
   "execution_count": null,
   "metadata": {
    "scrolled": true
   },
   "outputs": [],
   "source": []
  },
  {
   "cell_type": "markdown",
   "metadata": {},
   "source": [
    "<a href=\"#ex4answer\">Answer for Exercise 4</a>"
   ]
  },
  {
   "cell_type": "markdown",
   "metadata": {},
   "source": [
    "####   <a name=\"back5\">Exercise 5</a>\n",
    "Create an extra column with the number of characters in your text column."
   ]
  },
  {
   "cell_type": "code",
   "execution_count": null,
   "metadata": {},
   "outputs": [],
   "source": []
  },
  {
   "cell_type": "markdown",
   "metadata": {},
   "source": [
    "<a href=\"#ex5answer\">Answer for Exercise 5</a>"
   ]
  },
  {
   "cell_type": "markdown",
   "metadata": {},
   "source": [
    "####  <a name=\"back6\">Exercise 6</a>\n",
    "\n",
    "You can use the method `groupby()` to group your data by the items in a certain column. You can group the data per user with the code below. With this you obtain a GroupBy object. To get the relevant data per user you have to specify how to handle the data in the other columns. To get the sum of the data in the other columns "
   ]
  },
  {
   "cell_type": "code",
   "execution_count": null,
   "metadata": {},
   "outputs": [],
   "source": [
    "df_gb = time_user_df.groupby('user')\n",
    "df_gb.sum()"
   ]
  },
  {
   "cell_type": "markdown",
   "metadata": {},
   "source": [
    "\n",
    "get the average length of a text message per user. Note: you need the answer to exercise 5 for this question."
   ]
  },
  {
   "cell_type": "code",
   "execution_count": null,
   "metadata": {},
   "outputs": [],
   "source": []
  },
  {
   "cell_type": "markdown",
   "metadata": {},
   "source": [
    "<a href=\"#ex6answer\">Answer for Exercise 6</a>"
   ]
  },
  {
   "cell_type": "markdown",
   "metadata": {},
   "source": [
    "####  <a name=\"back7\">Exercise 7</a>\n",
    "Use the examples from the [example notebook](whatsapp_data_analysis.ipynb) to plot your own graphs in the analysis. Try to understand what every line of code is doing."
   ]
  },
  {
   "cell_type": "code",
   "execution_count": null,
   "metadata": {},
   "outputs": [],
   "source": []
  },
  {
   "cell_type": "markdown",
   "metadata": {},
   "source": [
    "<a href=\"#ex7answer\">Answer for Exercise 7</a>"
   ]
  },
  {
   "cell_type": "markdown",
   "metadata": {},
   "source": [
    "## 4. answers<a class=\"anchor\" id=\"4\"></a>"
   ]
  },
  {
   "cell_type": "markdown",
   "metadata": {},
   "source": [
    "#### <a name=\"ex1answer\">Answer Exercise 1 </a>"
   ]
  },
  {
   "cell_type": "code",
   "execution_count": null,
   "metadata": {},
   "outputs": [],
   "source": [
    "# columns in dataframe\n",
    "print('number of columns in dataframe: ',len(time_user_df.columns))\n",
    "print('\\n')\n",
    "# index\n",
    "print('index of DataFrame: ',time_user_df.index)"
   ]
  },
  {
   "cell_type": "markdown",
   "metadata": {},
   "source": [
    "<a href=\"#back1\">Back to Exercise 1</a>"
   ]
  },
  {
   "cell_type": "markdown",
   "metadata": {},
   "source": [
    "#### <a name=\"ex2answer\">Answer Exercise 2 </a>"
   ]
  },
  {
   "cell_type": "code",
   "execution_count": null,
   "metadata": {},
   "outputs": [],
   "source": [
    "# total number of messages\n",
    "# option 1\n",
    "print(time_user_df.shape[0])\n",
    "\n",
    "# option 2\n",
    "print(time_user_df.message.sum())\n",
    "\n",
    "# option 3\n",
    "print(len(time_user_df))"
   ]
  },
  {
   "cell_type": "markdown",
   "metadata": {},
   "source": [
    "<a href=\"#back2\">Back to Exercise 2</a>"
   ]
  },
  {
   "cell_type": "markdown",
   "metadata": {},
   "source": [
    "#### <a name=\"ex3answer\">Answer Exercise 3 </a>"
   ]
  },
  {
   "cell_type": "code",
   "execution_count": null,
   "metadata": {},
   "outputs": [],
   "source": [
    "#unique users\n",
    "print(time_user_df.user.unique())"
   ]
  },
  {
   "cell_type": "markdown",
   "metadata": {},
   "source": [
    "<a href=\"#back3\">Back to Exercise 3</a>"
   ]
  },
  {
   "cell_type": "markdown",
   "metadata": {},
   "source": [
    "#### <a name=\"ex4answer\">Answer Exercise 4 </a>"
   ]
  },
  {
   "cell_type": "code",
   "execution_count": null,
   "metadata": {
    "scrolled": true
   },
   "outputs": [],
   "source": [
    "time_user_df['username_and_whatsapp'] = time_user_df['user'] + ' whatsapp'\n",
    "time_user_df.head()"
   ]
  },
  {
   "cell_type": "markdown",
   "metadata": {},
   "source": [
    "<a href=\"#back4\">Back to Exercise 4</a>"
   ]
  },
  {
   "cell_type": "markdown",
   "metadata": {},
   "source": [
    "#### <a name=\"ex5answer\">Answer Exercise 5 </a>"
   ]
  },
  {
   "cell_type": "code",
   "execution_count": null,
   "metadata": {},
   "outputs": [],
   "source": [
    "time_user_df['text_length'] = time_user_df['text'].str.len()"
   ]
  },
  {
   "cell_type": "markdown",
   "metadata": {},
   "source": [
    "<a href=\"#back5\">Back to Exercise 5</a>"
   ]
  },
  {
   "cell_type": "markdown",
   "metadata": {},
   "source": [
    "#### <a name=\"ex6answer\">Answer Exercise 6 </a>"
   ]
  },
  {
   "cell_type": "code",
   "execution_count": null,
   "metadata": {},
   "outputs": [],
   "source": [
    "#message per user\n",
    "df_gb = time_user_df.groupby('user')\n",
    "df_gb.mean()"
   ]
  },
  {
   "cell_type": "markdown",
   "metadata": {},
   "source": [
    "<a href=\"#back6\">Back to Exercise 6</a>"
   ]
  },
  {
   "cell_type": "markdown",
   "metadata": {},
   "source": [
    "#### <a name=\"ex7answer\">Answer Exercise 7</a>"
   ]
  },
  {
   "cell_type": "markdown",
   "metadata": {},
   "source": [
    "See notebook [`whatsapp_data_analysis.ipynb`](whatsapp_data_analysis.ipynb)"
   ]
  },
  {
   "cell_type": "markdown",
   "metadata": {},
   "source": [
    "<a href=\"#back7\">Back to Exercise 7</a>"
   ]
  }
 ],
 "metadata": {
  "kernelspec": {
   "display_name": "Python 3",
   "language": "python",
   "name": "python3"
  },
  "language_info": {
   "codemirror_mode": {
    "name": "ipython",
    "version": 3
   },
   "file_extension": ".py",
   "mimetype": "text/x-python",
   "name": "python",
   "nbconvert_exporter": "python",
   "pygments_lexer": "ipython3",
   "version": "3.7.6"
  }
 },
 "nbformat": 4,
 "nbformat_minor": 4
}
