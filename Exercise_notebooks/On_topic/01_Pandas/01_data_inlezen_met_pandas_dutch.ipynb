{
 "cells": [
  {
   "cell_type": "markdown",
   "metadata": {},
   "source": [
    "<figure>\n",
    "   <IMG SRC=\"https://mamba-python.nl/images/logo_basis.png\" WIDTH=125 ALIGN=\"right\">\n",
    "   \n",
    "</figure>\n",
    "\n",
    "#  Oefening Pandas\n",
    "\n",
    "Deze oefening is bedoeld als kennismaking met de `pandas` package voor data-analyse. In de oefening wordt gebruikt gemaakt van KNMI data."
   ]
  },
  {
   "cell_type": "markdown",
   "metadata": {},
   "source": [
    "### Stap 1. Importeer de nodige packages"
   ]
  },
  {
   "cell_type": "code",
   "execution_count": null,
   "metadata": {},
   "outputs": [],
   "source": [
    "import pandas as pd"
   ]
  },
  {
   "cell_type": "markdown",
   "metadata": {},
   "source": [
    "### Stap 2. Maak een Series aan"
   ]
  },
  {
   "cell_type": "markdown",
   "metadata": {},
   "source": [
    "Met de pandas package kan je data analyseren. Dit is vergelijkbaar met de manier waarop je in excel data analyseert. Het verschil zit hem in de aansturing. In excel klik je veelal met de muis op knoppen om de data te bewerken, in Python schrijf je code om data te bewerken. \n",
    "\n",
    "Om de data te bewerken moet er eerst data ingelezen worden in het geheugen. Je kan met de `pandas` package op twee manieren data in het geheugen inlezen:\n",
    "- Series: bedoeld voor een datareeks van 2 variabelen, bijvoorbeeld een tijdreeks van grondwaterstanden met een datum. Vergelijkbaar met een excel spreadsheet met 2 kolommen.\n",
    "- DataFrame: bedoeld voor een datareeks met meerdere variabelen, bijvoorbeeld een lijst met putlocaties met x en y coördinaten. Vergelijkbaar met een excel spreadsheet met meer dan 2 kolommen."
   ]
  },
  {
   "cell_type": "markdown",
   "metadata": {},
   "source": [
    "De meest eenvoudige manier om data in het geheugen te lezen is door de data zelf op te geven. Hieronder maken we een series van een aantal dieren en hun gewicht. "
   ]
  },
  {
   "cell_type": "code",
   "execution_count": null,
   "metadata": {},
   "outputs": [],
   "source": [
    "s = pd.Series(index=['koe', 'paard', 'kip'], data=[656., 450., 3.8], name='gewicht')"
   ]
  },
  {
   "cell_type": "markdown",
   "metadata": {},
   "source": [
    "De `pandas Series` is nu aangemaakt en opgeslagen als variabele `s`. Om de data ook daadwerkelijk weer te geven moeten we deze laten printen. we kunnen dit doen met het `print` statement."
   ]
  },
  {
   "cell_type": "code",
   "execution_count": null,
   "metadata": {},
   "outputs": [],
   "source": [
    "print(s)"
   ]
  },
  {
   "cell_type": "markdown",
   "metadata": {},
   "source": [
    "### Stap 3. eigenschappen"
   ]
  },
  {
   "cell_type": "markdown",
   "metadata": {},
   "source": [
    "Deze `pandas Series` heeft allerlei eigenschappen. Een `Series` bevat altijd de volgende eigenschappen:\n",
    "- index\n",
    "- values\n",
    "- name\n",
    "- shape\n",
    "- dtype\n",
    "\n",
    "Je kan deze opvragen door een `.` achter de variabelenaam te typen."
   ]
  },
  {
   "cell_type": "code",
   "execution_count": null,
   "metadata": {},
   "outputs": [],
   "source": [
    "s.index"
   ]
  },
  {
   "cell_type": "code",
   "execution_count": null,
   "metadata": {},
   "outputs": [],
   "source": [
    "s.values"
   ]
  },
  {
   "cell_type": "markdown",
   "metadata": {},
   "source": [
    "Er wordt dus een onderscheid gemaakt tussen de `values` en de `index`. Deze structuur zorgt ervoor dat je makkelijk een specifieke waarde kan opvragen op basis van de naam in de `index`. Dit kan je doen met `loc` of `iloc` in combinatie met rechte haken `[]`. Het gewicht van de koe kan je met `iloc` zo opvragen:"
   ]
  },
  {
   "cell_type": "code",
   "execution_count": null,
   "metadata": {},
   "outputs": [],
   "source": [
    "s.iloc[0]"
   ]
  },
  {
   "cell_type": "markdown",
   "metadata": {},
   "source": [
    "of met `loc` op deze manier:"
   ]
  },
  {
   "cell_type": "code",
   "execution_count": null,
   "metadata": {},
   "outputs": [],
   "source": [
    "s.loc['koe']"
   ]
  },
  {
   "cell_type": "markdown",
   "metadata": {},
   "source": [
    "#### Opdracht 1 <a name=\"opdr1\"></a>\n",
    "vraag het gewicht op van de `kip` met behulp van `iloc`. Typ je code hieronder"
   ]
  },
  {
   "cell_type": "code",
   "execution_count": null,
   "metadata": {},
   "outputs": [],
   "source": []
  },
  {
   "cell_type": "markdown",
   "metadata": {},
   "source": [
    "<a href=\"#antw1\">Antwoord Opdracht 1</a>"
   ]
  },
  {
   "cell_type": "markdown",
   "metadata": {},
   "source": [
    "### Stap 4. Bewerkingen"
   ]
  },
  {
   "cell_type": "markdown",
   "metadata": {},
   "source": [
    "Naast het opvragen van eigenschappen, kunnen we ook bewerkingen doen op deze data. We kunnen bijvoorbeeld het gemiddelde gewicht uitrekenen van deze dieren:"
   ]
  },
  {
   "cell_type": "code",
   "execution_count": null,
   "metadata": {},
   "outputs": [],
   "source": [
    "s.mean()"
   ]
  },
  {
   "cell_type": "markdown",
   "metadata": {},
   "source": [
    "Let op: Omdat dit een bewerking is en niet een eigenschap van een `Series` moeten er in de code altijd `()` achter de naam van de bewerking."
   ]
  },
  {
   "cell_type": "markdown",
   "metadata": {},
   "source": [
    "het maximale gewicht kan worden uitgerekende met `max()`"
   ]
  },
  {
   "cell_type": "code",
   "execution_count": null,
   "metadata": {},
   "outputs": [],
   "source": [
    "s.max()"
   ]
  },
  {
   "cell_type": "markdown",
   "metadata": {},
   "source": [
    "en het is ook mogelijk om in 1 keer een heleboel beschrijvende statistieken te krijgen van een `Series`."
   ]
  },
  {
   "cell_type": "code",
   "execution_count": null,
   "metadata": {},
   "outputs": [],
   "source": [
    "s.describe()"
   ]
  },
  {
   "cell_type": "markdown",
   "metadata": {},
   "source": [
    "#### Opdracht 2  <a name=\"opdr2\"></a>\n",
    "\n",
    "Het resultaat van `s.describe()` is ook een `pandas Series`. Je kan deze ook opslaan in het geheugen, bijvoorbeeld als de variabele `stats` met `stats = s.describe()`. Sla de resultaten van `s.describe()` op en gebruik de `loc` functie om het 25% percentiel op te vragen."
   ]
  },
  {
   "cell_type": "code",
   "execution_count": null,
   "metadata": {},
   "outputs": [],
   "source": []
  },
  {
   "cell_type": "markdown",
   "metadata": {},
   "source": [
    "<a href=\"#antw2\">Antwoord Opdracht 2</a>"
   ]
  },
  {
   "cell_type": "markdown",
   "metadata": {},
   "source": [
    "### Stap 5. DataFrame"
   ]
  },
  {
   "cell_type": "markdown",
   "metadata": {},
   "source": [
    "Naast de `pandas Series` is het ook mogelijk om data met meer dan 2 dimensies in het geheugen in te lezen. Dit kan met een `DataFrame`. Je kan een `DataFrame` op de volgende manier aanmaken."
   ]
  },
  {
   "cell_type": "code",
   "execution_count": null,
   "metadata": {},
   "outputs": [],
   "source": [
    "df = pd.DataFrame(index=['Rotterdam', 'Zwolle', 'Engelse werk'], \n",
    "                  data={'lat':[51.9225, 52.516499, 52.4971], \n",
    "                        'lon':[4.47917, 6.084683, 6.0661],\n",
    "                        'aanwezigen':[623652, 123861, 20]})\n",
    "df"
   ]
  },
  {
   "cell_type": "markdown",
   "metadata": {},
   "source": [
    "Een `DataFrame` heeft net als een `Series` ook de eigenschappen: `index`, `values` en `shape`. Er zijn verschillen tussen een `DataFrame` en een `Series`. Zo heeft een `DataFrame` in plaats van de eigenschap `name` de eigenschap `columns`. Dit zijn de namen van de kolommen (vergelijkbaar met excel). De datatypes van de kolommen vraag je op met `dtypes`."
   ]
  },
  {
   "cell_type": "code",
   "execution_count": null,
   "metadata": {},
   "outputs": [],
   "source": [
    "df.columns"
   ]
  },
  {
   "cell_type": "code",
   "execution_count": null,
   "metadata": {},
   "outputs": [],
   "source": [
    "df.dtypes"
   ]
  },
  {
   "cell_type": "markdown",
   "metadata": {},
   "source": [
    "#### Opdracht 3  <a name=\"opdr3\"></a>\n",
    "\n",
    "Vraag het aantal aanwezigen bij het Engelse werk op met de `loc` functie."
   ]
  },
  {
   "cell_type": "code",
   "execution_count": null,
   "metadata": {},
   "outputs": [],
   "source": []
  },
  {
   "cell_type": "markdown",
   "metadata": {},
   "source": [
    "<a href=\"#antw3\">Antwoord Opdracht 3</a>"
   ]
  },
  {
   "cell_type": "markdown",
   "metadata": {},
   "source": [
    "Net als bij een `Series` kan je bij een `DataFrame` ook allerlei bewerkingen uitvoeren. Deze worden dan automatisch uitgevoerd op alle kolommen. Zie de voorbeelden hieronder"
   ]
  },
  {
   "cell_type": "code",
   "execution_count": null,
   "metadata": {},
   "outputs": [],
   "source": [
    "df.max()"
   ]
  },
  {
   "cell_type": "code",
   "execution_count": null,
   "metadata": {},
   "outputs": [],
   "source": [
    "df.describe()"
   ]
  },
  {
   "cell_type": "markdown",
   "metadata": {},
   "source": [
    "Soms ben je alleen geïnteresseerd in één kolom van een `DataFrame`. Je kan deze opvragen met behulp van de rechte haken `[]`. Je krijgt vervolgens een series terug."
   ]
  },
  {
   "cell_type": "code",
   "execution_count": null,
   "metadata": {},
   "outputs": [],
   "source": [
    "s = df['aanwezigen']\n",
    "s"
   ]
  },
  {
   "cell_type": "markdown",
   "metadata": {},
   "source": [
    "#### Opdracht 4  <a name=\"opdr4\"></a>\n",
    "\n",
    "Het resultaat van `df.describe()` is ook een `pandas DataFrame` (zie hierboven). Je kan deze ook opslaan in het geheugen. Sla de resultaten van `df.describe()` op en maak een series met de statistieken van de kolom 'aanwezigen`."
   ]
  },
  {
   "cell_type": "code",
   "execution_count": null,
   "metadata": {},
   "outputs": [],
   "source": []
  },
  {
   "cell_type": "markdown",
   "metadata": {},
   "source": [
    "<a href=\"#antw4\">Antwoord Opdracht 4</a>"
   ]
  },
  {
   "cell_type": "markdown",
   "metadata": {},
   "source": [
    "### Stap 6. Bestanden inlezen"
   ]
  },
  {
   "cell_type": "markdown",
   "metadata": {},
   "source": [
    "Meestal krijg je datasets aangeleverd als een bestand (bijv. een .csv bestand). Het is niet nodig om alle getallen over te typen om deze als `DataFrame` in het geheugen te lezen. In plaats daarvan kan je gebruik maken van inleesfuncties. Voor het inlezen van tekstbestanden gebruik je bijvoorbeeld `pd.read_csv`.\n",
    "\n",
    "In deze stap volgt een voorbeeld voor het inlezen van een knmi bestand met etmaalgegevens van een weerstation. Het knmi bestand `etmgeg_240.txt` wat is meegeleverd met dit notebook kan worden ingelezen met:"
   ]
  },
  {
   "cell_type": "code",
   "execution_count": null,
   "metadata": {
    "scrolled": true
   },
   "outputs": [],
   "source": [
    "df = pd.read_csv(\"etmgeg_240.txt\", skiprows=47, index_col=\"YYYYMMDD\", \n",
    "                 parse_dates=[1])"
   ]
  },
  {
   "cell_type": "markdown",
   "metadata": {},
   "source": [
    "Geef bij het inlezen van een csv bestand altijd een aantal parameters mee aan de `pd.read_csv()` functie.\n",
    "\n",
    "Allereerst de naam van het bestand met de bestandslocatie. In ons geval staat het bestand in dezelfde map als het script dus is de bestandsnaam voldoende.\n",
    "\n",
    "Geef daarnaast instellingen mee zodat het csv bestand goed kan worden ingelezen. De instellingen van `pd.read_csv()` hebben een standaardwaarde (default). Je hoeft de instellingen alleen mee te geven als de gewenste instellingen afwijken van de standaard. Bij het inlezen van een csv bestand geef je meestal de volgende instellingen mee:\n",
    "- `skiprows`: de meeste bestanden hebben bovenaan uitleg en daaronder pas de gestructureerde data. Deze uitleg, ook wel header genoemd, bevat meestal geen netjes georde data en is lastig om in te lezen. Het makkelijkst is om deze data over te slaan. Met skiprows kies je het aantal rijen aan het begin van een tekst document die worden overgeslagen. In ons geval bevatten de eerste 47 rijen van het .txt bestand uitleg en kunnen dus worden overgeslagen.\n",
    "- `sep`: het scheidingsteken wat gebruikt wordt in het tekstbestand. In dit geval is onze data in het bestand gescheiden met een komma. De komma `,` is ook de standaardwaarde (default value) dus hoeft deze niet te worden meegegeven bij het inlezen.\n",
    "- `index_col`: de kolom die gebruikt moet worden als index van het `DataFrame`. De index kan later makkelijk gebruikt worden om data te selecteren. Het is een goed idee om hiervoor een kolom te kiezen met unieke waarde. Om deze reden kiezen we de kolom `YYYYMMDD` met de datum. Deze kolom heeft voor iedere rij in het `DataFrame` een unieke waarde.\n",
    "- De `parse_dates` instelling is een wat geavanceerdere optie die in ons geval ervoor zorgt dat de 2de kolom wordt ingelezen als een datum. \n",
    "\n",
    "Bekijk vervolgens de eerste 5 regels met de `head()` functie."
   ]
  },
  {
   "cell_type": "code",
   "execution_count": null,
   "metadata": {},
   "outputs": [],
   "source": [
    "df.head()"
   ]
  },
  {
   "cell_type": "markdown",
   "metadata": {},
   "source": [
    "#### Opdracht 5  <a name=\"opdr5\"></a>\n",
    "\n",
    "Vraag het aantal rijen en kolommen op van het ingelezen `DataFrame` met knmi waarden"
   ]
  },
  {
   "cell_type": "code",
   "execution_count": null,
   "metadata": {},
   "outputs": [],
   "source": []
  },
  {
   "cell_type": "markdown",
   "metadata": {},
   "source": [
    "<a href=\"#antw5\">Antwoord Opdracht 5</a>"
   ]
  },
  {
   "cell_type": "markdown",
   "metadata": {},
   "source": [
    "### Stap 7. Nabewerking ingelezen bestand"
   ]
  },
  {
   "cell_type": "markdown",
   "metadata": {},
   "source": [
    "Meestal gaat het inlezen van een bestand niet in 1 keer goed. Het is dan nuttig om het `DataFrame` wat is ingelezen te onderzoeken om te kijken of deze goed is ingelezen. Hieronder zijn een aantal nabewerkingsstappen gedaan om het `DataFrame` op zo'n manier in het geheugen te lezen dat we er bewerkingen op kunnen uitvoeren.\n"
   ]
  },
  {
   "cell_type": "markdown",
   "metadata": {},
   "source": [
    "Allereerst bekijken we de kolommen. Vervelend genoeg voor ons staan er nog spaties in de kolomnamen."
   ]
  },
  {
   "cell_type": "code",
   "execution_count": null,
   "metadata": {},
   "outputs": [],
   "source": [
    "df.columns"
   ]
  },
  {
   "cell_type": "markdown",
   "metadata": {},
   "source": [
    "Daarna kijken we naar het datatype in de verschillende kolommen. Voor het uitvoeren van wiskundige operaties moeten het datatype nummeriek zijn (`int` of `float`). We kunnen dus nog niet voor alle kolommen wiskundige operaties uitvoeren."
   ]
  },
  {
   "cell_type": "code",
   "execution_count": null,
   "metadata": {
    "scrolled": true
   },
   "outputs": [],
   "source": [
    "df.dtypes"
   ]
  },
  {
   "cell_type": "markdown",
   "metadata": {},
   "source": [
    "We kunnen de spaties uit de kolomnamen verwijderen met `str.strip`"
   ]
  },
  {
   "cell_type": "code",
   "execution_count": null,
   "metadata": {
    "scrolled": true
   },
   "outputs": [],
   "source": [
    "new_names = []\n",
    "for icol in df.columns:\n",
    "    new_names.append(icol.strip())\n",
    "new_names"
   ]
  },
  {
   "cell_type": "markdown",
   "metadata": {},
   "source": [
    "Dan hernoemen we de kolommen van het oorspronkelijke `DataFrame` "
   ]
  },
  {
   "cell_type": "code",
   "execution_count": null,
   "metadata": {},
   "outputs": [],
   "source": [
    "df.columns = new_names"
   ]
  },
  {
   "cell_type": "markdown",
   "metadata": {},
   "source": [
    "Dan bekijken we de kolommen weer om te kijken of het gelukt is."
   ]
  },
  {
   "cell_type": "code",
   "execution_count": null,
   "metadata": {},
   "outputs": [],
   "source": [
    "df.columns"
   ]
  },
  {
   "cell_type": "markdown",
   "metadata": {},
   "source": [
    "Het instellen van een Index met datums kan heel handig werken. Zo kan je gemakkelijk een bepaalde periode selecteren. Hier kiezen we het jaar 2018. Met het `.head()` commando kijken we alleen naar de eerste 5 waarden uit de DataFrame."
   ]
  },
  {
   "cell_type": "code",
   "execution_count": null,
   "metadata": {
    "scrolled": true
   },
   "outputs": [],
   "source": [
    "df.loc['2018'].head()"
   ]
  },
  {
   "cell_type": "markdown",
   "metadata": {},
   "source": [
    "We kunnen daarnaast ook kiezen om alleen naar de kolommen \"RH\"= dagelijkse neerslag en \"EV24\"=verdamping per dag te kijken."
   ]
  },
  {
   "cell_type": "code",
   "execution_count": null,
   "metadata": {},
   "outputs": [],
   "source": [
    "df.loc[\"2018\", [\"RH\", \"EV24\"]].head()"
   ]
  },
  {
   "cell_type": "markdown",
   "metadata": {},
   "source": [
    "#### Opdracht 6  <a name=\"opdr6\"></a>\n",
    "\n",
    "De kolom `TX` bevat de maximum temperatuur in 0.1 graden Celsius. Vraag de maximale temperatuur op over 2018"
   ]
  },
  {
   "cell_type": "code",
   "execution_count": null,
   "metadata": {},
   "outputs": [],
   "source": []
  },
  {
   "cell_type": "markdown",
   "metadata": {},
   "source": [
    "<a href=\"#antw6\">Antwoord Opdracht 6</a>"
   ]
  },
  {
   "cell_type": "markdown",
   "metadata": {},
   "source": [
    "### Stap 8. plotten data"
   ]
  },
  {
   "cell_type": "markdown",
   "metadata": {},
   "source": [
    "Stel notebook in om figuren direct weer te geven in de notebook (soms niet nodig, maar op mijn (Davíds) computer wel.)"
   ]
  },
  {
   "cell_type": "code",
   "execution_count": null,
   "metadata": {},
   "outputs": [],
   "source": [
    "%matplotlib inline"
   ]
  },
  {
   "cell_type": "markdown",
   "metadata": {},
   "source": [
    "Omdat we niet de hele tijd de selectie willen typen slaan we onze subselectie op onder een nieuwe variabele `dfs`"
   ]
  },
  {
   "cell_type": "code",
   "execution_count": null,
   "metadata": {},
   "outputs": [],
   "source": [
    "dfs = df.loc[:, [\"RH\", \"EV24\"]]"
   ]
  },
  {
   "cell_type": "markdown",
   "metadata": {},
   "source": [
    "Nu willen we deze data plotten. In eerste instantie levert dat nog een error op:"
   ]
  },
  {
   "cell_type": "code",
   "execution_count": null,
   "metadata": {
    "scrolled": true
   },
   "outputs": [],
   "source": [
    "dfs.plot()"
   ]
  },
  {
   "cell_type": "markdown",
   "metadata": {},
   "source": [
    "De error zegt onderaan er geen data is:\n",
    "\n",
    "```{python}\n",
    "TypeError: Empty 'DataFrame': no numeric data to plot\n",
    "```\n",
    "\n",
    "Maar we zagen net dat er wel degelijk waarden in de tabel stonden. Zou het misschien aan het datatype kunnen liggen?"
   ]
  },
  {
   "cell_type": "code",
   "execution_count": null,
   "metadata": {},
   "outputs": [],
   "source": [
    "dfs.dtypes"
   ]
  },
  {
   "cell_type": "markdown",
   "metadata": {},
   "source": [
    "Dat is dus het probleem, voor de plot moet de data wel numeriek zijn, dus `int` of `float` en niet `object`. We gaan per kolom de data omzetten naar numerieke waardes met de functie van pandas `pd.to_numeric`. Omdat pandas niet direct begrijpt hoe je een leeg veld moet omzetten naar een getal moeten we de functie ook vertellen dat als die zoiets tegenkomt een waarde van `NaN` (Not a Number) moet invullen. Dat doen we met het keyword argument `errors=\"coerce\"`."
   ]
  },
  {
   "cell_type": "code",
   "execution_count": null,
   "metadata": {},
   "outputs": [],
   "source": [
    "for icol in dfs.columns:\n",
    "    print(icol)\n",
    "    dfs[icol] = pd.to_numeric(dfs[icol], errors=\"coerce\")"
   ]
  },
  {
   "cell_type": "markdown",
   "metadata": {},
   "source": [
    "Kijken of dat gelukt is:"
   ]
  },
  {
   "cell_type": "code",
   "execution_count": null,
   "metadata": {},
   "outputs": [],
   "source": [
    "dfs.dtypes"
   ]
  },
  {
   "cell_type": "markdown",
   "metadata": {},
   "source": [
    "Poging 2 om te plotten dan maar:"
   ]
  },
  {
   "cell_type": "code",
   "execution_count": null,
   "metadata": {},
   "outputs": [],
   "source": [
    "dfs.plot()"
   ]
  },
  {
   "cell_type": "markdown",
   "metadata": {},
   "source": [
    "Dat is gelukt! Nu kan je de grafiek nog op verschillende manier opmaken. Hieronder is een voorbeeld gegeven hoe je dat zou kunnen doen."
   ]
  },
  {
   "cell_type": "code",
   "execution_count": null,
   "metadata": {},
   "outputs": [],
   "source": [
    "ax = dfs.plot(figsize=(12,6))\n",
    "ax.set_xlim('2017','2018')\n",
    "ax.set_ylabel('0.1 mm/dag')\n",
    "ax.set_xlabel('')\n",
    "ax.grid()"
   ]
  },
  {
   "cell_type": "markdown",
   "metadata": {},
   "source": [
    "#### Opdracht 7  <a name=\"opdr7\"></a>\n",
    "\n",
    "Plot de maximale temperatuur tussen 2000 en 2005."
   ]
  },
  {
   "cell_type": "code",
   "execution_count": null,
   "metadata": {},
   "outputs": [],
   "source": []
  },
  {
   "cell_type": "markdown",
   "metadata": {},
   "source": [
    "<a href=\"#antw7\">Antwoord Opdracht 7</a>"
   ]
  },
  {
   "cell_type": "markdown",
   "metadata": {},
   "source": [
    "### Stap 8. Opslaan resultaten\n",
    "Wanneer je een `DataFrame` hebt ingelezen en aangepast is het handig om de resultaten op te slaan om later te gebruiken. Ook kan het soms handig zijn om de resultaten in bijv. excel te bekijken. Dit kan eenvoudig met de `to_csv()` functie:"
   ]
  },
  {
   "cell_type": "code",
   "execution_count": null,
   "metadata": {},
   "outputs": [],
   "source": [
    "df.to_csv(r'aangepaste_tabel.csv')"
   ]
  },
  {
   "cell_type": "markdown",
   "metadata": {},
   "source": [
    "Er is nu een .csv bestand met de naam 'aangepaste_tabel' opgeslagen in dezelfde map als dit script. Dit bestand kan je met excel openenen om de resultaten te bekijken."
   ]
  },
  {
   "cell_type": "markdown",
   "metadata": {},
   "source": [
    "#### Opdracht 8  <a name=\"opdr8\"></a>\n",
    "\n",
    "Vraag de statistieken op van het `DataFrame` met de `describe()` functie. Sla deze statistieken op als csv bestand met de naam 'statistiek.csv'."
   ]
  },
  {
   "cell_type": "code",
   "execution_count": null,
   "metadata": {},
   "outputs": [],
   "source": []
  },
  {
   "cell_type": "markdown",
   "metadata": {},
   "source": [
    "<a href=\"#antw8\">Antwoord Opdracht 8</a>"
   ]
  },
  {
   "cell_type": "markdown",
   "metadata": {},
   "source": [
    "### Stap 9. Geavanceerd analyses"
   ]
  },
  {
   "cell_type": "markdown",
   "metadata": {},
   "source": [
    "Hieronder worden nog een aantal geavanceerde analysemethode beschreven. Er zijn geen opdrachten meer."
   ]
  },
  {
   "cell_type": "markdown",
   "metadata": {},
   "source": [
    "Stel we willen een analyse doen op de jaarlijkse neerslag en verdampingssom. Hiervoor hebben we subselecties nodig van de dataset per jaar. Om analyses te doen op subselecties uit je dataset is de `groupby` methode zeer geschikt. Zo pak je op basis van een bepaalde eigenschap steeds een groep uit je dataset die die eigenschap delen. Hier wil ik de data groeperen per jaar."
   ]
  },
  {
   "cell_type": "markdown",
   "metadata": {},
   "source": [
    "Even kijken naar de index. Dat is dus een `DateTimeIndex`, die bepaalde functionaliteit met zich meebrengt."
   ]
  },
  {
   "cell_type": "code",
   "execution_count": null,
   "metadata": {},
   "outputs": [],
   "source": [
    "dfs.index"
   ]
  },
  {
   "cell_type": "markdown",
   "metadata": {},
   "source": [
    "Zo kunnen we het jaar van elke regel opvragen"
   ]
  },
  {
   "cell_type": "code",
   "execution_count": null,
   "metadata": {},
   "outputs": [],
   "source": [
    "dfs.index.year"
   ]
  },
  {
   "cell_type": "markdown",
   "metadata": {},
   "source": [
    "Of de dag:"
   ]
  },
  {
   "cell_type": "code",
   "execution_count": null,
   "metadata": {
    "scrolled": true
   },
   "outputs": [],
   "source": [
    "dfs.index.day"
   ]
  },
  {
   "cell_type": "code",
   "execution_count": null,
   "metadata": {},
   "outputs": [],
   "source": [
    "gr = dfs.groupby(by=dfs.index.year)"
   ]
  },
  {
   "cell_type": "markdown",
   "metadata": {},
   "source": [
    "Vervolgens kan ik de som van elk jaar bereken met dit commando:"
   ]
  },
  {
   "cell_type": "code",
   "execution_count": null,
   "metadata": {
    "scrolled": true
   },
   "outputs": [],
   "source": [
    "gr.sum()"
   ]
  },
  {
   "cell_type": "markdown",
   "metadata": {},
   "source": [
    "Het resultaat van een `df.groupby()` is een GroupBy Object. Dat is een beetje een vaag ding. Het belangrijkste om te weten is dat je dingen als `gr.sum()`, `gr.mean()`, `gr.plot` gewoon werken zoals op DataFrames. \n",
    "\n",
    "Ook handig is om te weten dat de groepen die gemaakt zijn te benaderen zijn via `gr.groups`:"
   ]
  },
  {
   "cell_type": "code",
   "execution_count": null,
   "metadata": {},
   "outputs": [],
   "source": [
    "from IPython.display import display"
   ]
  },
  {
   "cell_type": "code",
   "execution_count": null,
   "metadata": {},
   "outputs": [],
   "source": [
    "for groupname, group in gr:\n",
    "    # Ik wil niet alles printen, dus alleen na 2016\n",
    "    if groupname > 2016:\n",
    "        print(groupname)\n",
    "        display(group.head())"
   ]
  },
  {
   "cell_type": "markdown",
   "metadata": {},
   "source": [
    "Hier maken we een barplot van de som van de neerslag en verdamping per jaar."
   ]
  },
  {
   "cell_type": "code",
   "execution_count": null,
   "metadata": {},
   "outputs": [],
   "source": [
    "gr.sum().plot.bar(figsize=(16, 6))"
   ]
  },
  {
   "cell_type": "markdown",
   "metadata": {},
   "source": [
    "Berekenen van het neerslagoverschot in 2018 = Neerslag - Verdamping:"
   ]
  },
  {
   "cell_type": "code",
   "execution_count": null,
   "metadata": {},
   "outputs": [],
   "source": [
    "no = dfs.loc[\"2018\", \"RH\"] - dfs.loc[\"2018\", \"EV24\"]"
   ]
  },
  {
   "cell_type": "markdown",
   "metadata": {},
   "source": [
    "Plotten van cumulatieve Neerslag, Verdamping en neerslagoverschot in dezelfe grafiek."
   ]
  },
  {
   "cell_type": "code",
   "execution_count": null,
   "metadata": {},
   "outputs": [],
   "source": [
    "ax = dfs.loc[\"2018\", \"RH\"].cumsum().plot(legend=True)\n",
    "dfs.loc[\"2018\", \"EV24\"].cumsum().plot(ax=ax, legend=True)\n",
    "no.cumsum().plot(ax=ax, label=\"Neerslagoverschot\", legend=True)"
   ]
  },
  {
   "cell_type": "markdown",
   "metadata": {},
   "source": [
    "Hoe vaak was de neerslag per dag meer dan 15.0 mm? De data staat nog in tiende millimeters"
   ]
  },
  {
   "cell_type": "code",
   "execution_count": null,
   "metadata": {},
   "outputs": [],
   "source": [
    "gt150  = dfs.loc[:, \"RH\"] > 150"
   ]
  },
  {
   "cell_type": "markdown",
   "metadata": {},
   "source": [
    "Het resultaat is een reeks aan True/False, die ons verteld of er wel of niet aan de voorwaarde is voldaan."
   ]
  },
  {
   "cell_type": "code",
   "execution_count": null,
   "metadata": {},
   "outputs": [],
   "source": [
    "gt150.head()"
   ]
  },
  {
   "cell_type": "markdown",
   "metadata": {},
   "source": [
    "Omdat True gelijk is aan 1 en False gelijk aan 0, kunnen we de som nemen van dit resultaat om het aantal dagen te tellen met meer dan 15 mm neerslag."
   ]
  },
  {
   "cell_type": "code",
   "execution_count": null,
   "metadata": {},
   "outputs": [],
   "source": [
    "gt150.sum()"
   ]
  },
  {
   "cell_type": "markdown",
   "metadata": {},
   "source": [
    "Het totale aantal dagen in de dataset is:"
   ]
  },
  {
   "cell_type": "code",
   "execution_count": null,
   "metadata": {},
   "outputs": [],
   "source": [
    "gt150.shape"
   ]
  },
  {
   "cell_type": "markdown",
   "metadata": {},
   "source": [
    "Als we nu die specifieke dagen willen beschouwen (uit de dataset willen trekken) kan dat met `df.loc[<hier je True/False reeks>, <hier je kolomnaam>]`"
   ]
  },
  {
   "cell_type": "code",
   "execution_count": null,
   "metadata": {
    "scrolled": true
   },
   "outputs": [],
   "source": [
    "dfs.loc[gt150, \"RH\"]"
   ]
  },
  {
   "cell_type": "markdown",
   "metadata": {},
   "source": [
    "Voor het kopieren van data naar Excel `pd.to_clibpoard()` (de Pandas equivalent van `ctrl+c`) of `pd.to_excel()` (de Pandas equivalent van save."
   ]
  },
  {
   "cell_type": "code",
   "execution_count": null,
   "metadata": {},
   "outputs": [],
   "source": [
    "dfs.to_clipboard()"
   ]
  },
  {
   "cell_type": "markdown",
   "metadata": {},
   "source": [
    "En je kan het dan ook weer terug halen met `pd.read_clipboard()` (de pandas equivalent van `ctrl+v`) of `pd.read_excel()` (pandas equivalent van load)."
   ]
  },
  {
   "cell_type": "code",
   "execution_count": null,
   "metadata": {},
   "outputs": [],
   "source": [
    "df2 = pd.read_clipboard()\n",
    "df2.head()"
   ]
  },
  {
   "cell_type": "markdown",
   "metadata": {},
   "source": [
    "\n",
    "## Antwoorden"
   ]
  },
  {
   "cell_type": "markdown",
   "metadata": {},
   "source": [
    "#### <a href=\"#opdr1\">Antwoord Opdracht 1</a> <a name=\"antw1\"></a>"
   ]
  },
  {
   "cell_type": "code",
   "execution_count": null,
   "metadata": {},
   "outputs": [],
   "source": [
    "s.iloc[2]"
   ]
  },
  {
   "cell_type": "markdown",
   "metadata": {},
   "source": [
    "#### <a href=\"#opdr2\">Antwoord Opdracht 2</a> <a name=\"antw2\"></a>"
   ]
  },
  {
   "cell_type": "code",
   "execution_count": null,
   "metadata": {},
   "outputs": [],
   "source": [
    "stats = s.describe()\n",
    "stats.loc['25%']"
   ]
  },
  {
   "cell_type": "markdown",
   "metadata": {},
   "source": [
    "#### <a href=\"#opdr3\">Antwoord Opdracht 3</a> <a name=\"antw3\"></a>"
   ]
  },
  {
   "cell_type": "code",
   "execution_count": null,
   "metadata": {},
   "outputs": [],
   "source": [
    "df.loc['Engelse werk', 'aanwezigen']"
   ]
  },
  {
   "cell_type": "markdown",
   "metadata": {},
   "source": [
    "#### <a href=\"#opdr4\">Antwoord Opdracht 4</a> <a name=\"antw4\"></a>"
   ]
  },
  {
   "cell_type": "code",
   "execution_count": null,
   "metadata": {},
   "outputs": [],
   "source": [
    "stats = df.describe()\n",
    "s = stats['aanwezigen']\n",
    "print(s)"
   ]
  },
  {
   "cell_type": "markdown",
   "metadata": {},
   "source": [
    "#### <a href=\"#opdr5\">Antwoord Opdracht 5</a> <a name=\"antw5\"></a>"
   ]
  },
  {
   "cell_type": "code",
   "execution_count": null,
   "metadata": {},
   "outputs": [],
   "source": [
    "df.shape\n",
    "print(df.shape[0],' rijen')\n",
    "print(df.shape[1],' kolommen')"
   ]
  },
  {
   "cell_type": "markdown",
   "metadata": {},
   "source": [
    "#### <a href=\"#opdr6\">Antwoord Opdracht 6</a> <a name=\"antw6\"></a>"
   ]
  },
  {
   "cell_type": "code",
   "execution_count": null,
   "metadata": {},
   "outputs": [],
   "source": [
    "df.loc['2018','TX'].max()"
   ]
  },
  {
   "cell_type": "code",
   "execution_count": null,
   "metadata": {},
   "outputs": [],
   "source": [
    "# Bonus: om de datum op te vragen wanneer dit op trad kunnen we idxmax() gebruiken:\n",
    "df.loc['2018','TX'].idxmax()"
   ]
  },
  {
   "cell_type": "markdown",
   "metadata": {},
   "source": [
    "#### <a href=\"#opdr7\">Antwoord Opdracht 7</a> <a name=\"antw7\"></a>"
   ]
  },
  {
   "cell_type": "code",
   "execution_count": null,
   "metadata": {},
   "outputs": [],
   "source": [
    "ax = df['TX'].plot(figsize=(12,6))\n",
    "ax.set_xlim('2000','2005')\n",
    "ax.set_ylabel('temperatuur (0.1$^\\circ$C)')\n",
    "ax.set_xlabel('')\n",
    "ax.grid()"
   ]
  },
  {
   "cell_type": "markdown",
   "metadata": {},
   "source": [
    "#### <a href=\"#opdr8\">Antwoord Opdracht 8</a> <a name=\"antw8\"></a>"
   ]
  },
  {
   "cell_type": "code",
   "execution_count": null,
   "metadata": {},
   "outputs": [],
   "source": [
    "stats = df.describe()\n",
    "stats.to_csv(r'statistiek.csv')"
   ]
  }
 ],
 "metadata": {
  "kernelspec": {
   "display_name": "Python 3",
   "language": "python",
   "name": "python3"
  },
  "language_info": {
   "codemirror_mode": {
    "name": "ipython",
    "version": 3
   },
   "file_extension": ".py",
   "mimetype": "text/x-python",
   "name": "python",
   "nbconvert_exporter": "python",
   "pygments_lexer": "ipython3",
   "version": "3.6.8"
  }
 },
 "nbformat": 4,
 "nbformat_minor": 2
}
