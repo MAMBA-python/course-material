{
 "cells": [
  {
   "cell_type": "markdown",
   "metadata": {},
   "source": [
    "<figure>\n",
    "   <IMG SRC=\"https://mamba-python.nl/images/logo_basis.png\" WIDTH=125 ALIGN=\"right\">\n",
    "   \n",
    "</figure>\n",
    "\n",
    "#  Methods vs functions in pandas\n",
    "\n",
    "Deze oefening is bedoeld om het veschil uit te leggen tussen `pandas` methods en functions. In de oefening wordt gebruikt gemaakt van IMDB data. "
   ]
  },
  {
   "cell_type": "markdown",
   "metadata": {},
   "source": [
    "### Stap 1. Importeer de nodige packages"
   ]
  },
  {
   "cell_type": "code",
   "execution_count": 2,
   "metadata": {},
   "outputs": [],
   "source": [
    "import pandas as pd"
   ]
  },
  {
   "cell_type": "markdown",
   "metadata": {},
   "source": [
    "### Stap 2. Lees een DataFrame in"
   ]
  },
  {
   "cell_type": "code",
   "execution_count": 3,
   "metadata": {},
   "outputs": [],
   "source": [
    "df = pd.read_csv(r'imdb_1000.csv', index_col=1)"
   ]
  },
  {
   "cell_type": "code",
   "execution_count": 4,
   "metadata": {},
   "outputs": [
    {
     "data": {
      "text/html": [
       "<div>\n",
       "<style scoped>\n",
       "    .dataframe tbody tr th:only-of-type {\n",
       "        vertical-align: middle;\n",
       "    }\n",
       "\n",
       "    .dataframe tbody tr th {\n",
       "        vertical-align: top;\n",
       "    }\n",
       "\n",
       "    .dataframe thead th {\n",
       "        text-align: right;\n",
       "    }\n",
       "</style>\n",
       "<table border=\"1\" class=\"dataframe\">\n",
       "  <thead>\n",
       "    <tr style=\"text-align: right;\">\n",
       "      <th></th>\n",
       "      <th>star_rating</th>\n",
       "      <th>content_rating</th>\n",
       "      <th>genre</th>\n",
       "      <th>duration</th>\n",
       "      <th>actors_list</th>\n",
       "    </tr>\n",
       "    <tr>\n",
       "      <th>title</th>\n",
       "      <th></th>\n",
       "      <th></th>\n",
       "      <th></th>\n",
       "      <th></th>\n",
       "      <th></th>\n",
       "    </tr>\n",
       "  </thead>\n",
       "  <tbody>\n",
       "    <tr>\n",
       "      <th>The Shawshank Redemption</th>\n",
       "      <td>9.3</td>\n",
       "      <td>R</td>\n",
       "      <td>Crime</td>\n",
       "      <td>142</td>\n",
       "      <td>[u'Tim Robbins', u'Morgan Freeman', u'Bob Gunt...</td>\n",
       "    </tr>\n",
       "    <tr>\n",
       "      <th>The Godfather</th>\n",
       "      <td>9.2</td>\n",
       "      <td>R</td>\n",
       "      <td>Crime</td>\n",
       "      <td>175</td>\n",
       "      <td>[u'Marlon Brando', u'Al Pacino', u'James Caan']</td>\n",
       "    </tr>\n",
       "    <tr>\n",
       "      <th>The Godfather: Part II</th>\n",
       "      <td>9.1</td>\n",
       "      <td>R</td>\n",
       "      <td>Crime</td>\n",
       "      <td>200</td>\n",
       "      <td>[u'Al Pacino', u'Robert De Niro', u'Robert Duv...</td>\n",
       "    </tr>\n",
       "    <tr>\n",
       "      <th>The Dark Knight</th>\n",
       "      <td>9.0</td>\n",
       "      <td>PG-13</td>\n",
       "      <td>Action</td>\n",
       "      <td>152</td>\n",
       "      <td>[u'Christian Bale', u'Heath Ledger', u'Aaron E...</td>\n",
       "    </tr>\n",
       "    <tr>\n",
       "      <th>Pulp Fiction</th>\n",
       "      <td>8.9</td>\n",
       "      <td>R</td>\n",
       "      <td>Crime</td>\n",
       "      <td>154</td>\n",
       "      <td>[u'John Travolta', u'Uma Thurman', u'Samuel L....</td>\n",
       "    </tr>\n",
       "  </tbody>\n",
       "</table>\n",
       "</div>"
      ],
      "text/plain": [
       "                          star_rating content_rating   genre  duration  \\\n",
       "title                                                                    \n",
       "The Shawshank Redemption          9.3              R   Crime       142   \n",
       "The Godfather                     9.2              R   Crime       175   \n",
       "The Godfather: Part II            9.1              R   Crime       200   \n",
       "The Dark Knight                   9.0          PG-13  Action       152   \n",
       "Pulp Fiction                      8.9              R   Crime       154   \n",
       "\n",
       "                                                                actors_list  \n",
       "title                                                                        \n",
       "The Shawshank Redemption  [u'Tim Robbins', u'Morgan Freeman', u'Bob Gunt...  \n",
       "The Godfather               [u'Marlon Brando', u'Al Pacino', u'James Caan']  \n",
       "The Godfather: Part II    [u'Al Pacino', u'Robert De Niro', u'Robert Duv...  \n",
       "The Dark Knight           [u'Christian Bale', u'Heath Ledger', u'Aaron E...  \n",
       "Pulp Fiction              [u'John Travolta', u'Uma Thurman', u'Samuel L....  "
      ]
     },
     "execution_count": 4,
     "metadata": {},
     "output_type": "execute_result"
    }
   ],
   "source": [
    "df.head()"
   ]
  },
  {
   "cell_type": "markdown",
   "metadata": {},
   "source": [
    "Bekijk het genre per film"
   ]
  },
  {
   "cell_type": "code",
   "execution_count": 7,
   "metadata": {
    "scrolled": true
   },
   "outputs": [
    {
     "data": {
      "text/plain": [
       "title\n",
       "The Shawshank Redemption                                 Crime\n",
       "The Godfather                                            Crime\n",
       "The Godfather: Part II                                   Crime\n",
       "The Dark Knight                                         Action\n",
       "Pulp Fiction                                             Crime\n",
       "12 Angry Men                                             Drama\n",
       "The Good, the Bad and the Ugly                         Western\n",
       "The Lord of the Rings: The Return of the King        Adventure\n",
       "Schindler's List                                     Biography\n",
       "Fight Club                                               Drama\n",
       "The Lord of the Rings: The Fellowship of the Ring    Adventure\n",
       "Inception                                               Action\n",
       "Star Wars: Episode V - The Empire Strikes Back          Action\n",
       "Forrest Gump                                             Drama\n",
       "The Lord of the Rings: The Two Towers                Adventure\n",
       "Interstellar                                         Adventure\n",
       "One Flew Over the Cuckoo's Nest                          Drama\n",
       "Seven Samurai                                            Drama\n",
       "Goodfellas                                           Biography\n",
       "Star Wars                                               Action\n",
       "The Matrix                                              Action\n",
       "City of God                                              Crime\n",
       "It's a Wonderful Life                                    Drama\n",
       "The Usual Suspects                                       Crime\n",
       "Se7en                                                    Drama\n",
       "Life Is Beautiful                                       Comedy\n",
       "Once Upon a Time in the West                           Western\n",
       "The Silence of the Lambs                                 Drama\n",
       "Leon: The Professional                                   Crime\n",
       "City Lights                                             Comedy\n",
       "                                                       ...    \n",
       "Home Alone                                              Comedy\n",
       "Bound                                                    Crime\n",
       "Sleepy Hollow                                            Drama\n",
       "Pirate Radio                                            Comedy\n",
       "The NeverEnding Story                                Adventure\n",
       "X-Men                                                   Action\n",
       "Zero Dark Thirty                                         Drama\n",
       "Manhattan Murder Mystery                                Comedy\n",
       "National Lampoon's Vacation                             Comedy\n",
       "My Sister's Keeper                                       Drama\n",
       "Deconstructing Harry                                    Comedy\n",
       "The Way Way Back                                        Comedy\n",
       "Capote                                               Biography\n",
       "Driving Miss Daisy                                      Comedy\n",
       "La Femme Nikita                                         Action\n",
       "Lincoln                                              Biography\n",
       "Limitless                                              Mystery\n",
       "The Simpsons Movie                                   Animation\n",
       "The Rock                                                Action\n",
       "The English Patient                                      Drama\n",
       "Law Abiding Citizen                                      Crime\n",
       "Wonder Boys                                              Drama\n",
       "Death at a Funeral                                      Comedy\n",
       "Blue Valentine                                           Drama\n",
       "The Cider House Rules                                    Drama\n",
       "Tootsie                                                 Comedy\n",
       "Back to the Future Part III                          Adventure\n",
       "Master and Commander: The Far Side of the World         Action\n",
       "Poltergeist                                             Horror\n",
       "Wall Street                                              Crime\n",
       "Name: genre, Length: 979, dtype: object"
      ]
     },
     "execution_count": 7,
     "metadata": {},
     "output_type": "execute_result"
    }
   ],
   "source": [
    "df.loc[:,'genre']"
   ]
  },
  {
   "cell_type": "markdown",
   "metadata": {},
   "source": [
    "### Stap 3. Verschil tussen functies en methods\n",
    "\n",
    "Stel je wil weten welke genres IMDB onderscheidt. Je kan de unieke genres van het DataFrame weergeven op twee manieren:\n",
    "\n",
    "1) door de `unique()` method te gebruiken van het ingelezen `dataframe` -> `df['genre'].unique()`\n",
    "\n",
    "2) door de `pandas` functie `unique()` te gebruiken -> `pd.unique(df['genre'])`\n",
    "\n",
    "De output is hetzelfde. Het verschil is dat de 'method' alleen werkt op het `DataFrame` waarvan het een method is. De functie `pd.unique()` kan allerlei input hebben."
   ]
  },
  {
   "cell_type": "code",
   "execution_count": 8,
   "metadata": {},
   "outputs": [
    {
     "data": {
      "text/plain": [
       "array(['Crime', 'Action', 'Drama', 'Western', 'Adventure', 'Biography',\n",
       "       'Comedy', 'Animation', 'Mystery', 'Horror', 'Film-Noir', 'Sci-Fi',\n",
       "       'History', 'Thriller', 'Family', 'Fantasy'], dtype=object)"
      ]
     },
     "execution_count": 8,
     "metadata": {},
     "output_type": "execute_result"
    }
   ],
   "source": [
    "df['genre'].unique()"
   ]
  },
  {
   "cell_type": "code",
   "execution_count": 9,
   "metadata": {},
   "outputs": [
    {
     "data": {
      "text/plain": [
       "array(['Crime', 'Action', 'Drama', 'Western', 'Adventure', 'Biography',\n",
       "       'Comedy', 'Animation', 'Mystery', 'Horror', 'Film-Noir', 'Sci-Fi',\n",
       "       'History', 'Thriller', 'Family', 'Fantasy'], dtype=object)"
      ]
     },
     "execution_count": 9,
     "metadata": {},
     "output_type": "execute_result"
    }
   ],
   "source": [
    "pd.unique(df['genre'])"
   ]
  }
 ],
 "metadata": {
  "kernelspec": {
   "display_name": "Python [default]",
   "language": "python",
   "name": "python3"
  },
  "language_info": {
   "codemirror_mode": {
    "name": "ipython",
    "version": 3
   },
   "file_extension": ".py",
   "mimetype": "text/x-python",
   "name": "python",
   "nbconvert_exporter": "python",
   "pygments_lexer": "ipython3",
   "version": "3.6.3"
  }
 },
 "nbformat": 4,
 "nbformat_minor": 2
}
