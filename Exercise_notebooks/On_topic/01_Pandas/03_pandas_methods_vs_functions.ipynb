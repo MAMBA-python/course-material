{
 "cells": [
  {
   "cell_type": "markdown",
   "metadata": {},
   "source": [
    "<figure>\n",
    "   <IMG SRC=\"https://mamba-python.nl/images/logo_basis.png\" WIDTH=125 ALIGN=\"right\">\n",
    "   \n",
    "</figure>\n",
    "\n",
    "#  Methods vs functions in pandas\n",
    "\n",
    "Deze oefening is bedoeld om het veschil uit te leggen tussen `pandas` methods en functions. In de oefening wordt gebruikt gemaakt van IMDB data. "
   ]
  },
  {
   "cell_type": "markdown",
   "metadata": {},
   "source": [
    "### Stap 1. Importeer de nodige packages"
   ]
  },
  {
   "cell_type": "code",
   "execution_count": null,
   "metadata": {
    "execution": {
     "iopub.execute_input": "2020-10-22T13:31:07.831128Z",
     "iopub.status.busy": "2020-10-22T13:31:07.831128Z",
     "iopub.status.idle": "2020-10-22T13:31:08.347785Z",
     "shell.execute_reply": "2020-10-22T13:31:08.347785Z"
    }
   },
   "outputs": [],
   "source": [
    "import pandas as pd"
   ]
  },
  {
   "cell_type": "markdown",
   "metadata": {},
   "source": [
    "### Stap 2. Lees een DataFrame in"
   ]
  },
  {
   "cell_type": "code",
   "execution_count": null,
   "metadata": {
    "execution": {
     "iopub.execute_input": "2020-10-22T13:31:08.347785Z",
     "iopub.status.busy": "2020-10-22T13:31:08.347785Z",
     "iopub.status.idle": "2020-10-22T13:31:08.385545Z",
     "shell.execute_reply": "2020-10-22T13:31:08.385545Z"
    }
   },
   "outputs": [],
   "source": [
    "df = pd.read_csv(r'imdb_1000.csv', index_col=1)"
   ]
  },
  {
   "cell_type": "code",
   "execution_count": null,
   "metadata": {
    "execution": {
     "iopub.execute_input": "2020-10-22T13:31:08.401120Z",
     "iopub.status.busy": "2020-10-22T13:31:08.401120Z",
     "iopub.status.idle": "2020-10-22T13:31:08.416793Z",
     "shell.execute_reply": "2020-10-22T13:31:08.416793Z"
    }
   },
   "outputs": [],
   "source": [
    "df.head()"
   ]
  },
  {
   "cell_type": "markdown",
   "metadata": {},
   "source": [
    "Bekijk het genre per film"
   ]
  },
  {
   "cell_type": "code",
   "execution_count": null,
   "metadata": {
    "execution": {
     "iopub.execute_input": "2020-10-22T13:31:08.416793Z",
     "iopub.status.busy": "2020-10-22T13:31:08.416793Z",
     "iopub.status.idle": "2020-10-22T13:31:08.432417Z",
     "shell.execute_reply": "2020-10-22T13:31:08.432417Z"
    },
    "scrolled": true
   },
   "outputs": [],
   "source": [
    "df.loc[:,'genre']"
   ]
  },
  {
   "cell_type": "markdown",
   "metadata": {},
   "source": [
    "### Stap 3. Verschil tussen functies en methods\n",
    "\n",
    "Stel je wil weten welke genres IMDB onderscheidt. Je kan de unieke genres van het DataFrame weergeven op twee manieren:\n",
    "\n",
    "1) door de `unique()` method te gebruiken van het ingelezen `dataframe` -> `df['genre'].unique()`\n",
    "\n",
    "2) door de `pandas` functie `unique()` te gebruiken -> `pd.unique(df['genre'])`\n",
    "\n",
    "De output is hetzelfde. Het verschil is dat de 'method' alleen werkt op het `DataFrame` waarvan het een method is. De functie `pd.unique()` kan allerlei input hebben."
   ]
  },
  {
   "cell_type": "code",
   "execution_count": null,
   "metadata": {
    "execution": {
     "iopub.execute_input": "2020-10-22T13:31:08.432417Z",
     "iopub.status.busy": "2020-10-22T13:31:08.432417Z",
     "iopub.status.idle": "2020-10-22T13:31:08.448041Z",
     "shell.execute_reply": "2020-10-22T13:31:08.448041Z"
    }
   },
   "outputs": [],
   "source": [
    "df['genre'].unique()"
   ]
  },
  {
   "cell_type": "code",
   "execution_count": null,
   "metadata": {
    "execution": {
     "iopub.execute_input": "2020-10-22T13:31:08.448041Z",
     "iopub.status.busy": "2020-10-22T13:31:08.448041Z",
     "iopub.status.idle": "2020-10-22T13:31:08.463664Z",
     "shell.execute_reply": "2020-10-22T13:31:08.463664Z"
    }
   },
   "outputs": [],
   "source": [
    "pd.unique(df['genre'])"
   ]
  }
 ],
 "metadata": {
  "kernelspec": {
   "display_name": "Python [default]",
   "language": "python",
   "name": "python3"
  },
  "language_info": {
   "codemirror_mode": {
    "name": "ipython",
    "version": 3
   },
   "file_extension": ".py",
   "mimetype": "text/x-python",
   "name": "python",
   "nbconvert_exporter": "python",
   "pygments_lexer": "ipython3",
   "version": "3.8.6"
  }
 },
 "nbformat": 4,
 "nbformat_minor": 2
}
