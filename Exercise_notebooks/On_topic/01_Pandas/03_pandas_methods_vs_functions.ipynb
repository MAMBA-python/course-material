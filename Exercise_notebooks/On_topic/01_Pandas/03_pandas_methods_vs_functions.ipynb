{
 "cells": [
  {
   "cell_type": "markdown",
   "metadata": {},
   "source": [
    "<figure>\n",
    "   <IMG SRC=\"https://mamba-python.nl/images/logo_basis.png\" WIDTH=125 ALIGN=\"right\">\n",
    "   \n",
    "</figure>\n",
    "\n",
    "#  Methods vs functions in pandas\n",
    "\n",
    "Deze oefening is bedoeld om het veschil uit te leggen tussen `pandas` methods en functions. In de oefening wordt gebruikt gemaakt van IMDB data. "
   ]
  },
  {
   "cell_type": "markdown",
   "metadata": {},
   "source": [
    "### Stap 1. Importeer de nodige packages"
   ]
  },
  {
   "cell_type": "code",
   "execution_count": null,
   "metadata": {},
   "outputs": [],
   "source": [
    "import pandas as pd"
   ]
  },
  {
   "cell_type": "markdown",
   "metadata": {},
   "source": [
    "### Stap 2. Lees een DataFrame in"
   ]
  },
  {
   "cell_type": "code",
   "execution_count": null,
   "metadata": {},
   "outputs": [],
   "source": [
    "df = pd.read_csv(r'imdb_1000.csv', index_col=1)"
   ]
  },
  {
   "cell_type": "code",
   "execution_count": null,
   "metadata": {},
   "outputs": [],
   "source": [
    "df.head()"
   ]
  },
  {
   "cell_type": "markdown",
   "metadata": {},
   "source": [
    "Bekijk het genre per film"
   ]
  },
  {
   "cell_type": "code",
   "execution_count": null,
   "metadata": {},
   "outputs": [],
   "source": [
    "df.loc[:,'genre']"
   ]
  },
  {
   "cell_type": "markdown",
   "metadata": {},
   "source": [
    "### Stap 3. Verschil tussen functies en methods\n",
    "\n",
    "Stel je wil weten welke genres IMDB onderscheidt. Je kan de unieke genres van het DataFrame weergeven op twee manieren:\n",
    "\n",
    "1) door de `unique()` method te gebruiken van het ingelezen `dataframe` -> `df['genre'].unique()`\n",
    "\n",
    "2) door de `pandas` functie `unique()` te gebruiken -> `pd.unique(df['genre'])`\n",
    "\n",
    "De output is hetzelfde. Het verschil is dat de 'method' alleen werkt op het `DataFrame` waarvan het een method is. De functie `pd.unique()` kan allerlei input hebben."
   ]
  },
  {
   "cell_type": "code",
   "execution_count": null,
   "metadata": {},
   "outputs": [],
   "source": [
    "df['genre'].unique()"
   ]
  },
  {
   "cell_type": "code",
   "execution_count": null,
   "metadata": {},
   "outputs": [],
   "source": [
    "pd.unique(df['genre'])"
   ]
  }
 ],
 "metadata": {},
 "nbformat": 4,
 "nbformat_minor": 2
}
