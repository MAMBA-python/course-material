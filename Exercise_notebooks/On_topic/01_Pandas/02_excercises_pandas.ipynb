{
 "cells": [
  {
   "cell_type": "markdown",
   "metadata": {},
   "source": [
    "<figure>\n",
    "  <IMG SRC=\"https://raw.githubusercontent.com/mbakker7/exploratory_computing_with_python/master/tudelft_logo.png\" WIDTH=250 ALIGN=\"right\">\n",
    "</figure>\n",
    "\n",
    "# Exploratory Computing with Python\n",
    "*Developed by Mark Bakker*"
   ]
  },
  {
   "cell_type": "markdown",
   "metadata": {},
   "source": [
    "## Notebook 8: Basics of Pandas for data analysis\n",
    "In this Notebook we learn how to do basic data analysis with `pandas`."
   ]
  },
  {
   "cell_type": "code",
   "execution_count": 1,
   "metadata": {},
   "outputs": [],
   "source": [
    "# We will probably need these\n",
    "import numpy as np\n",
    "import matplotlib.pyplot as plt\n",
    "%matplotlib inline"
   ]
  },
  {
   "cell_type": "markdown",
   "metadata": {},
   "source": [
    "### Loading real data with Pandas\n",
    "Real data is often stored in CSV files (Comma Separated Values, although the values can be separated by other things than commas).\n",
    "So far, we have loaded csv files with the `np.loadtxt` command en `np.genfromtxt`\n",
    "The `loadtxt` function has some basic functionality and works just fine, but when we have more elaborate data sets we want more sophisticated functionality. \n",
    "The most powerful and advanced package for data handling and analysis is called `pandas`. We will use only a few functions of the `pandas` package here. Full information on `pandas` can be found on the [pandas website](http://pandas.pydata.org/).\n",
    "\n",
    "Consider the following dataset, which is stored in the file `transport.csv`. It shows the percentage of transportation kilometers by car, bus or rail for four countries. The dataset has four columns. \n",
    "\n",
    "`country, car, bus, rail`  \n",
    "`some more explanations, yada yada yada`  \n",
    "`France, 86.1, 5.3, 8.6`  \n",
    "`Germany, 85.2, 7.1, 7.7`  \n",
    "`Netherlands, 86.4, 4.6, 9`  \n",
    "`United Kingdom, 88.2, 6.5, 5.3` \n",
    "\n",
    "This data file can be loaded with the `read_csv` function of the `pandas` package. The `read_csv` function has many options. We will use three of them here. The rows that need to be skipped are defined with the `skiprows` keyword (in this case row 1 with the `yada yada` text). The `skipinitialspace` keyword is set to `True` so that the column name ' car' is loaded without the initial space that is in the data file. And the `index_col` keyword is set to indicate that the names in column 0 can be used as an index to select a row."
   ]
  },
  {
   "cell_type": "code",
   "execution_count": 2,
   "metadata": {},
   "outputs": [],
   "source": [
    "from pandas import read_csv\n",
    "tran = read_csv('transport.csv', skiprows=[1], skipinitialspace=True, index_col=0)"
   ]
  },
  {
   "cell_type": "markdown",
   "metadata": {},
   "source": [
    "`pandas` loads data into a `DataFrame`. A `DataFrame` is like an array, but has many additional features for data analysis. For starters, once you have loaded the data, you can print it to the screen"
   ]
  },
  {
   "cell_type": "code",
   "execution_count": 3,
   "metadata": {},
   "outputs": [
    {
     "name": "stdout",
     "output_type": "stream",
     "text": [
      "                 car  bus  rail\n",
      "country                        \n",
      "France          86.1  5.3   8.6\n",
      "Germany         85.2  7.1   7.7\n",
      "Netherlands     86.4  4.6   9.0\n",
      "United Kingdom  88.2  6.5   5.3\n"
     ]
    }
   ],
   "source": [
    "print(tran)"
   ]
  },
  {
   "cell_type": "markdown",
   "metadata": {},
   "source": [
    "When the DataFrame is large, you can still print it to the screen (`pandas` is smart enough not to show the entire DataFrame when it is very large), or you can simply print the first 5 lines of the DataFrame with the `.head()` function. \n",
    "\n",
    "Another nice option is that you can use the `display` function of the `IPython.display` package to display the DataFrame to the screen. You just have to import the `display` function so you can use it in the Notebook."
   ]
  },
  {
   "cell_type": "code",
   "execution_count": 4,
   "metadata": {},
   "outputs": [
    {
     "data": {
      "text/html": [
       "<div>\n",
       "<style scoped>\n",
       "    .dataframe tbody tr th:only-of-type {\n",
       "        vertical-align: middle;\n",
       "    }\n",
       "\n",
       "    .dataframe tbody tr th {\n",
       "        vertical-align: top;\n",
       "    }\n",
       "\n",
       "    .dataframe thead th {\n",
       "        text-align: right;\n",
       "    }\n",
       "</style>\n",
       "<table border=\"1\" class=\"dataframe\">\n",
       "  <thead>\n",
       "    <tr style=\"text-align: right;\">\n",
       "      <th></th>\n",
       "      <th>car</th>\n",
       "      <th>bus</th>\n",
       "      <th>rail</th>\n",
       "    </tr>\n",
       "    <tr>\n",
       "      <th>country</th>\n",
       "      <th></th>\n",
       "      <th></th>\n",
       "      <th></th>\n",
       "    </tr>\n",
       "  </thead>\n",
       "  <tbody>\n",
       "    <tr>\n",
       "      <th>France</th>\n",
       "      <td>86.1</td>\n",
       "      <td>5.3</td>\n",
       "      <td>8.6</td>\n",
       "    </tr>\n",
       "    <tr>\n",
       "      <th>Germany</th>\n",
       "      <td>85.2</td>\n",
       "      <td>7.1</td>\n",
       "      <td>7.7</td>\n",
       "    </tr>\n",
       "    <tr>\n",
       "      <th>Netherlands</th>\n",
       "      <td>86.4</td>\n",
       "      <td>4.6</td>\n",
       "      <td>9.0</td>\n",
       "    </tr>\n",
       "    <tr>\n",
       "      <th>United Kingdom</th>\n",
       "      <td>88.2</td>\n",
       "      <td>6.5</td>\n",
       "      <td>5.3</td>\n",
       "    </tr>\n",
       "  </tbody>\n",
       "</table>\n",
       "</div>"
      ],
      "text/plain": [
       "                 car  bus  rail\n",
       "country                        \n",
       "France          86.1  5.3   8.6\n",
       "Germany         85.2  7.1   7.7\n",
       "Netherlands     86.4  4.6   9.0\n",
       "United Kingdom  88.2  6.5   5.3"
      ]
     },
     "metadata": {},
     "output_type": "display_data"
    }
   ],
   "source": [
    "from IPython.display import display\n",
    "display(tran)"
   ]
  },
  {
   "cell_type": "markdown",
   "metadata": {},
   "source": [
    "### Basic DataFrame manipulation\n",
    "The rows and columns of a DataFrame may have names (as you can see for the `tran` `DataFrame` above, when we printed it to the screen. To find out which names are used for the columns, use the `keys` function, which is accessible with the dot syntax. You can loop through the names of the columns if you wish."
   ]
  },
  {
   "cell_type": "code",
   "execution_count": 5,
   "metadata": {},
   "outputs": [
    {
     "name": "stdout",
     "output_type": "stream",
     "text": [
      "Names of columns:\n",
      "Index(['car', 'bus', 'rail'], dtype='object')\n",
      "car\n",
      "bus\n",
      "rail\n"
     ]
    }
   ],
   "source": [
    "print('Names of columns:')\n",
    "print(tran.keys())\n",
    "for key in tran.keys():\n",
    "    print(key)"
   ]
  },
  {
   "cell_type": "markdown",
   "metadata": {},
   "source": [
    "Each DataFrame may be indexed just like an array, by specifying the row and column number using the `.iloc` syntax (which stands for *index location*), where column 0 is the column labeled `car` (since the column labeled as `country` was stored as an index when reading the csv file; more on that later)."
   ]
  },
  {
   "cell_type": "code",
   "execution_count": 6,
   "metadata": {},
   "outputs": [
    {
     "name": "stdout",
     "output_type": "stream",
     "text": [
      "5.3\n",
      "85.2\n",
      "9.0\n",
      "car     88.2\n",
      "bus      6.5\n",
      "rail     5.3\n",
      "Name: United Kingdom, dtype: float64\n",
      "country\n",
      "France            5.3\n",
      "Germany           7.1\n",
      "Netherlands       4.6\n",
      "United Kingdom    6.5\n",
      "Name: bus, dtype: float64\n"
     ]
    }
   ],
   "source": [
    "print(tran.iloc[0, 1])  # gives the bus data for France\n",
    "print(tran.iloc[1, 0])  # gives the car data for Germany\n",
    "print(tran.iloc[2, 2])  # gives the rail data for Netherlands\n",
    "print(tran.iloc[3])     # all data for United Kindom\n",
    "print(tran.iloc[:, 1])  # all data for bus"
   ]
  },
  {
   "cell_type": "markdown",
   "metadata": {},
   "source": [
    "Alternatively, values in a DataFrame may be selected by specifying the indices by name, using the `.loc` syntax. This is a bit more typing but *much* more explicit. The equivalent of the code cell above, but using indices by name is"
   ]
  },
  {
   "cell_type": "code",
   "execution_count": 7,
   "metadata": {},
   "outputs": [
    {
     "name": "stdout",
     "output_type": "stream",
     "text": [
      "5.3\n",
      "85.2\n",
      "9.0\n",
      "car     88.2\n",
      "bus      6.5\n",
      "rail     5.3\n",
      "Name: United Kingdom, dtype: float64\n",
      "country\n",
      "France            5.3\n",
      "Germany           7.1\n",
      "Netherlands       4.6\n",
      "United Kingdom    6.5\n",
      "Name: bus, dtype: float64\n"
     ]
    }
   ],
   "source": [
    "print(tran.loc['France', 'bus'])\n",
    "print(tran.loc['Germany', 'car'])\n",
    "print(tran.loc['Netherlands', 'rail'])\n",
    "print(tran.loc['United Kingdom'])\n",
    "print(tran.loc[:, 'bus'])"
   ]
  },
  {
   "cell_type": "markdown",
   "metadata": {},
   "source": [
    "There are two alternative ways to access all the data in a column. First, you can simply specify the column name as an index, without having to use the `.loc` syntax. Second, the dot syntax may be used, like syntax `.column_name`, where `column_name` is the name of the column. Hence, the following three are equivalent"
   ]
  },
  {
   "cell_type": "code",
   "execution_count": 8,
   "metadata": {},
   "outputs": [
    {
     "name": "stdout",
     "output_type": "stream",
     "text": [
      "country\n",
      "France            86.1\n",
      "Germany           85.2\n",
      "Netherlands       86.4\n",
      "United Kingdom    88.2\n",
      "Name: car, dtype: float64\n",
      "country\n",
      "France            86.1\n",
      "Germany           85.2\n",
      "Netherlands       86.4\n",
      "United Kingdom    88.2\n",
      "Name: car, dtype: float64\n",
      "country\n",
      "France            86.1\n",
      "Germany           85.2\n",
      "Netherlands       86.4\n",
      "United Kingdom    88.2\n",
      "Name: car, dtype: float64\n"
     ]
    }
   ],
   "source": [
    "print(tran.loc[:,'car'])  # all rows of 'car' column\n",
    "print(tran['car'])        # 'car' column \n",
    "print(tran.car)"
   ]
  },
  {
   "cell_type": "markdown",
   "metadata": {},
   "source": [
    "### `numpy` functions for DataFrames\n",
    "`DataFrame`s can be pretty much treated as arrays, especially when they contain data. Most `numpy` functions work on `DataFrame`s, but they can also be accessed with the *dot* syntax, like `dataframe_name.function()`. Simply type \n",
    "\n",
    "`tran.` \n",
    "\n",
    "in a code cell and then hit the [tab] key to see all the functions that are available (there are many). In the code cell below, we compute the maximum value of transportation by car, the country corresponding to the maximum value of transportation by car, and the mean value of all transportation by car. "
   ]
  },
  {
   "cell_type": "code",
   "execution_count": null,
   "metadata": {},
   "outputs": [],
   "source": []
  },
  {
   "cell_type": "code",
   "execution_count": 9,
   "metadata": {},
   "outputs": [
    {
     "name": "stdout",
     "output_type": "stream",
     "text": [
      "maximum car travel percentage: 88.2\n",
      "country with maximum car travel percentage: United Kingdom\n",
      "mean car travel percentage: 86.47500000000001\n",
      "all rail travel above 8 percent:\n"
     ]
    }
   ],
   "source": [
    "print('maximum car travel percentage:', tran.car.max())\n",
    "print('country with maximum car travel percentage:', tran.car.idxmax())\n",
    "print('mean car travel percentage:', tran.car.mean())\n",
    "print('all rail travel above 8 percent:')"
   ]
  },
  {
   "cell_type": "markdown",
   "metadata": {},
   "source": [
    "You can also find all values larger than a specified value, just like for arrays."
   ]
  },
  {
   "cell_type": "code",
   "execution_count": 10,
   "metadata": {},
   "outputs": [
    {
     "name": "stdout",
     "output_type": "stream",
     "text": [
      "country\n",
      "France         8.6\n",
      "Netherlands    9.0\n",
      "Name: rail, dtype: float64\n"
     ]
    }
   ],
   "source": [
    "print(tran.rail[tran.rail > 8])"
   ]
  },
  {
   "cell_type": "markdown",
   "metadata": {},
   "source": [
    "The code above identified France and Netherlands as the countries with more than 8% transport by rail, but the code returned a series with the country names and the value in the rail column. If you only want the names of the coutries, you need to ask for the values of the index column"
   ]
  },
  {
   "cell_type": "code",
   "execution_count": 11,
   "metadata": {},
   "outputs": [
    {
     "name": "stdout",
     "output_type": "stream",
     "text": [
      "['France' 'Netherlands']\n"
     ]
    }
   ],
   "source": [
    "print(tran.index[tran.rail > 8].values)"
   ]
  },
  {
   "cell_type": "markdown",
   "metadata": {},
   "source": [
    "### Exercise 1. <a name=\"back1\"></a>Average annual rainfall by country\n",
    "The file `annual_precip.csv` contains the average yearly rainfall and total land area for all the countries in the world (well, there are some missing values);  the data is available on the website of the <a href=\"http://data.worldbank.org/\">world bank</a>. Open the data file to see what it looks like (Notepad, Textedit, even Word if you have to, or use [File][Open] from the Jupyter menu). Load the data with the `read_csv` function of `pandas`, making sure that the names of the countries can be used to select a row, and perform the following tasks:\n",
    "\n",
    "* Print the first 5 lines of the DataFrame to the screen with the `.head()` function.\n",
    "* Print the average annual rainfall for Panama and make sure to include the units.\n",
    "* Report the total land area of the Netherlands and make sure to include the units.\n",
    "* Report all countries with an average annual rainfall less than 200 mm/year\n",
    "* Report all countries with an average annual rainfall more than 2500 mm/year\n",
    "* Report all countries with an average annual rainfall that is within 50 mm/year of the average annual rainfall in the Netherlands"
   ]
  },
  {
   "cell_type": "code",
   "execution_count": null,
   "metadata": {
    "collapsed": true
   },
   "outputs": [],
   "source": []
  },
  {
   "cell_type": "markdown",
   "metadata": {},
   "source": [
    "<a href=\"#ex1answer\">Answers to Exercise 1</a>"
   ]
  },
  {
   "cell_type": "markdown",
   "metadata": {},
   "source": [
    "### Adding a column to a DataFrame\n",
    "A column may be added to a DataFrame by simply specifying the name and values of the new column using the syntax `DataFrame['newcolumn']=something`. For example, let's add a column named `public_transport`, which is the sum of the `bus` and `rail` columns, and then find the country with the largest percentage of public transport"
   ]
  },
  {
   "cell_type": "code",
   "execution_count": 12,
   "metadata": {},
   "outputs": [
    {
     "name": "stdout",
     "output_type": "stream",
     "text": [
      "Country with largest percentage public transport: Germany\n"
     ]
    },
    {
     "name": "stderr",
     "output_type": "stream",
     "text": [
      "C:\\Anaconda3\\lib\\site-packages\\ipykernel_launcher.py:2: FutureWarning: \n",
      "The current behaviour of 'Series.argmax' is deprecated, use 'idxmax'\n",
      "instead.\n",
      "The behavior of 'argmax' will be corrected to return the positional\n",
      "maximum in the future. For now, use 'series.values.argmax' or\n",
      "'np.argmax(np.array(values))' to get the position of the maximum\n",
      "row.\n",
      "  \n"
     ]
    }
   ],
   "source": [
    "tran['public_transport'] = tran.bus + tran.rail\n",
    "print('Country with largest percentage public transport:', tran.public_transport.argmax())"
   ]
  },
  {
   "cell_type": "markdown",
   "metadata": {},
   "source": [
    "### Plotting DataFrames\n",
    "You can plot the column or row of a DataFrame with `matplotlib` functions, as we have done in previous Notebooks, but `pandas` has also implemented its own, much more convenient, plotting functions (still based on `matplotlib` in the background, of course). The plotting capabilities of `pandas` also use the *dot* syntax, like `dataframe.plot()`. All columns can be plotted simultaneously (note that the names appear on the axes and the legend is added automatically!)."
   ]
  },
  {
   "cell_type": "code",
   "execution_count": 13,
   "metadata": {},
   "outputs": [
    {
     "data": {
      "image/png": "[encoded data removed]",
      "text/plain": [
       "<Figure size 432x288 with 1 Axes>"
      ]
     },
     "metadata": {
      "needs_background": "light"
     },
     "output_type": "display_data"
    }
   ],
   "source": [
    "tran.plot();  # plot all columns"
   ]
  },
  {
   "cell_type": "markdown",
   "metadata": {},
   "source": [
    "You can also plot one column at a time. The style of the plot may be specified with the `kind` keyword (the default is `'line'`). Check out `tran.plot?` for more options. "
   ]
  },
  {
   "cell_type": "code",
   "execution_count": 14,
   "metadata": {},
   "outputs": [
    {
     "data": {
      "image/png": "[encoded data removed]",
      "text/plain": [
       "<Figure size 432x288 with 1 Axes>"
      ]
     },
     "metadata": {
      "needs_background": "light"
     },
     "output_type": "display_data"
    }
   ],
   "source": [
    "tran['bus'].plot(kind='bar');"
   ]
  },
  {
   "cell_type": "markdown",
   "metadata": {},
   "source": [
    "### Sorting DataFrames\n",
    "DataFrames may be sorted with the `.sort_values` function. The keyword `inplace=True` replaces the values in the DataFrame with the new sorted values (when `inplace=False` a new DataFrame is returned, which you can store in a separate variable so that you have two datasets, one sorted and one unsorted). The `sort_values` funcion has several keyword arguments, including `by` which is either the name of one column to sort by or a list of columns so that data is sorted by the first specified column and when values are equal they are sorted by the next column in the list. Another keyword is `ascending`, which you can use to specify whether to sort in ascending order (`ascending=True`, which is the default), or descending order (`ascending=False`)"
   ]
  },
  {
   "cell_type": "code",
   "execution_count": 15,
   "metadata": {},
   "outputs": [
    {
     "name": "stdout",
     "output_type": "stream",
     "text": [
      "Data sorted by car use:\n"
     ]
    },
    {
     "data": {
      "text/html": [
       "<div>\n",
       "<style scoped>\n",
       "    .dataframe tbody tr th:only-of-type {\n",
       "        vertical-align: middle;\n",
       "    }\n",
       "\n",
       "    .dataframe tbody tr th {\n",
       "        vertical-align: top;\n",
       "    }\n",
       "\n",
       "    .dataframe thead th {\n",
       "        text-align: right;\n",
       "    }\n",
       "</style>\n",
       "<table border=\"1\" class=\"dataframe\">\n",
       "  <thead>\n",
       "    <tr style=\"text-align: right;\">\n",
       "      <th></th>\n",
       "      <th>car</th>\n",
       "      <th>bus</th>\n",
       "      <th>rail</th>\n",
       "      <th>public_transport</th>\n",
       "    </tr>\n",
       "    <tr>\n",
       "      <th>country</th>\n",
       "      <th></th>\n",
       "      <th></th>\n",
       "      <th></th>\n",
       "      <th></th>\n",
       "    </tr>\n",
       "  </thead>\n",
       "  <tbody>\n",
       "    <tr>\n",
       "      <th>Germany</th>\n",
       "      <td>85.2</td>\n",
       "      <td>7.1</td>\n",
       "      <td>7.7</td>\n",
       "      <td>14.8</td>\n",
       "    </tr>\n",
       "    <tr>\n",
       "      <th>France</th>\n",
       "      <td>86.1</td>\n",
       "      <td>5.3</td>\n",
       "      <td>8.6</td>\n",
       "      <td>13.9</td>\n",
       "    </tr>\n",
       "    <tr>\n",
       "      <th>Netherlands</th>\n",
       "      <td>86.4</td>\n",
       "      <td>4.6</td>\n",
       "      <td>9.0</td>\n",
       "      <td>13.6</td>\n",
       "    </tr>\n",
       "    <tr>\n",
       "      <th>United Kingdom</th>\n",
       "      <td>88.2</td>\n",
       "      <td>6.5</td>\n",
       "      <td>5.3</td>\n",
       "      <td>11.8</td>\n",
       "    </tr>\n",
       "  </tbody>\n",
       "</table>\n",
       "</div>"
      ],
      "text/plain": [
       "                 car  bus  rail  public_transport\n",
       "country                                          \n",
       "Germany         85.2  7.1   7.7              14.8\n",
       "France          86.1  5.3   8.6              13.9\n",
       "Netherlands     86.4  4.6   9.0              13.6\n",
       "United Kingdom  88.2  6.5   5.3              11.8"
      ]
     },
     "metadata": {},
     "output_type": "display_data"
    },
    {
     "name": "stdout",
     "output_type": "stream",
     "text": [
      "Data sorted by bus use:\n"
     ]
    },
    {
     "data": {
      "text/html": [
       "<div>\n",
       "<style scoped>\n",
       "    .dataframe tbody tr th:only-of-type {\n",
       "        vertical-align: middle;\n",
       "    }\n",
       "\n",
       "    .dataframe tbody tr th {\n",
       "        vertical-align: top;\n",
       "    }\n",
       "\n",
       "    .dataframe thead th {\n",
       "        text-align: right;\n",
       "    }\n",
       "</style>\n",
       "<table border=\"1\" class=\"dataframe\">\n",
       "  <thead>\n",
       "    <tr style=\"text-align: right;\">\n",
       "      <th></th>\n",
       "      <th>car</th>\n",
       "      <th>bus</th>\n",
       "      <th>rail</th>\n",
       "      <th>public_transport</th>\n",
       "    </tr>\n",
       "    <tr>\n",
       "      <th>country</th>\n",
       "      <th></th>\n",
       "      <th></th>\n",
       "      <th></th>\n",
       "      <th></th>\n",
       "    </tr>\n",
       "  </thead>\n",
       "  <tbody>\n",
       "    <tr>\n",
       "      <th>Netherlands</th>\n",
       "      <td>86.4</td>\n",
       "      <td>4.6</td>\n",
       "      <td>9.0</td>\n",
       "      <td>13.6</td>\n",
       "    </tr>\n",
       "    <tr>\n",
       "      <th>France</th>\n",
       "      <td>86.1</td>\n",
       "      <td>5.3</td>\n",
       "      <td>8.6</td>\n",
       "      <td>13.9</td>\n",
       "    </tr>\n",
       "    <tr>\n",
       "      <th>United Kingdom</th>\n",
       "      <td>88.2</td>\n",
       "      <td>6.5</td>\n",
       "      <td>5.3</td>\n",
       "      <td>11.8</td>\n",
       "    </tr>\n",
       "    <tr>\n",
       "      <th>Germany</th>\n",
       "      <td>85.2</td>\n",
       "      <td>7.1</td>\n",
       "      <td>7.7</td>\n",
       "      <td>14.8</td>\n",
       "    </tr>\n",
       "  </tbody>\n",
       "</table>\n",
       "</div>"
      ],
      "text/plain": [
       "                 car  bus  rail  public_transport\n",
       "country                                          \n",
       "Netherlands     86.4  4.6   9.0              13.6\n",
       "France          86.1  5.3   8.6              13.9\n",
       "United Kingdom  88.2  6.5   5.3              11.8\n",
       "Germany         85.2  7.1   7.7              14.8"
      ]
     },
     "metadata": {},
     "output_type": "display_data"
    }
   ],
   "source": [
    "print('Data sorted by car use:')\n",
    "display(tran.sort_values(by='car'))\n",
    "print('Data sorted by bus use:')\n",
    "display(tran.sort_values(by='bus'))"
   ]
  },
  {
   "cell_type": "markdown",
   "metadata": {},
   "source": [
    "### Renaming columns\n",
    "Sometimes (quite often, really), the names of columns in a dataset are not very convenient (long, including spaces, etc.). For the example of the transportation data, the columns have convenient names, but let's change them for demonstration purposes. You can rename columns inplace, and you can change as many columns as you want. The old and new names are specified with a Python dictionary. A dictionary is a very useful data type. It is specified between braces `{}`, and links a word in the dictionary to a value. The value can be anything. You can then use the word in the dictionary as the index, just like you would look up a word in an paper dictionary."
   ]
  },
  {
   "cell_type": "code",
   "execution_count": 16,
   "metadata": {},
   "outputs": [
    {
     "name": "stdout",
     "output_type": "stream",
     "text": [
      "20\n",
      "Delft\n"
     ]
    }
   ],
   "source": [
    "firstdictionary = {'goals': 20, 'city': 'Delft'}\n",
    "print(firstdictionary['goals'])\n",
    "print(firstdictionary['city'])"
   ]
  },
  {
   "cell_type": "markdown",
   "metadata": {},
   "source": [
    "Much more on Python dictionaries can be found, for example, [here](http://learnpythonthehardway.org/book/ex39.html). Let's continue with renaming two of the columns of the `tran` DataFrame:"
   ]
  },
  {
   "cell_type": "code",
   "execution_count": 17,
   "metadata": {},
   "outputs": [
    {
     "data": {
      "text/html": [
       "<div>\n",
       "<style scoped>\n",
       "    .dataframe tbody tr th:only-of-type {\n",
       "        vertical-align: middle;\n",
       "    }\n",
       "\n",
       "    .dataframe tbody tr th {\n",
       "        vertical-align: top;\n",
       "    }\n",
       "\n",
       "    .dataframe thead th {\n",
       "        text-align: right;\n",
       "    }\n",
       "</style>\n",
       "<table border=\"1\" class=\"dataframe\">\n",
       "  <thead>\n",
       "    <tr style=\"text-align: right;\">\n",
       "      <th></th>\n",
       "      <th>car</th>\n",
       "      <th>BUS</th>\n",
       "      <th>train</th>\n",
       "      <th>public_transport</th>\n",
       "    </tr>\n",
       "    <tr>\n",
       "      <th>country</th>\n",
       "      <th></th>\n",
       "      <th></th>\n",
       "      <th></th>\n",
       "      <th></th>\n",
       "    </tr>\n",
       "  </thead>\n",
       "  <tbody>\n",
       "    <tr>\n",
       "      <th>France</th>\n",
       "      <td>86.1</td>\n",
       "      <td>5.3</td>\n",
       "      <td>8.6</td>\n",
       "      <td>13.9</td>\n",
       "    </tr>\n",
       "    <tr>\n",
       "      <th>Germany</th>\n",
       "      <td>85.2</td>\n",
       "      <td>7.1</td>\n",
       "      <td>7.7</td>\n",
       "      <td>14.8</td>\n",
       "    </tr>\n",
       "    <tr>\n",
       "      <th>Netherlands</th>\n",
       "      <td>86.4</td>\n",
       "      <td>4.6</td>\n",
       "      <td>9.0</td>\n",
       "      <td>13.6</td>\n",
       "    </tr>\n",
       "    <tr>\n",
       "      <th>United Kingdom</th>\n",
       "      <td>88.2</td>\n",
       "      <td>6.5</td>\n",
       "      <td>5.3</td>\n",
       "      <td>11.8</td>\n",
       "    </tr>\n",
       "  </tbody>\n",
       "</table>\n",
       "</div>"
      ],
      "text/plain": [
       "                 car  BUS  train  public_transport\n",
       "country                                           \n",
       "France          86.1  5.3    8.6              13.9\n",
       "Germany         85.2  7.1    7.7              14.8\n",
       "Netherlands     86.4  4.6    9.0              13.6\n",
       "United Kingdom  88.2  6.5    5.3              11.8"
      ]
     },
     "metadata": {},
     "output_type": "display_data"
    }
   ],
   "source": [
    "tran.rename(columns={'bus': 'BUS', \n",
    "                     'rail': 'train'}, inplace=True)\n",
    "display(tran)"
   ]
  },
  {
   "cell_type": "markdown",
   "metadata": {},
   "source": [
    "The index column, with the countries, is now called `'country'`, but we can rename that too, for example to `'somewhere in Europe'`, with the following syntax"
   ]
  },
  {
   "cell_type": "code",
   "execution_count": 18,
   "metadata": {},
   "outputs": [
    {
     "data": {
      "text/html": [
       "<div>\n",
       "<style scoped>\n",
       "    .dataframe tbody tr th:only-of-type {\n",
       "        vertical-align: middle;\n",
       "    }\n",
       "\n",
       "    .dataframe tbody tr th {\n",
       "        vertical-align: top;\n",
       "    }\n",
       "\n",
       "    .dataframe thead th {\n",
       "        text-align: right;\n",
       "    }\n",
       "</style>\n",
       "<table border=\"1\" class=\"dataframe\">\n",
       "  <thead>\n",
       "    <tr style=\"text-align: right;\">\n",
       "      <th></th>\n",
       "      <th>car</th>\n",
       "      <th>BUS</th>\n",
       "      <th>train</th>\n",
       "      <th>public_transport</th>\n",
       "    </tr>\n",
       "    <tr>\n",
       "      <th>somewhere in Europe</th>\n",
       "      <th></th>\n",
       "      <th></th>\n",
       "      <th></th>\n",
       "      <th></th>\n",
       "    </tr>\n",
       "  </thead>\n",
       "  <tbody>\n",
       "    <tr>\n",
       "      <th>France</th>\n",
       "      <td>86.1</td>\n",
       "      <td>5.3</td>\n",
       "      <td>8.6</td>\n",
       "      <td>13.9</td>\n",
       "    </tr>\n",
       "    <tr>\n",
       "      <th>Germany</th>\n",
       "      <td>85.2</td>\n",
       "      <td>7.1</td>\n",
       "      <td>7.7</td>\n",
       "      <td>14.8</td>\n",
       "    </tr>\n",
       "    <tr>\n",
       "      <th>Netherlands</th>\n",
       "      <td>86.4</td>\n",
       "      <td>4.6</td>\n",
       "      <td>9.0</td>\n",
       "      <td>13.6</td>\n",
       "    </tr>\n",
       "    <tr>\n",
       "      <th>United Kingdom</th>\n",
       "      <td>88.2</td>\n",
       "      <td>6.5</td>\n",
       "      <td>5.3</td>\n",
       "      <td>11.8</td>\n",
       "    </tr>\n",
       "  </tbody>\n",
       "</table>\n",
       "</div>"
      ],
      "text/plain": [
       "                      car  BUS  train  public_transport\n",
       "somewhere in Europe                                    \n",
       "France               86.1  5.3    8.6              13.9\n",
       "Germany              85.2  7.1    7.7              14.8\n",
       "Netherlands          86.4  4.6    9.0              13.6\n",
       "United Kingdom       88.2  6.5    5.3              11.8"
      ]
     },
     "metadata": {},
     "output_type": "display_data"
    }
   ],
   "source": [
    "tran.index.names = ['somewhere in Europe']\n",
    "display(tran)"
   ]
  },
  {
   "cell_type": "markdown",
   "metadata": {},
   "source": [
    "### Exercise 2. <a name=\"back2\"></a>Average annual rainfall by country continued\n",
    "Continue with the average yearly rainfall and total land area for all the countries in the world and perform the following tasks:\n",
    "\n",
    "* Add a new column that stores the total average annual freshwater influx in km$^3$/year for each country. Make sure you convert your units correctly. \n",
    "* Sort the data on the total average annual freshwater influx in ascending order and report the 5 countries with the largest annual freshwater influx using the `iloc` syntax. \n",
    "* Make a bar graph of the 10 countries with the largest annual freshwater influx."
   ]
  },
  {
   "cell_type": "code",
   "execution_count": null,
   "metadata": {
    "collapsed": true
   },
   "outputs": [],
   "source": []
  },
  {
   "cell_type": "markdown",
   "metadata": {},
   "source": [
    "<a href=\"#ex2answer\">Answers to Exercise 2</a>"
   ]
  },
  {
   "cell_type": "markdown",
   "metadata": {},
   "source": [
    "### Time series data\n",
    "In time series data, one of the columns represents dates, sometimes including times, together referred to as datetimes. `pandas` can be used to read csv files where one of the columns includes datetime data. You need to tell `pandas` which column contains datetime values and `pandas` will try to convert that column to datetime objects. Datetime objects are very convenient as specifics of the datetime object may be assessed with the dot syntax: `.year` returns the year, `.month` returns the month, etc.\n",
    "\n",
    "For example, consider the following data stored in the file `timeseries1.dat`\n",
    "\n",
    "`date, conc`  \n",
    "`2014-04-01, 0.19`   \n",
    "`2014-04-02, 0.23`   \n",
    "`2014-04-03, 0.32`   \n",
    "`2014-04-04, 0.29`   \n",
    "\n",
    "The file may be read with `read_csv` using the keyword `parse_dates=[0]` so that column number 0 is converted to datetimes"
   ]
  },
  {
   "cell_type": "code",
   "execution_count": 19,
   "metadata": {},
   "outputs": [
    {
     "data": {
      "text/html": [
       "<div>\n",
       "<style scoped>\n",
       "    .dataframe tbody tr th:only-of-type {\n",
       "        vertical-align: middle;\n",
       "    }\n",
       "\n",
       "    .dataframe tbody tr th {\n",
       "        vertical-align: top;\n",
       "    }\n",
       "\n",
       "    .dataframe thead th {\n",
       "        text-align: right;\n",
       "    }\n",
       "</style>\n",
       "<table border=\"1\" class=\"dataframe\">\n",
       "  <thead>\n",
       "    <tr style=\"text-align: right;\">\n",
       "      <th></th>\n",
       "      <th>date</th>\n",
       "      <th>conc</th>\n",
       "    </tr>\n",
       "  </thead>\n",
       "  <tbody>\n",
       "    <tr>\n",
       "      <th>0</th>\n",
       "      <td>2014-04-01</td>\n",
       "      <td>0.19</td>\n",
       "    </tr>\n",
       "    <tr>\n",
       "      <th>1</th>\n",
       "      <td>2014-04-02</td>\n",
       "      <td>0.23</td>\n",
       "    </tr>\n",
       "    <tr>\n",
       "      <th>2</th>\n",
       "      <td>2014-04-03</td>\n",
       "      <td>0.32</td>\n",
       "    </tr>\n",
       "    <tr>\n",
       "      <th>3</th>\n",
       "      <td>2014-04-04</td>\n",
       "      <td>0.29</td>\n",
       "    </tr>\n",
       "    <tr>\n",
       "      <th>4</th>\n",
       "      <td>2014-04-05</td>\n",
       "      <td>0.32</td>\n",
       "    </tr>\n",
       "  </tbody>\n",
       "</table>\n",
       "</div>"
      ],
      "text/plain": [
       "        date  conc\n",
       "0 2014-04-01  0.19\n",
       "1 2014-04-02  0.23\n",
       "2 2014-04-03  0.32\n",
       "3 2014-04-04  0.29\n",
       "4 2014-04-05  0.32"
      ]
     },
     "metadata": {},
     "output_type": "display_data"
    }
   ],
   "source": [
    "data = read_csv('timeseries1.dat', parse_dates=[0], skipinitialspace=True)\n",
    "display(data)"
   ]
  },
  {
   "cell_type": "markdown",
   "metadata": {},
   "source": [
    "The rows of the DataFrame `data` are numbered, as we have not told `pandas` what column to use as the index of the rows. The first column of the DataFrame `data` has datetime values. We can access, for example, the year, month, or day with the dot syntax"
   ]
  },
  {
   "cell_type": "code",
   "execution_count": 20,
   "metadata": {},
   "outputs": [
    {
     "name": "stdout",
     "output_type": "stream",
     "text": [
      "datetime of row 0: 2014-04-01 00:00:00\n",
      "year  of row 0: 2014\n",
      "month of row 0: 4\n",
      "day   of row 0: 1\n"
     ]
    }
   ],
   "source": [
    "print('datetime of row 0:', data.iloc[0, 0])\n",
    "print('year  of row 0:', data.iloc[0, 0].year)\n",
    "print('month of row 0:', data.iloc[0, 0].month)\n",
    "print('day   of row 0:', data.iloc[0, 0].day)"
   ]
  },
  {
   "cell_type": "markdown",
   "metadata": {},
   "source": [
    "Time series data may also contain the time in addition to the date. For example, the data of the file `timeseries2.dat`, shown below, contains the day and time. You can access the `hour` or `minutes`, but also the time of a row of the DataFrame with the `.time()` function.\n",
    "\n",
    "`date, conc`   \n",
    "`2014-04-01 12:00:00, 0.19`   \n",
    "`2014-04-01 13:00:00, 0.20`  \n",
    "`2014-04-01 14:00:00, 0.23`  \n",
    "`2014-04-01 15:00:00, 0.21` "
   ]
  },
  {
   "cell_type": "code",
   "execution_count": 21,
   "metadata": {},
   "outputs": [
    {
     "data": {
      "text/html": [
       "<div>\n",
       "<style scoped>\n",
       "    .dataframe tbody tr th:only-of-type {\n",
       "        vertical-align: middle;\n",
       "    }\n",
       "\n",
       "    .dataframe tbody tr th {\n",
       "        vertical-align: top;\n",
       "    }\n",
       "\n",
       "    .dataframe thead th {\n",
       "        text-align: right;\n",
       "    }\n",
       "</style>\n",
       "<table border=\"1\" class=\"dataframe\">\n",
       "  <thead>\n",
       "    <tr style=\"text-align: right;\">\n",
       "      <th></th>\n",
       "      <th>date</th>\n",
       "      <th>conc</th>\n",
       "    </tr>\n",
       "  </thead>\n",
       "  <tbody>\n",
       "    <tr>\n",
       "      <th>0</th>\n",
       "      <td>2014-04-01 12:00:00</td>\n",
       "      <td>0.19</td>\n",
       "    </tr>\n",
       "    <tr>\n",
       "      <th>1</th>\n",
       "      <td>2014-04-01 13:00:00</td>\n",
       "      <td>0.20</td>\n",
       "    </tr>\n",
       "    <tr>\n",
       "      <th>2</th>\n",
       "      <td>2014-04-01 14:00:00</td>\n",
       "      <td>0.23</td>\n",
       "    </tr>\n",
       "    <tr>\n",
       "      <th>3</th>\n",
       "      <td>2014-04-01 15:00:00</td>\n",
       "      <td>0.21</td>\n",
       "    </tr>\n",
       "  </tbody>\n",
       "</table>\n",
       "</div>"
      ],
      "text/plain": [
       "                 date  conc\n",
       "0 2014-04-01 12:00:00  0.19\n",
       "1 2014-04-01 13:00:00  0.20\n",
       "2 2014-04-01 14:00:00  0.23\n",
       "3 2014-04-01 15:00:00  0.21"
      ]
     },
     "metadata": {},
     "output_type": "display_data"
    },
    {
     "name": "stdout",
     "output_type": "stream",
     "text": [
      "hour  of row 0: 12\n",
      "minute  of row 0: 0\n",
      "time of row 0: 12:00:00\n"
     ]
    }
   ],
   "source": [
    "data = read_csv('timeseries2.dat', parse_dates=[0], skipinitialspace=True)\n",
    "display(data)\n",
    "print('hour  of row 0:', data.iloc[0, 0].hour)\n",
    "print('minute  of row 0:', data.iloc[0, 0].minute)\n",
    "print('time of row 0:', data.iloc[0, 0].time())"
   ]
  },
  {
   "cell_type": "markdown",
   "metadata": {},
   "source": [
    "### Setting values based on a condition\n",
    "Values of a column may be changed based on a condition. For example, all values of the concentration above 0.2 may be set to 0.2 with the following syntax"
   ]
  },
  {
   "cell_type": "code",
   "execution_count": 22,
   "metadata": {},
   "outputs": [
    {
     "data": {
      "text/html": [
       "<div>\n",
       "<style scoped>\n",
       "    .dataframe tbody tr th:only-of-type {\n",
       "        vertical-align: middle;\n",
       "    }\n",
       "\n",
       "    .dataframe tbody tr th {\n",
       "        vertical-align: top;\n",
       "    }\n",
       "\n",
       "    .dataframe thead th {\n",
       "        text-align: right;\n",
       "    }\n",
       "</style>\n",
       "<table border=\"1\" class=\"dataframe\">\n",
       "  <thead>\n",
       "    <tr style=\"text-align: right;\">\n",
       "      <th></th>\n",
       "      <th>date</th>\n",
       "      <th>conc</th>\n",
       "    </tr>\n",
       "  </thead>\n",
       "  <tbody>\n",
       "    <tr>\n",
       "      <th>0</th>\n",
       "      <td>2014-04-01 12:00:00</td>\n",
       "      <td>0.19</td>\n",
       "    </tr>\n",
       "    <tr>\n",
       "      <th>1</th>\n",
       "      <td>2014-04-01 13:00:00</td>\n",
       "      <td>0.20</td>\n",
       "    </tr>\n",
       "    <tr>\n",
       "      <th>2</th>\n",
       "      <td>2014-04-01 14:00:00</td>\n",
       "      <td>0.20</td>\n",
       "    </tr>\n",
       "    <tr>\n",
       "      <th>3</th>\n",
       "      <td>2014-04-01 15:00:00</td>\n",
       "      <td>0.20</td>\n",
       "    </tr>\n",
       "  </tbody>\n",
       "</table>\n",
       "</div>"
      ],
      "text/plain": [
       "                 date  conc\n",
       "0 2014-04-01 12:00:00  0.19\n",
       "1 2014-04-01 13:00:00  0.20\n",
       "2 2014-04-01 14:00:00  0.20\n",
       "3 2014-04-01 15:00:00  0.20"
      ]
     },
     "metadata": {},
     "output_type": "display_data"
    }
   ],
   "source": [
    "data.loc[data.conc > 0.2, 'conc'] = 0.2\n",
    "display(data)"
   ]
  },
  {
   "cell_type": "markdown",
   "metadata": {},
   "source": [
    "### Exercise 3,  <a name=\"back3\"></a>Load and plot daily rainfall\n",
    "Rainfall data for the Netherlands may be obtained from the website of the Royal Dutch Meteorological Society <A href=\"http://www.knmi.nl/climatology/daily_data/selection.cgi\">KNMI</A> . Daily rainfall for the weather station Rotterdam in 2012 is stored in the file `rotterdam_rainfall_2012.txt`. First open the file in a text editor to see what the file looks like. At the top of the file, an explanation is given of the data in the file. Read this. Load the data file with the `read_csv` function of `pandas`. Use the keyword `skiprows` to skip all rows except for the row with the names of the columns. Use the keyword `parse_dates` to give either the name or number of the column that needs to be converted to a datetime. Don't forget the `skipinitialspace` keyword, else the names of the columns may start with a bunch of spaces. Perform the following tasks:\n",
    "* Convert the rainfall data to mm/d.\n",
    "* Some rainfall values in the dataset may be -1 (read the header of the file to learn why); set all rainfall values that are less than zero to zero. \n",
    "* Use the `plot` function of `pandas` to create a line plot of the daily rainfall with the number of the day (so not the date) along the horizontal axis. \n",
    "* Use `matplotlib` functions to add labels to the axes and set the limits along the horizontal axis from 0 to 365. \n",
    "* Determine the maximum daily rainfall and the date of the maximum daily rainfall and print them to the screen."
   ]
  },
  {
   "cell_type": "code",
   "execution_count": null,
   "metadata": {
    "collapsed": true
   },
   "outputs": [],
   "source": []
  },
  {
   "cell_type": "markdown",
   "metadata": {},
   "source": [
    "<a href=\"#ex3answer\">Answers to Exercise 3</a>"
   ]
  },
  {
   "cell_type": "markdown",
   "metadata": {},
   "source": [
    "### Exercise 4,  <a name=\"back4\"></a>Compute monthly rainfall from daily rainfall\n",
    "In this exercise we are going to compute the total monthly rainfall for 2012 in the City of Rotterdam using the daily rainfall measurements we loaded in the previous Exercise. Later on in this Notebook we learn convenient functions from `pandas` to do this, but here we are going to do this with a loop. Create an array of 12 zeros to store the monthly totals and loop through all the days in 2012 to compute the total rainfall for each month. The month associated with each row of the DataFrame may be obtained with the `.month` syntax, as shown above. Print the monthly totals (in mm/month) to the screen and create a bar graph of the total monthly rainfall (in mm/month) vs. the month using the `plt.bar` function of matplotlib. "
   ]
  },
  {
   "cell_type": "code",
   "execution_count": null,
   "metadata": {
    "collapsed": true
   },
   "outputs": [],
   "source": []
  },
  {
   "cell_type": "markdown",
   "metadata": {},
   "source": [
    "<a href=\"#ex4answer\">Answers to Exercise 4</a>"
   ]
  },
  {
   "cell_type": "markdown",
   "metadata": {},
   "source": [
    "### Date times as index\n",
    "The datetime of a dataset may also be used as the index of a DataFrame by specifying the column with the dates as the column to use for an index with the `index_col` keyword.  Note that datetimes are given as year-month-day, so `2012-04-01` means April 1, 2012."
   ]
  },
  {
   "cell_type": "code",
   "execution_count": 23,
   "metadata": {},
   "outputs": [
    {
     "data": {
      "text/html": [
       "<div>\n",
       "<style scoped>\n",
       "    .dataframe tbody tr th:only-of-type {\n",
       "        vertical-align: middle;\n",
       "    }\n",
       "\n",
       "    .dataframe tbody tr th {\n",
       "        vertical-align: top;\n",
       "    }\n",
       "\n",
       "    .dataframe thead th {\n",
       "        text-align: right;\n",
       "    }\n",
       "</style>\n",
       "<table border=\"1\" class=\"dataframe\">\n",
       "  <thead>\n",
       "    <tr style=\"text-align: right;\">\n",
       "      <th></th>\n",
       "      <th>conc</th>\n",
       "    </tr>\n",
       "    <tr>\n",
       "      <th>date</th>\n",
       "      <th></th>\n",
       "    </tr>\n",
       "  </thead>\n",
       "  <tbody>\n",
       "    <tr>\n",
       "      <th>2014-04-01</th>\n",
       "      <td>0.19</td>\n",
       "    </tr>\n",
       "    <tr>\n",
       "      <th>2014-04-02</th>\n",
       "      <td>0.23</td>\n",
       "    </tr>\n",
       "    <tr>\n",
       "      <th>2014-04-03</th>\n",
       "      <td>0.32</td>\n",
       "    </tr>\n",
       "    <tr>\n",
       "      <th>2014-04-04</th>\n",
       "      <td>0.29</td>\n",
       "    </tr>\n",
       "    <tr>\n",
       "      <th>2014-04-05</th>\n",
       "      <td>0.32</td>\n",
       "    </tr>\n",
       "  </tbody>\n",
       "</table>\n",
       "</div>"
      ],
      "text/plain": [
       "             conc\n",
       "date             \n",
       "2014-04-01   0.19\n",
       "2014-04-02   0.23\n",
       "2014-04-03   0.32\n",
       "2014-04-04   0.29\n",
       "2014-04-05   0.32"
      ]
     },
     "metadata": {},
     "output_type": "display_data"
    },
    {
     "name": "stdout",
     "output_type": "stream",
     "text": [
      "data on April 1:  conc    0.19\n",
      "Name: 2014-04-01 00:00:00, dtype: float64\n",
      "data on April 2:  conc    0.23\n",
      "Name: 2014-04-02 00:00:00, dtype: float64\n"
     ]
    }
   ],
   "source": [
    "data = read_csv('timeseries1.dat', parse_dates=[0], index_col=0)\n",
    "display(data)\n",
    "print('data on April 1:', data.loc['2014-04-01'])\n",
    "print('data on April 2:', data.loc['2014-04-02'])"
   ]
  },
  {
   "cell_type": "markdown",
   "metadata": {},
   "source": [
    "### Resampling\n",
    "DataFrames have a very powerful feature called resampling. Downsampling refers to going from high frequency to low frequency. For example, going from daily data to monthly data. Upsampling refers to going from low frequency to high frequency. For example going from monthly data to daily data. For both upsampling and downsampling, you need to tell `pandas` how to perform the resampling. Here we discuss downsampling, where we compute monthly totals from daily values. First we load the daily rainfall in Rotterdam in 2012 from the file `rotterdam_rainfall_2012.txt` and specify the dates as the index (this is the column labeled as `YYYYMMDD`). We resample the rain to monthly totals using the `resample` function. You have to tell the `resample` function to what frequency it needs to resample. Common ones are `'A'` for yearly, `'M'` for monthly, `'W'` for weekly, `'D'` for daily, and `'H'` for hourly, but there are many other ones (see  [here](http://pandas.pydata.org/pandas-docs/version/0.12.0/timeseries.html)). The keyword argument `kind` is used to tell `pandas` where to assign the computed value to. You can assign the computed value to the last day of the period, or the first day, or to the entire period (in this case the entire month). The latter is done by specifying `kind='period'`, which is what we will do here.  Finally, you need to specify how to resample. This is done by adding a `numpy` function at the end of the resample statement, like\n",
    "\n",
    "    dataframe.resample(...).npfunc()\n",
    "    \n",
    "where `npfunc` can be any `numpy` function like `mean` for the mean (that is the default), `sum` for the total, `min`, `max`, etc. Calculating the monthly totals and making a bar graph can now be done with `pandas` as follows. "
   ]
  },
  {
   "cell_type": "code",
   "execution_count": 24,
   "metadata": {},
   "outputs": [
    {
     "data": {
      "text/plain": [
       "YYYYMMDD\n",
       "2012-01     83.0\n",
       "2012-02     24.3\n",
       "2012-03     21.9\n",
       "2012-04     57.6\n",
       "2012-05     76.5\n",
       "2012-06    119.0\n",
       "2012-07    121.6\n",
       "2012-08     93.4\n",
       "2012-09     52.0\n",
       "2012-10    132.6\n",
       "2012-11     63.3\n",
       "2012-12    149.5\n",
       "Freq: M, Name: RH, dtype: float64"
      ]
     },
     "metadata": {},
     "output_type": "display_data"
    },
    {
     "data": {
      "image/png": "[encoded data removed]",
      "text/plain": [
       "<Figure size 432x288 with 1 Axes>"
      ]
     },
     "metadata": {
      "needs_background": "light"
     },
     "output_type": "display_data"
    }
   ],
   "source": [
    "rain = read_csv('rotterdam_rainfall_2012.txt', skiprows=9,\n",
    "                parse_dates=['YYYYMMDD'], index_col='YYYYMMDD',\n",
    "                skipinitialspace=True)\n",
    "rain.RH[rain.RH < 0] = 0  # remove negative values\n",
    "rain.RH = rain.RH * 0.1 # convert to mm/day\n",
    "monthlyrain = rain.RH.resample('M', kind='period').sum()\n",
    "display(monthlyrain)\n",
    "monthlyrain.plot(kind='bar')\n",
    "plt.ylabel('mm/month')\n",
    "plt.xlabel('month');"
   ]
  },
  {
   "cell_type": "markdown",
   "metadata": {},
   "source": [
    "### Exercise 5,<a name=\"back5\"></a> Resample weather data\n",
    "The file `rotterdam_weather_2000_2010.txt` contains daily weather data at the weather station Rotterdam for the period 2000-2010 (again from the KNMI). Open the data file in an editor to see what is in it. Perform the following tasks:\n",
    "* Load the data making sure the dates are used as index. \n",
    "* Convert the rain and evaporation to mm/day, and the temperature to degrees Celcius. \n",
    "* Set any negative rainfall (explained in the file) to zero. \n",
    "* Compute total yearly rainfall, total yearly evaporation, and mean yearly temperature. \n",
    "* Make a line plot of the yearly rainfall, yearly evaporation, and mean temperature using the `plot` function of `pandas`. Plot the mean temperature on the secondary $y$-axis (use the help function to find out how). "
   ]
  },
  {
   "cell_type": "code",
   "execution_count": null,
   "metadata": {
    "collapsed": true
   },
   "outputs": [],
   "source": []
  },
  {
   "cell_type": "markdown",
   "metadata": {},
   "source": [
    "<a href=\"#ex5answer\">Answers to Exercise 5</a>"
   ]
  },
  {
   "cell_type": "markdown",
   "metadata": {},
   "source": [
    "### Solutions to the exercises"
   ]
  },
  {
   "cell_type": "markdown",
   "metadata": {},
   "source": [
    "<a name=\"ex1answer\">Answers to Exercise 1</a>"
   ]
  },
  {
   "cell_type": "code",
   "execution_count": 25,
   "metadata": {},
   "outputs": [
    {
     "name": "stdout",
     "output_type": "stream",
     "text": [
      "First five lines of rain dataset:\n",
      "                precip    area\n",
      "country                       \n",
      "Afghanistan      327.0   652.2\n",
      "Albania         1485.0    27.4\n",
      "Algeria           89.0  2381.7\n",
      "American Samoa     NaN     0.2\n",
      "Andorra            NaN     0.5\n",
      "\n",
      "Average annual rainfall in Panama is 2692.0 mm/year\n",
      "\n",
      "Land area of the Netherlands is 33.7 thousand km^2\n",
      "\n",
      "Countries where average rainfall is below 200 mm/year\n",
      "                      precip    area\n",
      "country                             \n",
      "Algeria                 89.0  2381.7\n",
      "Bahrain                 83.0     0.8\n",
      "Egypt, Arab Rep.        51.0   995.5\n",
      "Jordan                 111.0    88.8\n",
      "Kuwait                 121.0    17.8\n",
      "Libya                   56.0  1759.5\n",
      "Mauritania              92.0  1030.7\n",
      "Niger                  151.0  1266.7\n",
      "Oman                   125.0   309.5\n",
      "Qatar                   74.0    11.6\n",
      "Saudi Arabia            59.0  2149.7\n",
      "Turkmenistan           161.0   469.9\n",
      "United Arab Emirates    78.0    83.6\n",
      "Yemen, Rep.            167.0   528.0\n",
      "\n",
      "Countries where average rainfall is above 2500 mm/year\n",
      "                       precip    area\n",
      "country                              \n",
      "Bangladesh             2666.0   130.2\n",
      "Brunei Darussalam      2722.0     5.3\n",
      "Colombia               2612.0  1109.5\n",
      "Costa Rica             2926.0    51.1\n",
      "Fiji                   2592.0    18.3\n",
      "Indonesia              2702.0  1811.6\n",
      "Malaysia               2875.0   328.6\n",
      "Panama                 2692.0    74.3\n",
      "Papua New Guinea       3142.0   452.9\n",
      "Sao Tome and Principe  3200.0     1.0\n",
      "Sierra Leone           2526.0    71.6\n",
      "Solomon Islands        3028.0    28.0\n",
      "\n",
      "Countries with almost the same rainfall as Netherlands\n",
      "                 precip    area\n",
      "country                        \n",
      "Burkina Faso      748.0   273.6\n",
      "Lesotho           788.0    30.4\n",
      "Mexico            752.0  1944.0\n",
      "Netherlands       778.0    33.7\n",
      "Slovak Republic   824.0    48.1\n",
      "Swaziland         788.0    17.2\n"
     ]
    }
   ],
   "source": [
    "from pandas import read_csv\n",
    "rain = read_csv('annual_precip.csv', skiprows=2, index_col=0)\n",
    "#\n",
    "print('First five lines of rain dataset:')\n",
    "print(rain.head())\n",
    "#\n",
    "print()\n",
    "print('Average annual rainfall in Panama is',rain.loc['Panama','precip'],'mm/year')\n",
    "#\n",
    "print()\n",
    "print('Land area of the Netherlands is', rain.loc['Netherlands','area'], 'thousand km^2')\n",
    "#\n",
    "print()\n",
    "print('Countries where average rainfall is below 200 mm/year')\n",
    "print(rain[ rain.precip < 200 ])\n",
    "#\n",
    "print()\n",
    "print('Countries where average rainfall is above 2500 mm/year')\n",
    "print(rain[ rain.precip > 2500 ])\n",
    "#\n",
    "print()\n",
    "print('Countries with almost the same rainfall as Netherlands')\n",
    "print(rain[abs(rain.loc['Netherlands','precip'] - rain.precip) < 50])"
   ]
  },
  {
   "cell_type": "markdown",
   "metadata": {},
   "source": [
    "<a href=\"#back1\">Back to Exercise 1</a>\n",
    "\n",
    "<a name=\"ex2answer\">Answers to Exercise 2</a>"
   ]
  },
  {
   "cell_type": "code",
   "execution_count": 26,
   "metadata": {},
   "outputs": [
    {
     "name": "stdout",
     "output_type": "stream",
     "text": [
      "Five countries with largest annual influx:\n",
      "                    precip     area      totalq\n",
      "country                                        \n",
      "Brazil              1782.0   8459.4  15074.6508\n",
      "Russian Federation   460.0  16376.9   7533.3740\n",
      "United States        715.0   9147.4   6540.3910\n",
      "China                645.0   9327.5   6016.2375\n",
      "Indonesia           2702.0   1811.6   4894.9432\n"
     ]
    },
    {
     "data": {
      "image/png": "[encoded data removed]",
      "text/plain": [
       "<Figure size 432x288 with 1 Axes>"
      ]
     },
     "metadata": {
      "needs_background": "light"
     },
     "output_type": "display_data"
    }
   ],
   "source": [
    "rain['totalq'] = rain.precip * rain.area * 1e-3\n",
    "#\n",
    "print('Five countries with largest annual influx:')\n",
    "rain.sort_values(by='totalq', ascending=False, inplace=True)\n",
    "print(rain[:5])\n",
    "#\n",
    "rain.totalq[:10].plot(kind='bar');"
   ]
  },
  {
   "cell_type": "markdown",
   "metadata": {},
   "source": [
    "<a href=\"#back2\">Back to Exercise 2</a>\n",
    "\n",
    "<a name=\"ex3answer\">Answers to Exercise 3</a>"
   ]
  },
  {
   "cell_type": "code",
   "execution_count": 27,
   "metadata": {},
   "outputs": [
    {
     "name": "stdout",
     "output_type": "stream",
     "text": [
      "Maximum daily rainfall 22.400000000000002\n",
      "Date of maximum daily rainfall 2012-12-22 00:00:00\n"
     ]
    },
    {
     "name": "stderr",
     "output_type": "stream",
     "text": [
      "C:\\Anaconda3\\lib\\site-packages\\ipykernel_launcher.py:12: FutureWarning: \n",
      "The current behaviour of 'Series.argmax' is deprecated, use 'idxmax'\n",
      "instead.\n",
      "The behavior of 'argmax' will be corrected to return the positional\n",
      "maximum in the future. For now, use 'series.values.argmax' or\n",
      "'np.argmax(np.array(values))' to get the position of the maximum\n",
      "row.\n",
      "  if sys.path[0] == '':\n"
     ]
    },
    {
     "data": {
      "image/png": "[encoded data removed]",
      "text/plain": [
       "<Figure size 432x288 with 1 Axes>"
      ]
     },
     "metadata": {
      "needs_background": "light"
     },
     "output_type": "display_data"
    }
   ],
   "source": [
    "rain = read_csv('rotterdam_rainfall_2012.txt', skiprows=9,\n",
    "                parse_dates=['YYYYMMDD'], skipinitialspace=True)\n",
    "# convert to mm/d\n",
    "rain.iloc[:,2] = rain.iloc[:,2] * 0.1\n",
    "# set negative values to zero\n",
    "rain.loc[rain.RH < 0, 'RH'] = 0\n",
    "rain.RH.plot()\n",
    "plt.xlabel('day')\n",
    "plt.ylabel('daily rainfall (mm/day)')\n",
    "plt.xlim(0, 365)\n",
    "print('Maximum daily rainfall', rain.RH.max())\n",
    "print('Date of maximum daily rainfall', rain.YYYYMMDD[rain.RH.argmax()])"
   ]
  },
  {
   "cell_type": "markdown",
   "metadata": {},
   "source": [
    "<a href=\"#back3\">Back to Exercise 3</a>\n",
    "\n",
    "<a name=\"ex4answer\">Answers to Exercise 4</a>"
   ]
  },
  {
   "cell_type": "code",
   "execution_count": 28,
   "metadata": {},
   "outputs": [
    {
     "name": "stdout",
     "output_type": "stream",
     "text": [
      "[ 83.   24.3  21.9  57.6  76.5 119.  121.6  93.4  52.  132.6  63.3 149.5]\n"
     ]
    },
    {
     "data": {
      "image/png": "[encoded data removed]",
      "text/plain": [
       "<Figure size 432x288 with 1 Axes>"
      ]
     },
     "metadata": {
      "needs_background": "light"
     },
     "output_type": "display_data"
    }
   ],
   "source": [
    "monthlyrain = np.zeros(12)\n",
    "for i in range(len(rain)):\n",
    "    month = rain.iloc[i,1].month\n",
    "    monthlyrain[month - 1] += rain.iloc[i, 2]\n",
    "print(monthlyrain)\n",
    "#\n",
    "plt.bar(np.arange(12), monthlyrain, width=1)\n",
    "plt.xlabel('month')\n",
    "plt.ylabel('monthly rainfall (mm/month)')\n",
    "plt.xticks(np.arange(12) + 0.5, ['J', 'F', 'M', 'A', 'M', 'J', 'J', 'A', 'S', 'O', 'N', 'D'])\n",
    "plt.xlim(0, 12);"
   ]
  },
  {
   "cell_type": "markdown",
   "metadata": {},
   "source": [
    "<a href=\"#back4\">Back to Exercise 4</a>\n",
    "\n",
    "<a name=\"ex5answer\">Answers to Exercise 5</a>"
   ]
  },
  {
   "cell_type": "code",
   "execution_count": 29,
   "metadata": {},
   "outputs": [
    {
     "data": {
      "image/png": "[encoded data removed]",
      "text/plain": [
       "<Figure size 432x288 with 2 Axes>"
      ]
     },
     "metadata": {
      "needs_background": "light"
     },
     "output_type": "display_data"
    }
   ],
   "source": [
    "weather = read_csv('rotterdam_weather_2000_2010.txt', skiprows=11,\n",
    "                parse_dates=['YYYYMMDD'], index_col='YYYYMMDD', skipinitialspace=True)\n",
    "weather.TG = 0.1 * weather.TG\n",
    "weather.RH = 0.1 * weather.RH\n",
    "weather.EV24 = 0.1 * weather.EV24\n",
    "weather.loc[weather.RH < 0, 'RH'] = 0\n",
    "yearly_rain = weather.RH.resample('A', kind='period').sum()\n",
    "yearly_evap = weather.EV24.resample('A', kind='period').sum()\n",
    "yearly_temp = weather.TG.resample('A', kind='period').mean()\n",
    "ax1 = yearly_rain.plot()\n",
    "ax1 = yearly_evap.plot()\n",
    "plt.ylabel('Rain/evap (mm/year)')\n",
    "ax2 = yearly_temp.plot(secondary_y=True)\n",
    "plt.xlabel('Year')\n",
    "plt.ylabel('Mean yearly temperature (deg C)')\n",
    "plt.legend(ax1.get_lines() + ax2.get_lines(),\n",
    "           ['rain', 'evap', 'temp'], loc='best');"
   ]
  },
  {
   "cell_type": "markdown",
   "metadata": {},
   "source": [
    "<a href=\"#back5\">Back to Exercise 5</a>"
   ]
  }
 ],
 "metadata": {
  "kernelspec": {
   "display_name": "Python [default]",
   "language": "python",
   "name": "python3"
  },
  "language_info": {
   "codemirror_mode": {
    "name": "ipython",
    "version": 3
   },
   "file_extension": ".py",
   "mimetype": "text/x-python",
   "name": "python",
   "nbconvert_exporter": "python",
   "pygments_lexer": "ipython3",
   "version": "3.6.8"
  }
 },
 "nbformat": 4,
 "nbformat_minor": 1
}
