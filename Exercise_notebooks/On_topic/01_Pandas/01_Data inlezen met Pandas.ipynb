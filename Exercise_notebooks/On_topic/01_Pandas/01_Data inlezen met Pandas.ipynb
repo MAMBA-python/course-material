{
 "cells": [
  {
   "cell_type": "markdown",
   "metadata": {},
   "source": [
    "<figure>\n",
    "   <IMG SRC=\"https://mamba-python.nl/images/logo_basis.png\" WIDTH=125 ALIGN=\"right\">\n",
    "   \n",
    "</figure>\n",
    "\n",
    "#  Voorbeeld KNMI data inlezen met Pandas\n"
   ]
  },
  {
   "cell_type": "code",
   "execution_count": 1,
   "metadata": {},
   "outputs": [],
   "source": [
    "import pandas as pd"
   ]
  },
  {
   "cell_type": "markdown",
   "metadata": {},
   "source": [
    "Stel notebook in om figuren direct weer te geven in de notebook (soms niet nodig, maar op mijn (Davíds) computer wel.)"
   ]
  },
  {
   "cell_type": "code",
   "execution_count": 2,
   "metadata": {},
   "outputs": [],
   "source": [
    "%matplotlib inline"
   ]
  },
  {
   "cell_type": "markdown",
   "metadata": {},
   "source": [
    "`pd.read_csv` voorbeeld met omzetten datums naar datum object"
   ]
  },
  {
   "cell_type": "code",
   "execution_count": 3,
   "metadata": {
    "scrolled": true
   },
   "outputs": [
    {
     "name": "stderr",
     "output_type": "stream",
     "text": [
      "C:\\Anaconda3\\lib\\site-packages\\IPython\\core\\interactiveshell.py:2785: DtypeWarning: Columns (9,10,13,15,16,17,18,19,20,22,23,24,26,27,28,29,34,35,36,37,38,39,40) have mixed types. Specify dtype option on import or set low_memory=False.\n",
      "  interactivity=interactivity, compiler=compiler, result=result)\n"
     ]
    },
    {
     "data": {
      "text/html": [
       "<div>\n",
       "<style scoped>\n",
       "    .dataframe tbody tr th:only-of-type {\n",
       "        vertical-align: middle;\n",
       "    }\n",
       "\n",
       "    .dataframe tbody tr th {\n",
       "        vertical-align: top;\n",
       "    }\n",
       "\n",
       "    .dataframe thead th {\n",
       "        text-align: right;\n",
       "    }\n",
       "</style>\n",
       "<table border=\"1\" class=\"dataframe\">\n",
       "  <thead>\n",
       "    <tr style=\"text-align: right;\">\n",
       "      <th></th>\n",
       "      <th># STN</th>\n",
       "      <th>DDVEC</th>\n",
       "      <th>FHVEC</th>\n",
       "      <th>FG</th>\n",
       "      <th>FHX</th>\n",
       "      <th>FHXH</th>\n",
       "      <th>FHN</th>\n",
       "      <th>FHNH</th>\n",
       "      <th>FXX</th>\n",
       "      <th>FXXH</th>\n",
       "      <th>...</th>\n",
       "      <th>VVNH</th>\n",
       "      <th>VVX</th>\n",
       "      <th>VVXH</th>\n",
       "      <th>NG</th>\n",
       "      <th>UG</th>\n",
       "      <th>UX</th>\n",
       "      <th>UXH</th>\n",
       "      <th>UN</th>\n",
       "      <th>UNH</th>\n",
       "      <th>EV24</th>\n",
       "    </tr>\n",
       "    <tr>\n",
       "      <th>YYYYMMDD</th>\n",
       "      <th></th>\n",
       "      <th></th>\n",
       "      <th></th>\n",
       "      <th></th>\n",
       "      <th></th>\n",
       "      <th></th>\n",
       "      <th></th>\n",
       "      <th></th>\n",
       "      <th></th>\n",
       "      <th></th>\n",
       "      <th></th>\n",
       "      <th></th>\n",
       "      <th></th>\n",
       "      <th></th>\n",
       "      <th></th>\n",
       "      <th></th>\n",
       "      <th></th>\n",
       "      <th></th>\n",
       "      <th></th>\n",
       "      <th></th>\n",
       "      <th></th>\n",
       "    </tr>\n",
       "  </thead>\n",
       "  <tbody>\n",
       "    <tr>\n",
       "      <th>1951-01-01</th>\n",
       "      <td>240</td>\n",
       "      <td>188</td>\n",
       "      <td>77</td>\n",
       "      <td>87</td>\n",
       "      <td>195</td>\n",
       "      <td>18</td>\n",
       "      <td>41</td>\n",
       "      <td>24</td>\n",
       "      <td></td>\n",
       "      <td></td>\n",
       "      <td>...</td>\n",
       "      <td></td>\n",
       "      <td></td>\n",
       "      <td></td>\n",
       "      <td>7</td>\n",
       "      <td>90</td>\n",
       "      <td>98</td>\n",
       "      <td>6</td>\n",
       "      <td>73</td>\n",
       "      <td>20</td>\n",
       "      <td></td>\n",
       "    </tr>\n",
       "    <tr>\n",
       "      <th>1951-01-02</th>\n",
       "      <td>240</td>\n",
       "      <td>153</td>\n",
       "      <td>41</td>\n",
       "      <td>41</td>\n",
       "      <td>82</td>\n",
       "      <td>4</td>\n",
       "      <td>10</td>\n",
       "      <td>21</td>\n",
       "      <td></td>\n",
       "      <td></td>\n",
       "      <td>...</td>\n",
       "      <td></td>\n",
       "      <td></td>\n",
       "      <td></td>\n",
       "      <td>8</td>\n",
       "      <td>93</td>\n",
       "      <td>98</td>\n",
       "      <td>9</td>\n",
       "      <td>88</td>\n",
       "      <td>1</td>\n",
       "      <td></td>\n",
       "    </tr>\n",
       "    <tr>\n",
       "      <th>1951-01-03</th>\n",
       "      <td>240</td>\n",
       "      <td>203</td>\n",
       "      <td>15</td>\n",
       "      <td>21</td>\n",
       "      <td>51</td>\n",
       "      <td>24</td>\n",
       "      <td>0</td>\n",
       "      <td>3</td>\n",
       "      <td></td>\n",
       "      <td></td>\n",
       "      <td>...</td>\n",
       "      <td></td>\n",
       "      <td></td>\n",
       "      <td></td>\n",
       "      <td>6</td>\n",
       "      <td>94</td>\n",
       "      <td>100</td>\n",
       "      <td>21</td>\n",
       "      <td>83</td>\n",
       "      <td>12</td>\n",
       "      <td></td>\n",
       "    </tr>\n",
       "    <tr>\n",
       "      <th>1951-01-04</th>\n",
       "      <td>240</td>\n",
       "      <td>193</td>\n",
       "      <td>77</td>\n",
       "      <td>77</td>\n",
       "      <td>103</td>\n",
       "      <td>15</td>\n",
       "      <td>51</td>\n",
       "      <td>1</td>\n",
       "      <td></td>\n",
       "      <td></td>\n",
       "      <td>...</td>\n",
       "      <td></td>\n",
       "      <td></td>\n",
       "      <td></td>\n",
       "      <td>7</td>\n",
       "      <td>94</td>\n",
       "      <td>97</td>\n",
       "      <td>12</td>\n",
       "      <td>89</td>\n",
       "      <td>8</td>\n",
       "      <td></td>\n",
       "    </tr>\n",
       "    <tr>\n",
       "      <th>1951-01-05</th>\n",
       "      <td>240</td>\n",
       "      <td>207</td>\n",
       "      <td>82</td>\n",
       "      <td>87</td>\n",
       "      <td>144</td>\n",
       "      <td>21</td>\n",
       "      <td>36</td>\n",
       "      <td>24</td>\n",
       "      <td></td>\n",
       "      <td></td>\n",
       "      <td>...</td>\n",
       "      <td></td>\n",
       "      <td></td>\n",
       "      <td></td>\n",
       "      <td>8</td>\n",
       "      <td>95</td>\n",
       "      <td>100</td>\n",
       "      <td>5</td>\n",
       "      <td>89</td>\n",
       "      <td>14</td>\n",
       "      <td></td>\n",
       "    </tr>\n",
       "  </tbody>\n",
       "</table>\n",
       "<p>5 rows × 40 columns</p>\n",
       "</div>"
      ],
      "text/plain": [
       "            # STN  DDVEC  FHVEC     FG    FHX   FHXH    FHN   FHNH    FXX  \\\n",
       "YYYYMMDD                                                                    \n",
       "1951-01-01    240    188     77     87    195     18     41     24          \n",
       "1951-01-02    240    153     41     41     82      4     10     21          \n",
       "1951-01-03    240    203     15     21     51     24      0      3          \n",
       "1951-01-04    240    193     77     77    103     15     51      1          \n",
       "1951-01-05    240    207     82     87    144     21     36     24          \n",
       "\n",
       "             FXXH  ...     VVNH    VVX   VVXH     NG     UG     UX    UXH  \\\n",
       "YYYYMMDD           ...                                                      \n",
       "1951-01-01         ...                             7     90     98      6   \n",
       "1951-01-02         ...                             8     93     98      9   \n",
       "1951-01-03         ...                             6     94    100     21   \n",
       "1951-01-04         ...                             7     94     97     12   \n",
       "1951-01-05         ...                             8     95    100      5   \n",
       "\n",
       "               UN    UNH   EV24  \n",
       "YYYYMMDD                         \n",
       "1951-01-01     73     20         \n",
       "1951-01-02     88      1         \n",
       "1951-01-03     83     12         \n",
       "1951-01-04     89      8         \n",
       "1951-01-05     89     14         \n",
       "\n",
       "[5 rows x 40 columns]"
      ]
     },
     "execution_count": 3,
     "metadata": {},
     "output_type": "execute_result"
    }
   ],
   "source": [
    "df = pd.read_csv(\"./etmgeg_240.txt\", skiprows=47, parse_dates=[1],\n",
    "                index_col=\"YYYYMMDD\")\n",
    "df.head()"
   ]
  },
  {
   "cell_type": "markdown",
   "metadata": {},
   "source": [
    "Kijk naar het datatype van de data in de verschillende kolommen. Voor plotten en wiskunde moeten het type `int` of `float` zijn."
   ]
  },
  {
   "cell_type": "code",
   "execution_count": 4,
   "metadata": {
    "scrolled": false
   },
   "outputs": [
    {
     "data": {
      "text/plain": [
       "# STN     int64\n",
       "DDVEC     int64\n",
       "FHVEC     int64\n",
       "   FG     int64\n",
       "  FHX     int64\n",
       " FHXH     int64\n",
       "  FHN     int64\n",
       " FHNH     int64\n",
       "  FXX    object\n",
       " FXXH    object\n",
       "   TG     int64\n",
       "   TN     int64\n",
       "  TNH    object\n",
       "   TX     int64\n",
       "  TXH    object\n",
       " T10N    object\n",
       "T10NH    object\n",
       "   SQ    object\n",
       "   SP    object\n",
       "    Q    object\n",
       "   DR    object\n",
       "   RH    object\n",
       "  RHX    object\n",
       " RHXH    object\n",
       "   PG     int64\n",
       "   PX    object\n",
       "  PXH    object\n",
       "   PN    object\n",
       "  PNH    object\n",
       "  VVN    object\n",
       " VVNH    object\n",
       "  VVX    object\n",
       " VVXH    object\n",
       "   NG    object\n",
       "   UG    object\n",
       "   UX    object\n",
       "  UXH    object\n",
       "   UN    object\n",
       "  UNH    object\n",
       " EV24    object\n",
       "dtype: object"
      ]
     },
     "execution_count": 4,
     "metadata": {},
     "output_type": "execute_result"
    }
   ],
   "source": [
    "df.dtypes"
   ]
  },
  {
   "cell_type": "markdown",
   "metadata": {},
   "source": [
    "Bekijk de kolommen. Vervelend genoeg voor ons staan er nog spaties in de kolomnamen."
   ]
  },
  {
   "cell_type": "code",
   "execution_count": 5,
   "metadata": {},
   "outputs": [
    {
     "data": {
      "text/plain": [
       "Index(['# STN', 'DDVEC', 'FHVEC', '   FG', '  FHX', ' FHXH', '  FHN', ' FHNH',\n",
       "       '  FXX', ' FXXH', '   TG', '   TN', '  TNH', '   TX', '  TXH', ' T10N',\n",
       "       'T10NH', '   SQ', '   SP', '    Q', '   DR', '   RH', '  RHX', ' RHXH',\n",
       "       '   PG', '   PX', '  PXH', '   PN', '  PNH', '  VVN', ' VVNH', '  VVX',\n",
       "       ' VVXH', '   NG', '   UG', '   UX', '  UXH', '   UN', '  UNH', ' EV24'],\n",
       "      dtype='object')"
      ]
     },
     "execution_count": 5,
     "metadata": {},
     "output_type": "execute_result"
    }
   ],
   "source": [
    "df.columns"
   ]
  },
  {
   "cell_type": "markdown",
   "metadata": {},
   "source": [
    "De spaties uit de kolomnamen verwijderen met `str.split`"
   ]
  },
  {
   "cell_type": "code",
   "execution_count": 6,
   "metadata": {},
   "outputs": [
    {
     "data": {
      "text/plain": [
       "['# STN',\n",
       " 'DDVEC',\n",
       " 'FHVEC',\n",
       " 'FG',\n",
       " 'FHX',\n",
       " 'FHXH',\n",
       " 'FHN',\n",
       " 'FHNH',\n",
       " 'FXX',\n",
       " 'FXXH',\n",
       " 'TG',\n",
       " 'TN',\n",
       " 'TNH',\n",
       " 'TX',\n",
       " 'TXH',\n",
       " 'T10N',\n",
       " 'T10NH',\n",
       " 'SQ',\n",
       " 'SP',\n",
       " 'Q',\n",
       " 'DR',\n",
       " 'RH',\n",
       " 'RHX',\n",
       " 'RHXH',\n",
       " 'PG',\n",
       " 'PX',\n",
       " 'PXH',\n",
       " 'PN',\n",
       " 'PNH',\n",
       " 'VVN',\n",
       " 'VVNH',\n",
       " 'VVX',\n",
       " 'VVXH',\n",
       " 'NG',\n",
       " 'UG',\n",
       " 'UX',\n",
       " 'UXH',\n",
       " 'UN',\n",
       " 'UNH',\n",
       " 'EV24']"
      ]
     },
     "execution_count": 6,
     "metadata": {},
     "output_type": "execute_result"
    }
   ],
   "source": [
    "new_names = []\n",
    "for icol in df.columns:\n",
    "    new_names.append(icol.strip())\n",
    "new_names"
   ]
  },
  {
   "cell_type": "markdown",
   "metadata": {},
   "source": [
    "Het hernoemen van de kolommen van de oorspronkelijke dataframe"
   ]
  },
  {
   "cell_type": "code",
   "execution_count": 7,
   "metadata": {},
   "outputs": [],
   "source": [
    "df.columns = new_names"
   ]
  },
  {
   "cell_type": "markdown",
   "metadata": {},
   "source": [
    "Weer bekijken van de columns om te kijken of het gelukt is."
   ]
  },
  {
   "cell_type": "code",
   "execution_count": 8,
   "metadata": {},
   "outputs": [
    {
     "data": {
      "text/plain": [
       "Index(['# STN', 'DDVEC', 'FHVEC', 'FG', 'FHX', 'FHXH', 'FHN', 'FHNH', 'FXX',\n",
       "       'FXXH', 'TG', 'TN', 'TNH', 'TX', 'TXH', 'T10N', 'T10NH', 'SQ', 'SP',\n",
       "       'Q', 'DR', 'RH', 'RHX', 'RHXH', 'PG', 'PX', 'PXH', 'PN', 'PNH', 'VVN',\n",
       "       'VVNH', 'VVX', 'VVXH', 'NG', 'UG', 'UX', 'UXH', 'UN', 'UNH', 'EV24'],\n",
       "      dtype='object')"
      ]
     },
     "execution_count": 8,
     "metadata": {},
     "output_type": "execute_result"
    }
   ],
   "source": [
    "df.columns"
   ]
  },
  {
   "cell_type": "markdown",
   "metadata": {},
   "source": [
    "Het instellen van een Index met datums kan heel handig werken. Zo kan je gemakkelijk een bepaalde periode selecteren. Hier kiezen we het jaar 2018, en kijken we alleen naar de kolommen \"RH\"= dagelijkse neerslag en \"EV24\"=verdamping per dag. Met het `.head()` commando kijken we alleen naar de eerste 5 waarden uit de DataFrame."
   ]
  },
  {
   "cell_type": "code",
   "execution_count": 9,
   "metadata": {},
   "outputs": [
    {
     "data": {
      "text/html": [
       "<div>\n",
       "<style scoped>\n",
       "    .dataframe tbody tr th:only-of-type {\n",
       "        vertical-align: middle;\n",
       "    }\n",
       "\n",
       "    .dataframe tbody tr th {\n",
       "        vertical-align: top;\n",
       "    }\n",
       "\n",
       "    .dataframe thead th {\n",
       "        text-align: right;\n",
       "    }\n",
       "</style>\n",
       "<table border=\"1\" class=\"dataframe\">\n",
       "  <thead>\n",
       "    <tr style=\"text-align: right;\">\n",
       "      <th></th>\n",
       "      <th>RH</th>\n",
       "      <th>EV24</th>\n",
       "    </tr>\n",
       "    <tr>\n",
       "      <th>YYYYMMDD</th>\n",
       "      <th></th>\n",
       "      <th></th>\n",
       "    </tr>\n",
       "  </thead>\n",
       "  <tbody>\n",
       "    <tr>\n",
       "      <th>2018-01-01</th>\n",
       "      <td>10</td>\n",
       "      <td>3</td>\n",
       "    </tr>\n",
       "    <tr>\n",
       "      <th>2018-01-02</th>\n",
       "      <td>44</td>\n",
       "      <td>2</td>\n",
       "    </tr>\n",
       "    <tr>\n",
       "      <th>2018-01-03</th>\n",
       "      <td>86</td>\n",
       "      <td>1</td>\n",
       "    </tr>\n",
       "    <tr>\n",
       "      <th>2018-01-04</th>\n",
       "      <td>5</td>\n",
       "      <td>2</td>\n",
       "    </tr>\n",
       "    <tr>\n",
       "      <th>2018-01-05</th>\n",
       "      <td>35</td>\n",
       "      <td>1</td>\n",
       "    </tr>\n",
       "  </tbody>\n",
       "</table>\n",
       "</div>"
      ],
      "text/plain": [
       "            RH EV24\n",
       "YYYYMMDD           \n",
       "2018-01-01  10    3\n",
       "2018-01-02  44    2\n",
       "2018-01-03  86    1\n",
       "2018-01-04   5    2\n",
       "2018-01-05  35    1"
      ]
     },
     "execution_count": 9,
     "metadata": {},
     "output_type": "execute_result"
    }
   ],
   "source": [
    "df.loc[\"2018\", [\"RH\", \"EV24\"]].head()"
   ]
  },
  {
   "cell_type": "markdown",
   "metadata": {},
   "source": [
    "Omdat we niet de hele tijd de selectie willen typen slaan we onze subselectie op onder een nieuwe variabele `dfs`"
   ]
  },
  {
   "cell_type": "code",
   "execution_count": 10,
   "metadata": {},
   "outputs": [],
   "source": [
    "dfs = df.loc[:, [\"RH\", \"EV24\"]]"
   ]
  },
  {
   "cell_type": "markdown",
   "metadata": {},
   "source": [
    "Nu willen we deze data plotten. Maar dat levert nu nog een error op:"
   ]
  },
  {
   "cell_type": "code",
   "execution_count": 11,
   "metadata": {},
   "outputs": [
    {
     "ename": "TypeError",
     "evalue": "Empty 'DataFrame': no numeric data to plot",
     "output_type": "error",
     "traceback": [
      "\u001b[1;31m---------------------------------------------------------------------------\u001b[0m",
      "\u001b[1;31mTypeError\u001b[0m                                 Traceback (most recent call last)",
      "\u001b[1;32m<ipython-input-11-f8d34aaf8f99>\u001b[0m in \u001b[0;36m<module>\u001b[1;34m()\u001b[0m\n\u001b[1;32m----> 1\u001b[1;33m \u001b[0mdfs\u001b[0m\u001b[1;33m.\u001b[0m\u001b[0mplot\u001b[0m\u001b[1;33m(\u001b[0m\u001b[1;33m)\u001b[0m\u001b[1;33m\u001b[0m\u001b[0m\n\u001b[0m",
      "\u001b[1;32mC:\\Anaconda3\\lib\\site-packages\\pandas\\plotting\\_core.py\u001b[0m in \u001b[0;36m__call__\u001b[1;34m(self, x, y, kind, ax, subplots, sharex, sharey, layout, figsize, use_index, title, grid, legend, style, logx, logy, loglog, xticks, yticks, xlim, ylim, rot, fontsize, colormap, table, yerr, xerr, secondary_y, sort_columns, **kwds)\u001b[0m\n\u001b[0;32m   2939\u001b[0m                           \u001b[0mfontsize\u001b[0m\u001b[1;33m=\u001b[0m\u001b[0mfontsize\u001b[0m\u001b[1;33m,\u001b[0m \u001b[0mcolormap\u001b[0m\u001b[1;33m=\u001b[0m\u001b[0mcolormap\u001b[0m\u001b[1;33m,\u001b[0m \u001b[0mtable\u001b[0m\u001b[1;33m=\u001b[0m\u001b[0mtable\u001b[0m\u001b[1;33m,\u001b[0m\u001b[1;33m\u001b[0m\u001b[0m\n\u001b[0;32m   2940\u001b[0m                           \u001b[0myerr\u001b[0m\u001b[1;33m=\u001b[0m\u001b[0myerr\u001b[0m\u001b[1;33m,\u001b[0m \u001b[0mxerr\u001b[0m\u001b[1;33m=\u001b[0m\u001b[0mxerr\u001b[0m\u001b[1;33m,\u001b[0m \u001b[0msecondary_y\u001b[0m\u001b[1;33m=\u001b[0m\u001b[0msecondary_y\u001b[0m\u001b[1;33m,\u001b[0m\u001b[1;33m\u001b[0m\u001b[0m\n\u001b[1;32m-> 2941\u001b[1;33m                           sort_columns=sort_columns, **kwds)\n\u001b[0m\u001b[0;32m   2942\u001b[0m     \u001b[0m__call__\u001b[0m\u001b[1;33m.\u001b[0m\u001b[0m__doc__\u001b[0m \u001b[1;33m=\u001b[0m \u001b[0mplot_frame\u001b[0m\u001b[1;33m.\u001b[0m\u001b[0m__doc__\u001b[0m\u001b[1;33m\u001b[0m\u001b[0m\n\u001b[0;32m   2943\u001b[0m \u001b[1;33m\u001b[0m\u001b[0m\n",
      "\u001b[1;32mC:\\Anaconda3\\lib\\site-packages\\pandas\\plotting\\_core.py\u001b[0m in \u001b[0;36mplot_frame\u001b[1;34m(data, x, y, kind, ax, subplots, sharex, sharey, layout, figsize, use_index, title, grid, legend, style, logx, logy, loglog, xticks, yticks, xlim, ylim, rot, fontsize, colormap, table, yerr, xerr, secondary_y, sort_columns, **kwds)\u001b[0m\n\u001b[0;32m   1975\u001b[0m                  \u001b[0myerr\u001b[0m\u001b[1;33m=\u001b[0m\u001b[0myerr\u001b[0m\u001b[1;33m,\u001b[0m \u001b[0mxerr\u001b[0m\u001b[1;33m=\u001b[0m\u001b[0mxerr\u001b[0m\u001b[1;33m,\u001b[0m\u001b[1;33m\u001b[0m\u001b[0m\n\u001b[0;32m   1976\u001b[0m                  \u001b[0msecondary_y\u001b[0m\u001b[1;33m=\u001b[0m\u001b[0msecondary_y\u001b[0m\u001b[1;33m,\u001b[0m \u001b[0msort_columns\u001b[0m\u001b[1;33m=\u001b[0m\u001b[0msort_columns\u001b[0m\u001b[1;33m,\u001b[0m\u001b[1;33m\u001b[0m\u001b[0m\n\u001b[1;32m-> 1977\u001b[1;33m                  **kwds)\n\u001b[0m\u001b[0;32m   1978\u001b[0m \u001b[1;33m\u001b[0m\u001b[0m\n\u001b[0;32m   1979\u001b[0m \u001b[1;33m\u001b[0m\u001b[0m\n",
      "\u001b[1;32mC:\\Anaconda3\\lib\\site-packages\\pandas\\plotting\\_core.py\u001b[0m in \u001b[0;36m_plot\u001b[1;34m(data, x, y, subplots, ax, kind, **kwds)\u001b[0m\n\u001b[0;32m   1802\u001b[0m         \u001b[0mplot_obj\u001b[0m \u001b[1;33m=\u001b[0m \u001b[0mklass\u001b[0m\u001b[1;33m(\u001b[0m\u001b[0mdata\u001b[0m\u001b[1;33m,\u001b[0m \u001b[0msubplots\u001b[0m\u001b[1;33m=\u001b[0m\u001b[0msubplots\u001b[0m\u001b[1;33m,\u001b[0m \u001b[0max\u001b[0m\u001b[1;33m=\u001b[0m\u001b[0max\u001b[0m\u001b[1;33m,\u001b[0m \u001b[0mkind\u001b[0m\u001b[1;33m=\u001b[0m\u001b[0mkind\u001b[0m\u001b[1;33m,\u001b[0m \u001b[1;33m**\u001b[0m\u001b[0mkwds\u001b[0m\u001b[1;33m)\u001b[0m\u001b[1;33m\u001b[0m\u001b[0m\n\u001b[0;32m   1803\u001b[0m \u001b[1;33m\u001b[0m\u001b[0m\n\u001b[1;32m-> 1804\u001b[1;33m     \u001b[0mplot_obj\u001b[0m\u001b[1;33m.\u001b[0m\u001b[0mgenerate\u001b[0m\u001b[1;33m(\u001b[0m\u001b[1;33m)\u001b[0m\u001b[1;33m\u001b[0m\u001b[0m\n\u001b[0m\u001b[0;32m   1805\u001b[0m     \u001b[0mplot_obj\u001b[0m\u001b[1;33m.\u001b[0m\u001b[0mdraw\u001b[0m\u001b[1;33m(\u001b[0m\u001b[1;33m)\u001b[0m\u001b[1;33m\u001b[0m\u001b[0m\n\u001b[0;32m   1806\u001b[0m     \u001b[1;32mreturn\u001b[0m \u001b[0mplot_obj\u001b[0m\u001b[1;33m.\u001b[0m\u001b[0mresult\u001b[0m\u001b[1;33m\u001b[0m\u001b[0m\n",
      "\u001b[1;32mC:\\Anaconda3\\lib\\site-packages\\pandas\\plotting\\_core.py\u001b[0m in \u001b[0;36mgenerate\u001b[1;34m(self)\u001b[0m\n\u001b[0;32m    256\u001b[0m     \u001b[1;32mdef\u001b[0m \u001b[0mgenerate\u001b[0m\u001b[1;33m(\u001b[0m\u001b[0mself\u001b[0m\u001b[1;33m)\u001b[0m\u001b[1;33m:\u001b[0m\u001b[1;33m\u001b[0m\u001b[0m\n\u001b[0;32m    257\u001b[0m         \u001b[0mself\u001b[0m\u001b[1;33m.\u001b[0m\u001b[0m_args_adjust\u001b[0m\u001b[1;33m(\u001b[0m\u001b[1;33m)\u001b[0m\u001b[1;33m\u001b[0m\u001b[0m\n\u001b[1;32m--> 258\u001b[1;33m         \u001b[0mself\u001b[0m\u001b[1;33m.\u001b[0m\u001b[0m_compute_plot_data\u001b[0m\u001b[1;33m(\u001b[0m\u001b[1;33m)\u001b[0m\u001b[1;33m\u001b[0m\u001b[0m\n\u001b[0m\u001b[0;32m    259\u001b[0m         \u001b[0mself\u001b[0m\u001b[1;33m.\u001b[0m\u001b[0m_setup_subplots\u001b[0m\u001b[1;33m(\u001b[0m\u001b[1;33m)\u001b[0m\u001b[1;33m\u001b[0m\u001b[0m\n\u001b[0;32m    260\u001b[0m         \u001b[0mself\u001b[0m\u001b[1;33m.\u001b[0m\u001b[0m_make_plot\u001b[0m\u001b[1;33m(\u001b[0m\u001b[1;33m)\u001b[0m\u001b[1;33m\u001b[0m\u001b[0m\n",
      "\u001b[1;32mC:\\Anaconda3\\lib\\site-packages\\pandas\\plotting\\_core.py\u001b[0m in \u001b[0;36m_compute_plot_data\u001b[1;34m(self)\u001b[0m\n\u001b[0;32m    371\u001b[0m         \u001b[1;32mif\u001b[0m \u001b[0mis_empty\u001b[0m\u001b[1;33m:\u001b[0m\u001b[1;33m\u001b[0m\u001b[0m\n\u001b[0;32m    372\u001b[0m             raise TypeError('Empty {0!r}: no numeric data to '\n\u001b[1;32m--> 373\u001b[1;33m                             'plot'.format(numeric_data.__class__.__name__))\n\u001b[0m\u001b[0;32m    374\u001b[0m \u001b[1;33m\u001b[0m\u001b[0m\n\u001b[0;32m    375\u001b[0m         \u001b[0mself\u001b[0m\u001b[1;33m.\u001b[0m\u001b[0mdata\u001b[0m \u001b[1;33m=\u001b[0m \u001b[0mnumeric_data\u001b[0m\u001b[1;33m\u001b[0m\u001b[0m\n",
      "\u001b[1;31mTypeError\u001b[0m: Empty 'DataFrame': no numeric data to plot"
     ]
    }
   ],
   "source": [
    "dfs.plot()"
   ]
  },
  {
   "cell_type": "markdown",
   "metadata": {},
   "source": [
    "De error zegt onderaan er geen data is:\n",
    "\n",
    "```{python}\n",
    "TypeError: Empty 'DataFrame': no numeric data to plot\n",
    "```\n",
    "\n",
    "Maar we zagen net dat er wel degelijk waarden in de tabel stonden. Zou het misschien aan het datatype kunnen liggen?"
   ]
  },
  {
   "cell_type": "code",
   "execution_count": null,
   "metadata": {},
   "outputs": [],
   "source": [
    "dfs.dtypes"
   ]
  },
  {
   "cell_type": "markdown",
   "metadata": {},
   "source": [
    "Dat is dus het probleem, voor de plot moet de data wel numeriek zijn, dus `int` of `float` en niet `object`. We gaan per kolom de data omzetten naar numerieke waardes met de functie van pandas `pd.to_numeric`. Omdat pandas niet direct begrijpt hoe je een leeg veld moet omzetten naar een getal moeten we de functie ook vertellen dat als ie zoiets tegenkomt een waarde van `NaN` (Not a Number) moet invullen. Dat doen we met het keyword argument `errors=\"coerce\"`."
   ]
  },
  {
   "cell_type": "code",
   "execution_count": null,
   "metadata": {},
   "outputs": [],
   "source": [
    "for icol in dfs.columns:\n",
    "    print(icol)\n",
    "    dfs[icol] = pd.to_numeric(dfs[icol], errors=\"coerce\")"
   ]
  },
  {
   "cell_type": "markdown",
   "metadata": {},
   "source": [
    "Kijken of dat gelukt is:"
   ]
  },
  {
   "cell_type": "code",
   "execution_count": null,
   "metadata": {},
   "outputs": [],
   "source": [
    "dfs.dtypes"
   ]
  },
  {
   "cell_type": "markdown",
   "metadata": {},
   "source": [
    "Poging 2 om te plotten dan maar:"
   ]
  },
  {
   "cell_type": "code",
   "execution_count": null,
   "metadata": {},
   "outputs": [],
   "source": [
    "dfs.plot()"
   ]
  },
  {
   "cell_type": "markdown",
   "metadata": {},
   "source": [
    "Even kijken naar de index. Dat is dus een `DateTimeIndex`, die bepaalde functionaliteit met zich meebrengt."
   ]
  },
  {
   "cell_type": "code",
   "execution_count": null,
   "metadata": {},
   "outputs": [],
   "source": [
    "dfs.index"
   ]
  },
  {
   "cell_type": "markdown",
   "metadata": {},
   "source": [
    "Zo kunnen we het jaar van elke regel opvragen"
   ]
  },
  {
   "cell_type": "code",
   "execution_count": null,
   "metadata": {},
   "outputs": [],
   "source": [
    "dfs.index.year"
   ]
  },
  {
   "cell_type": "markdown",
   "metadata": {},
   "source": [
    "Of de dag:"
   ]
  },
  {
   "cell_type": "code",
   "execution_count": null,
   "metadata": {},
   "outputs": [],
   "source": [
    "dfs.index.day"
   ]
  },
  {
   "cell_type": "markdown",
   "metadata": {},
   "source": [
    "Om analyses te doen om subselecties uit je dataset is de `groupby` methode zeer geschikt. Zo pak je op basis van een bepaalde eigenschap steeds een groep uit je dataset die die eigenschap delen. Hier wil ik de data groeperen per jaar."
   ]
  },
  {
   "cell_type": "code",
   "execution_count": null,
   "metadata": {},
   "outputs": [],
   "source": [
    "gr = dfs.groupby(by=dfs.index.year)"
   ]
  },
  {
   "cell_type": "markdown",
   "metadata": {},
   "source": [
    "Vervolgens kan ik de som van elk jaar bereken met dit commando:"
   ]
  },
  {
   "cell_type": "code",
   "execution_count": null,
   "metadata": {},
   "outputs": [],
   "source": [
    "gr.sum()"
   ]
  },
  {
   "cell_type": "markdown",
   "metadata": {},
   "source": [
    "Het resultaat van een `df.groupby()` is een GroupBy Object. Dat is een beetje een vaag ding. Het belangrijkste om te weten is dat je dingen als `gr.sum()`, `gr.mean()`, `gr.plot` gewoon werken zoals op DataFrames. \n",
    "\n",
    "Ook handig is om te weten dat de groepen die gemaakt zijn te benaderen zijn via `gr.groups`:"
   ]
  },
  {
   "cell_type": "code",
   "execution_count": null,
   "metadata": {},
   "outputs": [],
   "source": [
    "from IPython.display import display"
   ]
  },
  {
   "cell_type": "code",
   "execution_count": null,
   "metadata": {},
   "outputs": [],
   "source": [
    "for groupname, group in gr:\n",
    "    # Ik wil niet alles printen, dus alleen na 2016\n",
    "    if groupname > 2016:\n",
    "        print(groupname)\n",
    "        display(group.head())"
   ]
  },
  {
   "cell_type": "markdown",
   "metadata": {},
   "source": [
    "Hier maken we een barplot van de som van de neerslag en verdamping per jaar."
   ]
  },
  {
   "cell_type": "code",
   "execution_count": null,
   "metadata": {},
   "outputs": [],
   "source": [
    "gr.sum().plot.bar(figsize=(16, 6))"
   ]
  },
  {
   "cell_type": "markdown",
   "metadata": {},
   "source": [
    "Berekenen van het neerslagoverschot in 2018 = Neerslag - Verdamping:"
   ]
  },
  {
   "cell_type": "code",
   "execution_count": null,
   "metadata": {},
   "outputs": [],
   "source": [
    "no = dfs.loc[\"2018\", \"RH\"] - dfs.loc[\"2018\", \"EV24\"]"
   ]
  },
  {
   "cell_type": "markdown",
   "metadata": {},
   "source": [
    "Plotten van cumulatieve Neerslag, Verdamping en neerslagoverschot in dezelfe grafiek."
   ]
  },
  {
   "cell_type": "code",
   "execution_count": null,
   "metadata": {},
   "outputs": [],
   "source": [
    "ax = dfs.loc[\"2018\", \"RH\"].cumsum().plot(legend=True)\n",
    "dfs.loc[\"2018\", \"EV24\"].cumsum().plot(ax=ax, legend=True)\n",
    "no.cumsum().plot(ax=ax, label=\"Neerslagoverschot\", legend=True)"
   ]
  },
  {
   "cell_type": "markdown",
   "metadata": {},
   "source": [
    "Hoe vaak was de neerslag per dag meer dan 15.0 mm? De data staat nog in tiende millimeters"
   ]
  },
  {
   "cell_type": "code",
   "execution_count": null,
   "metadata": {},
   "outputs": [],
   "source": [
    "gt150  = dfs.loc[:, \"RH\"] > 150"
   ]
  },
  {
   "cell_type": "markdown",
   "metadata": {},
   "source": [
    "Het resultaat is een reeks aan True/False, die ons verteld of er wel of niet aan de voorwaarde is voldaan."
   ]
  },
  {
   "cell_type": "code",
   "execution_count": null,
   "metadata": {},
   "outputs": [],
   "source": [
    "gt150.head()"
   ]
  },
  {
   "cell_type": "markdown",
   "metadata": {},
   "source": [
    "Omdat True gelijk is aan 1 en False gelijk aan 0, kunnen we de som nemen van dit resultaat om het aantal dagen te tellen met meer dan 15 mm neerslag."
   ]
  },
  {
   "cell_type": "code",
   "execution_count": null,
   "metadata": {},
   "outputs": [],
   "source": [
    "gt150.sum()"
   ]
  },
  {
   "cell_type": "markdown",
   "metadata": {},
   "source": [
    "Het totale aantal dagen in de dataset is:"
   ]
  },
  {
   "cell_type": "code",
   "execution_count": null,
   "metadata": {},
   "outputs": [],
   "source": [
    "gt150.shape"
   ]
  },
  {
   "cell_type": "markdown",
   "metadata": {},
   "source": [
    "Als we nu die specifieke dagen willen beschouwen (uit de dataset willen trekken) kan dat met `df.loc[<hier je True/False reeks>, <hier je kolomnaam>]`"
   ]
  },
  {
   "cell_type": "code",
   "execution_count": null,
   "metadata": {},
   "outputs": [],
   "source": [
    "dfs.loc[gt150, \"RH\"]"
   ]
  },
  {
   "cell_type": "markdown",
   "metadata": {},
   "source": [
    "Voor het kopieren van data naar Excel `pd.to_clibpoard()` (de Pandas equivalent van `ctrl+c`) of `pd.to_excel()` (de Pandas equivalent van save."
   ]
  },
  {
   "cell_type": "code",
   "execution_count": null,
   "metadata": {},
   "outputs": [],
   "source": [
    "dfs.to_clipboard()"
   ]
  },
  {
   "cell_type": "markdown",
   "metadata": {},
   "source": [
    "En je kan het dan ook weer terug halen met `pd.read_clipboard()` (de pandas equivalent van `ctrl+v`) of `pd.read_excel()` (pandas equivalent van load)."
   ]
  },
  {
   "cell_type": "code",
   "execution_count": null,
   "metadata": {},
   "outputs": [],
   "source": [
    "df2 = pd.read_clipboard()\n",
    "df2.head()"
   ]
  },
  {
   "cell_type": "markdown",
   "metadata": {},
   "source": [
    "Dat was dan het korte voorbeeld over data inlezen en visualiseren met Pandas en Python."
   ]
  },
  {
   "cell_type": "code",
   "execution_count": null,
   "metadata": {},
   "outputs": [],
   "source": []
  }
 ],
 "metadata": {
  "kernelspec": {
   "display_name": "Python [default]",
   "language": "python",
   "name": "python3"
  },
  "language_info": {
   "codemirror_mode": {
    "name": "ipython",
    "version": 3
   },
   "file_extension": ".py",
   "mimetype": "text/x-python",
   "name": "python",
   "nbconvert_exporter": "python",
   "pygments_lexer": "ipython3",
   "version": "3.6.3"
  }
 },
 "nbformat": 4,
 "nbformat_minor": 2
}
