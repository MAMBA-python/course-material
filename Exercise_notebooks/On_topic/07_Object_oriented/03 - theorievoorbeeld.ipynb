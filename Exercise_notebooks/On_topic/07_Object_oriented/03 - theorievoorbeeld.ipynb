{
 "cells": [
  {
   "cell_type": "code",
   "execution_count": null,
   "metadata": {},
   "outputs": [],
   "source": [
    "import matplotlib.pyplot as plt\n",
    "%matplotlib inline"
   ]
  },
  {
   "cell_type": "code",
   "execution_count": null,
   "metadata": {},
   "outputs": [],
   "source": [
    "class Vector:\n",
    "    \"\"\"Vector blauwprint voor:\n",
    "    - het visualiseren van vectoren\n",
    "    - het optellen van vectoren\n",
    "    \"\"\"\n",
    "    \n",
    "    def __init__(self, x, y, x0=0, y0=0, color='k', name=None):\n",
    "        self.x = x\n",
    "        self.y = y\n",
    "        self.x0 = x0\n",
    "        self.y0 = y0\n",
    "        self.color = color\n",
    "        self.name = name\n",
    "        \n",
    "    def plot(self):\n",
    "        plt.arrow(self.x0, self.y0, self.x, self.y, \n",
    "                  color=self.color, lw=1.5, width=0.1, length_includes_head=True)\n",
    "        if self.name is not None:\n",
    "            plt.annotate(self.name, \n",
    "                         xy=((-0.4 + self.x + self.x0 * 2) / 2, \n",
    "                             (0.4 + self.y + self.y0 * 2) / 2),\n",
    "                        FontSize=20)\n",
    "    \n",
    "    def __add__(self, other):\n",
    "        x = self.x + other.x\n",
    "        y = self.y + other.y\n",
    "        other.x0 = self.x + self.x0\n",
    "        other.y0 = self.y + self.y0\n",
    "        return Vector(x, y, self.x0, self.y0)\n",
    "    "
   ]
  },
  {
   "cell_type": "code",
   "execution_count": null,
   "metadata": {},
   "outputs": [],
   "source": [
    "def myfigure():\n",
    "    with plt.style.context(('seaborn')):\n",
    "        xl = (-2, 8)\n",
    "        yl = (-2, 8)\n",
    "        plt.figure(figsize=(5,5))\n",
    "        plt.axis('equal')\n",
    "        plt.ylim(xl)\n",
    "        plt.xlim(yl)\n",
    "        plt.plot([0, 0], yl, 'k', lw=1.5)\n",
    "        plt.plot(xl, [0, 0], 'k', lw = 1.5)"
   ]
  },
  {
   "cell_type": "code",
   "execution_count": null,
   "metadata": {},
   "outputs": [],
   "source": [
    "a = Vector(2, 6, color='green', name='a')\n",
    "b = Vector(1, -2, color='blue', name='b')\n",
    "c = Vector(5, 1, color='red', name='c')\n"
   ]
  },
  {
   "cell_type": "code",
   "execution_count": null,
   "metadata": {},
   "outputs": [],
   "source": [
    "print(a.color)\n",
    "print(b.x, b.y)"
   ]
  },
  {
   "cell_type": "code",
   "execution_count": null,
   "metadata": {},
   "outputs": [],
   "source": [
    "myfigure()\n",
    "a.plot()\n",
    "b.plot()\n",
    "c.plot()\n"
   ]
  },
  {
   "cell_type": "code",
   "execution_count": null,
   "metadata": {},
   "outputs": [],
   "source": [
    "d = a + b + c\n",
    "d.name = 'd'"
   ]
  },
  {
   "cell_type": "code",
   "execution_count": null,
   "metadata": {},
   "outputs": [],
   "source": [
    "myfigure()\n",
    "d.plot()\n",
    "a.plot()\n",
    "b.plot()\n",
    "c.plot()"
   ]
  },
  {
   "cell_type": "code",
   "execution_count": null,
   "metadata": {},
   "outputs": [],
   "source": [
    "c.y = -2\n",
    "d = a + c + b\n",
    "d.name = 'd'"
   ]
  },
  {
   "cell_type": "code",
   "execution_count": null,
   "metadata": {},
   "outputs": [],
   "source": [
    "myfigure()\n",
    "d.plot()\n",
    "a.plot()\n",
    "b.plot()\n",
    "c.plot()"
   ]
  },
  {
   "cell_type": "code",
   "execution_count": null,
   "metadata": {},
   "outputs": [],
   "source": []
  }
 ],
 "metadata": {
  "kernelspec": {
   "display_name": "Python 3",
   "language": "python",
   "name": "python3"
  },
  "language_info": {
   "codemirror_mode": {
    "name": "ipython",
    "version": 3
   },
   "file_extension": ".py",
   "mimetype": "text/x-python",
   "name": "python",
   "nbconvert_exporter": "python",
   "pygments_lexer": "ipython3",
   "version": "3.7.7"
  }
 },
 "nbformat": 4,
 "nbformat_minor": 2
}
