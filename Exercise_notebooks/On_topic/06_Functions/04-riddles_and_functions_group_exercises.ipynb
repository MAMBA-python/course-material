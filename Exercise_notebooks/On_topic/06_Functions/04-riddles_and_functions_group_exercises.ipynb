{
 "cells": [
  {
   "cell_type": "markdown",
   "metadata": {},
   "source": [
    "<figure>\n",
    "   <IMG SRC=\"https://mamba-python.nl/images/logo_basis.png\" WIDTH=125 ALIGN=\"right\">\n",
    "\n",
    "</figure>\n",
    "\n",
    "# Riddles in a group Exercise\n",
    "\n",
    "This notebook contains 4 exercises with functions. This exercises can be done individually or as a group. The last section of the notebook provides hints per exercise. \n",
    "\n",
    "*Developed by MAMBA"
   ]
  },
  {
   "attachments": {},
   "cell_type": "markdown",
   "metadata": {},
   "source": [
    "## Is the person present today?\n",
    "\n",
    "Create a function called `is_present_today`. The function should take a string, e.g. 'Mark' as input, and should:\n",
    "- return (with the `return` statement): True, if that person is present in class today, False if not. \n",
    "Optionally, you can add some printed information in the function (for example 'xx is present today')\n",
    "\n",
    "You can verify if you function works by running the cell below. If it prints 'works!' twice then you did a good job!"
   ]
  },
  {
   "cell_type": "code",
   "execution_count": null,
   "metadata": {},
   "outputs": [],
   "source": [
    "# create your function here\n"
   ]
  },
  {
   "cell_type": "code",
   "execution_count": null,
   "metadata": {},
   "outputs": [],
   "source": [
    "# test if your functions works with the code below\n",
    "if is_present_today('NotaName') is True:\n",
    "    print('works!')\n",
    "    \n",
    "if is_present_today('Petra') or is_present_today('Onno'):\n",
    "    print('works!')"
   ]
  },
  {
   "cell_type": "markdown",
   "metadata": {},
   "source": [
    "## Prime numbers\n",
    "\n",
    "Create a function called is_prime which checks if a given integer is a prime number. For the code is_prime(n):\n",
    "- it should print 'n is prime' or 'n is not prime'. \n",
    "- it should return True if it is prime and False if it is not prime. \n",
    "\n",
    "Remember, a prime number is a natural (integer) number greater than 1 that is not a product of two smaller natural numbers. \n",
    "\n",
    "If your function runs succesfully, it should give the message 'works' three times when you run the code below."
   ]
  },
  {
   "cell_type": "code",
   "execution_count": null,
   "metadata": {},
   "outputs": [],
   "source": [
    "# create your function here\n"
   ]
  },
  {
   "cell_type": "code",
   "execution_count": null,
   "metadata": {},
   "outputs": [],
   "source": [
    "# test if your functions works with the code below\n",
    "if is_prime(10) is False:\n",
    "    print('works')\n",
    "    \n",
    "if is_prime(17) is True:\n",
    "    print('works')\n",
    "    \n",
    "if is_prime(1) is False:\n",
    "    print('works')"
   ]
  },
  {
   "cell_type": "markdown",
   "metadata": {},
   "source": [
    "## Fibonacci sequence\n",
    "\n",
    "The Fibonacci sequence is a beautiful mathematical sequence such that each number is the sum of the two preceding ones, starting from 0 and 1.\n",
    "\n",
    "It is the goal to create a function 'fibonacci' that returns a list with the first n numbers of the sequence. \n",
    "\n",
    "You can verify your function by running the cel below. If it print 'works', you did a good job!"
   ]
  },
  {
   "cell_type": "code",
   "execution_count": null,
   "metadata": {},
   "outputs": [],
   "source": [
    "# create your function here\n"
   ]
  },
  {
   "cell_type": "code",
   "execution_count": null,
   "metadata": {},
   "outputs": [],
   "source": [
    "# test if your functions works with the code below\n",
    "if fibonacci(10) == [0, 1, 1, 2, 3, 5, 8, 13, 21, 34]:\n",
    "    print('works!')"
   ]
  },
  {
   "cell_type": "markdown",
   "metadata": {},
   "source": [
    "## Camel and Banana problem\n",
    "\n",
    "There is a desert, one camel and 3000 bananas.\n",
    " \n",
    "The camel has to transport as many bananas as possible over 1000 km to a market. \n",
    "However each kilometer, the camel eats one banana. \n",
    "Also the camel can only carry 1000 bananas at the same time.\n",
    "\n",
    "What is the maximum number of bananas the camel can bring to the other side?\n",
    "\n",
    "Note: The camel can eat a banana at the point of departure or arrival that doesn't matter. \n",
    "\n",
    "---- \n",
    "We can generalize this for b bananas, x km while being able to carry k bananas \n",
    "\n",
    "----\n",
    "\n",
    "The exercise is to create a function called 'camel_bananas' with bananas and distance as input parameters. It should return the number of bananas that remain at the market.\n",
    "\n",
    "The function works properly if it returns 'works!' in the cells below. \n",
    "This is a really hard one, so good luck!"
   ]
  },
  {
   "cell_type": "code",
   "execution_count": null,
   "metadata": {},
   "outputs": [],
   "source": [
    "# create your function here\n"
   ]
  },
  {
   "cell_type": "code",
   "execution_count": null,
   "metadata": {},
   "outputs": [],
   "source": [
    "# test if your functions works with the code below\n",
    "if camel_bananas(3000, 1000) == 534:\n",
    "    print('works!!!!')"
   ]
  },
  {
   "cell_type": "markdown",
   "metadata": {},
   "source": [
    "## Tips"
   ]
  },
  {
   "cell_type": "code",
   "execution_count": null,
   "metadata": {},
   "outputs": [],
   "source": [
    "# For exercise 1:\n",
    "\n",
    "# You can for example create a list with all the names of the participants. \n",
    "# You can check if an element is in a list by typing 'if x in namelist'\n",
    "# example:\n",
    "\n",
    "testlist = [2,3,4]\n",
    "\n",
    "if 2 in testlist:\n",
    "    print('ja')"
   ]
  },
  {
   "cell_type": "code",
   "execution_count": null,
   "metadata": {},
   "outputs": [],
   "source": [
    "# For exercise 2:\n",
    "\n",
    "# use modulo '%'\n",
    "num = 5\n",
    "i = 4\n",
    "if (num % i) == 0: \n",
    "    print(num, \"is not a prime number\") \n",
    "\n",
    "# If the the result of the division is an integer, the % gives 0 back. \n",
    "print (4 % 2)"
   ]
  },
  {
   "cell_type": "code",
   "execution_count": null,
   "metadata": {},
   "outputs": [],
   "source": [
    "# For exercise 3:\n",
    "\n",
    "# Think a about using a while loop or for loop based on the number given as argument. \n",
    "# Define the first two numbers static, and then keep adding in the for loop!"
   ]
  },
  {
   "cell_type": "code",
   "execution_count": null,
   "metadata": {},
   "outputs": [],
   "source": [
    "# For exercise 4:\n",
    "\n",
    "\n",
    "# Per step, the number of bananas decreases. If x is an array with in each indexis the distance \n",
    "# (so staring zero, with max distance at the last index), the number of bananes at a certain index can be found\n",
    "# with: \n",
    "for i in range(1, distance):\n",
    "\n",
    "    times = np.ceil(x[i] / carry);\n",
    "    x[i + 1] = x[i] - (times * 2 - 1)\n",
    "    \n",
    "# Try to not only use it but also to understand it!"
   ]
  }
 ],
 "metadata": {
  "kernelspec": {
   "display_name": "Python 3",
   "language": "python",
   "name": "python3"
  },
  "language_info": {
   "codemirror_mode": {
    "name": "ipython",
    "version": 3
   },
   "file_extension": ".py",
   "mimetype": "text/x-python",
   "name": "python",
   "nbconvert_exporter": "python",
   "pygments_lexer": "ipython3",
   "version": "3.7.6"
  }
 },
 "nbformat": 4,
 "nbformat_minor": 2
}
