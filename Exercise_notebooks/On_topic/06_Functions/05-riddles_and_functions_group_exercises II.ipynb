{
 "cells": [
  {
   "cell_type": "markdown",
   "metadata": {},
   "source": [
    "<figure>\n",
    "   <IMG SRC=\"https://mamba-python.nl/images/logo_basis.png\" WIDTH=125 ALIGN=\"right\">\n",
    "\n",
    "</figure>\n",
    "\n",
    "# Riddles in a group Exercise II\n",
    "\n",
    "This notebook contains 6 exercises with functions. This exercises can be done individually or as a group. The last section of the notebook provides hints per exercise. \n",
    "\n",
    "*Developed by MAMBA"
   ]
  },
  {
   "cell_type": "markdown",
   "metadata": {},
   "source": [
    "## 1. Celsius to Fahrenheit\n",
    "\n",
    "Create a function called `celsius_to_fahrenheit`. The function should take one argument, the temperature in Celsius, and return the temperature in Fahrenheit. There is one constraint, if the temperature in Celsius is lower than -273.15 this function should return None.\n",
    "\n",
    "You can convert a temperature in Celsius to Fahrenheit by multiplying by 1.8 and adding 32."
   ]
  },
  {
   "cell_type": "code",
   "execution_count": 3,
   "metadata": {},
   "outputs": [],
   "source": [
    "# create your function here"
   ]
  },
  {
   "cell_type": "code",
   "execution_count": null,
   "metadata": {},
   "outputs": [],
   "source": [
    "# test if your functions works with the code below\n",
    "if celsius_to_fahrenheit(10) == 50.0:\n",
    "    print(\"works!\")\n",
    "\n",
    "if celsius_to_fahrenheit(-388) is None:\n",
    "    print(\"works!\")"
   ]
  },
  {
   "cell_type": "markdown",
   "metadata": {},
   "source": [
    "## 2. Uniqueness\n",
    "\n",
    "Create a function with the name `is_unique`. The function should take a list of integers as input and return True if all values in the list are unique (no duplicates) and False if there are duplicates in the list\n"
   ]
  },
  {
   "cell_type": "code",
   "execution_count": null,
   "metadata": {},
   "outputs": [],
   "source": [
    "# create your function here"
   ]
  },
  {
   "cell_type": "code",
   "execution_count": null,
   "metadata": {},
   "outputs": [],
   "source": [
    "# test if your functions works with the code below\n",
    "if is_unique([1, 5, 22, 62]) is True:\n",
    "    print(\"works!\")\n",
    "\n",
    "if is_unique([1, 1, 2, 2]) is False:\n",
    "    print(\"works!\")"
   ]
  },
  {
   "cell_type": "markdown",
   "metadata": {},
   "source": [
    "## 3. A list with even numbers between a start- and end value\n",
    "\n",
    "Create a function called `even_numbers_range`. The function should take two integers as input (`start_value` and `end_value`), and should return a list with all the even values between (and possibly including) the start_value and the end_value. \n",
    "\n",
    "You can verify if you function works by running the cell below. If it prints 'works!' 4 times, then you did a good job!\n"
   ]
  },
  {
   "cell_type": "code",
   "execution_count": null,
   "metadata": {},
   "outputs": [],
   "source": [
    "# create your function here"
   ]
  },
  {
   "cell_type": "code",
   "execution_count": null,
   "metadata": {},
   "outputs": [],
   "source": [
    "# check if it works\n",
    "if even_numbers_range(4, 9) == [4, 6, 8]:\n",
    "    print(\"works!\")\n",
    "\n",
    "if even_numbers_range(5, 12) == [6, 8, 10, 12]:\n",
    "    print(\"works!\")\n",
    "\n",
    "if even_numbers_range(3, 4) == [4]:\n",
    "    print(\"works!\")\n",
    "\n",
    "if even_numbers_range(3, 3) == []:\n",
    "    print(\"works!\")"
   ]
  },
  {
   "cell_type": "markdown",
   "metadata": {},
   "source": [
    "## 4. Didgery digits\n",
    "\n",
    "Mr evil is planning his next evilness somewhere in The Hague. The zip code of the adress is a four digit number with these properties:\n",
    "\n",
    "- All four digits are unique\n",
    "- The first digit is three times the third digit (count from left to right)\n",
    "- The zip code is an odd number\n",
    "- The sum of the digits is x.\n",
    "\n",
    "Writes a function `didgery_digit_finder` that lists all the possible zip codes given x (the sum of the digits)."
   ]
  },
  {
   "cell_type": "code",
   "execution_count": null,
   "metadata": {},
   "outputs": [],
   "source": [
    "# create your function here"
   ]
  },
  {
   "cell_type": "code",
   "execution_count": null,
   "metadata": {},
   "outputs": [],
   "source": [
    "# check if it works\n",
    "if didgery_digit_finder(27) == [9837]:\n",
    "    print(\"works!\")\n",
    "\n",
    "\n",
    "\n",
    "if didgery_digit_finder(66) == []:\n",
    "    print(\"works!\")\n",
    "\n",
    "\n",
    "\n",
    "if didgery_digit_finder(23) == [6827, 9437, 9635]:\n",
    "    print(\"works!\")"
   ]
  },
  {
   "cell_type": "markdown",
   "metadata": {},
   "source": [
    "## 5. De *args: Voeg oneindig veel strings samen:)\n",
    "\n",
    "Create a function called `concatenate_strings` die een x aantal input argumenten accepteerd (met *args). Deze input argumenten moeten omgezet worden naar een string en aan elkaar gevoegd worden met een spatie ertussen. De totale string moet worden teruggegeven"
   ]
  },
  {
   "cell_type": "code",
   "execution_count": null,
   "metadata": {},
   "outputs": [],
   "source": [
    "# create your function here"
   ]
  },
  {
   "cell_type": "code",
   "execution_count": null,
   "metadata": {},
   "outputs": [],
   "source": [
    "# check if it works\n",
    "if concatenate_strings(\"hoi\", \"ik \", \"kan\", \"alles\") == \"hoi ik kan alles\":\n",
    "    print(\"works!\")\n",
    "\n",
    "if concatenate_strings([5, 12], None) == \"[5, 12] None\":\n",
    "    print(\"works!\")\n",
    "\n",
    "if concatenate_strings() == \"\":\n",
    "    print(\"works!\")"
   ]
  },
  {
   "cell_type": "markdown",
   "metadata": {},
   "source": [
    "## 6. Functiees als input argument: \n",
    "Ons doel is om een conditie toe te voegen aan de vorige `concatenate_strings`. Deze conditie wordt een losse functie, die een check uitvoert per input waarde, of deze meegenomen wordt in de som van de input waardes. \n",
    "\n",
    "Maak twee (losse) functies die gegeven een input:\n",
    "1. de functie genaamd `only_string_inputs`: Deze neemt 1 input argument, en returnt True als de input een string is, False als het geen string is. \n",
    "2. de functie genaamd `max_len_six`: Deze functie neemt ook 1 input argument, en returnt True als de lengte van de string waarde van de input kleiner of gelijk is aan 6.\n",
    "\n",
    "Pas vervolgens je functie `concatenate_strings` aan, zodat deze een extra argument genaamd `filterf` accepteerd. Hieraan kun je een functie meegeven (bijvoorbeeld `filterf=only_string_inputs``). In jouw functie `concatenate_strings`, moeten alleen de input argumenten aan elkaar worden gezet die voldoen volgens deze filter functie. Geef het argument als default waarde de waarde `None`.\n",
    "\n",
    "Als je 3 x works terug krijgt dan heb je alles goed gedaan. Succes!!"
   ]
  },
  {
   "cell_type": "code",
   "execution_count": 2,
   "metadata": {},
   "outputs": [],
   "source": [
    "# create your function here"
   ]
  },
  {
   "cell_type": "code",
   "execution_count": null,
   "metadata": {},
   "outputs": [],
   "source": [
    "# check if it works\n",
    "if (\n",
    "    concatenate_strings(\n",
    "        \"hallo\",\n",
    "        \"ik\",\n",
    "        5,\n",
    "        9,\n",
    "        [2, 3],\n",
    "        \"ga\",\n",
    "        None,\n",
    "        \"aan elkaar\",\n",
    "        filterf=only_string_inputs,\n",
    "    )\n",
    "    == \"hallo ik ga aan elkaar\"\n",
    "):\n",
    "    print(\"works\")\n",
    "\n",
    "if (\n",
    "    concatenate_strings(\n",
    "        \"alleeeeen\",\n",
    "        \"kleine\",\n",
    "        \"strings\",\n",
    "        \"elementen\",\n",
    "        \"zichtbaar\",\n",
    "        \"te\",\n",
    "        \"zien:\",\n",
    "        True,\n",
    "        filterf=max_len_six,\n",
    "    )\n",
    "    == \"kleine strings te zien: True\"\n",
    "):\n",
    "    print(\"works\")\n",
    "\n",
    "if (\n",
    "    concatenate_strings(\"alle troep gaat door\", [2, 3, 4], True)\n",
    "    == \"alle troep gaat door [2, 3, 4] True\"\n",
    "):\n",
    "    print(\"works\")"
   ]
  },
  {
   "cell_type": "markdown",
   "metadata": {},
   "source": [
    "## Tips"
   ]
  },
  {
   "cell_type": "code",
   "execution_count": null,
   "metadata": {},
   "outputs": [],
   "source": [
    "# For exercise 1:\n",
    "\n",
    "# You can compute the temperature in Fahrenheit using this formula:\n",
    "F = C * 1.8 + 32\n",
    "\n",
    "# An if statement to check if a variable is higher than 100 looks like this\n",
    "a = 10\n",
    "if a > 100:\n",
    "    print(True)\n",
    "else:\n",
    "    print(False)"
   ]
  },
  {
   "cell_type": "code",
   "execution_count": 4,
   "metadata": {},
   "outputs": [
    {
     "name": "stdout",
     "output_type": "stream",
     "text": [
      "same\n"
     ]
    }
   ],
   "source": [
    "# For exercise 2:\n",
    "\n",
    "# check if two variables are equal using\n",
    "a = 200\n",
    "b = 200\n",
    "if a == b:\n",
    "    print(\"same\")"
   ]
  },
  {
   "cell_type": "code",
   "execution_count": 1,
   "metadata": {},
   "outputs": [
    {
     "name": "stdout",
     "output_type": "stream",
     "text": [
      "2\n",
      "9\n",
      "9\n",
      "9\n"
     ]
    }
   ],
   "source": [
    "# For exercise 4:\n",
    "\n",
    "# loop over the digits in an integer by converting it to a string\n",
    "for i in str(2999):\n",
    "    print(i)"
   ]
  }
 ],
 "metadata": {
  "kernelspec": {
   "display_name": "Python 3",
   "language": "python",
   "name": "python3"
  },
  "language_info": {
   "codemirror_mode": {
    "name": "ipython",
    "version": 3
   },
   "file_extension": ".py",
   "mimetype": "text/x-python",
   "name": "python",
   "nbconvert_exporter": "python",
   "pygments_lexer": "ipython3",
   "version": "3.11.5"
  }
 },
 "nbformat": 4,
 "nbformat_minor": 4
}
