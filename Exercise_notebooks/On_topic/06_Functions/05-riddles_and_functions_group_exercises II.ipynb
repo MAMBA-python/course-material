{
 "cells": [
  {
   "cell_type": "markdown",
   "metadata": {},
   "source": [
    "<figure>\n",
    "   <IMG SRC=\"https://mamba-python.nl/images/logo_basis.png\" WIDTH=125 ALIGN=\"right\">\n",
    "\n",
    "</figure>\n",
    "\n",
    "# Riddles in a group Exercise II\n",
    "\n",
    "This notebook contains 6 exercises with functions. This exercises can be done individually or as a group. The last section of the notebook provides hints per exercise. \n",
    "\n",
    "*Developed by MAMBA"
   ]
  },
  {
   "cell_type": "markdown",
   "metadata": {},
   "source": [
    "## 1. Celsius to Fahrenheit\n",
    "\n",
    "Create a function called `celsius_to_fahrenheit`. The function should take one argument, the temperature in Celsius, and return the temperature in Fahrenheit. There is one constraint, if the temperature in Celsius is lower than -273.15 this function should return None.\n",
    "\n",
    "You can convert a temperature in Celsius to Fahrenheit by multiplying by 1.8 and adding 32."
   ]
  },
  {
   "cell_type": "code",
   "execution_count": null,
   "metadata": {},
   "outputs": [],
   "source": [
    "# create your function here"
   ]
  },
  {
   "cell_type": "code",
   "execution_count": null,
   "metadata": {},
   "outputs": [],
   "source": [
    "# test if your functions works with the code below\n",
    "if celsius_to_fahrenheit(10) == 50.0:\n",
    "    print(\"works!\")\n",
    "\n",
    "if celsius_to_fahrenheit(-388) is None:\n",
    "    print(\"works!\")"
   ]
  },
  {
   "cell_type": "markdown",
   "metadata": {},
   "source": [
    "## 2. Uniqueness\n",
    "\n",
    "Create a function with the name `is_unique`. The function should take a list of integers as input and return True if all values in the list are unique (no duplicates) and False if there are duplicates in the list\n"
   ]
  },
  {
   "cell_type": "code",
   "execution_count": null,
   "metadata": {},
   "outputs": [],
   "source": [
    "# create your function here"
   ]
  },
  {
   "cell_type": "code",
   "execution_count": null,
   "metadata": {},
   "outputs": [],
   "source": [
    "# test if your functions works with the code below\n",
    "if is_unique([1, 5, 22, 62]) is True:\n",
    "    print(\"works!\")\n",
    "\n",
    "if is_unique([1, 1, 2, 2]) is False:\n",
    "    print(\"works!\")"
   ]
  },
  {
   "cell_type": "markdown",
   "metadata": {},
   "source": [
    "## 3. A list with even numbers between a start- and end value\n",
    "\n",
    "Create a function called `even_numbers_range`. The function should take two integers as input (`start_value` and `end_value`), and should return a list with all the even values between (and possibly including) the start_value and the end_value. \n",
    "\n",
    "You can verify if you function works by running the cell below. If it prints 'works!' 4 times, then you did a good job!\n"
   ]
  },
  {
   "cell_type": "code",
   "execution_count": null,
   "metadata": {},
   "outputs": [],
   "source": [
    "# create your function here"
   ]
  },
  {
   "cell_type": "code",
   "execution_count": null,
   "metadata": {},
   "outputs": [],
   "source": [
    "# check if it works\n",
    "if even_numbers_range(4, 9) == [4, 6, 8]:\n",
    "    print(\"works!\")\n",
    "\n",
    "if even_numbers_range(5, 12) == [6, 8, 10, 12]:\n",
    "    print(\"works!\")\n",
    "\n",
    "if even_numbers_range(3, 4) == [4]:\n",
    "    print(\"works!\")\n",
    "\n",
    "if even_numbers_range(3, 3) == []:\n",
    "    print(\"works!\")"
   ]
  },
  {
   "cell_type": "markdown",
   "metadata": {},
   "source": [
    "## 4. Didgery digits\n",
    "\n",
    "Mr evil is planning his next evilness somewhere in The Hague. The zip code of the adress is a four digit number with these properties:\n",
    "\n",
    "- All four digits are unique\n",
    "- The first digit is three times the third digit (count from left to right)\n",
    "- The zip code is an odd number\n",
    "- The sum of the digits is x.\n",
    "\n",
    "Writes a function `didgery_digit_finder` that lists all the possible zip codes given x (the sum of the digits)."
   ]
  },
  {
   "cell_type": "code",
   "execution_count": null,
   "metadata": {},
   "outputs": [],
   "source": [
    "# create your function here"
   ]
  },
  {
   "cell_type": "code",
   "execution_count": null,
   "metadata": {},
   "outputs": [],
   "source": [
    "# check if it works\n",
    "if didgery_digit_finder(27) == [9837]:\n",
    "    print(\"works!\")\n",
    "\n",
    "\n",
    "if didgery_digit_finder(66) == []:\n",
    "    print(\"works!\")\n",
    "\n",
    "\n",
    "if didgery_digit_finder(23) == [6827, 9437, 9635]:\n",
    "    print(\"works!\")"
   ]
  },
  {
   "cell_type": "markdown",
   "metadata": {},
   "source": [
    "## 5. The *args: Unlimited words bound together!:)\n",
    "\n",
    "Create a function called `concatenate_strings` that takes an x number of input arguments (using `*args`). These input values should be added together (possibly converted to strings) with a space in between. The total string should be returned. "
   ]
  },
  {
   "cell_type": "code",
   "execution_count": null,
   "metadata": {},
   "outputs": [],
   "source": [
    "# create your function here"
   ]
  },
  {
   "cell_type": "code",
   "execution_count": null,
   "metadata": {},
   "outputs": [],
   "source": [
    "# check if it works\n",
    "if concatenate_strings(\"hoi\", \"ik \", \"kan\", \"alles\") == \"hoi ik kan alles\":\n",
    "    print(\"works!\")\n",
    "\n",
    "if concatenate_strings([5, 12], None) == \"[5, 12] None\":\n",
    "    print(\"works!\")\n",
    "\n",
    "if concatenate_strings() == \"\":\n",
    "    print(\"works!\")"
   ]
  },
  {
   "cell_type": "markdown",
   "metadata": {},
   "source": [
    "## 6. Function as a function argument\n",
    "\n",
    "In this exercise you will expand the `concatenate_strings` function from the previous exercise with a condition. This condiction is added to the `concatenate_strings` function as a seperate function argument. The function argument is a function in itself.\n",
    "\n",
    "Create two seperate functions:\n",
    "1. `only_string_inputs`: this function has a single function argument. If the argument is a string the function should return True, otherwise False should be returned.\n",
    "2. `max_len_six`: this function also takes a single function argument. If the argument has a length equal to or smaller than 6 True should be returned. If the length is greater than 6 False should be returned\n",
    "\n",
    "Modify the `concatenate_strings` function from the previous exercise, add an extra function argument called `filterf`. This function argument should be a function in itself, e.g. `filterf = only_string_inputs`. Make sure the `concatenate_strings` function only returns function arguments that meet the condition of your filter function.\n",
    "\n",
    "It may be helpfull to have a look at the checks to better understand the exercise. Succes!!"
   ]
  },
  {
   "cell_type": "code",
   "execution_count": null,
   "metadata": {},
   "outputs": [],
   "source": [
    "# create your function here"
   ]
  },
  {
   "cell_type": "code",
   "execution_count": null,
   "metadata": {},
   "outputs": [],
   "source": [
    "# check if it works\n",
    "if (\n",
    "    concatenate_strings(\n",
    "        \"hallo\",\n",
    "        \"ik\",\n",
    "        5,\n",
    "        9,\n",
    "        [2, 3],\n",
    "        \"ga\",\n",
    "        None,\n",
    "        \"aan elkaar\",\n",
    "        filterf=only_string_inputs,\n",
    "    )\n",
    "    == \"hallo ik ga aan elkaar\"\n",
    "):\n",
    "    print(\"works\")\n",
    "\n",
    "if (\n",
    "    concatenate_strings(\n",
    "        \"alleeeeen\",\n",
    "        \"kleine\",\n",
    "        \"strings\",\n",
    "        \"elementen\",\n",
    "        \"zichtbaar\",\n",
    "        \"te\",\n",
    "        \"zien:\",\n",
    "        True,\n",
    "        filterf=max_len_six,\n",
    "    )\n",
    "    == \"kleine strings te zien: True\"\n",
    "):\n",
    "    print(\"works\")\n",
    "\n",
    "if (\n",
    "    concatenate_strings(\"alle troep gaat door\", [2, 3, 4], True)\n",
    "    == \"alle troep gaat door [2, 3, 4] True\"\n",
    "):\n",
    "    print(\"works\")"
   ]
  },
  {
   "cell_type": "markdown",
   "metadata": {},
   "source": [
    "## Tips"
   ]
  },
  {
   "cell_type": "code",
   "execution_count": null,
   "metadata": {},
   "outputs": [],
   "source": [
    "# For exercise 1:\n",
    "\n",
    "# You can compute the temperature in Fahrenheit using this formula:\n",
    "F = C * 1.8 + 32\n",
    "\n",
    "# An if statement to check if a variable is higher than 100 looks like this\n",
    "a = 10\n",
    "if a > 100:\n",
    "    print(True)\n",
    "else:\n",
    "    print(False)"
   ]
  },
  {
   "cell_type": "code",
   "execution_count": null,
   "metadata": {},
   "outputs": [],
   "source": [
    "# For exercise 2:\n",
    "\n",
    "# check if two variables are equal using\n",
    "a = 200\n",
    "b = 200\n",
    "if a == b:\n",
    "    print(\"same\")"
   ]
  },
  {
   "cell_type": "code",
   "execution_count": null,
   "metadata": {},
   "outputs": [],
   "source": [
    "# For exercise 4:\n",
    "\n",
    "# loop over the digits in an integer by converting it to a string\n",
    "for i in str(2999):\n",
    "    print(i)"
   ]
  },
  {
   "cell_type": "code",
   "execution_count": null,
   "metadata": {},
   "outputs": [],
   "source": [
    "## For Exercise 6\n",
    "\n",
    "# You can give a function as input argument using the following structure.\n",
    "def your_filter_check(x):\n",
    "    \"\"\"Filter out None elements\"\"\"\n",
    "    if x is None:\n",
    "        return False\n",
    "    else:\n",
    "        return True\n",
    "\n",
    "\n",
    "def your_main_func(x, filter_func=None):\n",
    "    x_passes = filter_func(x)\n",
    "    if x_passes:\n",
    "        print(\"x passed\")\n",
    "    else:\n",
    "        print(\"x did not pass\")\n",
    "\n",
    "\n",
    "your_main_func(5, your_filter_check)"
   ]
  },
  {
   "cell_type": "code",
   "execution_count": null,
   "metadata": {},
   "outputs": [],
   "source": []
  }
 ],
 "metadata": {
  "kernelspec": {
   "display_name": "Python 3",
   "language": "python",
   "name": "python3"
  },
  "language_info": {
   "codemirror_mode": {
    "name": "ipython",
    "version": 3
   },
   "file_extension": ".py",
   "mimetype": "text/x-python",
   "name": "python",
   "nbconvert_exporter": "python",
   "pygments_lexer": "ipython3",
   "version": "3.10.6"
  }
 },
 "nbformat": 4,
 "nbformat_minor": 4
}
