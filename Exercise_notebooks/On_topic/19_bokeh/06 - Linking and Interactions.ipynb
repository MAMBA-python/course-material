{
 "cells": [
  {
   "cell_type": "markdown",
   "metadata": {},
   "source": [
    "<table style=\"float:left; border:none\">\n",
    "   <tr style=\"border:none; background-color: #ffffff\">\n",
    "       <td style=\"border:none\">\n",
    "           <a href=\"http://bokeh.pydata.org/\">     \n",
    "           <img \n",
    "               src=\"assets/bokeh-transparent.png\" \n",
    "               style=\"width:50px\"\n",
    "           >\n",
    "           </a>    \n",
    "       </td>\n",
    "       <td style=\"border:none\">\n",
    "           <h1>Bokeh Tutorial</h1>\n",
    "       </td>\n",
    "   </tr>\n",
    "</table>\n",
    "\n",
    "<div style=\"float:right;\"><h2>06. Linking and Interactions</h2></div>"
   ]
  },
  {
   "cell_type": "code",
   "execution_count": 1,
   "metadata": {},
   "outputs": [
    {
     "data": {
      "text/html": [
       "\n",
       "    <div class=\"bk-root\">\n",
       "        <a href=\"https://bokeh.pydata.org\" target=\"_blank\" class=\"bk-logo bk-logo-small bk-logo-notebook\"></a>\n",
       "        <span id=\"1001\">Loading BokehJS ...</span>\n",
       "    </div>"
      ]
     },
     "metadata": {},
     "output_type": "display_data"
    },
    {
     "data": {
      "application/javascript": [
       "\n",
       "(function(root) {\n",
       "  function now() {\n",
       "    return new Date();\n",
       "  }\n",
       "\n",
       "  var force = true;\n",
       "\n",
       "  if (typeof root._bokeh_onload_callbacks === \"undefined\" || force === true) {\n",
       "    root._bokeh_onload_callbacks = [];\n",
       "    root._bokeh_is_loading = undefined;\n",
       "  }\n",
       "\n",
       "  var JS_MIME_TYPE = 'application/javascript';\n",
       "  var HTML_MIME_TYPE = 'text/html';\n",
       "  var EXEC_MIME_TYPE = 'application/vnd.bokehjs_exec.v0+json';\n",
       "  var CLASS_NAME = 'output_bokeh rendered_html';\n",
       "\n",
       "  /**\n",
       "   * Render data to the DOM node\n",
       "   */\n",
       "  function render(props, node) {\n",
       "    var script = document.createElement(\"script\");\n",
       "    node.appendChild(script);\n",
       "  }\n",
       "\n",
       "  /**\n",
       "   * Handle when an output is cleared or removed\n",
       "   */\n",
       "  function handleClearOutput(event, handle) {\n",
       "    var cell = handle.cell;\n",
       "\n",
       "    var id = cell.output_area._bokeh_element_id;\n",
       "    var server_id = cell.output_area._bokeh_server_id;\n",
       "    // Clean up Bokeh references\n",
       "    if (id != null && id in Bokeh.index) {\n",
       "      Bokeh.index[id].model.document.clear();\n",
       "      delete Bokeh.index[id];\n",
       "    }\n",
       "\n",
       "    if (server_id !== undefined) {\n",
       "      // Clean up Bokeh references\n",
       "      var cmd = \"from bokeh.io.state import curstate; print(curstate().uuid_to_server['\" + server_id + \"'].get_sessions()[0].document.roots[0]._id)\";\n",
       "      cell.notebook.kernel.execute(cmd, {\n",
       "        iopub: {\n",
       "          output: function(msg) {\n",
       "            var id = msg.content.text.trim();\n",
       "            if (id in Bokeh.index) {\n",
       "              Bokeh.index[id].model.document.clear();\n",
       "              delete Bokeh.index[id];\n",
       "            }\n",
       "          }\n",
       "        }\n",
       "      });\n",
       "      // Destroy server and session\n",
       "      var cmd = \"import bokeh.io.notebook as ion; ion.destroy_server('\" + server_id + \"')\";\n",
       "      cell.notebook.kernel.execute(cmd);\n",
       "    }\n",
       "  }\n",
       "\n",
       "  /**\n",
       "   * Handle when a new output is added\n",
       "   */\n",
       "  function handleAddOutput(event, handle) {\n",
       "    var output_area = handle.output_area;\n",
       "    var output = handle.output;\n",
       "\n",
       "    // limit handleAddOutput to display_data with EXEC_MIME_TYPE content only\n",
       "    if ((output.output_type != \"display_data\") || (!output.data.hasOwnProperty(EXEC_MIME_TYPE))) {\n",
       "      return\n",
       "    }\n",
       "\n",
       "    var toinsert = output_area.element.find(\".\" + CLASS_NAME.split(' ')[0]);\n",
       "\n",
       "    if (output.metadata[EXEC_MIME_TYPE][\"id\"] !== undefined) {\n",
       "      toinsert[toinsert.length - 1].firstChild.textContent = output.data[JS_MIME_TYPE];\n",
       "      // store reference to embed id on output_area\n",
       "      output_area._bokeh_element_id = output.metadata[EXEC_MIME_TYPE][\"id\"];\n",
       "    }\n",
       "    if (output.metadata[EXEC_MIME_TYPE][\"server_id\"] !== undefined) {\n",
       "      var bk_div = document.createElement(\"div\");\n",
       "      bk_div.innerHTML = output.data[HTML_MIME_TYPE];\n",
       "      var script_attrs = bk_div.children[0].attributes;\n",
       "      for (var i = 0; i < script_attrs.length; i++) {\n",
       "        toinsert[toinsert.length - 1].firstChild.setAttribute(script_attrs[i].name, script_attrs[i].value);\n",
       "      }\n",
       "      // store reference to server id on output_area\n",
       "      output_area._bokeh_server_id = output.metadata[EXEC_MIME_TYPE][\"server_id\"];\n",
       "    }\n",
       "  }\n",
       "\n",
       "  function register_renderer(events, OutputArea) {\n",
       "\n",
       "    function append_mime(data, metadata, element) {\n",
       "      // create a DOM node to render to\n",
       "      var toinsert = this.create_output_subarea(\n",
       "        metadata,\n",
       "        CLASS_NAME,\n",
       "        EXEC_MIME_TYPE\n",
       "      );\n",
       "      this.keyboard_manager.register_events(toinsert);\n",
       "      // Render to node\n",
       "      var props = {data: data, metadata: metadata[EXEC_MIME_TYPE]};\n",
       "      render(props, toinsert[toinsert.length - 1]);\n",
       "      element.append(toinsert);\n",
       "      return toinsert\n",
       "    }\n",
       "\n",
       "    /* Handle when an output is cleared or removed */\n",
       "    events.on('clear_output.CodeCell', handleClearOutput);\n",
       "    events.on('delete.Cell', handleClearOutput);\n",
       "\n",
       "    /* Handle when a new output is added */\n",
       "    events.on('output_added.OutputArea', handleAddOutput);\n",
       "\n",
       "    /**\n",
       "     * Register the mime type and append_mime function with output_area\n",
       "     */\n",
       "    OutputArea.prototype.register_mime_type(EXEC_MIME_TYPE, append_mime, {\n",
       "      /* Is output safe? */\n",
       "      safe: true,\n",
       "      /* Index of renderer in `output_area.display_order` */\n",
       "      index: 0\n",
       "    });\n",
       "  }\n",
       "\n",
       "  // register the mime type if in Jupyter Notebook environment and previously unregistered\n",
       "  if (root.Jupyter !== undefined) {\n",
       "    var events = require('base/js/events');\n",
       "    var OutputArea = require('notebook/js/outputarea').OutputArea;\n",
       "\n",
       "    if (OutputArea.prototype.mime_types().indexOf(EXEC_MIME_TYPE) == -1) {\n",
       "      register_renderer(events, OutputArea);\n",
       "    }\n",
       "  }\n",
       "\n",
       "  \n",
       "  if (typeof (root._bokeh_timeout) === \"undefined\" || force === true) {\n",
       "    root._bokeh_timeout = Date.now() + 5000;\n",
       "    root._bokeh_failed_load = false;\n",
       "  }\n",
       "\n",
       "  var NB_LOAD_WARNING = {'data': {'text/html':\n",
       "     \"<div style='background-color: #fdd'>\\n\"+\n",
       "     \"<p>\\n\"+\n",
       "     \"BokehJS does not appear to have successfully loaded. If loading BokehJS from CDN, this \\n\"+\n",
       "     \"may be due to a slow or bad network connection. Possible fixes:\\n\"+\n",
       "     \"</p>\\n\"+\n",
       "     \"<ul>\\n\"+\n",
       "     \"<li>re-rerun `output_notebook()` to attempt to load from CDN again, or</li>\\n\"+\n",
       "     \"<li>use INLINE resources instead, as so:</li>\\n\"+\n",
       "     \"</ul>\\n\"+\n",
       "     \"<code>\\n\"+\n",
       "     \"from bokeh.resources import INLINE\\n\"+\n",
       "     \"output_notebook(resources=INLINE)\\n\"+\n",
       "     \"</code>\\n\"+\n",
       "     \"</div>\"}};\n",
       "\n",
       "  function display_loaded() {\n",
       "    var el = document.getElementById(\"1001\");\n",
       "    if (el != null) {\n",
       "      el.textContent = \"BokehJS is loading...\";\n",
       "    }\n",
       "    if (root.Bokeh !== undefined) {\n",
       "      if (el != null) {\n",
       "        el.textContent = \"BokehJS \" + root.Bokeh.version + \" successfully loaded.\";\n",
       "      }\n",
       "    } else if (Date.now() < root._bokeh_timeout) {\n",
       "      setTimeout(display_loaded, 100)\n",
       "    }\n",
       "  }\n",
       "\n",
       "\n",
       "  function run_callbacks() {\n",
       "    try {\n",
       "      root._bokeh_onload_callbacks.forEach(function(callback) {\n",
       "        if (callback != null)\n",
       "          callback();\n",
       "      });\n",
       "    } finally {\n",
       "      delete root._bokeh_onload_callbacks\n",
       "    }\n",
       "    console.debug(\"Bokeh: all callbacks have finished\");\n",
       "  }\n",
       "\n",
       "  function load_libs(css_urls, js_urls, callback) {\n",
       "    if (css_urls == null) css_urls = [];\n",
       "    if (js_urls == null) js_urls = [];\n",
       "\n",
       "    root._bokeh_onload_callbacks.push(callback);\n",
       "    if (root._bokeh_is_loading > 0) {\n",
       "      console.debug(\"Bokeh: BokehJS is being loaded, scheduling callback at\", now());\n",
       "      return null;\n",
       "    }\n",
       "    if (js_urls == null || js_urls.length === 0) {\n",
       "      run_callbacks();\n",
       "      return null;\n",
       "    }\n",
       "    console.debug(\"Bokeh: BokehJS not loaded, scheduling load and callback at\", now());\n",
       "    root._bokeh_is_loading = css_urls.length + js_urls.length;\n",
       "\n",
       "    function on_load() {\n",
       "      root._bokeh_is_loading--;\n",
       "      if (root._bokeh_is_loading === 0) {\n",
       "        console.debug(\"Bokeh: all BokehJS libraries/stylesheets loaded\");\n",
       "        run_callbacks()\n",
       "      }\n",
       "    }\n",
       "\n",
       "    function on_error() {\n",
       "      console.error(\"failed to load \" + url);\n",
       "    }\n",
       "\n",
       "    for (var i = 0; i < css_urls.length; i++) {\n",
       "      var url = css_urls[i];\n",
       "      const element = document.createElement(\"link\");\n",
       "      element.onload = on_load;\n",
       "      element.onerror = on_error;\n",
       "      element.rel = \"stylesheet\";\n",
       "      element.type = \"text/css\";\n",
       "      element.href = url;\n",
       "      console.debug(\"Bokeh: injecting link tag for BokehJS stylesheet: \", url);\n",
       "      document.body.appendChild(element);\n",
       "    }\n",
       "\n",
       "    for (var i = 0; i < js_urls.length; i++) {\n",
       "      var url = js_urls[i];\n",
       "      var element = document.createElement('script');\n",
       "      element.onload = on_load;\n",
       "      element.onerror = on_error;\n",
       "      element.async = false;\n",
       "      element.src = url;\n",
       "      console.debug(\"Bokeh: injecting script tag for BokehJS library: \", url);\n",
       "      document.head.appendChild(element);\n",
       "    }\n",
       "  };var element = document.getElementById(\"1001\");\n",
       "  if (element == null) {\n",
       "    console.error(\"Bokeh: ERROR: autoload.js configured with elementid '1001' but no matching script tag was found. \")\n",
       "    return false;\n",
       "  }\n",
       "\n",
       "  function inject_raw_css(css) {\n",
       "    const element = document.createElement(\"style\");\n",
       "    element.appendChild(document.createTextNode(css));\n",
       "    document.body.appendChild(element);\n",
       "  }\n",
       "\n",
       "  var js_urls = [\"https://cdn.pydata.org/bokeh/release/bokeh-1.3.4.min.js\", \"https://cdn.pydata.org/bokeh/release/bokeh-widgets-1.3.4.min.js\", \"https://cdn.pydata.org/bokeh/release/bokeh-tables-1.3.4.min.js\", \"https://cdn.pydata.org/bokeh/release/bokeh-gl-1.3.4.min.js\"];\n",
       "  var css_urls = [];\n",
       "\n",
       "  var inline_js = [\n",
       "    function(Bokeh) {\n",
       "      Bokeh.set_log_level(\"info\");\n",
       "    },\n",
       "    \n",
       "    function(Bokeh) {\n",
       "      \n",
       "    },\n",
       "    function(Bokeh) {} // ensure no trailing comma for IE\n",
       "  ];\n",
       "\n",
       "  function run_inline_js() {\n",
       "    \n",
       "    if ((root.Bokeh !== undefined) || (force === true)) {\n",
       "      for (var i = 0; i < inline_js.length; i++) {\n",
       "        inline_js[i].call(root, root.Bokeh);\n",
       "      }if (force === true) {\n",
       "        display_loaded();\n",
       "      }} else if (Date.now() < root._bokeh_timeout) {\n",
       "      setTimeout(run_inline_js, 100);\n",
       "    } else if (!root._bokeh_failed_load) {\n",
       "      console.log(\"Bokeh: BokehJS failed to load within specified timeout.\");\n",
       "      root._bokeh_failed_load = true;\n",
       "    } else if (force !== true) {\n",
       "      var cell = $(document.getElementById(\"1001\")).parents('.cell').data().cell;\n",
       "      cell.output_area.append_execute_result(NB_LOAD_WARNING)\n",
       "    }\n",
       "\n",
       "  }\n",
       "\n",
       "  if (root._bokeh_is_loading === 0) {\n",
       "    console.debug(\"Bokeh: BokehJS loaded, going straight to plotting\");\n",
       "    run_inline_js();\n",
       "  } else {\n",
       "    load_libs(css_urls, js_urls, function() {\n",
       "      console.debug(\"Bokeh: BokehJS plotting callback run at\", now());\n",
       "      run_inline_js();\n",
       "    });\n",
       "  }\n",
       "}(window));"
      ],
      "application/vnd.bokehjs_load.v0+json": "\n(function(root) {\n  function now() {\n    return new Date();\n  }\n\n  var force = true;\n\n  if (typeof root._bokeh_onload_callbacks === \"undefined\" || force === true) {\n    root._bokeh_onload_callbacks = [];\n    root._bokeh_is_loading = undefined;\n  }\n\n  \n\n  \n  if (typeof (root._bokeh_timeout) === \"undefined\" || force === true) {\n    root._bokeh_timeout = Date.now() + 5000;\n    root._bokeh_failed_load = false;\n  }\n\n  var NB_LOAD_WARNING = {'data': {'text/html':\n     \"<div style='background-color: #fdd'>\\n\"+\n     \"<p>\\n\"+\n     \"BokehJS does not appear to have successfully loaded. If loading BokehJS from CDN, this \\n\"+\n     \"may be due to a slow or bad network connection. Possible fixes:\\n\"+\n     \"</p>\\n\"+\n     \"<ul>\\n\"+\n     \"<li>re-rerun `output_notebook()` to attempt to load from CDN again, or</li>\\n\"+\n     \"<li>use INLINE resources instead, as so:</li>\\n\"+\n     \"</ul>\\n\"+\n     \"<code>\\n\"+\n     \"from bokeh.resources import INLINE\\n\"+\n     \"output_notebook(resources=INLINE)\\n\"+\n     \"</code>\\n\"+\n     \"</div>\"}};\n\n  function display_loaded() {\n    var el = document.getElementById(\"1001\");\n    if (el != null) {\n      el.textContent = \"BokehJS is loading...\";\n    }\n    if (root.Bokeh !== undefined) {\n      if (el != null) {\n        el.textContent = \"BokehJS \" + root.Bokeh.version + \" successfully loaded.\";\n      }\n    } else if (Date.now() < root._bokeh_timeout) {\n      setTimeout(display_loaded, 100)\n    }\n  }\n\n\n  function run_callbacks() {\n    try {\n      root._bokeh_onload_callbacks.forEach(function(callback) {\n        if (callback != null)\n          callback();\n      });\n    } finally {\n      delete root._bokeh_onload_callbacks\n    }\n    console.debug(\"Bokeh: all callbacks have finished\");\n  }\n\n  function load_libs(css_urls, js_urls, callback) {\n    if (css_urls == null) css_urls = [];\n    if (js_urls == null) js_urls = [];\n\n    root._bokeh_onload_callbacks.push(callback);\n    if (root._bokeh_is_loading > 0) {\n      console.debug(\"Bokeh: BokehJS is being loaded, scheduling callback at\", now());\n      return null;\n    }\n    if (js_urls == null || js_urls.length === 0) {\n      run_callbacks();\n      return null;\n    }\n    console.debug(\"Bokeh: BokehJS not loaded, scheduling load and callback at\", now());\n    root._bokeh_is_loading = css_urls.length + js_urls.length;\n\n    function on_load() {\n      root._bokeh_is_loading--;\n      if (root._bokeh_is_loading === 0) {\n        console.debug(\"Bokeh: all BokehJS libraries/stylesheets loaded\");\n        run_callbacks()\n      }\n    }\n\n    function on_error() {\n      console.error(\"failed to load \" + url);\n    }\n\n    for (var i = 0; i < css_urls.length; i++) {\n      var url = css_urls[i];\n      const element = document.createElement(\"link\");\n      element.onload = on_load;\n      element.onerror = on_error;\n      element.rel = \"stylesheet\";\n      element.type = \"text/css\";\n      element.href = url;\n      console.debug(\"Bokeh: injecting link tag for BokehJS stylesheet: \", url);\n      document.body.appendChild(element);\n    }\n\n    for (var i = 0; i < js_urls.length; i++) {\n      var url = js_urls[i];\n      var element = document.createElement('script');\n      element.onload = on_load;\n      element.onerror = on_error;\n      element.async = false;\n      element.src = url;\n      console.debug(\"Bokeh: injecting script tag for BokehJS library: \", url);\n      document.head.appendChild(element);\n    }\n  };var element = document.getElementById(\"1001\");\n  if (element == null) {\n    console.error(\"Bokeh: ERROR: autoload.js configured with elementid '1001' but no matching script tag was found. \")\n    return false;\n  }\n\n  function inject_raw_css(css) {\n    const element = document.createElement(\"style\");\n    element.appendChild(document.createTextNode(css));\n    document.body.appendChild(element);\n  }\n\n  var js_urls = [\"https://cdn.pydata.org/bokeh/release/bokeh-1.3.4.min.js\", \"https://cdn.pydata.org/bokeh/release/bokeh-widgets-1.3.4.min.js\", \"https://cdn.pydata.org/bokeh/release/bokeh-tables-1.3.4.min.js\", \"https://cdn.pydata.org/bokeh/release/bokeh-gl-1.3.4.min.js\"];\n  var css_urls = [];\n\n  var inline_js = [\n    function(Bokeh) {\n      Bokeh.set_log_level(\"info\");\n    },\n    \n    function(Bokeh) {\n      \n    },\n    function(Bokeh) {} // ensure no trailing comma for IE\n  ];\n\n  function run_inline_js() {\n    \n    if ((root.Bokeh !== undefined) || (force === true)) {\n      for (var i = 0; i < inline_js.length; i++) {\n        inline_js[i].call(root, root.Bokeh);\n      }if (force === true) {\n        display_loaded();\n      }} else if (Date.now() < root._bokeh_timeout) {\n      setTimeout(run_inline_js, 100);\n    } else if (!root._bokeh_failed_load) {\n      console.log(\"Bokeh: BokehJS failed to load within specified timeout.\");\n      root._bokeh_failed_load = true;\n    } else if (force !== true) {\n      var cell = $(document.getElementById(\"1001\")).parents('.cell').data().cell;\n      cell.output_area.append_execute_result(NB_LOAD_WARNING)\n    }\n\n  }\n\n  if (root._bokeh_is_loading === 0) {\n    console.debug(\"Bokeh: BokehJS loaded, going straight to plotting\");\n    run_inline_js();\n  } else {\n    load_libs(css_urls, js_urls, function() {\n      console.debug(\"Bokeh: BokehJS plotting callback run at\", now());\n      run_inline_js();\n    });\n  }\n}(window));"
     },
     "metadata": {},
     "output_type": "display_data"
    }
   ],
   "source": [
    "from bokeh.io import output_notebook, show\n",
    "from bokeh.plotting import figure\n",
    "output_notebook()"
   ]
  },
  {
   "cell_type": "markdown",
   "metadata": {},
   "source": [
    "Now that we know from the previous chapter how multiple plots can be placed together in a layout, we can start to look at how different plots can be linked togeher, or how plots can be linked to widgets. "
   ]
  },
  {
   "cell_type": "markdown",
   "metadata": {
    "collapsed": true
   },
   "source": [
    "# Linked Interactions\n",
    "\n",
    "It is possible to link various interactions between different Bokeh plots. For instance, the ranges of two (or more) plots can be linked, so that when one of the plots is panned (or zoomed, or otherwise has its range changed) the other plots will update in unison. It is also possible to link selections between two plots, so that when items are selected on one plot, the corresponding items on the second plot also become selected. "
   ]
  },
  {
   "cell_type": "markdown",
   "metadata": {},
   "source": [
    "## Linked panning\n",
    "\n",
    "Linked panning (when multiple plots have ranges that stay in sync) is simple to spell with Bokeh. You simply share the appropriate range objects between two (or more) plots. The example below shows how to accomplish this by linking the ranges of three plots in various ways:"
   ]
  },
  {
   "cell_type": "code",
   "execution_count": 2,
   "metadata": {},
   "outputs": [
    {
     "data": {
      "text/html": [
       "\n",
       "\n",
       "\n",
       "\n",
       "\n",
       "\n",
       "  <div class=\"bk-root\" id=\"202bbb1d-224f-43e2-a5bd-4105b9812b62\" data-root-id=\"1116\"></div>\n"
      ]
     },
     "metadata": {},
     "output_type": "display_data"
    },
    {
     "data": {
      "application/javascript": [
       "(function(root) {\n",
       "  function embed_document(root) {\n",
       "    \n",
       "  var docs_json = {\"bd1ae172-52d7-4060-ad57-5dad98456fe9\":{\"roots\":{\"references\":[{\"attributes\":{\"children\":[{\"id\":\"1115\",\"type\":\"ToolbarBox\"},{\"id\":\"1113\",\"type\":\"GridBox\"}]},\"id\":\"1116\",\"type\":\"Column\"},{\"attributes\":{},\"id\":\"1049\",\"type\":\"WheelZoomTool\"},{\"attributes\":{},\"id\":\"1107\",\"type\":\"BasicTickFormatter\"},{\"attributes\":{},\"id\":\"1077\",\"type\":\"WheelZoomTool\"},{\"attributes\":{},\"id\":\"1021\",\"type\":\"PanTool\"},{\"attributes\":{},\"id\":\"1109\",\"type\":\"BasicTickFormatter\"},{\"attributes\":{},\"id\":\"1022\",\"type\":\"WheelZoomTool\"},{\"attributes\":{\"fill_color\":{\"value\":\"firebrick\"},\"line_color\":{\"value\":\"firebrick\"},\"size\":{\"units\":\"screen\",\"value\":10},\"x\":{\"field\":\"x\"},\"y\":{\"field\":\"y\"}},\"id\":\"1054\",\"type\":\"Triangle\"},{\"attributes\":{\"active_drag\":\"auto\",\"active_inspect\":\"auto\",\"active_multi\":null,\"active_scroll\":\"auto\",\"active_tap\":\"auto\",\"tools\":[{\"id\":\"1076\",\"type\":\"PanTool\"},{\"id\":\"1077\",\"type\":\"WheelZoomTool\"}]},\"id\":\"1078\",\"type\":\"Toolbar\"},{\"attributes\":{\"data_source\":{\"id\":\"1026\",\"type\":\"ColumnDataSource\"},\"glyph\":{\"id\":\"1027\",\"type\":\"Circle\"},\"hover_glyph\":null,\"muted_glyph\":null,\"nonselection_glyph\":{\"id\":\"1028\",\"type\":\"Circle\"},\"selection_glyph\":null,\"view\":{\"id\":\"1030\",\"type\":\"CDSView\"}},\"id\":\"1029\",\"type\":\"GlyphRenderer\"},{\"attributes\":{},\"id\":\"1110\",\"type\":\"Selection\"},{\"attributes\":{\"active_drag\":\"auto\",\"active_inspect\":\"auto\",\"active_multi\":null,\"active_scroll\":\"auto\",\"active_tap\":\"auto\",\"tools\":[{\"id\":\"1021\",\"type\":\"PanTool\"},{\"id\":\"1022\",\"type\":\"WheelZoomTool\"}]},\"id\":\"1023\",\"type\":\"Toolbar\"},{\"attributes\":{\"fill_alpha\":{\"value\":0.1},\"fill_color\":{\"value\":\"#1f77b4\"},\"line_alpha\":{\"value\":0.1},\"line_color\":{\"value\":\"#1f77b4\"},\"size\":{\"units\":\"screen\",\"value\":10},\"x\":{\"field\":\"x\"},\"y\":{\"field\":\"y\"}},\"id\":\"1055\",\"type\":\"Triangle\"},{\"attributes\":{},\"id\":\"1111\",\"type\":\"UnionRenderers\"},{\"attributes\":{\"fill_alpha\":{\"value\":0.1},\"fill_color\":{\"value\":\"#1f77b4\"},\"line_alpha\":{\"value\":0.1},\"line_color\":{\"value\":\"#1f77b4\"},\"size\":{\"units\":\"screen\",\"value\":10},\"x\":{\"field\":\"x\"},\"y\":{\"field\":\"y\"}},\"id\":\"1083\",\"type\":\"Square\"},{\"attributes\":{\"fill_color\":{\"value\":\"navy\"},\"line_color\":{\"value\":\"navy\"},\"size\":{\"units\":\"screen\",\"value\":10},\"x\":{\"field\":\"x\"},\"y\":{\"field\":\"y\"}},\"id\":\"1027\",\"type\":\"Circle\"},{\"attributes\":{\"tools\":[{\"id\":\"1021\",\"type\":\"PanTool\"},{\"id\":\"1022\",\"type\":\"WheelZoomTool\"},{\"id\":\"1048\",\"type\":\"PanTool\"},{\"id\":\"1049\",\"type\":\"WheelZoomTool\"},{\"id\":\"1076\",\"type\":\"PanTool\"},{\"id\":\"1077\",\"type\":\"WheelZoomTool\"}]},\"id\":\"1114\",\"type\":\"ProxyToolbar\"},{\"attributes\":{\"data_source\":{\"id\":\"1053\",\"type\":\"ColumnDataSource\"},\"glyph\":{\"id\":\"1054\",\"type\":\"Triangle\"},\"hover_glyph\":null,\"muted_glyph\":null,\"nonselection_glyph\":{\"id\":\"1055\",\"type\":\"Triangle\"},\"selection_glyph\":null,\"view\":{\"id\":\"1057\",\"type\":\"CDSView\"}},\"id\":\"1056\",\"type\":\"GlyphRenderer\"},{\"attributes\":{\"data_source\":{\"id\":\"1081\",\"type\":\"ColumnDataSource\"},\"glyph\":{\"id\":\"1082\",\"type\":\"Square\"},\"hover_glyph\":null,\"muted_glyph\":null,\"nonselection_glyph\":{\"id\":\"1083\",\"type\":\"Square\"},\"selection_glyph\":null,\"view\":{\"id\":\"1085\",\"type\":\"CDSView\"}},\"id\":\"1084\",\"type\":\"GlyphRenderer\"},{\"attributes\":{\"toolbar\":{\"id\":\"1114\",\"type\":\"ProxyToolbar\"},\"toolbar_location\":\"above\"},\"id\":\"1115\",\"type\":\"ToolbarBox\"},{\"attributes\":{\"callback\":null,\"data\":{\"x\":[0,1,2,3,4,5,6,7,8,9,10],\"y\":[0,1,2,3,4,5,6,7,8,9,10]},\"selected\":{\"id\":\"1092\",\"type\":\"Selection\"},\"selection_policy\":{\"id\":\"1093\",\"type\":\"UnionRenderers\"}},\"id\":\"1026\",\"type\":\"ColumnDataSource\"},{\"attributes\":{\"source\":{\"id\":\"1053\",\"type\":\"ColumnDataSource\"}},\"id\":\"1057\",\"type\":\"CDSView\"},{\"attributes\":{\"source\":{\"id\":\"1081\",\"type\":\"ColumnDataSource\"}},\"id\":\"1085\",\"type\":\"CDSView\"},{\"attributes\":{\"below\":[{\"id\":\"1011\",\"type\":\"LinearAxis\"}],\"center\":[{\"id\":\"1015\",\"type\":\"Grid\"},{\"id\":\"1020\",\"type\":\"Grid\"}],\"left\":[{\"id\":\"1016\",\"type\":\"LinearAxis\"}],\"plot_height\":250,\"plot_width\":250,\"renderers\":[{\"id\":\"1029\",\"type\":\"GlyphRenderer\"}],\"title\":{\"id\":\"1086\",\"type\":\"Title\"},\"toolbar\":{\"id\":\"1023\",\"type\":\"Toolbar\"},\"toolbar_location\":null,\"x_range\":{\"id\":\"1003\",\"type\":\"DataRange1d\"},\"x_scale\":{\"id\":\"1007\",\"type\":\"LinearScale\"},\"y_range\":{\"id\":\"1005\",\"type\":\"DataRange1d\"},\"y_scale\":{\"id\":\"1009\",\"type\":\"LinearScale\"}},\"id\":\"1002\",\"subtype\":\"Figure\",\"type\":\"Plot\"},{\"attributes\":{\"callback\":null,\"data\":{\"x\":[0,1,2,3,4,5,6,7,8,9,10],\"y\":[5,4,3,2,1,0,1,2,3,4,5]},\"selected\":{\"id\":\"1110\",\"type\":\"Selection\"},\"selection_policy\":{\"id\":\"1111\",\"type\":\"UnionRenderers\"}},\"id\":\"1081\",\"type\":\"ColumnDataSource\"},{\"attributes\":{\"callback\":null},\"id\":\"1005\",\"type\":\"DataRange1d\"},{\"attributes\":{\"text\":\"\"},\"id\":\"1086\",\"type\":\"Title\"},{\"attributes\":{\"callback\":null},\"id\":\"1003\",\"type\":\"DataRange1d\"},{\"attributes\":{\"callback\":null},\"id\":\"1060\",\"type\":\"DataRange1d\"},{\"attributes\":{\"source\":{\"id\":\"1026\",\"type\":\"ColumnDataSource\"}},\"id\":\"1030\",\"type\":\"CDSView\"},{\"attributes\":{\"callback\":null,\"data\":{\"x\":[0,1,2,3,4,5,6,7,8,9,10],\"y\":[10,9,8,7,6,5,4,3,2,1,0]},\"selected\":{\"id\":\"1101\",\"type\":\"Selection\"},\"selection_policy\":{\"id\":\"1102\",\"type\":\"UnionRenderers\"}},\"id\":\"1053\",\"type\":\"ColumnDataSource\"},{\"attributes\":{},\"id\":\"1062\",\"type\":\"LinearScale\"},{\"attributes\":{},\"id\":\"1034\",\"type\":\"LinearScale\"},{\"attributes\":{},\"id\":\"1089\",\"type\":\"BasicTickFormatter\"},{\"attributes\":{},\"id\":\"1007\",\"type\":\"LinearScale\"},{\"attributes\":{},\"id\":\"1064\",\"type\":\"LinearScale\"},{\"attributes\":{},\"id\":\"1036\",\"type\":\"LinearScale\"},{\"attributes\":{},\"id\":\"1091\",\"type\":\"BasicTickFormatter\"},{\"attributes\":{},\"id\":\"1009\",\"type\":\"LinearScale\"},{\"attributes\":{\"formatter\":{\"id\":\"1109\",\"type\":\"BasicTickFormatter\"},\"ticker\":{\"id\":\"1067\",\"type\":\"BasicTicker\"}},\"id\":\"1066\",\"type\":\"LinearAxis\"},{\"attributes\":{\"formatter\":{\"id\":\"1100\",\"type\":\"BasicTickFormatter\"},\"ticker\":{\"id\":\"1039\",\"type\":\"BasicTicker\"}},\"id\":\"1038\",\"type\":\"LinearAxis\"},{\"attributes\":{\"text\":\"\"},\"id\":\"1104\",\"type\":\"Title\"},{\"attributes\":{},\"id\":\"1092\",\"type\":\"Selection\"},{\"attributes\":{\"formatter\":{\"id\":\"1091\",\"type\":\"BasicTickFormatter\"},\"ticker\":{\"id\":\"1012\",\"type\":\"BasicTicker\"}},\"id\":\"1011\",\"type\":\"LinearAxis\"},{\"attributes\":{},\"id\":\"1067\",\"type\":\"BasicTicker\"},{\"attributes\":{\"fill_alpha\":{\"value\":0.1},\"fill_color\":{\"value\":\"#1f77b4\"},\"line_alpha\":{\"value\":0.1},\"line_color\":{\"value\":\"#1f77b4\"},\"size\":{\"units\":\"screen\",\"value\":10},\"x\":{\"field\":\"x\"},\"y\":{\"field\":\"y\"}},\"id\":\"1028\",\"type\":\"Circle\"},{\"attributes\":{},\"id\":\"1039\",\"type\":\"BasicTicker\"},{\"attributes\":{},\"id\":\"1093\",\"type\":\"UnionRenderers\"},{\"attributes\":{\"ticker\":{\"id\":\"1067\",\"type\":\"BasicTicker\"}},\"id\":\"1070\",\"type\":\"Grid\"},{\"attributes\":{},\"id\":\"1012\",\"type\":\"BasicTicker\"},{\"attributes\":{\"text\":\"\"},\"id\":\"1095\",\"type\":\"Title\"},{\"attributes\":{\"ticker\":{\"id\":\"1039\",\"type\":\"BasicTicker\"}},\"id\":\"1042\",\"type\":\"Grid\"},{\"attributes\":{\"ticker\":{\"id\":\"1012\",\"type\":\"BasicTicker\"}},\"id\":\"1015\",\"type\":\"Grid\"},{\"attributes\":{\"formatter\":{\"id\":\"1107\",\"type\":\"BasicTickFormatter\"},\"ticker\":{\"id\":\"1072\",\"type\":\"BasicTicker\"}},\"id\":\"1071\",\"type\":\"LinearAxis\"},{\"attributes\":{\"formatter\":{\"id\":\"1098\",\"type\":\"BasicTickFormatter\"},\"ticker\":{\"id\":\"1044\",\"type\":\"BasicTicker\"}},\"id\":\"1043\",\"type\":\"LinearAxis\"},{\"attributes\":{},\"id\":\"1098\",\"type\":\"BasicTickFormatter\"},{\"attributes\":{\"formatter\":{\"id\":\"1089\",\"type\":\"BasicTickFormatter\"},\"ticker\":{\"id\":\"1017\",\"type\":\"BasicTicker\"}},\"id\":\"1016\",\"type\":\"LinearAxis\"},{\"attributes\":{},\"id\":\"1072\",\"type\":\"BasicTicker\"},{\"attributes\":{},\"id\":\"1044\",\"type\":\"BasicTicker\"},{\"attributes\":{},\"id\":\"1100\",\"type\":\"BasicTickFormatter\"},{\"attributes\":{\"dimension\":1,\"ticker\":{\"id\":\"1072\",\"type\":\"BasicTicker\"}},\"id\":\"1075\",\"type\":\"Grid\"},{\"attributes\":{},\"id\":\"1017\",\"type\":\"BasicTicker\"},{\"attributes\":{\"dimension\":1,\"ticker\":{\"id\":\"1044\",\"type\":\"BasicTicker\"}},\"id\":\"1047\",\"type\":\"Grid\"},{\"attributes\":{},\"id\":\"1101\",\"type\":\"Selection\"},{\"attributes\":{\"children\":[[{\"id\":\"1002\",\"subtype\":\"Figure\",\"type\":\"Plot\"},0,0],[{\"id\":\"1031\",\"subtype\":\"Figure\",\"type\":\"Plot\"},0,1],[{\"id\":\"1058\",\"subtype\":\"Figure\",\"type\":\"Plot\"},0,2]]},\"id\":\"1113\",\"type\":\"GridBox\"},{\"attributes\":{\"dimension\":1,\"ticker\":{\"id\":\"1017\",\"type\":\"BasicTicker\"}},\"id\":\"1020\",\"type\":\"Grid\"},{\"attributes\":{\"below\":[{\"id\":\"1066\",\"type\":\"LinearAxis\"}],\"center\":[{\"id\":\"1070\",\"type\":\"Grid\"},{\"id\":\"1075\",\"type\":\"Grid\"}],\"left\":[{\"id\":\"1071\",\"type\":\"LinearAxis\"}],\"plot_height\":250,\"plot_width\":250,\"renderers\":[{\"id\":\"1084\",\"type\":\"GlyphRenderer\"}],\"title\":{\"id\":\"1104\",\"type\":\"Title\"},\"toolbar\":{\"id\":\"1078\",\"type\":\"Toolbar\"},\"toolbar_location\":null,\"x_range\":{\"id\":\"1003\",\"type\":\"DataRange1d\"},\"x_scale\":{\"id\":\"1062\",\"type\":\"LinearScale\"},\"y_range\":{\"id\":\"1060\",\"type\":\"DataRange1d\"},\"y_scale\":{\"id\":\"1064\",\"type\":\"LinearScale\"}},\"id\":\"1058\",\"subtype\":\"Figure\",\"type\":\"Plot\"},{\"attributes\":{},\"id\":\"1102\",\"type\":\"UnionRenderers\"},{\"attributes\":{\"fill_color\":{\"value\":\"olive\"},\"line_color\":{\"value\":\"olive\"},\"size\":{\"units\":\"screen\",\"value\":10},\"x\":{\"field\":\"x\"},\"y\":{\"field\":\"y\"}},\"id\":\"1082\",\"type\":\"Square\"},{\"attributes\":{\"active_drag\":\"auto\",\"active_inspect\":\"auto\",\"active_multi\":null,\"active_scroll\":\"auto\",\"active_tap\":\"auto\",\"tools\":[{\"id\":\"1048\",\"type\":\"PanTool\"},{\"id\":\"1049\",\"type\":\"WheelZoomTool\"}]},\"id\":\"1050\",\"type\":\"Toolbar\"},{\"attributes\":{},\"id\":\"1076\",\"type\":\"PanTool\"},{\"attributes\":{},\"id\":\"1048\",\"type\":\"PanTool\"},{\"attributes\":{\"below\":[{\"id\":\"1038\",\"type\":\"LinearAxis\"}],\"center\":[{\"id\":\"1042\",\"type\":\"Grid\"},{\"id\":\"1047\",\"type\":\"Grid\"}],\"left\":[{\"id\":\"1043\",\"type\":\"LinearAxis\"}],\"plot_height\":250,\"plot_width\":250,\"renderers\":[{\"id\":\"1056\",\"type\":\"GlyphRenderer\"}],\"title\":{\"id\":\"1095\",\"type\":\"Title\"},\"toolbar\":{\"id\":\"1050\",\"type\":\"Toolbar\"},\"toolbar_location\":null,\"x_range\":{\"id\":\"1003\",\"type\":\"DataRange1d\"},\"x_scale\":{\"id\":\"1034\",\"type\":\"LinearScale\"},\"y_range\":{\"id\":\"1005\",\"type\":\"DataRange1d\"},\"y_scale\":{\"id\":\"1036\",\"type\":\"LinearScale\"}},\"id\":\"1031\",\"subtype\":\"Figure\",\"type\":\"Plot\"}],\"root_ids\":[\"1116\"]},\"title\":\"Bokeh Application\",\"version\":\"1.3.4\"}};\n",
       "  var render_items = [{\"docid\":\"bd1ae172-52d7-4060-ad57-5dad98456fe9\",\"roots\":{\"1116\":\"202bbb1d-224f-43e2-a5bd-4105b9812b62\"}}];\n",
       "  root.Bokeh.embed.embed_items_notebook(docs_json, render_items);\n",
       "\n",
       "  }\n",
       "  if (root.Bokeh !== undefined) {\n",
       "    embed_document(root);\n",
       "  } else {\n",
       "    var attempts = 0;\n",
       "    var timer = setInterval(function(root) {\n",
       "      if (root.Bokeh !== undefined) {\n",
       "        embed_document(root);\n",
       "        clearInterval(timer);\n",
       "      }\n",
       "      attempts++;\n",
       "      if (attempts > 100) {\n",
       "        console.log(\"Bokeh: ERROR: Unable to run BokehJS code because BokehJS library is missing\");\n",
       "        clearInterval(timer);\n",
       "      }\n",
       "    }, 10, root)\n",
       "  }\n",
       "})(window);"
      ],
      "application/vnd.bokehjs_exec.v0+json": ""
     },
     "metadata": {
      "application/vnd.bokehjs_exec.v0+json": {
       "id": "1116"
      }
     },
     "output_type": "display_data"
    }
   ],
   "source": [
    "from bokeh.layouts import gridplot\n",
    "\n",
    "x = list(range(11))\n",
    "y0, y1, y2 = x, [10-i for i in x], [abs(i-5) for i in x]\n",
    "\n",
    "plot_options = dict(width=250, plot_height=250, tools='pan,wheel_zoom')\n",
    "\n",
    "# create a new plot\n",
    "s1 = figure(**plot_options)\n",
    "s1.circle(x, y0, size=10, color=\"navy\")\n",
    "\n",
    "# create a new plot and share both ranges\n",
    "s2 = figure(x_range=s1.x_range, y_range=s1.y_range, **plot_options)\n",
    "s2.triangle(x, y1, size=10, color=\"firebrick\")\n",
    "\n",
    "# create a new plot and share only one range\n",
    "s3 = figure(x_range=s1.x_range, **plot_options)\n",
    "s3.square(x, y2, size=10, color=\"olive\")\n",
    "\n",
    "p = gridplot([[s1, s2, s3]])\n",
    "\n",
    "# show the results\n",
    "show(p)"
   ]
  },
  {
   "cell_type": "code",
   "execution_count": 3,
   "metadata": {},
   "outputs": [],
   "source": [
    "# EXERCISE: create two plots in a gridplot, and link their ranges\n"
   ]
  },
  {
   "cell_type": "markdown",
   "metadata": {},
   "source": [
    "## Linked brushing\n",
    "\n",
    "Linking selections is accomplished in a similar way, by sharing data sources between plots. Note that normally with ``bokeh.plotting`` and ``bokeh.charts`` creating a default data source for simple plots is handled automatically. However to share a data source, we must create them by hand and pass them explicitly. This is illustrated in the example below:"
   ]
  },
  {
   "cell_type": "code",
   "execution_count": 4,
   "metadata": {},
   "outputs": [
    {
     "data": {
      "text/html": [
       "\n",
       "\n",
       "\n",
       "\n",
       "\n",
       "\n",
       "  <div class=\"bk-root\" id=\"f4e13f57-d139-4627-9ed7-d1c5c44be0d2\" data-root-id=\"1373\"></div>\n"
      ]
     },
     "metadata": {},
     "output_type": "display_data"
    },
    {
     "data": {
      "application/javascript": [
       "(function(root) {\n",
       "  function embed_document(root) {\n",
       "    \n",
       "  var docs_json = {\"ad2fb7bb-23e5-41bc-b376-2a03a4fb060c\":{\"roots\":{\"references\":[{\"attributes\":{\"children\":[{\"id\":\"1372\",\"type\":\"ToolbarBox\"},{\"id\":\"1370\",\"type\":\"GridBox\"}]},\"id\":\"1373\",\"type\":\"Column\"},{\"attributes\":{\"fill_alpha\":{\"value\":0.5},\"fill_color\":{\"value\":\"lightgrey\"},\"level\":\"overlay\",\"line_alpha\":{\"value\":1.0},\"line_color\":{\"value\":\"black\"},\"line_dash\":[4,4],\"line_width\":{\"value\":2},\"xs_units\":\"screen\",\"ys_units\":\"screen\"},\"id\":\"1366\",\"type\":\"PolyAnnotation\"},{\"attributes\":{\"fill_color\":{\"value\":\"#1f77b4\"},\"line_color\":{\"value\":\"#1f77b4\"},\"x\":{\"field\":\"x\"},\"y\":{\"field\":\"y1\"}},\"id\":\"1344\",\"type\":\"Circle\"},{\"attributes\":{},\"id\":\"1362\",\"type\":\"BasicTickFormatter\"},{\"attributes\":{\"active_drag\":\"auto\",\"active_inspect\":\"auto\",\"active_multi\":null,\"active_scroll\":\"auto\",\"active_tap\":\"auto\",\"tools\":[{\"id\":\"1336\",\"type\":\"BoxSelectTool\"},{\"id\":\"1337\",\"type\":\"LassoSelectTool\"},{\"id\":\"1338\",\"type\":\"HelpTool\"}]},\"id\":\"1339\",\"type\":\"Toolbar\"},{\"attributes\":{\"source\":{\"id\":\"1285\",\"type\":\"ColumnDataSource\"}},\"id\":\"1316\",\"type\":\"CDSView\"},{\"attributes\":{\"fill_color\":{\"value\":\"#1f77b4\"},\"line_color\":{\"value\":\"#1f77b4\"},\"x\":{\"field\":\"x\"},\"y\":{\"field\":\"y0\"}},\"id\":\"1313\",\"type\":\"Circle\"},{\"attributes\":{\"callback\":null,\"overlay\":{\"id\":\"1355\",\"type\":\"PolyAnnotation\"}},\"id\":\"1306\",\"type\":\"LassoSelectTool\"},{\"attributes\":{\"callback\":null,\"overlay\":{\"id\":\"1366\",\"type\":\"PolyAnnotation\"}},\"id\":\"1337\",\"type\":\"LassoSelectTool\"},{\"attributes\":{},\"id\":\"1364\",\"type\":\"BasicTickFormatter\"},{\"attributes\":{},\"id\":\"1338\",\"type\":\"HelpTool\"},{\"attributes\":{\"formatter\":{\"id\":\"1351\",\"type\":\"BasicTickFormatter\"},\"ticker\":{\"id\":\"1301\",\"type\":\"BasicTicker\"}},\"id\":\"1300\",\"type\":\"LinearAxis\"},{\"attributes\":{\"bottom_units\":\"screen\",\"fill_alpha\":{\"value\":0.5},\"fill_color\":{\"value\":\"lightgrey\"},\"left_units\":\"screen\",\"level\":\"overlay\",\"line_alpha\":{\"value\":1.0},\"line_color\":{\"value\":\"black\"},\"line_dash\":[4,4],\"line_width\":{\"value\":2},\"render_mode\":\"css\",\"right_units\":\"screen\",\"top_units\":\"screen\"},\"id\":\"1365\",\"type\":\"BoxAnnotation\"},{\"attributes\":{\"fill_alpha\":{\"value\":0.1},\"fill_color\":{\"value\":\"#1f77b4\"},\"line_alpha\":{\"value\":0.1},\"line_color\":{\"value\":\"#1f77b4\"},\"x\":{\"field\":\"x\"},\"y\":{\"field\":\"y1\"}},\"id\":\"1345\",\"type\":\"Circle\"},{\"attributes\":{\"dimension\":1,\"ticker\":{\"id\":\"1301\",\"type\":\"BasicTicker\"}},\"id\":\"1304\",\"type\":\"Grid\"},{\"attributes\":{\"data_source\":{\"id\":\"1285\",\"type\":\"ColumnDataSource\"},\"glyph\":{\"id\":\"1313\",\"type\":\"Circle\"},\"hover_glyph\":null,\"muted_glyph\":null,\"nonselection_glyph\":{\"id\":\"1314\",\"type\":\"Circle\"},\"selection_glyph\":null,\"view\":{\"id\":\"1316\",\"type\":\"CDSView\"}},\"id\":\"1315\",\"type\":\"GlyphRenderer\"},{\"attributes\":{\"ticker\":{\"id\":\"1296\",\"type\":\"BasicTicker\"}},\"id\":\"1299\",\"type\":\"Grid\"},{\"attributes\":{\"callback\":null,\"overlay\":{\"id\":\"1365\",\"type\":\"BoxAnnotation\"}},\"id\":\"1336\",\"type\":\"BoxSelectTool\"},{\"attributes\":{\"fill_alpha\":{\"value\":0.1},\"fill_color\":{\"value\":\"#1f77b4\"},\"line_alpha\":{\"value\":0.1},\"line_color\":{\"value\":\"#1f77b4\"},\"x\":{\"field\":\"x\"},\"y\":{\"field\":\"y0\"}},\"id\":\"1314\",\"type\":\"Circle\"},{\"attributes\":{\"callback\":null,\"data\":{\"x\":[-20,-19,-18,-17,-16,-15,-14,-13,-12,-11,-10,-9,-8,-7,-6,-5,-4,-3,-2,-1,0,1,2,3,4,5,6,7,8,9,10,11,12,13,14,15,16,17,18,19,20],\"y0\":[20,19,18,17,16,15,14,13,12,11,10,9,8,7,6,5,4,3,2,1,0,1,2,3,4,5,6,7,8,9,10,11,12,13,14,15,16,17,18,19,20],\"y1\":[400,361,324,289,256,225,196,169,144,121,100,81,64,49,36,25,16,9,4,1,0,1,4,9,16,25,36,49,64,81,100,121,144,169,196,225,256,289,324,361,400]},\"selected\":{\"id\":\"1356\",\"type\":\"Selection\"},\"selection_policy\":{\"id\":\"1357\",\"type\":\"UnionRenderers\"}},\"id\":\"1285\",\"type\":\"ColumnDataSource\"},{\"attributes\":{\"tools\":[{\"id\":\"1305\",\"type\":\"BoxSelectTool\"},{\"id\":\"1306\",\"type\":\"LassoSelectTool\"},{\"id\":\"1307\",\"type\":\"HelpTool\"},{\"id\":\"1336\",\"type\":\"BoxSelectTool\"},{\"id\":\"1337\",\"type\":\"LassoSelectTool\"},{\"id\":\"1338\",\"type\":\"HelpTool\"}]},\"id\":\"1371\",\"type\":\"ProxyToolbar\"},{\"attributes\":{\"active_drag\":\"auto\",\"active_inspect\":\"auto\",\"active_multi\":null,\"active_scroll\":\"auto\",\"active_tap\":\"auto\",\"tools\":[{\"id\":\"1305\",\"type\":\"BoxSelectTool\"},{\"id\":\"1306\",\"type\":\"LassoSelectTool\"},{\"id\":\"1307\",\"type\":\"HelpTool\"}]},\"id\":\"1308\",\"type\":\"Toolbar\"},{\"attributes\":{},\"id\":\"1301\",\"type\":\"BasicTicker\"},{\"attributes\":{\"toolbar\":{\"id\":\"1371\",\"type\":\"ProxyToolbar\"},\"toolbar_location\":\"above\"},\"id\":\"1372\",\"type\":\"ToolbarBox\"},{\"attributes\":{},\"id\":\"1307\",\"type\":\"HelpTool\"},{\"attributes\":{\"callback\":null,\"overlay\":{\"id\":\"1354\",\"type\":\"BoxAnnotation\"}},\"id\":\"1305\",\"type\":\"BoxSelectTool\"},{\"attributes\":{\"below\":[{\"id\":\"1326\",\"type\":\"LinearAxis\"}],\"center\":[{\"id\":\"1330\",\"type\":\"Grid\"},{\"id\":\"1335\",\"type\":\"Grid\"}],\"left\":[{\"id\":\"1331\",\"type\":\"LinearAxis\"}],\"plot_height\":300,\"plot_width\":300,\"renderers\":[{\"id\":\"1346\",\"type\":\"GlyphRenderer\"}],\"title\":{\"id\":\"1359\",\"type\":\"Title\"},\"toolbar\":{\"id\":\"1339\",\"type\":\"Toolbar\"},\"toolbar_location\":null,\"x_range\":{\"id\":\"1318\",\"type\":\"DataRange1d\"},\"x_scale\":{\"id\":\"1322\",\"type\":\"LinearScale\"},\"y_range\":{\"id\":\"1320\",\"type\":\"DataRange1d\"},\"y_scale\":{\"id\":\"1324\",\"type\":\"LinearScale\"}},\"id\":\"1317\",\"subtype\":\"Figure\",\"type\":\"Plot\"},{\"attributes\":{\"callback\":null},\"id\":\"1320\",\"type\":\"DataRange1d\"},{\"attributes\":{\"children\":[[{\"id\":\"1286\",\"subtype\":\"Figure\",\"type\":\"Plot\"},0,0],[{\"id\":\"1317\",\"subtype\":\"Figure\",\"type\":\"Plot\"},0,1]]},\"id\":\"1370\",\"type\":\"GridBox\"},{\"attributes\":{},\"id\":\"1351\",\"type\":\"BasicTickFormatter\"},{\"attributes\":{\"callback\":null},\"id\":\"1318\",\"type\":\"DataRange1d\"},{\"attributes\":{\"fill_alpha\":{\"value\":0.5},\"fill_color\":{\"value\":\"lightgrey\"},\"level\":\"overlay\",\"line_alpha\":{\"value\":1.0},\"line_color\":{\"value\":\"black\"},\"line_dash\":[4,4],\"line_width\":{\"value\":2},\"xs_units\":\"screen\",\"ys_units\":\"screen\"},\"id\":\"1355\",\"type\":\"PolyAnnotation\"},{\"attributes\":{},\"id\":\"1296\",\"type\":\"BasicTicker\"},{\"attributes\":{\"ticker\":{\"id\":\"1327\",\"type\":\"BasicTicker\"}},\"id\":\"1330\",\"type\":\"Grid\"},{\"attributes\":{\"bottom_units\":\"screen\",\"fill_alpha\":{\"value\":0.5},\"fill_color\":{\"value\":\"lightgrey\"},\"left_units\":\"screen\",\"level\":\"overlay\",\"line_alpha\":{\"value\":1.0},\"line_color\":{\"value\":\"black\"},\"line_dash\":[4,4],\"line_width\":{\"value\":2},\"render_mode\":\"css\",\"right_units\":\"screen\",\"top_units\":\"screen\"},\"id\":\"1354\",\"type\":\"BoxAnnotation\"},{\"attributes\":{\"text\":\"\"},\"id\":\"1359\",\"type\":\"Title\"},{\"attributes\":{},\"id\":\"1327\",\"type\":\"BasicTicker\"},{\"attributes\":{\"formatter\":{\"id\":\"1353\",\"type\":\"BasicTickFormatter\"},\"ticker\":{\"id\":\"1296\",\"type\":\"BasicTicker\"}},\"id\":\"1295\",\"type\":\"LinearAxis\"},{\"attributes\":{},\"id\":\"1324\",\"type\":\"LinearScale\"},{\"attributes\":{\"dimension\":1,\"ticker\":{\"id\":\"1332\",\"type\":\"BasicTicker\"}},\"id\":\"1335\",\"type\":\"Grid\"},{\"attributes\":{\"formatter\":{\"id\":\"1364\",\"type\":\"BasicTickFormatter\"},\"ticker\":{\"id\":\"1327\",\"type\":\"BasicTicker\"}},\"id\":\"1326\",\"type\":\"LinearAxis\"},{\"attributes\":{},\"id\":\"1322\",\"type\":\"LinearScale\"},{\"attributes\":{\"formatter\":{\"id\":\"1362\",\"type\":\"BasicTickFormatter\"},\"ticker\":{\"id\":\"1332\",\"type\":\"BasicTicker\"}},\"id\":\"1331\",\"type\":\"LinearAxis\"},{\"attributes\":{},\"id\":\"1357\",\"type\":\"UnionRenderers\"},{\"attributes\":{\"below\":[{\"id\":\"1295\",\"type\":\"LinearAxis\"}],\"center\":[{\"id\":\"1299\",\"type\":\"Grid\"},{\"id\":\"1304\",\"type\":\"Grid\"}],\"left\":[{\"id\":\"1300\",\"type\":\"LinearAxis\"}],\"plot_height\":300,\"plot_width\":300,\"renderers\":[{\"id\":\"1315\",\"type\":\"GlyphRenderer\"}],\"title\":{\"id\":\"1348\",\"type\":\"Title\"},\"toolbar\":{\"id\":\"1308\",\"type\":\"Toolbar\"},\"toolbar_location\":null,\"x_range\":{\"id\":\"1287\",\"type\":\"DataRange1d\"},\"x_scale\":{\"id\":\"1291\",\"type\":\"LinearScale\"},\"y_range\":{\"id\":\"1289\",\"type\":\"DataRange1d\"},\"y_scale\":{\"id\":\"1293\",\"type\":\"LinearScale\"}},\"id\":\"1286\",\"subtype\":\"Figure\",\"type\":\"Plot\"},{\"attributes\":{},\"id\":\"1332\",\"type\":\"BasicTicker\"},{\"attributes\":{\"callback\":null},\"id\":\"1287\",\"type\":\"DataRange1d\"},{\"attributes\":{\"callback\":null},\"id\":\"1289\",\"type\":\"DataRange1d\"},{\"attributes\":{\"text\":\"\"},\"id\":\"1348\",\"type\":\"Title\"},{\"attributes\":{},\"id\":\"1353\",\"type\":\"BasicTickFormatter\"},{\"attributes\":{\"source\":{\"id\":\"1285\",\"type\":\"ColumnDataSource\"}},\"id\":\"1347\",\"type\":\"CDSView\"},{\"attributes\":{},\"id\":\"1291\",\"type\":\"LinearScale\"},{\"attributes\":{},\"id\":\"1356\",\"type\":\"Selection\"},{\"attributes\":{},\"id\":\"1293\",\"type\":\"LinearScale\"},{\"attributes\":{\"data_source\":{\"id\":\"1285\",\"type\":\"ColumnDataSource\"},\"glyph\":{\"id\":\"1344\",\"type\":\"Circle\"},\"hover_glyph\":null,\"muted_glyph\":null,\"nonselection_glyph\":{\"id\":\"1345\",\"type\":\"Circle\"},\"selection_glyph\":null,\"view\":{\"id\":\"1347\",\"type\":\"CDSView\"}},\"id\":\"1346\",\"type\":\"GlyphRenderer\"}],\"root_ids\":[\"1373\"]},\"title\":\"Bokeh Application\",\"version\":\"1.3.4\"}};\n",
       "  var render_items = [{\"docid\":\"ad2fb7bb-23e5-41bc-b376-2a03a4fb060c\",\"roots\":{\"1373\":\"f4e13f57-d139-4627-9ed7-d1c5c44be0d2\"}}];\n",
       "  root.Bokeh.embed.embed_items_notebook(docs_json, render_items);\n",
       "\n",
       "  }\n",
       "  if (root.Bokeh !== undefined) {\n",
       "    embed_document(root);\n",
       "  } else {\n",
       "    var attempts = 0;\n",
       "    var timer = setInterval(function(root) {\n",
       "      if (root.Bokeh !== undefined) {\n",
       "        embed_document(root);\n",
       "        clearInterval(timer);\n",
       "      }\n",
       "      attempts++;\n",
       "      if (attempts > 100) {\n",
       "        console.log(\"Bokeh: ERROR: Unable to run BokehJS code because BokehJS library is missing\");\n",
       "        clearInterval(timer);\n",
       "      }\n",
       "    }, 10, root)\n",
       "  }\n",
       "})(window);"
      ],
      "application/vnd.bokehjs_exec.v0+json": ""
     },
     "metadata": {
      "application/vnd.bokehjs_exec.v0+json": {
       "id": "1373"
      }
     },
     "output_type": "display_data"
    }
   ],
   "source": [
    "from bokeh.models import ColumnDataSource\n",
    "\n",
    "x = list(range(-20, 21))\n",
    "y0, y1 = [abs(xx) for xx in x], [xx**2 for xx in x]\n",
    "\n",
    "# create a column data source for the plots to share\n",
    "source = ColumnDataSource(data=dict(x=x, y0=y0, y1=y1))\n",
    "\n",
    "TOOLS = \"box_select,lasso_select,help\"\n",
    "\n",
    "# create a new plot and add a renderer\n",
    "left = figure(tools=TOOLS, width=300, height=300)\n",
    "left.circle('x', 'y0', source=source)\n",
    "\n",
    "# create another new plot and add a renderer\n",
    "right = figure(tools=TOOLS, width=300, height=300)\n",
    "right.circle('x', 'y1', source=source)\n",
    "\n",
    "p = gridplot([[left, right]])\n",
    "\n",
    "show(p)"
   ]
  },
  {
   "cell_type": "code",
   "execution_count": 5,
   "metadata": {},
   "outputs": [],
   "source": [
    "# EXERCISE: create two plots in a gridplot, and link their data sources\n",
    "\n"
   ]
  },
  {
   "cell_type": "markdown",
   "metadata": {},
   "source": [
    "# Hover Tools\n",
    "\n",
    "Bokeh has a Hover Tool that allows additional information to be displayed in a popup whenever the user hovers over a specific glyph. Basic hover tool configuration amounts to providing a list of ``(name, format)`` tuples. The full details can be found in the User's Guide [here](http://bokeh.pydata.org/en/latest/docs/user_guide/tools.html#hovertool).\n",
    "\n",
    "The example below shows some basic usage of the Hover tool with a circle glyph, using hover information defined in utils.py:"
   ]
  },
  {
   "cell_type": "code",
   "execution_count": 6,
   "metadata": {},
   "outputs": [
    {
     "data": {
      "text/html": [
       "\n",
       "\n",
       "\n",
       "\n",
       "\n",
       "\n",
       "  <div class=\"bk-root\" id=\"d8ecd007-3f3e-4c41-8c08-1b29062d600b\" data-root-id=\"1528\"></div>\n"
      ]
     },
     "metadata": {},
     "output_type": "display_data"
    },
    {
     "data": {
      "application/javascript": [
       "(function(root) {\n",
       "  function embed_document(root) {\n",
       "    \n",
       "  var docs_json = {\"ce1d0aad-2d67-428c-a202-896c160044a5\":{\"roots\":{\"references\":[{\"attributes\":{\"below\":[{\"id\":\"1539\",\"type\":\"LinearAxis\"}],\"center\":[{\"id\":\"1543\",\"type\":\"Grid\"},{\"id\":\"1548\",\"type\":\"Grid\"}],\"left\":[{\"id\":\"1544\",\"type\":\"LinearAxis\"}],\"plot_height\":300,\"plot_width\":300,\"renderers\":[{\"id\":\"1554\",\"type\":\"GlyphRenderer\"}],\"title\":{\"id\":\"1529\",\"type\":\"Title\"},\"toolbar\":{\"id\":\"1549\",\"type\":\"Toolbar\"},\"x_range\":{\"id\":\"1531\",\"type\":\"DataRange1d\"},\"x_scale\":{\"id\":\"1535\",\"type\":\"LinearScale\"},\"y_range\":{\"id\":\"1533\",\"type\":\"DataRange1d\"},\"y_scale\":{\"id\":\"1537\",\"type\":\"LinearScale\"}},\"id\":\"1528\",\"subtype\":\"Figure\",\"type\":\"Plot\"},{\"attributes\":{},\"id\":\"1600\",\"type\":\"BasicTickFormatter\"},{\"attributes\":{\"callback\":null,\"tooltips\":[[\"index\",\"$index\"],[\"(x,y)\",\"($x, $y)\"],[\"desc\",\"@desc\"]]},\"id\":\"1527\",\"type\":\"HoverTool\"},{\"attributes\":{\"active_drag\":\"auto\",\"active_inspect\":\"auto\",\"active_multi\":null,\"active_scroll\":\"auto\",\"active_tap\":\"auto\",\"tools\":[{\"id\":\"1527\",\"type\":\"HoverTool\"}]},\"id\":\"1549\",\"type\":\"Toolbar\"},{\"attributes\":{\"dimension\":1,\"ticker\":{\"id\":\"1545\",\"type\":\"BasicTicker\"}},\"id\":\"1548\",\"type\":\"Grid\"},{\"attributes\":{\"callback\":null},\"id\":\"1531\",\"type\":\"DataRange1d\"},{\"attributes\":{\"data_source\":{\"id\":\"1526\",\"type\":\"ColumnDataSource\"},\"glyph\":{\"id\":\"1552\",\"type\":\"Circle\"},\"hover_glyph\":null,\"muted_glyph\":null,\"nonselection_glyph\":{\"id\":\"1553\",\"type\":\"Circle\"},\"selection_glyph\":null,\"view\":{\"id\":\"1555\",\"type\":\"CDSView\"}},\"id\":\"1554\",\"type\":\"GlyphRenderer\"},{\"attributes\":{\"fill_alpha\":{\"value\":0.1},\"fill_color\":{\"value\":\"#1f77b4\"},\"line_alpha\":{\"value\":0.1},\"line_color\":{\"value\":\"#1f77b4\"},\"size\":{\"units\":\"screen\",\"value\":20},\"x\":{\"field\":\"x\"},\"y\":{\"field\":\"y\"}},\"id\":\"1553\",\"type\":\"Circle\"},{\"attributes\":{},\"id\":\"1535\",\"type\":\"LinearScale\"},{\"attributes\":{\"source\":{\"id\":\"1526\",\"type\":\"ColumnDataSource\"}},\"id\":\"1555\",\"type\":\"CDSView\"},{\"attributes\":{},\"id\":\"1603\",\"type\":\"Selection\"},{\"attributes\":{\"callback\":null},\"id\":\"1533\",\"type\":\"DataRange1d\"},{\"attributes\":{},\"id\":\"1604\",\"type\":\"UnionRenderers\"},{\"attributes\":{\"formatter\":{\"id\":\"1600\",\"type\":\"BasicTickFormatter\"},\"ticker\":{\"id\":\"1545\",\"type\":\"BasicTicker\"}},\"id\":\"1544\",\"type\":\"LinearAxis\"},{\"attributes\":{\"ticker\":{\"id\":\"1540\",\"type\":\"BasicTicker\"}},\"id\":\"1543\",\"type\":\"Grid\"},{\"attributes\":{},\"id\":\"1540\",\"type\":\"BasicTicker\"},{\"attributes\":{},\"id\":\"1537\",\"type\":\"LinearScale\"},{\"attributes\":{},\"id\":\"1545\",\"type\":\"BasicTicker\"},{\"attributes\":{},\"id\":\"1602\",\"type\":\"BasicTickFormatter\"},{\"attributes\":{\"formatter\":{\"id\":\"1602\",\"type\":\"BasicTickFormatter\"},\"ticker\":{\"id\":\"1540\",\"type\":\"BasicTicker\"}},\"id\":\"1539\",\"type\":\"LinearAxis\"},{\"attributes\":{\"callback\":null,\"data\":{\"desc\":[\"A\",\"b\",\"C\",\"d\",\"E\"],\"x\":[1,2,3,4,5],\"y\":[2,5,8,2,7]},\"selected\":{\"id\":\"1603\",\"type\":\"Selection\"},\"selection_policy\":{\"id\":\"1604\",\"type\":\"UnionRenderers\"}},\"id\":\"1526\",\"type\":\"ColumnDataSource\"},{\"attributes\":{\"text\":\"Mouse over the dots\"},\"id\":\"1529\",\"type\":\"Title\"},{\"attributes\":{\"fill_color\":{\"value\":\"#1f77b4\"},\"line_color\":{\"value\":\"#1f77b4\"},\"size\":{\"units\":\"screen\",\"value\":20},\"x\":{\"field\":\"x\"},\"y\":{\"field\":\"y\"}},\"id\":\"1552\",\"type\":\"Circle\"}],\"root_ids\":[\"1528\"]},\"title\":\"Bokeh Application\",\"version\":\"1.3.4\"}};\n",
       "  var render_items = [{\"docid\":\"ce1d0aad-2d67-428c-a202-896c160044a5\",\"roots\":{\"1528\":\"d8ecd007-3f3e-4c41-8c08-1b29062d600b\"}}];\n",
       "  root.Bokeh.embed.embed_items_notebook(docs_json, render_items);\n",
       "\n",
       "  }\n",
       "  if (root.Bokeh !== undefined) {\n",
       "    embed_document(root);\n",
       "  } else {\n",
       "    var attempts = 0;\n",
       "    var timer = setInterval(function(root) {\n",
       "      if (root.Bokeh !== undefined) {\n",
       "        embed_document(root);\n",
       "        clearInterval(timer);\n",
       "      }\n",
       "      attempts++;\n",
       "      if (attempts > 100) {\n",
       "        console.log(\"Bokeh: ERROR: Unable to run BokehJS code because BokehJS library is missing\");\n",
       "        clearInterval(timer);\n",
       "      }\n",
       "    }, 10, root)\n",
       "  }\n",
       "})(window);"
      ],
      "application/vnd.bokehjs_exec.v0+json": ""
     },
     "metadata": {
      "application/vnd.bokehjs_exec.v0+json": {
       "id": "1528"
      }
     },
     "output_type": "display_data"
    }
   ],
   "source": [
    "from bokeh.models import HoverTool\n",
    "\n",
    "source = ColumnDataSource(\n",
    "        data=dict(\n",
    "            x=[1, 2, 3, 4, 5],\n",
    "            y=[2, 5, 8, 2, 7],\n",
    "            desc=['A', 'b', 'C', 'd', 'E'],\n",
    "        )\n",
    "    )\n",
    "\n",
    "hover = HoverTool(\n",
    "        tooltips=[\n",
    "            (\"index\", \"$index\"),\n",
    "            (\"(x,y)\", \"($x, $y)\"),\n",
    "            (\"desc\", \"@desc\"),\n",
    "        ]\n",
    "    )\n",
    "\n",
    "p = figure(plot_width=300, plot_height=300, tools=[hover], title=\"Mouse over the dots\")\n",
    "\n",
    "p.circle('x', 'y', size=20, source=source)\n",
    "\n",
    "show(p)"
   ]
  },
  {
   "cell_type": "markdown",
   "metadata": {},
   "source": [
    "# Widgets"
   ]
  },
  {
   "cell_type": "markdown",
   "metadata": {},
   "source": [
    "Bokeh supports direct integration with a small basic widget set. Thse can be used in conjunction with a Bokeh Server, or with ``CustomJS`` models to add more interactive capability to your documents. You can see a complete list, with example code in the [Adding Widgets](http://bokeh.pydata.org/en/latest/docs/user_guide/interaction.html#adding-widgets) section of the User's Guide. \n",
    "\n",
    "\n",
    "\n",
    "*NOTE: In this Tutorial chapter, we will focus on using widgets with JavaScript callbacks. The Tutorial chapter on Bokeh server applications covers using Bokeh widgets with real Python callbacks*\n",
    "\n",
    "\n",
    "\n",
    "\n",
    "To use the widgets, include them in a layout like you would a plot object:"
   ]
  },
  {
   "cell_type": "code",
   "execution_count": 7,
   "metadata": {},
   "outputs": [
    {
     "data": {
      "text/html": [
       "\n",
       "\n",
       "\n",
       "\n",
       "\n",
       "\n",
       "  <div class=\"bk-root\" id=\"d2266687-af44-4def-8851-d06def27bf9e\" data-root-id=\"1648\"></div>\n"
      ]
     },
     "metadata": {},
     "output_type": "display_data"
    },
    {
     "data": {
      "application/javascript": [
       "(function(root) {\n",
       "  function embed_document(root) {\n",
       "    \n",
       "  var docs_json = {\"966544b5-a383-4946-9165-cb6d2df1a9f0\":{\"roots\":{\"references\":[{\"attributes\":{\"children\":[{\"id\":\"1647\",\"type\":\"Slider\"}]},\"id\":\"1648\",\"type\":\"WidgetBox\"},{\"attributes\":{\"callback\":null,\"end\":10,\"start\":0,\"step\":0.1,\"title\":\"foo\",\"value\":1},\"id\":\"1647\",\"type\":\"Slider\"}],\"root_ids\":[\"1648\"]},\"title\":\"Bokeh Application\",\"version\":\"1.3.4\"}};\n",
       "  var render_items = [{\"docid\":\"966544b5-a383-4946-9165-cb6d2df1a9f0\",\"roots\":{\"1648\":\"d2266687-af44-4def-8851-d06def27bf9e\"}}];\n",
       "  root.Bokeh.embed.embed_items_notebook(docs_json, render_items);\n",
       "\n",
       "  }\n",
       "  if (root.Bokeh !== undefined) {\n",
       "    embed_document(root);\n",
       "  } else {\n",
       "    var attempts = 0;\n",
       "    var timer = setInterval(function(root) {\n",
       "      if (root.Bokeh !== undefined) {\n",
       "        embed_document(root);\n",
       "        clearInterval(timer);\n",
       "      }\n",
       "      attempts++;\n",
       "      if (attempts > 100) {\n",
       "        console.log(\"Bokeh: ERROR: Unable to run BokehJS code because BokehJS library is missing\");\n",
       "        clearInterval(timer);\n",
       "      }\n",
       "    }, 10, root)\n",
       "  }\n",
       "})(window);"
      ],
      "application/vnd.bokehjs_exec.v0+json": ""
     },
     "metadata": {
      "application/vnd.bokehjs_exec.v0+json": {
       "id": "1648"
      }
     },
     "output_type": "display_data"
    }
   ],
   "source": [
    "from bokeh.layouts import widgetbox\n",
    "from bokeh.models.widgets import Slider\n",
    "\n",
    "\n",
    "slider = Slider(start=0, end=10, value=1, step=.1, title=\"foo\")\n",
    "\n",
    "show(widgetbox(slider))"
   ]
  },
  {
   "cell_type": "code",
   "execution_count": 8,
   "metadata": {},
   "outputs": [],
   "source": [
    "# EXERCISE: create and show a Select widget \n"
   ]
  },
  {
   "cell_type": "markdown",
   "metadata": {},
   "source": [
    "# CustomJS Callbacks\n",
    "\n",
    "In order for a widget to be useful, it needs to be able to perform some action. Using the Bokeh server, it is possible to have widgets trigger real Python code. That possibuility will be explored in the Bokeh server chapter of the turorial. Here, we look at how widgets can be configured with `CustomJS` callbacks that execute snippets of JavaScript code. "
   ]
  },
  {
   "cell_type": "code",
   "execution_count": 9,
   "metadata": {},
   "outputs": [
    {
     "data": {
      "text/html": [
       "\n",
       "\n",
       "\n",
       "\n",
       "\n",
       "\n",
       "  <div class=\"bk-root\" id=\"0e52f6b9-be4e-462c-8308-8357eef4ab52\" data-root-id=\"1700\"></div>\n"
      ]
     },
     "metadata": {},
     "output_type": "display_data"
    },
    {
     "data": {
      "application/javascript": [
       "(function(root) {\n",
       "  function embed_document(root) {\n",
       "    \n",
       "  var docs_json = {\"9625abe1-4457-410d-a7eb-58ceb68597b6\":{\"roots\":{\"references\":[{\"attributes\":{\"below\":[{\"id\":\"1709\",\"type\":\"LinearAxis\"}],\"center\":[{\"id\":\"1713\",\"type\":\"Grid\"},{\"id\":\"1718\",\"type\":\"Grid\"}],\"left\":[{\"id\":\"1714\",\"type\":\"LinearAxis\"}],\"plot_height\":300,\"renderers\":[{\"id\":\"1724\",\"type\":\"GlyphRenderer\"}],\"title\":{\"id\":\"1775\",\"type\":\"Title\"},\"toolbar\":{\"id\":\"1719\",\"type\":\"Toolbar\"},\"x_range\":{\"id\":\"1701\",\"type\":\"DataRange1d\"},\"x_scale\":{\"id\":\"1705\",\"type\":\"LinearScale\"},\"y_range\":{\"id\":\"1703\",\"type\":\"DataRange1d\"},\"y_scale\":{\"id\":\"1707\",\"type\":\"LinearScale\"}},\"id\":\"1700\",\"subtype\":\"Figure\",\"type\":\"Plot\"},{\"attributes\":{},\"id\":\"1778\",\"type\":\"BasicTickFormatter\"},{\"attributes\":{},\"id\":\"1780\",\"type\":\"BasicTickFormatter\"},{\"attributes\":{\"callback\":null},\"id\":\"1701\",\"type\":\"DataRange1d\"},{\"attributes\":{},\"id\":\"1781\",\"type\":\"Selection\"},{\"attributes\":{},\"id\":\"1707\",\"type\":\"LinearScale\"},{\"attributes\":{},\"id\":\"1782\",\"type\":\"UnionRenderers\"},{\"attributes\":{\"code\":\"alert('you tapped a circle!')\"},\"id\":\"1698\",\"type\":\"CustomJS\"},{\"attributes\":{\"formatter\":{\"id\":\"1780\",\"type\":\"BasicTickFormatter\"},\"ticker\":{\"id\":\"1710\",\"type\":\"BasicTicker\"}},\"id\":\"1709\",\"type\":\"LinearAxis\"},{\"attributes\":{\"callback\":null},\"id\":\"1703\",\"type\":\"DataRange1d\"},{\"attributes\":{\"ticker\":{\"id\":\"1710\",\"type\":\"BasicTicker\"}},\"id\":\"1713\",\"type\":\"Grid\"},{\"attributes\":{},\"id\":\"1705\",\"type\":\"LinearScale\"},{\"attributes\":{},\"id\":\"1715\",\"type\":\"BasicTicker\"},{\"attributes\":{},\"id\":\"1710\",\"type\":\"BasicTicker\"},{\"attributes\":{\"fill_color\":{\"value\":\"#1f77b4\"},\"line_color\":{\"value\":\"#1f77b4\"},\"size\":{\"units\":\"screen\",\"value\":20},\"x\":{\"field\":\"x\"},\"y\":{\"field\":\"y\"}},\"id\":\"1722\",\"type\":\"Circle\"},{\"attributes\":{\"callback\":{\"id\":\"1698\",\"type\":\"CustomJS\"}},\"id\":\"1699\",\"type\":\"TapTool\"},{\"attributes\":{\"formatter\":{\"id\":\"1778\",\"type\":\"BasicTickFormatter\"},\"ticker\":{\"id\":\"1715\",\"type\":\"BasicTicker\"}},\"id\":\"1714\",\"type\":\"LinearAxis\"},{\"attributes\":{\"active_drag\":\"auto\",\"active_inspect\":\"auto\",\"active_multi\":null,\"active_scroll\":\"auto\",\"active_tap\":\"auto\",\"tools\":[{\"id\":\"1699\",\"type\":\"TapTool\"}]},\"id\":\"1719\",\"type\":\"Toolbar\"},{\"attributes\":{\"fill_alpha\":{\"value\":0.1},\"fill_color\":{\"value\":\"#1f77b4\"},\"line_alpha\":{\"value\":0.1},\"line_color\":{\"value\":\"#1f77b4\"},\"size\":{\"units\":\"screen\",\"value\":20},\"x\":{\"field\":\"x\"},\"y\":{\"field\":\"y\"}},\"id\":\"1723\",\"type\":\"Circle\"},{\"attributes\":{\"text\":\"\"},\"id\":\"1775\",\"type\":\"Title\"},{\"attributes\":{\"dimension\":1,\"ticker\":{\"id\":\"1715\",\"type\":\"BasicTicker\"}},\"id\":\"1718\",\"type\":\"Grid\"},{\"attributes\":{\"data_source\":{\"id\":\"1721\",\"type\":\"ColumnDataSource\"},\"glyph\":{\"id\":\"1722\",\"type\":\"Circle\"},\"hover_glyph\":null,\"muted_glyph\":null,\"nonselection_glyph\":{\"id\":\"1723\",\"type\":\"Circle\"},\"selection_glyph\":null,\"view\":{\"id\":\"1725\",\"type\":\"CDSView\"}},\"id\":\"1724\",\"type\":\"GlyphRenderer\"},{\"attributes\":{\"source\":{\"id\":\"1721\",\"type\":\"ColumnDataSource\"}},\"id\":\"1725\",\"type\":\"CDSView\"},{\"attributes\":{\"callback\":null,\"data\":{\"x\":[1,2,3,4,5],\"y\":[2,5,8,2,7]},\"selected\":{\"id\":\"1781\",\"type\":\"Selection\"},\"selection_policy\":{\"id\":\"1782\",\"type\":\"UnionRenderers\"}},\"id\":\"1721\",\"type\":\"ColumnDataSource\"}],\"root_ids\":[\"1700\"]},\"title\":\"Bokeh Application\",\"version\":\"1.3.4\"}};\n",
       "  var render_items = [{\"docid\":\"9625abe1-4457-410d-a7eb-58ceb68597b6\",\"roots\":{\"1700\":\"0e52f6b9-be4e-462c-8308-8357eef4ab52\"}}];\n",
       "  root.Bokeh.embed.embed_items_notebook(docs_json, render_items);\n",
       "\n",
       "  }\n",
       "  if (root.Bokeh !== undefined) {\n",
       "    embed_document(root);\n",
       "  } else {\n",
       "    var attempts = 0;\n",
       "    var timer = setInterval(function(root) {\n",
       "      if (root.Bokeh !== undefined) {\n",
       "        embed_document(root);\n",
       "        clearInterval(timer);\n",
       "      }\n",
       "      attempts++;\n",
       "      if (attempts > 100) {\n",
       "        console.log(\"Bokeh: ERROR: Unable to run BokehJS code because BokehJS library is missing\");\n",
       "        clearInterval(timer);\n",
       "      }\n",
       "    }, 10, root)\n",
       "  }\n",
       "})(window);"
      ],
      "application/vnd.bokehjs_exec.v0+json": ""
     },
     "metadata": {
      "application/vnd.bokehjs_exec.v0+json": {
       "id": "1700"
      }
     },
     "output_type": "display_data"
    }
   ],
   "source": [
    "from bokeh.models import TapTool, CustomJS, ColumnDataSource\n",
    "\n",
    "callback = CustomJS(code=\"alert('you tapped a circle!')\")\n",
    "tap = TapTool(callback=callback)\n",
    "\n",
    "p = figure(plot_width=600, plot_height=300, tools=[tap])\n",
    "\n",
    "p.circle(x=[1, 2, 3, 4, 5], y=[2, 5, 8, 2, 7], size=20)\n",
    "\n",
    "show(p)"
   ]
  },
  {
   "cell_type": "markdown",
   "metadata": {},
   "source": [
    "## CustomJS for Property changes\n",
    "\n",
    "Bokeh objects that have values associated can have small JavaScript actions attached to them using the `js_on_change` method. These actions (also referred to as \"callbacks\") are executed whenever the widget's value is changed. In order to make it easier to refer to specific Bokeh models (e.g., a data source, or a glyhph) from JavaScript, the ``CustomJS`` obejct also accepts a dictionary of \"args\" that map names to Python Bokeh models. The corresponding JavaScript models are made available automaticaly to the ``CustomJS`` code:\n",
    "\n",
    "```python\n",
    "CustomJS(args=dict(source=source, slider=slider), code=\"\"\"\n",
    "    // easily refer to BokehJS source and slider objects in this JS code\n",
    "    var data = source.data;\n",
    "    var f = slider.value;\n",
    "\"\"\")\n",
    "```"
   ]
  },
  {
   "cell_type": "markdown",
   "metadata": {},
   "source": [
    "### Slider widget example\n",
    "\n",
    "The example below shows an action attached to a slider that updates a data source whenever the slider is moved.  "
   ]
  },
  {
   "cell_type": "code",
   "execution_count": 10,
   "metadata": {},
   "outputs": [
    {
     "data": {
      "text/html": [
       "\n",
       "\n",
       "\n",
       "\n",
       "\n",
       "\n",
       "  <div class=\"bk-root\" id=\"b2b16d7b-d488-42e5-9f04-93f2bae32573\" data-root-id=\"1871\"></div>\n"
      ]
     },
     "metadata": {},
     "output_type": "display_data"
    },
    {
     "data": {
      "application/javascript": [
       "(function(root) {\n",
       "  function embed_document(root) {\n",
       "    \n",
       "  var docs_json = {\"f6a7034c-5b32-418a-a5b5-2f9da09f5eb8\":{\"roots\":{\"references\":[{\"attributes\":{\"children\":[{\"id\":\"1869\",\"type\":\"Slider\"},{\"id\":\"1832\",\"subtype\":\"Figure\",\"type\":\"Plot\"}]},\"id\":\"1871\",\"type\":\"Column\"},{\"attributes\":{\"callback\":null},\"id\":\"1835\",\"type\":\"DataRange1d\"},{\"attributes\":{},\"id\":\"1934\",\"type\":\"BasicTickFormatter\"},{\"attributes\":{},\"id\":\"1847\",\"type\":\"BasicTicker\"},{\"attributes\":{},\"id\":\"1837\",\"type\":\"LinearScale\"},{\"attributes\":{},\"id\":\"1935\",\"type\":\"Selection\"},{\"attributes\":{\"dimension\":1,\"ticker\":{\"id\":\"1847\",\"type\":\"BasicTicker\"}},\"id\":\"1850\",\"type\":\"Grid\"},{\"attributes\":{\"callback\":null,\"end\":6,\"js_property_callbacks\":{\"change:value\":[{\"id\":\"1870\",\"type\":\"CustomJS\"}]},\"start\":0.1,\"step\":0.1,\"title\":\"power\",\"value\":1},\"id\":\"1869\",\"type\":\"Slider\"},{\"attributes\":{\"ticker\":{\"id\":\"1842\",\"type\":\"BasicTicker\"}},\"id\":\"1845\",\"type\":\"Grid\"},{\"attributes\":{},\"id\":\"1936\",\"type\":\"UnionRenderers\"},{\"attributes\":{\"callback\":null},\"id\":\"1833\",\"type\":\"DataRange1d\"},{\"attributes\":{\"line_alpha\":0.1,\"line_color\":\"#1f77b4\",\"line_width\":3,\"x\":{\"field\":\"x\"},\"y\":{\"field\":\"y\"}},\"id\":\"1866\",\"type\":\"Line\"},{\"attributes\":{\"bottom_units\":\"screen\",\"fill_alpha\":{\"value\":0.5},\"fill_color\":{\"value\":\"lightgrey\"},\"left_units\":\"screen\",\"level\":\"overlay\",\"line_alpha\":{\"value\":1.0},\"line_color\":{\"value\":\"black\"},\"line_dash\":[4,4],\"line_width\":{\"value\":2},\"render_mode\":\"css\",\"right_units\":\"screen\",\"top_units\":\"screen\"},\"id\":\"1937\",\"type\":\"BoxAnnotation\"},{\"attributes\":{\"formatter\":{\"id\":\"1932\",\"type\":\"BasicTickFormatter\"},\"ticker\":{\"id\":\"1847\",\"type\":\"BasicTicker\"}},\"id\":\"1846\",\"type\":\"LinearAxis\"},{\"attributes\":{\"line_alpha\":0.6,\"line_color\":\"#1f77b4\",\"line_width\":3,\"x\":{\"field\":\"x\"},\"y\":{\"field\":\"y\"}},\"id\":\"1865\",\"type\":\"Line\"},{\"attributes\":{\"active_drag\":\"auto\",\"active_inspect\":\"auto\",\"active_multi\":null,\"active_scroll\":\"auto\",\"active_tap\":\"auto\",\"tools\":[{\"id\":\"1851\",\"type\":\"PanTool\"},{\"id\":\"1852\",\"type\":\"WheelZoomTool\"},{\"id\":\"1853\",\"type\":\"BoxZoomTool\"},{\"id\":\"1854\",\"type\":\"SaveTool\"},{\"id\":\"1855\",\"type\":\"ResetTool\"},{\"id\":\"1856\",\"type\":\"HelpTool\"}]},\"id\":\"1857\",\"type\":\"Toolbar\"},{\"attributes\":{},\"id\":\"1851\",\"type\":\"PanTool\"},{\"attributes\":{},\"id\":\"1852\",\"type\":\"WheelZoomTool\"},{\"attributes\":{\"overlay\":{\"id\":\"1937\",\"type\":\"BoxAnnotation\"}},\"id\":\"1853\",\"type\":\"BoxZoomTool\"},{\"attributes\":{},\"id\":\"1842\",\"type\":\"BasicTicker\"},{\"attributes\":{},\"id\":\"1854\",\"type\":\"SaveTool\"},{\"attributes\":{},\"id\":\"1855\",\"type\":\"ResetTool\"},{\"attributes\":{},\"id\":\"1856\",\"type\":\"HelpTool\"},{\"attributes\":{},\"id\":\"1932\",\"type\":\"BasicTickFormatter\"},{\"attributes\":{\"data_source\":{\"id\":\"1831\",\"type\":\"ColumnDataSource\"},\"glyph\":{\"id\":\"1865\",\"type\":\"Line\"},\"hover_glyph\":null,\"muted_glyph\":null,\"nonselection_glyph\":{\"id\":\"1866\",\"type\":\"Line\"},\"selection_glyph\":null,\"view\":{\"id\":\"1868\",\"type\":\"CDSView\"}},\"id\":\"1867\",\"type\":\"GlyphRenderer\"},{\"attributes\":{\"source\":{\"id\":\"1831\",\"type\":\"ColumnDataSource\"}},\"id\":\"1868\",\"type\":\"CDSView\"},{\"attributes\":{\"callback\":null,\"data\":{\"x\":[0.0,0.005,0.01,0.015,0.02,0.025,0.03,0.035,0.04,0.045,0.05,0.055,0.06,0.065,0.07,0.075,0.08,0.085,0.09,0.095,0.1,0.105,0.11,0.115,0.12,0.125,0.13,0.135,0.14,0.145,0.15,0.155,0.16,0.165,0.17,0.17500000000000002,0.18,0.185,0.19,0.195,0.2,0.20500000000000002,0.21,0.215,0.22,0.225,0.23,0.23500000000000001,0.24,0.245,0.25,0.255,0.26,0.265,0.27,0.275,0.28,0.28500000000000003,0.29,0.295,0.3,0.305,0.31,0.315,0.32,0.325,0.33,0.335,0.34,0.34500000000000003,0.35000000000000003,0.355,0.36,0.365,0.37,0.375,0.38,0.385,0.39,0.395,0.4,0.405,0.41000000000000003,0.41500000000000004,0.42,0.425,0.43,0.435,0.44,0.445,0.45,0.455,0.46,0.465,0.47000000000000003,0.47500000000000003,0.48,0.485,0.49,0.495,0.5,0.505,0.51,0.515,0.52,0.525,0.53,0.535,0.54,0.545,0.55,0.555,0.56,0.5650000000000001,0.5700000000000001,0.5750000000000001,0.58,0.585,0.59,0.595,0.6,0.605,0.61,0.615,0.62,0.625,0.63,0.635,0.64,0.645,0.65,0.655,0.66,0.665,0.67,0.675,0.68,0.685,0.6900000000000001,0.6950000000000001,0.7000000000000001,0.705,0.71,0.715,0.72,0.725,0.73,0.735,0.74,0.745,0.75,0.755,0.76,0.765,0.77,0.775,0.78,0.785,0.79,0.795,0.8,0.805,0.81,0.8150000000000001,0.8200000000000001,0.8250000000000001,0.8300000000000001,0.835,0.84,0.845,0.85,0.855,0.86,0.865,0.87,0.875,0.88,0.885,0.89,0.895,0.9,0.905,0.91,0.915,0.92,0.925,0.93,0.935,0.9400000000000001,0.9450000000000001,0.9500000000000001,0.9550000000000001,0.96,0.965,0.97,0.975,0.98,0.985,0.99,0.995,1.0],\"y\":[0.0,0.005,0.01,0.015,0.02,0.025,0.03,0.035,0.04,0.045,0.05,0.055,0.06,0.065,0.07,0.075,0.08,0.085,0.09,0.095,0.1,0.105,0.11,0.115,0.12,0.125,0.13,0.135,0.14,0.145,0.15,0.155,0.16,0.165,0.17,0.17500000000000002,0.18,0.185,0.19,0.195,0.2,0.20500000000000002,0.21,0.215,0.22,0.225,0.23,0.23500000000000001,0.24,0.245,0.25,0.255,0.26,0.265,0.27,0.275,0.28,0.28500000000000003,0.29,0.295,0.3,0.305,0.31,0.315,0.32,0.325,0.33,0.335,0.34,0.34500000000000003,0.35000000000000003,0.355,0.36,0.365,0.37,0.375,0.38,0.385,0.39,0.395,0.4,0.405,0.41000000000000003,0.41500000000000004,0.42,0.425,0.43,0.435,0.44,0.445,0.45,0.455,0.46,0.465,0.47000000000000003,0.47500000000000003,0.48,0.485,0.49,0.495,0.5,0.505,0.51,0.515,0.52,0.525,0.53,0.535,0.54,0.545,0.55,0.555,0.56,0.5650000000000001,0.5700000000000001,0.5750000000000001,0.58,0.585,0.59,0.595,0.6,0.605,0.61,0.615,0.62,0.625,0.63,0.635,0.64,0.645,0.65,0.655,0.66,0.665,0.67,0.675,0.68,0.685,0.6900000000000001,0.6950000000000001,0.7000000000000001,0.705,0.71,0.715,0.72,0.725,0.73,0.735,0.74,0.745,0.75,0.755,0.76,0.765,0.77,0.775,0.78,0.785,0.79,0.795,0.8,0.805,0.81,0.8150000000000001,0.8200000000000001,0.8250000000000001,0.8300000000000001,0.835,0.84,0.845,0.85,0.855,0.86,0.865,0.87,0.875,0.88,0.885,0.89,0.895,0.9,0.905,0.91,0.915,0.92,0.925,0.93,0.935,0.9400000000000001,0.9450000000000001,0.9500000000000001,0.9550000000000001,0.96,0.965,0.97,0.975,0.98,0.985,0.99,0.995,1.0]},\"selected\":{\"id\":\"1935\",\"type\":\"Selection\"},\"selection_policy\":{\"id\":\"1936\",\"type\":\"UnionRenderers\"}},\"id\":\"1831\",\"type\":\"ColumnDataSource\"},{\"attributes\":{\"formatter\":{\"id\":\"1934\",\"type\":\"BasicTickFormatter\"},\"ticker\":{\"id\":\"1842\",\"type\":\"BasicTicker\"}},\"id\":\"1841\",\"type\":\"LinearAxis\"},{\"attributes\":{\"args\":{\"slider\":{\"id\":\"1869\",\"type\":\"Slider\"},\"source\":{\"id\":\"1831\",\"type\":\"ColumnDataSource\"}},\"code\":\"\\n    var data = source.data;\\n    var f = slider.value;\\n    x = data['x']\\n    y = data['y']\\n    for (i = 0; i < x.length; i++) {\\n        y[i] = Math.pow(x[i], f)\\n    }\\n    \\n    // necessary becasue we mutated source.data in-place\\n    source.change.emit();\\n\"},\"id\":\"1870\",\"type\":\"CustomJS\"},{\"attributes\":{},\"id\":\"1839\",\"type\":\"LinearScale\"},{\"attributes\":{\"text\":\"\"},\"id\":\"1929\",\"type\":\"Title\"},{\"attributes\":{\"below\":[{\"id\":\"1841\",\"type\":\"LinearAxis\"}],\"center\":[{\"id\":\"1845\",\"type\":\"Grid\"},{\"id\":\"1850\",\"type\":\"Grid\"}],\"left\":[{\"id\":\"1846\",\"type\":\"LinearAxis\"}],\"plot_height\":400,\"plot_width\":400,\"renderers\":[{\"id\":\"1867\",\"type\":\"GlyphRenderer\"}],\"title\":{\"id\":\"1929\",\"type\":\"Title\"},\"toolbar\":{\"id\":\"1857\",\"type\":\"Toolbar\"},\"x_range\":{\"id\":\"1833\",\"type\":\"DataRange1d\"},\"x_scale\":{\"id\":\"1837\",\"type\":\"LinearScale\"},\"y_range\":{\"id\":\"1835\",\"type\":\"DataRange1d\"},\"y_scale\":{\"id\":\"1839\",\"type\":\"LinearScale\"}},\"id\":\"1832\",\"subtype\":\"Figure\",\"type\":\"Plot\"}],\"root_ids\":[\"1871\"]},\"title\":\"Bokeh Application\",\"version\":\"1.3.4\"}};\n",
       "  var render_items = [{\"docid\":\"f6a7034c-5b32-418a-a5b5-2f9da09f5eb8\",\"roots\":{\"1871\":\"b2b16d7b-d488-42e5-9f04-93f2bae32573\"}}];\n",
       "  root.Bokeh.embed.embed_items_notebook(docs_json, render_items);\n",
       "\n",
       "  }\n",
       "  if (root.Bokeh !== undefined) {\n",
       "    embed_document(root);\n",
       "  } else {\n",
       "    var attempts = 0;\n",
       "    var timer = setInterval(function(root) {\n",
       "      if (root.Bokeh !== undefined) {\n",
       "        embed_document(root);\n",
       "        clearInterval(timer);\n",
       "      }\n",
       "      attempts++;\n",
       "      if (attempts > 100) {\n",
       "        console.log(\"Bokeh: ERROR: Unable to run BokehJS code because BokehJS library is missing\");\n",
       "        clearInterval(timer);\n",
       "      }\n",
       "    }, 10, root)\n",
       "  }\n",
       "})(window);"
      ],
      "application/vnd.bokehjs_exec.v0+json": ""
     },
     "metadata": {
      "application/vnd.bokehjs_exec.v0+json": {
       "id": "1871"
      }
     },
     "output_type": "display_data"
    }
   ],
   "source": [
    "from bokeh.layouts import column\n",
    "from bokeh.models import CustomJS, ColumnDataSource, Slider\n",
    "\n",
    "x = [x*0.005 for x in range(0, 201)]\n",
    "\n",
    "source = ColumnDataSource(data=dict(x=x, y=x))\n",
    "\n",
    "plot = figure(plot_width=400, plot_height=400)\n",
    "plot.line('x', 'y', source=source, line_width=3, line_alpha=0.6)\n",
    "\n",
    "slider = Slider(start=0.1, end=6, value=1, step=.1, title=\"power\")\n",
    "\n",
    "update_curve = CustomJS(args=dict(source=source, slider=slider), code=\"\"\"\n",
    "    var data = source.data;\n",
    "    var f = slider.value;\n",
    "    x = data['x']\n",
    "    y = data['y']\n",
    "    for (i = 0; i < x.length; i++) {\n",
    "        y[i] = Math.pow(x[i], f)\n",
    "    }\n",
    "    \n",
    "    // necessary becasue we mutated source.data in-place\n",
    "    source.change.emit();\n",
    "\"\"\")\n",
    "slider.js_on_change('value', update_curve)\n",
    "\n",
    "\n",
    "show(column(slider, plot))"
   ]
  },
  {
   "cell_type": "code",
   "execution_count": 11,
   "metadata": {},
   "outputs": [],
   "source": [
    "# Exercise: Create a plot that updates based on a Select widget\n",
    "\n"
   ]
  },
  {
   "cell_type": "markdown",
   "metadata": {},
   "source": [
    "### Data selection example\n",
    "\n",
    "It's also possible to make JavaScript actions that execute whenever a user selection (e.g., box, point, lasso) changes. This is done by attaching the same kind of CustomJS object to whatever data source the selection is made on.\n",
    "\n",
    "The example below is a bit more sophisticated, and demonstrates updating one glyph's data source in response to another glyph's selection: "
   ]
  },
  {
   "cell_type": "code",
   "execution_count": 12,
   "metadata": {},
   "outputs": [
    {
     "data": {
      "text/html": [
       "\n",
       "\n",
       "\n",
       "\n",
       "\n",
       "\n",
       "  <div class=\"bk-root\" id=\"776f0e91-71d0-4c52-bad5-3e1b7376e0a3\" data-root-id=\"1993\"></div>\n"
      ]
     },
     "metadata": {},
     "output_type": "display_data"
    },
    {
     "data": {
      "application/javascript": [
       "(function(root) {\n",
       "  function embed_document(root) {\n",
       "    \n",
       "  var docs_json = {\"f2771bef-4b1a-479d-a1ae-5471e263592b\":{\"roots\":{\"references\":[{\"attributes\":{\"below\":[{\"id\":\"2004\",\"type\":\"LinearAxis\"}],\"center\":[{\"id\":\"2008\",\"type\":\"Grid\"},{\"id\":\"2013\",\"type\":\"Grid\"}],\"left\":[{\"id\":\"2009\",\"type\":\"LinearAxis\"}],\"plot_height\":400,\"plot_width\":400,\"renderers\":[{\"id\":\"2021\",\"type\":\"GlyphRenderer\"},{\"id\":\"2027\",\"type\":\"GlyphRenderer\"}],\"title\":{\"id\":\"1994\",\"type\":\"Title\"},\"toolbar\":{\"id\":\"2015\",\"type\":\"Toolbar\"},\"x_range\":{\"id\":\"1996\",\"type\":\"DataRange1d\"},\"x_scale\":{\"id\":\"2000\",\"type\":\"LinearScale\"},\"y_range\":{\"id\":\"1998\",\"type\":\"DataRange1d\"},\"y_scale\":{\"id\":\"2002\",\"type\":\"LinearScale\"}},\"id\":\"1993\",\"subtype\":\"Figure\",\"type\":\"Plot\"},{\"attributes\":{},\"id\":\"2102\",\"type\":\"Selection\"},{\"attributes\":{},\"id\":\"2010\",\"type\":\"BasicTicker\"},{\"attributes\":{},\"id\":\"2103\",\"type\":\"UnionRenderers\"},{\"attributes\":{\"dimension\":1,\"ticker\":{\"id\":\"2010\",\"type\":\"BasicTicker\"}},\"id\":\"2013\",\"type\":\"Grid\"},{\"attributes\":{},\"id\":\"2104\",\"type\":\"Selection\"},{\"attributes\":{\"active_drag\":\"auto\",\"active_inspect\":\"auto\",\"active_multi\":null,\"active_scroll\":\"auto\",\"active_tap\":\"auto\",\"tools\":[{\"id\":\"2014\",\"type\":\"LassoSelectTool\"}]},\"id\":\"2015\",\"type\":\"Toolbar\"},{\"attributes\":{\"callback\":null,\"overlay\":{\"id\":\"2101\",\"type\":\"PolyAnnotation\"}},\"id\":\"2014\",\"type\":\"LassoSelectTool\"},{\"attributes\":{},\"id\":\"2105\",\"type\":\"UnionRenderers\"},{\"attributes\":{\"fill_alpha\":{\"value\":0.4},\"fill_color\":{\"field\":\"color\"},\"line_alpha\":{\"value\":0.4},\"line_color\":{\"field\":\"color\"},\"size\":{\"units\":\"screen\",\"value\":8},\"x\":{\"field\":\"x\"},\"y\":{\"field\":\"y\"}},\"id\":\"2018\",\"type\":\"Circle\"},{\"attributes\":{\"args\":{\"s1\":{\"id\":\"1992\",\"type\":\"ColumnDataSource\"},\"s2\":{\"id\":\"2023\",\"type\":\"ColumnDataSource\"}},\"code\":\"\\n    var inds = s1.selected.indices;\\n    if (inds.length == 0)\\n        return;\\n\\n    var ym = 0\\n    for (var i = 0; i < inds.length; i++) {\\n        ym += s1.data.y[inds[i]]\\n    }\\n    \\n    ym /= inds.length\\n    s2.data.ym = [ym, ym]\\n\\n    // necessary becasue we mutated source.data in-place\\n    s2.change.emit();  \\n\"},\"id\":\"2029\",\"type\":\"CustomJS\"},{\"attributes\":{\"fill_alpha\":{\"value\":0.1},\"fill_color\":{\"value\":\"#1f77b4\"},\"line_alpha\":{\"value\":0.1},\"line_color\":{\"value\":\"#1f77b4\"},\"size\":{\"units\":\"screen\",\"value\":8},\"x\":{\"field\":\"x\"},\"y\":{\"field\":\"y\"}},\"id\":\"2019\",\"type\":\"Circle\"},{\"attributes\":{\"fill_alpha\":{\"value\":0.4},\"fill_color\":{\"value\":\"firebrick\"},\"line_alpha\":{\"value\":0.4},\"line_color\":{\"value\":\"firebrick\"},\"size\":{\"units\":\"screen\",\"value\":8},\"x\":{\"field\":\"x\"},\"y\":{\"field\":\"y\"}},\"id\":\"2020\",\"type\":\"Circle\"},{\"attributes\":{\"callback\":{\"id\":\"2029\",\"type\":\"CustomJS\"},\"data\":{\"color\":[\"navy\",\"navy\",\"navy\",\"navy\",\"navy\",\"navy\",\"navy\",\"navy\",\"navy\",\"navy\",\"navy\",\"navy\",\"navy\",\"navy\",\"navy\",\"navy\",\"navy\",\"navy\",\"navy\",\"navy\",\"navy\",\"navy\",\"navy\",\"navy\",\"navy\",\"navy\",\"navy\",\"navy\",\"navy\",\"navy\",\"navy\",\"navy\",\"navy\",\"navy\",\"navy\",\"navy\",\"navy\",\"navy\",\"navy\",\"navy\",\"navy\",\"navy\",\"navy\",\"navy\",\"navy\",\"navy\",\"navy\",\"navy\",\"navy\",\"navy\",\"navy\",\"navy\",\"navy\",\"navy\",\"navy\",\"navy\",\"navy\",\"navy\",\"navy\",\"navy\",\"navy\",\"navy\",\"navy\",\"navy\",\"navy\",\"navy\",\"navy\",\"navy\",\"navy\",\"navy\",\"navy\",\"navy\",\"navy\",\"navy\",\"navy\",\"navy\",\"navy\",\"navy\",\"navy\",\"navy\",\"navy\",\"navy\",\"navy\",\"navy\",\"navy\",\"navy\",\"navy\",\"navy\",\"navy\",\"navy\",\"navy\",\"navy\",\"navy\",\"navy\",\"navy\",\"navy\",\"navy\",\"navy\",\"navy\",\"navy\",\"navy\",\"navy\",\"navy\",\"navy\",\"navy\",\"navy\",\"navy\",\"navy\",\"navy\",\"navy\",\"navy\",\"navy\",\"navy\",\"navy\",\"navy\",\"navy\",\"navy\",\"navy\",\"navy\",\"navy\",\"navy\",\"navy\",\"navy\",\"navy\",\"navy\",\"navy\",\"navy\",\"navy\",\"navy\",\"navy\",\"navy\",\"navy\",\"navy\",\"navy\",\"navy\",\"navy\",\"navy\",\"navy\",\"navy\",\"navy\",\"navy\",\"navy\",\"navy\",\"navy\",\"navy\",\"navy\",\"navy\",\"navy\",\"navy\",\"navy\",\"navy\",\"navy\",\"navy\",\"navy\",\"navy\",\"navy\",\"navy\",\"navy\",\"navy\",\"navy\",\"navy\",\"navy\",\"navy\",\"navy\",\"navy\",\"navy\",\"navy\",\"navy\",\"navy\",\"navy\",\"navy\",\"navy\",\"navy\",\"navy\",\"navy\",\"navy\",\"navy\",\"navy\",\"navy\",\"navy\",\"navy\",\"navy\",\"navy\",\"navy\",\"navy\",\"navy\",\"navy\",\"navy\",\"navy\",\"navy\",\"navy\",\"navy\",\"navy\",\"navy\",\"navy\",\"navy\",\"navy\",\"navy\",\"navy\",\"navy\",\"navy\",\"navy\",\"navy\",\"navy\",\"navy\",\"navy\",\"navy\",\"navy\",\"navy\",\"navy\",\"navy\",\"navy\",\"navy\",\"navy\",\"navy\",\"navy\",\"navy\",\"navy\",\"navy\",\"navy\",\"navy\",\"navy\",\"navy\",\"navy\",\"navy\",\"navy\",\"navy\",\"navy\",\"navy\",\"navy\",\"navy\",\"navy\",\"navy\",\"navy\",\"navy\",\"navy\",\"navy\",\"navy\",\"navy\",\"navy\",\"navy\",\"navy\",\"navy\",\"navy\",\"navy\",\"navy\",\"navy\",\"navy\",\"navy\",\"navy\",\"navy\",\"navy\",\"navy\",\"navy\",\"navy\",\"navy\",\"navy\",\"navy\",\"navy\",\"navy\",\"navy\",\"navy\",\"navy\",\"navy\",\"navy\",\"navy\",\"navy\",\"navy\",\"navy\",\"navy\",\"navy\",\"navy\",\"navy\",\"navy\",\"navy\",\"navy\",\"navy\",\"navy\",\"navy\",\"navy\",\"navy\",\"navy\",\"navy\",\"navy\",\"navy\",\"navy\",\"navy\",\"navy\",\"navy\",\"navy\",\"navy\",\"navy\",\"navy\",\"navy\",\"navy\",\"navy\",\"navy\",\"navy\",\"navy\",\"navy\",\"navy\",\"navy\",\"navy\",\"navy\",\"navy\",\"navy\",\"navy\",\"navy\",\"navy\",\"navy\",\"navy\",\"navy\",\"navy\",\"navy\",\"navy\",\"navy\",\"navy\",\"navy\",\"navy\",\"navy\",\"navy\",\"navy\",\"navy\",\"navy\",\"navy\",\"navy\",\"navy\",\"navy\",\"navy\",\"navy\",\"navy\",\"navy\",\"navy\",\"navy\",\"navy\",\"navy\",\"navy\",\"navy\",\"navy\",\"navy\",\"navy\",\"navy\",\"navy\",\"navy\",\"navy\",\"navy\",\"navy\",\"navy\",\"navy\",\"navy\",\"navy\",\"navy\",\"navy\",\"navy\",\"navy\",\"navy\",\"navy\",\"navy\",\"navy\",\"navy\",\"navy\",\"navy\",\"navy\",\"navy\",\"navy\",\"navy\",\"navy\",\"navy\",\"navy\",\"navy\",\"navy\",\"navy\",\"navy\",\"navy\",\"navy\",\"navy\",\"navy\",\"navy\",\"navy\",\"navy\",\"navy\",\"navy\",\"navy\",\"navy\",\"navy\",\"navy\",\"navy\",\"navy\",\"navy\",\"navy\",\"navy\",\"navy\",\"navy\",\"navy\",\"navy\",\"navy\",\"navy\",\"navy\",\"navy\",\"navy\",\"navy\",\"navy\",\"navy\",\"navy\",\"navy\",\"navy\",\"navy\",\"navy\",\"navy\",\"navy\",\"navy\",\"navy\",\"navy\",\"navy\",\"navy\",\"navy\",\"navy\",\"navy\",\"navy\",\"navy\",\"navy\",\"navy\",\"navy\",\"navy\",\"navy\",\"navy\",\"navy\",\"navy\",\"navy\",\"navy\",\"navy\",\"navy\",\"navy\",\"navy\",\"navy\",\"navy\",\"navy\",\"navy\",\"navy\",\"navy\",\"navy\",\"navy\",\"navy\",\"navy\",\"navy\",\"navy\",\"navy\",\"navy\",\"navy\",\"navy\",\"navy\",\"navy\",\"navy\",\"navy\",\"navy\",\"navy\",\"navy\",\"navy\",\"navy\",\"navy\",\"navy\",\"navy\",\"navy\",\"navy\",\"navy\",\"navy\",\"navy\",\"navy\",\"navy\",\"navy\",\"navy\",\"navy\",\"navy\",\"navy\",\"navy\",\"navy\",\"navy\",\"navy\",\"navy\",\"navy\",\"navy\",\"navy\",\"navy\",\"navy\",\"navy\",\"navy\",\"navy\",\"navy\",\"navy\",\"navy\",\"navy\",\"navy\",\"navy\",\"navy\",\"navy\",\"navy\",\"navy\",\"navy\",\"navy\",\"navy\"],\"x\":[0.6591886921711709,0.32374857566477033,0.14382758760301628,0.8505711435374868,0.6022712234296033,0.957243573215391,0.8433784673429225,0.0896017658107996,0.9814903885226751,0.5364116976079903,0.7152331273318082,0.1701092528056084,0.24471534321824995,0.5755614140629741,0.5714389704334988,0.9783374898956833,0.1017280164596489,0.9705664479037425,0.10473874533402416,0.09297605019999322,0.4169434769496625,0.48063135462247464,0.6404969535545499,0.780473177702188,0.003680958180144578,0.6027062386491584,0.6629265509330695,0.330520326876501,0.7357889779832578,0.998221690106418,0.9754041392787753,0.08096894203253335,0.973969075885566,0.35650106671792503,0.30558059190295794,0.883598540116841,0.07775027237241683,0.9318063640161016,0.8651657148006119,0.576209939354571,0.5848652859020114,0.8912049284621658,0.08530271478907336,0.8018757637324618,0.8549894428422115,0.7354260684559812,0.7395682455078301,0.33839544366023167,0.709371273672609,0.5010808789320625,0.8466029443224529,0.5310941285764786,0.8448543802825903,0.08162180315364598,0.3315850683106629,0.4650076319501877,0.7108017083902579,0.7243679110428778,0.9262372404731536,0.9993208722614586,0.09536999678331193,0.6860782190087201,0.4243829214395456,0.5686779406991455,0.5623275280240427,0.9054826844265108,0.3594366371744201,0.7641598111117275,0.8959320180060453,0.3476739823930106,0.4618236889417944,0.2506030641638821,0.6317954637404674,0.9297089242089881,0.4122846185602542,0.9611701487688049,0.6367275027594209,0.9502554935659359,0.4943969622961465,0.15585337803962762,0.758637780960403,0.27388479355205597,0.08478500337405559,0.3271738149459791,0.08927199533408892,0.836222449714129,0.5039229528073195,0.8575862080984459,0.6117619177658384,0.7030804788711437,0.8033280971645247,0.8659831527436044,0.28225510880033244,0.8374084080633868,0.28405928084392484,0.7491644425290043,0.37632288951439574,0.5438215128458679,0.12548932202036733,0.6724263110246701,0.6280998484677259,0.8190749108873543,0.7954688463161225,0.034166328847480054,0.7427157754446848,0.23339583895963378,0.030516127407598015,0.21956995981744631,0.8959433055693368,0.4823151352708429,0.23176780573039035,0.3263422563347561,0.989406373049332,0.021718928111654878,0.39874287263609653,0.9503101202296712,0.9124339705346122,0.3854144900650547,0.07177602492628987,0.2726984284395779,0.7898135268531481,0.16374088003936893,0.4899364849084641,0.3604134912699941,0.30203520246095805,0.28674796001169667,0.1636129278717373,0.5045813140660836,0.40027663134684266,0.22383914528428517,0.6366806484999816,0.07434130054108234,0.0304701186481402,0.2461871956329732,0.6722782790536495,0.7736139630216382,0.6028306991359882,0.5136368830047483,0.3758807911387909,0.21196921437157334,0.2019791915058219,0.4547416133479757,0.9923471738210135,0.9377204408732748,0.4785878342449261,0.2245668577646821,0.8438561865547745,0.05032561209543118,0.059118449341825086,0.5577646454457518,0.8126084177770838,0.04906150898758621,0.9813319465711708,0.5308091393656041,0.06269334440112417,0.830179601533456,0.7780575594462247,0.631821786921957,0.4042115445916937,0.9773423149995248,0.3006449063179746,0.09379628076952684,0.45604491483203224,0.9655972985669017,0.6725908343949972,0.10663947164896792,0.011404839451330862,0.22275184413191174,0.8434309300565341,0.26360433551195017,0.30594881465318324,0.16682288914632404,0.9991138648345409,0.003088967297060652,0.22046723633854703,0.7887075618173504,0.9435872002125507,0.07143280242084693,0.6129109848056513,0.7949582360239175,0.47860183154238556,0.9688549078884686,0.9333579838155496,0.8880786693947972,0.7867055618947999,0.29526032089764465,0.355942806365915,0.7395985221132864,0.22794189329606995,0.3974934521852297,0.6142125219110569,0.22399158934144514,0.3674888634022403,0.9811383670656995,0.6107219092580839,0.7403619173178668,0.3781977454950278,0.4387154539624043,0.03151870610669538,0.1658670018174796,0.20213181844449934,0.29610753069848184,0.404504106857392,0.5311965435530052,0.41812411079983347,0.6059071787917993,0.718473613280373,0.22533306192332836,0.8121095626637517,0.3346041643333917,0.3773408471354992,0.12583870762778815,0.9175073418903777,0.5298478151010105,0.8627424799528972,0.26494509254357224,0.5437497446298459,0.6077276792736093,0.4968915355800857,0.21312212546983167,0.4659132721541267,0.08760905171593025,0.8727114034015996,0.3968667840752932,0.49723037051816943,0.4399270931849324,0.7113220284867317,0.888807222766253,0.5149555729008265,0.12762658871727883,0.7089942121860527,0.08812537038142254,0.3245386345811965,0.7946933167932243,0.7104024727315748,0.5929860406353854,0.5062171216334518,0.7651317825109624,0.8450205259685063,0.027436186522741268,0.5952425715357031,0.2775532170132702,0.7094408540238248,0.9320195245303843,0.31837949664387155,0.9309489074230205,0.45062930186769246,0.004533885968619922,0.046637026151593375,0.5004707699768748,0.3365345597903475,0.772910129623278,0.676660776805561,0.6332732501196613,0.0852914781703007,0.8471960204929747,0.7852801039363579,0.25791073760859373,0.24931560048390666,0.8640385486719984,0.8030855233609734,0.9899061143111562,0.7327162438340107,0.07069292389193915,0.27306425851921523,0.6987944692190292,0.6112149602209173,0.22269030655404487,0.05662194426145617,0.757237126226848,0.6021551445247476,0.314388668137929,0.6851538662673711,0.8011717859091527,0.3837499160911143,0.9972226848605293,0.5264575728818954,0.19459179889926148,0.7344292375521326,0.9519135874921025,0.2853306753060073,0.5474297241403318,0.9221232990809546,0.48133990035595653,0.47591110050584706,0.3459757885379906,0.6467592311012418,0.8902980308971712,0.9090310373811864,0.33276197295142274,0.23807470320973867,0.7165652587040015,0.4566223206964153,0.9771263786882503,0.13365733418866022,0.019292784789349704,0.7519109339649065,0.515039776834413,0.47036428906337924,0.7188446469980808,0.8380954831063484,0.6676130140624652,0.4405036561884593,0.883998611910701,0.4416805339186136,0.9112554545037262,0.8364760271328651,0.9564339611670928,0.5706899700714686,0.5582447826682327,0.07896690791078564,0.6811273462189665,0.8755388293363425,0.9515759189313753,0.08036686738289289,0.3934533624091785,0.13563850903435615,0.6684745755776815,0.5251455379582038,0.7078462978191278,0.3519863795266307,0.5678619775668414,0.22520949711704052,0.07914019556586871,0.4605450422471917,0.598714687979125,0.7382659368575489,0.42423043808946237,0.5808374417205197,0.8447616519221345,0.23443558976764023,0.2867155714810702,0.3566403232690212,0.8530013854554487,0.9051504083388136,0.194884043059375,0.3692383998385047,0.10839684991722531,0.8506590148714327,0.8286851474446028,0.12949011531018595,0.9325258506786135,0.038941554678353474,0.33318268256241523,0.9841575952737269,0.3464807491588504,0.8730893558627411,0.212560454806759,0.1860789572376469,0.0032141517473318615,0.7769743955461234,0.03451966032155285,0.14826504268856056,0.08772576941585575,0.6988961994976687,0.623693855431981,0.7591695705208411,0.5215702423646715,0.06429291623237188,0.9437289853607564,0.606321856122773,0.25739390235696213,0.7920210840405068,0.8218920246879615,0.8413944831632594,0.7942533721911116,0.5553636010840188,0.11957084935622397,0.42782217285648416,0.500102593058337,0.21614732783287138,0.30073203549288297,0.9908295768307938,0.7904348557053835,0.2076363152791808,0.7300895667497709,0.6292416535384802,0.29166779335353554,0.9052486428373421,0.5556141002992795,0.14463273521586828,0.49715893340009243,0.7953343049678182,0.41030030146809515,0.5531342861460536,0.6615492239433862,0.6708936664433669,0.4631403312465614,0.830200650426438,0.1242347380823442,0.10033232310318674,0.05375300716979903,0.687509635668529,0.5558565946942218,0.08274659236169724,0.9559016783459878,0.036845315509935084,0.9905283580682016,0.3853801184235578,0.0636511773262991,0.750966288883138,0.7692200454414563,0.6063058699935696,0.5100052076467693,0.9408989872978197,0.5691479133166266,0.4310795963122601,0.8852763509337327,0.1988469356534175,0.9059811701577697,0.5828496003621546,0.13244191842094577,0.761727550090156,0.2750403702807821,0.13500373490539597,0.18484389823308656,0.21281128932791726,0.1455441447941701,0.18337972159090432,0.9460961453942525,0.040514475841295416,0.006582499518104523,0.7172784070933942,0.4191052942225506,0.9364403781105275,0.8945152966874049,0.41123293300748964,0.8734314556420595,0.31173822479323077,0.26280948357960554,0.5729673839299172,0.6387825053478402,0.6584924541143644,0.6628501006600513,0.10198754876388338,0.23310837943930163,0.2836172249005061,0.3135039904344046,0.7557947475332648,0.054257522516703016,0.8763096992174617,0.858951733154434,0.7373441006196252,0.8498356326021402,0.762457560162576,0.5082038918988236,0.19099262973621411,0.2540707404207928,0.5103270829898566,0.4211120139281349,0.504473637514475,0.8211361045291056,0.3498158384293383,0.9144001051443829,0.8454912134618527,0.19319366686864792,0.3251504056698008,0.8758878095801602,0.5348694075943349,0.8133069602190949,0.4490761806715321,0.6078044163903419,0.5833888853592226,0.7633724069931312,0.20269256747065323,0.8903644614817516,0.6513745045689552,0.19686921519367373,0.5898113463420989,0.46191214372884015,0.6790764293030777,0.5391078529193661,0.3910809031445257,0.5672518773488774,0.3025678852819429,0.6804907050989935,0.30006405565806915,0.05863836328845684,0.8142303305779364,0.6170263897163727,0.26436906805076354,0.8369072914038537,0.6770359065994306,0.3456494578405781,0.5721724484784366,0.8614756016143583,0.38859475080322914,0.19298763315806255,0.07102096717037532,0.18734920112683506,0.6074187505826899,0.6688932556406538,0.13568155210145638,0.37788245784483065,0.9971185026720382,0.4454360182870274,0.33103938666878596,0.735946894382984,0.5405336966471017,0.8930750795897616],\"y\":[0.2817292827049561,0.5044663118979814,0.42233454036753215,0.9233439849120908,0.3940496589226755,0.0033767559982970097,0.9687068099065678,0.2251201950171542,0.3049196383165853,0.31809038636386056,0.42307382332339194,0.9211410444232245,0.1792086993224884,0.7803921332168553,0.09935915579722043,0.1660637899385783,0.01989021416924197,0.49607310224361845,0.7790373354783288,0.7530943303702154,0.06098865585246116,0.27997552592078245,0.11879408941916536,0.8854934582470348,0.4176861852985587,0.3423689157705855,0.34473178964048534,0.42183946369336167,0.30899449709376914,0.9865845197047732,0.6708314455691998,0.5007412988145513,0.6867864121720114,0.557494565421415,0.6890181293362211,0.16872634603606773,0.34130101045238037,0.2414654637036837,0.0684493671072437,0.866713976428014,0.5075788880784377,0.16193690450729514,0.5883493448258595,0.6556527009120637,0.515198736182966,0.3330352071200535,0.8213850389556517,0.36406581465884846,0.2725730981766581,0.7314974950954567,0.42138046538691365,0.22075375283559728,0.15287076247392917,0.43172669083724113,0.002759572833192503,0.15146518893579508,0.7293269573661045,0.3032092231416297,0.8285049256928252,0.9448304191753641,0.8270038114907685,0.9130407604783856,0.44655535084585896,0.2514857126669212,0.11797391556390047,0.7762084423208623,0.590747610807877,0.5045865664002871,0.7307517110108388,0.8565294732793153,0.19575193380386724,0.8219116600498264,0.4610021642703872,0.8235058111871663,0.4181893473605094,0.7614410589893058,0.38399048280793646,0.45545669964984103,0.7718990569752955,0.695298930814531,0.01961117208656349,0.8109335932773868,0.6577326286795883,0.2035791341874702,0.25914825157774013,0.870761226810269,0.7887325555733333,0.30771961088649635,0.3905459219896681,0.09771474441594308,0.25464986920920174,0.3348056679525645,0.26127286480219636,0.42907904250917417,0.5720222955224448,0.6183435398342165,0.08297141676261233,0.23441975909009494,0.39597622754718853,0.30685077450286624,0.7031211779108554,0.8367704623132061,0.38284833914426253,0.5687541294766542,0.0964693565958733,0.02128814763907594,0.06727271982026983,0.4598217732546177,0.4597842113323921,0.7196386513221873,0.4988347429569354,0.6749402050970315,0.7082094626286513,0.9880660988998301,0.37490930601758954,0.39281877541458043,0.34397248175630146,0.21280793111331753,0.45018153301086816,0.13972284989898565,0.18699852601664257,0.6260059808246141,0.8338466522836948,0.4783554245327716,0.2574408646356856,0.39009736040412146,0.4227964152686393,0.8309759980956817,0.5993266986882027,0.9081750042579567,0.7569338166646591,0.9817078069045861,0.9303739639253793,0.125324333065979,0.9467450565829824,0.5078084898317102,0.4310629061362361,0.6908425648361146,0.9292720694165307,0.1896607208511446,0.0037782034460499547,0.606429885942357,0.37006729900092517,0.9338691651276422,0.638671234406774,0.012482710553625154,0.8000308843043633,0.42166054068523606,0.8974631573357623,0.724077709026463,0.37373759424506836,0.7752111939755307,0.8794428326404825,0.2641794363724367,0.19974525936321386,0.8843835653344824,0.5448633141697444,0.9100428438410931,0.2751517302370343,0.7880277705383367,0.23701873677169605,0.7206278950595147,0.9408578051964939,0.8317668652344198,0.630184069997731,0.040712929904988204,0.623593741023885,0.25325540126229407,0.23519615367809676,0.44589496694833886,0.18839933259286512,0.6329366808464669,0.756729465469645,0.25544080862009033,0.7711684513079864,0.7245075678750827,0.9323590817438452,0.7129304227431388,0.9654594422244808,0.3515017834744244,0.23447045054054017,0.022451204367783473,0.6596349464987944,0.08824944182519223,0.8229922162791143,0.08213911503580462,0.6282669827344233,0.10069049319896817,0.0037652100596737847,0.46274989835242997,0.6160618551141943,0.05285274127674522,0.15965712500410656,0.8643707958228722,0.8059581979531404,0.7515473949573324,0.5059006817973238,0.14984581020383625,0.1303791957200432,0.1333286445458718,0.6290557877859388,0.48412668066019626,0.6016416310270252,0.5650112903425317,0.2509302572324419,0.8415789945807475,0.6845492961178621,0.20136040463170246,0.5203802646152661,0.4138569678698383,0.9124586995692539,0.33432881584151963,0.46439838262385924,0.5606561177716267,0.5166477658520725,0.5604470884643783,0.5758079921927504,0.38678634956994107,0.7355622678367795,0.7425160129331159,0.9450784364556704,0.7617602804072423,0.7202293673699643,0.58741147249597,0.8550589784423039,0.5967033697575178,0.5870303541258542,0.13847151722929074,0.006593870846143268,0.14551491426955698,0.5152738424829323,0.571638254419637,0.9067145236551405,0.40809679662851617,0.38954486517536313,0.8882704126276671,0.5036619761511162,0.24647543100770442,0.7803666029418229,0.13301588648065144,0.9234349972582585,0.9501396893863073,0.9713160208578435,0.8663355820796376,0.4712946694600242,0.10745267192188113,0.6121643332141571,0.24443340458266483,0.3887089448954155,0.5495652722723546,0.7720633867722181,0.6993774897998037,0.3991740165873382,0.6047371066223555,0.5942094092062996,0.7628823569616695,0.6979980949567964,0.19365147017609552,0.4352046377790638,0.0940870677499025,0.4596438158794468,0.8283882870530093,0.8376792606473606,0.9706316591304879,0.4092941685385353,0.746197208876772,0.2328271943468374,0.9880419945449075,0.6443675649243209,0.5353468625094403,0.08444437933088722,0.7899908885845207,0.002993115528378998,0.818067021267225,0.9719865933173275,0.5214364159068295,0.9694477123106486,0.8989579984758793,0.5258262436967389,0.5113771694413665,0.15550477881200697,0.31799485551343476,0.514432365541725,0.828857311010839,0.9394682505545451,0.30807937663349894,0.4652560720722001,0.8941569822555048,0.44096070956484956,0.659798275485658,0.34256472100968804,0.9706491371493398,0.03425279433569117,0.17690198215365605,0.9897680661149671,0.12271263754578188,0.22420042834393927,0.7783213857118451,0.27492713366775434,0.689887362529675,0.2940135868786352,0.5358000589910388,0.21692580436017928,0.6828571628208175,0.39762752253148614,0.571521844331044,0.5331886783064292,0.6407649575319261,0.3903539914275945,0.22810902622339968,0.6476536676744954,0.9197025708971874,0.32682810057626543,0.38762798185598,0.5655626632227887,0.7447711695111165,0.9969956206328002,0.41222688746309544,0.4876871154901896,0.7531970467302395,0.5590976014623131,0.7204540472265012,0.755402112693265,0.23770724339813587,0.8313165412387524,0.5913692759552455,0.023831341566472264,0.2874539297453458,0.07303007370260584,0.3313399033981492,0.4773178004067885,0.4276839112413109,0.10747957590630886,0.4231684297103061,0.10292089732071485,0.8849245348230568,0.642199424586242,0.5181604233404681,0.5066398339552002,0.9420645296545858,0.5321603776287214,0.8373066039908825,0.09575753879833626,0.45179471358502843,0.6933151736072267,0.30346062003131247,0.13160316365113123,0.9603700395285485,0.911719159812302,0.21404684807172358,0.5937817157146582,0.746560780722391,0.6782130624160264,0.6482264018284917,0.1002028904895752,0.7551781818012766,0.838083742788644,0.8086283134897408,0.8450358763001525,0.6026784134498624,0.2585563468488894,0.8217463027294534,0.08527143603608622,0.395570656941881,0.19716329301995172,0.07722535697070654,0.7364769611266843,0.7223127589688758,0.9539955899087603,0.6836019991461676,0.8258372638061644,0.6545975665242744,0.6670119422352104,0.9403393204804423,0.6948860197135291,0.21615822495605708,0.6177786350772406,0.009718741592520508,0.3187252672321429,0.443379451646856,0.4818504167828722,0.866808304175619,0.1126401077238407,0.42068664198694483,0.11643461399518451,0.8574164690911085,0.28788375331410665,0.417507071523598,0.5105445655077214,0.9092468103989657,0.18329276594275534,0.8378758245061713,0.6971638519334392,0.21514971980380848,0.3667906031045206,0.8488079204943098,0.49023159203124544,0.9070748563374137,0.27957526739720895,0.20974834109074048,0.29075971351449914,0.21381420333309387,0.32744748977783567,0.7417033664762055,0.17317543898067034,0.011642113544599986,0.7654183487721335,0.7148967010072704,0.22280081477063585,0.036281331886134804,0.20725906485223,0.3585376956074351,0.31136213796429113,0.577755327612517,0.6974005666235045,0.36861151893629407,0.33260342775045326,0.09926002784250554,0.6719848363848159,0.951196913562723,0.599694869411619,0.38999650130818064,0.548983210496228,0.43349921252604673,0.04332679331740963,0.5287978099722183,0.5377816673957866,0.3377353872280323,0.06454359491870465,0.5047603958852879,0.6002255685439385,0.9283321042883005,0.14695926106483592,0.315180533563278,0.7369184777880305,0.9886264887837554,0.13567914005950543,0.9793360138186857,0.1920632105949892,0.5518172954890622,0.5355064640227294,0.14573824946308567,0.7070262404376666,0.6554608173053642,0.39965688421940804,0.5985583888025039,0.5486296478974009,0.5249928770811089,0.29480037649987567,0.6514029170540417,0.32412548571719224,0.2801999830858771,0.31729025523804366,0.9572941138821752,0.6617344152493834,0.9947006534678253,0.7046675176274422,0.9761402951078132,0.9154985130561311,0.08841007909681775,0.818878494519907,0.008611657876455348,0.41489331618366054,0.9356252396049173,0.7867951076620567,0.4280810485965425,0.17228701530601898,0.7248733834949667,0.13804380605147226,0.8566782771755719,0.1624427184613917,0.9704937499019144,0.8667085178418855,0.6992219597138228,0.6034212449678722,0.9752005624114336,0.7430923011408219,0.768013792100874,0.0646800704738909,0.9737982544283534,0.632815941341114,0.6528849248149537,0.031116422484045003,0.5119741614722892,0.4022311375730071,0.06628003424792572,0.22508862931797624,0.3364304511379309,0.005267606290828564,0.9849848359631888,0.9482846512142233,0.7860118684070636,0.5037799525447674,0.12373061579066491,0.31502613503889365,0.8891770622816448,0.6568797899777424,0.7165480121801102,0.06341375889726408,0.6903646851077919]},\"selected\":{\"id\":\"2102\",\"type\":\"Selection\"},\"selection_policy\":{\"id\":\"2103\",\"type\":\"UnionRenderers\"}},\"id\":\"1992\",\"type\":\"ColumnDataSource\"},{\"attributes\":{\"text\":\"Select Here\"},\"id\":\"1994\",\"type\":\"Title\"},{\"attributes\":{\"data_source\":{\"id\":\"1992\",\"type\":\"ColumnDataSource\"},\"glyph\":{\"id\":\"2018\",\"type\":\"Circle\"},\"hover_glyph\":null,\"muted_glyph\":null,\"nonselection_glyph\":{\"id\":\"2019\",\"type\":\"Circle\"},\"selection_glyph\":{\"id\":\"2020\",\"type\":\"Circle\"},\"view\":{\"id\":\"2022\",\"type\":\"CDSView\"}},\"id\":\"2021\",\"type\":\"GlyphRenderer\"},{\"attributes\":{\"callback\":null,\"data\":{\"xm\":[0,1],\"ym\":[0.5,0.5]},\"selected\":{\"id\":\"2104\",\"type\":\"Selection\"},\"selection_policy\":{\"id\":\"2105\",\"type\":\"UnionRenderers\"}},\"id\":\"2023\",\"type\":\"ColumnDataSource\"},{\"attributes\":{\"source\":{\"id\":\"1992\",\"type\":\"ColumnDataSource\"}},\"id\":\"2022\",\"type\":\"CDSView\"},{\"attributes\":{\"line_alpha\":0.6,\"line_color\":\"orange\",\"line_width\":5,\"x\":{\"field\":\"xm\"},\"y\":{\"field\":\"ym\"}},\"id\":\"2025\",\"type\":\"Line\"},{\"attributes\":{\"callback\":null},\"id\":\"1996\",\"type\":\"DataRange1d\"},{\"attributes\":{\"line_alpha\":0.1,\"line_color\":\"#1f77b4\",\"line_width\":5,\"x\":{\"field\":\"xm\"},\"y\":{\"field\":\"ym\"}},\"id\":\"2026\",\"type\":\"Line\"},{\"attributes\":{\"data_source\":{\"id\":\"2023\",\"type\":\"ColumnDataSource\"},\"glyph\":{\"id\":\"2025\",\"type\":\"Line\"},\"hover_glyph\":null,\"muted_glyph\":null,\"nonselection_glyph\":{\"id\":\"2026\",\"type\":\"Line\"},\"selection_glyph\":null,\"view\":{\"id\":\"2028\",\"type\":\"CDSView\"}},\"id\":\"2027\",\"type\":\"GlyphRenderer\"},{\"attributes\":{\"callback\":null},\"id\":\"1998\",\"type\":\"DataRange1d\"},{\"attributes\":{\"source\":{\"id\":\"2023\",\"type\":\"ColumnDataSource\"}},\"id\":\"2028\",\"type\":\"CDSView\"},{\"attributes\":{},\"id\":\"2000\",\"type\":\"LinearScale\"},{\"attributes\":{},\"id\":\"2002\",\"type\":\"LinearScale\"},{\"attributes\":{\"formatter\":{\"id\":\"2100\",\"type\":\"BasicTickFormatter\"},\"ticker\":{\"id\":\"2005\",\"type\":\"BasicTicker\"}},\"id\":\"2004\",\"type\":\"LinearAxis\"},{\"attributes\":{},\"id\":\"2098\",\"type\":\"BasicTickFormatter\"},{\"attributes\":{},\"id\":\"2005\",\"type\":\"BasicTicker\"},{\"attributes\":{},\"id\":\"2100\",\"type\":\"BasicTickFormatter\"},{\"attributes\":{\"ticker\":{\"id\":\"2005\",\"type\":\"BasicTicker\"}},\"id\":\"2008\",\"type\":\"Grid\"},{\"attributes\":{\"fill_alpha\":{\"value\":0.5},\"fill_color\":{\"value\":\"lightgrey\"},\"level\":\"overlay\",\"line_alpha\":{\"value\":1.0},\"line_color\":{\"value\":\"black\"},\"line_dash\":[4,4],\"line_width\":{\"value\":2},\"xs_units\":\"screen\",\"ys_units\":\"screen\"},\"id\":\"2101\",\"type\":\"PolyAnnotation\"},{\"attributes\":{\"formatter\":{\"id\":\"2098\",\"type\":\"BasicTickFormatter\"},\"ticker\":{\"id\":\"2010\",\"type\":\"BasicTicker\"}},\"id\":\"2009\",\"type\":\"LinearAxis\"}],\"root_ids\":[\"1993\"]},\"title\":\"Bokeh Application\",\"version\":\"1.3.4\"}};\n",
       "  var render_items = [{\"docid\":\"f2771bef-4b1a-479d-a1ae-5471e263592b\",\"roots\":{\"1993\":\"776f0e91-71d0-4c52-bad5-3e1b7376e0a3\"}}];\n",
       "  root.Bokeh.embed.embed_items_notebook(docs_json, render_items);\n",
       "\n",
       "  }\n",
       "  if (root.Bokeh !== undefined) {\n",
       "    embed_document(root);\n",
       "  } else {\n",
       "    var attempts = 0;\n",
       "    var timer = setInterval(function(root) {\n",
       "      if (root.Bokeh !== undefined) {\n",
       "        embed_document(root);\n",
       "        clearInterval(timer);\n",
       "      }\n",
       "      attempts++;\n",
       "      if (attempts > 100) {\n",
       "        console.log(\"Bokeh: ERROR: Unable to run BokehJS code because BokehJS library is missing\");\n",
       "        clearInterval(timer);\n",
       "      }\n",
       "    }, 10, root)\n",
       "  }\n",
       "})(window);"
      ],
      "application/vnd.bokehjs_exec.v0+json": ""
     },
     "metadata": {
      "application/vnd.bokehjs_exec.v0+json": {
       "id": "1993"
      }
     },
     "output_type": "display_data"
    }
   ],
   "source": [
    "from random import random\n",
    "\n",
    "x = [random() for x in range(500)]\n",
    "y = [random() for y in range(500)]\n",
    "color = [\"navy\"] * len(x)\n",
    "\n",
    "s1 = ColumnDataSource(data=dict(x=x, y=y, color=color))\n",
    "p = figure(plot_width=400, plot_height=400, tools=\"lasso_select\", title=\"Select Here\")\n",
    "p.circle('x', 'y', color='color', size=8, alpha=0.4, source=s1, \n",
    "         selection_color=\"firebrick\", selection_alpha=0.4)\n",
    "\n",
    "s2 = ColumnDataSource(data=dict(xm=[0,1],ym=[0.5, 0.5]))\n",
    "p.line(x='xm', y='ym', color=\"orange\", line_width=5, alpha=0.6, source=s2)\n",
    "\n",
    "s1.callback = CustomJS(args=dict(s1=s1, s2=s2), code=\"\"\"\n",
    "    var inds = s1.selected.indices;\n",
    "    if (inds.length == 0)\n",
    "        return;\n",
    "\n",
    "    var ym = 0\n",
    "    for (var i = 0; i < inds.length; i++) {\n",
    "        ym += s1.data.y[inds[i]]\n",
    "    }\n",
    "    \n",
    "    ym /= inds.length\n",
    "    s2.data.ym = [ym, ym]\n",
    "\n",
    "    // necessary becasue we mutated source.data in-place\n",
    "    s2.change.emit();  \n",
    "\"\"\")\n",
    "\n",
    "show(p)"
   ]
  },
  {
   "cell_type": "code",
   "execution_count": 13,
   "metadata": {},
   "outputs": [],
   "source": [
    "# Exercise: Experiment with selection callbacks\n",
    "\n"
   ]
  },
  {
   "cell_type": "markdown",
   "metadata": {
    "collapsed": true
   },
   "source": [
    "## CustomJS for UI Events\n",
    "\n",
    "Bokeh also has a general events system\n",
    "\n",
    "All of the available UI events, and their properties, are listed in the Reference Guide section for [bokeh.events](https://bokeh.pydata.org/en/latest/docs/reference/events.html)"
   ]
  },
  {
   "cell_type": "code",
   "execution_count": 14,
   "metadata": {},
   "outputs": [
    {
     "data": {
      "text/html": [
       "\n",
       "\n",
       "\n",
       "\n",
       "\n",
       "\n",
       "  <div class=\"bk-root\" id=\"e2565b4f-42f2-483d-b750-491507ff2f39\" data-root-id=\"2196\"></div>\n"
      ]
     },
     "metadata": {},
     "output_type": "display_data"
    },
    {
     "data": {
      "application/javascript": [
       "(function(root) {\n",
       "  function embed_document(root) {\n",
       "    \n",
       "  var docs_json = {\"90d3e484-ac3a-44b6-9818-c3161c4067b7\":{\"roots\":{\"references\":[{\"attributes\":{\"children\":[{\"id\":\"2194\",\"type\":\"Button\"},{\"id\":\"2195\",\"type\":\"Row\"}]},\"id\":\"2196\",\"type\":\"Column\"},{\"attributes\":{\"callback\":null,\"overlay\":{\"id\":\"2281\",\"type\":\"BoxAnnotation\"}},\"id\":\"2185\",\"type\":\"BoxSelectTool\"},{\"attributes\":{},\"id\":\"2278\",\"type\":\"BasicTickFormatter\"},{\"attributes\":{\"bottom_units\":\"screen\",\"fill_alpha\":{\"value\":0.5},\"fill_color\":{\"value\":\"lightgrey\"},\"left_units\":\"screen\",\"level\":\"overlay\",\"line_alpha\":{\"value\":1.0},\"line_color\":{\"value\":\"black\"},\"line_dash\":[4,4],\"line_width\":{\"value\":2},\"render_mode\":\"css\",\"right_units\":\"screen\",\"top_units\":\"screen\"},\"id\":\"2281\",\"type\":\"BoxAnnotation\"},{\"attributes\":{\"args\":{\"div\":{\"id\":\"2193\",\"type\":\"Div\"}},\"code\":\"\\ndiv.text = \\\"Selection! <p> <p>\\\" + JSON.stringify(cb_obj.geometry, undefined, 2);\\n\"},\"id\":\"2198\",\"type\":\"CustomJS\"},{\"attributes\":{\"formatter\":{\"id\":\"2278\",\"type\":\"BasicTickFormatter\"},\"ticker\":{\"id\":\"2181\",\"type\":\"BasicTicker\"}},\"id\":\"2180\",\"type\":\"LinearAxis\"},{\"attributes\":{\"ticker\":{\"id\":\"2176\",\"type\":\"BasicTicker\"}},\"id\":\"2179\",\"type\":\"Grid\"},{\"attributes\":{\"fill_alpha\":{\"value\":0.6},\"fill_color\":{\"value\":\"#1f77b4\"},\"line_color\":{\"value\":null},\"radius\":{\"units\":\"data\",\"value\":1},\"x\":{\"field\":\"x\"},\"y\":{\"field\":\"y\"}},\"id\":\"2189\",\"type\":\"Circle\"},{\"attributes\":{},\"id\":\"2282\",\"type\":\"Selection\"},{\"attributes\":{\"callback\":null,\"icon\":null,\"js_event_callbacks\":{\"button_click\":[{\"id\":\"2197\",\"type\":\"CustomJS\"}]},\"width\":300},\"id\":\"2194\",\"type\":\"Button\"},{\"attributes\":{\"dimension\":1,\"ticker\":{\"id\":\"2181\",\"type\":\"BasicTicker\"}},\"id\":\"2184\",\"type\":\"Grid\"},{\"attributes\":{},\"id\":\"2283\",\"type\":\"UnionRenderers\"},{\"attributes\":{},\"id\":\"2181\",\"type\":\"BasicTicker\"},{\"attributes\":{\"active_drag\":\"auto\",\"active_inspect\":\"auto\",\"active_multi\":null,\"active_scroll\":\"auto\",\"active_tap\":\"auto\",\"tools\":[{\"id\":\"2185\",\"type\":\"BoxSelectTool\"}]},\"id\":\"2186\",\"type\":\"Toolbar\"},{\"attributes\":{},\"id\":\"2280\",\"type\":\"BasicTickFormatter\"},{\"attributes\":{\"fill_alpha\":{\"value\":0.1},\"fill_color\":{\"value\":\"#1f77b4\"},\"line_alpha\":{\"value\":0.1},\"line_color\":{\"value\":\"#1f77b4\"},\"radius\":{\"units\":\"data\",\"value\":1},\"x\":{\"field\":\"x\"},\"y\":{\"field\":\"y\"}},\"id\":\"2190\",\"type\":\"Circle\"},{\"attributes\":{},\"id\":\"2176\",\"type\":\"BasicTicker\"},{\"attributes\":{},\"id\":\"2173\",\"type\":\"LinearScale\"},{\"attributes\":{\"formatter\":{\"id\":\"2280\",\"type\":\"BasicTickFormatter\"},\"ticker\":{\"id\":\"2176\",\"type\":\"BasicTicker\"}},\"id\":\"2175\",\"type\":\"LinearAxis\"},{\"attributes\":{\"args\":{\"div\":{\"id\":\"2193\",\"type\":\"Div\"}},\"code\":\"\\ndiv.text = \\\"Button!\\\";\\n\"},\"id\":\"2197\",\"type\":\"CustomJS\"},{\"attributes\":{\"source\":{\"id\":\"2188\",\"type\":\"ColumnDataSource\"}},\"id\":\"2192\",\"type\":\"CDSView\"},{\"attributes\":{},\"id\":\"2171\",\"type\":\"LinearScale\"},{\"attributes\":{\"data_source\":{\"id\":\"2188\",\"type\":\"ColumnDataSource\"},\"glyph\":{\"id\":\"2189\",\"type\":\"Circle\"},\"hover_glyph\":null,\"muted_glyph\":null,\"nonselection_glyph\":{\"id\":\"2190\",\"type\":\"Circle\"},\"selection_glyph\":null,\"view\":{\"id\":\"2192\",\"type\":\"CDSView\"}},\"id\":\"2191\",\"type\":\"GlyphRenderer\"},{\"attributes\":{\"callback\":null},\"id\":\"2169\",\"type\":\"DataRange1d\"},{\"attributes\":{\"callback\":null,\"data\":{\"x\":{\"__ndarray__\":\"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\",\"dtype\":\"float64\",\"shape\":[2000]},\"y\":{\"__ndarray__\":\"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\",\"dtype\":\"float64\",\"shape\":[2000]}},\"selected\":{\"id\":\"2282\",\"type\":\"Selection\"},\"selection_policy\":{\"id\":\"2283\",\"type\":\"UnionRenderers\"}},\"id\":\"2188\",\"type\":\"ColumnDataSource\"},{\"attributes\":{\"children\":[{\"id\":\"2166\",\"subtype\":\"Figure\",\"type\":\"Plot\"},{\"id\":\"2193\",\"type\":\"Div\"}]},\"id\":\"2195\",\"type\":\"Row\"},{\"attributes\":{\"callback\":null},\"id\":\"2167\",\"type\":\"DataRange1d\"},{\"attributes\":{\"below\":[{\"id\":\"2175\",\"type\":\"LinearAxis\"}],\"center\":[{\"id\":\"2179\",\"type\":\"Grid\"},{\"id\":\"2184\",\"type\":\"Grid\"}],\"js_event_callbacks\":{\"selectiongeometry\":[{\"id\":\"2198\",\"type\":\"CustomJS\"}]},\"left\":[{\"id\":\"2180\",\"type\":\"LinearAxis\"}],\"renderers\":[{\"id\":\"2191\",\"type\":\"GlyphRenderer\"}],\"title\":{\"id\":\"2275\",\"type\":\"Title\"},\"toolbar\":{\"id\":\"2186\",\"type\":\"Toolbar\"},\"x_range\":{\"id\":\"2167\",\"type\":\"DataRange1d\"},\"x_scale\":{\"id\":\"2171\",\"type\":\"LinearScale\"},\"y_range\":{\"id\":\"2169\",\"type\":\"DataRange1d\"},\"y_scale\":{\"id\":\"2173\",\"type\":\"LinearScale\"}},\"id\":\"2166\",\"subtype\":\"Figure\",\"type\":\"Plot\"},{\"attributes\":{\"text\":\"\"},\"id\":\"2275\",\"type\":\"Title\"},{\"attributes\":{\"width\":400},\"id\":\"2193\",\"type\":\"Div\"}],\"root_ids\":[\"2196\"]},\"title\":\"Bokeh Application\",\"version\":\"1.3.4\"}};\n",
       "  var render_items = [{\"docid\":\"90d3e484-ac3a-44b6-9818-c3161c4067b7\",\"roots\":{\"2196\":\"e2565b4f-42f2-483d-b750-491507ff2f39\"}}];\n",
       "  root.Bokeh.embed.embed_items_notebook(docs_json, render_items);\n",
       "\n",
       "  }\n",
       "  if (root.Bokeh !== undefined) {\n",
       "    embed_document(root);\n",
       "  } else {\n",
       "    var attempts = 0;\n",
       "    var timer = setInterval(function(root) {\n",
       "      if (root.Bokeh !== undefined) {\n",
       "        embed_document(root);\n",
       "        clearInterval(timer);\n",
       "      }\n",
       "      attempts++;\n",
       "      if (attempts > 100) {\n",
       "        console.log(\"Bokeh: ERROR: Unable to run BokehJS code because BokehJS library is missing\");\n",
       "        clearInterval(timer);\n",
       "      }\n",
       "    }, 10, root)\n",
       "  }\n",
       "})(window);"
      ],
      "application/vnd.bokehjs_exec.v0+json": ""
     },
     "metadata": {
      "application/vnd.bokehjs_exec.v0+json": {
       "id": "2196"
      }
     },
     "output_type": "display_data"
    }
   ],
   "source": [
    "from bokeh.plotting import figure\n",
    "from bokeh import events\n",
    "from bokeh.models import CustomJS, Div, Button\n",
    "from bokeh.layouts import column, row\n",
    "\n",
    "import numpy as np\n",
    "x = np.random.random(size=2000) * 100\n",
    "y = np.random.random(size=2000) * 100\n",
    "\n",
    "p = figure(tools=\"box_select\")\n",
    "p.scatter(x, y, radius=1, fill_alpha=0.6, line_color=None)\n",
    "\n",
    "div = Div(width=400)\n",
    "button = Button(label=\"Button\", width=300)\n",
    "layout = column(button, row(p, div))\n",
    "\n",
    "# Events with no attributes\n",
    "button.js_on_event(events.ButtonClick,  CustomJS(args=dict(div=div), code=\"\"\"\n",
    "div.text = \"Button!\";\n",
    "\"\"\")) \n",
    "\n",
    "p.js_on_event(events.SelectionGeometry, CustomJS(args=dict(div=div), code=\"\"\"\n",
    "div.text = \"Selection! <p> <p>\" + JSON.stringify(cb_obj.geometry, undefined, 2);\n",
    "\"\"\"))\n",
    "\n",
    "show(layout)"
   ]
  },
  {
   "cell_type": "code",
   "execution_count": 15,
   "metadata": {},
   "outputs": [],
   "source": [
    "# Exercise: Create a plot that responds to different events from bokeh.events\n",
    "\n"
   ]
  },
  {
   "cell_type": "markdown",
   "metadata": {
    "collapsed": true
   },
   "source": [
    "## Additional Information\n",
    "\n",
    "There are many kinds of interactions and events that can be connected to `CustomJS` callbacks. \n",
    "\n",
    "\n",
    "* Widgets - Button, Toggle, Dropdown, TextInput, AutocompleteInput, Select, Multiselect, Slider, (DateRangeSlider), DatePicker,\n",
    "* Tools - TapTool, BoxSelectTool, HoverTool,\n",
    "* Selection - ColumnDataSource, AjaxDataSource, BlazeDataSource, ServerDataSource\n",
    "* Ranges - Range1d, DataRange1d, FactorRange\n",
    "\n",
    "\n",
    "For more complete examples the User Guide section on [JavaScript Interactions](http://bokeh.pydata.org/en/latest/docs/user_guide/interaction.html)"
   ]
  },
  {
   "cell_type": "code",
   "execution_count": null,
   "metadata": {},
   "outputs": [],
   "source": []
  }
 ],
 "metadata": {
  "anaconda-cloud": {},
  "kernelspec": {
   "display_name": "Python 3",
   "language": "python",
   "name": "python3"
  },
  "language_info": {
   "codemirror_mode": {
    "name": "ipython",
    "version": 3
   },
   "file_extension": ".py",
   "mimetype": "text/x-python",
   "name": "python",
   "nbconvert_exporter": "python",
   "pygments_lexer": "ipython3",
   "version": "3.6.8"
  },
  "widgets": {
   "state": {
    "335ae2c8ff80469e9adac668c2924989": {
     "views": [
      {
       "cell_index": 19
      }
     ]
    }
   },
   "version": "1.2.0"
  }
 },
 "nbformat": 4,
 "nbformat_minor": 1
}
