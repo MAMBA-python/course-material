{
 "cells": [
  {
   "cell_type": "markdown",
   "metadata": {},
   "source": [
    "<figure>\n",
    "   <IMG SRC=\"https://mamba-python.nl/images/logo_basis.png\" WIDTH=125 ALIGN=\"right\">\n",
    "   \n",
    "</figure>\n",
    "\n",
    "#  1. Gebruik stack overflow\n",
    "    \n",
    "Deze notebook bevat een korte introductie van stack overflow en aantal opgaves om te leren werken met stack overflow."
   ]
  },
  {
   "cell_type": "markdown",
   "metadata": {},
   "source": [
    "### Inhoudsopgave<a id=\"top\"></a>\n",
    "1. [Introductie](#Introductie)\n",
    "2. [Oefeningen algemeen](#Oefeningen-algemeen)\n",
    "3. [Oefeningen pandas](#Oefeningen-pandas)\n",
    "\n",
    "\n",
    "\n"
   ]
  },
  {
   "cell_type": "markdown",
   "metadata": {},
   "source": [
    "## 1. [Introductie](#top)<a id=\"Introductie\"></a>\n",
    "\n"
   ]
  },
  {
   "cell_type": "code",
   "execution_count": null,
   "metadata": {},
   "outputs": [],
   "source": []
  },
  {
   "cell_type": "markdown",
   "metadata": {},
   "source": [
    "## 2. [Oefeningen algemeen](#top)<a id=\"Oefeningen-algemeen\"></a>\n",
    "\n"
   ]
  },
  {
   "cell_type": "markdown",
   "metadata": {},
   "source": [
    "#### Opgave 1 <a name=\"opdr1\"></a>\n",
    "\n",
    "Herschrijf deze for-loop en maak daarbij gebruik van de `enumerate` functie. Maak gebruik van deze stackoverflow vraag:\n",
    "https://stackoverflow.com/questions/22171558/what-does-enumerate-mean"
   ]
  },
  {
   "cell_type": "code",
   "execution_count": 14,
   "metadata": {
    "scrolled": true
   },
   "outputs": [
    {
     "name": "stdout",
     "output_type": "stream",
     "text": [
      "1.0\n",
      "4.0\n",
      "8.0\n",
      "12.0\n"
     ]
    }
   ],
   "source": [
    "waarden =[1,16,64,144]\n",
    "for i in range(len(waarden)):\n",
    "    if i != 0:\n",
    "        print(waarden[i]/(i*4))\n",
    "    else:\n",
    "        print(float(waarden[i]))"
   ]
  },
  {
   "cell_type": "markdown",
   "metadata": {},
   "source": [
    "<a href=\"#antw1\">Antwoord Opgave 1</a>"
   ]
  },
  {
   "cell_type": "markdown",
   "metadata": {},
   "source": [
    "## 3. [Oefeningen pandas](#top)<a id=\"Oefeningen-pandas\"></a>\n",
    "\n"
   ]
  },
  {
   "cell_type": "markdown",
   "metadata": {},
   "source": [
    "#### Opgave 6 <a name=\"opdr6\"></a>\n",
    "\n",
    "Hieronder zijn twee DataFrames gedefinieerd. Voeg deze DataFrames samen zodat het volgende DataFrame onstaat:\n",
    "\n",
    "<img src=\"data/df_out.JPG\" width=\"200\" height=\"100\">\n",
    "\n",
    "Maak gebruik van de `DataFrame.set_index` method en de `pd.concat` functie. Kom je er niet uit gebruik dan deze stackoverflow antwoorden:\n",
    "- https://stackoverflow.com/questions/28135436/concatenate-rows-of-two-dataframes-in-pandas\n",
    "- https://stackoverflow.com/questions/42196337/dataframe-set-index-not-setting\n"
   ]
  },
  {
   "cell_type": "code",
   "execution_count": 4,
   "metadata": {},
   "outputs": [],
   "source": [
    "import pandas as pd\n",
    "from IPython.display import display\n",
    "df1 = pd.DataFrame({'naam': ['Nikita' ,'Ali', 'Henk'],\n",
    "                    'huisdier': ['rat' ,'schaap' ,'boa constrictor']})\n",
    "df2 = pd.DataFrame({'naam': ['Nikita' ,'Ali', 'Angela'],\n",
    "                    'woning': ['flat', 'boerderij', 'villa']})"
   ]
  },
  {
   "cell_type": "code",
   "execution_count": 2,
   "metadata": {},
   "outputs": [],
   "source": [
    "# voeg hier je code in\n"
   ]
  },
  {
   "cell_type": "markdown",
   "metadata": {},
   "source": [
    "<a href=\"#antw6\">Antwoord Opgave 6</a>"
   ]
  },
  {
   "cell_type": "markdown",
   "metadata": {},
   "source": [
    "\n",
    "## [6. Answers](#top)<a id=\"6\"></a>"
   ]
  },
  {
   "cell_type": "markdown",
   "metadata": {},
   "source": [
    "#### <a href=\"#opdr1\">Antwoord Opgave 1</a> <a name=\"antw1\"></a>"
   ]
  },
  {
   "cell_type": "code",
   "execution_count": null,
   "metadata": {},
   "outputs": [],
   "source": [
    "waarden =[1,16,64,144]\n",
    "for i, val in enumerate(waarden):\n",
    "    if i != 0:\n",
    "        print(val/(i*4))\n",
    "    else:\n",
    "        print(float(val))"
   ]
  },
  {
   "cell_type": "markdown",
   "metadata": {},
   "source": [
    "#### <a href=\"#opdr6\">Antwoord Opgave 6</a> <a name=\"antw6\"></a>"
   ]
  },
  {
   "cell_type": "code",
   "execution_count": 3,
   "metadata": {},
   "outputs": [
    {
     "data": {
      "text/html": [
       "<div>\n",
       "<style scoped>\n",
       "    .dataframe tbody tr th:only-of-type {\n",
       "        vertical-align: middle;\n",
       "    }\n",
       "\n",
       "    .dataframe tbody tr th {\n",
       "        vertical-align: top;\n",
       "    }\n",
       "\n",
       "    .dataframe thead th {\n",
       "        text-align: right;\n",
       "    }\n",
       "</style>\n",
       "<table border=\"1\" class=\"dataframe\">\n",
       "  <thead>\n",
       "    <tr style=\"text-align: right;\">\n",
       "      <th></th>\n",
       "      <th>huisdier</th>\n",
       "      <th>woning</th>\n",
       "    </tr>\n",
       "  </thead>\n",
       "  <tbody>\n",
       "    <tr>\n",
       "      <th>Nikita</th>\n",
       "      <td>rat</td>\n",
       "      <td>flat</td>\n",
       "    </tr>\n",
       "    <tr>\n",
       "      <th>Ali</th>\n",
       "      <td>schaap</td>\n",
       "      <td>boerderij</td>\n",
       "    </tr>\n",
       "    <tr>\n",
       "      <th>Henk</th>\n",
       "      <td>boa constrictor</td>\n",
       "      <td>NaN</td>\n",
       "    </tr>\n",
       "    <tr>\n",
       "      <th>Angela</th>\n",
       "      <td>NaN</td>\n",
       "      <td>villa</td>\n",
       "    </tr>\n",
       "  </tbody>\n",
       "</table>\n",
       "</div>"
      ],
      "text/plain": [
       "               huisdier     woning\n",
       "Nikita              rat       flat\n",
       "Ali              schaap  boerderij\n",
       "Henk    boa constrictor        NaN\n",
       "Angela              NaN      villa"
      ]
     },
     "metadata": {},
     "output_type": "display_data"
    }
   ],
   "source": [
    "df1 = pd.DataFrame({'naam': ['Nikita' ,'Ali', 'Henk'],\n",
    "                    'huisdier': ['rat' ,'schaap' ,'boa constrictor']})\n",
    "df2 = pd.DataFrame({'naam': ['Nikita' ,'Ali', 'Angela'],\n",
    "                    'woning': ['flat', 'boerderij', 'villa']})\n",
    "df1.set_index('naam', inplace=True)\n",
    "df2.set_index('naam', inplace=True)\n",
    "df_out = pd.concat([df1, df2], axis=1)\n",
    "display(df_out)"
   ]
  }
 ],
 "metadata": {
  "kernelspec": {
   "display_name": "Python 3",
   "language": "python",
   "name": "python3"
  },
  "language_info": {
   "codemirror_mode": {
    "name": "ipython",
    "version": 3
   },
   "file_extension": ".py",
   "mimetype": "text/x-python",
   "name": "python",
   "nbconvert_exporter": "python",
   "pygments_lexer": "ipython3",
   "version": "3.7.9"
  }
 },
 "nbformat": 4,
 "nbformat_minor": 2
}
