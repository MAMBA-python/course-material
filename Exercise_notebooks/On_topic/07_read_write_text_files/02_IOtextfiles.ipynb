{
 "cells": [
  {
   "cell_type": "markdown",
   "metadata": {},
   "source": [
    "<figure>\n",
    "  <IMG SRC=\"https://mamba-python.nl/images/logo_basis.png\" WIDTH=150 ALIGN=\"right\">\n",
    "</figure>\n",
    "\n",
    "# Reading and writing text files\n",
    "*Developed by Onno Ebbens*"
   ]
  },
  {
   "cell_type": "markdown",
   "metadata": {},
   "source": [
    "Reading and writing text files can be very useful. There are many ways to read and write files from all kinds of formats. In this notebook we will discuss reading and writing text files.\n",
    "\n",
    "Table of content:\n",
    "1. [reading text files](#1)\n",
    "2. [advanced text file reading](#2)\n",
    "3. [writing text files](#3)\n",
    "4. [advanced text file writing](#4)\n",
    "5. [final exercises](#5)"
   ]
  },
  {
   "cell_type": "code",
   "execution_count": 3,
   "metadata": {},
   "outputs": [],
   "source": [
    "import pandas as pd\n",
    "import matplotlib.pyplot as plt\n",
    "import numpy as np\n",
    "%matplotlib inline"
   ]
  },
  {
   "cell_type": "markdown",
   "metadata": {},
   "source": [
    "\n",
    "## 1. reading text files <a class=\"anchor\" id=\"1\"></a>"
   ]
  },
  {
   "cell_type": "markdown",
   "metadata": {},
   "source": [
    "There are several ways to read a text file. The most basic way is to use the function open(). This function opens a text file and returns a handle to that text file. If you use the open() function you need to specify whether you want to read ('r') or write ('w') to that text file. With the `readlines()` method we read the text file as a list of strings."
   ]
  },
  {
   "cell_type": "code",
   "execution_count": 4,
   "metadata": {},
   "outputs": [
    {
     "data": {
      "text/plain": [
       "['year\\tinhabitants of the Netherlands (million)\\n',\n",
       " '2006\\t16.346\\n',\n",
       " '2007\\t16.358\\n',\n",
       " '2008\\t16.405\\n',\n",
       " '2009\\t16.485\\n',\n",
       " '2010\\t16.575\\n',\n",
       " '2011\\t16.656\\n',\n",
       " '2012\\t16.730\\n',\n",
       " '2013\\t16.780\\n',\n",
       " '2014\\t16.902\\n',\n",
       " '2015\\t16.934']"
      ]
     },
     "execution_count": 4,
     "metadata": {},
     "output_type": "execute_result"
    }
   ],
   "source": [
    "inh_nl_file = open(r'data\\InhabitantsNL.txt', 'r')\n",
    "inh_nl_lst = inh_nl_file.readlines()\n",
    "inh_nl_file.close()\n",
    "inh_nl_lst"
   ]
  },
  {
   "cell_type": "markdown",
   "metadata": {},
   "source": [
    "In the example above you `open` the file and after you've read the content you have to `close` it again. If we would not do this, the document will be opened continuously by python which can be the cause of some unsuspected errors.\n",
    "\n",
    "A more pythonic way to do this is by using a `with`-statement to read the file. Using this statement will ensure everything after the `with`-statement, with the same indentation, will be executed and then the document is closed again."
   ]
  },
  {
   "cell_type": "code",
   "execution_count": 5,
   "metadata": {},
   "outputs": [
    {
     "data": {
      "text/plain": [
       "['year\\tinhabitants of the Netherlands (million)\\n',\n",
       " '2006\\t16.346\\n',\n",
       " '2007\\t16.358\\n',\n",
       " '2008\\t16.405\\n',\n",
       " '2009\\t16.485\\n',\n",
       " '2010\\t16.575\\n',\n",
       " '2011\\t16.656\\n',\n",
       " '2012\\t16.730\\n',\n",
       " '2013\\t16.780\\n',\n",
       " '2014\\t16.902\\n',\n",
       " '2015\\t16.934']"
      ]
     },
     "execution_count": 5,
     "metadata": {},
     "output_type": "execute_result"
    }
   ],
   "source": [
    "#this code creates a handle to a textfile\n",
    "with open(r'data\\InhabitantsNL.txt', 'r') as inh_nl_file:\n",
    "    inh_nl_lst = inh_nl_file.readlines()\n",
    "inh_nl_lst"
   ]
  },
  {
   "cell_type": "markdown",
   "metadata": {},
   "source": [
    "#### **Exercise 1**\n",
    "Open the 'InhabitantsNL.txt' with a textfile editor and compare your results with the list shown above. What is the `\\t` and the `\\n` in your `inh_nl_lst`?"
   ]
  },
  {
   "cell_type": "code",
   "execution_count": null,
   "metadata": {},
   "outputs": [],
   "source": []
  },
  {
   "cell_type": "markdown",
   "metadata": {},
   "source": [
    "There are several methods to read textfiles. One that is often used is the `readline()` method. This method reads one line at a time which can be usefull if you only want to read the top part of a big text file."
   ]
  },
  {
   "cell_type": "code",
   "execution_count": 6,
   "metadata": {},
   "outputs": [
    {
     "name": "stdout",
     "output_type": "stream",
     "text": [
      "year\tinhabitants of the Netherlands (million)\n",
      "\n",
      "2006\t16.346\n",
      "\n"
     ]
    }
   ],
   "source": [
    "with open(r'data\\InhabitantsNL.txt', 'r') as inh_nl_file:\n",
    "    first_line  = inh_nl_file.readline()\n",
    "    second_line = inh_nl_file.readline()  \n",
    "print(first_line)\n",
    "print(second_line)"
   ]
  },
  {
   "cell_type": "markdown",
   "metadata": {},
   "source": [
    "Now, if you want to do plot the data from the text file, you need to convert the text strings to something you can use in a plot. For example you can convert the text to `ints` and `floats` by using this:"
   ]
  },
  {
   "cell_type": "code",
   "execution_count": 7,
   "metadata": {},
   "outputs": [],
   "source": [
    "#We want two lists with numbers that we can plot. \n",
    "#We can make these with a for loop.\n",
    "year = []\n",
    "inhab_nl = []\n",
    "#We loop over the lines in the textfilelist (we skip the first line because it does not contain data)\n",
    "for line in inh_nl_lst[1:]:\n",
    "    #we know that the first 4 characters are the year, so we slice this and convert to an integer\n",
    "    year.append(int(line[:4]))\n",
    "    #we also know where we can find the number of inhabitants, so we slice and convert to a float\n",
    "    inhab_nl.append(float(line[5:12]))"
   ]
  },
  {
   "cell_type": "code",
   "execution_count": 8,
   "metadata": {},
   "outputs": [
    {
     "name": "stdout",
     "output_type": "stream",
     "text": [
      "[2006, 2007, 2008, 2009, 2010, 2011, 2012, 2013, 2014, 2015]\n",
      "[16.346, 16.358, 16.405, 16.485, 16.575, 16.656, 16.73, 16.78, 16.902, 16.934]\n"
     ]
    }
   ],
   "source": [
    "#now we have to lists\n",
    "print(year)\n",
    "print(inhab_nl)"
   ]
  },
  {
   "cell_type": "code",
   "execution_count": 9,
   "metadata": {},
   "outputs": [
    {
     "data": {
      "image/png": "[encoded data removed]",
      "text/plain": [
       "<matplotlib.figure.Figure at 0x2a6b5efed30>"
      ]
     },
     "metadata": {
      "needs_background": "light"
     },
     "output_type": "display_data"
    }
   ],
   "source": [
    "#and we can make a plot\n",
    "ax = plt.plot(year,inhab_nl)"
   ]
  },
  {
   "cell_type": "markdown",
   "metadata": {},
   "source": [
    "#### **Exercise 2** \n",
    "Plot the data from the file 'data\\InhabitatnsBE.txt'"
   ]
  },
  {
   "cell_type": "code",
   "execution_count": 10,
   "metadata": {},
   "outputs": [
    {
     "data": {
      "image/png": "[encoded data removed]",
      "text/plain": [
       "<matplotlib.figure.Figure at 0x2a6b7d01b38>"
      ]
     },
     "metadata": {
      "needs_background": "light"
     },
     "output_type": "display_data"
    }
   ],
   "source": [
    "# Answer\n",
    "with open(r'data\\InhabitantsBE.txt', 'r') as inh_be_file:\n",
    "    inh_be_lst = inh_be_file.readlines()\n",
    "\n",
    "year_be = []\n",
    "inhab_be = []\n",
    "for line in inh_be_lst[2:]:\n",
    "    year_be.append(int(line[:4]))\n",
    "    inhab_be.append(float(line[5:14])) \n",
    "\n",
    "ax = plt.plot(year_be,inhab_be)    "
   ]
  },
  {
   "cell_type": "markdown",
   "metadata": {},
   "source": [
    "## 2. Advanced textfile reading<a class=\"anchor\" id=\"2\"></a>"
   ]
  },
  {
   "cell_type": "markdown",
   "metadata": {},
   "source": [
    "The example above shows the most basic way of reading files. With this functions you can read any file that contains text. For textfiles with a certain structure there are easier ways to read them. Below we show advanced reading options from the numpy and the pandas module."
   ]
  },
  {
   "cell_type": "code",
   "execution_count": 11,
   "metadata": {},
   "outputs": [
    {
     "name": "stdout",
     "output_type": "stream",
     "text": [
      "[[2006.      16.346]\n",
      " [2007.      16.358]\n",
      " [2008.      16.405]\n",
      " [2009.      16.485]\n",
      " [2010.      16.575]\n",
      " [2011.      16.656]\n",
      " [2012.      16.73 ]\n",
      " [2013.      16.78 ]\n",
      " [2014.      16.902]\n",
      " [2015.      16.934]]\n"
     ]
    }
   ],
   "source": [
    "#From the numpy module you can direcly read text as a numpy array\n",
    "#you only need to specify how many rows you skip to see the data\n",
    "#in this case you skip the first row because it only contains the column names\n",
    "inh_nl_arr = np.loadtxt('data\\InhabitantsNL.txt',skiprows=1)\n",
    "print(inh_nl_arr)"
   ]
  },
  {
   "cell_type": "markdown",
   "metadata": {},
   "source": [
    "Now you can make a plot immediately without conversion"
   ]
  },
  {
   "cell_type": "code",
   "execution_count": 12,
   "metadata": {},
   "outputs": [
    {
     "data": {
      "text/plain": [
       "[<matplotlib.lines.Line2D at 0x2a6b80ebc18>]"
      ]
     },
     "execution_count": 12,
     "metadata": {},
     "output_type": "execute_result"
    },
    {
     "data": {
      "image/png": "[encoded data removed]",
      "text/plain": [
       "<matplotlib.figure.Figure at 0x2a6b7d3e438>"
      ]
     },
     "metadata": {
      "needs_background": "light"
     },
     "output_type": "display_data"
    }
   ],
   "source": [
    "plt.plot(inh_nl_arr[:,0], inh_nl_arr[:,1])"
   ]
  },
  {
   "cell_type": "markdown",
   "metadata": {},
   "source": [
    "#### **Exercise 3** \n",
    "Plot the data from the file 'data\\InhabitatnsBE.txt' using `np.loadtxt()`"
   ]
  },
  {
   "cell_type": "code",
   "execution_count": 13,
   "metadata": {},
   "outputs": [
    {
     "data": {
      "text/plain": [
       "[<matplotlib.lines.Line2D at 0x2a6b7d7b978>]"
      ]
     },
     "execution_count": 13,
     "metadata": {},
     "output_type": "execute_result"
    },
    {
     "data": {
      "image/png": "[encoded data removed]",
      "text/plain": [
       "<matplotlib.figure.Figure at 0x2a6b7d7b1d0>"
      ]
     },
     "metadata": {
      "needs_background": "light"
     },
     "output_type": "display_data"
    }
   ],
   "source": [
    "# Answer\n",
    "inh_be_arr = np.loadtxt('data\\InhabitantsBE.txt',skiprows=2)\n",
    "plt.plot(inh_be_arr[:,0], inh_be_arr[:,1])\n",
    "# bonus, plot together with the Netherlands\n",
    "plt.plot(inh_nl_arr[:,0], inh_nl_arr[:,1]*1e6)"
   ]
  },
  {
   "cell_type": "markdown",
   "metadata": {},
   "source": [
    "Still, we haven't fully optimized reading a textfile. We lost the information about the columns names when we read the data with np.loadtxt(). Wouldn't it be nice if we could use all the information in the textfile? "
   ]
  },
  {
   "cell_type": "markdown",
   "metadata": {},
   "source": [
    "Yes! That would be amazing:) With Pandas you can do exactly that! You can read files as a dataframe (for more information on dataframes see the Pandas notebook). The only thing you need to specify is the delimiter. In this case the numbers are delimited with a tab  `\\t`"
   ]
  },
  {
   "cell_type": "code",
   "execution_count": 30,
   "metadata": {},
   "outputs": [],
   "source": [
    "inh_nl_df = pd.read_csv('data\\InhabitantsNL.txt', delimiter='\\t')"
   ]
  },
  {
   "cell_type": "code",
   "execution_count": 19,
   "metadata": {},
   "outputs": [
    {
     "data": {
      "text/html": [
       "<div>\n",
       "<style scoped>\n",
       "    .dataframe tbody tr th:only-of-type {\n",
       "        vertical-align: middle;\n",
       "    }\n",
       "\n",
       "    .dataframe tbody tr th {\n",
       "        vertical-align: top;\n",
       "    }\n",
       "\n",
       "    .dataframe thead th {\n",
       "        text-align: right;\n",
       "    }\n",
       "</style>\n",
       "<table border=\"1\" class=\"dataframe\">\n",
       "  <thead>\n",
       "    <tr style=\"text-align: right;\">\n",
       "      <th></th>\n",
       "      <th>year</th>\n",
       "      <th>inhabitants of the Netherlands (million)</th>\n",
       "    </tr>\n",
       "  </thead>\n",
       "  <tbody>\n",
       "    <tr>\n",
       "      <th>0</th>\n",
       "      <td>2006</td>\n",
       "      <td>16.346</td>\n",
       "    </tr>\n",
       "    <tr>\n",
       "      <th>1</th>\n",
       "      <td>2007</td>\n",
       "      <td>16.358</td>\n",
       "    </tr>\n",
       "    <tr>\n",
       "      <th>2</th>\n",
       "      <td>2008</td>\n",
       "      <td>16.405</td>\n",
       "    </tr>\n",
       "    <tr>\n",
       "      <th>3</th>\n",
       "      <td>2009</td>\n",
       "      <td>16.485</td>\n",
       "    </tr>\n",
       "    <tr>\n",
       "      <th>4</th>\n",
       "      <td>2010</td>\n",
       "      <td>16.575</td>\n",
       "    </tr>\n",
       "    <tr>\n",
       "      <th>5</th>\n",
       "      <td>2011</td>\n",
       "      <td>16.656</td>\n",
       "    </tr>\n",
       "    <tr>\n",
       "      <th>6</th>\n",
       "      <td>2012</td>\n",
       "      <td>16.730</td>\n",
       "    </tr>\n",
       "    <tr>\n",
       "      <th>7</th>\n",
       "      <td>2013</td>\n",
       "      <td>16.780</td>\n",
       "    </tr>\n",
       "    <tr>\n",
       "      <th>8</th>\n",
       "      <td>2014</td>\n",
       "      <td>16.902</td>\n",
       "    </tr>\n",
       "    <tr>\n",
       "      <th>9</th>\n",
       "      <td>2015</td>\n",
       "      <td>16.934</td>\n",
       "    </tr>\n",
       "  </tbody>\n",
       "</table>\n",
       "</div>"
      ],
      "text/plain": [
       "   year  inhabitants of the Netherlands (million)\n",
       "0  2006                                    16.346\n",
       "1  2007                                    16.358\n",
       "2  2008                                    16.405\n",
       "3  2009                                    16.485\n",
       "4  2010                                    16.575\n",
       "5  2011                                    16.656\n",
       "6  2012                                    16.730\n",
       "7  2013                                    16.780\n",
       "8  2014                                    16.902\n",
       "9  2015                                    16.934"
      ]
     },
     "execution_count": 19,
     "metadata": {},
     "output_type": "execute_result"
    }
   ],
   "source": [
    "#This is what a dataframe looks like\n",
    "inh_nl_df"
   ]
  },
  {
   "cell_type": "markdown",
   "metadata": {},
   "source": [
    "#### **Exercise 4**  \n",
    "\n",
    "What happens if you use plt.plot() on a Dataframe? What has happened? How can you make a plot? "
   ]
  },
  {
   "cell_type": "code",
   "execution_count": 21,
   "metadata": {},
   "outputs": [
    {
     "data": {
      "text/plain": [
       "[<matplotlib.lines.Line2D at 0x2a6b94a0828>,\n",
       " <matplotlib.lines.Line2D at 0x2a6b94a0978>]"
      ]
     },
     "execution_count": 21,
     "metadata": {},
     "output_type": "execute_result"
    },
    {
     "data": {
      "image/png": "[encoded data removed]",
      "text/plain": [
       "<matplotlib.figure.Figure at 0x2a6b9403748>"
      ]
     },
     "metadata": {
      "needs_background": "light"
     },
     "output_type": "display_data"
    }
   ],
   "source": [
    "plt.plot(inh_nl_df)"
   ]
  },
  {
   "cell_type": "code",
   "execution_count": 34,
   "metadata": {},
   "outputs": [
    {
     "data": {
      "text/plain": [
       "<matplotlib.axes._subplots.AxesSubplot at 0x2a6b9559908>"
      ]
     },
     "execution_count": 34,
     "metadata": {},
     "output_type": "execute_result"
    },
    {
     "data": {
      "image/png": "[encoded data removed]",
      "text/plain": [
       "<matplotlib.figure.Figure at 0x2a6b5efea20>"
      ]
     },
     "metadata": {
      "needs_background": "light"
     },
     "output_type": "display_data"
    },
    {
     "data": {
      "image/png": "[encoded data removed]",
      "text/plain": [
       "<matplotlib.figure.Figure at 0x2a6b5efee80>"
      ]
     },
     "metadata": {
      "needs_background": "light"
     },
     "output_type": "display_data"
    }
   ],
   "source": [
    "# Answer\n",
    "inh_nl_df = pd.read_csv('data\\InhabitantsNL.txt', delimiter='\\t')\n",
    "\n",
    "# basic\n",
    "plt.plot(inh_nl_df['year'], inh_nl_df['inhabitants of the Netherlands (million)'])\n",
    "\n",
    "# better\n",
    "inh_nl_df.index = inh_nl_df['year']\n",
    "plt.plot(inh_nl_df['inhabitants of the Netherlands (million)'])\n",
    "\n",
    "# best\n",
    "inh_nl_df = pd.read_csv('data\\InhabitantsNL.txt', delimiter='\\t', index_col=0)\n",
    "inh_nl_df.plot()"
   ]
  },
  {
   "cell_type": "markdown",
   "metadata": {},
   "source": [
    "## 3. writing text files<a class=\"anchor\" id=\"3\"></a>"
   ]
  },
  {
   "cell_type": "markdown",
   "metadata": {},
   "source": [
    "Just like reading textfiles there is also a basic way to write textfiles."
   ]
  },
  {
   "cell_type": "code",
   "execution_count": 35,
   "metadata": {},
   "outputs": [],
   "source": [
    "with open(r\"output\\output.txt\", \"w\") as txtfile:\n",
    "    txtfile.write('hello world')"
   ]
  },
  {
   "cell_type": "markdown",
   "metadata": {},
   "source": [
    "#### **Exercise 4**  \n",
    "Write the information about inhabitants from the Netherlands (the one you read before) to a file named \"output.txt\""
   ]
  },
  {
   "cell_type": "code",
   "execution_count": null,
   "metadata": {
    "collapsed": true
   },
   "outputs": [],
   "source": []
  },
  {
   "cell_type": "markdown",
   "metadata": {},
   "source": [
    "## 4. Advanced textfile writing<a class=\"anchor\" id=\"4\"></a>"
   ]
  },
  {
   "cell_type": "markdown",
   "metadata": {},
   "source": [
    "Off course you can use advanced writing functions if you want to save different data types"
   ]
  },
  {
   "cell_type": "markdown",
   "metadata": {},
   "source": [
    "#### **Exercise 5** \n",
    "Write this numpy array to a textfile"
   ]
  },
  {
   "cell_type": "code",
   "execution_count": 10,
   "metadata": {},
   "outputs": [],
   "source": [
    "arr = np.random.randint(0, 10, size=(10,10))"
   ]
  },
  {
   "cell_type": "markdown",
   "metadata": {},
   "source": [
    "#### **Exercise 6**\n",
    "\n",
    "Write the pandas dataframe below to a textfile"
   ]
  },
  {
   "cell_type": "code",
   "execution_count": 8,
   "metadata": {},
   "outputs": [],
   "source": [
    "df = pd.DataFrame({'A':[1,2,3], 'B': ['tja', 3, 'fiets']})"
   ]
  },
  {
   "cell_type": "markdown",
   "metadata": {},
   "source": [
    "## 5. final exercises<a class=\"anchor\" id=\"5\"></a>"
   ]
  },
  {
   "cell_type": "markdown",
   "metadata": {},
   "source": [
    "#### **Exercise 7**\n",
    "\n",
    "Write a function that can read a file similar to \"InhabitantsNL.txt\" and make a plot(). You can assume that the left column contains years and the right column contains data. Than the test the function for both the \"InhabitantsNL.txt\" and \"InhabitantsBE.txt\""
   ]
  },
  {
   "cell_type": "code",
   "execution_count": null,
   "metadata": {
    "collapsed": true
   },
   "outputs": [],
   "source": [
    "#Answer\n"
   ]
  }
 ],
 "metadata": {
  "kernelspec": {
   "display_name": "Python [conda env:Anaconda3]",
   "language": "python",
   "name": "conda-env-Anaconda3-py"
  },
  "language_info": {
   "codemirror_mode": {
    "name": "ipython",
    "version": 3
   },
   "file_extension": ".py",
   "mimetype": "text/x-python",
   "name": "python",
   "nbconvert_exporter": "python",
   "pygments_lexer": "ipython3",
   "version": "3.6.3"
  }
 },
 "nbformat": 4,
 "nbformat_minor": 1
}
