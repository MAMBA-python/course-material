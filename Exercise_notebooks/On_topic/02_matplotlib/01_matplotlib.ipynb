{
 "cells": [
  {
   "cell_type": "markdown",
   "metadata": {},
   "source": [
    "<figure>\n",
    "   <IMG SRC=\"https://mamba-python.nl/images/logo_basis.png\" WIDTH=125 ALIGN=\"right\">\n",
    "</figure>\n",
    "\n",
    "# Matplotlib\n",
    "_developed by Onno Ebbens_\n",
    "<hr>\n",
    "\n",
    "This notebook shows some of the basic functionality of the matplotlib package.\n",
    "\n",
    "### Contents\n",
    "1. [Importing matplotlib](#1)\n",
    "2. [basic plot](#2)\n",
    "3. [alternative plot](#3)\n",
    "4. [matplotlib in other packages ](#4)"
   ]
  },
  {
   "cell_type": "markdown",
   "metadata": {},
   "source": [
    "## 1. [Importing matplotlib](#top)<a id=\"1\"></a>\n",
    "\n",
    "Most of the times only the `pyplot` module of the `matplotlib` package is imported. This submodule has most of the functions that we need to make a plot. The standard is to import this as `plt`.\n",
    "\n",
    "We also import de `numpy` package for some of its functions."
   ]
  },
  {
   "cell_type": "code",
   "execution_count": null,
   "metadata": {},
   "outputs": [],
   "source": [
    "import matplotlib.pyplot as plt\n",
    "import numpy as np"
   ]
  },
  {
   "cell_type": "markdown",
   "metadata": {},
   "source": [
    "In Jupyter we use `%matplotlib inline` to show the plot in the cell `Out[*] :`. Otherwise a plot is created but not shown. In other IDE's (Spyder, IDLE) different commands are used to show the plots you make."
   ]
  },
  {
   "cell_type": "code",
   "execution_count": null,
   "metadata": {},
   "outputs": [],
   "source": [
    "%matplotlib inline"
   ]
  },
  {
   "cell_type": "markdown",
   "metadata": {},
   "source": [
    "## 2. [Basic plot](#top)<a id=\"2\"></a>\n",
    "A basic plot can be made with the `plt.plot()` function. This function returns a `matplotlib.lines.Line2D` object."
   ]
  },
  {
   "cell_type": "code",
   "execution_count": null,
   "metadata": {},
   "outputs": [],
   "source": [
    "l, = plt.plot([1,2,3],[3,7,5])"
   ]
  },
  {
   "cell_type": "markdown",
   "metadata": {},
   "source": [
    "## 3. [Alternative plot](#top)<a id=\"3\"></a>\n",
    "\n",
    "The online [matplotlib gallery](https://matplotlib.org/gallery.html) has a lot of great examples of various plots. For each plot you can get the source code, so you can reproduce the plot yourself. Below an example from the gallery to plot two sinus functions."
   ]
  },
  {
   "cell_type": "code",
   "execution_count": null,
   "metadata": {},
   "outputs": [],
   "source": [
    "# method 1\n",
    "x = np.linspace(0, 10, 500)\n",
    "dashes = [10, 5, 100, 5]  # 10 points on, 5 off, 100 on, 5 off\n",
    "\n",
    "fig, ax = plt.subplots()\n",
    "line1, = ax.plot(x, np.sin(x), '--', linewidth=2,\n",
    "                 label='Dashes set retroactively')\n",
    "line1.set_dashes(dashes)\n",
    "\n",
    "line2, = ax.plot(x, -1 * np.sin(x), dashes=[30, 5, 10, 5],\n",
    "                 label='Dashes set proactively')\n",
    "\n",
    "ax.legend(loc='lower right');"
   ]
  },
  {
   "cell_type": "markdown",
   "metadata": {},
   "source": [
    "This examples uses different code to plot than we used for the [Basic Plot](#2). The differences are:\n",
    "- a `fig` and an `ax` are created with the `plt.subplots()` function\n",
    "- the `plot` function is called as `ax.plot()` instead of `plt.plot`\n",
    "\n",
    "The plots are made with a different coding style. The example above can be formatted in such a way that our basic style is used. The results are the same (see method 2 below)."
   ]
  },
  {
   "cell_type": "code",
   "execution_count": null,
   "metadata": {},
   "outputs": [],
   "source": [
    "# method 2\n",
    "x = np.linspace(0, 10, 500)\n",
    "dashes = [10, 5, 100, 5]  # 10 points on, 5 off, 100 on, 5 off\n",
    "\n",
    "line1, = plt.plot(x, np.sin(x), '--', linewidth=2,\n",
    "                 label='Dashes set retroactively')\n",
    "line1.set_dashes(dashes)\n",
    "\n",
    "line2, = plt.plot(x, -1 * np.sin(x), dashes=[30, 5, 10, 5],\n",
    "                 label='Dashes set proactively')\n",
    "\n",
    "plt.legend(loc='lower right');"
   ]
  },
  {
   "cell_type": "markdown",
   "metadata": {},
   "source": [
    "Maybe you ask yourself: What is the difference between these methods? Which one should I use?\n",
    "\n",
    "The first method (`fig, ax = plt.subplots()`) is an **explicit** method. You create a figure with axes explicitly and then you add the plot to the axes.  The second method (with `plt.plot()`) is an **implicit** method. When you call `plt.plot()` is looks for an active figure and adds the plot to this figure. If there is no active figure it will create one.\n",
    "\n",
    "The image below shows the different building elements of a plot figure. Notice the difference between 'axes' and 'axis'. One figure can have multiple plots (or axes) and axes can have multiple axis (usually an x-axis and an y-axis).\n",
    "\n",
    "<IMG SRC='figures\\figures_axes.png' align='center'>"
   ]
  },
  {
   "cell_type": "markdown",
   "metadata": {},
   "source": [
    "## 4. [plots with other packages](#top)<a id=\"4\"></a>\n",
    "Many other packages (such as pandas) use the matplotlib package for data visualisation."
   ]
  },
  {
   "cell_type": "code",
   "execution_count": null,
   "metadata": {},
   "outputs": [],
   "source": [
    "import pandas as pd"
   ]
  },
  {
   "cell_type": "markdown",
   "metadata": {},
   "source": [
    "The code below show how to create a `pandas DataFrame`. This is a data type that can be used to analyse tabular data (like spreadsheet data)."
   ]
  },
  {
   "cell_type": "code",
   "execution_count": null,
   "metadata": {},
   "outputs": [],
   "source": [
    "df = pd.DataFrame(index=pd.date_range('2000-1-1','2000-1-4'), \n",
    "                  data={'a':[100,25,344,456], 'b':['maandag', 'dinsdag', 'woensdag', 'donderdag']})\n",
    "df"
   ]
  },
  {
   "cell_type": "markdown",
   "metadata": {},
   "source": [
    "Every `DataFrame` has a plot method. This plot method uses `matplotlib` to create a plot of the `DataFrame`. You don't have to specify any arguments when you call the `plot()` method because it can plot the data in your `DataFrame`. This is the advantage of calling the `df.plot()` method instead of the `plt.plot()` function. Note that only the nummerical value (column 'a') is plotted."
   ]
  },
  {
   "cell_type": "code",
   "execution_count": null,
   "metadata": {},
   "outputs": [],
   "source": [
    "df.plot()"
   ]
  },
  {
   "cell_type": "markdown",
   "metadata": {},
   "source": [
    "We can give arguments to the `df.plot()` method, we can for example specify the kind of plot. We create a `bar` chart with the following code."
   ]
  },
  {
   "cell_type": "code",
   "execution_count": null,
   "metadata": {},
   "outputs": [],
   "source": [
    "df.plot(kind='bar')"
   ]
  },
  {
   "cell_type": "markdown",
   "metadata": {},
   "source": [
    "The `plot` method returns the `axes` object of the plot. We can use this `axes` object to modify the plot. For example we can change the ticks of the x-axis, the label of the y-axis, add a grid and remove the legend with the code below."
   ]
  },
  {
   "cell_type": "code",
   "execution_count": null,
   "metadata": {},
   "outputs": [],
   "source": [
    "ax = df.plot(kind='bar')\n",
    "ax.set_ylabel('motivation to work')\n",
    "ax.set_xticklabels(df['b'].values);\n",
    "ax.grid()\n",
    "ax.legend('')"
   ]
  }
 ],
 "metadata": {
  "language_info": {
   "name": "python"
  }
 },
 "nbformat": 4,
 "nbformat_minor": 2
}
