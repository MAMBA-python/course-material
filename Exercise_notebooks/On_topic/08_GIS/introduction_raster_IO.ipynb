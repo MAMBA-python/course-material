{
 "cells": [
  {
   "cell_type": "markdown",
   "metadata": {},
   "source": [
    "# An introduction to Rasterio\n",
    "\n",
    "The smallest interesting problems [1] addressed by Rasterio are reading raster data from files as [Numpy](http://www.numpy.org/) arrays and writing such arrays back to files. In between, you can use the world of scientific python software to analyze and process the data. Rasterio also provides a few operations that are described in the next notebooks in this series.\n",
    "\n",
    "This notebook demonstrates the basics of reading and writing raster data with Rasterio.\n",
    "\n",
    "## Overview of a dataset\n",
    "\n",
    "A raster dataset consists of one or more dense (as opposed to sparse) 2-D arrays of scalar values. An RGB TIFF image file is a good example of a raster dataset. It has 3 bands (or channels – we'll call them bands here) and each has a number of rows (its `height`) and columns (its `width`) and a uniform data type (unsigned 8-bit integers, 64-bit floats, etc). Geospatially referenced datasets will also possess a mapping from image to world coordinates (a `transform`) in a specific coordinate reference system (`crs`). This metadata about a dataset is readily accessible using Rasterio."
   ]
  },
  {
   "cell_type": "code",
   "execution_count": null,
   "metadata": {
    "execution": {
     "iopub.execute_input": "2020-10-22T13:32:56.796472Z",
     "iopub.status.busy": "2020-10-22T13:32:56.796472Z",
     "iopub.status.idle": "2020-10-22T13:32:57.460066Z",
     "shell.execute_reply": "2020-10-22T13:32:57.460066Z"
    }
   },
   "outputs": [],
   "source": [
    "import numpy as np\n",
    "import matplotlib.pyplot as plt\n",
    "import rasterio\n",
    "from rasterio import plot\n",
    "import pyproj"
   ]
  },
  {
   "cell_type": "markdown",
   "metadata": {},
   "source": [
    "Rasterio uses for many of its tests a small 3-band GeoTIFF file named \"RGB.byte.tif\". Open it using the function `rasterio.open()`."
   ]
  },
  {
   "cell_type": "code",
   "execution_count": null,
   "metadata": {
    "execution": {
     "iopub.execute_input": "2020-10-22T13:32:57.466593Z",
     "iopub.status.busy": "2020-10-22T13:32:57.466593Z",
     "iopub.status.idle": "2020-10-22T13:32:57.544771Z",
     "shell.execute_reply": "2020-10-22T13:32:57.544771Z"
    }
   },
   "outputs": [],
   "source": [
    "src = rasterio.open('data/RGB.byte.tif')"
   ]
  },
  {
   "cell_type": "markdown",
   "metadata": {},
   "source": [
    "This function returns a dataset object. It has many of the same properties as a Python file object."
   ]
  },
  {
   "cell_type": "code",
   "execution_count": null,
   "metadata": {
    "execution": {
     "iopub.execute_input": "2020-10-22T13:32:57.544771Z",
     "iopub.status.busy": "2020-10-22T13:32:57.544771Z",
     "iopub.status.idle": "2020-10-22T13:32:57.560394Z",
     "shell.execute_reply": "2020-10-22T13:32:57.560394Z"
    }
   },
   "outputs": [],
   "source": [
    "src.name"
   ]
  },
  {
   "cell_type": "code",
   "execution_count": null,
   "metadata": {
    "execution": {
     "iopub.execute_input": "2020-10-22T13:32:57.566899Z",
     "iopub.status.busy": "2020-10-22T13:32:57.566899Z",
     "iopub.status.idle": "2020-10-22T13:32:57.582582Z",
     "shell.execute_reply": "2020-10-22T13:32:57.582582Z"
    }
   },
   "outputs": [],
   "source": [
    "src.mode"
   ]
  },
  {
   "cell_type": "code",
   "execution_count": null,
   "metadata": {
    "execution": {
     "iopub.execute_input": "2020-10-22T13:32:57.582582Z",
     "iopub.status.busy": "2020-10-22T13:32:57.582582Z",
     "iopub.status.idle": "2020-10-22T13:32:57.598205Z",
     "shell.execute_reply": "2020-10-22T13:32:57.598205Z"
    }
   },
   "outputs": [],
   "source": [
    "src.closed"
   ]
  },
  {
   "cell_type": "markdown",
   "metadata": {},
   "source": [
    "Raster datasets have additional structure and a description can be had from its `meta` property or individually."
   ]
  },
  {
   "cell_type": "code",
   "execution_count": null,
   "metadata": {
    "execution": {
     "iopub.execute_input": "2020-10-22T13:32:57.598205Z",
     "iopub.status.busy": "2020-10-22T13:32:57.598205Z",
     "iopub.status.idle": "2020-10-22T13:32:57.613829Z",
     "shell.execute_reply": "2020-10-22T13:32:57.613829Z"
    }
   },
   "outputs": [],
   "source": [
    "src.meta"
   ]
  },
  {
   "cell_type": "code",
   "execution_count": null,
   "metadata": {
    "execution": {
     "iopub.execute_input": "2020-10-22T13:32:57.613829Z",
     "iopub.status.busy": "2020-10-22T13:32:57.613829Z",
     "iopub.status.idle": "2020-10-22T13:32:57.629453Z",
     "shell.execute_reply": "2020-10-22T13:32:57.629453Z"
    }
   },
   "outputs": [],
   "source": [
    "src.crs"
   ]
  },
  {
   "cell_type": "markdown",
   "metadata": {},
   "source": [
    "To close an opened dataset, use its `close()` method."
   ]
  },
  {
   "cell_type": "code",
   "execution_count": null,
   "metadata": {
    "execution": {
     "iopub.execute_input": "2020-10-22T13:32:57.629453Z",
     "iopub.status.busy": "2020-10-22T13:32:57.629453Z",
     "iopub.status.idle": "2020-10-22T13:32:57.645077Z",
     "shell.execute_reply": "2020-10-22T13:32:57.645077Z"
    }
   },
   "outputs": [],
   "source": [
    "src.close()\n",
    "src.closed"
   ]
  },
  {
   "cell_type": "markdown",
   "metadata": {},
   "source": [
    "You can't read from or write to a closed dataset, but you can continue access its properties."
   ]
  },
  {
   "cell_type": "code",
   "execution_count": null,
   "metadata": {
    "execution": {
     "iopub.execute_input": "2020-10-22T13:32:57.645077Z",
     "iopub.status.busy": "2020-10-22T13:32:57.645077Z",
     "iopub.status.idle": "2020-10-22T13:32:57.660702Z",
     "shell.execute_reply": "2020-10-22T13:32:57.660702Z"
    }
   },
   "outputs": [],
   "source": [
    "src.driver"
   ]
  },
  {
   "cell_type": "markdown",
   "metadata": {},
   "source": [
    "## Dataset layout\n",
    "\n",
    "Three properties of a Rasterio dataset tell you a lot about it in Numpy terms. The `shape` of a dataset is a `height, width` tuple and is exactly the shape of Numpy arrays that would be read from it. The testing dataset has 718 rows and 791 columns."
   ]
  },
  {
   "cell_type": "code",
   "execution_count": null,
   "metadata": {
    "execution": {
     "iopub.execute_input": "2020-10-22T13:32:57.667207Z",
     "iopub.status.busy": "2020-10-22T13:32:57.667207Z",
     "iopub.status.idle": "2020-10-22T13:32:57.682892Z",
     "shell.execute_reply": "2020-10-22T13:32:57.682892Z"
    }
   },
   "outputs": [],
   "source": [
    "src.shape"
   ]
  },
  {
   "cell_type": "markdown",
   "metadata": {},
   "source": [
    "The `count` of bands in the dataset is 3."
   ]
  },
  {
   "cell_type": "code",
   "execution_count": null,
   "metadata": {
    "execution": {
     "iopub.execute_input": "2020-10-22T13:32:57.682892Z",
     "iopub.status.busy": "2020-10-22T13:32:57.682892Z",
     "iopub.status.idle": "2020-10-22T13:32:57.698473Z",
     "shell.execute_reply": "2020-10-22T13:32:57.698473Z"
    }
   },
   "outputs": [],
   "source": [
    "src.count"
   ]
  },
  {
   "cell_type": "markdown",
   "metadata": {},
   "source": [
    "All three of its bands contain 8-bit unsigned integers."
   ]
  },
  {
   "cell_type": "code",
   "execution_count": null,
   "metadata": {
    "execution": {
     "iopub.execute_input": "2020-10-22T13:32:57.698473Z",
     "iopub.status.busy": "2020-10-22T13:32:57.698473Z",
     "iopub.status.idle": "2020-10-22T13:32:57.714139Z",
     "shell.execute_reply": "2020-10-22T13:32:57.714139Z"
    }
   },
   "outputs": [],
   "source": [
    "src.dtypes"
   ]
  },
  {
   "cell_type": "markdown",
   "metadata": {},
   "source": [
    "Numpy concepts are the model here. If you wanted to create a 3-D Numpy array into which the testing data file's bands would fit without any resampling, you would use the following Python code."
   ]
  },
  {
   "cell_type": "code",
   "execution_count": null,
   "metadata": {
    "execution": {
     "iopub.execute_input": "2020-10-22T13:32:57.714139Z",
     "iopub.status.busy": "2020-10-22T13:32:57.714139Z",
     "iopub.status.idle": "2020-10-22T13:32:57.729763Z",
     "shell.execute_reply": "2020-10-22T13:32:57.729763Z"
    }
   },
   "outputs": [],
   "source": [
    "dest = np.empty((src.count,) + src.shape, dtype='uint8')\n",
    "dest"
   ]
  },
  {
   "cell_type": "markdown",
   "metadata": {},
   "source": [
    "# Basic data visualization"
   ]
  },
  {
   "cell_type": "markdown",
   "metadata": {},
   "source": [
    "Open the dataset again"
   ]
  },
  {
   "cell_type": "code",
   "execution_count": null,
   "metadata": {
    "execution": {
     "iopub.execute_input": "2020-10-22T13:32:57.729763Z",
     "iopub.status.busy": "2020-10-22T13:32:57.729763Z",
     "iopub.status.idle": "2020-10-22T13:32:57.745386Z",
     "shell.execute_reply": "2020-10-22T13:32:57.745386Z"
    }
   },
   "outputs": [],
   "source": [
    "src = rasterio.open(r\"data/RGB.byte.tif\")"
   ]
  },
  {
   "cell_type": "code",
   "execution_count": null,
   "metadata": {
    "execution": {
     "iopub.execute_input": "2020-10-22T13:32:57.745386Z",
     "iopub.status.busy": "2020-10-22T13:32:57.745386Z",
     "iopub.status.idle": "2020-10-22T13:32:58.084065Z",
     "shell.execute_reply": "2020-10-22T13:32:58.084065Z"
    },
    "scrolled": false
   },
   "outputs": [],
   "source": [
    "%matplotlib inline\n",
    "plot.show(src)"
   ]
  },
  {
   "cell_type": "markdown",
   "metadata": {},
   "source": [
    "### We can also display a single band of a multiband image by passing a tuple (raster source, band)"
   ]
  },
  {
   "cell_type": "code",
   "execution_count": null,
   "metadata": {
    "execution": {
     "iopub.execute_input": "2020-10-22T13:32:58.084065Z",
     "iopub.status.busy": "2020-10-22T13:32:58.084065Z",
     "iopub.status.idle": "2020-10-22T13:32:58.331523Z",
     "shell.execute_reply": "2020-10-22T13:32:58.331523Z"
    }
   },
   "outputs": [],
   "source": [
    "world = rasterio.open(r\"data/world.rgb.tif\")\n",
    "plot.show((world, 2), cmap='viridis')"
   ]
  },
  {
   "cell_type": "markdown",
   "metadata": {},
   "source": [
    "### side by side:"
   ]
  },
  {
   "cell_type": "code",
   "execution_count": null,
   "metadata": {
    "execution": {
     "iopub.execute_input": "2020-10-22T13:32:58.347118Z",
     "iopub.status.busy": "2020-10-22T13:32:58.347118Z",
     "iopub.status.idle": "2020-10-22T13:32:59.063671Z",
     "shell.execute_reply": "2020-10-22T13:32:59.063671Z"
    }
   },
   "outputs": [],
   "source": [
    "fig, (ax1, ax2) = plt.subplots(1, 2, figsize=(15,7))\n",
    "plot.show(src, ax=ax1)\n",
    "plot.show((world, 2), cmap='viridis', ax=ax2)\n",
    "fig.tight_layout()"
   ]
  },
  {
   "cell_type": "markdown",
   "metadata": {},
   "source": [
    "## Multiple bands side by side"
   ]
  },
  {
   "cell_type": "code",
   "execution_count": null,
   "metadata": {
    "execution": {
     "iopub.execute_input": "2020-10-22T13:32:59.117024Z",
     "iopub.status.busy": "2020-10-22T13:32:59.117024Z",
     "iopub.status.idle": "2020-10-22T13:33:00.050790Z",
     "shell.execute_reply": "2020-10-22T13:33:00.050790Z"
    }
   },
   "outputs": [],
   "source": [
    "fig, (axr, axg, axb) = plt.subplots(1,3, figsize=(21,7))\n",
    "plot.show((src, 1), ax=axr, cmap='Reds', title='red channel')\n",
    "plot.show((src, 2), ax=axg, cmap='Greens', title='green channel')\n",
    "plot.show((src, 3), ax=axb, cmap='Blues', title='blue channel')"
   ]
  },
  {
   "cell_type": "markdown",
   "metadata": {},
   "source": [
    "### How about the same thing but with the ability to navigate simultaneously?"
   ]
  },
  {
   "cell_type": "code",
   "execution_count": null,
   "metadata": {
    "execution": {
     "iopub.execute_input": "2020-10-22T13:33:00.050790Z",
     "iopub.status.busy": "2020-10-22T13:33:00.050790Z",
     "iopub.status.idle": "2020-10-22T13:33:00.082090Z",
     "shell.execute_reply": "2020-10-22T13:33:00.082090Z"
    }
   },
   "outputs": [],
   "source": [
    "%matplotlib notebook"
   ]
  },
  {
   "cell_type": "code",
   "execution_count": null,
   "metadata": {
    "execution": {
     "iopub.execute_input": "2020-10-22T13:33:00.082090Z",
     "iopub.status.busy": "2020-10-22T13:33:00.082090Z",
     "iopub.status.idle": "2020-10-22T13:33:00.251375Z",
     "shell.execute_reply": "2020-10-22T13:33:00.251375Z"
    }
   },
   "outputs": [],
   "source": [
    "fig, (axr, axg, axb) = plt.subplots(1,3, figsize=(12, 4), sharex=True, sharey=True)\n",
    "plot.show((src, 1), ax=axr, cmap='Reds', title='red channel')\n",
    "plot.show((src, 2), ax=axg, cmap='Greens', title='green channel')\n",
    "plot.show((src, 3), ax=axb, cmap='Blues', title='blue channel')"
   ]
  },
  {
   "cell_type": "markdown",
   "metadata": {},
   "source": [
    "### If we want to see a histogram of the data we use the plot.show_hist function"
   ]
  },
  {
   "cell_type": "code",
   "execution_count": null,
   "metadata": {
    "execution": {
     "iopub.execute_input": "2020-10-22T13:33:00.251375Z",
     "iopub.status.busy": "2020-10-22T13:33:00.251375Z",
     "iopub.status.idle": "2020-10-22T13:33:00.655109Z",
     "shell.execute_reply": "2020-10-22T13:33:00.655109Z"
    }
   },
   "outputs": [],
   "source": [
    "%matplotlib inline\n",
    "plot.show_hist(src)"
   ]
  },
  {
   "cell_type": "markdown",
   "metadata": {},
   "source": [
    "\n",
    "### Any of the optional pyplot histogram parameters can be passed to tweak the representation"
   ]
  },
  {
   "cell_type": "code",
   "execution_count": null,
   "metadata": {
    "execution": {
     "iopub.execute_input": "2020-10-22T13:33:00.655109Z",
     "iopub.status.busy": "2020-10-22T13:33:00.655109Z",
     "iopub.status.idle": "2020-10-22T13:33:00.904048Z",
     "shell.execute_reply": "2020-10-22T13:33:00.903041Z"
    }
   },
   "outputs": [],
   "source": [
    "plot.show_hist(world, bins=50, lw=0.0, stacked=False, alpha=0.3, \n",
    "               histtype='stepfilled', title=\"World Histogram overlaid\")"
   ]
  },
  {
   "cell_type": "code",
   "execution_count": null,
   "metadata": {
    "execution": {
     "iopub.execute_input": "2020-10-22T13:33:00.908108Z",
     "iopub.status.busy": "2020-10-22T13:33:00.908108Z",
     "iopub.status.idle": "2020-10-22T13:33:01.153152Z",
     "shell.execute_reply": "2020-10-22T13:33:01.153152Z"
    }
   },
   "outputs": [],
   "source": [
    "plot.show_hist(world, bins=20, lw=2.0, stacked=True,\n",
    "               alpha=0.8, histtype='step', density=True, \n",
    "               title=\"World Histogram stacked\")"
   ]
  },
  {
   "cell_type": "markdown",
   "metadata": {},
   "source": [
    "### See matplotlib.pyplot.hist documentation at http://matplotlib.org/api/pyplot_api.html for a list of these parameters and available options"
   ]
  },
  {
   "cell_type": "code",
   "execution_count": null,
   "metadata": {
    "execution": {
     "iopub.execute_input": "2020-10-22T13:33:01.184409Z",
     "iopub.status.busy": "2020-10-22T13:33:01.168777Z",
     "iopub.status.idle": "2020-10-22T13:33:01.670025Z",
     "shell.execute_reply": "2020-10-22T13:33:01.670025Z"
    }
   },
   "outputs": [],
   "source": [
    "fig, (ax1, ax2) = plt.subplots(1, 2, figsize=(15,7))\n",
    "plot.show(world, ax=ax1)\n",
    "plot.show_hist(world, bins=50, lw=0.0, stacked=False, alpha=0.3, \n",
    "               histtype='stepfilled', title=\"World Histogram\")\n",
    "fig.tight_layout()"
   ]
  },
  {
   "cell_type": "markdown",
   "metadata": {},
   "source": [
    "### Show contours from a raster"
   ]
  },
  {
   "cell_type": "code",
   "execution_count": null,
   "metadata": {
    "execution": {
     "iopub.execute_input": "2020-10-22T13:33:01.685613Z",
     "iopub.status.busy": "2020-10-22T13:33:01.685613Z",
     "iopub.status.idle": "2020-10-22T13:33:10.984250Z",
     "shell.execute_reply": "2020-10-22T13:33:10.984250Z"
    }
   },
   "outputs": [],
   "source": [
    "fig, ax = plt.subplots(1, figsize=(12, 12))\n",
    "plot.show((world, 1), cmap='Greys_r', interpolation='none', ax=ax)\n",
    "ax.set_xlim(-50, 0)\n",
    "ax.set_ylim(0, 40)\n",
    "\n",
    "plot.show((world, 1), contour=True, ax=ax)"
   ]
  },
  {
   "cell_type": "markdown",
   "metadata": {},
   "source": [
    "### And of course there are many ways to easily customize this output ..."
   ]
  },
  {
   "cell_type": "code",
   "execution_count": null,
   "metadata": {
    "execution": {
     "iopub.execute_input": "2020-10-22T13:33:10.984250Z",
     "iopub.status.busy": "2020-10-22T13:33:10.984250Z",
     "iopub.status.idle": "2020-10-22T13:33:11.825145Z",
     "shell.execute_reply": "2020-10-22T13:33:11.825145Z"
    },
    "scrolled": false
   },
   "outputs": [],
   "source": [
    "%matplotlib notebook\n",
    "fig, ax = plt.subplots(1, figsize=(12, 12))\n",
    "plot.show((world, 1), cmap='Greys_r', interpolation='none', ax=ax)\n",
    "ax.set_xlim(-50, 0)\n",
    "ax.set_ylim(0, 40)\n",
    "\n",
    "plot.show((world, 1), contour=True, ax=ax, \n",
    "          levels=[25, 125], colors=['white', 'red'], linewidths=4,\n",
    "         contour_label_kws=dict(fontsize=18, fmt=\"%1.0f\", inline_spacing=15, use_clabeltext=True))"
   ]
  },
  {
   "cell_type": "markdown",
   "metadata": {},
   "source": [
    "# Add a rasterio raster to a cartopy geoaxes"
   ]
  },
  {
   "cell_type": "code",
   "execution_count": null,
   "metadata": {
    "execution": {
     "iopub.execute_input": "2020-10-22T13:33:11.831670Z",
     "iopub.status.busy": "2020-10-22T13:33:11.831670Z",
     "iopub.status.idle": "2020-10-22T13:33:12.225998Z",
     "shell.execute_reply": "2020-10-22T13:33:12.225998Z"
    }
   },
   "outputs": [],
   "source": [
    "\n",
    "import cartopy\n",
    "import cartopy.crs as ccrs\n",
    "\n",
    "fig = plt.figure(figsize=(20, 12))\n",
    "ax = plt.axes(projection=ccrs.InterruptedGoodeHomolosine())\n",
    "\n",
    "ax.set_global()\n",
    "plot.show(world, origin='upper', transform=ccrs.PlateCarree(), interpolation=None, ax=ax)\n",
    "\n",
    "ax.coastlines()\n",
    "ax.add_feature(cartopy.feature.BORDERS)"
   ]
  },
  {
   "cell_type": "markdown",
   "metadata": {},
   "source": [
    "## References"
   ]
  },
  {
   "cell_type": "markdown",
   "metadata": {},
   "source": [
    "[1]: Mike Bostock's words from his FOSS4G keynote, 2014-09-10"
   ]
  }
 ],
 "metadata": {
  "kernelspec": {
   "display_name": "dev",
   "language": "python",
   "name": "dev"
  },
  "language_info": {
   "codemirror_mode": {
    "name": "ipython",
    "version": 3
   },
   "file_extension": ".py",
   "mimetype": "text/x-python",
   "name": "python",
   "nbconvert_exporter": "python",
   "pygments_lexer": "ipython3",
   "version": "3.8.6"
  }
 },
 "nbformat": 4,
 "nbformat_minor": 1
}
