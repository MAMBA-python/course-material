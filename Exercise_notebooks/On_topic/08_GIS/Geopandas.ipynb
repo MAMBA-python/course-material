{
 "cells": [
  {
   "cell_type": "markdown",
   "metadata": {},
   "source": [
    "<figure>\n",
    "   <IMG SRC=\"https://mamba-python.nl/images/logo_basis.png\" WIDTH=125 ALIGN=\"right\">\n",
    "</figure>\n",
    "\n",
    "# Geopandas\n",
    "_developed by Davíd Brakenhoff & Onno Ebbens_\n",
    "<hr>\n",
    "\n",
    "This notebook shows some of the basic functionality of the geopandas module. Geopandas combines the power of shapefiles with the power of Pandas for working with large datasets.\n",
    "\n",
    "### Contents<a id=\"top\"></a>\n",
    "1. [Installing geopandas](#1)\n",
    "2. [Importing geopandas](#2)\n",
    "3. [Reading shapefiles](#3)\n",
    "4. [Viewing attribute table](#4)\n",
    "5. [Geodataframe from DataFrame](#5)\n",
    "6. [Plotting data](#plot)\n",
    "7. [Add basemap to plot](#7)"
   ]
  },
  {
   "cell_type": "markdown",
   "metadata": {},
   "source": [
    "## 1. [Installing geopandas](#top)<a id=\"1\"></a>\n",
    "`geopandas`is a notoriously difficult package to install without getting vague errors. It has gotten better recently (this was written early 2019) so hopefully this step will be a breeze for you. Otherwise, if you do have trouble, you're not the only one.\n",
    "\n",
    "There are two methods of getting geopandas that have worked consistently on my PC. The first uses `conda` which is available if you have installed the Anaconda Python distribution or Miniconda distribution. The second uses precompiled packages (called wheels) from a website.\n",
    "\n",
    "### Using conda\n",
    "This step assumes you have `conda` installed, via the Anaconda Python Distribution or Miniconda, and it's quite straightforward. Type `conda install geopandas` into the Anaconda Prompt, and wait. Confirm the installation by pressing `y` when prompted. Afterwards start a new Anaconda Prompt, type `python` and then once Python has started up, type `import geopandas`. If you don't see any errors, congratulations, this worked so you can continue to step 2.\n",
    "\n",
    "If you do see an error you could try to install geopandas from the conda-forge channel (a different location from which to get python packages). You can do this by typing `conda install -c conda-forge geopandas` into the Anaconda Prompt.\n",
    "\n",
    "### Using wheels and pip\n",
    "Download the following packages from this [Christoph Gohlke's website](https://www.lfd.uci.edu/~gohlke/pythonlibs):\n",
    "- GDAL\n",
    "- Fiona\n",
    "- geopandas\n",
    "\n",
    "Use CTRL+F to find the download link on the page. Be sure to download the correct version of the package. The Python version should match your Python version (see Help > About in the Jupyter Notebook if you're not sure which Python version you have). Also the architecture should match (i.e. 64bits vs 32bits). For example:\n",
    "\n",
    "- GDAL‑2.3.3‑cp37‑cp37m‑win_amd64.whl\n",
    "\n",
    "This is the latest GDAL version as of writing this notebook for Python 3.7 (as can be seen from the cp37 in the name), for 64-bits Python (as derived from the amd64 in the name). This is usually the one you want (latest Python, 64 bits).\n",
    "\n",
    "Once you have downloaded the correct files, open Anaconda Prompt, and navigate to the directory in which you saved your downloads. Now type the following commands (the order is important):\n",
    "1. `pip install GDAL‑2.3.3‑cp37‑cp37m‑win_amd64.whl`\n",
    "2. `pip install Fiona‑1.8.5‑cp37‑cp37m‑win_amd64.whl`\n",
    "3. `pip install geopandas‑0.4.1‑py2.py3‑none‑any.whl` (Note that the geopandas download is not python or archtecture specific)\n",
    "\n",
    "If these steps complete succesfully, open a new Anaconda Prompt, start Python and try to `import geopandas`. If it works without any error messages, congrats and move to step 2.\n"
   ]
  },
  {
   "cell_type": "markdown",
   "metadata": {},
   "source": [
    "## 2. [Importing geopandas](#top)<a id=\"2\"></a>\n",
    "\n",
    "This is easy!"
   ]
  },
  {
   "cell_type": "code",
   "execution_count": null,
   "metadata": {},
   "outputs": [],
   "source": [
    "import geopandas as gpd\n",
    "import pandas as pd\n",
    "%matplotlib inline"
   ]
  },
  {
   "cell_type": "markdown",
   "metadata": {},
   "source": [
    "## 3. [Reading shapefiles](#top)<a id=\"3\"></a>\n",
    "This is done using the `gpd.read_file()` function"
   ]
  },
  {
   "cell_type": "code",
   "execution_count": null,
   "metadata": {},
   "outputs": [],
   "source": [
    "fileName = r\"shapefiles/Rotterdam_centraal.shp\" ##file name\n",
    "gdf = gpd.read_file(fileName)"
   ]
  },
  {
   "cell_type": "markdown",
   "metadata": {},
   "source": [
    "## 4. [Viewing attribute table](#top)<a id=\"4\"></a>\n",
    "The attribute table is loaded as a GeoDataFrame which is similar to a `pandas.DataFrame`."
   ]
  },
  {
   "cell_type": "code",
   "execution_count": null,
   "metadata": {},
   "outputs": [],
   "source": [
    "gdf"
   ]
  },
  {
   "cell_type": "markdown",
   "metadata": {},
   "source": [
    "Operations, such as `loc` and `sum()`, that youdo on `pandas.DataFrames` are also available on `GeoDataFrames`. "
   ]
  },
  {
   "cell_type": "code",
   "execution_count": null,
   "metadata": {},
   "outputs": [],
   "source": [
    "gdf.loc[1, \"id\"]"
   ]
  },
  {
   "cell_type": "code",
   "execution_count": null,
   "metadata": {},
   "outputs": [],
   "source": [
    "gdf[\"id\"].sum()"
   ]
  },
  {
   "cell_type": "markdown",
   "metadata": {},
   "source": [
    "#### Exercise 1<a name=\"ex1\"></a>\n",
    "In the `shapefiles` directory is a file named `nybb.shp`. Read the shapefile as a `GeoDataFrame` and have a look at the attribute table. What kind of data is in tihs shapefile?"
   ]
  },
  {
   "cell_type": "code",
   "execution_count": null,
   "metadata": {},
   "outputs": [],
   "source": []
  },
  {
   "cell_type": "markdown",
   "metadata": {},
   "source": [
    "<a href=\"#ans1\">Answer Exercise 1</a>"
   ]
  },
  {
   "cell_type": "markdown",
   "metadata": {},
   "source": [
    "#### Exercise 2<a name=\"ex2\"></a>\n",
    "One of the columns in the attribute table shows the surface area within a shape. Use the `idxmax()` method of pandas to find the shape and properties of the polygon with the biggest surface area."
   ]
  },
  {
   "cell_type": "code",
   "execution_count": null,
   "metadata": {},
   "outputs": [],
   "source": []
  },
  {
   "cell_type": "markdown",
   "metadata": {},
   "source": [
    "<a href=\"#ans2\">Answer Exercise 2</a>"
   ]
  },
  {
   "cell_type": "markdown",
   "metadata": {},
   "source": [
    "## 5. [GeoDataFrame from DataFrame](#top)<a id=\"5\"></a>\n",
    "\n",
    "You can convert a DataFrame with x and y coördinates to a GeoDataFrame. First we load a dataframe with x and y coordinates in the columns `UTM_X` and `UTM_Y`."
   ]
  },
  {
   "cell_type": "code",
   "execution_count": null,
   "metadata": {},
   "outputs": [],
   "source": [
    "df_turbines = pd.read_excel(r'data\\turbines_ohvs.xlsx')\n",
    "df_turbines.head()"
   ]
  },
  {
   "cell_type": "markdown",
   "metadata": {},
   "source": [
    "We use the `points_from_xy` function to convert the x and y coördinates in to a list of `POINT` geometries. Then we create a `GeoDataFrame` from the original `DataFrame` and the list of geometries we've just created. "
   ]
  },
  {
   "cell_type": "code",
   "execution_count": null,
   "metadata": {},
   "outputs": [],
   "source": [
    "geometry = gpd.points_from_xy(df_turbines['UTM_X'], df_turbines['UTM_Y'])\n",
    "gdf_turbines = gpd.GeoDataFrame(df_turbines, geometry=geometry)\n",
    "gdf_turbines.head()"
   ]
  },
  {
   "cell_type": "markdown",
   "metadata": {},
   "source": [
    "#### Exercise 3<a name=\"ex3\"></a>\n",
    "\n",
    "The file `turbines_ohvs` contains the owner ('eigenaar') per turbine. List all the owners that are mentioned in this file?"
   ]
  },
  {
   "cell_type": "code",
   "execution_count": null,
   "metadata": {},
   "outputs": [],
   "source": []
  },
  {
   "cell_type": "markdown",
   "metadata": {},
   "source": [
    "<a href=\"#ans3\">Answer Exercise 3</a>"
   ]
  },
  {
   "cell_type": "markdown",
   "metadata": {},
   "source": [
    "#### Exercise 4<a name=\"ex4\"></a>\n",
    "\n",
    "The file `ind06intensiteitpergoedgekeurdelus-2015-01.csv` contains the traffic intensities in January 2015 at different locations in the city Utrecht. Read this file as a `DataFrame` and convert to a `GeoDataFrame` using the method aboven."
   ]
  },
  {
   "cell_type": "code",
   "execution_count": null,
   "metadata": {},
   "outputs": [],
   "source": []
  },
  {
   "cell_type": "markdown",
   "metadata": {},
   "source": [
    "<a href=\"#ans4\">Answer Exercise 4</a>"
   ]
  },
  {
   "cell_type": "markdown",
   "metadata": {},
   "source": [
    "## 6. [Plotting data](#top)<a id=\"plot\"></a>\n",
    "\n",
    "Plotting a shapefile using geopandas is easy!"
   ]
  },
  {
   "cell_type": "code",
   "execution_count": null,
   "metadata": {},
   "outputs": [],
   "source": [
    "gdf.plot()"
   ]
  },
  {
   "cell_type": "code",
   "execution_count": null,
   "metadata": {},
   "outputs": [],
   "source": []
  },
  {
   "cell_type": "markdown",
   "metadata": {},
   "source": [
    "#### Exercise 5<a name=\"ex5\"></a>\n",
    "\n",
    "Plot the locations of the traffic measurements from exercise 4."
   ]
  },
  {
   "cell_type": "code",
   "execution_count": null,
   "metadata": {},
   "outputs": [],
   "source": []
  },
  {
   "cell_type": "markdown",
   "metadata": {},
   "source": [
    "<a href=\"#ans5\">Answer Exercise 5</a>"
   ]
  },
  {
   "cell_type": "markdown",
   "metadata": {},
   "source": [
    "#### Exercise 6<a name=\"ex6\"></a>\n",
    "\n",
    "The plot in exercise 5 doesn't look very appealing. This is caused by an error in one of the latitude coördinates. Remove the points with the wrong coördinates."
   ]
  },
  {
   "cell_type": "code",
   "execution_count": null,
   "metadata": {},
   "outputs": [],
   "source": []
  },
  {
   "cell_type": "markdown",
   "metadata": {},
   "source": [
    "<a href=\"#ans6\">Answer Exercise 6</a>"
   ]
  },
  {
   "cell_type": "markdown",
   "metadata": {},
   "source": [
    "\n",
    "## 7. [Add a basemap](#top)<a id=\"7\"></a>\n",
    "\n",
    "You can add a basemap to your plot with the `contextily` package. Before you install `contextily` you have to install `cartopy` and `rasterio`. \n",
    "\n",
    "Just like `gdal`, `fiona` and `geopandas` you can download `cartopy` and `rasterio` from [Christoph Gohlke's website](https://www.lfd.uci.edu/~gohlke/pythonlibs) and install with:<br><br>\n",
    "`pip install Cartopy‑0.17.0‑cp37‑cp37m‑win_amd64.whl`\n",
    "\n",
    "`pip install rasterio‑1.1.8‑cp37‑cp37m‑win_amd64.whl`\n",
    "\n",
    "\n",
    "\n",
    "\n",
    "Once you've installed this succesfully you can install `descartes` and `contextily` with:<br><br>\n",
    "\n",
    "`pip install descartes`\n",
    "\n",
    "`pip install contextily`.\n",
    "\n",
    "\n",
    "Adding a basemap requires just the following steps:\n",
    "1. convert the coördinate reference system (crs) of your `GeoDataFrame` to lat/lon coördinates.\n",
    "2. plot the `GeoDataFrame` with `gdf.plot()`\n",
    "3. use the `add_basemap` function from the `contextily` package to add a basemap to the plot"
   ]
  },
  {
   "cell_type": "code",
   "execution_count": null,
   "metadata": {},
   "outputs": [],
   "source": [
    "import contextily as ctx"
   ]
  },
  {
   "cell_type": "markdown",
   "metadata": {},
   "source": [
    "## 7.1 convert crs\n",
    "\n",
    "`contextily` requires a specific coördinate reference system (epsg 3857). Therefore we need to convert the crs from our `GeoDataFrame` to epsg 3857. This is easily done with the `to_crs` method. If your current `GeoDataFrame` has no crs the `to_crs` method won't work and you have to specify the `crs` first. The current crs is an attribute of your `GeoDataFrame`: `gdf.crs`."
   ]
  },
  {
   "cell_type": "code",
   "execution_count": null,
   "metadata": {},
   "outputs": [],
   "source": [
    "print(gdf.crs)\n",
    "gdf = gdf.to_crs(epsg=3857)"
   ]
  },
  {
   "cell_type": "code",
   "execution_count": null,
   "metadata": {},
   "outputs": [],
   "source": [
    "ax = gdf.plot(figsize=(10, 10), alpha=0.5, edgecolor='k')\n",
    "ctx.add_basemap(ax)"
   ]
  },
  {
   "cell_type": "markdown",
   "metadata": {},
   "source": [
    "#### Exercise 7<a name=\"ex7\"></a>\n",
    "\n",
    "When we created the `GeoDataFrame` from the `DataFrame` of the traffic measurements we didn't specify a coordinate reference system (crs). In order to plot a background map we need to convert the `GeoDataFrame` to a certain crs. Therefore we have to specify the original crs. Specify the crs when creating the `GeoDataFrame` of the traffic measurements, then convert the crs and plot a background map. The crs of the original `latitude` and `longitude` have epsg number 4326. "
   ]
  },
  {
   "cell_type": "code",
   "execution_count": null,
   "metadata": {},
   "outputs": [],
   "source": []
  },
  {
   "cell_type": "markdown",
   "metadata": {},
   "source": [
    "<a href=\"#ans7\">Answer Exercise 7</a>"
   ]
  },
  {
   "cell_type": "code",
   "execution_count": null,
   "metadata": {},
   "outputs": [],
   "source": []
  },
  {
   "cell_type": "markdown",
   "metadata": {},
   "source": [
    "#### Exercise 8<a name=\"ex8\"></a>\n",
    "use the `column` and `legend` arguments of the `GeoDataFrame.plot` method to color the points based on the traffic intensity, defined by the 'Waarde' column. "
   ]
  },
  {
   "cell_type": "code",
   "execution_count": null,
   "metadata": {},
   "outputs": [],
   "source": []
  },
  {
   "cell_type": "markdown",
   "metadata": {},
   "source": [
    "<a href=\"#ans8\">Answer Exercise 8</a>"
   ]
  },
  {
   "cell_type": "markdown",
   "metadata": {},
   "source": [
    "\n",
    "## Answers"
   ]
  },
  {
   "cell_type": "markdown",
   "metadata": {},
   "source": [
    "#### <a href=\"#ex1\">Answer exercise 1</a> <a name=\"ans1\"></a>\n",
    "\n",
    "This shapefile contains the boundaries of the boroughs of New York."
   ]
  },
  {
   "cell_type": "code",
   "execution_count": null,
   "metadata": {},
   "outputs": [],
   "source": [
    "gdf_nybb = gpd.read_file(r'data\\nybb.shp')\n",
    "gdf_nybb.head()"
   ]
  },
  {
   "cell_type": "markdown",
   "metadata": {},
   "source": [
    "#### <a href=\"#ex2\">Answer exercise 2</a> <a name=\"ans2\"></a>\n",
    "Queens has the biggest surface area."
   ]
  },
  {
   "cell_type": "code",
   "execution_count": null,
   "metadata": {},
   "outputs": [],
   "source": [
    "gdf_nybb.loc[gdf_nybb['Shape_Area'].idxmax()]"
   ]
  },
  {
   "cell_type": "markdown",
   "metadata": {},
   "source": [
    "#### <a href=\"#ex3\">Answer exercise 3</a> <a name=\"ans3\"></a>"
   ]
  },
  {
   "cell_type": "code",
   "execution_count": null,
   "metadata": {},
   "outputs": [],
   "source": [
    "gdf_turbines['EIGENAAR'].unique()"
   ]
  },
  {
   "cell_type": "markdown",
   "metadata": {},
   "source": [
    "#### <a href=\"#ex4\">Answer exercise 4</a> <a name=\"ans4\"></a>"
   ]
  },
  {
   "cell_type": "code",
   "execution_count": null,
   "metadata": {},
   "outputs": [],
   "source": [
    "df_verkeer = pd.read_csv(r'data\\traffic_intensity_Utrecht.csv')\n",
    "geometry = gpd.points_from_xy(df_verkeer['longitude'], df_verkeer['latitude'])\n",
    "gdf_verkeer = gpd.GeoDataFrame(df_verkeer.copy(), geometry=geometry)\n",
    "gdf_verkeer.head()"
   ]
  },
  {
   "cell_type": "markdown",
   "metadata": {},
   "source": [
    "#### <a href=\"#ex5\">Answer exercise 5</a> <a name=\"ans5\"></a>"
   ]
  },
  {
   "cell_type": "code",
   "execution_count": null,
   "metadata": {},
   "outputs": [],
   "source": [
    "gdf_verkeer.plot()"
   ]
  },
  {
   "cell_type": "markdown",
   "metadata": {},
   "source": [
    "#### <a href=\"#ex6\">Answer exercise 6</a> <a name=\"ans6\"></a>"
   ]
  },
  {
   "cell_type": "code",
   "execution_count": null,
   "metadata": {},
   "outputs": [],
   "source": [
    "gdf_verkeer = gdf_verkeer[gdf_verkeer.latitude!=gdf_verkeer.latitude.min()]\n",
    "gdf_verkeer.plot()"
   ]
  },
  {
   "cell_type": "markdown",
   "metadata": {},
   "source": [
    "#### <a href=\"#ex7\">Answer exercise 7</a> <a name=\"ans7\"></a>"
   ]
  },
  {
   "cell_type": "code",
   "execution_count": null,
   "metadata": {},
   "outputs": [],
   "source": [
    "gdf_verkeer = gpd.GeoDataFrame(df_verkeer.copy(), geometry=geometry, crs=4326)\n",
    "gdf_verkeer = gdf_verkeer[gdf_verkeer.latitude!=gdf_verkeer.latitude.min()]\n",
    "gdf_verkeer = gdf_verkeer.to_crs(epsg=3857)\n",
    "ax = gdf_verkeer.plot(figsize=(10, 10), alpha=0.5, edgecolor='k')\n",
    "ctx.add_basemap(ax)"
   ]
  },
  {
   "cell_type": "markdown",
   "metadata": {},
   "source": [
    "#### <a href=\"#ex8\">Answer exercise 8</a> <a name=\"ans8\"></a>"
   ]
  },
  {
   "cell_type": "code",
   "execution_count": null,
   "metadata": {},
   "outputs": [],
   "source": [
    "ax = gdf_verkeer.plot('Waarde', legend=True, figsize=(10, 10), alpha=0.5, edgecolor='k')\n",
    "ctx.add_basemap(ax)\n",
    "\n",
    "#bonus plot the log value\n",
    "import numpy as np\n",
    "gdf_verkeer['logWaarde'] = np.log(gdf_verkeer['Waarde'])\n",
    "ax = gdf_verkeer.plot('logWaarde', legend=True, figsize=(10, 10), alpha=0.5, edgecolor='k')\n",
    "ctx.add_basemap(ax)"
   ]
  },
  {
   "cell_type": "markdown",
   "metadata": {},
   "source": [
    "### Origin of the data\n",
    "* traffic intensity data 'intensity_day.csv' from Utrecht obtained from https://data.overheid.nl/dataset/verkeer-tellingen-verkeerslichten-2015"
   ]
  }
 ],
 "metadata": {
  "kernelspec": {
   "display_name": "Python 3",
   "language": "python",
   "name": "python3"
  },
  "language_info": {
   "codemirror_mode": {
    "name": "ipython",
    "version": 3
   },
   "file_extension": ".py",
   "mimetype": "text/x-python",
   "name": "python",
   "nbconvert_exporter": "python",
   "pygments_lexer": "ipython3",
   "version": "3.7.6"
  }
 },
 "nbformat": 4,
 "nbformat_minor": 2
}
