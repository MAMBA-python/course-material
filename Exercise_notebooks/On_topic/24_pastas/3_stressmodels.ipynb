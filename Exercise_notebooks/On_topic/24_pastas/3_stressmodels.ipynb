{
 "cells": [
  {
   "cell_type": "markdown",
   "metadata": {},
   "source": [
    "# 3. Stressmodels\n",
    "In this notebook you will learn:\n",
    "- what a response function is\n",
    "- what the parameters of a response function are.\n",
    "- what the results of a time series model are.\n",
    "- how response functions and external stressed are combined in a stressmodel.\n",
    "- how stressmodels are used in a time series model.\n",
    "- how a time series model is solved."
   ]
  },
  {
   "cell_type": "markdown",
   "metadata": {},
   "source": [
    "### Contents\n",
    "1. [response function](#response)\n",
    "2. [external stress](#stress)\n",
    "3. [stressmodel](#stressmodel)\n",
    "4. [time series model](#tsa)\n",
    "5. [optimization](#optimization)"
   ]
  },
  {
   "cell_type": "code",
   "execution_count": null,
   "metadata": {
    "execution": {
     "iopub.execute_input": "2020-10-22T13:38:39.811105Z",
     "iopub.status.busy": "2020-10-22T13:38:39.811105Z",
     "iopub.status.idle": "2020-10-22T13:38:42.247876Z",
     "shell.execute_reply": "2020-10-22T13:38:42.247876Z"
    }
   },
   "outputs": [],
   "source": [
    "# importeer de benodigde packages\n",
    "import pandas as pd\n",
    "import numpy as np\n",
    "import matplotlib.pyplot as plt\n",
    "import pastas as ps\n",
    "%matplotlib inline"
   ]
  },
  {
   "cell_type": "markdown",
   "metadata": {},
   "source": [
    "### 1. response function<a name=\"response\"></a>\n",
    "Pastas has a diverse set of predefined response functions. Every response function tries to mimic the response of the groundwater levels to an external stress. In [this notebook](2_external_stresses.ipynb) we already used different response functions for different stresses. In this notebook we will go into more depth and start by examining the `Gamma` response function. This is the default response function for precipitation and evaporation in pastas. The function has three parameters (`A`, `n` & `a`). We can get the block response when we specify the 3 parameters of the `Gamma` function, in this case we use three pretty random values `4, 2 and 6`."
   ]
  },
  {
   "cell_type": "code",
   "execution_count": null,
   "metadata": {
    "execution": {
     "iopub.execute_input": "2020-10-22T13:38:42.247876Z",
     "iopub.status.busy": "2020-10-22T13:38:42.247876Z",
     "iopub.status.idle": "2020-10-22T13:38:42.263450Z",
     "shell.execute_reply": "2020-10-22T13:38:42.263450Z"
    }
   },
   "outputs": [],
   "source": [
    "rfunc = ps.Gamma()\n",
    "block_response = rfunc.block(p=[4, 2, 6])"
   ]
  },
  {
   "cell_type": "code",
   "execution_count": null,
   "metadata": {
    "execution": {
     "iopub.execute_input": "2020-10-22T13:38:42.279088Z",
     "iopub.status.busy": "2020-10-22T13:38:42.279088Z",
     "iopub.status.idle": "2020-10-22T13:38:42.464074Z",
     "shell.execute_reply": "2020-10-22T13:38:42.464074Z"
    }
   },
   "outputs": [],
   "source": [
    "plt.plot(block_response)"
   ]
  },
  {
   "cell_type": "markdown",
   "metadata": {},
   "source": [
    "#### Exercise 1 <a name=\"ex1\"></a>\n",
    "Use 3 different sets of parameters to create different response function. Plot them in the same figure. Make sure that all parameters are nonzero, positive numbers."
   ]
  },
  {
   "cell_type": "code",
   "execution_count": null,
   "metadata": {},
   "outputs": [],
   "source": []
  },
  {
   "cell_type": "markdown",
   "metadata": {},
   "source": [
    "<a href=\"#ans1\">Answer Exercise 1</a>"
   ]
  },
  {
   "cell_type": "markdown",
   "metadata": {},
   "source": [
    "### 2. External stress<a name=\"stress\"></a>"
   ]
  },
  {
   "cell_type": "markdown",
   "metadata": {},
   "source": [
    "We can use the response function together with a time series of an external stress to mimick groundwater levels. To explain this in more detail we create an artifcial stress series. The stress is always 0 except at the 5th of january where it is 1."
   ]
  },
  {
   "cell_type": "code",
   "execution_count": null,
   "metadata": {
    "execution": {
     "iopub.execute_input": "2020-10-22T13:38:42.479644Z",
     "iopub.status.busy": "2020-10-22T13:38:42.479644Z",
     "iopub.status.idle": "2020-10-22T13:38:42.681736Z",
     "shell.execute_reply": "2020-10-22T13:38:42.681736Z"
    }
   },
   "outputs": [],
   "source": [
    "dates = pd.date_range('2020-1-1', '2020-4-1')\n",
    "art_stress = pd.Series(index = dates, data=np.zeros(len(dates)))\n",
    "art_stress.loc['2020-1-5'] = 1.0\n",
    "art_stress.plot(ls='', marker='o')\n",
    "art_stress.head(10)"
   ]
  },
  {
   "cell_type": "markdown",
   "metadata": {},
   "source": [
    "### 3. Stressmodel<a name=\"stressmodel\"></a>"
   ]
  },
  {
   "cell_type": "markdown",
   "metadata": {},
   "source": [
    "We combine the articifical stress series and the response function in a stressmodel. "
   ]
  },
  {
   "cell_type": "code",
   "execution_count": null,
   "metadata": {
    "execution": {
     "iopub.execute_input": "2020-10-22T13:38:42.681736Z",
     "iopub.status.busy": "2020-10-22T13:38:42.681736Z",
     "iopub.status.idle": "2020-10-22T13:38:42.780500Z",
     "shell.execute_reply": "2020-10-22T13:38:42.780500Z"
    }
   },
   "outputs": [],
   "source": [
    "stressmodel = ps.StressModel(art_stress, ps.Gamma, name='artificial_response')"
   ]
  },
  {
   "cell_type": "markdown",
   "metadata": {},
   "source": [
    "Now we can use the `stressmodel` to `simulate` the effect of this particular stress. We use the same parameters for the response function as we did before (`4`, `2` & `6`)."
   ]
  },
  {
   "cell_type": "code",
   "execution_count": null,
   "metadata": {
    "execution": {
     "iopub.execute_input": "2020-10-22T13:38:42.780500Z",
     "iopub.status.busy": "2020-10-22T13:38:42.780500Z",
     "iopub.status.idle": "2020-10-22T13:38:42.796100Z",
     "shell.execute_reply": "2020-10-22T13:38:42.796100Z"
    }
   },
   "outputs": [],
   "source": [
    "def plot_sim_with_stress(simulated_series, stress):\n",
    "    \n",
    "    ax = simulated_series.plot(label='simulated effect', color='orange')\n",
    "    ax2 = ax.twinx()\n",
    "    stress.plot(ax=ax2, marker='o', ls='', label='stress')\n",
    "\n",
    "    ax.set_ylabel('effect')\n",
    "    ax.legend(loc=6)\n",
    "\n",
    "    ax2.set_ylabel('stress')\n",
    "    ax2.legend(loc=5)"
   ]
  },
  {
   "cell_type": "code",
   "execution_count": null,
   "metadata": {
    "execution": {
     "iopub.execute_input": "2020-10-22T13:38:42.796100Z",
     "iopub.status.busy": "2020-10-22T13:38:42.796100Z",
     "iopub.status.idle": "2020-10-22T13:38:43.165964Z",
     "shell.execute_reply": "2020-10-22T13:38:43.165964Z"
    }
   },
   "outputs": [],
   "source": [
    "simulated_series = stressmodel.simulate(p=[4, 2, 6])\n",
    "plot_sim_with_stress(simulated_series, art_stress)"
   ]
  },
  {
   "cell_type": "markdown",
   "metadata": {},
   "source": [
    "In the figure above you can see that the simulated effect has the exact same shape as the block response function in [chapter 1](#response). When we modify our stress series it becomes more clear how the stress series and the response function are combined to simulate the effect of the stress. The simulated effect is calculated using a mathematical operation called [convolution](https://en.wikipedia.org/wiki/Convolution)."
   ]
  },
  {
   "cell_type": "code",
   "execution_count": null,
   "metadata": {
    "execution": {
     "iopub.execute_input": "2020-10-22T13:38:43.165964Z",
     "iopub.status.busy": "2020-10-22T13:38:43.165964Z",
     "iopub.status.idle": "2020-10-22T13:38:43.551489Z",
     "shell.execute_reply": "2020-10-22T13:38:43.551489Z"
    }
   },
   "outputs": [],
   "source": [
    "art_stress.loc['2020-1-30'] = 1.0\n",
    "stressmodel = ps.StressModel(art_stress, ps.Gamma, name='artificial_response')\n",
    "simulated_series = stressmodel.simulate(p=[4, 2, 6])\n",
    "plot_sim_with_stress(simulated_series, art_stress)"
   ]
  },
  {
   "cell_type": "markdown",
   "metadata": {},
   "source": [
    "#### Exercise 2<a name=\"ex2\"></a>\n",
    "\n",
    "Use the different parameter sets from exercise 2 to simulate the effect of the external stress. Visualise your results."
   ]
  },
  {
   "cell_type": "code",
   "execution_count": null,
   "metadata": {},
   "outputs": [],
   "source": []
  },
  {
   "cell_type": "markdown",
   "metadata": {},
   "source": [
    "<a href=\"#ans2\">Answer Exercise 2</a>"
   ]
  },
  {
   "cell_type": "markdown",
   "metadata": {},
   "source": [
    "In the figure below we used a random artificial stress to simulate the effect. Now the simulated effect start to look more like real measurements."
   ]
  },
  {
   "cell_type": "code",
   "execution_count": null,
   "metadata": {
    "execution": {
     "iopub.execute_input": "2020-10-22T13:38:43.551489Z",
     "iopub.status.busy": "2020-10-22T13:38:43.551489Z",
     "iopub.status.idle": "2020-10-22T13:38:43.914746Z",
     "shell.execute_reply": "2020-10-22T13:38:43.914746Z"
    }
   },
   "outputs": [],
   "source": [
    "dates = pd.date_range('2020-1-1', '2020-4-1')\n",
    "art_stress = pd.Series(index = dates, data=np.random.random(len(dates)))\n",
    "stressmodel = ps.StressModel(art_stress, ps.Gamma, name='artificial_response')\n",
    "simulated_series = stressmodel.simulate(p=[4, 2, 6])\n",
    "plot_sim_with_stress(simulated_series, art_stress)"
   ]
  },
  {
   "cell_type": "markdown",
   "metadata": {},
   "source": [
    "### 4. time series model parameters<a name=\"tsa\"></a>\n",
    "\n",
    "The next step is to try and fit the simulated effect on an observed effect. Instead of using real observations we generate a time series with \"observed\" values, let's say they represent groundwater heads. In the code cell below we use the `simulated_series` from the previous chapter and add a small error to create observed values."
   ]
  },
  {
   "cell_type": "code",
   "execution_count": null,
   "metadata": {
    "execution": {
     "iopub.execute_input": "2020-10-22T13:38:43.936886Z",
     "iopub.status.busy": "2020-10-22T13:38:43.936886Z",
     "iopub.status.idle": "2020-10-22T13:38:44.168728Z",
     "shell.execute_reply": "2020-10-22T13:38:44.168728Z"
    }
   },
   "outputs": [],
   "source": [
    "random_error = pd.Series(index = dates, data=(np.random.random(len(dates))-0.5)/5)\n",
    "oseries = simulated_series + random_error\n",
    "oseries.plot(label='\"observed\"', ls='', marker='.')\n",
    "simulated_series.plot(label='generated with stressmodel')\n",
    "plt.legend()"
   ]
  },
  {
   "cell_type": "markdown",
   "metadata": {},
   "source": [
    "**create time series model**<br>\n",
    "In the code cell below we create a time series model using our \"observed\" groundwater heads (`oseries`). Then we add the `stressmodel` to this time series model. Finally we simulate and visualise groundwater heads using our time series model."
   ]
  },
  {
   "cell_type": "code",
   "execution_count": null,
   "metadata": {
    "execution": {
     "iopub.execute_input": "2020-10-22T13:38:44.168728Z",
     "iopub.status.busy": "2020-10-22T13:38:44.168728Z",
     "iopub.status.idle": "2020-10-22T13:38:44.538591Z",
     "shell.execute_reply": "2020-10-22T13:38:44.538591Z"
    }
   },
   "outputs": [],
   "source": [
    "# create time series model\n",
    "ml = ps.Model(oseries)\n",
    "ml.add_stressmodel(stressmodel)\n",
    "\n",
    "# simulate groundwater heads\n",
    "model_sim = ml.simulate()\n",
    "\n",
    "#visualise results\n",
    "model_sim.plot(label='model simulation')\n",
    "oseries.plot(label='\"observed\"', ls='', marker='.')\n",
    "simulated_series.plot(label='generated with stressmodel')\n",
    "plt.legend()"
   ]
  },
  {
   "cell_type": "markdown",
   "metadata": {},
   "source": [
    "We can see that the model simulation does not correspond with the \"observed\" groundwater heads or the ones generated with the stressmodel. You may have noticed that when we called `ml.simulate()` we did not specify any parameters like we did with `stressmodel.simulate()`. When you do not specify parameters for `ml.simulate()` default values are used. In this case the `initial` parameter values are used because the model isn't solved yet. The parameter values are listed in the `ml.parameters` dataframe."
   ]
  },
  {
   "cell_type": "code",
   "execution_count": null,
   "metadata": {
    "execution": {
     "iopub.execute_input": "2020-10-22T13:38:44.538591Z",
     "iopub.status.busy": "2020-10-22T13:38:44.538591Z",
     "iopub.status.idle": "2020-10-22T13:38:44.569839Z",
     "shell.execute_reply": "2020-10-22T13:38:44.569839Z"
    }
   },
   "outputs": [],
   "source": [
    "ml.parameters"
   ]
  },
  {
   "cell_type": "markdown",
   "metadata": {},
   "source": [
    "#### Exercise 3 <a name=\"ex3\"></a>\n",
    "\n",
    "You can also call `ml.simulate()` with a specific parameter set. Call `ml.simulate` with the initial parameter set. Visualise the results like the figure above and check that the results are the same."
   ]
  },
  {
   "cell_type": "code",
   "execution_count": null,
   "metadata": {},
   "outputs": [],
   "source": []
  },
  {
   "cell_type": "markdown",
   "metadata": {},
   "source": [
    "<a href=\"#ans3\">Answer Exercise 3</a>"
   ]
  },
  {
   "cell_type": "markdown",
   "metadata": {},
   "source": [
    "The parameter dataframe (`ml.parameters`) lists the 5 parameters of our time series model: `artificial_response_A, artificial_response_n, artificial_response_a`, `constant_d` and `noise_alpha`. Three parameters from the stressmodel and 2 from the time series model.\n",
    "\n",
    "When we solve the model with `ml.solve()` these parameters are varied until an optimal fit is found between observed and simulated groundwater heads."
   ]
  },
  {
   "cell_type": "markdown",
   "metadata": {},
   "source": [
    "#### Exercise 4 <a name=\"ex4\"></a>\n",
    "\n",
    "Solve the model. What happens to the parameter values in `ml.parameters`? "
   ]
  },
  {
   "cell_type": "code",
   "execution_count": null,
   "metadata": {},
   "outputs": [],
   "source": []
  },
  {
   "cell_type": "markdown",
   "metadata": {},
   "source": [
    "<a href=\"#ans4\">Answer Exercise 4</a>"
   ]
  },
  {
   "cell_type": "markdown",
   "metadata": {},
   "source": [
    "#### Exercise 5 <a name=\"ex5\"></a>\n",
    "\n",
    "Simulate the groundwater levels again like you did in exercise 3. Use the solved model from exercise 4. "
   ]
  },
  {
   "cell_type": "code",
   "execution_count": null,
   "metadata": {},
   "outputs": [],
   "source": []
  },
  {
   "cell_type": "markdown",
   "metadata": {},
   "source": [
    "<a href=\"#ans5\">Answer Exercise 5</a>"
   ]
  },
  {
   "cell_type": "markdown",
   "metadata": {},
   "source": [
    "#### Exercise 6 <a name=\"ex6\"></a>\n",
    "\n",
    "Simulate the groundwater levels using the optimal parameter values except for `constant_d`. For `constant_d` you use the value `1.0`.\n",
    "\n",
    "Visualise the results together with the simulated values from exercise 5. What do you think is the use of the `constant_d` parameter?"
   ]
  },
  {
   "cell_type": "code",
   "execution_count": null,
   "metadata": {},
   "outputs": [],
   "source": []
  },
  {
   "cell_type": "markdown",
   "metadata": {},
   "source": [
    "<a href=\"#ans5\">Answer Exercise 6</a>"
   ]
  },
  {
   "cell_type": "markdown",
   "metadata": {},
   "source": [
    "### 5. optimization<a name=\"optimization\"></a>\n",
    "When calling `ml.solve()` the parameters of the time series model are optimised by fitting the simulated groundwater levels on the observerd groundwater levels. Below we use the `TrackSolve` method from pastas to visualise the steps taken by the optimisation algorithm."
   ]
  },
  {
   "cell_type": "code",
   "execution_count": null,
   "metadata": {
    "execution": {
     "iopub.execute_input": "2020-10-22T13:38:44.569839Z",
     "iopub.status.busy": "2020-10-22T13:38:44.569839Z",
     "iopub.status.idle": "2020-10-22T13:38:52.491165Z",
     "shell.execute_reply": "2020-10-22T13:38:52.491165Z"
    },
    "scrolled": false
   },
   "outputs": [],
   "source": [
    "from pastas.plots import TrackSolve\n",
    "%matplotlib notebook\n",
    "track = TrackSolve(ml)\n",
    "track.initialize_figure()\n",
    "ml.solve(callback=track.update_figure)"
   ]
  },
  {
   "cell_type": "markdown",
   "metadata": {},
   "source": [
    "### 6. Model results<a name=\"modelresults\"></a>"
   ]
  },
  {
   "cell_type": "markdown",
   "metadata": {},
   "source": [
    "When the `ml.solve()` function is called a report is printed with the results of the optimization. This report has 4 sections:\n",
    "- Model Results Observations\n",
    "- Fit statistics\n",
    "- Parameters\n",
    "- Parameter correlations"
   ]
  },
  {
   "cell_type": "markdown",
   "metadata": {},
   "source": [
    "**Model Results Observations**<br>\n",
    "This section contains the following information:\n",
    "- `nfev`: the number of function evaluations. This is the number of model simulations executed by the optimisation algorithm before the optimal parameter values were found.\n",
    "- `nobs`: the number of observations that were used to fit the model simulation on. In our case this is the number of values in `oseries`.\n",
    "- `noise`: parameter indicating if a noise model was used during the optimisation. A noisemodel can be used to obtain statistical information of the time series model.\n",
    "- `tmin` and `tmax`: the start and end date of the observation. By default this is the start and end date of the `oseries`.\n",
    "- `freq`: the frequency of the time series model. In this case `D` stands for Daily. This means that observed and simulated groundwater levels are compared on a daily basis.\n",
    "- `warmup`: the warmup period used for the model. The groundwater heads on a certain date depend on the external stresses over a period before this date. We don't know the length of this period. Therefore an arbitrary period of 10 years is used to get a proper simulation of the groundwater head on the start date of the observations. We call this the warmup period. If the external stresses during the warmup period are unknown the average values are used in this period.\n",
    "- `solver`: The optimisation algorithm used to fit simulated and observed groundwater levels.\n",
    "\n",
    "**Fit statistics**<br>\n",
    "These statistics give information about the fit between simulated and observed groundwater heads. The abbreveations mean the following:\n",
    "- `EVP`: Explained variance also known as the Nash Sutcliffe coëficient. A value of 100% represents an optimal fit. Many people use a fit higher than 60-80% to accept or reject the results of the model.\n",
    "- `R2`: the R squared value of the fit. A value of 1 represents an optimal fit.\n",
    "- `RMSE`: the root mean squared error. A value of 0 represents an optimal fit. \n",
    "- `AIC`: the Aikake Information Criterion \n",
    "- `BIC`: the Bayesan Information Criterion \n",
    "\n",
    "**Parameters**<br>\n",
    "This section shows the optimal parameter values that were found with the optimisation algorithm. Besides the optimal value also the standard deviation `stderr` and the initial parameter values are shown. The `vary` column shows if the parameter value was optimised with the algorithm.\n",
    "\n",
    "**Parameter correlations**<br>\n",
    "This section shows the correlation between parameters. Only correlations with an absolute value of rho higher than 0.5 are shown. A correlation between two parameters close to 1 or -1 appears when similar model results can be obtained with a different set of the two parameters."
   ]
  },
  {
   "cell_type": "code",
   "execution_count": null,
   "metadata": {
    "execution": {
     "iopub.execute_input": "2020-10-22T13:38:52.491165Z",
     "iopub.status.busy": "2020-10-22T13:38:52.491165Z",
     "iopub.status.idle": "2020-10-22T13:38:53.418876Z",
     "shell.execute_reply": "2020-10-22T13:38:53.418876Z"
    }
   },
   "outputs": [],
   "source": [
    "%matplotlib inline \n",
    "ml.solve()"
   ]
  },
  {
   "cell_type": "markdown",
   "metadata": {},
   "source": [
    "#### Exercise 7 <a name=\"ex7\"></a>\n",
    "\n",
    "Use the files `groundwater.csv`, `rain.csv`, `evaporation.csv` and `waterlevel` to build a time series model, with the following external stresses:\n",
    "- recharge using `Stressmodel2` and the `Gamma` response function.\n",
    "- waterlevel using `Stressmodel` and the `Exponential` response function.\n",
    "\n",
    "solve the model using `noise=False` and look at the printed report. How many parameters does the `Exponential` response function have?"
   ]
  },
  {
   "cell_type": "code",
   "execution_count": null,
   "metadata": {},
   "outputs": [],
   "source": []
  },
  {
   "cell_type": "markdown",
   "metadata": {},
   "source": [
    "<a href=\"#ans7\">Answer Exercise 7</a>"
   ]
  },
  {
   "cell_type": "markdown",
   "metadata": {},
   "source": [
    "#### Exercise 8 <a name=\"ex8\"></a>\n",
    "\n",
    "Plot the results of the model from exercise 7 using the `plots` submodule. Is the groundwater response to groundwater recharge faster than the response to fluctuations in waterlevels or the other way around? What does the absolute value of the response tell you?"
   ]
  },
  {
   "cell_type": "code",
   "execution_count": null,
   "metadata": {},
   "outputs": [],
   "source": []
  },
  {
   "cell_type": "markdown",
   "metadata": {},
   "source": [
    "<a href=\"#ans8\">Answer Exercise 8</a>"
   ]
  },
  {
   "cell_type": "code",
   "execution_count": null,
   "metadata": {
    "execution": {
     "iopub.execute_input": "2020-10-22T13:38:53.418876Z",
     "iopub.status.busy": "2020-10-22T13:38:53.418876Z",
     "iopub.status.idle": "2020-10-22T13:38:54.352456Z",
     "shell.execute_reply": "2020-10-22T13:38:54.352456Z"
    }
   },
   "outputs": [],
   "source": [
    "ml.solve()"
   ]
  },
  {
   "cell_type": "markdown",
   "metadata": {},
   "source": [
    "\n",
    "## Answers"
   ]
  },
  {
   "cell_type": "markdown",
   "metadata": {},
   "source": [
    "#### <a href=\"#ex1\">Answer exercise 1</a> <a name=\"ans1\"></a>"
   ]
  },
  {
   "cell_type": "code",
   "execution_count": null,
   "metadata": {
    "execution": {
     "iopub.execute_input": "2020-10-22T13:38:54.374595Z",
     "iopub.status.busy": "2020-10-22T13:38:54.374595Z",
     "iopub.status.idle": "2020-10-22T13:38:54.675259Z",
     "shell.execute_reply": "2020-10-22T13:38:54.675259Z"
    }
   },
   "outputs": [],
   "source": [
    "block_response1 = rfunc.block(p=[2, 1, 10])\n",
    "block_response2 = rfunc.block(p=[1, 2, 6])\n",
    "block_response3 = rfunc.block(p=[1, 0.5, 6])\n",
    "plt.plot(block_response1, label='1')\n",
    "plt.plot(block_response2, label='2')\n",
    "plt.plot(block_response3, label='3')\n",
    "plt.legend()"
   ]
  },
  {
   "cell_type": "markdown",
   "metadata": {},
   "source": [
    "#### <a href=\"#ex2\">Answer exercise 2</a> <a name=\"ans2\"></a>"
   ]
  },
  {
   "cell_type": "code",
   "execution_count": null,
   "metadata": {
    "execution": {
     "iopub.execute_input": "2020-10-22T13:38:54.675259Z",
     "iopub.status.busy": "2020-10-22T13:38:54.675259Z",
     "iopub.status.idle": "2020-10-22T13:38:56.257377Z",
     "shell.execute_reply": "2020-10-22T13:38:56.257377Z"
    }
   },
   "outputs": [],
   "source": [
    "simulated_series1 = stressmodel.simulate(p=[2, 1, 10])\n",
    "simulated_series2 = stressmodel.simulate(p=[1, 2, 6])\n",
    "simulated_series3 = stressmodel.simulate(p=[1, 0.5, 6])\n",
    "plt.figure()\n",
    "plot_sim_with_stress(simulated_series1, art_stress)\n",
    "plt.figure()\n",
    "plot_sim_with_stress(simulated_series2, art_stress)\n",
    "plt.figure()\n",
    "plot_sim_with_stress(simulated_series3, art_stress)"
   ]
  },
  {
   "cell_type": "markdown",
   "metadata": {},
   "source": [
    "#### <a href=\"#ex3\">Answer exercise 3</a> <a name=\"ans3\"></a>"
   ]
  },
  {
   "cell_type": "code",
   "execution_count": null,
   "metadata": {
    "execution": {
     "iopub.execute_input": "2020-10-22T13:38:56.263903Z",
     "iopub.status.busy": "2020-10-22T13:38:56.263903Z",
     "iopub.status.idle": "2020-10-22T13:38:56.645572Z",
     "shell.execute_reply": "2020-10-22T13:38:56.645572Z"
    }
   },
   "outputs": [],
   "source": [
    "ini_param = ml.parameters['initial'].values\n",
    "sim_ini_param = ml.simulate(parameters=ini_param)\n",
    "\n",
    "#visualise results\n",
    "sim_ini_param.plot(label='model simulation initial parameters')\n",
    "oseries.plot(label='\"observed\"', ls='', marker='.')\n",
    "simulated_series.plot(label='generated with stressmodel')\n",
    "plt.legend()"
   ]
  },
  {
   "cell_type": "markdown",
   "metadata": {},
   "source": [
    "#### <a href=\"#ex4\">Answer exercise 4</a> <a name=\"ans4\"></a>\n",
    "\n",
    "You can see that the `optimal` parameter values were found with the `solve` method. Before these values were all NaN. You may also notice that the `optimal` parameter values of the stressmodel (`A, n and a`) are fairly similar to the values (`4,2 and 6`) that we used to create our \"observed\" groundwater heads."
   ]
  },
  {
   "cell_type": "code",
   "execution_count": null,
   "metadata": {
    "execution": {
     "iopub.execute_input": "2020-10-22T13:38:56.645572Z",
     "iopub.status.busy": "2020-10-22T13:38:56.645572Z",
     "iopub.status.idle": "2020-10-22T13:38:57.539899Z",
     "shell.execute_reply": "2020-10-22T13:38:57.539899Z"
    }
   },
   "outputs": [],
   "source": [
    "ml.solve(report=False)\n",
    "ml.parameters"
   ]
  },
  {
   "cell_type": "markdown",
   "metadata": {},
   "source": [
    "#### <a href=\"#ex5\">Answer exercise 5</a> <a name=\"ans5\"></a>"
   ]
  },
  {
   "cell_type": "code",
   "execution_count": null,
   "metadata": {
    "execution": {
     "iopub.execute_input": "2020-10-22T13:38:57.547915Z",
     "iopub.status.busy": "2020-10-22T13:38:57.547915Z",
     "iopub.status.idle": "2020-10-22T13:38:57.909258Z",
     "shell.execute_reply": "2020-10-22T13:38:57.909258Z"
    }
   },
   "outputs": [],
   "source": [
    "# simulate groundwater head with optimized parameters\n",
    "opt_param = ml.parameters['optimal'].values\n",
    "sim_opt_param = ml.simulate(parameters=opt_param)\n",
    "\n",
    "# or simply use\n",
    "sim_opt_param = ml.simulate()\n",
    "\n",
    "#visualise results\n",
    "sim_opt_param.plot(label='model simulation optimal parameters', marker='o')\n",
    "oseries.plot(label='\"observed\"', ls='', marker='.')\n",
    "simulated_series.plot(lw=2.5, label='generated with stressmodel')\n",
    "plt.legend()"
   ]
  },
  {
   "cell_type": "markdown",
   "metadata": {},
   "source": [
    "#### <a href=\"#ex6\">Answer exercise 6</a> <a name=\"ans6\"></a>\n",
    "\n",
    "The `constant_d` parameter is the reference level. In our model the groundwater levels are simulated using the reference level + the effect of the stressmodel."
   ]
  },
  {
   "cell_type": "code",
   "execution_count": null,
   "metadata": {
    "execution": {
     "iopub.execute_input": "2020-10-22T13:38:57.909258Z",
     "iopub.status.busy": "2020-10-22T13:38:57.909258Z",
     "iopub.status.idle": "2020-10-22T13:38:58.325984Z",
     "shell.execute_reply": "2020-10-22T13:38:58.325984Z"
    }
   },
   "outputs": [],
   "source": [
    "# simulate groundwater head with optimized parameters\n",
    "opt_param = ml.parameters['optimal'].values\n",
    "\n",
    "semi_opt_param = opt_param.copy()\n",
    "semi_opt_param[3] = 1.0\n",
    "\n",
    "\n",
    "sim_opt_param = ml.simulate(parameters=opt_param)\n",
    "sim_semi_opt = ml.simulate(parameters=semi_opt_param)\n",
    "\n",
    "#visualise results\n",
    "sim_opt_param.plot(label='model simulation optimal parameters')\n",
    "sim_semi_opt.plot(label='model simulation adjusted constant_d')\n",
    "oseries.plot(label='\"observed\"', ls='', marker='.')\n",
    "plt.legend()"
   ]
  },
  {
   "cell_type": "markdown",
   "metadata": {},
   "source": [
    "#### <a href=\"#ex7\">Answer exercise 7</a> <a name=\"ans7\"></a>\n",
    "\n",
    "The exponential function has two parameters."
   ]
  },
  {
   "cell_type": "code",
   "execution_count": null,
   "metadata": {
    "execution": {
     "iopub.execute_input": "2020-10-22T13:38:58.325984Z",
     "iopub.status.busy": "2020-10-22T13:38:58.325984Z",
     "iopub.status.idle": "2020-10-22T13:39:00.409434Z",
     "shell.execute_reply": "2020-10-22T13:39:00.409434Z"
    }
   },
   "outputs": [],
   "source": [
    "oseries1 = pd.read_csv(\"data/nb2/groundwater.csv\",\n",
    "                       parse_dates=True,  squeeze=True, index_col=0)\n",
    "rain1 = pd.read_csv(\"data/nb2/rain.csv\", parse_dates=True,\n",
    "                    squeeze=True, index_col=0)\n",
    "evap1 = pd.read_csv(\"data/nb2/evap.csv\", parse_dates=True,\n",
    "                    dayfirst=True, squeeze=True, index_col=0)\n",
    "\n",
    "waterlevel = pd.read_csv(\"data/nb2/waterlevel.csv\",\n",
    "                         parse_dates=True,  squeeze=True, index_col=0)\n",
    "\n",
    "ml1 = ps.Model(oseries1)\n",
    "sm1 = ps.StressModel2([rain1, evap1], rfunc=ps.Gamma, name=\"recharge\")\n",
    "ml1.add_stressmodel(sm1)\n",
    "\n",
    "ml1.parameters\n",
    "\n",
    "w = ps.StressModel(waterlevel, rfunc=ps.Exponential,\n",
    "                   name=\"waterlevel\", settings=\"waterlevel\")\n",
    "\n",
    "# Normalize the stress\n",
    "w.update_stress(norm=\"mean\")\n",
    "\n",
    "ml1.add_stressmodel(w)\n",
    "ml1.solve(noise=False)"
   ]
  },
  {
   "cell_type": "markdown",
   "metadata": {},
   "source": [
    "#### <a href=\"#ex8\">Answer exercise 8</a> <a name=\"ans8\"></a>\n",
    "\n",
    "With `ml.plots.results()` you can plot the results of the time series model including the response functions. You can see there that the values of the respones function to recharge are more or less 100x larger than the values of the response function to waterlevel fluctuations. This makes sense when you keep in mind that 10 mm of precipitation will lead to a bigger rise in grondwater levels than 10 mm of waterlevel rise in a nearby river."
   ]
  },
  {
   "cell_type": "code",
   "execution_count": null,
   "metadata": {
    "execution": {
     "iopub.execute_input": "2020-10-22T13:39:00.415940Z",
     "iopub.status.busy": "2020-10-22T13:39:00.415940Z",
     "iopub.status.idle": "2020-10-22T13:39:02.837394Z",
     "shell.execute_reply": "2020-10-22T13:39:02.837394Z"
    }
   },
   "outputs": [],
   "source": [
    "ml1.plots.results()"
   ]
  }
 ],
 "metadata": {
  "CodeCell": {
   "cm_config": {
    "lineWrapping": true
   }
  },
  "MarkdownCell": {
   "cm_config": {
    "lineWrapping": true
   }
  },
  "anaconda-cloud": {},
  "kernelspec": {
   "display_name": "Python 3",
   "language": "python",
   "name": "python3"
  },
  "language_info": {
   "codemirror_mode": {
    "name": "ipython",
    "version": 3
   },
   "file_extension": ".py",
   "mimetype": "text/x-python",
   "name": "python",
   "nbconvert_exporter": "python",
   "pygments_lexer": "ipython3",
   "version": "3.8.6"
  },
  "widgets": {
   "state": {},
   "version": "1.1.2"
  }
 },
 "nbformat": 4,
 "nbformat_minor": 4
}
