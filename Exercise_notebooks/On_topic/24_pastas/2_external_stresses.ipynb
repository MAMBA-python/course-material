{
 "cells": [
  {
   "cell_type": "markdown",
   "metadata": {},
   "source": [
    "# 2. External stresses\n",
    "In this notebook you will learn:\n",
    "- how to add external stresses (water level fluctuation, well extractions and a step trend) to a time series model.\n",
    "- how to visualise the contributions of multiple external stresses.\n",
    "- how to simulate groundwater levels using a time series model.\n",
    "- how to use different response functiosn\n",
    "- how to use different stressmodels"
   ]
  },
  {
   "cell_type": "markdown",
   "metadata": {},
   "source": [
    "### Contents\n",
    "1. [Create a basic model](#basicmodel)\n",
    "2. [Surface water levels](#surfacewater)\n",
    "3. [Extraction wells](#well)\n",
    "4. [Simulate groundwater levels](#simulate)\n",
    "5. [Step trend](#step)\n",
    "6. [Recharge](#recharge)"
   ]
  },
  {
   "cell_type": "code",
   "execution_count": null,
   "metadata": {},
   "outputs": [],
   "source": [
    "# importeer de benodigde packages\n",
    "import pandas as pd\n",
    "import numpy as np\n",
    "import matplotlib.pyplot as plt\n",
    "import pastas as ps\n",
    "%matplotlib inline"
   ]
  },
  {
   "cell_type": "markdown",
   "metadata": {},
   "source": [
    "### 1. A basic model<a name=\"basicmodel\"></a>\n",
    "In this notebook we create a basic model using the method described in [1_basic_pastas_model](1_basic_pastas_model.ipynb) and the time series in the directory `data/nb2`. <BR><sub>Note: when solving we use `noise=False`. This means we don't use a noisemodel. A noisemodel can be used to obtain statistical information of the time series model. For this exercises we don't use a model and we don't use this information.<sub>"
   ]
  },
  {
   "cell_type": "code",
   "execution_count": null,
   "metadata": {},
   "outputs": [],
   "source": [
    "oseries1 = pd.read_csv(\"data/nb2/groundwater.csv\",\n",
    "                       parse_dates=True,  squeeze=True, index_col=0)\n",
    "rain1 = pd.read_csv(\"data/nb2/rain.csv\", parse_dates=True,\n",
    "                    squeeze=True, index_col=0)\n",
    "evap1 = pd.read_csv(\"data/nb2/evap.csv\", parse_dates=True,\n",
    "                    dayfirst=True, squeeze=True, index_col=0)\n",
    "\n",
    "ml1 = ps.Model(oseries1)\n",
    "sm1 = ps.StressModel(rain1-evap1, rfunc=ps.Gamma, name=\"recharge\")\n",
    "ml1.add_stressmodel(sm1)\n",
    "ml1.solve(noise=False)\n",
    "ml1.plots.results(figsize=(16, 8))"
   ]
  },
  {
   "cell_type": "markdown",
   "metadata": {},
   "source": [
    "#### Exercise 1 <a name=\"ex1\"></a>\n",
    "In the results of this basic model we can see that there is a poor fit between simulated and observed groundwater heads at the start of 2017. What could be the reason for this poor fit?"
   ]
  },
  {
   "cell_type": "code",
   "execution_count": null,
   "metadata": {},
   "outputs": [],
   "source": []
  },
  {
   "cell_type": "markdown",
   "metadata": {},
   "source": [
    "<a href=\"#ans1\">Answer Exercise 1</a>"
   ]
  },
  {
   "cell_type": "markdown",
   "metadata": {},
   "source": [
    "### 2. Surface water levels<a name=\"surfacewater\"></a>\n",
    "\n",
    "In order to simulate the groundwater heads more accurately we have to incorporate the surface water levels in our time series model. "
   ]
  },
  {
   "cell_type": "markdown",
   "metadata": {},
   "source": [
    "#### Exercise 2 <a name=\"ex2\"></a>\n",
    "There is a file in the `data/nb2` folder named `waterlevel.csv` with the surface water levels. Read the surface water levels and visualise them together with the groundwater heads, evaporation and precipitation."
   ]
  },
  {
   "cell_type": "code",
   "execution_count": null,
   "metadata": {},
   "outputs": [],
   "source": []
  },
  {
   "cell_type": "markdown",
   "metadata": {},
   "source": [
    "<a href=\"#ans2\">Answer Exercise 2</a>"
   ]
  },
  {
   "cell_type": "markdown",
   "metadata": {},
   "source": [
    "Now that we have the surface water levels we can include them in the time series model. We follow these steps:\n",
    "1. Add a stressmodel using the `waterlevel` series and the `Exponential` response function. The `Exponential` response function is often used to mimick the response of the groundwater to changes in surface water levels.\n",
    "2. Normalize the stress in the stress model. We do this in order to use the variation in waterlevels in our model and not it's absolute value.\n",
    "3. Add the stressmodel to the existing time series model (which already contains a recharge stress model).\n",
    "4. Solve the model."
   ]
  },
  {
   "cell_type": "code",
   "execution_count": null,
   "metadata": {},
   "outputs": [],
   "source": [
    "waterlevel = pd.read_csv(\"data/nb2/waterlevel.csv\",\n",
    "                         parse_dates=True,  squeeze=True, index_col=0)\n",
    "\n",
    "ml_wlvl = ml1.copy()\n",
    "w = ps.StressModel(waterlevel, rfunc=ps.Exponential,\n",
    "                   name=\"waterlevel\", settings=\"waterlevel\")\n",
    "\n",
    "# Normalize the stress\n",
    "w.update_stress(norm=\"mean\")\n",
    "\n",
    "ml_wlvl.add_stressmodel(w)\n",
    "ml_wlvl.solve(noise=False)"
   ]
  },
  {
   "cell_type": "markdown",
   "metadata": {},
   "source": [
    "#### Exercise 3<a name=\"ex3\"></a>\n",
    "Plot the results of the model with the surface water levels. What do you see?"
   ]
  },
  {
   "cell_type": "code",
   "execution_count": null,
   "metadata": {},
   "outputs": [],
   "source": []
  },
  {
   "cell_type": "markdown",
   "metadata": {},
   "source": [
    "<a href=\"#ans3\">Answer Exercise 3</a>"
   ]
  },
  {
   "cell_type": "markdown",
   "metadata": {},
   "source": [
    "### 3. Extraction wells <a name=\"well\"></a>\n",
    "Extraction wells are another external factor that can influence the groundwater levels over time. In the code cell below a time series model is created from observed groundwater levels. These groundwaterlevels are also influenced by the extraction rates of a nearby well. The extraction rates are not incorporated in the model yet. "
   ]
  },
  {
   "cell_type": "code",
   "execution_count": null,
   "metadata": {},
   "outputs": [],
   "source": [
    "oseries2 = pd.read_csv(\"data/nb2/head_wellex.csv\",\n",
    "                       parse_dates=True,  squeeze=True, index_col=0)\n",
    "rain2 = pd.read_csv(\"data/nb2/prec_wellex.csv\",\n",
    "                    parse_dates=True, squeeze=True, index_col=0)\n",
    "evap2 = pd.read_csv(\"data/nb2/evap_wellex.csv\", parse_dates=True,\n",
    "                    dayfirst=True, squeeze=True, index_col=0)\n",
    "\n",
    "ml2 = ps.Model(oseries2)\n",
    "sm2 = ps.StressModel2([rain2, evap2], rfunc=ps.Gamma, name=\"recharge\")\n",
    "ml2.add_stressmodel(sm2)\n",
    "ml2.solve()\n",
    "ml2.plots.results(figsize=(16, 8))\n",
    ";"
   ]
  },
  {
   "cell_type": "markdown",
   "metadata": {},
   "source": [
    "#### Exercise 4 <a name=\"ex4\"></a>\n",
    "Add the well extraction rates to the model and solve the model. The extraction rates can be obtained from the file `well_wellex.csv` in the `data/nb2 folder`. Use the `Hantush` response function when creating the `Stressmodel`."
   ]
  },
  {
   "cell_type": "code",
   "execution_count": null,
   "metadata": {},
   "outputs": [],
   "source": []
  },
  {
   "cell_type": "markdown",
   "metadata": {},
   "source": [
    "<a href=\"#ans4\">Answer Exercise 4</a>"
   ]
  },
  {
   "cell_type": "markdown",
   "metadata": {},
   "source": [
    "#### Exercise 5 <a name=\"ex5\"></a>\n",
    "\n",
    "The simulated groundwater heads are obtained from the individual contributions based on superposition. Visualise the contribution of the stresses using the `decomposition` function In the `plots` submodule. \n",
    "\n",
    "<sup>Use [1_basic_pastas_model chapter 5](1_basic_pastas_model.ipynb#visualise) as a reference if you forgot about plotting.<sup>"
   ]
  },
  {
   "cell_type": "code",
   "execution_count": null,
   "metadata": {},
   "outputs": [],
   "source": []
  },
  {
   "cell_type": "markdown",
   "metadata": {},
   "source": [
    "<a href=\"#ans5\">Answer Exercise 5</a>"
   ]
  },
  {
   "cell_type": "markdown",
   "metadata": {},
   "source": [
    "### 4. Simulate groundwater levels<a name=\"simulate\"></a>\n",
    "We can simulate groundwater levels with the pastas model using the `simulate()` method. In the `simulate` method you can specify the period that you are simulating with the arguments `tmin` and `tmax`. By default the period in which you have observations is simulated. This is also the period that the model was calibrated for. The example below shows how the `simulate` method is used to obtain simulations from different pastas models and compare them."
   ]
  },
  {
   "cell_type": "code",
   "execution_count": null,
   "metadata": {},
   "outputs": [],
   "source": [
    "# create well model see also the answer to exercise 4\n",
    "ml_well = ml2.copy()\n",
    "well = pd.read_csv(\"data/nb2/well_wellex.csv\",\n",
    "                   index_col=\"Date\", parse_dates=True)\n",
    "sm = ps.StressModel(well, rfunc=ps.Hantush, name=\"well\",\n",
    "                    settings=\"well\", up=False)\n",
    "ml_well.add_stressmodel(sm)\n",
    "ml_well.solve()\n",
    "\n",
    "# simulate groundwater levels\n",
    "sim_well = ml_well.simulate()\n",
    "sim_without_well = ml2.simulate()\n",
    "\n",
    "# visualise results\n",
    "fig, ax = plt.subplots(figsize=(12, 6))\n",
    "sim_well.plot(ax=ax, label='simulated with well', color='g')\n",
    "sim_without_well.plot(ax=ax, label='simulated without well', color='orange')\n",
    "oseries2.plot(ax=ax, label='observed', ls='', marker='.', color='k')\n",
    "ax.legend()\n",
    "ax.grid()"
   ]
  },
  {
   "cell_type": "markdown",
   "metadata": {},
   "source": [
    "#### Exercise 6 <a name=\"ex6\"></a>\n",
    "\n",
    "In the [answer](#ans2) of exercise 2 you can see that the time series of the stresses ends in 2020 while the observation series stops on the 5th of April 2018. The model is created for the period in which there are observations. We can used the model to simulate groundwater heads after the last observation on April the 5th 2018. Simulate the groundwater levels between `5-4-2018` and `1-1-2020` using the `ml_wlvl` model of exercise 2.\n",
    "\n",
    "<sub>Note: We can do this simulation because we have the values of the external stresses for this period. For this simulation we use the full stress series and the relation between the stress and the groundwater levels that was found with the model. "
   ]
  },
  {
   "cell_type": "code",
   "execution_count": null,
   "metadata": {},
   "outputs": [],
   "source": []
  },
  {
   "cell_type": "markdown",
   "metadata": {},
   "source": [
    "<a href=\"#ans6\">Answer Exercise 6</a>"
   ]
  },
  {
   "cell_type": "markdown",
   "metadata": {},
   "source": [
    "#### Exercise 7 <a name=\"ex7\"></a>\n",
    "Visualise the results from exercise 6, show the following data:\n",
    "- the simulated groundwater heads for the period where there are observations. This is called the calibration period because the simulated groundwater levels where fitted on the observed groundwater levels in this period. \n",
    "- the simulated groundwater heads for the period after the last observation, the simulation you did in exercise 6.\n",
    "- the observed groundwater heads `oseries1`"
   ]
  },
  {
   "cell_type": "code",
   "execution_count": null,
   "metadata": {},
   "outputs": [],
   "source": []
  },
  {
   "cell_type": "markdown",
   "metadata": {},
   "source": [
    "<a href=\"#ans7\">Answer Exercise 7</a>"
   ]
  },
  {
   "cell_type": "markdown",
   "metadata": {},
   "source": [
    "#### Exercise 8 <a name=\"ex8\"></a>\n",
    "\n",
    "Another possibility is to fit the model on just a part of the observations. The other observations can be used to check if the model is able to mimick the groundwater heads (model validation). Create a model using the same time series you used for thet [Well Model](#well). Use the observation series between 1995 and 2014 to solve the model. Then simulate the groundwater heads for the period after 2014. Compare the simulation with measurements."
   ]
  },
  {
   "cell_type": "code",
   "execution_count": null,
   "metadata": {},
   "outputs": [],
   "source": []
  },
  {
   "cell_type": "markdown",
   "metadata": {},
   "source": [
    "<a href=\"#ans8\">Answer Exercise 8</a>"
   ]
  },
  {
   "cell_type": "markdown",
   "metadata": {},
   "source": [
    "### 5. Step trend<a name=\"step\"></a>\n",
    "\n",
    "A step trend can be used in a time series model to simulate a sudden change in groundwater levels. This is often used to estimate the effect of hydrological measures on the groundwater. In the previous examples we only used the default stressmodel, conveniently named `StressModel`. For a step trend we use a different stressmodel named `StepModel`.\n",
    "\n",
    "The `StepModel()` is fairly similar to the default `StressModel`. The only difference is that a `StepModel` already has some default settings to simulate step trends. The default settings include:\n",
    "- `One` as the default response function (`rfunc=ps.rfunc.One`). This is a response function to model an instant effect of an external stress.\n",
    "- A stress time series which is zero before a certain date (`tstart`) and one after this date."
   ]
  },
  {
   "cell_type": "markdown",
   "metadata": {},
   "source": [
    "#### Exercise 9 <a name=\"ex9\"></a>\n",
    "The [groundwater level time series](1_basic_pastas_model.ipynb#groundwater) that we used in the first notebook had a sudden change in groundwater levels. Use this time series to create a time series model with a step trend. The first steps are already done for you in the 2 code cells below. In the 3th code cell you have to write code yourself to add a step trend to the time series model, solve the model and visualise the results. The stressmodel can be created using `ps.stressmodels.StepModel()`."
   ]
  },
  {
   "cell_type": "code",
   "execution_count": null,
   "metadata": {},
   "outputs": [],
   "source": [
    "# Import the time series from notebook 1\n",
    "gwdata_raw = pd.read_csv('data/nb1/head_ex1.csv', parse_dates=True,\n",
    "                         index_col='date', squeeze=True)\n",
    "precip_mm = pd.read_csv('data/nb1/rain_ex4.csv', parse_dates=['date'],\n",
    "                        index_col='date', squeeze=True)\n",
    "evap_mm = pd.read_csv('data/nb1/evap_ex4.csv', parse_dates=['date'],\n",
    "                      index_col='date', squeeze=True)\n",
    "# convert units and get recharge\n",
    "precip_m = precip_mm/1000\n",
    "evap_m = evap_mm/1000\n",
    "recharge = precip_m - evap_m"
   ]
  },
  {
   "cell_type": "code",
   "execution_count": null,
   "metadata": {},
   "outputs": [],
   "source": [
    "# create groundwater model with recharge\n",
    "ml_step = ps.Model(gwdata_raw, name=\"GWL\")\n",
    "ts1 = ps.StressModel(recharge, ps.Gamma, name='recharge', settings=\"evap\")\n",
    "ml_step.add_stressmodel(ts1)"
   ]
  },
  {
   "cell_type": "code",
   "execution_count": null,
   "metadata": {},
   "outputs": [],
   "source": [
    "# add step trend to the model (your code here)\n"
   ]
  },
  {
   "cell_type": "markdown",
   "metadata": {},
   "source": [
    "<a href=\"#ans9\">Answer Exercise 9</a>"
   ]
  },
  {
   "cell_type": "markdown",
   "metadata": {},
   "source": [
    "### 6. Recharge<a name=\"recharge\"></a>\n",
    "\n",
    "In order to simulate the effect of precipitation and evaporation we have three methods:\n",
    "1. Use a single stressmodel with the recharge. Like the one used in [chapter 1](#basicmodel) of this notebook. The recharge is computed as the precipitation - evaporation. In this case we end up with a single response function in which precipitation and the potential evaporation have the same weight.\n",
    "2. Use 2 stressmodels, 1 for precipitation and 1 for evaporation. In this case we end up with 2 different response functions. \n",
    "3. Using `StressModel2` for the precipitation and the potential evaporation. This is a combination of method 1 and 2 and was used in [chapter 3](#well) in this notebok. The recharge is calculated as `recharge = precipitation - factor * evaporation`. The factor is a parameter that will be optimized when solving the model. This factor is often refered to as the evaporation factor. So we end up with a single response function and the evaporation factor.\n",
    "\n",
    "Method 3 is the most common way to simulate the effect of precipitation and evaporation on groundwater levels. The evaporation factor allows us to adjust the weight of the potential evaporation compared to precipitation while the response to precipitation and evaporation remains the same."
   ]
  },
  {
   "cell_type": "markdown",
   "metadata": {},
   "source": [
    "#### Exercise 10 <a name=\"ex10\"></a>\n",
    "\n",
    "Apply the three methods to estimate the effect of precipitation and evaporation on groundwater levels on the `ml_wlvl` model from  [chapter 2](#surfacewater). What do you see in the results?"
   ]
  },
  {
   "cell_type": "code",
   "execution_count": null,
   "metadata": {},
   "outputs": [],
   "source": [
    "# method 1\n"
   ]
  },
  {
   "cell_type": "code",
   "execution_count": null,
   "metadata": {},
   "outputs": [],
   "source": [
    "# method 2\n"
   ]
  },
  {
   "cell_type": "code",
   "execution_count": null,
   "metadata": {},
   "outputs": [],
   "source": [
    "# method 3\n"
   ]
  },
  {
   "cell_type": "markdown",
   "metadata": {},
   "source": [
    "<a href=\"#ans10\">Answer Exercise 10</a>"
   ]
  },
  {
   "cell_type": "markdown",
   "metadata": {},
   "source": [
    "### 7. Summary<a name=\"summary\"></a>\n",
    "\n",
    "In this notebook time series models with different external stresses are created including: recharge, surface water, well extraction and a step trend. We included the external stress in the time series model using a stressmodel. In the stressmodel we defined the time series of the stress and the shape of the response function (`rfunc`). The following pre-defined response functions from Pastas were used:\n",
    "- Gamma: precipitation, evaporation and recharge\n",
    "- Exponential: surface water levels\n",
    "- Hantush: extraction wells\n",
    "- One: step trend\n",
    "\n",
    "Apart from the response functions we also used different stressmodels to simulate the effect of different external stresses. We used:\n",
    "- `StressModel`: default stressmodel to simulate any external stress\n",
    "- `Stressmodel2`: to simulate the effect of precipitation and potential evaporation with the same response function and a weighing factor (evaporation factor) for the precipitation and potential evaporation.\n",
    "- `StepModel`: a stressmodel with pre-defined settings to simulate a step trend."
   ]
  },
  {
   "cell_type": "markdown",
   "metadata": {},
   "source": [
    "\n",
    "## Answers"
   ]
  },
  {
   "cell_type": "markdown",
   "metadata": {},
   "source": [
    "#### <a href=\"#ex1\">Answer exercise 1</a> <a name=\"ans1\"></a>"
   ]
  },
  {
   "cell_type": "markdown",
   "metadata": {},
   "source": [
    "The fit between observed and simulated groundwater heads is poor because the groundwater levels are simulated using only recharge. Around 2011 and 2017 there was clearly another external influence on the groundwater that was not considered in the time series model. In this case the groundwater levels depend on surface water levels in a nearby river. "
   ]
  },
  {
   "cell_type": "markdown",
   "metadata": {},
   "source": [
    "#### <a href=\"#ex2\">Answer exercise 2</a> <a name=\"ans2\"></a>\n",
    "\n",
    "**some background**:\n",
    "The measurements well is next to the Meuse and the waterlevels used are also from this river. The surface water level dropped around 2017 suddenly due to an [accident at a weir (Dutch)](https://nl.wikipedia.org/wiki/Ongeval_op_de_Maas_met_de_stuw_Grave). This caused the groundwater level to drop as well."
   ]
  },
  {
   "cell_type": "code",
   "execution_count": null,
   "metadata": {},
   "outputs": [],
   "source": [
    "# read water levels\n",
    "waterlevel = pd.read_csv(\"data/nb2/waterlevel.csv\",\n",
    "                         parse_dates=True,  squeeze=True, index_col=0)\n",
    "\n",
    "# visualise water levels\n",
    "fig, axes = plt.subplots(4, 1, figsize=(12, 5), sharex=True)\n",
    "oseries1.plot(ax=axes[0], x_compat=True, legend=True)\n",
    "rain1.plot(ax=axes[1], x_compat=True, legend=True)\n",
    "evap1.plot(ax=axes[2], x_compat=True, legend=True)\n",
    "waterlevel.plot(ax=axes[3], x_compat=True, legend=True)"
   ]
  },
  {
   "cell_type": "markdown",
   "metadata": {},
   "source": [
    "#### <a href=\"#ex3\">Answer exercise 3</a> <a name=\"ans3\"></a>"
   ]
  },
  {
   "cell_type": "markdown",
   "metadata": {},
   "source": [
    "some things you can see in the result figure below:\n",
    "- The fit between simulated and observed groundwater heads improved dramatically (EVP was 64.39% and is 86,6% now). \n",
    "- the contributions of the stresses (recharge and waterlevels) are shown seperately.\n",
    "- The simulated groundwater head is the sum of the contributions from each stress and the constant_d (shown in the model information on the top right).\n",
    "- In the response functions on the bottom right you can see that the response to recharge is relatively slow and the response to water level fluctuations is fast."
   ]
  },
  {
   "cell_type": "code",
   "execution_count": null,
   "metadata": {},
   "outputs": [],
   "source": [
    "ml_wlvl.plots.results(figsize=(16, 8))\n",
    ";"
   ]
  },
  {
   "cell_type": "markdown",
   "metadata": {},
   "source": [
    "#### <a href=\"#ex4\">Answer exercise 4</a> <a name=\"ans4\"></a>"
   ]
  },
  {
   "cell_type": "code",
   "execution_count": null,
   "metadata": {},
   "outputs": [],
   "source": [
    "# create new model\n",
    "ml_well = ml2.copy()\n",
    "\n",
    "# read extraction rate time series\n",
    "well = pd.read_csv(\"data/nb2/well_wellex.csv\",\n",
    "                   index_col=\"Date\", parse_dates=True)\n",
    "\n",
    "# add extraction rates to the model\n",
    "sm = ps.StressModel(well, rfunc=ps.Hantush, name=\"well\",\n",
    "                    settings=\"well\", up=False)\n",
    "ml_well.add_stressmodel(sm)\n",
    "\n",
    "# solve and show results\n",
    "ml_well.solve()\n",
    "ml_well.plots.results(figsize=(16, 8))"
   ]
  },
  {
   "cell_type": "markdown",
   "metadata": {},
   "source": [
    "#### <a href=\"#ex5\">Answer exercise 5</a> <a name=\"ans5\"></a>"
   ]
  },
  {
   "cell_type": "code",
   "execution_count": null,
   "metadata": {},
   "outputs": [],
   "source": [
    "axes = ml_well.plots.decomposition()"
   ]
  },
  {
   "cell_type": "markdown",
   "metadata": {},
   "source": [
    "#### <a href=\"#ex6\">Answer exercise 6</a> <a name=\"ans6\"></a>"
   ]
  },
  {
   "cell_type": "code",
   "execution_count": null,
   "metadata": {},
   "outputs": [],
   "source": [
    "sim_wlvl2020 = ml_wlvl.simulate(tmin='2018-4-5', tmax='2020-1-1')\n",
    "sim_wlvl2020.plot()"
   ]
  },
  {
   "cell_type": "markdown",
   "metadata": {},
   "source": [
    "#### <a href=\"#ex7\">Answer exercise 7</a> <a name=\"ans7\"></a>"
   ]
  },
  {
   "cell_type": "code",
   "execution_count": null,
   "metadata": {},
   "outputs": [],
   "source": [
    "sim_wlvl = ml_wlvl.simulate()\n",
    "\n",
    "fig, ax = plt.subplots(figsize=(12, 6))\n",
    "sim_wlvl2020.plot(ax=ax, label='simulation', color='orange')\n",
    "sim_wlvl.plot(ax=ax, label='model calibration', color='g')\n",
    "oseries1.plot(ax=ax, label='observed', ls='', marker='.', color='k')\n",
    "ax.legend()\n",
    "ax.grid()"
   ]
  },
  {
   "cell_type": "markdown",
   "metadata": {},
   "source": [
    "#### <a href=\"#ex8\">Answer exercise 8</a> <a name=\"ans8\"></a>"
   ]
  },
  {
   "cell_type": "code",
   "execution_count": null,
   "metadata": {},
   "outputs": [],
   "source": [
    "# slice oseries\n",
    "start_cal = '1994'\n",
    "end_cal = '2014'\n",
    "oseries_well2 = oseries2.loc[start_cal:end_cal]\n",
    "\n",
    "# create model\n",
    "ml_well2 = ps.Model(oseries_well2)\n",
    "sm = ps.StressModel2([rain2, evap2], rfunc=ps.Gamma, name=\"recharge\")\n",
    "ml_well2.add_stressmodel(sm)\n",
    "sm2 = ps.StressModel(well, rfunc=ps.Hantush, name=\"well\",\n",
    "                     settings=\"well\", up=False)\n",
    "ml_well2.add_stressmodel(sm2)\n",
    "\n",
    "# solve model\n",
    "ml_well2.solve(report=False)\n",
    "\n",
    "# simulate groundwater levels\n",
    "sim_well_cal = ml_well2.simulate()\n",
    "sim_well_val = ml_well2.simulate(tmin=end_cal, tmax='2019')\n",
    "\n",
    "# visualise results\n",
    "fig, ax = plt.subplots(figsize=(12, 6))\n",
    "sim_well_val.plot(ax=ax, label='simulation', color='orange')\n",
    "sim_well_cal.plot(ax=ax, label='model calibration', color='g')\n",
    "oseries2.plot(ax=ax, label='observed', ls='', marker='.', color='k')\n",
    "ax.legend()\n",
    "ax.grid()"
   ]
  },
  {
   "cell_type": "markdown",
   "metadata": {},
   "source": [
    "#### <a href=\"#ex9\">Answer exercise 9</a> <a name=\"ans9\"></a>"
   ]
  },
  {
   "cell_type": "code",
   "execution_count": null,
   "metadata": {},
   "outputs": [],
   "source": [
    "# Import the time series from notebook 1\n",
    "gwdata_raw = pd.read_csv('data/nb1/head_ex1.csv', parse_dates=True,\n",
    "                         index_col='date', squeeze=True)\n",
    "precip_mm = pd.read_csv('data/nb1/rain_ex4.csv', parse_dates=['date'],\n",
    "                        index_col='date', squeeze=True)\n",
    "evap_mm = pd.read_csv('data/nb1/evap_ex4.csv', parse_dates=['date'],\n",
    "                      index_col='date', squeeze=True)\n",
    "# convert units and get recharge\n",
    "precip_m = precip_mm/1000\n",
    "evap_m = evap_mm/1000\n",
    "recharge = precip_m - evap_m\n",
    "\n",
    "# create groundwater model with recharge\n",
    "ml_step = ps.Model(gwdata_raw, name=\"GWL\")\n",
    "ts1 = ps.StressModel(recharge, ps.Gamma, name='recharge', settings=\"evap\")\n",
    "ml_step.add_stressmodel(ts1)\n",
    "\n",
    "# add stepmodel (your code here)\n",
    "step = ps.stressmodels.StepModel(tstart='2014-1-1', name='steptrend')\n",
    "ml_step.add_stressmodel(step)\n",
    "\n",
    "ml_step.solve(report=False)\n",
    "ml_step.plots.results(figsize=(16, 8))\n",
    ";"
   ]
  },
  {
   "cell_type": "markdown",
   "metadata": {},
   "source": [
    "#### <a href=\"#ex9\">Answer exercise 10</a> <a name=\"ans10\"></a>\n",
    "\n",
    "You can see that method 1 and 3 both have good results. The fit with method 2 is a lot worse. This is probably because this model is overparameterized."
   ]
  },
  {
   "cell_type": "code",
   "execution_count": null,
   "metadata": {},
   "outputs": [],
   "source": [
    "# method 1 was already used so we only plot results\n",
    "ml_wlvl.plots.results()\n",
    ";"
   ]
  },
  {
   "cell_type": "code",
   "execution_count": null,
   "metadata": {},
   "outputs": [],
   "source": [
    "# method 2\n",
    "ml_wlvl_method2 = ml_wlvl.copy()\n",
    "ml_wlvl_method2.del_stressmodel('recharge')\n",
    "sm1 = ps.StressModel(rain1, rfunc=ps.Gamma, name=\"precipitation\")\n",
    "sm2 = ps.StressModel(evap1, rfunc=ps.Gamma, name='evaporation')\n",
    "ml_wlvl_method2.add_stressmodel(sm1)\n",
    "ml_wlvl_method2.add_stressmodel(sm2)\n",
    "ml_wlvl_method2.solve(noise=False, report=False)\n",
    "ml_wlvl_method2.plots.results()\n",
    ";"
   ]
  },
  {
   "cell_type": "code",
   "execution_count": null,
   "metadata": {},
   "outputs": [],
   "source": [
    "# method 3\n",
    "ml_wlvl_method3 = ml_wlvl.copy()\n",
    "ml_wlvl_method3.del_stressmodel('recharge')\n",
    "\n",
    "sm2_rech = ps.StressModel2([rain1, evap1], rfunc=ps.Gamma, name=\"recharge\")\n",
    "ml_wlvl_method3.add_stressmodel(sm2_rech)\n",
    "ml_wlvl_method3.solve(noise=False, report=False)\n",
    "ml_wlvl_method3.plots.results()\n",
    ";"
   ]
  },
  {
   "cell_type": "markdown",
   "metadata": {},
   "source": [
    "### Origin of the series\n",
    "\n",
    "Model with surface water levels:\n",
    "* The rainfall and evaporation data is taken from weather station Volkel in The Netherlands via [knmi](https://www.knmi.nl)\n",
    "* The head data is well B46B0703-001, which was obtained from [Dino loket](https://www.dinoloket.nl/)\n",
    "* The waterlevel data is from station Gennep obtained via [waterinfo.rws.nl](http://waterinfo.rws.nl)\n",
    "\n",
    "Model with well extraction rates obtained from this [notebook](https://github.com/pastas/pastas/blob/master/examples/notebooks/7_%20well_example.ipynb)"
   ]
  }
 ],
 "metadata": {
  "CodeCell": {
   "cm_config": {
    "lineWrapping": true
   }
  },
  "MarkdownCell": {
   "cm_config": {
    "lineWrapping": true
   }
  },
  "anaconda-cloud": {},
  "kernelspec": {
   "display_name": "Python 3",
   "language": "python",
   "name": "python3"
  },
  "language_info": {
   "codemirror_mode": {
    "name": "ipython",
    "version": 3
   },
   "file_extension": ".py",
   "mimetype": "text/x-python",
   "name": "python",
   "nbconvert_exporter": "python",
   "pygments_lexer": "ipython3",
   "version": "3.6.8"
  },
  "widgets": {
   "state": {},
   "version": "1.1.2"
  }
 },
 "nbformat": 4,
 "nbformat_minor": 4
}
