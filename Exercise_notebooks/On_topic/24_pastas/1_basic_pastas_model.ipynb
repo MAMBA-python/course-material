{
 "cells": [
  {
   "cell_type": "markdown",
   "metadata": {},
   "source": [
    "# 1. A basic Pastas model\n",
    "In this notebook you will learn:\n",
    "- how to create a basic time series model with pastas.\n",
    "- how to solve a pastas model.\n",
    "- how to visualise the results of a time series model.\n",
    "\n",
    "#### Required knowledge\n",
    "Before you start the exercise you should know:\n",
    "- What a `pandas` `DataFrame` and `Series` are.\n",
    "- What a `datetime` object in Python is.\n",
    "- What a `dictionary` is.\n",
    "- How to obtain a subset of a `Series` using a certain condition.\n",
    "- How to make a basic plot with `matplotlib.pyplot`.\n",
    "- How to obtain values from a `dictionary`.\n"
   ]
  },
  {
   "cell_type": "markdown",
   "metadata": {},
   "source": [
    "### Contents\n",
    "1. [Import groundwater data](#groundwater)\n",
    "2. [Import meteo data](#meteo)\n",
    "3. [Create a pastas model](#tsa_model)\n",
    "4. [Solve the pastas model](#solve)\n",
    "5. [Plot the results](#visualise)"
   ]
  },
  {
   "cell_type": "code",
   "execution_count": null,
   "metadata": {},
   "outputs": [],
   "source": [
    "# importeer de benodigde packages\n",
    "import pandas as pd\n",
    "import numpy as np\n",
    "import matplotlib.pyplot as plt\n",
    "import pastas as ps\n",
    "%matplotlib inline"
   ]
  },
  {
   "cell_type": "markdown",
   "metadata": {},
   "source": [
    "### 1. Import the groundwater data<a name=\"groundwater\"></a>\n",
    "In this codeblock a time series of groundwater levels is imported using the `read_csv` function of `pandas`. We use the date column as the index and parse the dates as datetime objects. The `read_csv` function returns a `DataFrame` by default. We use `squeeze=True` because we need a `pandas` `Series` object if we use `pastas`. To check if you have the correct data type (a `pandas Series` object), you can use `type(gwdata_raw)` as shown below. "
   ]
  },
  {
   "cell_type": "code",
   "execution_count": null,
   "metadata": {},
   "outputs": [],
   "source": [
    "# Import groundwater time series and squeeze to Series object\n",
    "gwdata_raw = pd.read_csv('data/nb1/head_ex1.csv', parse_dates=True,\n",
    "                         index_col='date', squeeze=True)\n",
    "print(f'The data type of gwdata is: {type(gwdata_raw)}')"
   ]
  },
  {
   "cell_type": "markdown",
   "metadata": {},
   "source": [
    "We can visualize the timeseries using the `plot` method of a `Series` object."
   ]
  },
  {
   "cell_type": "code",
   "execution_count": null,
   "metadata": {},
   "outputs": [],
   "source": [
    "# visualise the observed groundwater levels\n",
    "fig, ax = plt.subplots(figsize=(10, 4))\n",
    "gwdata_raw.plot(style='.', ax=ax)\n",
    "ax.set_ylabel('Head [m]')\n",
    "ax.set_xlabel('Time [years]');"
   ]
  },
  {
   "cell_type": "markdown",
   "metadata": {},
   "source": [
    "Before we use these time series to create a pastas model it is important that we are able to visualise and manipulate the data to our needs. The exercises below will help you with this."
   ]
  },
  {
   "cell_type": "markdown",
   "metadata": {},
   "source": [
    "#### Exercise 1 <a name=\"ex1\"></a>\n",
    "The observed groundwater levels are obtained from the DinoLoket database. The code of the well is 'B58C0698'. Plot the observed groundwater levels over time and add a legend to the plot with the well code. "
   ]
  },
  {
   "cell_type": "code",
   "execution_count": null,
   "metadata": {},
   "outputs": [],
   "source": []
  },
  {
   "cell_type": "markdown",
   "metadata": {},
   "source": [
    "<a href=\"#ans1\">Answer Exercise 1</a>"
   ]
  },
  {
   "cell_type": "markdown",
   "metadata": {},
   "source": [
    "#### Exercise 2 <a name=\"ex2\"></a>\n",
    "We will not use the observed groundwater levels before the 1st of January 2000. Plot the groundwater levels before 2000 as red dots and the data after 2000 as green dots connected by a line."
   ]
  },
  {
   "cell_type": "code",
   "execution_count": null,
   "metadata": {},
   "outputs": [],
   "source": []
  },
  {
   "cell_type": "markdown",
   "metadata": {},
   "source": [
    "<a href=\"#ans2\">Answer Exercise 2</a>"
   ]
  },
  {
   "cell_type": "markdown",
   "metadata": {},
   "source": [
    "#### Exercise 3<a name=\"ex3\"></a>\n",
    "The groundwater levels after 2014 are clearly lower than before. After 2014 a wrong reference level has been used. A reference level is used to convert raw measurements. The reference level differs 5 meters from the correct level. Correct `gwdata_raw` for this mistake by adding 5 meter to the data after 2014. Save the corrected series as `gwdata`. Write your code in the cell below."
   ]
  },
  {
   "cell_type": "code",
   "execution_count": null,
   "metadata": {},
   "outputs": [],
   "source": []
  },
  {
   "cell_type": "markdown",
   "metadata": {},
   "source": [
    "<a href=\"#ans3\">Answer Exercise 3</a>"
   ]
  },
  {
   "cell_type": "markdown",
   "metadata": {},
   "source": [
    "### 2. Import meteo data <a name=\"meteo\"></a>\n",
    "For the time series model we will use the groundwater data along with two meteorological datasets: the precipitation and the potential evaporation. Just like the groundwater levels we need to Squeeze them into `pandas Series` objects."
   ]
  },
  {
   "cell_type": "code",
   "execution_count": null,
   "metadata": {},
   "outputs": [],
   "source": [
    "# Import observed precipitation series\n",
    "precip_mm = pd.read_csv('data/nb1/rain_ex4.csv', parse_dates=['date'],\n",
    "                        index_col='date', squeeze=True)\n",
    "print('The data type of the precip series is: %s' % type(precip_mm))\n",
    "\n",
    "# Import observed evaporation series\n",
    "evap_mm = pd.read_csv('data/nb1/evap_ex4.csv', parse_dates=['date'],\n",
    "                      index_col='date', squeeze=True)\n",
    "print('The data type of the evap series is: %s' % type(evap_mm))"
   ]
  },
  {
   "cell_type": "markdown",
   "metadata": {},
   "source": [
    "#### Exercise 4 <a name=\"ex4\"></a>\n",
    "The units of the precipitation (`precip_mm`) and evaporation (`evap_mm`) series are mm/day. In a timeseries model we want all series to have the same units. Convert the units of the precipitation and evaporation series to m/day. Name your new variables `evap_m` and `precip_m`."
   ]
  },
  {
   "cell_type": "code",
   "execution_count": null,
   "metadata": {},
   "outputs": [],
   "source": []
  },
  {
   "cell_type": "markdown",
   "metadata": {},
   "source": [
    "<a href=\"#ans4\">Answer Exercise 4</a>"
   ]
  },
  {
   "cell_type": "markdown",
   "metadata": {},
   "source": [
    "#### Exercise 5 <a name=\"ex5\"></a>\n",
    "Visualize both series in two plots."
   ]
  },
  {
   "cell_type": "code",
   "execution_count": null,
   "metadata": {},
   "outputs": [],
   "source": []
  },
  {
   "cell_type": "markdown",
   "metadata": {},
   "source": [
    "<a href=\"#ans5\">Answer Exercise 5</a>"
   ]
  },
  {
   "cell_type": "markdown",
   "metadata": {},
   "source": [
    "#### Exercise 6 <a name=\"ex6\"></a>\n",
    "The groundwater recharge can be calculated as the precipitation minus the potential evaporation. We will use the recharge in this basic time series model to explain the variance in the groundwater. Calculate and visualise the recharge, use the `precip_m` and `evap_m` from exercise 4."
   ]
  },
  {
   "cell_type": "code",
   "execution_count": null,
   "metadata": {},
   "outputs": [],
   "source": []
  },
  {
   "cell_type": "markdown",
   "metadata": {},
   "source": [
    "<a href=\"#ans6\">Answer Exercise 6</a>"
   ]
  },
  {
   "cell_type": "markdown",
   "metadata": {},
   "source": [
    "### 3. Create a pastas model<a name=\"tsa_model\"></a>\n",
    "Now that we have the groundwater and recharge series we can start to create a time series model. With this model we can determine to what extend the groundwater is influenced by the recharge. \n",
    "\n",
    "We start by creating an instance of the `Model` class (named `ml` here). We use the groundwater data `gwdata` as input. Pastas will probably inform you that it cannot determine the frequency of the head series, this is not a problem for our model."
   ]
  },
  {
   "cell_type": "code",
   "execution_count": null,
   "metadata": {},
   "outputs": [],
   "source": [
    "# correct the data as (done during exercise 1)\n",
    "gwdata = gwdata_raw.copy()\n",
    "gwdata.loc['2014-1-1':] = gwdata.loc['2014-1-1':] + 5\n",
    "\n",
    "# Create a model object by passing it the observed series\n",
    "ml = ps.Model(gwdata, name=\"GWL\")"
   ]
  },
  {
   "cell_type": "markdown",
   "metadata": {},
   "source": [
    "The next step is to add the recharge as an explanatory series. To do this we have to create a `StressModel` instance using the `recharge` timeseries and a response function. In this case we use the `Gamma` response function. This response function will be used to model the response of groundwater to recharge. In [notebook 2](2_external_stresses.ipynb) and [notebook 3](3_stressmodels.ipynb) you will learn more about response functions and how they are used in `pastas`."
   ]
  },
  {
   "cell_type": "code",
   "execution_count": null,
   "metadata": {},
   "outputs": [],
   "source": [
    "# calculate the recharge (done during exercises 4 & 6)\n",
    "precip_m = precip_mm/1000\n",
    "evap_m = evap_mm/1000\n",
    "recharge = precip_m - evap_m\n",
    "\n",
    "# Add the recharge data as explanatory variable\n",
    "ts1 = ps.StressModel(recharge, ps.Gamma, name='recharge', settings=\"evap\")\n",
    "ml.add_stressmodel(ts1)"
   ]
  },
  {
   "cell_type": "markdown",
   "metadata": {},
   "source": [
    "In order to see all the data and settings in your model you can use the `ml.to_dict()` function. The groundwater level series is stored under the `oseries` key, the recharge under the keys `stressmodels` -> `recharge` -> `stress`. The other variables that you see are mostly default settings that can be specified."
   ]
  },
  {
   "cell_type": "code",
   "execution_count": null,
   "metadata": {},
   "outputs": [],
   "source": [
    "ml.to_dict()"
   ]
  },
  {
   "cell_type": "markdown",
   "metadata": {},
   "source": [
    "#### Exercise 7 <a name=\"ex7\"></a>\n",
    "Plot the groundwater levels (oseries) using the `to_dict()` method from the `ml` object. Check if this is the same figure as your answer to <a href=\"#ex2\">exercise 2</a>."
   ]
  },
  {
   "cell_type": "code",
   "execution_count": null,
   "metadata": {},
   "outputs": [],
   "source": []
  },
  {
   "cell_type": "markdown",
   "metadata": {},
   "source": [
    "<a href=\"#ans7\">Answer Exercise 7</a>"
   ]
  },
  {
   "cell_type": "markdown",
   "metadata": {},
   "source": [
    "### 4. Solve a pastas model<a name=\"solve\"></a>\n",
    "The next step is to solve the model. When you solve a model you try to find the best parameters of the response function in order to mimick the response of the groundwater levels to recharge. You can simply find these parameters using the `ml.solve()` method. By default the results of the solve method are printed. This contains a lot of information about the time series model. The basic information and more about response functions and its parameters will be explained in [3_stressmodels](3_stressmodels.ipynb)."
   ]
  },
  {
   "cell_type": "code",
   "execution_count": null,
   "metadata": {},
   "outputs": [],
   "source": [
    "ml.solve()"
   ]
  },
  {
   "cell_type": "markdown",
   "metadata": {},
   "source": [
    "#### Exercise 8 <a name=\"ex8\"></a>\n",
    "The model we used contained the complete groundwater level series. Let's see what happens if we do not use the groundwater levels before the 1st of January 2000. Create a new model using only the groundwater data after the 1st of January 2000 (you can use your answer from <a href=\"#ex3\">exercise 3</a>). Call this model `ml2`."
   ]
  },
  {
   "cell_type": "code",
   "execution_count": null,
   "metadata": {},
   "outputs": [],
   "source": []
  },
  {
   "cell_type": "markdown",
   "metadata": {},
   "source": [
    "<a href=\"#ans8\">Answer Exercise 8</a>"
   ]
  },
  {
   "cell_type": "markdown",
   "metadata": {},
   "source": [
    "### 5. Plot the results <a name=\"visualise\"></a>\n",
    "The simulated groundwater heads can be plotted together with the measurements."
   ]
  },
  {
   "cell_type": "code",
   "execution_count": null,
   "metadata": {},
   "outputs": [],
   "source": [
    "ml.plot()"
   ]
  },
  {
   "cell_type": "markdown",
   "metadata": {},
   "source": [
    "There are many ways to further visualise the results of the time series model. The `plots` submodule contains all the options. One of these is the method `plots.results` which provides a plot with more information. See the figure below."
   ]
  },
  {
   "cell_type": "code",
   "execution_count": null,
   "metadata": {},
   "outputs": [],
   "source": [
    "ml.plots.results(figsize=(10, 6))\n",
    ";"
   ]
  },
  {
   "cell_type": "markdown",
   "metadata": {},
   "source": [
    "#### Exercise 9 <a name=\"ex9\"></a>\n",
    "Plot the results of the model with only observations after the 1st of January 2000. What differences do you notice in the results? Use your answer to [exercise 8](#ex8) for this question."
   ]
  },
  {
   "cell_type": "code",
   "execution_count": null,
   "metadata": {},
   "outputs": [],
   "source": []
  },
  {
   "cell_type": "markdown",
   "metadata": {},
   "source": [
    "<a href=\"#ans9\">Answer Exercise 9</a>"
   ]
  },
  {
   "cell_type": "markdown",
   "metadata": {},
   "source": [
    "#### Exercise 10 <a name=\"ex10\"></a>\n",
    "The folder `data\\nb1` contains the files `head_ex10.csv`, `evap_ex10.csv` and `evap_ex10.csv`. Create a time series model using this data. Solve the model and plot the results.  "
   ]
  },
  {
   "cell_type": "code",
   "execution_count": null,
   "metadata": {},
   "outputs": [],
   "source": []
  },
  {
   "cell_type": "markdown",
   "metadata": {},
   "source": [
    "<a href=\"#ans10\">Answer Exercise 10</a>"
   ]
  },
  {
   "cell_type": "markdown",
   "metadata": {},
   "source": [
    "\n",
    "## Answers"
   ]
  },
  {
   "cell_type": "markdown",
   "metadata": {},
   "source": [
    "#### <a href=\"#ex1\">Answer exercise 1</a> <a name=\"ans1\"></a>"
   ]
  },
  {
   "cell_type": "code",
   "execution_count": null,
   "metadata": {},
   "outputs": [],
   "source": [
    "fig, ax = plt.subplots(figsize=(10, 4))\n",
    "gwdata_raw.plot(style='.', ax=ax, label='B58C0698')\n",
    "ax.set_ylabel('Head [m]')\n",
    "ax.set_xlabel('Time [years]')\n",
    "ax.legend()"
   ]
  },
  {
   "cell_type": "markdown",
   "metadata": {},
   "source": [
    "#### <a href=\"#ex2\">Answer exercise 2</a> <a name=\"ans2\"></a>"
   ]
  },
  {
   "cell_type": "code",
   "execution_count": null,
   "metadata": {},
   "outputs": [],
   "source": [
    "fig, ax = plt.subplots(figsize=(10, 4))\n",
    "\n",
    "# make subselection of data before 2000\n",
    "gwdata_before2000 = gwdata_raw.loc[:'2000-1-1']\n",
    "gwdata_after2000 = gwdata_raw.loc['2000-1-1':]\n",
    "\n",
    "gwdata_before2000.plot(ax=ax, color='red', style='.')\n",
    "gwdata_after2000.plot(ax=ax, color='green', linestyle='-',\n",
    "                      linewidth=0.5, marker='.')\n",
    "\n",
    "ax.set_ylabel('Head [m]')\n",
    "ax.set_xlabel('Time [years]')\n",
    "ax.legend([ax.lines[1]], ['B58C0698'])"
   ]
  },
  {
   "cell_type": "markdown",
   "metadata": {},
   "source": [
    "#### <a href=\"#ex3\">Answer exercise 3</a> <a name=\"ans3\"></a>"
   ]
  },
  {
   "cell_type": "code",
   "execution_count": null,
   "metadata": {},
   "outputs": [],
   "source": [
    "gwdata = gwdata_raw.copy()\n",
    "gwdata.loc['2014-1-1':] = gwdata.loc['2014-1-1':] + 5"
   ]
  },
  {
   "cell_type": "markdown",
   "metadata": {},
   "source": [
    "#### <a href=\"#ex4\">Answer exercise 4</a> <a name=\"ans4\"></a>"
   ]
  },
  {
   "cell_type": "code",
   "execution_count": null,
   "metadata": {},
   "outputs": [],
   "source": [
    "precip_m = precip_mm/1000\n",
    "evap_m = evap_mm/1000"
   ]
  },
  {
   "cell_type": "markdown",
   "metadata": {},
   "source": [
    "#### <a href=\"#ex5\">Answer exercise 5</a> <a name=\"ans5\"></a>"
   ]
  },
  {
   "cell_type": "code",
   "execution_count": null,
   "metadata": {},
   "outputs": [],
   "source": [
    "# visualise the observed groundwater levels\n",
    "fig, ax = plt.subplots(figsize=(10, 4))\n",
    "precip_m.plot(style='-', ax=ax)\n",
    "ax.set_ylabel('precipitation [m]')\n",
    "ax.set_xlabel('Time [years]')\n",
    "\n",
    "fig, ax = plt.subplots(figsize=(10, 4))\n",
    "evap_m.plot(style='-', ax=ax)\n",
    "ax.set_ylabel('evaporation [m]')\n",
    "ax.set_xlabel('Time [years]')\n",
    ";"
   ]
  },
  {
   "cell_type": "markdown",
   "metadata": {},
   "source": [
    "#### <a href=\"#ex6\">Answer exercise 6</a> <a name=\"ans6\"></a>"
   ]
  },
  {
   "cell_type": "code",
   "execution_count": null,
   "metadata": {},
   "outputs": [],
   "source": [
    "# Calculate the recharge to the groundwater\n",
    "recharge = precip_m - evap_m\n",
    "print('The data type of the recharge series is: %s' % type(recharge))\n",
    "\n",
    "# Plot the time series of the precipitation and evaporation\n",
    "fig, ax = plt.subplots(figsize=(10, 4))\n",
    "recharge.plot(style='-', ax=ax)\n",
    "ax.set_ylabel('Recharge [m]')\n",
    "ax.set_xlabel('Time [years]')\n",
    ";"
   ]
  },
  {
   "cell_type": "markdown",
   "metadata": {},
   "source": [
    "#### <a href=\"#ex7\">Answer exercise 7</a> <a name=\"ans7\"></a>"
   ]
  },
  {
   "cell_type": "code",
   "execution_count": null,
   "metadata": {},
   "outputs": [],
   "source": [
    "model_dic = ml.to_dict()\n",
    "oseries = model_dic['oseries']['series']\n",
    "\n",
    "# Plot the time series of the groundwater\n",
    "fig, ax = plt.subplots(figsize=(10, 4))\n",
    "oseries.plot(marker='.', linewidth=0.5, ax=ax)\n",
    "ax.set_ylabel('Groundwater head [m]')\n",
    "ax.set_xlabel('Time [years]')\n",
    "ax.grid()"
   ]
  },
  {
   "cell_type": "markdown",
   "metadata": {},
   "source": [
    "#### <a href=\"#ex8\">Answer exercise 8</a> <a name=\"ans8\"></a>"
   ]
  },
  {
   "cell_type": "code",
   "execution_count": null,
   "metadata": {},
   "outputs": [],
   "source": [
    "gwdata_after2000 = gwdata.loc['2000-1-1':]\n",
    "ml2 = ps.Model(gwdata_after2000, name=\"GWL\")\n",
    "ts2 = ps.StressModel(recharge, ps.Gamma, name='recharge', settings=\"evap\")\n",
    "ml2.add_stressmodel(ts2)\n",
    "ml2.solve()"
   ]
  },
  {
   "cell_type": "markdown",
   "metadata": {},
   "source": [
    "#### <a href=\"#ex9\">Answer exercise 9</a> <a name=\"ans9\"></a>"
   ]
  },
  {
   "cell_type": "markdown",
   "metadata": {},
   "source": [
    "The most important difference between the models are the parameter values and standard errors. They are shown in the table on the right. Off course the period of the plot is also different."
   ]
  },
  {
   "cell_type": "code",
   "execution_count": null,
   "metadata": {},
   "outputs": [],
   "source": [
    "ml2.plots.results()\n",
    ";"
   ]
  },
  {
   "cell_type": "markdown",
   "metadata": {},
   "source": [
    "#### <a href=\"#ex9\">Answer exercise 10</a> <a name=\"ans10\"></a>"
   ]
  },
  {
   "cell_type": "code",
   "execution_count": null,
   "metadata": {},
   "outputs": [],
   "source": [
    "gwdata2 = pd.read_csv('data/nb1/head_ex10.csv', parse_dates=['Date'],\n",
    "                      index_col='Date', squeeze=True)\n",
    "\n",
    "precip2 = pd.read_csv('data/nb1/precip_ex10.csv', parse_dates=['Date'],\n",
    "                      index_col='Date', squeeze=True)\n",
    "\n",
    "evap2 = pd.read_csv('data/nb1/evap_ex10.csv', parse_dates=['Date'],\n",
    "                    index_col='Date', squeeze=True)\n",
    "\n",
    "recharge2 = precip2 - evap2\n",
    "print('The data type of the recharge series is: %s' % type(recharge))\n",
    "\n",
    "ml3 = ps.Model(gwdata2, name=\"GWL\")\n",
    "ts3 = ps.StressModel(recharge2, ps.Gamma, name='recharge', settings=\"evap\")\n",
    "ml3.add_stressmodel(ts3)\n",
    "ml3.solve()\n",
    "ml3.plots.results(figsize=(10, 6))\n",
    ";"
   ]
  },
  {
   "cell_type": "markdown",
   "metadata": {},
   "source": [
    "### Origin of the series\n",
    "* The rainfall data is taken from rainfall station Heibloem in The Netherlands.\n",
    "* The evaporation data is taken from weather station Maastricht in The Netherlands.\n",
    "* The head data is well B58C0698, which was obtained from Dino loket"
   ]
  }
 ],
 "metadata": {
  "CodeCell": {
   "cm_config": {
    "lineWrapping": true
   }
  },
  "MarkdownCell": {
   "cm_config": {
    "lineWrapping": true
   }
  },
  "anaconda-cloud": {},
  "kernelspec": {
   "display_name": "Python 3",
   "language": "python",
   "name": "python3"
  },
  "language_info": {
   "codemirror_mode": {
    "name": "ipython",
    "version": 3
   },
   "file_extension": ".py",
   "mimetype": "text/x-python",
   "name": "python",
   "nbconvert_exporter": "python",
   "pygments_lexer": "ipython3",
   "version": "3.7.6"
  },
  "widgets": {
   "state": {},
   "version": "1.1.2"
  }
 },
 "nbformat": 4,
 "nbformat_minor": 4
}
