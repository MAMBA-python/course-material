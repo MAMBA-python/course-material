{
 "cells": [
  {
   "cell_type": "markdown",
   "metadata": {},
   "source": [
    "# A basic model\n",
    "In this notebook you will learn:\n",
    "- how to create a basic time series model with pastas.\n",
    "- how to solve a pastas model.\n",
    "- how to visualise the results of a time series model.\n",
    "\n",
    "#### Required knowledge\n",
    "Before you start the exercise you should know:\n",
    "- What a `pandas` `DataFrame` and `Series` are.\n",
    "- What a `datetime` object in Python is.\n",
    "- What a `dictionary` is.\n",
    "- How to obtain a subset of a `Series` using a certain condition.\n",
    "- How to make a basic plot with `matplotlib.pyplot`.\n",
    "- How to obtain values from a `dictionary`.\n"
   ]
  },
  {
   "cell_type": "markdown",
   "metadata": {},
   "source": [
    "### Contents\n",
    "1. [Import groundwater data](#groundwater)\n",
    "2. [Import meteo data](#meteo)\n",
    "3. [Create a pastas model](#tsa_model)\n",
    "4. [Solve the pastas model](#solve)\n",
    "5. [Plot the results](#visualise)"
   ]
  },
  {
   "cell_type": "code",
   "execution_count": null,
   "metadata": {},
   "outputs": [],
   "source": [
    "# importeer de benodigde packages\n",
    "import pandas as pd\n",
    "import numpy as np\n",
    "import matplotlib.pyplot as plt\n",
    "import pastas as ps\n",
    "%matplotlib inline"
   ]
  },
  {
   "cell_type": "markdown",
   "metadata": {},
   "source": [
    "### 1. Import the groundwater data<a name=\"groundwater\"></a>\n",
    "In this codeblock a time series of groundwater levels is imported using the `read_csv` function of `pandas`. This function will return a `DataFrame` by default. We use `squeeze=True` because `pastas` expects a `pandas` `Series` object. To check if you have the correct data type (a `pandas Series` object), you can use `type(gwdata_raw)` as shown below. "
   ]
  },
  {
   "cell_type": "code",
   "execution_count": null,
   "metadata": {},
   "outputs": [],
   "source": [
    "# Import groundwater time series and squeeze to Series object\n",
    "gwdata_raw = pd.read_csv('data/nb1/head_ex1.csv', parse_dates=True,\n",
    "                         index_col='date', squeeze=True)\n",
    "print('The data type of gwdata is: %s' % type(gwdata_raw))"
   ]
  },
  {
   "cell_type": "markdown",
   "metadata": {},
   "source": [
    "We can visualize the timeseries using the `plot` method of a `Series` object."
   ]
  },
  {
   "cell_type": "code",
   "execution_count": null,
   "metadata": {},
   "outputs": [],
   "source": [
    "# visualise the observed groundwater levels\n",
    "fig, ax = plt.subplots(figsize=(10, 4))\n",
    "gwdata_raw.plot(style='.', ax=ax)\n",
    "ax.set_ylabel('Head [m]');\n",
    "ax.set_xlabel('Time [years]');"
   ]
  },
  {
   "cell_type": "markdown",
   "metadata": {},
   "source": [
    "Before we create a pastas model it is important that we are able to visualise and manipulate the data to our needs. The two exercises below will help you with this."
   ]
  },
  {
   "cell_type": "markdown",
   "metadata": {},
   "source": [
    "#### Exercise 1 <a name=\"ex1\"></a>\n",
    "The groundwater levels after 2014 are clearly lower than before. After 2014 a wrong reference level, that is used to correct raw measurements, has been used. The reference level differs 5 meters from the correct level. Correct `gwdata_raw` for this mistake and save the corrected series as `gwdata`. Write your code in the cell below."
   ]
  },
  {
   "cell_type": "code",
   "execution_count": null,
   "metadata": {},
   "outputs": [],
   "source": []
  },
  {
   "cell_type": "markdown",
   "metadata": {},
   "source": [
    "<a href=\"#ans1\">Answer Exercise 1</a>"
   ]
  },
  {
   "cell_type": "markdown",
   "metadata": {},
   "source": [
    "#### Exercise 2 <a name=\"ex2\"></a>\n",
    "The observed groundwater levels are obtained from the DinoLoket database. The code of the well is 'B58C0698'. Plot the corrected data `gwdata` and add a legend to the plot with the well code. "
   ]
  },
  {
   "cell_type": "code",
   "execution_count": null,
   "metadata": {},
   "outputs": [],
   "source": []
  },
  {
   "cell_type": "markdown",
   "metadata": {},
   "source": [
    "<a href=\"#ans2\">Answer Exercise 2</a>"
   ]
  },
  {
   "cell_type": "markdown",
   "metadata": {},
   "source": [
    "#### Exercise 3 <a name=\"ex3\"></a>\n",
    "We will not use the observed groundwater levels before the 1st of January 2000. Plot the groundwater levels before 2000 as red dots and the data after 2000 as green dots connected by a line."
   ]
  },
  {
   "cell_type": "code",
   "execution_count": null,
   "metadata": {},
   "outputs": [],
   "source": []
  },
  {
   "cell_type": "markdown",
   "metadata": {},
   "source": [
    "<a href=\"#ans3\">Answer Exercise 3</a>"
   ]
  },
  {
   "cell_type": "markdown",
   "metadata": {},
   "source": [
    "### 2. Import meteo data <a name=\"meteo\"></a>\n",
    "For this time series model we will use two meteorological datasets: the precipitation and the potential evaporation. Just like the groundwater levels we need to Squeeze them into `pandas Series` objects."
   ]
  },
  {
   "cell_type": "code",
   "execution_count": null,
   "metadata": {},
   "outputs": [],
   "source": [
    "# Import observed precipitation series\n",
    "precip_mm = pd.read_csv('data/nb1/rain_ex4.csv', parse_dates=['date'],\n",
    "                     index_col='date', squeeze=True)\n",
    "print('The data type of the precip series is: %s' % type(precip_mm))\n",
    "\n",
    "# Import observed evaporation series\n",
    "evap_mm = pd.read_csv('data/nb1/evap_ex4.csv', parse_dates=['date'],\n",
    "                   index_col='date', squeeze=True)\n",
    "print('The data type of the evap series is: %s' % type(evap_mm))"
   ]
  },
  {
   "cell_type": "markdown",
   "metadata": {},
   "source": [
    "#### Exercise 4 <a name=\"ex4\"></a>\n",
    "The units of the precipitation (`precip_mm`) and evaporation (`evap_mm`) series are mm/day. In a timeseries model we want all series to have the same units. Convert the units of the precipitation and evaporation series to m/day. Name your new variables `evap_m` and `precip_m`."
   ]
  },
  {
   "cell_type": "code",
   "execution_count": null,
   "metadata": {},
   "outputs": [],
   "source": []
  },
  {
   "cell_type": "markdown",
   "metadata": {},
   "source": [
    "<a href=\"#ans4\">Answer Exercise 4</a>"
   ]
  },
  {
   "cell_type": "markdown",
   "metadata": {},
   "source": [
    "#### Exercise 5 <a name=\"ex5\"></a>\n",
    "Visualize both series in two plots."
   ]
  },
  {
   "cell_type": "code",
   "execution_count": null,
   "metadata": {},
   "outputs": [],
   "source": []
  },
  {
   "cell_type": "markdown",
   "metadata": {},
   "source": [
    "<a href=\"#ans5\">Answer Exercise 5</a>"
   ]
  },
  {
   "cell_type": "markdown",
   "metadata": {},
   "source": [
    "#### Exercise 6 <a name=\"ex6\"></a>\n",
    "The groundwater recharge can be calculated as the precipitation minus the potential evaporation. We will use the recharge in this basic time series model. Calculate and visualise the recharge, use the `precip_m` and `evap_m` from exercise 4."
   ]
  },
  {
   "cell_type": "code",
   "execution_count": null,
   "metadata": {},
   "outputs": [],
   "source": []
  },
  {
   "cell_type": "markdown",
   "metadata": {},
   "source": [
    "<a href=\"#ans6\">Answer Exercise 6</a>"
   ]
  },
  {
   "cell_type": "markdown",
   "metadata": {},
   "source": [
    "### 3. Create a pastas model<a name=\"tsa_model\"></a>\n",
    "We can start to create a time series model with the corrected data. Therefore an instance of the `Model` class is created (named `ml` here) using the measured groundwater levels `gwdata` as input. Pastas will probably inform you that it cannot determine the frequency of the head series, this is not a problem for our model."
   ]
  },
  {
   "cell_type": "code",
   "execution_count": null,
   "metadata": {},
   "outputs": [],
   "source": [
    "# correct the data as (done during exercise 1)\n",
    "gwdata = gwdata_raw.copy()\n",
    "gwdata.loc['2014-1-1':] = gwdata.loc['2014-1-1':] + 5\n",
    "\n",
    "# Create a model object by passing it the observed series\n",
    "ml = ps.Model(gwdata, name=\"GWL\")"
   ]
  },
  {
   "cell_type": "markdown",
   "metadata": {},
   "source": [
    "Now we have a model with groundwater levels. The next step is to add the recharge as an explanatory series. To do this we have to create a `StressModel` instance using the `recharge` timeseries and a response function. In this case we use the `Gamma` response function. This response function will be used to model the response of groundwater to recharge. If you want to know more about response functions and how they are used in `pastas` please have a look at [YET TO BE MADE]."
   ]
  },
  {
   "cell_type": "code",
   "execution_count": null,
   "metadata": {},
   "outputs": [],
   "source": [
    "# calculate the recharge (done during exercises 4 & 6)\n",
    "precip_m = precip_mm/1000\n",
    "evap_m = evap_mm/1000\n",
    "recharge = precip_m - evap_m\n",
    "\n",
    "# Add the recharge data as explanatory variable\n",
    "ts1 = ps.StressModel(recharge, ps.Gamma, name='recharge', settings=\"evap\")\n",
    "ml.add_stressmodel(ts1)"
   ]
  },
  {
   "cell_type": "markdown",
   "metadata": {},
   "source": [
    "In order to see all the data and settings of your `Model` you can use the `ml.to_dict()` function. The groundwater level series is stored under the `oseries` key, the recharge under the keys `stressmodels` -> `recharge` -> `stress`. The other variables that you see are mostly default settings."
   ]
  },
  {
   "cell_type": "code",
   "execution_count": null,
   "metadata": {},
   "outputs": [],
   "source": [
    "ml.to_dict()"
   ]
  },
  {
   "cell_type": "markdown",
   "metadata": {},
   "source": [
    "#### Exercise 7 <a name=\"ex7\"></a>\n",
    "Plot the groundwater levels (oseries) using the `to_dict()` method from the `ml` object. Check if this is the same figure as your answer to <a href=\"#ex2\">exercise 2</a>."
   ]
  },
  {
   "cell_type": "code",
   "execution_count": null,
   "metadata": {},
   "outputs": [],
   "source": []
  },
  {
   "cell_type": "markdown",
   "metadata": {},
   "source": [
    "<a href=\"#ans7\">Answer Exercise 7</a>"
   ]
  },
  {
   "cell_type": "markdown",
   "metadata": {},
   "source": [
    "### 4. Solve a pastas model<a name=\"solve\"></a>\n",
    "The next step is to compute the optimal model parameters using the `ml.solve()` method. This method will find the parameters of the response function that mimick the response of groundwater to recharge the best. By default the results of the method is printed. Which contains a lot of information about the time series model. "
   ]
  },
  {
   "cell_type": "code",
   "execution_count": null,
   "metadata": {
    "scrolled": false
   },
   "outputs": [],
   "source": [
    "ml.solve()"
   ]
  },
  {
   "cell_type": "markdown",
   "metadata": {},
   "source": [
    "#### Exercise 8 <a name=\"ex8\"></a>\n",
    "The model we used contained the complete groundwater level series. Let's see what happens if we do not use the groundwater levels before the 1st of January 2000. Create a new model using only the groundwater data after the 1st of January 2000 (you can use your answer to <a href=\"#ex3\">exercise 3</a>). Call this model `ml2`."
   ]
  },
  {
   "cell_type": "code",
   "execution_count": null,
   "metadata": {},
   "outputs": [],
   "source": []
  },
  {
   "cell_type": "markdown",
   "metadata": {},
   "source": [
    "<a href=\"#ans8\">Answer Exercise 8</a>"
   ]
  },
  {
   "cell_type": "markdown",
   "metadata": {},
   "source": [
    "### 5. Plot the results <a name=\"visualise\"></a>\n",
    "The simulated groundwater heads can be plotted together with the measurements."
   ]
  },
  {
   "cell_type": "code",
   "execution_count": null,
   "metadata": {},
   "outputs": [],
   "source": [
    "ml.plot()"
   ]
  },
  {
   "cell_type": "markdown",
   "metadata": {},
   "source": [
    "There are many ways to further visualise the results of the time series model. The `plots` submodule contains all the options. One of these is the method `plots.results` which provides a plot with more information. See the figure below."
   ]
  },
  {
   "cell_type": "code",
   "execution_count": null,
   "metadata": {},
   "outputs": [],
   "source": [
    "ml.plots.results(figsize=(10, 6));"
   ]
  },
  {
   "cell_type": "markdown",
   "metadata": {},
   "source": [
    "#### Exercise 9 <a name=\"ex9\"></a>\n",
    "plot the results of the model with only observations after the 1st of January 2000. What differences do you notice?"
   ]
  },
  {
   "cell_type": "code",
   "execution_count": null,
   "metadata": {},
   "outputs": [],
   "source": []
  },
  {
   "cell_type": "markdown",
   "metadata": {},
   "source": [
    "<a href=\"#ans9\">Answer Exercise 9</a>"
   ]
  },
  {
   "cell_type": "markdown",
   "metadata": {},
   "source": [
    "#### Exercise 10 <a name=\"ex10\"></a>\n",
    "The folder `data\\nb1` contains the files `head_ex9.csv`, "
   ]
  },
  {
   "cell_type": "code",
   "execution_count": null,
   "metadata": {},
   "outputs": [],
   "source": []
  },
  {
   "cell_type": "markdown",
   "metadata": {},
   "source": [
    "<a href=\"#ans10\">Answer Exercise 10</a>"
   ]
  },
  {
   "cell_type": "markdown",
   "metadata": {},
   "source": [
    "\n",
    "## Answers"
   ]
  },
  {
   "cell_type": "markdown",
   "metadata": {},
   "source": [
    "#### <a href=\"#ex1\">Answer exercise 1</a> <a name=\"ans1\"></a>"
   ]
  },
  {
   "cell_type": "code",
   "execution_count": null,
   "metadata": {},
   "outputs": [],
   "source": [
    "gwdata = gwdata_raw.copy()\n",
    "gwdata.loc['2014-1-1':] = gwdata.loc['2014-1-1':] + 5"
   ]
  },
  {
   "cell_type": "markdown",
   "metadata": {},
   "source": [
    "#### <a href=\"#ex2\">Answer exercise 2</a> <a name=\"ans2\"></a>"
   ]
  },
  {
   "cell_type": "code",
   "execution_count": null,
   "metadata": {},
   "outputs": [],
   "source": [
    "fig, ax = plt.subplots(figsize=(10, 4))\n",
    "gwdata.plot(style='.', ax=ax, label='B58C0698')\n",
    "ax.set_ylabel('Head [m]');\n",
    "ax.set_xlabel('Time [years]');\n",
    "ax.legend()"
   ]
  },
  {
   "cell_type": "markdown",
   "metadata": {},
   "source": [
    "#### <a href=\"#ex3\">Answer exercise 3</a> <a name=\"ans3\"></a>"
   ]
  },
  {
   "cell_type": "code",
   "execution_count": null,
   "metadata": {},
   "outputs": [],
   "source": [
    "fig, ax = plt.subplots(figsize=(10, 4))\n",
    "\n",
    "# make subselection of data before 2000\n",
    "gwdata_before2000 = gwdata.loc[:'2000-1-1']\n",
    "gwdata_after2000 = gwdata.loc['2000-1-1':]\n",
    "\n",
    "gwdata_before2000.plot(ax=ax, color='red', style='.')\n",
    "gwdata_after2000.plot(ax=ax, color='green', linestyle='-', linewidth=0.5, marker='.')\n",
    "\n",
    "ax.set_ylabel('Head [m]');\n",
    "ax.set_xlabel('Time [years]');\n",
    "ax.legend([ax.lines[1]], ['B58C0698'])"
   ]
  },
  {
   "cell_type": "markdown",
   "metadata": {},
   "source": [
    "#### <a href=\"#ex4\">Answer exercise 4</a> <a name=\"ans4\"></a>"
   ]
  },
  {
   "cell_type": "code",
   "execution_count": null,
   "metadata": {},
   "outputs": [],
   "source": [
    "precip_m = precip_mm/1000\n",
    "evap_m = evap_mm/1000"
   ]
  },
  {
   "cell_type": "markdown",
   "metadata": {},
   "source": [
    "#### <a href=\"#ex5\">Answer exercise 5</a> <a name=\"ans5\"></a>"
   ]
  },
  {
   "cell_type": "code",
   "execution_count": null,
   "metadata": {},
   "outputs": [],
   "source": [
    "# visualise the observed groundwater levels\n",
    "fig, ax = plt.subplots(figsize=(10, 4))\n",
    "precip_m.plot(style='-', ax=ax)\n",
    "ax.set_ylabel('precipitation [m]');\n",
    "ax.set_xlabel('Time [years]');\n",
    "\n",
    "fig, ax = plt.subplots(figsize=(10, 4))\n",
    "evap_m.plot(style='-', ax=ax)\n",
    "ax.set_ylabel('evaporation [m]');\n",
    "ax.set_xlabel('Time [years]');"
   ]
  },
  {
   "cell_type": "markdown",
   "metadata": {},
   "source": [
    "#### <a href=\"#ex6\">Answer exercise 6</a> <a name=\"ans6\"></a>"
   ]
  },
  {
   "cell_type": "code",
   "execution_count": null,
   "metadata": {},
   "outputs": [],
   "source": [
    "# Calculate the recharge to the groundwater\n",
    "recharge = precip_m - evap_m\n",
    "print('The data type of the recharge series is: %s' % type(recharge))\n",
    "\n",
    "# Plot the time series of the precipitation and evaporation\n",
    "fig, ax = plt.subplots(figsize=(10, 4))\n",
    "recharge.plot(style='-', ax=ax)\n",
    "ax.set_ylabel('Recharge [m]');\n",
    "ax.set_xlabel('Time [years]');"
   ]
  },
  {
   "cell_type": "markdown",
   "metadata": {},
   "source": [
    "#### <a href=\"#ex7\">Answer exercise 7</a> <a name=\"ans7\"></a>"
   ]
  },
  {
   "cell_type": "code",
   "execution_count": null,
   "metadata": {},
   "outputs": [],
   "source": [
    "model_dic = ml.to_dict()\n",
    "oseries = model_dic['oseries']['series']\n",
    "\n",
    "# Plot the time series of the precipitation and evaporation\n",
    "fig, ax = plt.subplots(figsize=(10, 4))\n",
    "oseries.plot(marker='.', linewidth=0.5, ax=ax)\n",
    "ax.set_ylabel('Groundwater head [m]')\n",
    "ax.set_xlabel('Time [years]')\n",
    "ax.grid()"
   ]
  },
  {
   "cell_type": "markdown",
   "metadata": {},
   "source": [
    "#### <a href=\"#ex8\">Answer exercise 8</a> <a name=\"ans8\"></a>"
   ]
  },
  {
   "cell_type": "code",
   "execution_count": null,
   "metadata": {},
   "outputs": [],
   "source": [
    "gwdata_after2000 = gwdata.loc['2000-1-1':]\n",
    "ml2 = ps.Model(gwdata_after2000, name=\"GWL\")\n",
    "ts2 = ps.StressModel(recharge, ps.Gamma, name='recharge', settings=\"evap\")\n",
    "ml2.add_stressmodel(ts2)\n",
    "ml2.solve()"
   ]
  },
  {
   "cell_type": "markdown",
   "metadata": {},
   "source": [
    "#### <a href=\"#ex9\">Answer exercise 9</a> <a name=\"ans9\"></a>"
   ]
  },
  {
   "cell_type": "markdown",
   "metadata": {},
   "source": [
    "The most important difference between the models are the parameter values and standard errors. They are shown in the table on the right. Off course the period of the plot is also different."
   ]
  },
  {
   "cell_type": "code",
   "execution_count": null,
   "metadata": {},
   "outputs": [],
   "source": [
    "ml2.plots.results();"
   ]
  },
  {
   "cell_type": "markdown",
   "metadata": {},
   "source": [
    "#### <a href=\"#ex9\">Answer exercise 10</a> <a name=\"ans10\"></a>"
   ]
  },
  {
   "cell_type": "code",
   "execution_count": null,
   "metadata": {},
   "outputs": [],
   "source": [
    "gwdata2 = pd.read_csv('data/nb1/head_ex10.csv', parse_dates=['Date'],\n",
    "                     index_col='Date', squeeze=True)\n",
    "\n",
    "precip2 = pd.read_csv('data/nb1/precip_ex10.csv', parse_dates=['Date'],\n",
    "                      index_col='Date', squeeze=True)\n",
    "\n",
    "evap2 = pd.read_csv('data/nb1/evap_ex10.csv', parse_dates=['Date'],\n",
    "                   index_col='Date', squeeze=True)\n",
    "\n",
    "recharge2 = precip2 - evap2\n",
    "print('The data type of the recharge series is: %s' % type(recharge))\n",
    "\n",
    "ml3 = ps.Model(gwdata2, name=\"GWL\")\n",
    "ts3 = ps.StressModel(recharge2, ps.Gamma, name='recharge', settings=\"evap\")\n",
    "ml3.add_stressmodel(ts3)\n",
    "ml3.solve()\n",
    "ml3.plots.results(figsize=(10, 6));"
   ]
  },
  {
   "cell_type": "markdown",
   "metadata": {},
   "source": [
    "### Origin of the series\n",
    "* The rainfall data is taken from rainfall station Heibloem in The Netherlands.\n",
    "* The evaporation data is taken from weather station Maastricht in The Netherlands.\n",
    "* The head data is well B58C0698, which was obtained from Dino loket"
   ]
  }
 ],
 "metadata": {
  "CodeCell": {
   "cm_config": {
    "lineWrapping": true
   }
  },
  "MarkdownCell": {
   "cm_config": {
    "lineWrapping": true
   }
  },
  "anaconda-cloud": {},
  "kernelspec": {
   "display_name": "Python 3",
   "language": "python",
   "name": "python3"
  },
  "language_info": {
   "codemirror_mode": {
    "name": "ipython",
    "version": 3
   },
   "file_extension": ".py",
   "mimetype": "text/x-python",
   "name": "python",
   "nbconvert_exporter": "python",
   "pygments_lexer": "ipython3",
   "version": "3.6.8"
  },
  "widgets": {
   "state": {},
   "version": "1.1.2"
  }
 },
 "nbformat": 4,
 "nbformat_minor": 2
}
