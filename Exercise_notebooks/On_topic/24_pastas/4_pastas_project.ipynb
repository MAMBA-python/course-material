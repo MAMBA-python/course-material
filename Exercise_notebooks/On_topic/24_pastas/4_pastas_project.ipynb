{
 "cells": [
  {
   "cell_type": "markdown",
   "metadata": {},
   "source": [
    "# 4. Pastas Project\n",
    "\n",
    "In this notebook you will learn:\n",
    "- what a pastas project is.\n",
    "- how observations series, stresses and models are stored in a pastas project.\n",
    "- how to do bulk operations on pastas models.\n",
    "- how to write and read a pastas project from a file.\n",
    "\n",
    "\n",
    "In order to do bulk operations on time series models you can use a Pastas Project. A Project is a Python class that contains observations, stresses and models of multiple locations. This class has convenient methods to store time series data, create models, add stressmodels and summarize the results. This notebook is an example of the current possibilities."
   ]
  },
  {
   "cell_type": "code",
   "execution_count": null,
   "metadata": {},
   "outputs": [],
   "source": [
    "# First perform the necessary imports\n",
    "import os\n",
    "import pandas as pd\n",
    "import matplotlib.pyplot as plt\n",
    "import pastas as ps\n",
    "%matplotlib inline"
   ]
  },
  {
   "cell_type": "code",
   "execution_count": null,
   "metadata": {},
   "outputs": [],
   "source": [
    "## Starting a new Project\n",
    "pr = ps.Project(name='project for notebook')"
   ]
  },
  {
   "cell_type": "markdown",
   "metadata": {},
   "source": [
    "## Add observations\n",
    "We can add oseries to the project. Set kind to 'oseries' to add the series as observations. Observation-series are added to pr.oseries, which is a Pandas DataFrame. The measurement-TimeSeries is in the 'series'-column. Metadata provided to add_series is shown in the other columns of pr.oseries."
   ]
  },
  {
   "cell_type": "code",
   "execution_count": null,
   "metadata": {},
   "outputs": [],
   "source": [
    "# add the observations in all the files in the data-directory that end with _1.csv\n",
    "datapath = r'data\\nb4'\n",
    "files = [x for x in os.listdir(datapath) if x.endswith('_1.csv')]\n",
    "for file in files:\n",
    "    fname = os.path.join(datapath,file)\n",
    "    series = ps.read_dino(fname)\n",
    "    pr.add_series(series, kind='oseries')\n",
    "    \n",
    "# show the contents of pr.oseries\n",
    "pr.oseries"
   ]
  },
  {
   "cell_type": "markdown",
   "metadata": {},
   "source": [
    "#### Exercise 1 <a name=\"ex1\"></a>\n",
    "Create a pastas project. Add the observations in the `data\\nb4\\ex1`  to the model. Which measurements series has the lowest filter?"
   ]
  },
  {
   "cell_type": "code",
   "execution_count": null,
   "metadata": {},
   "outputs": [],
   "source": []
  },
  {
   "cell_type": "markdown",
   "metadata": {},
   "source": [
    "<a href=\"#ans1\">Answer Exercise 1</a>"
   ]
  },
  {
   "cell_type": "markdown",
   "metadata": {},
   "source": [
    "## Stresses\n",
    "And we can add stresses. To make pr.add_recharge work later, we have to add the precipitation-series as kind='prec' and the evaporation-series as kind='evap'. Stress-series are added to pr.stresses, which is a Pandas DataFrame (just like pr.oseries). The stress-TimeSeries is in the 'series'-column. Metadata provided to add_series is shown in the other columns of pr.stresses."
   ]
  },
  {
   "cell_type": "code",
   "execution_count": null,
   "metadata": {},
   "outputs": [],
   "source": [
    "# add evaporation\n",
    "fname = os.path.join(datapath,'KNMI_Bilt.txt')\n",
    "series = ps.read_knmi(fname, variables='EV24')\n",
    "pr.add_series(series, kind='evap', settings='evap')\n",
    "\n",
    "# add precipitation\n",
    "fname = os.path.join(datapath,'KNMI_Akkrum.txt')\n",
    "series = ps.read_knmi(fname, variables='RD')\n",
    "pr.add_series(series, kind='prec', settings='prec')\n",
    "\n",
    "\n",
    "# show the contents of pr.stresses\n",
    "pr.stresses"
   ]
  },
  {
   "cell_type": "markdown",
   "metadata": {},
   "source": []
  },
  {
   "cell_type": "markdown",
   "metadata": {},
   "source": [
    "#### Exercise 2 <a name=\"ex2\"></a>\n",
    "Add the evaporation from De Bilt and the precipitation from Akkrum to the project you made in Exercise 1."
   ]
  },
  {
   "cell_type": "code",
   "execution_count": null,
   "metadata": {},
   "outputs": [],
   "source": []
  },
  {
   "cell_type": "markdown",
   "metadata": {},
   "source": [
    "<a href=\"#ans2\">Answer Exercise 2</a>"
   ]
  },
  {
   "cell_type": "markdown",
   "metadata": {},
   "source": [
    "## Make models\n",
    "We can make models and add recharge. Models are added to pr.models, which is a dictionary with the model-names as the keys, and the models as the values. The add_recharge method finds the closest precipitation- and evaporation-series to the measurement location that the model describes.\n",
    "\n",
    "The file that we used for precipitation did not contain any coordinates, which will therefore default to 0.0. The evaporation-file contains coordinates in epsg:4326, while our observation-files contain coordinates in epsg:28992. Right now we do not transform coordinates. So finding the closest precipitation- and evaporation-series will normally give wrong results. As we have only one precipitation and evaporation series however, this is not a problem.\n",
    "\n",
    "In the code-section below, we make three models with recharge and solve them."
   ]
  },
  {
   "cell_type": "code",
   "execution_count": null,
   "metadata": {},
   "outputs": [],
   "source": [
    "for name in pr.oseries.index:\n",
    "    ml = pr.add_model(name)\n",
    "    pr.add_recharge(ml)\n",
    "    ml.solve(report=False)\n",
    "    \n",
    "# show the contents of pr.models\n",
    "pr.models"
   ]
  },
  {
   "cell_type": "markdown",
   "metadata": {},
   "source": [
    "#### Exercise 3 <a name=\"ex3\"></a>\n",
    "Create models of your pastas project from exercise 2 and solve them."
   ]
  },
  {
   "cell_type": "code",
   "execution_count": null,
   "metadata": {},
   "outputs": [],
   "source": []
  },
  {
   "cell_type": "markdown",
   "metadata": {},
   "source": [
    "<a href=\"#ans3\">Answer Exercise 3</a>"
   ]
  },
  {
   "cell_type": "markdown",
   "metadata": {},
   "source": [
    "## Plot individual results\n",
    "Take one of the models and plot the decomposition. As we can see, the precipitation series does not contain the first few years of the simulation. The start- and end-dates of the model (tmin and tmax) are solely determined by the observation-series."
   ]
  },
  {
   "cell_type": "code",
   "execution_count": null,
   "metadata": {},
   "outputs": [],
   "source": [
    "name = 'B58C0698_1'\n",
    "ml = pr.models[name]\n",
    "ml.plots.decomposition()"
   ]
  },
  {
   "cell_type": "markdown",
   "metadata": {},
   "source": [
    "## Get some statistics / parameters of all models\n",
    "Make a table with some statistics of the models"
   ]
  },
  {
   "cell_type": "code",
   "execution_count": null,
   "metadata": {},
   "outputs": [],
   "source": [
    "pr.get_statistics(['evp','aic'])"
   ]
  },
  {
   "cell_type": "markdown",
   "metadata": {},
   "source": [
    "Make a table with some parameters of the models"
   ]
  },
  {
   "cell_type": "code",
   "execution_count": null,
   "metadata": {},
   "outputs": [],
   "source": [
    "pr.get_parameters(['recharge_A','constant_d','noise_alpha'])"
   ]
  },
  {
   "cell_type": "markdown",
   "metadata": {},
   "source": [
    "Get the EVP from the models. What do you think?"
   ]
  },
  {
   "cell_type": "markdown",
   "metadata": {},
   "source": [
    "#### Exercise 4 <a name=\"ex4\"></a>\n",
    "Get the EVP from the models in your pastas project from exercise 3. What do you think?"
   ]
  },
  {
   "cell_type": "code",
   "execution_count": null,
   "metadata": {},
   "outputs": [],
   "source": []
  },
  {
   "cell_type": "markdown",
   "metadata": {},
   "source": [
    "<a href=\"#ans4\">Answer Exercise 4</a>"
   ]
  },
  {
   "cell_type": "markdown",
   "metadata": {},
   "source": [
    "#### Exercise 5 <a name=\"ex5\"></a>\n",
    "\n",
    "Improve the models in your project from exercise 4 by replacing the precipitation from Akkrum with measurements from IJsselstein use this website https://www.knmi.nl/nederland-nu/klimatologie/monv/reeksen. And replace the evaporation from De Bilt with the evaporation from Arcen using this website https://www.knmi.nl/nederland-nu/klimatologie/daggegevens. Does this improve the EVP? Plot the results of model B52D0502_1, what do you see?"
   ]
  },
  {
   "cell_type": "code",
   "execution_count": null,
   "metadata": {},
   "outputs": [],
   "source": []
  },
  {
   "cell_type": "markdown",
   "metadata": {},
   "source": [
    "<a href=\"#ans5\">Answer Exercise 5</a>"
   ]
  },
  {
   "cell_type": "markdown",
   "metadata": {},
   "source": [
    "#### Exercise 6 <a name=\"ex6\"></a>\n",
    "There are no evaporation measurements at Arcen before 1991. Change the calibration period of the models using tmin in such a way that a more realistic model is created."
   ]
  },
  {
   "cell_type": "code",
   "execution_count": null,
   "metadata": {},
   "outputs": [],
   "source": []
  },
  {
   "cell_type": "markdown",
   "metadata": {},
   "source": [
    "<a href=\"#ans6\">Answer Exercise 6</a>"
   ]
  },
  {
   "cell_type": "markdown",
   "metadata": {},
   "source": [
    "#### Exercise 7 <a name=\"ex7\"></a>\n",
    "Add a step trend to the models in january 2010. Solve the models and explore the results. What happens?"
   ]
  },
  {
   "cell_type": "code",
   "execution_count": null,
   "metadata": {},
   "outputs": [],
   "source": []
  },
  {
   "cell_type": "markdown",
   "metadata": {},
   "source": [
    "<a href=\"#ans7\">Answer Exercise 7</a>"
   ]
  },
  {
   "cell_type": "markdown",
   "metadata": {},
   "source": [
    "## Make a map\n",
    "We can make a map of the locations of oseries. The mapping-functionality of a Pastas Project need to be expanded."
   ]
  },
  {
   "cell_type": "code",
   "execution_count": null,
   "metadata": {},
   "outputs": [],
   "source": [
    "f,ax= plt.subplots()\n",
    "ax.axis('equal')\n",
    "pr.maps.series(kind='oseries')"
   ]
  },
  {
   "cell_type": "markdown",
   "metadata": {},
   "source": [
    "## Saving and loading a project\n",
    "We can save an entire project, with all its series and models, to a file."
   ]
  },
  {
   "cell_type": "code",
   "execution_count": null,
   "metadata": {},
   "outputs": [],
   "source": [
    "pr.to_file('pastas_project.pas')"
   ]
  },
  {
   "cell_type": "markdown",
   "metadata": {},
   "source": [
    "Later we can reload this project again"
   ]
  },
  {
   "cell_type": "code",
   "execution_count": null,
   "metadata": {},
   "outputs": [],
   "source": [
    "pr = ps.io.load('pastas_project.pas')"
   ]
  },
  {
   "cell_type": "markdown",
   "metadata": {},
   "source": [
    "Test if everything went ok by plotting the decomposition of B58C0698_1 again. This figure is exactly the same as before."
   ]
  },
  {
   "cell_type": "code",
   "execution_count": null,
   "metadata": {},
   "outputs": [],
   "source": [
    "name = 'B58C0698_1'\n",
    "ml = pr.models[name]\n",
    "ml.plots.decomposition()"
   ]
  },
  {
   "cell_type": "markdown",
   "metadata": {},
   "source": [
    "\n",
    "## Answers"
   ]
  },
  {
   "cell_type": "markdown",
   "metadata": {},
   "source": [
    "#### <a href=\"#ex1\">Answer exercise 1</a> <a name=\"ans1\"></a>\n",
    "\n",
    "Measurement point B52D0192_2 has the lowest filter. This can be seen in the column `Onderkant filter (cm t.o.v. NAP)` from the dataframe: `pr_q.oseries`. This is a hard question if you don't know Dutch (sorry!)."
   ]
  },
  {
   "cell_type": "code",
   "execution_count": null,
   "metadata": {},
   "outputs": [],
   "source": [
    "# Starting a new Project\n",
    "pr_q = ps.Project(name='exercise1')\n",
    "\n",
    "# add the observations in all the files in the data-directory that end with _1.csv\n",
    "datapath_ex1 = r'data\\nb4\\ex1'\n",
    "files = [x for x in os.listdir(datapath_ex1) if x.endswith('_1.csv')]\n",
    "for file in files:\n",
    "    fname = os.path.join(datapath_ex1,file)\n",
    "    series = ps.read_dino(fname)\n",
    "    pr_q.add_series(series, kind='oseries')\n",
    "# show the contents of pr.oseries\n",
    "meetreeks = pr_q.oseries.loc['B52C2089_1','series'].series\n",
    "pr_q.oseries"
   ]
  },
  {
   "cell_type": "markdown",
   "metadata": {},
   "source": [
    "#### <a href=\"#ex2\">Answer exercise 2</a> <a name=\"ans2\"></a>"
   ]
  },
  {
   "cell_type": "code",
   "execution_count": null,
   "metadata": {},
   "outputs": [],
   "source": [
    "# add evaporation\n",
    "fname = os.path.join(datapath,'KNMI_Bilt.txt')\n",
    "series = ps.read_knmi(fname, variables='EV24')\n",
    "pr_q.add_series(series, kind='evap', settings='evap')\n",
    "\n",
    "# add precipitation\n",
    "fname = os.path.join(datapath,'KNMI_Akkrum.txt')\n",
    "series = ps.read_knmi(fname, variables='RD')\n",
    "pr_q.add_series(series, kind='prec', settings='prec')\n",
    "\n",
    "\n",
    "# show the contents of pr.stresses\n",
    "pr_q.stresses"
   ]
  },
  {
   "cell_type": "markdown",
   "metadata": {},
   "source": [
    "#### <a href=\"#ex3\">Answer exercise 3</a> <a name=\"ans3\"></a>"
   ]
  },
  {
   "cell_type": "code",
   "execution_count": null,
   "metadata": {},
   "outputs": [],
   "source": [
    "#Exercise 3\n",
    "pr_q.add_models()\n",
    "pr_q.add_recharge()\n",
    "pr_q.solve_models()"
   ]
  },
  {
   "cell_type": "code",
   "execution_count": null,
   "metadata": {},
   "outputs": [],
   "source": [
    "# alternative with a for-loop\n",
    "for name in pr_q.oseries.index:\n",
    "    ml = pr_q.add_model(name)\n",
    "    pr_q.add_recharge(ml)\n",
    "    ml.solve(report=False)"
   ]
  },
  {
   "cell_type": "markdown",
   "metadata": {},
   "source": [
    "#### <a href=\"#ex4\">Answer exercise 4</a> <a name=\"ans4\"></a>\n",
    "\n",
    "See the explained variance (evp) in the cell below. The evp is rather low. In general people use an evp value of more than 70-80% for a reasonable fit."
   ]
  },
  {
   "cell_type": "code",
   "execution_count": null,
   "metadata": {},
   "outputs": [],
   "source": [
    "pr_q.get_statistics(['evp'])"
   ]
  },
  {
   "cell_type": "markdown",
   "metadata": {},
   "source": [
    "#### <a href=\"#ex5\">Answer exercise 5</a> <a name=\"ans5\"></a>\n",
    "\n",
    "The evaporation time series of Arcen has no values before 1991 and therefore the model of B52D0502_1 and others have a poor fit/low evp. "
   ]
  },
  {
   "cell_type": "code",
   "execution_count": null,
   "metadata": {},
   "outputs": [],
   "source": [
    "# add evaporation\n",
    "fname = os.path.join(datapath,'etmgeg_391.txt')\n",
    "series = ps.read_knmi(fname, variables='EV24')\n",
    "pr_q.add_series(series, kind='evap', settings='evap')\n",
    "\n",
    "# add precipitation\n",
    "fname = os.path.join(datapath,'neerslaggeg_IJSSELSTEYN-L_913.txt')\n",
    "series = ps.read_knmi(fname, variables='RD')\n",
    "pr_q.add_series(series, kind='prec', settings='prec')\n",
    "\n",
    "# delete existing stresses\n",
    "pr_q.del_stress('EV24 DE BILT')\n",
    "pr_q.del_stress('RD 89')\n",
    "\n",
    "# create and solve the models\n",
    "for name in pr_q.oseries.index:\n",
    "    ml = pr_q.add_model(name)\n",
    "    pr_q.add_recharge(ml)\n",
    "    ml.solve(report=False)\n",
    "    \n",
    "# get the statistics\n",
    "print(pr_q.get_statistics(['evp']))\n",
    "\n",
    "# results of individual model\n",
    "name = 'B52D0502_1'\n",
    "ml = pr_q.models[name]\n",
    "ml.plots.decomposition();"
   ]
  },
  {
   "cell_type": "markdown",
   "metadata": {},
   "source": [
    "#### <a href=\"#ex6\">Answer exercise 6</a> <a name=\"ans6\"></a>"
   ]
  },
  {
   "cell_type": "code",
   "execution_count": null,
   "metadata": {},
   "outputs": [],
   "source": [
    "for name in pr_q.oseries.index:\n",
    "    ml = pr_q.add_model(name)\n",
    "    pr_q.add_recharge(ml)\n",
    "    ml.solve(tmin='1993', report=False)\n",
    "    \n",
    "print(pr_q.get_statistics(['evp']))\n",
    "\n",
    "# results of individual model\n",
    "name = 'B52D0502_1'\n",
    "ml = pr_q.models[name]\n",
    "ml.plots.decomposition();"
   ]
  },
  {
   "cell_type": "markdown",
   "metadata": {},
   "source": [
    "#### <a href=\"#ex7\">Answer exercise 7</a> <a name=\"ans7\"></a>\n",
    "\n",
    "There seems to be little effect of the steptrend on the model results"
   ]
  },
  {
   "cell_type": "code",
   "execution_count": null,
   "metadata": {},
   "outputs": [],
   "source": [
    "sm = ps.stressmodels.StepModel('2010', name='step', up=True)\n",
    "sm2 = ps.stressmodels.StepModel('2013', name='step2', up=True)\n",
    "\n",
    "for name in pr_q.oseries.index:\n",
    "    ml = pr_q.add_model(name)\n",
    "    ml.add_stressmodel(sm)\n",
    "    #ml.add_stressmodel(sm2)\n",
    "    pr_q.add_recharge(ml)\n",
    "    ml.solve(tmin='1993', report=False)\n",
    "    \n",
    "print(pr_q.get_statistics(['evp']))\n",
    "\n",
    "# results of individual model\n",
    "name = 'B52D0502_1'\n",
    "ml = pr_q.models[name]\n",
    "ml.plots.decomposition();"
   ]
  }
 ],
 "metadata": {
  "kernelspec": {
   "display_name": "Python 3",
   "language": "python",
   "name": "python3"
  },
  "language_info": {
   "codemirror_mode": {
    "name": "ipython",
    "version": 3
   },
   "file_extension": ".py",
   "mimetype": "text/x-python",
   "name": "python",
   "nbconvert_exporter": "python",
   "pygments_lexer": "ipython3",
   "version": "3.7.6"
  }
 },
 "nbformat": 4,
 "nbformat_minor": 2
}
