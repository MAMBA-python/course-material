{
 "cells": [
  {
   "cell_type": "markdown",
   "metadata": {},
   "source": [
    "<figure>\n",
    "   <IMG SRC=\"https://mamba-python.nl/images/logo_basis.png\" WIDTH=125 ALIGN=\"right\">\n",
    "</figure>\n",
    "\n",
    "# Logging\n",
    "_developed by Onno Ebbens_\n",
    "    \n",
    "<hr>\n",
    "\n",
    "Logging is a tool to help programmers:\n",
    "- understand the different steps in an application\n",
    "- save information about the proces\n",
    "- gain further insights into errors and how they propagate\n",
    "    \n",
    "By logging important information it gets easier to debug the code. Alos the save information, the logs, can help to analyse performance and user patterns. Python has a built-in logging module that can be added to your application. This notebook explains how you can use this module.\n",
    "    \n",
    "Required prior knowledge:\n",
    "- know how to define a function, modify a function and call that function\n",
    "- know what a numpy array is.\n",
    "      \n",
    "### Content<a id=\"top\"></a>\n",
    "1. [Print](#1)\n",
    "2. [Logging](#2)\n",
    "3. [Levels](#3)\n",
    "4. [Log to file](#4)\n",
    "5. [Log format](#5)\n",
    "6. [Logger name](#6)   \n",
    "7. [Advanced logging](#7)   \n",
    "8. [Answers](#Antwoorden)"
   ]
  },
  {
   "cell_type": "markdown",
   "metadata": {},
   "source": [
    "## 1. [Print](#top)<a id=\"1\"></a>\n",
    "\n",
    "The `print` function can be seen as the most basic form of logging. The `print` function can be used in multiple ways. For example to indicate what happens during code execution or to see the value of a variable."
   ]
  },
  {
   "cell_type": "markdown",
   "metadata": {},
   "source": [
    "<hr>\n",
    "\n",
    "#### Exercise 1 <a name=\"opdr1\"></a>\n",
    "\n",
    "Add the following print statement in the function definition below:\n",
    "- `print('compute frequency per bin_edge')`\n",
    "- `print('starting to compute bin_edges')`\n",
    "- `print('frequency per bin is', count)`\n",
    "- `print('finished computing bin_edges, bin_edges are:', bin_edges)`\n",
    "- `print('getting frequency bins of array', arr, 'using', n_bins, 'bins')`"
   ]
  },
  {
   "cell_type": "code",
   "execution_count": 3,
   "metadata": {},
   "outputs": [],
   "source": [
    "import numpy as np\n",
    "\n",
    "def frequency_bins(arr, n_bins=4):\n",
    "    \"\"\" get the frequency of the numbers in an array within a number of bins. The boundaries of the bins are \n",
    "    created by the percentiles of the array.\n",
    "    \n",
    "    Parameters\n",
    "    ----------\n",
    "    arr : np.array of ints or float\n",
    "        numbers to divide into bins\n",
    "    n_bins : int\n",
    "        number of bins\n",
    "    \n",
    "    Returns\n",
    "    -------\n",
    "    count : np.array\n",
    "        the number of items in arr that are within the bin\n",
    "    bins : np.array\n",
    "        the boundaries of the bins\n",
    "    \"\"\"\n",
    "    \n",
    "    bin_edges = np.zeros(n_bins+1)    \n",
    "    for i in range(n_bins+1):\n",
    "        percentile = i*100/n_bins\n",
    "        bin_edges[i] = np.percentile(arr, percentile)\n",
    "    \n",
    "    count, _ = np.histogram(arr,bin_edges)\n",
    "    \n",
    "    return count\n",
    "\n",
    "random_numbers = np.random.randint(0, 10, (10))\n",
    "\n",
    "count = frequency_bins(random_numbers)"
   ]
  },
  {
   "cell_type": "markdown",
   "metadata": {},
   "source": [
    "<a href=\"#antw1\">Answer exercise 1</a>\n",
    "<hr>"
   ]
  },
  {
   "cell_type": "markdown",
   "metadata": {},
   "source": [
    "In the exercise you could how a print statement can be used to list what happens in the code. However, there are some disadvantages of using a print statement:\n",
    "- The print statement will always print something, even if you are not interested in that information\n",
    "- Everytime you call a function with a print statement you see the results only in the console. This can make it harder to find back the information.\n",
    "- The more print statements you add the more cluttered the results become. It is hard to trace back in which part of the code which print statement is called.\n",
    "\n",
    "Fortunately Python has another way of displaying the desired information in a structured way in the `logging` module."
   ]
  },
  {
   "cell_type": "markdown",
   "metadata": {},
   "source": [
    "## 2. [Logging](#top)<a id=\"2\"></a>\n",
    "\n",
    "The `logging` module in Python contains functions and classes you can use to keep track of your processes. Using the logging module you can add pieces of text, also called logs, to your code to indicate what is happening. The example below shows how to create a log message."
   ]
  },
  {
   "cell_type": "code",
   "execution_count": 4,
   "metadata": {},
   "outputs": [
    {
     "name": "stderr",
     "output_type": "stream",
     "text": [
      "INFO:root:this is a log message\n"
     ]
    }
   ],
   "source": [
    "import logging\n",
    "\n",
    "# settings for the logging module\n",
    "logging.basicConfig(level=logging.DEBUG)\n",
    "\n",
    "# create a log\n",
    "logging.info('this is a log message')"
   ]
  },
  {
   "cell_type": "markdown",
   "metadata": {},
   "source": [
    "In the example we create a log message that is shown below the cell. This is very similar to what the `print` function does. A visible difference is the red bar around the text and `INFO:root:` before the log message. The red bar is only shown in Jupyter Notebooks and therefore not a setting of the logging module. `INFO:` refers to the log level and is explained further in the next [chapter](#3). `root:` refers to the logger name and will be explaiend further in [chapter 6](#6).\n",
    "\n",
    "In the code you also see `logging.basicConfig(..`. This is used to specify the settings in the `logging` module. Some of these settings will be explained in [chapter 3](#3)."
   ]
  },
  {
   "cell_type": "markdown",
   "metadata": {},
   "source": [
    "<hr>\n",
    "\n",
    "#### Exercise 2 <a name=\"opdr2\"></a>\n",
    "\n",
    "Change the `print` statements in the function from exercise 1 into logging statements.\n",
    "\n",
    "NB: After these change the function contains many logging statements. In reality you will never add that many logging statements to such a small piece of code. For education purposes we will continue to use many logging statements in this notebook."
   ]
  },
  {
   "cell_type": "code",
   "execution_count": null,
   "metadata": {},
   "outputs": [],
   "source": []
  },
  {
   "cell_type": "markdown",
   "metadata": {},
   "source": [
    "<a href=\"#antw2\">Answer exercise 2</a>\n",
    "\n",
    "<hr>"
   ]
  },
  {
   "cell_type": "markdown",
   "metadata": {},
   "source": [
    "## 3. [Levels](#top)<a id=\"3\"></a>"
   ]
  },
  {
   "cell_type": "markdown",
   "metadata": {},
   "source": [
    "The logs you create with the `logging` module always have a certain level, the \"log level\". This level indicates the importance of the log. By giving the logs a level you can choose later at which level you want to show the logs. The `logging` module has the following default levels:\n",
    "1. DEBUG\n",
    "2. INFO\n",
    "3. WARNING\n",
    "4. ERROR\n",
    "5. CRITICAL\n",
    "\n",
    "The logs in level 5 'CRITICAL' are always important while the logs in level 1 'DEBUG' are only important if you want to see a lot of detailed information, e.g. when you are debugging.\n",
    "\n",
    "In the previous example we've created logs at log level 'INFO'. Below we've created a function with logs on different levels. When calling the function we see the log level at the start of the log message."
   ]
  },
  {
   "cell_type": "code",
   "execution_count": 5,
   "metadata": {},
   "outputs": [],
   "source": [
    "def simple_func(shape_a):\n",
    "    \"\"\" function does two things:\n",
    "    1. create an array a with random integer values between 0 and 10, and shape defind by 'shape_a'\n",
    "    2. compute array b where each element is the sum of the element in array a and the index number \n",
    "    of that element.\n",
    "    \n",
    "    Parameters\n",
    "    ----------\n",
    "    shape_a : int\n",
    "        shape of array a\n",
    "    \n",
    "    Returns\n",
    "    -------\n",
    "    b : np.ndarray\n",
    "        output array\n",
    "    \"\"\"\n",
    "    logging.debug('start simple_func')\n",
    "    logging.info(f'shape_a is {shape_a}')\n",
    "    \n",
    "    logging.debug('get array a')\n",
    "    a = np.random.randint(0, 10, shape_a)\n",
    "    logging.info(f'array a = {a}')\n",
    "\n",
    "    if a.ndim > 1:\n",
    "        logging.error(f'expected an array with 1 dimension got {a.ndim}')\n",
    "        raise ValueError()\n",
    "    \n",
    "    if a.shape[0]>1000:\n",
    "        logging.warning(f'array a has more than 1000 elements computing b can be slow')\n",
    "    \n",
    "    logging.debug(f'compute array b from a')\n",
    "    b = np.ones_like(a)    \n",
    "    for i, val in enumerate(a):\n",
    "        b[i] = val + i\n",
    "\n",
    "    logging.info(f'array b = {b}')\n",
    "    return b"
   ]
  },
  {
   "cell_type": "code",
   "execution_count": 6,
   "metadata": {},
   "outputs": [
    {
     "name": "stderr",
     "output_type": "stream",
     "text": [
      "DEBUG:root:start simple_func\n",
      "INFO:root:shape_a is 1001\n",
      "DEBUG:root:get array a\n",
      "INFO:root:array a = [2 0 7 ... 7 7 8]\n",
      "WARNING:root:array a has more than 1000 elements computing b can be slow\n",
      "DEBUG:root:compute array b from a\n",
      "INFO:root:array b = [   2    1    9 ... 1005 1006 1008]\n"
     ]
    },
    {
     "data": {
      "text/plain": [
       "array([   2,    1,    9, ..., 1005, 1006, 1008])"
      ]
     },
     "execution_count": 6,
     "metadata": {},
     "output_type": "execute_result"
    }
   ],
   "source": [
    "simple_func(1001)"
   ]
  },
  {
   "cell_type": "code",
   "execution_count": 7,
   "metadata": {},
   "outputs": [
    {
     "name": "stderr",
     "output_type": "stream",
     "text": [
      "DEBUG:root:start simple_func\n",
      "INFO:root:shape_a is (2, 5)\n",
      "DEBUG:root:get array a\n",
      "INFO:root:array a = [[3 4 8 5 6]\n",
      " [3 6 6 9 9]]\n",
      "ERROR:root:expected an array with 1 dimension got 2\n"
     ]
    },
    {
     "ename": "ValueError",
     "evalue": "",
     "output_type": "error",
     "traceback": [
      "\u001b[1;31m---------------------------------------------------------------------------\u001b[0m",
      "\u001b[1;31mValueError\u001b[0m                                Traceback (most recent call last)",
      "\u001b[1;32m<ipython-input-7-7d683f8c2d02>\u001b[0m in \u001b[0;36m<module>\u001b[1;34m\u001b[0m\n\u001b[1;32m----> 1\u001b[1;33m \u001b[0msimple_func\u001b[0m\u001b[1;33m(\u001b[0m\u001b[1;33m(\u001b[0m\u001b[1;36m2\u001b[0m\u001b[1;33m,\u001b[0m\u001b[1;36m5\u001b[0m\u001b[1;33m)\u001b[0m\u001b[1;33m)\u001b[0m\u001b[1;33m\u001b[0m\u001b[1;33m\u001b[0m\u001b[0m\n\u001b[0m",
      "\u001b[1;32m<ipython-input-5-50ca0afb3a2e>\u001b[0m in \u001b[0;36msimple_func\u001b[1;34m(shape_a)\u001b[0m\n\u001b[0;32m     24\u001b[0m     \u001b[1;32mif\u001b[0m \u001b[0ma\u001b[0m\u001b[1;33m.\u001b[0m\u001b[0mndim\u001b[0m \u001b[1;33m>\u001b[0m \u001b[1;36m1\u001b[0m\u001b[1;33m:\u001b[0m\u001b[1;33m\u001b[0m\u001b[1;33m\u001b[0m\u001b[0m\n\u001b[0;32m     25\u001b[0m         \u001b[0mlogging\u001b[0m\u001b[1;33m.\u001b[0m\u001b[0merror\u001b[0m\u001b[1;33m(\u001b[0m\u001b[1;34mf'expected an array with 1 dimension got {a.ndim}'\u001b[0m\u001b[1;33m)\u001b[0m\u001b[1;33m\u001b[0m\u001b[1;33m\u001b[0m\u001b[0m\n\u001b[1;32m---> 26\u001b[1;33m         \u001b[1;32mraise\u001b[0m \u001b[0mValueError\u001b[0m\u001b[1;33m(\u001b[0m\u001b[1;33m)\u001b[0m\u001b[1;33m\u001b[0m\u001b[1;33m\u001b[0m\u001b[0m\n\u001b[0m\u001b[0;32m     27\u001b[0m \u001b[1;33m\u001b[0m\u001b[0m\n\u001b[0;32m     28\u001b[0m     \u001b[1;32mif\u001b[0m \u001b[0ma\u001b[0m\u001b[1;33m.\u001b[0m\u001b[0mshape\u001b[0m\u001b[1;33m[\u001b[0m\u001b[1;36m0\u001b[0m\u001b[1;33m]\u001b[0m\u001b[1;33m>\u001b[0m\u001b[1;36m1000\u001b[0m\u001b[1;33m:\u001b[0m\u001b[1;33m\u001b[0m\u001b[1;33m\u001b[0m\u001b[0m\n",
      "\u001b[1;31mValueError\u001b[0m: "
     ]
    }
   ],
   "source": [
    "simple_func((2,5))"
   ]
  },
  {
   "cell_type": "markdown",
   "metadata": {},
   "source": [
    "#### set log level\n",
    "\n",
    "Je kan kiezen welke logs worden weergegeven door het log level in te stellen:\n",
    "```\n",
    "logging.getLogger().setLevel(logging.<log_level>)\n",
    "```\n",
    "Vervang in bovenstaande code `<log_level>` door de naam van het log level, bijv. `INFO`. Nadat de instellingen zijn aangepast worden enkel nog de logs van het gekozen level en hoger getoond. In onderstaande voorbeelden kan je zien welke logs worden getoond bij verschillende log levels. "
   ]
  },
  {
   "cell_type": "code",
   "execution_count": 8,
   "metadata": {},
   "outputs": [
    {
     "name": "stderr",
     "output_type": "stream",
     "text": [
      "INFO:root:shape_a is 1001\n",
      "INFO:root:array a = [6 5 6 ... 6 3 4]\n",
      "WARNING:root:array a has more than 1000 elements computing b can be slow\n",
      "INFO:root:array b = [   6    6    8 ... 1004 1002 1004]\n"
     ]
    },
    {
     "data": {
      "text/plain": [
       "array([   6,    6,    8, ..., 1004, 1002, 1004])"
      ]
     },
     "execution_count": 8,
     "metadata": {},
     "output_type": "execute_result"
    }
   ],
   "source": [
    "logging.getLogger().setLevel(logging.INFO)\n",
    "simple_func(1001)"
   ]
  },
  {
   "cell_type": "code",
   "execution_count": 9,
   "metadata": {},
   "outputs": [
    {
     "data": {
      "text/plain": [
       "array([   6,    7,    8, ...,  999, 1005, 1009])"
      ]
     },
     "execution_count": 9,
     "metadata": {},
     "output_type": "execute_result"
    }
   ],
   "source": [
    "logging.getLogger().setLevel(logging.ERROR)\n",
    "simple_func(1001)"
   ]
  },
  {
   "cell_type": "code",
   "execution_count": 10,
   "metadata": {},
   "outputs": [
    {
     "name": "stderr",
     "output_type": "stream",
     "text": [
      "ERROR:root:expected an array with 1 dimension got 2\n"
     ]
    },
    {
     "ename": "ValueError",
     "evalue": "",
     "output_type": "error",
     "traceback": [
      "\u001b[1;31m---------------------------------------------------------------------------\u001b[0m",
      "\u001b[1;31mValueError\u001b[0m                                Traceback (most recent call last)",
      "\u001b[1;32m<ipython-input-10-7be45b784b42>\u001b[0m in \u001b[0;36m<module>\u001b[1;34m\u001b[0m\n\u001b[0;32m      1\u001b[0m \u001b[0mlogging\u001b[0m\u001b[1;33m.\u001b[0m\u001b[0mgetLogger\u001b[0m\u001b[1;33m(\u001b[0m\u001b[1;33m)\u001b[0m\u001b[1;33m.\u001b[0m\u001b[0msetLevel\u001b[0m\u001b[1;33m(\u001b[0m\u001b[0mlogging\u001b[0m\u001b[1;33m.\u001b[0m\u001b[0mERROR\u001b[0m\u001b[1;33m)\u001b[0m\u001b[1;33m\u001b[0m\u001b[1;33m\u001b[0m\u001b[0m\n\u001b[1;32m----> 2\u001b[1;33m \u001b[0msimple_func\u001b[0m\u001b[1;33m(\u001b[0m\u001b[1;33m(\u001b[0m\u001b[1;36m2\u001b[0m\u001b[1;33m,\u001b[0m\u001b[1;36m5\u001b[0m\u001b[1;33m)\u001b[0m\u001b[1;33m)\u001b[0m\u001b[1;33m\u001b[0m\u001b[1;33m\u001b[0m\u001b[0m\n\u001b[0m",
      "\u001b[1;32m<ipython-input-5-50ca0afb3a2e>\u001b[0m in \u001b[0;36msimple_func\u001b[1;34m(shape_a)\u001b[0m\n\u001b[0;32m     24\u001b[0m     \u001b[1;32mif\u001b[0m \u001b[0ma\u001b[0m\u001b[1;33m.\u001b[0m\u001b[0mndim\u001b[0m \u001b[1;33m>\u001b[0m \u001b[1;36m1\u001b[0m\u001b[1;33m:\u001b[0m\u001b[1;33m\u001b[0m\u001b[1;33m\u001b[0m\u001b[0m\n\u001b[0;32m     25\u001b[0m         \u001b[0mlogging\u001b[0m\u001b[1;33m.\u001b[0m\u001b[0merror\u001b[0m\u001b[1;33m(\u001b[0m\u001b[1;34mf'expected an array with 1 dimension got {a.ndim}'\u001b[0m\u001b[1;33m)\u001b[0m\u001b[1;33m\u001b[0m\u001b[1;33m\u001b[0m\u001b[0m\n\u001b[1;32m---> 26\u001b[1;33m         \u001b[1;32mraise\u001b[0m \u001b[0mValueError\u001b[0m\u001b[1;33m(\u001b[0m\u001b[1;33m)\u001b[0m\u001b[1;33m\u001b[0m\u001b[1;33m\u001b[0m\u001b[0m\n\u001b[0m\u001b[0;32m     27\u001b[0m \u001b[1;33m\u001b[0m\u001b[0m\n\u001b[0;32m     28\u001b[0m     \u001b[1;32mif\u001b[0m \u001b[0ma\u001b[0m\u001b[1;33m.\u001b[0m\u001b[0mshape\u001b[0m\u001b[1;33m[\u001b[0m\u001b[1;36m0\u001b[0m\u001b[1;33m]\u001b[0m\u001b[1;33m>\u001b[0m\u001b[1;36m1000\u001b[0m\u001b[1;33m:\u001b[0m\u001b[1;33m\u001b[0m\u001b[1;33m\u001b[0m\u001b[0m\n",
      "\u001b[1;31mValueError\u001b[0m: "
     ]
    }
   ],
   "source": [
    "logging.getLogger().setLevel(logging.ERROR)\n",
    "simple_func((2,5))"
   ]
  },
  {
   "cell_type": "markdown",
   "metadata": {},
   "source": [
    "<hr>\n",
    "\n",
    "#### Exercise 3 <a name=\"opdr3\"></a>\n",
    "\n",
    "Change the log levels in the function from exercise 1 & 2. Choose an appropiate log level. Check the logs by calling the function."
   ]
  },
  {
   "cell_type": "code",
   "execution_count": null,
   "metadata": {},
   "outputs": [],
   "source": []
  },
  {
   "cell_type": "markdown",
   "metadata": {},
   "source": [
    "<a href=\"#antw3\">Answer exercise 3</a>\n",
    "\n",
    "<hr>"
   ]
  },
  {
   "cell_type": "markdown",
   "metadata": {},
   "source": [
    "#### Exercise 4<a name=\"opdr4\"></a>\n",
    "\n",
    "Use the function from exercise 3, add a warning if the function argument is not a numpy array. You can use this stackoverflow post to see how to do the numpy type checking: https://stackoverflow.com/questions/59279803/how-to-check-if-an-object-is-an-np-arrayb"
   ]
  },
  {
   "cell_type": "code",
   "execution_count": null,
   "metadata": {},
   "outputs": [],
   "source": []
  },
  {
   "cell_type": "markdown",
   "metadata": {},
   "source": [
    "<a href=\"#antw4\">Answer Exercise 4</a>\n",
    "\n",
    "<hr>"
   ]
  },
  {
   "cell_type": "markdown",
   "metadata": {},
   "source": [
    "## 4. [log to file](#top)<a id=\"4\"></a>\n",
    "\n",
    "Both the `print` function and the `logging` module write the logs to the consule, which is shown at the output of every Jupyter Notebook cell. With the `logging` module it is easy to write the logs to a file instead. We can define this in the `basicConfig` settings from [chapter 2](#2).\n",
    "\n",
    "Once the `basicConfig` is set we cannot change the settings anymore. This is on purpose to prevent other packages changing your log module settings. When you do want to modify the settings you should restart the kernel and reload the `logging` module. Below we add a neat trick by using the `reload` function. When we reload the `logging` module we can reset the `basicConfig` settings. When you are going to use the `logging` module yourself it is adviced not to use the `reload` function."
   ]
  },
  {
   "cell_type": "code",
   "execution_count": 14,
   "metadata": {},
   "outputs": [],
   "source": [
    "from importlib import reload\n",
    "reload(logging)\n",
    "logging.basicConfig(filename='example.log', level=logging.DEBUG)"
   ]
  },
  {
   "cell_type": "markdown",
   "metadata": {},
   "source": [
    "After runnign the code the file `example.log` is created in the same directory as this notebook. If you open the file with a text editor you will see it is still empty."
   ]
  },
  {
   "cell_type": "code",
   "execution_count": 15,
   "metadata": {},
   "outputs": [],
   "source": [
    "logging.info('this is the log text and is written to the log file')"
   ]
  },
  {
   "cell_type": "markdown",
   "metadata": {},
   "source": [
    "When you run the code above and reopen the `example.log` file you will see this line in the file:\n",
    "```\n",
    "INFO:root:this is the log text and is written to the log file\n",
    "```\n",
    "Every next log message is automatically written to the same file."
   ]
  },
  {
   "cell_type": "code",
   "execution_count": 16,
   "metadata": {},
   "outputs": [],
   "source": [
    "logging.info('this line will also appear in the log file')"
   ]
  },
  {
   "cell_type": "markdown",
   "metadata": {},
   "source": [
    "After running the cel above the file will look like this:\n",
    "```\n",
    "INFO:root:this is the log text and is written to the log file\n",
    "INFO:root:this line will also appear in the log file\n",
    "```\n",
    "\n",
    "Watch out! If you run the same code twice the log message will be written twice to the `example.log` file."
   ]
  },
  {
   "cell_type": "markdown",
   "metadata": {},
   "source": [
    "<hr>\n",
    "\n",
    "#### Exercise 5<a name=\"opdr5\"></a>\n",
    "\n",
    "Create your own log file and call the function `simple_func` from [chapter 3](#3). Make sure the 'DEBUG' logs are not written to the same file."
   ]
  },
  {
   "cell_type": "code",
   "execution_count": null,
   "metadata": {},
   "outputs": [],
   "source": []
  },
  {
   "cell_type": "markdown",
   "metadata": {},
   "source": [
    "<a href=\"#antw5\">Answer exercise 5</a>\n",
    "\n",
    "<hr>"
   ]
  },
  {
   "cell_type": "markdown",
   "metadata": {},
   "source": [
    "### filemode\n",
    "\n",
    "After choosing a filename you can also specify in the `basicConfig` what happens when the log file already exists. This is specified with the `filemode` argument. The default settings for `filemode` is `'a'` (append), this implies that the existing log file is kept and new logs are appended to the existing. It is also possible to choose `filemode='w'` (write). Then the existing log file is replaced with a new empty log file so only new logs are shown. See two examples below with the filemodes 'w' en 'a'."
   ]
  },
  {
   "cell_type": "code",
   "execution_count": 18,
   "metadata": {},
   "outputs": [],
   "source": [
    "from importlib import reload\n",
    "reload(logging)\n",
    "logging.basicConfig(filename='example.log', filemode='w', level=logging.DEBUG)"
   ]
  },
  {
   "cell_type": "code",
   "execution_count": 19,
   "metadata": {},
   "outputs": [],
   "source": [
    "logging.info('This is the first log in the example.log file')\n"
   ]
  },
  {
   "cell_type": "code",
   "execution_count": 20,
   "metadata": {},
   "outputs": [],
   "source": [
    "from importlib import reload\n",
    "reload(logging)\n",
    "logging.basicConfig(filename='example.log', filemode='a', level=logging.DEBUG)"
   ]
  },
  {
   "cell_type": "code",
   "execution_count": 21,
   "metadata": {},
   "outputs": [],
   "source": [
    "logging.info('This is the second line in the example.log file')"
   ]
  },
  {
   "cell_type": "markdown",
   "metadata": {},
   "source": [
    "## 5. [Log format](#top)<a id=\"5\"></a>\n",
    "\n",
    "In the `basicConfig` we can also set the log format. We can choose to add a date, time, log level and logger name to each log. Below some examples on how to add this information."
   ]
  },
  {
   "cell_type": "code",
   "execution_count": 22,
   "metadata": {},
   "outputs": [],
   "source": [
    "import logging\n",
    "logging.basicConfig(format='%(levelname)s %(asctime)s %(message)s', \n",
    "                    datefmt='%Y-%m-%d %I:%M:%S %p',\n",
    "                    level=logging.DEBUG)\n",
    "logging.info('this is my log message')"
   ]
  },
  {
   "cell_type": "code",
   "execution_count": 23,
   "metadata": {},
   "outputs": [
    {
     "name": "stderr",
     "output_type": "stream",
     "text": [
      "2022-09-14 10:09:32 PM is the time this message was logged\n"
     ]
    }
   ],
   "source": [
    "# voeg een datumtijd toe aan het log bericht\n",
    "from importlib import reload\n",
    "reload(logging)\n",
    "logging.basicConfig(format='%(asctime)s %(message)s', \n",
    "                    datefmt='%Y-%m-%d %I:%M:%S %p')\n",
    "logging.warning('is the time this message was logged')"
   ]
  },
  {
   "cell_type": "code",
   "execution_count": 24,
   "metadata": {},
   "outputs": [
    {
     "name": "stderr",
     "output_type": "stream",
     "text": [
      "WARNING <- this is my log level\n",
      "CRITICAL <- this is my log level\n"
     ]
    }
   ],
   "source": [
    "# voeg het log level (levelname) toe aan het log bericht\n",
    "from importlib import reload\n",
    "reload(logging)\n",
    "logging.basicConfig(format='%(levelname)s %(message)s')\n",
    "logging.warning('<- this is my log level')\n",
    "logging.critical('<- this is my log level')"
   ]
  },
  {
   "cell_type": "markdown",
   "metadata": {},
   "source": [
    "<hr>\n",
    "\n",
    "#### Exercise 6<a name=\"opdr6\"></a>\n",
    "\n",
    "Make sure the log messages from `simple_func` (see [chapter 3](#3)) are written to the file with the following information:\n",
    "- the time of the log in format HH:MM:SS\n",
    "- the log level"
   ]
  },
  {
   "cell_type": "code",
   "execution_count": null,
   "metadata": {},
   "outputs": [],
   "source": []
  },
  {
   "cell_type": "markdown",
   "metadata": {},
   "source": [
    "<a href=\"#antw5\">Answer exercise 6</a>\n",
    "\n",
    "<hr>"
   ]
  },
  {
   "cell_type": "markdown",
   "metadata": {},
   "source": [
    "## 6. [Logger name](#top)<a id=\"6\"></a>\n",
    "\n",
    "Sometimes it is usefull to know which package, module or function generated a certain log message. This is also possible with the logging module by creating multiple loggers. We do this in three steps:\n",
    "1. define a logger with logger name: `l = logging.getLogger('<logger name>')`\n",
    "2. create logs using the logger using `l.info('mijn log')` instead of the previously used `logging.info('mijn log')`\n",
    "3. modify the format in the `basicConfig` settings in such a way that the logger name is shown in the log message.\n",
    "\n",
    "Below we have two functions with examples.\n",
    "\n",
    "When you do not define a logger name en use `logging.info()` the logger name is automatically set to 'root'."
   ]
  },
  {
   "cell_type": "code",
   "execution_count": 25,
   "metadata": {},
   "outputs": [
    {
     "name": "stderr",
     "output_type": "stream",
     "text": [
      "root: INFO: testing the logger names per function\n",
      "function->remove_exclamation_mark: DEBUG: run function remove_exclamation_mark\n",
      "function->remove_exclamation_mark: DEBUG: check if input string has exclamation_marks\n",
      "function->remove_exclamation_mark: INFO: input string contains exclamation_marks\n",
      "function->remove_exclamation_mark: INFO: trying to remove exclamation mark\n",
      "function->replace_space_with_underscore: DEBUG: run function replace_space_with_underscore\n",
      "function->replace_space_with_underscore: DEBUG: check if input string has spaces\n",
      "function->replace_space_with_underscore: INFO: input string contains one or more spaces\n",
      "function->replace_space_with_underscore: INFO: trying to replace spaces with underscores\n",
      "function->remove_exclamation_mark: DEBUG: run function remove_exclamation_mark\n",
      "function->remove_exclamation_mark: DEBUG: check if input string has exclamation_marks\n",
      "function->remove_exclamation_mark: INFO: input string contains exclamation_marks\n",
      "function->remove_exclamation_mark: INFO: trying to remove exclamation mark\n",
      "function->replace_space_with_underscore: DEBUG: run function replace_space_with_underscore\n",
      "function->replace_space_with_underscore: DEBUG: check if input string has spaces\n",
      "function->replace_space_with_underscore: WARNING: input string has no spaces!\n",
      "function->replace_space_with_underscore: INFO: trying to replace spaces with underscores\n"
     ]
    }
   ],
   "source": [
    "def remove_exclamation_mark(s):\n",
    "    l = logging.getLogger('function->remove_exclamation_mark')\n",
    "    l.debug('run function remove_exclamation_mark')\n",
    "    \n",
    "    l.debug('check if input string has exclamation_marks')\n",
    "    if '!' in s:\n",
    "        l.info('input string contains exclamation_marks')\n",
    "    else:\n",
    "        l.warning('input string has no exclamation_marks!')\n",
    "    \n",
    "    l.info('trying to remove exclamation mark')\n",
    "    new_s = s.replace('!', '')\n",
    "    \n",
    "    return new_s\n",
    "    \n",
    "def replace_space_with_underscore(s):\n",
    "    l = logging.getLogger('function->replace_space_with_underscore')\n",
    "    l.debug('run function replace_space_with_underscore')\n",
    "    \n",
    "    l.debug('check if input string has spaces')\n",
    "    if ' ' in s:\n",
    "        l.info('input string contains one or more spaces')\n",
    "    else:\n",
    "        l.warning('input string has no spaces!')\n",
    "    \n",
    "    l.info('trying to replace spaces with underscores')\n",
    "    new_s = s.replace(' ', '_')\n",
    "    \n",
    "    return new_s  \n",
    "    \n",
    "# voeg de logger naam toe aan basicConfig\n",
    "from importlib import reload\n",
    "reload(logging)\n",
    "logging.basicConfig(format='%(name)s: %(levelname)s: %(message)s', datefmt='%I:%M:%S',\n",
    "                    level=logging.DEBUG)\n",
    "\n",
    "logging.info('testing the logger names per function')\n",
    "\n",
    "s = 'test string with spaces and an exclamation mark!'\n",
    "new_s = remove_exclamation_mark(s)\n",
    "new_s = replace_space_with_underscore(new_s)\n",
    "\n",
    "\n",
    "s = 'test_string_without_spaces!'\n",
    "new_s = remove_exclamation_mark(s)\n",
    "new_s = replace_space_with_underscore(new_s)"
   ]
  },
  {
   "cell_type": "markdown",
   "metadata": {},
   "source": [
    "NB: It is very uncommon to define seperate logger names for each function. There are often seperate loggers defined per module. The logger name is often set to the `__name__` variable that points to the name of the module."
   ]
  },
  {
   "cell_type": "code",
   "execution_count": 26,
   "metadata": {},
   "outputs": [
    {
     "name": "stderr",
     "output_type": "stream",
     "text": [
      "INFO:__main__:this is a log from the notebook\n",
      "INFO:example_module:running check_if_nummerical function inside the example_module\n"
     ]
    },
    {
     "data": {
      "text/plain": [
       "True"
      ]
     },
     "execution_count": 26,
     "metadata": {},
     "output_type": "execute_result"
    }
   ],
   "source": [
    "reload(logging)\n",
    "logging.basicConfig(level=logging.DEBUG)\n",
    "\n",
    "l = logging.getLogger(__name__)\n",
    "l.info('this is a log from the notebook')\n",
    "import example_module\n",
    "example_module.check_if_nummerical(6)"
   ]
  },
  {
   "cell_type": "markdown",
   "metadata": {},
   "source": [
    "## 7. [Advanced](#top)<a id=\"7\"></a>\n",
    "\n",
    "The logging module contains multiple possibilities to keep track of the logs. You can for example:\n",
    "- keep multiple log files to order different log messages\n",
    "- instead of creating a file sent the logs via an e-mail\n",
    "- create a seperate files with all the logger settings\n",
    "\n",
    "For more advanced logging features a [tutorial](https://docs.python.org/3/howto/logging.html#logging-advanced-tutorial) is available. More options for formatting you logs are shown [here](https://docs.python.org/3/library/logging.html#logrecord-attributes)."
   ]
  },
  {
   "cell_type": "markdown",
   "metadata": {},
   "source": [
    "## [Answers](#top)<a id=\"Antwoorden\"></a>"
   ]
  },
  {
   "cell_type": "markdown",
   "metadata": {},
   "source": [
    "<hr>\n",
    "\n",
    "#### <a href=\"#opdr1\">Answer exercise 1</a> <a name=\"antw1\"></a>\n",
    "\n"
   ]
  },
  {
   "cell_type": "code",
   "execution_count": 27,
   "metadata": {},
   "outputs": [
    {
     "name": "stdout",
     "output_type": "stream",
     "text": [
      "getting frequency bins of array [7 3 4 0 9 6 3 5 5 7] using 4 bins\n",
      "starting to compute bin_edges\n",
      "finished computing bin_edges, bin_edges are: [0.   3.25 5.   6.75 9.  ]\n",
      "compute frequency per bin_edge\n",
      "frequency per bin is [3 1 3 3]\n"
     ]
    }
   ],
   "source": [
    "import numpy as np\n",
    "\n",
    "def frequency_bins(arr, n_bins=4):\n",
    "    \"\"\" get the frequency of the numbers in an array within a number of bins. The boundaries of the bins are \n",
    "    created by the percentiles of the array.\n",
    "    \n",
    "    Parameters\n",
    "    ----------\n",
    "    arr : np.array of ints or float\n",
    "        numbers to divide into bins\n",
    "    n_bins : int\n",
    "        number of bins\n",
    "    \n",
    "    Returns\n",
    "    -------\n",
    "    count : np.array\n",
    "        the number of items in arr that are within the bin\n",
    "    bins : np.array\n",
    "        the boundaries of the bins\n",
    "    \"\"\"\n",
    "    print(f'getting frequency bins of array {arr} using {n_bins} bins')\n",
    "    \n",
    "    print('starting to compute bin_edges')\n",
    "    \n",
    "    bin_edges = np.zeros(n_bins+1)    \n",
    "    for i in range(n_bins+1):\n",
    "        percentile = i*100/n_bins\n",
    "        bin_edges[i] = np.percentile(arr, percentile)\n",
    "        \n",
    "    print(f'finished computing bin_edges, bin_edges are: {bin_edges}')\n",
    "    \n",
    "    print('compute frequency per bin_edge')\n",
    "    \n",
    "    count, _ = np.histogram(arr,bin_edges)\n",
    "    \n",
    "    print(f'frequency per bin is {count}')\n",
    "    \n",
    "    return count\n",
    "\n",
    "random_numbers = np.random.randint(0, 10, (10))\n",
    "\n",
    "count = frequency_bins(random_numbers)"
   ]
  },
  {
   "cell_type": "markdown",
   "metadata": {},
   "source": [
    "<hr>\n",
    "\n",
    "#### <a href=\"#opdr2\">Answer exercise 2</a> <a name=\"antw2\"></a>\n",
    "\n",
    "See function below"
   ]
  },
  {
   "cell_type": "code",
   "execution_count": 28,
   "metadata": {},
   "outputs": [
    {
     "name": "stderr",
     "output_type": "stream",
     "text": [
      "INFO:root:getting frequency bins of array [5 4 6 8 3 1 1 3 5 7] using 4 bins\n",
      "INFO:root:starting to compute bin_edges\n",
      "INFO:root:finished computing bin_edges, bin_edges are: [1.   3.   4.5  5.75 8.  ]\n",
      "INFO:root:compute frequency per bin_edge\n",
      "INFO:root:frequency per bin is [2 3 2 3]\n"
     ]
    }
   ],
   "source": [
    "import numpy as np\n",
    "\n",
    "def frequency_bins(arr, n_bins=4):\n",
    "    \"\"\" get the frequency of the numbers in an array within a number of bins. The boundaries of the bins are \n",
    "    created by the percentiles of the array.\n",
    "    \n",
    "    Parameters\n",
    "    ----------\n",
    "    arr : np.array of ints or float\n",
    "        numbers to divide into bins\n",
    "    n_bins : int\n",
    "        number of bins\n",
    "    \n",
    "    Returns\n",
    "    -------\n",
    "    count : np.array\n",
    "        the number of items in arr that are within the bin\n",
    "    bins : np.array\n",
    "        the boundaries of the bins\n",
    "    \"\"\"\n",
    "    logging.info(f'getting frequency bins of array {arr} using {n_bins} bins')\n",
    "    \n",
    "    logging.info('starting to compute bin_edges')\n",
    "    \n",
    "    bin_edges = np.zeros(n_bins+1)    \n",
    "    for i in range(n_bins+1):\n",
    "        percentile = i*100/n_bins\n",
    "        bin_edges[i] = np.percentile(arr, percentile)\n",
    "        \n",
    "    logging.info(f'finished computing bin_edges, bin_edges are: {bin_edges}')\n",
    "    \n",
    "    logging.info('compute frequency per bin_edge')\n",
    "    \n",
    "    count, _ = np.histogram(arr,bin_edges)\n",
    "    \n",
    "    logging.info(f'frequency per bin is {count}')\n",
    "    \n",
    "    return count\n",
    "\n",
    "random_numbers = np.random.randint(0, 10, (10))\n",
    "\n",
    "count = frequency_bins(random_numbers)"
   ]
  },
  {
   "cell_type": "markdown",
   "metadata": {},
   "source": [
    "<hr>\n",
    "\n",
    "#### <a href=\"#opdr3\">Answer exercise 3</a> <a name=\"antw3\"></a>\n",
    "\n",
    "See the function below and calling the function in the cells below."
   ]
  },
  {
   "cell_type": "code",
   "execution_count": 29,
   "metadata": {},
   "outputs": [],
   "source": [
    "import numpy as np\n",
    "\n",
    "def frequency_bins(arr, n_bins=4):\n",
    "    \"\"\" get the frequency of the numbers in an array within a number of bins. The boundaries of the bins are \n",
    "    created by the percentiles of the array.\n",
    "    \n",
    "    Parameters\n",
    "    ----------\n",
    "    arr : np.array of ints or float\n",
    "        numbers to divide into bins\n",
    "    n_bins : int\n",
    "        number of bins\n",
    "    \n",
    "    Returns\n",
    "    -------\n",
    "    count : np.array\n",
    "        the number of items in arr that are within the bin\n",
    "    bins : np.array\n",
    "        the boundaries of the bins\n",
    "    \"\"\"\n",
    "    logging.info(f'getting frequency bins of array {arr} using {n_bins} bins')\n",
    "    \n",
    "    logging.debug('starting to compute bin_edges')\n",
    "    \n",
    "    bin_edges = np.zeros(n_bins+1)    \n",
    "    for i in range(n_bins+1):\n",
    "        percentile = i*100/n_bins\n",
    "        bin_edges[i] = np.percentile(arr, percentile)\n",
    "        \n",
    "    logging.info(f'finished computing bin_edges, bin_edges are: {bin_edges}')\n",
    "    \n",
    "    logging.debug('compute frequency per bin_edge')\n",
    "    \n",
    "    count, _ = np.histogram(arr,bin_edges)\n",
    "    \n",
    "    logging.info(f'frequency per bin is {count}')\n",
    "    \n",
    "    return count"
   ]
  },
  {
   "cell_type": "code",
   "execution_count": 30,
   "metadata": {},
   "outputs": [
    {
     "name": "stderr",
     "output_type": "stream",
     "text": [
      "INFO:root:getting frequency bins of array [3 4 9 5 9 3 5 0 7 0] using 4 bins\n",
      "DEBUG:root:starting to compute bin_edges\n",
      "INFO:root:finished computing bin_edges, bin_edges are: [0.  3.  4.5 6.5 9. ]\n",
      "DEBUG:root:compute frequency per bin_edge\n",
      "INFO:root:frequency per bin is [2 3 2 3]\n"
     ]
    }
   ],
   "source": [
    "logging.getLogger().setLevel(logging.DEBUG)\n",
    "\n",
    "random_numbers = np.random.randint(0, 10, (10))\n",
    "count = frequency_bins(random_numbers)"
   ]
  },
  {
   "cell_type": "code",
   "execution_count": 31,
   "metadata": {},
   "outputs": [
    {
     "name": "stderr",
     "output_type": "stream",
     "text": [
      "INFO:root:getting frequency bins of array [1 5 2 6 2 9 5 6 4 6] using 4 bins\n",
      "INFO:root:finished computing bin_edges, bin_edges are: [1.  2.5 5.  6.  9. ]\n",
      "INFO:root:frequency per bin is [3 1 2 4]\n"
     ]
    }
   ],
   "source": [
    "logging.getLogger().setLevel(logging.INFO)\n",
    "random_numbers = np.random.randint(0, 10, (10))\n",
    "count = frequency_bins(random_numbers)"
   ]
  },
  {
   "cell_type": "markdown",
   "metadata": {},
   "source": [
    "<hr>\n",
    "\n",
    "#### <a href=\"#opdr4\">Answer exercise 4</a> <a name=\"antw4\"></a>\n",
    "\n",
    "See the function below."
   ]
  },
  {
   "cell_type": "code",
   "execution_count": 32,
   "metadata": {},
   "outputs": [],
   "source": [
    "import numpy as np\n",
    "\n",
    "def frequency_bins(arr, n_bins=4):\n",
    "    \"\"\" get the frequency of the numbers in an array within a number of bins. The boundaries of the bins are \n",
    "    created by the percentiles of the array.\n",
    "    \n",
    "    Parameters\n",
    "    ----------\n",
    "    arr : np.array of ints or float\n",
    "        numbers to divide into bins\n",
    "    n_bins : int\n",
    "        number of bins\n",
    "    \n",
    "    Returns\n",
    "    -------\n",
    "    count : np.array\n",
    "        the number of items in arr that are within the bin\n",
    "    bins : np.array\n",
    "        the boundaries of the bins\n",
    "    \"\"\"\n",
    "    if not isinstance(arr, np.ndarray):\n",
    "        logging.warning(f'Unexpected type of argument arr. Type is {type(arr)}, expected type {np.ndarray}.')\n",
    "    \n",
    "    \n",
    "    logging.info(f'getting frequency bins of array {arr} using {n_bins} bins')\n",
    "    \n",
    "    logging.debug('starting to compute bin_edges')\n",
    "    \n",
    "    bin_edges = np.zeros(n_bins+1)    \n",
    "    for i in range(n_bins+1):\n",
    "        percentile = i*100/n_bins\n",
    "        bin_edges[i] = np.percentile(arr, percentile)\n",
    "        \n",
    "    logging.info(f'finished computing bin_edges, bin_edges are: {bin_edges}')\n",
    "    \n",
    "    logging.debug('compute frequency per bin_edge')\n",
    "    \n",
    "    count, _ = np.histogram(arr,bin_edges)\n",
    "    \n",
    "    logging.info(f'frequency per bin is {count}')\n",
    "    \n",
    "    return count"
   ]
  },
  {
   "cell_type": "code",
   "execution_count": 33,
   "metadata": {},
   "outputs": [
    {
     "name": "stderr",
     "output_type": "stream",
     "text": [
      "WARNING:root:Unexpected type of argument arr. Type is <class 'list'>, expected type <class 'numpy.ndarray'>.\n"
     ]
    }
   ],
   "source": [
    "# check of warning zichtbaar is\n",
    "logging.getLogger().setLevel(logging.WARNING)\n",
    "random_numbers = np.random.randint(0, 10, (10))\n",
    "count = frequency_bins(random_numbers.tolist())"
   ]
  },
  {
   "cell_type": "markdown",
   "metadata": {},
   "source": [
    "<hr>\n",
    "\n",
    "#### <a href=\"#opdr5\">Answer exercise 5</a> <a name=\"antw5\"></a>\n",
    "\n",
    "See the code below, make sure to:\n",
    "- use `reload` to reload the `logging` module so you can change the settings of `basicConfig`.\n",
    "- It is not necesary to call `logging.getLogger().setLevel` to set the log level. The log level can be set directly in the `basicConfig` using `level=logging.INFO`."
   ]
  },
  {
   "cell_type": "code",
   "execution_count": 34,
   "metadata": {},
   "outputs": [
    {
     "data": {
      "text/plain": [
       "array([   7,    3,    3, ..., 1000, 1001, 1004])"
      ]
     },
     "execution_count": 34,
     "metadata": {},
     "output_type": "execute_result"
    }
   ],
   "source": [
    "from importlib import reload\n",
    "reload(logging)\n",
    "\n",
    "# definieer basicConfig\n",
    "logging.basicConfig(filename='my_log.txt', level=logging.INFO)\n",
    "\n",
    "# roep functie aan\n",
    "simple_func(1001)"
   ]
  },
  {
   "cell_type": "markdown",
   "metadata": {},
   "source": [
    "<hr>\n",
    "\n",
    "#### <a href=\"#opdr6\">Answer exercise 6</a> <a name=\"antw6\"></a>\n"
   ]
  },
  {
   "cell_type": "code",
   "execution_count": 36,
   "metadata": {},
   "outputs": [
    {
     "data": {
      "text/plain": [
       "array([   9,    1,   11, ..., 1000, 1008, 1000])"
      ]
     },
     "execution_count": 36,
     "metadata": {},
     "output_type": "execute_result"
    }
   ],
   "source": [
    "# add the log level (levelname)\n",
    "from importlib import reload\n",
    "reload(logging)\n",
    "\n",
    "# set basicConfig\n",
    "logging.basicConfig(format='%(asctime)s %(levelname)s %(message)s', datefmt='%H:%M:%S',\n",
    "                    filename='simple_func.log', filemode='w', level=logging.INFO)\n",
    "\n",
    "# call function\n",
    "simple_func(1001)"
   ]
  },
  {
   "cell_type": "markdown",
   "metadata": {},
   "source": [
    "## Acknowledgement\n",
    "\n",
    "the following sources were used to create this notebook:\n",
    "- https://docs.python.org/3/library/logging.html\n"
   ]
  }
 ],
 "metadata": {
  "kernelspec": {
   "display_name": "Python 3",
   "language": "python",
   "name": "python3"
  },
  "language_info": {
   "codemirror_mode": {
    "name": "ipython",
    "version": 3
   },
   "file_extension": ".py",
   "mimetype": "text/x-python",
   "name": "python",
   "nbconvert_exporter": "python",
   "pygments_lexer": "ipython3",
   "version": "3.7.6"
  }
 },
 "nbformat": 4,
 "nbformat_minor": 4
}
