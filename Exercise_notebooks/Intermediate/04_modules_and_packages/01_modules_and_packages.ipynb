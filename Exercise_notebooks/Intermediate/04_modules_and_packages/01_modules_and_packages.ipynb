{
 "cells": [
  {
   "cell_type": "markdown",
   "metadata": {},
   "source": [
    "<figure>\n",
    "   <IMG SRC=\"https://mamba-python.nl/images/logo_basis.png\" WIDTH=125 ALIGN=\"right\">\n",
    "</figure>\n",
    "\n",
    "# Modules and Packages\n",
    "_by Onno Ebbens_\n",
    "<hr>\n",
    "\n",
    "This notebook gives a brief introduction into building Python modules and packages. \n",
    "\n",
    "### Content<a id=\"top\"></a>\n",
    "1. [Packages & modules](#1)\n",
    "2. [Module structure](#structuur_mod)   \n",
    "3. [Package structure](#structuur_pack)\n",
    "4. [Package installation](#installatie)\n",
    "5. [Answers](#Antwoorden)"
   ]
  },
  {
   "cell_type": "markdown",
   "metadata": {},
   "source": [
    "## 1. [Packages & modules](#top)<a id=\"1\"></a>\n",
    "\n",
    "The terms packages and modules are often used interchangeably, however there is an important difference:\n",
    "- A module ia file with Python code and a .py extension.\n",
    "- A package is a directory with at least an `__init__.py` file and usually other .py files and/or directories. A Python package consist of one or more Pyhton modules.\n",
    "\n",
    "Both packagas and modules can be imported into a python script using the `import` statement."
   ]
  },
  {
   "cell_type": "markdown",
   "metadata": {},
   "source": [
    "### import module\n",
    "We import the module `example_module.py`. This file contains the code:\n",
    "```\n",
    "01    def my_add(argument1, argument2):\n",
    "02        \"\"\"\n",
    "03        adds two input arguments.\n",
    "04        \n",
    "05        Parameters\n",
    "06        ----------\n",
    "07        argument1 : int, float, str\n",
    "08            input argument 1\n",
    "09        argument2 : int, float, str\n",
    "10            input arguement 2\n",
    "11            \n",
    "12        Returns\n",
    "13        -------\n",
    "14        results : int, float or str\n",
    "15            the two added input arguments   \n",
    "16        \"\"\"\n",
    "17        result = argument1 + argument2\n",
    "18        return result\n",
    "```"
   ]
  },
  {
   "cell_type": "code",
   "execution_count": 5,
   "metadata": {},
   "outputs": [],
   "source": [
    "import example_module"
   ]
  },
  {
   "cell_type": "markdown",
   "metadata": {},
   "source": [
    "Now that we've imported the module we can use the function defined in the module."
   ]
  },
  {
   "cell_type": "code",
   "execution_count": 6,
   "metadata": {},
   "outputs": [
    {
     "data": {
      "text/plain": [
       "15"
      ]
     },
     "execution_count": 6,
     "metadata": {},
     "output_type": "execute_result"
    }
   ],
   "source": [
    "example_module.my_add(5,10)"
   ]
  },
  {
   "cell_type": "markdown",
   "metadata": {},
   "source": [
    "If you import a module using `import <module name>` Python will look for a file with the name `<module name>.py`. Python will always look in a number of predefined directories. These directories are defined in `sys.path`. The file `example_module.py` is in one of the directories listed in `sys.path` so Python will be able to import it.\n",
    "\n",
    "You can easily list the directories in `sys.path`."
   ]
  },
  {
   "cell_type": "code",
   "execution_count": null,
   "metadata": {},
   "outputs": [],
   "source": [
    "import sys\n",
    "sys.path"
   ]
  },
  {
   "cell_type": "markdown",
   "metadata": {},
   "source": [
    "\n",
    "\n",
    "**Attention!**<br>\n",
    "If you import a module Python will look in the `sys.path` directories one by one. The moment it finds the .py file with the requested name Python will stop looking and import the module. If you have multiple modules with the same name it can be hard to know which module from which directory was imported. Therefore it is advised to choose a unique name for you module. You can also find the path of the module using the `__file__` attribute of the module."
   ]
  },
  {
   "cell_type": "code",
   "execution_count": null,
   "metadata": {},
   "outputs": [],
   "source": [
    "print(f'module path is -> {example_module.__file__}')"
   ]
  },
  {
   "cell_type": "markdown",
   "metadata": {},
   "source": [
    "### Import package\n",
    "Importing a package is very similar to importing a module. When you import a package using `import <package name>` Python will look for a directory named `<package name>` with a module `__init__.py` inside. Similar to modules, Python will look for the package in the directories listed in `sys.path`.\n",
    "\n",
    "In the cell below we import a package named `somepackage`. Because a folder name `somepackage` is not available in any of the directories listed in `sys.path` we first add the directory (`example_package`) using `sys.path.append('example_package')`. After we've imported the package we call the `my_add` function defined in the package."
   ]
  },
  {
   "cell_type": "code",
   "execution_count": 7,
   "metadata": {},
   "outputs": [],
   "source": [
    "sys.path.append('example_package')\n",
    "import somepackage"
   ]
  },
  {
   "cell_type": "code",
   "execution_count": 8,
   "metadata": {},
   "outputs": [
    {
     "data": {
      "text/plain": [
       "15"
      ]
     },
     "execution_count": 8,
     "metadata": {},
     "output_type": "execute_result"
    }
   ],
   "source": [
    "somepackage.my_add(5, 10)"
   ]
  },
  {
   "cell_type": "markdown",
   "metadata": {},
   "source": [
    "## 2. [Module structure](#top)<a id=\"structuur_mod\"></a>"
   ]
  },
  {
   "cell_type": "markdown",
   "metadata": {},
   "source": [
    "You can define variables, functions and classes in a Python module. The module `example_module` that we've imported earlier only contains a single function. When you create a module it is imported to think about the module structure because there are many ways to structure the code inside a module. There are also some conventions regarding the module structure:\n",
    "- Put all the import statements at the top of the .py file. This way it is clear which packages, classes, functions and submodules will be used.\n",
    "- Create a [docstring](https://www.python.org/dev/peps/pep-0257) for each function and class inside the module.\n",
    "- The name of module should preferably be [short and lower case](https://www.python.org/dev/peps/pep-0008/#package-and-module-names)."
   ]
  },
  {
   "cell_type": "markdown",
   "metadata": {},
   "source": [
    "#### Exercise 1 <a name=\"opdr1\"></a>\n",
    "\n",
    "Create a module with a function that uses the `numpy.mean` function to determine the average of every column in this array:\n",
    "\n",
    "`[[1. 5. 8. 9.]\n",
    "  [9. 4. 3. 1.]]`\n",
    "  \n",
    "Make sure you get this result:\n",
    "\n",
    "`[5.  4.5 5.5 5. ]`\n",
    "\n",
    "Import your module and call the function. You shoul create the module in a text editor (e.g. notepad) outside of Jupyter Notebook."
   ]
  },
  {
   "cell_type": "code",
   "execution_count": 9,
   "metadata": {},
   "outputs": [],
   "source": [
    "import numpy as np\n",
    "# use this array to test your function.\n",
    "arr = np.array([[1., 5., 8., 9.],[9., 4., 3., 1.]])\n",
    "\n",
    "# import module and call your function"
   ]
  },
  {
   "cell_type": "markdown",
   "metadata": {},
   "source": [
    "<a href=\"#antw1\">Answer exercise 1</a>"
   ]
  },
  {
   "cell_type": "markdown",
   "metadata": {},
   "source": [
    "When a module is imported all code inside the module is ran. Therefore a module should not contain parts of a script but only variable, function and class defenitions. When there are still scripts inside the module they are evaluated when importing the module.\n",
    "\n",
    "Below we import the module `example_module2`, this module still has a bit of code (`print(my_add(2,4))`) inside. When we import the module the code is evaluated and you can see the integer 6 is printed."
   ]
  },
  {
   "cell_type": "code",
   "execution_count": 10,
   "metadata": {},
   "outputs": [
    {
     "name": "stdout",
     "output_type": "stream",
     "text": [
      "6\n"
     ]
    }
   ],
   "source": [
    "import example_module2"
   ]
  },
  {
   "cell_type": "markdown",
   "metadata": {},
   "source": [
    "#### Bonus exercise 1 <a name=\"bonus1\"></a>\n",
    "\n",
    "For this exercise you need to do some research for yourself. You don't need to answer this exercise to understand the rest of this notebook. Nevertheless, it can be useful to gain some background knowledge.\n",
    "\n",
    "Modify the file `example_module2.py` in such a way that `print(my_add(2,4))` is only evaluated when this module is ran as the main module and not when it is imported. Use the code `if __name__ == '__main__':` and [this stackoverflow question](https://stackoverflow.com/questions/419163/what-does-if-name-main-do).\n",
    "\n",
    "Tip: If you try to import a module that has already been imported, Python will not import it again but reuse the previously imported module from memory. The code in the module will not be evaluated again. If you modify the module you should restart the kernel before importing again to see if the modification was done correctly."
   ]
  },
  {
   "cell_type": "code",
   "execution_count": null,
   "metadata": {},
   "outputs": [],
   "source": []
  },
  {
   "cell_type": "markdown",
   "metadata": {},
   "source": [
    "<a href=\"#antwbonus1\">Answer bonus exercise 1</a>"
   ]
  },
  {
   "cell_type": "markdown",
   "metadata": {},
   "source": [
    "#### Dependencies\n",
    "\n",
    "In the module that you've created for the first exercise you call a function from the `numpy` package. The module has become dependent on the `numpy` package so we say the `numpy` is one of the dependencies.\n",
    "\n",
    "When you create modules and packages it is important to think about the dependencies because:\n",
    "- Everyone that uses your module/package should install the dependencies. Some packages are hard to install. If your module/pakcage has a dependency on this package your module/package becomes hard to install as well.\n",
    "- Packages are continuously modified and updated. Changes to your dependencies could break your module/package. So the more dependecies you have the more time it takes to maintain your package with the newest versions."
   ]
  },
  {
   "cell_type": "markdown",
   "metadata": {},
   "source": [
    "## 3. [Package structure](#top)<a id=\"structuur_pack\"></a>\n",
    "\n",
    "The structure of a Python package determines how you can call functions and classes from within the package. The package `somepackage` that we've imported earlier has the following structure:\n",
    "\n",
    "```\n",
    "somepackage/\n",
    "    __init__.py\n",
    "    add.py\n",
    "    shout.py\n",
    "    version.py\n",
    "```\n",
    "\n",
    "#### `__init__.py`\n",
    "The `__init__.py` file in the \"somepackage\" directory is the constructor of the package. This file lists all the modules, functions, classes and variables that are part of the package. Our `__init__.py` file contains this code:\n",
    "\n",
    "```\n",
    "01    from .version import __version__\n",
    "02    from .add import my_add\n",
    "03    from . import shout\n",
    "```\n",
    "\n",
    "This implies that the package contains a variable (`__version__`), function (`my_add`) and a module (`shout`). When we import something in a package we use the dot (`.`) notation to indicate that for this import we only want to look for modules/packages within the same directory as the `__init__.py` file and not within all the directories listed in `sys.path`. Using the dot (`.`) notation is recommended because it is more explicit which modules can be imported. Below we explain line by line what happens in the `__init__.py` file."
   ]
  },
  {
   "cell_type": "markdown",
   "metadata": {},
   "source": [
    "**`01    from .version import __version__`**\n",
    "\n",
    "This line indicates that we want to import the `__version__` variable from the `version` module. This variable becomes an attribute of the package and can be accessed using  `somepackage.__version__`. This is the standard way to define a package version."
   ]
  },
  {
   "cell_type": "code",
   "execution_count": 11,
   "metadata": {},
   "outputs": [
    {
     "name": "stdout",
     "output_type": "stream",
     "text": [
      "somepackage version is 1.2.3\n"
     ]
    }
   ],
   "source": [
    "print(f'somepackage version is {somepackage.__version__}')"
   ]
  },
  {
   "cell_type": "code",
   "execution_count": 12,
   "metadata": {},
   "outputs": [
    {
     "name": "stdout",
     "output_type": "stream",
     "text": [
      "numpy version is 1.22.3\n",
      "re version is 2.2.1\n"
     ]
    }
   ],
   "source": [
    "# Most of the Python packages use the __version__ attribute\n",
    "import numpy as np\n",
    "print(f'numpy version is {np.__version__}')\n",
    "import re\n",
    "print(f're version is {re.__version__}')"
   ]
  },
  {
   "cell_type": "markdown",
   "metadata": {},
   "source": [
    "**`02    from .add import my_add`**\n",
    "\n",
    "We import the `my_add` function from the `add` module. After we can call the function as part of `somepackage`."
   ]
  },
  {
   "cell_type": "code",
   "execution_count": 13,
   "metadata": {},
   "outputs": [
    {
     "data": {
      "text/plain": [
       "15"
      ]
     },
     "execution_count": 13,
     "metadata": {},
     "output_type": "execute_result"
    }
   ],
   "source": [
    "somepackage.my_add(5,10)"
   ]
  },
  {
   "cell_type": "markdown",
   "metadata": {},
   "source": [
    "**`03    from . import shout`**\n",
    "\n",
    "We import the `shout` module. The `shout` module becomes a submodule of the `somepackage`. The function `should_and_repeat` which is defined in the `shout` module can be called using the code below."
   ]
  },
  {
   "cell_type": "code",
   "execution_count": 15,
   "metadata": {},
   "outputs": [
    {
     "data": {
      "text/plain": [
       "'WHAT A LOVELY PACKAGE IT IS WHAT A LOVELY PACKAGE IT IS '"
      ]
     },
     "execution_count": 15,
     "metadata": {},
     "output_type": "execute_result"
    }
   ],
   "source": [
    "somepackage.shout.shout_and_repeat(\"what a lovely package it is \")"
   ]
  },
  {
   "cell_type": "markdown",
   "metadata": {},
   "source": [
    "#### Exercise 2 <a name=\"opdr2\"></a>\n",
    "\n",
    "The `somepackage` directory contains a file named `visualise.py`. In this file we define the function `make_wordcloud`. Add the `visualise` module to `somepackage` so you can create a wordcloud with the code below.\n",
    "\n",
    "Tip: If you modify a package and want to import it again you should restart the kernel. When you forget to do this the old version of the package remains in memory and the modified code is not available."
   ]
  },
  {
   "cell_type": "code",
   "execution_count": null,
   "metadata": {},
   "outputs": [],
   "source": [
    "%matplotlib inline\n",
    "a = somepackage.shout.shout_and_repeat(\"what a lovely package it is \")\n",
    "tst = somepackage.visualise.make_wordcloud(a);"
   ]
  },
  {
   "cell_type": "markdown",
   "metadata": {},
   "source": [
    "<a href=\"#antw2\">Answer exercise 2</a>"
   ]
  },
  {
   "cell_type": "markdown",
   "metadata": {},
   "source": [
    "#### Exercise 3<a name=\"opdr3\"></a>\n",
    "Do the same as for exercise 2, only now add only the `make_wordcloud` function to the `somepakcage` instead of the full `visualise` module. You should be able to get the same results using the code below."
   ]
  },
  {
   "cell_type": "code",
   "execution_count": null,
   "metadata": {},
   "outputs": [],
   "source": [
    "%matplotlib inline\n",
    "a = somepackage.shout.shout_and_repeat(\"what a lovely package it is \")\n",
    "tst = somepackage.make_wordcloud(a);"
   ]
  },
  {
   "cell_type": "markdown",
   "metadata": {},
   "source": [
    "<a href=\"#antw3\">Answer exercise 3</a>"
   ]
  },
  {
   "cell_type": "markdown",
   "metadata": {},
   "source": [
    "#### Functions or modules?\n",
    "\n",
    "In the previous exercises you've seen that there are many ways to add a function to a package. You can add the whole module as a submodule or only add a certain function. Which way is the best depends on how you want to use the package.\n",
    "\n",
    "When you create a package with the goal of performing a single operation it is useful to explicitly import the function in the `__init__.py`. The `wordcloud` package is an example of this.\n",
    "\n",
    "There are also many package with a set of tools. An example of that is the `numpy` package. With such a package people often choose to add a whole set of functions and submodule in the `__init__.py` file.\n",
    "\n",
    "In the end it is up to you to create a clear structure for your package. "
   ]
  },
  {
   "cell_type": "markdown",
   "metadata": {},
   "source": [
    "## 4. [Installation](#top)<a id=\"installatie\"></a>\n",
    "\n",
    "Previously we imported `somepackage` without ever have installed it. When we use a package more often, from multiple scripts with different people it is useful to install a package. Installing a package implies that:\n",
    "1. The package is added to a central directory with package. This directory should be part of the directories listed in `sys.path` so that we can later import the package without modifying `sys.path`.\n",
    "2. The dependencies of the package are installed as well. It is possible to specify a certain version of a dependent package that should be installed.\n",
    "\n",
    "Installation of a package is often done using `pip` (Package installer for Python). A package that can be installed using pip should contain a `setup.py` file. In the directory `example_package` we show an example of a `setup.py` file. When we want to install `somepackage` using the `setup.py` file we navigate in (anaconda) prompt to the directory `example_package` and type `pip install -e .`. If everything was done correctly we get this output in the (anaconda) prompt:\n",
    "\n",
    "```\n",
    "Obtaining file:///C:/Users/onno_/02_git_repos/course-material/practical_examples/08_modules_and_packages/example_package\n",
    "Requirement already satisfied: matplotlib>=3.0 in c:\\anaconda3\\lib\\site-packages (from somepackage==1.2.3) (3.1.3)\n",
    "Requirement already satisfied: wordcloud>=1.8.1 in c:\\anaconda3\\lib\\site-packages (from somepackage==1.2.3) (1.8.1)\n",
    "Requirement already satisfied: pyparsing!=2.0.4,!=2.1.2,!=2.1.6,>=2.0.1 in c:\\anaconda3\\lib\\site-packages (from matplotlib>=3.0->somepackage==1.2.3) (2.4.6)\n",
    "Requirement already satisfied: python-dateutil>=2.1 in c:\\anaconda3\\lib\\site-packages (from matplotlib>=3.0->somepackage==1.2.3) (2.8.1)\n",
    "Requirement already satisfied: numpy>=1.11 in c:\\anaconda3\\lib\\site-packages (from matplotlib>=3.0->somepackage==1.2.3) (1.18.1)\n",
    "Requirement already satisfied: kiwisolver>=1.0.1 in c:\\anaconda3\\lib\\site-packages (from matplotlib>=3.0->somepackage==1.2.3) (1.1.0)\n",
    "Requirement already satisfied: cycler>=0.10 in c:\\anaconda3\\lib\\site-packages (from matplotlib>=3.0->somepackage==1.2.3) (0.10.0)\n",
    "Requirement already satisfied: pillow in c:\\anaconda3\\lib\\site-packages (from wordcloud>=1.8.1->somepackage==1.2.3) (7.0.0)\n",
    "Requirement already satisfied: six>=1.5 in c:\\anaconda3\\lib\\site-packages (from python-dateutil>=2.1->matplotlib>=3.0->somepackage==1.2.3) (1.14.0)\n",
    "Requirement already satisfied: setuptools in c:\\anaconda3\\lib\\site-packages (from kiwisolver>=1.0.1->matplotlib>=3.0->somepackage==1.2.3) (45.2.0.post20200210)\n",
    "Installing collected packages: somepackage\n",
    "  Running setup.py develop for somepackage\n",
    "Successfully installed somepackage\n",
    "```\n",
    "\n",
    "The output above can be explained when we have a closer look at the `setup.py` file. In line 27 we define two dependencies `matplotlib` and `wordcloud`. When installing `somepackage` pip checks first if these dependencies are already installed. We see this in the output of (anaconda) prompt. In our case both package were already installed so we get the notification `Requirement already satisfied: matplotlib...` & `Requirement already satisfied: wordcloud...`.\n",
    "\n",
    "After this we see a number of other checks for packages. These packages are dependencies of `matplotlib` and `wordcloud` (or the dependencies of the dependencies of `matplotlib`). So when we install a package all dependencies are checked and if necesary installed. In our case all the dependencies were already installed so we repeatedly get the message `Requirement already satisfied: ...`.\n",
    "\n",
    "The last package that will be installed is `somepackage` itself. When everything went smoothly we get:\n",
    "\n",
    "```\n",
    "Installing collected packages: somepackage\n",
    "  Running setup.py develop for somepackage\n",
    "Successfully installed somepackage\n",
    "```\n",
    "\n",
    "Now the package is installed and we can import the package from every Python script or Jupyter Notebook."
   ]
  },
  {
   "cell_type": "markdown",
   "metadata": {},
   "source": [
    "#### Exercise 4 <a name=\"opdr4\"></a>\n",
    "Create a new module with the function definition of `check_sentinment` shown below. Add this function to `somepackage`. Add the required dependencies to `setup.py`. Update the package version number to `1.2.4`, install the new package and check if the required dependencies are installed correctly. Finally check if you can run the code below succesfully."
   ]
  },
  {
   "cell_type": "code",
   "execution_count": 16,
   "metadata": {},
   "outputs": [],
   "source": [
    "from textblob import TextBlob\n",
    "\n",
    "def check_sentiment(text):\n",
    "    '''\n",
    "    checks the polarity and subjectivity of a message,\n",
    "    a polarity > 0 indicates a positive message, \n",
    "    a polirity < 0 indicates a negative message\n",
    "    \n",
    "    Parameters\n",
    "    ----------\n",
    "    text : str\n",
    "        text to analyse\n",
    "        \n",
    "    Returns\n",
    "    -------\n",
    "    textblob.en.sentiments.Sentiment\n",
    "        sentiment analysis of text\n",
    "    '''\n",
    "    \n",
    "    testimonial = TextBlob(text)\n",
    "    return testimonial.sentiment"
   ]
  },
  {
   "cell_type": "code",
   "execution_count": 17,
   "metadata": {},
   "outputs": [
    {
     "ename": "AttributeError",
     "evalue": "module 'somepackage' has no attribute 'check_sentiment'",
     "output_type": "error",
     "traceback": [
      "\u001b[1;31m---------------------------------------------------------------------------\u001b[0m",
      "\u001b[1;31mAttributeError\u001b[0m                            Traceback (most recent call last)",
      "\u001b[1;32m<ipython-input-17-0b60af25c373>\u001b[0m in \u001b[0;36m<module>\u001b[1;34m\u001b[0m\n\u001b[0;32m      1\u001b[0m \u001b[1;31m# code om te checken of je aangepaste package werkt\u001b[0m\u001b[1;33m\u001b[0m\u001b[1;33m\u001b[0m\u001b[1;33m\u001b[0m\u001b[0m\n\u001b[0;32m      2\u001b[0m \u001b[1;32mimport\u001b[0m \u001b[0msomepackage\u001b[0m\u001b[1;33m\u001b[0m\u001b[1;33m\u001b[0m\u001b[0m\n\u001b[1;32m----> 3\u001b[1;33m \u001b[0mprint\u001b[0m\u001b[1;33m(\u001b[0m\u001b[0msomepackage\u001b[0m\u001b[1;33m.\u001b[0m\u001b[0mcheck_sentiment\u001b[0m\u001b[1;33m(\u001b[0m\u001b[1;34m\"This package is amazing!\"\u001b[0m\u001b[1;33m)\u001b[0m\u001b[1;33m)\u001b[0m\u001b[1;33m\u001b[0m\u001b[1;33m\u001b[0m\u001b[0m\n\u001b[0m\u001b[0;32m      4\u001b[0m \u001b[0mprint\u001b[0m\u001b[1;33m(\u001b[0m\u001b[0msomepackage\u001b[0m\u001b[1;33m.\u001b[0m\u001b[0mcheck_sentiment\u001b[0m\u001b[1;33m(\u001b[0m\u001b[1;34m\"This package is awful!\"\u001b[0m\u001b[1;33m)\u001b[0m\u001b[1;33m)\u001b[0m\u001b[1;33m\u001b[0m\u001b[1;33m\u001b[0m\u001b[0m\n",
      "\u001b[1;31mAttributeError\u001b[0m: module 'somepackage' has no attribute 'check_sentiment'"
     ]
    }
   ],
   "source": [
    "# code to check if the package is modified correctly\n",
    "import somepackage\n",
    "print(somepackage.check_sentiment(\"This package is amazing!\"))\n",
    "print(somepackage.check_sentiment(\"This package is awful!\"))"
   ]
  },
  {
   "cell_type": "markdown",
   "metadata": {},
   "source": [
    "<a href=\"#antw4\">Answer exercise 4</a>"
   ]
  },
  {
   "cell_type": "markdown",
   "metadata": {},
   "source": [
    "## [Answers](#top)<a id=\"Antwoorden\"></a>"
   ]
  },
  {
   "cell_type": "markdown",
   "metadata": {},
   "source": [
    "#### <a href=\"#opdr1\">Answer exercise 1</a> <a name=\"antw1\"></a>\n",
    "\n",
    "Create a text file with a .py extension, e.g. `np_func.py`. Make sure this file is in the same directory as this notebook. Create a function in this file that calculates the mean of a column in an array, e.g.:\n",
    "\n",
    "```\n",
    "01    import numpy as np\n",
    "02    \n",
    "03    def column_mean(arr):\n",
    "04    \"\"\" alculates the mean of a column in a 2d array\n",
    "05    \n",
    "06\n",
    "07    Parameters\n",
    "08    ----------\n",
    "09    arr : np.array\n",
    "10        2d numpy array.\n",
    "11\n",
    "12    Returns\n",
    "13    -------\n",
    "14    mean_col : np.array\n",
    "15        1d numpy array with the mean for each column.\n",
    "16\n",
    "17    \"\"\"\n",
    "18    \n",
    "19    mean_col = np.mean(arr, axis=0)\n",
    "20    \n",
    "21    return mean_col\n",
    "```\n",
    "\n",
    "Now you can import the module in this Jupyter Notebook and call the function."
   ]
  },
  {
   "cell_type": "code",
   "execution_count": 18,
   "metadata": {},
   "outputs": [
    {
     "ename": "ModuleNotFoundError",
     "evalue": "No module named 'numpy_func'",
     "output_type": "error",
     "traceback": [
      "\u001b[1;31m---------------------------------------------------------------------------\u001b[0m",
      "\u001b[1;31mModuleNotFoundError\u001b[0m                       Traceback (most recent call last)",
      "\u001b[1;32m<ipython-input-18-ed6644b37cec>\u001b[0m in \u001b[0;36m<module>\u001b[1;34m\u001b[0m\n\u001b[0;32m      4\u001b[0m \u001b[1;33m\u001b[0m\u001b[0m\n\u001b[0;32m      5\u001b[0m \u001b[1;31m# importeer module and call function\u001b[0m\u001b[1;33m\u001b[0m\u001b[1;33m\u001b[0m\u001b[1;33m\u001b[0m\u001b[0m\n\u001b[1;32m----> 6\u001b[1;33m \u001b[1;32mimport\u001b[0m \u001b[0mnumpy_func\u001b[0m\u001b[1;33m\u001b[0m\u001b[1;33m\u001b[0m\u001b[0m\n\u001b[0m\u001b[0;32m      7\u001b[0m \u001b[0mnumpy_func\u001b[0m\u001b[1;33m.\u001b[0m\u001b[0mcolumn_mean\u001b[0m\u001b[1;33m(\u001b[0m\u001b[0marr\u001b[0m\u001b[1;33m)\u001b[0m\u001b[1;33m\u001b[0m\u001b[1;33m\u001b[0m\u001b[0m\n",
      "\u001b[1;31mModuleNotFoundError\u001b[0m: No module named 'numpy_func'"
     ]
    }
   ],
   "source": [
    "import numpy as np\n",
    "# use this array to test.\n",
    "arr = np.array([[1., 5., 8., 9.],[9., 4., 3., 1.]])\n",
    "\n",
    "# importeer module and call function\n",
    "import numpy_func\n",
    "numpy_func.column_mean(arr)"
   ]
  },
  {
   "cell_type": "markdown",
   "metadata": {},
   "source": [
    "#### <a href=\"#bonus1\">Answer bonus exercise 1</a> <a name=\"antwbonus1\"></a>\n",
    "\n"
   ]
  },
  {
   "cell_type": "markdown",
   "metadata": {},
   "source": [
    "The file `example_module2.py` should look like this:\n",
    "    \n",
    "```\n",
    "01    def my_add(argument1, argument2):\n",
    "02        \"\"\"\n",
    "03        adds two input arguments.\n",
    "04        \n",
    "05        Parameters\n",
    "06        ----------\n",
    "07        argument1 : int, float, str\n",
    "08            input argument 1\n",
    "09        argument2 : int, float, str\n",
    "10            input arguement 2\n",
    "11            \n",
    "12        Returns\n",
    "13        -------\n",
    "14        results : int, float or str\n",
    "15            the two added input arguments   \n",
    "16        \"\"\"\n",
    "17        result = argument1 + argument2\n",
    "18        return result\n",
    "19    \n",
    "20    if __name__ == '__main__':\n",
    "21        print(my_add(2,4))\n",
    "```\n",
    "\n",
    "After you've modified `example_module2.py`, restarted the kernel and imported the module again it won't print the number 6 anymore. When you run the [example_module2.py](./example_module2.py) file seperately it will print the number 6. If you don't know how to run the .py file seperately please have a look at this [stakoverflow post](https://stackoverflow.com/questions/39995380/how-to-use-anaconda-python-to-execute-a-py-file). \n",
    "\n",
    "The `if __name__ == '__main__':` code is used often to test functions in a module. If you run the module seperately all functions will be run, if you import the functions they are only defined. For simple modules this is often a good solution. For more complex modules it is more usefull to seperate code and tests."
   ]
  },
  {
   "cell_type": "markdown",
   "metadata": {},
   "source": [
    "#### <a href=\"#opdr2\">Answer exercise  2</a> <a name=\"antw2\"></a>\n",
    "\n",
    "Add the code `from . import visualise` to the file `__init__.py`.\n",
    "\n",
    "The file will look like this:\n",
    "\n",
    "```\n",
    "01    from .version import __version__\n",
    "02    from .add import my_add\n",
    "03    from . import shout\n",
    "04    from . import visualise\n",
    "```\n",
    "\n",
    "Restart the kernel en import `somepackage`. You can now run the code from exercise 2."
   ]
  },
  {
   "cell_type": "code",
   "execution_count": null,
   "metadata": {},
   "outputs": [],
   "source": [
    "%matplotlib inline\n",
    "a = somepackage.shout.shout_and_repeat(\"what a lovely package it is \"))\n",
    "tst = somepackage.visualise.make_wordcloud(a);"
   ]
  },
  {
   "cell_type": "markdown",
   "metadata": {},
   "source": [
    "#### <a href=\"#opdr3\">Answer exercise 3</a> <a name=\"antw3\"></a>\n",
    "\n",
    "Add the code `from .visualise import make_wordcloud` to the file `__init__.py`.\n",
    "\n",
    "The file will look like this:\n",
    "\n",
    "```\n",
    "01    from .version import __version__\n",
    "02    from .add import my_add\n",
    "03    from . import shout\n",
    "04    from .visualise import make_wordcloud\n",
    "```\n",
    "\n",
    "Restart the kernel en import `somepackage`. You can now run the code from exercise 3."
   ]
  },
  {
   "cell_type": "code",
   "execution_count": null,
   "metadata": {},
   "outputs": [],
   "source": [
    "%matplotlib inline\n",
    "a = somepackage.shout.shout_and_repeat(\"what a lovely package it is \"))\n",
    "tst = somepackage.make_wordcloud(a);"
   ]
  },
  {
   "cell_type": "markdown",
   "metadata": {},
   "source": [
    "#### <a href=\"#opdr4\">Answer exercise 4</a> <a name=\"antw4\"></a>\n",
    "\n",
    "Use the following steps (in random order):\n",
    "- Create a new module, e.g. `text_analysis.py`. Make sure this file is in the `somepackage` directory. Copy the function definition to this file. The file will look like this:\n",
    "    ```\n",
    "    from textblob import TextBlob\n",
    "\n",
    "    def check_sentiment(text):\n",
    "        '''\n",
    "        checks the polarity and subjectivity of a message,\n",
    "        a polarity > 0 indicates a positive message, \n",
    "        a polirity < 0 indicates a negative message\n",
    "\n",
    "        Parameters\n",
    "        ----------\n",
    "        text : str\n",
    "            text to analyse\n",
    "\n",
    "        Returns\n",
    "        -------\n",
    "        textblob.en.sentiments.Sentiment\n",
    "            sentiment analysis of text\n",
    "        '''\n",
    "\n",
    "        testimonial = TextBlob(text)\n",
    "        return testimonial.sentiment\n",
    "    ```\n",
    "- Add the line `from .text_analysis import check_sentiment` to the `__init__.py` file. Replace `text_analysis` with the name of your module. The file will look like this:\n",
    "    ```\n",
    "\n",
    "    from .version import __version__\n",
    "    from .add import my_add\n",
    "    from . import shout\n",
    "    from .visualise import make_wordcloud\n",
    "    from .text_analysis import check_sentiment\n",
    "    ```\n",
    "- Modify the `setup.py` file. Add an extra dependency to line 27: `'textblob>=0.15.3'`. The `setup.py` file will look like this:\n",
    "\n",
    "    ```\n",
    "    from setuptools import setup\n",
    "    import os\n",
    "    import sys\n",
    "\n",
    "    _here = os.path.abspath(os.path.dirname(__file__))\n",
    "\n",
    "    if sys.version_info[0] < 3:\n",
    "        with open(os.path.join(_here, 'README.rst')) as f:\n",
    "            long_description = f.read()\n",
    "    else:\n",
    "        with open(os.path.join(_here, 'README.rst'), encoding='utf-8') as f:\n",
    "            long_description = f.read()\n",
    "\n",
    "    version = {}\n",
    "    with open(os.path.join(_here, 'somepackage', 'version.py')) as f:\n",
    "        exec(f.read(), version)\n",
    "\n",
    "    setup(\n",
    "        name='somepackage',\n",
    "        version=version['__version__'],\n",
    "        description=('Show how to structure a Python project.'),\n",
    "        long_description=long_description,\n",
    "        author='Onno Ebbens',\n",
    "        author_email='onno.ebbens@mamba-python.nl',\n",
    "        license='MPL-2.0',\n",
    "        packages=['somepackage'],\n",
    "        install_requires=['matplotlib>=3.0','wordcloud>=1.8.1', 'textblob>=0.15.3'],\n",
    "        include_package_data=True,\n",
    "        classifiers=[\n",
    "            'Development Status :: 5 - Production/Stable',\n",
    "            'Intended Audience :: Science/Research',\n",
    "            'Programming Language :: Python :: 2.7',\n",
    "            'Programming Language :: Python :: 3.6'],\n",
    "        )\n",
    "    ```\n",
    "- Modify the `version.py` file. Increase the version number from 1.2.3 to 1.2.4 the file will look like this:\n",
    "    ```\n",
    "    __version__ = '1.2.4'\n",
    "    ```\n",
    "    \n",
    "Finally take these steps (in this order):\n",
    "1. Navigate in (anaconda) prompt to the directory \"example_package\". Install `somepackage` again using `pip install -e .`. Check if during installation the `textblob` will be checked. \n",
    "2. Restart the kernel\n",
    "3. Run the code from the exercise.\n",
    "4. Celebrate your succes!"
   ]
  },
  {
   "cell_type": "code",
   "execution_count": null,
   "metadata": {},
   "outputs": [],
   "source": [
    "# code to check if the modified package works\n",
    "import somepackage\n",
    "print(somepackage.check_sentiment(\"This package is amazing!\"))\n",
    "print(somepackage.check_sentiment(\"This package is awful!\"))"
   ]
  },
  {
   "cell_type": "markdown",
   "metadata": {},
   "source": [
    "## Acknowledgement\n",
    "\n",
    "the following sources were used to create this notebook:\n",
    "- https://github.com/bast/somepackage\n"
   ]
  }
 ],
 "metadata": {
  "kernelspec": {
   "display_name": "dev",
   "language": "python",
   "name": "dev"
  },
  "language_info": {
   "codemirror_mode": {
    "name": "ipython",
    "version": 3
   },
   "file_extension": ".py",
   "mimetype": "text/x-python",
   "name": "python",
   "nbconvert_exporter": "python",
   "pygments_lexer": "ipython3",
   "version": "3.8.6"
  }
 },
 "nbformat": 4,
 "nbformat_minor": 4
}
