{
 "cells": [
  {
   "cell_type": "markdown",
   "metadata": {},
   "source": [
    "<figure>\n",
    "   <IMG SRC=\"https://mamba-python.nl/images/logo_basis.png\" WIDTH=125 ALIGN=\"right\">\n",
    "\n",
    "</figure>\n",
    "    \n",
    "    \n",
    "# Object Oriented Programming\n",
    "\n",
    "In this notebook you will use the basics of Object Oriented Programming in Python. This notebook covers the following topics:\n",
    "\n",
    "- how to create a class\n",
    "- constructor (`__init__`)\n",
    "- methods and attributes\n",
    "- private vs. public methods\n",
    "\n",
    "We will work with CSV files containing daily precipitation data from KNMI. The files are in the data folder of the current directory. \n",
    "<br>\n",
    "<div style=\"text-align: right\"> developed by MAMBA </div>\n"
   ]
  },
  {
   "cell_type": "code",
   "execution_count": 1,
   "metadata": {},
   "outputs": [
    {
     "data": {
      "text/plain": [
       "'nl_NL.utf8'"
      ]
     },
     "execution_count": 1,
     "metadata": {},
     "output_type": "execute_result"
    }
   ],
   "source": [
    "import pandas as pd\n",
    "import numpy as np\n",
    "import matplotlib.pyplot as plt\n",
    "import datetime as dt\n",
    "import locale\n",
    "import glob\n",
    "\n",
    "# set local time to Dutch (used for month name e.g. 'mei' in 3 mei, 2020)\n",
    "locale.setlocale(locale.LC_TIME, 'nl_NL.utf8')"
   ]
  },
  {
   "cell_type": "markdown",
   "metadata": {},
   "source": [
    "#### Goal;\n",
    "\n",
    "There are multiple KNMI stations with precipitation data. We want to create a class containing different methods and attributes such that we can easily\n",
    "- Find which data files are available\n",
    "- Read the data. E.g. the data should be stored in a dataframe, the column with dates should get the right datatype.\n",
    "- Analyze the data. E.g. compare maximum differences between stations.\n",
    "\n",
    "The following exercises will help you built-up this class step by step"
   ]
  },
  {
   "cell_type": "markdown",
   "metadata": {},
   "source": [
    "## Assingment 1: Defining the class & the __init__ method\n",
    "\n",
    "Create a class called KNMI. Specify the constructor (`__init__`) method. \n",
    "The `__init__` method is always executed when you create an instance of your class. In our `__init__` method four attributes should be assinged, their names and values should be:\n",
    "1. `source` (with value `'KNMI'`), \n",
    "2. `url`, with value `'https://weerdata.nl/'`\n",
    "3. `stations` (an empty list)\n",
    "4. `data` (should start as `None`)\n",
    "\n",
    "To create the `__init__` method: \n",
    "- The init method is defined by stating `def __init__(self):` \n",
    "- An attribute can be assigned by stating `self.<attribute_name> = <value>`. \n",
    "\n",
    "Create an instance of your class and print the values of the attributes."
   ]
  },
  {
   "cell_type": "code",
   "execution_count": null,
   "metadata": {},
   "outputs": [],
   "source": [
    "# create your class here"
   ]
  },
  {
   "cell_type": "code",
   "execution_count": 4,
   "metadata": {},
   "outputs": [],
   "source": [
    "# create your instance and print the attributes here"
   ]
  },
  {
   "cell_type": "markdown",
   "metadata": {},
   "source": [
    "## Assignment 2: Create a method\n",
    "\n",
    "Expand your class from the previous exercise. Create a method called `find_available_files` which returns a list with all the files in the data folder. \n",
    "\n",
    "Creating a method is similar to creating a function. Your input arguments should be `self` (for all methods in a class) and  `path_to_folder`.\n",
    "\n",
    "You can use the `glob.glob` function to list all the files with a certain extension (e.g. `glob.glob(f\"{path_to_folder}/*.csv\")`).\n",
    "\n",
    "Create an instance of your class & call your method. Print the available files."
   ]
  },
  {
   "cell_type": "code",
   "execution_count": null,
   "metadata": {},
   "outputs": [],
   "source": [
    "# create your class here"
   ]
  },
  {
   "cell_type": "code",
   "execution_count": 3,
   "metadata": {},
   "outputs": [],
   "source": [
    "# create your instance and call your method here"
   ]
  },
  {
   "cell_type": "markdown",
   "metadata": {},
   "source": [
    "## Assignment 3: Methods II\n",
    "\n",
    "Expand your class from the previous exercise even further. Create another method called `add_station` in your class that does the following:\n",
    "1. Take the csv file path and the station name as arguments;\n",
    "2. Read the csv file into a pandas dataframe, with the dates as index;\n",
    "3. Convert the date column to a datetime object (see hints I & II);\n",
    "4. Change the column name 'Neerslag [mm]' to the station name. You can use `df = df.rename('<oldName1>':'<newName1>')`;\n",
    "5. Append the station name to the `stations` attribute you defined in the `__init__` method;\n",
    "6. Add the dataframe to the `data` attribute. If it is the first added station (i.e. `data = None`), set attribute `data` to the new dataframe. Else, join the new dataframe with the existing dataframe.\n",
    "\n",
    "Run the checks below to see if your method works accordingly.\n",
    "\n",
    "Hint I: you can convert a string to a datetime object using the `strptime` function of the `datetime` package. https://docs.python.org/3/library/datetime.html#strftime-and-strptime-format-codes gives an overview of all the options you can choose. You'll need to look into the file to see what the date format looks like in your file. The format is the same for all files. \n",
    "\n",
    "Hint II: Pandas has the `to_datetime` function to convert all strings in a column to datetimes. An example is given in the answer to this stack-overflow question. https://stackoverflow.com/questions/26763344/convert-pandas-column-to-datetime. \n",
    "\n",
    "Hint III: the first argument of the method should be `self`, followed by the names of your two other arguments. You don't need to specify `self` when you call the method from the instance of you class. "
   ]
  },
  {
   "cell_type": "code",
   "execution_count": 2,
   "metadata": {},
   "outputs": [
    {
     "name": "stdout",
     "output_type": "stream",
     "text": [
      "2018-06-29 08:15:27\n",
      "2018-06-05 16:00:00\n"
     ]
    }
   ],
   "source": [
    "# examples string to datetime conversion:\n",
    "\n",
    "# example 1 s\n",
    "date_time_str = '2018-06-29 08::15::27'\n",
    "date_time_obj = dt.datetime.strptime(date_time_str, '%Y-%m-%d %H::%M::%S')\n",
    "print(date_time_obj)\n",
    "\n",
    "# example 2\n",
    "date_time_str_2 = '2018, jun 5, 16:00'\n",
    "date_time_obj_2 = dt.datetime.strptime(date_time_str_2, '%Y, %b %d, %H:%M')\n",
    "print(date_time_obj_2)"
   ]
  },
  {
   "cell_type": "code",
   "execution_count": null,
   "metadata": {},
   "outputs": [],
   "source": [
    "# create your class and methods here"
   ]
  },
  {
   "cell_type": "code",
   "execution_count": null,
   "metadata": {},
   "outputs": [
    {
     "name": "stdout",
     "output_type": "stream",
     "text": [
      "['Rotterdam']\n"
     ]
    },
    {
     "data": {
      "text/html": [
       "<div>\n",
       "<style scoped>\n",
       "    .dataframe tbody tr th:only-of-type {\n",
       "        vertical-align: middle;\n",
       "    }\n",
       "\n",
       "    .dataframe tbody tr th {\n",
       "        vertical-align: top;\n",
       "    }\n",
       "\n",
       "    .dataframe thead th {\n",
       "        text-align: right;\n",
       "    }\n",
       "</style>\n",
       "<table border=\"1\" class=\"dataframe\">\n",
       "  <thead>\n",
       "    <tr style=\"text-align: right;\">\n",
       "      <th></th>\n",
       "      <th>Rotterdam</th>\n",
       "    </tr>\n",
       "    <tr>\n",
       "      <th>Datum</th>\n",
       "      <th></th>\n",
       "    </tr>\n",
       "  </thead>\n",
       "  <tbody>\n",
       "    <tr>\n",
       "      <td>2019-01-01</td>\n",
       "      <td>0.9</td>\n",
       "    </tr>\n",
       "    <tr>\n",
       "      <td>2019-01-02</td>\n",
       "      <td>0.4</td>\n",
       "    </tr>\n",
       "    <tr>\n",
       "      <td>2019-01-03</td>\n",
       "      <td>2.0</td>\n",
       "    </tr>\n",
       "    <tr>\n",
       "      <td>2019-01-04</td>\n",
       "      <td>0.2</td>\n",
       "    </tr>\n",
       "    <tr>\n",
       "      <td>2019-01-05</td>\n",
       "      <td>0.0</td>\n",
       "    </tr>\n",
       "  </tbody>\n",
       "</table>\n",
       "</div>"
      ],
      "text/plain": [
       "            Rotterdam\n",
       "Datum                \n",
       "2019-01-01        0.9\n",
       "2019-01-02        0.4\n",
       "2019-01-03        2.0\n",
       "2019-01-04        0.2\n",
       "2019-01-05        0.0"
      ]
     },
     "execution_count": 259,
     "metadata": {},
     "output_type": "execute_result"
    }
   ],
   "source": [
    "# 1st check read csv file from Rotterdam\n",
    "knmi = KNMI()\n",
    "\n",
    "knmi.add_station(r'./data/Neerslag_Tijdreeks-Rotterdam-.csv',\n",
    "                 'Rotterdam')\n",
    "\n",
    "print(knmi.stations)\n",
    "\n",
    "knmi.data.head()"
   ]
  },
  {
   "cell_type": "code",
   "execution_count": null,
   "metadata": {},
   "outputs": [
    {
     "name": "stdout",
     "output_type": "stream",
     "text": [
      "['Rotterdam', 'Hoek van Holland']\n"
     ]
    },
    {
     "data": {
      "text/html": [
       "<div>\n",
       "<style scoped>\n",
       "    .dataframe tbody tr th:only-of-type {\n",
       "        vertical-align: middle;\n",
       "    }\n",
       "\n",
       "    .dataframe tbody tr th {\n",
       "        vertical-align: top;\n",
       "    }\n",
       "\n",
       "    .dataframe thead th {\n",
       "        text-align: right;\n",
       "    }\n",
       "</style>\n",
       "<table border=\"1\" class=\"dataframe\">\n",
       "  <thead>\n",
       "    <tr style=\"text-align: right;\">\n",
       "      <th></th>\n",
       "      <th>Rotterdam</th>\n",
       "      <th>Hoek van Holland</th>\n",
       "    </tr>\n",
       "    <tr>\n",
       "      <th>Datum</th>\n",
       "      <th></th>\n",
       "      <th></th>\n",
       "    </tr>\n",
       "  </thead>\n",
       "  <tbody>\n",
       "    <tr>\n",
       "      <td>2019-01-01</td>\n",
       "      <td>0.9</td>\n",
       "      <td>0.3</td>\n",
       "    </tr>\n",
       "    <tr>\n",
       "      <td>2019-01-02</td>\n",
       "      <td>0.4</td>\n",
       "      <td>0.6</td>\n",
       "    </tr>\n",
       "    <tr>\n",
       "      <td>2019-01-03</td>\n",
       "      <td>2.0</td>\n",
       "      <td>0.9</td>\n",
       "    </tr>\n",
       "    <tr>\n",
       "      <td>2019-01-04</td>\n",
       "      <td>0.2</td>\n",
       "      <td>0.0</td>\n",
       "    </tr>\n",
       "    <tr>\n",
       "      <td>2019-01-05</td>\n",
       "      <td>0.0</td>\n",
       "      <td>0.1</td>\n",
       "    </tr>\n",
       "  </tbody>\n",
       "</table>\n",
       "</div>"
      ],
      "text/plain": [
       "            Rotterdam  Hoek van Holland\n",
       "Datum                                  \n",
       "2019-01-01        0.9               0.3\n",
       "2019-01-02        0.4               0.6\n",
       "2019-01-03        2.0               0.9\n",
       "2019-01-04        0.2               0.0\n",
       "2019-01-05        0.0               0.1"
      ]
     },
     "execution_count": 182,
     "metadata": {},
     "output_type": "execute_result"
    }
   ],
   "source": [
    "# 2nd check: add station Hoek van Holland\n",
    "\n",
    "# this code should generate an object:\n",
    "# 1. Where the 'station' attribute is a list with 'Rotterdam' and 'Hoek van Holland'\n",
    "# 2. Where the 'data' attribute is a dataframe with dates as index, and precipitation \n",
    "#    data of the stations Rotterdam and Hoek van Holland. \n",
    "\n",
    "knmi.add_station(r'./data/Neerslag_Tijdreeks-Hoek van Holland-.csv', \n",
    "                 'Hoek van Holland')\n",
    "\n",
    "print(knmi.stations)\n",
    "\n",
    "knmi.data.head()"
   ]
  },
  {
   "cell_type": "markdown",
   "metadata": {},
   "source": [
    "## Assignment 4 - Private method: mean monthly precipitation difference between stations\n",
    "\n",
    "A private method is a method that should only be called by other methods, not by the user him/herself. You can create a private method by adding a single, trailing underscore `_` to the name of the method.\n",
    "\n",
    "Create a private method called `_avrg_diff` that is only called within the `add_station` method. The `_avrg_diff` should calculate:\n",
    "1. The difference in precipitation value between two stations for each day. If you have two stations this is simply the difference between the two stations. If you have 3 stations it is the maximum difference between any of the 3 stations. Make sure it works for any number of stations.\n",
    "2. For each month, calculate the mean value of the difference. Return the value and assign the outcome to the attribute `mean_monthly_difference`. (Hint, look at the `df.resample` method). \n",
    "\n",
    "Adjust the method `add_station` to make sure that when new data is added, the avrg_diff is automatically (re)calculated. "
   ]
  },
  {
   "cell_type": "code",
   "execution_count": 8,
   "metadata": {},
   "outputs": [],
   "source": [
    "# create your class and methods here\n"
   ]
  },
  {
   "cell_type": "code",
   "execution_count": 9,
   "metadata": {},
   "outputs": [
    {
     "data": {
      "text/plain": [
       "Datum\n",
       "2019-01-31    0.877419\n",
       "2019-02-28    0.646429\n",
       "2019-03-31    0.783871\n",
       "2019-04-30    0.400000\n",
       "2019-05-31    0.845161\n",
       "Freq: M, dtype: float64"
      ]
     },
     "execution_count": 9,
     "metadata": {},
     "output_type": "execute_result"
    }
   ],
   "source": [
    "# check if your code runs as expected\n",
    "\n",
    "knmi = KNMI()\n",
    "\n",
    "knmi.add_station(r'./data/Neerslag_Tijdreeks-Rotterdam-.csv',\n",
    "                 'Rotterdam')\n",
    "\n",
    "knmi.add_station(r'./data/Neerslag_Tijdreeks-Hoek van Holland-.csv', \n",
    "                 'Hoek van Holland')\n",
    "\n",
    "knmi.mean_monthly_difference.head()"
   ]
  },
  {
   "cell_type": "markdown",
   "metadata": {},
   "source": [
    "## Assignment 5: Plot the mean, monthly difference\n",
    "\n",
    "Create a plot method for the mean monthly difference. First add one station and plot the average difference in precipitation between stations. Add 1 more station and plot the monthly differnce in the same graph. Add all stations and plot the monthly difference again in the same graph. "
   ]
  },
  {
   "cell_type": "code",
   "execution_count": 12,
   "metadata": {},
   "outputs": [],
   "source": [
    "# create your class and methods here\n"
   ]
  },
  {
   "cell_type": "code",
   "execution_count": 11,
   "metadata": {},
   "outputs": [
    {
     "data": {
      "image/png": "[encoded data removed]",
      "text/plain": [
       "<Figure size 640x480 with 1 Axes>"
      ]
     },
     "metadata": {},
     "output_type": "display_data"
    }
   ],
   "source": [
    "# check if your code runs as expected\n",
    "\n",
    "knmi = KNMI()\n",
    "\n",
    "knmi.add_station(r'./data/Neerslag_Tijdreeks-Rotterdam-.csv',\n",
    "                 'Rotterdam')\n",
    "\n",
    "knmi.add_station(r'./data/Neerslag_Tijdreeks-Hoek van Holland-.csv', \n",
    "                 'Hoek van Holland')\n",
    "\n",
    "knmi.plot()\n",
    "\n",
    "knmi.add_station(r'./data/Neerslag_Tijdreeks-Schiphol-.csv', \n",
    "                 'Schiphol')\n",
    "\n",
    "knmi.plot()\n",
    "\n"
   ]
  },
  {
   "cell_type": "markdown",
   "metadata": {},
   "source": [
    "## Assignment 6: arguments when initializing the class\n",
    "\n",
    "Let's create a method `add_directory` and adjust the class so you can specify a directory when creating an object of your class. In the initialization all csv files in that directory should be read and the data added to the object. \n",
    "\n",
    "Plot the maximum difference of all stations (only one line in the graph this time). See how short and clear the script has become?\n"
   ]
  },
  {
   "cell_type": "code",
   "execution_count": 16,
   "metadata": {},
   "outputs": [],
   "source": [
    "# create your class and methods here"
   ]
  },
  {
   "cell_type": "code",
   "execution_count": null,
   "metadata": {},
   "outputs": [
    {
     "data": {
      "text/html": [
       "<div>\n",
       "<style scoped>\n",
       "    .dataframe tbody tr th:only-of-type {\n",
       "        vertical-align: middle;\n",
       "    }\n",
       "\n",
       "    .dataframe tbody tr th {\n",
       "        vertical-align: top;\n",
       "    }\n",
       "\n",
       "    .dataframe thead th {\n",
       "        text-align: right;\n",
       "    }\n",
       "</style>\n",
       "<table border=\"1\" class=\"dataframe\">\n",
       "  <thead>\n",
       "    <tr style=\"text-align: right;\">\n",
       "      <th></th>\n",
       "      <th>Cabouw</th>\n",
       "      <th>De Bilt</th>\n",
       "      <th>Herwijnen</th>\n",
       "      <th>Hoek van Holland</th>\n",
       "      <th>Rotterdam</th>\n",
       "      <th>Schiphol</th>\n",
       "    </tr>\n",
       "    <tr>\n",
       "      <th>Datum</th>\n",
       "      <th></th>\n",
       "      <th></th>\n",
       "      <th></th>\n",
       "      <th></th>\n",
       "      <th></th>\n",
       "      <th></th>\n",
       "    </tr>\n",
       "  </thead>\n",
       "  <tbody>\n",
       "    <tr>\n",
       "      <th>2019-01-01</th>\n",
       "      <td>1.0</td>\n",
       "      <td>0.4</td>\n",
       "      <td>0.8</td>\n",
       "      <td>0.3</td>\n",
       "      <td>0.9</td>\n",
       "      <td>0.5</td>\n",
       "    </tr>\n",
       "    <tr>\n",
       "      <th>2019-01-02</th>\n",
       "      <td>0.0</td>\n",
       "      <td>0.2</td>\n",
       "      <td>0.1</td>\n",
       "      <td>0.6</td>\n",
       "      <td>0.4</td>\n",
       "      <td>0.0</td>\n",
       "    </tr>\n",
       "    <tr>\n",
       "      <th>2019-01-03</th>\n",
       "      <td>0.0</td>\n",
       "      <td>0.0</td>\n",
       "      <td>0.0</td>\n",
       "      <td>0.9</td>\n",
       "      <td>2.0</td>\n",
       "      <td>0.0</td>\n",
       "    </tr>\n",
       "    <tr>\n",
       "      <th>2019-01-04</th>\n",
       "      <td>0.0</td>\n",
       "      <td>0.0</td>\n",
       "      <td>0.0</td>\n",
       "      <td>0.0</td>\n",
       "      <td>0.2</td>\n",
       "      <td>0.0</td>\n",
       "    </tr>\n",
       "    <tr>\n",
       "      <th>2019-01-05</th>\n",
       "      <td>0.5</td>\n",
       "      <td>0.3</td>\n",
       "      <td>0.4</td>\n",
       "      <td>0.1</td>\n",
       "      <td>0.0</td>\n",
       "      <td>0.1</td>\n",
       "    </tr>\n",
       "  </tbody>\n",
       "</table>\n",
       "</div>"
      ],
      "text/plain": [
       "            Cabouw  De Bilt  Herwijnen  Hoek van Holland  Rotterdam  Schiphol\n",
       "Datum                                                                        \n",
       "2019-01-01     1.0      0.4        0.8               0.3        0.9       0.5\n",
       "2019-01-02     0.0      0.2        0.1               0.6        0.4       0.0\n",
       "2019-01-03     0.0      0.0        0.0               0.9        2.0       0.0\n",
       "2019-01-04     0.0      0.0        0.0               0.0        0.2       0.0\n",
       "2019-01-05     0.5      0.3        0.4               0.1        0.0       0.1"
      ]
     },
     "execution_count": 15,
     "metadata": {},
     "output_type": "execute_result"
    },
    {
     "data": {
      "image/png": "[encoded data removed]",
      "text/plain": [
       "<Figure size 640x480 with 1 Axes>"
      ]
     },
     "metadata": {},
     "output_type": "display_data"
    }
   ],
   "source": [
    "# check if your code runs as expected\n",
    "\n",
    "knmi= KNMI(path=r'.\\data')\n",
    "knmi.plot()\n",
    "knmi.data.head()\n",
    "\n",
    "# Great work!"
   ]
  }
 ],
 "metadata": {
  "kernelspec": {
   "display_name": "paotm",
   "language": "python",
   "name": "python3"
  },
  "language_info": {
   "codemirror_mode": {
    "name": "ipython",
    "version": 3
   },
   "file_extension": ".py",
   "mimetype": "text/x-python",
   "name": "python",
   "nbconvert_exporter": "python",
   "pygments_lexer": "ipython3",
   "version": "3.11.5"
  }
 },
 "nbformat": 4,
 "nbformat_minor": 2
}
