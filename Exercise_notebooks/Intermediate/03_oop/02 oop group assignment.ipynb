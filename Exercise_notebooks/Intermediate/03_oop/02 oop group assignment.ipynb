{
 "cells": [
  {
   "cell_type": "markdown",
   "metadata": {},
   "source": [
    "<figure>\n",
    "   <IMG SRC=\"https://mamba-python.nl/images/logo_basis.png\" WIDTH=125 ALIGN=\"right\">\n",
    "\n",
    "</figure>\n",
    "    \n",
    "    \n",
    "# Object Oriented Programming\n",
    "\n",
    "In this notebook you practise using the basics of Object Oriented Programming in Python. This notebook covers the following topics:\n",
    "\n",
    "- how to create a class\n",
    "- constructor (`__init__`)\n",
    "- methods and attributes\n",
    "- private vs. public methods\n",
    "\n",
    "We will work with CSV files containing daily precipitation data from KNMI. The files are in the data folder of the current directory. \n",
    "<br>\n",
    "<div style=\"text-align: right\"> developed by MAMBA </div>\n"
   ]
  },
  {
   "cell_type": "code",
   "execution_count": 302,
   "metadata": {},
   "outputs": [
    {
     "data": {
      "text/plain": [
       "'nl_NL.utf8'"
      ]
     },
     "execution_count": 302,
     "metadata": {},
     "output_type": "execute_result"
    }
   ],
   "source": [
    "import pandas as pd\n",
    "import numpy as np\n",
    "import matplotlib.pyplot as plt\n",
    "import datetime as dt\n",
    "import locale\n",
    "import glob\n",
    "\n",
    "# set local time to Dutch (used for month name e.g. 'mei' in 3 mei, 2020)\n",
    "locale.setlocale(locale.LC_TIME, 'nl_NL.utf8')"
   ]
  },
  {
   "cell_type": "markdown",
   "metadata": {},
   "source": [
    "#### Goal of the exercise;\n",
    "\n",
    "There are multiple KNMI station with rainfall data. We want to create a class containing different methods and attributes such that we can easily\n",
    "- Find which data files are available\n",
    "- Read the data. E.g. the data should be read into a dataframe, the dates should get the right datatype.\n",
    "- Analyze the data. E.g. compare maximum differences between stations.\n",
    "\n",
    "The following exercises will help you built-up this class step by step"
   ]
  },
  {
   "cell_type": "markdown",
   "metadata": {},
   "source": [
    "## Assingment 1: Defining the class & the __init__ method\n",
    "\n",
    "Create a class called KNMI. Specify the constructor (`__init__`) method. \n",
    "The `__init__` method is always executed when you create an instance of your class. In our `__init__` method four attributes should be assinged, their names and values should be:\n",
    "1. `source` (with value `'KNMI'`), \n",
    "2. `url`, with value `'https://weerdata.nl/'`\n",
    "3. `stations` (an empty list)\n",
    "4. `data` (should start as `None`)\n",
    "\n",
    "To create the `__init__` method: \n",
    "- The init method is defined by stating `def __init__(self):` \n",
    "- An attribute can be assigned by stating `self.<attribute_name> = <value>`. \n",
    "\n",
    "Create an instance of your class and print the values of the attributes."
   ]
  },
  {
   "cell_type": "code",
   "execution_count": null,
   "metadata": {},
   "outputs": [],
   "source": [
    "\n"
   ]
  },
  {
   "cell_type": "code",
   "execution_count": null,
   "metadata": {},
   "outputs": [],
   "source": []
  },
  {
   "cell_type": "markdown",
   "metadata": {},
   "source": [
    "## Assignment 2: Create a method\n",
    "\n",
    "Create a method called `find_available_files` which returns a list with all the files with precipitation (Neerslag in Ducht) data in the data folder. \n",
    "\n",
    "You can create a method in a similar way as a function. Your input arguments should be `self` (for all methods in a class) and  `path_to_folder`.\n",
    "\n",
    "You can use the `glob.glob` function to list all files with a specified output format (e.g. `glob.glob(f\"{path_to_folder}/*.csv\")`).\n",
    "\n",
    "Create an instance of your class & call your method. Print the available files.  "
   ]
  },
  {
   "cell_type": "code",
   "execution_count": 295,
   "metadata": {},
   "outputs": [],
   "source": []
  },
  {
   "cell_type": "code",
   "execution_count": null,
   "metadata": {},
   "outputs": [],
   "source": []
  },
  {
   "cell_type": "markdown",
   "metadata": {},
   "source": [
    "## Assignment 3: Methods II\n",
    "\n",
    "Create a method called `add_station` in your class that does the following:\n",
    "1. given a path to a csv file and the station name (input parameters);\n",
    "2. load that file into a pandas dataframe, with the dates as index. (specify using `index_col='Datum'`);\n",
    "3. convert the date column to a datetime object (see tip I & II);\n",
    "4. change the column name 'Neerslag [mm]' to the station name. You can use `df = df.rename('<oldName1>':'<newName1>')`;\n",
    "5. append the station name to the `stations` attribute you defined in the `__init__` method;\n",
    "6. add the dataframe to the `data` attribute. If it is the first added station (i.e. `data = None`), set attribute `data` to the new dataframe. Else, `join` the new dataframe with the existing dataframe.\n",
    "\n",
    "Tip I: you can convert a string to a datetime object using the `strptime` function of the `datetime` package. https://docs.python.org/3/library/datetime.html#strftime-and-strptime-format-codes gives an overview of all the options you can choose. You'll need to look into the file to see what the date format looks like in your file. The format is the same for all files. \n",
    "\n",
    "Tip II: Pandas has the `to_datetime` function that can convert a whole column to datetimes. An example is given in the answer to this stack-overflow question. https://stackoverflow.com/questions/26763344/convert-pandas-column-to-datetime. \n",
    "\n",
    "Tip III: the first argument of the method should be `self`, followed by the names of your two other arguments. You don't need to specify `self` when you call the method from the instance of you class. "
   ]
  },
  {
   "cell_type": "code",
   "execution_count": 257,
   "metadata": {},
   "outputs": [
    {
     "name": "stdout",
     "output_type": "stream",
     "text": [
      "2018-06-29 08:15:27\n",
      "2018-06-05 16:00:00\n"
     ]
    }
   ],
   "source": [
    "# examples string to datetime conversion:\n",
    "\n",
    "# example 1 s\n",
    "date_time_str = '2018-06-29 08::15::27'\n",
    "date_time_obj = dt.datetime.strptime(date_time_str, '%Y-%m-%d %H::%M::%S')\n",
    "print(date_time_obj)\n",
    "\n",
    "# example 2\n",
    "date_time_str_2 = '2018, jun 5, 16:00'\n",
    "date_time_obj_2 = dt.datetime.strptime(date_time_str_2, '%Y, %b %d, %H:%M')\n",
    "print(date_time_obj_2)"
   ]
  },
  {
   "cell_type": "code",
   "execution_count": null,
   "metadata": {},
   "outputs": [],
   "source": []
  },
  {
   "cell_type": "code",
   "execution_count": 259,
   "metadata": {},
   "outputs": [
    {
     "name": "stdout",
     "output_type": "stream",
     "text": [
      "['Rotterdam']\n"
     ]
    },
    {
     "data": {
      "text/html": [
       "<div>\n",
       "<style scoped>\n",
       "    .dataframe tbody tr th:only-of-type {\n",
       "        vertical-align: middle;\n",
       "    }\n",
       "\n",
       "    .dataframe tbody tr th {\n",
       "        vertical-align: top;\n",
       "    }\n",
       "\n",
       "    .dataframe thead th {\n",
       "        text-align: right;\n",
       "    }\n",
       "</style>\n",
       "<table border=\"1\" class=\"dataframe\">\n",
       "  <thead>\n",
       "    <tr style=\"text-align: right;\">\n",
       "      <th></th>\n",
       "      <th>Rotterdam</th>\n",
       "    </tr>\n",
       "    <tr>\n",
       "      <th>Datum</th>\n",
       "      <th></th>\n",
       "    </tr>\n",
       "  </thead>\n",
       "  <tbody>\n",
       "    <tr>\n",
       "      <td>2019-01-01</td>\n",
       "      <td>0.9</td>\n",
       "    </tr>\n",
       "    <tr>\n",
       "      <td>2019-01-02</td>\n",
       "      <td>0.4</td>\n",
       "    </tr>\n",
       "    <tr>\n",
       "      <td>2019-01-03</td>\n",
       "      <td>2.0</td>\n",
       "    </tr>\n",
       "    <tr>\n",
       "      <td>2019-01-04</td>\n",
       "      <td>0.2</td>\n",
       "    </tr>\n",
       "    <tr>\n",
       "      <td>2019-01-05</td>\n",
       "      <td>0.0</td>\n",
       "    </tr>\n",
       "  </tbody>\n",
       "</table>\n",
       "</div>"
      ],
      "text/plain": [
       "            Rotterdam\n",
       "Datum                \n",
       "2019-01-01        0.9\n",
       "2019-01-02        0.4\n",
       "2019-01-03        2.0\n",
       "2019-01-04        0.2\n",
       "2019-01-05        0.0"
      ]
     },
     "execution_count": 259,
     "metadata": {},
     "output_type": "execute_result"
    }
   ],
   "source": [
    "# check if the following gives the expected output:\n",
    "knmi = KNMI()\n",
    "\n",
    "knmi.add_station(r'./data/Neerslag_Tijdreeks-Rotterdam-.csv',\n",
    "                 'Rotterdam')\n",
    "\n",
    "print(knmi.stations)\n",
    "\n",
    "knmi.data.head()"
   ]
  },
  {
   "cell_type": "code",
   "execution_count": 182,
   "metadata": {},
   "outputs": [
    {
     "name": "stdout",
     "output_type": "stream",
     "text": [
      "['Rotterdam', 'Hoek van Holland']\n"
     ]
    },
    {
     "data": {
      "text/html": [
       "<div>\n",
       "<style scoped>\n",
       "    .dataframe tbody tr th:only-of-type {\n",
       "        vertical-align: middle;\n",
       "    }\n",
       "\n",
       "    .dataframe tbody tr th {\n",
       "        vertical-align: top;\n",
       "    }\n",
       "\n",
       "    .dataframe thead th {\n",
       "        text-align: right;\n",
       "    }\n",
       "</style>\n",
       "<table border=\"1\" class=\"dataframe\">\n",
       "  <thead>\n",
       "    <tr style=\"text-align: right;\">\n",
       "      <th></th>\n",
       "      <th>Rotterdam</th>\n",
       "      <th>Hoek van Holland</th>\n",
       "    </tr>\n",
       "    <tr>\n",
       "      <th>Datum</th>\n",
       "      <th></th>\n",
       "      <th></th>\n",
       "    </tr>\n",
       "  </thead>\n",
       "  <tbody>\n",
       "    <tr>\n",
       "      <td>2019-01-01</td>\n",
       "      <td>0.9</td>\n",
       "      <td>0.3</td>\n",
       "    </tr>\n",
       "    <tr>\n",
       "      <td>2019-01-02</td>\n",
       "      <td>0.4</td>\n",
       "      <td>0.6</td>\n",
       "    </tr>\n",
       "    <tr>\n",
       "      <td>2019-01-03</td>\n",
       "      <td>2.0</td>\n",
       "      <td>0.9</td>\n",
       "    </tr>\n",
       "    <tr>\n",
       "      <td>2019-01-04</td>\n",
       "      <td>0.2</td>\n",
       "      <td>0.0</td>\n",
       "    </tr>\n",
       "    <tr>\n",
       "      <td>2019-01-05</td>\n",
       "      <td>0.0</td>\n",
       "      <td>0.1</td>\n",
       "    </tr>\n",
       "  </tbody>\n",
       "</table>\n",
       "</div>"
      ],
      "text/plain": [
       "            Rotterdam  Hoek van Holland\n",
       "Datum                                  \n",
       "2019-01-01        0.9               0.3\n",
       "2019-01-02        0.4               0.6\n",
       "2019-01-03        2.0               0.9\n",
       "2019-01-04        0.2               0.0\n",
       "2019-01-05        0.0               0.1"
      ]
     },
     "execution_count": 182,
     "metadata": {},
     "output_type": "execute_result"
    }
   ],
   "source": [
    "# this code should generate \n",
    "\n",
    "# 1. a list with stations 'Rotterdam' and 'Hoek van Holland'\n",
    "# 2. A dataframe with dates as index, and precipitation data of the stations Rotterdam and HvH. \n",
    "\n",
    "knmi.add_station(r'./data/Neerslag_Tijdreeks-Hoek van Holland-.csv', \n",
    "                 'Hoek van Holland')\n",
    "\n",
    "print(knmi.stations)\n",
    "\n",
    "knmi.data.head()"
   ]
  },
  {
   "cell_type": "markdown",
   "metadata": {},
   "source": [
    "### Asignment 4 - Private method: mean temperature difference per month\n",
    "\n",
    "A private method is a method that should only be called by other methods, not by the user him/herself. You can create a private method by adding a single, trailing underscore `_` to the name of the method.\n",
    "\n",
    "Create a private method called `_max_monthly_temp` that is only called within the `add_station` method. The `_max_monthly_temp` should calculate the maximal temperature per month over all stations. Assign the outcome to the attribute `max_measured_temp`. \n",
    "\n",
    "Adjust the method `add_station` to make sure that when new data is added, the max_measured_temp is automatically (re)calculated. "
   ]
  },
  {
   "cell_type": "code",
   "execution_count": null,
   "metadata": {},
   "outputs": [],
   "source": []
  },
  {
   "cell_type": "markdown",
   "metadata": {},
   "source": [
    "### Assignment 5: Plot the maximum difference per month over the stations\n",
    "\n",
    "Create a figure. First add one station and plot the monthly_diff. Add 1 more station and plot the monthly differnce in the same graph. \n",
    "Add all stations and plot the monthly difference again in the same graph. \n",
    "\n",
    "See how the values automatically change when you add a station? Benefits of OOP!"
   ]
  },
  {
   "cell_type": "code",
   "execution_count": null,
   "metadata": {},
   "outputs": [],
   "source": []
  },
  {
   "cell_type": "markdown",
   "metadata": {},
   "source": [
    "### Assignment 6: arguments when initializing the class\n",
    "\n",
    "Let's create a method `add_folder` and adjust the class so you can add a folder when creating an instance of your class. In the initialization, the data attribute should be filled with the data of all the files. \n",
    "\n",
    "Plot again the maximum difference of all stations (only one line this time). See how short and clear the script has become?\n"
   ]
  },
  {
   "cell_type": "code",
   "execution_count": null,
   "metadata": {},
   "outputs": [],
   "source": []
  },
  {
   "cell_type": "code",
   "execution_count": 292,
   "metadata": {},
   "outputs": [
    {
     "data": {
      "text/html": [
       "<div>\n",
       "<style scoped>\n",
       "    .dataframe tbody tr th:only-of-type {\n",
       "        vertical-align: middle;\n",
       "    }\n",
       "\n",
       "    .dataframe tbody tr th {\n",
       "        vertical-align: top;\n",
       "    }\n",
       "\n",
       "    .dataframe thead th {\n",
       "        text-align: right;\n",
       "    }\n",
       "</style>\n",
       "<table border=\"1\" class=\"dataframe\">\n",
       "  <thead>\n",
       "    <tr style=\"text-align: right;\">\n",
       "      <th></th>\n",
       "      <th>Cabouw</th>\n",
       "      <th>De Bilt</th>\n",
       "      <th>Herwijnen</th>\n",
       "      <th>Hoek van Holland</th>\n",
       "      <th>Rotterdam</th>\n",
       "      <th>Schiphol</th>\n",
       "    </tr>\n",
       "    <tr>\n",
       "      <th>Datum</th>\n",
       "      <th></th>\n",
       "      <th></th>\n",
       "      <th></th>\n",
       "      <th></th>\n",
       "      <th></th>\n",
       "      <th></th>\n",
       "    </tr>\n",
       "  </thead>\n",
       "  <tbody>\n",
       "    <tr>\n",
       "      <td>2019-01-01</td>\n",
       "      <td>1.0</td>\n",
       "      <td>0.4</td>\n",
       "      <td>0.8</td>\n",
       "      <td>0.3</td>\n",
       "      <td>0.9</td>\n",
       "      <td>0.5</td>\n",
       "    </tr>\n",
       "    <tr>\n",
       "      <td>2019-01-02</td>\n",
       "      <td>0.0</td>\n",
       "      <td>0.2</td>\n",
       "      <td>0.1</td>\n",
       "      <td>0.6</td>\n",
       "      <td>0.4</td>\n",
       "      <td>0.0</td>\n",
       "    </tr>\n",
       "    <tr>\n",
       "      <td>2019-01-03</td>\n",
       "      <td>0.0</td>\n",
       "      <td>0.0</td>\n",
       "      <td>0.0</td>\n",
       "      <td>0.9</td>\n",
       "      <td>2.0</td>\n",
       "      <td>0.0</td>\n",
       "    </tr>\n",
       "    <tr>\n",
       "      <td>2019-01-04</td>\n",
       "      <td>0.0</td>\n",
       "      <td>0.0</td>\n",
       "      <td>0.0</td>\n",
       "      <td>0.0</td>\n",
       "      <td>0.2</td>\n",
       "      <td>0.0</td>\n",
       "    </tr>\n",
       "    <tr>\n",
       "      <td>2019-01-05</td>\n",
       "      <td>0.5</td>\n",
       "      <td>0.3</td>\n",
       "      <td>0.4</td>\n",
       "      <td>0.1</td>\n",
       "      <td>0.0</td>\n",
       "      <td>0.1</td>\n",
       "    </tr>\n",
       "    <tr>\n",
       "      <td>...</td>\n",
       "      <td>...</td>\n",
       "      <td>...</td>\n",
       "      <td>...</td>\n",
       "      <td>...</td>\n",
       "      <td>...</td>\n",
       "      <td>...</td>\n",
       "    </tr>\n",
       "    <tr>\n",
       "      <td>2021-02-11</td>\n",
       "      <td>0.0</td>\n",
       "      <td>0.0</td>\n",
       "      <td>0.0</td>\n",
       "      <td>0.0</td>\n",
       "      <td>0.0</td>\n",
       "      <td>0.0</td>\n",
       "    </tr>\n",
       "    <tr>\n",
       "      <td>2021-02-12</td>\n",
       "      <td>0.0</td>\n",
       "      <td>0.0</td>\n",
       "      <td>0.0</td>\n",
       "      <td>0.0</td>\n",
       "      <td>0.0</td>\n",
       "      <td>0.0</td>\n",
       "    </tr>\n",
       "    <tr>\n",
       "      <td>2021-02-13</td>\n",
       "      <td>0.0</td>\n",
       "      <td>0.0</td>\n",
       "      <td>0.0</td>\n",
       "      <td>0.0</td>\n",
       "      <td>0.0</td>\n",
       "      <td>0.0</td>\n",
       "    </tr>\n",
       "    <tr>\n",
       "      <td>2021-02-14</td>\n",
       "      <td>0.0</td>\n",
       "      <td>0.0</td>\n",
       "      <td>0.0</td>\n",
       "      <td>0.0</td>\n",
       "      <td>0.0</td>\n",
       "      <td>0.0</td>\n",
       "    </tr>\n",
       "    <tr>\n",
       "      <td>2021-02-15</td>\n",
       "      <td>3.5</td>\n",
       "      <td>4.7</td>\n",
       "      <td>3.2</td>\n",
       "      <td>9.8</td>\n",
       "      <td>6.0</td>\n",
       "      <td>7.8</td>\n",
       "    </tr>\n",
       "  </tbody>\n",
       "</table>\n",
       "<p>777 rows × 6 columns</p>\n",
       "</div>"
      ],
      "text/plain": [
       "            Cabouw  De Bilt  Herwijnen  Hoek van Holland  Rotterdam  Schiphol\n",
       "Datum                                                                        \n",
       "2019-01-01     1.0      0.4        0.8               0.3        0.9       0.5\n",
       "2019-01-02     0.0      0.2        0.1               0.6        0.4       0.0\n",
       "2019-01-03     0.0      0.0        0.0               0.9        2.0       0.0\n",
       "2019-01-04     0.0      0.0        0.0               0.0        0.2       0.0\n",
       "2019-01-05     0.5      0.3        0.4               0.1        0.0       0.1\n",
       "...            ...      ...        ...               ...        ...       ...\n",
       "2021-02-11     0.0      0.0        0.0               0.0        0.0       0.0\n",
       "2021-02-12     0.0      0.0        0.0               0.0        0.0       0.0\n",
       "2021-02-13     0.0      0.0        0.0               0.0        0.0       0.0\n",
       "2021-02-14     0.0      0.0        0.0               0.0        0.0       0.0\n",
       "2021-02-15     3.5      4.7        3.2               9.8        6.0       7.8\n",
       "\n",
       "[777 rows x 6 columns]"
      ]
     },
     "execution_count": 292,
     "metadata": {},
     "output_type": "execute_result"
    }
   ],
   "source": [
    "# This code should generate a dataframe with all the different stations in the columns, \n",
    "# and the dates in the index\n",
    "knmi= KNMI(folder_path=r'.\\data')\n",
    "knmi.data"
   ]
  },
  {
   "cell_type": "code",
   "execution_count": null,
   "metadata": {},
   "outputs": [],
   "source": []
  },
  {
   "cell_type": "code",
   "execution_count": null,
   "metadata": {},
   "outputs": [],
   "source": []
  }
 ],
 "metadata": {
  "kernelspec": {
   "display_name": "Python 3",
   "language": "python",
   "name": "python3"
  },
  "language_info": {
   "codemirror_mode": {
    "name": "ipython",
    "version": 3
   },
   "file_extension": ".py",
   "mimetype": "text/x-python",
   "name": "python",
   "nbconvert_exporter": "python",
   "pygments_lexer": "ipython3",
   "version": "3.7.6"
  }
 },
 "nbformat": 4,
 "nbformat_minor": 2
}
