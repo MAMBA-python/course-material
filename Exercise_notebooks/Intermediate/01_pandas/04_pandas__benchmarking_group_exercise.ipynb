{
 "cells": [
  {
   "cell_type": "markdown",
   "metadata": {},
   "source": [
    "<figure>\n",
    "   <IMG SRC=\"https://mamba-python.nl/images/logo_basis.png\" WIDTH=125 ALIGN=\"right\">\n",
    "\n",
    "</figure>\n",
    "\n",
    "# Pandas benchmarking exercise\n",
    "    \n",
    "*Developed by MAMBA*\n",
    "\n",
    "This notebook contains 8 exercises with pandas. The exercises can be done individually or as a group. For the first 4 exercises (1.1 - 1.4) we use the IMDB top 1000 dataset. The other 4 exercises (2.1 - 2.4) use the covid-19 vaccine dataset. At the top of each of the 4 exercises there is code to obtain a DataFrame of the dataset.\n",
    "    \n",
    "The goal is to use the most efficient (in terms of computation time) Python code to obtain what is asked. You can use the [`%%timeit` jupyter command](https://jakevdp.github.io/PythonDataScienceHandbook/01.07-timing-and-profiling.html) to get the average execution time of a cell. Please be aware that variables created in a cell with `%%timeit` on top are not stored in memory and cannot be used later on. Therefore it is advised to write the code first and only use `%%timeit` in the end when you are sure the code does what it is supposed to do.\n",
    "    \n",
    "Relevant stackoverflow posts are available per exercise and listed at the end of this notebook under [tips](#Tips)."
   ]
  },
  {
   "cell_type": "markdown",
   "metadata": {},
   "source": [
    "## Table of contents\n",
    "\n",
    "1. [IMDB exercises](#1-IMDB-exercises)\n",
    "2. [Covid vaccine exercises](#2-Covid-vaccine-exercises)\n",
    "3. [Tips](#Tips)"
   ]
  },
  {
   "cell_type": "markdown",
   "metadata": {},
   "source": [
    "## 1 IMDB exercises"
   ]
  },
  {
   "cell_type": "code",
   "execution_count": 1,
   "metadata": {
    "scrolled": true
   },
   "outputs": [
    {
     "data": {
      "text/html": [
       "<div>\n",
       "<style scoped>\n",
       "    .dataframe tbody tr th:only-of-type {\n",
       "        vertical-align: middle;\n",
       "    }\n",
       "\n",
       "    .dataframe tbody tr th {\n",
       "        vertical-align: top;\n",
       "    }\n",
       "\n",
       "    .dataframe thead th {\n",
       "        text-align: right;\n",
       "    }\n",
       "</style>\n",
       "<table border=\"1\" class=\"dataframe\">\n",
       "  <thead>\n",
       "    <tr style=\"text-align: right;\">\n",
       "      <th></th>\n",
       "      <th>star_rating</th>\n",
       "      <th>title</th>\n",
       "      <th>content_rating</th>\n",
       "      <th>genre</th>\n",
       "      <th>duration</th>\n",
       "      <th>actors_list</th>\n",
       "    </tr>\n",
       "  </thead>\n",
       "  <tbody>\n",
       "    <tr>\n",
       "      <th>0</th>\n",
       "      <td>9.3</td>\n",
       "      <td>The Shawshank Redemption</td>\n",
       "      <td>R</td>\n",
       "      <td>Crime</td>\n",
       "      <td>142</td>\n",
       "      <td>[u'Tim Robbins', u'Morgan Freeman', u'Bob Gunt...</td>\n",
       "    </tr>\n",
       "    <tr>\n",
       "      <th>1</th>\n",
       "      <td>9.2</td>\n",
       "      <td>The Godfather</td>\n",
       "      <td>R</td>\n",
       "      <td>Crime</td>\n",
       "      <td>175</td>\n",
       "      <td>[u'Marlon Brando', u'Al Pacino', u'James Caan']</td>\n",
       "    </tr>\n",
       "    <tr>\n",
       "      <th>2</th>\n",
       "      <td>9.1</td>\n",
       "      <td>The Godfather: Part II</td>\n",
       "      <td>R</td>\n",
       "      <td>Crime</td>\n",
       "      <td>200</td>\n",
       "      <td>[u'Al Pacino', u'Robert De Niro', u'Robert Duv...</td>\n",
       "    </tr>\n",
       "    <tr>\n",
       "      <th>3</th>\n",
       "      <td>9.0</td>\n",
       "      <td>The Dark Knight</td>\n",
       "      <td>PG-13</td>\n",
       "      <td>Action</td>\n",
       "      <td>152</td>\n",
       "      <td>[u'Christian Bale', u'Heath Ledger', u'Aaron E...</td>\n",
       "    </tr>\n",
       "    <tr>\n",
       "      <th>4</th>\n",
       "      <td>8.9</td>\n",
       "      <td>Pulp Fiction</td>\n",
       "      <td>R</td>\n",
       "      <td>Crime</td>\n",
       "      <td>154</td>\n",
       "      <td>[u'John Travolta', u'Uma Thurman', u'Samuel L....</td>\n",
       "    </tr>\n",
       "  </tbody>\n",
       "</table>\n",
       "</div>"
      ],
      "text/plain": [
       "   star_rating                     title content_rating   genre  duration  \\\n",
       "0          9.3  The Shawshank Redemption              R   Crime       142   \n",
       "1          9.2             The Godfather              R   Crime       175   \n",
       "2          9.1    The Godfather: Part II              R   Crime       200   \n",
       "3          9.0           The Dark Knight          PG-13  Action       152   \n",
       "4          8.9              Pulp Fiction              R   Crime       154   \n",
       "\n",
       "                                         actors_list  \n",
       "0  [u'Tim Robbins', u'Morgan Freeman', u'Bob Gunt...  \n",
       "1    [u'Marlon Brando', u'Al Pacino', u'James Caan']  \n",
       "2  [u'Al Pacino', u'Robert De Niro', u'Robert Duv...  \n",
       "3  [u'Christian Bale', u'Heath Ledger', u'Aaron E...  \n",
       "4  [u'John Travolta', u'Uma Thurman', u'Samuel L....  "
      ]
     },
     "execution_count": 1,
     "metadata": {},
     "output_type": "execute_result"
    }
   ],
   "source": [
    "import pandas as pd\n",
    "imdb_df = pd.read_csv('imdb_1000.csv')\n",
    "imdb_df.head()"
   ]
  },
  {
   "cell_type": "markdown",
   "metadata": {},
   "source": [
    "## 1.1 ratings\n",
    "\n",
    "Find the most efficient way to add a column to the DataFrame with the movie title + the genre. Try at least the following methods:\n",
    "- using a for-loop\n",
    "- using the apply function\n",
    "- using a vector operation\n",
    "\n",
    "Your result should look like like this\n",
    "\n",
    "|   | star_rating |                    title | content_rating |  genre | duration |                                       actors_list |                      title_genre |\n",
    "|--:|------------:|-------------------------:|---------------:|-------:|---------:|--------------------------------------------------:|---------------------------------:|\n",
    "| 0 | 9.3         | The Shawshank Redemption | R              | Crime  | 142      | [u'Tim Robbins', u'Morgan Freeman', u'Bob Gunt... | The Shawshank Redemption (Crime) |\n",
    "| 1 | 9.2         | The Godfather            | R              | Crime  | 175      | [u'Marlon Brando', u'Al Pacino', u'James Caan']   | The Godfather (Crime)            |\n",
    "| 2 | 9.1         | The Godfather: Part II   | R              | Crime  | 200      | [u'Al Pacino', u'Robert De Niro', u'Robert Duv... | The Godfather: Part II (Crime)   |\n",
    "| 3 | 9.0         | The Dark Knight          | PG-13          | Action | 152      | [u'Christian Bale', u'Heath Ledger', u'Aaron E... | The Dark Knight (Action)         |\n",
    "| 4 | 8.9         | Pulp Fiction             | R              | Crime  | 154      | [u'John Travolta', u'Uma Thurman', u'Samuel L.... | Pulp Fiction (Crime)             |"
   ]
  },
  {
   "cell_type": "code",
   "execution_count": null,
   "metadata": {},
   "outputs": [],
   "source": []
  },
  {
   "cell_type": "markdown",
   "metadata": {},
   "source": [
    "## 1.2 Al Pacino\n",
    "\n",
    "Find the most efficient way to obtain the following:\n",
    "1. The number of movies in the IMDB top 1000 with Al Pacino in it\n",
    "2. The average duration and rating of the movies with Al Pacino in it\n",
    "3. The number movies with Al Pacino in it per genre"
   ]
  },
  {
   "cell_type": "code",
   "execution_count": 2,
   "metadata": {},
   "outputs": [
    {
     "name": "stderr",
     "output_type": "stream",
     "text": [
      "UsageError: Line magic function `%%timeit` not found.\n"
     ]
    }
   ],
   "source": [
    "# Robin & bas\n",
    "%%timeit\n",
    "imdb_df['actors_list'].str.contains('Al Pacino').value_counts()[True]"
   ]
  },
  {
   "cell_type": "code",
   "execution_count": null,
   "metadata": {},
   "outputs": [],
   "source": [
    "%%timeit\n",
    "actors_full_list = []\n",
    "\n",
    "regexp = re.compile(r'Al Pacino')\n",
    "count = 0\n",
    "for i, actors in imdb_df['actors_list'].items():\n",
    "    if regexp.search(actors):\n",
    "        count += 1\n",
    "print(count)"
   ]
  },
  {
   "cell_type": "markdown",
   "metadata": {},
   "source": [
    "## 1.3 Actors\n",
    "\n",
    "Find the most efficient way to obtain the following:\n",
    "1. a list with all the actors in the IMDB top 1000. The list should not contain any duplicates\n",
    "2. a pandas Series with the names of the actors as the index and the number of times an actor appears in the IMDB top 1000 as the values."
   ]
  },
  {
   "cell_type": "code",
   "execution_count": null,
   "metadata": {},
   "outputs": [],
   "source": [
    "import re\n",
    "actors"
   ]
  },
  {
   "cell_type": "code",
   "execution_count": null,
   "metadata": {},
   "outputs": [],
   "source": [
    "actors.split(',')\n",
    "\n",
    "[s.strip() for s in re.split(\",|\\[|]\", actors)]"
   ]
  },
  {
   "cell_type": "code",
   "execution_count": null,
   "metadata": {},
   "outputs": [],
   "source": [
    "%%timeit\n",
    "actors_full_list = []\n",
    "for i, actors in imdb_df['actors_list'].items():\n",
    "    actors_list = [s.strip() for s in re.split(\",|\\[|]\", actors)]\n",
    "    actors_full_list += actors_list\n",
    "    \n",
    "set(actors_full_list)"
   ]
  },
  {
   "cell_type": "code",
   "execution_count": null,
   "metadata": {},
   "outputs": [],
   "source": [
    "%%timeit\n",
    "actors_full_list = set()\n",
    "for i, actors in imdb_df['actors_list'].items():\n",
    "    actors_list = [s.strip() for s in re.split(\",|\\[|]\", actors)]\n",
    "    actors_full_list.update(set(actors_list))\n",
    "    "
   ]
  },
  {
   "cell_type": "markdown",
   "metadata": {},
   "source": [
    "## 1.4 Rating per actor\n",
    "\n",
    "Find the most efficient way to obtain the following:\n",
    "1. The average rating of the movies in the IMDB top1000 per actor. \n"
   ]
  },
  {
   "cell_type": "code",
   "execution_count": null,
   "metadata": {},
   "outputs": [],
   "source": []
  },
  {
   "cell_type": "markdown",
   "metadata": {},
   "source": [
    "## 1.5 Weird correlations\n",
    "\n",
    "1. add a column to the `imdb_df` with the number of words in the movie title.\n",
    "2. check if there is any correlation with the number of words in the movie title and the star-rating or duration of the movie.\n",
    "3. create a DataFrame with the average star_rating and duration per number of words in the movie title. See the example below (not the actual values)\n",
    "\n",
    "| nwords | average_star_rating | average_duration |\n",
    "|--------|---------------------|------------------|\n",
    "| 1      | 9.5                 | 120              |\n",
    "| 2      | 7.6                 | 200              |\n",
    "| ...    | ...                 | ...              |\n",
    "\n",
    "4. plot the table from exercise 3"
   ]
  },
  {
   "cell_type": "code",
   "execution_count": null,
   "metadata": {},
   "outputs": [],
   "source": []
  },
  {
   "cell_type": "markdown",
   "metadata": {},
   "source": [
    "## 2 Covid vaccine exercises\n",
    "\n",
    "For the following exercises we use the dataset `country_vaccinations.csv`. This dataset contains daily data per country about the covid 19 vaccines. The dataset is obtained from:\n",
    "https://github.com/owid/covid-19-data/tree/master/public/data/vaccinations"
   ]
  },
  {
   "cell_type": "code",
   "execution_count": null,
   "metadata": {},
   "outputs": [],
   "source": [
    "import pandas as pd\n",
    "vaccine_df = pd.read_csv(r'country_vaccinations.csv', index_col=0)"
   ]
  },
  {
   "cell_type": "markdown",
   "metadata": {},
   "source": [
    "## Exercise 2.1\n",
    "\n",
    "- What is the highest number of vaccine doses administered in one day in one country?\n",
    "- Which country had the highest number of vaccinations in a day? Which day was it?\n",
    "- Which country has the hight number of fully vaccinated people per hundred?"
   ]
  },
  {
   "cell_type": "code",
   "execution_count": null,
   "metadata": {},
   "outputs": [],
   "source": []
  },
  {
   "cell_type": "markdown",
   "metadata": {},
   "source": [
    "## Exercise 2.2 visualise time series\n",
    "\n",
    "- plot the number of daily vaccinations per million for the Netherlands, Belgium, Australia and Israel in one figure\n",
    "- create a plot with on the left y-axis a bar chart with the number of daily vaccinations in the Netherlands and on the right y-axis a line graph with the total vaccinations in the Netherlands. Both values plotted vs time on the x-axis."
   ]
  },
  {
   "cell_type": "code",
   "execution_count": null,
   "metadata": {},
   "outputs": [],
   "source": []
  },
  {
   "cell_type": "markdown",
   "metadata": {},
   "source": [
    "## Exercise 2.3 vaccine type\n",
    "\n",
    "- list all the countries that use or have used the Pfizer/BioNTech \tvaccin\n",
    "- find all the vaccine types that are in this dataset\n",
    "- create a Series with the vaccine types as index and the number of countries that use them as values"
   ]
  },
  {
   "cell_type": "code",
   "execution_count": null,
   "metadata": {},
   "outputs": [],
   "source": []
  },
  {
   "cell_type": "markdown",
   "metadata": {},
   "source": [
    "## Exercise 2.4 Dataset consistency\n",
    "\n",
    "The dataset contains the columns 'daily_vaccinations' and 'daily_vaccinations_per_million'. This gives us the option to compute the population per country. Since we have all the values per day we can check if the population values are fairly constant over time. If the population changes over such a short period of time, we have an indication that something is wrong with the data.\n",
    "\n",
    "- calculate the mean population over time per country.\n",
    "- calculate the standard deviation of the population over time per country.\n",
    "- use both previous values to find countries where the population changes over time."
   ]
  },
  {
   "cell_type": "code",
   "execution_count": null,
   "metadata": {},
   "outputs": [],
   "source": []
  },
  {
   "cell_type": "markdown",
   "metadata": {},
   "source": [
    "## Tips"
   ]
  },
  {
   "cell_type": "markdown",
   "metadata": {},
   "source": [
    "### Tips Exercise 1.1\n",
    "\n",
    "These stackoverflow posts can help you:\n",
    "- https://stackoverflow.com/questions/19377969/combine-two-columns-of-text-in-pandas-dataframe"
   ]
  },
  {
   "cell_type": "markdown",
   "metadata": {},
   "source": [
    "### Tips Exercise 1.2\n",
    "\n",
    "These stackoverflow posts can help you:\n",
    "- https://stackoverflow.com/questions/30944577/check-if-string-is-in-a-pandas-dataframe"
   ]
  },
  {
   "cell_type": "markdown",
   "metadata": {},
   "source": [
    "### Tips Exercise 1.3\n",
    "\n",
    "These stackoverflow posts can help you:\n",
    "- https://stackoverflow.com/questions/1894269/how-to-convert-string-representation-of-list-to-a-list\n",
    "- https://stackoverflow.com/questions/30885005/pandas-series-of-lists-to-one-series\n",
    "- https://stackoverflow.com/questions/2600191/how-can-i-count-the-occurrences-of-a-list-item\n",
    "- https://stackoverflow.com/questions/7961363/removing-duplicates-in-the-lists"
   ]
  },
  {
   "cell_type": "markdown",
   "metadata": {},
   "source": [
    "### Tips Exercise 1.4\n",
    "\n",
    "These stackoverflow posts can help you:\n",
    "- use the answer for exercise 1\n",
    "- https://stackoverflow.com/questions/30944577/check-if-string-is-in-a-pandas-dataframe"
   ]
  },
  {
   "cell_type": "markdown",
   "metadata": {},
   "source": [
    "### Tips Exercise 1.5\n",
    "\n",
    "These stackoverflow posts can help you:\n",
    "- https://stackoverflow.com/questions/45019319/pandas-split-a-string-and-then-create-a-new-column\n",
    "- https://stackoverflow.com/questions/52247376/count-total-number-of-list-elements-in-pandas-column\n",
    "- https://stackoverflow.com/questions/42579908/use-corr-to-get-the-correlation-between-two-columns\n",
    "- https://stackoverflow.com/questions/39403705/mean-of-values-in-a-column-for-unique-values-in-another-column\n",
    "- https://stackoverflow.com/questions/17812978/how-to-plot-two-columns-of-a-pandas-data-frame-using-points"
   ]
  },
  {
   "cell_type": "markdown",
   "metadata": {},
   "source": [
    "### Tips Exercise 2.1\n",
    "\n",
    "These stackoverflow posts can help you:\n",
    "- https://stackoverflow.com/questions/41509496/find-row-index-of-highest-value-in-given-column-of-dataframe\n",
    "- https://stackoverflow.com/questions/39403705/mean-of-values-in-a-column-for-unique-values-in-another-column\n"
   ]
  },
  {
   "cell_type": "markdown",
   "metadata": {},
   "source": [
    "### Tips Exercise 2.2\n",
    "\n",
    "These stackoverflow posts can help you:\n",
    "- https://stackoverflow.com/questions/44729498/plotting-data-from-multiple-pandas-data-frames-in-one-plot\n",
    "- https://stackoverflow.com/questions/29498652/plot-bar-graph-from-pandas-dataframe\n",
    "- https://stackoverflow.com/questions/51784495/plot-dataframe-with-two-y-axes"
   ]
  },
  {
   "cell_type": "markdown",
   "metadata": {},
   "source": [
    "### Tips Exercise 2.3\n",
    "\n",
    "These stackoverflow posts can help you:\n",
    "- https://stackoverflow.com/questions/30944577/check-if-string-is-in-a-pandas-dataframe\n"
   ]
  },
  {
   "cell_type": "markdown",
   "metadata": {},
   "source": [
    "### Tips Exercise 2.4\n",
    "\n",
    "These stackoverflow posts can help you:\n",
    "- https://stackoverflow.com/questions/39403705/mean-of-values-in-a-column-for-unique-values-in-another-column"
   ]
  }
 ],
 "metadata": {
  "kernelspec": {
   "display_name": "Python 3 (ipykernel)",
   "language": "python",
   "name": "python3"
  },
  "language_info": {
   "codemirror_mode": {
    "name": "ipython",
    "version": 3
   },
   "file_extension": ".py",
   "mimetype": "text/x-python",
   "name": "python",
   "nbconvert_exporter": "python",
   "pygments_lexer": "ipython3",
   "version": "3.10.6"
  }
 },
 "nbformat": 4,
 "nbformat_minor": 2
}
