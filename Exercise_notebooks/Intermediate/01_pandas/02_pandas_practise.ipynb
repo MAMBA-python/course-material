{
 "cells": [
  {
   "cell_type": "markdown",
   "metadata": {},
   "source": [
    "<figure>\n",
    "   <IMG SRC=\"https://mamba-python.nl/images/logo_basis.png\" WIDTH=125 ALIGN=\"right\">\n",
    "   \n",
    "</figure>\n",
    "\n",
    "#  1. Onderzoeken van de data\n",
    "\n",
    "Dit is het eerste deel van een serie oefeningen die zijn ontwikkeld voor de Python cursus van Nationale Nederlanden. Voor deze oefeningen wordt enige basiskennis van Python aangenomen. Hiervoor kunnen de basisoefeningen en de on-topic oefeningen over Pandas uit het cursusmateriaal van Mamba worden gemaakt.\n",
    "    \n",
    "In dit eerste deel zal je aan de slag gaan met het onderzoeken van een dataset met Python. In deel 2 komt de visualisatie aan bod en in deel 3 kan je zelf aan de slag met je eigen analyse."
   ]
  },
  {
   "cell_type": "markdown",
   "metadata": {},
   "source": [
    "### Inhoudsopgave<a id=\"top\"></a>\n",
    "1. [Dataset](#1)\n",
    "2. [Oefeningen](#2)"
   ]
  },
  {
   "cell_type": "markdown",
   "metadata": {},
   "source": [
    "### [1. Dataset ](#top)<a id=\"1\"></a>\n",
    "\n",
    "Voor deze oefeningen wordt gebruik gemaakt van een dataset uit de `sklearn` package. Dit is een Franse dataset met claims van derden voor een autoverzekering. Ieder regel bevat informatie over één verzekerde.\n",
    "\n",
    "In de module `nn_func` staat een functie, `load_mtpl`, waarmee we deze dataset kunnen inlezen. Bij het inlezen kunnen we het aantal samples kiezen. In dit geval kiezen we `10000` samples, het maximaal aantal samples wat je kan kiezen is `678013`. Hieronder staat de code om de dataset in te lezen (je kan e de waarschuwingen die opkomen negeren)."
   ]
  },
  {
   "cell_type": "code",
   "execution_count": 75,
   "metadata": {},
   "outputs": [],
   "source": [
    "from nn_func import load_mtpl"
   ]
  },
  {
   "cell_type": "code",
   "execution_count": 76,
   "metadata": {},
   "outputs": [
    {
     "name": "stderr",
     "output_type": "stream",
     "text": [
      "C:\\Anaconda3\\lib\\site-packages\\sklearn\\datasets\\_openml.py:660: UserWarning: Version 1 of dataset freMTPL2freq is inactive, meaning that issues have been found in the dataset. Try using a newer version from this URL: https://www.openml.org/data/v1/download/20649148/freMTPL2freq.arff\n",
      "  data_description['url']))\n",
      "C:\\Anaconda3\\lib\\site-packages\\sklearn\\datasets\\_openml.py:660: UserWarning: Version 1 of dataset freMTPL2sev is inactive, meaning that issues have been found in the dataset. Try using a newer version from this URL: https://www.openml.org/data/v1/download/20649149/freMTPL2sev.arff\n",
      "  data_description['url']))\n"
     ]
    }
   ],
   "source": [
    "df = load_mtpl(10000)"
   ]
  },
  {
   "cell_type": "markdown",
   "metadata": {},
   "source": [
    "### [2. Oefeningen](#top)<a id=\"2\"></a>\n",
    "Hieronder staan de oefeningen voor het onderzoeken van de dataset."
   ]
  },
  {
   "cell_type": "markdown",
   "metadata": {},
   "source": [
    "#### Opdracht 1 <a name=\"opdr1\"></a>\n",
    "Welke kolommen heeft het ingelezen dataframe `df`?"
   ]
  },
  {
   "cell_type": "code",
   "execution_count": null,
   "metadata": {},
   "outputs": [],
   "source": []
  },
  {
   "cell_type": "markdown",
   "metadata": {},
   "source": [
    "<a href=\"#antw1\">Antwoord Opdracht 1</a>"
   ]
  },
  {
   "cell_type": "markdown",
   "metadata": {},
   "source": [
    "#### Opdracht 2 <a name=\"opdr2\"></a>\n",
    "\n",
    "De kolom 'ClaimAmount' bevat de hoeveelheid geld die de verzkering moet uitbetalen. Wat is de gemiddelde hoeveelheid die betaald moet worden in deze dataset?"
   ]
  },
  {
   "cell_type": "code",
   "execution_count": null,
   "metadata": {},
   "outputs": [],
   "source": []
  },
  {
   "cell_type": "markdown",
   "metadata": {},
   "source": [
    "<a href=\"#antw2\">Antwoord Opdracht 2</a>"
   ]
  },
  {
   "cell_type": "markdown",
   "metadata": {},
   "source": [
    "#### Opdracht 3 <a name=\"opdr3\"></a>\n",
    "De kolom 'VehAge' bevat de leeftijd van de verzekerde auto. Vraag de volgende statistieken op van de leeftijd van de auto's in deze dataset:\n",
    "- minimum\n",
    "- gemiddelde\n",
    "- maximum\n",
    "- standaard deviatie\n",
    "- het 25, 50 en 75 percentiel"
   ]
  },
  {
   "cell_type": "code",
   "execution_count": null,
   "metadata": {},
   "outputs": [],
   "source": []
  },
  {
   "cell_type": "markdown",
   "metadata": {},
   "source": [
    "<a href=\"#antw3\">Antwoord Opdracht 3</a>"
   ]
  },
  {
   "cell_type": "markdown",
   "metadata": {},
   "source": [
    "#### Opdracht 4 <a name=\"opdr4\"></a>\n",
    "Iedere auto is ingedeeld in een categorie op basis van het vermogen. De categorie per auto is weergegeven in de kolom 'VehPower'. Hoeveel verschillende vermogenscategoriën bevat deze dataset. Gebruik de `unique` method van een pandas DataFrame."
   ]
  },
  {
   "cell_type": "code",
   "execution_count": null,
   "metadata": {},
   "outputs": [],
   "source": []
  },
  {
   "cell_type": "markdown",
   "metadata": {},
   "source": [
    "<a href=\"#antw4\">Antwoord Opdracht 4</a>"
   ]
  },
  {
   "cell_type": "markdown",
   "metadata": {},
   "source": [
    "#### Opdracht 5 <a name=\"opdr5\"></a>\n",
    "Vraag als eerste de gemiddelde leeftijd van alle auto's in de dataset op. De kolom 'DrivAge' bevat de leeftijd van de eigenaar. Vraag daarnaast ook de gemiddelde leeftijd van de auto's op van eigenaren boven de 50. Voor het maken van een subselectie van het dataframe kan je gebruik maken van boolean indexing, een voorbeeld daarvan is [hier te vinden](https://appdividend.com/2019/01/25/pandas-boolean-indexing-example-python-tutorial)."
   ]
  },
  {
   "cell_type": "code",
   "execution_count": null,
   "metadata": {},
   "outputs": [],
   "source": []
  },
  {
   "cell_type": "markdown",
   "metadata": {},
   "source": [
    "<a href=\"#antw5\">Antwoord Opdracht 5</a>"
   ]
  },
  {
   "cell_type": "markdown",
   "metadata": {},
   "source": [
    "#### Opdracht 6 <a name=\"opdr6\"></a>\n",
    "Print voor iedere kolom de unieke waarden die deze kolom bevat. Gebruik hiervoor een for-loop over de kolomnamen."
   ]
  },
  {
   "cell_type": "code",
   "execution_count": null,
   "metadata": {},
   "outputs": [],
   "source": []
  },
  {
   "cell_type": "markdown",
   "metadata": {},
   "source": [
    "<a href=\"#antw6\">Antwoord Opdracht 6</a>"
   ]
  },
  {
   "cell_type": "markdown",
   "metadata": {},
   "source": [
    "\n",
    "#### Opdracht 7 <a name=\"opdr7\"></a>\n",
    "Bekijk de 10 rijen met de hoogste claims ('ClaimAmount')."
   ]
  },
  {
   "cell_type": "code",
   "execution_count": null,
   "metadata": {},
   "outputs": [],
   "source": []
  },
  {
   "cell_type": "markdown",
   "metadata": {},
   "source": [
    "<a href=\"#antw7\">Antwoord Opdracht 7</a>"
   ]
  },
  {
   "cell_type": "markdown",
   "metadata": {},
   "source": [
    "\n",
    "## Antwoorden"
   ]
  },
  {
   "cell_type": "markdown",
   "metadata": {},
   "source": [
    "#### <a href=\"#opdr1\">Antwoord Opdracht 1</a> <a name=\"antw1\"></a>"
   ]
  },
  {
   "cell_type": "code",
   "execution_count": 18,
   "metadata": {},
   "outputs": [
    {
     "name": "stdout",
     "output_type": "stream",
     "text": [
      "Index(['ClaimNb', 'Exposure', 'Area', 'VehPower', 'VehAge', 'DrivAge',\n",
      "       'BonusMalus', 'VehBrand', 'VehGas', 'Density', 'Region', 'ClaimAmount'],\n",
      "      dtype='object')\n"
     ]
    }
   ],
   "source": [
    "print(df.columns)"
   ]
  },
  {
   "cell_type": "markdown",
   "metadata": {},
   "source": [
    "#### <a href=\"#opdr2\">Antwoord Opdracht 2</a> <a name=\"antw2\"></a>"
   ]
  },
  {
   "cell_type": "code",
   "execution_count": 56,
   "metadata": {},
   "outputs": [
    {
     "name": "stdout",
     "output_type": "stream",
     "text": [
      "70.9239879999999\n",
      "70.9239879999999\n",
      "70.9239879999999\n"
     ]
    }
   ],
   "source": [
    "# 3 verschillende mogelijkheden met hetzelfde resultaat\n",
    "print(df.ClaimAmount.mean())\n",
    "print(df['ClaimAmount'].mean())\n",
    "print(df.loc[: , 'ClaimAmount'].mean())"
   ]
  },
  {
   "cell_type": "markdown",
   "metadata": {},
   "source": [
    "#### <a href=\"#opdr3\">Antwoord Opdracht 3</a> <a name=\"antw3\"></a>"
   ]
  },
  {
   "cell_type": "code",
   "execution_count": 74,
   "metadata": {},
   "outputs": [
    {
     "data": {
      "text/plain": [
       "count    10000.000000\n",
       "mean         4.398900\n",
       "std          5.190691\n",
       "min          0.000000\n",
       "25%          0.000000\n",
       "50%          2.000000\n",
       "75%          8.000000\n",
       "max         42.000000\n",
       "Name: VehAge, dtype: float64"
      ]
     },
     "execution_count": 74,
     "metadata": {},
     "output_type": "execute_result"
    }
   ],
   "source": [
    "df.VehAge.describe()"
   ]
  },
  {
   "cell_type": "markdown",
   "metadata": {},
   "source": [
    "#### <a href=\"#opdr4\">Antwoord Opdracht 4</a> <a name=\"antw4\"></a>"
   ]
  },
  {
   "cell_type": "code",
   "execution_count": 70,
   "metadata": {},
   "outputs": [
    {
     "name": "stdout",
     "output_type": "stream",
     "text": [
      "[ 5.  6.  7.  4.  9. 15.  8. 10. 12. 11. 14. 13.]\n",
      "12\n"
     ]
    }
   ],
   "source": [
    "print(df['VehPower'].unique())\n",
    "print(len(df['VehPower'].unique()))"
   ]
  },
  {
   "cell_type": "markdown",
   "metadata": {},
   "source": [
    "#### <a href=\"#opdr5\">Antwoord Opdracht 5</a> <a name=\"antw5\"></a>"
   ]
  },
  {
   "cell_type": "code",
   "execution_count": 68,
   "metadata": {},
   "outputs": [
    {
     "name": "stdout",
     "output_type": "stream",
     "text": [
      "gemiddelde leeftijd auto's is 4.4 jaar\n",
      "gemiddelde leeftijd auto's van bestuurders boven de 50 is 4.9 jaar\n"
     ]
    }
   ],
   "source": [
    "mean_age = df.loc[:, 'VehAge'].mean()\n",
    "print(f\"gemiddelde leeftijd auto's is {mean_age:.1f} jaar\")\n",
    "mean_age_50plus = df.loc[df.loc[:, 'DrivAge'] > 50.0 , 'VehAge'].mean()\n",
    "print(f\"gemiddelde leeftijd auto's van bestuurders boven de 50 is \"\\\n",
    "      f\"{mean_age_50plus:.1f} jaar\")"
   ]
  },
  {
   "cell_type": "markdown",
   "metadata": {},
   "source": [
    "#### <a href=\"#opdr6\">Antwoord Opdracht 6</a> <a name=\"antw6\"></a>"
   ]
  },
  {
   "cell_type": "code",
   "execution_count": 69,
   "metadata": {},
   "outputs": [
    {
     "name": "stdout",
     "output_type": "stream",
     "text": [
      "kolom 'ClaimNb' bevat de volgende unieke waarden:\n",
      "[ 1.  2.  4.  3. 11.  0.]\n",
      "kolom 'Exposure' bevat de volgende unieke waarden:\n",
      "[0.1        0.77       0.75       0.09       0.84       0.52\n",
      " 0.45       0.27       0.71       0.15       0.87       0.81\n",
      " 0.05       0.76       0.34       0.74       0.03       0.06\n",
      " 0.55       0.19       0.01       0.79       0.04       0.8\n",
      " 0.07       0.39       0.47       0.69       0.16       0.12\n",
      " 0.41       0.46       0.82       0.11       0.08       0.02\n",
      " 0.72       0.14       0.5        0.92       0.9        0.78\n",
      " 0.83       0.67       0.13       0.59       0.21       0.65\n",
      " 0.42       0.85       0.73       0.23       0.48       0.37\n",
      " 0.86       0.17       0.24       0.63       0.51       0.64\n",
      " 0.66       0.18       0.31       0.35       0.25       0.62\n",
      " 0.22       0.7        0.58       0.28       0.61       0.53\n",
      " 0.2        0.00819672 0.00546448 0.43       0.33       0.57\n",
      " 0.36       0.56       0.3        0.6        0.68       0.97\n",
      " 0.54       0.44       0.49       0.29       0.32       0.26\n",
      " 0.00273224 0.96       0.98       0.88       0.4        0.89\n",
      " 0.38       0.95       0.94       0.93       0.91       1.\n",
      " 0.99      ]\n",
      "kolom 'Area' bevat de volgende unieke waarden:\n",
      "[D, B, E, C, F, A]\n",
      "Categories (6, object): [D, B, E, C, F, A]\n",
      "kolom 'VehPower' bevat de volgende unieke waarden:\n",
      "[ 5.  6.  7.  4.  9. 15.  8. 10. 12. 11. 14. 13.]\n",
      "kolom 'VehAge' bevat de volgende unieke waarden:\n",
      "[ 0.  2.  1.  9.  8.  4. 10.  5.  3.  6.  7. 15. 25. 29. 13. 14. 11. 12.\n",
      " 19. 18. 17. 16. 23. 26. 21. 20. 37. 22. 28. 27. 24. 30. 33. 42. 31.]\n",
      "kolom 'DrivAge' bevat de volgende unieke waarden:\n",
      "[55. 52. 46. 38. 33. 41. 56. 27. 23. 44. 32. 73. 59. 54. 69. 60. 43. 50.\n",
      " 30. 45. 40. 37. 28. 67. 62. 61. 42. 51. 53. 31. 65. 47. 75. 39. 22. 24.\n",
      " 48. 26. 49. 35. 29. 58. 74. 36. 76. 70. 34. 66. 63. 71. 57. 72. 25. 68.\n",
      " 64. 79. 78. 77. 20. 18. 21. 80. 19. 87. 81. 95. 86. 84. 88. 83. 90. 93.\n",
      " 82. 85. 91. 89. 99.]\n",
      "kolom 'BonusMalus' bevat de volgende unieke waarden:\n",
      "[ 50.  68.  90. 100.  76.  56.  71.  52.  85.  51.  54.  80.  66.  72.\n",
      "  55.  53.  60.  95.  64.  57.  58.  91.  62.  97.  74.  61.  63. 105.\n",
      " 106.  88.  67.  86.  75.  59.  77. 118.  73. 125.  70. 120.  69.  78.\n",
      "  82. 112.  65.  81. 115.  93.  83.  84.  92. 101. 109. 110.  79. 102.\n",
      " 140. 147. 156.]\n",
      "kolom 'VehBrand' bevat de volgende unieke waarden:\n",
      "[B12, B6, B3, B2, B5, ..., B14, B13, B4, B1, B11]\n",
      "Length: 11\n",
      "Categories (11, object): [B12, B6, B3, B2, ..., B13, B4, B1, B11]\n",
      "kolom 'VehGas' bevat de volgende unieke waarden:\n",
      "['Regular' 'Diesel']\n",
      "kolom 'Density' bevat de volgende unieke waarden:\n",
      "[1217.   54.   76. ... 2044. 1658.  636.]\n",
      "kolom 'Region' bevat de volgende unieke waarden:\n",
      "[R82, R22, R72, R31, R91, ..., R21, R41, R43, R74, R23]\n",
      "Length: 22\n",
      "Categories (22, object): [R82, R22, R72, R31, ..., R41, R43, R74, R23]\n",
      "kolom 'ClaimAmount' bevat de volgende unieke waarden:\n",
      "[0.000000e+00 3.030000e+02 1.981840e+03 1.456550e+03 1.083400e+04\n",
      " 3.986670e+03 1.840140e+03 1.397970e+03 9.719800e+02 1.442750e+03\n",
      " 6.374100e+02 3.048980e+03 4.573470e+03 3.847700e+02 1.859800e+02\n",
      " 6.710500e+02 2.840940e+03 7.240300e+02 3.401900e+03 2.975680e+03\n",
      " 1.692290e+03 4.220500e+02 7.622000e+01 7.041800e+02 1.852280e+03\n",
      " 5.643500e+02 3.365370e+03 1.761370e+03 5.530900e+02 6.313600e+02\n",
      " 6.467650e+03 1.322750e+03 8.852800e+02 9.240110e+03 1.878720e+03\n",
      " 1.219510e+03 9.840700e+02 3.647260e+03 1.183630e+03 4.166790e+03\n",
      " 1.096520e+03 7.917800e+02 5.451290e+03 6.239070e+03 1.255536e+04\n",
      " 1.551380e+03 1.309810e+03 3.265700e+02 4.091300e+02 1.473790e+03\n",
      " 5.492100e+02 4.338900e+02 1.746380e+03 5.751900e+02 1.440400e+03\n",
      " 1.405750e+03 7.876600e+02 1.911500e+02 5.340290e+03 3.783300e+02\n",
      " 3.218645e+04 8.303600e+02 3.950260e+03 1.662960e+03 6.807000e+02\n",
      " 6.002100e+02 5.947600e+02 8.314000e+01 5.532200e+02 2.031770e+03\n",
      " 8.935600e+02 9.024000e+01 5.812100e+02 8.387000e+01 1.175000e+03\n",
      " 5.791400e+02 4.070900e+02 8.917500e+02 6.473400e+02 2.101040e+03\n",
      " 7.423000e+01 2.767640e+03 7.348100e+02 6.266800e+02 7.427300e+02\n",
      " 7.986000e+01 7.468400e+02 7.293000e+01 7.121300e+02 5.644500e+02\n",
      " 1.449640e+03 1.037950e+03 1.181770e+03 1.284450e+03 1.826340e+03\n",
      " 3.432100e+02 6.241730e+03 1.128120e+03 1.626600e+03 1.093800e+02\n",
      " 3.560090e+03 1.206520e+03 1.006880e+03 1.021820e+03 8.430000e+01\n",
      " 1.095600e+02 1.544320e+03 8.205800e+02 3.166200e+02 1.700930e+03\n",
      " 5.203200e+02 6.934800e+04 9.299000e+01 6.494600e+02 2.581500e+02\n",
      " 5.468420e+03 3.714990e+03 2.507481e+04 2.514570e+03 5.777000e+01\n",
      " 1.016000e+01 2.256240e+03 1.253000e+03 3.674900e+02 1.338000e+01\n",
      " 7.165100e+03 7.355700e+02 2.341500e+02 6.645890e+04 7.705400e+02\n",
      " 9.568400e+02 2.703840e+03 1.085096e+04 7.721700e+02 1.232630e+03\n",
      " 2.332410e+03 6.386000e+01 6.799100e+02 1.057940e+03 2.408600e+02\n",
      " 1.368550e+03 5.049300e+02 3.082941e+04 4.836600e+03 2.158400e+02\n",
      " 5.000000e+02 1.189410e+03 4.027900e+02 7.953800e+02 2.163720e+03\n",
      " 2.821160e+03 8.582800e+02 3.115360e+03 5.692000e+02 7.162300e+02\n",
      " 5.877300e+02 2.178900e+02 1.721480e+03 1.040720e+04 1.610300e+02\n",
      " 1.718910e+03 4.929700e+02 1.152450e+03 1.333900e+02 7.532000e+01\n",
      " 1.085440e+03 3.407200e+03 3.664000e+02 6.892000e+01 1.247730e+03\n",
      " 9.243000e+01 7.147000e+01 1.250080e+03 1.320240e+03 1.957960e+03\n",
      " 6.632000e+01 2.839200e+03 9.140900e+02 1.396500e+02 6.400000e+01\n",
      " 3.921130e+03 4.001500e+02 5.640600e+02 4.620100e+02 3.049000e+02\n",
      " 1.392520e+03 7.611000e+01 8.672100e+02 5.381500e+02 2.081300e+02\n",
      " 6.256000e+01 7.913000e+01 4.276000e+01 2.564570e+03 7.622450e+03\n",
      " 3.000000e+03 8.409000e+01 7.902510e+03 1.472370e+03 3.892100e+02\n",
      " 8.031400e+02 4.059100e+02 4.817740e+03 1.387240e+03 6.724800e+02\n",
      " 1.377950e+03 9.713000e+01 2.174700e+03 9.633500e+02 1.491020e+03\n",
      " 1.865730e+03 5.596000e+01 7.083380e+03 5.046000e+01 5.774000e+01\n",
      " 1.357000e+02 7.000000e+02 3.648100e+02 2.666592e+04 2.738800e+02\n",
      " 4.311800e+02 4.749750e+03 8.497000e+01 1.009690e+03 3.293020e+03\n",
      " 1.393490e+03 2.081530e+03 4.665100e+02 1.824170e+03 3.242100e+02\n",
      " 6.967000e+02 5.283500e+02 4.072100e+02 1.246340e+03 2.645300e+02\n",
      " 9.387000e+01]\n"
     ]
    }
   ],
   "source": [
    "for col in df.columns:\n",
    "    print(f\"kolom '{col}' bevat de volgende unieke waarden:\")\n",
    "    print(df.loc[:,col].unique())"
   ]
  },
  {
   "cell_type": "markdown",
   "metadata": {},
   "source": [
    "#### <a href=\"#opdr7\">Antwoord Opdracht 7</a> <a name=\"antw7\"></a>"
   ]
  },
  {
   "cell_type": "code",
   "execution_count": null,
   "metadata": {},
   "outputs": [],
   "source": [
    "df.sort_values('ClaimAmount', ascending=False)[:10]"
   ]
  }
 ],
 "metadata": {
  "kernelspec": {
   "display_name": "Python 3",
   "language": "python",
   "name": "python3"
  },
  "language_info": {
   "codemirror_mode": {
    "name": "ipython",
    "version": 3
   },
   "file_extension": ".py",
   "mimetype": "text/x-python",
   "name": "python",
   "nbconvert_exporter": "python",
   "pygments_lexer": "ipython3",
   "version": "3.7.6"
  }
 },
 "nbformat": 4,
 "nbformat_minor": 2
}
