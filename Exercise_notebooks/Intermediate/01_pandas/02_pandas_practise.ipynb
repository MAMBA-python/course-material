{
 "cells": [
  {
   "cell_type": "markdown",
   "metadata": {},
   "source": [
    "<figure>\n",
    "   <IMG SRC=\"https://mamba-python.nl/images/logo_basis.png\" WIDTH=125 ALIGN=\"right\">\n",
    "   \n",
    "</figure>\n",
    "\n",
    "#  1. Onderzoeken van de data\n",
    "\n",
    "Dit is het eerste deel van een serie oefeningen voor pandas. Voor deze oefeningen wordt enige basiskennis van Python aangenomen. Hiervoor kunnen de basisoefeningen en de basis oefeningen over Pandas uit het cursusmateriaal van Mamba worden gemaakt.\n",
    "    \n",
    "In dit eerste deel zal je aan de slag gaan met het onderzoeken van een dataset met Python. In deel 2 komt de visualisatie aan bod."
   ]
  },
  {
   "cell_type": "markdown",
   "metadata": {},
   "source": [
    "### Inhoudsopgave<a id=\"top\"></a>\n",
    "1. [Dataset](#1)\n",
    "2. [Oefeningen](#2)"
   ]
  },
  {
   "cell_type": "markdown",
   "metadata": {},
   "source": [
    "### [1. Dataset ](#top)<a id=\"1\"></a>\n",
    "\n",
    "Voor deze oefeningen wordt gebruik gemaakt van een dataset uit de `sklearn` package. Dit is een Franse dataset met claims van derden voor een autoverzekering. Ieder regel bevat informatie over één verzekerde.\n",
    "\n",
    "In de module `nn_func` staat een functie, `load_mtpl`, waarmee we deze dataset kunnen inlezen. Bij het inlezen kunnen we het aantal samples kiezen. In dit geval kiezen we `10000` samples, het maximaal aantal samples wat je kan kiezen is `678013`. Hieronder staat de code om de dataset in te lezen (je kan e de waarschuwingen die opkomen negeren)."
   ]
  },
  {
   "cell_type": "code",
   "execution_count": null,
   "metadata": {},
   "outputs": [],
   "source": [
    "from nn_func import load_mtpl"
   ]
  },
  {
   "cell_type": "code",
   "execution_count": null,
   "metadata": {},
   "outputs": [],
   "source": [
    "df = load_mtpl(10000)"
   ]
  },
  {
   "cell_type": "markdown",
   "metadata": {},
   "source": [
    "### [2. Oefeningen](#top)<a id=\"2\"></a>\n",
    "Hieronder staan de oefeningen voor het onderzoeken van de dataset."
   ]
  },
  {
   "cell_type": "markdown",
   "metadata": {},
   "source": [
    "#### Opdracht 1 <a name=\"opdr1\"></a>\n",
    "Welke kolommen heeft het ingelezen dataframe `df`?"
   ]
  },
  {
   "cell_type": "code",
   "execution_count": null,
   "metadata": {},
   "outputs": [],
   "source": []
  },
  {
   "cell_type": "markdown",
   "metadata": {},
   "source": [
    "<a href=\"#antw1\">Antwoord Opdracht 1</a>"
   ]
  },
  {
   "cell_type": "markdown",
   "metadata": {},
   "source": [
    "#### Opdracht 2 <a name=\"opdr2\"></a>\n",
    "\n",
    "De kolom 'ClaimAmount' bevat de hoeveelheid geld die de verzkering moet uitbetalen. Wat is de gemiddelde hoeveelheid die betaald moet worden in deze dataset?"
   ]
  },
  {
   "cell_type": "code",
   "execution_count": null,
   "metadata": {},
   "outputs": [],
   "source": []
  },
  {
   "cell_type": "markdown",
   "metadata": {},
   "source": [
    "<a href=\"#antw2\">Antwoord Opdracht 2</a>"
   ]
  },
  {
   "cell_type": "markdown",
   "metadata": {},
   "source": [
    "#### Opdracht 3 <a name=\"opdr3\"></a>\n",
    "De kolom 'VehAge' bevat de leeftijd van de verzekerde auto. Vraag de volgende statistieken op van de leeftijd van de auto's in deze dataset:\n",
    "- minimum\n",
    "- gemiddelde\n",
    "- maximum\n",
    "- standaard deviatie\n",
    "- het 25, 50 en 75 percentiel"
   ]
  },
  {
   "cell_type": "code",
   "execution_count": null,
   "metadata": {},
   "outputs": [],
   "source": []
  },
  {
   "cell_type": "markdown",
   "metadata": {},
   "source": [
    "<a href=\"#antw3\">Antwoord Opdracht 3</a>"
   ]
  },
  {
   "cell_type": "markdown",
   "metadata": {},
   "source": [
    "#### Opdracht 4 <a name=\"opdr4\"></a>\n",
    "Iedere auto is ingedeeld in een categorie op basis van het vermogen. De categorie per auto is weergegeven in de kolom 'VehPower'. Hoeveel verschillende vermogenscategoriën bevat deze dataset. Gebruik de `unique` method van een pandas DataFrame."
   ]
  },
  {
   "cell_type": "code",
   "execution_count": null,
   "metadata": {},
   "outputs": [],
   "source": []
  },
  {
   "cell_type": "markdown",
   "metadata": {},
   "source": [
    "<a href=\"#antw4\">Antwoord Opdracht 4</a>"
   ]
  },
  {
   "cell_type": "markdown",
   "metadata": {},
   "source": [
    "#### Opdracht 5 <a name=\"opdr5\"></a>\n",
    "Vraag als eerste de gemiddelde leeftijd van alle auto's in de dataset op. De kolom 'DrivAge' bevat de leeftijd van de eigenaar. Vraag daarnaast ook de gemiddelde leeftijd van de auto's op van eigenaren boven de 50. Voor het maken van een subselectie van het dataframe kan je gebruik maken van boolean indexing, een voorbeeld daarvan is [hier te vinden](https://appdividend.com/2019/01/25/pandas-boolean-indexing-example-python-tutorial)."
   ]
  },
  {
   "cell_type": "code",
   "execution_count": null,
   "metadata": {},
   "outputs": [],
   "source": []
  },
  {
   "cell_type": "markdown",
   "metadata": {},
   "source": [
    "<a href=\"#antw5\">Antwoord Opdracht 5</a>"
   ]
  },
  {
   "cell_type": "markdown",
   "metadata": {},
   "source": [
    "#### Opdracht 6 <a name=\"opdr6\"></a>\n",
    "Print voor iedere kolom de unieke waarden die deze kolom bevat. Gebruik hiervoor een for-loop over de kolomnamen."
   ]
  },
  {
   "cell_type": "code",
   "execution_count": null,
   "metadata": {},
   "outputs": [],
   "source": []
  },
  {
   "cell_type": "markdown",
   "metadata": {},
   "source": [
    "<a href=\"#antw6\">Antwoord Opdracht 6</a>"
   ]
  },
  {
   "cell_type": "markdown",
   "metadata": {},
   "source": [
    "\n",
    "#### Opdracht 7 <a name=\"opdr7\"></a>\n",
    "Bekijk de 10 rijen met de hoogste claims ('ClaimAmount')."
   ]
  },
  {
   "cell_type": "code",
   "execution_count": null,
   "metadata": {},
   "outputs": [],
   "source": []
  },
  {
   "cell_type": "markdown",
   "metadata": {},
   "source": [
    "<a href=\"#antw7\">Antwoord Opdracht 7</a>"
   ]
  },
  {
   "cell_type": "markdown",
   "metadata": {},
   "source": [
    "\n",
    "## Antwoorden"
   ]
  },
  {
   "cell_type": "markdown",
   "metadata": {},
   "source": [
    "#### <a href=\"#opdr1\">Antwoord Opdracht 1</a> <a name=\"antw1\"></a>"
   ]
  },
  {
   "cell_type": "code",
   "execution_count": null,
   "metadata": {},
   "outputs": [],
   "source": [
    "print(df.columns)"
   ]
  },
  {
   "cell_type": "markdown",
   "metadata": {},
   "source": [
    "#### <a href=\"#opdr2\">Antwoord Opdracht 2</a> <a name=\"antw2\"></a>"
   ]
  },
  {
   "cell_type": "code",
   "execution_count": null,
   "metadata": {},
   "outputs": [],
   "source": [
    "# 3 verschillende mogelijkheden met hetzelfde resultaat\n",
    "print(df.ClaimAmount.mean())\n",
    "print(df['ClaimAmount'].mean())\n",
    "print(df.loc[: , 'ClaimAmount'].mean())"
   ]
  },
  {
   "cell_type": "markdown",
   "metadata": {},
   "source": [
    "#### <a href=\"#opdr3\">Antwoord Opdracht 3</a> <a name=\"antw3\"></a>"
   ]
  },
  {
   "cell_type": "code",
   "execution_count": null,
   "metadata": {},
   "outputs": [],
   "source": [
    "df.VehAge.describe()"
   ]
  },
  {
   "cell_type": "markdown",
   "metadata": {},
   "source": [
    "#### <a href=\"#opdr4\">Antwoord Opdracht 4</a> <a name=\"antw4\"></a>"
   ]
  },
  {
   "cell_type": "code",
   "execution_count": null,
   "metadata": {},
   "outputs": [],
   "source": [
    "print(df['VehPower'].unique())\n",
    "print(len(df['VehPower'].unique()))"
   ]
  },
  {
   "cell_type": "markdown",
   "metadata": {},
   "source": [
    "#### <a href=\"#opdr5\">Antwoord Opdracht 5</a> <a name=\"antw5\"></a>"
   ]
  },
  {
   "cell_type": "code",
   "execution_count": null,
   "metadata": {},
   "outputs": [],
   "source": [
    "mean_age = df.loc[:, 'VehAge'].mean()\n",
    "print(f\"gemiddelde leeftijd auto's is {mean_age:.1f} jaar\")\n",
    "mean_age_50plus = df.loc[df.loc[:, 'DrivAge'] > 50.0 , 'VehAge'].mean()\n",
    "print(f\"gemiddelde leeftijd auto's van bestuurders boven de 50 is \"\\\n",
    "      f\"{mean_age_50plus:.1f} jaar\")"
   ]
  },
  {
   "cell_type": "markdown",
   "metadata": {},
   "source": [
    "#### <a href=\"#opdr6\">Antwoord Opdracht 6</a> <a name=\"antw6\"></a>"
   ]
  },
  {
   "cell_type": "code",
   "execution_count": null,
   "metadata": {},
   "outputs": [],
   "source": [
    "for col in df.columns:\n",
    "    print(f\"kolom '{col}' bevat de volgende unieke waarden:\")\n",
    "    print(df.loc[:,col].unique())"
   ]
  },
  {
   "cell_type": "markdown",
   "metadata": {},
   "source": [
    "#### <a href=\"#opdr7\">Antwoord Opdracht 7</a> <a name=\"antw7\"></a>"
   ]
  },
  {
   "cell_type": "code",
   "execution_count": null,
   "metadata": {},
   "outputs": [],
   "source": [
    "df.sort_values('ClaimAmount', ascending=False)[:10]"
   ]
  }
 ],
 "metadata": {
  "kernelspec": {
   "display_name": "Python 3 (ipykernel)",
   "language": "python",
   "name": "python3"
  },
  "language_info": {
   "codemirror_mode": {
    "name": "ipython",
    "version": 3
   },
   "file_extension": ".py",
   "mimetype": "text/x-python",
   "name": "python",
   "nbconvert_exporter": "python",
   "pygments_lexer": "ipython3",
   "version": "3.10.6"
  }
 },
 "nbformat": 4,
 "nbformat_minor": 2
}
