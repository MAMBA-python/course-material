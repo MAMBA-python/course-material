{
 "cells": [
  {
   "cell_type": "markdown",
   "metadata": {},
   "source": [
    "<figure>\n",
    "   <IMG SRC=\"https://mamba-python.nl/images/logo_basis.png\" WIDTH=125 ALIGN=\"right\">\n",
    "\n",
    "</figure>\n",
    "\n",
    "# Riddles in a group Exercise\n",
    "\n",
    "This notebook contains 4 exercises with functions. This exercises can be done individually or as a group. The last section of the notebook provides hints per exercise. \n",
    "\n",
    "*Developed by MAMBA"
   ]
  },
  {
   "attachments": {},
   "cell_type": "markdown",
   "metadata": {},
   "source": [
    "## Sum of 2 elements in list\n",
    "\n",
    "Create a function called `add_items`. The function should take three arguments as input: the input_list, index_1 and index_2 and should return the sum of the elements at those index points. \n",
    "\n",
    "E.g.\n",
    " \n",
    "`vb_list = [2, 6, 10, 2]`\n",
    "\n",
    "`add_items(vb_list, 0, 3)` \n",
    "\n",
    "should return the value `4`. \n",
    "\n",
    "Call your function to see if it gives the results you expect. Next, verify if you function works by running the cell with the `assert` statements below. Assert checks the actual output of the function with the value it expects.\n"
   ]
  },
  {
   "cell_type": "code",
   "execution_count": null,
   "metadata": {},
   "outputs": [],
   "source": [
    "# create your function here\n"
   ]
  },
  {
   "cell_type": "code",
   "execution_count": null,
   "metadata": {},
   "outputs": [],
   "source": [
    "# call your function here\n"
   ]
  },
  {
   "cell_type": "code",
   "execution_count": null,
   "metadata": {},
   "outputs": [],
   "source": [
    "# run these checks to see if your function works as expected.\n",
    "assert add_items([2, 6, 8, 2, 1], 0, 1) == 8, f'The value should be 8, but is {add_items([2, 6, 8, 2, 1], 0, 1)} instead'\n",
    "assert add_items([2, 6, 8, 2, 1], 3, 4) == 3, f'The value should be 8, but is {add_items([2, 6, 8, 2, 1], 3, 4)} instead'\n",
    "\n",
    "print('your function works')"
   ]
  },
  {
   "cell_type": "markdown",
   "metadata": {},
   "source": [
    "## The Geometric Sequence\n",
    "\n",
    "A geometric sequence is a sequence of numbers in which each term is found by multiplying the previous term by a contstant factor. \n",
    "\n",
    "E.g. the geometric sequence with starting value 2 and factor 3 looks like this:\n",
    "\n",
    "`2, 6, 18, 54, 162 ....`\n",
    "\n",
    "Create a function called `geometric_sequence` which takes the input arguments: `start_value`, `factor` and `n` as input value and returns a list with the first n numbers of the geometric sequence defined by the start_value and factor. "
   ]
  },
  {
   "cell_type": "code",
   "execution_count": null,
   "metadata": {},
   "outputs": [],
   "source": [
    "# create your function here"
   ]
  },
  {
   "cell_type": "code",
   "execution_count": null,
   "metadata": {},
   "outputs": [],
   "source": [
    "# call your function here"
   ]
  },
  {
   "cell_type": "code",
   "execution_count": null,
   "metadata": {},
   "outputs": [],
   "source": [
    "# Verify if your function works as expected by comparing results with expected values\n",
    "assert geometric_sequence(2, 3, 3) == [2, 6, 18], 'geometric_sequence(2, 3, 3) should return [2, 6, 18] but returns {geometric_sequence(2, 3, 3)} instead'\n",
    "assert geometric_sequence(4, 5, 0) == [], 'The function should return an empyty list when we ask for a list with length 0'\n",
    "\n",
    "print('The function works!')"
   ]
  },
  {
   "cell_type": "markdown",
   "metadata": {},
   "source": [
    "## The Geometric Sequence Extended\n",
    "\n",
    "Create a function called `get_elements_of_geometric_sequence` that has as input arguments: start_value, factor, *args ---> where the function should return a list with the elements of the geometric sequence at the indices specified in the args. So:\n",
    "\n",
    "`get_elements_of_geometric_sequence(2, 3, 0, 1, 4)`\n",
    "\n",
    "should return \n",
    "\n",
    "`[2, 6, 162]`\n",
    "\n",
    "while \n",
    "\n",
    "`get_elements_of_geometric_sequence(2, 3, 1)`\n",
    "\n",
    "should return\n",
    "\n",
    "`[6]`\n"
   ]
  },
  {
   "cell_type": "code",
   "execution_count": null,
   "metadata": {},
   "outputs": [],
   "source": [
    "# create your function here\n"
   ]
  },
  {
   "cell_type": "code",
   "execution_count": null,
   "metadata": {},
   "outputs": [],
   "source": [
    "# call your function here\n"
   ]
  },
  {
   "cell_type": "code",
   "execution_count": null,
   "metadata": {},
   "outputs": [],
   "source": [
    "# Verify if your function works as expected by comparing results with expected values\n",
    "assert get_elements_of_geometric_sequence(2, 3, 0, 1, 4) == [2, 6, 162], 'get_elements_of_geometric_sequence(2, 3, 0, 1, 4) should return [2, 6, 162] but returns {get_elements_of_geometric_sequence(2, 3, 0, 1, 4)} instead'\n",
    "assert get_elements_of_geometric_sequence(1,6) == [], 'The function should return an empyty list when no indices of the sequence are specified.'\n",
    "\n",
    "print('The function works!')"
   ]
  },
  {
   "cell_type": "markdown",
   "metadata": {},
   "source": [
    "## Decorators! :)\n",
    "\n",
    "Create a decorator called `timing_decorator` that wraps any given function and when applied shows the time that decorated function took to run. \n",
    "Hint: you can use the `time` function of the `time` package (`time.time() returns the current time`) to get the time before and after you call the original function. \n",
    "The execution time should be printen. \n",
    "\n",
    "Decorate the following in the cell below:\n"
   ]
  },
  {
   "cell_type": "code",
   "execution_count": null,
   "metadata": {},
   "outputs": [],
   "source": [
    "import time\n",
    "def waste_some_time(sec):\n",
    "    \"spend the given numner of seconds doing nothing\"\n",
    "    time.sleep(sec)"
   ]
  },
  {
   "cell_type": "code",
   "execution_count": null,
   "metadata": {},
   "outputs": [],
   "source": [
    "# create your decorator here\n"
   ]
  },
  {
   "cell_type": "code",
   "execution_count": null,
   "metadata": {},
   "outputs": [],
   "source": [
    "# Decorate the function 'waste_some_time' here\n"
   ]
  },
  {
   "cell_type": "code",
   "execution_count": null,
   "metadata": {},
   "outputs": [],
   "source": [
    "# Test your decorated function! \n"
   ]
  },
  {
   "cell_type": "markdown",
   "metadata": {},
   "source": [
    "## Factorials\n",
    "\n",
    "Create a function called `factorial` that calculates the factorial of a given number n. \n",
    "The factorial `n!` of a number n is defined as the product of all values between 1 and n:\n",
    "\n",
    "`n! = n * n-1 * n-2 * n-3 * ..... * 1`\n",
    "\n",
    "Test the calculation time of the function with you wrapper for different input values. \n",
    "\n",
    "(note: there is a pre-programmed function called math.factorial (from the `math` package -- you're not suppossed to use that. Squeeze your brains and see if you can sort it out without Google!))"
   ]
  },
  {
   "cell_type": "code",
   "execution_count": null,
   "metadata": {},
   "outputs": [],
   "source": [
    "# Create your decorated function here"
   ]
  },
  {
   "cell_type": "code",
   "execution_count": null,
   "metadata": {},
   "outputs": [],
   "source": [
    "# Call your function for different values of n. Does the calculation time increase significantly for larger values of n?"
   ]
  },
  {
   "cell_type": "code",
   "execution_count": null,
   "metadata": {},
   "outputs": [],
   "source": [
    "import math\n",
    "assert factorial(9) == math.factorial(9), f'factorial(9) should equal {math.factorial(9)}, but equals {factorial(9)} instead'\n",
    "assert factorial(3) == math.factorial(3), f'factorial(3) should equal {math.factorial(3)}, but equals {factorial(3)} instead'"
   ]
  },
  {
   "cell_type": "markdown",
   "metadata": {},
   "source": [
    "## Factorials & Recursive Functions\n",
    "\n",
    "It's time for the icing on the cake: Recursive Functions. Why? Because we can. \n",
    "\n",
    "A recursive function is a function that repeatedly calls itself. An example is the example function below that calculates the fibonacci sequence.\n",
    "Your task is to create a recursive function called `factorial_recursive` to calculate the factorial of a number n. Decorate the function with your time_decorator and see the difference in performance between your original version and the recursive version. Which one performs better? When would you use recursive functions?\n",
    "\n",
    "(Hint: in order to undertstand the behaviour - put in some print arguments at the start of the function and right before the return statement - or view its execution in the website https://pythontutor.com/render.html#mode=display -- you need to copy paste the code). "
   ]
  },
  {
   "cell_type": "code",
   "execution_count": null,
   "metadata": {},
   "outputs": [],
   "source": [
    "# The Fibonacci sequence is a beautiful mathematical sequence such that each number is the sum of the two preceding ones, starting from 0 and 1.\n",
    "# It looks like this: [0, 1, 1, 2, 3, 5, 8, 13, 21, 34, .....]\n",
    "def fibonacci(n):\n",
    "    if n <= 0:\n",
    "        return 0\n",
    "    elif n == 1:\n",
    "        return 1\n",
    "    else:\n",
    "        return fibonacci(n - 1) + fibonacci(n - 2)\n",
    "\n",
    "# Return the value at index 5 (the sixth number) of the fibonacci sequence:\n",
    "fibonacci(5)"
   ]
  },
  {
   "cell_type": "code",
   "execution_count": null,
   "metadata": {},
   "outputs": [],
   "source": [
    "# create your decorated function here"
   ]
  },
  {
   "cell_type": "code",
   "execution_count": null,
   "metadata": {},
   "outputs": [],
   "source": [
    "# call your function here"
   ]
  },
  {
   "cell_type": "code",
   "execution_count": null,
   "metadata": {},
   "outputs": [],
   "source": [
    "# test if your functions works with the code below\n",
    "import math\n",
    "assert factorial_recursive(3) == math.factorial(3), f'factorial(3) should equal {math.factorial(3)}, but equals {factorial_recursive(3)} instead'\n",
    "assert factorial_recursive(9) == math.factorial(9), f'factorial(9) should equal {math.factorial(9)}, but equals {factorial_recursive(9)} instead'\n",
    "\n",
    "print('works!!!!')"
   ]
  }
 ],
 "metadata": {
  "kernelspec": {
   "display_name": "Python 3",
   "language": "python",
   "name": "python3"
  },
  "language_info": {
   "codemirror_mode": {
    "name": "ipython",
    "version": 3
   },
   "file_extension": ".py",
   "mimetype": "text/x-python",
   "name": "python",
   "nbconvert_exporter": "python",
   "pygments_lexer": "ipython3",
   "version": "3.10.6"
  }
 },
 "nbformat": 4,
 "nbformat_minor": 2
}
