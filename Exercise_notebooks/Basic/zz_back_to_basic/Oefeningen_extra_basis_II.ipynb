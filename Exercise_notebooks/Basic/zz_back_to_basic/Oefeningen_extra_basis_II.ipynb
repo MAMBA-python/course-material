{
 "cells": [
  {
   "cell_type": "markdown",
   "metadata": {},
   "source": [
    "<figure>\n",
    "   <IMG SRC=\"https://mamba-python.nl/images/logo_basis.png\" WIDTH=125 ALIGN=\"right\">\n",
    "\n",
    "</figure>\n",
    "    \n",
    "    \n",
    "# Extra oefeningen begrip Python II\n",
    "\n",
    "Dit notebook geeft extra basis oefeningen (zonder antwoorden) voor deelnemers die zich nog wat meer eigen willen maken met de basis van Python. \n",
    "\n",
    "De oefeningen behandelen:\n",
    "\n",
    "- uitbereiding for & if statements\n",
    "- datatype dictionary\n",
    "- functies\n",
    "\n",
    "<it> Developed by MAMBA </it> "
   ]
  },
  {
   "cell_type": "markdown",
   "metadata": {},
   "source": [
    "## Dictionary\n",
    "\n",
    "Het datatype dictionary geeft een verzameling van variabelen, waarbij elke variabele gekoppeld zit aan een unieke key. Via die key kan je elementen opvragen. \n",
    "\n",
    "Dictionaries definieer je met de curly brackets {'key1': waarde1, 'key2': waarde2}\n"
   ]
  },
  {
   "cell_type": "code",
   "execution_count": 3,
   "metadata": {},
   "outputs": [
    {
     "name": "stdout",
     "output_type": "stream",
     "text": [
      "Arthur Japin\n",
      "{'schrijver': 'A. Japin', 'titel': 'De overgave', 'eerste_druk': 2007, 'blz': 366}\n"
     ]
    }
   ],
   "source": [
    "dict_vb = {'schrijver': 'Arthur Japin', 'titel': 'De overgave', 'eerste_druk': 2007}\n",
    "\n",
    "# Je kan waarden uit een dictionary ophalen door de key in [] te geven:\n",
    "print(dict_vb['schrijver'])\n",
    "\n",
    "\n",
    "# Je kan waarden aanpassen:\n",
    "dict_vb['schrijver'] = 'A. Japin'\n",
    "\n",
    "# En je kan waarden toevoegen:\n",
    "dict_vb['blz'] = 366\n",
    "\n",
    "\n",
    "print(dict_vb)"
   ]
  },
  {
   "cell_type": "markdown",
   "metadata": {},
   "source": [
    "#### Oefening 1.1\n",
    "\n",
    "* print de waarde die bij de 'titel' hoort in het dict_vb\n",
    "* verander het aantal bladzijdes in 367\n",
    "* voeg onder de key 'prijzen' een lijst toe met de elementen 'NS publieksprijs' en 'C.C.S. Crone-prijs'\n",
    "\n"
   ]
  },
  {
   "cell_type": "code",
   "execution_count": null,
   "metadata": {},
   "outputs": [],
   "source": []
  },
  {
   "cell_type": "markdown",
   "metadata": {},
   "source": [
    "#### Opvragen keys en values in een Dictionary\n",
    "\n",
    "Je kan ook alle keys, of alle waarden die in een dictionary zitten opvragen. Dat kan door achter je variabele met datatype dictionary .keys() of .values() te zetten.\n",
    "\n",
    "Het resultaat is een collectie met de keys, of de values. Deze kan je bijvoorbeeld gebruiken in een for loop. "
   ]
  },
  {
   "cell_type": "code",
   "execution_count": 41,
   "metadata": {},
   "outputs": [
    {
     "name": "stdout",
     "output_type": "stream",
     "text": [
      "dict_keys(['schrijver', 'titel', 'eerste_druk'])\n",
      "dict_values(['Arthur Japin', 'De overgave', 2007])\n",
      "schrijver\n",
      "titel\n",
      "eerste_druk\n",
      "na de for loop: \n",
      "{'schrijver': 'unknown', 'titel': 'unknown', 'eerste_druk': 'unknown'}\n"
     ]
    }
   ],
   "source": [
    "# zo print je alle keys die in een dictionary zitten\n",
    "print(dict_vb.keys())\n",
    "\n",
    "# zo print je alle waarden\n",
    "print(dict_vb.values())\n",
    "\n",
    "# je kan door zo'n verzameling loopen\n",
    "for key in dict_vb.keys():\n",
    "    # om ze een voor een te printen\n",
    "    print(key)\n",
    "    \n",
    "    #of om iets te veranderen in de waarde\n",
    "    dict_vb[key] = 'unknown'\n",
    "    \n",
    "print('na de for loop: ')\n",
    "print(dict_vb)\n",
    "    "
   ]
  },
  {
   "cell_type": "markdown",
   "metadata": {},
   "source": [
    "#### Opdracht 1.2\n",
    "\n",
    "Loop door alle waarden uit de onderstaande dictionary en print deze een voor een. "
   ]
  },
  {
   "cell_type": "code",
   "execution_count": 13,
   "metadata": {},
   "outputs": [],
   "source": [
    "dict_vb = {'schrijver': 'Arthur Japin', 'titel': 'De overgave', 'eerste_druk': 2007}"
   ]
  },
  {
   "cell_type": "code",
   "execution_count": null,
   "metadata": {},
   "outputs": [],
   "source": []
  },
  {
   "cell_type": "markdown",
   "metadata": {},
   "source": [
    "#### Opdracht 1.3\n",
    "\n",
    "Print alleen de waardes uit de dictionary waarvoor het datatype een string is (tip gebruik een if statement waarin wordt gekeken of het datatype een string is: if type(...) == str"
   ]
  },
  {
   "cell_type": "code",
   "execution_count": null,
   "metadata": {},
   "outputs": [],
   "source": []
  },
  {
   "cell_type": "markdown",
   "metadata": {},
   "source": [
    "#### Opdracht 1.4\n",
    "\n",
    "We hebben nu meerdere dictionaries met een zelfde opbouw, deze zijn verzameld in de lijst 'boeken_lijst'.  \n",
    "Print van alle dictionaries in de lijst de titels van de boeken."
   ]
  },
  {
   "cell_type": "code",
   "execution_count": 42,
   "metadata": {},
   "outputs": [],
   "source": [
    "boek1 = {'schrijver': 'Arthur Japin', 'titel': 'De overgave', 'eerste_druk': 2007}\n",
    "boek2 = {'schrijver': 'Arthur Japin', 'titel': 'Een schitterend gebrek', 'eerste_druk': 2003}\n",
    "boek3 = {'schrijver': 'Griet op de Beeck', 'titel': 'Het beste wat we hebben', 'eerste_druk': 2017}\n",
    "boek4 = {'schrijver': 'Mark Haddon', 'titel': 'The curious incident of the dog in the night time', 'eerste_druk': 2003}\n",
    "boek5 = {'schrijver': 'J.K. Rowling', 'titel': 'Harry Potter en de geheime kamer', 'eerste_druk': 1998 }\n",
    "boek6 = {'schrijver': 'J.K. Rowling', 'titel': 'Harry Potter en de vuurbeker', 'eerste_druk': 2000 }\n",
    "boek7 = {'schrijver': 'Jonas Jonasson' , 'titel': 'De 100 jarige man die uit het raam klom en verdween' , 'eerste_druk': 2011 }\n",
    "\n",
    "boeken_lijst = [boek1, boek2, boek3, boek4, boek5, boek6, boek7]"
   ]
  },
  {
   "cell_type": "code",
   "execution_count": null,
   "metadata": {},
   "outputs": [],
   "source": []
  },
  {
   "cell_type": "markdown",
   "metadata": {},
   "source": [
    "#### Opdracht 1.5\n",
    "\n",
    "Haal uit de lijst met boeken dictionaries de volgende data:\n",
    " 1. Print de namen van alle boeken die in de afgelopen 10 jaar zijn uitgekomen\n",
    " 2. Print de namen van boeken die een titel hebben die uit meer dan 25 karakters bestaat. (Tip: met len() kun je het aantal karakters van een string opvragen\n",
    " 3. Print de namen van de schrijvers die met meer dan één keer vernoemd staan in de lijst boeken. "
   ]
  },
  {
   "cell_type": "code",
   "execution_count": 20,
   "metadata": {},
   "outputs": [],
   "source": [
    "# 1. Print de namen van alle boeken uit de lijst die in de afgelopen 10 jaar zijn uitgekomen\n"
   ]
  },
  {
   "cell_type": "code",
   "execution_count": 21,
   "metadata": {},
   "outputs": [],
   "source": [
    "# 2. Print de namen van boeken die een titel hebben die uit meer dan 25 karakters bestaat. \n"
   ]
  },
  {
   "cell_type": "code",
   "execution_count": 22,
   "metadata": {},
   "outputs": [],
   "source": [
    "# 3. print de namen van de schrijvers die meer dan één boek hebben geschreven uit deze lijst boeken.\n"
   ]
  },
  {
   "cell_type": "markdown",
   "metadata": {},
   "source": [
    "## 2. Functies\n",
    "\n",
    "Functies voorkomen dat we stukjes code moeten herhalen met net andere waarden erin. \n",
    "\n",
    "Een functie wordt gedefinieerd met het 'def' statement. De 'return' aan het einde bepaald wat er terug wordt gegeven. Een functie moet een opzichzelf staan programma zijn: alle variabelen die erin gebruikt worden hoor je ook mee te geven als input waarden. \n",
    "\n",
    "Een voorbeeld:\n"
   ]
  },
  {
   "cell_type": "code",
   "execution_count": 43,
   "metadata": {},
   "outputs": [],
   "source": [
    "# Deze functie kan je een van de key's (bijvoorbeeld 'titel') en de lijst met boeken meegeven.\n",
    "# hij geeft dan van alle boeken die ene waarde terug. \n",
    "def get_element(key, books):\n",
    "    \"\"\"\n",
    "    Get the value for a given key for the different books. \n",
    "    \n",
    "    Parameters\n",
    "    ---------\n",
    "    key: str\n",
    "        the key of which you want the values, e.g. 'titel', or 'schrijver'\n",
    "        \n",
    "    books: list\n",
    "        a list of dictionaries containing the same keys. \n",
    "    \"\"\"\n",
    "    # maak een lege lijst\n",
    "    values_books = []\n",
    "    \n",
    "    # loop door de boeken\n",
    "    for book in books:\n",
    "        # voeg de waarde toe aan de lijst\n",
    "        values_books.append(book[key])\n",
    "        \n",
    "    # return de gevulde lijst\n",
    "    return values_books\n",
    "    "
   ]
  },
  {
   "cell_type": "code",
   "execution_count": 44,
   "metadata": {},
   "outputs": [
    {
     "data": {
      "text/plain": [
       "['De overgave',\n",
       " 'Een schitterend gebrek',\n",
       " 'Het beste wat we hebben',\n",
       " 'The curious incident of the dog in the night time',\n",
       " 'Harry Potter en de geheime kamer',\n",
       " 'Harry Potter en de vuurbeker',\n",
       " 'De 100 jarige man die uit het raam klom en verdween']"
      ]
     },
     "execution_count": 44,
     "metadata": {},
     "output_type": "execute_result"
    }
   ],
   "source": [
    "# Deze functie kunnen we nu aanroepen\n",
    "get_element(key='titel', books = boeken_lijst)"
   ]
  },
  {
   "cell_type": "code",
   "execution_count": 28,
   "metadata": {},
   "outputs": [],
   "source": [
    "# de lijst die als output van de functie wordt gegeven  kun je opslaan als variabele\n",
    "titles = get_element(key='titel', books = boeken_lijst)"
   ]
  },
  {
   "cell_type": "markdown",
   "metadata": {},
   "source": [
    "#### Opdracht 2.1\n",
    "\n",
    "Maak een functie die als output een lijst van alle schrijvers geeft. \n",
    "\n",
    "Bonus: zet dezelfde schrijver niet twee keer in de lijst"
   ]
  },
  {
   "cell_type": "code",
   "execution_count": null,
   "metadata": {},
   "outputs": [],
   "source": []
  },
  {
   "cell_type": "markdown",
   "metadata": {},
   "source": [
    "#### Opdracht 2.2\n",
    "\n",
    "Maak een functie die als output aan elke dictionary een key 'cijfer' toevoegd -- met daarin een getal van 1 tot 10. Je kan een random getal genereren door de functie randint() van het package random te gebruiken"
   ]
  },
  {
   "cell_type": "code",
   "execution_count": 38,
   "metadata": {},
   "outputs": [
    {
     "data": {
      "text/plain": [
       "3"
      ]
     },
     "execution_count": 38,
     "metadata": {},
     "output_type": "execute_result"
    }
   ],
   "source": [
    "import random\n",
    "\n",
    "random.randint(1,10)"
   ]
  },
  {
   "cell_type": "markdown",
   "metadata": {},
   "source": [
    "#### Opdracht 2.3 - Bonus\n",
    "\n",
    "Gelukkig is er ook een serieuzere reeks cijfers. Deze staan in een dictionary met als keys de titel en als waarde het cijfer. \n",
    "\n",
    "Schrijf een functie die gegeven de argumenten:\n",
    "    - een lijst met boeken (boeken_lijst)\n",
    "    - een dictionary met de recenties (recenties)\n",
    "de dictionaries uit de boeken_lijst uitbereid met het bijbehorende cijfer. "
   ]
  },
  {
   "cell_type": "code",
   "execution_count": 40,
   "metadata": {},
   "outputs": [],
   "source": [
    "recenties = {'De overgave': 8, \n",
    "            'Een schitterend gebrek': 7,\n",
    "            'Het beste wat we hebben': 9,\n",
    "            'The curious incident of the dog in the night time': 7,\n",
    "            'Harry Potter en de geheime kamer': 9,\n",
    "            'Harry Potter en de vuurbeker': 10,\n",
    "            'De 100 jarige man die uit het raam klom en verdween': 8\n",
    "           }"
   ]
  },
  {
   "cell_type": "code",
   "execution_count": null,
   "metadata": {},
   "outputs": [],
   "source": []
  }
 ],
 "metadata": {
  "kernelspec": {
   "display_name": "Python 3",
   "language": "python",
   "name": "python3"
  },
  "language_info": {
   "codemirror_mode": {
    "name": "ipython",
    "version": 3
   },
   "file_extension": ".py",
   "mimetype": "text/x-python",
   "name": "python",
   "nbconvert_exporter": "python",
   "pygments_lexer": "ipython3",
   "version": "3.7.4"
  }
 },
 "nbformat": 4,
 "nbformat_minor": 2
}
