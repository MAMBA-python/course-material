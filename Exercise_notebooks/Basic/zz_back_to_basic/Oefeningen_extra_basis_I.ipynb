{
 "cells": [
  {
   "cell_type": "markdown",
   "metadata": {},
   "source": [
    "<figure>\n",
    "   <IMG SRC=\"https://mamba-python.nl/images/logo_basis.png\" WIDTH=125 ALIGN=\"right\">\n",
    "\n",
    "</figure>\n",
    "    \n",
    "    \n",
    "# Extra oefeningen begrip Python\n",
    "\n",
    "Dit notebook geeft extra basis oefeningen (zonder antwoorden) voor deelnemers die zich nog wat meer eigen willen maken met de basis van Python. \n",
    "\n",
    "<it> Developed by MAMBA </it> "
   ]
  },
  {
   "cell_type": "markdown",
   "metadata": {},
   "source": [
    "## 0. Variabelen\n",
    "\n",
    "De basis van veel programmeertalen is het maken van variabelen. Hieronder maken we een variabele met de naam 'a'."
   ]
  },
  {
   "cell_type": "code",
   "execution_count": null,
   "metadata": {},
   "outputs": [],
   "source": [
    "a = 10"
   ]
  },
  {
   "cell_type": "markdown",
   "metadata": {},
   "source": [
    "Een variabele maak je altijd aan met het `=` teken. Vòòr het `=` teken staat de naam van de variabele `a` in dit geval. Na het `=` teken komt de waarde die de variabele krijgt, in dit geval `10`."
   ]
  },
  {
   "cell_type": "markdown",
   "metadata": {},
   "source": [
    "## 1. Datatypes\n",
    "\n",
    "Een variabele heeft naast een naam en een waarde ook altijd een type. Dit wordt ook wel het data type genoemd. Data types bepalen wat voor soort bewerkingen je kan doen met variabelen. Voorbeelden van datatypes zijn: een integer (geheel getal), een float (decimaal getal), een string (text) en een boolean (True/False). Hieronder staan voorbeelden en opdrachten met datatypes."
   ]
  },
  {
   "cell_type": "code",
   "execution_count": null,
   "metadata": {},
   "outputs": [],
   "source": [
    "# Een integer (geheel getal) maak je door een geheel getal te typen\n",
    "int_vb = 10  # de variabele met de naam int_vb heeft nu het datatype integer\n",
    "\n",
    "# Een float (decimaal getal) maak je door een getal met een '.' erachter te typen\n",
    "float_vb = 10.5\n",
    "\n",
    "# Een string (stukje tekst) maak je door '' aanhalingstekens om het stukje tekst te typen\n",
    "string_vb = 'dit is een stukje tekst'\n",
    "\n",
    "# Een lijst is een verzameling van items die je aanmaakt met []. \n",
    "# items worden gescheiden door een ','\n",
    "list_vb = [10, 10.5, 'hallo']\n"
   ]
  },
  {
   "cell_type": "markdown",
   "metadata": {},
   "source": [
    "#### Opdracht 1.1\n",
    "\n",
    "Print de variabele en het datatype van de variabelen de we hierboven hebben gemaakt `int_vb`, `float_vb`, `string_vb` en `list_vb`.\n",
    "Het datatype van een variabele kan je opvragen met de functie `type()` (bijv. `type(int_vb)`).\n"
   ]
  },
  {
   "cell_type": "code",
   "execution_count": null,
   "metadata": {},
   "outputs": [],
   "source": []
  },
  {
   "cell_type": "markdown",
   "metadata": {},
   "source": [
    "## 2. De lijst\n",
    "\n",
    "Een lijst (list) is een datatype in Python. Deze bestaat uit een aantal items. Je kan een lijst aanmaken met bijv. `list_vb = [10, 10.5, 'hallo']`. De variabele `list_vb` heeft dan het datatype `list`. Wanneer je een lijst hebt kan je items daaruit opvragen, aanpassen en toevoegen. \n",
    "\n",
    "- opvragen: Je kan een item uit een lijst opvragen aan de hand van de positie in de lijst. Om het item `10` op te vragen uit de `list_vb` die we hierboven hebben gemaakt type je `list_vb[0]`. Om het item `10.5` op te vragen type je list_vb[1]. De nummering van de items in de lijst begint bij 0. Dit nummer noem je ook wel het indexnummer van de lijst. In de lijst `list_vb` hebben we dus 3 items met indexnummers 0, 1 en 2. \n",
    "\n",
    "- wijzigen: je kan een item in een lijst wijzigen door deze te vervangen door een andere waarde. Bijvoorbeeld list_vb[2] = 'doei' veranderd het item 'hallo' in 'doei'. \n",
    "\n",
    "- item toevoegen: je kan een item toevoegen aan een lijst met de `.append()` functie. Bijvoorbeeld `list_vb.append('jij ook hallo')` voegt een 4de item toe aan de lijst. De lijst wordt dan `10, 10.5, 'hallo','jij ook hallo'`. \n",
    "\n"
   ]
  },
  {
   "cell_type": "markdown",
   "metadata": {},
   "source": [
    "#### Oefening 2.1\n",
    "\n",
    "1. Maak een lijst met de items 5, 8.8, 'hond', 'sushi'. \n",
    "2. Wijzig het item 'hond' in 'puppy'\n",
    "3. Voeg het item 'Japan' toe aan de lijst\n",
    "4. print het laatste item uit de lijst (let op de telling begint bij 0). \n"
   ]
  },
  {
   "cell_type": "code",
   "execution_count": null,
   "metadata": {},
   "outputs": [],
   "source": []
  },
  {
   "cell_type": "markdown",
   "metadata": {},
   "source": [
    "## 3. For loop"
   ]
  },
  {
   "cell_type": "markdown",
   "metadata": {},
   "source": [
    "De for loop gebruik je als je code meerdere keren wil herhalen met steeds een andere variabele. Je loopt meestal over een lijst. De code in je loop wordt dan steeds uitgevoerd voor ieder item in je lijst.\n",
    "\n",
    "In het voorbeeld hieronder maken we een for loop met de variabele `url`. De code in de for loop, `print(url)`, wordt 5 keer uitgevoerd. De eerste keer dat deze wordt uitgevoerd is `url` gelijk aan het eerste item in de lijst `url_list`, `'www.bol.com'`. De tweede keer is `url` gelijk aan het tweede item in de lijst `'www.thuisbezorgd.nl'`, ..., de laatste keer dat `print(url)` wordt uitgevoerd is `url` gelijk aan het laatste item uit de lijst `'www.renver.nl'`."
   ]
  },
  {
   "cell_type": "code",
   "execution_count": null,
   "metadata": {},
   "outputs": [],
   "source": [
    "url_list = ['www.bol.com', 'www.thuisbezorg.nl', 'www.zaaksysteem.nl', 'www.mamba-python.nl', \n",
    "           'www.debuffelrotterdam.nl', 'www.renver.nl']\n",
    "\n",
    "for url in url_list:\n",
    "    print(url)\n"
   ]
  },
  {
   "cell_type": "code",
   "execution_count": null,
   "metadata": {},
   "outputs": [],
   "source": [
    "# deze code doet hetzelfde als de code in cel hierboven:\n",
    "print(url_list[0])\n",
    "print(url_list[1])\n",
    "print(url_list[2])\n",
    "print(url_list[3])\n",
    "print(url_list[4])\n",
    "print(url_list[5])\n",
    "# zoals je kan zien is de for-loop een stuk korter/mooier"
   ]
  },
  {
   "cell_type": "markdown",
   "metadata": {},
   "source": [
    "#### Oefening 3.1\n",
    "\n",
    "Maak een lijst (maaltijd_lijst) met 8 verschillende gerechten. Gebruik een for loop om deze één voor één te printen\n"
   ]
  },
  {
   "cell_type": "code",
   "execution_count": null,
   "metadata": {},
   "outputs": [],
   "source": []
  },
  {
   "cell_type": "markdown",
   "metadata": {},
   "source": [
    "Een andere manier om items uit een lijst te halen met een for loop is door niet direct het item uit de lijst te halen, maar door gebruik te maken van het indexnummer (zie hoofdstuk 2 in dit notebook). Dit is bijvoorbeeld handig als je meerdere lijsten hebt. \n",
    "\n",
    "Om de indexnummers te generen gebruiken we de `range` functie waar we vervolgens overheen loopen. De `range` functie maakt een reeks van getallen `range(0,3)` maakt de reeks -> `0, 1, 2.` "
   ]
  },
  {
   "cell_type": "code",
   "execution_count": null,
   "metadata": {},
   "outputs": [],
   "source": [
    "# loop over de reeks getallen\n",
    "for i in range(0,3):\n",
    "    print(i)"
   ]
  },
  {
   "cell_type": "markdown",
   "metadata": {},
   "source": [
    "#### Oefening 3.2\n",
    "\n",
    "Gebruik de index & een for loop om de items uit de maaltijd_lijst te printen. \n",
    "Combineer hiervoor de kennis \n",
    "- een loop over de index maken met `for i in range(...):`\n",
    "- item opvragen uit een lijst: `lijst_vb[i]`\n"
   ]
  },
  {
   "cell_type": "markdown",
   "metadata": {},
   "source": [
    "### De `zip` functie\n",
    "\n",
    "Je kan ook over de items uit meerdere lijsten tegelijk loopen. Hiervoor gebruik je de `zip()` functie, zie voorbeeld hieronder."
   ]
  },
  {
   "cell_type": "code",
   "execution_count": null,
   "metadata": {},
   "outputs": [],
   "source": [
    "lijst_1 = [23,4,5,6]\n",
    "lijst_2 = ['hallo', 'ik', 'ben', 19]\n",
    "\n",
    "for nmbr, word in zip(lijst_1, lijst_2):\n",
    "    print(word,nmbr)"
   ]
  },
  {
   "cell_type": "markdown",
   "metadata": {},
   "source": [
    "#### Oefening 3.3\n",
    "\n",
    "\n",
    "Hieronder zijn twee lijsten gedefinieerd, loop over beide items in de lijsten. Gebruik de .zip() functie zoals in het voorbeeld hierboven."
   ]
  },
  {
   "cell_type": "code",
   "execution_count": null,
   "metadata": {},
   "outputs": [],
   "source": [
    "lijst1 = ['voorgerecht', 'hoofdgerecht', 'nagerecht']\n",
    "lijst2 = ['soep', 'kip', 'vlaflip']\n"
   ]
  },
  {
   "cell_type": "markdown",
   "metadata": {},
   "source": [
    "#### Oefening 3.4\n",
    "\n",
    "Gebruik de lijst met maaltijden die je hebt gemaakt bij opdracht 3.1. Maak nog een lijst met de bijbehorende keuken waar de maaltijden vandaag komen. \n",
    "\n",
    "print de lengte van de lijsten met de functie `len()` (bijv. `len(url_list) = 6`). Als het goed is zijn deze bij allebei 8.  "
   ]
  },
  {
   "cell_type": "code",
   "execution_count": null,
   "metadata": {},
   "outputs": [],
   "source": []
  },
  {
   "cell_type": "markdown",
   "metadata": {},
   "source": [
    "#### Printen \n",
    "\n",
    "Je kan een variabele printen zoals we hiervoor hebben gedaan. Soms is het handig om een variabele te printen samen met wat tekst. Dit kan op twee manieren in Python:\n",
    "- met een format string\n",
    "- met komma's"
   ]
  },
  {
   "cell_type": "code",
   "execution_count": null,
   "metadata": {
    "scrolled": true
   },
   "outputs": [],
   "source": [
    "# printen met format string\n",
    "a = 10\n",
    "b = 5\n",
    "print(f'variabele a = {a}, variabele b = {b}')"
   ]
  },
  {
   "cell_type": "code",
   "execution_count": null,
   "metadata": {},
   "outputs": [],
   "source": [
    "# printen met komma's:\n",
    "print('variabele a =',a, 'variabele b =',b)"
   ]
  },
  {
   "cell_type": "markdown",
   "metadata": {},
   "source": [
    "#### Oefening 3.5\n",
    "\n",
    "Gebruik de twee lijsten van opdracht 3.4. Loop over de twee lijsten en print voor iedere maaltijd en de keuken de zin 'maaltijd ... komt uit de ... keuken'. \n"
   ]
  },
  {
   "cell_type": "code",
   "execution_count": null,
   "metadata": {},
   "outputs": [],
   "source": []
  },
  {
   "cell_type": "markdown",
   "metadata": {},
   "source": [
    "#### Oefening 3.6\n",
    "\n",
    "Hieronder definieren we de lijst `prijzen` met de kosten om de maaltijden voor 2 personen te koken. Het eerste item is de prijs van de eerste maaltijd, enzovoort.\n",
    "\n",
    "Nu is er wat veranderd en zijn alle boodschappen 30% duurder geworden. Vervang de items in de lijst door de waarden te vermenigvuldigen met 1.3, `*1.3`, om de nieuwe prijzen in een overzicht te hebben."
   ]
  },
  {
   "cell_type": "code",
   "execution_count": null,
   "metadata": {},
   "outputs": [],
   "source": [
    "prijzen =  [15.00, 8.05, 7.50, 20.35, 10.94, 5.00, 18.00, 33.00]\n",
    "\n"
   ]
  },
  {
   "cell_type": "markdown",
   "metadata": {},
   "source": [
    "#### Oefening 3.7\n",
    "Bepaalde drank past goed bij een bepaalde maaltijd. De volgende lijst bevat de prijzen van de drank die bij de maaltijden horen (waarbij ook weer de eerste prijs hoort bij de eerste maaltijd). \n",
    "\n",
    "`prijzen_drank = [12.00, 20.00, 22.00, 0.00, 88.00, 10.00, 2.00, 7.00]`\n",
    "\n",
    "Vul in de code cel hieronder de nog lege lijst `prijzen_tot` met de totaalprijs. De totaalprijs bestaat uit de prijs voor het eten en de prijs voor het drinken."
   ]
  },
  {
   "cell_type": "code",
   "execution_count": null,
   "metadata": {},
   "outputs": [],
   "source": [
    "prijzen_drank = [12.00, 20.00, 22.00, 0.00, 88.00, 10.00, 2.00, 7.00]\n",
    "prijzen_tot = [] # deze lijst is nu nog leeg. \n",
    "\n",
    "# Herinner: een lijst kun je vullen de .append() functie (vb. prijzen_tot.append('test') )\n",
    "\n",
    "\n"
   ]
  },
  {
   "cell_type": "markdown",
   "metadata": {},
   "source": [
    "## 4. Strings\n",
    " \n",
    "\n",
    "De string is een datatype voor een variabele die een stuk tekst bevat. Als je een variabele maakt met tekst tussen aanhalingstekens krijgt deze variabele het datatype `str` (string)."
   ]
  },
  {
   "cell_type": "code",
   "execution_count": null,
   "metadata": {},
   "outputs": [],
   "source": [
    "naam = 'Elizabeth'\n",
    "naam2 = 'Okke'"
   ]
  },
  {
   "cell_type": "markdown",
   "metadata": {},
   "source": [
    "Net als bij een lijst kan je bij een string ook een aantal acties uitvoeren:\n",
    "- de zoveelste letter opvragen: \n",
    "`naam[0] --> 'E'`,\n",
    "`naam[3] --> 'z'`,\n",
    "`naam[0:3] --> Eli`,\n",
    "`naam[-1] --> 'h'`\n",
    "- de lengte van de string opvragen: `len(naam) --> 9`\n",
    "- namen vergelijken `naam == naam2 --> False`\n",
    "- strings optellen `naam + naam2 --> 'ElizabethOkke'`\n"
   ]
  },
  {
   "cell_type": "code",
   "execution_count": null,
   "metadata": {},
   "outputs": [],
   "source": [
    "# opvragen characters in een string\n",
    "naam = 'Elizabeth'\n",
    "\n",
    "print(naam[0]) # de eerste\n",
    "print(naam[3]) # de vierde\n",
    "print(naam[0:3]) # de karakters 0 TOT 3 (dus niet tot en met)\n",
    "print(naam[-1]) # de laatste"
   ]
  },
  {
   "cell_type": "code",
   "execution_count": null,
   "metadata": {},
   "outputs": [],
   "source": [
    "# voorbeelden vergelijken\n",
    "naam2 = 'Okke'\n",
    "\n",
    "# bij vergelijken krijkt Python welke letter eerst in het alpahbet voor komt. \n",
    "print(naam < naam2) \n",
    "\n",
    "# je kan ook de lengtes met elkaar vergelijken door de lengte op te vragen\n",
    "print(len(naam) < len(naam2))\n"
   ]
  },
  {
   "cell_type": "markdown",
   "metadata": {},
   "source": [
    "#### Opdracht 4.1\n",
    "\n",
    "Gegeven de lijst voornamen en een lijst met bijbehorende achternamen. Print per persoon de volgende boodschap: `'volledige naam: voornaam + achternaam'`.\n",
    " "
   ]
  },
  {
   "cell_type": "code",
   "execution_count": null,
   "metadata": {},
   "outputs": [],
   "source": [
    "names = ['Eduard', 'Mark', 'Tessa', 'Emma', 'Emily', 'Augustina', 'Bartelomeus', 'Elizabeth']\n",
    "last_names = ['Larsson', 'Bakker', 'Chi', 'Brokkelbrug', 'Zafón', 'Bloem', 'Tolstoj', 'Japin']\n"
   ]
  },
  {
   "cell_type": "markdown",
   "metadata": {},
   "source": [
    "## 5. Het IF statement\n",
    "\n",
    "Het `if` statement gebruik je als je een stukje code alléén wilt uitvoeren als er aan een bepaalde conditie wordt voldaan.\n",
    "\n",
    "Stel je wilt alleen de namen printen die met een 'e' beginnen. \n",
    "Je gebruikt dan een if statement die het eerste karakter van die string vergelijkt met de string `'e'`. \n",
    "Vergelijken kan op verschillende manieren, bijvoorbeeld:\n",
    "- precies hetzelfde: gebruik `==` \n",
    "- groter dan: gebruik `>`\n",
    "- kleiner dan: gebruik `<`\n",
    "- is niet gelijk aan: gebruik `!=`\n",
    "\n",
    "Het `else` statement kun je gebruiken als er andere code uitgevoerd moet worden als er niet aan de voorwaarde wordt voldaan. "
   ]
  },
  {
   "cell_type": "code",
   "execution_count": null,
   "metadata": {},
   "outputs": [],
   "source": [
    "# in dit geval gebruiken we de == om te testen of het eerste karakter gelijk is aan 'e'. \n",
    "naam = 'Elizabeth'\n",
    "\n",
    "if naam[0] == 'E':\n",
    "    print(naam, 'is met een e')\n",
    "else:\n",
    "    print(naam, 'is niet met een e')"
   ]
  },
  {
   "cell_type": "markdown",
   "metadata": {},
   "source": [
    "If statements kunnen goed met for-loops gecombineerd worden. Hieronder een voorbeeld om alleen de namen uit een lijst te printen als deze met een 'E' beginnen. Let op dat dit hoofdletter gevoelig is. "
   ]
  },
  {
   "cell_type": "code",
   "execution_count": null,
   "metadata": {},
   "outputs": [],
   "source": [
    "for name in names:\n",
    "    if name[0] == 'E':\n",
    "        print(name)"
   ]
  },
  {
   "cell_type": "markdown",
   "metadata": {},
   "source": [
    "#### Oefening 5.1 "
   ]
  },
  {
   "cell_type": "markdown",
   "metadata": {},
   "source": [
    "Print alle achternamen die eindigen op een 'n'"
   ]
  },
  {
   "cell_type": "code",
   "execution_count": null,
   "metadata": {},
   "outputs": [],
   "source": []
  },
  {
   "cell_type": "markdown",
   "metadata": {},
   "source": [
    "#### Oefening 5.2\n",
    "\n",
    "Print alle voornamen die langer zijn dan 5 tekens"
   ]
  },
  {
   "cell_type": "code",
   "execution_count": null,
   "metadata": {},
   "outputs": [],
   "source": []
  },
  {
   "cell_type": "markdown",
   "metadata": {},
   "source": [
    "#### Oefening 5.3 - Bonus\n",
    "\n",
    "Print alle voor- + achternamen van de personen wiens achternaam begint met een letter die voor de 'M' in het aflphabet valt. \n",
    "\n",
    "Dus wel: Eduard Larsson, maar niet 'Emily Zafón'. "
   ]
  },
  {
   "cell_type": "code",
   "execution_count": null,
   "metadata": {},
   "outputs": [],
   "source": [
    "\n",
    "\n"
   ]
  },
  {
   "cell_type": "markdown",
   "metadata": {},
   "source": [
    "Je kan met een if statement ook kijken of een item in een lijst voorkomt. Dat doe je met het `in` statement. "
   ]
  },
  {
   "cell_type": "code",
   "execution_count": null,
   "metadata": {},
   "outputs": [],
   "source": [
    "if 'Emily' in ['Guido', 'Che', 'Emily']:\n",
    "    print('emily in list')"
   ]
  },
  {
   "cell_type": "markdown",
   "metadata": {},
   "source": [
    "#### Opdracht 5.4\n",
    "\n",
    "Check één voor één of de namen in de lijst `check_names` in de lijst met `names` voorkomt. \n",
    "- Als dat zo is: print de naam en 'zit in de lijst'\n",
    "- Als dat niet zo is: print de naam en 'zit in de lijst'\n",
    "\n"
   ]
  },
  {
   "cell_type": "code",
   "execution_count": null,
   "metadata": {},
   "outputs": [],
   "source": [
    "check_names = ['Emily', 'Elizabeth', 'Carlos']\n",
    "\n"
   ]
  },
  {
   "cell_type": "code",
   "execution_count": null,
   "metadata": {},
   "outputs": [],
   "source": []
  }
 ],
 "metadata": {
  "kernelspec": {
   "display_name": "Python 3",
   "language": "python",
   "name": "python3"
  },
  "language_info": {
   "codemirror_mode": {
    "name": "ipython",
    "version": 3
   },
   "file_extension": ".py",
   "mimetype": "text/x-python",
   "name": "python",
   "nbconvert_exporter": "python",
   "pygments_lexer": "ipython3",
   "version": "3.7.6"
  }
 },
 "nbformat": 4,
 "nbformat_minor": 2
}
