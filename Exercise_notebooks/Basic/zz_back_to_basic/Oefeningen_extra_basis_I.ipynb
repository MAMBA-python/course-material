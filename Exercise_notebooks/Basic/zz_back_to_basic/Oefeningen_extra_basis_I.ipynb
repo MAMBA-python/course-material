{
 "cells": [
  {
   "cell_type": "markdown",
   "metadata": {},
   "source": [
    "<figure>\n",
    "   <IMG SRC=\"https://mamba-python.nl/images/logo_basis.png\" WIDTH=125 ALIGN=\"right\">\n",
    "\n",
    "</figure>\n",
    "    \n",
    "    \n",
    "# Extra oefeningen begrip Python\n",
    "\n",
    "Dit notebook geeft extra basis oefeningen (zonder antwoorden) voor deelnemers die zich nog wat meer eigen willen maken met de basis van Python. \n",
    "\n",
    "<it> Developed by MAMBA </it> "
   ]
  },
  {
   "cell_type": "markdown",
   "metadata": {},
   "source": [
    "## 1. Datatypes\n",
    "\n",
    "Data types bepalen wat voor soort bewerkingen je kan doen met variabelen. Voorbeelden van datatypes zijn: een integer (geheel getal), een float (decimaal getal) en een Boolean.\n",
    "\n",
    "Hieronder staan voorbeelden en opdrachten met datatypes. Een variabele krijgt een bepaalt datatype wanneer je de variabele aanmakt (met het `=` teken)."
   ]
  },
  {
   "cell_type": "code",
   "execution_count": 1,
   "metadata": {},
   "outputs": [],
   "source": [
    "# Een integer (geheel getal) maak je door een geheel getal te typen\n",
    "int_vb = 10  # de variabele met de naam int_vb heeft nu het datatype integer\n",
    "\n",
    "# Een float (decimaal getal) maak je door een getal met een '.' erachter te typen\n",
    "float_vb = 10.5\n",
    "\n",
    "# Een string (stukje tekst) maak je door '' aanhalingstekens om het stukje tekst te typen\n",
    "string_vb = 'dit is een stukje tekst'\n",
    "\n",
    "# Een lijst is een verzameling van variabelen die je aanmaakt met []. \n",
    "# Elementen worden gescheiden door een ','\n",
    "list_vb = [10, 10.5, 'hallo']\n"
   ]
  },
  {
   "cell_type": "markdown",
   "metadata": {},
   "source": [
    "#### Opdracht 1.1\n",
    "\n",
    "Print de variabele en het datatype van de variabelen de we hierboven hebben gemaakt `int_vb`, `float_vb`, `string_vb` en `list_vb`.\n",
    "Het datatype van een variabele kan je opvragen met de functie `type()` (bijv. `type(int_vb)`).\n"
   ]
  },
  {
   "cell_type": "code",
   "execution_count": null,
   "metadata": {},
   "outputs": [],
   "source": []
  },
  {
   "cell_type": "markdown",
   "metadata": {},
   "source": [
    "## 2. De lijst\n",
    "\n",
    "Een lijst (list) is een datatype in Python. Deze bestaat uit een aantal items. Je kan een lijst aanmaken met bijv. `list_vb = [10, 10.5, 'hallo']`. De variabele `list_vb` heeft dan het datatype `list`. Wanneer je een lijst hebt kan je items daaruit opvragen, aanpassen en toevoegen. \n",
    "\n",
    "- opvragen: Je kan een item uit een lijst opvragen aan de hand van de positie in de lijst. Om het item `10` op te vragen uit de `list_vb` die we hierboven hebben gemaakt type je `list_vb[0]`. Om het item `10.5` op te vragen type je list_vb[1]. De nummering van de items in de lijst begint bij 0. Dit nummer noem je ook wel het indexnummer van de lijst. In de lijst `list_vb` hebben we dus 3 items met indexnummers 0, 1 en 2. \n",
    "\n",
    "- wijzigen: je kan een item in een lijst wijzigen door deze te vervangen door een andere waarde. Bijvoorbeeld list_vb[2] = 'doei' veranderd het item 'hallo' in 'doei'. \n",
    "\n",
    "- item toevoegen: je kan een item toevoegen aan een lijst met de `.append()` functie. Bijvoorbeeld `list_vb.append('jij ook hallo')` voegt een 4de item toe aan de lijst. De lijst wordt dan `10, 10.5, 'hallo','jij ook hallo'`. \n",
    "\n"
   ]
  },
  {
   "cell_type": "markdown",
   "metadata": {},
   "source": [
    "#### Oefening 2.1\n",
    "\n",
    "1. Maak een lijst met de elementen 5, 8.8, 'hond', 'sushi'. \n",
    "2. Wijzig het element 'hond' in 'puppy'\n",
    "3. Voeg het element 'Japan' toe aan de lijst\n",
    "4. print het laatste element uit de lijst (let op de telling begint bij 0). \n"
   ]
  },
  {
   "cell_type": "code",
   "execution_count": null,
   "metadata": {},
   "outputs": [],
   "source": []
  },
  {
   "cell_type": "markdown",
   "metadata": {},
   "source": [
    "## 3. For loop"
   ]
  },
  {
   "cell_type": "markdown",
   "metadata": {},
   "source": [
    "De for loop gebruik je als je een variabele wilt maken die steeds wisselt van waarde. De waardes die de variabele aanneemt wordt bepaald door de lijst waar die doorheen loopt. \n",
    "\n",
    "Vb:"
   ]
  },
  {
   "cell_type": "code",
   "execution_count": 7,
   "metadata": {},
   "outputs": [
    {
     "name": "stdout",
     "output_type": "stream",
     "text": [
      "www.bol.com\n",
      "www.thuisbezorg.nl\n",
      "www.zaaksysteem.nl\n",
      "www.mamba-python.nl\n",
      "www.debuffelrotterdam.nl\n",
      "www.renver.nl\n"
     ]
    }
   ],
   "source": [
    "url_list = ['www.bol.com', 'www.thuisbezorg.nl', 'www.zaaksysteem.nl', 'www.mamba-python.nl', \n",
    "           'www.debuffelrotterdam.nl', 'www.renver.nl']\n",
    "\n",
    "for url in url_list:\n",
    "    print(url)\n",
    "    \n",
    "# Met de for loop maken we een variabele 'url' aan die om de beurt de waarde uit\n",
    "# de elementen van de lijst aanneemt. \n",
    "\n"
   ]
  },
  {
   "cell_type": "code",
   "execution_count": 9,
   "metadata": {},
   "outputs": [
    {
     "name": "stdout",
     "output_type": "stream",
     "text": [
      "www.bol.com\n",
      "www.thuisbezorg.nl\n",
      "www.zaaksysteem.nl\n",
      "www.mamba-python.nl\n",
      "www.debuffelrotterdam.nl\n",
      "www.renver.nl\n"
     ]
    }
   ],
   "source": [
    "# deze code doet hetzelfde als:\n",
    "print(url_list[0])\n",
    "print(url_list[1])\n",
    "print(url_list[2])\n",
    "print(url_list[3])\n",
    "print(url_list[4])\n",
    "print(url_list[5])\n",
    "# maar is een stuk korter/mooier gecodeerd met de for loop"
   ]
  },
  {
   "cell_type": "markdown",
   "metadata": {},
   "source": [
    "#### Oefening 3.1\n",
    "\n",
    "Maak een lijst (maaltijd_lijst) met 8 verschillende gerechten. Gebruik een for loop om deze een voor een te printen\n"
   ]
  },
  {
   "cell_type": "code",
   "execution_count": null,
   "metadata": {},
   "outputs": [],
   "source": []
  },
  {
   "cell_type": "markdown",
   "metadata": {},
   "source": [
    "Een andere manier om elementen uit een lijst te halen met een for loop is door niet direct het element uit de lijst te halen, maar een index op te halen. Dit is bijvoorbeeld handig als je meerdere lijsten hebt. \n",
    "\n",
    "Om over de index te loopen kunnen we gebruik maken van de 'range' functie van python. \n"
   ]
  },
  {
   "cell_type": "code",
   "execution_count": 25,
   "metadata": {},
   "outputs": [
    {
     "name": "stdout",
     "output_type": "stream",
     "text": [
      "0\n",
      "1\n",
      "2\n"
     ]
    }
   ],
   "source": [
    "# de range functie geeft een verzameling terug waar je overheen kan loopen. \n",
    "\n",
    "for i in range(0,3):\n",
    "    # de variabele i wordt aangemaakt en krijgt de gehele waarden van 0 tot 3 (NB: niet tot en met)\n",
    "    print(i)\n"
   ]
  },
  {
   "cell_type": "markdown",
   "metadata": {},
   "source": [
    "#### Oefening 3.2\n",
    "\n",
    "Gebruik de index & een for loop om de elementen uit de maaltijd_lijst te printen. \n",
    "Combineer hiervoor de kennis \n",
    "- een loop over de index maken met 'for i in range(...)\n",
    "- element opvragen met lijst_vb[i]\n"
   ]
  },
  {
   "cell_type": "markdown",
   "metadata": {},
   "source": [
    "## .Zip\n",
    "\n",
    "Je kan ook elementen paarsgewijs uit twee (of meerdere) collecties halen met de zip() functie"
   ]
  },
  {
   "cell_type": "code",
   "execution_count": 11,
   "metadata": {},
   "outputs": [
    {
     "name": "stdout",
     "output_type": "stream",
     "text": [
      "hallo 23\n",
      "ik 4\n",
      "ben 5\n",
      "19 6\n"
     ]
    }
   ],
   "source": [
    "# vb:\n",
    "    \n",
    "lijst_1 = [23,4,5,6]\n",
    "lijst_2 = ['hallo', 'ik', 'ben', 19]\n",
    "\n",
    "for nmbr, word in zip(lijst_1, lijst_2):\n",
    "    print(word,nmbr)"
   ]
  },
  {
   "cell_type": "markdown",
   "metadata": {},
   "source": [
    "#### Oefening 3.3\n",
    "\n",
    "Herhaal oefening 3.2. Gebruik nu niet de index om over beide lijsten te loopen, maar de .zip() functie. Zo zie je, er zijn meerdere wegen die naar Rome leiden. "
   ]
  },
  {
   "cell_type": "code",
   "execution_count": null,
   "metadata": {},
   "outputs": [],
   "source": []
  },
  {
   "cell_type": "markdown",
   "metadata": {},
   "source": [
    "#### Oefening 3.4\n",
    "\n",
    "Creeer een extra lijst met de bijbehorende keuken waar de maaltijden vandaag komen. \n",
    "\n",
    "print de lengte van de lijsten met de functie len(). (vb. len(url_list) = 6). Als het goed is zijn deze bij allebei 8.  \n"
   ]
  },
  {
   "cell_type": "code",
   "execution_count": null,
   "metadata": {},
   "outputs": [],
   "source": []
  },
  {
   "cell_type": "markdown",
   "metadata": {},
   "source": [
    "#### Printen \n",
    "\n",
    "Ja kan variabele ook printen in combinatie met tekst. Dit kan op twee manieren:\n",
    "- met de .format() functie \n",
    "-  met komma's "
   ]
  },
  {
   "cell_type": "code",
   "execution_count": 18,
   "metadata": {
    "scrolled": true
   },
   "outputs": [
    {
     "name": "stdout",
     "output_type": "stream",
     "text": [
      "variabele a = 10, variabele b = 5\n"
     ]
    }
   ],
   "source": [
    "# vb printen met .format()\n",
    "a = 10\n",
    "b = 5\n",
    "print('variabele a = {}, variabele b = {}'.format(a,b))"
   ]
  },
  {
   "cell_type": "code",
   "execution_count": 19,
   "metadata": {},
   "outputs": [
    {
     "name": "stdout",
     "output_type": "stream",
     "text": [
      "variabele a = 10 variabele b = 5\n"
     ]
    }
   ],
   "source": [
    "# vb printen met komma's:\n",
    "print('variabele a =',a, 'variabele b =',b)"
   ]
  },
  {
   "cell_type": "markdown",
   "metadata": {},
   "source": [
    "#### Oefening 3.5\n",
    "\n",
    "Gebruik een for loop (over de index) om te printen 'maaltijd ... komt uit de ... keuken'. \n"
   ]
  },
  {
   "cell_type": "code",
   "execution_count": null,
   "metadata": {},
   "outputs": [],
   "source": []
  },
  {
   "cell_type": "markdown",
   "metadata": {},
   "source": []
  },
  {
   "cell_type": "markdown",
   "metadata": {},
   "source": [
    "#### Oefening 3.6\n",
    "\n",
    "Er is een lijst 'prijzen' die de kosten geeft om de maaltijden voor 2 personen te koken.prijzen = [15.00, 8.05, 7.50, 20.35, 10.94]. De eerste prijs hoort bij de eerste maaltijd, enzovoort. \n",
    "Alle boodschappen zijn 30% duurder geworden. Vervang de elementen in de lijst door de waarden * 1.3 om de nieuwe prijzen in een overzicht te hebben.\n",
    "\n"
   ]
  },
  {
   "cell_type": "code",
   "execution_count": 2,
   "metadata": {},
   "outputs": [],
   "source": [
    "prijzen =  [15.00, 8.05, 7.50, 20.35, 10.94, 5.00, 18.00, 33.00]\n",
    "\n"
   ]
  },
  {
   "cell_type": "markdown",
   "metadata": {},
   "source": [
    "#### Oefening 3.7\n",
    "Bepaalde drank gaat goed bij de maaltijd. De volgende lijst geeft de prijzen die bij de maaltijden horen (waarbij ook weer de eerste prijs hoort bij de eerste maaltijd. \n",
    "\n",
    "- prijzen_drank = [12.00, 20.00, 22.00, 0.00, 88.00, 10.00, 2.00, 7.00]\n",
    "\n",
    "Vul de nog lege lijst 'prijzen_tot' met de som van de waarde uit de prijzen voor het eten + de kosten voor de drank\n"
   ]
  },
  {
   "cell_type": "code",
   "execution_count": 3,
   "metadata": {},
   "outputs": [],
   "source": [
    "prijzen_drank = [12.00, 20.00, 22.00, 0.00, 88.00]\n",
    "prijzen_tot = [] # deze lijst is nu nog leeg. \n",
    "\n",
    "# Herinner: een lijst kun je vullen de .append() functie (vb. prijzen_tot.append('vb-elem') )\n",
    "\n",
    "\n"
   ]
  },
  {
   "cell_type": "markdown",
   "metadata": {},
   "source": [
    "## 4. Strings\n",
    " \n",
    "\n",
    "Stel je hebt een lijst met namen:"
   ]
  },
  {
   "cell_type": "code",
   "execution_count": 4,
   "metadata": {},
   "outputs": [],
   "source": [
    "names = ['Eduard', 'Mark', 'Tessa', 'Emma', 'Emily', 'Augustina', 'Bartelomeus', 'Elizabeth']"
   ]
  },
  {
   "cell_type": "markdown",
   "metadata": {},
   "source": [
    "Neem naam = 'Elizabeth', naam2 = 'Okke'\n",
    "bij strings heb je de volgende opties:\n",
    "- de zoveelste letter opvragen: naam[0] = 'E', naam[3] = 'z', naam[0:3]=Eli, naam[-1]='h'\n",
    "- de lengte van de naam opvragen: len(naam) = 9\n",
    "- namen vergelijken \n",
    "- strings optellen (naam + naam2 = 'ElizabethOkke')\n"
   ]
  },
  {
   "cell_type": "code",
   "execution_count": 5,
   "metadata": {},
   "outputs": [
    {
     "name": "stdout",
     "output_type": "stream",
     "text": [
      "E\n",
      "z\n",
      "Eli\n",
      "h\n"
     ]
    }
   ],
   "source": [
    "# vb opvragen elementen uit een string\n",
    "naam = 'Elizabeth'\n",
    "\n",
    "print(naam[0]) # de eerste\n",
    "print(naam[3]) # de vierde\n",
    "print(naam[0:3]) # de elementen 0 TOT 3 (dus niet tot en met)\n",
    "print(naam[-1]) # de laatste\n"
   ]
  },
  {
   "cell_type": "code",
   "execution_count": 6,
   "metadata": {},
   "outputs": [
    {
     "name": "stdout",
     "output_type": "stream",
     "text": [
      "True\n",
      "False\n"
     ]
    }
   ],
   "source": [
    "# voorbeelden vergelijken\n",
    "naam2 = 'Okke'\n",
    "\n",
    "# bij vergelijken krijkt Python welke letter eerst in het alpahbet voor komt. \n",
    "print(naam < naam2) \n",
    "\n",
    "# je kan ook de lengtes met elkaar vergelijken door de lengte op te vragen\n",
    "print(len(naam) < len(naam2))\n"
   ]
  },
  {
   "cell_type": "markdown",
   "metadata": {},
   "source": [
    "#### Opdracht 4.1\n",
    "\n",
    "Gegeven de lijst voornamen en een lijst bijbehorende achternamen. Print per persoon de volgende boodschap: 'volledige naam: voornaam + achternaam'. \n",
    " "
   ]
  },
  {
   "cell_type": "code",
   "execution_count": 20,
   "metadata": {},
   "outputs": [],
   "source": [
    "last_names = ['Larsson', 'Bakker', 'Chi', 'Brokkelbrug', 'Zafón', 'Bloem', 'Tolstoj', 'Japin']\n"
   ]
  },
  {
   "cell_type": "markdown",
   "metadata": {},
   "source": [
    "## 5. Het IF statement\n",
    "\n",
    "Het if statement gebruik je als je een stukje code alléén wilt uitvoeren als er aan een bepaalde conditie wordt voldaan.\n",
    "\n",
    "Stel je wilt alleen de namen printen die met een 'e' beginnen. \n",
    "Je gebruikt dan een if statement die het eerste karakter van die string vergelijkt met de string 'e'. \n",
    "Vergelijken kan op verschillende manieren, bijvoorbeeld:\n",
    "- precies hetzelfde: gebruik ==\n",
    "- groter dan: gebruik >\n",
    "- kleiner dan: gebruik <\n",
    "- is niet gelijk aan: gebruik !=\n",
    "\n",
    "Het else statement kun je gebruiken als er andere code uitgevoerd moet worden als er niet aan de voorwaarde wordt voldaan. "
   ]
  },
  {
   "cell_type": "code",
   "execution_count": 8,
   "metadata": {},
   "outputs": [
    {
     "name": "stdout",
     "output_type": "stream",
     "text": [
      "Elizabeth is met een e\n"
     ]
    }
   ],
   "source": [
    "# in dit geval gebruiken we de == om te testen of het eerste karakter gelijk is aan 'e'. \n",
    "naam = 'Elizabeth'\n",
    "\n",
    "if naam[0] == 'E':\n",
    "    print(naam, 'is met een e')\n",
    "else:\n",
    "    print(naam, 'is niet met een e')"
   ]
  },
  {
   "cell_type": "markdown",
   "metadata": {},
   "source": [
    "If statements kunnen goed met for-loops gecombineerd worden. Hieronder een voorbeeld om alleen de namen uit een lijst te printen als deze met een 'E' beginnen. Let op dat dit hoofdletter gevoelig is. "
   ]
  },
  {
   "cell_type": "code",
   "execution_count": 9,
   "metadata": {},
   "outputs": [
    {
     "name": "stdout",
     "output_type": "stream",
     "text": [
      "Eduard\n",
      "Emma\n",
      "Emily\n",
      "Elizabeth\n"
     ]
    }
   ],
   "source": [
    "for name in names:\n",
    "    if name[0] == 'E':\n",
    "        print(name)"
   ]
  },
  {
   "cell_type": "markdown",
   "metadata": {},
   "source": [
    "#### Oefening 5.1 "
   ]
  },
  {
   "cell_type": "markdown",
   "metadata": {},
   "source": [
    "Print alle achternamen die eindigen op een 'n'"
   ]
  },
  {
   "cell_type": "code",
   "execution_count": null,
   "metadata": {},
   "outputs": [],
   "source": []
  },
  {
   "cell_type": "markdown",
   "metadata": {},
   "source": [
    "#### Oefening 5.2\n",
    "\n",
    "Print alle voornamen die langer zijn dan 5 tekens"
   ]
  },
  {
   "cell_type": "code",
   "execution_count": null,
   "metadata": {},
   "outputs": [],
   "source": []
  },
  {
   "cell_type": "markdown",
   "metadata": {},
   "source": [
    "#### Oefening 5.3 - Bonus\n",
    "\n",
    "Print alle voor- + achternamen van de personen wiens achternaam begint met een letter die voor de 'M' in het aflphabet valt. \n",
    "\n",
    "Dus wel: Eduard Larsson, maar niet 'Emily Zafón'. "
   ]
  },
  {
   "cell_type": "code",
   "execution_count": null,
   "metadata": {},
   "outputs": [],
   "source": [
    "\n",
    "\n"
   ]
  },
  {
   "cell_type": "markdown",
   "metadata": {},
   "source": [
    "Je kan met een if statement ook kijken of een element in een lijst voorkomt. Dat doe je met het 'in' commando. \n",
    "\n",
    "vb:"
   ]
  },
  {
   "cell_type": "code",
   "execution_count": 45,
   "metadata": {},
   "outputs": [
    {
     "name": "stdout",
     "output_type": "stream",
     "text": [
      "emily in list\n"
     ]
    }
   ],
   "source": [
    "if 'Emily' in ['Guido', 'Che', 'Emily']:\n",
    "    print('emily in list')"
   ]
  },
  {
   "cell_type": "markdown",
   "metadata": {},
   "source": [
    "#### Opdracht 5.4\n",
    "\n",
    "Check een voor een voor de namen in 'check_names' of deze in de lijst names voorkomt. \n",
    "- Als dat zo is: print de naam en 'zit in de lijst'\n",
    "- Als dat niet zo is: print de naam en 'zit in de lijst'\n",
    "\n"
   ]
  },
  {
   "cell_type": "code",
   "execution_count": null,
   "metadata": {},
   "outputs": [],
   "source": [
    "check_names = ['Emily', 'Elizabeth', 'Carlos']\n",
    "\n"
   ]
  }
 ],
 "metadata": {
  "kernelspec": {
   "display_name": "Python 3",
   "language": "python",
   "name": "python3"
  },
  "language_info": {
   "codemirror_mode": {
    "name": "ipython",
    "version": 3
   },
   "file_extension": ".py",
   "mimetype": "text/x-python",
   "name": "python",
   "nbconvert_exporter": "python",
   "pygments_lexer": "ipython3",
   "version": "3.7.6"
  }
 },
 "nbformat": 4,
 "nbformat_minor": 2
}
