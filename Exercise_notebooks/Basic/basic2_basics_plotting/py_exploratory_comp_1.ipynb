{
 "cells": [
  {
   "cell_type": "markdown",
   "metadata": {},
   "source": [
    "<figure>\n",
    "  <IMG SRC=\"https://raw.githubusercontent.com/mbakker7/exploratory_computing_with_python/master/tudelft_logo.png\" WIDTH=250 ALIGN=\"right\">\n",
    "</figure>\n",
    "\n",
    "# Exploratory Computing with Python\n",
    "*Developed by Mark Bakker*"
   ]
  },
  {
   "cell_type": "markdown",
   "metadata": {},
   "source": [
    "## Notebook 1: Basics and Plotting\n",
    "### First Python steps\n",
    "Portable, powerful, and a breeze to use, Python is a popular, open-source programming language used for both scripting applications and standalone programs. Python can be used to do pretty much anything. For example, you can use Python as a calculator. Position your cursor in the code cell below and hit [shift][enter]. The output should be 12 (-:"
   ]
  },
  {
   "cell_type": "code",
   "execution_count": null,
   "metadata": {},
   "outputs": [],
   "source": [
    "6 * 2"
   ]
  },
  {
   "cell_type": "markdown",
   "metadata": {},
   "source": [
    "Note that the extra space is added to make the code more readable. \n",
    "`2 * 3` works just as well as `2*3`. But is it highly recommended to use the additional spaces (in fact, it is considered good stytle to do so).\n",
    "When you are programming, you want to store your values in variables"
   ]
  },
  {
   "cell_type": "code",
   "execution_count": null,
   "metadata": {},
   "outputs": [],
   "source": [
    "a = 6\n",
    "b = 2\n",
    "a * b"
   ]
  },
  {
   "cell_type": "markdown",
   "metadata": {},
   "source": [
    "Both `a` and `b` are now variables. Each variable has a type. In this case, they are both integers (whole numbers). To write the value of a variable to the screen, use the `print` function (the last statement of a code cell is automatically printed to the screen if it is not stored in a variable, as was shown above)"
   ]
  },
  {
   "cell_type": "code",
   "execution_count": null,
   "metadata": {},
   "outputs": [],
   "source": [
    "print(a)\n",
    "print(b)\n",
    "print(a * b)\n",
    "print(a / b)"
   ]
  },
  {
   "cell_type": "markdown",
   "metadata": {},
   "source": [
    "You can add some text to the `print` function by putting the text between quotes (either single or double quotes work as long as you use the same at the beginning and end), and separate the text string and the variable by a comma"
   ]
  },
  {
   "cell_type": "code",
   "execution_count": null,
   "metadata": {},
   "outputs": [],
   "source": [
    "print('the value of a is', a)"
   ]
  },
  {
   "cell_type": "markdown",
   "metadata": {},
   "source": [
    "A variable can be raised to a power by using `**` \n",
    "(a hat `^`, as used in some other languages, doesn't work)."
   ]
  },
  {
   "cell_type": "code",
   "execution_count": null,
   "metadata": {},
   "outputs": [],
   "source": [
    "a ** b"
   ]
  },
  {
   "cell_type": "markdown",
   "metadata": {},
   "source": [
    "### <a name=\"ex1\"></a> Exercise 1, First Python code\n",
    "Compute the value of the polynomial $y=ax^2+bx+c$ at $x=-2$, $x=0$, and $x=2$ using $a=1$, $b=1$, $c=-6$."
   ]
  },
  {
   "cell_type": "code",
   "execution_count": null,
   "metadata": {},
   "outputs": [],
   "source": []
  },
  {
   "cell_type": "markdown",
   "metadata": {},
   "source": [
    "<a href=\"#ex1answer\">Answer to Exercise 1</a>"
   ]
  },
  {
   "cell_type": "markdown",
   "metadata": {},
   "source": [
    "### Division\n",
    "Division works as well"
   ]
  },
  {
   "cell_type": "code",
   "execution_count": null,
   "metadata": {},
   "outputs": [],
   "source": [
    "print('1/3 gives', 1 / 3)"
   ]
  },
  {
   "cell_type": "markdown",
   "metadata": {},
   "source": [
    "(Note for Python 2 users: `1/3` gives zero in Python 2, as the division of two integers returns an integer. Use `1.0/3` instead."
   ]
  },
  {
   "cell_type": "markdown",
   "metadata": {},
   "source": [
    "### More on variables\n",
    "Once you have created a variable in a Python session, it will remain in memory, so you can use it in other cells as well. For example, the variable `a`, which was defined earlier in this Notebook, still exist. It will be `6` unless you changed it in Exercise 1. "
   ]
  },
  {
   "cell_type": "code",
   "execution_count": null,
   "metadata": {},
   "outputs": [],
   "source": [
    "print('a:', a)"
   ]
  },
  {
   "cell_type": "markdown",
   "metadata": {},
   "source": [
    "You as a user decides the order in which code blocks are executed. For example, `In [6]` means that it is the sixth execution of a code block. If you change the same code block and run it again, it will get number 7. If you define the variable `a` in code block 7, it will overwrite the value of `a` defined in a previous code block. \n",
    "\n",
    "Variable names may be as long as you like (you gotta do the typing though). Selecting descriptive names aids in understanding the code. Variable names cannot have spaces, nor can they start with a number. And variable names are case sensitive. So the variable `avalue` is not the same as the variable `Avalue`. The name of a variable may be anything you want, except for reserved words in the Python language. For example, it is not possible to create a variable `for = 7`, as `for` is a reserved word. You will learn many of the reserved words when we continue; they are colored bold green when you type them in the Notebook. "
   ]
  },
  {
   "cell_type": "markdown",
   "metadata": {},
   "source": [
    "### Basic plotting and a first array\n",
    "Plotting is not part of standard Python. Luckily, a package exist to create beautiful graphics. A package is a library of functions for a specific set of tasks. There are many Python packages and we will use several of them. The graphics package we will use is called `matplotlib`. To be able to use the plotting functions in `matplotlib` we have to import it. We will learn several different ways of importing packages. For now, we import the plotting part of `matplotlib` and call it `plt`. We also give a second command which tells Python to show any graphs inside this Notebook and not in a separate window (more on these commands later). "
   ]
  },
  {
   "cell_type": "code",
   "execution_count": 2,
   "metadata": {},
   "outputs": [],
   "source": [
    "import matplotlib.pyplot as plt\n",
    "%matplotlib inline"
   ]
  },
  {
   "cell_type": "markdown",
   "metadata": {},
   "source": [
    "Packages only have to be imported once in a Python session. After the import, any plotting function may be called from any code cell as `plt.function`. For example"
   ]
  },
  {
   "cell_type": "code",
   "execution_count": 3,
   "metadata": {},
   "outputs": [
    {
     "data": {
      "text/plain": [
       "[<matplotlib.lines.Line2D at 0x28a987856d8>]"
      ]
     },
     "execution_count": 3,
     "metadata": {},
     "output_type": "execute_result"
    },
    {
     "data": {
      "image/png": "[encoded data removed]",
      "text/plain": [
       "<matplotlib.figure.Figure at 0x28a98639f28>"
      ]
     },
     "metadata": {
      "needs_background": "light"
     },
     "output_type": "display_data"
    }
   ],
   "source": [
    "plt.plot([1, 2, 3, 2])"
   ]
  },
  {
   "cell_type": "markdown",
   "metadata": {},
   "source": [
    "Let's try to plot $y$ vs $x$ for $x$ going from $-4$ to $4$ for the polynomial in the exercise above. To do that, we need to evaluate $y$ at a bunch of points. A sequence of values of the same type is called an array (for example an array of integers or floats). Array functionality is available in the package `numpy`. Let's import `numpy` and call it `np`, so that any function in the `numpy` package may be called as `np.function`. "
   ]
  },
  {
   "cell_type": "code",
   "execution_count": 6,
   "metadata": {},
   "outputs": [],
   "source": [
    "import numpy as np"
   ]
  },
  {
   "cell_type": "markdown",
   "metadata": {},
   "source": [
    "To create an array `x` consisting of, for example, 5 equally spaced points between `-4` and `4`, use the `linspace` command"
   ]
  },
  {
   "cell_type": "code",
   "execution_count": 7,
   "metadata": {},
   "outputs": [
    {
     "name": "stdout",
     "output_type": "stream",
     "text": [
      "[-4. -2.  0.  2.  4.]\n"
     ]
    }
   ],
   "source": [
    "x = np.linspace(-4, 4, 5)\n",
    "print(x)"
   ]
  },
  {
   "cell_type": "markdown",
   "metadata": {},
   "source": [
    "In the above cell, `x` is an array of 5 floats (`-4.` is a float, `-4` is an integer).\n",
    "If you type `np.linspace` and then an opening parenthesis like:\n",
    "\n",
    "`np.linspace(` \n",
    "\n",
    "and then hit [shift-tab] a little help box pops up to explain the input arguments of the function. When you click on the + sign, you can scroll through all the documentation of the `linspace` function. Click on the x sign to remove the help box. Let's plot $y$ using 100 $x$ values from \n",
    "$-4$ to $4$."
   ]
  },
  {
   "cell_type": "code",
   "execution_count": 8,
   "metadata": {},
   "outputs": [
    {
     "data": {
      "text/plain": [
       "[<matplotlib.lines.Line2D at 0x28a98ce82e8>]"
      ]
     },
     "execution_count": 8,
     "metadata": {},
     "output_type": "execute_result"
    },
    {
     "data": {
      "image/png": "[encoded data removed]",
      "text/plain": [
       "<matplotlib.figure.Figure at 0x28a98caa940>"
      ]
     },
     "metadata": {
      "needs_background": "light"
     },
     "output_type": "display_data"
    }
   ],
   "source": [
    "a = 1\n",
    "b = 1\n",
    "c = -6\n",
    "x = np.linspace(-4, 4, 100)\n",
    "y = a * x ** 2 + b * x + c  # Compute y for all x values\n",
    "plt.plot(x, y)"
   ]
  },
  {
   "cell_type": "markdown",
   "metadata": {},
   "source": [
    "Note that  *one hundred* `y` values are computed in the simple line `y = a * x ** 2 + b * x + c`. The text after the `#` is a comment in the code. Any text on the line after the `#` is ignored by Python. Python treats arrays in the same fashion as it treats regular variables when you perform mathematical operations. The math is simply applied to every value in the array (and it runs much faster than when you would do every calculation separately). \n",
    "\n",
    "You may wonder what the statement `[<matplotlib.lines.Line2D at 0x30990b0>]` is (the numbers on your machine may look different). This is actually a handle to the line that is created with the last command in the code block (in this case `plt.plot(x, y)`). You can tell the Notebook not to print this to the screen by putting a semicolon after the last command in the code block (so type `plot(x, y);`). We will learn later on that it may also be useful to store this handle in a variable."
   ]
  },
  {
   "cell_type": "markdown",
   "metadata": {},
   "source": [
    "The `plot` function can take many arguments. Looking at the help box of the `plot` function (by typing `plt.plot(` and then shift-tab) gives you a lot of help. Typing `plt.plot?` gives a new scrollable subwindow at the bottom of the notebook, showing the documentation on `plot`. Click the x in the upper right hand corner to close the subwindow again."
   ]
  },
  {
   "cell_type": "markdown",
   "metadata": {},
   "source": [
    "In short, `plot` can be used with one argument as `plot(y)`, which plots `y` values along the vertical axis and enumerates the horizontal axis starting at 0. `plot(x, y)` plots `y` vs `x`, and `plot(x, y, formatstring)` plots `y` vs `x` using colors and markers defined in `formatstring`, which can be a lot of things. It can be used to define the color, for example `'b'` for blue, `'r'` for red, and `'g'` for green. Or it can be used to define the linetype `'-'` for line, `'--'` for dashed, `':'` for dots. Or you can define markers, for example `'o'` for circles and `'s'` for squares. You can even combine them: `'r--'` gives a red dashed line, while `'go'` gives green circular markers. "
   ]
  },
  {
   "cell_type": "markdown",
   "metadata": {},
   "source": [
    "If that isn't enough, `plot` takes a large number of keyword arguments. A keyword argument is an optional argument that may be added to a function. The syntax is `function(keyword1=value1, keyword2=value2)`, etc. For example, to plot a line with width 6 (the default is 1; also note the semi-colon at the end)"
   ]
  },
  {
   "cell_type": "code",
   "execution_count": null,
   "metadata": {},
   "outputs": [],
   "source": [
    "plt.plot([1, 2, 3], [2, 4, 3], linewidth=6);"
   ]
  },
  {
   "cell_type": "markdown",
   "metadata": {},
   "source": [
    "Keyword arguments should come after regular arguments. `plot(linewidth=6, [1, 2, 3], [2, 4, 3])` gives an error."
   ]
  },
  {
   "cell_type": "markdown",
   "metadata": {},
   "source": [
    "Names may be added along the axes with the `xlabel` and `ylabel` functions, e.g., `plt.xlabel('this is the x-axis')`. Note that both functions take a string as argument. A title can be added to the figure with the `plt.title` command. Multiple curves can be added to the same figure by giving multiple plotting commands. They are automatically added to the same figure."
   ]
  },
  {
   "cell_type": "markdown",
   "metadata": {},
   "source": [
    "### <a name=\"ex2\"></a> Exercise 2, First graph\n",
    "Plot $y=(x+2)(x-1)(x-2)$ for $x$ going from $-3$ to $3$ using a dashed red line. On the same figure, plot a blue circle for every point where $y$ equals zero. Set the size of the markers to 10 (you may need to read the help of `plt.plot` to find out how to do that). Label the axes as 'x-axis' and 'y-axis'. Add the title 'First nice Python figure of Your Name', where you enter your own name."
   ]
  },
  {
   "cell_type": "code",
   "execution_count": null,
   "metadata": {},
   "outputs": [],
   "source": []
  },
  {
   "cell_type": "markdown",
   "metadata": {},
   "source": [
    "<a href=\"#ex2answer\">Answer to Exercise 2</a>"
   ]
  },
  {
   "cell_type": "markdown",
   "metadata": {},
   "source": [
    "### Loading data files\n",
    "\n",
    "Numerical data can be loaded from a data file using the `loadtxt` function of `numpy`; i.e., the command is `np.loadtxt`. You need to make sure the file is in the same directory as your notebook, or provide the full path. The filename (or path plus filename) needs to be between quotes. "
   ]
  },
  {
   "cell_type": "markdown",
   "metadata": {},
   "source": [
    "### <a name=\"ex3\"></a> Exercise 3, Loading data and adding a legend\n",
    "You are provided with the data files containing the mean montly temperature of Holland, New York City, and Beijing. The Dutch data is stored in `holland_temperature.dat`, and the other filenames are similar. Plot the temperature for each location against the number of the month (starting with 1 for January) all in a single graph. Add a legend by using the function `plt.legend(['line1','line2'])`, etc., but then with more descriptive names. Find out about the `legend` command using `plt.legend?`. Place the legend in an appropriate spot (the upper left-hand corner may be nice, or let Python figure out the best place). "
   ]
  },
  {
   "cell_type": "code",
   "execution_count": null,
   "metadata": {},
   "outputs": [],
   "source": []
  },
  {
   "cell_type": "markdown",
   "metadata": {},
   "source": [
    "<a href=\"#ex3answer\">Answer to Exercise 3</a>"
   ]
  },
  {
   "cell_type": "markdown",
   "metadata": {},
   "source": [
    "### <a name=\"ex4\"></a> Exercise 4, Subplots and fancy tick markers\n",
    "Load the average monthly air temperature and seawater temperature for Holland. Create one plot with two graphs above each other using the subplot command (use `plt.subplot?`). On the top graph, plot the air and sea temperature. Label the ticks on the horizontal axis as 'jan', 'feb', 'mar', etc., rather than 0,1,2,etc. Use `plt.xticks?` to find out how. In the bottom graph, plot the difference between the air and seawater temperature. Add legends, axes labels, the whole shebang."
   ]
  },
  {
   "cell_type": "code",
   "execution_count": null,
   "metadata": {},
   "outputs": [],
   "source": []
  },
  {
   "cell_type": "markdown",
   "metadata": {},
   "source": [
    "<a href=\"#ex4answer\">Answer to Exercise 4</a>"
   ]
  },
  {
   "cell_type": "markdown",
   "metadata": {},
   "source": [
    "### Gallery of graphs\n",
    "The plotting package `matplotlib` allows you to make very fancy graphs. Check out the <A href=\"http://matplotlib.org/gallery.html\"  target=_blank>matplotlib gallery</A> to get an overview of many of the options. The following exercises use several of the matplotlib options.\n",
    "\n",
    "### <a name=\"ex5\"></a> Exercise 5, Pie Chart\n",
    "At the 2012 London Olympics, the top ten countries (plus the rest) receiving gold medals were `['USA', 'CHN', 'GBR', 'RUS', 'KOR', 'GER', 'FRA', 'ITA', 'HUN', 'AUS', 'OTHER']`. They received  `[46, 38, 29, 24, 13, 11, 11, 8, 8, 7, 107]` gold medals, respectively. Make a pie chart (type `plt.pie?` or go to the pie charts in the matplotlib gallery) of the top 10 gold medal winners plus the others at the London Olympics. Try some of the keyword arguments to make the plot look nice. You may want to give the command `plt.axis('equal')` to make the scales along the horizontal and vertical axes equal so that the pie actually looks like a circle rather than an ellipse. There are four different ways to specify colors in matplotlib plotting; you may read about it [here](http://matplotlib.org/examples/pylab_examples/color_demo.html). The coolest way is to use the html color names. Use the `colors` keyword in your pie chart to specify a sequence of colors. The sequence must be between square brackets, each color must be between quotes preserving upper and lower cases, and they must be separated by comma's like `['MediumBlue','SpringGreen','BlueViolet']`; the sequence is repeated if it is not long enough. The html names for the colors may be found, for example, [here](http://en.wikipedia.org/wiki/Web_colors)."
   ]
  },
  {
   "cell_type": "code",
   "execution_count": null,
   "metadata": {},
   "outputs": [],
   "source": []
  },
  {
   "cell_type": "markdown",
   "metadata": {},
   "source": [
    "<a href=\"#ex5answer\">Answer to Exercise 5</a>"
   ]
  },
  {
   "cell_type": "markdown",
   "metadata": {},
   "source": [
    "### <a name=\"ex6\"></a> Exercise 6, Fill between\n",
    "Load the air and sea temperature, as used in Exercise 4, but this time make one plot of temperature vs the number of the month and use the `plt.fill_between` command to fill the space between the curve and the $x$-axis. Specify the `alpha` keyword, which defines the transparancy. Some experimentation will give you a good value for alpha (stay between 0 and 1). Note that you need to specify the color using the `color` keyword argument."
   ]
  },
  {
   "cell_type": "code",
   "execution_count": null,
   "metadata": {},
   "outputs": [],
   "source": []
  },
  {
   "cell_type": "markdown",
   "metadata": {},
   "source": [
    "<a href=\"#ex6answer\">Answer to Exercise 6</a>"
   ]
  },
  {
   "cell_type": "markdown",
   "metadata": {},
   "source": [
    "### Answers for the exercises"
   ]
  },
  {
   "cell_type": "markdown",
   "metadata": {},
   "source": [
    "<a name=\"ex1answer\">Answer to Exercise 1</a>"
   ]
  },
  {
   "cell_type": "code",
   "execution_count": null,
   "metadata": {},
   "outputs": [],
   "source": [
    "a = 1\n",
    "b = 1\n",
    "c = -6\n",
    "x = -2\n",
    "y = a * x ** 2 + b * x + c\n",
    "print('y evaluated at x=-2 is', y)\n",
    "x = 0 \n",
    "y = a * x ** 2 + b * x + c\n",
    "print('y evaluated at x=0 is', y)\n",
    "x = 2\n",
    "y = a * x ** 2 + b * x + c\n",
    "print('y evaluated at x=2 is', y)"
   ]
  },
  {
   "cell_type": "markdown",
   "metadata": {},
   "source": [
    "<a href=\"#ex1\">Back to Exercise 1</a>\n",
    "\n",
    "<a name=\"ex2answer\">Answer to Exercise 2</a>"
   ]
  },
  {
   "cell_type": "code",
   "execution_count": null,
   "metadata": {},
   "outputs": [],
   "source": [
    "x = np.linspace(-3, 3, 100)\n",
    "y = (x + 2) * (x - 1) * (x - 2)\n",
    "plt.plot(x, y, 'r--')\n",
    "plt.plot([-2, 1, 2], [0, 0, 0], 'bo', markersize=10)\n",
    "plt.xlabel('x-axis')\n",
    "plt.ylabel('y-axis')\n",
    "plt.title('First Python Figure of Mark Bakker');"
   ]
  },
  {
   "cell_type": "markdown",
   "metadata": {},
   "source": [
    "<a href=\"#ex2\">Back to Exercise 2</a>\n",
    "\n",
    "<a name=\"ex3answer\">Answer to Exercise 3</a>"
   ]
  },
  {
   "cell_type": "code",
   "execution_count": null,
   "metadata": {},
   "outputs": [],
   "source": [
    "holland = np.loadtxt('holland_temperature.dat')\n",
    "newyork= np.loadtxt('newyork_temperature.dat')\n",
    "beijing = np.loadtxt('beijing_temperature.dat')\n",
    "plt.plot(np.linspace(1, 12, 12), holland)\n",
    "plt.plot(np.linspace(1, 12, 12), newyork)\n",
    "plt.plot(np.linspace(1, 12, 12), beijing)\n",
    "plt.xlabel('Number of the month')\n",
    "plt.ylabel('Mean monthly temperature (Celcius)')\n",
    "plt.xlim(1, 12)\n",
    "plt.legend(['Holland','New York','Beijing'], loc='best');"
   ]
  },
  {
   "cell_type": "markdown",
   "metadata": {},
   "source": [
    "<a href=\"#ex3\">Back to Exercise 3</a>\n",
    "\n",
    "<a name=\"ex4answer\">Answer to Exercise 4</a>"
   ]
  },
  {
   "cell_type": "code",
   "execution_count": null,
   "metadata": {},
   "outputs": [],
   "source": [
    "air = np.loadtxt('holland_temperature.dat') \n",
    "sea = np.loadtxt('holland_seawater.dat')\n",
    "plt.subplot(211)\n",
    "plt.plot(air, 'b', label='air temp')\n",
    "plt.plot(sea, 'r', label='sea temp')\n",
    "plt.legend(loc='best')\n",
    "plt.ylabel('temp (Celcius)')\n",
    "plt.xlim(0, 11)\n",
    "plt.xticks([])\n",
    "plt.subplot(212)\n",
    "plt.plot(air-sea, 'ko')\n",
    "plt.xticks(np.linspace(0, 11, 12),\n",
    "           ['jan','feb','mar','apr','may','jun','jul','aug','sep','oct','nov','dec'])\n",
    "plt.xlim(0, 11)\n",
    "plt.ylabel('air - sea temp (Celcius)');"
   ]
  },
  {
   "cell_type": "markdown",
   "metadata": {},
   "source": [
    "<a href=\"#ex4\">Back to Exercise 4</a>\n",
    "\n",
    "<a name=\"ex5answer\">Answer to Exercise 5</a>"
   ]
  },
  {
   "cell_type": "code",
   "execution_count": null,
   "metadata": {},
   "outputs": [],
   "source": [
    "gold = [46, 38, 29, 24, 13, 11, 11, 8, 8, 7, 107]\n",
    "countries = ['USA', 'CHN', 'GBR', 'RUS', 'KOR', 'GER', 'FRA', 'ITA', 'HUN', 'AUS', 'OTHER']\n",
    "plt.pie(gold, labels = countries, colors = ['Gold', 'MediumBlue', 'SpringGreen', 'BlueViolet'])\n",
    "plt.axis('equal');"
   ]
  },
  {
   "cell_type": "markdown",
   "metadata": {},
   "source": [
    "<a href=\"#ex5\">Back to Exercise 5</a>\n",
    "\n",
    "<a name=\"ex6answer\">Answer to Exercise 6</a>"
   ]
  },
  {
   "cell_type": "code",
   "execution_count": null,
   "metadata": {},
   "outputs": [],
   "source": [
    "air = np.loadtxt('holland_temperature.dat') \n",
    "sea = np.loadtxt('holland_seawater.dat')\n",
    "plt.fill_between(range(1, 13), air, color='b', alpha=0.3)\n",
    "plt.fill_between(range(1, 13), sea, color='r', alpha=0.3)\n",
    "plt.xticks(np.linspace(0, 11, 12), ['jan', 'feb', 'mar', 'apr',\\\n",
    "           'may', 'jun', 'jul', 'aug', 'sep', ' oct', 'nov', 'dec'])\n",
    "plt.xlim(1, 12)\n",
    "plt.ylim(0, 20)\n",
    "plt.xlabel('Month')\n",
    "plt.ylabel('Temperature (Celcius)');"
   ]
  },
  {
   "cell_type": "markdown",
   "metadata": {},
   "source": [
    "<a href=\"#ex6\">Back to Exercise 6</a>"
   ]
  }
 ],
 "metadata": {
  "anaconda-cloud": {},
  "kernelspec": {
   "display_name": "Python 3",
   "language": "python",
   "name": "python3"
  },
  "language_info": {
   "codemirror_mode": {
    "name": "ipython",
    "version": 3
   },
   "file_extension": ".py",
   "mimetype": "text/x-python",
   "name": "python",
   "nbconvert_exporter": "python",
   "pygments_lexer": "ipython3",
   "version": "3.6.6"
  }
 },
 "nbformat": 4,
 "nbformat_minor": 1
}
