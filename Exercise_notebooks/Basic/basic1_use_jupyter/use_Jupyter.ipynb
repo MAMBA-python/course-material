{
 "cells": [
  {
   "cell_type": "markdown",
   "metadata": {},
   "source": [
    "<figure>\n",
    "   <IMG SRC=\"https://mamba-python.nl/images/logo_basis.png\" WIDTH=125 ALIGN=\"right\">\n",
    "\n",
    "</figure>\n",
    "    \n",
    "    \n",
    "# Use Jupyter\n",
    "\n",
    "In this notebook you will learn how to use the JupyterLab interface to run Python code in notebooks. This notebook covers the following topics:\n",
    "\n",
    "- run code\n",
    "- the kernel\n",
    "- output window\n",
    "- modes (edit and command)\n",
    "- keyboard shortcuts\n",
    "- cell type\n",
    "\n",
    "The notebook can be used as a quick introduction when you start working with the JupyterLa interface and as a reference to look up how to do specific tasks in Jupyter.\n",
    "\n",
    "<br>\n",
    "<div style=\"text-align: right\"> developed by MAMBA </div>\n"
   ]
  },
  {
   "cell_type": "markdown",
   "metadata": {},
   "source": [
    "## 1 Run Code"
   ]
  },
  {
   "cell_type": "markdown",
   "metadata": {},
   "source": [
    "Run a code cell using `Shift-Enter`, by pressing the play button ![kernel](images/play_arrow.png) in the toolbar above or by selecting \"Run\" -> \"Run Selected Cells\" from the menu bar."
   ]
  },
  {
   "cell_type": "code",
   "execution_count": null,
   "metadata": {},
   "outputs": [],
   "source": [
    "a = 10"
   ]
  },
  {
   "cell_type": "code",
   "execution_count": null,
   "metadata": {},
   "outputs": [],
   "source": [
    "print(a)"
   ]
  },
  {
   "cell_type": "markdown",
   "metadata": {
    "slideshow": {
     "slide_type": "-"
    }
   },
   "source": [
    "### Run menu"
   ]
  },
  {
   "cell_type": "markdown",
   "metadata": {},
   "source": [
    "The \"Run\" menu has a number of items for running code cells in different ways. These includes:\n",
    "\n",
    "* Run Selected Cells\n",
    "* Run Selected Cells and Insert Below\n",
    "* Run All Above Selected Cell\n",
    "* Run Selected Cell and All Below\n",
    "* Run All cells"
   ]
  },
  {
   "cell_type": "markdown",
   "metadata": {},
   "source": [
    "## 2 Manage the Kernel"
   ]
  },
  {
   "cell_type": "markdown",
   "metadata": {},
   "source": [
    "Code is run in a separate process called the Kernel. In this case we use a Python kernel to run the code. You can see the kernel that you use on the top right of the screen. It should look similar to this: ![kernel](images/kernel.jpg)"
   ]
  },
  {
   "cell_type": "markdown",
   "metadata": {},
   "source": [
    "The kernel has different states:\n",
    "- ![kernel](images/idle.png) The kernel is idle, if you run a cell the code will be run immediately.\n",
    "- ![kernel](images/busy.png) The kernel is busy, it is still running code of a previous cell. If you run a cell while the kernel is busy, you have to wait for the previous proces to finish before your cell is run. \n",
    "- ![kernel](images/disconnected.png) The kernel is disconnected, this can happen when you close the black 'jupyter-notebook.exe' screen. You cannot run code with a disconnected kernel."
   ]
  },
  {
   "cell_type": "markdown",
   "metadata": {},
   "source": [
    "The kernel maintains all the variables that are assigned in it's memory. The Kernel can be interrupted or restarted. If you interrupt the kernel the current process is killed but all the previously assigned variables remain in it's memory. If you restart the kernel, all the assigned variables are lost. Meaning you have to rerun cells to assign the variables to their values."
   ]
  },
  {
   "cell_type": "markdown",
   "metadata": {},
   "source": [
    "### Interrupt the kernel"
   ]
  },
  {
   "cell_type": "markdown",
   "metadata": {},
   "source": [
    "Try running the following cell and then interrupt the kernel by clicking the <i class='icon-stop fa fa-stop'></i> button in the toolbar above. You should see a `KeyboardInterrupt:` error in the output area. This error indicates that the output could not be generated succesfully due to an interruption of the running proces."
   ]
  },
  {
   "cell_type": "code",
   "execution_count": null,
   "metadata": {},
   "outputs": [],
   "source": [
    "import time\n",
    "time.sleep(10)"
   ]
  },
  {
   "cell_type": "markdown",
   "metadata": {},
   "source": [
    "Interrupting the kernel can be useful if you want to stop the calculation. For example when you accidentaly created a time consuming calculation and you don't want to wait 2 hours before it will finish."
   ]
  },
  {
   "cell_type": "markdown",
   "metadata": {},
   "source": [
    "### Restart the kernel"
   ]
  },
  {
   "cell_type": "markdown",
   "metadata": {},
   "source": [
    "If the Kernel dies you cannot run Python code and need to restart it. This is done by clicking on the <i class='fa fa-repeat icon-repeat'></i> in the toolbar above. Remember that if you restart the kernel, all the assigned variables are lost. Meaning you have to rerun cells to assign the variables to their values.  "
   ]
  },
  {
   "cell_type": "markdown",
   "metadata": {},
   "source": [
    "## 3 Output"
   ]
  },
  {
   "cell_type": "markdown",
   "metadata": {},
   "source": [
    "All output is displayed in the output area as it is generated by the Kernel. The Kernel runs cells one by one and can not run different cells simultaneously."
   ]
  },
  {
   "cell_type": "code",
   "execution_count": null,
   "metadata": {},
   "outputs": [],
   "source": [
    "import time\n",
    "for i in range(8):\n",
    "    print(i)\n",
    "    time.sleep(0.5)"
   ]
  },
  {
   "cell_type": "markdown",
   "metadata": {},
   "source": [
    "### Large outputs"
   ]
  },
  {
   "cell_type": "markdown",
   "metadata": {},
   "source": [
    "When you are working on big data sets output can become annoyingly large. To better handle large outputs, the output area can be collapsed. Run the following cell and then click on the Blue bar the appears if you hoover left of the output area."
   ]
  },
  {
   "cell_type": "code",
   "execution_count": null,
   "metadata": {
    "tags": []
   },
   "outputs": [],
   "source": [
    "for i in range(50):\n",
    "    print(i)"
   ]
  },
  {
   "cell_type": "markdown",
   "metadata": {},
   "source": [
    "## 4 Modes"
   ]
  },
  {
   "cell_type": "markdown",
   "metadata": {},
   "source": [
    "There are two different modes in JupyterLab: edit mode and command mode. In the edit mode you can type code in the cells. In the command mode you can make general adjustments to the notebook, e.g. copy a cell. Keyboard commands do different things depending on which mode the Notebook is in."
   ]
  },
  {
   "cell_type": "markdown",
   "metadata": {},
   "source": [
    "### Edit mode\n",
    "\n"
   ]
  },
  {
   "cell_type": "markdown",
   "metadata": {},
   "source": [
    "When a cell is in edit mode, you can type into the cell, like in a normal text editor. You can enter edit mode by pressing `Enter` or using the mouse to double click on a cell's editor area."
   ]
  },
  {
   "cell_type": "markdown",
   "metadata": {},
   "source": [
    "### Command mode"
   ]
  },
  {
   "cell_type": "markdown",
   "metadata": {},
   "source": [
    "When you are in command mode, you are able to edit the notebook as a whole, but not type into individual cells. Most importantly, in command mode, the keyboard is mapped to a set of shortcuts that let you perform notebook and cell actions efficiently. For example, if you are in command mode and you press `a`, a cell is added above the selected cell. Enter command mode by pressing `Esc` or using the mouse to click *outside* a cell's editor area."
   ]
  },
  {
   "cell_type": "markdown",
   "metadata": {
    "tags": []
   },
   "source": [
    "#### Exercise 1<a name=\"ex1\"></a>\n",
    "\n",
    "Try typing `b` while in command mode. Can you understand what happened?"
   ]
  },
  {
   "cell_type": "markdown",
   "metadata": {},
   "source": [
    "<a href=\"#ans1\">Answers to Exercise 1</a>"
   ]
  },
  {
   "cell_type": "markdown",
   "metadata": {},
   "source": [
    " \n",
    "__Remember: If you try to type into a cell while in command mode; unexpected things can happen!__"
   ]
  },
  {
   "cell_type": "markdown",
   "metadata": {},
   "source": [
    "## 5 Keyboard shortcuts\n",
    "\n",
    "All navigation and actions in the Notebook are available using the mouse through the menubar and toolbar, which are both above the main Notebook area. However most of these commands also have a keyboard shortcut. type 'h' in command mode to see all keyboard shortcuts."
   ]
  },
  {
   "cell_type": "markdown",
   "metadata": {},
   "source": [
    "Most used keyboard shortcuts are\n",
    "- `Shift-Enter` to run a cell\n",
    "- `a` to create a new cell aboven the given cell\n",
    "- `b` to create a new cell below the given cell\n",
    "- `Enter` to enter edit mode for the given cell\n",
    "- `Esc` to enter command mode\n",
    "- `Shift-tab` inside the `()` to get function help\n",
    "- `tab` can be used for code completion\n",
    "\n",
    "The last two are explained below"
   ]
  },
  {
   "cell_type": "markdown",
   "metadata": {
    "tags": []
   },
   "source": [
    "### unction help\n",
    "if you click with your cursor between the bracket's `()` below and press `Shift-tab` a window pops-up with the function help. It should look like the function below.\n",
    "\n",
    "<img style=\"float: left;\" src=\"images/function_help.JPG\"></img>"
   ]
  },
  {
   "cell_type": "markdown",
   "metadata": {},
   "source": [
    "You can try here yourself:"
   ]
  },
  {
   "cell_type": "code",
   "execution_count": null,
   "metadata": {},
   "outputs": [],
   "source": [
    "range()"
   ]
  },
  {
   "cell_type": "markdown",
   "metadata": {
    "jp-MarkdownHeadingCollapsed": true,
    "tags": []
   },
   "source": [
    "### code completion\n",
    "\n",
    "Using code completion has 2 major advantages:\n",
    "- you don't have to type the whole variable name, saving you time\n",
    "- you don't have to remember the whole variable name.\n",
    "\n",
    "if you type a part of a variable name and then `tab` two things can happen:\n",
    "\n",
    "\n",
    "- there are multiple variables that start with the same characters, a pop-up window appears with the options. You can use the arrow-keys to find the desired variable, or continue typing.\n",
    "- there is only one option, there is only one variable corresponding to the code you typed. Your code will be completed with the full variable name\n",
    "\n",
    "try typing `ra` in the cell below and press `tab`. You will see a pop up window with, among others, the variables `range` and `raise`. Now type `ran` and press `tab`. If everything is correct your code will be automatically completed and the `range` variable will be called."
   ]
  },
  {
   "cell_type": "code",
   "execution_count": null,
   "metadata": {},
   "outputs": [],
   "source": [
    "ra"
   ]
  },
  {
   "cell_type": "code",
   "execution_count": null,
   "metadata": {},
   "outputs": [],
   "source": [
    "ran"
   ]
  },
  {
   "cell_type": "markdown",
   "metadata": {},
   "source": [
    "## 6 Cell types\n",
    "\n",
    "There are three cell types *\n",
    "1. Code \n",
    "2. MarkDown\n",
    "3. Raw NBConvert\n",
    "\n",
    "You can change the cell type in the toolbar <select id=\"cell_type\" class=\"form-control select-xs\" style=\"width: auto; display: inline\"></select>.\n",
    "\n",
    "### Code\n",
    "A code cell contains Python code and can be run (`Shift-Enter`) with the kernel\n",
    "\n",
    "### MarkDown\n",
    "A MarkDown cell contains text with code for the formatting of this text. These cells can be run (`Shift-Enter`) to display the formatted text.\n",
    "\n",
    "### Raw\n",
    "This is the raw display of text. When you run (`Shift-Enter`) a Raw cell it still looks the same (so there is no need to run it). "
   ]
  },
  {
   "cell_type": "markdown",
   "metadata": {},
   "source": [
    "## 7. Answers"
   ]
  },
  {
   "cell_type": "markdown",
   "metadata": {},
   "source": [
    "#### Answer Exercise 1 <a name=\"ans1\"></a>\n",
    "\n",
    "If you were in command mode and typed 'b' a cell below the current cell must have appeared. `b` is a keyboard shortcut to create a new cell below the current one. This will only happen when you are in command mode. \n",
    "\n",
    "In this case the impact of typing in command mode is relatively small, you can simply remove the new cell you created. Some other keyboard shortcuts in command mode have a bigger impact, e.g. `x` will cut the cell and `dd` will delete the cell. There is also `z` to undo previous commands. However it is good to be aware of these modes and remember to be in edit mode when you try to edit a cell."
   ]
  },
  {
   "cell_type": "markdown",
   "metadata": {},
   "source": [
    "<a href=\"#ex1\">Back to Exercise 1</a>"
   ]
  },
  {
   "cell_type": "markdown",
   "metadata": {},
   "source": [
    "## 8. Acknowledgement\n",
    "\n",
    "The following sources were used to create this notebook:\n",
    "- https://nbviewer.jupyter.org/github/jupyter/notebook/blob/master/docs/source/examples/Notebook/Running%20Code.ipynb\n"
   ]
  },
  {
   "cell_type": "code",
   "execution_count": null,
   "metadata": {},
   "outputs": [],
   "source": []
  }
 ],
 "metadata": {
  "kernelspec": {
   "display_name": "Python 3 (ipykernel)",
   "language": "python",
   "name": "python3"
  },
  "language_info": {
   "codemirror_mode": {
    "name": "ipython",
    "version": 3
   },
   "file_extension": ".py",
   "mimetype": "text/x-python",
   "name": "python",
   "nbconvert_exporter": "python",
   "pygments_lexer": "ipython3",
   "version": "3.8.8"
  }
 },
 "nbformat": 4,
 "nbformat_minor": 4
}
