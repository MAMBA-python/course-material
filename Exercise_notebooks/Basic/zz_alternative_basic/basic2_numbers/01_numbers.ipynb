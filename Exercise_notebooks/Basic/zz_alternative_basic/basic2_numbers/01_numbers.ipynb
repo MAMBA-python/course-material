{
 "cells": [
  {
   "cell_type": "markdown",
   "metadata": {},
   "source": [
    "# [Numbers](https://docs.python.org/3/library/stdtypes.html#numeric-types-int-float-complex)"
   ]
  },
  {
   "cell_type": "markdown",
   "metadata": {},
   "source": [
    "## `int`"
   ]
  },
  {
   "cell_type": "code",
   "execution_count": null,
   "metadata": {
    "execution": {
     "iopub.execute_input": "2020-10-22T13:30:41.523906Z",
     "iopub.status.busy": "2020-10-22T13:30:41.523906Z",
     "iopub.status.idle": "2020-10-22T13:30:41.539530Z",
     "shell.execute_reply": "2020-10-22T13:30:41.539530Z"
    },
    "scrolled": true
   },
   "outputs": [],
   "source": [
    "my_int = 6\n",
    "print('value: {}, type: {}'.format(my_int, type(my_int)))"
   ]
  },
  {
   "cell_type": "markdown",
   "metadata": {},
   "source": [
    "## `float`"
   ]
  },
  {
   "cell_type": "code",
   "execution_count": null,
   "metadata": {
    "execution": {
     "iopub.execute_input": "2020-10-22T13:30:41.539530Z",
     "iopub.status.busy": "2020-10-22T13:30:41.539530Z",
     "iopub.status.idle": "2020-10-22T13:30:41.555155Z",
     "shell.execute_reply": "2020-10-22T13:30:41.555155Z"
    },
    "scrolled": true
   },
   "outputs": [],
   "source": [
    "my_float = float(my_int)\n",
    "print('value: {}, type: {}'.format(my_float, type(my_float)))"
   ]
  },
  {
   "cell_type": "markdown",
   "metadata": {},
   "source": [
    "Note that division of `int`s produces `float`:"
   ]
  },
  {
   "cell_type": "code",
   "execution_count": null,
   "metadata": {
    "execution": {
     "iopub.execute_input": "2020-10-22T13:30:41.555155Z",
     "iopub.status.busy": "2020-10-22T13:30:41.555155Z",
     "iopub.status.idle": "2020-10-22T13:30:41.570778Z",
     "shell.execute_reply": "2020-10-22T13:30:41.570778Z"
    }
   },
   "outputs": [],
   "source": [
    "print(1 / 1)\n",
    "print(6 / 5)"
   ]
  },
  {
   "cell_type": "markdown",
   "metadata": {},
   "source": [
    "Be aware of the binary floating-point pitfalls (see [Decimal](#decimal) for workaround):"
   ]
  },
  {
   "cell_type": "code",
   "execution_count": null,
   "metadata": {
    "execution": {
     "iopub.execute_input": "2020-10-22T13:30:41.570778Z",
     "iopub.status.busy": "2020-10-22T13:30:41.570778Z",
     "iopub.status.idle": "2020-10-22T13:30:41.586403Z",
     "shell.execute_reply": "2020-10-22T13:30:41.586403Z"
    },
    "scrolled": true
   },
   "outputs": [],
   "source": [
    "val = 0.1 + 0.1 + 0.1\n",
    "print(val == 0.3)\n",
    "print(val)"
   ]
  },
  {
   "cell_type": "markdown",
   "metadata": {},
   "source": [
    "## Floor division `//`, modulus `%`, power `**`"
   ]
  },
  {
   "cell_type": "code",
   "execution_count": null,
   "metadata": {
    "execution": {
     "iopub.execute_input": "2020-10-22T13:30:41.592409Z",
     "iopub.status.busy": "2020-10-22T13:30:41.592409Z",
     "iopub.status.idle": "2020-10-22T13:30:41.608094Z",
     "shell.execute_reply": "2020-10-22T13:30:41.608094Z"
    }
   },
   "outputs": [],
   "source": [
    "7 // 5"
   ]
  },
  {
   "cell_type": "code",
   "execution_count": null,
   "metadata": {
    "execution": {
     "iopub.execute_input": "2020-10-22T13:30:41.608094Z",
     "iopub.status.busy": "2020-10-22T13:30:41.608094Z",
     "iopub.status.idle": "2020-10-22T13:30:41.623716Z",
     "shell.execute_reply": "2020-10-22T13:30:41.623716Z"
    }
   },
   "outputs": [],
   "source": [
    "7 % 5"
   ]
  },
  {
   "cell_type": "code",
   "execution_count": null,
   "metadata": {
    "execution": {
     "iopub.execute_input": "2020-10-22T13:30:41.623716Z",
     "iopub.status.busy": "2020-10-22T13:30:41.623716Z",
     "iopub.status.idle": "2020-10-22T13:30:41.639339Z",
     "shell.execute_reply": "2020-10-22T13:30:41.639339Z"
    }
   },
   "outputs": [],
   "source": [
    "2 ** 3"
   ]
  },
  {
   "cell_type": "markdown",
   "metadata": {},
   "source": [
    "<a id='decimal'></a>\n",
    "## [`decimal.Decimal`](https://docs.python.org/3/library/decimal.html)"
   ]
  },
  {
   "cell_type": "code",
   "execution_count": null,
   "metadata": {
    "execution": {
     "iopub.execute_input": "2020-10-22T13:30:41.639339Z",
     "iopub.status.busy": "2020-10-22T13:30:41.639339Z",
     "iopub.status.idle": "2020-10-22T13:30:41.657331Z",
     "shell.execute_reply": "2020-10-22T13:30:41.658349Z"
    },
    "scrolled": true
   },
   "outputs": [],
   "source": [
    "from decimal import Decimal"
   ]
  },
  {
   "cell_type": "code",
   "execution_count": null,
   "metadata": {
    "execution": {
     "iopub.execute_input": "2020-10-22T13:30:41.659922Z",
     "iopub.status.busy": "2020-10-22T13:30:41.659922Z",
     "iopub.status.idle": "2020-10-22T13:30:41.679256Z",
     "shell.execute_reply": "2020-10-22T13:30:41.678257Z"
    },
    "scrolled": true
   },
   "outputs": [],
   "source": [
    "from_float = Decimal(0.1)\n",
    "from_str = Decimal('0.1')\n",
    "print('from float: {}\\nfrom string: {}'.format(from_float, from_str))"
   ]
  },
  {
   "cell_type": "code",
   "execution_count": null,
   "metadata": {
    "execution": {
     "iopub.execute_input": "2020-10-22T13:30:41.684377Z",
     "iopub.status.busy": "2020-10-22T13:30:41.683366Z",
     "iopub.status.idle": "2020-10-22T13:30:41.686358Z",
     "shell.execute_reply": "2020-10-22T13:30:41.686358Z"
    },
    "scrolled": true
   },
   "outputs": [],
   "source": [
    "my_decimal = Decimal('0.1')\n",
    "sum_of_decimals = my_decimal + my_decimal + my_decimal\n",
    "print(sum_of_decimals == Decimal('0.3'))"
   ]
  },
  {
   "cell_type": "markdown",
   "metadata": {},
   "source": [
    "## Operator precedence in calculations\n",
    "Mathematical operator precedence applies. Use brackets if you want to change the execution order:"
   ]
  },
  {
   "cell_type": "code",
   "execution_count": null,
   "metadata": {
    "execution": {
     "iopub.execute_input": "2020-10-22T13:30:41.692354Z",
     "iopub.status.busy": "2020-10-22T13:30:41.691353Z",
     "iopub.status.idle": "2020-10-22T13:30:41.694352Z",
     "shell.execute_reply": "2020-10-22T13:30:41.694352Z"
    }
   },
   "outputs": [],
   "source": [
    "print(1 + 2**2 * 3 / 6) # 1 + 4 * 3 / 6 == 1 + 12 / 6 == 1 + 2\n",
    "print((1 + 2**2) * 3 / 6)"
   ]
  }
 ],
 "metadata": {
  "kernelspec": {
   "display_name": "Python 3",
   "language": "python",
   "name": "python3"
  },
  "language_info": {
   "codemirror_mode": {
    "name": "ipython",
    "version": 3
   },
   "file_extension": ".py",
   "mimetype": "text/x-python",
   "name": "python",
   "nbconvert_exporter": "python",
   "pygments_lexer": "ipython3",
   "version": "3.8.6"
  }
 },
 "nbformat": 4,
 "nbformat_minor": 2
}
